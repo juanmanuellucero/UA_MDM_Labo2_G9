{
 "cells": [
  {
   "cell_type": "markdown",
   "id": "1d32b105",
   "metadata": {},
   "source": [
    "# Pet Finder - Adopción de Mascotas\n",
    "\n",
    "PetFinder.es una plataforma de adopción de Mascotas de Malasia, con una base de datos de más de 150.000 animales. \n",
    "\n",
    "Las tasas de adopción de animales están fuertemente correlacionadas con los metadatos asociados con sus perfiles en línea, como el texto descriptivo y las características de las fotografías. Como ejemplo, PetFinder está experimentando actualmente con una herramienta de inteligencia artificial simple llamada Cuteness Meter, que clasifica qué tan linda es una mascota en función de las cualidades presentes en sus fotos.\n",
    "\n",
    "En esta competencia, desarrollará algoritmos para predecir la adoptabilidad de las mascotas, específicamente, ¿qué tan rápido se adopta una mascota?\n",
    "\n",
    "Web Organización: https://www.petfinder.my/\n",
    "\n",
    "Datos: https://www.kaggle.com/c/petfinder-adoption-prediction"
   ]
  },
  {
   "cell_type": "markdown",
   "id": "26f3db9c",
   "metadata": {},
   "source": [
    "## Script Inicial - Análisis Exploratorio\n",
    "\n",
    "En este trabajo se busca predecir la velocidad a la que se adopta una mascota, según la lista de la mascota en PetFinder. \n",
    "\n",
    "A veces, un perfil representa a un grupo de mascotas. En este caso, la velocidad de adopción está determinada por la velocidad a la que se adoptan todas las mascotas. \n",
    "\n",
    "Los datos incluyen datos de **Texto Libre**, **Datos Tabulares** e **Emágenes**, lo que lo hace un dataset sumamente rico para explorar"
   ]
  },
  {
   "cell_type": "markdown",
   "id": "e0f4ecb1",
   "metadata": {},
   "source": [
    "## Librerias y Funciones Definidas"
   ]
  },
  {
   "cell_type": "code",
   "execution_count": null,
   "id": "c4dc4fa6",
   "metadata": {},
   "outputs": [],
   "source": [
    "import os\n",
    "os.chdir(\n",
    "    os.path.join(\n",
    "        os.getcwd(), '../../../work/')\n",
    "    )\n",
    "print(\"Directorio actual:\", os.getcwd())\n",
    "\n",
    "# Carga de Librerias\n",
    "# Generales\n",
    "import numpy as np\n",
    "import pandas as pd\n",
    "import matplotlib.pyplot as plt\n",
    "import seaborn as sns\n",
    "\n",
    "# Procesamiento de palabras\n",
    "from wordcloud import WordCloud, STOPWORDS\n",
    "\n",
    "# Scipy\n",
    "import scipy.stats as stats\n",
    "from scipy.stats import shapiro, normaltest, anderson\n",
    "from scipy.stats import pearsonr\n",
    "from scipy.stats import spearmanr\n",
    "from scipy.stats import chi2_contingency\n",
    "from scipy.stats import kruskal\n",
    "\n",
    "# Statsmodels\n",
    "import statsmodels.api as sm\n",
    "from statsmodels.stats.diagnostic import het_breuschpagan\n",
    "from statsmodels.stats.stattools import durbin_watson\n",
    "import statsmodels.formula.api as smf\n",
    "\n",
    "# Pingouin\n",
    "import pingouin as pg"
   ]
  },
  {
   "cell_type": "code",
   "execution_count": null,
   "id": "fb6cea1b",
   "metadata": {},
   "outputs": [],
   "source": [
    "# Paths para acceso archivos\n",
    "#Este notebook asume la siguiente estructura de carpetas a partir de la ubicacion de base_dir \n",
    "#(dos niveles arriba de la cƒarpeta donde se ejecuta el notebook). \n",
    "# /ƒ/ƒ\n",
    "# /UA_MDM_Labo2/inputƒ\n",
    "# /UA_MDM_Labo2/input/petfinder-adoption-prediction/            <- Aca deben ir todos los archivos de datos de la competencia \n",
    "# /UA_MDM_Labo2/tutoriales/                       <- Aca deben poner los notebooks y scripts que les compartimos\n",
    "# /UA_MDM_Labo2/work/                             <- Resultados de notebooks iran dentro de esta carpeta en subcarpetas\n",
    "# /UA_MDM_Labo2/work/models/                     <- Modelos entrenados en archivos joblibs\n",
    "# /UA_MDM_Labo2/work/optuna_temp_artifacts/      <- Archivos que queremos dejar como artefacto de un trial de optuna (optuna los copiara a la carpeta de abajo)\n",
    "# /UA_MDM_Labo2/work/optuna_artifacts/           <- Archivos con artefactos que sibimos a optuna\n",
    "\n",
    "#Subimos dos niveles para quedar en la carpeta que contiene input y UA_MDM_Labo2\n",
    "BASE_DIR = '../'\n",
    "\n",
    "#Datos de entrenamiento \n",
    "PATH_TO_TRAIN = os.path.join(BASE_DIR, \"input/petfinder-adoption-prediction/train/\")\n",
    "\n",
    "#Salida de modelos entrenados\n",
    "PATH_TO_MODELS = os.path.join(BASE_DIR, \"work/models\")\n",
    "\n",
    "#Artefactos a subir a optuna\n",
    "PATH_TO_TEMP_FILES = os.path.join(BASE_DIR, \"work/optuna_temp_artifacts\")\n",
    "\n",
    "#Artefactos que optuna gestiona\n",
    "PATH_TO_OPTUNA_ARTIFACTS = os.path.join(BASE_DIR, \"work/optuna_artifacts\")\n",
    "\n",
    "\n",
    "SEED = 42 #Semilla de procesos aleatorios (para poder replicar exactamente al volver a correr un modelo)\n",
    "TEST_SIZE = 0.2 #Facción para train/test= split"
   ]
  },
  {
   "cell_type": "code",
   "execution_count": null,
   "id": "1bdced35",
   "metadata": {},
   "outputs": [],
   "source": [
    "# Cargar los datos\n",
    "df = pd.read_csv(os.path.join(PATH_TO_TRAIN, \"train.csv\"))\n",
    "df_breed_labels = pd.read_csv(os.path.join(PATH_TO_TRAIN, '../breed_labels.csv'))\n",
    "df_color_labels = pd.read_csv(os.path.join(PATH_TO_TRAIN, '../color_labels.csv'))\n",
    "df_state_labels = pd.read_csv(os.path.join(PATH_TO_TRAIN, '../state_labels.csv'))\n",
    "\n",
    "df.head()"
   ]
  },
  {
   "cell_type": "markdown",
   "id": "0b5f6163",
   "metadata": {},
   "source": [
    "## Funciones predefinidas"
   ]
  },
  {
   "cell_type": "code",
   "execution_count": null,
   "id": "30bf02a5",
   "metadata": {},
   "outputs": [],
   "source": [
    "# Función para mostrar todos los gráficos de distribución para una variable\n",
    "def graficos_distribucion(df, variable):\n",
    "    plt.figure(figsize=(15, 4))\n",
    "\n",
    "    # Histograma + KDE\n",
    "    plt.subplot(1, 3, 1)\n",
    "    sns.histplot(df[variable], kde=True)\n",
    "    plt.title(f\"Histograma de {variable}\")\n",
    "    plt.xlabel(variable)\n",
    "    plt.ylabel(\"Frecuencia\")\n",
    "\n",
    "    # Boxplot\n",
    "    plt.subplot(1, 3, 2)\n",
    "    sns.boxplot(y=df[variable])\n",
    "    plt.title(f\"Boxplot de {variable}\")\n",
    "    plt.xlabel(variable)\n",
    "\n",
    "    # QQ Plot\n",
    "    plt.subplot(1, 3, 3)\n",
    "    stats.probplot(df[variable], dist=\"norm\", plot=plt)\n",
    "    plt.title(f\"QQ Plot de {variable}\")\n",
    "\n",
    "    plt.tight_layout()\n",
    "    plt.show()"
   ]
  },
  {
   "cell_type": "code",
   "execution_count": null,
   "id": "ba501b23",
   "metadata": {},
   "outputs": [],
   "source": [
    "# Función para aplicar distintos tests de normalidad y graficar\n",
    "def analizar_normalidad(df, variable):\n",
    "    print(f\"\\n--- Normalidad para {variable} ---\")\n",
    "\n",
    "    # Shapiro-Wilk Test\n",
    "    stat, p = shapiro(df[variable])\n",
    "    print(f\"Shapiro-Wilk: W={stat:.4f}, p={p:.4f} {'-> No normal' if p < 0.05 else '-> Normal'}\")\n",
    "    \n",
    "    # D'Agostino and Pearson's test\n",
    "    stat, p = normaltest(df[variable])\n",
    "    print(f\"D’Agostino-Pearson: stat={stat:.4f}, p={p:.4f} {'-> No normal' if p < 0.05 else '-> Normal'}\")\n",
    "\n",
    "    # Anderson-Darling Test\n",
    "    result = anderson(df[variable])\n",
    "    print(f\"Anderson-Darling: A={result.statistic:.4f}\")\n",
    "    for i in range(len(result.critical_values)):\n",
    "        sig = result.significance_level[i]\n",
    "        crit = result.critical_values[i]\n",
    "        print(f\"  Nivel {sig}%: crítico={crit:.4f} {'-> No normal' if result.statistic > crit else '-> Normal'}\")\n"
   ]
  },
  {
   "cell_type": "markdown",
   "id": "0b2c9015",
   "metadata": {},
   "source": [
    "## ETAPA 1: INFORMACIÓN GENERAL"
   ]
  },
  {
   "cell_type": "markdown",
   "id": "c8e93996",
   "metadata": {
    "papermill": {
     "duration": 0.015226,
     "end_time": "2021-10-04T20:03:01.661147",
     "exception": false,
     "start_time": "2021-10-04T20:03:01.645921",
     "status": "completed"
    },
    "tags": []
   },
   "source": [
    "### Data Fields\n",
    "\n",
    "* PetID - Unique hash ID of pet profile\n",
    "* AdoptionSpeed - Categorical speed of adoption. Lower is faster. This is the value to predict. See below section for more info.\n",
    "* Type - Type of animal (1 = Dog, 2 = Cat)\n",
    "* Name - Name of pet (Empty if not named)\n",
    "* Age - Age of pet when listed, in months\n",
    "* Breed1 - Primary breed of pet (Refer to BreedLabels dictionary)\n",
    "* Breed2 - Secondary breed of pet, if pet is of mixed breed (Refer to BreedLabels dictionary)\n",
    "* Gender - Gender of pet (1 = Male, 2 = Female, 3 = Mixed, if profile represents group of pets)\n",
    "* Color1 - Color 1 of pet (Refer to ColorLabels dictionary)\n",
    "* Color2 - Color 2 of pet (Refer to ColorLabels dictionary)\n",
    "* Color3 - Color 3 of pet (Refer to ColorLabels dictionary)\n",
    "* MaturitySize - Size at maturity (1 = Small, 2 = Medium, 3 = Large, 4 = Extra Large, 0 = Not Specified)\n",
    "* FurLength - Fur length (1 = Short, 2 = Medium, 3 = Long, 0 = Not Specified)\n",
    "* Vaccinated - Pet has been vaccinated (1 = Yes, 2 = No, 3 = Not Sure)\n",
    "* Dewormed - Pet has been dewormed (1 = Yes, 2 = No, 3 = Not Sure)\n",
    "* Sterilized - Pet has been spayed / neutered (1 = Yes, 2 = No, 3 = Not Sure)\n",
    "* Health - Health Condition (1 = Healthy, 2 = Minor Injury, 3 = Serious Injury, 0 = Not Specified)\n",
    "* Quantity - Number of pets represented in profile\n",
    "* Fee - Adoption fee (0 = Free)\n",
    "* State - State location in Malaysia (Refer to StateLabels dictionary)\n",
    "* RescuerID - Unique hash ID of rescuer\n",
    "* VideoAmt - Total uploaded videos for this pet\n",
    "* PhotoAmt - Total uploaded photos for this pet\n",
    "* Description - Profile write-up for this pet. The primary language used is English, with some in Malay or Chinese."
   ]
  },
  {
   "cell_type": "code",
   "execution_count": null,
   "id": "16b3b485",
   "metadata": {},
   "outputs": [],
   "source": [
    "print(\"Información general del dataset:\")\n",
    "print(df.info())"
   ]
  },
  {
   "cell_type": "code",
   "execution_count": null,
   "id": "23b3c76a",
   "metadata": {},
   "outputs": [],
   "source": [
    "# Valores nulos por columna\n",
    "print(\"Valores nulos por columna:\")\n",
    "print(df.isnull().sum())\n",
    "\n",
    "# Registros duplicados\n",
    "print(\"Número de registros duplicados:\", df.duplicated().sum())\n",
    "\n",
    "# Ejemplo de filas de Name null\n",
    "print(df[df['Name'].isnull()].head())\n",
    "\n",
    "# Miro si hay una fila entera de nulls\n",
    "#df[df.isnull().all(axis=1)]\n"
   ]
  },
  {
   "cell_type": "markdown",
   "id": "5ba1f1a8",
   "metadata": {},
   "source": [
    "## ETAPA 2: Análisis Univariado"
   ]
  },
  {
   "cell_type": "markdown",
   "id": "1a9b8760",
   "metadata": {
    "papermill": {
     "duration": 0.016243,
     "end_time": "2021-10-04T20:03:01.963443",
     "exception": false,
     "start_time": "2021-10-04T20:03:01.947200",
     "status": "completed"
    },
    "tags": []
   },
   "source": [
    "### Target: AdoptionSpeed\n",
    "\n",
    "The value is determined by how quickly, if at all, a pet is adopted. The values are determined in the following way:\n",
    "\n",
    "* 0 - Pet was adopted on the same day as it was listed.\n",
    "* 1 - Pet was adopted between 1 and 7 days (1st week) after being listed.\n",
    "* 2 - Pet was adopted between 8 and 30 days (1st month) after being listed.\n",
    "* 3 - Pet was adopted between 31 and 90 days (2nd & 3rd month) after being listed.\n",
    "* 4 - No adoption after 100 days of being listed. (There are no pets in this dataset that waited between 90 and 100 days)."
   ]
  },
  {
   "cell_type": "code",
   "execution_count": null,
   "id": "1ee7afbb",
   "metadata": {},
   "outputs": [],
   "source": [
    "# Valores nulos\n",
    "df.AdoptionSpeed.isna().sum()"
   ]
  },
  {
   "cell_type": "code",
   "execution_count": null,
   "id": "2a8043f6",
   "metadata": {},
   "outputs": [],
   "source": [
    "# Valores únicos\n",
    "df.AdoptionSpeed.value_counts().sort_index()"
   ]
  },
  {
   "cell_type": "code",
   "execution_count": null,
   "id": "b1d60f9e",
   "metadata": {},
   "outputs": [],
   "source": [
    "# Proporción de Valores únicos\n",
    "df.AdoptionSpeed.value_counts(normalize=True).round(2).sort_index()"
   ]
  },
  {
   "cell_type": "code",
   "execution_count": null,
   "id": "c76aff3a",
   "metadata": {},
   "outputs": [],
   "source": [
    "# Datos\n",
    "adoption_counts = df['AdoptionSpeed'].value_counts(normalize=True).sort_index().round(2)\n",
    "colors = sns.color_palette('pastel')[0:5]\n",
    "\n",
    "# Crear figura y gráfico\n",
    "fig, ax = plt.subplots(figsize=(8, 8))\n",
    "ax.pie(adoption_counts, labels=adoption_counts.index,\n",
    "       autopct='%1.1f%%', colors=colors, startangle=90)\n",
    "ax.axis('equal')  # Círculo perfecto\n",
    "\n",
    "# Título abajo\n",
    "fig.text(0.5, 0.05, 'Distribución porcentual de AdoptionSpeed', ha='center', fontsize=14)\n",
    "plt.show()"
   ]
  },
  {
   "cell_type": "markdown",
   "id": "f134aeea",
   "metadata": {},
   "source": [
    "#### Consideraciones\n",
    "- Sólo un 3% tiene una dopción rápida\n",
    "- Aproximadamente un 60% de loc casos son adoptados dentro del mes de ingresados a la lista de adopción\n",
    "- Hay casi un 28% de casos que no llegaron a ser adoptados luego de haber estado 100 dias en la lista de adopción"
   ]
  },
  {
   "cell_type": "markdown",
   "id": "caa4329e",
   "metadata": {},
   "source": [
    "### `Type`"
   ]
  },
  {
   "cell_type": "code",
   "execution_count": null,
   "id": "a6612da9",
   "metadata": {},
   "outputs": [],
   "source": [
    "# Valores nulos\n",
    "df.Type.isna().sum()"
   ]
  },
  {
   "cell_type": "code",
   "execution_count": null,
   "id": "fa6f5e46",
   "metadata": {},
   "outputs": [],
   "source": [
    "# Valores únicos\n",
    "df.Type.value_counts().sort_index()"
   ]
  },
  {
   "cell_type": "code",
   "execution_count": null,
   "id": "35dded9b",
   "metadata": {},
   "outputs": [],
   "source": [
    "# Creamos una columna descriptiva de 'Type'\n",
    "Type_map = {1: 'perro', 2: 'gato'}\n",
    "\n",
    "df['Type_df'] = df['Type'].map(Type_map)"
   ]
  },
  {
   "cell_type": "code",
   "execution_count": null,
   "id": "7ac00330",
   "metadata": {},
   "outputs": [],
   "source": [
    "# Valores únicos con etiquetas\n",
    "df.Type_df.value_counts().sort_values(ascending=False)"
   ]
  },
  {
   "cell_type": "code",
   "execution_count": null,
   "id": "c1c9bf9c",
   "metadata": {},
   "outputs": [],
   "source": [
    "# Proporción de Valores únicos\n",
    "df.Type_df.value_counts(normalize=True).round(2).sort_values(ascending=False)"
   ]
  },
  {
   "cell_type": "code",
   "execution_count": null,
   "id": "cb330f14",
   "metadata": {},
   "outputs": [],
   "source": [
    "type_counts = df['Type_df'].value_counts(normalize=True).sort_index().round(2)\n",
    "colors = sns.color_palette('pastel')[0:2]\n",
    "\n",
    "# Crear figura y gráfico\n",
    "fig, ax = plt.subplots(figsize=(8, 8))\n",
    "ax.pie(type_counts, labels=type_counts.index,\n",
    "       autopct='%1.1f%%', colors=colors, startangle=90)\n",
    "ax.axis('equal')  # Círculo perfecto\n",
    "\n",
    "# Título abajo\n",
    "fig.text(0.5, 0.05, 'Distribución porcentual de Type', ha='center', fontsize=14)\n",
    "plt.show()"
   ]
  },
  {
   "cell_type": "markdown",
   "id": "b246a9db",
   "metadata": {},
   "source": [
    "#### Consideraciones de `Type`\n",
    "- No hay valores nulos\n",
    "- Hay 54% de Perros y 46% de Gatos\n",
    "\n"
   ]
  },
  {
   "cell_type": "markdown",
   "id": "116ac6bc",
   "metadata": {},
   "source": [
    "### Age"
   ]
  },
  {
   "cell_type": "code",
   "execution_count": null,
   "id": "01c720cb",
   "metadata": {},
   "outputs": [],
   "source": [
    "# Valores de tendencia central y dispersión\n",
    "df.Age.describe()"
   ]
  },
  {
   "cell_type": "code",
   "execution_count": null,
   "id": "306bcc75",
   "metadata": {},
   "outputs": [],
   "source": [
    "# Gráficos de distribución\n",
    "graficos_distribucion(df, 'Age')"
   ]
  },
  {
   "cell_type": "code",
   "execution_count": null,
   "id": "c4859057",
   "metadata": {},
   "outputs": [],
   "source": [
    "# Test de normalidad    \n",
    "analizar_normalidad(df, 'Age')"
   ]
  },
  {
   "cell_type": "code",
   "execution_count": null,
   "id": "9d6431bb",
   "metadata": {},
   "outputs": [],
   "source": [
    "# Valores nulos\n",
    "df.Age.isna().sum()   "
   ]
  },
  {
   "cell_type": "code",
   "execution_count": null,
   "id": "d48be0ce",
   "metadata": {},
   "outputs": [],
   "source": [
    "# Valores negativos\n",
    "df['Age'][df['Age']<0].count()"
   ]
  },
  {
   "cell_type": "markdown",
   "id": "6334387b",
   "metadata": {},
   "source": [
    "El campo `Age` muestra una distribución no normal, sin valores nulos o negativos."
   ]
  },
  {
   "cell_type": "markdown",
   "id": "d51457b1",
   "metadata": {},
   "source": [
    "En base a estos boxplot, procedemos a identificar posibles outliers de Age, considerando Age > 20 como un caso de error, que podría significar que son registros viejos que nunca se actualizaron (posible adopción, muerte, etc.)"
   ]
  },
  {
   "cell_type": "code",
   "execution_count": null,
   "id": "87d867d4",
   "metadata": {},
   "outputs": [],
   "source": [
    "df_older_20 = df[df['Age'] > 20]\n",
    "\n",
    "print(\"Cantidad de registros con Age > 20:\", len(df_older_20))\n"
   ]
  },
  {
   "cell_type": "markdown",
   "id": "12d567e4",
   "metadata": {},
   "source": [
    "Procedemos a realizar nuevamente el boxplot de Age sin estos outliers para tener más información"
   ]
  },
  {
   "cell_type": "code",
   "execution_count": null,
   "id": "106d73cf",
   "metadata": {},
   "outputs": [],
   "source": [
    "# Filtrar registros: se eliminan aquellos con Age > 20\n",
    "df_clean = df[df['Age'] <= 20]\n",
    "\n",
    "# Crear el boxplot con los datos sin outliers\n",
    "import matplotlib.pyplot as plt\n",
    "import seaborn as sns\n",
    "%matplotlib inline\n",
    "\n",
    "plt.figure(figsize=(8, 6))\n",
    "sns.boxplot(y='Age', data=df_clean)\n",
    "plt.title(\"Boxplot de Age sin outliers (Age > 20)\")\n",
    "plt.ylabel(\"Age\")\n",
    "plt.show()"
   ]
  },
  {
   "cell_type": "markdown",
   "id": "e2b98d22",
   "metadata": {},
   "source": [
    "Si bien existen muchos outliers en este campo, dependiendo del modelo es probable que no haya necesidad de tratarlos en forma puntual, dado que modelo propuesto es `LGBM` se plantea dejarlo sin modificar."
   ]
  },
  {
   "cell_type": "markdown",
   "id": "257527fe",
   "metadata": {},
   "source": [
    "### Breed1\n",
    "Se agregan dos campos `BreedName1 y BreedName2` que corresponde a las etiquetas de BreedName del archivo `breed_labels.csv`. A lo mejor pueden servir tener las etiquetas.\n"
   ]
  },
  {
   "cell_type": "code",
   "execution_count": null,
   "id": "8c7002c0",
   "metadata": {},
   "outputs": [],
   "source": [
    "# Crear un diccionario de mapeo de BreedID a BreedName\n",
    "breed_dict = df_breed_labels.set_index('BreedID')['BreedName'].to_dict()\n",
    "\n",
    "# Agregar una nueva columna 'BreedName' en df_train mapeando 'Breed1'\n",
    "df['BreedName1'] = df['Breed1'].map(breed_dict)\n",
    "\n",
    "# Mostrar las primeras filas para verificar\n",
    "df.head()"
   ]
  },
  {
   "cell_type": "code",
   "execution_count": null,
   "id": "24c3bf03",
   "metadata": {},
   "outputs": [],
   "source": [
    "# Agregar una nueva columna 'BreedName' en df_train mapeando 'Breed2'\n",
    "df['BreedName2'] = df['Breed2'].map(breed_dict)\n",
    "\n",
    "# Mostrar las primeras filas para verificar\n",
    "df.head()"
   ]
  },
  {
   "cell_type": "markdown",
   "id": "d3cdaf4f",
   "metadata": {},
   "source": [
    "#### Valores Nulos"
   ]
  },
  {
   "cell_type": "code",
   "execution_count": null,
   "id": "02335d17",
   "metadata": {},
   "outputs": [],
   "source": [
    "# Valores nulos en BreedName1 y ver si se corresponden con un nulo de BreedName2\n",
    "df[['BreedName1', 'BreedName2']][df['BreedName1'].isna()]"
   ]
  },
  {
   "cell_type": "code",
   "execution_count": null,
   "id": "e751fb18",
   "metadata": {},
   "outputs": [],
   "source": [
    "# Quiere adoptar ??\n",
    "df.Description.iloc[7706]"
   ]
  },
  {
   "cell_type": "markdown",
   "id": "dff5e139",
   "metadata": {},
   "source": [
    "Breed1 y Breed2 se refieren a la raza.\n",
    "En el dataset PetFinder.my se registra información sobre las razas de las mascotas mediante dos columnas:\n",
    "- Breed1:\n",
    "\t- Representa la raza principal de la mascota. Sin embargo, en algunos registros este campo puede aparecer como NaN. Esto suele ocurrir por dos razones principales:\n",
    "\t\t1.\tDatos faltantes o errores en el registro: Es posible que, al momento de la recolección de datos, no se haya podido identificar o registrar de forma confiable la raza principal de la mascota.\n",
    "\t\t2.\tCasos particulares en la clasificación: En situaciones donde la determinación de una raza principal no es clara (por ejemplo, en animales de mezcla sin una predominancia evidente), puede suceder que se deje sin especificar.\n",
    "\n",
    "- Breed2:\n",
    "\t- Se utiliza para indicar la segunda raza en caso de que la mascota sea de raza mixta. Una convención común en el dataset es que, incluso para animales que son de raza pura, este campo se asigna con un valor por defecto (por ejemplo, 0 o algún otro código) en lugar de quedar como NaN. Esto se hace para mantener la consistencia en la estructura de datos y facilitar el análisis, ya que siempre se dispone de un valor en Breed2.\n",
    "\n",
    "Entender cómo se registran Breed1 y Breed2 y las razones por las que pueden tener comportamientos distintos (falta de datos en el primero y valores por defecto en el segundo) es crucial para un EDA robusto y para derivar conclusiones significativas sobre las características de las mascotas en el dataset. \n",
    "\n",
    "Consideraciones acerca de las razas puras:\n",
    "- Mascotas de raza pura:\n",
    "\t- Lo habitual es que se registre la raza principal en Breed1 y que Breed2 se deje vacío o se asigne un valor predeterminado (por ejemplo, 0 o un código específico) para indicar que no hay una segunda raza. En otras palabras, no se espera que Breed2 “coincida” con Breed1 en un sentido literal, sino que se utiliza un valor nulo o por defecto para señalar que el animal es de una única raza.\n",
    "- Mascotas de mezcla:\n",
    "\t- En estos casos, Breed1 suele representar la raza predominante, mientras que Breed2 contiene la segunda raza identificada.\n",
    "\n",
    "Aunque en algunos datasets se podría haber optado por duplicar la raza en ambos campos para indicar pureza, lo más común y lógico es que en animales de raza pura solo se use Breed1 y Breed2 se mantenga sin valor significativo. Esto ayuda a diferenciar de manera clara entre animales de raza pura y de mezcla durante el análisis exploratorio (EDA)."
   ]
  },
  {
   "cell_type": "code",
   "execution_count": null,
   "id": "eff02352",
   "metadata": {},
   "outputs": [],
   "source": [
    "# De querer tratar los valores nulos de BreedName1 con BreedName2\n",
    "# df['BreedName1'] = df['BreedName1'].fillna(df['BreedName2'])"
   ]
  },
  {
   "cell_type": "markdown",
   "id": "75adb61f",
   "metadata": {},
   "source": [
    "#### Valores por tipo de raza, se destacan los nombres de razas con más de 100 unidades"
   ]
  },
  {
   "cell_type": "markdown",
   "id": "b1f993ad",
   "metadata": {},
   "source": [
    "#### Análisis descriptivo   "
   ]
  },
  {
   "cell_type": "code",
   "execution_count": null,
   "id": "cc690ca8",
   "metadata": {},
   "outputs": [],
   "source": [
    "# BreedName1 con más de 100 unidades\n",
    "df.BreedName1.value_counts()[df.BreedName1.value_counts() > 100] "
   ]
  },
  {
   "cell_type": "code",
   "execution_count": null,
   "id": "eba1a25b",
   "metadata": {},
   "outputs": [],
   "source": [
    "# Graficaos BreedName1 con más de 100 unidades\n",
    "df.BreedName1.value_counts()[df.BreedName1.value_counts() > 100].plot(kind='bar', figsize=(15, 5))  \n"
   ]
  },
  {
   "cell_type": "code",
   "execution_count": null,
   "id": "8d025d01",
   "metadata": {},
   "outputs": [],
   "source": [
    "# Graficaos BreedName2 con más de 100 unidades\n",
    "df.BreedName2.value_counts()[df.BreedName2.value_counts() > 100].plot(kind='bar', figsize=(15, 5))  "
   ]
  },
  {
   "cell_type": "markdown",
   "id": "09809047",
   "metadata": {},
   "source": [
    "Destaca que el valor más frecuente es 'Mixed Breed' una suerte de comodín de descripción de razas.  \n",
    "\n",
    "Las descripciones “Domestic Short Hair”, “Domestic Medium Hair” o “Domestic Long Hair” son utilizadas de forma genérica para referirse a animales (especialmente gatos) que no tienen una raza definida o registrada. Es decir, estos términos se aplican a mascotas de origen mixto o sin pedigrí, donde la única característica distintiva es la longitud del pelaje, en lugar de corresponder a un linaje o raza específica. Estos términos para los gatos son comunes en refugios y bases de datos para distinguir la apariencia del pelaje de los gatos sin pedigrí. No implican que el animal tenga una mezcla de razas específica, sino simplemente que es un gato de pelo corto, medio o largo. En perros se suele usar \"Mixed Breed\". \n",
    "\n",
    "“Tabby” no es una raza en sí misma, sino un patrón de pelaje que se observa comúnmente en los gatos domésticos. Este patrón se caracteriza por tener rayas, manchas o remolinos en el pelaje. "
   ]
  },
  {
   "cell_type": "markdown",
   "id": "b37fe2d7",
   "metadata": {},
   "source": [
    "### `Gender`"
   ]
  },
  {
   "cell_type": "markdown",
   "id": "7c25a268",
   "metadata": {},
   "source": [
    "#### Valores Nulos"
   ]
  },
  {
   "cell_type": "code",
   "execution_count": null,
   "id": "0b2c95b9",
   "metadata": {},
   "outputs": [],
   "source": [
    "# Valores nulos\n",
    "df.Gender.isna().sum()"
   ]
  },
  {
   "cell_type": "markdown",
   "id": "dd181170",
   "metadata": {},
   "source": [
    "#### Análisis Descriptivo"
   ]
  },
  {
   "cell_type": "code",
   "execution_count": null,
   "id": "41b1b977",
   "metadata": {},
   "outputs": [],
   "source": [
    "# Valores únicos\n",
    "df.Gender.value_counts().sort_index()"
   ]
  },
  {
   "cell_type": "code",
   "execution_count": null,
   "id": "ce944c25",
   "metadata": {},
   "outputs": [],
   "source": [
    "# Creamos una columna descriptiva de 'Gender'\n",
    "Gender_map = {1: 'male', 2: 'female', 3: 'mixed'}\n",
    "\n",
    "df['Gender_df'] = df['Gender'].map(Gender_map)"
   ]
  },
  {
   "cell_type": "code",
   "execution_count": null,
   "id": "a3b7288f",
   "metadata": {},
   "outputs": [],
   "source": [
    "# Valores únicos con etiquetas\n",
    "df.Gender_df.value_counts().sort_index()"
   ]
  },
  {
   "cell_type": "code",
   "execution_count": null,
   "id": "13fbfcc9",
   "metadata": {},
   "outputs": [],
   "source": [
    "# Proporción de Valores únicos\n",
    "df.Gender_df.value_counts(normalize=True).round(2).sort_index()"
   ]
  },
  {
   "cell_type": "code",
   "execution_count": null,
   "id": "76aab2d1",
   "metadata": {},
   "outputs": [],
   "source": [
    "# Gráfico de Valores únicos con etiquetas\n",
    "df.Gender_df.value_counts().plot(kind='bar', figsize=(15, 5))"
   ]
  },
  {
   "cell_type": "markdown",
   "id": "2c70c972",
   "metadata": {},
   "source": [
    "#### Consideraciones de Gender\n",
    "- No hay valores nulos\n",
    "- El valor más frecuente (moda) es 'female'\n",
    "- En algunos contextos, la categoría “mixed” puede requerir una interpretación particular, ya que puede indicar una mezcla real de géneros en el caso de que se traran de grupos."
   ]
  },
  {
   "cell_type": "markdown",
   "id": "d83db1e0",
   "metadata": {},
   "source": [
    "### `Color1, Color2, Color3`"
   ]
  },
  {
   "cell_type": "markdown",
   "id": "bee9a6ee",
   "metadata": {},
   "source": [
    "#### Valores nulos"
   ]
  },
  {
   "cell_type": "code",
   "execution_count": null,
   "id": "938d0959",
   "metadata": {},
   "outputs": [],
   "source": [
    "# Buscamos valores nulos en el primer campo Color\n",
    "df.Color1.isna().sum()"
   ]
  },
  {
   "cell_type": "markdown",
   "id": "393d0f75",
   "metadata": {},
   "source": [
    "Hay tres campos Color, el campo Color1 no contiene valores nulos, los otros dos sí pero es lógico porque puede haber un animal de un único color. "
   ]
  },
  {
   "cell_type": "markdown",
   "id": "401ddb29",
   "metadata": {},
   "source": [
    "#### Uniificación de criterios en Color"
   ]
  },
  {
   "cell_type": "code",
   "execution_count": null,
   "id": "f9c8994b",
   "metadata": {},
   "outputs": [],
   "source": [
    "# Campo descriptivo del color, podría servir\n",
    "df['Color1_d'] = df['Color1'].map(df_color_labels.set_index('ColorID')['ColorName'])\n",
    "df['Color2_d'] = df['Color2'].map(df_color_labels.set_index('ColorID')['ColorName'])\n",
    "df['Color3_d'] = df['Color3'].map(df_color_labels.set_index('ColorID')['ColorName'])"
   ]
  },
  {
   "cell_type": "code",
   "execution_count": null,
   "id": "22932fb5",
   "metadata": {},
   "outputs": [],
   "source": [
    "# Creamos una copia con los campos requeridos\n",
    "df_Color_d = df[['Color1_d', 'Color2_d', 'Color3_d']].copy()"
   ]
  },
  {
   "cell_type": "code",
   "execution_count": null,
   "id": "3856bb89",
   "metadata": {},
   "outputs": [],
   "source": [
    "# Verificamos coincidencias de colores entre los tres campos\n",
    "df_Color_d['Color1_d'][(df_Color_d['Color1_d']==df['Color2_d'])\n",
    "                     | (df_Color_d['Color1_d']==df['Color3_d'])\n",
    "                     | (df_Color_d['Color2_d']==df['Color3_d'])].count()"
   ]
  },
  {
   "cell_type": "code",
   "execution_count": null,
   "id": "da1111e7",
   "metadata": {},
   "outputs": [],
   "source": [
    "# Creamos un campo color_n que contabiliza la cantidad de colores por fila\n",
    "df['color_n'] = (df[['Color1', 'Color2', 'Color3']]>0).sum(axis=1)\n",
    "\n",
    "# Verificar el resultado\n",
    "print(df[['Color1', 'Color2', 'Color3', 'color_n']].head())"
   ]
  },
  {
   "cell_type": "code",
   "execution_count": null,
   "id": "98ffbbe0",
   "metadata": {},
   "outputs": [],
   "source": [
    "# Verificar la cantidad de filas agrupados por cantidad de colores\n",
    "df.color_n.value_counts().sort_index()"
   ]
  },
  {
   "cell_type": "code",
   "execution_count": null,
   "id": "86693fcd",
   "metadata": {},
   "outputs": [],
   "source": [
    "# Verificar la cantidad de filas agrupados por cantidad de colores\n",
    "df.color_n.value_counts(normalize=True).round(3).sort_index()"
   ]
  },
  {
   "cell_type": "markdown",
   "id": "d96dbc87",
   "metadata": {},
   "source": [
    "Esto podria servir para ver si anumales de distintos colores se adoptan más"
   ]
  },
  {
   "cell_type": "code",
   "execution_count": null,
   "id": "a3ffe6f6",
   "metadata": {},
   "outputs": [],
   "source": [
    "df.color_n.value_counts().sort_index().plot(kind='bar', figsize=(15, 5))"
   ]
  },
  {
   "cell_type": "markdown",
   "id": "0d6af838",
   "metadata": {},
   "source": [
    "En el 40% de los casos firguran animales de dos colores, resultado de uno y tres colores 30% respectivamente."
   ]
  },
  {
   "cell_type": "markdown",
   "id": "201c7c1a",
   "metadata": {},
   "source": [
    "## `MaturitySize`\n",
    "El campo MaturitySize indica el tamaño que se espera que tenga la mascota una vez que ha alcanzado su madurez. En el contexto del dataset PetFinder.my, este campo suele codificarse de forma ordinal (por ejemplo, valores numéricos que representan “pequeño”, “mediano”, “grande” o incluso una escala más detallada) y permite distinguir entre mascotas que, al madurar, serán de menor o mayor tamaño.\n",
    "\n",
    "Utilidad en el EDA\n",
    "\t- Segmentación:\n",
    "Permite agrupar a los animales según su tamaño maduro, lo que puede ser relevante para analizar comportamientos de adopción, necesidades de espacio, o preferencias de los adoptantes.\n",
    "\t- Relación con Otras Variables:\n",
    "Al cruzarlo con otras características (como la raza, la edad o el tipo de mascota), se pueden identificar patrones o correlaciones interesantes. Por ejemplo, quizá las mascotas de mayor tamaño se adopten a diferentes ritmos que las de menor tamaño.\n",
    "\t•- Perfil del Animal:\n",
    "Conocer el tamaño maduro ayuda a construir un perfil más completo de la mascota, lo que puede influir en decisiones de marketing o en la creación de estrategias específicas para diferentes segmentos de animales.\n",
    "\n",
    "MaturitySize es una variable clave para comprender las expectativas de tamaño de las mascotas y su posible impacto en otros aspectos del comportamiento de adopción o en el manejo de los animales."
   ]
  },
  {
   "cell_type": "code",
   "execution_count": null,
   "id": "07457020",
   "metadata": {},
   "outputs": [],
   "source": [
    "# Valores nulos\n",
    "df.MaturitySize.isna().sum()"
   ]
  },
  {
   "cell_type": "code",
   "execution_count": null,
   "id": "ed95da05",
   "metadata": {},
   "outputs": [],
   "source": [
    "# Valores únicos\n",
    "df.MaturitySize.value_counts().sort_index() \n"
   ]
  },
  {
   "cell_type": "code",
   "execution_count": null,
   "id": "dc5cf66b",
   "metadata": {},
   "outputs": [],
   "source": [
    "# Creamos una columna descriptiva de 'MaturitySize'\n",
    "MaturitySize_map = {1: 'pequeño', 2: 'mediano', 3: 'grande', 4: 'muy grande'}\n",
    "\n",
    "df['MaturitySize_df'] = df['MaturitySize'].map(MaturitySize_map)"
   ]
  },
  {
   "cell_type": "code",
   "execution_count": null,
   "id": "434be687",
   "metadata": {},
   "outputs": [],
   "source": [
    "# Valores únicos con etiquetas\n",
    "df.MaturitySize_df.value_counts().sort_index()"
   ]
  },
  {
   "cell_type": "code",
   "execution_count": null,
   "id": "37939bd7",
   "metadata": {},
   "outputs": [],
   "source": [
    "# Proporción de Valores únicos\n",
    "df.MaturitySize_df.value_counts(normalize=True).round(2).sort_index()"
   ]
  },
  {
   "cell_type": "code",
   "execution_count": null,
   "id": "1c4ef6b7",
   "metadata": {},
   "outputs": [],
   "source": [
    "# Gráfico de Valores únicos con etiquetas\n",
    "df.MaturitySize_df.value_counts().plot(kind='bar', figsize=(15, 5))"
   ]
  },
  {
   "cell_type": "markdown",
   "id": "dbe87e9b",
   "metadata": {},
   "source": [
    "En este dataset la variable `MaturitySize` (tamaño en la madurez), se concentra mayoritariamente en los valores “mediano” y “pequeño”, con una proporción reducida de “grande” y “muy grande”. Esto sugiere que la mayoría de las mascotas en la base de datos no llegan a un tamaño grande en la edad adulta, lo cual puede ser un factor relevante para entender la oferta de mascotas y los patrones de adopción."
   ]
  },
  {
   "cell_type": "markdown",
   "id": "36e7bcfe",
   "metadata": {},
   "source": [
    "## `FurLength`\n",
    "La variable `FurLength` se refiere a la longitud del pelaje de la mascota. Es una variable ordinal categórica codificada numéricamente, que describe si el animal tiene el pelo corto, mediano o largo.\n",
    "\n",
    "Codificación habitual:\n",
    "- 1: Pelaje corto (Short)\n",
    "- 2: Pelaje mediano (Medium)\n",
    "- 3: Pelaje largo (Long)\n"
   ]
  },
  {
   "cell_type": "code",
   "execution_count": null,
   "id": "1697a92f",
   "metadata": {},
   "outputs": [],
   "source": [
    "# Creamos una columna descriptiva de 'FurLength'\n",
    "FurLength_map = {1: 'corto', 2: 'mediano', 3: 'largo'}\n",
    "\n",
    "df['FurLength_df'] = df['FurLength'].map(FurLength_map)"
   ]
  },
  {
   "cell_type": "code",
   "execution_count": null,
   "id": "622f6842",
   "metadata": {},
   "outputs": [],
   "source": [
    "# Valores Nulos\n",
    "df.FurLength.isna().sum()"
   ]
  },
  {
   "cell_type": "code",
   "execution_count": null,
   "id": "5fe72568",
   "metadata": {},
   "outputs": [],
   "source": [
    "df.FurLength.value_counts().sort_index()"
   ]
  },
  {
   "cell_type": "code",
   "execution_count": null,
   "id": "d897d193",
   "metadata": {},
   "outputs": [],
   "source": [
    "# Proporción de Valores únicos\n",
    "df.FurLength.value_counts(normalize=True).round(2).sort_index()"
   ]
  },
  {
   "cell_type": "code",
   "execution_count": null,
   "id": "7557ba80",
   "metadata": {},
   "outputs": [],
   "source": [
    "# Gráfico de Valores únicos con etiquetas\n",
    "df.FurLength_df.value_counts().plot(kind='bar', figsize=(15, 5))"
   ]
  },
  {
   "cell_type": "markdown",
   "id": "1d8827af",
   "metadata": {},
   "source": [
    "`FurLength` es una variable descriptiva del aspecto físico del animal que puede ser relevante tanto para fines analíticos como para modelos predictivos relacionados con adopción.\n",
    "\n",
    "Su objetivo es indicar visual y funcionalmente cómo es el pelaje del animal, lo cual puede influir en:\n",
    "- Preferencias de adopción (algunas personas prefieren mascotas de pelo corto por menor mantenimiento).\n",
    "- Cuidados requeridos (pelajes largos requieren más higiene y cepillado).\n",
    "- Percepción estética o de raza (algunas razas se asocian con cierto tipo de pelaje)."
   ]
  },
  {
   "cell_type": "markdown",
   "id": "72c50892",
   "metadata": {},
   "source": [
    "### `Vaccinated`"
   ]
  },
  {
   "cell_type": "code",
   "execution_count": null,
   "id": "6026b3f6",
   "metadata": {},
   "outputs": [],
   "source": [
    "# Valores nulos\n",
    "df.Vaccinated.isna().sum()"
   ]
  },
  {
   "cell_type": "code",
   "execution_count": null,
   "id": "acb3d60c",
   "metadata": {},
   "outputs": [],
   "source": [
    "# Valores únicos\n",
    "df.Vaccinated.value_counts().sort_index()"
   ]
  },
  {
   "cell_type": "code",
   "execution_count": null,
   "id": "957dcb86",
   "metadata": {},
   "outputs": [],
   "source": [
    "# Creamos una columna descriptiva de 'Vaccinated'\n",
    "vaccinated_map = {1: 'yes', 2: 'no', 3: 'not sure'}\n",
    "\n",
    "df['vaccinated_df'] = df['Vaccinated'].map(vaccinated_map)"
   ]
  },
  {
   "cell_type": "code",
   "execution_count": null,
   "id": "cbf4b782",
   "metadata": {},
   "outputs": [],
   "source": [
    "# Valores únicos con etiquetas\n",
    "df.vaccinated_df.value_counts().sort_values(ascending=False)"
   ]
  },
  {
   "cell_type": "code",
   "execution_count": null,
   "id": "d979d9d8",
   "metadata": {},
   "outputs": [],
   "source": [
    "# Proporción de Valores únicos\n",
    "df.vaccinated_df.value_counts(normalize=True).round(2).sort_values(ascending=False)"
   ]
  },
  {
   "cell_type": "code",
   "execution_count": null,
   "id": "4dd66006",
   "metadata": {},
   "outputs": [],
   "source": [
    "# Gráfico de Valores únicos con etiquetas\n",
    "df.vaccinated_df.value_counts(normalize=True).round(2).sort_values(ascending=False).plot(kind='bar', figsize=(15, 5))"
   ]
  },
  {
   "cell_type": "markdown",
   "id": "1f76b466",
   "metadata": {},
   "source": [
    "#### Consideraciones de Vaccinated\n",
    "- No hay valores nulos\n",
    "- El valor más frecuente (moda) es 'no', seguido por 'yes', alrededor del 10% no hay seguridad.\n"
   ]
  },
  {
   "cell_type": "markdown",
   "id": "406a11f8",
   "metadata": {},
   "source": [
    "### `Dewormed`"
   ]
  },
  {
   "cell_type": "code",
   "execution_count": null,
   "id": "4e5c36be",
   "metadata": {},
   "outputs": [],
   "source": [
    "# Valores nulos\n",
    "df.Dewormed.isna().sum()"
   ]
  },
  {
   "cell_type": "code",
   "execution_count": null,
   "id": "cba5c2a3",
   "metadata": {},
   "outputs": [],
   "source": [
    "# Valores únicos\n",
    "df.Dewormed.value_counts().sort_index()"
   ]
  },
  {
   "cell_type": "code",
   "execution_count": null,
   "id": "8b358a3c",
   "metadata": {},
   "outputs": [],
   "source": [
    "# Creamos una columna descriptiva de 'Dewormed'\n",
    "dewormed_map = {1: 'yes', 2: 'no', 3: 'not sure'}\n",
    "\n",
    "df['dewormed_df'] = df['Dewormed'].map(dewormed_map)"
   ]
  },
  {
   "cell_type": "code",
   "execution_count": null,
   "id": "ad0a5226",
   "metadata": {},
   "outputs": [],
   "source": [
    "# Valores únicos con etiquetas\n",
    "df.dewormed_df.value_counts().sort_values(ascending=False)"
   ]
  },
  {
   "cell_type": "code",
   "execution_count": null,
   "id": "d798c8eb",
   "metadata": {},
   "outputs": [],
   "source": [
    "# Proporción de Valores únicos\n",
    "df.dewormed_df.value_counts(normalize=True).round(2).sort_values(ascending=False)"
   ]
  },
  {
   "cell_type": "code",
   "execution_count": null,
   "id": "189ea542",
   "metadata": {},
   "outputs": [],
   "source": [
    "# Gráfico de Valores únicos con etiquetas\n",
    "df.dewormed_df.value_counts(normalize=True).round(2).sort_values(ascending=False).plot(kind='bar', figsize=(15, 5))"
   ]
  },
  {
   "cell_type": "markdown",
   "id": "e4af91d1",
   "metadata": {},
   "source": [
    "#### Consideraciones de Dewormed\n",
    "- No hay valores nulos\n",
    "- El valor más frecuente (moda) es 'yes', seguido por 'no', alrededor del 10% no hay seguridad.\n"
   ]
  },
  {
   "cell_type": "markdown",
   "id": "f8597d79",
   "metadata": {},
   "source": [
    "### `Sterilized`"
   ]
  },
  {
   "cell_type": "code",
   "execution_count": null,
   "id": "cdc61040",
   "metadata": {},
   "outputs": [],
   "source": [
    "# Valores nulos\n",
    "df.Sterilized.isna().sum()"
   ]
  },
  {
   "cell_type": "code",
   "execution_count": null,
   "id": "c48b112c",
   "metadata": {},
   "outputs": [],
   "source": [
    "# Valores únicos\n",
    "df.Sterilized.value_counts().sort_index()"
   ]
  },
  {
   "cell_type": "code",
   "execution_count": null,
   "id": "42358337",
   "metadata": {},
   "outputs": [],
   "source": [
    "# Creamos una columna descriptiva de 'Sterilized'\n",
    "sterilized_map = {1: 'yes', 2: 'no', 3: 'not sure'}\n",
    "\n",
    "df['sterilized_df'] = df['Sterilized'].map(sterilized_map)"
   ]
  },
  {
   "cell_type": "code",
   "execution_count": null,
   "id": "fa7c2e8c",
   "metadata": {},
   "outputs": [],
   "source": [
    "# Valores únicos con etiquetas\n",
    "df.sterilized_df.value_counts().sort_values(ascending=False)"
   ]
  },
  {
   "cell_type": "code",
   "execution_count": null,
   "id": "42889186",
   "metadata": {},
   "outputs": [],
   "source": [
    "# Proporción de Valores únicos\n",
    "df.sterilized_df.value_counts(normalize=True).round(2).sort_values(ascending=False)"
   ]
  },
  {
   "cell_type": "code",
   "execution_count": null,
   "id": "f157021d",
   "metadata": {},
   "outputs": [],
   "source": [
    "# Gráfico de Valores únicos con etiquetas\n",
    "df.sterilized_df.value_counts(normalize=True).round(2).sort_values(ascending=False).plot(kind='bar', figsize=(15, 5))"
   ]
  },
  {
   "cell_type": "markdown",
   "id": "7e076369",
   "metadata": {},
   "source": [
    "#### Consideraciones de Sterilized\n",
    "- No hay valores nulos\n",
    "- El valor más frecuente (moda) es 'no', seguido por 'yes' en un 20%, alrededor del 10% no hay seguridad.\n"
   ]
  },
  {
   "cell_type": "markdown",
   "id": "f516b95e",
   "metadata": {},
   "source": [
    "### `Health`"
   ]
  },
  {
   "cell_type": "code",
   "execution_count": null,
   "id": "2fe40157",
   "metadata": {},
   "outputs": [],
   "source": [
    "# Valores nulos\n",
    "df.Health.isna().sum()"
   ]
  },
  {
   "cell_type": "code",
   "execution_count": null,
   "id": "6148dd26",
   "metadata": {},
   "outputs": [],
   "source": [
    "# Valores únicos\n",
    "df.Health.value_counts().sort_index()"
   ]
  },
  {
   "cell_type": "code",
   "execution_count": null,
   "id": "9dad7f0f",
   "metadata": {},
   "outputs": [],
   "source": [
    "# Creamos una columna descriptiva de 'Health'\n",
    "health_map = {1: 'healthy', 2: 'minor', 3: 'serious'}\n",
    "\n",
    "df['health_df'] = df['Health'].map(health_map)"
   ]
  },
  {
   "cell_type": "code",
   "execution_count": null,
   "id": "6cb79d2f",
   "metadata": {},
   "outputs": [],
   "source": [
    "# Valores únicos con etiquetas\n",
    "df.health_df.value_counts().sort_values(ascending=False)"
   ]
  },
  {
   "cell_type": "code",
   "execution_count": null,
   "id": "45229500",
   "metadata": {},
   "outputs": [],
   "source": [
    "# Proporción de Valores únicos\n",
    "df.health_df.value_counts(normalize=True).round(2).sort_values(ascending=False)"
   ]
  },
  {
   "cell_type": "code",
   "execution_count": null,
   "id": "2875c1af",
   "metadata": {},
   "outputs": [],
   "source": [
    "# Gráfico de Valores únicos con etiquetas\n",
    "df.health_df.value_counts(normalize=True).round(2).sort_values(ascending=False).plot(kind='bar', figsize=(15, 5))"
   ]
  },
  {
   "cell_type": "code",
   "execution_count": null,
   "id": "cd727b5a",
   "metadata": {},
   "outputs": [],
   "source": [
    "df.info()"
   ]
  },
  {
   "cell_type": "markdown",
   "id": "5421dd20",
   "metadata": {},
   "source": [
    "### Quantity"
   ]
  },
  {
   "cell_type": "code",
   "execution_count": null,
   "id": "4ad074c9",
   "metadata": {},
   "outputs": [],
   "source": [
    "# Valores nulos\n",
    "df.Quantity.isna().sum()   "
   ]
  },
  {
   "cell_type": "code",
   "execution_count": null,
   "id": "89861bbe",
   "metadata": {},
   "outputs": [],
   "source": [
    "# Valores negativos\n",
    "df['Quantity'][df['Quantity']<0].count()"
   ]
  },
  {
   "cell_type": "code",
   "execution_count": null,
   "id": "c9a2086a",
   "metadata": {},
   "outputs": [],
   "source": [
    "# Valores de tendencia central y dispersión\n",
    "df.Quantity.describe()"
   ]
  },
  {
   "cell_type": "code",
   "execution_count": null,
   "id": "40c743d3",
   "metadata": {},
   "outputs": [],
   "source": [
    "# Gráficos de distribución\n",
    "graficos_distribucion(df, 'Quantity')"
   ]
  },
  {
   "cell_type": "code",
   "execution_count": null,
   "id": "10763c36",
   "metadata": {},
   "outputs": [],
   "source": [
    "# Test de normalidad    \n",
    "analizar_normalidad(df, 'Quantity')"
   ]
  },
  {
   "cell_type": "markdown",
   "id": "485b0674",
   "metadata": {},
   "source": [
    "El campo `Quantity` muestra una distribución no normal, sin valores nulos o negativos."
   ]
  },
  {
   "cell_type": "code",
   "execution_count": null,
   "id": "5061da0d",
   "metadata": {},
   "outputs": [],
   "source": [
    "df.Quantity.value_counts()"
   ]
  },
  {
   "cell_type": "code",
   "execution_count": null,
   "id": "73104ed6",
   "metadata": {},
   "outputs": [],
   "source": [
    "# Gráfico de Valores únicos con etiquetas\n",
    "df.Quantity.value_counts(normalize=True)[df.Quantity.value_counts() > 10].round(2).sort_values(ascending=False).plot(kind='bar', figsize=(15, 5))"
   ]
  },
  {
   "cell_type": "markdown",
   "id": "12f1d31f",
   "metadata": {},
   "source": [
    "## `Fee`"
   ]
  },
  {
   "cell_type": "code",
   "execution_count": null,
   "id": "835bbce5",
   "metadata": {},
   "outputs": [],
   "source": [
    "df.Fee.value_counts()"
   ]
  },
  {
   "cell_type": "markdown",
   "id": "b0197337",
   "metadata": {},
   "source": [
    "La mayoria de las adopciones no tienen fee (son gratis), se comporat como variable categórica a segmentar, gratis o no gratis x ejemplo."
   ]
  },
  {
   "cell_type": "code",
   "execution_count": null,
   "id": "3da9e72f",
   "metadata": {},
   "outputs": [],
   "source": [
    "# Crear un nuevo DataFrame sin Fee = 0\n",
    "df_fee_nonzero = df[df['Fee'] != 0]"
   ]
  },
  {
   "cell_type": "code",
   "execution_count": null,
   "id": "d318711d",
   "metadata": {},
   "outputs": [],
   "source": [
    "df_fee_nonzero.Fee.value_counts(normalize=True).round(2).sort_values(ascending=False)[df_fee_nonzero.Fee.value_counts() > 50]"
   ]
  },
  {
   "cell_type": "code",
   "execution_count": null,
   "id": "8720d6ad",
   "metadata": {
    "scrolled": true
   },
   "outputs": [],
   "source": [
    "# Gráfico de Valores únicos con etiquetas sin 0\n",
    "df_fee_nonzero.Fee.value_counts(normalize=True).round(2).sort_values(ascending=False)[df_fee_nonzero.Fee.value_counts() > 50].plot(kind='bar', figsize=(15, 5));"
   ]
  },
  {
   "cell_type": "code",
   "execution_count": null,
   "id": "6c3c99b0",
   "metadata": {},
   "outputs": [],
   "source": [
    "df['Fee_paga'] = np.where(df['Fee'] != 0, 'paga', 'gratis')"
   ]
  },
  {
   "cell_type": "code",
   "execution_count": null,
   "id": "2a51c3a9",
   "metadata": {},
   "outputs": [],
   "source": [
    "fee_paga_counts = df['Fee_paga'].value_counts(normalize=True).sort_index().round(2)\n",
    "colors = sns.color_palette('pastel')[0:2]\n",
    "\n",
    "# Crear figura y gráfico\n",
    "fig, ax = plt.subplots(figsize=(8, 8))\n",
    "ax.pie(fee_paga_counts, labels=fee_paga_counts.index,\n",
    "       autopct='%1.1f%%', colors=colors, startangle=90)\n",
    "ax.axis('equal')  # Círculo perfecto\n",
    "\n",
    "# Título abajo\n",
    "fig.text(0.5, 0.05, 'Distribución porcentual de Fee', ha='center', fontsize=14)\n",
    "plt.show()"
   ]
  },
  {
   "cell_type": "markdown",
   "id": "080bf80f",
   "metadata": {},
   "source": [
    "- `Fee` tiene una mayoria de datos en valor 0, es decir adopciones gratuitas\n",
    "- Del total de pagas cerca del 40% corresponden a adopciones de 50 o 100 dolares de monto."
   ]
  },
  {
   "cell_type": "markdown",
   "id": "130030a2",
   "metadata": {},
   "source": [
    "### Análisis de Correlación"
   ]
  },
  {
   "cell_type": "code",
   "execution_count": null,
   "id": "45b07685",
   "metadata": {},
   "outputs": [],
   "source": [
    "# Seleccionar solo columnas numéricas (int y float)\n",
    "numeric_df = df.select_dtypes(include=['int64', 'float64'])\n",
    "\n",
    "# Matriz de correlación\n",
    "correlation_matrix = numeric_df.corr()\n",
    "\n",
    "# Heatmap\n",
    "plt.figure(figsize=(14, 10))\n",
    "sns.heatmap(correlation_matrix, annot=True, cmap='coolwarm', fmt=\".2f\", linewidths=0.5, vmin = -1)\n",
    "plt.title('Matriz de Correlación entre Variables Numéricas')\n",
    "plt.show()"
   ]
  },
  {
   "cell_type": "markdown",
   "id": "c2fc8d49",
   "metadata": {},
   "source": [
    "- Los campos con correlaciones positivas en 0.10 y 0.11 son Age y Breed1 respectivamente, lo cual indica que a medida que aumenta la edad de la mascota, tiende a aumentar el valor de AdoptionSpeed, es decir, tardan más en ser adoptadas.\n",
    "- Type y FurLength tiene -0.09 y Sterilized -0.08, loc ual significaría que los perros tienden a ser adoptados más rápido que los gatos, ya que valores mayores de Type (gato) se asocian con valores mayores de AdoptionSpeed (más lenta adopción). En forma similar, mascotas con mayor longitud de pelo o esterilizadas tienden a ser adoptadas más rápidamente.\n",
    "- Vaccinated y Dewormed se encuentran correclacionadas (r = 0.72), así como con Sterilized (0.47 y 0.43 respectivamente)\n"
   ]
  },
  {
   "cell_type": "markdown",
   "id": "75f23158",
   "metadata": {},
   "source": [
    "## ETAPA 3: Análisis Bivariado con Target\n",
    "\n",
    "### Relación con `AdoptionSpeed`\n",
    "### Con `Type`\n",
    "#### Visualización de la distribución de AdoptionSpeed por Type\n",
    "- Gráfico de barras agrupadas: Muestra la frecuencia absoluta de cada nivel de AdoptionSpeed para cada Type.\n",
    "-Gráfico de barras apiladas o de proporciones: Permite ver las proporciones relativas."
   ]
  },
  {
   "cell_type": "code",
   "execution_count": null,
   "id": "3efa5f2a",
   "metadata": {},
   "outputs": [],
   "source": [
    "# Gráfico de barras agrupadas\n",
    "plt.figure(figsize=(8,6))\n",
    "sns.countplot(data=df, x='AdoptionSpeed', hue='Type')\n",
    "plt.title('Distribución de AdoptionSpeed por Type')\n",
    "plt.xlabel('AdoptionSpeed')\n",
    "plt.ylabel('Conteo')\n",
    "plt.legend(title='Type', labels=['Perro', 'Gato'])  # Ajusta según la codificación real\n",
    "plt.show()\n",
    "\n",
    "# Gráfico de barras de proporciones\n",
    "adoption_Vaccinated_ct = pd.crosstab(df['AdoptionSpeed'], df['Type'], normalize='index')\n",
    "adoption_Vaccinated_ct.plot(kind='bar', stacked=True, figsize=(8,6))\n",
    "plt.title('Proporción de AdoptionSpeed por Type')\n",
    "plt.xlabel('AdoptionSpeed')\n",
    "plt.ylabel('Proporción')\n",
    "plt.legend(title='Type', labels=['Perro', 'Gato'])  # Ajusta según la codificación real\n",
    "plt.show()"
   ]
  },
  {
   "cell_type": "markdown",
   "id": "f3cd1880",
   "metadata": {},
   "source": [
    "##### Consideraciones de la visualización entre `AdoptionSpeed` y `Type`\n",
    "- `AdoptionSpeed` 0 (adopción más rápida): Tanto perros como gatos presentan relativamente pocos casos en la categoría 0, lo que indica que no es muy común que las mascotas sean adoptadas “inmediatamente”.\n",
    "- `AdoptionSpeed` intermedios (1, 2, 3): La mayor concentración de casos para ambos tipos se ubica en los valores 2 y 3. Los perros parecen tener un pico ligeramente mayor en AdoptionSpeed 2 y 4, mientras que los gatos muestran un recuento un poco más alto en AdoptionSpeed 3.\n",
    "- `AdoptionSpeed` 4 (adopción más tardía o no adoptado): Se ve que los perros tienen un conteo algo mayor en el nivel 4, en comparación con los gatos, lo que podría indicar que, proporcionalmente, hay más perros que terminan adoptados muy tarde (o incluso no adoptados).\n",
    "- El gráfico indica que no todas las mascotas se adoptan con la misma rapidez. Hay un grupo pequeño en la categoría 0 (adopción muy rápida), un volumen considerable en las categorías 2 y 3, y un grupo notable en la categoría 4. Parecería que, visualmente, que el tipo de mascota (perro vs. gato) podría influir en la rapidez de adopción. Los perros tienen mayor conteo en los extremos (0 y 4), mientras que los gatos se concentran un poco más en las categorías intermedias.\n",
    "- Finalmente, el gráfico sugiere que, si bien hay similitudes en las distribuciones de perros y gatos, sí existen diferencias importantes en los niveles de `AdoptionSpeed`, sobre todo en la categoría más tardía (4). "
   ]
  },
  {
   "cell_type": "markdown",
   "id": "3210ec1a",
   "metadata": {},
   "source": [
    "### Con `Age`\n",
    "#### Análisis Descriptivo de la distribución de `Age` segun `AdoptionSpeed`\n"
   ]
  },
  {
   "cell_type": "code",
   "execution_count": null,
   "id": "62446b95",
   "metadata": {},
   "outputs": [],
   "source": [
    "# Estadísticas descriptivas de Age agrupadas por AdoptionSpeed\n",
    "age_summary = df.groupby('AdoptionSpeed')['Age'].describe()\n",
    "print(age_summary)"
   ]
  },
  {
   "cell_type": "code",
   "execution_count": null,
   "id": "cbf16723",
   "metadata": {},
   "outputs": [],
   "source": [
    "# Gráfico de caja (boxplot)\n",
    "plt.figure(figsize=(8,6))\n",
    "sns.boxplot(data=df, x='AdoptionSpeed', y='Age')\n",
    "plt.title('Distribución de Age por AdoptionSpeed')\n",
    "plt.xlabel('AdoptionSpeed')\n",
    "plt.ylabel('Age')\n",
    "plt.show()\n",
    "\n",
    "# Gráfico de violín\n",
    "plt.figure(figsize=(8,6))\n",
    "sns.violinplot(data=df, x='AdoptionSpeed', y='Age', color='orange')\n",
    "plt.title('Distribución de Age por AdoptionSpeed')\n",
    "plt.xlabel('AdoptionSpeed')\n",
    "plt.ylabel('Age')\n",
    "plt.show()"
   ]
  },
  {
   "cell_type": "markdown",
   "id": "c4f2b016",
   "metadata": {},
   "source": [
    "#### Test Estadísticos\n"
   ]
  },
  {
   "cell_type": "code",
   "execution_count": null,
   "id": "5ea2bf08",
   "metadata": {},
   "outputs": [],
   "source": [
    "# Extraer la variable Age para cada grupo de AdoptionSpeed\n",
    "groups = [group[\"Age\"].values for name, group in df.groupby(\"AdoptionSpeed\")]\n",
    "\n",
    "# Realizar el test de Kruskal-Wallis\n",
    "stat, p_value = kruskal(*groups)\n",
    "print(\"Kruskal-Wallis stat:\", stat)\n",
    "print(\"p-value:\", p_value)"
   ]
  },
  {
   "cell_type": "markdown",
   "id": "441b7e66",
   "metadata": {},
   "source": [
    "Consideraciones:\n",
    "1.\tDistribución Altamente Sesgada (Skewed)\n",
    "\t- En ambos gráficos se aprecia que la mayoría de los datos de la edad se concentran cerca de valores bajos (en la parte inferior), mientras que existe un número significativo de valores atípicos que se extienden hacia la parte superior (algunos llegan hasta o superan los 200).\n",
    "\t- Esto sugiere que la edad de la mayoría de las mascotas es relativamente baja, pero hay una minoría de casos con edades muy elevadas.\n",
    "2.\tMedianas Similares entre Categorías\n",
    "\t- Tanto en el boxplot como en el violin plot, se observa que la mediana de la edad (la línea dentro de cada “caja” o el recuadro en la parte más densa del violín) se ubica en un rango relativamente cercano para todas las categorías de AdoptionSpeed (0 a 4).\n",
    "\t- Esto indica que, en promedio, las mascotas adoptadas muy rápido (AdoptionSpeed=0) no difieren sustancialmente en edad de aquellas que tardan más (AdoptionSpeed=4).\n",
    "3.\tPresencia de Outliers\n",
    "\t- Los puntos que aparecen por encima de los “bigotes” (whiskers) en el boxplot se consideran valores atípicos, reflejando edades mucho mayores que la mayoría de las observaciones.\n",
    "\t- La extensión vertical en los violin plots corrobora que, aunque la mayoría de los registros se concentran en edades más jóvenes, hay un grupo reducido con edades muy altas.\n",
    "4.\tDensidad y Forma de la Distribución\n",
    "\t- El violin plot muestra la densidad de la edad en cada categoría de AdoptionSpeed. Cada “violín” es bastante estrecho en la parte superior, lo que confirma que hay menos mascotas con edades muy elevadas, pero al mismo tiempo el rango máximo llega a valores altos.\n",
    "\t- En la parte inferior, los “violines” se ensanchan, señal de que la mayoría de las mascotas se encuentran en edades bajas (con un pico de densidad concentrado en los primeros meses/años).\n",
    "5.\tConclusión Preliminar\n",
    "\t- Visualmente, no se observan diferencias drásticas en la edad promedio o mediana a medida que varía la velocidad de adopción. Aunque la edad de la mascota podría tener un impacto en la velocidad de adopción. Si se observa que existen diferencias significativas y con un tamaño de efecto razonable, `Age` puede ser una variable importante en modelos predictivos.\n",
    "\t"
   ]
  },
  {
   "cell_type": "markdown",
   "id": "98ffa72f",
   "metadata": {},
   "source": [
    "### Con `Breed1` y `Breed2`"
   ]
  },
  {
   "cell_type": "code",
   "execution_count": null,
   "id": "b3ede710",
   "metadata": {},
   "outputs": [],
   "source": [
    "# Breed1 y Breed2 combinadas\n",
    "df['MixedBreed'] = (df['Breed2'] != 0).astype(int)\n",
    "plt.figure()\n",
    "sns.countplot(x='MixedBreed', hue='AdoptionSpeed', data=df)\n",
    "plt.title('AdoptionSpeed por mezcla de razas')\n",
    "plt.show()"
   ]
  },
  {
   "cell_type": "code",
   "execution_count": null,
   "id": "26b20653",
   "metadata": {},
   "outputs": [],
   "source": [
    "# Ejemplo: filtrar para las 10 razas más comunes en Breed1 y analizar AdoptionSpeed\n",
    "top_breeds = df['BreedName1'].value_counts().head(10).index\n",
    "# Suponiendo que el dataset principal 'df' tenga una columna 'Breed1' y 'AdoptionSpeed'\n",
    "df_top = df[df['BreedName1'].isin(top_breeds)]\n",
    "\n",
    "plt.figure(figsize=(10,6))\n",
    "sns.countplot(data=df_top, x='AdoptionSpeed', hue='BreedName1')\n",
    "plt.title('Distribución de AdoptionSpeed para las principales razas (Breed1)')\n",
    "plt.xlabel('AdoptionSpeed')\n",
    "plt.ylabel('Conteo')\n",
    "plt.legend(title='Breed1', bbox_to_anchor=(1,1))\n",
    "plt.show()"
   ]
  },
  {
   "cell_type": "markdown",
   "id": "245b0416",
   "metadata": {},
   "source": [
    "#### Consideraciones\n",
    "Este gráfico muestra la distribución de la variable AdoptionSpeed desagregada por las 10 razas más frecuentes en la columna Breed1.\n",
    "\n",
    "1. Dominancia de Mixed Breed y Domestic Short Hair\n",
    "- Mixed Breed (verde) es, por lejos, la raza más representada en todas las categorías de AdoptionSpeed, especialmente en las más lentas (3 y 4).\n",
    "- Domestic Short Hair también tiene una fuerte presencia, aunque menos marcada, pero con una distribución similar.\n",
    "- Las razas comunes o sin pedigrí tienden a demorar más en ser adoptadas, posiblemente por menor “atractivo de raza”.\n",
    "\n",
    "2. Razas con adopciones más rápidas\n",
    "- Razas como Shih Tzu, Poodle, y Labrador Retriever muestran menor representación general, pero distribución más pareja o sesgada hacia adopciones más rápidas (AdoptionSpeed 0, 1 y 2).\n",
    "- Razas pequeñas, conocidas o “familiares” tienden a generar adopción más temprana (posible preferencia del adoptante).\n",
    "\n",
    "3. Domestic Medium y Long Hair\n",
    "- Estas razas tienen comportamiento intermedio, sin una tendencia clara pero aparecen con frecuencia moderada en todas las clases.\n",
    "- Podria haber un impacto del pelaje en la percepción del adoptante, aunque no es concluyente.\n",
    "\n",
    "4. Tabby y Persian\n",
    "- Aunque menos frecuentes, tienen un patrón más concentrado en adopciones tardías (3 y 4), sugiriendo menor demanda o dificultad de colocación.\n"
   ]
  },
  {
   "cell_type": "markdown",
   "id": "2ccad901",
   "metadata": {},
   "source": [
    "## Con `Gender`"
   ]
  },
  {
   "cell_type": "code",
   "execution_count": null,
   "id": "d5ca7270",
   "metadata": {},
   "outputs": [],
   "source": [
    "df['Gender'].value_counts()"
   ]
  },
  {
   "cell_type": "code",
   "execution_count": null,
   "id": "9c0e010a",
   "metadata": {},
   "outputs": [],
   "source": [
    "# Gráfico de barras agrupadas\n",
    "plt.figure(figsize=(8,6))\n",
    "sns.countplot(data=df, x='AdoptionSpeed', hue='Gender')\n",
    "plt.title('Distribución de AdoptionSpeed por Gender')\n",
    "plt.xlabel('AdoptionSpeed')\n",
    "plt.ylabel('Conteo')\n",
    "plt.legend(title='Gender', labels=['Male', 'Female', 'Other'])  # Ajusta según la codificación real\n",
    "plt.show()\n",
    "\n",
    "# Gráfico de barras de proporciones\n",
    "adoption_Gender_ct = pd.crosstab(df['AdoptionSpeed'], df['Gender'], normalize='index')\n",
    "adoption_Gender_ct.plot(kind='bar', stacked=True, figsize=(8,6))\n",
    "plt.title('Proporción de AdoptionSpeed por Gender')\n",
    "plt.xlabel('AdoptionSpeed')\n",
    "plt.ylabel('Proporción')\n",
    "plt.legend(title='Gender', labels=['Male', 'Female', 'Other'])  # Ajusta según la codificación real\n",
    "plt.show()"
   ]
  },
  {
   "cell_type": "markdown",
   "id": "93ff9496",
   "metadata": {},
   "source": [
    "Estos dos gráficos exploran la relación entre el género de la mascota (Gender) y la variable objetivo AdoptionSpeed. \n",
    "\n",
    "- Gráfico 1: Distribución absoluta (countplot)\n",
    "\t1.\tFemale (naranja) es consistentemente el género con más casos en todos los niveles de AdoptionSpeed.\n",
    "\t2.\tMale (azul) aparece con frecuencia similar pero algo menor.\n",
    "\t3.\tOther (verde) representa un grupo minoritario, pero no despreciable, con presencia algo mayor en adopciones más lentas.\n",
    "    - Las mascotas femeninas son más comunes en el dataset. La distribución sugiere una ligera ventaja en frecuencia de adopción rápida para hembras, aunque no drásticamente.\n",
    "\n",
    "- Gráfico 2: Proporción (normalized stacked barplot)\n",
    "\t1.\tFemale representa consistentemente más del 50% en todas las categorías de AdoptionSpeed.\n",
    "\t2.\tMale se mantiene entre 30–40%, con ligera caída en adopciones lentas (clases 3 y 4).\n",
    "\t3.\tOther representa alrededor del 10–15% y se mantiene bastante constante.\n",
    "\n",
    "    - Las proporciones son relativamente estables, aunque hay una tendencia levemente mayor de adopción rápida entre hembras.\n",
    "    - La categoría Other no muestra cambios relevantes, pero su menor volumen sugiere un posible sesgo o escasa utilización del campo.\n",
    "\n",
    "Aunque las diferencias no son grandes, las hembras tienen una ligera ventaja tanto en frecuencia como en rapidez de adopción.\n"
   ]
  },
  {
   "cell_type": "markdown",
   "id": "cc99f5f5",
   "metadata": {},
   "source": [
    "## Con `MaturitySize`"
   ]
  },
  {
   "cell_type": "code",
   "execution_count": null,
   "id": "b21a12d7",
   "metadata": {},
   "outputs": [],
   "source": [
    "df['MaturitySize'].value_counts()"
   ]
  },
  {
   "cell_type": "code",
   "execution_count": null,
   "id": "9f7b564a",
   "metadata": {},
   "outputs": [],
   "source": [
    "# Gráfico de barras agrupadas\n",
    "plt.figure(figsize=(8,6))\n",
    "sns.countplot(data=df, x='AdoptionSpeed', hue='MaturitySize')\n",
    "plt.title('Distribución de AdoptionSpeed por MaturitySize')\n",
    "plt.xlabel('AdoptionSpeed')\n",
    "plt.ylabel('Conteo')\n",
    "plt.legend(title='MaturitySize', labels=['Pequeño', 'Mediano', 'Grande', 'Muy Grande'])  # Ajusta según la codificación real\n",
    "plt.show()\n",
    "\n",
    "# Gráfico de barras de proporciones\n",
    "adoption_MaturitySize_ct = pd.crosstab(df['AdoptionSpeed'], df['MaturitySize'], normalize='index')\n",
    "adoption_MaturitySize_ct.plot(kind='bar', stacked=True, figsize=(8,6))\n",
    "plt.title('Proporción de AdoptionSpeed por MaturitySize')\n",
    "plt.xlabel('AdoptionSpeed')\n",
    "plt.ylabel('Proporción')\n",
    "plt.legend(title='MaturitySize', labels=['Pequeño', 'Mediano', 'Grande', 'Muy Grande'])  # Ajusta según la codificación real\n",
    "plt.show()"
   ]
  },
  {
   "cell_type": "markdown",
   "id": "e099539a",
   "metadata": {},
   "source": [
    "Estos gráficos exploran cómo la tamaño esperado de madurez (MaturitySize) se relaciona con la velocidad de adopción (AdoptionSpeed), tanto en conteo absoluto como en proporciones. -\n",
    "\n",
    "- Gráfico 1: Conteo absoluto por MaturitySize\n",
    "\t1.\tMediano domina ampliamente todas las categorías de AdoptionSpeed, representando el mayor grupo de animales.\n",
    "\t2.\tPequeño es el segundo grupo en tamaño, con presencia importante especialmente en adopciones rápidas (0, 1, 2).\n",
    "\t3.\tGrande tiene presencia más baja, pero estable.\n",
    "\t4.\tMuy Grande es marginal, casi inexistente.\n",
    "\n",
    "    - La mayoría de los animales son de tamaño mediano. Los pequeños tienen una leve ventaja en adopciones más rápidas.\n",
    "\n",
    "- Gráfico 2: Proporción por MaturitySize\n",
    "\t1.\tMediano representa entre el 65% y el 75% en todas las categorías, pero su proporción aumenta ligeramente en adopciones lentas.\n",
    "\t2.\tPequeño representa un 20–30%, con ligera caída en las categorías más lentas (3 y 4), indicando adopción más rápida.\n",
    "\t3.\tGrande se mantiene relativamente estable.\n",
    "\t4.\tMuy Grande es insignificante en proporciones y no influye analíticamente.\n",
    "\n",
    "    - El tamaño pequeño parece favorecer la adopción temprana, mientras que los medianos y grandes tienden a permanecer más tiempo en espera.\n",
    "\n",
    "- Conclusión general del análisis de MaturitySize\n",
    "- Es una variable predictiva potencialmente útil, ya que el tamaño parece influir, aunque de manera leve, en la velocidad de adopción.\n"
   ]
  },
  {
   "cell_type": "markdown",
   "id": "9bc30f78",
   "metadata": {},
   "source": [
    "## Con `FurLength`"
   ]
  },
  {
   "cell_type": "code",
   "execution_count": null,
   "id": "329bb493",
   "metadata": {},
   "outputs": [],
   "source": [
    "df['FurLength'].value_counts()"
   ]
  },
  {
   "cell_type": "code",
   "execution_count": null,
   "id": "c4156522",
   "metadata": {},
   "outputs": [],
   "source": [
    "# Gráfico de barras agrupadas\n",
    "plt.figure(figsize=(8,6))\n",
    "sns.countplot(data=df, x='AdoptionSpeed', hue='FurLength')\n",
    "plt.title('Distribución de AdoptionSpeed por FurLength')\n",
    "plt.xlabel('AdoptionSpeed')\n",
    "plt.ylabel('Conteo')\n",
    "plt.legend(title='FurLength', labels=['Corto', 'Mediano', 'Largo'])  # Ajusta según la codificación real\n",
    "plt.show()\n",
    "\n",
    "# Gráfico de barras de proporciones\n",
    "adoption_FurLength_ct = pd.crosstab(df['AdoptionSpeed'], df['FurLength'], normalize='index')\n",
    "adoption_FurLength_ct.plot(kind='bar', stacked=True, figsize=(8,6))\n",
    "plt.title('Proporción de AdoptionSpeed por FurLength')\n",
    "plt.xlabel('AdoptionSpeed')\n",
    "plt.ylabel('Proporción')\n",
    "plt.legend(title='FurLength', labels=['Corto', 'Mediano', 'Largo'])  # Ajusta según la codificación real\n",
    "plt.show()"
   ]
  },
  {
   "cell_type": "markdown",
   "id": "74005739",
   "metadata": {},
   "source": [
    "#### Consideraciones\n",
    "Estos gráficos muestran cómo la variable FurLength (longitud del pelaje: corto, mediano, largo) se relaciona con la velocidad de adopción (AdoptionSpeed). \n",
    "\n",
    "- Gráfico 1: Distribución absoluta\n",
    "    - Pelaje corto es el más común en todas las categorías de AdoptionSpeed, especialmente en adopciones lentas (3 y 4).\n",
    "    - Pelaje mediano también es frecuente, con un patrón similar.\n",
    "    - Pelaje largo es mucho menos frecuente y sugiere una mayor proporción de adopciones tempranas (valores 0 a 2), aunque su volumen absoluto es bajo.\n",
    "    - Las mascotas de pelo corto y mediano dominan el dataset. Las de pelo largo parecen tener una ligera ventaja en adopción temprana, aunque hay que tener precaución al interpretar por su bajo número total.\n",
    "\n",
    "- Gráfico 2: Proporciones por categoría\n",
    "    - La proporción de pelaje corto aumenta progresivamente desde AdoptionSpeed = 0 hasta 4.\n",
    "    - El pelaje largo disminuye de forma notable en proporción en las adopciones más lentas.\n",
    "    - El pelaje mediano se mantiene más estable.\n",
    "    - Aunque los animales de pelo corto son más comunes, los de pelaje largo tienden a ser adoptados más rápidamente, lo que puede deberse a preferencias estéticas o percepciones de “cuidado especial”.\n",
    "\n",
    "- Conclusión general del análisis de FurLength\n",
    "    - Esta variable tiene un potencial valor predictivo, especialmente si se combina con variables como Breed o Type.\n",
    "    - Las diferencias en longitud de pelo pueden estar reflejando indirectamente tipos de razas o preferencias del adoptante.\n"
   ]
  },
  {
   "cell_type": "markdown",
   "id": "64a493ec",
   "metadata": {},
   "source": [
    "## Con `Vaccinated`"
   ]
  },
  {
   "cell_type": "code",
   "execution_count": null,
   "id": "96562a68",
   "metadata": {},
   "outputs": [],
   "source": [
    "df['Vaccinated'].value_counts()"
   ]
  },
  {
   "cell_type": "code",
   "execution_count": null,
   "id": "52e26d07",
   "metadata": {},
   "outputs": [],
   "source": [
    "# Gráfico de barras agrupadas\n",
    "plt.figure(figsize=(8,6))\n",
    "sns.countplot(data=df, x='AdoptionSpeed', hue='Vaccinated')\n",
    "plt.title('Distribución de AdoptionSpeed por Vaccinated')\n",
    "plt.xlabel('AdoptionSpeed')\n",
    "plt.ylabel('Conteo')\n",
    "plt.legend(title='Vaccinated', labels=['Corto', 'Mediano', 'Largo'])  # Ajusta según la codificación real\n",
    "plt.show()\n",
    "\n",
    "# Gráfico de barras de proporciones\n",
    "adoption_Vaccinated_ct = pd.crosstab(df['AdoptionSpeed'], df['Vaccinated'], normalize='index')\n",
    "adoption_Vaccinated_ct.plot(kind='bar', stacked=True, figsize=(8,6))\n",
    "plt.title('Proporción de AdoptionSpeed por Vaccinated')\n",
    "plt.xlabel('AdoptionSpeed')\n",
    "plt.ylabel('Proporción')\n",
    "plt.legend(title='Vaccinated', labels=['Corto', 'Mediano', 'Largo'])  # Ajusta según la codificación real\n",
    "plt.show()"
   ]
  },
  {
   "cell_type": "markdown",
   "id": "e84063ce",
   "metadata": {},
   "source": [
    "#### Consideraciones\n",
    "\n",
    "Estos gráficos representan cómo se relaciona el estado de vacunación (Vaccinated) con la velocidad de adopción (AdoptionSpeed), tanto en valores absolutos como en proporciones. \n",
    "\n",
    "- Gráfico 1: Conteo absoluto\n",
    "\t1.\tLas mascotas vacunadas (etiquetadas aquí como “Mediano”) dominan en todas las categorías de AdoptionSpeed, especialmente en las clases 1 a 3.\n",
    "\t2.\tLas no vacunadas (probablemente “Corto”) muestran menor volumen, pero aún están representadas significativamente en todos los niveles.\n",
    "\t3.\tEl grupo “Largo” parece representar casos desconocidos o una tercera categoría, con presencia mucho menor.\n",
    "\n",
    "    - Hay un mayor número de animales vacunados, y esto se refleja también en todas las velocidades de adopción. Esto puede estar vinculado a políticas de refugios o a que animales vacunados generan más confianza en los adoptantes.\n",
    "\n",
    "- Gráfico 2: Proporciones por categoría\n",
    "\t1.\tLa proporción de mascotas vacunadas (Mediano) disminuye levemente en las clases más lentas (3 y 4), mientras que las no vacunadas (Corto) aumentan su proporción.\n",
    "\t2.\tEl grupo “Largo” (probablemente desconocido o error de codificación) se mantiene estable o apenas aumenta en adopciones lentas.\n",
    "\n",
    "- Aunque hay vacunados en todos los niveles, las mascotas no vacunadas tienden a tener adopciones más lentas en términos proporcionales.\n",
    "\n",
    "Conclusión general del análisis de Vaccinated\n",
    "- El estado de vacunación parece estar moderadamente asociado a una adopción más rápida, lo cual tiene sentido en la práctica (menos riesgo percibido).\n"
   ]
  },
  {
   "cell_type": "markdown",
   "id": "d3d11d42",
   "metadata": {},
   "source": [
    "## Con `Dewormed`"
   ]
  },
  {
   "cell_type": "code",
   "execution_count": null,
   "id": "d4b53216",
   "metadata": {},
   "outputs": [],
   "source": [
    "df['Dewormed'].value_counts()"
   ]
  },
  {
   "cell_type": "code",
   "execution_count": null,
   "id": "5c85da59",
   "metadata": {},
   "outputs": [],
   "source": [
    "# Gráfico de barras agrupadas\n",
    "plt.figure(figsize=(8,6))\n",
    "sns.countplot(data=df, x='AdoptionSpeed', hue='Dewormed')\n",
    "plt.title('Distribución de AdoptionSpeed por Dewormed')\n",
    "plt.xlabel('AdoptionSpeed')\n",
    "plt.ylabel('Conteo')\n",
    "plt.legend(title='Dewormed', labels=['Si', 'No', 'Not Sure'])  # Ajusta según la codificación real\n",
    "plt.show()\n",
    "\n",
    "# Gráfico de barras de proporciones\n",
    "adoption_Dewormed_ct = pd.crosstab(df['AdoptionSpeed'], df['Dewormed'], normalize='index')\n",
    "adoption_Dewormed_ct.plot(kind='bar', stacked=True, figsize=(8,6))\n",
    "plt.title('Proporción de AdoptionSpeed por Dewormed')\n",
    "plt.xlabel('AdoptionSpeed')\n",
    "plt.ylabel('Proporción')\n",
    "plt.legend(title='Vaccinated', labels=['Si', 'No', 'Not Sure'])  # Ajusta según la codificación real\n",
    "plt.show()"
   ]
  },
  {
   "cell_type": "markdown",
   "id": "ead92168",
   "metadata": {},
   "source": [
    "#### Consideraciones\n",
    "\n",
    "Estos gráficos ilustran la relación entre la desparasitación (Dewormed) de las mascotas y su velocidad de adopción (AdoptionSpeed), mostrando tanto la distribución absoluta como la proporcional. \n",
    "\n",
    "- Gráfico 1: Distribución absoluta por Dewormed\n",
    "    - Las mascotas desparasitadas (etiquetadas como “Sí”) tienen el mayor número de casos en todos los niveles de AdoptionSpeed, destacándose especialmente en las categorías 2, 3 y 4.\n",
    "\t- Las no desparasitadas (“No”) siguen en volumen, pero muestran un patrón similar.\n",
    "\t- El grupo “Not Sure” (desconocido) tiene menor presencia, aunque estable.\n",
    "\n",
    "    - Las mascotas desparasitadas son mayoría, lo que puede reflejar políticas de refugios. Aunque tienen valores altos en todas las categorías, especialmente en adopciones más lentas, esto puede estar relacionado con su sobre-representación general en el dataset.\n",
    "\n",
    "- Gráfico 2: Proporción por AdoptionSpeed\n",
    "\t- A medida que AdoptionSpeed aumenta (más lenta la adopción), también aumenta la proporción de mascotas desparasitadas.\n",
    "\t- Las no desparasitadas y desconocidas tienen proporciones más altas en las categorías de adopción más rápida (0, 1, 2).\n",
    "\n",
    "    - Este patrón puede parecer contraintuitivo, ya que esperaríamos que las mascotas desparasitadas fueran adoptadas más rápido. Sin embargo, puede reflejar:\n",
    "\t- Un sesgo de registro (es más probable que se registre la desparasitación cuando el animal permanece más tiempo).\n",
    "\t- O que otros factores (como salud, edad, raza) estén afectando la adopción más que esta variable sola.\n",
    "\n",
    "- Conclusión general del análisis de Dewormed\n",
    "\t- A pesar de lo esperable, la desparasitación no parece asociarse directamente a adopción más rápida.\n",
    "\t- Es probable que esta variable sea más útil en combinación con otras variables sanitarias (Vaccinated, Sterilized, Health).\n",
    "\t- El subgrupo “Not Sure” debería tratarse con cuidado: puede imputarse, eliminarse o reagruparse.\n"
   ]
  },
  {
   "cell_type": "markdown",
   "id": "e4dab143",
   "metadata": {},
   "source": [
    "## Con `Sterilized`"
   ]
  },
  {
   "cell_type": "code",
   "execution_count": null,
   "id": "bb30f1dc",
   "metadata": {},
   "outputs": [],
   "source": [
    "df['Sterilized'].value_counts()"
   ]
  },
  {
   "cell_type": "code",
   "execution_count": null,
   "id": "7c4fda10",
   "metadata": {},
   "outputs": [],
   "source": [
    "# Gráfico de barras agrupadas\n",
    "plt.figure(figsize=(8,6))\n",
    "sns.countplot(data=df, x='AdoptionSpeed', hue='Sterilized')\n",
    "plt.title('Distribución de AdoptionSpeed por Sterilized')\n",
    "plt.xlabel('AdoptionSpeed')\n",
    "plt.ylabel('Conteo')\n",
    "plt.legend(title='Sterilized', labels=['Si', 'No', 'Not Sure'])  # Ajusta según la codificación real\n",
    "plt.show()\n",
    "\n",
    "# Gráfico de barras de proporciones\n",
    "adoption_Sterilized_ct = pd.crosstab(df['AdoptionSpeed'], df['Sterilized'], normalize='index')\n",
    "adoption_Sterilized_ct.plot(kind='bar', stacked=True, figsize=(8,6))\n",
    "plt.title('Proporción de AdoptionSpeed por Sterilized')\n",
    "plt.xlabel('AdoptionSpeed')\n",
    "plt.ylabel('Proporción')\n",
    "plt.legend(title='Sterilized', labels=['Si', 'No', 'Not Sure'])  # Ajusta según la codificación real\n",
    "plt.show()"
   ]
  },
  {
   "cell_type": "markdown",
   "id": "ff61e574",
   "metadata": {},
   "source": [
    "#### Consideraciones\n",
    "\n",
    "Estos gráficos analizan cómo el estado de esterilización (Sterilized) afecta la velocidad de adopción (AdoptionSpeed), tanto en conteos absolutos como en proporciones. \n",
    "\n",
    "- Gráfico 1: Conteo absoluto por Sterilized\n",
    "\t- La mayoría de las mascotas no están esterilizadas (“No”), dominando ampliamente todos los valores de AdoptionSpeed.\n",
    "\t- Las esterilizadas (“Sí”) son mucho menos frecuentes, aunque aumentan su conteo hacia las adopciones más lentas.\n",
    "\t- El grupo “Not Sure” tiene menor representación, pero se mantiene en todos los niveles.\n",
    "\n",
    "    - La mayoría de los animales del dataset no están esterilizados, lo que puede reflejar la realidad del refugio o limitaciones logísticas.\n",
    "\n",
    "- Gráfico 2: Proporción por Sterilized\n",
    "\t- A pesar del bajo número absoluto, las mascotas esterilizadas ganan proporción en los niveles más lentos de AdoptionSpeed (categoría 4).\n",
    "\t- En adopciones rápidas (0, 1, 2), la proporción de no esterilizados es aún más elevada.\n",
    "\n",
    "    - Esto sugiere que la esterilización no se asocia con adopciones más rápidas. Incluso, puede estar ocurriendo después de un tiempo en el refugio, lo cual invertiría la relación causa-efecto.\n",
    "\n",
    "- Conclusión general del análisis de Sterilized\n",
    "\t- Aunque intuitivamente la esterilización debería facilitar la adopción, en este dataset se asocia con mayores tiempos de espera.\n",
    "\t- Puede estar indicando que se esteriliza a los animales luego de estar mucho tiempo en adopción, o que los refugios la priorizan en animales difíciles de adoptar.\n"
   ]
  },
  {
   "cell_type": "markdown",
   "id": "60e27401",
   "metadata": {},
   "source": [
    "## Con `Health`"
   ]
  },
  {
   "cell_type": "code",
   "execution_count": null,
   "id": "5aefafcf",
   "metadata": {},
   "outputs": [],
   "source": [
    "df['Health'].value_counts()"
   ]
  },
  {
   "cell_type": "code",
   "execution_count": null,
   "id": "d7fd1dde",
   "metadata": {},
   "outputs": [],
   "source": [
    "# Gráfico de barras agrupadas\n",
    "plt.figure(figsize=(8,6))\n",
    "sns.countplot(data=df, x='AdoptionSpeed', hue='Health')\n",
    "plt.title('Distribución de AdoptionSpeed por Health')\n",
    "plt.xlabel('AdoptionSpeed')\n",
    "plt.ylabel('Conteo')\n",
    "plt.legend(title='Health', labels=['Healthy', 'Minor', 'Serious'])  # Ajusta según la codificación real\n",
    "plt.show()\n",
    "\n",
    "# Gráfico de barras de proporciones\n",
    "adoption_Health_ct = pd.crosstab(df['AdoptionSpeed'], df['Health'], normalize='index')\n",
    "adoption_Health_ct.plot(kind='bar', stacked=True, figsize=(8,6))\n",
    "plt.title('Proporción de AdoptionSpeed por Health')\n",
    "plt.xlabel('AdoptionSpeed')\n",
    "plt.ylabel('Proporción')\n",
    "plt.legend(title='Health', labels=['Healthy', 'Minor', 'Serious'])  # Ajusta según la codificación real\n",
    "plt.show()"
   ]
  },
  {
   "cell_type": "markdown",
   "id": "b1a8087b",
   "metadata": {},
   "source": [
    "#### Consideraciones\n",
    "\n",
    "Estos gráficos muestran la relación entre la condición de salud (Health) de las mascotas y la velocidad de adopción (AdoptionSpeed), tanto en valores absolutos como proporcionales. \n",
    "\n",
    "- Gráfico 1: Distribución absoluta\n",
    "\t- La inmensa mayoría de los animales están etiquetados como “Healthy” (saludables), lo cual domina todas las clases de AdoptionSpeed.\n",
    "\t- Los casos “Minor” (problemas de salud menores) y “Serious” (problemas graves) son muy pocos en comparación.\n",
    "\t- Aun así, incluso entre animales saludables, hay gran presencia en las categorías más lentas de adopción (3 y 4).\n",
    "\n",
    "    - La gran mayoría del dataset está en buen estado de salud. Las mascotas con problemas de salud son muy pocas y no se concentran exclusivamente en las adopciones más lentas.\n",
    "\n",
    "- Gráfico 2: Proporciones por AdoptionSpeed\n",
    "\t- En todas las clases de AdoptionSpeed, el grupo “Healthy” supera el 95%.\n",
    "\t- “Minor” representa una proporción muy pequeña (alrededor del 3–4%) y “Serious” es prácticamente marginal (menos del 1%).\n",
    "\n",
    "    - No hay una variación proporcional clara en función del estado de salud. Es posible que esta variable tenga poca capacidad discriminativa debido a su fuerte desbalance.\n",
    "\n",
    "- Conclusión general del análisis de Health\n",
    "\t- Aunque médicamente relevante, esta variable está muy desbalanceada (clase mayoritaria abrumadora).\n",
    "\t- Su capacidad predictiva puede ser limitada salvo que se apliquen técnicas para balanceo o codificación adecuada.\n",
    "\t- Si se decide incluirla, probablemente lo más útil sea transformarla en una variable binaria (saludable vs no saludable).\n"
   ]
  },
  {
   "cell_type": "markdown",
   "id": "ef60adff",
   "metadata": {},
   "source": [
    "## Con `Fee` (segmentada)"
   ]
  },
  {
   "cell_type": "code",
   "execution_count": null,
   "id": "455a7852",
   "metadata": {
    "scrolled": true
   },
   "outputs": [],
   "source": [
    "df['Fee_gratis'] = np.where(df['Fee']==0, 1, 0)\n",
    "df['Fee_gratis'].value_counts()"
   ]
  },
  {
   "cell_type": "code",
   "execution_count": null,
   "id": "99e590ab",
   "metadata": {},
   "outputs": [],
   "source": [
    "# Gráfico de barras agrupadas\n",
    "plt.figure(figsize=(8,6))\n",
    "sns.countplot(data=df, x='AdoptionSpeed', hue='Fee_paga')\n",
    "plt.title('Distribución de AdoptionSpeed por Fee_paga')\n",
    "plt.xlabel('AdoptionSpeed')\n",
    "plt.ylabel('Conteo')\n",
    "plt.legend(title='Fee_paga', labels=['paga', 'Gratis'])  # Ajusta según la codificación real\n",
    "plt.show()\n",
    "\n",
    "# Gráfico de barras de proporciones\n",
    "adoption_Health_ct = pd.crosstab(df['AdoptionSpeed'], df['Fee_paga'], normalize='index')\n",
    "adoption_Health_ct.plot(kind='bar', stacked=True, figsize=(8,6))\n",
    "plt.title('Proporción de AdoptionSpeed por Fee_paga')\n",
    "plt.xlabel('AdoptionSpeed')\n",
    "plt.ylabel('Proporción')\n",
    "plt.legend(title='Fee_gratis', labels=['Paga', 'Gratis'])  # Ajusta según la codificación real\n",
    "plt.show()"
   ]
  },
  {
   "cell_type": "markdown",
   "id": "807e6145",
   "metadata": {},
   "source": [
    "#### Consideraciones\n",
    "\n",
    "Estos gráficos muestran la relación entre si una mascota fue listada con tarifa de adopción (Fee_paga) o no, y su velocidad de adopción (AdoptionSpeed). \n",
    "\n",
    "- Gráfico 1: Distribución absoluta\n",
    "\t- La mayoría de las mascotas son gratuitas (etiquetadas como “Gratis”), y predominan claramente en todos los niveles de AdoptionSpeed, especialmente en las clases más lentas (2, 3, 4).\n",
    "\t- Las mascotas con tarifa (“Paga”) tienen presencia mucho menor, aunque están distribuidas en todos los niveles, con cierta concentración en clases intermedias (1 y 2).\n",
    "\n",
    "    - La adopción gratuita es ampliamente más frecuente, pero esto puede reflejar un sesgo de entrada (la mayoría son listadas gratis).\n",
    "\n",
    "- Gráfico 2: Proporciones por AdoptionSpeed\n",
    "\t- La proporción de mascotas gratuitas supera el 85% en todas las categorías.\n",
    "\t- No se observan variaciones proporcionales importantes entre AdoptionSpeed = 0 (adopción inmediata) y 4 (muy lenta).\n",
    "\n",
    "    - Aunque más comunes, las mascotas gratuitas no parecen tener ventajas proporcionales claras en la velocidad de adopción. Es decir, ser gratis no garantiza adopción más rápida.\n",
    "\n",
    "- Conclusión general del análisis de Fee_paga\n",
    "\t- La variable está fuertemente desbalanceada hacia “Gratis”.\n",
    "\t- No parece ser un factor determinante en la velocidad de adopción por sí sola.\n",
    "\t- Puede tener valor predictivo combinado con variables como Breed, Health o PhotoAmt, si se interpretara como señal de “valor percibido”.\n"
   ]
  },
  {
   "cell_type": "markdown",
   "id": "c0590ea8",
   "metadata": {},
   "source": [
    "## Con `Quantity` (segmentada)"
   ]
  },
  {
   "cell_type": "code",
   "execution_count": null,
   "id": "b30b681f",
   "metadata": {},
   "outputs": [],
   "source": [
    "df['Quantity_1'] = np.where(df['Quantity']==1, 'Uno', 'Camada')\n",
    "df['Quantity_1'].value_counts()"
   ]
  },
  {
   "cell_type": "code",
   "execution_count": null,
   "id": "1825a0f5",
   "metadata": {},
   "outputs": [],
   "source": [
    "# Gráfico de barras agrupadas\n",
    "plt.figure(figsize=(8,6))\n",
    "sns.countplot(data=df, x='AdoptionSpeed', hue='Quantity_1')\n",
    "plt.title('Distribución de AdoptionSpeed por Quantity')\n",
    "plt.xlabel('AdoptionSpeed')\n",
    "plt.ylabel('Conteo')\n",
    "plt.legend(title='Fee_gratis', labels=['Uno', 'Más de Uno'])  # Ajusta según la codificación real\n",
    "plt.show()\n",
    "\n",
    "# Gráfico de barras de proporciones\n",
    "adoption_Health_ct = pd.crosstab(df['AdoptionSpeed'], df['Quantity_1'], normalize='index')\n",
    "adoption_Health_ct.plot(kind='bar', stacked=True, figsize=(8,6))\n",
    "plt.title('Proporción de AdoptionSpeed por Quantity')\n",
    "plt.xlabel('AdoptionSpeed')\n",
    "plt.ylabel('Proporción')\n",
    "plt.legend(title='Quantity_1', labels=['Uno', 'Más de Uno'])  # Ajusta según la codificación real\n",
    "plt.show()"
   ]
  },
  {
   "cell_type": "markdown",
   "id": "1f45ed2f",
   "metadata": {},
   "source": [
    "#### Consideraciones\n",
    "\n",
    "Estos gráficos analizan cómo influye la cantidad de mascotas listadas en un mismo anuncio (Quantity) sobre la velocidad de adopción (AdoptionSpeed), considerando si se trata de una sola mascota o más de una.\n",
    "\n",
    "- Gráfico 1: Conteo absoluto\n",
    "\t- Las publicaciones con una sola mascota son mucho más frecuentes en todos los niveles de AdoptionSpeed.\n",
    "\t- Las publicaciones con más de una mascota están presentes, pero en menor proporción, con distribución más estable en todas las categorías.\n",
    "\t- Se observa que ambas categorías aparecen en los extremos (adopción inmediata y muy lenta), pero los anuncios individuales dominan claramente.\n",
    "\n",
    "    - Las publicaciones individuales son mayoría, lo que puede reflejar preferencia de refugios o restricciones del sistema.\n",
    "\n",
    "- Gráfico 2: Proporciones por Quantity\n",
    "\t- Aproximadamente 80% o más de los anuncios son de una sola mascota, con proporciones levemente mayores en adopciones lentas.\n",
    "\t- Las publicaciones múltiples tienen un comportamiento ligeramente más favorable en adopciones rápidas (0 y 1), aunque la diferencia es pequeña.\n",
    "\n",
    "    - Aunque los anuncios individuales son mayoría, las publicaciones con más de una mascota parecen tener una leve ventaja en adopciones rápidas, lo cual podría explicarse por:\n",
    "        - Grupos de cachorros o camadas que se adoptan juntos.\n",
    "        - Sensación de urgencia por parte de adoptantes ante publicaciones de múltiples animales.\n",
    "\n",
    "- Conclusión general del análisis de Quantity\n",
    "    - Es una variable interesante porque podría reflejar contextos específicos de adopción (masiva, urgente, accidental).\n",
    "\t- Aporta valor si se la cruza con variables como edad (Age), tipo (Type) o condición de salud.\n"
   ]
  },
  {
   "cell_type": "markdown",
   "id": "a320a34e",
   "metadata": {},
   "source": [
    "## Con `PhotoAmt` y `VideoAmt` "
   ]
  },
  {
   "cell_type": "code",
   "execution_count": null,
   "id": "f9660714",
   "metadata": {},
   "outputs": [],
   "source": [
    "sns.boxplot(data=df, x='AdoptionSpeed', y='PhotoAmt')\n",
    "plt.title('Cantidad de fotos por velocidad de adopción')\n",
    "plt.show()\n",
    "\n",
    "sns.countplot(data=df[df['VideoAmt'] > 0], x='AdoptionSpeed')\n",
    "plt.title('Mascotas con videos por velocidad de adopción')\n",
    "plt.show()\n"
   ]
  },
  {
   "cell_type": "markdown",
   "id": "75819508",
   "metadata": {},
   "source": [
    "#### Consideraciones\n",
    "\n",
    "Estos gráficos analizan cómo dos variables visuales clave —cantidad de fotos (PhotoAmt) y presencia de videos (VideoAmt)— se relacionan con la velocidad de adopción (AdoptionSpeed). \n",
    "\n",
    "- Gráfico 1: Cantidad de fotos por AdoptionSpeed (boxplot)\n",
    "\t- El número de fotos por mascota tiende a estar entre 3 y 5, sin grandes diferencias entre categorías de adopción.\n",
    "\t- Todas las clases presentan outliers con hasta 30 fotos, lo que indica gran variabilidad.\n",
    "\t- La mediana de fotos parece levemente mayor en clases intermedias (2 y 3).\n",
    "\n",
    "    - No hay una diferencia clara que relacione mayor cantidad de fotos con adopción más rápida, aunque un número muy bajo (0–1 fotos) podría jugar en contra.\n",
    "\n",
    "- Gráfico 2: Presencia de videos por AdoptionSpeed\n",
    "\t•\tLas mascotas con video son más frecuentes en adopciones intermedias (1, 2, 3).\n",
    "\t•\tLa mayor cantidad se da en AdoptionSpeed = 2.\n",
    "\t•\tLa presencia cae en 0 (adopción inmediata) y también en 4 (más lenta), lo que podría deberse a extremos menos frecuentes o condiciones distintas.\n",
    "\n",
    "    - Tener video podría correlacionarse con adopción más eficiente, aunque esto no necesariamente implica causalidad. También puede reflejar mayor esfuerzo del refugio en casos moderados (ni urgentes ni olvidados).\n",
    "\n",
    "- Conclusión general del análisis visual\n",
    "\t•\tTanto PhotoAmt como VideoAmt son indicadores valiosos del nivel de esfuerzo visual puesto en la publicación.\n",
    "\t•\tIncluir estos elementos puede aumentar el interés del adoptante, aunque no garantizan adopción rápida.\n",
    "\t•\tPodrían usarse como variables transformadas o categorizadas (por ejemplo: “0 fotos”, “1–4 fotos”, “5+ fotos”; “con video / sin video”).\n"
   ]
  },
  {
   "cell_type": "markdown",
   "id": "5825414d",
   "metadata": {},
   "source": [
    "## Con `VideoAmt` "
   ]
  },
  {
   "cell_type": "code",
   "execution_count": null,
   "id": "b77a6a5e",
   "metadata": {},
   "outputs": [],
   "source": [
    "sns.boxplot(data=df, x='AdoptionSpeed', y='PhotoAmt')\n",
    "plt.title('Cantidad de fotos por velocidad de adopción')\n",
    "plt.show()\n",
    "\n",
    "sns.countplot(data=df[df['VideoAmt'] > 0], x='AdoptionSpeed')\n",
    "plt.title('Mascotas con videos por velocidad de adopción')\n",
    "plt.show()\n"
   ]
  },
  {
   "cell_type": "markdown",
   "id": "a332be6b",
   "metadata": {},
   "source": [
    "## Relación con AdoptionSpeed y Type\n",
    "### Con `Gender`"
   ]
  },
  {
   "cell_type": "code",
   "execution_count": null,
   "id": "ee9768cd",
   "metadata": {},
   "outputs": [],
   "source": [
    "# Crear tabla cruzada con proporciones\n",
    "tabla = pd.crosstab(index=[df['AdoptionSpeed']], columns=[df['Gender'], df['Type']], normalize='index')\n",
    "tabla.plot(kind='bar', stacked=True, figsize=(12, 6))\n",
    "plt.title('Proporción de Gender y Type según AdoptionSpeed')\n",
    "plt.ylabel('Proporción')\n",
    "plt.show()"
   ]
  },
  {
   "cell_type": "markdown",
   "id": "5a9e8154",
   "metadata": {},
   "source": [
    "#### Consideraciones\n",
    "\n",
    "Este gráfico representa la proporción conjunta de Gender y Type (especie) dentro de cada categoría de AdoptionSpeed. Es decir, muestra qué combinación de género y tipo de animal es más frecuente según la velocidad de adopción. \n",
    "\n",
    "- Leyenda para interpretar (Gender, Type)\n",
    "\t- Gender:\n",
    "        1 = Male, 2 = Female, 3 = Other\n",
    "\t- Type:\n",
    "        1 = Dog, 2 = Cat\n",
    "\n",
    "- Observaciones clave:\n",
    "\t1.\tPerros hembras (2,1) y perros machos (1,1) son los grupos más representativos, especialmente en adopciones intermedias (1, 2, 3).\n",
    "        - Esto sugiere que los perros, especialmente las hembras, tienen una mayor proporción en adopciones rápidas y moderadas.\n",
    "\t2.\tGatos (Type=2) en general (ya sean machos o hembras) tienen menor proporción en adopciones rápidas (0, 1) y aumentan en adopciones más lentas (3, 4).\n",
    "        - Esto confirma el patrón observado previamente: los gatos suelen demorar más en ser adoptados.\n",
    "\t3.\tEl grupo Other (Gender = 3), tanto en perros como en gatos, es muy minoritario, pero su proporción se mantiene estable o incluso levemente creciente en adopciones lentas.\n",
    "\n",
    "Conclusión:\n",
    "- Existe un efecto combinado entre género y especie sobre la velocidad de adopción.\n",
    "- Los perros hembras (2,1) son los más rápidamente adoptados, seguidos por los perros machos (1,1).\n",
    "- Los gatos, especialmente machos, tienen menor adopción temprana.\n",
    "- Este tipo de análisis es útil para la generación de variables compuestas (Gender_Type) o para introducir interacciones en modelos predictivos.\n"
   ]
  },
  {
   "cell_type": "markdown",
   "id": "c1db6905",
   "metadata": {},
   "source": [
    "### Con `Age`"
   ]
  },
  {
   "cell_type": "code",
   "execution_count": null,
   "id": "874d9d25",
   "metadata": {},
   "outputs": [],
   "source": [
    "# Crear categorías de edad en meses\n",
    "bins = [0, 3, 6, 12, 36, 120]  # bebés, cachorros, jóvenes, adultos, mayores\n",
    "labels = ['0-3m', '4-6m', '7-12m', '1-3y', '3-10y']\n",
    "df['AgeGroup'] = pd.cut(df['Age'], bins=bins, labels=labels, right=False)"
   ]
  },
  {
   "cell_type": "code",
   "execution_count": null,
   "id": "220a012a",
   "metadata": {},
   "outputs": [],
   "source": [
    "df['Age_Type'] = df['AgeGroup'].astype(str) + '-' + df['Type'].astype(str)"
   ]
  },
  {
   "cell_type": "code",
   "execution_count": null,
   "id": "30548aa5",
   "metadata": {},
   "outputs": [],
   "source": [
    "# Tabla cruzada proporcional\n",
    "tabla_age_type = pd.crosstab(index=df['AdoptionSpeed'], columns=df['Age_Type'], normalize='index')\n",
    "\n",
    "# Gráfico\n",
    "tabla_age_type.plot(kind='bar', stacked=True, figsize=(14, 6), colormap='tab20')\n",
    "plt.title('Proporción de grupos de Edad y Tipo según AdoptionSpeed')\n",
    "plt.ylabel('Proporción')\n",
    "plt.xlabel('AdoptionSpeed')\n",
    "plt.legend(title='(AgeGroup-Type)', bbox_to_anchor=(1.05, 1), loc='upper left')\n",
    "plt.tight_layout()\n",
    "plt.show()"
   ]
  },
  {
   "cell_type": "markdown",
   "id": "a36667c1",
   "metadata": {},
   "source": [
    "#### Consideraciones\n",
    "\n",
    "Este gráfico muestra las proporciones combinadas de grupo de edad (AgeGroup) y especie (Type) dentro de cada categoría de velocidad de adopción (AdoptionSpeed). \n",
    "\n",
    "- Leyenda (AgeGroup-Type)\n",
    "\t•\tEjemplo: 0-3m-1 = Mascotas de 0 a 3 meses que son perros (Type = 1)\n",
    "\t•\t0-3m-2 = Gatos de 0 a 3 meses\n",
    "\t•\t3-10y-1 = Perros de 3 a 10 años\n",
    "\t•\tnan-1 / nan-2 = edad no disponible para perros/gatos\n",
    "\n",
    "- Observaciones relevantes:\n",
    "\t1.\tLas mascotas más jóvenes (0–3 meses) son más representadas en adopciones rápidas (0 y 1), especialmente:\n",
    "        - Gatos 0–3m (0-3m-2) son los más frecuentes en AdoptionSpeed = 0, lo cual refuerza la hipótesis de que los gatitos pequeños son muy adoptables.\n",
    "\t2.\tLos perros adultos (3–10 años) (3-10y-1) y gatos adultos (3-10y-2) aumentan en adopciones más lentas (3 y 4).\n",
    "        - Esto indica que las mascotas mayores, en especial los perros grandes, tienen mayores dificultades para ser adoptados rápidamente.\n",
    "\t3.\tMascotas de edad intermedia (4–6 meses y 7–12 meses) se distribuyen relativamente bien en todas las categorías, sin sesgo claro.\n",
    "\t4.\tPerros jóvenes (0–3m y 4–6m) tienen representación creciente en AdoptionSpeed = 2 y 3, lo que sugiere que no siempre son adoptados tan rápido como los gatos de la misma edad.\n",
    "\n",
    "- Conclusión final del cruce AgeGroup × Type × AdoptionSpeed\n",
    "\t- La edad es uno de los factores más influyentes en la velocidad de adopción.\n",
    "\t- Gatitos pequeños (<3 meses) tienen alta adopción inmediata.\n",
    "\t- Mascotas adultas (3–10 años), especialmente perros, enfrentan mayores demoras.\n",
    "\t- La especie modula el efecto de la edad: los gatos pequeños superan en velocidad a los perros pequeños.\n",
    "\n"
   ]
  },
  {
   "cell_type": "markdown",
   "id": "021f21ae",
   "metadata": {},
   "source": [
    "### Con `Color`"
   ]
  },
  {
   "cell_type": "code",
   "execution_count": null,
   "id": "61bbac1f",
   "metadata": {},
   "outputs": [],
   "source": [
    "df.color_n.value_counts().sort_index(ascending = True)"
   ]
  },
  {
   "cell_type": "code",
   "execution_count": null,
   "id": "c27f0e56",
   "metadata": {},
   "outputs": [],
   "source": [
    "# Suponiendo que Color1, Color2 y Color3 son numéricos y 0 representa 'sin color'\n",
    "df['color_n'] = 1  # por defecto monocromo\n",
    "\n",
    "df.loc[(df['Color2'] != 0) & (df['Color3'] == 0), 'color_n'] = 2  # bicolor\n",
    "df.loc[(df['Color2'] != 0) & (df['Color3'] != 0), 'color_n'] = 3  # tricolor\n",
    "\n",
    "# Mapear a etiquetas\n",
    "df['color_tipo'] = df['color_n'].map({1: 'Monocromo', 2: 'Bicolor', 3: 'Tricolor'})"
   ]
  },
  {
   "cell_type": "code",
   "execution_count": null,
   "id": "5262d44e",
   "metadata": {},
   "outputs": [],
   "source": [
    "import seaborn as sns\n",
    "import matplotlib.pyplot as plt\n",
    "\n",
    "# Proporción por tipo de color y AdoptionSpeed\n",
    "color_prop = pd.crosstab(index=df['AdoptionSpeed'], columns=df['color_n'], normalize='index')\n",
    "\n",
    "plt.figure(figsize=(10, 6))\n",
    "color_prop.plot(kind='bar', stacked=True, colormap='Set2')\n",
    "plt.title('Proporción de Color (Monocromo/Bicolor/Tricolor) por AdoptionSpeed')\n",
    "plt.ylabel('Proporción')\n",
    "plt.xlabel('AdoptionSpeed')\n",
    "plt.legend(title='Tipo de Color')\n",
    "plt.tight_layout()\n",
    "plt.show();"
   ]
  },
  {
   "cell_type": "markdown",
   "id": "ede4ec75",
   "metadata": {},
   "source": [
    "#### Consideraciones\n",
    "\n",
    "Este gráfico muestra cómo se distribuyen los tipos de color (monocromo, bicolor, tricolor) en función de la velocidad de adopción (AdoptionSpeed). \n",
    "\n",
    "- Observaciones clave\n",
    "\t1.\tBicolores (2) son el grupo más representado en todos los niveles de AdoptionSpeed, especialmente entre los valores intermedios (1, 2, 3).\n",
    "\t- Interpretación: El bicolor es el patrón más común y mantiene una distribución estable, lo cual puede reflejar tanto disponibilidad como una estética preferida por adoptantes.\n",
    "\t2.\tTricolores (3) no muestran una ventaja clara en adopciones rápidas (0, 1), y su proporción incluso cae levemente en AdoptionSpeed = 1 y 2.\n",
    "\t- Interpretación: A pesar de que los tricolores podrían parecer más llamativos, no parecen adoptarse más rápido.\n",
    "\t3.\tMonocromos (1) tienen una proporción más baja en todos los niveles, pero ligeramente más alta en adopciones lentas (4).\n",
    "\t- Interpretación: Las mascotas de un solo color podrían percibirse como menos atractivas, afectando la velocidad de adopción.\n",
    "\n",
    "- Conclusión general\n",
    "\t•\tAunque el color parece influir en la percepción, no se observan diferencias extremas.\n",
    "\t•\tBicolores son los más comunes y estables.\n",
    "\t•\tMonocromos podrían estar levemente desventajados.\n",
    "\t•\tEsta variable puede aportar información adicional cuando se combina con otras variables como edad, raza o tamaño.\n"
   ]
  },
  {
   "cell_type": "markdown",
   "id": "43196cd4",
   "metadata": {},
   "source": [
    "### Con `Breed1`y `Breed2`"
   ]
  },
  {
   "cell_type": "code",
   "execution_count": null,
   "id": "2997df66",
   "metadata": {},
   "outputs": [],
   "source": [
    "df['MixedBreed'] = (df['Breed2'] != 0).astype(int)  # 0 = pura, 1 = mezcla"
   ]
  },
  {
   "cell_type": "code",
   "execution_count": null,
   "id": "59e12a23",
   "metadata": {},
   "outputs": [],
   "source": [
    "import seaborn as sns\n",
    "import matplotlib.pyplot as plt\n",
    "\n",
    "sns.countplot(x='AdoptionSpeed', hue='MixedBreed', data=df)\n",
    "plt.title('AdoptionSpeed según si es Raza Pura o Mezcla')\n",
    "plt.legend(title='MixedBreed', labels=['Pura', 'Mezcla'])\n",
    "plt.show()"
   ]
  },
  {
   "cell_type": "code",
   "execution_count": null,
   "id": "25d46d2e",
   "metadata": {},
   "outputs": [],
   "source": [
    "breed_cross = pd.crosstab(df['Breed1'], df['Breed2'])"
   ]
  },
  {
   "cell_type": "code",
   "execution_count": null,
   "id": "f8b351a0",
   "metadata": {},
   "outputs": [],
   "source": [
    "plt.figure(figsize=(12, 8))\n",
    "sns.heatmap(breed_cross, cmap='viridis', cbar=True)\n",
    "plt.title('Frecuencia conjunta de Breed1 y Breed2')\n",
    "plt.xlabel('Breed2')\n",
    "plt.ylabel('Breed1')\n",
    "plt.show()"
   ]
  },
  {
   "cell_type": "code",
   "execution_count": null,
   "id": "c9cb82fc",
   "metadata": {},
   "outputs": [],
   "source": [
    "top_mix = df[df['MixedBreed'] == 1].groupby(['BreedName1', 'BreedName2']).size().reset_index(name='count').sort_values(by='count', ascending=False).head(10)"
   ]
  },
  {
   "cell_type": "code",
   "execution_count": null,
   "id": "f888e6e7",
   "metadata": {},
   "outputs": [],
   "source": [
    "df = df.merge(breed_cross.rename(columns={'BreedID': 'Breed1', 'BreedName': 'BreedName1'}), on='Breed1', how='left')\n",
    "df = df.merge(breed_cross.rename(columns={'BreedID': 'Breed2', 'BreedName': 'BreedName2'}), on='Breed2', how='left')"
   ]
  },
  {
   "cell_type": "code",
   "execution_count": null,
   "id": "14023784",
   "metadata": {},
   "outputs": [],
   "source": [
    "top_mix"
   ]
  },
  {
   "cell_type": "code",
   "execution_count": null,
   "id": "48b1816e",
   "metadata": {},
   "outputs": [],
   "source": [
    "top_breeds = df['BreedName1'].value_counts().head(10).index.tolist()\n",
    "df_top = df[df['BreedName1'].isin(top_breeds)]"
   ]
  },
  {
   "cell_type": "markdown",
   "id": "e26d3ca6",
   "metadata": {},
   "source": [
    "###### Análisis multivariado"
   ]
  },
  {
   "cell_type": "code",
   "execution_count": null,
   "id": "c855b8e7",
   "metadata": {},
   "outputs": [],
   "source": [
    "import seaborn as sns\n",
    "import matplotlib.pyplot as plt\n",
    "\n",
    "plt.figure(figsize=(14, 6))\n",
    "sns.countplot(x='AdoptionSpeed', hue='BreedName1', data=df_top[df_top['Type'] == 1])\n",
    "plt.title('Distribución de AdoptionSpeed por Raza (Perros)')\n",
    "plt.legend(title='Raza principal', bbox_to_anchor=(1.05, 1), loc='upper left')\n",
    "plt.tight_layout()\n",
    "plt.show()\n",
    "\n",
    "plt.figure(figsize=(14, 6))\n",
    "sns.countplot(x='AdoptionSpeed', hue='BreedName1', data=df_top[df_top['Type'] == 2])\n",
    "plt.title('Distribución de AdoptionSpeed por Raza (Gatos)')\n",
    "plt.legend(title='Raza principal', bbox_to_anchor=(1.05, 1), loc='upper left')\n",
    "plt.tight_layout()\n",
    "plt.show()"
   ]
  },
  {
   "cell_type": "code",
   "execution_count": null,
   "id": "c788ec91",
   "metadata": {},
   "outputs": [],
   "source": [
    "tabla = pd.crosstab(index=[df_top['AdoptionSpeed']], columns=[df_top['BreedName1'], df_top['Type']], normalize='index')\n",
    "tabla.plot(kind='bar', stacked=True, figsize=(14, 6), colormap='tab20')\n",
    "plt.title('Proporción conjunta de Raza principal y Tipo por AdoptionSpeed')\n",
    "plt.ylabel('Proporción')\n",
    "plt.tight_layout()\n",
    "plt.show()"
   ]
  },
  {
   "cell_type": "markdown",
   "id": "509df9f7",
   "metadata": {},
   "source": [
    "Análisis cruzado de Breed1 × AdoptionSpeed × Type, agrupando perros y gatos por raza:\n",
    "\n",
    "- Gráfico 1: Perros (Type = 1)\n",
    "\t- Mixed Breed domina ampliamente todas las categorías de AdoptionSpeed, en especial las más lentas (3 y 4).\n",
    "\t- Razas como Shih Tzu, Poodle y Labrador Retriever tienen presencia moderada y una leve inclinación hacia adopciones más rápidas (1, 2).\n",
    "\t- Interpretación: Los perros de raza reconocible tienden a tener adopciones algo más rápidas que los de raza mixta.\n",
    "\n",
    "- Gráfico 2: Gatos (Type = 2)\n",
    "\t- Domestic Short Hair es la raza más dominante, especialmente en adopciones lentas (3, 4).\n",
    "\t- Domestic Medium Hair y Long Hair siguen en frecuencia, con un comportamiento bastante parejo.\n",
    "\t- Razas como Persian y Siamese tienen menor representación, pero tienden a concentrarse más en adopciones tempranas.\n",
    "\n",
    "- En gatos también se ve que las razas más comunes tienen mayor volumen y adopciones más lentas, mientras que razas más “especiales” parecen tener adopciones más eficientes.\n",
    "\n",
    "- Gráfico 3: Proporción conjunta (BreedName1 × Type) por AdoptionSpeed\n",
    "\t- Aquí se confirma que:\n",
    "\t- Mixed Breed, Domestic Short Hair y Medium Hair ocupan gran parte de los registros.\n",
    "\t- Razas como Shih Tzu, Poodle y Persian representan una fracción pequeña, pero se concentran más en adopciones rápidas (0, 1).\n",
    "\t- Esto sugiere una posible preferencia del adoptante por razas más definidas o estéticas.\n",
    "\n",
    "- Conclusión general\n",
    "\t•\tLa raza principal (Breed1) y el tipo (Type) influyen claramente en la velocidad de adopción.\n",
    "\t•\tRazas mixtas y comunes tienden a permanecer más tiempo en adopción.\n",
    "\t•\tRazas pequeñas y reconocidas (en perros) o exóticas (en gatos) parecen tener adopciones más rápidas.\n"
   ]
  },
  {
   "cell_type": "markdown",
   "id": "2bc860e1",
   "metadata": {},
   "source": [
    "### Con `MaturitySize`"
   ]
  },
  {
   "cell_type": "code",
   "execution_count": null,
   "id": "747f0881",
   "metadata": {},
   "outputs": [],
   "source": [
    "import seaborn as sns\n",
    "import matplotlib.pyplot as plt\n",
    "\n",
    "plt.figure(figsize=(10, 6))\n",
    "sns.countplot(x='AdoptionSpeed', hue='MaturitySize_df', data=df[df['Type'] == 1])\n",
    "plt.title('AdoptionSpeed por MaturitySize (Perros)')\n",
    "plt.ylabel('Cantidad')\n",
    "plt.xlabel('AdoptionSpeed')\n",
    "plt.legend(title='Tamaño')\n",
    "plt.show()"
   ]
  },
  {
   "cell_type": "code",
   "execution_count": null,
   "id": "91e85ee6",
   "metadata": {},
   "outputs": [],
   "source": [
    "plt.figure(figsize=(10, 6))\n",
    "sns.countplot(x='AdoptionSpeed', hue='MaturitySize_df', data=df[df['Type'] == 2])\n",
    "plt.title('AdoptionSpeed por MaturitySize (Gatos)')\n",
    "plt.ylabel('Cantidad')\n",
    "plt.xlabel('AdoptionSpeed')\n",
    "plt.legend(title='Tamaño')\n",
    "plt.show()"
   ]
  },
  {
   "cell_type": "markdown",
   "id": "cfae280d",
   "metadata": {},
   "source": [
    "#### Consideraciones\n",
    "\n",
    "Interpretación cruzada de MaturitySize × AdoptionSpeed × Type usando los dos gráficos realizados:\n",
    "\n",
    "- Gráfico 1: Perros (Type = 1)\n",
    "    - Distribución de MaturitySize por AdoptionSpeed:\n",
    "        - Tamaño mediano domina ampliamente todos los niveles de velocidad de adopción.\n",
    "        - Los perros pequeños tienen una presencia moderada, y tienden a concentrarse más en adopciones rápidas (1, 2).\n",
    "        - Los perros grandes y muy grandes aparecen poco, pero con más frecuencia en adopciones lentas (3, 4).\n",
    "\n",
    "    - Interpretación:\n",
    "        - El tamaño mediano es el más común, pero los perros pequeños tienen una ligera ventaja en adopción rápida.\n",
    "        - Tamaños grandes parecen penalizados, especialmente si no están esterilizados o son adultos.\n",
    "        - Los muy grandes casi no se adoptan rápido, posiblemente por necesidades de espacio o alimentación.\n",
    "\n",
    "- Gráfico 2: Gatos (Type = 2)\n",
    "    - Distribución de MaturitySize por AdoptionSpeed:\n",
    "        - Casi todos los gatos son medianos o pequeños.\n",
    "        - Gatos medianos son mayoría en todas las clases de AdoptionSpeed, incluyendo las más rápidas y más lentas.\n",
    "        - Gatos pequeños muestran una ligera ventaja en adopciones rápidas (0, 1, 2).\n",
    "        - Gatos grandes y muy grandes existen, pero son raros y no tienen un patrón claro.\n",
    "    - Interpretación:\n",
    "        - En gatos, el tamaño tiene menor peso discriminativo que en perros, ya que hay menor variabilidad natural.\n",
    "        - Los gatos pequeños tienden a tener adopciones más rápidas, aunque la diferencia no es drástica.\n",
    "\n",
    "- Conclusión general del cruce MaturitySize × AdoptionSpeed × Type:\n",
    "\t- El tamaño corporal influye más en perros que en gatos.\n",
    "\t- Perros pequeños y medianos tienen adopciones más rápidas; los grandes y muy grandes enfrentan barreras.\n",
    "\t- En gatos, el efecto del tamaño es leve, pero se mantiene la preferencia leve por los más pequeños.\n"
   ]
  },
  {
   "cell_type": "markdown",
   "id": "f6308002",
   "metadata": {},
   "source": [
    "### Con `FurLength`"
   ]
  },
  {
   "cell_type": "code",
   "execution_count": null,
   "id": "da3e75cc",
   "metadata": {},
   "outputs": [],
   "source": [
    "import seaborn as sns\n",
    "import matplotlib.pyplot as plt\n",
    "\n",
    "plt.figure(figsize=(10, 6))\n",
    "sns.countplot(x='AdoptionSpeed', hue='FurLength_df', data=df[df['Type'] == 1])\n",
    "plt.title('AdoptionSpeed por FurLength (Perros)')\n",
    "plt.ylabel('Cantidad')\n",
    "plt.xlabel('AdoptionSpeed')\n",
    "plt.legend(title='Pelaje')\n",
    "plt.tight_layout()\n",
    "plt.show()"
   ]
  },
  {
   "cell_type": "code",
   "execution_count": null,
   "id": "a0e0e09d",
   "metadata": {},
   "outputs": [],
   "source": [
    "plt.figure(figsize=(10, 6))\n",
    "sns.countplot(x='AdoptionSpeed', hue='FurLength_df', data=df[df['Type'] == 2])\n",
    "plt.title('AdoptionSpeed por FurLength (Gatos)')\n",
    "plt.ylabel('Cantidad')\n",
    "plt.xlabel('AdoptionSpeed')\n",
    "plt.legend(title='Pelaje')\n",
    "plt.tight_layout()\n",
    "plt.show()"
   ]
  },
  {
   "cell_type": "markdown",
   "id": "9663caa3",
   "metadata": {},
   "source": [
    "#### Consideraciones\n",
    "\n",
    "Análisis del cruce entre FurLength × AdoptionSpeed × Type.\n",
    "\n",
    "- Gráfico 1: Perros (Type = 1)\n",
    "    - Distribución de FurLength por velocidad de adopción:\n",
    "        - Los perros de pelaje corto son los más frecuentes en todos los niveles de AdoptionSpeed, con especial presencia en clases lentas (3, 4).\n",
    "        - Los de pelaje mediano tienen también alta frecuencia, y están algo más presentes en adopciones más rápidas (1, 2).\n",
    "        - Los perros de pelaje largo son escasos, pero su presencia es relativamente constante.\n",
    "\n",
    "    - Interpretación:\n",
    "        - El pelaje corto es dominante entre los perros, pero eso no implica adopción más rápida.\n",
    "        - Los de pelaje mediano parecen adoptarse ligeramente más rápido.\n",
    "        - El pelaje largo no muestra ventaja ni desventaja clara, aunque su bajo número limita las conclusiones.\n",
    "\n",
    "- Gráfico 2: Gatos (Type = 2)\n",
    "    - Distribución de FurLength por velocidad de adopción:\n",
    "        - En gatos, los de pelaje corto dominan ampliamente, especialmente en adopciones rápidas (1, 2) y lentas (4).\n",
    "        - Pelaje mediano tiene también alta presencia, pero parece más representado en clases intermedias (2, 3).\n",
    "        - Los de pelaje largo son pocos, pero están más presentes en AdoptionSpeed = 1, lo que sugiere una posible preferencia estética.\n",
    "    - Interpretación:\n",
    "        - Gatos de pelaje corto se adoptan más y más rápido.\n",
    "        - Pelaje largo podría tener una ventaja estética, aunque con bajo volumen.\n",
    "\n",
    "- Conclusión general de FurLength × AdoptionSpeed × Type:\n",
    "\t- El largo del pelaje sí influye, pero de forma diferenciada entre perros y gatos.\n",
    "\t- En perros, el pelaje mediano podría ser más favorable.\n",
    "\t- En gatos, los de pelaje corto predominan, pero los de pelaje largo podrían ser adoptados más rápido si están bien fotografiados o cuidados.\n",
    "\t- El pelaje es una variable que podría reflejar estética o facilidad de cuidado (menos cepillado = más adopción).\n"
   ]
  },
  {
   "cell_type": "markdown",
   "id": "fe12062f",
   "metadata": {},
   "source": [
    "### Con `Vaccinated`"
   ]
  },
  {
   "cell_type": "code",
   "execution_count": null,
   "id": "b1ba2316",
   "metadata": {},
   "outputs": [],
   "source": [
    "import seaborn as sns\n",
    "import matplotlib.pyplot as plt\n",
    "\n",
    "plt.figure(figsize=(10, 6))\n",
    "sns.countplot(x='AdoptionSpeed', hue='Vaccinated', data=df[df['Type'] == 1])\n",
    "plt.title('AdoptionSpeed por Vaccinated (Perros)')\n",
    "plt.ylabel('Cantidad')\n",
    "plt.xlabel('AdoptionSpeed')\n",
    "plt.legend(title='Vaccinated')\n",
    "plt.tight_layout()\n",
    "plt.show()"
   ]
  },
  {
   "cell_type": "code",
   "execution_count": null,
   "id": "19bbb752",
   "metadata": {},
   "outputs": [],
   "source": [
    "plt.figure(figsize=(10, 6))\n",
    "sns.countplot(x='AdoptionSpeed', hue='Vaccinated', data=df[df['Type'] == 2])\n",
    "plt.title('AdoptionSpeed por Vaccinated (Gatos)')\n",
    "plt.ylabel('Cantidad')\n",
    "plt.xlabel('AdoptionSpeed')\n",
    "plt.legend(title='Vaccinated')\n",
    "plt.tight_layout()\n",
    "plt.show()"
   ]
  },
  {
   "cell_type": "markdown",
   "id": "e0073775",
   "metadata": {},
   "source": [
    "#### Consideraciones\n",
    "\n",
    "Análisis de Vaccinated × AdoptionSpeed × Type.\n",
    "\n",
    "⸻\n",
    "\n",
    "✅ Recordatorio de codificación usual:\n",
    "\n",
    "- Valor\tSignificado\n",
    "    - 1\tSí (Vacunado)\n",
    "    - 2\tNo vacunado\n",
    "    - 3\tNo estoy seguro\n",
    "\n",
    "\n",
    "- Gráfico 1: Perros\n",
    "    - Distribución de vacunación por velocidad de adopción:\n",
    "        - Vacunados (1) son mayoría en todos los niveles de AdoptionSpeed, especialmente en clases intermedias y lentas.\n",
    "        - No vacunados (2) tienen presencia considerable, también más marcada en 1 y 2.\n",
    "        - “Not sure” (3) son el grupo menor, aunque se mantienen estables en todos los niveles, incluso en 4.\n",
    "\n",
    "    - Interpretación:\n",
    "        - Vacunar no garantiza adopción rápida, pero sí está fuertemente asociado a los casos disponibles.\n",
    "        - Los adoptantes pueden valorar la vacunación, pero es probable que se relacione con refugios más organizados que gestionan adopciones más tardías.\n",
    "        - El grupo “no estoy seguro” sugiere falta de control sanitario previo o animales callejeros.\n",
    "\n",
    "- Gráfico 2: Gatos\n",
    "    - Distribución de vacunación por AdoptionSpeed:\n",
    "        - No vacunados (2) dominan absolutamente todos los niveles de AdoptionSpeed, incluso los más rápidos.\n",
    "        - Vacunados (1) son claramente minoría y parecen concentrarse más en adopciones más lentas.\n",
    "        - “Not sure” (3) se comporta similar al caso de perros, con frecuencia baja y estable.\n",
    "\n",
    "    - Interpretación:\n",
    "        - En gatos, la mayoría se entrega sin vacunas, lo que puede reflejar situaciones de rescate, gatos comunitarios o adopciones informales.\n",
    "        - Contrario al sentido común, la vacunación no está relacionada con adopción más rápida, posiblemente por estar vinculada a refugios que esperan para vacunar.\n",
    "\n",
    "- Conclusión general del cruce Vaccinated × AdoptionSpeed × Type:\n",
    "\t- La vacunación no es un predictor directo de adopción rápida, y su efecto es distinto entre perros y gatos.\n",
    "\t- En perros, estar vacunado es lo más común, pero no acelera la adopción.\n",
    "\t- En gatos, la vacunación es menos frecuente, y los no vacunados se adoptan igual o incluso más rápido.\n",
    "\t- El campo Vaccinated podría funcionar más como indicador de nivel de formalidad o cuidado previo, que como determinante del deseo de adopción.\n"
   ]
  },
  {
   "cell_type": "markdown",
   "id": "6faca826",
   "metadata": {},
   "source": [
    "### Con `Dewormed`"
   ]
  },
  {
   "cell_type": "code",
   "execution_count": null,
   "id": "7150cad0",
   "metadata": {},
   "outputs": [],
   "source": [
    "import seaborn as sns\n",
    "import matplotlib.pyplot as plt\n",
    "\n",
    "plt.figure(figsize=(10, 6))\n",
    "sns.countplot(x='AdoptionSpeed', hue='Dewormed', data=df[df['Type'] == 1])\n",
    "plt.title('AdoptionSpeed por Dewormed (Perros)')\n",
    "plt.ylabel('Cantidad')\n",
    "plt.xlabel('AdoptionSpeed')\n",
    "plt.legend(title='Dewormed')\n",
    "plt.tight_layout()\n",
    "plt.show()"
   ]
  },
  {
   "cell_type": "code",
   "execution_count": null,
   "id": "d98c50a3",
   "metadata": {},
   "outputs": [],
   "source": [
    "plt.figure(figsize=(10, 6))\n",
    "sns.countplot(x='AdoptionSpeed', hue='Dewormed', data=df[df['Type'] == 2])\n",
    "plt.title('AdoptionSpeed por Dewormed (Gatos)')\n",
    "plt.ylabel('Cantidad')\n",
    "plt.xlabel('AdoptionSpeed')\n",
    "plt.legend(title='Dewormed')\n",
    "plt.tight_layout()\n",
    "plt.show()"
   ]
  },
  {
   "cell_type": "markdown",
   "id": "05e7ed2a",
   "metadata": {},
   "source": [
    "#### Consideraciones\n",
    "\n",
    "Análisis de Dewormed × AdoptionSpeed × Type.\n",
    "\n",
    "⸻\n",
    "\n",
    "✅ Recordatorio de codificación habitual en Dewormed:\n",
    "\n",
    "|Valor|\tSignificado|\n",
    "|-----|------------|\n",
    "|1    |Sí, desparasitado|\n",
    "|2\t|No desparasitado|\n",
    "|3\t|No estoy seguro|\n",
    "\n",
    "\n",
    "\n",
    "- Gráfico 1: Perros\n",
    "    - Distribución por velocidad de adopción:\n",
    "        - Los perros desparasitados (1) son mayoría en todos los niveles de AdoptionSpeed.\n",
    "        - Los no desparasitados (2) y los “no seguros” (3) tienen menor representación, pero son visibles en todas las categorías.\n",
    "        - Incluso en adopciones rápidas (0, 1, 2), hay una buena proporción de no tratados.\n",
    "\n",
    "    - Interpretación:\n",
    "        - La desparasitación está presente en la mayoría de los casos, lo que indica un buen nivel de cuidado previo.\n",
    "        - No obstante, no parece condicionar fuertemente la adopción rápida, aunque podría ayudar a generar confianza en refugios o campañas.\n",
    "\n",
    "- Gráfico 2: Gatos\n",
    "    - Distribución por velocidad de adopción:\n",
    "\t- La situación se vuelve más pareja entre desparasitados (1) y no desparasitados (2).\n",
    "\t- A diferencia de los perros, los gatos no desparasitados se adoptan tan rápidamente como los que sí lo están.\n",
    "\t- El grupo “no estoy seguro” (3) es más reducido pero constante.\n",
    "\n",
    "    - Interpretación:\n",
    "\t- La desparasitación en gatos no parece impactar significativamente la adopción rápida.\n",
    "\t- Puede reflejar una menor intervención veterinaria previa o situaciones más informales de rescate.\n",
    "\n",
    "-  Conclusión general del cruce Dewormed × AdoptionSpeed × Type:\n",
    "\t- En perros, la desparasitación está más extendida, pero no garantiza adopción rápida.\n",
    "\t- En gatos, la desparasitación no es determinante y muchos se adoptan sin tratamiento.\n",
    "\t- Este campo puede servir como indicador de atención previa o nivel de formalidad, más que como predictor directo de velocidad de adopción.\n",
    "\n"
   ]
  },
  {
   "cell_type": "markdown",
   "id": "f3a1fbe5",
   "metadata": {},
   "source": [
    "### Con `Sterilized`"
   ]
  },
  {
   "cell_type": "code",
   "execution_count": null,
   "id": "414415e5",
   "metadata": {},
   "outputs": [],
   "source": [
    "import seaborn as sns\n",
    "import matplotlib.pyplot as plt\n",
    "\n",
    "plt.figure(figsize=(10, 6))\n",
    "sns.countplot(x='AdoptionSpeed', hue='Sterilized', data=df[df['Type'] == 1])\n",
    "plt.title('AdoptionSpeed por Sterilized (Perros)')\n",
    "plt.ylabel('Cantidad')\n",
    "plt.xlabel('AdoptionSpeed')\n",
    "plt.legend(title='Sterilized')\n",
    "plt.tight_layout()\n",
    "plt.show()"
   ]
  },
  {
   "cell_type": "code",
   "execution_count": null,
   "id": "c752f47c",
   "metadata": {},
   "outputs": [],
   "source": [
    "plt.figure(figsize=(10, 6))\n",
    "sns.countplot(x='AdoptionSpeed', hue='Sterilized', data=df[df['Type'] == 2])\n",
    "plt.title('AdoptionSpeed por Sterilized (Gatos)')\n",
    "plt.ylabel('Cantidad')\n",
    "plt.xlabel('AdoptionSpeed')\n",
    "plt.legend(title='Sterilized')\n",
    "plt.tight_layout()\n",
    "plt.show()"
   ]
  },
  {
   "cell_type": "markdown",
   "id": "2ca43d52",
   "metadata": {},
   "source": [
    "#### Conclusiones\n",
    "\n",
    "Análisis Sterilized × AdoptionSpeed × Type.\n",
    "\n",
    "- Recordatorio de codificación:\n",
    "\n",
    "|Valor\t|Significado |\n",
    "|-------|------------|\n",
    "|1\t|Esterilizado (Sí) |\n",
    "|2\t|No esterilizado |\n",
    "|3\t|No estoy seguro |\n",
    "\n",
    "\n",
    "- Gráfico 1: Perros\n",
    "    - Distribución por AdoptionSpeed:\n",
    "        - No esterilizados (2) dominan ampliamente en todos los niveles, incluso en las adopciones más rápidas (1, 2).\n",
    "        - Esterilizados (1) aumentan progresivamente hacia las clases más lentas, especialmente en 4.\n",
    "        - El grupo “Not sure” (3) es consistente pero más pequeño.\n",
    "\n",
    "    - Interpretación:\n",
    "        - La mayoría de los perros disponibles no están esterilizados, y eso no parece afectar negativamente la adopción rápida.\n",
    "        - De hecho, los perros esterilizados se adoptan más lentamente, posiblemente porque requieren un proceso previo adicional (gestión, cirugía, recuperación).\n",
    "        - El campo puede reflejar el momento en que se publica el aviso, no necesariamente la condición al momento de la adopción.\n",
    "\n",
    "- Gráfico 2: Gatos\n",
    "        - Distribución por AdoptionSpeed:\n",
    "        - Mismo patrón que en perros: los no esterilizados (2) dominan por completo, incluso en adopciones rápidas (0, 1, 2).\n",
    "        - Los esterilizados (1) tienen su punto más alto recién en las clases lentas (3, 4).\n",
    "        - “No estoy seguro” (3) es bajo, pero constante.\n",
    "\n",
    "    - Interpretación:\n",
    "        - En gatos, la esterilización tampoco se relaciona con adopción más rápida.\n",
    "        - Podría reflejar situaciones más informales, de calle, o bien que la esterilización se realiza después de publicado el aviso o como condición post-adopción.\n",
    "\n",
    "- Conclusión general del cruce Sterilized × AdoptionSpeed × Type:\n",
    "\t- La esterilización no acelera la adopción ni en perros ni en gatos, y muchas mascotas se publican sin haber sido intervenidas aún.\n",
    "\t- De hecho, las esterilizadas parecen concentrarse más en adopciones tardías, lo cual sugiere que este campo refleja más el proceso institucional del refugio que el deseo del adoptante.\n",
    "\t- El campo es útil para entender prácticas de rescate y profesionalismo, más que como predictor de comportamiento del adoptante.\n",
    "\n"
   ]
  },
  {
   "cell_type": "markdown",
   "id": "6ad2917d",
   "metadata": {},
   "source": [
    "### Con `Health`"
   ]
  },
  {
   "cell_type": "code",
   "execution_count": null,
   "id": "7846b39b",
   "metadata": {},
   "outputs": [],
   "source": [
    "import seaborn as sns\n",
    "import matplotlib.pyplot as plt\n",
    "\n",
    "plt.figure(figsize=(10, 6))\n",
    "sns.countplot(x='AdoptionSpeed', hue='Health', data=df[df['Type'] == 1])\n",
    "plt.title('AdoptionSpeed por Health (Perros)')\n",
    "plt.ylabel('Cantidad')\n",
    "plt.xlabel('AdoptionSpeed')\n",
    "plt.legend(title='Health')\n",
    "plt.tight_layout()\n",
    "plt.show()"
   ]
  },
  {
   "cell_type": "code",
   "execution_count": null,
   "id": "ef8fed34",
   "metadata": {},
   "outputs": [],
   "source": [
    "plt.figure(figsize=(10, 6))\n",
    "sns.countplot(x='AdoptionSpeed', hue='Health', data=df[df['Type'] == 2])\n",
    "plt.title('AdoptionSpeed por Health (Gatos)')\n",
    "plt.ylabel('Cantidad')\n",
    "plt.xlabel('AdoptionSpeed')\n",
    "plt.legend(title='Health')\n",
    "plt.tight_layout()\n",
    "plt.show()"
   ]
  },
  {
   "cell_type": "markdown",
   "id": "d7a6c316",
   "metadata": {},
   "source": [
    "#### Conclusiones\n",
    "\n",
    "Análisis: Health × AdoptionSpeed × Type:\n",
    "\n",
    "- Codificación habitual de Health:\n",
    "\n",
    "|Valor\t|Significado |\n",
    "|-------|------------|\n",
    "|1\t|Saludable |\n",
    "|2\t|Enfermedad menor |\n",
    "|3\t|Enfermedad grave |\n",
    "\n",
    "\n",
    "- Gráfico 1: Perros \n",
    "    - Distribución por AdoptionSpeed:\n",
    "        - La gran mayoría de los perros están clasificados como saludables (1).\n",
    "        - Muy pocos tienen enfermedad menor (2), y menos aún enfermedad grave (3).\n",
    "        - Aun así, todos los niveles de salud están presentes en todas las velocidades de adopción, aunque los no saludables tienden a concentrarse en las clases más lentas.\n",
    "\n",
    "    - Interpretación:\n",
    "        - Los perros sanos dominan ampliamente y se reparten de manera pareja en AdoptionSpeed.\n",
    "        - Los enfermos tienden a demorarse más en ser adoptados, pero igual logran adopción.\n",
    "        - El campo puede reflejar condición al momento de publicación, no necesariamente situación irreversible.\n",
    "\n",
    "- Gráfico 2: Gatos\n",
    "    - Distribución por AdoptionSpeed:\n",
    "        - Aún más marcado que en perros: casi todos los gatos están registrados como saludables (1).\n",
    "        - Las enfermedades menores (2) son escasas, y las graves (3) son casi inexistentes.\n",
    "        - A diferencia de perros, la salud parece no influir en la velocidad de adopción en gatos.\n",
    "\n",
    "    - Interpretación:\n",
    "        - Puede haber subregistro de condiciones clínicas, o bien los gatos en malas condiciones no llegan a publicarse.\n",
    "        - En este caso, el campo tiene muy bajo poder discriminativo.\n",
    "\n",
    "- Conclusión general del cruce Health × AdoptionSpeed × Type:\n",
    "\t- La variable Health tiene baja variabilidad, con la mayoría de las mascotas registradas como saludables.\n",
    "\t- En perros, la presencia de enfermedades puede retrasar la adopción, pero no impedirla.\n",
    "\t- En gatos, la falta de casos no permite extraer inferencias sólidas.\n",
    "\t- El campo es útil como verificación de calidad de los datos, pero no es determinante en la adopción (al menos en los registros disponibles).\n"
   ]
  },
  {
   "cell_type": "markdown",
   "id": "d270e8ee",
   "metadata": {},
   "source": [
    "### Con `Quantity`"
   ]
  },
  {
   "cell_type": "code",
   "execution_count": null,
   "id": "c2132e31",
   "metadata": {},
   "outputs": [],
   "source": [
    "df['Quantity_1'].value_counts()"
   ]
  },
  {
   "cell_type": "code",
   "execution_count": null,
   "id": "6041b267",
   "metadata": {},
   "outputs": [],
   "source": [
    "plt.figure(figsize=(10, 6))\n",
    "sns.countplot(data=df[df['Type'] == 1], x='AdoptionSpeed', hue='Quantity_1')\n",
    "plt.title('Distribución de Quantity por AdoptionSpeed (Perros)')\n",
    "plt.xlabel('AdoptionSpeed')\n",
    "plt.ylabel('Cantidad')\n",
    "plt.legend(title='Cantidad en la publicación')\n",
    "plt.tight_layout()\n",
    "plt.show()"
   ]
  },
  {
   "cell_type": "code",
   "execution_count": null,
   "id": "162e001a",
   "metadata": {},
   "outputs": [],
   "source": [
    "plt.figure(figsize=(10, 6))\n",
    "sns.countplot(data=df[df['Type'] == 2], x='AdoptionSpeed', hue='Quantity_1')\n",
    "plt.title('Distribución de Quantity por AdoptionSpeed (Gatos)')\n",
    "plt.xlabel('AdoptionSpeed')\n",
    "plt.ylabel('Cantidad')\n",
    "plt.legend(title='Cantidad en la publicación')\n",
    "plt.tight_layout()\n",
    "plt.show()"
   ]
  },
  {
   "cell_type": "markdown",
   "id": "1840a10a",
   "metadata": {},
   "source": [
    "#### Conclusiones\n",
    "Análisis de Quantity × AdoptionSpeed × Type. Este cruce nos permite entender si la cantidad de mascotas publicadas en una misma entrada influye en la velocidad de adopción, diferenciando entre perros y gatos.\n",
    "\n",
    "- Perros\n",
    "    - La gran mayoría de las publicaciones de perros son individuales (“Uno”), en todas las clases de AdoptionSpeed.\n",
    "    - Las publicaciones de “Camada” (Quantity > 1) representan una porción menor, pero crecen progresivamente hacia AdoptionSpeed = 4 (adopción más lenta).\n",
    "    - En adopciones rápidas (0, 1), las camadas son muy poco frecuentes.\n",
    "\n",
    "    - Interpretación:\n",
    "        - Los perros publicados de a uno se adoptan más rápidamente, lo que puede reflejar:\n",
    "        - Preferencia del adoptante por elegir una sola mascota.\n",
    "        - Mayor facilidad logística (menos compromiso, menos dudas).\n",
    "        - Las camadas tienden a adoptarse más lentamente, lo cual podría deberse a:\n",
    "        - Mayor dificultad para encontrar adoptantes múltiples.\n",
    "        - Percepción de más trabajo, necesidad de cuidados simultáneos.\n",
    "        - Posibilidad de que algunos hermanos queden sin adoptar.\n",
    "\n",
    "- Gatos\n",
    "    - Las publicaciones de gatos individuales también son mayoría, pero las camadas tienen una representación mayor que en perros.\n",
    "    - En adopciones rápidas (1, 2), las camadas están más presentes que en el caso de los perros.\n",
    "    - Incluso en AdoptionSpeed = 4, las camadas siguen siendo frecuentes.\n",
    "\n",
    "    - Interpretación:\n",
    "        - Las camadas de gatitos parecen tener mejor aceptación que en perros.\n",
    "        - Esto podría deberse a:\n",
    "        - Gatitos pequeños publicados juntos → mayor ternura / adopción conjunta.\n",
    "        - Más tolerancia del adoptante a la convivencia de gatos.\n",
    "        - Menor percepción de esfuerzo comparado con camadas de cachorros.\n",
    "\n",
    "- Conclusión general del cruce Quantity × AdoptionSpeed × Type\n",
    "\n",
    "|Elemento observado\t|Perros\t|Gatos |\n",
    "|-------------------|-------|------|\n",
    "|Dominancia de publicaciones\t|“Uno”\t|“Uno”, pero “Camada” más común |\n",
    "|Velocidad de adopción de camadas\t|Más lenta (hacia 4)\t|Más distribuida (incluso en 1)|\n",
    "|Preferencia del adoptante\t|Elegir 1 perro\t|A veces adoptar 2+ gatitos |\n",
    "|Posible intervención\t|Refugios separan camadas en perros\t|Camadas se publican juntas en gatos |\n",
    "\n",
    "\n",
    "- Para perros, separar camadas en publicaciones individuales podría acelerar la adopción.\n",
    "- Para gatos, mantener las camadas puede no afectar negativamente la adopción, e incluso favorecerla en etapas tempranas.\n"
   ]
  },
  {
   "cell_type": "markdown",
   "id": "1f9fb293",
   "metadata": {},
   "source": [
    "### Con `Fee`"
   ]
  },
  {
   "cell_type": "code",
   "execution_count": null,
   "id": "fbc14605",
   "metadata": {},
   "outputs": [],
   "source": [
    "df['Fee_paga'].value_counts()"
   ]
  },
  {
   "cell_type": "code",
   "execution_count": null,
   "id": "9f88bffc",
   "metadata": {},
   "outputs": [],
   "source": [
    "plt.figure(figsize=(10, 6))\n",
    "sns.countplot(data=df[df['Type'] == 1], x='AdoptionSpeed', hue='Fee_paga')\n",
    "plt.title('Distribución de Quantity por AdoptionSpeed (Perros)')\n",
    "plt.xlabel('AdoptionSpeed')\n",
    "plt.ylabel('Cantidad')\n",
    "plt.legend(title='Cantidad en la publicación')\n",
    "plt.tight_layout()\n",
    "plt.show()"
   ]
  },
  {
   "cell_type": "code",
   "execution_count": null,
   "id": "d71a8be8",
   "metadata": {},
   "outputs": [],
   "source": [
    "plt.figure(figsize=(10, 6))\n",
    "sns.countplot(data=df[df['Type'] == 2], x='AdoptionSpeed', hue='Fee_paga')\n",
    "plt.title('Distribución de Quantity por AdoptionSpeed (Gatos)')\n",
    "plt.xlabel('AdoptionSpeed')\n",
    "plt.ylabel('Cantidad')\n",
    "plt.legend(title='Cantidad en la publicación')\n",
    "plt.tight_layout()\n",
    "plt.show()"
   ]
  },
  {
   "cell_type": "markdown",
   "id": "b58f4bf2",
   "metadata": {},
   "source": [
    "#### Conclusiones\n",
    "\n",
    "Análisis de la distribución de mascotas gratuitas vs. pagas según velocidad de adopción (AdoptionSpeed) y tipo (Type), es decir: perros y gatos.\n",
    "\n",
    "- Perros\n",
    "    - Observaciones del gráfico:\n",
    "        - La gran mayoría de los perros se ofrecen en adopción gratuita (Fee = 0), en todos los niveles de AdoptionSpeed.\n",
    "        - Las adopciones pagas existen, y tienen presencia consistente, incluso en clases rápidas (1, 2) y especialmente en la lenta (4).\n",
    "        - En ningún caso las adopciones pagas superan a las gratuitas, pero sí se mantienen relativamente estables.\n",
    "\n",
    "    - Interpretación:\n",
    "        - La gratuidad es la norma para perros, lo cual indica que los refugios y particulares priorizan la colocación sobre el costo.\n",
    "        - Sin embargo, hay un número no menor de adopciones pagas, lo que podría reflejar:\n",
    "        - Razas específicas o perros de valor económico (p. ej., razas pequeñas o populares).\n",
    "        - Costos administrativos de asociaciones formales.\n",
    "        - El hecho de que haya adopciones pagas incluso en clases rápidas indica que no siempre el precio es una barrera cuando hay interés o percepción de calidad.\n",
    "\n",
    "- Gatos\n",
    "    - Observaciones del gráfico:\n",
    "        - La diferencia entre adopciones gratuitas y pagas es aún más marcada que en perros.\n",
    "        - Más del 80% de las adopciones de gatos son gratuitas, en todos los niveles de AdoptionSpeed.\n",
    "        - Las adopciones pagas son muy escasas, y cuando aparecen, tienden a concentrarse en clases más lentas (3, 4).\n",
    "\n",
    "    - Interpretación:\n",
    "\t- En gatos, el adoptante muestra poca disposición a pagar por la adopción.\n",
    "\t- Es probable que:\n",
    "        - La oferta gratuita sea muy abundante (muchos gatos disponibles).\n",
    "        - Los adoptantes perciban que no hay valor económico agregado (como ocurre en perros de raza).\n",
    "        - Cuando hay una adopción paga, suele demorarse más, lo que sugiere que el precio sí actúa como barrera en este caso.\n",
    "\n",
    "- Conclusión general del cruce Fee × AdoptionSpeed × Type:\n",
    "\n",
    "|Elemento observado\t|Perros\t|Gatos |\n",
    "|-------------------|-------|------|\n",
    "|Predominio de adopciones\t|Gratuitas\t|Gratuitas |\n",
    "|Adopciones pagas frecuentes\t|Moderadamente frecuentes (≈15–20%)\t|Muy poco frecuentes (≈5–10%) |\n",
    "|Adopciones pagas rápidas\t|Existen (incluso en 1, 2)\t|Raras, más comunes en 3, 4 |\n",
    "|Impacto del pago\t|No necesariamente negativo\t|Parece enlentecer la adopción |\n",
    "\n",
    "- Para perros, mantener adopciones gratuitas es recomendable, pero un fee simbólico o por razas específicas puede no ser perjudicial.\n",
    "- Para gatos, el precio parece ser una barrera real, y la gratuidad es clave para agilizar la adopción.\n"
   ]
  },
  {
   "cell_type": "code",
   "execution_count": null,
   "id": "e1e82dc4",
   "metadata": {},
   "outputs": [],
   "source": []
  },
  {
   "cell_type": "markdown",
   "id": "6c511f63",
   "metadata": {},
   "source": [
    "**Resumen del Análisis Exploratorio de Datos (EDA) del dataset PetFinder.my**\n",
    "\n",
    "---\n",
    "\n",
    "### 1. Análisis Univariado\n",
    "\n",
    "Se analizaron las principales variables con fines descriptivos:\n",
    "\n",
    "- **AdoptionSpeed**: La mayor parte de las mascotas se concentran en clases 2 y 4. Las adopciones rápidas (0 y 1) son menos frecuentes.\n",
    "- **Age**: Amplio rango. Se detectaron valores elevados posiblemente irreales (>1000 días). Predominan animales jóvenes.\n",
    "- **Fee**: Predomina la adopción gratuita (87%). Las adopciones pagas aparecen en ciertos valores comunes como 50, 100 y 200.\n",
    "- **PhotoAmt**: La mediana es 3. A mayor cantidad de fotos, leve asociación con adopciones más rápidas.\n",
    "- **VideoAmt**: La mayoría de las publicaciones no tienen video. Aquellas con video tienden a adoptarse rápidamente.\n",
    "- **Breed1 / Breed2**: La mayoría tiene solo una raza asignada. Se incluyen valores para \"Mixed Breed\" y razas domésticas comunes.\n",
    "- **Color1, Color2, Color3**: Se construyó la variable `color_n` indicando cantidad de colores (1: monocromo, 2: bicolor, 3: tricolor).\n",
    "- **Gender**: Leve mayoría de hembras.\n",
    "- **MaturitySize**: Predominan tamaños medianos, seguidos por pequeños.\n",
    "- **FurLength**: Mayoría tiene pelaje corto.\n",
    "- **Health, Vaccinated, Dewormed, Sterilized**: Alto porcentaje de animales saludables y con cuidados.\n",
    "- **Quantity**: La mayor parte de las publicaciones representan a una sola mascota.\n",
    "\n",
    "---\n",
    "\n",
    "### 2. Análisis Bivariado (con AdoptionSpeed)\n",
    "\n",
    "#### a. Variables categóricas\n",
    "\n",
    "- **Breed1**: Algunas razas como Domestic Short Hair (gatos) y Shih Tzu (perros) se asocian con adopciones más rápidas.\n",
    "- **Gender**: No hay diferencias claras entre machos y hembras, pero \"Other\" tiene menor tasa de adopción.\n",
    "- **MaturitySize**: Tamaños pequeños y medianos tienen adopciones más rápidas.\n",
    "- **FurLength**: Pelaje corto favorece la adopción rápida.\n",
    "- **Vaccinated / Dewormed / Sterilized**: Aquellos con cuidados al día presentan mejores tasas de adopción.\n",
    "- **Health**: Los animales saludables tienen adopciones en todas las clases. Enfermos se adoptan más lentamente.\n",
    "- **Quantity**: Los animales publicados individualmente se adoptan más rápidamente. Las camadas tienen mayor presencia en clases lentas.\n",
    "- **Fee**: Las adopciones gratuitas predominan. Las pagas existen y en perros se concretan incluso rápidamente. En gatos, el pago retrasa la adopción.\n",
    "\n",
    "#### b. Variables numéricas\n",
    "\n",
    "- **PhotoAmt**: Mayor número de fotos parece asociarse a adopciones rápidas.\n",
    "- **VideoAmt**: Presencia de video, aunque poco frecuente, se vincula con adopciones rápidas.\n",
    "\n",
    "---\n",
    "\n",
    "### 3. Análisis Multivariado (AdoptionSpeed × Type)\n",
    "\n",
    "Se exploraron combinaciones con el tipo de mascota (`Type`: 1 = Perro, 2 = Gato):\n",
    "\n",
    "- **Breed × AdoptionSpeed × Type**:\n",
    "  - Perros: Mixed Breed domina, pero razas como Shih Tzu se adoptan rápidamente.\n",
    "  - Gatos: Domestic Short Hair predomina con buenas tasas de adopción.\n",
    "\n",
    "- **Gender × Type**:\n",
    "  - En ambos tipos, hembras se asocian levemente con adopciones rápidas.\n",
    "\n",
    "- **AgeGroup × Type**:\n",
    "  - En perros, los más jóvenes (0-3 meses) son adoptados más rápidamente.\n",
    "  - En gatos, hay mayor distribución de edades y adopciones más lentas.\n",
    "\n",
    "- **MaturitySize / FurLength × Type**:\n",
    "  - Tamaños medianos y pelaje corto se asocian a mejores velocidades de adopción en ambos tipos.\n",
    "\n",
    "- **Fee × Type**:\n",
    "  - En perros, existe una proporción relevante de adopciones pagas, incluso en clases rápidas.\n",
    "  - En gatos, el pago se asocia a menor velocidad de adopción.\n",
    "\n",
    "- **Quantity × Type**:\n",
    "  - Perros: publicaciones individuales se adoptan más rápidamente.\n",
    "  - Gatos: las camadas son más frecuentes y no afectan negativamente la velocidad.\n",
    "\n",
    "---\n",
    "\n",
    "### 4. Conclusiones generales\n",
    "\n",
    "- La variable `AdoptionSpeed` está influenciada por edad, cantidad en la publicación, tipo de pelaje, y tipo de animal.\n",
    "- El tipo (`Type`) modifica significativamente el impacto de variables como `Fee`, `Quantity`, y `Breed`.\n",
    "- Las variables de cuidado sanitario indican formalidad, pero no son suficientes para garantizar adopciones rápidas.\n",
    "\n",
    "Este informe resume visualizaciones, exploraciones y patrones hallados, sentando las bases para un modelo predictivo robusto o una segmentación de comportamiento adoptivo."
   ]
  },
  {
   "cell_type": "code",
   "execution_count": null,
   "id": "0f706552",
   "metadata": {},
   "outputs": [],
   "source": []
  },
  {
   "cell_type": "code",
   "execution_count": null,
   "id": "cb41b1d9",
   "metadata": {},
   "outputs": [],
   "source": []
  },
  {
   "cell_type": "code",
   "execution_count": null,
   "id": "68740281",
   "metadata": {},
   "outputs": [],
   "source": []
  }
 ],
 "metadata": {
  "kernelspec": {
   "display_name": "ldi2",
   "language": "python",
   "name": "python3"
  },
  "language_info": {
   "codemirror_mode": {
    "name": "ipython",
    "version": 3
   },
   "file_extension": ".py",
   "mimetype": "text/x-python",
   "name": "python",
   "nbconvert_exporter": "python",
   "pygments_lexer": "ipython3",
   "version": "3.13.2"
  }
 },
 "nbformat": 4,
 "nbformat_minor": 5
}
