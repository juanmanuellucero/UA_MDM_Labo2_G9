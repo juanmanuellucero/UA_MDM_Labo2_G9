{
 "cells": [
  {
   "cell_type": "markdown",
   "id": "062ae9ab",
   "metadata": {},
   "source": [
    "## Transformaciones implementadas (Feature Engineering)\n"
   ]
  },
  {
   "cell_type": "markdown",
   "id": "4f0f3197",
   "metadata": {},
   "source": [
    "### Descripcion General\n",
    "\n",
    "e generaron variables de forma aleatoria con el fin de mejorar el rendimiento del modelo de forma intuitiva, considerando, por ejemplo, que si la mascota tenia un nombre (HasName) su velocidad de adopcion podría ser mayor.\n",
    "Se fueron eliminando y/o agregando otras variables en base al analisis del apartado \"LGBM Futures Importance\" que despliega una serie de gráficos, que muestran las variables mas importantes en el modelado, en base a su influencia en los siguientes parametros: GAIN, SPLIT, Permutation y SHAP Values (relaciones no lineales entre variables).\n",
    "\n",
    "Estas son las variables que finalmente quedaron:\n",
    "\n",
    "HasName : Indica si el animal tiene nombre.\n",
    "\n",
    "PureBreed: Indica si el animal es de raza pura (Breed2 == 0 y no contiene \"Mixed.\n",
    "\n",
    "DescLength: Longitud de la descripción.\n",
    "\n",
    "Fee_log: Logaritmo del precio para suavizar la distribución y reducir el impacto de valores extremos.\n",
    "\n",
    "IsFree: Si la adopción es gratis.\n",
    "\n",
    "Type_Breed_Combo: Combina el tipo de animal con el ID de la raza principal.\n",
    "\n",
    "Fee_Breed_Ratio: Relación entre la tarifa individual y el promedio de tarifa para su raza.\n",
    "\n",
    "Fee_per_Pet: Tarifa dividida por cantidad de mascotas.\n",
    "\n",
    "Photo_per_Pet: Cantidad de fotos por mascota.\n",
    "\n",
    "Age_Fee_Ratio: Edad dividida por tarifa más 1 (edad vs. valor monetario).\n",
    "\n",
    "DescLength_per_Pet: Longitud de descripción dividida por cantidad de mascotas.\n",
    "\n",
    "DescLength_per_Photo: Longitud de descripción dividida por cantidad de fotos.\n",
    "\n",
    "AgeGroup: Categorias de edades.\n",
    "\n",
    "### Análisis de Variables\n",
    "\n",
    "#### Objetivo del análisis\n",
    "\n",
    "El propósito de esta sección es examinar detalladamente cada una de las variables presentes o construidas a partir del dataset original, evaluando su comportamiento, transformaciones aplicadas y relevancia potencial para predecir la variable objetivo `AdoptionSpeed`. Posteriormente, se comparan estos hallazgos con los resultados obtenidos del modelo LGBM a través de técnicas de evaluación de importancia de variables (GAIN, SPLIT, Permutation y SHAP).\n",
    "\n",
    "#### Variables analizadas y conclusiones\n",
    "\n",
    "A continuación, se detallan las variables trabajadas y las conclusiones alcanzadas a partir del análisis exploratorio de datos (EDA):\n",
    "\n",
    "🔹 Edad (`Age`, `AgeGroup`, `AgeBins`, `Age_Type`)\n",
    "\n",
    "La edad es la variable más influyente. Los animales jóvenes (especialmente menores de 6 meses) son adoptados con mayor rapidez. Se agruparon en categorías (`AgeGroup`) para facilitar la interpretación, y se combinaron con el tipo de animal (`Age_Type`) para capturar interacciones significativas.\n",
    "\n",
    "🔹 Descripción (`DescLength`, `DescLength_per_Photo`, `DescLength_per_Pet`)\n",
    "\n",
    "Las descripciones largas y bien proporcionadas (en relación a la cantidad de fotos o mascotas) tienen un impacto positivo en la adopción. Representan el esfuerzo del rescatista y la calidad de la publicación.\n",
    "\n",
    "🔹 Tarifa de adopción (`Fee`, `Fee_gratis`, `Fee_paga`, `Fee_Breed_Ratio`)\n",
    "\n",
    "Si bien el efecto no es lineal, se observa que las mascotas con adopción gratuita suelen tener mayor velocidad de adopción. La relación entre el precio y el promedio de su raza (`Fee_Breed_Ratio`) mejora el modelado de valores inusuales.\n",
    "\n",
    "🔹 Fotografías (`PhotoAmt`, `Photo_per_Pet`)\n",
    "\n",
    "El número de fotos es un factor importante: más imágenes tienden a asociarse con mayor adoptabilidad. La variable `Photo_per_Pet` ajusta esta relación en publicaciones de adopciones múltiples.\n",
    "\n",
    "🔹 Raza (`Breed1`, `Breed2`, `MixedBreed`, `BreedName1`, `BreedName2`)\n",
    "\n",
    "Algunas razas muestran tasas de adopción más rápidas. Se identificó si es raza mixta o pura (`MixedBreed`) y se incorporaron nombres para combinar con tipo. La combinación `Type_Breed_Combo` fue muy importante en el modelo.\n",
    "\n",
    "🔹 Tipo y género (`Type`, `Gender`, `Quantity`)\n",
    "\n",
    "Perros suelen ser adoptados más rápido que gatos. El género tiene un efecto leve pero relevante en interacción con la edad. La cantidad de animales por publicación puede diluir la atención por cada uno.\n",
    "\n",
    "🔹 Características físicas y sanitarias (`MaturitySize`, `FurLength`, `Health`)\n",
    "\n",
    "Tamaños medianos y pelajes cortos tienden a facilitar la adopción. Condiciones sanitarias como `Health`, `Sterilized`, `Vaccinated` o `Dewormed` reflejan confianza y cuidado, aunque su impacto directo fue más limitado.\n",
    "\n",
    "🔹 Coloración (`Color1`, `Color2`, `Color3`, `color_n`, `color_tipo`)\n",
    "\n",
    "Se analizaron combinaciones y tipos de color, pero no mostraron una relación sólida con la velocidad de adopción.\n",
    "\n",
    "El modelo LGBM, entrenado con las variables trabajadas, arrojó los siguientes resultados consistentes:\n",
    "\n",
    "- Las variables más relevantes fueron:\n",
    "\n",
    " `Age`, `DescLength_per_Photo`, `DescLength`, `DescLength_per_Pet`, `Type_Breed_Combo`, `Age_Fee_Ratio`, `Photo_per_Pet`\n",
    "\n",
    "- Variables con bajo impacto según Permutation Importance:\n",
    "\n",
    " `VideoAmt`, `HasName`, `Health`, `Color3`, `PureBreed`, `AgeGroup`\n",
    "\n",
    "- SHAP reveló interacciones importantes especialmente entre `Age` y `Gender`, `Breed1`, y `Breed2`, lo que justifica la exploración de combinaciones como `Age_Type` o segmentaciones cruzadas.\n",
    "\n"
   ]
  },
  {
   "cell_type": "markdown",
   "id": "c5c37b40",
   "metadata": {},
   "source": [
    "## Configuracion de Entorno"
   ]
  },
  {
   "cell_type": "code",
   "execution_count": 1,
   "id": "8e3edd9b",
   "metadata": {},
   "outputs": [
    {
     "name": "stdout",
     "output_type": "stream",
     "text": [
      "Directorio actual: C:\\Users\\juanm\\GitHub\\UA_MDM_Labo2_G9\\work\n"
     ]
    }
   ],
   "source": [
    "import os\n",
    "\n",
    "# Si estás en Jupyter Notebook, anclás a una ruta conocida o fija:\n",
    "project_root = r\"C:\\Users\\juanm\\GitHub\\UA_MDM_Labo2_G9\"  # Personalizar esto\n",
    "\n",
    "# Alternativa: usar una carpeta conocida dentro del proyecto\n",
    "# project_root = os.path.abspath(os.path.join(os.getcwd(), \"..\"))  # Menos frágil\n",
    "\n",
    "# Rutas de trabajo\n",
    "workDir = os.path.join(project_root, \"work\")\n",
    "optunaArtifactDir = os.path.join(workDir, \"optuna_artifacts\")\n",
    "optunaTempDir = os.path.join(workDir, \"optuna_temp_artifacts\")\n",
    "\n",
    "# Crear carpetas si no existen\n",
    "os.makedirs(optunaArtifactDir, exist_ok=True)\n",
    "os.makedirs(optunaTempDir, exist_ok=True)\n",
    "\n",
    "# Cambiar al directorio de trabajo solo si es necesario\n",
    "if os.getcwd() != workDir:\n",
    "    os.chdir(workDir)\n",
    "\n",
    "print(\"Directorio actual:\", os.getcwd())\n"
   ]
  },
  {
   "cell_type": "code",
   "execution_count": 2,
   "id": "77c29884",
   "metadata": {},
   "outputs": [
    {
     "name": "stderr",
     "output_type": "stream",
     "text": [
      "c:\\Users\\juanm\\anaconda3\\envs\\ldi2\\Lib\\site-packages\\tqdm\\auto.py:21: TqdmWarning: IProgress not found. Please update jupyter and ipywidgets. See https://ipywidgets.readthedocs.io/en/stable/user_install.html\n",
      "  from .autonotebook import tqdm as notebook_tqdm\n"
     ]
    }
   ],
   "source": [
    "# Manipulación de datos\n",
    "import numpy as np\n",
    "import pandas as pd\n",
    "\n",
    "SEED = 42 #Semilla de procesos aleatorios (para poder replicar exactamente al volver a correr un modelo)\n",
    "np.random.seed(SEED)\n",
    "\n",
    "# Modelado: Gradient Boosting\n",
    "import lightgbm as lgb\n",
    "\n",
    "# Sklearn: splits, métricas y utilidades\n",
    "from sklearn.model_selection import train_test_split, StratifiedKFold\n",
    "from sklearn.metrics import cohen_kappa_score, accuracy_score, balanced_accuracy_score\n",
    "from sklearn.utils import shuffle\n",
    "\n",
    "# Visualización\n",
    "import matplotlib.pyplot as plt  # Usar junto con seaborn o plotly si es necesario\n",
    "import plotly.express as px      # Corrección: no usar `from plotly import express as px`\n",
    "\n",
    "# Optuna para optimización de hiperparámetros\n",
    "import optuna\n",
    "from optuna.artifacts import FileSystemArtifactStore, upload_artifact\n",
    "from optuna.samplers import TPESampler\n",
    "\n",
    "sampler = TPESampler(seed=SEED)  # fijo la semilla global de exploración\n",
    "TEST_SIZE = 0.2 #Facción para train/test= split\n",
    "\n",
    "# Utilidades propias\n",
    "from utiles import plot_confusion_matrix\n",
    "\n",
    "# Guardado de objetos\n",
    "from joblib import dump, load\n",
    "\n",
    "# Sistema\n",
    "import os"
   ]
  },
  {
   "cell_type": "code",
   "execution_count": 3,
   "id": "1b908605",
   "metadata": {},
   "outputs": [],
   "source": [
    "import os\n",
    "\n",
    "# Paths para acceso archivos\n",
    "#Este notebook asume la siguiente estructura de carpetas a partir de la ubicacion de base_dir \n",
    "#(dos niveles arriba de la cƒarpeta donde se ejecuta el notebook). \n",
    "# /ƒ/ƒ\n",
    "# /UA_MDM_Labo2/inputƒ\n",
    "# /UA_MDM_Labo2/input/petfinder-adoption-prediction/            <- Aca deben ir todos los archivos de datos de la competencia \n",
    "# /UA_MDM_Labo2/tutoriales/                       <- Aca deben poner los notebooks y scripts que les compartimos\n",
    "# /UA_MDM_Labo2/work/                             <- Resultados de notebooks iran dentro de esta carpeta en subcarpetas\n",
    "# /UA_MDM_Labo2/work/models/                     <- Modelos entrenados en archivos joblibs\n",
    "# /UA_MDM_Labo2/work/optuna_temp_artifacts/      <- Archivos que queremos dejar como artefacto de un trial de optuna (optuna los copiara a la carpeta de abajo)\n",
    "# /UA_MDM_Labo2/work/optuna_artifacts/           <- Archivos con artefactos que sibimos a optuna\n",
    "\n",
    "#Subimos dos niveles para quedar en la carpeta que contiene input y UA_MDM_Labo2\n",
    "BASE_DIR = '../'\n",
    "\n",
    "#Datos de entrenamiento \n",
    "PATH_TO_TRAIN = os.path.join(BASE_DIR, \"input/petfinder-adoption-prediction/train/train.csv\")\n",
    "\n",
    "#Datos de razas \n",
    "PATH_TO_BREED_LABELS = os.path.join(BASE_DIR, \"modelo/data/petfinder-adoption-prediction/BreedLabels.csv\")\n",
    "\n",
    "#Salida de modelos entrenados\n",
    "PATH_TO_MODELS = os.path.join(BASE_DIR, \"work/models\")\n",
    "\n",
    "#Artefactos a subir a optuna\n",
    "PATH_TO_TEMP_FILES = os.path.join(BASE_DIR, \"work/optuna_temp_artifacts\")\n",
    "\n",
    "#Artefactos que optuna gestiona\n",
    "PATH_TO_OPTUNA_ARTIFACTS = os.path.join(BASE_DIR, \"work/optuna_artifacts\")"
   ]
  },
  {
   "cell_type": "markdown",
   "id": "0e967956",
   "metadata": {},
   "source": [
    "## Feature Engineering"
   ]
  },
  {
   "cell_type": "code",
   "execution_count": 9,
   "id": "2bd789d0",
   "metadata": {},
   "outputs": [],
   "source": [
    "import numpy as np\n",
    "import pandas as pd\n",
    "\n",
    "# Cargar el dataset\n",
    "dataset = pd.read_csv(PATH_TO_TRAIN)\n",
    "\n",
    "# 1. Tiene nombre\n",
    "dataset['HasName'] = dataset['Name'].notnull().astype(int)\n",
    "\n",
    "# 2. Es de raza pura\n",
    "# Cargar etiquetas de razas\n",
    "breed_labels = pd.read_csv(PATH_TO_BREED_LABELS)\n",
    "\n",
    "# Diccionario ID → Nombre de raza\n",
    "id_to_breed = dict(zip(breed_labels['BreedID'], breed_labels['BreedName']))\n",
    "\n",
    "# Crear una nueva columna con el nombre de Breed1\n",
    "dataset['Breed1_name'] = dataset['Breed1'].map(id_to_breed)\n",
    "\n",
    "dataset['PureBreed'] = (\n",
    "    (dataset['Breed2'] == 0) &\n",
    "    (~dataset['Breed1_name'].str.contains('Mixed', case=False, na=False))\n",
    ").astype(int)\n",
    "\n",
    "# 3. Longitud de la descripción\n",
    "dataset['DescLength'] = dataset['Description'].fillna('').apply(len)\n",
    "\n",
    "# 4. Combinación tipo-raza principal\n",
    "dataset['Type_Breed_Combo'] = dataset['Type'].astype(str) + '_' + dataset['Breed1'].astype(str)\n",
    "\n",
    "dataset['Type_Breed_Combo'] = dataset['Type_Breed_Combo'].astype('category')\n",
    "\n",
    "# 5. Tarifa por mascota\n",
    "dataset['Fee_per_Pet'] = np.where(dataset['Quantity'] == 0, 0, dataset['Fee'] / dataset['Quantity'])\n",
    "\n",
    "# 6. Fotos por mascota\n",
    "dataset['Photo_per_Pet'] = np.where(dataset['Quantity'] == 0, 0, dataset['PhotoAmt'] / dataset['Quantity'])\n",
    "\n",
    "# 7. Relación edad/tarifa\n",
    "dataset['Age_Fee_Ratio'] = dataset['Age'] / (dataset['Fee'] + 1)\n",
    "\n",
    "# 8. Longitud descripción por mascota\n",
    "dataset['DescLength_per_Pet'] = np.where(dataset['Quantity'] == 0, 0, dataset['DescLength'] / dataset['Quantity'])\n",
    "\n",
    "# 9. Longitud descripción por cantidad de fotos \n",
    "dataset['DescLength_per_Photo'] = np.where(dataset['PhotoAmt'] == 0,0,dataset['DescLength'] / dataset['PhotoAmt'])\n",
    "\n",
    "# 10. Tarifa promedio por raza\n",
    "breed_fee_mean = dataset.groupby('Breed1')['Fee'].mean()\n",
    "\n",
    "dataset['Fee_Breed_Ratio'] = dataset['Fee'] / (dataset['Breed1'].map(breed_fee_mean) + 1)\n",
    "\n",
    "# 11. Categorias de edades\n",
    "def categorizar_edad(meses):\n",
    "    if pd.isna(meses):\n",
    "        return np.nan\n",
    "    elif meses <= 6:\n",
    "        return 'Cachorro'\n",
    "    elif meses <= 24:\n",
    "        return 'Joven'\n",
    "    elif meses <= 72:\n",
    "        return 'Adulto'\n",
    "    elif meses <= 120:\n",
    "        return 'Mayor'\n",
    "    else:\n",
    "        return 'Anciano'\n",
    "\n",
    "dataset['AgeGroup'] = dataset['Age'].apply(categorizar_edad)\n",
    "dataset['AgeGroup'] = pd.Categorical(dataset['AgeGroup'], categories=['Cachorro', 'Joven', 'Adulto', 'Mayor', 'Anciano'], ordered=True)\n"
   ]
  },
  {
   "cell_type": "code",
   "execution_count": 10,
   "id": "56111d8e",
   "metadata": {},
   "outputs": [
    {
     "data": {
      "text/plain": [
       "['Type',\n",
       " 'Age',\n",
       " 'Breed1',\n",
       " 'Breed2',\n",
       " 'Gender',\n",
       " 'Color1',\n",
       " 'Color2',\n",
       " 'Color3',\n",
       " 'MaturitySize',\n",
       " 'FurLength',\n",
       " 'Vaccinated',\n",
       " 'Dewormed',\n",
       " 'Sterilized',\n",
       " 'Health',\n",
       " 'Quantity',\n",
       " 'Fee',\n",
       " 'State',\n",
       " 'VideoAmt',\n",
       " 'PhotoAmt',\n",
       " 'HasName',\n",
       " 'PureBreed',\n",
       " 'DescLength',\n",
       " 'Type_Breed_Combo',\n",
       " 'Fee_per_Pet',\n",
       " 'Photo_per_Pet',\n",
       " 'Age_Fee_Ratio',\n",
       " 'DescLength_per_Pet',\n",
       " 'DescLength_per_Photo',\n",
       " 'Fee_Breed_Ratio',\n",
       " 'AgeGroup']"
      ]
     },
     "execution_count": 10,
     "metadata": {},
     "output_type": "execute_result"
    }
   ],
   "source": [
    "#Separo un 20% para test estratificado opr target\n",
    "train, test = train_test_split(dataset,\n",
    "                               test_size = TEST_SIZE,\n",
    "                               random_state = SEED,\n",
    "                               stratify = dataset.AdoptionSpeed)\n",
    "\n",
    "#Armo listas con features de texto y numericas\n",
    "char_feats = [f for f in dataset.columns if dataset[f].dtype=='O']\n",
    "numeric_feats = [f for f in dataset.columns if dataset[f].dtype!='O']\n",
    "\n",
    "#Defino features a usar\n",
    "features = numeric_feats.copy()\n",
    "\n",
    "label = 'AdoptionSpeed'\n",
    "\n",
    "# Eliminamos 'AdoptionSpeed' si está\n",
    "if 'AdoptionSpeed' in features:\n",
    "    features.remove('AdoptionSpeed')\n",
    "\n",
    "#Genero dataframes de train y test con sus respectivos targets\n",
    "X_train = train[features]\n",
    "y_train = train[label]\n",
    "\n",
    "X_test = test[features]\n",
    "y_test = test[label]\n",
    "\n",
    "features"
   ]
  },
  {
   "cell_type": "markdown",
   "id": "3b09eae2",
   "metadata": {},
   "source": [
    "## Modelo con hiperparametros por default"
   ]
  },
  {
   "cell_type": "code",
   "execution_count": 11,
   "id": "f4cacb84",
   "metadata": {},
   "outputs": [
    {
     "name": "stdout",
     "output_type": "stream",
     "text": [
      "[LightGBM] [Info] Auto-choosing row-wise multi-threading, the overhead of testing was 0.001131 seconds.\n",
      "You can set `force_row_wise=true` to remove the overhead.\n",
      "And if memory is not enough, you can set `force_col_wise=true`.\n",
      "[LightGBM] [Info] Total Bins 1951\n",
      "[LightGBM] [Info] Number of data points in the train set: 11994, number of used features: 30\n",
      "[LightGBM] [Info] Start training from score -3.599148\n",
      "[LightGBM] [Info] Start training from score -1.579379\n",
      "[LightGBM] [Info] Start training from score -1.311924\n",
      "[LightGBM] [Info] Start training from score -1.526206\n",
      "[LightGBM] [Info] Start training from score -1.273359\n"
     ]
    }
   ],
   "source": [
    "#Entreno un modelo inicial sin modificar hiperparametros. Solamente especifico el numero de clases y el tipo de modelo como clasificacoión\n",
    "lgb_params = params = {\n",
    "                        'objective': 'multiclass',\n",
    "                        'num_class': len(y_train.unique()),\n",
    "                        'seed':SEED\n",
    "                        }\n",
    "\n",
    "\n",
    "#genero el objeto Dataset que debo pasarle a lightgbm para que entrene\n",
    "lgb_train_dataset = lgb.Dataset(data=X_train,\n",
    "                                label=y_train)\n",
    "\n",
    "#entreno el modelo con los parametros por defecto\n",
    "lgb_model1 = lgb.train(lgb_params,\n",
    "                      lgb_train_dataset)"
   ]
  },
  {
   "cell_type": "code",
   "execution_count": 12,
   "id": "de7e6584",
   "metadata": {},
   "outputs": [
    {
     "data": {
      "text/plain": [
       "array([2, 2, 2, ..., 1, 4, 4], shape=(2999,))"
      ]
     },
     "execution_count": 12,
     "metadata": {},
     "output_type": "execute_result"
    }
   ],
   "source": [
    "lgb_model1.predict(X_test).argmax(axis=1)"
   ]
  },
  {
   "cell_type": "code",
   "execution_count": 13,
   "id": "b0683698",
   "metadata": {},
   "outputs": [
    {
     "name": "stdout",
     "output_type": "stream",
     "text": [
      "0.34723658384407885\n"
     ]
    },
    {
     "data": {
      "application/vnd.plotly.v1+json": {
       "config": {
        "plotlyServerURL": "https://plot.ly"
       },
       "data": [
        {
         "type": "heatmap",
         "x": {
          "bdata": "AAECAwQ=",
          "dtype": "i1"
         },
         "y": {
          "bdata": "AAECAwQ=",
          "dtype": "i1"
         },
         "z": {
          "bdata": "RO1K1K5EHUAsUbsStStHQJyPwfkYnDlAg/MxOB+DE0C1K1G7ErUvQBC8SevU4+k/6vHsmtFXQEAcJspcUANDQIv4BFLJeSFAzAU1wLi9M0CZSSgX8bjPP1CK1M5srzVAAC55rpbTQ0CAeRdafMgoQF8M/8S1BTpAsDCrUcSh0z9bgm/zV5gvQLMaRRw6aUBA6pnKdceLNkDAwqxGEYc8QJ/neZ7ned4/ep7neZ7nJUC3bdu2bdsxQOh5nud5niFAPc/zPM/zTkA=",
          "dtype": "f8",
          "shape": "5, 5"
         }
        }
       ],
       "layout": {
        "annotations": [
         {
          "font": {
           "color": "white"
          },
          "showarrow": false,
          "text": "7.3 - 6",
          "x": 0,
          "xref": "x",
          "y": 0,
          "yref": "y"
         },
         {
          "font": {
           "color": "white"
          },
          "showarrow": false,
          "text": "46.3 - 38",
          "x": 1,
          "xref": "x",
          "y": 0,
          "yref": "y"
         },
         {
          "font": {
           "color": "white"
          },
          "showarrow": false,
          "text": "25.6 - 21",
          "x": 2,
          "xref": "x",
          "y": 0,
          "yref": "y"
         },
         {
          "font": {
           "color": "white"
          },
          "showarrow": false,
          "text": "4.9 - 4",
          "x": 3,
          "xref": "x",
          "y": 0,
          "yref": "y"
         },
         {
          "font": {
           "color": "white"
          },
          "showarrow": false,
          "text": "15.9 - 13",
          "x": 4,
          "xref": "x",
          "y": 0,
          "yref": "y"
         },
         {
          "font": {
           "color": "white"
          },
          "showarrow": false,
          "text": "0.8 - 5",
          "x": 0,
          "xref": "x",
          "y": 1,
          "yref": "y"
         },
         {
          "font": {
           "color": "white"
          },
          "showarrow": false,
          "text": "32.7 - 202",
          "x": 1,
          "xref": "x",
          "y": 1,
          "yref": "y"
         },
         {
          "font": {
           "color": "white"
          },
          "showarrow": false,
          "text": "38.0 - 235",
          "x": 2,
          "xref": "x",
          "y": 1,
          "yref": "y"
         },
         {
          "font": {
           "color": "white"
          },
          "showarrow": false,
          "text": "8.7 - 54",
          "x": 3,
          "xref": "x",
          "y": 1,
          "yref": "y"
         },
         {
          "font": {
           "color": "white"
          },
          "showarrow": false,
          "text": "19.7 - 122",
          "x": 4,
          "xref": "x",
          "y": 1,
          "yref": "y"
         },
         {
          "font": {
           "color": "white"
          },
          "showarrow": false,
          "text": "0.2 - 2",
          "x": 0,
          "xref": "x",
          "y": 2,
          "yref": "y"
         },
         {
          "font": {
           "color": "white"
          },
          "showarrow": false,
          "text": "21.7 - 175",
          "x": 1,
          "xref": "x",
          "y": 2,
          "yref": "y"
         },
         {
          "font": {
           "color": "white"
          },
          "showarrow": false,
          "text": "39.7 - 320",
          "x": 2,
          "xref": "x",
          "y": 2,
          "yref": "y"
         },
         {
          "font": {
           "color": "white"
          },
          "showarrow": false,
          "text": "12.4 - 100",
          "x": 3,
          "xref": "x",
          "y": 2,
          "yref": "y"
         },
         {
          "font": {
           "color": "white"
          },
          "showarrow": false,
          "text": "26.0 - 210",
          "x": 4,
          "xref": "x",
          "y": 2,
          "yref": "y"
         },
         {
          "font": {
           "color": "white"
          },
          "showarrow": false,
          "text": "0.3 - 2",
          "x": 0,
          "xref": "x",
          "y": 3,
          "yref": "y"
         },
         {
          "font": {
           "color": "white"
          },
          "showarrow": false,
          "text": "15.8 - 103",
          "x": 1,
          "xref": "x",
          "y": 3,
          "yref": "y"
         },
         {
          "font": {
           "color": "white"
          },
          "showarrow": false,
          "text": "32.8 - 214",
          "x": 2,
          "xref": "x",
          "y": 3,
          "yref": "y"
         },
         {
          "font": {
           "color": "white"
          },
          "showarrow": false,
          "text": "22.5 - 147",
          "x": 3,
          "xref": "x",
          "y": 3,
          "yref": "y"
         },
         {
          "font": {
           "color": "white"
          },
          "showarrow": false,
          "text": "28.5 - 186",
          "x": 4,
          "xref": "x",
          "y": 3,
          "yref": "y"
         },
         {
          "font": {
           "color": "white"
          },
          "showarrow": false,
          "text": "0.5 - 4",
          "x": 0,
          "xref": "x",
          "y": 4,
          "yref": "y"
         },
         {
          "font": {
           "color": "white"
          },
          "showarrow": false,
          "text": "11.0 - 92",
          "x": 1,
          "xref": "x",
          "y": 4,
          "yref": "y"
         },
         {
          "font": {
           "color": "white"
          },
          "showarrow": false,
          "text": "17.9 - 150",
          "x": 2,
          "xref": "x",
          "y": 4,
          "yref": "y"
         },
         {
          "font": {
           "color": "white"
          },
          "showarrow": false,
          "text": "8.8 - 74",
          "x": 3,
          "xref": "x",
          "y": 4,
          "yref": "y"
         },
         {
          "font": {
           "color": "white"
          },
          "showarrow": false,
          "text": "61.9 - 520",
          "x": 4,
          "xref": "x",
          "y": 4,
          "yref": "y"
         }
        ],
        "height": 800,
        "template": {
         "data": {
          "bar": [
           {
            "error_x": {
             "color": "#2a3f5f"
            },
            "error_y": {
             "color": "#2a3f5f"
            },
            "marker": {
             "line": {
              "color": "#E5ECF6",
              "width": 0.5
             },
             "pattern": {
              "fillmode": "overlay",
              "size": 10,
              "solidity": 0.2
             }
            },
            "type": "bar"
           }
          ],
          "barpolar": [
           {
            "marker": {
             "line": {
              "color": "#E5ECF6",
              "width": 0.5
             },
             "pattern": {
              "fillmode": "overlay",
              "size": 10,
              "solidity": 0.2
             }
            },
            "type": "barpolar"
           }
          ],
          "carpet": [
           {
            "aaxis": {
             "endlinecolor": "#2a3f5f",
             "gridcolor": "white",
             "linecolor": "white",
             "minorgridcolor": "white",
             "startlinecolor": "#2a3f5f"
            },
            "baxis": {
             "endlinecolor": "#2a3f5f",
             "gridcolor": "white",
             "linecolor": "white",
             "minorgridcolor": "white",
             "startlinecolor": "#2a3f5f"
            },
            "type": "carpet"
           }
          ],
          "choropleth": [
           {
            "colorbar": {
             "outlinewidth": 0,
             "ticks": ""
            },
            "type": "choropleth"
           }
          ],
          "contour": [
           {
            "colorbar": {
             "outlinewidth": 0,
             "ticks": ""
            },
            "colorscale": [
             [
              0,
              "#0d0887"
             ],
             [
              0.1111111111111111,
              "#46039f"
             ],
             [
              0.2222222222222222,
              "#7201a8"
             ],
             [
              0.3333333333333333,
              "#9c179e"
             ],
             [
              0.4444444444444444,
              "#bd3786"
             ],
             [
              0.5555555555555556,
              "#d8576b"
             ],
             [
              0.6666666666666666,
              "#ed7953"
             ],
             [
              0.7777777777777778,
              "#fb9f3a"
             ],
             [
              0.8888888888888888,
              "#fdca26"
             ],
             [
              1,
              "#f0f921"
             ]
            ],
            "type": "contour"
           }
          ],
          "contourcarpet": [
           {
            "colorbar": {
             "outlinewidth": 0,
             "ticks": ""
            },
            "type": "contourcarpet"
           }
          ],
          "heatmap": [
           {
            "colorbar": {
             "outlinewidth": 0,
             "ticks": ""
            },
            "colorscale": [
             [
              0,
              "#0d0887"
             ],
             [
              0.1111111111111111,
              "#46039f"
             ],
             [
              0.2222222222222222,
              "#7201a8"
             ],
             [
              0.3333333333333333,
              "#9c179e"
             ],
             [
              0.4444444444444444,
              "#bd3786"
             ],
             [
              0.5555555555555556,
              "#d8576b"
             ],
             [
              0.6666666666666666,
              "#ed7953"
             ],
             [
              0.7777777777777778,
              "#fb9f3a"
             ],
             [
              0.8888888888888888,
              "#fdca26"
             ],
             [
              1,
              "#f0f921"
             ]
            ],
            "type": "heatmap"
           }
          ],
          "histogram": [
           {
            "marker": {
             "pattern": {
              "fillmode": "overlay",
              "size": 10,
              "solidity": 0.2
             }
            },
            "type": "histogram"
           }
          ],
          "histogram2d": [
           {
            "colorbar": {
             "outlinewidth": 0,
             "ticks": ""
            },
            "colorscale": [
             [
              0,
              "#0d0887"
             ],
             [
              0.1111111111111111,
              "#46039f"
             ],
             [
              0.2222222222222222,
              "#7201a8"
             ],
             [
              0.3333333333333333,
              "#9c179e"
             ],
             [
              0.4444444444444444,
              "#bd3786"
             ],
             [
              0.5555555555555556,
              "#d8576b"
             ],
             [
              0.6666666666666666,
              "#ed7953"
             ],
             [
              0.7777777777777778,
              "#fb9f3a"
             ],
             [
              0.8888888888888888,
              "#fdca26"
             ],
             [
              1,
              "#f0f921"
             ]
            ],
            "type": "histogram2d"
           }
          ],
          "histogram2dcontour": [
           {
            "colorbar": {
             "outlinewidth": 0,
             "ticks": ""
            },
            "colorscale": [
             [
              0,
              "#0d0887"
             ],
             [
              0.1111111111111111,
              "#46039f"
             ],
             [
              0.2222222222222222,
              "#7201a8"
             ],
             [
              0.3333333333333333,
              "#9c179e"
             ],
             [
              0.4444444444444444,
              "#bd3786"
             ],
             [
              0.5555555555555556,
              "#d8576b"
             ],
             [
              0.6666666666666666,
              "#ed7953"
             ],
             [
              0.7777777777777778,
              "#fb9f3a"
             ],
             [
              0.8888888888888888,
              "#fdca26"
             ],
             [
              1,
              "#f0f921"
             ]
            ],
            "type": "histogram2dcontour"
           }
          ],
          "mesh3d": [
           {
            "colorbar": {
             "outlinewidth": 0,
             "ticks": ""
            },
            "type": "mesh3d"
           }
          ],
          "parcoords": [
           {
            "line": {
             "colorbar": {
              "outlinewidth": 0,
              "ticks": ""
             }
            },
            "type": "parcoords"
           }
          ],
          "pie": [
           {
            "automargin": true,
            "type": "pie"
           }
          ],
          "scatter": [
           {
            "fillpattern": {
             "fillmode": "overlay",
             "size": 10,
             "solidity": 0.2
            },
            "type": "scatter"
           }
          ],
          "scatter3d": [
           {
            "line": {
             "colorbar": {
              "outlinewidth": 0,
              "ticks": ""
             }
            },
            "marker": {
             "colorbar": {
              "outlinewidth": 0,
              "ticks": ""
             }
            },
            "type": "scatter3d"
           }
          ],
          "scattercarpet": [
           {
            "marker": {
             "colorbar": {
              "outlinewidth": 0,
              "ticks": ""
             }
            },
            "type": "scattercarpet"
           }
          ],
          "scattergeo": [
           {
            "marker": {
             "colorbar": {
              "outlinewidth": 0,
              "ticks": ""
             }
            },
            "type": "scattergeo"
           }
          ],
          "scattergl": [
           {
            "marker": {
             "colorbar": {
              "outlinewidth": 0,
              "ticks": ""
             }
            },
            "type": "scattergl"
           }
          ],
          "scattermap": [
           {
            "marker": {
             "colorbar": {
              "outlinewidth": 0,
              "ticks": ""
             }
            },
            "type": "scattermap"
           }
          ],
          "scattermapbox": [
           {
            "marker": {
             "colorbar": {
              "outlinewidth": 0,
              "ticks": ""
             }
            },
            "type": "scattermapbox"
           }
          ],
          "scatterpolar": [
           {
            "marker": {
             "colorbar": {
              "outlinewidth": 0,
              "ticks": ""
             }
            },
            "type": "scatterpolar"
           }
          ],
          "scatterpolargl": [
           {
            "marker": {
             "colorbar": {
              "outlinewidth": 0,
              "ticks": ""
             }
            },
            "type": "scatterpolargl"
           }
          ],
          "scatterternary": [
           {
            "marker": {
             "colorbar": {
              "outlinewidth": 0,
              "ticks": ""
             }
            },
            "type": "scatterternary"
           }
          ],
          "surface": [
           {
            "colorbar": {
             "outlinewidth": 0,
             "ticks": ""
            },
            "colorscale": [
             [
              0,
              "#0d0887"
             ],
             [
              0.1111111111111111,
              "#46039f"
             ],
             [
              0.2222222222222222,
              "#7201a8"
             ],
             [
              0.3333333333333333,
              "#9c179e"
             ],
             [
              0.4444444444444444,
              "#bd3786"
             ],
             [
              0.5555555555555556,
              "#d8576b"
             ],
             [
              0.6666666666666666,
              "#ed7953"
             ],
             [
              0.7777777777777778,
              "#fb9f3a"
             ],
             [
              0.8888888888888888,
              "#fdca26"
             ],
             [
              1,
              "#f0f921"
             ]
            ],
            "type": "surface"
           }
          ],
          "table": [
           {
            "cells": {
             "fill": {
              "color": "#EBF0F8"
             },
             "line": {
              "color": "white"
             }
            },
            "header": {
             "fill": {
              "color": "#C8D4E3"
             },
             "line": {
              "color": "white"
             }
            },
            "type": "table"
           }
          ]
         },
         "layout": {
          "annotationdefaults": {
           "arrowcolor": "#2a3f5f",
           "arrowhead": 0,
           "arrowwidth": 1
          },
          "autotypenumbers": "strict",
          "coloraxis": {
           "colorbar": {
            "outlinewidth": 0,
            "ticks": ""
           }
          },
          "colorscale": {
           "diverging": [
            [
             0,
             "#8e0152"
            ],
            [
             0.1,
             "#c51b7d"
            ],
            [
             0.2,
             "#de77ae"
            ],
            [
             0.3,
             "#f1b6da"
            ],
            [
             0.4,
             "#fde0ef"
            ],
            [
             0.5,
             "#f7f7f7"
            ],
            [
             0.6,
             "#e6f5d0"
            ],
            [
             0.7,
             "#b8e186"
            ],
            [
             0.8,
             "#7fbc41"
            ],
            [
             0.9,
             "#4d9221"
            ],
            [
             1,
             "#276419"
            ]
           ],
           "sequential": [
            [
             0,
             "#0d0887"
            ],
            [
             0.1111111111111111,
             "#46039f"
            ],
            [
             0.2222222222222222,
             "#7201a8"
            ],
            [
             0.3333333333333333,
             "#9c179e"
            ],
            [
             0.4444444444444444,
             "#bd3786"
            ],
            [
             0.5555555555555556,
             "#d8576b"
            ],
            [
             0.6666666666666666,
             "#ed7953"
            ],
            [
             0.7777777777777778,
             "#fb9f3a"
            ],
            [
             0.8888888888888888,
             "#fdca26"
            ],
            [
             1,
             "#f0f921"
            ]
           ],
           "sequentialminus": [
            [
             0,
             "#0d0887"
            ],
            [
             0.1111111111111111,
             "#46039f"
            ],
            [
             0.2222222222222222,
             "#7201a8"
            ],
            [
             0.3333333333333333,
             "#9c179e"
            ],
            [
             0.4444444444444444,
             "#bd3786"
            ],
            [
             0.5555555555555556,
             "#d8576b"
            ],
            [
             0.6666666666666666,
             "#ed7953"
            ],
            [
             0.7777777777777778,
             "#fb9f3a"
            ],
            [
             0.8888888888888888,
             "#fdca26"
            ],
            [
             1,
             "#f0f921"
            ]
           ]
          },
          "colorway": [
           "#636efa",
           "#EF553B",
           "#00cc96",
           "#ab63fa",
           "#FFA15A",
           "#19d3f3",
           "#FF6692",
           "#B6E880",
           "#FF97FF",
           "#FECB52"
          ],
          "font": {
           "color": "#2a3f5f"
          },
          "geo": {
           "bgcolor": "white",
           "lakecolor": "white",
           "landcolor": "#E5ECF6",
           "showlakes": true,
           "showland": true,
           "subunitcolor": "white"
          },
          "hoverlabel": {
           "align": "left"
          },
          "hovermode": "closest",
          "mapbox": {
           "style": "light"
          },
          "paper_bgcolor": "white",
          "plot_bgcolor": "#E5ECF6",
          "polar": {
           "angularaxis": {
            "gridcolor": "white",
            "linecolor": "white",
            "ticks": ""
           },
           "bgcolor": "#E5ECF6",
           "radialaxis": {
            "gridcolor": "white",
            "linecolor": "white",
            "ticks": ""
           }
          },
          "scene": {
           "xaxis": {
            "backgroundcolor": "#E5ECF6",
            "gridcolor": "white",
            "gridwidth": 2,
            "linecolor": "white",
            "showbackground": true,
            "ticks": "",
            "zerolinecolor": "white"
           },
           "yaxis": {
            "backgroundcolor": "#E5ECF6",
            "gridcolor": "white",
            "gridwidth": 2,
            "linecolor": "white",
            "showbackground": true,
            "ticks": "",
            "zerolinecolor": "white"
           },
           "zaxis": {
            "backgroundcolor": "#E5ECF6",
            "gridcolor": "white",
            "gridwidth": 2,
            "linecolor": "white",
            "showbackground": true,
            "ticks": "",
            "zerolinecolor": "white"
           }
          },
          "shapedefaults": {
           "line": {
            "color": "#2a3f5f"
           }
          },
          "ternary": {
           "aaxis": {
            "gridcolor": "white",
            "linecolor": "white",
            "ticks": ""
           },
           "baxis": {
            "gridcolor": "white",
            "linecolor": "white",
            "ticks": ""
           },
           "bgcolor": "#E5ECF6",
           "caxis": {
            "gridcolor": "white",
            "linecolor": "white",
            "ticks": ""
           }
          },
          "title": {
           "x": 0.05
          },
          "xaxis": {
           "automargin": true,
           "gridcolor": "white",
           "linecolor": "white",
           "ticks": "",
           "title": {
            "standoff": 15
           },
           "zerolinecolor": "white",
           "zerolinewidth": 2
          },
          "yaxis": {
           "automargin": true,
           "gridcolor": "white",
           "linecolor": "white",
           "ticks": "",
           "title": {
            "standoff": 15
           },
           "zerolinecolor": "white",
           "zerolinewidth": 2
          }
         }
        },
        "title": {
         "text": "Conf Matrix"
        },
        "width": 800,
        "xaxis": {
         "title": {
          "text": "Predicted value"
         }
        },
        "yaxis": {
         "title": {
          "text": "Real value"
         }
        }
       }
      }
     },
     "metadata": {},
     "output_type": "display_data"
    }
   ],
   "source": [
    "#Obtengo las predicciones sobre el set de test. El modelo me da una lista de probabilidades para cada clase y tomo la clase con mayor probabilidad con la funcion argmax\n",
    "y_pred = lgb_model1.predict(X_test).argmax(axis=1)\n",
    "\n",
    "#Calculo el Kappa\n",
    "print(cohen_kappa_score(y_test,y_pred, weights = 'quadratic'))\n",
    "\n",
    "#Muestro la matriz de confusión\n",
    "display(plot_confusion_matrix(y_test,y_pred))"
   ]
  },
  {
   "cell_type": "markdown",
   "id": "0270bbba",
   "metadata": {},
   "source": [
    "## Modelo con optimizacion de hiperparametros train/test"
   ]
  },
  {
   "cell_type": "code",
   "execution_count": 17,
   "id": "f521b491",
   "metadata": {},
   "outputs": [],
   "source": [
    "from optuna.artifacts import FileSystemArtifactStore, upload_artifact\n",
    "from sklearn.metrics import cohen_kappa_score, confusion_matrix, ConfusionMatrixDisplay\n",
    "from joblib import dump\n",
    "import matplotlib.pyplot as plt\n",
    "import os\n",
    "\n",
    "def lgb_objective(trial):\n",
    "    # Hiperparámetros\n",
    "    lgb_params = {\n",
    "        'objective': 'multiclass',\n",
    "        'verbosity': -1,\n",
    "        'num_class': len(y_train.unique()),\n",
    "        'lambda_l1': trial.suggest_float('lambda_l1', 1e-8, 10.0, log=True),\n",
    "        'lambda_l2': trial.suggest_float('lambda_l2', 1e-8, 10.0, log=True),\n",
    "        'num_leaves': trial.suggest_int('num_leaves', 2, 256),\n",
    "        'feature_fraction': trial.suggest_float('feature_fraction', 0.4, 1.0),\n",
    "        'bagging_fraction': trial.suggest_float('bagging_fraction', 0.4, 1.0),\n",
    "        'bagging_freq': trial.suggest_int('bagging_freq', 1, 7),\n",
    "        'min_child_samples': trial.suggest_int('min_child_samples', 5, 100),\n",
    "        'seed':SEED\n",
    "    }\n",
    "\n",
    "    # Dataset LightGBM\n",
    "    lgb_train_dataset = lgb.Dataset(data=X_train, label=y_train)\n",
    "\n",
    "    # Entrenamiento\n",
    "    lgb_model2 = lgb.train(lgb_params, lgb_train_dataset)\n",
    "\n",
    "    # Predicciones\n",
    "    y_pred_proba = lgb_model2.predict(X_test)\n",
    "    y_pred = y_pred_proba.argmax(axis=1)\n",
    "\n",
    "    # Inicializar el store de artefactos\n",
    "    artifact_store = FileSystemArtifactStore(base_path=PATH_TO_OPTUNA_ARTIFACTS)\n",
    "\n",
    "    # Guardar predicciones\n",
    "    predicted_filename = os.path.join(PATH_TO_TEMP_FILES, f'test_{trial.study.study_name}_{trial.number}.joblib')\n",
    "    pred_df = test.copy()\n",
    "    pred_df['pred'] = [y_pred_proba[p, :] for p in range(y_pred_proba.shape[0])]\n",
    "    dump(pred_df, predicted_filename)\n",
    "\n",
    "    upload_artifact(\n",
    "        study_or_trial=trial,\n",
    "        file_path=predicted_filename,\n",
    "        artifact_store=artifact_store\n",
    "    )\n",
    "\n",
    "    # Guardar métrica auxiliar\n",
    "    test_score = cohen_kappa_score(y_test, y_pred, weights='quadratic')\n",
    "    trial.set_user_attr(\"test_score\", test_score)\n",
    "\n",
    "    return test_score\n"
   ]
  },
  {
   "cell_type": "code",
   "execution_count": 18,
   "id": "e5f668a9",
   "metadata": {},
   "outputs": [
    {
     "name": "stderr",
     "output_type": "stream",
     "text": [
      "[I 2025-05-09 12:18:14,741] Using an existing study with name '100_LGBM_FE_JM_100b_completo' instead of creating a new one.\n",
      "[I 2025-05-09 12:18:18,785] Trial 0 finished with value: 0.3167546487146786 and parameters: {'lambda_l1': 2.348881295853308e-05, 'lambda_l2': 3.6010467344475403, 'num_leaves': 188, 'feature_fraction': 0.759195090518222, 'bagging_fraction': 0.4936111842654619, 'bagging_freq': 2, 'min_child_samples': 10}. Best is trial 0 with value: 0.3167546487146786.\n",
      "[I 2025-05-09 12:18:22,587] Trial 1 finished with value: 0.30555079982361344 and parameters: {'lambda_l1': 0.6245760287469893, 'lambda_l2': 0.002570603566117598, 'num_leaves': 182, 'feature_fraction': 0.41235069657748147, 'bagging_fraction': 0.9819459112971965, 'bagging_freq': 6, 'min_child_samples': 25}. Best is trial 0 with value: 0.3167546487146786.\n",
      "[I 2025-05-09 12:18:24,740] Trial 2 finished with value: 0.32236767059149873 and parameters: {'lambda_l1': 4.329370014459266e-07, 'lambda_l2': 4.4734294104626844e-07, 'num_leaves': 79, 'feature_fraction': 0.7148538589793427, 'bagging_fraction': 0.6591670111852694, 'bagging_freq': 3, 'min_child_samples': 63}. Best is trial 2 with value: 0.32236767059149873.\n",
      "[I 2025-05-09 12:18:26,802] Trial 3 finished with value: 0.31259104929214676 and parameters: {'lambda_l1': 1.8007140198129195e-07, 'lambda_l2': 4.258943089524393e-06, 'num_leaves': 95, 'feature_fraction': 0.6736419905302216, 'bagging_fraction': 0.8711055768358081, 'bagging_freq': 2, 'min_child_samples': 54}. Best is trial 2 with value: 0.32236767059149873.\n",
      "[I 2025-05-09 12:18:27,902] Trial 4 finished with value: 0.32960127333199085 and parameters: {'lambda_l1': 0.0021465011216654484, 'lambda_l2': 2.6185068507773707e-08, 'num_leaves': 156, 'feature_fraction': 0.502314474212375, 'bagging_fraction': 0.43903095579116774, 'bagging_freq': 7, 'min_child_samples': 97}. Best is trial 4 with value: 0.32960127333199085.\n",
      "[I 2025-05-09 12:18:29,049] Trial 5 finished with value: 0.3341816209873998 and parameters: {'lambda_l1': 0.18861495878553936, 'lambda_l2': 5.514725787121931e-06, 'num_leaves': 26, 'feature_fraction': 0.8105398159072941, 'bagging_fraction': 0.6640914962437607, 'bagging_freq': 1, 'min_child_samples': 52}. Best is trial 5 with value: 0.3341816209873998.\n",
      "[I 2025-05-09 12:18:30,766] Trial 6 finished with value: 0.3352909894645594 and parameters: {'lambda_l1': 2.039373116525212e-08, 'lambda_l2': 1.527156759251193, 'num_leaves': 67, 'feature_fraction': 0.7975133706123891, 'bagging_fraction': 0.5870266456536466, 'bagging_freq': 4, 'min_child_samples': 57}. Best is trial 6 with value: 0.3352909894645594.\n",
      "[I 2025-05-09 12:18:32,832] Trial 7 finished with value: 0.32608777157697755 and parameters: {'lambda_l1': 4.609885087947832e-07, 'lambda_l2': 5.324289357128436, 'num_leaves': 199, 'feature_fraction': 0.9636993649385135, 'bagging_fraction': 0.9368964102565893, 'bagging_freq': 5, 'min_child_samples': 93}. Best is trial 6 with value: 0.3352909894645594.\n",
      "[I 2025-05-09 12:18:33,501] Trial 8 finished with value: 0.3178489178491043 and parameters: {'lambda_l1': 6.257956190096665e-08, 'lambda_l2': 5.805581976088804e-07, 'num_leaves': 13, 'feature_fraction': 0.5951981984579586, 'bagging_fraction': 0.6332063738136893, 'bagging_freq': 2, 'min_child_samples': 84}. Best is trial 6 with value: 0.3352909894645594.\n",
      "[I 2025-05-09 12:18:35,475] Trial 9 finished with value: 0.3299092230288664 and parameters: {'lambda_l1': 1.6247252885719427e-05, 'lambda_l2': 3.376063348877853e-06, 'num_leaves': 140, 'feature_fraction': 0.4845545349848576, 'bagging_fraction': 0.8813181884524238, 'bagging_freq': 1, 'min_child_samples': 99}. Best is trial 6 with value: 0.3352909894645594.\n",
      "[I 2025-05-09 12:18:37,856] Trial 10 finished with value: 0.3171131453688947 and parameters: {'lambda_l1': 0.0004197301954670796, 'lambda_l2': 0.022657024151623514, 'num_leaves': 249, 'feature_fraction': 0.9222961838648158, 'bagging_fraction': 0.5636121263206508, 'bagging_freq': 4, 'min_child_samples': 39}. Best is trial 6 with value: 0.3352909894645594.\n",
      "[I 2025-05-09 12:18:38,806] Trial 11 finished with value: 0.3254886279933744 and parameters: {'lambda_l1': 5.852396820260252, 'lambda_l2': 0.0002830080003726827, 'num_leaves': 11, 'feature_fraction': 0.8310282292850516, 'bagging_fraction': 0.7591712253366455, 'bagging_freq': 4, 'min_child_samples': 67}. Best is trial 6 with value: 0.3352909894645594.\n",
      "[I 2025-05-09 12:18:40,887] Trial 12 finished with value: 0.33610563028474094 and parameters: {'lambda_l1': 0.0328937969285657, 'lambda_l2': 0.10613573572440456, 'num_leaves': 49, 'feature_fraction': 0.8379094263561422, 'bagging_fraction': 0.7533356846822001, 'bagging_freq': 1, 'min_child_samples': 43}. Best is trial 12 with value: 0.33610563028474094.\n",
      "[I 2025-05-09 12:18:42,844] Trial 13 finished with value: 0.30260177438396674 and parameters: {'lambda_l1': 0.016063101739857425, 'lambda_l2': 0.15413037805819169, 'num_leaves': 65, 'feature_fraction': 0.8728800117327087, 'bagging_fraction': 0.7632862882120423, 'bagging_freq': 5, 'min_child_samples': 36}. Best is trial 12 with value: 0.33610563028474094.\n",
      "[I 2025-05-09 12:18:44,563] Trial 14 finished with value: 0.31396974562544777 and parameters: {'lambda_l1': 0.0073585404742448485, 'lambda_l2': 0.1465818222755566, 'num_leaves': 51, 'feature_fraction': 0.6501547649965004, 'bagging_fraction': 0.7715007264424557, 'bagging_freq': 3, 'min_child_samples': 74}. Best is trial 12 with value: 0.33610563028474094.\n",
      "[I 2025-05-09 12:18:47,178] Trial 15 finished with value: 0.3246642530656395 and parameters: {'lambda_l1': 3.076412916854242e-05, 'lambda_l2': 0.5950160289187277, 'num_leaves': 107, 'feature_fraction': 0.9913969430916904, 'bagging_fraction': 0.5480395289914732, 'bagging_freq': 7, 'min_child_samples': 43}. Best is trial 12 with value: 0.33610563028474094.\n",
      "[I 2025-05-09 12:18:49,317] Trial 16 finished with value: 0.31665074476432353 and parameters: {'lambda_l1': 0.09287123052276484, 'lambda_l2': 0.001159746177530042, 'num_leaves': 47, 'feature_fraction': 0.7679111540750627, 'bagging_fraction': 0.5750967906564144, 'bagging_freq': 4, 'min_child_samples': 19}. Best is trial 12 with value: 0.33610563028474094.\n",
      "[I 2025-05-09 12:18:52,133] Trial 17 finished with value: 0.30456772923379205 and parameters: {'lambda_l1': 2.475695797061258e-06, 'lambda_l2': 0.01746428052787973, 'num_leaves': 112, 'feature_fraction': 0.8906016623094432, 'bagging_fraction': 0.7254712411700664, 'bagging_freq': 3, 'min_child_samples': 53}. Best is trial 12 with value: 0.33610563028474094.\n",
      "[I 2025-05-09 12:18:53,638] Trial 18 finished with value: 0.32665374641657086 and parameters: {'lambda_l1': 2.043595987812914e-08, 'lambda_l2': 0.0001069888748239574, 'num_leaves': 41, 'feature_fraction': 0.8127474309080837, 'bagging_fraction': 0.8331672883364218, 'bagging_freq': 5, 'min_child_samples': 29}. Best is trial 12 with value: 0.33610563028474094.\n",
      "[I 2025-05-09 12:18:55,163] Trial 19 finished with value: 0.3135686175758454 and parameters: {'lambda_l1': 0.0007158156095162353, 'lambda_l2': 0.6849391813641037, 'num_leaves': 79, 'feature_fraction': 0.6027745893133298, 'bagging_fraction': 0.6065348769622292, 'bagging_freq': 6, 'min_child_samples': 72}. Best is trial 12 with value: 0.33610563028474094.\n",
      "[I 2025-05-09 12:18:56,166] Trial 20 finished with value: 0.3168583065975419 and parameters: {'lambda_l1': 9.244797046189237, 'lambda_l2': 9.619279311170862, 'num_leaves': 128, 'feature_fraction': 0.7252367342796446, 'bagging_fraction': 0.5099832134884457, 'bagging_freq': 1, 'min_child_samples': 47}. Best is trial 12 with value: 0.33610563028474094.\n",
      "[I 2025-05-09 12:18:57,402] Trial 21 finished with value: 0.33078062808477215 and parameters: {'lambda_l1': 0.2515790525752597, 'lambda_l2': 3.520469218463024e-05, 'num_leaves': 24, 'feature_fraction': 0.8299394712663681, 'bagging_fraction': 0.6430135895011067, 'bagging_freq': 1, 'min_child_samples': 59}. Best is trial 12 with value: 0.33610563028474094.\n",
      "[I 2025-05-09 12:18:58,679] Trial 22 finished with value: 0.3435703436921834 and parameters: {'lambda_l1': 0.038182686620765176, 'lambda_l2': 0.006963256280710558, 'num_leaves': 34, 'feature_fraction': 0.7795782356573911, 'bagging_fraction': 0.6989823876284834, 'bagging_freq': 2, 'min_child_samples': 48}. Best is trial 22 with value: 0.3435703436921834.\n",
      "[I 2025-05-09 12:18:59,037] Trial 23 finished with value: 0.2864884270317767 and parameters: {'lambda_l1': 0.021716949312281738, 'lambda_l2': 0.010535444677320519, 'num_leaves': 2, 'feature_fraction': 0.7693572610939354, 'bagging_fraction': 0.6863422820047762, 'bagging_freq': 2, 'min_child_samples': 35}. Best is trial 22 with value: 0.3435703436921834.\n",
      "[I 2025-05-09 12:19:00,942] Trial 24 finished with value: 0.3248804617448434 and parameters: {'lambda_l1': 0.00010413311631145438, 'lambda_l2': 0.09485375159633173, 'num_leaves': 73, 'feature_fraction': 0.8791953500822766, 'bagging_fraction': 0.8245844414912317, 'bagging_freq': 3, 'min_child_samples': 45}. Best is trial 22 with value: 0.3435703436921834.\n",
      "[I 2025-05-09 12:19:02,190] Trial 25 finished with value: 0.32708010794235964 and parameters: {'lambda_l1': 1.017726147366706, 'lambda_l2': 1.1532884963653498, 'num_leaves': 37, 'feature_fraction': 0.9452847703518811, 'bagging_fraction': 0.7029408687629376, 'bagging_freq': 2, 'min_child_samples': 80}. Best is trial 22 with value: 0.3435703436921834.\n",
      "[I 2025-05-09 12:19:04,332] Trial 26 finished with value: 0.32345455702709014 and parameters: {'lambda_l1': 0.0037353718206269235, 'lambda_l2': 0.002313135665883716, 'num_leaves': 59, 'feature_fraction': 0.8549548932348203, 'bagging_fraction': 0.43114281508865515, 'bagging_freq': 1, 'min_child_samples': 29}. Best is trial 22 with value: 0.3435703436921834.\n",
      "[I 2025-05-09 12:19:06,514] Trial 27 finished with value: 0.3286877367649903 and parameters: {'lambda_l1': 0.035931315669243354, 'lambda_l2': 0.13658077629330512, 'num_leaves': 93, 'feature_fraction': 0.7802947734134642, 'bagging_fraction': 0.8082572686927598, 'bagging_freq': 4, 'min_child_samples': 61}. Best is trial 22 with value: 0.3435703436921834.\n",
      "[I 2025-05-09 12:19:07,765] Trial 28 finished with value: 0.3259423327518247 and parameters: {'lambda_l1': 2.4677237612835237e-06, 'lambda_l2': 0.041465335176381485, 'num_leaves': 28, 'feature_fraction': 0.6366698585433801, 'bagging_fraction': 0.7252723959081973, 'bagging_freq': 2, 'min_child_samples': 17}. Best is trial 22 with value: 0.3435703436921834.\n",
      "[I 2025-05-09 12:19:09,435] Trial 29 finished with value: 0.302325314274672 and parameters: {'lambda_l1': 2.108359142154951, 'lambda_l2': 1.889860699071598, 'num_leaves': 52, 'feature_fraction': 0.7223014934036864, 'bagging_fraction': 0.47405255507186406, 'bagging_freq': 2, 'min_child_samples': 50}. Best is trial 22 with value: 0.3435703436921834.\n",
      "[I 2025-05-09 12:19:11,577] Trial 30 finished with value: 0.33341499700435795 and parameters: {'lambda_l1': 0.0013631431341742377, 'lambda_l2': 0.008770253638131059, 'num_leaves': 92, 'feature_fraction': 0.9118325153207675, 'bagging_fraction': 0.6111839451217476, 'bagging_freq': 3, 'min_child_samples': 7}. Best is trial 22 with value: 0.3435703436921834.\n",
      "[I 2025-05-09 12:19:12,547] Trial 31 finished with value: 0.3373189500975642 and parameters: {'lambda_l1': 0.10870591875117618, 'lambda_l2': 2.5787383797478796e-05, 'num_leaves': 27, 'feature_fraction': 0.8004162216615188, 'bagging_fraction': 0.6822041554785885, 'bagging_freq': 1, 'min_child_samples': 56}. Best is trial 22 with value: 0.3435703436921834.\n",
      "[I 2025-05-09 12:19:13,657] Trial 32 finished with value: 0.34289530402698265 and parameters: {'lambda_l1': 0.09633022757987617, 'lambda_l2': 0.0013081263335538381, 'num_leaves': 34, 'feature_fraction': 0.7949051573003283, 'bagging_fraction': 0.7085033198761327, 'bagging_freq': 1, 'min_child_samples': 58}. Best is trial 22 with value: 0.3435703436921834.\n",
      "[I 2025-05-09 12:19:14,012] Trial 33 finished with value: 0.2904832595395186 and parameters: {'lambda_l1': 0.06381394729205998, 'lambda_l2': 0.00047908485674722184, 'num_leaves': 2, 'feature_fraction': 0.7335319748086561, 'bagging_fraction': 0.7260963337220164, 'bagging_freq': 1, 'min_child_samples': 66}. Best is trial 22 with value: 0.3435703436921834.\n",
      "[I 2025-05-09 12:19:15,499] Trial 34 finished with value: 0.3227757672936816 and parameters: {'lambda_l1': 0.42982519494987376, 'lambda_l2': 3.784497523919961e-05, 'num_leaves': 34, 'feature_fraction': 0.6964192954175549, 'bagging_fraction': 0.6739194717200192, 'bagging_freq': 1, 'min_child_samples': 41}. Best is trial 22 with value: 0.3435703436921834.\n",
      "[I 2025-05-09 12:19:16,274] Trial 35 finished with value: 0.32172477573369573 and parameters: {'lambda_l1': 0.008966132744692958, 'lambda_l2': 0.0049395527188109195, 'num_leaves': 15, 'feature_fraction': 0.8529904551250476, 'bagging_fraction': 0.7601446988508317, 'bagging_freq': 2, 'min_child_samples': 47}. Best is trial 22 with value: 0.3435703436921834.\n",
      "[I 2025-05-09 12:19:18,373] Trial 36 finished with value: 0.3265570402274005 and parameters: {'lambda_l1': 0.1045025857261725, 'lambda_l2': 0.0007532672696105179, 'num_leaves': 177, 'feature_fraction': 0.7544010582287525, 'bagging_fraction': 0.789337001900199, 'bagging_freq': 1, 'min_child_samples': 70}. Best is trial 22 with value: 0.3435703436921834.\n",
      "[I 2025-05-09 12:19:20,856] Trial 37 finished with value: 0.31468141730245114 and parameters: {'lambda_l1': 0.8762467192554836, 'lambda_l2': 2.4947305441241615e-05, 'num_leaves': 83, 'feature_fraction': 0.7948919970702901, 'bagging_fraction': 0.8655164070762382, 'bagging_freq': 1, 'min_child_samples': 57}. Best is trial 22 with value: 0.3435703436921834.\n",
      "[I 2025-05-09 12:19:22,328] Trial 38 finished with value: 0.33451616653585614 and parameters: {'lambda_l1': 0.003919837864507243, 'lambda_l2': 2.630424430636309e-08, 'num_leaves': 41, 'feature_fraction': 0.6876066152656672, 'bagging_fraction': 0.7043055991794722, 'bagging_freq': 2, 'min_child_samples': 62}. Best is trial 22 with value: 0.3435703436921834.\n",
      "[I 2025-05-09 12:19:23,261] Trial 39 finished with value: 0.33346896677082116 and parameters: {'lambda_l1': 0.3067796793840303, 'lambda_l2': 0.00013241713685639475, 'num_leaves': 21, 'feature_fraction': 0.8389066062733936, 'bagging_fraction': 0.6595258054532768, 'bagging_freq': 1, 'min_child_samples': 31}. Best is trial 22 with value: 0.3435703436921834.\n",
      "[I 2025-05-09 12:19:25,049] Trial 40 finished with value: 0.33667951033650867 and parameters: {'lambda_l1': 0.02838828271336678, 'lambda_l2': 0.003165320386773509, 'num_leaves': 63, 'feature_fraction': 0.7506744514746202, 'bagging_fraction': 0.941344696047355, 'bagging_freq': 2, 'min_child_samples': 53}. Best is trial 22 with value: 0.3435703436921834.\n",
      "[I 2025-05-09 12:19:27,029] Trial 41 finished with value: 0.32127082676171037 and parameters: {'lambda_l1': 0.03641386934551804, 'lambda_l2': 0.002991928186471113, 'num_leaves': 60, 'feature_fraction': 0.7376029042074709, 'bagging_fraction': 0.9951738792179494, 'bagging_freq': 2, 'min_child_samples': 53}. Best is trial 22 with value: 0.3435703436921834.\n",
      "[I 2025-05-09 12:19:28,102] Trial 42 finished with value: 0.32460069232098376 and parameters: {'lambda_l1': 2.623638292144206, 'lambda_l2': 0.0013683856619771731, 'num_leaves': 28, 'feature_fraction': 0.7995027268591597, 'bagging_fraction': 0.9178093144705664, 'bagging_freq': 1, 'min_child_samples': 56}. Best is trial 22 with value: 0.3435703436921834.\n",
      "[I 2025-05-09 12:19:29,623] Trial 43 finished with value: 0.3232233730244587 and parameters: {'lambda_l1': 0.12064152551598957, 'lambda_l2': 9.525110305034481e-06, 'num_leaves': 51, 'feature_fraction': 0.7601331193689711, 'bagging_fraction': 0.9555448488732452, 'bagging_freq': 2, 'min_child_samples': 49}. Best is trial 22 with value: 0.3435703436921834.\n",
      "[I 2025-05-09 12:19:32,353] Trial 44 finished with value: 0.31432821850782044 and parameters: {'lambda_l1': 0.011346831650917169, 'lambda_l2': 0.04384826712617859, 'num_leaves': 219, 'feature_fraction': 0.6678034148765678, 'bagging_fraction': 0.6370384801728388, 'bagging_freq': 3, 'min_child_samples': 39}. Best is trial 22 with value: 0.3435703436921834.\n",
      "[I 2025-05-09 12:19:34,140] Trial 45 finished with value: 0.3178716454763182 and parameters: {'lambda_l1': 0.002006644414808227, 'lambda_l2': 1.6873915998163763e-06, 'num_leaves': 69, 'feature_fraction': 0.8133436950999694, 'bagging_fraction': 0.8488513794153844, 'bagging_freq': 1, 'min_child_samples': 64}. Best is trial 22 with value: 0.3435703436921834.\n",
      "[I 2025-05-09 12:19:34,879] Trial 46 finished with value: 0.31420894857444315 and parameters: {'lambda_l1': 0.00015301141664650543, 'lambda_l2': 0.00017035317686061346, 'num_leaves': 13, 'feature_fraction': 0.42544182369319516, 'bagging_fraction': 0.733078545126462, 'bagging_freq': 2, 'min_child_samples': 76}. Best is trial 22 with value: 0.3435703436921834.\n",
      "[I 2025-05-09 12:19:35,952] Trial 47 finished with value: 0.32438844188615645 and parameters: {'lambda_l1': 0.04317258909526433, 'lambda_l2': 0.004118516121209124, 'num_leaves': 34, 'feature_fraction': 0.7054856114726167, 'bagging_fraction': 0.8978008162940029, 'bagging_freq': 1, 'min_child_samples': 34}. Best is trial 22 with value: 0.3435703436921834.\n",
      "[I 2025-05-09 12:19:38,793] Trial 48 finished with value: 0.313967114550017 and parameters: {'lambda_l1': 0.22606610355162457, 'lambda_l2': 0.00033598322652722014, 'num_leaves': 111, 'feature_fraction': 0.9029772355827475, 'bagging_fraction': 0.9615917451957163, 'bagging_freq': 2, 'min_child_samples': 43}. Best is trial 22 with value: 0.3435703436921834.\n",
      "[I 2025-05-09 12:19:40,354] Trial 49 finished with value: 0.3301552079934037 and parameters: {'lambda_l1': 2.0690636234189235, 'lambda_l2': 1.1561958431060722e-07, 'num_leaves': 57, 'feature_fraction': 0.8602736153386171, 'bagging_fraction': 0.7912601750549445, 'bagging_freq': 1, 'min_child_samples': 87}. Best is trial 22 with value: 0.3435703436921834.\n",
      "[I 2025-05-09 12:19:42,298] Trial 50 finished with value: 0.3245263874209289 and parameters: {'lambda_l1': 0.004777801685589999, 'lambda_l2': 0.03215522395823409, 'num_leaves': 154, 'feature_fraction': 0.9331026454949862, 'bagging_fraction': 0.5421016503648699, 'bagging_freq': 3, 'min_child_samples': 52}. Best is trial 22 with value: 0.3435703436921834.\n",
      "[I 2025-05-09 12:19:44,553] Trial 51 finished with value: 0.3345258906409392 and parameters: {'lambda_l1': 1.1211516543115194e-08, 'lambda_l2': 0.5443595948891623, 'num_leaves': 70, 'feature_fraction': 0.7837397987033725, 'bagging_fraction': 0.5981972525941079, 'bagging_freq': 6, 'min_child_samples': 58}. Best is trial 22 with value: 0.3435703436921834.\n",
      "[I 2025-05-09 12:19:46,271] Trial 52 finished with value: 0.31878817721713415 and parameters: {'lambda_l1': 0.013483646139134756, 'lambda_l2': 3.393188092755329, 'num_leaves': 84, 'feature_fraction': 0.8287613140186303, 'bagging_fraction': 0.5165370306072146, 'bagging_freq': 4, 'min_child_samples': 69}. Best is trial 22 with value: 0.3435703436921834.\n",
      "[I 2025-05-09 12:19:47,574] Trial 53 finished with value: 0.3346512668379815 and parameters: {'lambda_l1': 9.10300092688803e-07, 'lambda_l2': 0.38806455305647525, 'num_leaves': 42, 'feature_fraction': 0.7492702721282093, 'bagging_fraction': 0.5809031632288302, 'bagging_freq': 5, 'min_child_samples': 55}. Best is trial 22 with value: 0.3435703436921834.\n",
      "[I 2025-05-09 12:19:48,421] Trial 54 finished with value: 0.336126266710437 and parameters: {'lambda_l1': 1.3480735598694573e-05, 'lambda_l2': 0.2893582726730609, 'num_leaves': 20, 'feature_fraction': 0.8056921770773746, 'bagging_fraction': 0.6822559975432964, 'bagging_freq': 1, 'min_child_samples': 50}. Best is trial 22 with value: 0.3435703436921834.\n",
      "[I 2025-05-09 12:19:49,265] Trial 55 finished with value: 0.32563316923886 and parameters: {'lambda_l1': 1.335975964367646e-05, 'lambda_l2': 0.2826912067343556, 'num_leaves': 18, 'feature_fraction': 0.8151518886699508, 'bagging_fraction': 0.6878583181321968, 'bagging_freq': 1, 'min_child_samples': 48}. Best is trial 22 with value: 0.3435703436921834.\n",
      "[I 2025-05-09 12:19:49,915] Trial 56 finished with value: 0.3126357368501078 and parameters: {'lambda_l1': 0.0004078642239687278, 'lambda_l2': 0.009583059683618538, 'num_leaves': 5, 'feature_fraction': 0.7871970954320036, 'bagging_fraction': 0.7431775136986027, 'bagging_freq': 1, 'min_child_samples': 38}. Best is trial 22 with value: 0.3435703436921834.\n",
      "[I 2025-05-09 12:19:50,986] Trial 57 finished with value: 0.3201891919391546 and parameters: {'lambda_l1': 0.022427813125748913, 'lambda_l2': 0.07319797565142776, 'num_leaves': 29, 'feature_fraction': 0.8784779941148284, 'bagging_fraction': 0.65027935566022, 'bagging_freq': 2, 'min_child_samples': 44}. Best is trial 22 with value: 0.3435703436921834.\n",
      "[I 2025-05-09 12:19:52,366] Trial 58 finished with value: 0.3205636638826017 and parameters: {'lambda_l1': 2.744824561003559e-05, 'lambda_l2': 0.0015219899529797319, 'num_leaves': 46, 'feature_fraction': 0.5464419159710003, 'bagging_fraction': 0.6191129690414015, 'bagging_freq': 1, 'min_child_samples': 60}. Best is trial 22 with value: 0.3435703436921834.\n",
      "[I 2025-05-09 12:19:53,024] Trial 59 finished with value: 0.32230247648373156 and parameters: {'lambda_l1': 6.155255146392094e-06, 'lambda_l2': 6.534742583278049e-05, 'num_leaves': 12, 'feature_fraction': 0.8498272841036709, 'bagging_fraction': 0.7074010747676679, 'bagging_freq': 2, 'min_child_samples': 50}. Best is trial 22 with value: 0.3435703436921834.\n",
      "[I 2025-05-09 12:19:53,883] Trial 60 finished with value: 0.3395010839436857 and parameters: {'lambda_l1': 0.00011080039596074986, 'lambda_l2': 9.434992712910035e-06, 'num_leaves': 21, 'feature_fraction': 0.7740308210344168, 'bagging_fraction': 0.6733040410985653, 'bagging_freq': 1, 'min_child_samples': 54}. Best is trial 22 with value: 0.3435703436921834.\n",
      "[I 2025-05-09 12:19:54,758] Trial 61 finished with value: 0.3348163486917134 and parameters: {'lambda_l1': 7.180717652973935e-05, 'lambda_l2': 1.660572164211504e-05, 'num_leaves': 22, 'feature_fraction': 0.769881974808186, 'bagging_fraction': 0.6601126934900474, 'bagging_freq': 1, 'min_child_samples': 53}. Best is trial 22 with value: 0.3435703436921834.\n",
      "[I 2025-05-09 12:19:56,405] Trial 62 finished with value: 0.31852337496730143 and parameters: {'lambda_l1': 0.0007774733831684925, 'lambda_l2': 8.84658418760221e-07, 'num_leaves': 33, 'feature_fraction': 0.8210976025474849, 'bagging_fraction': 0.6271185709159934, 'bagging_freq': 1, 'min_child_samples': 64}. Best is trial 22 with value: 0.3435703436921834.\n",
      "[I 2025-05-09 12:19:57,683] Trial 63 finished with value: 0.3374104072465349 and parameters: {'lambda_l1': 7.640311486380635e-05, 'lambda_l2': 7.904963699232627e-06, 'num_leaves': 43, 'feature_fraction': 0.7400861309928853, 'bagging_fraction': 0.6835047577386112, 'bagging_freq': 1, 'min_child_samples': 46}. Best is trial 22 with value: 0.3435703436921834.\n",
      "[I 2025-05-09 12:19:58,265] Trial 64 finished with value: 0.31379297187709787 and parameters: {'lambda_l1': 6.8163561786191274e-06, 'lambda_l2': 3.665027379089971e-06, 'num_leaves': 8, 'feature_fraction': 0.7473814852052058, 'bagging_fraction': 0.687954681906445, 'bagging_freq': 1, 'min_child_samples': 46}. Best is trial 22 with value: 0.3435703436921834.\n",
      "[I 2025-05-09 12:19:59,210] Trial 65 finished with value: 0.32191000427150485 and parameters: {'lambda_l1': 5.0731984663794145e-05, 'lambda_l2': 8.954790018081274e-06, 'num_leaves': 22, 'feature_fraction': 0.7158788373274305, 'bagging_fraction': 0.6792457677791514, 'bagging_freq': 2, 'min_child_samples': 56}. Best is trial 22 with value: 0.3435703436921834.\n",
      "[I 2025-05-09 12:20:00,508] Trial 66 finished with value: 0.32322166322821266 and parameters: {'lambda_l1': 4.1126432053965405e-05, 'lambda_l2': 1.8877233025946895e-06, 'num_leaves': 39, 'feature_fraction': 0.8017300496417801, 'bagging_fraction': 0.7100298934391972, 'bagging_freq': 1, 'min_child_samples': 41}. Best is trial 22 with value: 0.3435703436921834.\n",
      "[I 2025-05-09 12:20:02,561] Trial 67 finished with value: 0.3210928681117873 and parameters: {'lambda_l1': 0.00022008812189573974, 'lambda_l2': 5.906510980487636e-05, 'num_leaves': 55, 'feature_fraction': 0.6783321318425795, 'bagging_fraction': 0.4082773702653335, 'bagging_freq': 2, 'min_child_samples': 50}. Best is trial 22 with value: 0.3435703436921834.\n",
      "[I 2025-05-09 12:20:04,245] Trial 68 finished with value: 0.3252155752797359 and parameters: {'lambda_l1': 1.4049166372532027e-05, 'lambda_l2': 0.0005593701191451226, 'num_leaves': 63, 'feature_fraction': 0.7745994516724065, 'bagging_fraction': 0.6703764057432782, 'bagging_freq': 1, 'min_child_samples': 61}. Best is trial 22 with value: 0.3435703436921834.\n",
      "[I 2025-05-09 12:20:06,546] Trial 69 finished with value: 0.3334263173519928 and parameters: {'lambda_l1': 9.957952879592067e-05, 'lambda_l2': 0.00023772027834112925, 'num_leaves': 120, 'feature_fraction': 0.7305787241498425, 'bagging_fraction': 0.789562393030439, 'bagging_freq': 1, 'min_child_samples': 67}. Best is trial 22 with value: 0.3435703436921834.\n",
      "[I 2025-05-09 12:20:08,642] Trial 70 finished with value: 0.3274634129844747 and parameters: {'lambda_l1': 0.5565449845528213, 'lambda_l2': 6.70177051573898e-06, 'num_leaves': 47, 'feature_fraction': 0.7144337884597464, 'bagging_fraction': 0.7449552174883396, 'bagging_freq': 2, 'min_child_samples': 59}. Best is trial 22 with value: 0.3435703436921834.\n",
      "[I 2025-05-09 12:20:10,615] Trial 71 finished with value: 0.31848801927292403 and parameters: {'lambda_l1': 0.14991063179424247, 'lambda_l2': 0.012363892532268576, 'num_leaves': 33, 'feature_fraction': 0.759574075351449, 'bagging_fraction': 0.6451648961204653, 'bagging_freq': 1, 'min_child_samples': 43}. Best is trial 22 with value: 0.3435703436921834.\n",
      "[I 2025-05-09 12:20:11,766] Trial 72 finished with value: 0.32188700048048524 and parameters: {'lambda_l1': 0.07091161443322982, 'lambda_l2': 2.432452592175009e-07, 'num_leaves': 16, 'feature_fraction': 0.8341209104964203, 'bagging_fraction': 0.7142141761373586, 'bagging_freq': 1, 'min_child_samples': 54}. Best is trial 22 with value: 0.3435703436921834.\n",
      "[I 2025-05-09 12:20:13,627] Trial 73 finished with value: 0.33393895964889886 and parameters: {'lambda_l1': 0.0007297504517027283, 'lambda_l2': 0.01669980273114368, 'num_leaves': 44, 'feature_fraction': 0.7914704469649703, 'bagging_fraction': 0.769308636490498, 'bagging_freq': 1, 'min_child_samples': 47}. Best is trial 22 with value: 0.3435703436921834.\n",
      "[I 2025-05-09 12:20:15,769] Trial 74 finished with value: 0.32791006494333086 and parameters: {'lambda_l1': 0.04758078738475158, 'lambda_l2': 1.6624545142819075e-05, 'num_leaves': 77, 'feature_fraction': 0.744955305215933, 'bagging_fraction': 0.6906397449110693, 'bagging_freq': 1, 'min_child_samples': 51}. Best is trial 22 with value: 0.3435703436921834.\n",
      "[I 2025-05-09 12:20:17,065] Trial 75 finished with value: 0.32690194819973495 and parameters: {'lambda_l1': 0.027717549627928155, 'lambda_l2': 0.005858108567939401, 'num_leaves': 26, 'feature_fraction': 0.8059683812891462, 'bagging_fraction': 0.7439997212022934, 'bagging_freq': 7, 'min_child_samples': 37}. Best is trial 22 with value: 0.3435703436921834.\n",
      "[I 2025-05-09 12:20:18,626] Trial 76 finished with value: 0.3206224699697069 and parameters: {'lambda_l1': 0.007395866603518558, 'lambda_l2': 0.0018021312807977945, 'num_leaves': 52, 'feature_fraction': 0.7786137319249898, 'bagging_fraction': 0.6671100038274971, 'bagging_freq': 1, 'min_child_samples': 33}. Best is trial 22 with value: 0.3435703436921834.\n",
      "[I 2025-05-09 12:20:20,272] Trial 77 finished with value: 0.3235707449730413 and parameters: {'lambda_l1': 0.0002551806190002418, 'lambda_l2': 0.0009342417533284837, 'num_leaves': 40, 'feature_fraction': 0.6581182950710378, 'bagging_fraction': 0.7255201797592519, 'bagging_freq': 2, 'min_child_samples': 40}. Best is trial 22 with value: 0.3435703436921834.\n",
      "[I 2025-05-09 12:20:20,925] Trial 78 finished with value: 0.3165565961116119 and parameters: {'lambda_l1': 3.1309739472186664e-06, 'lambda_l2': 0.18590460683045265, 'num_leaves': 9, 'feature_fraction': 0.624287404489974, 'bagging_fraction': 0.8113967605642556, 'bagging_freq': 3, 'min_child_samples': 45}. Best is trial 22 with value: 0.3435703436921834.\n",
      "[I 2025-05-09 12:20:22,884] Trial 79 finished with value: 0.32369079140536183 and parameters: {'lambda_l1': 0.0023163396419328425, 'lambda_l2': 7.221971049826684e-05, 'num_leaves': 253, 'feature_fraction': 0.8651568022003727, 'bagging_fraction': 0.5954475770593761, 'bagging_freq': 1, 'min_child_samples': 57}. Best is trial 22 with value: 0.3435703436921834.\n",
      "[I 2025-05-09 12:20:25,304] Trial 80 finished with value: 0.3273340041367061 and parameters: {'lambda_l1': 0.4125245196685567, 'lambda_l2': 0.07830914039273612, 'num_leaves': 101, 'feature_fraction': 0.8443850339732539, 'bagging_fraction': 0.6954107723698278, 'bagging_freq': 1, 'min_child_samples': 48}. Best is trial 22 with value: 0.3435703436921834.\n",
      "[I 2025-05-09 12:20:27,199] Trial 81 finished with value: 0.31166333286107073 and parameters: {'lambda_l1': 1.198615528116978e-07, 'lambda_l2': 0.856574826750729, 'num_leaves': 66, 'feature_fraction': 0.8919860273885342, 'bagging_fraction': 0.5472867180938804, 'bagging_freq': 3, 'min_child_samples': 54}. Best is trial 22 with value: 0.3435703436921834.\n",
      "[I 2025-05-09 12:20:28,323] Trial 82 finished with value: 0.324327012337965 and parameters: {'lambda_l1': 4.4076946491849613e-08, 'lambda_l2': 1.4654876419553533, 'num_leaves': 28, 'feature_fraction': 0.7619827776536756, 'bagging_fraction': 0.6509955416987561, 'bagging_freq': 5, 'min_child_samples': 63}. Best is trial 22 with value: 0.3435703436921834.\n",
      "[I 2025-05-09 12:20:29,904] Trial 83 finished with value: 0.34001911135361484 and parameters: {'lambda_l1': 5.662974764732558e-07, 'lambda_l2': 5.099668264629264, 'num_leaves': 48, 'feature_fraction': 0.823224442405573, 'bagging_fraction': 0.6316187252959817, 'bagging_freq': 1, 'min_child_samples': 51}. Best is trial 22 with value: 0.3435703436921834.\n",
      "[I 2025-05-09 12:20:31,798] Trial 84 finished with value: 0.33639133131137755 and parameters: {'lambda_l1': 4.184332993924105e-07, 'lambda_l2': 5.350796805026301, 'num_leaves': 59, 'feature_fraction': 0.820266590789353, 'bagging_fraction': 0.6379248283381692, 'bagging_freq': 1, 'min_child_samples': 26}. Best is trial 22 with value: 0.3435703436921834.\n",
      "[I 2025-05-09 12:20:33,722] Trial 85 finished with value: 0.33633226545984674 and parameters: {'lambda_l1': 5.341237187988221e-07, 'lambda_l2': 4.423011027074664, 'num_leaves': 58, 'feature_fraction': 0.8180175422444488, 'bagging_fraction': 0.6239517863407282, 'bagging_freq': 1, 'min_child_samples': 17}. Best is trial 22 with value: 0.3435703436921834.\n",
      "[I 2025-05-09 12:20:35,486] Trial 86 finished with value: 0.32441574363679215 and parameters: {'lambda_l1': 3.7826135455765694e-07, 'lambda_l2': 5.298634195417773, 'num_leaves': 61, 'feature_fraction': 0.6968403921922388, 'bagging_fraction': 0.6257267333645261, 'bagging_freq': 2, 'min_child_samples': 23}. Best is trial 22 with value: 0.3435703436921834.\n",
      "[I 2025-05-09 12:20:38,504] Trial 87 finished with value: 0.3209130908366876 and parameters: {'lambda_l1': 5.289201983672595e-07, 'lambda_l2': 2.218486950735083, 'num_leaves': 74, 'feature_fraction': 0.8262625053780392, 'bagging_fraction': 0.5597965760904365, 'bagging_freq': 1, 'min_child_samples': 18}. Best is trial 22 with value: 0.3435703436921834.\n",
      "[I 2025-05-09 12:20:40,840] Trial 88 finished with value: 0.32158944196927575 and parameters: {'lambda_l1': 1.139640450059687e-06, 'lambda_l2': 3.92664181857898, 'num_leaves': 52, 'feature_fraction': 0.7882444005095774, 'bagging_fraction': 0.6185209235490746, 'bagging_freq': 1, 'min_child_samples': 15}. Best is trial 22 with value: 0.3435703436921834.\n",
      "[I 2025-05-09 12:20:43,622] Trial 89 finished with value: 0.3264940468718516 and parameters: {'lambda_l1': 7.23730708574506e-08, 'lambda_l2': 8.353639899677358, 'num_leaves': 91, 'feature_fraction': 0.7392435375390226, 'bagging_fraction': 0.6096776218084262, 'bagging_freq': 2, 'min_child_samples': 24}. Best is trial 22 with value: 0.3435703436921834.\n",
      "[I 2025-05-09 12:20:46,474] Trial 90 finished with value: 0.331446932346401 and parameters: {'lambda_l1': 4.094405856150469e-07, 'lambda_l2': 9.118067191330134, 'num_leaves': 85, 'feature_fraction': 0.8205897091989705, 'bagging_fraction': 0.63275521963871, 'bagging_freq': 1, 'min_child_samples': 12}. Best is trial 22 with value: 0.3435703436921834.\n",
      "[I 2025-05-09 12:20:48,137] Trial 91 finished with value: 0.32462955640374114 and parameters: {'lambda_l1': 1.5814922962580302e-06, 'lambda_l2': 2.766351770617411, 'num_leaves': 35, 'feature_fraction': 0.8042163092075468, 'bagging_fraction': 0.6757333071985242, 'bagging_freq': 1, 'min_child_samples': 14}. Best is trial 22 with value: 0.3435703436921834.\n",
      "[I 2025-05-09 12:20:49,330] Trial 92 finished with value: 0.3278353549570464 and parameters: {'lambda_l1': 3.3752991613649174e-06, 'lambda_l2': 0.9671325611967612, 'num_leaves': 20, 'feature_fraction': 0.7673941533537851, 'bagging_fraction': 0.6443464681628044, 'bagging_freq': 1, 'min_child_samples': 21}. Best is trial 22 with value: 0.3435703436921834.\n",
      "[I 2025-05-09 12:20:50,893] Trial 93 finished with value: 0.3141398985564653 and parameters: {'lambda_l1': 1.8183410826023476e-07, 'lambda_l2': 0.0031220871488420896, 'num_leaves': 57, 'feature_fraction': 0.8449875523897198, 'bagging_fraction': 0.5720410505108597, 'bagging_freq': 1, 'min_child_samples': 26}. Best is trial 22 with value: 0.3435703436921834.\n",
      "[I 2025-05-09 12:20:52,104] Trial 94 finished with value: 0.33471927762393505 and parameters: {'lambda_l1': 9.912905911020679e-06, 'lambda_l2': 2.4462575235863234e-06, 'num_leaves': 38, 'feature_fraction': 0.8019477972381114, 'bagging_fraction': 0.6613743918110604, 'bagging_freq': 1, 'min_child_samples': 58}. Best is trial 22 with value: 0.3435703436921834.\n",
      "[I 2025-05-09 12:20:53,435] Trial 95 finished with value: 0.33383393570814135 and parameters: {'lambda_l1': 1.6611453639715862e-07, 'lambda_l2': 5.6657143592261265, 'num_leaves': 44, 'feature_fraction': 0.7804747720940672, 'bagging_fraction': 0.6991164968446313, 'bagging_freq': 1, 'min_child_samples': 52}. Best is trial 22 with value: 0.3435703436921834.\n",
      "[I 2025-05-09 12:20:54,926] Trial 96 finished with value: 0.3227270273601879 and parameters: {'lambda_l1': 2.7620882609885757e-07, 'lambda_l2': 8.81193575250873e-07, 'num_leaves': 32, 'feature_fraction': 0.8695076835939781, 'bagging_fraction': 0.5939461055391543, 'bagging_freq': 1, 'min_child_samples': 7}. Best is trial 22 with value: 0.3435703436921834.\n",
      "[I 2025-05-09 12:20:56,757] Trial 97 finished with value: 0.32479942569665243 and parameters: {'lambda_l1': 2.0190129671222576e-05, 'lambda_l2': 1.5560494297383087, 'num_leaves': 48, 'feature_fraction': 0.7525311405260857, 'bagging_fraction': 0.6795220458442623, 'bagging_freq': 2, 'min_child_samples': 27}. Best is trial 22 with value: 0.3435703436921834.\n",
      "[I 2025-05-09 12:20:57,717] Trial 98 finished with value: 0.3216216719967 and parameters: {'lambda_l1': 0.17560516067075752, 'lambda_l2': 1.9798978981477318e-05, 'num_leaves': 16, 'feature_fraction': 0.8171964302904371, 'bagging_fraction': 0.6384262794794786, 'bagging_freq': 1, 'min_child_samples': 49}. Best is trial 22 with value: 0.3435703436921834.\n",
      "[I 2025-05-09 12:20:58,860] Trial 99 finished with value: 0.31987200503565616 and parameters: {'lambda_l1': 6.129376882817383e-07, 'lambda_l2': 3.3844624666622875e-05, 'num_leaves': 25, 'feature_fraction': 0.7917895963352664, 'bagging_fraction': 0.7184896435096157, 'bagging_freq': 1, 'min_child_samples': 9}. Best is trial 22 with value: 0.3435703436921834.\n"
     ]
    }
   ],
   "source": [
    "#Defino el estudio a optimizar\n",
    "study = optuna.create_study(direction='maximize', #buscamos maximizar la metrica\n",
    "                            storage=\"sqlite:///../work/db_100_LGBM_FE_JM_100_completo.sqlite3\",  # Specify the storage URL here.\n",
    "                            study_name=\"100_LGBM_FE_JM_100b_completo\", #nombre del experimento\n",
    "                            load_if_exists=True, #continuar si ya existe\n",
    "                            sampler=sampler) \n",
    "\n",
    "#Corremos 100 trials para buscar mejores parametros\n",
    "study.optimize(lgb_objective, n_trials=100)"
   ]
  },
  {
   "cell_type": "code",
   "execution_count": 20,
   "id": "f9697749",
   "metadata": {},
   "outputs": [
    {
     "data": {
      "text/plain": [
       "{'lambda_l1': 0.038182686620765176,\n",
       " 'lambda_l2': 0.006963256280710558,\n",
       " 'num_leaves': 34,\n",
       " 'feature_fraction': 0.7795782356573911,\n",
       " 'bagging_fraction': 0.6989823876284834,\n",
       " 'bagging_freq': 2,\n",
       " 'min_child_samples': 48}"
      ]
     },
     "execution_count": 20,
     "metadata": {},
     "output_type": "execute_result"
    }
   ],
   "source": [
    "#Obtenemos mejor resultado\n",
    "study.best_params"
   ]
  },
  {
   "cell_type": "code",
   "execution_count": 21,
   "id": "b0db9f91",
   "metadata": {},
   "outputs": [
    {
     "name": "stdout",
     "output_type": "stream",
     "text": [
      "0.3435703436921834\n"
     ]
    },
    {
     "data": {
      "application/vnd.plotly.v1+json": {
       "config": {
        "plotlyServerURL": "https://plot.ly"
       },
       "data": [
        {
         "type": "heatmap",
         "x": {
          "bdata": "AAECAwQ=",
          "dtype": "i1"
         },
         "y": {
          "bdata": "AAECAwQ=",
          "dtype": "i1"
         },
         "z": {
          "bdata": "RO1K1K5EHUBXonYlaldFQNWuRO1K1DpAZHA+BudjGEATtStRuxIxQA4wbu9DttQ/G0PTHey3QUC7ZvSVf45BQM3oK/8cCSVALP8cCcGbMkAyN17RtMrXPwAuea6W0zNATHAyN17RRECsTrhNfQMrQDZRAGnDqDhAsDCrUcSh0z+Z1Sji0EkvQDZ/hVmNIj9Ae6Zy3fFiOEDAwqxGEYc8QJ/neZ7ned4/27Zt27ZtJUBJkiRJkqQzQPQ8z/M8zyJAGIZhGIbhTUA=",
          "dtype": "f8",
          "shape": "5, 5"
         }
        }
       ],
       "layout": {
        "annotations": [
         {
          "font": {
           "color": "white"
          },
          "showarrow": false,
          "text": "7.3 - 6",
          "x": 0,
          "xref": "x",
          "y": 0,
          "yref": "y"
         },
         {
          "font": {
           "color": "white"
          },
          "showarrow": false,
          "text": "42.7 - 35",
          "x": 1,
          "xref": "x",
          "y": 0,
          "yref": "y"
         },
         {
          "font": {
           "color": "white"
          },
          "showarrow": false,
          "text": "26.8 - 22",
          "x": 2,
          "xref": "x",
          "y": 0,
          "yref": "y"
         },
         {
          "font": {
           "color": "white"
          },
          "showarrow": false,
          "text": "6.1 - 5",
          "x": 3,
          "xref": "x",
          "y": 0,
          "yref": "y"
         },
         {
          "font": {
           "color": "white"
          },
          "showarrow": false,
          "text": "17.1 - 14",
          "x": 4,
          "xref": "x",
          "y": 0,
          "yref": "y"
         },
         {
          "font": {
           "color": "white"
          },
          "showarrow": false,
          "text": "0.3 - 2",
          "x": 0,
          "xref": "x",
          "y": 1,
          "yref": "y"
         },
         {
          "font": {
           "color": "white"
          },
          "showarrow": false,
          "text": "35.4 - 219",
          "x": 1,
          "xref": "x",
          "y": 1,
          "yref": "y"
         },
         {
          "font": {
           "color": "white"
          },
          "showarrow": false,
          "text": "35.1 - 217",
          "x": 2,
          "xref": "x",
          "y": 1,
          "yref": "y"
         },
         {
          "font": {
           "color": "white"
          },
          "showarrow": false,
          "text": "10.5 - 65",
          "x": 3,
          "xref": "x",
          "y": 1,
          "yref": "y"
         },
         {
          "font": {
           "color": "white"
          },
          "showarrow": false,
          "text": "18.6 - 115",
          "x": 4,
          "xref": "x",
          "y": 1,
          "yref": "y"
         },
         {
          "font": {
           "color": "white"
          },
          "showarrow": false,
          "text": "0.4 - 3",
          "x": 0,
          "xref": "x",
          "y": 2,
          "yref": "y"
         },
         {
          "font": {
           "color": "white"
          },
          "showarrow": false,
          "text": "19.8 - 160",
          "x": 1,
          "xref": "x",
          "y": 2,
          "yref": "y"
         },
         {
          "font": {
           "color": "white"
          },
          "showarrow": false,
          "text": "41.6 - 336",
          "x": 2,
          "xref": "x",
          "y": 2,
          "yref": "y"
         },
         {
          "font": {
           "color": "white"
          },
          "showarrow": false,
          "text": "13.5 - 109",
          "x": 3,
          "xref": "x",
          "y": 2,
          "yref": "y"
         },
         {
          "font": {
           "color": "white"
          },
          "showarrow": false,
          "text": "24.7 - 199",
          "x": 4,
          "xref": "x",
          "y": 2,
          "yref": "y"
         },
         {
          "font": {
           "color": "white"
          },
          "showarrow": false,
          "text": "0.3 - 2",
          "x": 0,
          "xref": "x",
          "y": 3,
          "yref": "y"
         },
         {
          "font": {
           "color": "white"
          },
          "showarrow": false,
          "text": "15.6 - 102",
          "x": 1,
          "xref": "x",
          "y": 3,
          "yref": "y"
         },
         {
          "font": {
           "color": "white"
          },
          "showarrow": false,
          "text": "31.1 - 203",
          "x": 2,
          "xref": "x",
          "y": 3,
          "yref": "y"
         },
         {
          "font": {
           "color": "white"
          },
          "showarrow": false,
          "text": "24.4 - 159",
          "x": 3,
          "xref": "x",
          "y": 3,
          "yref": "y"
         },
         {
          "font": {
           "color": "white"
          },
          "showarrow": false,
          "text": "28.5 - 186",
          "x": 4,
          "xref": "x",
          "y": 3,
          "yref": "y"
         },
         {
          "font": {
           "color": "white"
          },
          "showarrow": false,
          "text": "0.5 - 4",
          "x": 0,
          "xref": "x",
          "y": 4,
          "yref": "y"
         },
         {
          "font": {
           "color": "white"
          },
          "showarrow": false,
          "text": "10.7 - 90",
          "x": 1,
          "xref": "x",
          "y": 4,
          "yref": "y"
         },
         {
          "font": {
           "color": "white"
          },
          "showarrow": false,
          "text": "19.6 - 165",
          "x": 2,
          "xref": "x",
          "y": 4,
          "yref": "y"
         },
         {
          "font": {
           "color": "white"
          },
          "showarrow": false,
          "text": "9.4 - 79",
          "x": 3,
          "xref": "x",
          "y": 4,
          "yref": "y"
         },
         {
          "font": {
           "color": "white"
          },
          "showarrow": false,
          "text": "59.8 - 502",
          "x": 4,
          "xref": "x",
          "y": 4,
          "yref": "y"
         }
        ],
        "height": 800,
        "template": {
         "data": {
          "bar": [
           {
            "error_x": {
             "color": "#2a3f5f"
            },
            "error_y": {
             "color": "#2a3f5f"
            },
            "marker": {
             "line": {
              "color": "#E5ECF6",
              "width": 0.5
             },
             "pattern": {
              "fillmode": "overlay",
              "size": 10,
              "solidity": 0.2
             }
            },
            "type": "bar"
           }
          ],
          "barpolar": [
           {
            "marker": {
             "line": {
              "color": "#E5ECF6",
              "width": 0.5
             },
             "pattern": {
              "fillmode": "overlay",
              "size": 10,
              "solidity": 0.2
             }
            },
            "type": "barpolar"
           }
          ],
          "carpet": [
           {
            "aaxis": {
             "endlinecolor": "#2a3f5f",
             "gridcolor": "white",
             "linecolor": "white",
             "minorgridcolor": "white",
             "startlinecolor": "#2a3f5f"
            },
            "baxis": {
             "endlinecolor": "#2a3f5f",
             "gridcolor": "white",
             "linecolor": "white",
             "minorgridcolor": "white",
             "startlinecolor": "#2a3f5f"
            },
            "type": "carpet"
           }
          ],
          "choropleth": [
           {
            "colorbar": {
             "outlinewidth": 0,
             "ticks": ""
            },
            "type": "choropleth"
           }
          ],
          "contour": [
           {
            "colorbar": {
             "outlinewidth": 0,
             "ticks": ""
            },
            "colorscale": [
             [
              0,
              "#0d0887"
             ],
             [
              0.1111111111111111,
              "#46039f"
             ],
             [
              0.2222222222222222,
              "#7201a8"
             ],
             [
              0.3333333333333333,
              "#9c179e"
             ],
             [
              0.4444444444444444,
              "#bd3786"
             ],
             [
              0.5555555555555556,
              "#d8576b"
             ],
             [
              0.6666666666666666,
              "#ed7953"
             ],
             [
              0.7777777777777778,
              "#fb9f3a"
             ],
             [
              0.8888888888888888,
              "#fdca26"
             ],
             [
              1,
              "#f0f921"
             ]
            ],
            "type": "contour"
           }
          ],
          "contourcarpet": [
           {
            "colorbar": {
             "outlinewidth": 0,
             "ticks": ""
            },
            "type": "contourcarpet"
           }
          ],
          "heatmap": [
           {
            "colorbar": {
             "outlinewidth": 0,
             "ticks": ""
            },
            "colorscale": [
             [
              0,
              "#0d0887"
             ],
             [
              0.1111111111111111,
              "#46039f"
             ],
             [
              0.2222222222222222,
              "#7201a8"
             ],
             [
              0.3333333333333333,
              "#9c179e"
             ],
             [
              0.4444444444444444,
              "#bd3786"
             ],
             [
              0.5555555555555556,
              "#d8576b"
             ],
             [
              0.6666666666666666,
              "#ed7953"
             ],
             [
              0.7777777777777778,
              "#fb9f3a"
             ],
             [
              0.8888888888888888,
              "#fdca26"
             ],
             [
              1,
              "#f0f921"
             ]
            ],
            "type": "heatmap"
           }
          ],
          "histogram": [
           {
            "marker": {
             "pattern": {
              "fillmode": "overlay",
              "size": 10,
              "solidity": 0.2
             }
            },
            "type": "histogram"
           }
          ],
          "histogram2d": [
           {
            "colorbar": {
             "outlinewidth": 0,
             "ticks": ""
            },
            "colorscale": [
             [
              0,
              "#0d0887"
             ],
             [
              0.1111111111111111,
              "#46039f"
             ],
             [
              0.2222222222222222,
              "#7201a8"
             ],
             [
              0.3333333333333333,
              "#9c179e"
             ],
             [
              0.4444444444444444,
              "#bd3786"
             ],
             [
              0.5555555555555556,
              "#d8576b"
             ],
             [
              0.6666666666666666,
              "#ed7953"
             ],
             [
              0.7777777777777778,
              "#fb9f3a"
             ],
             [
              0.8888888888888888,
              "#fdca26"
             ],
             [
              1,
              "#f0f921"
             ]
            ],
            "type": "histogram2d"
           }
          ],
          "histogram2dcontour": [
           {
            "colorbar": {
             "outlinewidth": 0,
             "ticks": ""
            },
            "colorscale": [
             [
              0,
              "#0d0887"
             ],
             [
              0.1111111111111111,
              "#46039f"
             ],
             [
              0.2222222222222222,
              "#7201a8"
             ],
             [
              0.3333333333333333,
              "#9c179e"
             ],
             [
              0.4444444444444444,
              "#bd3786"
             ],
             [
              0.5555555555555556,
              "#d8576b"
             ],
             [
              0.6666666666666666,
              "#ed7953"
             ],
             [
              0.7777777777777778,
              "#fb9f3a"
             ],
             [
              0.8888888888888888,
              "#fdca26"
             ],
             [
              1,
              "#f0f921"
             ]
            ],
            "type": "histogram2dcontour"
           }
          ],
          "mesh3d": [
           {
            "colorbar": {
             "outlinewidth": 0,
             "ticks": ""
            },
            "type": "mesh3d"
           }
          ],
          "parcoords": [
           {
            "line": {
             "colorbar": {
              "outlinewidth": 0,
              "ticks": ""
             }
            },
            "type": "parcoords"
           }
          ],
          "pie": [
           {
            "automargin": true,
            "type": "pie"
           }
          ],
          "scatter": [
           {
            "fillpattern": {
             "fillmode": "overlay",
             "size": 10,
             "solidity": 0.2
            },
            "type": "scatter"
           }
          ],
          "scatter3d": [
           {
            "line": {
             "colorbar": {
              "outlinewidth": 0,
              "ticks": ""
             }
            },
            "marker": {
             "colorbar": {
              "outlinewidth": 0,
              "ticks": ""
             }
            },
            "type": "scatter3d"
           }
          ],
          "scattercarpet": [
           {
            "marker": {
             "colorbar": {
              "outlinewidth": 0,
              "ticks": ""
             }
            },
            "type": "scattercarpet"
           }
          ],
          "scattergeo": [
           {
            "marker": {
             "colorbar": {
              "outlinewidth": 0,
              "ticks": ""
             }
            },
            "type": "scattergeo"
           }
          ],
          "scattergl": [
           {
            "marker": {
             "colorbar": {
              "outlinewidth": 0,
              "ticks": ""
             }
            },
            "type": "scattergl"
           }
          ],
          "scattermap": [
           {
            "marker": {
             "colorbar": {
              "outlinewidth": 0,
              "ticks": ""
             }
            },
            "type": "scattermap"
           }
          ],
          "scattermapbox": [
           {
            "marker": {
             "colorbar": {
              "outlinewidth": 0,
              "ticks": ""
             }
            },
            "type": "scattermapbox"
           }
          ],
          "scatterpolar": [
           {
            "marker": {
             "colorbar": {
              "outlinewidth": 0,
              "ticks": ""
             }
            },
            "type": "scatterpolar"
           }
          ],
          "scatterpolargl": [
           {
            "marker": {
             "colorbar": {
              "outlinewidth": 0,
              "ticks": ""
             }
            },
            "type": "scatterpolargl"
           }
          ],
          "scatterternary": [
           {
            "marker": {
             "colorbar": {
              "outlinewidth": 0,
              "ticks": ""
             }
            },
            "type": "scatterternary"
           }
          ],
          "surface": [
           {
            "colorbar": {
             "outlinewidth": 0,
             "ticks": ""
            },
            "colorscale": [
             [
              0,
              "#0d0887"
             ],
             [
              0.1111111111111111,
              "#46039f"
             ],
             [
              0.2222222222222222,
              "#7201a8"
             ],
             [
              0.3333333333333333,
              "#9c179e"
             ],
             [
              0.4444444444444444,
              "#bd3786"
             ],
             [
              0.5555555555555556,
              "#d8576b"
             ],
             [
              0.6666666666666666,
              "#ed7953"
             ],
             [
              0.7777777777777778,
              "#fb9f3a"
             ],
             [
              0.8888888888888888,
              "#fdca26"
             ],
             [
              1,
              "#f0f921"
             ]
            ],
            "type": "surface"
           }
          ],
          "table": [
           {
            "cells": {
             "fill": {
              "color": "#EBF0F8"
             },
             "line": {
              "color": "white"
             }
            },
            "header": {
             "fill": {
              "color": "#C8D4E3"
             },
             "line": {
              "color": "white"
             }
            },
            "type": "table"
           }
          ]
         },
         "layout": {
          "annotationdefaults": {
           "arrowcolor": "#2a3f5f",
           "arrowhead": 0,
           "arrowwidth": 1
          },
          "autotypenumbers": "strict",
          "coloraxis": {
           "colorbar": {
            "outlinewidth": 0,
            "ticks": ""
           }
          },
          "colorscale": {
           "diverging": [
            [
             0,
             "#8e0152"
            ],
            [
             0.1,
             "#c51b7d"
            ],
            [
             0.2,
             "#de77ae"
            ],
            [
             0.3,
             "#f1b6da"
            ],
            [
             0.4,
             "#fde0ef"
            ],
            [
             0.5,
             "#f7f7f7"
            ],
            [
             0.6,
             "#e6f5d0"
            ],
            [
             0.7,
             "#b8e186"
            ],
            [
             0.8,
             "#7fbc41"
            ],
            [
             0.9,
             "#4d9221"
            ],
            [
             1,
             "#276419"
            ]
           ],
           "sequential": [
            [
             0,
             "#0d0887"
            ],
            [
             0.1111111111111111,
             "#46039f"
            ],
            [
             0.2222222222222222,
             "#7201a8"
            ],
            [
             0.3333333333333333,
             "#9c179e"
            ],
            [
             0.4444444444444444,
             "#bd3786"
            ],
            [
             0.5555555555555556,
             "#d8576b"
            ],
            [
             0.6666666666666666,
             "#ed7953"
            ],
            [
             0.7777777777777778,
             "#fb9f3a"
            ],
            [
             0.8888888888888888,
             "#fdca26"
            ],
            [
             1,
             "#f0f921"
            ]
           ],
           "sequentialminus": [
            [
             0,
             "#0d0887"
            ],
            [
             0.1111111111111111,
             "#46039f"
            ],
            [
             0.2222222222222222,
             "#7201a8"
            ],
            [
             0.3333333333333333,
             "#9c179e"
            ],
            [
             0.4444444444444444,
             "#bd3786"
            ],
            [
             0.5555555555555556,
             "#d8576b"
            ],
            [
             0.6666666666666666,
             "#ed7953"
            ],
            [
             0.7777777777777778,
             "#fb9f3a"
            ],
            [
             0.8888888888888888,
             "#fdca26"
            ],
            [
             1,
             "#f0f921"
            ]
           ]
          },
          "colorway": [
           "#636efa",
           "#EF553B",
           "#00cc96",
           "#ab63fa",
           "#FFA15A",
           "#19d3f3",
           "#FF6692",
           "#B6E880",
           "#FF97FF",
           "#FECB52"
          ],
          "font": {
           "color": "#2a3f5f"
          },
          "geo": {
           "bgcolor": "white",
           "lakecolor": "white",
           "landcolor": "#E5ECF6",
           "showlakes": true,
           "showland": true,
           "subunitcolor": "white"
          },
          "hoverlabel": {
           "align": "left"
          },
          "hovermode": "closest",
          "mapbox": {
           "style": "light"
          },
          "paper_bgcolor": "white",
          "plot_bgcolor": "#E5ECF6",
          "polar": {
           "angularaxis": {
            "gridcolor": "white",
            "linecolor": "white",
            "ticks": ""
           },
           "bgcolor": "#E5ECF6",
           "radialaxis": {
            "gridcolor": "white",
            "linecolor": "white",
            "ticks": ""
           }
          },
          "scene": {
           "xaxis": {
            "backgroundcolor": "#E5ECF6",
            "gridcolor": "white",
            "gridwidth": 2,
            "linecolor": "white",
            "showbackground": true,
            "ticks": "",
            "zerolinecolor": "white"
           },
           "yaxis": {
            "backgroundcolor": "#E5ECF6",
            "gridcolor": "white",
            "gridwidth": 2,
            "linecolor": "white",
            "showbackground": true,
            "ticks": "",
            "zerolinecolor": "white"
           },
           "zaxis": {
            "backgroundcolor": "#E5ECF6",
            "gridcolor": "white",
            "gridwidth": 2,
            "linecolor": "white",
            "showbackground": true,
            "ticks": "",
            "zerolinecolor": "white"
           }
          },
          "shapedefaults": {
           "line": {
            "color": "#2a3f5f"
           }
          },
          "ternary": {
           "aaxis": {
            "gridcolor": "white",
            "linecolor": "white",
            "ticks": ""
           },
           "baxis": {
            "gridcolor": "white",
            "linecolor": "white",
            "ticks": ""
           },
           "bgcolor": "#E5ECF6",
           "caxis": {
            "gridcolor": "white",
            "linecolor": "white",
            "ticks": ""
           }
          },
          "title": {
           "x": 0.05
          },
          "xaxis": {
           "automargin": true,
           "gridcolor": "white",
           "linecolor": "white",
           "ticks": "",
           "title": {
            "standoff": 15
           },
           "zerolinecolor": "white",
           "zerolinewidth": 2
          },
          "yaxis": {
           "automargin": true,
           "gridcolor": "white",
           "linecolor": "white",
           "ticks": "",
           "title": {
            "standoff": 15
           },
           "zerolinecolor": "white",
           "zerolinewidth": 2
          }
         }
        },
        "title": {
         "text": "Conf Matrix"
        },
        "width": 800,
        "xaxis": {
         "title": {
          "text": "Predicted value"
         }
        },
        "yaxis": {
         "title": {
          "text": "Real value"
         }
        }
       }
      }
     },
     "metadata": {},
     "output_type": "display_data"
    }
   ],
   "source": [
    "#Vamos a replicar el resultado de la optimizacion reentrenando el modelo con el mejor conjunto de hiperparametros\n",
    "#Generamos parametros incluyendo los fijos y la mejor solución que encontro optuna\n",
    "lgb_params =  {      \n",
    "                        'objective': 'multiclass',\n",
    "                        'verbosity':-1,\n",
    "                        'num_class': len(y_train.unique()),\n",
    "                        'seed':SEED} | study.best_params\n",
    "                        \n",
    "\n",
    "lgb_train_dataset = lgb.Dataset(data=X_train,\n",
    "                                label=y_train)\n",
    "\n",
    "\n",
    "#Entreno\n",
    "lgb_model2 = lgb.train(lgb_params,\n",
    "                    lgb_train_dataset)\n",
    "\n",
    "#Muestro matriz de confusion y kappa\n",
    "print(cohen_kappa_score(y_test,lgb_model2.predict(X_test).argmax(axis=1),\n",
    "                             weights = 'quadratic'))\n",
    "\n",
    "display(plot_confusion_matrix(y_test,lgb_model2.predict(X_test).argmax(axis=1)))\n",
    "\n"
   ]
  },
  {
   "cell_type": "markdown",
   "id": "52853014",
   "metadata": {},
   "source": [
    "## Modelo con optimizacion de hiperparametros con 5 Fold Cross Validation"
   ]
  },
  {
   "cell_type": "code",
   "execution_count": 13,
   "id": "1f79d12c",
   "metadata": {},
   "outputs": [],
   "source": [
    "from optuna.artifacts import FileSystemArtifactStore, upload_artifact\n",
    "from sklearn.metrics import cohen_kappa_score\n",
    "from sklearn.model_selection import StratifiedKFold\n",
    "import lightgbm as lgb\n",
    "import numpy as np\n",
    "import os\n",
    "from joblib import dump\n",
    "import matplotlib.pyplot as plt\n",
    "from sklearn.metrics import confusion_matrix, ConfusionMatrixDisplay\n",
    "\n",
    "def lgb_custom_metric_kappa(dy_pred, dy_true):\n",
    "    metric_name = 'kappa'\n",
    "    value = cohen_kappa_score(dy_true.get_label(), dy_pred.argmax(axis=1), weights='quadratic')\n",
    "    is_higher_better = True\n",
    "    return (metric_name, value, is_higher_better)\n",
    "\n",
    "def cv_es_lgb_objective(trial):\n",
    "    \n",
    "    # Inicio el store de artefactos (archivos) de Optuna\n",
    "    artifact_store = FileSystemArtifactStore(base_path=PATH_TO_OPTUNA_ARTIFACTS)\n",
    "\n",
    "    # Hiperparámetros a optimizar\n",
    "    lgb_params = {\n",
    "        'objective': 'multiclass',\n",
    "        'verbosity': -1,\n",
    "        'num_class': len(y_train.unique()),\n",
    "        'lambda_l1': trial.suggest_float('lambda_l1', 1e-8, 10.0, log=True),\n",
    "        'lambda_l2': trial.suggest_float('lambda_l2', 1e-8, 10.0, log=True),\n",
    "        'num_leaves': trial.suggest_int('num_leaves', 2, 256),\n",
    "        'feature_fraction': trial.suggest_float('feature_fraction', 0.4, 1.0),\n",
    "        'bagging_fraction': trial.suggest_float('bagging_fraction', 0.4, 1.0),\n",
    "        'bagging_freq': trial.suggest_int('bagging_freq', 1, 7),\n",
    "        'min_child_samples': trial.suggest_int('min_child_samples', 5, 100),\n",
    "        'n_jobs': -1,\n",
    "        'seed':SEED\n",
    "    }\n",
    "    \n",
    "    scores_ensemble = np.zeros((len(y_test), len(y_train.unique())))\n",
    "    score_folds = 0\n",
    "    n_splits = 5\n",
    "    skf = StratifiedKFold(n_splits=n_splits, shuffle=True, random_state=SEED)\n",
    "\n",
    "    for i, (if_index, oof_index) in enumerate(skf.split(X_train, y_train)):\n",
    "\n",
    "        lgb_if_dataset = lgb.Dataset(data=X_train.iloc[if_index],\n",
    "                                     label=y_train.iloc[if_index],\n",
    "                                     free_raw_data=False)\n",
    "        \n",
    "        lgb_oof_dataset = lgb.Dataset(data=X_train.iloc[oof_index],\n",
    "                                      label=y_train.iloc[oof_index],\n",
    "                                      free_raw_data=False)\n",
    "                \n",
    "        lgb_model3 = lgb.train(\n",
    "            lgb_params,\n",
    "            lgb_if_dataset,\n",
    "            valid_sets=lgb_oof_dataset,\n",
    "            callbacks=[lgb.early_stopping(10, verbose=False)],\n",
    "            feval=lgb_custom_metric_kappa\n",
    "        )\n",
    "        \n",
    "        scores_ensemble += lgb_model3.predict(X_test)\n",
    "\n",
    "        score_folds += cohen_kappa_score(\n",
    "            y_train.iloc[oof_index],\n",
    "            lgb_model3.predict(X_train.iloc[oof_index]).argmax(axis=1),\n",
    "            weights='quadratic'\n",
    "        ) / n_splits\n",
    "    \n",
    "    # Guardar predicciones sobre test\n",
    "    predicted_filename = os.path.join(PATH_TO_TEMP_FILES, f'test_{trial.study.study_name}_{trial.number}.joblib')\n",
    "    predicted_df = test.copy()\n",
    "    predicted_df['pred'] = [scores_ensemble[p, :] for p in range(scores_ensemble.shape[0])]\n",
    "    dump(predicted_df, predicted_filename)\n",
    "\n",
    "    # Uso keyword arguments en upload_artifact. Asociar las predicciones como artefacto.\n",
    "    upload_artifact(\n",
    "        study_or_trial=trial,\n",
    "        file_path=predicted_filename,\n",
    "        artifact_store=artifact_store\n",
    "    )\n",
    "\n",
    "    # Guardar el score en test como métrica auxiliar\n",
    "    test_score = cohen_kappa_score(y_test, scores_ensemble.argmax(axis=1), weights='quadratic')\n",
    "    trial.set_user_attr(\"test_score\", test_score)\n",
    "\n",
    "    # Devuelvo el promedio de los scores del CV (objetivo a maximizar)\n",
    "    return score_folds"
   ]
  },
  {
   "cell_type": "code",
   "execution_count": 14,
   "id": "44742181",
   "metadata": {},
   "outputs": [
    {
     "name": "stderr",
     "output_type": "stream",
     "text": [
      "[I 2025-05-08 15:43:34,245] A new study created in RDB with name: 100_LGBM_FE_JM_100_Completo_CV\n",
      "[I 2025-05-08 15:43:41,260] Trial 0 finished with value: 0.33049496265078837 and parameters: {'lambda_l1': 0.08916674715636537, 'lambda_l2': 6.143857495033091e-07, 'num_leaves': 3, 'feature_fraction': 0.8892768570729005, 'bagging_fraction': 0.8241144063085704, 'bagging_freq': 6, 'min_child_samples': 79}. Best is trial 0 with value: 0.33049496265078837.\n",
      "[I 2025-05-08 15:43:47,524] Trial 1 finished with value: 0.3500096882615593 and parameters: {'lambda_l1': 4.638759594322625e-08, 'lambda_l2': 1.683416412018213e-05, 'num_leaves': 31, 'feature_fraction': 0.9178620555253562, 'bagging_fraction': 0.7739788760965347, 'bagging_freq': 3, 'min_child_samples': 11}. Best is trial 1 with value: 0.3500096882615593.\n",
      "[I 2025-05-08 15:43:57,326] Trial 2 finished with value: 0.3396591888233911 and parameters: {'lambda_l1': 6.292756043818863e-06, 'lambda_l2': 8.445977074223802e-06, 'num_leaves': 188, 'feature_fraction': 0.7825344828131279, 'bagging_fraction': 0.932327645545796, 'bagging_freq': 4, 'min_child_samples': 16}. Best is trial 1 with value: 0.3500096882615593.\n",
      "[I 2025-05-08 15:44:04,937] Trial 3 finished with value: 0.34777564459381466 and parameters: {'lambda_l1': 0.02625445968759339, 'lambda_l2': 0.0703178263660987, 'num_leaves': 145, 'feature_fraction': 0.8625803079727365, 'bagging_fraction': 0.6962773578186345, 'bagging_freq': 4, 'min_child_samples': 46}. Best is trial 1 with value: 0.3500096882615593.\n",
      "[I 2025-05-08 15:44:10,447] Trial 4 finished with value: 0.3475287917115618 and parameters: {'lambda_l1': 1.6934490731313353e-08, 'lambda_l2': 9.354548757337708e-08, 'num_leaves': 10, 'feature_fraction': 0.7818462467582683, 'bagging_fraction': 0.588613588645796, 'bagging_freq': 4, 'min_child_samples': 92}. Best is trial 1 with value: 0.3500096882615593.\n",
      "[I 2025-05-08 15:44:19,077] Trial 5 finished with value: 0.3422650751697637 and parameters: {'lambda_l1': 1.7523871598466864e-06, 'lambda_l2': 4.9368087974032924e-05, 'num_leaves': 194, 'feature_fraction': 0.5372788992949735, 'bagging_fraction': 0.44618794589727584, 'bagging_freq': 3, 'min_child_samples': 20}. Best is trial 1 with value: 0.3500096882615593.\n",
      "[I 2025-05-08 15:44:26,229] Trial 6 finished with value: 0.3512763652738887 and parameters: {'lambda_l1': 2.3295866619309256, 'lambda_l2': 0.18753546777666233, 'num_leaves': 163, 'feature_fraction': 0.9228763541126306, 'bagging_fraction': 0.8822032461394687, 'bagging_freq': 2, 'min_child_samples': 90}. Best is trial 6 with value: 0.3512763652738887.\n",
      "[I 2025-05-08 15:44:33,285] Trial 7 finished with value: 0.34114627815288334 and parameters: {'lambda_l1': 0.000714628244934021, 'lambda_l2': 0.18491042486838075, 'num_leaves': 230, 'feature_fraction': 0.5908020849831184, 'bagging_fraction': 0.46603115471660606, 'bagging_freq': 2, 'min_child_samples': 46}. Best is trial 6 with value: 0.3512763652738887.\n",
      "[I 2025-05-08 15:44:40,041] Trial 8 finished with value: 0.3288940148670152 and parameters: {'lambda_l1': 0.23021461620759875, 'lambda_l2': 0.557924264150636, 'num_leaves': 3, 'feature_fraction': 0.7064483815465394, 'bagging_fraction': 0.6504466018892674, 'bagging_freq': 2, 'min_child_samples': 16}. Best is trial 6 with value: 0.3512763652738887.\n",
      "[I 2025-05-08 15:44:46,446] Trial 9 finished with value: 0.3514335583973327 and parameters: {'lambda_l1': 1.0927895733904103e-05, 'lambda_l2': 3.0632845126552133, 'num_leaves': 84, 'feature_fraction': 0.7112743730460196, 'bagging_fraction': 0.8218113753371068, 'bagging_freq': 3, 'min_child_samples': 98}. Best is trial 9 with value: 0.3514335583973327.\n",
      "[I 2025-05-08 15:44:55,111] Trial 10 finished with value: 0.36096348206275713 and parameters: {'lambda_l1': 0.00016619458563166414, 'lambda_l2': 0.0033830493134969376, 'num_leaves': 87, 'feature_fraction': 0.43399307283274685, 'bagging_fraction': 0.9820508431375602, 'bagging_freq': 7, 'min_child_samples': 64}. Best is trial 10 with value: 0.36096348206275713.\n",
      "[I 2025-05-08 15:45:04,486] Trial 11 finished with value: 0.35511490099563936 and parameters: {'lambda_l1': 0.0001376009836460241, 'lambda_l2': 0.002008983701327231, 'num_leaves': 78, 'feature_fraction': 0.41120620644319333, 'bagging_fraction': 0.9973120578948291, 'bagging_freq': 7, 'min_child_samples': 68}. Best is trial 10 with value: 0.36096348206275713.\n",
      "[I 2025-05-08 15:45:13,237] Trial 12 finished with value: 0.3567476299788632 and parameters: {'lambda_l1': 0.0009837242403178692, 'lambda_l2': 0.0013567589571868161, 'num_leaves': 92, 'feature_fraction': 0.41276801669272484, 'bagging_fraction': 0.9983200803962184, 'bagging_freq': 7, 'min_child_samples': 70}. Best is trial 10 with value: 0.36096348206275713.\n",
      "[I 2025-05-08 15:45:20,641] Trial 13 finished with value: 0.36026652544711213 and parameters: {'lambda_l1': 0.0014204289017794656, 'lambda_l2': 0.0018978066028429, 'num_leaves': 96, 'feature_fraction': 0.40188323707426576, 'bagging_fraction': 0.9903341587145024, 'bagging_freq': 7, 'min_child_samples': 65}. Best is trial 10 with value: 0.36096348206275713.\n",
      "[I 2025-05-08 15:45:29,021] Trial 14 finished with value: 0.3616027244180571 and parameters: {'lambda_l1': 0.005712558497503918, 'lambda_l2': 0.01392891545106911, 'num_leaves': 57, 'feature_fraction': 0.5120197564897683, 'bagging_fraction': 0.9110350731157494, 'bagging_freq': 6, 'min_child_samples': 58}. Best is trial 14 with value: 0.3616027244180571.\n",
      "[I 2025-05-08 15:45:37,207] Trial 15 finished with value: 0.3611066971063327 and parameters: {'lambda_l1': 0.014026835978025749, 'lambda_l2': 0.021425461973356152, 'num_leaves': 47, 'feature_fraction': 0.5231173513007874, 'bagging_fraction': 0.8952749903140034, 'bagging_freq': 6, 'min_child_samples': 32}. Best is trial 14 with value: 0.3616027244180571.\n",
      "[I 2025-05-08 15:45:44,987] Trial 16 finished with value: 0.3564349867923557 and parameters: {'lambda_l1': 0.01046307281568102, 'lambda_l2': 0.017122559982727704, 'num_leaves': 53, 'feature_fraction': 0.5424987384667777, 'bagging_fraction': 0.8679471597984211, 'bagging_freq': 5, 'min_child_samples': 32}. Best is trial 14 with value: 0.3616027244180571.\n",
      "[I 2025-05-08 15:45:52,025] Trial 17 finished with value: 0.3454825886292667 and parameters: {'lambda_l1': 2.6102318144093446, 'lambda_l2': 0.00016711106565548502, 'num_leaves': 55, 'feature_fraction': 0.6170843404092383, 'bagging_fraction': 0.7559635643178887, 'bagging_freq': 6, 'min_child_samples': 34}. Best is trial 14 with value: 0.3616027244180571.\n",
      "[I 2025-05-08 15:46:00,233] Trial 18 finished with value: 0.34885694214889285 and parameters: {'lambda_l1': 0.008493644148533994, 'lambda_l2': 3.8987385160578776, 'num_leaves': 124, 'feature_fraction': 0.49118418173728295, 'bagging_fraction': 0.5299709172099274, 'bagging_freq': 5, 'min_child_samples': 54}. Best is trial 14 with value: 0.3616027244180571.\n",
      "[I 2025-05-08 15:46:07,218] Trial 19 finished with value: 0.35145311350659797 and parameters: {'lambda_l1': 0.29352623450572074, 'lambda_l2': 0.01827093633499207, 'num_leaves': 46, 'feature_fraction': 0.6443411514064029, 'bagging_fraction': 0.9022859145128165, 'bagging_freq': 6, 'min_child_samples': 33}. Best is trial 14 with value: 0.3616027244180571.\n",
      "[I 2025-05-08 15:46:16,002] Trial 20 finished with value: 0.33716246856461723 and parameters: {'lambda_l1': 3.3580043944457665e-05, 'lambda_l2': 0.020065863265412903, 'num_leaves': 117, 'feature_fraction': 0.988364506337591, 'bagging_fraction': 0.7442656848932635, 'bagging_freq': 5, 'min_child_samples': 47}. Best is trial 14 with value: 0.3616027244180571.\n",
      "[I 2025-05-08 15:46:23,936] Trial 21 finished with value: 0.35416961543701053 and parameters: {'lambda_l1': 0.000120853830581258, 'lambda_l2': 0.0004369936161886947, 'num_leaves': 66, 'feature_fraction': 0.4833518755973425, 'bagging_fraction': 0.934943713574367, 'bagging_freq': 6, 'min_child_samples': 58}. Best is trial 14 with value: 0.3616027244180571.\n",
      "[I 2025-05-08 15:46:31,405] Trial 22 finished with value: 0.3569300268888761 and parameters: {'lambda_l1': 0.004184385931675992, 'lambda_l2': 0.006627475616323011, 'num_leaves': 30, 'feature_fraction': 0.5003938121481901, 'bagging_fraction': 0.9469369334775647, 'bagging_freq': 7, 'min_child_samples': 40}. Best is trial 14 with value: 0.3616027244180571.\n",
      "[I 2025-05-08 15:46:41,810] Trial 23 finished with value: 0.3633104862697395 and parameters: {'lambda_l1': 9.537545806510747e-07, 'lambda_l2': 0.00024314730486667813, 'num_leaves': 104, 'feature_fraction': 0.45284664570043287, 'bagging_fraction': 0.8293905921882081, 'bagging_freq': 6, 'min_child_samples': 78}. Best is trial 23 with value: 0.3633104862697395.\n",
      "[I 2025-05-08 15:46:50,106] Trial 24 finished with value: 0.356954416288833 and parameters: {'lambda_l1': 4.870342842365525e-07, 'lambda_l2': 0.00021650573764185938, 'num_leaves': 31, 'feature_fraction': 0.5587268912458806, 'bagging_fraction': 0.8195871093082385, 'bagging_freq': 5, 'min_child_samples': 77}. Best is trial 23 with value: 0.3633104862697395.\n",
      "[I 2025-05-08 15:46:59,925] Trial 25 finished with value: 0.3556120951029856 and parameters: {'lambda_l1': 3.1361723802267487e-07, 'lambda_l2': 1.9804874146348734e-06, 'num_leaves': 110, 'feature_fraction': 0.4637617895539654, 'bagging_fraction': 0.856443332782477, 'bagging_freq': 6, 'min_child_samples': 84}. Best is trial 23 with value: 0.3633104862697395.\n",
      "[I 2025-05-08 15:47:08,551] Trial 26 finished with value: 0.34740121265232965 and parameters: {'lambda_l1': 0.08236848167849103, 'lambda_l2': 2.163428914607497e-08, 'num_leaves': 144, 'feature_fraction': 0.575850199119639, 'bagging_fraction': 0.8102457767169147, 'bagging_freq': 1, 'min_child_samples': 24}. Best is trial 23 with value: 0.3633104862697395.\n",
      "[I 2025-05-08 15:47:18,597] Trial 27 finished with value: 0.3519000827083918 and parameters: {'lambda_l1': 8.432169616258205, 'lambda_l2': 0.5623885022849645, 'num_leaves': 68, 'feature_fraction': 0.6586285550956136, 'bagging_fraction': 0.900974210269498, 'bagging_freq': 5, 'min_child_samples': 60}. Best is trial 23 with value: 0.3633104862697395.\n",
      "[I 2025-05-08 15:47:28,780] Trial 28 finished with value: 0.3639427092978232 and parameters: {'lambda_l1': 3.290106281174298e-05, 'lambda_l2': 0.000481450278951886, 'num_leaves': 103, 'feature_fraction': 0.5238310494296543, 'bagging_fraction': 0.699650604966416, 'bagging_freq': 6, 'min_child_samples': 74}. Best is trial 28 with value: 0.3639427092978232.\n",
      "[I 2025-05-08 15:47:37,288] Trial 29 finished with value: 0.3557780751268552 and parameters: {'lambda_l1': 3.504604263190628e-05, 'lambda_l2': 4.793066050155291e-05, 'num_leaves': 142, 'feature_fraction': 0.4535286016960363, 'bagging_fraction': 0.6841161155478739, 'bagging_freq': 6, 'min_child_samples': 76}. Best is trial 28 with value: 0.3639427092978232.\n",
      "[I 2025-05-08 15:47:45,127] Trial 30 finished with value: 0.35586285322046796 and parameters: {'lambda_l1': 2.3467254262855743e-07, 'lambda_l2': 7.92951963314881e-07, 'num_leaves': 174, 'feature_fraction': 0.6121142493683979, 'bagging_fraction': 0.6373683291475973, 'bagging_freq': 5, 'min_child_samples': 82}. Best is trial 28 with value: 0.3639427092978232.\n",
      "[I 2025-05-08 15:47:54,375] Trial 31 finished with value: 0.3476980696900116 and parameters: {'lambda_l1': 2.282956214441262e-06, 'lambda_l2': 0.0008672215264775144, 'num_leaves': 105, 'feature_fraction': 0.5273029928734522, 'bagging_fraction': 0.7826976866553927, 'bagging_freq': 6, 'min_child_samples': 75}. Best is trial 28 with value: 0.3639427092978232.\n",
      "[I 2025-05-08 15:48:02,746] Trial 32 finished with value: 0.35914365300073886 and parameters: {'lambda_l1': 0.044534701481967906, 'lambda_l2': 7.12582696943835e-05, 'num_leaves': 38, 'feature_fraction': 0.5108213146844671, 'bagging_fraction': 0.7269315951618077, 'bagging_freq': 6, 'min_child_samples': 52}. Best is trial 28 with value: 0.3639427092978232.\n",
      "[I 2025-05-08 15:48:11,518] Trial 33 finished with value: 0.35339066104310923 and parameters: {'lambda_l1': 0.0030163709801810544, 'lambda_l2': 1.761533068349716e-05, 'num_leaves': 69, 'feature_fraction': 0.4588218461605623, 'bagging_fraction': 0.8441226372037456, 'bagging_freq': 6, 'min_child_samples': 72}. Best is trial 28 with value: 0.3639427092978232.\n",
      "[I 2025-05-08 15:48:18,071] Trial 34 finished with value: 0.3533146089988482 and parameters: {'lambda_l1': 5.2548963837803935e-08, 'lambda_l2': 0.007147548531897583, 'num_leaves': 22, 'feature_fraction': 0.6676256240486083, 'bagging_fraction': 0.7907721228523763, 'bagging_freq': 7, 'min_child_samples': 85}. Best is trial 28 with value: 0.3639427092978232.\n",
      "[I 2025-05-08 15:48:26,768] Trial 35 finished with value: 0.34868373934181063 and parameters: {'lambda_l1': 1.677814281995369e-05, 'lambda_l2': 0.05481936441728452, 'num_leaves': 131, 'feature_fraction': 0.7547411064218223, 'bagging_fraction': 0.9505340507733231, 'bagging_freq': 4, 'min_child_samples': 5}. Best is trial 28 with value: 0.3639427092978232.\n",
      "[I 2025-05-08 15:48:35,701] Trial 36 finished with value: 0.35663504338993557 and parameters: {'lambda_l1': 1.278741620678228e-06, 'lambda_l2': 5.12950727414252e-06, 'num_leaves': 59, 'feature_fraction': 0.5146033715304282, 'bagging_fraction': 0.6149053211720228, 'bagging_freq': 5, 'min_child_samples': 59}. Best is trial 28 with value: 0.3639427092978232.\n",
      "[I 2025-05-08 15:48:42,555] Trial 37 finished with value: 0.35034251242048015 and parameters: {'lambda_l1': 0.020061890719032322, 'lambda_l2': 0.0006634031315285668, 'num_leaves': 16, 'feature_fraction': 0.5586345820919165, 'bagging_fraction': 0.7036892179443467, 'bagging_freq': 6, 'min_child_samples': 93}. Best is trial 28 with value: 0.3639427092978232.\n",
      "[I 2025-05-08 15:48:51,458] Trial 38 finished with value: 0.345979299276421 and parameters: {'lambda_l1': 4.07730711211854e-06, 'lambda_l2': 0.07147964141387327, 'num_leaves': 102, 'feature_fraction': 0.8314468155714168, 'bagging_fraction': 0.9106643888709793, 'bagging_freq': 4, 'min_child_samples': 26}. Best is trial 28 with value: 0.3639427092978232.\n",
      "[I 2025-05-08 15:48:59,158] Trial 39 finished with value: 0.3461943464131837 and parameters: {'lambda_l1': 0.0003923074409804987, 'lambda_l2': 0.00014601739267598878, 'num_leaves': 230, 'feature_fraction': 0.5889506825106416, 'bagging_fraction': 0.5475665142603873, 'bagging_freq': 7, 'min_child_samples': 43}. Best is trial 28 with value: 0.3639427092978232.\n",
      "[I 2025-05-08 15:49:07,433] Trial 40 finished with value: 0.3585160457001322 and parameters: {'lambda_l1': 4.456034864378367e-08, 'lambda_l2': 1.6355521633921498e-05, 'num_leaves': 44, 'feature_fraction': 0.4438081043327643, 'bagging_fraction': 0.8483149408263098, 'bagging_freq': 5, 'min_child_samples': 51}. Best is trial 28 with value: 0.3639427092978232.\n",
      "[I 2025-05-08 15:49:15,140] Trial 41 finished with value: 0.3580535884206481 and parameters: {'lambda_l1': 0.0001133570186030154, 'lambda_l2': 0.0035181804890800513, 'num_leaves': 77, 'feature_fraction': 0.4419704982672604, 'bagging_fraction': 0.9723519717704958, 'bagging_freq': 7, 'min_child_samples': 64}. Best is trial 28 with value: 0.3639427092978232.\n",
      "[I 2025-05-08 15:49:23,752] Trial 42 finished with value: 0.354167879507136 and parameters: {'lambda_l1': 0.00040870549848978085, 'lambda_l2': 0.0037123006624902016, 'num_leaves': 88, 'feature_fraction': 0.47763473823146374, 'bagging_fraction': 0.9202194024813719, 'bagging_freq': 7, 'min_child_samples': 65}. Best is trial 28 with value: 0.3639427092978232.\n",
      "[I 2025-05-08 15:49:31,772] Trial 43 finished with value: 0.3652903275133228 and parameters: {'lambda_l1': 0.0020964595605502847, 'lambda_l2': 0.04885956053278416, 'num_leaves': 79, 'feature_fraction': 0.439777836077991, 'bagging_fraction': 0.9639481164381826, 'bagging_freq': 7, 'min_child_samples': 80}. Best is trial 43 with value: 0.3652903275133228.\n",
      "[I 2025-05-08 15:49:41,406] Trial 44 finished with value: 0.35211692519977367 and parameters: {'lambda_l1': 0.32887116911398273, 'lambda_l2': 0.2362418661744884, 'num_leaves': 159, 'feature_fraction': 0.5360649427106006, 'bagging_fraction': 0.8915514580256774, 'bagging_freq': 6, 'min_child_samples': 88}. Best is trial 43 with value: 0.3652903275133228.\n",
      "[I 2025-05-08 15:49:50,450] Trial 45 finished with value: 0.3548193577611821 and parameters: {'lambda_l1': 0.0029334196652489974, 'lambda_l2': 1.089314729012785, 'num_leaves': 204, 'feature_fraction': 0.41969497763609903, 'bagging_fraction': 0.870638022354629, 'bagging_freq': 6, 'min_child_samples': 80}. Best is trial 43 with value: 0.3652903275133228.\n",
      "[I 2025-05-08 15:49:57,827] Trial 46 finished with value: 0.35410724881568945 and parameters: {'lambda_l1': 0.01993130944862687, 'lambda_l2': 0.038698997765412815, 'num_leaves': 77, 'feature_fraction': 0.48427014483625686, 'bagging_fraction': 0.9593880495793472, 'bagging_freq': 7, 'min_child_samples': 97}. Best is trial 43 with value: 0.3652903275133228.\n",
      "[I 2025-05-08 15:50:05,625] Trial 47 finished with value: 0.34717610710597624 and parameters: {'lambda_l1': 0.0019587430899499388, 'lambda_l2': 0.11611434898634182, 'num_leaves': 118, 'feature_fraction': 0.6233867966598778, 'bagging_fraction': 0.6816556248536796, 'bagging_freq': 6, 'min_child_samples': 71}. Best is trial 43 with value: 0.3652903275133228.\n",
      "[I 2025-05-08 15:50:14,597] Trial 48 finished with value: 0.3536691074414572 and parameters: {'lambda_l1': 0.009051323341449783, 'lambda_l2': 0.007182870600862508, 'num_leaves': 131, 'feature_fraction': 0.5595485598020041, 'bagging_fraction': 0.9254344480420578, 'bagging_freq': 3, 'min_child_samples': 87}. Best is trial 43 with value: 0.3652903275133228.\n",
      "[I 2025-05-08 15:50:23,991] Trial 49 finished with value: 0.3516511099892168 and parameters: {'lambda_l1': 0.1034800004343743, 'lambda_l2': 1.3822183291388819, 'num_leaves': 97, 'feature_fraction': 0.4003841472623151, 'bagging_fraction': 0.836397754978266, 'bagging_freq': 7, 'min_child_samples': 38}. Best is trial 43 with value: 0.3652903275133228.\n",
      "[I 2025-05-08 15:50:33,706] Trial 50 finished with value: 0.3554718522401378 and parameters: {'lambda_l1': 0.0008815194212746801, 'lambda_l2': 9.206178629296268, 'num_leaves': 255, 'feature_fraction': 0.43001308087990703, 'bagging_fraction': 0.8882531988674907, 'bagging_freq': 7, 'min_child_samples': 73}. Best is trial 43 with value: 0.3652903275133228.\n",
      "[I 2025-05-08 15:50:41,603] Trial 51 finished with value: 0.35306928155303446 and parameters: {'lambda_l1': 6.597541110646967e-05, 'lambda_l2': 0.016712046124223248, 'num_leaves': 87, 'feature_fraction': 0.4686334219248874, 'bagging_fraction': 0.9716499834230701, 'bagging_freq': 7, 'min_child_samples': 68}. Best is trial 43 with value: 0.3652903275133228.\n",
      "[I 2025-05-08 15:50:50,215] Trial 52 finished with value: 0.359387830205175 and parameters: {'lambda_l1': 0.00027484327959845483, 'lambda_l2': 0.0008990856326484544, 'num_leaves': 59, 'feature_fraction': 0.5111279518116135, 'bagging_fraction': 0.997731070785096, 'bagging_freq': 6, 'min_child_samples': 80}. Best is trial 43 with value: 0.3652903275133228.\n",
      "[I 2025-05-08 15:50:57,408] Trial 53 finished with value: 0.35513516564247716 and parameters: {'lambda_l1': 1.5975957842365443e-05, 'lambda_l2': 0.00278036954848138, 'num_leaves': 78, 'feature_fraction': 0.4263443253252351, 'bagging_fraction': 0.9796948620239997, 'bagging_freq': 7, 'min_child_samples': 60}. Best is trial 43 with value: 0.3652903275133228.\n",
      "[I 2025-05-08 15:51:05,622] Trial 54 finished with value: 0.3528856206563845 and parameters: {'lambda_l1': 0.0007232019966130472, 'lambda_l2': 0.0004141175543400862, 'num_leaves': 110, 'feature_fraction': 0.49888446483544674, 'bagging_fraction': 0.9454255091769644, 'bagging_freq': 6, 'min_child_samples': 62}. Best is trial 43 with value: 0.3652903275133228.\n",
      "[I 2025-05-08 15:51:13,459] Trial 55 finished with value: 0.3499710490381129 and parameters: {'lambda_l1': 0.0059727937774352105, 'lambda_l2': 0.030712989813235635, 'num_leaves': 93, 'feature_fraction': 0.44098627223278614, 'bagging_fraction': 0.7562490943811765, 'bagging_freq': 7, 'min_child_samples': 56}. Best is trial 43 with value: 0.3652903275133228.\n",
      "[I 2025-05-08 15:51:19,907] Trial 56 finished with value: 0.3550757658002188 and parameters: {'lambda_l1': 0.00021716347098042264, 'lambda_l2': 0.01180998802559944, 'num_leaves': 50, 'feature_fraction': 0.5293140668906737, 'bagging_fraction': 0.8732479258540348, 'bagging_freq': 5, 'min_child_samples': 68}. Best is trial 43 with value: 0.3652903275133228.\n",
      "[I 2025-05-08 15:51:29,343] Trial 57 finished with value: 0.36351706790183813 and parameters: {'lambda_l1': 9.059742743200695e-06, 'lambda_l2': 0.0016788160491633163, 'num_leaves': 63, 'feature_fraction': 0.47017106763646915, 'bagging_fraction': 0.9363942499086181, 'bagging_freq': 6, 'min_child_samples': 48}. Best is trial 43 with value: 0.3652903275133228.\n",
      "[I 2025-05-08 15:51:37,178] Trial 58 finished with value: 0.3685857336278251 and parameters: {'lambda_l1': 4.992658165007682e-06, 'lambda_l2': 8.860597827859093e-05, 'num_leaves': 37, 'feature_fraction': 0.47061902172334424, 'bagging_fraction': 0.9318355673098243, 'bagging_freq': 6, 'min_child_samples': 48}. Best is trial 58 with value: 0.3685857336278251.\n",
      "[I 2025-05-08 15:51:44,662] Trial 59 finished with value: 0.3548807636564657 and parameters: {'lambda_l1': 9.695522640870113e-07, 'lambda_l2': 6.960763885897795e-05, 'num_leaves': 9, 'feature_fraction': 0.46913513536427826, 'bagging_fraction': 0.9245395992871939, 'bagging_freq': 5, 'min_child_samples': 48}. Best is trial 58 with value: 0.3685857336278251.\n",
      "[I 2025-05-08 15:51:52,048] Trial 60 finished with value: 0.35410119266770296 and parameters: {'lambda_l1': 6.441952403385786e-06, 'lambda_l2': 0.0014815061819681635, 'num_leaves': 37, 'feature_fraction': 0.4919004773169166, 'bagging_fraction': 0.8023675818204687, 'bagging_freq': 6, 'min_child_samples': 41}. Best is trial 58 with value: 0.3685857336278251.\n",
      "[I 2025-05-08 15:52:00,977] Trial 61 finished with value: 0.35570426333502586 and parameters: {'lambda_l1': 2.937366087373624e-05, 'lambda_l2': 0.00025971986380888374, 'num_leaves': 65, 'feature_fraction': 0.5497128475552133, 'bagging_fraction': 0.9020252888653165, 'bagging_freq': 6, 'min_child_samples': 49}. Best is trial 58 with value: 0.3685857336278251.\n",
      "[I 2025-05-08 15:52:06,874] Trial 62 finished with value: 0.3448346297398758 and parameters: {'lambda_l1': 3.927013839954931e-06, 'lambda_l2': 2.3732178435681076e-05, 'num_leaves': 24, 'feature_fraction': 0.5744809447042746, 'bagging_fraction': 0.4237994100882715, 'bagging_freq': 6, 'min_child_samples': 55}. Best is trial 58 with value: 0.3685857336278251.\n",
      "[I 2025-05-08 15:52:14,767] Trial 63 finished with value: 0.3556205583293339 and parameters: {'lambda_l1': 8.41682213200792e-06, 'lambda_l2': 0.0001718799100436226, 'num_leaves': 56, 'feature_fraction': 0.5224675375916975, 'bagging_fraction': 0.9340533934359152, 'bagging_freq': 6, 'min_child_samples': 36}. Best is trial 58 with value: 0.3685857336278251.\n",
      "[I 2025-05-08 15:52:23,240] Trial 64 finished with value: 0.3633759857207454 and parameters: {'lambda_l1': 1.5959500013521478e-07, 'lambda_l2': 0.22152817903330477, 'num_leaves': 43, 'feature_fraction': 0.45051349155222964, 'bagging_fraction': 0.9641680932293113, 'bagging_freq': 5, 'min_child_samples': 30}. Best is trial 58 with value: 0.3685857336278251.\n",
      "[I 2025-05-08 15:52:30,047] Trial 65 finished with value: 0.36251236797131753 and parameters: {'lambda_l1': 9.234648116900859e-08, 'lambda_l2': 0.2560980542213494, 'num_leaves': 39, 'feature_fraction': 0.457261745330527, 'bagging_fraction': 0.9558269025752584, 'bagging_freq': 5, 'min_child_samples': 45}. Best is trial 58 with value: 0.3685857336278251.\n",
      "[I 2025-05-08 15:52:38,873] Trial 66 finished with value: 0.36547618001340776 and parameters: {'lambda_l1': 1.259899533592844e-07, 'lambda_l2': 0.17081677411813778, 'num_leaves': 40, 'feature_fraction': 0.4539605863071282, 'bagging_fraction': 0.9625238990479451, 'bagging_freq': 4, 'min_child_samples': 44}. Best is trial 58 with value: 0.3685857336278251.\n",
      "[I 2025-05-08 15:52:45,901] Trial 67 finished with value: 0.2620632297906798 and parameters: {'lambda_l1': 1.4795271007504598e-08, 'lambda_l2': 0.4511204854267956, 'num_leaves': 2, 'feature_fraction': 0.41747154242599027, 'bagging_fraction': 0.9679864053083422, 'bagging_freq': 4, 'min_child_samples': 28}. Best is trial 58 with value: 0.3685857336278251.\n",
      "[I 2025-05-08 15:52:54,610] Trial 68 finished with value: 0.359903328499257 and parameters: {'lambda_l1': 1.929038181902551e-07, 'lambda_l2': 0.1108678331523881, 'num_leaves': 73, 'feature_fraction': 0.4018688583151167, 'bagging_fraction': 0.6546151563756594, 'bagging_freq': 4, 'min_child_samples': 21}. Best is trial 58 with value: 0.3685857336278251.\n",
      "[I 2025-05-08 15:53:03,132] Trial 69 finished with value: 0.36541512958238526 and parameters: {'lambda_l1': 5.815481449819383e-07, 'lambda_l2': 0.00010600704954216441, 'num_leaves': 26, 'feature_fraction': 0.44499876209367917, 'bagging_fraction': 0.9987668634588653, 'bagging_freq': 3, 'min_child_samples': 30}. Best is trial 58 with value: 0.3685857336278251.\n",
      "[I 2025-05-08 15:53:10,284] Trial 70 finished with value: 0.35786373110788916 and parameters: {'lambda_l1': 4.931292649251022e-07, 'lambda_l2': 3.478674029180167e-05, 'num_leaves': 16, 'feature_fraction': 0.47706038854902144, 'bagging_fraction': 0.9979990184381993, 'bagging_freq': 3, 'min_child_samples': 30}. Best is trial 58 with value: 0.3685857336278251.\n",
      "[I 2025-05-08 15:53:19,029] Trial 71 finished with value: 0.3687332439791275 and parameters: {'lambda_l1': 7.29224346800627e-07, 'lambda_l2': 9.919346772427521e-05, 'num_leaves': 29, 'feature_fraction': 0.45003435187442004, 'bagging_fraction': 0.941888815435515, 'bagging_freq': 2, 'min_child_samples': 37}. Best is trial 71 with value: 0.3687332439791275.\n",
      "[I 2025-05-08 15:53:26,546] Trial 72 finished with value: 0.3544346898584694 and parameters: {'lambda_l1': 2.325712890405192e-06, 'lambda_l2': 7.406444681761245e-06, 'num_leaves': 23, 'feature_fraction': 0.439393789990574, 'bagging_fraction': 0.9857040614200446, 'bagging_freq': 3, 'min_child_samples': 36}. Best is trial 71 with value: 0.3687332439791275.\n",
      "[I 2025-05-08 15:53:35,282] Trial 73 finished with value: 0.36181815563950254 and parameters: {'lambda_l1': 1.2032114526642212e-07, 'lambda_l2': 0.00011842630257383301, 'num_leaves': 31, 'feature_fraction': 0.4261192140918893, 'bagging_fraction': 0.9419792000785122, 'bagging_freq': 2, 'min_child_samples': 16}. Best is trial 71 with value: 0.3687332439791275.\n",
      "[I 2025-05-08 15:53:42,941] Trial 74 finished with value: 0.35812490439256855 and parameters: {'lambda_l1': 5.875311573712943e-07, 'lambda_l2': 0.0006082457607390476, 'num_leaves': 47, 'feature_fraction': 0.500580359210919, 'bagging_fraction': 0.9568413199699485, 'bagging_freq': 2, 'min_child_samples': 44}. Best is trial 71 with value: 0.3687332439791275.\n",
      "[I 2025-05-08 15:53:50,989] Trial 75 finished with value: 0.36380185241142793 and parameters: {'lambda_l1': 2.7065158077635892e-08, 'lambda_l2': 2.722027579401988e-06, 'num_leaves': 39, 'feature_fraction': 0.45523946825296185, 'bagging_fraction': 0.9810117947523264, 'bagging_freq': 1, 'min_child_samples': 40}. Best is trial 71 with value: 0.3687332439791275.\n",
      "[I 2025-05-08 15:53:59,192] Trial 76 finished with value: 0.36016929435758516 and parameters: {'lambda_l1': 3.321767785930078e-08, 'lambda_l2': 7.748064012423538e-08, 'num_leaves': 14, 'feature_fraction': 0.47018643219873596, 'bagging_fraction': 0.9843482024502093, 'bagging_freq': 1, 'min_child_samples': 42}. Best is trial 71 with value: 0.3687332439791275.\n",
      "[I 2025-05-08 15:54:05,293] Trial 77 finished with value: 0.3549692866849756 and parameters: {'lambda_l1': 2.266267473020228e-08, 'lambda_l2': 2.3048321172288644e-06, 'num_leaves': 27, 'feature_fraction': 0.7407333644882037, 'bagging_fraction': 0.7207562679886175, 'bagging_freq': 1, 'min_child_samples': 50}. Best is trial 71 with value: 0.3687332439791275.\n",
      "[I 2025-05-08 15:54:11,623] Trial 78 finished with value: 0.35082864249003176 and parameters: {'lambda_l1': 3.498205409061117e-07, 'lambda_l2': 9.355455632043853e-05, 'num_leaves': 33, 'feature_fraction': 0.9563671799805249, 'bagging_fraction': 0.9169677467904002, 'bagging_freq': 1, 'min_child_samples': 38}. Best is trial 71 with value: 0.3687332439791275.\n",
      "[I 2025-05-08 15:54:20,575] Trial 79 finished with value: 0.3710874301202044 and parameters: {'lambda_l1': 1.0403659145461951e-08, 'lambda_l2': 5.4446660631208e-07, 'num_leaves': 62, 'feature_fraction': 0.4151706454299633, 'bagging_fraction': 0.9315946394772529, 'bagging_freq': 2, 'min_child_samples': 40}. Best is trial 79 with value: 0.3710874301202044.\n",
      "[I 2025-05-08 15:54:28,746] Trial 80 finished with value: 0.36434142261509095 and parameters: {'lambda_l1': 8.17078356932418e-08, 'lambda_l2': 3.0393828867050015e-07, 'num_leaves': 52, 'feature_fraction': 0.4189789133330269, 'bagging_fraction': 0.9796571597630293, 'bagging_freq': 2, 'min_child_samples': 39}. Best is trial 79 with value: 0.3710874301202044.\n",
      "[I 2025-05-08 15:54:36,123] Trial 81 finished with value: 0.36315261121558073 and parameters: {'lambda_l1': 1.1526460566352718e-08, 'lambda_l2': 3.067351557363565e-07, 'num_leaves': 37, 'feature_fraction': 0.40843298641236225, 'bagging_fraction': 0.9834872064479168, 'bagging_freq': 2, 'min_child_samples': 39}. Best is trial 79 with value: 0.3710874301202044.\n",
      "[I 2025-05-08 15:54:42,870] Trial 82 finished with value: 0.35051055795976727 and parameters: {'lambda_l1': 6.154447159735012e-08, 'lambda_l2': 3.4242145016230277e-07, 'num_leaves': 9, 'feature_fraction': 0.4245776480810939, 'bagging_fraction': 0.9988830037545648, 'bagging_freq': 2, 'min_child_samples': 36}. Best is trial 79 with value: 0.3710874301202044.\n",
      "[I 2025-05-08 15:54:51,702] Trial 83 finished with value: 0.35905714535448374 and parameters: {'lambda_l1': 9.115567714808442e-08, 'lambda_l2': 9.150899382763579e-07, 'num_leaves': 53, 'feature_fraction': 0.4511926702249349, 'bagging_fraction': 0.9706448196126467, 'bagging_freq': 3, 'min_child_samples': 33}. Best is trial 79 with value: 0.3710874301202044.\n",
      "[I 2025-05-08 15:54:59,445] Trial 84 finished with value: 0.3657488502324218 and parameters: {'lambda_l1': 2.6262809969949654e-08, 'lambda_l2': 8.838069945898019e-08, 'num_leaves': 42, 'feature_fraction': 0.43253956978697294, 'bagging_fraction': 0.9352123280884574, 'bagging_freq': 2, 'min_child_samples': 46}. Best is trial 79 with value: 0.3710874301202044.\n",
      "[I 2025-05-08 15:55:06,366] Trial 85 finished with value: 0.36066389355168726 and parameters: {'lambda_l1': 1.7179490358969666e-06, 'lambda_l2': 1.1057403126318328e-08, 'num_leaves': 48, 'feature_fraction': 0.4126631956289799, 'bagging_fraction': 0.9072496520940445, 'bagging_freq': 2, 'min_child_samples': 46}. Best is trial 79 with value: 0.3710874301202044.\n",
      "[I 2025-05-08 15:55:14,512] Trial 86 finished with value: 0.367376712999977 and parameters: {'lambda_l1': 1.0753535429158852e-08, 'lambda_l2': 6.282618655434478e-08, 'num_leaves': 19, 'feature_fraction': 0.4334740050220854, 'bagging_fraction': 0.9496708521543932, 'bagging_freq': 2, 'min_child_samples': 52}. Best is trial 79 with value: 0.3710874301202044.\n",
      "[I 2025-05-08 15:55:20,360] Trial 87 finished with value: 0.3596576639606964 and parameters: {'lambda_l1': 1.0485020526551266e-08, 'lambda_l2': 6.338956297785734e-08, 'num_leaves': 19, 'feature_fraction': 0.4367929400295932, 'bagging_fraction': 0.9476221545793447, 'bagging_freq': 2, 'min_child_samples': 53}. Best is trial 79 with value: 0.3710874301202044.\n",
      "[I 2025-05-08 15:55:27,113] Trial 88 finished with value: 0.35507335951457597 and parameters: {'lambda_l1': 5.445862371353626e-08, 'lambda_l2': 4.243402274016709e-08, 'num_leaves': 28, 'feature_fraction': 0.4861677523553088, 'bagging_fraction': 0.8588937529431474, 'bagging_freq': 2, 'min_child_samples': 43}. Best is trial 79 with value: 0.3710874301202044.\n",
      "[I 2025-05-08 15:55:33,700] Trial 89 finished with value: 0.34872499595664586 and parameters: {'lambda_l1': 1.8314631049409924e-08, 'lambda_l2': 1.6604743673140016e-07, 'num_leaves': 8, 'feature_fraction': 0.4001459347632324, 'bagging_fraction': 0.8802943599893355, 'bagging_freq': 3, 'min_child_samples': 46}. Best is trial 79 with value: 0.3710874301202044.\n",
      "[I 2025-05-08 15:55:41,863] Trial 90 finished with value: 0.3663240271695891 and parameters: {'lambda_l1': 3.780122758783472e-08, 'lambda_l2': 1.759203555635559e-07, 'num_leaves': 34, 'feature_fraction': 0.8939742558701043, 'bagging_fraction': 0.9284990561488486, 'bagging_freq': 2, 'min_child_samples': 25}. Best is trial 79 with value: 0.3710874301202044.\n",
      "[I 2025-05-08 15:55:49,412] Trial 91 finished with value: 0.3564092695801957 and parameters: {'lambda_l1': 8.77535029084594e-08, 'lambda_l2': 1.6535073109237354e-07, 'num_leaves': 33, 'feature_fraction': 0.4331945236058931, 'bagging_fraction': 0.9290494775402364, 'bagging_freq': 2, 'min_child_samples': 23}. Best is trial 79 with value: 0.3710874301202044.\n",
      "[I 2025-05-08 15:55:56,344] Trial 92 finished with value: 0.3537440566585561 and parameters: {'lambda_l1': 3.39787258907123e-08, 'lambda_l2': 2.983627844250798e-08, 'num_leaves': 41, 'feature_fraction': 0.6921469044545339, 'bagging_fraction': 0.9560257265225648, 'bagging_freq': 2, 'min_child_samples': 27}. Best is trial 79 with value: 0.3710874301202044.\n",
      "[I 2025-05-08 15:56:03,808] Trial 93 finished with value: 0.3573660490957825 and parameters: {'lambda_l1': 2.9614873799172e-07, 'lambda_l2': 1.2685046560956424e-07, 'num_leaves': 21, 'feature_fraction': 0.8773002132084986, 'bagging_fraction': 0.9200819914734761, 'bagging_freq': 3, 'min_child_samples': 34}. Best is trial 79 with value: 0.3710874301202044.\n",
      "[I 2025-05-08 15:56:11,047] Trial 94 finished with value: 0.3535934139427551 and parameters: {'lambda_l1': 1.7725895144858548e-08, 'lambda_l2': 4.2282357676721346e-07, 'num_leaves': 61, 'feature_fraction': 0.8594844526759459, 'bagging_fraction': 0.9411018180228014, 'bagging_freq': 2, 'min_child_samples': 31}. Best is trial 79 with value: 0.3710874301202044.\n",
      "[I 2025-05-08 15:56:18,373] Trial 95 finished with value: 0.34800880683409613 and parameters: {'lambda_l1': 7.039984581947159e-07, 'lambda_l2': 9.951146397252282e-07, 'num_leaves': 51, 'feature_fraction': 0.8099410286532329, 'bagging_fraction': 0.8931168273640114, 'bagging_freq': 3, 'min_child_samples': 51}. Best is trial 79 with value: 0.3710874301202044.\n",
      "[I 2025-05-08 15:56:26,396] Trial 96 finished with value: 0.35140745401289186 and parameters: {'lambda_l1': 1.580589881572984e-07, 'lambda_l2': 1.81114108500926e-08, 'num_leaves': 70, 'feature_fraction': 0.9959340512900516, 'bagging_fraction': 0.9670246087871002, 'bagging_freq': 2, 'min_child_samples': 42}. Best is trial 79 with value: 0.3710874301202044.\n",
      "[I 2025-05-08 15:56:34,129] Trial 97 finished with value: 0.3606189007719293 and parameters: {'lambda_l1': 5.292259057623909e-08, 'lambda_l2': 2.1769037558511818e-07, 'num_leaves': 27, 'feature_fraction': 0.4197915342930486, 'bagging_fraction': 0.9055878430745383, 'bagging_freq': 2, 'min_child_samples': 18}. Best is trial 79 with value: 0.3710874301202044.\n",
      "[I 2025-05-08 15:56:42,693] Trial 98 finished with value: 0.36351947171527954 and parameters: {'lambda_l1': 1.0014109848834521e-08, 'lambda_l2': 5.032586235125905e-07, 'num_leaves': 14, 'feature_fraction': 0.4625023836577464, 'bagging_fraction': 0.9316680264296282, 'bagging_freq': 1, 'min_child_samples': 25}. Best is trial 79 with value: 0.3710874301202044.\n",
      "[I 2025-05-08 15:56:49,521] Trial 99 finished with value: 0.3549164774160916 and parameters: {'lambda_l1': 3.373409964678341e-08, 'lambda_l2': 5.0838817288901896e-08, 'num_leaves': 44, 'feature_fraction': 0.4431432068518021, 'bagging_fraction': 0.9492498320229578, 'bagging_freq': 2, 'min_child_samples': 57}. Best is trial 79 with value: 0.3710874301202044.\n"
     ]
    }
   ],
   "source": [
    "import optuna\n",
    "\n",
    "#Genero estudio\n",
    "study = optuna.create_study(direction='maximize',\n",
    "                            storage=\"sqlite:///../work/db_100_LGBM_FE_JM_100_completo.sqlite3\",\n",
    "                            study_name=\"100_LGBM_FE_JM_100_Completo_CV\",\n",
    "                            load_if_exists = True,\n",
    "                            sampler=sampler)\n",
    "\n",
    "#Corro la optimizacion\n",
    "study.optimize(cv_es_lgb_objective, n_trials=100)"
   ]
  },
  {
   "cell_type": "markdown",
   "id": "4a0a5d3b",
   "metadata": {},
   "source": [
    "## LGBM Importance Futures"
   ]
  },
  {
   "cell_type": "code",
   "execution_count": 22,
   "id": "1100ce90",
   "metadata": {},
   "outputs": [
    {
     "data": {
      "image/png": "[encoded data removed]",
      "text/plain": [
       "<Figure size 1000x600 with 1 Axes>"
      ]
     },
     "metadata": {},
     "output_type": "display_data"
    },
    {
     "data": {
      "image/png": "[encoded data removed]",
      "text/plain": [
       "<Figure size 1000x600 with 1 Axes>"
      ]
     },
     "metadata": {},
     "output_type": "display_data"
    },
    {
     "data": {
      "image/png": "[encoded data removed]",
      "text/plain": [
       "<Figure size 1000x600 with 1 Axes>"
      ]
     },
     "metadata": {},
     "output_type": "display_data"
    },
    {
     "data": {
      "image/png": "[encoded data removed]",
      "text/plain": [
       "<Figure size 1150x660 with 5 Axes>"
      ]
     },
     "metadata": {},
     "output_type": "display_data"
    }
   ],
   "source": [
    "import lightgbm as lgb\n",
    "import shap\n",
    "import matplotlib.pyplot as plt\n",
    "from sklearn.inspection import permutation_importance\n",
    "import numpy as np\n",
    "\n",
    "features = np.array(features)\n",
    "model= lgb_model2\n",
    "\n",
    "# --------------------\n",
    "# 1. Feature Importance basada en GAIN\n",
    "# --------------------\n",
    "importances_gain = model.feature_importance(importance_type='gain')\n",
    "sorted_idx_gain = importances_gain.argsort()[::-1]\n",
    "\n",
    "plt.figure(figsize=(10,6))\n",
    "plt.barh(features[sorted_idx_gain], importances_gain[sorted_idx_gain])\n",
    "plt.xlabel('Importancia (GAIN)')\n",
    "plt.title('Feature Importance basada en GAIN')\n",
    "plt.gca().invert_yaxis()\n",
    "plt.show()\n",
    "\n",
    "# --------------------\n",
    "# 2. Feature Importance basada en SPLIT\n",
    "# --------------------\n",
    "importances_split = model.feature_importance(importance_type='split')\n",
    "sorted_idx_split = importances_split.argsort()[::-1]\n",
    "\n",
    "plt.figure(figsize=(10,6))\n",
    "plt.barh(features[sorted_idx_split], importances_split[sorted_idx_split])\n",
    "plt.xlabel('Importancia (SPLIT)')\n",
    "plt.title('Feature Importance basada en SPLIT')\n",
    "plt.gca().invert_yaxis()\n",
    "plt.show()\n",
    "\n",
    "# --------------------\n",
    "# 3. Permutation Importance\n",
    "# --------------------\n",
    "# Para permutation necesitamos un modelo tipo sklearn, armamos uno rápido\n",
    "model_sklearn = lgb.LGBMClassifier(boosting_type='gbdt')\n",
    "model_sklearn.fit(X_train, y_train)\n",
    "\n",
    "perm_result = permutation_importance(model_sklearn, X_test, y_test, n_repeats=10, random_state=42, scoring='accuracy')\n",
    "sorted_idx_perm = perm_result.importances_mean.argsort()\n",
    "\n",
    "plt.figure(figsize=(10,6))\n",
    "plt.barh(features[sorted_idx_perm], perm_result.importances_mean[sorted_idx_perm])\n",
    "plt.xlabel('Impacto en Accuracy')\n",
    "plt.title('Permutation Importance')\n",
    "plt.gca().invert_yaxis()\n",
    "plt.show()\n",
    "\n",
    "# --------------------\n",
    "# 4. SHAP Values\n",
    "# --------------------\n",
    "explainer = shap.TreeExplainer(model)\n",
    "shap_values = explainer.shap_values(X_test)\n",
    "\n",
    "# Graficar importancia promedio\n",
    "shap.summary_plot(shap_values, X_test, feature_names=features, plot_type=\"dot\")"
   ]
  }
 ],
 "metadata": {
  "kernelspec": {
   "display_name": "ldi2",
   "language": "python",
   "name": "python3"
  },
  "language_info": {
   "codemirror_mode": {
    "name": "ipython",
    "version": 3
   },
   "file_extension": ".py",
   "mimetype": "text/x-python",
   "name": "python",
   "nbconvert_exporter": "python",
   "pygments_lexer": "ipython3",
   "version": "3.13.2"
  }
 },
 "nbformat": 4,
 "nbformat_minor": 5
}
