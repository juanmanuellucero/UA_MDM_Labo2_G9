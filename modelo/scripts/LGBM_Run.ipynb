{
 "cells": [
  {
   "cell_type": "code",
   "execution_count": 1,
   "id": "5db5b14c",
   "metadata": {},
   "outputs": [
    {
     "name": "stdout",
     "output_type": "stream",
     "text": [
      "Ejecutando: LGBM_Base_30.ipynb\n",
      "Ejecutando: LGBM_Base_50.ipynb\n",
      "Ejecutando: LGBM_Base_100.ipynb\n",
      "Ejecutando: LGBM_fe_JM_30.ipynb\n",
      "Ejecutando: LGBM_fe_JM_50.ipynb\n",
      "Ejecutando: LGBM_fe_JM_100.ipynb\n",
      "Ejecutando: LGBM_fe_Grupal_30.ipynb\n",
      "Ejecutando: LGBM_fe_Grupal_50.ipynb\n",
      "Ejecutando: LGBM_fe_Grupal_100.ipynb\n"
     ]
    }
   ],
   "source": [
    "# 1. Importar librerías necesarias\n",
    "import nbformat\n",
    "from nbclient import NotebookClient\n",
    "from pathlib import Path\n",
    "\n",
    "# 2. Lista de notebooks a ejecutar (en orden)\n",
    "notebooks = [\n",
    "    \"LGBM_Base_30.ipynb\",\n",
    "    \"LGBM_Base_50.ipynb\",\n",
    "    \"LGBM_Base_100.ipynb\",\n",
    "    \"LGBM_fe_JM_30.ipynb\",\n",
    "    \"LGBM_fe_JM_50.ipynb\",\n",
    "    \"LGBM_fe_JM_100.ipynb\",\n",
    "    \"LGBM_fe_Grupal_30.ipynb\",\n",
    "    \"LGBM_fe_Grupal_50.ipynb\",\n",
    "    \"LGBM_fe_Grupal_100.ipynb\"\n",
    "]\n",
    "\n",
    "# 3. Función para ejecutar un notebook\n",
    "def ejecutar_notebook(path_notebook):\n",
    "    print(f\"Ejecutando: {path_notebook}\")\n",
    "    with open(path_notebook) as f:\n",
    "        nb = nbformat.read(f, as_version=4)\n",
    "\n",
    "    client = NotebookClient(nb, timeout=2400, kernel_name=\"python3\")\n",
    "    client.execute()\n",
    "\n",
    "# 4. Loop para ejecutar todos los notebooks en orden\n",
    "for nb in notebooks:\n",
    "    try:\n",
    "        ejecutar_notebook(nb)\n",
    "    except Exception as e:\n",
    "        print(f\"Error ejecutando {nb}: {e}\")"
   ]
  }
 ],
 "metadata": {
  "kernelspec": {
   "display_name": "ldi2",
   "language": "python",
   "name": "python3"
  },
  "language_info": {
   "codemirror_mode": {
    "name": "ipython",
    "version": 3
   },
   "file_extension": ".py",
   "mimetype": "text/x-python",
   "name": "python",
   "nbconvert_exporter": "python",
   "pygments_lexer": "ipython3",
   "version": "3.13.2"
  }
 },
 "nbformat": 4,
 "nbformat_minor": 5
}
