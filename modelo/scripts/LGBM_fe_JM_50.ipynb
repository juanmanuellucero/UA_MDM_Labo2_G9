{
 "cells": [
  {
   "cell_type": "markdown",
   "id": "c5c37b40",
   "metadata": {},
   "source": [
    "## Configuracion de Entorno"
   ]
  },
  {
   "cell_type": "code",
   "execution_count": 1,
   "id": "8e3edd9b",
   "metadata": {},
   "outputs": [
    {
     "name": "stdout",
     "output_type": "stream",
     "text": [
      "Directorio actual: C:\\Users\\juanm\\GitHub\\UA_MDM_Labo2_G9\\work\n"
     ]
    }
   ],
   "source": [
    "import os\n",
    "\n",
    "# Si estás en Jupyter Notebook, anclás a una ruta conocida o fija:\n",
    "project_root = r\"C:\\Users\\juanm\\GitHub\\UA_MDM_Labo2_G9\"  # ⚠️ Personalizá esto\n",
    "\n",
    "# Alternativa: usar una carpeta conocida dentro del proyecto\n",
    "# project_root = os.path.abspath(os.path.join(os.getcwd(), \"..\"))  # Menos frágil\n",
    "\n",
    "# Rutas de trabajo\n",
    "workDir = os.path.join(project_root, \"work\")\n",
    "optunaArtifactDir = os.path.join(workDir, \"optuna_artifacts\")\n",
    "optunaTempDir = os.path.join(workDir, \"optuna_temp_artifacts\")\n",
    "\n",
    "# Crear carpetas si no existen\n",
    "os.makedirs(optunaArtifactDir, exist_ok=True)\n",
    "os.makedirs(optunaTempDir, exist_ok=True)\n",
    "\n",
    "# Cambiar al directorio de trabajo solo si es necesario\n",
    "if os.getcwd() != workDir:\n",
    "    os.chdir(workDir)\n",
    "\n",
    "print(\"Directorio actual:\", os.getcwd())\n"
   ]
  },
  {
   "cell_type": "code",
   "execution_count": 2,
   "id": "77c29884",
   "metadata": {},
   "outputs": [
    {
     "name": "stderr",
     "output_type": "stream",
     "text": [
      "c:\\Users\\juanm\\anaconda3\\envs\\ldi2\\Lib\\site-packages\\tqdm\\auto.py:21: TqdmWarning: IProgress not found. Please update jupyter and ipywidgets. See https://ipywidgets.readthedocs.io/en/stable/user_install.html\n",
      "  from .autonotebook import tqdm as notebook_tqdm\n"
     ]
    }
   ],
   "source": [
    "# Manipulación de datos\n",
    "import numpy as np\n",
    "import pandas as pd\n",
    "\n",
    "# Modelado: Gradient Boosting\n",
    "import lightgbm as lgb\n",
    "\n",
    "# Sklearn: splits, métricas y utilidades\n",
    "from sklearn.model_selection import train_test_split, StratifiedKFold\n",
    "from sklearn.metrics import cohen_kappa_score, accuracy_score, balanced_accuracy_score\n",
    "from sklearn.utils import shuffle\n",
    "\n",
    "# Visualización\n",
    "import matplotlib.pyplot as plt  # Usar junto con seaborn o plotly si es necesario\n",
    "import plotly.express as px      # Corrección: no usar `from plotly import express as px`\n",
    "\n",
    "# Optuna para optimización de hiperparámetros\n",
    "import optuna\n",
    "from optuna.artifacts import FileSystemArtifactStore, upload_artifact\n",
    "\n",
    "# Utilidades propias\n",
    "from utiles import plot_confusion_matrix\n",
    "\n",
    "# Guardado de objetos\n",
    "from joblib import dump, load\n",
    "\n",
    "# Sistema\n",
    "import os"
   ]
  },
  {
   "cell_type": "code",
   "execution_count": 3,
   "id": "1b908605",
   "metadata": {},
   "outputs": [],
   "source": [
    "import os\n",
    "\n",
    "# Paths para acceso archivos\n",
    "#Este notebook asume la siguiente estructura de carpetas a partir de la ubicacion de base_dir \n",
    "#(dos niveles arriba de la cƒarpeta donde se ejecuta el notebook). \n",
    "# /ƒ/ƒ\n",
    "# /UA_MDM_Labo2/inputƒ\n",
    "# /UA_MDM_Labo2/input/petfinder-adoption-prediction/            <- Aca deben ir todos los archivos de datos de la competencia \n",
    "# /UA_MDM_Labo2/tutoriales/                       <- Aca deben poner los notebooks y scripts que les compartimos\n",
    "# /UA_MDM_Labo2/work/                             <- Resultados de notebooks iran dentro de esta carpeta en subcarpetas\n",
    "# /UA_MDM_Labo2/work/models/                     <- Modelos entrenados en archivos joblibs\n",
    "# /UA_MDM_Labo2/work/optuna_temp_artifacts/      <- Archivos que queremos dejar como artefacto de un trial de optuna (optuna los copiara a la carpeta de abajo)\n",
    "# /UA_MDM_Labo2/work/optuna_artifacts/           <- Archivos con artefactos que sibimos a optuna\n",
    "\n",
    "#Subimos dos niveles para quedar en la carpeta que contiene input y UA_MDM_Labo2\n",
    "BASE_DIR = '../'\n",
    "\n",
    "#Datos de entrenamiento \n",
    "PATH_TO_TRAIN = os.path.join(BASE_DIR, \"input/petfinder-adoption-prediction/train/train.csv\")\n",
    "\n",
    "#Datos de razas \n",
    "PATH_TO_BREED_LABELS = os.path.join(BASE_DIR, \"modelo/data/petfinder-adoption-prediction/BreedLabels.csv\")\n",
    "\n",
    "#Salida de modelos entrenados\n",
    "PATH_TO_MODELS = os.path.join(BASE_DIR, \"work/models\")\n",
    "\n",
    "#Artefactos a subir a optuna\n",
    "PATH_TO_TEMP_FILES = os.path.join(BASE_DIR, \"work/optuna_temp_artifacts\")\n",
    "\n",
    "#Artefactos que optuna gestiona\n",
    "PATH_TO_OPTUNA_ARTIFACTS = os.path.join(BASE_DIR, \"work/optuna_artifacts\")\n",
    "\n",
    "\n",
    "SEED = 42 #Semilla de procesos aleatorios (para poder replicar exactamente al volver a correr un modelo)\n",
    "TEST_SIZE = 0.2 #Facción para train/test= split"
   ]
  },
  {
   "cell_type": "markdown",
   "id": "dcfe00fc",
   "metadata": {},
   "source": [
    "## Descripcion Feature Engineering"
   ]
  },
  {
   "cell_type": "markdown",
   "id": "315f0781",
   "metadata": {},
   "source": [
    "Con base en el script actualizado de ingeniería de características que me compartiste, te actualizo la descripción de las transformaciones del dataset para que estén alineadas con las variables efectivamente generadas:\n",
    "\n",
    "---\n",
    "\n",
    "### 🔹 1. **Transformaciones directas útiles**\n",
    "\n",
    "Variables originales reformuladas para aportar más valor predictivo al modelo.\n",
    "\n",
    "| Variable     | Qué hace                                                                  | Por qué ayuda                                                           |\n",
    "| ------------ | ------------------------------------------------------------------------- | ----------------------------------------------------------------------- |\n",
    "| `HasName`    | Indica si el animal tiene nombre                                          | Un nombre puede hacer al animal más cercano y memorable para adoptantes |\n",
    "| `PureBreed`  | Indica si el animal es de raza pura (`Breed2 == 0` y no contiene \"Mixed\") | Ayuda a capturar la preferencia por razas específicas                   |\n",
    "| `DescLength` | Longitud de la descripción textual                                        | Más texto puede reflejar mayor esfuerzo y generar más interés           |\n",
    "| `Fee_log`    | (No generado en el script, pero se puede incluir) Logaritmo del precio    | Suaviza la distribución y reduce el impacto de valores extremos         |\n",
    "| `IsFree`     | (Sugerido) `Fee == 0`                                                     | La gratuidad puede aumentar la intención de adopción                    |\n",
    "\n",
    "**Objetivo**: transformar variables originales en formas más robustas o informativas para el modelo.\n",
    "\n",
    "---\n",
    "\n",
    "### 🔹 2. **Reagrupaciones o codificaciones útiles**\n",
    "\n",
    "Nuevas variables creadas mediante categorización o codificación combinada.\n",
    "\n",
    "| Variable           | Qué hace                                                                 | Por qué ayuda                                             |\n",
    "| ------------------ | ------------------------------------------------------------------------ | --------------------------------------------------------- |\n",
    "| `Type_Breed_Combo` | Combina el tipo de animal con el ID de la raza principal                 | Algunas combinaciones pueden ser más atractivas que otras |\n",
    "| `Fee_Breed_Ratio`  | Relación entre la tarifa individual y el promedio de tarifa para su raza | Detecta casos con precio inusualmente alto o bajo         |\n",
    "\n",
    "**Objetivo**: facilitar el aprendizaje del modelo mediante agrupaciones con patrones compartidos.\n",
    "\n",
    "---\n",
    "\n",
    "### 🔹 3. **Interacciones entre variables**\n",
    "\n",
    "Variables creadas a partir de combinaciones que expresan relaciones no lineales.\n",
    "\n",
    "| Variable               | Qué hace                                                  | Por qué ayuda                                       |\n",
    "| ---------------------- | --------------------------------------------------------- | --------------------------------------------------- |\n",
    "| `Fee_per_Pet`          | Tarifa dividida por cantidad de mascotas                  | Normaliza la tarifa para adopciones múltiples       |\n",
    "| `Photo_per_Pet`        | Cantidad de fotos por mascota                             | Mide el esfuerzo visual por cada animal             |\n",
    "| `Age_Fee_Ratio`        | Edad dividida por tarifa (más 1)                          | Detecta casos inusuales de edad vs. valor monetario |\n",
    "| `DescLength_per_Pet`   | Longitud de descripción dividida por cantidad de mascotas | Indica esfuerzo textual por cada animal             |\n",
    "| `DescLength_per_Photo` | Longitud de descripción dividida por cantidad de fotos    | Relaciona el detalle textual con el esfuerzo visual |\n",
    "\n",
    "**Objetivo**: capturar relaciones entre variables que puedan influir en decisiones de adopción."
   ]
  },
  {
   "cell_type": "markdown",
   "id": "0e967956",
   "metadata": {},
   "source": [
    "## Feature Engineering"
   ]
  },
  {
   "cell_type": "code",
   "execution_count": 4,
   "id": "2bd789d0",
   "metadata": {},
   "outputs": [],
   "source": [
    "import numpy as np\n",
    "import pandas as pd\n",
    "\n",
    "# Cargar el dataset\n",
    "dataset = pd.read_csv(PATH_TO_TRAIN)\n",
    "\n",
    "# 1. Tiene nombre\n",
    "dataset['HasName'] = dataset['Name'].notnull().astype(int)\n",
    "\n",
    "# 2. Es de raza pura\n",
    "# Cargar etiquetas de razas\n",
    "breed_labels = pd.read_csv(PATH_TO_BREED_LABELS)\n",
    "\n",
    "# Diccionario ID → Nombre de raza\n",
    "id_to_breed = dict(zip(breed_labels['BreedID'], breed_labels['BreedName']))\n",
    "\n",
    "# Crear una nueva columna con el nombre de Breed1\n",
    "dataset['Breed1_name'] = dataset['Breed1'].map(id_to_breed)\n",
    "\n",
    "dataset['PureBreed'] = (\n",
    "    (dataset['Breed2'] == 0) &\n",
    "    (~dataset['Breed1_name'].str.contains('Mixed', case=False, na=False))\n",
    ").astype(int)\n",
    "\n",
    "# 3. Longitud de la descripción\n",
    "dataset['DescLength'] = dataset['Description'].fillna('').apply(len)\n",
    "\n",
    "# 4. Combinación tipo-raza principal\n",
    "dataset['Type_Breed_Combo'] = dataset['Type'].astype(str) + '_' + dataset['Breed1'].astype(str)\n",
    "\n",
    "dataset['Type_Breed_Combo'] = dataset['Type_Breed_Combo'].astype('category')\n",
    "\n",
    "# 5. Tarifa por mascota\n",
    "dataset['Fee_per_Pet'] = np.where(dataset['Quantity'] == 0, 0, dataset['Fee'] / dataset['Quantity'])\n",
    "\n",
    "# 6. Fotos por mascota\n",
    "dataset['Photo_per_Pet'] = np.where(dataset['Quantity'] == 0, 0, dataset['PhotoAmt'] / dataset['Quantity'])\n",
    "\n",
    "# 7. Relación edad/tarifa\n",
    "dataset['Age_Fee_Ratio'] = dataset['Age'] / (dataset['Fee'] + 1)\n",
    "\n",
    "# 8. Longitud descripción por mascota\n",
    "dataset['DescLength_per_Pet'] = np.where(dataset['Quantity'] == 0, 0, dataset['DescLength'] / dataset['Quantity'])\n",
    "\n",
    "# 9. Longitud descripción por cantidad de fotos \n",
    "dataset['DescLength_per_Photo'] = np.where(dataset['PhotoAmt'] == 0,0,dataset['DescLength'] / dataset['PhotoAmt'])\n",
    "\n",
    "# 10. Tarifa promedio por raza\n",
    "breed_fee_mean = dataset.groupby('Breed1')['Fee'].mean()\n",
    "\n",
    "dataset['Fee_Breed_Ratio'] = dataset['Fee'] / (dataset['Breed1'].map(breed_fee_mean) + 1)"
   ]
  },
  {
   "cell_type": "code",
   "execution_count": 5,
   "id": "56111d8e",
   "metadata": {},
   "outputs": [
    {
     "data": {
      "text/plain": [
       "['Type',\n",
       " 'Age',\n",
       " 'Breed1',\n",
       " 'Breed2',\n",
       " 'Gender',\n",
       " 'Color1',\n",
       " 'Color2',\n",
       " 'Color3',\n",
       " 'MaturitySize',\n",
       " 'FurLength',\n",
       " 'Vaccinated',\n",
       " 'Dewormed',\n",
       " 'Sterilized',\n",
       " 'Health',\n",
       " 'Quantity',\n",
       " 'Fee',\n",
       " 'State',\n",
       " 'VideoAmt',\n",
       " 'PhotoAmt',\n",
       " 'HasName',\n",
       " 'PureBreed',\n",
       " 'DescLength',\n",
       " 'Type_Breed_Combo',\n",
       " 'Fee_per_Pet',\n",
       " 'Photo_per_Pet',\n",
       " 'Age_Fee_Ratio',\n",
       " 'DescLength_per_Pet',\n",
       " 'DescLength_per_Photo',\n",
       " 'Fee_Breed_Ratio']"
      ]
     },
     "execution_count": 5,
     "metadata": {},
     "output_type": "execute_result"
    }
   ],
   "source": [
    "#Separo un 20% para test estratificado opr target\n",
    "train, test = train_test_split(dataset,\n",
    "                               test_size = TEST_SIZE,\n",
    "                               random_state = SEED,\n",
    "                               stratify = dataset.AdoptionSpeed)\n",
    "\n",
    "#Armo listas con features de texto y numericas\n",
    "char_feats = [f for f in dataset.columns if dataset[f].dtype=='O']\n",
    "numeric_feats = [f for f in dataset.columns if dataset[f].dtype!='O']\n",
    "\n",
    "#Defino features a usar\n",
    "features = numeric_feats.copy()\n",
    "\n",
    "label = 'AdoptionSpeed'\n",
    "\n",
    "# Eliminamos 'AdoptionSpeed' si está\n",
    "if 'AdoptionSpeed' in features:\n",
    "    features.remove('AdoptionSpeed')\n",
    "\n",
    "#Genero dataframes de train y test con sus respectivos targets\n",
    "X_train = train[features]\n",
    "y_train = train[label]\n",
    "\n",
    "X_test = test[features]\n",
    "y_test = test[label]\n",
    "\n",
    "features"
   ]
  },
  {
   "cell_type": "markdown",
   "id": "67ca5d89",
   "metadata": {},
   "source": [
    "## Modelo con hiperparametros por default"
   ]
  },
  {
   "cell_type": "code",
   "execution_count": 6,
   "id": "f4cacb84",
   "metadata": {},
   "outputs": [
    {
     "name": "stdout",
     "output_type": "stream",
     "text": [
      "[LightGBM] [Info] Auto-choosing row-wise multi-threading, the overhead of testing was 0.000878 seconds.\n",
      "You can set `force_row_wise=true` to remove the overhead.\n",
      "And if memory is not enough, you can set `force_col_wise=true`.\n",
      "[LightGBM] [Info] Total Bins 1946\n",
      "[LightGBM] [Info] Number of data points in the train set: 11994, number of used features: 29\n",
      "[LightGBM] [Info] Start training from score -3.599148\n",
      "[LightGBM] [Info] Start training from score -1.579379\n",
      "[LightGBM] [Info] Start training from score -1.311924\n",
      "[LightGBM] [Info] Start training from score -1.526206\n",
      "[LightGBM] [Info] Start training from score -1.273359\n"
     ]
    }
   ],
   "source": [
    "#Entreno un modelo inicial sin modificar hiperparametros. Solamente especifico el numero de clases y el tipo de modelo como clasificacoión\n",
    "lgb_params = params = {\n",
    "                        'objective': 'multiclass',\n",
    "                        'num_class': len(y_train.unique())\n",
    "                        }\n",
    "\n",
    "\n",
    "#genero el objeto Dataset que debo pasarle a lightgbm para que entrene\n",
    "lgb_train_dataset = lgb.Dataset(data=X_train,\n",
    "                                label=y_train)\n",
    "\n",
    "#entreno el modelo con los parametros por defecto\n",
    "lgb_model1 = lgb.train(lgb_params,\n",
    "                      lgb_train_dataset)"
   ]
  },
  {
   "cell_type": "code",
   "execution_count": 7,
   "id": "de7e6584",
   "metadata": {},
   "outputs": [
    {
     "data": {
      "text/plain": [
       "array([2, 2, 2, ..., 1, 4, 4], shape=(2999,))"
      ]
     },
     "execution_count": 7,
     "metadata": {},
     "output_type": "execute_result"
    }
   ],
   "source": [
    "lgb_model1.predict(X_test).argmax(axis=1)"
   ]
  },
  {
   "cell_type": "code",
   "execution_count": 8,
   "id": "b0683698",
   "metadata": {},
   "outputs": [
    {
     "name": "stdout",
     "output_type": "stream",
     "text": [
      "0.34524806594014434\n"
     ]
    },
    {
     "data": {
      "application/vnd.plotly.v1+json": {
       "config": {
        "plotlyServerURL": "https://plot.ly"
       },
       "data": [
        {
         "type": "heatmap",
         "x": {
          "bdata": "AAECAwQ=",
          "dtype": "i1"
         },
         "y": {
          "bdata": "AAECAwQ=",
          "dtype": "i1"
         },
         "z": {
          "bdata": "RO1K1K5EHUAsUbsStStHQA3Ox+B8DDxARO1K1K5EDUBE7UrUrkQtQBC8SevU4+k/qqqqqqqqQEBcbQxNd7BCQAxqgHF7HyJADE13sN9qM0CZSSgX8bjPP3MRj/tBUDVAJMIEJ3PjQ0AyN17RtMonQBj+iWsLxDpACMmAeqZy3T/wbf4KsxowQFLEoZP2QUBAJ+2DZEA9NkAhGVDPVK48QLdt27Zt29Y/6Hme53meJkBVVVVVVVUyQHqe53me5yBAYhiGYRjGTkA=",
          "dtype": "f8",
          "shape": "5, 5"
         }
        }
       ],
       "layout": {
        "annotations": [
         {
          "font": {
           "color": "white"
          },
          "showarrow": false,
          "text": "7.3 - 6",
          "x": 0,
          "xref": "x",
          "y": 0,
          "yref": "y"
         },
         {
          "font": {
           "color": "white"
          },
          "showarrow": false,
          "text": "46.3 - 38",
          "x": 1,
          "xref": "x",
          "y": 0,
          "yref": "y"
         },
         {
          "font": {
           "color": "white"
          },
          "showarrow": false,
          "text": "28.0 - 23",
          "x": 2,
          "xref": "x",
          "y": 0,
          "yref": "y"
         },
         {
          "font": {
           "color": "white"
          },
          "showarrow": false,
          "text": "3.7 - 3",
          "x": 3,
          "xref": "x",
          "y": 0,
          "yref": "y"
         },
         {
          "font": {
           "color": "white"
          },
          "showarrow": false,
          "text": "14.6 - 12",
          "x": 4,
          "xref": "x",
          "y": 0,
          "yref": "y"
         },
         {
          "font": {
           "color": "white"
          },
          "showarrow": false,
          "text": "0.8 - 5",
          "x": 0,
          "xref": "x",
          "y": 1,
          "yref": "y"
         },
         {
          "font": {
           "color": "white"
          },
          "showarrow": false,
          "text": "33.3 - 206",
          "x": 1,
          "xref": "x",
          "y": 1,
          "yref": "y"
         },
         {
          "font": {
           "color": "white"
          },
          "showarrow": false,
          "text": "37.4 - 231",
          "x": 2,
          "xref": "x",
          "y": 1,
          "yref": "y"
         },
         {
          "font": {
           "color": "white"
          },
          "showarrow": false,
          "text": "9.1 - 56",
          "x": 3,
          "xref": "x",
          "y": 1,
          "yref": "y"
         },
         {
          "font": {
           "color": "white"
          },
          "showarrow": false,
          "text": "19.4 - 120",
          "x": 4,
          "xref": "x",
          "y": 1,
          "yref": "y"
         },
         {
          "font": {
           "color": "white"
          },
          "showarrow": false,
          "text": "0.2 - 2",
          "x": 0,
          "xref": "x",
          "y": 2,
          "yref": "y"
         },
         {
          "font": {
           "color": "white"
          },
          "showarrow": false,
          "text": "21.3 - 172",
          "x": 1,
          "xref": "x",
          "y": 2,
          "yref": "y"
         },
         {
          "font": {
           "color": "white"
          },
          "showarrow": false,
          "text": "39.8 - 321",
          "x": 2,
          "xref": "x",
          "y": 2,
          "yref": "y"
         },
         {
          "font": {
           "color": "white"
          },
          "showarrow": false,
          "text": "11.9 - 96",
          "x": 3,
          "xref": "x",
          "y": 2,
          "yref": "y"
         },
         {
          "font": {
           "color": "white"
          },
          "showarrow": false,
          "text": "26.8 - 216",
          "x": 4,
          "xref": "x",
          "y": 2,
          "yref": "y"
         },
         {
          "font": {
           "color": "white"
          },
          "showarrow": false,
          "text": "0.5 - 3",
          "x": 0,
          "xref": "x",
          "y": 3,
          "yref": "y"
         },
         {
          "font": {
           "color": "white"
          },
          "showarrow": false,
          "text": "16.1 - 105",
          "x": 1,
          "xref": "x",
          "y": 3,
          "yref": "y"
         },
         {
          "font": {
           "color": "white"
          },
          "showarrow": false,
          "text": "32.5 - 212",
          "x": 2,
          "xref": "x",
          "y": 3,
          "yref": "y"
         },
         {
          "font": {
           "color": "white"
          },
          "showarrow": false,
          "text": "22.2 - 145",
          "x": 3,
          "xref": "x",
          "y": 3,
          "yref": "y"
         },
         {
          "font": {
           "color": "white"
          },
          "showarrow": false,
          "text": "28.7 - 187",
          "x": 4,
          "xref": "x",
          "y": 3,
          "yref": "y"
         },
         {
          "font": {
           "color": "white"
          },
          "showarrow": false,
          "text": "0.4 - 3",
          "x": 0,
          "xref": "x",
          "y": 4,
          "yref": "y"
         },
         {
          "font": {
           "color": "white"
          },
          "showarrow": false,
          "text": "11.3 - 95",
          "x": 1,
          "xref": "x",
          "y": 4,
          "yref": "y"
         },
         {
          "font": {
           "color": "white"
          },
          "showarrow": false,
          "text": "18.3 - 154",
          "x": 2,
          "xref": "x",
          "y": 4,
          "yref": "y"
         },
         {
          "font": {
           "color": "white"
          },
          "showarrow": false,
          "text": "8.5 - 71",
          "x": 3,
          "xref": "x",
          "y": 4,
          "yref": "y"
         },
         {
          "font": {
           "color": "white"
          },
          "showarrow": false,
          "text": "61.5 - 517",
          "x": 4,
          "xref": "x",
          "y": 4,
          "yref": "y"
         }
        ],
        "height": 800,
        "template": {
         "data": {
          "bar": [
           {
            "error_x": {
             "color": "#2a3f5f"
            },
            "error_y": {
             "color": "#2a3f5f"
            },
            "marker": {
             "line": {
              "color": "#E5ECF6",
              "width": 0.5
             },
             "pattern": {
              "fillmode": "overlay",
              "size": 10,
              "solidity": 0.2
             }
            },
            "type": "bar"
           }
          ],
          "barpolar": [
           {
            "marker": {
             "line": {
              "color": "#E5ECF6",
              "width": 0.5
             },
             "pattern": {
              "fillmode": "overlay",
              "size": 10,
              "solidity": 0.2
             }
            },
            "type": "barpolar"
           }
          ],
          "carpet": [
           {
            "aaxis": {
             "endlinecolor": "#2a3f5f",
             "gridcolor": "white",
             "linecolor": "white",
             "minorgridcolor": "white",
             "startlinecolor": "#2a3f5f"
            },
            "baxis": {
             "endlinecolor": "#2a3f5f",
             "gridcolor": "white",
             "linecolor": "white",
             "minorgridcolor": "white",
             "startlinecolor": "#2a3f5f"
            },
            "type": "carpet"
           }
          ],
          "choropleth": [
           {
            "colorbar": {
             "outlinewidth": 0,
             "ticks": ""
            },
            "type": "choropleth"
           }
          ],
          "contour": [
           {
            "colorbar": {
             "outlinewidth": 0,
             "ticks": ""
            },
            "colorscale": [
             [
              0,
              "#0d0887"
             ],
             [
              0.1111111111111111,
              "#46039f"
             ],
             [
              0.2222222222222222,
              "#7201a8"
             ],
             [
              0.3333333333333333,
              "#9c179e"
             ],
             [
              0.4444444444444444,
              "#bd3786"
             ],
             [
              0.5555555555555556,
              "#d8576b"
             ],
             [
              0.6666666666666666,
              "#ed7953"
             ],
             [
              0.7777777777777778,
              "#fb9f3a"
             ],
             [
              0.8888888888888888,
              "#fdca26"
             ],
             [
              1,
              "#f0f921"
             ]
            ],
            "type": "contour"
           }
          ],
          "contourcarpet": [
           {
            "colorbar": {
             "outlinewidth": 0,
             "ticks": ""
            },
            "type": "contourcarpet"
           }
          ],
          "heatmap": [
           {
            "colorbar": {
             "outlinewidth": 0,
             "ticks": ""
            },
            "colorscale": [
             [
              0,
              "#0d0887"
             ],
             [
              0.1111111111111111,
              "#46039f"
             ],
             [
              0.2222222222222222,
              "#7201a8"
             ],
             [
              0.3333333333333333,
              "#9c179e"
             ],
             [
              0.4444444444444444,
              "#bd3786"
             ],
             [
              0.5555555555555556,
              "#d8576b"
             ],
             [
              0.6666666666666666,
              "#ed7953"
             ],
             [
              0.7777777777777778,
              "#fb9f3a"
             ],
             [
              0.8888888888888888,
              "#fdca26"
             ],
             [
              1,
              "#f0f921"
             ]
            ],
            "type": "heatmap"
           }
          ],
          "histogram": [
           {
            "marker": {
             "pattern": {
              "fillmode": "overlay",
              "size": 10,
              "solidity": 0.2
             }
            },
            "type": "histogram"
           }
          ],
          "histogram2d": [
           {
            "colorbar": {
             "outlinewidth": 0,
             "ticks": ""
            },
            "colorscale": [
             [
              0,
              "#0d0887"
             ],
             [
              0.1111111111111111,
              "#46039f"
             ],
             [
              0.2222222222222222,
              "#7201a8"
             ],
             [
              0.3333333333333333,
              "#9c179e"
             ],
             [
              0.4444444444444444,
              "#bd3786"
             ],
             [
              0.5555555555555556,
              "#d8576b"
             ],
             [
              0.6666666666666666,
              "#ed7953"
             ],
             [
              0.7777777777777778,
              "#fb9f3a"
             ],
             [
              0.8888888888888888,
              "#fdca26"
             ],
             [
              1,
              "#f0f921"
             ]
            ],
            "type": "histogram2d"
           }
          ],
          "histogram2dcontour": [
           {
            "colorbar": {
             "outlinewidth": 0,
             "ticks": ""
            },
            "colorscale": [
             [
              0,
              "#0d0887"
             ],
             [
              0.1111111111111111,
              "#46039f"
             ],
             [
              0.2222222222222222,
              "#7201a8"
             ],
             [
              0.3333333333333333,
              "#9c179e"
             ],
             [
              0.4444444444444444,
              "#bd3786"
             ],
             [
              0.5555555555555556,
              "#d8576b"
             ],
             [
              0.6666666666666666,
              "#ed7953"
             ],
             [
              0.7777777777777778,
              "#fb9f3a"
             ],
             [
              0.8888888888888888,
              "#fdca26"
             ],
             [
              1,
              "#f0f921"
             ]
            ],
            "type": "histogram2dcontour"
           }
          ],
          "mesh3d": [
           {
            "colorbar": {
             "outlinewidth": 0,
             "ticks": ""
            },
            "type": "mesh3d"
           }
          ],
          "parcoords": [
           {
            "line": {
             "colorbar": {
              "outlinewidth": 0,
              "ticks": ""
             }
            },
            "type": "parcoords"
           }
          ],
          "pie": [
           {
            "automargin": true,
            "type": "pie"
           }
          ],
          "scatter": [
           {
            "fillpattern": {
             "fillmode": "overlay",
             "size": 10,
             "solidity": 0.2
            },
            "type": "scatter"
           }
          ],
          "scatter3d": [
           {
            "line": {
             "colorbar": {
              "outlinewidth": 0,
              "ticks": ""
             }
            },
            "marker": {
             "colorbar": {
              "outlinewidth": 0,
              "ticks": ""
             }
            },
            "type": "scatter3d"
           }
          ],
          "scattercarpet": [
           {
            "marker": {
             "colorbar": {
              "outlinewidth": 0,
              "ticks": ""
             }
            },
            "type": "scattercarpet"
           }
          ],
          "scattergeo": [
           {
            "marker": {
             "colorbar": {
              "outlinewidth": 0,
              "ticks": ""
             }
            },
            "type": "scattergeo"
           }
          ],
          "scattergl": [
           {
            "marker": {
             "colorbar": {
              "outlinewidth": 0,
              "ticks": ""
             }
            },
            "type": "scattergl"
           }
          ],
          "scattermap": [
           {
            "marker": {
             "colorbar": {
              "outlinewidth": 0,
              "ticks": ""
             }
            },
            "type": "scattermap"
           }
          ],
          "scattermapbox": [
           {
            "marker": {
             "colorbar": {
              "outlinewidth": 0,
              "ticks": ""
             }
            },
            "type": "scattermapbox"
           }
          ],
          "scatterpolar": [
           {
            "marker": {
             "colorbar": {
              "outlinewidth": 0,
              "ticks": ""
             }
            },
            "type": "scatterpolar"
           }
          ],
          "scatterpolargl": [
           {
            "marker": {
             "colorbar": {
              "outlinewidth": 0,
              "ticks": ""
             }
            },
            "type": "scatterpolargl"
           }
          ],
          "scatterternary": [
           {
            "marker": {
             "colorbar": {
              "outlinewidth": 0,
              "ticks": ""
             }
            },
            "type": "scatterternary"
           }
          ],
          "surface": [
           {
            "colorbar": {
             "outlinewidth": 0,
             "ticks": ""
            },
            "colorscale": [
             [
              0,
              "#0d0887"
             ],
             [
              0.1111111111111111,
              "#46039f"
             ],
             [
              0.2222222222222222,
              "#7201a8"
             ],
             [
              0.3333333333333333,
              "#9c179e"
             ],
             [
              0.4444444444444444,
              "#bd3786"
             ],
             [
              0.5555555555555556,
              "#d8576b"
             ],
             [
              0.6666666666666666,
              "#ed7953"
             ],
             [
              0.7777777777777778,
              "#fb9f3a"
             ],
             [
              0.8888888888888888,
              "#fdca26"
             ],
             [
              1,
              "#f0f921"
             ]
            ],
            "type": "surface"
           }
          ],
          "table": [
           {
            "cells": {
             "fill": {
              "color": "#EBF0F8"
             },
             "line": {
              "color": "white"
             }
            },
            "header": {
             "fill": {
              "color": "#C8D4E3"
             },
             "line": {
              "color": "white"
             }
            },
            "type": "table"
           }
          ]
         },
         "layout": {
          "annotationdefaults": {
           "arrowcolor": "#2a3f5f",
           "arrowhead": 0,
           "arrowwidth": 1
          },
          "autotypenumbers": "strict",
          "coloraxis": {
           "colorbar": {
            "outlinewidth": 0,
            "ticks": ""
           }
          },
          "colorscale": {
           "diverging": [
            [
             0,
             "#8e0152"
            ],
            [
             0.1,
             "#c51b7d"
            ],
            [
             0.2,
             "#de77ae"
            ],
            [
             0.3,
             "#f1b6da"
            ],
            [
             0.4,
             "#fde0ef"
            ],
            [
             0.5,
             "#f7f7f7"
            ],
            [
             0.6,
             "#e6f5d0"
            ],
            [
             0.7,
             "#b8e186"
            ],
            [
             0.8,
             "#7fbc41"
            ],
            [
             0.9,
             "#4d9221"
            ],
            [
             1,
             "#276419"
            ]
           ],
           "sequential": [
            [
             0,
             "#0d0887"
            ],
            [
             0.1111111111111111,
             "#46039f"
            ],
            [
             0.2222222222222222,
             "#7201a8"
            ],
            [
             0.3333333333333333,
             "#9c179e"
            ],
            [
             0.4444444444444444,
             "#bd3786"
            ],
            [
             0.5555555555555556,
             "#d8576b"
            ],
            [
             0.6666666666666666,
             "#ed7953"
            ],
            [
             0.7777777777777778,
             "#fb9f3a"
            ],
            [
             0.8888888888888888,
             "#fdca26"
            ],
            [
             1,
             "#f0f921"
            ]
           ],
           "sequentialminus": [
            [
             0,
             "#0d0887"
            ],
            [
             0.1111111111111111,
             "#46039f"
            ],
            [
             0.2222222222222222,
             "#7201a8"
            ],
            [
             0.3333333333333333,
             "#9c179e"
            ],
            [
             0.4444444444444444,
             "#bd3786"
            ],
            [
             0.5555555555555556,
             "#d8576b"
            ],
            [
             0.6666666666666666,
             "#ed7953"
            ],
            [
             0.7777777777777778,
             "#fb9f3a"
            ],
            [
             0.8888888888888888,
             "#fdca26"
            ],
            [
             1,
             "#f0f921"
            ]
           ]
          },
          "colorway": [
           "#636efa",
           "#EF553B",
           "#00cc96",
           "#ab63fa",
           "#FFA15A",
           "#19d3f3",
           "#FF6692",
           "#B6E880",
           "#FF97FF",
           "#FECB52"
          ],
          "font": {
           "color": "#2a3f5f"
          },
          "geo": {
           "bgcolor": "white",
           "lakecolor": "white",
           "landcolor": "#E5ECF6",
           "showlakes": true,
           "showland": true,
           "subunitcolor": "white"
          },
          "hoverlabel": {
           "align": "left"
          },
          "hovermode": "closest",
          "mapbox": {
           "style": "light"
          },
          "paper_bgcolor": "white",
          "plot_bgcolor": "#E5ECF6",
          "polar": {
           "angularaxis": {
            "gridcolor": "white",
            "linecolor": "white",
            "ticks": ""
           },
           "bgcolor": "#E5ECF6",
           "radialaxis": {
            "gridcolor": "white",
            "linecolor": "white",
            "ticks": ""
           }
          },
          "scene": {
           "xaxis": {
            "backgroundcolor": "#E5ECF6",
            "gridcolor": "white",
            "gridwidth": 2,
            "linecolor": "white",
            "showbackground": true,
            "ticks": "",
            "zerolinecolor": "white"
           },
           "yaxis": {
            "backgroundcolor": "#E5ECF6",
            "gridcolor": "white",
            "gridwidth": 2,
            "linecolor": "white",
            "showbackground": true,
            "ticks": "",
            "zerolinecolor": "white"
           },
           "zaxis": {
            "backgroundcolor": "#E5ECF6",
            "gridcolor": "white",
            "gridwidth": 2,
            "linecolor": "white",
            "showbackground": true,
            "ticks": "",
            "zerolinecolor": "white"
           }
          },
          "shapedefaults": {
           "line": {
            "color": "#2a3f5f"
           }
          },
          "ternary": {
           "aaxis": {
            "gridcolor": "white",
            "linecolor": "white",
            "ticks": ""
           },
           "baxis": {
            "gridcolor": "white",
            "linecolor": "white",
            "ticks": ""
           },
           "bgcolor": "#E5ECF6",
           "caxis": {
            "gridcolor": "white",
            "linecolor": "white",
            "ticks": ""
           }
          },
          "title": {
           "x": 0.05
          },
          "xaxis": {
           "automargin": true,
           "gridcolor": "white",
           "linecolor": "white",
           "ticks": "",
           "title": {
            "standoff": 15
           },
           "zerolinecolor": "white",
           "zerolinewidth": 2
          },
          "yaxis": {
           "automargin": true,
           "gridcolor": "white",
           "linecolor": "white",
           "ticks": "",
           "title": {
            "standoff": 15
           },
           "zerolinecolor": "white",
           "zerolinewidth": 2
          }
         }
        },
        "title": {
         "text": "Conf Matrix"
        },
        "width": 800,
        "xaxis": {
         "title": {
          "text": "Predicted value"
         }
        },
        "yaxis": {
         "title": {
          "text": "Real value"
         }
        }
       }
      }
     },
     "metadata": {},
     "output_type": "display_data"
    }
   ],
   "source": [
    "#Obtengo las predicciones sobre el set de test. El modelo me da una lista de probabilidades para cada clase y tomo la clase con mayor probabilidad con la funcion argmax\n",
    "y_pred = lgb_model1.predict(X_test).argmax(axis=1)\n",
    "\n",
    "#Calculo el Kappa\n",
    "print(cohen_kappa_score(y_test,y_pred, weights = 'quadratic'))\n",
    "\n",
    "#Muestro la matriz de confusión\n",
    "display(plot_confusion_matrix(y_test,y_pred))"
   ]
  },
  {
   "cell_type": "markdown",
   "id": "0270bbba",
   "metadata": {},
   "source": [
    "## Modelo con optimizacion de hiperparametros train/test"
   ]
  },
  {
   "cell_type": "code",
   "execution_count": 9,
   "id": "f521b491",
   "metadata": {},
   "outputs": [],
   "source": [
    "#Funcion que vamos a optimizar. Optuna requiere que usemos el objeto trial para generar los parametros a optimizar\n",
    "def lgb_objective(trial):\n",
    "    #PArametros para LightGBM\n",
    "    lgb_params = {      \n",
    "                        #PArametros fijos\n",
    "                        'objective': 'multiclass',\n",
    "                        'verbosity':-1,\n",
    "                        'num_class': len(y_train.unique()),\n",
    "                        #Hiperparametros a optimizar utilizando suggest_float o suggest_int segun el tipo de dato\n",
    "                        #Se indica el nombre del parametro, valor minimo, valor maximo \n",
    "                        #en elgunos casos el parametro log=True para parametros que requieren buscar en esa escala\n",
    "                        'lambda_l1': trial.suggest_float('lambda_l1', 1e-8, 10.0, log=True),\n",
    "                        'lambda_l2': trial.suggest_float('lambda_l2', 1e-8, 10.0, log=True),\n",
    "                        'num_leaves': trial.suggest_int('num_leaves', 2, 256),\n",
    "                        'feature_fraction': trial.suggest_float('feature_fraction', 0.4, 1.0),\n",
    "                        'bagging_fraction': trial.suggest_float('bagging_fraction', 0.4, 1.0),\n",
    "                        'bagging_freq': trial.suggest_int('bagging_freq', 1, 7),\n",
    "                        'min_child_samples': trial.suggest_int('min_child_samples', 5, 100),\n",
    "                        } \n",
    "\n",
    "    #Genero objeto dataset de entrenamiento\n",
    "    lgb_train_dataset = lgb.Dataset(data=X_train,\n",
    "                                    label=y_train)\n",
    "\n",
    "    #ajuste de modelo\n",
    "    lgb_model2 = lgb.train(lgb_params,\n",
    "                        lgb_train_dataset)\n",
    "    \n",
    "    #Devuelvo el score en test\n",
    "    return(cohen_kappa_score(y_test,lgb_model2.predict(X_test).argmax(axis=1),\n",
    "                             weights = 'quadratic'))"
   ]
  },
  {
   "cell_type": "code",
   "execution_count": null,
   "id": "e5f668a9",
   "metadata": {},
   "outputs": [
    {
     "name": "stderr",
     "output_type": "stream",
     "text": [
      "[I 2025-05-03 19:27:25,804] A new study created in RDB with name: 100_LGBM_FE_JM_50\n",
      "[I 2025-05-03 19:27:29,431] Trial 0 finished with value: 0.3196368882049827 and parameters: {'lambda_l1': 1.7483687667502492e-05, 'lambda_l2': 3.27070258035729e-06, 'num_leaves': 167, 'feature_fraction': 0.49342644404391456, 'bagging_fraction': 0.9859747529722069, 'bagging_freq': 5, 'min_child_samples': 27}. Best is trial 0 with value: 0.3196368882049827.\n",
      "[I 2025-05-03 19:27:31,836] Trial 1 finished with value: 0.3227209917575947 and parameters: {'lambda_l1': 0.03536849374211001, 'lambda_l2': 1.866468327596306e-05, 'num_leaves': 120, 'feature_fraction': 0.6229365542726358, 'bagging_fraction': 0.910976347124749, 'bagging_freq': 6, 'min_child_samples': 35}. Best is trial 1 with value: 0.3227209917575947.\n",
      "[I 2025-05-03 19:27:33,271] Trial 2 finished with value: 0.3202737124922652 and parameters: {'lambda_l1': 1.6376590468545547, 'lambda_l2': 0.0002293550527285604, 'num_leaves': 139, 'feature_fraction': 0.9926456639705171, 'bagging_fraction': 0.5909889309454825, 'bagging_freq': 6, 'min_child_samples': 68}. Best is trial 1 with value: 0.3227209917575947.\n",
      "[I 2025-05-03 19:27:35,669] Trial 3 finished with value: 0.32441845490978327 and parameters: {'lambda_l1': 2.5719415111785565e-05, 'lambda_l2': 3.154046863841373e-06, 'num_leaves': 228, 'feature_fraction': 0.5516220836095732, 'bagging_fraction': 0.749022888425756, 'bagging_freq': 4, 'min_child_samples': 61}. Best is trial 3 with value: 0.32441845490978327.\n",
      "[I 2025-05-03 19:27:38,948] Trial 4 finished with value: 0.30417021485041973 and parameters: {'lambda_l1': 1.1733944928400705e-07, 'lambda_l2': 0.01794823865195131, 'num_leaves': 217, 'feature_fraction': 0.6585466110981941, 'bagging_fraction': 0.8787464160176541, 'bagging_freq': 7, 'min_child_samples': 41}. Best is trial 3 with value: 0.32441845490978327.\n",
      "[I 2025-05-03 19:27:41,065] Trial 5 finished with value: 0.32077883961142395 and parameters: {'lambda_l1': 0.001490670827398136, 'lambda_l2': 9.611192950113944e-05, 'num_leaves': 175, 'feature_fraction': 0.9339693300426043, 'bagging_fraction': 0.977796556788111, 'bagging_freq': 5, 'min_child_samples': 100}. Best is trial 3 with value: 0.32441845490978327.\n",
      "[I 2025-05-03 19:27:42,631] Trial 6 finished with value: 0.3081025581194209 and parameters: {'lambda_l1': 0.24142309653078858, 'lambda_l2': 8.792946152499006e-07, 'num_leaves': 97, 'feature_fraction': 0.937212680634524, 'bagging_fraction': 0.4758484769123323, 'bagging_freq': 5, 'min_child_samples': 83}. Best is trial 3 with value: 0.32441845490978327.\n",
      "[I 2025-05-03 19:27:44,949] Trial 7 finished with value: 0.30054647142132385 and parameters: {'lambda_l1': 4.0704984054473676e-08, 'lambda_l2': 0.0009100625420995306, 'num_leaves': 220, 'feature_fraction': 0.9129048255518843, 'bagging_fraction': 0.6117184793256439, 'bagging_freq': 3, 'min_child_samples': 56}. Best is trial 3 with value: 0.32441845490978327.\n",
      "[I 2025-05-03 19:27:46,524] Trial 8 finished with value: 0.3250764677573833 and parameters: {'lambda_l1': 0.00053020091788044, 'lambda_l2': 0.8173622911537636, 'num_leaves': 66, 'feature_fraction': 0.4999736950478439, 'bagging_fraction': 0.5204911328202512, 'bagging_freq': 6, 'min_child_samples': 60}. Best is trial 8 with value: 0.3250764677573833.\n",
      "[I 2025-05-03 19:27:48,919] Trial 9 finished with value: 0.30698529000660313 and parameters: {'lambda_l1': 1.4686536242723628e-05, 'lambda_l2': 4.637061684686291, 'num_leaves': 133, 'feature_fraction': 0.573001083281597, 'bagging_fraction': 0.7830079135759627, 'bagging_freq': 4, 'min_child_samples': 27}. Best is trial 8 with value: 0.3250764677573833.\n",
      "[I 2025-05-03 19:27:49,745] Trial 10 finished with value: 0.32674101615306705 and parameters: {'lambda_l1': 0.007115976525202295, 'lambda_l2': 9.822290413186167, 'num_leaves': 16, 'feature_fraction': 0.43779180658379796, 'bagging_fraction': 0.43283685307689823, 'bagging_freq': 1, 'min_child_samples': 6}. Best is trial 10 with value: 0.32674101615306705.\n",
      "[I 2025-05-03 19:27:50,493] Trial 11 finished with value: 0.31912539985356236 and parameters: {'lambda_l1': 0.0020043040066818046, 'lambda_l2': 7.069563850215298, 'num_leaves': 16, 'feature_fraction': 0.4099777950805995, 'bagging_fraction': 0.4258481365471304, 'bagging_freq': 1, 'min_child_samples': 5}. Best is trial 10 with value: 0.32674101615306705.\n",
      "[I 2025-05-03 19:27:51,226] Trial 12 finished with value: 0.32441977600374017 and parameters: {'lambda_l1': 0.010675133730351808, 'lambda_l2': 0.12106882427307535, 'num_leaves': 19, 'feature_fraction': 0.7861715040412928, 'bagging_fraction': 0.5312889862532744, 'bagging_freq': 1, 'min_child_samples': 5}. Best is trial 10 with value: 0.32674101615306705.\n",
      "[I 2025-05-03 19:27:52,079] Trial 13 finished with value: 0.32435272329052645 and parameters: {'lambda_l1': 7.065351207122329, 'lambda_l2': 1.5177375032494078e-08, 'num_leaves': 59, 'feature_fraction': 0.41207112160545223, 'bagging_fraction': 0.40954605302062896, 'bagging_freq': 2, 'min_child_samples': 74}. Best is trial 10 with value: 0.32674101615306705.\n",
      "[I 2025-05-03 19:27:54,259] Trial 14 finished with value: 0.3070917003097601 and parameters: {'lambda_l1': 0.00017737160550811723, 'lambda_l2': 0.21318094106182275, 'num_leaves': 62, 'feature_fraction': 0.7320066373598236, 'bagging_fraction': 0.6502553869974828, 'bagging_freq': 3, 'min_child_samples': 48}. Best is trial 10 with value: 0.32674101615306705.\n",
      "[I 2025-05-03 19:27:56,755] Trial 15 finished with value: 0.306594559695301 and parameters: {'lambda_l1': 1.1027903327273024e-06, 'lambda_l2': 0.7515193298498766, 'num_leaves': 70, 'feature_fraction': 0.48676894588015934, 'bagging_fraction': 0.5404043689336487, 'bagging_freq': 7, 'min_child_samples': 21}. Best is trial 10 with value: 0.32674101615306705.\n",
      "[I 2025-05-03 19:27:58,242] Trial 16 finished with value: 0.3339261873392333 and parameters: {'lambda_l1': 0.13005507363110613, 'lambda_l2': 0.01150296437600339, 'num_leaves': 36, 'feature_fraction': 0.49845334474199576, 'bagging_fraction': 0.4948775027821301, 'bagging_freq': 2, 'min_child_samples': 86}. Best is trial 16 with value: 0.3339261873392333.\n",
      "[I 2025-05-03 19:27:58,706] Trial 17 finished with value: 0.303521885112912 and parameters: {'lambda_l1': 0.05968377124220247, 'lambda_l2': 0.009573142699267902, 'num_leaves': 5, 'feature_fraction': 0.8189657080728043, 'bagging_fraction': 0.454902697825143, 'bagging_freq': 2, 'min_child_samples': 96}. Best is trial 16 with value: 0.3339261873392333.\n",
      "[I 2025-05-03 19:28:00,107] Trial 18 finished with value: 0.31700003748782646 and parameters: {'lambda_l1': 0.3666630926753752, 'lambda_l2': 0.0038344339684317154, 'num_leaves': 35, 'feature_fraction': 0.44418447100325475, 'bagging_fraction': 0.7071294251563793, 'bagging_freq': 2, 'min_child_samples': 85}. Best is trial 16 with value: 0.3339261873392333.\n",
      "[I 2025-05-03 19:28:01,637] Trial 19 finished with value: 0.3258558158704248 and parameters: {'lambda_l1': 0.0044751280749314665, 'lambda_l2': 0.042312205131465115, 'num_leaves': 41, 'feature_fraction': 0.5683638559377425, 'bagging_fraction': 0.4918970408817016, 'bagging_freq': 1, 'min_child_samples': 15}. Best is trial 16 with value: 0.3339261873392333.\n",
      "[I 2025-05-03 19:28:03,171] Trial 20 finished with value: 0.31713219346866095 and parameters: {'lambda_l1': 0.2889587827171543, 'lambda_l2': 0.0020078393562567116, 'num_leaves': 94, 'feature_fraction': 0.6388918910413933, 'bagging_fraction': 0.5872444404562558, 'bagging_freq': 3, 'min_child_samples': 86}. Best is trial 16 with value: 0.3339261873392333.\n",
      "[I 2025-05-03 19:28:04,372] Trial 21 finished with value: 0.3118471664640414 and parameters: {'lambda_l1': 0.00946209709190593, 'lambda_l2': 0.08375649414054333, 'num_leaves': 40, 'feature_fraction': 0.5630644469355333, 'bagging_fraction': 0.49346173307715124, 'bagging_freq': 1, 'min_child_samples': 11}. Best is trial 16 with value: 0.3339261873392333.\n",
      "[I 2025-05-03 19:28:05,644] Trial 22 finished with value: 0.32014340998653357 and parameters: {'lambda_l1': 0.005328760392790601, 'lambda_l2': 0.046600548668323805, 'num_leaves': 41, 'feature_fraction': 0.524486401058009, 'bagging_fraction': 0.4082759218560349, 'bagging_freq': 1, 'min_child_samples': 20}. Best is trial 16 with value: 0.3339261873392333.\n",
      "[I 2025-05-03 19:28:05,991] Trial 23 finished with value: 0.27635486320257396 and parameters: {'lambda_l1': 0.00010801444607857519, 'lambda_l2': 1.2104596212605228, 'num_leaves': 2, 'feature_fraction': 0.4670585452809383, 'bagging_fraction': 0.4699188060819332, 'bagging_freq': 2, 'min_child_samples': 14}. Best is trial 16 with value: 0.3339261873392333.\n",
      "[I 2025-05-03 19:28:08,736] Trial 24 finished with value: 0.33273391007901243 and parameters: {'lambda_l1': 0.04500885102526648, 'lambda_l2': 0.021844897517601485, 'num_leaves': 87, 'feature_fraction': 0.5920488865769152, 'bagging_fraction': 0.5561653360820572, 'bagging_freq': 1, 'min_child_samples': 45}. Best is trial 16 with value: 0.3339261873392333.\n",
      "[I 2025-05-03 19:28:10,563] Trial 25 finished with value: 0.3102432038460021 and parameters: {'lambda_l1': 0.0562585901665502, 'lambda_l2': 4.729301412591507e-05, 'num_leaves': 83, 'feature_fraction': 0.6049822858909255, 'bagging_fraction': 0.5580093148944317, 'bagging_freq': 2, 'min_child_samples': 46}. Best is trial 16 with value: 0.3339261873392333.\n",
      "[I 2025-05-03 19:28:11,374] Trial 26 finished with value: 0.3143305051389813 and parameters: {'lambda_l1': 9.916007068886646, 'lambda_l2': 0.006581107092640665, 'num_leaves': 26, 'feature_fraction': 0.6639767652539248, 'bagging_fraction': 0.6494258198511471, 'bagging_freq': 3, 'min_child_samples': 70}. Best is trial 16 with value: 0.3339261873392333.\n",
      "[I 2025-05-03 19:28:13,681] Trial 27 finished with value: 0.33269434030780254 and parameters: {'lambda_l1': 1.3059113993529012, 'lambda_l2': 0.41151279262779894, 'num_leaves': 105, 'feature_fraction': 0.44320171957318716, 'bagging_fraction': 0.6495341356520126, 'bagging_freq': 1, 'min_child_samples': 35}. Best is trial 16 with value: 0.3339261873392333.\n",
      "[I 2025-05-03 19:28:15,759] Trial 28 finished with value: 0.3074692210205936 and parameters: {'lambda_l1': 1.0833715895711462, 'lambda_l2': 0.0007447334225732353, 'num_leaves': 109, 'feature_fraction': 0.709425001623977, 'bagging_fraction': 0.6767643020875588, 'bagging_freq': 2, 'min_child_samples': 36}. Best is trial 16 with value: 0.3339261873392333.\n",
      "[I 2025-05-03 19:28:17,840] Trial 29 finished with value: 0.32467352285912165 and parameters: {'lambda_l1': 1.7622136716551466, 'lambda_l2': 0.4438209815559495, 'num_leaves': 159, 'feature_fraction': 0.5218573461128079, 'bagging_fraction': 0.803719159044855, 'bagging_freq': 1, 'min_child_samples': 29}. Best is trial 16 with value: 0.3339261873392333.\n",
      "[I 2025-05-03 19:28:20,470] Trial 30 finished with value: 0.3087298173555084 and parameters: {'lambda_l1': 0.07335023752179869, 'lambda_l2': 0.027048061002272614, 'num_leaves': 256, 'feature_fraction': 0.4670032647169091, 'bagging_fraction': 0.7136377767222768, 'bagging_freq': 2, 'min_child_samples': 51}. Best is trial 16 with value: 0.3339261873392333.\n",
      "[I 2025-05-03 19:28:22,241] Trial 31 finished with value: 0.3072560139003172 and parameters: {'lambda_l1': 0.01689910936937092, 'lambda_l2': 2.3369144917936553, 'num_leaves': 83, 'feature_fraction': 0.44122852187410533, 'bagging_fraction': 0.5728539834836258, 'bagging_freq': 1, 'min_child_samples': 40}. Best is trial 16 with value: 0.3339261873392333.\n",
      "[I 2025-05-03 19:28:24,918] Trial 32 finished with value: 0.31965612821372613 and parameters: {'lambda_l1': 0.17424453639158954, 'lambda_l2': 0.27034243654182566, 'num_leaves': 119, 'feature_fraction': 0.5190577860322997, 'bagging_fraction': 0.6353954566091877, 'bagging_freq': 1, 'min_child_samples': 36}. Best is trial 16 with value: 0.3339261873392333.\n",
      "[I 2025-05-03 19:28:27,257] Trial 33 finished with value: 0.304841527719674 and parameters: {'lambda_l1': 1.1648978136570087, 'lambda_l2': 6.11110885944944, 'num_leaves': 147, 'feature_fraction': 0.6080863903567567, 'bagging_fraction': 0.5140153081000454, 'bagging_freq': 1, 'min_child_samples': 31}. Best is trial 16 with value: 0.3339261873392333.\n",
      "[I 2025-05-03 19:28:29,406] Trial 34 finished with value: 0.2963511307134743 and parameters: {'lambda_l1': 0.02530416326950715, 'lambda_l2': 1.9074516365363896, 'num_leaves': 181, 'feature_fraction': 0.40786010136104955, 'bagging_fraction': 0.4451353661300742, 'bagging_freq': 2, 'min_child_samples': 22}. Best is trial 16 with value: 0.3339261873392333.\n",
      "[I 2025-05-03 19:28:30,718] Trial 35 finished with value: 0.32939646372657727 and parameters: {'lambda_l1': 2.79519648613367, 'lambda_l2': 0.16713247794590677, 'num_leaves': 54, 'feature_fraction': 0.45885099427734044, 'bagging_fraction': 0.6119368022255632, 'bagging_freq': 1, 'min_child_samples': 44}. Best is trial 16 with value: 0.3339261873392333.\n",
      "[I 2025-05-03 19:28:32,280] Trial 36 finished with value: 0.33340974314973715 and parameters: {'lambda_l1': 3.810922049116667, 'lambda_l2': 0.010616060939471015, 'num_leaves': 50, 'feature_fraction': 0.48500962888777077, 'bagging_fraction': 0.6084451202371997, 'bagging_freq': 3, 'min_child_samples': 44}. Best is trial 16 with value: 0.3339261873392333.\n",
      "[I 2025-05-03 19:28:34,196] Trial 37 finished with value: 0.3405574324386059 and parameters: {'lambda_l1': 0.41351152369848987, 'lambda_l2': 0.0004747159729488009, 'num_leaves': 108, 'feature_fraction': 0.543871206416572, 'bagging_fraction': 0.5737108633962096, 'bagging_freq': 4, 'min_child_samples': 54}. Best is trial 37 with value: 0.3405574324386059.\n",
      "[I 2025-05-03 19:28:35,832] Trial 38 finished with value: 0.315531981402704 and parameters: {'lambda_l1': 0.6071836530059618, 'lambda_l2': 0.0003161174574427973, 'num_leaves': 79, 'feature_fraction': 0.5378158343425292, 'bagging_fraction': 0.59741265524985, 'bagging_freq': 4, 'min_child_samples': 56}. Best is trial 37 with value: 0.3405574324386059.\n",
      "[I 2025-05-03 19:28:37,511] Trial 39 finished with value: 0.32434241695505805 and parameters: {'lambda_l1': 0.08709648236423302, 'lambda_l2': 0.00014034597113513777, 'num_leaves': 125, 'feature_fraction': 0.5908384303898566, 'bagging_fraction': 0.5629122656057892, 'bagging_freq': 4, 'min_child_samples': 65}. Best is trial 37 with value: 0.3405574324386059.\n",
      "[I 2025-05-03 19:28:39,221] Trial 40 finished with value: 0.31584309027544255 and parameters: {'lambda_l1': 3.0943560905474063, 'lambda_l2': 0.0013248046241221385, 'num_leaves': 51, 'feature_fraction': 0.6642429316725487, 'bagging_fraction': 0.733290636911501, 'bagging_freq': 5, 'min_child_samples': 54}. Best is trial 37 with value: 0.3405574324386059.\n",
      "[I 2025-05-03 19:28:40,610] Trial 41 finished with value: 0.32947517555697403 and parameters: {'lambda_l1': 4.034024605812106, 'lambda_l2': 8.68889866361575e-06, 'num_leaves': 102, 'feature_fraction': 0.49490793465570526, 'bagging_fraction': 0.6834365649987582, 'bagging_freq': 3, 'min_child_samples': 41}. Best is trial 37 with value: 0.3405574324386059.\n",
      "[I 2025-05-03 19:28:41,960] Trial 42 finished with value: 0.3269598155481016 and parameters: {'lambda_l1': 0.16615327227183663, 'lambda_l2': 0.011144477557726521, 'num_leaves': 106, 'feature_fraction': 0.49041954907755214, 'bagging_fraction': 0.5460262085842258, 'bagging_freq': 4, 'min_child_samples': 79}. Best is trial 37 with value: 0.3405574324386059.\n",
      "[I 2025-05-03 19:28:43,782] Trial 43 finished with value: 0.33338443669281925 and parameters: {'lambda_l1': 0.5780784219672128, 'lambda_l2': 0.0029240966804251907, 'num_leaves': 116, 'feature_fraction': 0.5479876287600853, 'bagging_fraction': 0.6307674861499579, 'bagging_freq': 3, 'min_child_samples': 60}. Best is trial 37 with value: 0.3405574324386059.\n",
      "[I 2025-05-03 19:28:45,903] Trial 44 finished with value: 0.3224438267331985 and parameters: {'lambda_l1': 0.40707394084360976, 'lambda_l2': 0.0032648558440765765, 'num_leaves': 141, 'feature_fraction': 0.6347080608488528, 'bagging_fraction': 0.6098690136332083, 'bagging_freq': 3, 'min_child_samples': 66}. Best is trial 37 with value: 0.3405574324386059.\n",
      "[I 2025-05-03 19:28:47,546] Trial 45 finished with value: 0.31943120382250767 and parameters: {'lambda_l1': 0.0009814592075358286, 'lambda_l2': 0.00047323282897054366, 'num_leaves': 91, 'feature_fraction': 0.5484745319408997, 'bagging_fraction': 0.5086856428470428, 'bagging_freq': 3, 'min_child_samples': 59}. Best is trial 37 with value: 0.3405574324386059.\n",
      "[I 2025-05-03 19:28:49,987] Trial 46 finished with value: 0.31184822837509396 and parameters: {'lambda_l1': 0.0313174634154842, 'lambda_l2': 2.891049202174709e-05, 'num_leaves': 120, 'feature_fraction': 0.5823125843610022, 'bagging_fraction': 0.616173326504162, 'bagging_freq': 5, 'min_child_samples': 51}. Best is trial 37 with value: 0.3405574324386059.\n",
      "[I 2025-05-03 19:28:52,208] Trial 47 finished with value: 0.3258020548204864 and parameters: {'lambda_l1': 0.605781612908518, 'lambda_l2': 0.01707061367473839, 'num_leaves': 73, 'feature_fraction': 0.5104469709340803, 'bagging_fraction': 0.5754145701140077, 'bagging_freq': 4, 'min_child_samples': 62}. Best is trial 37 with value: 0.3405574324386059.\n",
      "[I 2025-05-03 19:28:53,983] Trial 48 finished with value: 0.33472661590977226 and parameters: {'lambda_l1': 0.12485941509820644, 'lambda_l2': 9.283443190262991e-05, 'num_leaves': 196, 'feature_fraction': 0.5464296818163997, 'bagging_fraction': 0.6783907518271302, 'bagging_freq': 3, 'min_child_samples': 75}. Best is trial 37 with value: 0.3405574324386059.\n",
      "[I 2025-05-03 19:28:55,191] Trial 49 finished with value: 0.33270676585806724 and parameters: {'lambda_l1': 5.824410421561066, 'lambda_l2': 5.3082018793884645e-06, 'num_leaves': 186, 'feature_fraction': 0.5348721865618208, 'bagging_fraction': 0.7901615360149707, 'bagging_freq': 3, 'min_child_samples': 89}. Best is trial 37 with value: 0.3405574324386059.\n"
     ]
    }
   ],
   "source": [
    "#Defino el estudio a optimizar\n",
    "study = optuna.create_study(direction='maximize', #buscamos maximizar la metrica\n",
    "                            storage=\"sqlite:///../work/db_100_LGBM_FE_JM_50.sqlite3\",  # Specify the storage URL here.\n",
    "                            study_name=\"100_LGBM_FE_JM_50\", #nombre del experimento\n",
    "                            load_if_exists=True) #continuar si ya existe\n",
    "\n",
    "#Corremos 100 trials para buscar mejores parametros\n",
    "study.optimize(lgb_objective, n_trials=50)"
   ]
  },
  {
   "cell_type": "code",
   "execution_count": 11,
   "id": "f9697749",
   "metadata": {},
   "outputs": [
    {
     "data": {
      "text/plain": [
       "{'lambda_l1': 0.41351152369848987,\n",
       " 'lambda_l2': 0.0004747159729488009,\n",
       " 'num_leaves': 108,\n",
       " 'feature_fraction': 0.543871206416572,\n",
       " 'bagging_fraction': 0.5737108633962096,\n",
       " 'bagging_freq': 4,\n",
       " 'min_child_samples': 54}"
      ]
     },
     "execution_count": 11,
     "metadata": {},
     "output_type": "execute_result"
    }
   ],
   "source": [
    "#Obtenemos mejor resultado\n",
    "study.best_params"
   ]
  },
  {
   "cell_type": "code",
   "execution_count": 12,
   "id": "b0db9f91",
   "metadata": {},
   "outputs": [
    {
     "name": "stdout",
     "output_type": "stream",
     "text": [
      "0.3405574324386059\n"
     ]
    },
    {
     "data": {
      "application/vnd.plotly.v1+json": {
       "config": {
        "plotlyServerURL": "https://plot.ly"
       },
       "data": [
        {
         "type": "heatmap",
         "x": {
          "bdata": "AAECAwQ=",
          "dtype": "i1"
         },
         "y": {
          "bdata": "AAECAwQ=",
          "dtype": "i1"
         },
         "z": {
          "bdata": "E7UrUbsSIUAgg/MxOB9EQJyPwfkYnDlAg/MxOB+DI0C1K1G7ErUvQA4wbu9DtuQ/+602hqY7QUCqqqqqqqpAQFEDjNv7kClAjNv7kC3FMkAyN17RtMrXPwl8X3XCbTZAIahij2QFQ0Bjj2QF+fkwQHYrMZNQLjZAAAAAAAAAAAC+zV9hVqMxQKlcd7zYEjpAwMKsRhGHPEDZEnybv8I7QLdt27Zt29Y/SZIkSZIkJkDoeZ7neZ4xQEmSJEmSJCtADMMwDMOwTEA=",
          "dtype": "f8",
          "shape": "5, 5"
         }
        }
       ],
       "layout": {
        "annotations": [
         {
          "font": {
           "color": "white"
          },
          "showarrow": false,
          "text": "8.5 - 7",
          "x": 0,
          "xref": "x",
          "y": 0,
          "yref": "y"
         },
         {
          "font": {
           "color": "white"
          },
          "showarrow": false,
          "text": "40.2 - 33",
          "x": 1,
          "xref": "x",
          "y": 0,
          "yref": "y"
         },
         {
          "font": {
           "color": "white"
          },
          "showarrow": false,
          "text": "25.6 - 21",
          "x": 2,
          "xref": "x",
          "y": 0,
          "yref": "y"
         },
         {
          "font": {
           "color": "white"
          },
          "showarrow": false,
          "text": "9.8 - 8",
          "x": 3,
          "xref": "x",
          "y": 0,
          "yref": "y"
         },
         {
          "font": {
           "color": "white"
          },
          "showarrow": false,
          "text": "15.9 - 13",
          "x": 4,
          "xref": "x",
          "y": 0,
          "yref": "y"
         },
         {
          "font": {
           "color": "white"
          },
          "showarrow": false,
          "text": "0.6 - 4",
          "x": 0,
          "xref": "x",
          "y": 1,
          "yref": "y"
         },
         {
          "font": {
           "color": "white"
          },
          "showarrow": false,
          "text": "34.5 - 213",
          "x": 1,
          "xref": "x",
          "y": 1,
          "yref": "y"
         },
         {
          "font": {
           "color": "white"
          },
          "showarrow": false,
          "text": "33.3 - 206",
          "x": 2,
          "xref": "x",
          "y": 1,
          "yref": "y"
         },
         {
          "font": {
           "color": "white"
          },
          "showarrow": false,
          "text": "12.8 - 79",
          "x": 3,
          "xref": "x",
          "y": 1,
          "yref": "y"
         },
         {
          "font": {
           "color": "white"
          },
          "showarrow": false,
          "text": "18.8 - 116",
          "x": 4,
          "xref": "x",
          "y": 1,
          "yref": "y"
         },
         {
          "font": {
           "color": "white"
          },
          "showarrow": false,
          "text": "0.4 - 3",
          "x": 0,
          "xref": "x",
          "y": 2,
          "yref": "y"
         },
         {
          "font": {
           "color": "white"
          },
          "showarrow": false,
          "text": "22.4 - 181",
          "x": 1,
          "xref": "x",
          "y": 2,
          "yref": "y"
         },
         {
          "font": {
           "color": "white"
          },
          "showarrow": false,
          "text": "38.0 - 307",
          "x": 2,
          "xref": "x",
          "y": 2,
          "yref": "y"
         },
         {
          "font": {
           "color": "white"
          },
          "showarrow": false,
          "text": "17.0 - 137",
          "x": 3,
          "xref": "x",
          "y": 2,
          "yref": "y"
         },
         {
          "font": {
           "color": "white"
          },
          "showarrow": false,
          "text": "22.2 - 179",
          "x": 4,
          "xref": "x",
          "y": 2,
          "yref": "y"
         },
         {
          "font": {
           "color": "white"
          },
          "showarrow": false,
          "text": "0.0 - 0",
          "x": 0,
          "xref": "x",
          "y": 3,
          "yref": "y"
         },
         {
          "font": {
           "color": "white"
          },
          "showarrow": false,
          "text": "17.6 - 115",
          "x": 1,
          "xref": "x",
          "y": 3,
          "yref": "y"
         },
         {
          "font": {
           "color": "white"
          },
          "showarrow": false,
          "text": "26.1 - 170",
          "x": 2,
          "xref": "x",
          "y": 3,
          "yref": "y"
         },
         {
          "font": {
           "color": "white"
          },
          "showarrow": false,
          "text": "28.5 - 186",
          "x": 3,
          "xref": "x",
          "y": 3,
          "yref": "y"
         },
         {
          "font": {
           "color": "white"
          },
          "showarrow": false,
          "text": "27.8 - 181",
          "x": 4,
          "xref": "x",
          "y": 3,
          "yref": "y"
         },
         {
          "font": {
           "color": "white"
          },
          "showarrow": false,
          "text": "0.4 - 3",
          "x": 0,
          "xref": "x",
          "y": 4,
          "yref": "y"
         },
         {
          "font": {
           "color": "white"
          },
          "showarrow": false,
          "text": "11.1 - 93",
          "x": 1,
          "xref": "x",
          "y": 4,
          "yref": "y"
         },
         {
          "font": {
           "color": "white"
          },
          "showarrow": false,
          "text": "17.6 - 148",
          "x": 2,
          "xref": "x",
          "y": 4,
          "yref": "y"
         },
         {
          "font": {
           "color": "white"
          },
          "showarrow": false,
          "text": "13.6 - 114",
          "x": 3,
          "xref": "x",
          "y": 4,
          "yref": "y"
         },
         {
          "font": {
           "color": "white"
          },
          "showarrow": false,
          "text": "57.4 - 482",
          "x": 4,
          "xref": "x",
          "y": 4,
          "yref": "y"
         }
        ],
        "height": 800,
        "template": {
         "data": {
          "bar": [
           {
            "error_x": {
             "color": "#2a3f5f"
            },
            "error_y": {
             "color": "#2a3f5f"
            },
            "marker": {
             "line": {
              "color": "#E5ECF6",
              "width": 0.5
             },
             "pattern": {
              "fillmode": "overlay",
              "size": 10,
              "solidity": 0.2
             }
            },
            "type": "bar"
           }
          ],
          "barpolar": [
           {
            "marker": {
             "line": {
              "color": "#E5ECF6",
              "width": 0.5
             },
             "pattern": {
              "fillmode": "overlay",
              "size": 10,
              "solidity": 0.2
             }
            },
            "type": "barpolar"
           }
          ],
          "carpet": [
           {
            "aaxis": {
             "endlinecolor": "#2a3f5f",
             "gridcolor": "white",
             "linecolor": "white",
             "minorgridcolor": "white",
             "startlinecolor": "#2a3f5f"
            },
            "baxis": {
             "endlinecolor": "#2a3f5f",
             "gridcolor": "white",
             "linecolor": "white",
             "minorgridcolor": "white",
             "startlinecolor": "#2a3f5f"
            },
            "type": "carpet"
           }
          ],
          "choropleth": [
           {
            "colorbar": {
             "outlinewidth": 0,
             "ticks": ""
            },
            "type": "choropleth"
           }
          ],
          "contour": [
           {
            "colorbar": {
             "outlinewidth": 0,
             "ticks": ""
            },
            "colorscale": [
             [
              0,
              "#0d0887"
             ],
             [
              0.1111111111111111,
              "#46039f"
             ],
             [
              0.2222222222222222,
              "#7201a8"
             ],
             [
              0.3333333333333333,
              "#9c179e"
             ],
             [
              0.4444444444444444,
              "#bd3786"
             ],
             [
              0.5555555555555556,
              "#d8576b"
             ],
             [
              0.6666666666666666,
              "#ed7953"
             ],
             [
              0.7777777777777778,
              "#fb9f3a"
             ],
             [
              0.8888888888888888,
              "#fdca26"
             ],
             [
              1,
              "#f0f921"
             ]
            ],
            "type": "contour"
           }
          ],
          "contourcarpet": [
           {
            "colorbar": {
             "outlinewidth": 0,
             "ticks": ""
            },
            "type": "contourcarpet"
           }
          ],
          "heatmap": [
           {
            "colorbar": {
             "outlinewidth": 0,
             "ticks": ""
            },
            "colorscale": [
             [
              0,
              "#0d0887"
             ],
             [
              0.1111111111111111,
              "#46039f"
             ],
             [
              0.2222222222222222,
              "#7201a8"
             ],
             [
              0.3333333333333333,
              "#9c179e"
             ],
             [
              0.4444444444444444,
              "#bd3786"
             ],
             [
              0.5555555555555556,
              "#d8576b"
             ],
             [
              0.6666666666666666,
              "#ed7953"
             ],
             [
              0.7777777777777778,
              "#fb9f3a"
             ],
             [
              0.8888888888888888,
              "#fdca26"
             ],
             [
              1,
              "#f0f921"
             ]
            ],
            "type": "heatmap"
           }
          ],
          "histogram": [
           {
            "marker": {
             "pattern": {
              "fillmode": "overlay",
              "size": 10,
              "solidity": 0.2
             }
            },
            "type": "histogram"
           }
          ],
          "histogram2d": [
           {
            "colorbar": {
             "outlinewidth": 0,
             "ticks": ""
            },
            "colorscale": [
             [
              0,
              "#0d0887"
             ],
             [
              0.1111111111111111,
              "#46039f"
             ],
             [
              0.2222222222222222,
              "#7201a8"
             ],
             [
              0.3333333333333333,
              "#9c179e"
             ],
             [
              0.4444444444444444,
              "#bd3786"
             ],
             [
              0.5555555555555556,
              "#d8576b"
             ],
             [
              0.6666666666666666,
              "#ed7953"
             ],
             [
              0.7777777777777778,
              "#fb9f3a"
             ],
             [
              0.8888888888888888,
              "#fdca26"
             ],
             [
              1,
              "#f0f921"
             ]
            ],
            "type": "histogram2d"
           }
          ],
          "histogram2dcontour": [
           {
            "colorbar": {
             "outlinewidth": 0,
             "ticks": ""
            },
            "colorscale": [
             [
              0,
              "#0d0887"
             ],
             [
              0.1111111111111111,
              "#46039f"
             ],
             [
              0.2222222222222222,
              "#7201a8"
             ],
             [
              0.3333333333333333,
              "#9c179e"
             ],
             [
              0.4444444444444444,
              "#bd3786"
             ],
             [
              0.5555555555555556,
              "#d8576b"
             ],
             [
              0.6666666666666666,
              "#ed7953"
             ],
             [
              0.7777777777777778,
              "#fb9f3a"
             ],
             [
              0.8888888888888888,
              "#fdca26"
             ],
             [
              1,
              "#f0f921"
             ]
            ],
            "type": "histogram2dcontour"
           }
          ],
          "mesh3d": [
           {
            "colorbar": {
             "outlinewidth": 0,
             "ticks": ""
            },
            "type": "mesh3d"
           }
          ],
          "parcoords": [
           {
            "line": {
             "colorbar": {
              "outlinewidth": 0,
              "ticks": ""
             }
            },
            "type": "parcoords"
           }
          ],
          "pie": [
           {
            "automargin": true,
            "type": "pie"
           }
          ],
          "scatter": [
           {
            "fillpattern": {
             "fillmode": "overlay",
             "size": 10,
             "solidity": 0.2
            },
            "type": "scatter"
           }
          ],
          "scatter3d": [
           {
            "line": {
             "colorbar": {
              "outlinewidth": 0,
              "ticks": ""
             }
            },
            "marker": {
             "colorbar": {
              "outlinewidth": 0,
              "ticks": ""
             }
            },
            "type": "scatter3d"
           }
          ],
          "scattercarpet": [
           {
            "marker": {
             "colorbar": {
              "outlinewidth": 0,
              "ticks": ""
             }
            },
            "type": "scattercarpet"
           }
          ],
          "scattergeo": [
           {
            "marker": {
             "colorbar": {
              "outlinewidth": 0,
              "ticks": ""
             }
            },
            "type": "scattergeo"
           }
          ],
          "scattergl": [
           {
            "marker": {
             "colorbar": {
              "outlinewidth": 0,
              "ticks": ""
             }
            },
            "type": "scattergl"
           }
          ],
          "scattermap": [
           {
            "marker": {
             "colorbar": {
              "outlinewidth": 0,
              "ticks": ""
             }
            },
            "type": "scattermap"
           }
          ],
          "scattermapbox": [
           {
            "marker": {
             "colorbar": {
              "outlinewidth": 0,
              "ticks": ""
             }
            },
            "type": "scattermapbox"
           }
          ],
          "scatterpolar": [
           {
            "marker": {
             "colorbar": {
              "outlinewidth": 0,
              "ticks": ""
             }
            },
            "type": "scatterpolar"
           }
          ],
          "scatterpolargl": [
           {
            "marker": {
             "colorbar": {
              "outlinewidth": 0,
              "ticks": ""
             }
            },
            "type": "scatterpolargl"
           }
          ],
          "scatterternary": [
           {
            "marker": {
             "colorbar": {
              "outlinewidth": 0,
              "ticks": ""
             }
            },
            "type": "scatterternary"
           }
          ],
          "surface": [
           {
            "colorbar": {
             "outlinewidth": 0,
             "ticks": ""
            },
            "colorscale": [
             [
              0,
              "#0d0887"
             ],
             [
              0.1111111111111111,
              "#46039f"
             ],
             [
              0.2222222222222222,
              "#7201a8"
             ],
             [
              0.3333333333333333,
              "#9c179e"
             ],
             [
              0.4444444444444444,
              "#bd3786"
             ],
             [
              0.5555555555555556,
              "#d8576b"
             ],
             [
              0.6666666666666666,
              "#ed7953"
             ],
             [
              0.7777777777777778,
              "#fb9f3a"
             ],
             [
              0.8888888888888888,
              "#fdca26"
             ],
             [
              1,
              "#f0f921"
             ]
            ],
            "type": "surface"
           }
          ],
          "table": [
           {
            "cells": {
             "fill": {
              "color": "#EBF0F8"
             },
             "line": {
              "color": "white"
             }
            },
            "header": {
             "fill": {
              "color": "#C8D4E3"
             },
             "line": {
              "color": "white"
             }
            },
            "type": "table"
           }
          ]
         },
         "layout": {
          "annotationdefaults": {
           "arrowcolor": "#2a3f5f",
           "arrowhead": 0,
           "arrowwidth": 1
          },
          "autotypenumbers": "strict",
          "coloraxis": {
           "colorbar": {
            "outlinewidth": 0,
            "ticks": ""
           }
          },
          "colorscale": {
           "diverging": [
            [
             0,
             "#8e0152"
            ],
            [
             0.1,
             "#c51b7d"
            ],
            [
             0.2,
             "#de77ae"
            ],
            [
             0.3,
             "#f1b6da"
            ],
            [
             0.4,
             "#fde0ef"
            ],
            [
             0.5,
             "#f7f7f7"
            ],
            [
             0.6,
             "#e6f5d0"
            ],
            [
             0.7,
             "#b8e186"
            ],
            [
             0.8,
             "#7fbc41"
            ],
            [
             0.9,
             "#4d9221"
            ],
            [
             1,
             "#276419"
            ]
           ],
           "sequential": [
            [
             0,
             "#0d0887"
            ],
            [
             0.1111111111111111,
             "#46039f"
            ],
            [
             0.2222222222222222,
             "#7201a8"
            ],
            [
             0.3333333333333333,
             "#9c179e"
            ],
            [
             0.4444444444444444,
             "#bd3786"
            ],
            [
             0.5555555555555556,
             "#d8576b"
            ],
            [
             0.6666666666666666,
             "#ed7953"
            ],
            [
             0.7777777777777778,
             "#fb9f3a"
            ],
            [
             0.8888888888888888,
             "#fdca26"
            ],
            [
             1,
             "#f0f921"
            ]
           ],
           "sequentialminus": [
            [
             0,
             "#0d0887"
            ],
            [
             0.1111111111111111,
             "#46039f"
            ],
            [
             0.2222222222222222,
             "#7201a8"
            ],
            [
             0.3333333333333333,
             "#9c179e"
            ],
            [
             0.4444444444444444,
             "#bd3786"
            ],
            [
             0.5555555555555556,
             "#d8576b"
            ],
            [
             0.6666666666666666,
             "#ed7953"
            ],
            [
             0.7777777777777778,
             "#fb9f3a"
            ],
            [
             0.8888888888888888,
             "#fdca26"
            ],
            [
             1,
             "#f0f921"
            ]
           ]
          },
          "colorway": [
           "#636efa",
           "#EF553B",
           "#00cc96",
           "#ab63fa",
           "#FFA15A",
           "#19d3f3",
           "#FF6692",
           "#B6E880",
           "#FF97FF",
           "#FECB52"
          ],
          "font": {
           "color": "#2a3f5f"
          },
          "geo": {
           "bgcolor": "white",
           "lakecolor": "white",
           "landcolor": "#E5ECF6",
           "showlakes": true,
           "showland": true,
           "subunitcolor": "white"
          },
          "hoverlabel": {
           "align": "left"
          },
          "hovermode": "closest",
          "mapbox": {
           "style": "light"
          },
          "paper_bgcolor": "white",
          "plot_bgcolor": "#E5ECF6",
          "polar": {
           "angularaxis": {
            "gridcolor": "white",
            "linecolor": "white",
            "ticks": ""
           },
           "bgcolor": "#E5ECF6",
           "radialaxis": {
            "gridcolor": "white",
            "linecolor": "white",
            "ticks": ""
           }
          },
          "scene": {
           "xaxis": {
            "backgroundcolor": "#E5ECF6",
            "gridcolor": "white",
            "gridwidth": 2,
            "linecolor": "white",
            "showbackground": true,
            "ticks": "",
            "zerolinecolor": "white"
           },
           "yaxis": {
            "backgroundcolor": "#E5ECF6",
            "gridcolor": "white",
            "gridwidth": 2,
            "linecolor": "white",
            "showbackground": true,
            "ticks": "",
            "zerolinecolor": "white"
           },
           "zaxis": {
            "backgroundcolor": "#E5ECF6",
            "gridcolor": "white",
            "gridwidth": 2,
            "linecolor": "white",
            "showbackground": true,
            "ticks": "",
            "zerolinecolor": "white"
           }
          },
          "shapedefaults": {
           "line": {
            "color": "#2a3f5f"
           }
          },
          "ternary": {
           "aaxis": {
            "gridcolor": "white",
            "linecolor": "white",
            "ticks": ""
           },
           "baxis": {
            "gridcolor": "white",
            "linecolor": "white",
            "ticks": ""
           },
           "bgcolor": "#E5ECF6",
           "caxis": {
            "gridcolor": "white",
            "linecolor": "white",
            "ticks": ""
           }
          },
          "title": {
           "x": 0.05
          },
          "xaxis": {
           "automargin": true,
           "gridcolor": "white",
           "linecolor": "white",
           "ticks": "",
           "title": {
            "standoff": 15
           },
           "zerolinecolor": "white",
           "zerolinewidth": 2
          },
          "yaxis": {
           "automargin": true,
           "gridcolor": "white",
           "linecolor": "white",
           "ticks": "",
           "title": {
            "standoff": 15
           },
           "zerolinecolor": "white",
           "zerolinewidth": 2
          }
         }
        },
        "title": {
         "text": "Conf Matrix"
        },
        "width": 800,
        "xaxis": {
         "title": {
          "text": "Predicted value"
         }
        },
        "yaxis": {
         "title": {
          "text": "Real value"
         }
        }
       }
      }
     },
     "metadata": {},
     "output_type": "display_data"
    }
   ],
   "source": [
    "#Vamos a replicar el resultado de la optimizacion reentrenando el modelo con el mejor conjunto de hiperparametros\n",
    "#Generamos parametros incluyendo los fijos y la mejor solución que encontro optuna\n",
    "lgb_params =  {      \n",
    "                        'objective': 'multiclass',\n",
    "                        'verbosity':-1,\n",
    "                        'num_class': len(y_train.unique())} | study.best_params\n",
    "\n",
    "lgb_train_dataset = lgb.Dataset(data=X_train,\n",
    "                                label=y_train)\n",
    "\n",
    "\n",
    "#Entreno\n",
    "lgb_model2 = lgb.train(lgb_params,\n",
    "                    lgb_train_dataset)\n",
    "\n",
    "#Muestro matriz de confusion y kappa\n",
    "print(cohen_kappa_score(y_test,lgb_model2.predict(X_test).argmax(axis=1),\n",
    "                             weights = 'quadratic'))\n",
    "\n",
    "display(plot_confusion_matrix(y_test,lgb_model2.predict(X_test).argmax(axis=1)))\n",
    "\n"
   ]
  },
  {
   "cell_type": "markdown",
   "id": "52853014",
   "metadata": {},
   "source": [
    "## Modelo con optimizacion de hiperparametros con 5 Fold Cross Validation"
   ]
  },
  {
   "cell_type": "code",
   "execution_count": 13,
   "id": "1f79d12c",
   "metadata": {},
   "outputs": [],
   "source": [
    "from optuna.artifacts import FileSystemArtifactStore, upload_artifact\n",
    "from sklearn.metrics import cohen_kappa_score\n",
    "from sklearn.model_selection import StratifiedKFold\n",
    "import lightgbm as lgb\n",
    "import numpy as np\n",
    "import os\n",
    "from joblib import dump\n",
    "import matplotlib.pyplot as plt\n",
    "from sklearn.metrics import confusion_matrix, ConfusionMatrixDisplay\n",
    "\n",
    "def lgb_custom_metric_kappa(dy_pred, dy_true):\n",
    "    metric_name = 'kappa'\n",
    "    value = cohen_kappa_score(dy_true.get_label(), dy_pred.argmax(axis=1), weights='quadratic')\n",
    "    is_higher_better = True\n",
    "    return (metric_name, value, is_higher_better)\n",
    "\n",
    "def cv_es_lgb_objective(trial):\n",
    "    \n",
    "    # Inicio el store de artefactos (archivos) de Optuna\n",
    "    artifact_store = FileSystemArtifactStore(base_path=PATH_TO_OPTUNA_ARTIFACTS)\n",
    "\n",
    "    # Hiperparámetros a optimizar\n",
    "    lgb_params = {\n",
    "        'objective': 'multiclass',\n",
    "        'verbosity': -1,\n",
    "        'num_class': len(y_train.unique()),\n",
    "        'lambda_l1': trial.suggest_float('lambda_l1', 1e-8, 10.0, log=True),\n",
    "        'lambda_l2': trial.suggest_float('lambda_l2', 1e-8, 10.0, log=True),\n",
    "        'num_leaves': trial.suggest_int('num_leaves', 2, 256),\n",
    "        'feature_fraction': trial.suggest_float('feature_fraction', 0.4, 1.0),\n",
    "        'bagging_fraction': trial.suggest_float('bagging_fraction', 0.4, 1.0),\n",
    "        'bagging_freq': trial.suggest_int('bagging_freq', 1, 7),\n",
    "        'min_child_samples': trial.suggest_int('min_child_samples', 5, 100),\n",
    "        'n_jobs': -1\n",
    "    }\n",
    "    \n",
    "    scores_ensemble = np.zeros((len(y_test), len(y_train.unique())))\n",
    "    score_folds = 0\n",
    "    n_splits = 5\n",
    "    skf = StratifiedKFold(n_splits=n_splits)\n",
    "\n",
    "    for i, (if_index, oof_index) in enumerate(skf.split(X_train, y_train)):\n",
    "\n",
    "        lgb_if_dataset = lgb.Dataset(data=X_train.iloc[if_index],\n",
    "                                     label=y_train.iloc[if_index],\n",
    "                                     free_raw_data=False)\n",
    "        \n",
    "        lgb_oof_dataset = lgb.Dataset(data=X_train.iloc[oof_index],\n",
    "                                      label=y_train.iloc[oof_index],\n",
    "                                      free_raw_data=False)\n",
    "                \n",
    "        lgb_model3 = lgb.train(\n",
    "            lgb_params,\n",
    "            lgb_if_dataset,\n",
    "            valid_sets=lgb_oof_dataset,\n",
    "            callbacks=[lgb.early_stopping(10, verbose=False)],\n",
    "            feval=lgb_custom_metric_kappa\n",
    "        )\n",
    "        \n",
    "        scores_ensemble += lgb_model3.predict(X_test)\n",
    "\n",
    "        score_folds += cohen_kappa_score(\n",
    "            y_train.iloc[oof_index],\n",
    "            lgb_model3.predict(X_train.iloc[oof_index]).argmax(axis=1),\n",
    "            weights='quadratic'\n",
    "        ) / n_splits\n",
    "    \n",
    "    # Guardar predicciones sobre test\n",
    "    predicted_filename = os.path.join(PATH_TO_TEMP_FILES, f'test_{trial.study.study_name}_{trial.number}.joblib')\n",
    "    predicted_df = test.copy()\n",
    "    predicted_df['pred'] = [scores_ensemble[p, :] for p in range(scores_ensemble.shape[0])]\n",
    "    dump(predicted_df, predicted_filename)\n",
    "\n",
    "    # Uso keyword arguments en upload_artifact. Asociar las predicciones como artefacto.\n",
    "    upload_artifact(\n",
    "        study_or_trial=trial,\n",
    "        file_path=predicted_filename,\n",
    "        artifact_store=artifact_store\n",
    "    )\n",
    "\n",
    "    # Generar nombre de archivo (¡esto es un string, no lo pises!)\n",
    "    cm_filename = os.path.join(PATH_TO_TEMP_FILES, f'cm_{trial.study.study_name}_{trial.number}.jpg')\n",
    "\n",
    "    # Crear y guardar matriz de confusión\n",
    "    cm = confusion_matrix(y_test, scores_ensemble.argmax(axis=1))\n",
    "    disp = ConfusionMatrixDisplay(cm)\n",
    "    disp.plot()\n",
    "    plt.savefig(cm_filename)\n",
    "    plt.close()\n",
    "\n",
    "    # Uso keyword arguments en upload_artifact. Asociar la imagen como artefacto\n",
    "    upload_artifact(\n",
    "        study_or_trial=trial,\n",
    "        file_path=cm_filename,\n",
    "        artifact_store=artifact_store\n",
    "    )\n",
    "    \n",
    "    # Guardar el score en test como métrica auxiliar\n",
    "    test_score = cohen_kappa_score(y_test, scores_ensemble.argmax(axis=1), weights='quadratic')\n",
    "    trial.set_user_attr(\"test_score\", test_score)\n",
    "\n",
    "    # Devuelvo el promedio de los scores del CV (objetivo a maximizar)\n",
    "    return score_folds"
   ]
  },
  {
   "cell_type": "code",
   "execution_count": null,
   "id": "44742181",
   "metadata": {},
   "outputs": [
    {
     "name": "stderr",
     "output_type": "stream",
     "text": [
      "[I 2025-05-03 19:28:57,090] A new study created in RDB with name: 100_LGBM_FE_JM_50_CV\n",
      "[I 2025-05-03 19:29:02,778] Trial 0 finished with value: 0.34841445682440403 and parameters: {'lambda_l1': 0.0016377712111718026, 'lambda_l2': 0.0031566890137076794, 'num_leaves': 77, 'feature_fraction': 0.6406227909714777, 'bagging_fraction': 0.7551464573768089, 'bagging_freq': 7, 'min_child_samples': 64}. Best is trial 0 with value: 0.34841445682440403.\n",
      "[I 2025-05-03 19:29:07,906] Trial 1 finished with value: 0.345014231078601 and parameters: {'lambda_l1': 5.812065777189767e-08, 'lambda_l2': 0.026155764301991947, 'num_leaves': 85, 'feature_fraction': 0.7115322141699443, 'bagging_fraction': 0.8296848732957542, 'bagging_freq': 5, 'min_child_samples': 71}. Best is trial 0 with value: 0.34841445682440403.\n",
      "[I 2025-05-03 19:29:13,760] Trial 2 finished with value: 0.3546527547634183 and parameters: {'lambda_l1': 0.007675698970976356, 'lambda_l2': 0.02130800263318884, 'num_leaves': 96, 'feature_fraction': 0.7663885853867247, 'bagging_fraction': 0.8527565246938871, 'bagging_freq': 3, 'min_child_samples': 19}. Best is trial 2 with value: 0.3546527547634183.\n",
      "[I 2025-05-03 19:29:19,192] Trial 3 finished with value: 0.3501934381205432 and parameters: {'lambda_l1': 0.004112248978818435, 'lambda_l2': 5.302996535949614e-06, 'num_leaves': 214, 'feature_fraction': 0.8731101880728387, 'bagging_fraction': 0.555745219948352, 'bagging_freq': 2, 'min_child_samples': 75}. Best is trial 2 with value: 0.3546527547634183.\n",
      "[I 2025-05-03 19:29:24,637] Trial 4 finished with value: 0.3512106110034523 and parameters: {'lambda_l1': 3.623202756203594e-06, 'lambda_l2': 4.042706589904213, 'num_leaves': 100, 'feature_fraction': 0.9383472471086604, 'bagging_fraction': 0.7539208630384591, 'bagging_freq': 2, 'min_child_samples': 75}. Best is trial 2 with value: 0.3546527547634183.\n",
      "[I 2025-05-03 19:29:29,527] Trial 5 finished with value: 0.3505290398111783 and parameters: {'lambda_l1': 5.61717444384303e-05, 'lambda_l2': 4.842159166441592e-05, 'num_leaves': 21, 'feature_fraction': 0.8183688553117334, 'bagging_fraction': 0.8094410475355207, 'bagging_freq': 6, 'min_child_samples': 41}. Best is trial 2 with value: 0.3546527547634183.\n",
      "[I 2025-05-03 19:29:34,965] Trial 6 finished with value: 0.3395042591057187 and parameters: {'lambda_l1': 0.11477491659325838, 'lambda_l2': 0.056603897998690714, 'num_leaves': 240, 'feature_fraction': 0.7090168599087794, 'bagging_fraction': 0.6599505447063745, 'bagging_freq': 7, 'min_child_samples': 64}. Best is trial 2 with value: 0.3546527547634183.\n",
      "[I 2025-05-03 19:29:41,436] Trial 7 finished with value: 0.3526333150920915 and parameters: {'lambda_l1': 0.021362845372454906, 'lambda_l2': 3.486476641044072e-05, 'num_leaves': 165, 'feature_fraction': 0.4142516743805759, 'bagging_fraction': 0.7632010124927613, 'bagging_freq': 2, 'min_child_samples': 54}. Best is trial 2 with value: 0.3546527547634183.\n",
      "[I 2025-05-03 19:29:47,080] Trial 8 finished with value: 0.3461078485275722 and parameters: {'lambda_l1': 0.0164543615164325, 'lambda_l2': 2.9422023148190407e-06, 'num_leaves': 72, 'feature_fraction': 0.4351693526146274, 'bagging_fraction': 0.45177132301557466, 'bagging_freq': 3, 'min_child_samples': 46}. Best is trial 2 with value: 0.3546527547634183.\n",
      "[I 2025-05-03 19:29:52,359] Trial 9 finished with value: 0.3529283923257713 and parameters: {'lambda_l1': 4.21343232016871e-05, 'lambda_l2': 0.7494970190145526, 'num_leaves': 18, 'feature_fraction': 0.547970972449596, 'bagging_fraction': 0.7319471738316221, 'bagging_freq': 7, 'min_child_samples': 29}. Best is trial 2 with value: 0.3546527547634183.\n",
      "[I 2025-05-03 19:30:01,151] Trial 10 finished with value: 0.34704876863823386 and parameters: {'lambda_l1': 2.425131716186741, 'lambda_l2': 3.5795840518447625e-08, 'num_leaves': 154, 'feature_fraction': 0.9980594768039157, 'bagging_fraction': 0.9901314867966432, 'bagging_freq': 4, 'min_child_samples': 6}. Best is trial 2 with value: 0.3546527547634183.\n",
      "[I 2025-05-03 19:30:06,289] Trial 11 finished with value: 0.3483718965320966 and parameters: {'lambda_l1': 2.5435403927958704e-05, 'lambda_l2': 3.7083669814941747, 'num_leaves': 12, 'feature_fraction': 0.5710464795552743, 'bagging_fraction': 0.9561338276555263, 'bagging_freq': 4, 'min_child_samples': 21}. Best is trial 2 with value: 0.3546527547634183.\n",
      "[I 2025-05-03 19:30:12,336] Trial 12 finished with value: 0.35856560554861067 and parameters: {'lambda_l1': 5.177778921817035e-07, 'lambda_l2': 0.19096184529679053, 'num_leaves': 23, 'feature_fraction': 0.5237284609632903, 'bagging_fraction': 0.9064704361682974, 'bagging_freq': 1, 'min_child_samples': 96}. Best is trial 12 with value: 0.35856560554861067.\n",
      "[I 2025-05-03 19:30:17,394] Trial 13 finished with value: 0.3473047240741399 and parameters: {'lambda_l1': 3.852144028083662e-08, 'lambda_l2': 0.001990977585423741, 'num_leaves': 53, 'feature_fraction': 0.7935239457274749, 'bagging_fraction': 0.8964845616868156, 'bagging_freq': 1, 'min_child_samples': 91}. Best is trial 12 with value: 0.35856560554861067.\n",
      "[I 2025-05-03 19:30:22,738] Trial 14 finished with value: 0.3530009029428947 and parameters: {'lambda_l1': 9.377022518579377e-07, 'lambda_l2': 0.0757853444836082, 'num_leaves': 143, 'feature_fraction': 0.5222634916306325, 'bagging_fraction': 0.906108643348681, 'bagging_freq': 1, 'min_child_samples': 97}. Best is trial 12 with value: 0.35856560554861067.\n",
      "[I 2025-05-03 19:30:29,538] Trial 15 finished with value: 0.3571315055423805 and parameters: {'lambda_l1': 1.20571105280729, 'lambda_l2': 0.23456494383913276, 'num_leaves': 125, 'feature_fraction': 0.6534781864374017, 'bagging_fraction': 0.8717890990207746, 'bagging_freq': 3, 'min_child_samples': 10}. Best is trial 12 with value: 0.35856560554861067.\n",
      "[I 2025-05-03 19:30:33,405] Trial 16 finished with value: 0.3439291334171517 and parameters: {'lambda_l1': 0.21931321220344765, 'lambda_l2': 0.45446509826177944, 'num_leaves': 191, 'feature_fraction': 0.6443934227100317, 'bagging_fraction': 0.5917845245231981, 'bagging_freq': 3, 'min_child_samples': 88}. Best is trial 12 with value: 0.35856560554861067.\n",
      "[I 2025-05-03 19:30:40,864] Trial 17 finished with value: 0.3522528238751683 and parameters: {'lambda_l1': 2.9800062448205815, 'lambda_l2': 0.0007731658300166482, 'num_leaves': 123, 'feature_fraction': 0.47398175807462833, 'bagging_fraction': 0.9055362292701143, 'bagging_freq': 1, 'min_child_samples': 10}. Best is trial 12 with value: 0.35856560554861067.\n",
      "[I 2025-05-03 19:30:46,504] Trial 18 finished with value: 0.3576319549996546 and parameters: {'lambda_l1': 1.010339117605726e-08, 'lambda_l2': 0.35894945800234146, 'num_leaves': 44, 'feature_fraction': 0.6061309100196266, 'bagging_fraction': 0.9958924308062393, 'bagging_freq': 5, 'min_child_samples': 32}. Best is trial 12 with value: 0.35856560554861067.\n",
      "[I 2025-05-03 19:30:52,252] Trial 19 finished with value: 0.35743080921862147 and parameters: {'lambda_l1': 1.2111964696224878e-08, 'lambda_l2': 9.949055065823934, 'num_leaves': 44, 'feature_fraction': 0.5760100052729258, 'bagging_fraction': 0.9927570246680757, 'bagging_freq': 5, 'min_child_samples': 36}. Best is trial 12 with value: 0.35856560554861067.\n",
      "[I 2025-05-03 19:30:58,284] Trial 20 finished with value: 0.3561200813766183 and parameters: {'lambda_l1': 4.0345470409282194e-07, 'lambda_l2': 0.006187336938241517, 'num_leaves': 47, 'feature_fraction': 0.4945911166977389, 'bagging_fraction': 0.9371938633490147, 'bagging_freq': 5, 'min_child_samples': 55}. Best is trial 12 with value: 0.35856560554861067.\n",
      "[I 2025-05-03 19:31:04,307] Trial 21 finished with value: 0.3519185626284617 and parameters: {'lambda_l1': 1.920429590852634e-08, 'lambda_l2': 7.94054294044599, 'num_leaves': 42, 'feature_fraction': 0.5942996408934689, 'bagging_fraction': 0.9820606825296831, 'bagging_freq': 5, 'min_child_samples': 34}. Best is trial 12 with value: 0.35856560554861067.\n",
      "[I 2025-05-03 19:31:05,921] Trial 22 finished with value: 0.1957083995620724 and parameters: {'lambda_l1': 2.0822833377215044e-07, 'lambda_l2': 1.1639179978483152, 'num_leaves': 2, 'feature_fraction': 0.5929674425454615, 'bagging_fraction': 0.9947330162011239, 'bagging_freq': 6, 'min_child_samples': 34}. Best is trial 12 with value: 0.35856560554861067.\n",
      "[I 2025-05-03 19:31:11,426] Trial 23 finished with value: 0.35706270421868347 and parameters: {'lambda_l1': 1.4500585018959878e-08, 'lambda_l2': 0.22284879612448746, 'num_leaves': 42, 'feature_fraction': 0.4623191831939895, 'bagging_fraction': 0.9395679298672425, 'bagging_freq': 6, 'min_child_samples': 44}. Best is trial 12 with value: 0.35856560554861067.\n",
      "[I 2025-05-03 19:31:17,604] Trial 24 finished with value: 0.3610685949633456 and parameters: {'lambda_l1': 2.956994127932041e-06, 'lambda_l2': 1.836030222899822, 'num_leaves': 32, 'feature_fraction': 0.5127741645426787, 'bagging_fraction': 0.9978986772806566, 'bagging_freq': 5, 'min_child_samples': 25}. Best is trial 24 with value: 0.3610685949633456.\n",
      "[I 2025-05-03 19:31:24,146] Trial 25 finished with value: 0.35305565532267713 and parameters: {'lambda_l1': 3.886970055144992e-06, 'lambda_l2': 1.5022864221555787, 'num_leaves': 67, 'feature_fraction': 0.49937697401641407, 'bagging_fraction': 0.8136940448835814, 'bagging_freq': 4, 'min_child_samples': 23}. Best is trial 24 with value: 0.3610685949633456.\n",
      "[I 2025-05-03 19:31:29,682] Trial 26 finished with value: 0.3564179957137661 and parameters: {'lambda_l1': 3.2275563189852107e-06, 'lambda_l2': 0.012394338017999924, 'num_leaves': 29, 'feature_fraction': 0.533008000884239, 'bagging_fraction': 0.9297068331153562, 'bagging_freq': 4, 'min_child_samples': 16}. Best is trial 24 with value: 0.3610685949633456.\n",
      "[I 2025-05-03 19:31:35,115] Trial 27 finished with value: 0.3461858518282732 and parameters: {'lambda_l1': 1.673811434986479e-07, 'lambda_l2': 0.10872729918992247, 'num_leaves': 106, 'feature_fraction': 0.6270378802186758, 'bagging_fraction': 0.6618896281421046, 'bagging_freq': 6, 'min_child_samples': 28}. Best is trial 24 with value: 0.3610685949633456.\n",
      "[I 2025-05-03 19:31:40,222] Trial 28 finished with value: 0.35938498827154675 and parameters: {'lambda_l1': 0.0002078898012352715, 'lambda_l2': 0.00011618908774956985, 'num_leaves': 62, 'feature_fraction': 0.6866683734565824, 'bagging_fraction': 0.8697193507758687, 'bagging_freq': 5, 'min_child_samples': 49}. Best is trial 24 with value: 0.3610685949633456.\n",
      "[I 2025-05-03 19:31:45,408] Trial 29 finished with value: 0.3530100032369624 and parameters: {'lambda_l1': 0.00040202087863094383, 'lambda_l2': 0.00019059074281206354, 'num_leaves': 73, 'feature_fraction': 0.6870013438967711, 'bagging_fraction': 0.7895485870163379, 'bagging_freq': 4, 'min_child_samples': 61}. Best is trial 24 with value: 0.3610685949633456.\n",
      "[I 2025-05-03 19:31:50,973] Trial 30 finished with value: 0.350706226669201 and parameters: {'lambda_l1': 0.0004267695570741873, 'lambda_l2': 3.946075734682156e-07, 'num_leaves': 64, 'feature_fraction': 0.7567954062634703, 'bagging_fraction': 0.8605799676404995, 'bagging_freq': 6, 'min_child_samples': 83}. Best is trial 24 with value: 0.3610685949633456.\n",
      "[I 2025-05-03 19:31:55,218] Trial 31 finished with value: 0.3462212815327572 and parameters: {'lambda_l1': 1.3581748005168387e-05, 'lambda_l2': 0.00022755464605153812, 'num_leaves': 27, 'feature_fraction': 0.622294178223178, 'bagging_fraction': 0.9525251823122509, 'bagging_freq': 5, 'min_child_samples': 51}. Best is trial 24 with value: 0.3610685949633456.\n",
      "[I 2025-05-03 19:32:00,954] Trial 32 finished with value: 0.3436246641788887 and parameters: {'lambda_l1': 9.199935509541909e-07, 'lambda_l2': 0.0029112634398084864, 'num_leaves': 86, 'feature_fraction': 0.6743011173297542, 'bagging_fraction': 0.8839230582561479, 'bagging_freq': 5, 'min_child_samples': 27}. Best is trial 24 with value: 0.3610685949633456.\n",
      "[I 2025-05-03 19:32:06,233] Trial 33 finished with value: 0.35009582839378833 and parameters: {'lambda_l1': 1.2319182613901527e-07, 'lambda_l2': 0.028356502489544775, 'num_leaves': 31, 'feature_fraction': 0.5445459442054821, 'bagging_fraction': 0.8359285357463043, 'bagging_freq': 5, 'min_child_samples': 41}. Best is trial 24 with value: 0.3610685949633456.\n",
      "[I 2025-05-03 19:32:13,215] Trial 34 finished with value: 0.34802705964170644 and parameters: {'lambda_l1': 0.0001415264014465184, 'lambda_l2': 3.126851210149874e-05, 'num_leaves': 4, 'feature_fraction': 0.731392674665152, 'bagging_fraction': 0.9138257948926986, 'bagging_freq': 5, 'min_child_samples': 70}. Best is trial 24 with value: 0.3610685949633456.\n",
      "[I 2025-05-03 19:32:18,124] Trial 35 finished with value: 0.35715745503161206 and parameters: {'lambda_l1': 0.0014753548427560504, 'lambda_l2': 0.0007444916255071197, 'num_leaves': 58, 'feature_fraction': 0.6056945546214703, 'bagging_fraction': 0.9728167580268781, 'bagging_freq': 6, 'min_child_samples': 49}. Best is trial 24 with value: 0.3610685949633456.\n",
      "[I 2025-05-03 19:32:23,892] Trial 36 finished with value: 0.34539462551646094 and parameters: {'lambda_l1': 1.0176798600221724e-05, 'lambda_l2': 6.035346973522433e-06, 'num_leaves': 108, 'feature_fraction': 0.8613664268436793, 'bagging_fraction': 0.8525368556362878, 'bagging_freq': 4, 'min_child_samples': 59}. Best is trial 24 with value: 0.3610685949633456.\n",
      "[I 2025-05-03 19:32:29,143] Trial 37 finished with value: 0.35024817269881026 and parameters: {'lambda_l1': 1.1073924460825238e-06, 'lambda_l2': 2.0067489893628743, 'num_leaves': 35, 'feature_fraction': 0.45853919622232864, 'bagging_fraction': 0.952598074767784, 'bagging_freq': 7, 'min_child_samples': 38}. Best is trial 24 with value: 0.3610685949633456.\n",
      "[I 2025-05-03 19:32:35,482] Trial 38 finished with value: 0.34598218006397974 and parameters: {'lambda_l1': 7.177060600667383e-08, 'lambda_l2': 0.2723914772656065, 'num_leaves': 89, 'feature_fraction': 0.40566365300536245, 'bagging_fraction': 0.44377512989930556, 'bagging_freq': 2, 'min_child_samples': 68}. Best is trial 24 with value: 0.3610685949633456.\n",
      "[I 2025-05-03 19:32:41,004] Trial 39 finished with value: 0.3563517017500278 and parameters: {'lambda_l1': 4.062536799356162e-06, 'lambda_l2': 0.01601681893999409, 'num_leaves': 17, 'feature_fraction': 0.5011036475394276, 'bagging_fraction': 0.780559022690404, 'bagging_freq': 3, 'min_child_samples': 79}. Best is trial 24 with value: 0.3610685949633456.\n",
      "[I 2025-05-03 19:32:45,936] Trial 40 finished with value: 0.3587530139734305 and parameters: {'lambda_l1': 9.208151776162433e-05, 'lambda_l2': 6.716665089189443e-05, 'num_leaves': 58, 'feature_fraction': 0.6677905474890546, 'bagging_fraction': 0.7304990363067428, 'bagging_freq': 5, 'min_child_samples': 32}. Best is trial 24 with value: 0.3610685949633456.\n",
      "[I 2025-05-03 19:32:50,193] Trial 41 finished with value: 0.3405314870570512 and parameters: {'lambda_l1': 0.000123795153440083, 'lambda_l2': 8.895204197684625e-05, 'num_leaves': 58, 'feature_fraction': 0.7338116967306452, 'bagging_fraction': 0.5730007424499036, 'bagging_freq': 5, 'min_child_samples': 17}. Best is trial 24 with value: 0.3610685949633456.\n",
      "[I 2025-05-03 19:32:55,688] Trial 42 finished with value: 0.3536039562241052 and parameters: {'lambda_l1': 0.0012495069709617405, 'lambda_l2': 1.254160045079735e-05, 'num_leaves': 82, 'feature_fraction': 0.671577531136894, 'bagging_fraction': 0.7091312526437001, 'bagging_freq': 6, 'min_child_samples': 30}. Best is trial 24 with value: 0.3610685949633456.\n",
      "[I 2025-05-03 19:33:00,537] Trial 43 finished with value: 0.35162140052156515 and parameters: {'lambda_l1': 0.00417680346843255, 'lambda_l2': 0.0006285231288174351, 'num_leaves': 16, 'feature_fraction': 0.5598332862631806, 'bagging_fraction': 0.4953637779183837, 'bagging_freq': 4, 'min_child_samples': 45}. Best is trial 24 with value: 0.3610685949633456.\n",
      "[I 2025-05-03 19:33:08,331] Trial 44 finished with value: 0.33635846518328516 and parameters: {'lambda_l1': 0.00011846942714566126, 'lambda_l2': 6.108338048525805e-07, 'num_leaves': 245, 'feature_fraction': 0.6552604131086198, 'bagging_fraction': 0.8247602887700669, 'bagging_freq': 5, 'min_child_samples': 23}. Best is trial 24 with value: 0.3610685949633456.\n",
      "[I 2025-05-03 19:33:14,523] Trial 45 finished with value: 0.35623847883656 and parameters: {'lambda_l1': 1.5790329723510952e-05, 'lambda_l2': 8.529500291922237e-05, 'num_leaves': 53, 'feature_fraction': 0.7142275764056857, 'bagging_fraction': 0.6422277827261065, 'bagging_freq': 5, 'min_child_samples': 39}. Best is trial 24 with value: 0.3610685949633456.\n",
      "[I 2025-05-03 19:33:20,839] Trial 46 finished with value: 0.3488630103151035 and parameters: {'lambda_l1': 4.556542358935829e-05, 'lambda_l2': 7.98075392848498e-07, 'num_leaves': 73, 'feature_fraction': 0.7892897766487112, 'bagging_fraction': 0.7326058583476812, 'bagging_freq': 5, 'min_child_samples': 31}. Best is trial 24 with value: 0.3610685949633456.\n",
      "[I 2025-05-03 19:33:25,809] Trial 47 finished with value: 0.3448778293963625 and parameters: {'lambda_l1': 4.140878145365103e-07, 'lambda_l2': 1.8366092809876456e-05, 'num_leaves': 35, 'feature_fraction': 0.4364180319871532, 'bagging_fraction': 0.40642805035668267, 'bagging_freq': 4, 'min_child_samples': 14}. Best is trial 24 with value: 0.3610685949633456.\n",
      "[I 2025-05-03 19:33:32,410] Trial 48 finished with value: 0.34889460655419036 and parameters: {'lambda_l1': 4.0147430562503887e-08, 'lambda_l2': 0.07721766295526022, 'num_leaves': 180, 'feature_fraction': 0.5255779569536613, 'bagging_fraction': 0.8836167834059206, 'bagging_freq': 2, 'min_child_samples': 21}. Best is trial 24 with value: 0.3610685949633456.\n",
      "[I 2025-05-03 19:33:37,799] Trial 49 finished with value: 0.352622563681551 and parameters: {'lambda_l1': 0.01815572230104882, 'lambda_l2': 3.739180495096922, 'num_leaves': 97, 'feature_fraction': 0.6197072928732081, 'bagging_fraction': 0.9185512938276527, 'bagging_freq': 6, 'min_child_samples': 98}. Best is trial 24 with value: 0.3610685949633456.\n"
     ]
    }
   ],
   "source": [
    "import optuna\n",
    "\n",
    "#Genero estudio\n",
    "study = optuna.create_study(direction='maximize',\n",
    "                            storage=\"sqlite:///../work/db_100_LGBM_FE_JM_50.sqlite3\",\n",
    "                            study_name=\"100_LGBM_FE_JM_50_CV\",\n",
    "                            load_if_exists = True)\n",
    "\n",
    "#Corro la optimizacion\n",
    "study.optimize(cv_es_lgb_objective, n_trials=50)"
   ]
  },
  {
   "cell_type": "markdown",
   "id": "4a0a5d3b",
   "metadata": {},
   "source": [
    "## LGBM Importance Futures"
   ]
  },
  {
   "cell_type": "code",
   "execution_count": 15,
   "id": "1100ce90",
   "metadata": {},
   "outputs": [
    {
     "data": {
      "image/png": "[encoded data removed]",
      "text/plain": [
       "<Figure size 1000x600 with 1 Axes>"
      ]
     },
     "metadata": {},
     "output_type": "display_data"
    },
    {
     "data": {
      "image/png": "[encoded data removed]",
      "text/plain": [
       "<Figure size 1000x600 with 1 Axes>"
      ]
     },
     "metadata": {},
     "output_type": "display_data"
    },
    {
     "data": {
      "image/png": "[encoded data removed]",
      "text/plain": [
       "<Figure size 1000x600 with 1 Axes>"
      ]
     },
     "metadata": {},
     "output_type": "display_data"
    },
    {
     "data": {
      "image/png": "[encoded data removed]",
      "text/plain": [
       "<Figure size 1150x660 with 5 Axes>"
      ]
     },
     "metadata": {},
     "output_type": "display_data"
    }
   ],
   "source": [
    "import lightgbm as lgb\n",
    "import shap\n",
    "import matplotlib.pyplot as plt\n",
    "from sklearn.inspection import permutation_importance\n",
    "import numpy as np\n",
    "\n",
    "features = np.array(features)\n",
    "model= lgb_model2\n",
    "\n",
    "# --------------------\n",
    "# 1. Feature Importance basada en GAIN\n",
    "# --------------------\n",
    "importances_gain = model.feature_importance(importance_type='gain')\n",
    "sorted_idx_gain = importances_gain.argsort()[::-1]\n",
    "\n",
    "plt.figure(figsize=(10,6))\n",
    "plt.barh(features[sorted_idx_gain], importances_gain[sorted_idx_gain])\n",
    "plt.xlabel('Importancia (GAIN)')\n",
    "plt.title('Feature Importance basada en GAIN')\n",
    "plt.gca().invert_yaxis()\n",
    "plt.show()\n",
    "\n",
    "# --------------------\n",
    "# 2. Feature Importance basada en SPLIT\n",
    "# --------------------\n",
    "importances_split = model.feature_importance(importance_type='split')\n",
    "sorted_idx_split = importances_split.argsort()[::-1]\n",
    "\n",
    "plt.figure(figsize=(10,6))\n",
    "plt.barh(features[sorted_idx_split], importances_split[sorted_idx_split])\n",
    "plt.xlabel('Importancia (SPLIT)')\n",
    "plt.title('Feature Importance basada en SPLIT')\n",
    "plt.gca().invert_yaxis()\n",
    "plt.show()\n",
    "\n",
    "# --------------------\n",
    "# 3. Permutation Importance\n",
    "# --------------------\n",
    "# Para permutation necesitamos un modelo tipo sklearn, armamos uno rápido\n",
    "model_sklearn = lgb.LGBMClassifier(boosting_type='gbdt')\n",
    "model_sklearn.fit(X_train, y_train)\n",
    "\n",
    "perm_result = permutation_importance(model_sklearn, X_test, y_test, n_repeats=10, random_state=42, scoring='accuracy')\n",
    "sorted_idx_perm = perm_result.importances_mean.argsort()\n",
    "\n",
    "plt.figure(figsize=(10,6))\n",
    "plt.barh(features[sorted_idx_perm], perm_result.importances_mean[sorted_idx_perm])\n",
    "plt.xlabel('Impacto en Accuracy')\n",
    "plt.title('Permutation Importance')\n",
    "plt.gca().invert_yaxis()\n",
    "plt.show()\n",
    "\n",
    "# --------------------\n",
    "# 4. SHAP Values\n",
    "# --------------------\n",
    "explainer = shap.TreeExplainer(model)\n",
    "shap_values = explainer.shap_values(X_test)\n",
    "\n",
    "# Graficar importancia promedio\n",
    "shap.summary_plot(shap_values, X_test, feature_names=features, plot_type=\"dot\")"
   ]
  }
 ],
 "metadata": {
  "kernelspec": {
   "display_name": "ldi2",
   "language": "python",
   "name": "python3"
  },
  "language_info": {
   "codemirror_mode": {
    "name": "ipython",
    "version": 3
   },
   "file_extension": ".py",
   "mimetype": "text/x-python",
   "name": "python",
   "nbconvert_exporter": "python",
   "pygments_lexer": "ipython3",
   "version": "3.13.2"
  }
 },
 "nbformat": 4,
 "nbformat_minor": 5
}
