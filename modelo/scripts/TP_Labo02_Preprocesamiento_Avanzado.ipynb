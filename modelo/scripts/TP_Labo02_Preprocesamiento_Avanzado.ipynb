{
 "cells": [
  {
   "cell_type": "markdown",
   "metadata": {},
   "source": [
    "# TP Laboratorio de Implementación 2 - Preprocesamiento Avanzado"
   ]
  },
  {
   "cell_type": "markdown",
   "metadata": {},
   "source": [
    "# PetFinder.my – Pre‑processing Notebook\n",
    "\n",
    "A continuación tienes un texto listo para copiar‑pegar en una celda Markdown del notebook (idealmente la primera, antes de cualquier código).\n",
    "Describe, paso a paso, los 10 bloques del cuaderno de pre‑procesamiento, de modo que cualquier lector entienda qué hace cada celda y por qué es necesaria.\n",
    "\n",
    "⸻\n",
    "\n",
    "## Guía de lectura del notebook de pre‑procesamiento (petfinder_preprocessing.ipynb)\n",
    "\n",
    "### Objetivo general\n",
    "\n",
    "Limpiar y transformar el archivo train.csv de la competencia PetFinder.my Adoption Prediction para que las variables queden listas para entrenar un modelo LightGBM, conservando la reproducibilidad del pipeline.\n",
    "\n",
    "|#\t|Bloque de código\t|¿Qué hace?\t|¿Por qué es importante?|\n",
    "|---|-------------------|-----------|-----------------------|\n",
    "|1\t|Encabezado Markdown\t|Presenta el título del notebook, la fecha de generación y una breve descripción del flujo de trabajo.\t|Documenta el propósito y la “foto” temporal del experimento; facilita la colaboración. |\n",
    "|2\t|Imports y configuración global\t|Carga las librerías (pandas, numpy, sklearn, joblib, etc.).- Define DATA_PATH con la ruta al archivo train.csv.\t|Centraliza dependencias y evita errores de importación dispersos. DATA_PATH es el único lugar que hay que tocar si cambias la ubicación del dataset.1 |\n",
    "|3\t|Carga de datos\t- Lee train.csv en un DataFrame.- Imprime la forma (filas × columnas).- Muestra las primeras 5 filas.\t|Verifica rápidamente que el archivo existe, se lee bien y las columnas lucen razonables antes de invertir tiempo en transformaciones. |\n",
    "|4\t|Inspección rápida (df.info)\t|Ejecuta df.info(show_counts=True) para listar:• Tipo de dato de cada columna.• Nº de valores no‑nulos.• Memoria usada.\t|Permite detectar columnas mal tipadas (p. ej. números que llegan como strings) y cuantificar valores faltantes, lo que influye en la estrategia de imputación. |\n",
    "|5\t|Identificación de columnas numéricas y categóricas\t|Crea numeric_cols con todas las columnas int64 / float64.- Crea categorical_cols con las columnas object.- Imprime ambas listas.\t|Estas listas alimentan el ColumnTransformer que aplicará pipelines distintos según el tipo de dato; evita “hard‑codear” nombres y mantiene el notebook genérico. |\n",
    "|6\t|Funciones globales picklables\t|Define dos funciones:• numeric_clip_log → log1p a Fee + clipping de Age a 120 meses.• cat_to_int → convierte cada categórica a códigos enteros (cat.codes).\t|Al estar a nivel de módulo, son serializables con joblib. Encapsulan reglas de negocio (sesgo de Fee, valores aberrantes en Age, codificación para LightGBM). |\n",
    "|7\t|Agrupador de categorías raras\t|Función rare_label_encoder + FunctionTransformer que:- Calcula la frecuencia relativa de cada categoría.- Reemplaza las que aparecen en < 1 % de los registros por \"__RARE__\".\t|Reduce cardinalidad y ruido, evita que LightGBM cree nodos con muy pocos ejemplos y mitiga overfitting. |\n",
    "|8\t|Construcción del ColumnTransformer (preprocessor) |numeric_pipeline: numeric_clip_log → imputación mediana + indicador de nulos.- categorical_pipeline: agrupador de raros → cat_to_int.- Combina ambos en preprocessor, descartando (remainder='drop') cualquier columna no listada.\t|Concentra todas las transformaciones en un objeto serializable y reproducible. El indicador de nulos permite que el modelo aprenda si “no informar” es informativo. |\n",
    "|9\t|Ajuste (fit) y transformación\t|fit_transform sobre todo el DataFrame.- Obtiene nombres de las columnas resultantes (get_feature_names_out).- Reconstruye processed_df con nombres legibles.- Muestra forma y primeras filas.\t|Verifica que la transformación funciona, que el número de columnas coincide con lo esperado y que no hay errores de tipado. |\n",
    "|10\t|Guardado de artefactos\t|Guarda processed_df en Parquet (train_preprocessed.parquet).- Serializa el preprocessor con joblib.dump() (preprocessor.joblib).\t|Parquet conserva tipos y es compacto; el pipeline serializado garantiza que las mismas reglas se apliquen a test.csv o a datos en producción, evitando inconsistencias. |\n",
    "\n",
    "\n",
    "\n",
    "⸻\n",
    "\n",
    "#### Notas adicionales\n",
    "- Si solo necesitas el dataset limpio para un experimento puntual, puedes omitir el joblib.dump().\n",
    "- Si vas a validar en K‑Fold, predecir sobre test.csv o desplegar en producción, mantén el pipeline: te ahorrará bugs de desalineación de medianas, categorías raras o cat.codes.\n",
    "- Para acelerar I/O en notebooks grandes, cambia CSV → Parquet/Feather y deja CSV solo para entregas manuales.\n",
    "\n",
    "Con esta guía insertada al inicio del cuaderno, cualquier persona (incluido tu “yo” del futuro) sabrá exactamente qué hace cada celda y podrá modificarla sin miedo.\n",
    "\n",
    "#### Cómo extender o modificar\n",
    "\n",
    "|Necesidad\t|Qué tocar |\n",
    "|-----------|----------|\n",
    "|Cambiar el umbral de rareza\t|threshold en rare_label_encoder (línea correspondiente). |\n",
    "|Usar media en vez de mediana\t|SimpleImputer(strategy='mean', add_indicator=True). |\n",
    "|Aplicar log1p a otra variable\t|Añadirla dentro de _transform en el bloque 6. |\n",
    "|Mantener columnas sin procesar\t|En ColumnTransformer, usa remainder='passthrough' en lugar de 'drop'. |\n",
    "|One‑hot en vez de cat.codes\t|Reemplazar cat_to_int por OneHotEncoder(handle_unknown='ignore'). |\n",
    "\n",
    "Con este desglose, cada bloque debería resultar claro y, sobre todo, fácil de adaptar a nuevas reglas de negocio o a cambios en el dataset."
   ]
  },
  {
   "cell_type": "code",
   "execution_count": null,
   "metadata": {},
   "outputs": [],
   "source": [
    "# pip install pingouin"
   ]
  },
  {
   "cell_type": "markdown",
   "metadata": {},
   "source": [
    "## Librerias y Funciones Definidas"
   ]
  },
  {
   "cell_type": "code",
   "execution_count": 1,
   "metadata": {},
   "outputs": [],
   "source": [
    "# Importamos libreriastioSpeed\n",
    "import os\n",
    "# os.environ[\"MKL_DEBUG_CPU_Vaccinated\"] = \"5\"\n",
    "# os.chdir('/Users/ri1965/Desktop/Maestria DS Austral 2024/11 - Labo 02/petfinder-adoption-prediction/train')\n",
    "\n",
    "# Carga de Librerias\n",
    "# Generales\n",
    "import numpy as np\n",
    "import pandas as pd\n",
    "import matplotlib.pyplot as plt\n",
    "import seaborn as sns\n",
    "\n",
    "# Procesamiento de palabras\n",
    "from wordcloud import WordCloud, STOPWORDS\n",
    "\n",
    "# Scipy\n",
    "import scipy.stats as stats\n",
    "from scipy.stats import shapiro, normaltest, anderson\n",
    "from scipy.stats import pearsonr\n",
    "from scipy.stats import spearmanr\n",
    "from scipy.stats import chi2_contingency\n",
    "from scipy.stats import kruskal\n",
    "\n",
    "# Statsmodels\n",
    "import statsmodels.api as sm\n",
    "from statsmodels.stats.diagnostic import het_breuschpagan\n",
    "from statsmodels.stats.stattools import durbin_watson\n",
    "import statsmodels.formula.api as smf\n",
    "\n",
    "# Pingouin\n",
    "import pingouin as pg"
   ]
  },
  {
   "cell_type": "code",
   "execution_count": 2,
   "metadata": {},
   "outputs": [
    {
     "name": "stderr",
     "output_type": "stream",
     "text": [
      "/opt/anaconda3/lib/python3.8/site-packages/outdated/utils.py:14: OutdatedPackageWarning: The package pingouin is out of date. Your version is 0.4.0, the latest is 0.5.5.\n",
      "Set the environment variable OUTDATED_IGNORE=1 to disable these warnings.\n",
      "  return warn(\n",
      "/opt/anaconda3/lib/python3.8/site-packages/outdated/utils.py:14: OutdatedPackageWarning: The package outdated is out of date. Your version is 0.2.1, the latest is 0.2.2.\n",
      "Set the environment variable OUTDATED_IGNORE=1 to disable these warnings.\n",
      "  return warn(\n"
     ]
    }
   ],
   "source": [
    "# Función para mostrar todos los gráficos de distribución para una variable\n",
    "def graficos_distribucion(df, variable):\n",
    "    plt.figure(figsize=(15, 4))\n",
    "\n",
    "    # Histograma + KDE\n",
    "    plt.subplot(1, 3, 1)\n",
    "    sns.histplot(df[variable], kde=True)\n",
    "    plt.title(f\"Histograma de {variable}\")\n",
    "    plt.xlabel(variable)\n",
    "    plt.ylabel(\"Frecuencia\")\n",
    "\n",
    "    # Boxplot\n",
    "    plt.subplot(1, 3, 2)\n",
    "    sns.boxplot(y=df[variable])\n",
    "    plt.title(f\"Boxplot de {variable}\")\n",
    "    plt.xlabel(variable)\n",
    "\n",
    "    # QQ Plot\n",
    "    plt.subplot(1, 3, 3)\n",
    "    stats.probplot(df[variable], dist=\"norm\", plot=plt)\n",
    "    plt.title(f\"QQ Plot de {variable}\")\n",
    "\n",
    "    plt.tight_layout()\n",
    "    plt.show()"
   ]
  },
  {
   "cell_type": "code",
   "execution_count": 3,
   "metadata": {},
   "outputs": [],
   "source": [
    "# Función para aplicar distintos tests de normalidad y graficar\n",
    "def analizar_normalidad(df, variable):\n",
    "    print(f\"\\n--- Normalidad para {variable} ---\")\n",
    "\n",
    "    # Shapiro-Wilk Test\n",
    "    stat, p = shapiro(df[variable])\n",
    "    print(f\"Shapiro-Wilk: W={stat:.4f}, p={p:.4f} {'-> No normal' if p < 0.05 else '-> Normal'}\")\n",
    "    \n",
    "    # D'Agostino and Pearson's test\n",
    "    stat, p = normaltest(df[variable])\n",
    "    print(f\"D’Agostino-Pearson: stat={stat:.4f}, p={p:.4f} {'-> No normal' if p < 0.05 else '-> Normal'}\")\n",
    "\n",
    "    # Anderson-Darling Test\n",
    "    result = anderson(df[variable])\n",
    "    print(f\"Anderson-Darling: A={result.statistic:.4f}\")\n",
    "    for i in range(len(result.critical_values)):\n",
    "        sig = result.significance_level[i]\n",
    "        crit = result.critical_values[i]\n",
    "        print(f\"  Nivel {sig}%: crítico={crit:.4f} {'-> No normal' if result.statistic > crit else '-> Normal'}\")\n"
   ]
  },
  {
   "cell_type": "code",
   "execution_count": 4,
   "metadata": {},
   "outputs": [],
   "source": [
    "def numeric_clip_log(X: pd.DataFrame) -> pd.DataFrame:\n",
    "    \"\"\"Aplica log1p a Fee y recorta Age a 120 meses.\"\"\"\n",
    "    X = X.copy()\n",
    "    if 'Fee' in X.columns:\n",
    "        X['Fee'] = np.log1p(X['Fee'])\n",
    "    if 'Age' in X.columns:\n",
    "        X['Age'] = X['Age'].clip(upper=120)\n",
    "    return X\n",
    "\n",
    "def cat_to_int(X: pd.DataFrame) -> pd.DataFrame:\n",
    "    \"\"\"Convierte cada columna categórica a códigos enteros consecutivos.\"\"\"\n",
    "    return X.apply(lambda col: col.astype('category').cat.codes)"
   ]
  },
  {
   "cell_type": "markdown",
   "metadata": {},
   "source": [
    "## Carga de Datos"
   ]
  },
  {
   "cell_type": "code",
   "execution_count": 5,
   "metadata": {},
   "outputs": [],
   "source": [
    "# Carga de .csv\n",
    "df = pd.read_csv('train.csv')\n",
    "df_breed_labels = pd.read_csv('breed_labels.csv')\n",
    "df_color_labels = pd.read_csv('color_labels.csv')\n",
    "df_state_labels = pd.read_csv('state_labels.csv')\n"
   ]
  },
  {
   "cell_type": "code",
   "execution_count": 6,
   "metadata": {},
   "outputs": [
    {
     "data": {
      "text/html": [
       "<div>\n",
       "<style scoped>\n",
       "    .dataframe tbody tr th:only-of-type {\n",
       "        vertical-align: middle;\n",
       "    }\n",
       "\n",
       "    .dataframe tbody tr th {\n",
       "        vertical-align: top;\n",
       "    }\n",
       "\n",
       "    .dataframe thead th {\n",
       "        text-align: right;\n",
       "    }\n",
       "</style>\n",
       "<table border=\"1\" class=\"dataframe\">\n",
       "  <thead>\n",
       "    <tr style=\"text-align: right;\">\n",
       "      <th></th>\n",
       "      <th>Type</th>\n",
       "      <th>Name</th>\n",
       "      <th>Age</th>\n",
       "      <th>Breed1</th>\n",
       "      <th>Breed2</th>\n",
       "      <th>Gender</th>\n",
       "      <th>Color1</th>\n",
       "      <th>Color2</th>\n",
       "      <th>Color3</th>\n",
       "      <th>MaturitySize</th>\n",
       "      <th>...</th>\n",
       "      <th>Health</th>\n",
       "      <th>Quantity</th>\n",
       "      <th>Fee</th>\n",
       "      <th>State</th>\n",
       "      <th>RescuerID</th>\n",
       "      <th>VideoAmt</th>\n",
       "      <th>Description</th>\n",
       "      <th>PetID</th>\n",
       "      <th>PhotoAmt</th>\n",
       "      <th>AdoptionSpeed</th>\n",
       "    </tr>\n",
       "  </thead>\n",
       "  <tbody>\n",
       "    <tr>\n",
       "      <th>0</th>\n",
       "      <td>2</td>\n",
       "      <td>Nibble</td>\n",
       "      <td>3</td>\n",
       "      <td>299</td>\n",
       "      <td>0</td>\n",
       "      <td>1</td>\n",
       "      <td>1</td>\n",
       "      <td>7</td>\n",
       "      <td>0</td>\n",
       "      <td>1</td>\n",
       "      <td>...</td>\n",
       "      <td>1</td>\n",
       "      <td>1</td>\n",
       "      <td>100</td>\n",
       "      <td>41326</td>\n",
       "      <td>8480853f516546f6cf33aa88cd76c379</td>\n",
       "      <td>0</td>\n",
       "      <td>Nibble is a 3+ month old ball of cuteness. He ...</td>\n",
       "      <td>86e1089a3</td>\n",
       "      <td>1.0</td>\n",
       "      <td>2</td>\n",
       "    </tr>\n",
       "    <tr>\n",
       "      <th>1</th>\n",
       "      <td>2</td>\n",
       "      <td>No Name Yet</td>\n",
       "      <td>1</td>\n",
       "      <td>265</td>\n",
       "      <td>0</td>\n",
       "      <td>1</td>\n",
       "      <td>1</td>\n",
       "      <td>2</td>\n",
       "      <td>0</td>\n",
       "      <td>2</td>\n",
       "      <td>...</td>\n",
       "      <td>1</td>\n",
       "      <td>1</td>\n",
       "      <td>0</td>\n",
       "      <td>41401</td>\n",
       "      <td>3082c7125d8fb66f7dd4bff4192c8b14</td>\n",
       "      <td>0</td>\n",
       "      <td>I just found it alone yesterday near my apartm...</td>\n",
       "      <td>6296e909a</td>\n",
       "      <td>2.0</td>\n",
       "      <td>0</td>\n",
       "    </tr>\n",
       "    <tr>\n",
       "      <th>2</th>\n",
       "      <td>1</td>\n",
       "      <td>Brisco</td>\n",
       "      <td>1</td>\n",
       "      <td>307</td>\n",
       "      <td>0</td>\n",
       "      <td>1</td>\n",
       "      <td>2</td>\n",
       "      <td>7</td>\n",
       "      <td>0</td>\n",
       "      <td>2</td>\n",
       "      <td>...</td>\n",
       "      <td>1</td>\n",
       "      <td>1</td>\n",
       "      <td>0</td>\n",
       "      <td>41326</td>\n",
       "      <td>fa90fa5b1ee11c86938398b60abc32cb</td>\n",
       "      <td>0</td>\n",
       "      <td>Their pregnant mother was dumped by her irresp...</td>\n",
       "      <td>3422e4906</td>\n",
       "      <td>7.0</td>\n",
       "      <td>3</td>\n",
       "    </tr>\n",
       "    <tr>\n",
       "      <th>3</th>\n",
       "      <td>1</td>\n",
       "      <td>Miko</td>\n",
       "      <td>4</td>\n",
       "      <td>307</td>\n",
       "      <td>0</td>\n",
       "      <td>2</td>\n",
       "      <td>1</td>\n",
       "      <td>2</td>\n",
       "      <td>0</td>\n",
       "      <td>2</td>\n",
       "      <td>...</td>\n",
       "      <td>1</td>\n",
       "      <td>1</td>\n",
       "      <td>150</td>\n",
       "      <td>41401</td>\n",
       "      <td>9238e4f44c71a75282e62f7136c6b240</td>\n",
       "      <td>0</td>\n",
       "      <td>Good guard dog, very alert, active, obedience ...</td>\n",
       "      <td>5842f1ff5</td>\n",
       "      <td>8.0</td>\n",
       "      <td>2</td>\n",
       "    </tr>\n",
       "    <tr>\n",
       "      <th>4</th>\n",
       "      <td>1</td>\n",
       "      <td>Hunter</td>\n",
       "      <td>1</td>\n",
       "      <td>307</td>\n",
       "      <td>0</td>\n",
       "      <td>1</td>\n",
       "      <td>1</td>\n",
       "      <td>0</td>\n",
       "      <td>0</td>\n",
       "      <td>2</td>\n",
       "      <td>...</td>\n",
       "      <td>1</td>\n",
       "      <td>1</td>\n",
       "      <td>0</td>\n",
       "      <td>41326</td>\n",
       "      <td>95481e953f8aed9ec3d16fc4509537e8</td>\n",
       "      <td>0</td>\n",
       "      <td>This handsome yet cute boy is up for adoption....</td>\n",
       "      <td>850a43f90</td>\n",
       "      <td>3.0</td>\n",
       "      <td>2</td>\n",
       "    </tr>\n",
       "  </tbody>\n",
       "</table>\n",
       "<p>5 rows × 24 columns</p>\n",
       "</div>"
      ],
      "text/plain": [
       "   Type         Name  Age  Breed1  Breed2  Gender  Color1  Color2  Color3  \\\n",
       "0     2       Nibble    3     299       0       1       1       7       0   \n",
       "1     2  No Name Yet    1     265       0       1       1       2       0   \n",
       "2     1       Brisco    1     307       0       1       2       7       0   \n",
       "3     1         Miko    4     307       0       2       1       2       0   \n",
       "4     1       Hunter    1     307       0       1       1       0       0   \n",
       "\n",
       "   MaturitySize  ...  Health  Quantity  Fee  State  \\\n",
       "0             1  ...       1         1  100  41326   \n",
       "1             2  ...       1         1    0  41401   \n",
       "2             2  ...       1         1    0  41326   \n",
       "3             2  ...       1         1  150  41401   \n",
       "4             2  ...       1         1    0  41326   \n",
       "\n",
       "                          RescuerID  VideoAmt  \\\n",
       "0  8480853f516546f6cf33aa88cd76c379         0   \n",
       "1  3082c7125d8fb66f7dd4bff4192c8b14         0   \n",
       "2  fa90fa5b1ee11c86938398b60abc32cb         0   \n",
       "3  9238e4f44c71a75282e62f7136c6b240         0   \n",
       "4  95481e953f8aed9ec3d16fc4509537e8         0   \n",
       "\n",
       "                                         Description      PetID PhotoAmt  \\\n",
       "0  Nibble is a 3+ month old ball of cuteness. He ...  86e1089a3      1.0   \n",
       "1  I just found it alone yesterday near my apartm...  6296e909a      2.0   \n",
       "2  Their pregnant mother was dumped by her irresp...  3422e4906      7.0   \n",
       "3  Good guard dog, very alert, active, obedience ...  5842f1ff5      8.0   \n",
       "4  This handsome yet cute boy is up for adoption....  850a43f90      3.0   \n",
       "\n",
       "   AdoptionSpeed  \n",
       "0              2  \n",
       "1              0  \n",
       "2              3  \n",
       "3              2  \n",
       "4              2  \n",
       "\n",
       "[5 rows x 24 columns]"
      ]
     },
     "execution_count": 6,
     "metadata": {},
     "output_type": "execute_result"
    }
   ],
   "source": [
    "# Inspección de los datos\n",
    "df.head()"
   ]
  },
  {
   "cell_type": "code",
   "execution_count": 7,
   "metadata": {},
   "outputs": [
    {
     "name": "stdout",
     "output_type": "stream",
     "text": [
      "<class 'pandas.core.frame.DataFrame'>\n",
      "RangeIndex: 14993 entries, 0 to 14992\n",
      "Data columns (total 24 columns):\n",
      " #   Column         Non-Null Count  Dtype  \n",
      "---  ------         --------------  -----  \n",
      " 0   Type           14993 non-null  int64  \n",
      " 1   Name           13728 non-null  object \n",
      " 2   Age            14993 non-null  int64  \n",
      " 3   Breed1         14993 non-null  int64  \n",
      " 4   Breed2         14993 non-null  int64  \n",
      " 5   Gender         14993 non-null  int64  \n",
      " 6   Color1         14993 non-null  int64  \n",
      " 7   Color2         14993 non-null  int64  \n",
      " 8   Color3         14993 non-null  int64  \n",
      " 9   MaturitySize   14993 non-null  int64  \n",
      " 10  FurLength      14993 non-null  int64  \n",
      " 11  Vaccinated     14993 non-null  int64  \n",
      " 12  Dewormed       14993 non-null  int64  \n",
      " 13  Sterilized     14993 non-null  int64  \n",
      " 14  Health         14993 non-null  int64  \n",
      " 15  Quantity       14993 non-null  int64  \n",
      " 16  Fee            14993 non-null  int64  \n",
      " 17  State          14993 non-null  int64  \n",
      " 18  RescuerID      14993 non-null  object \n",
      " 19  VideoAmt       14993 non-null  int64  \n",
      " 20  Description    14980 non-null  object \n",
      " 21  PetID          14993 non-null  object \n",
      " 22  PhotoAmt       14993 non-null  float64\n",
      " 23  AdoptionSpeed  14993 non-null  int64  \n",
      "dtypes: float64(1), int64(19), object(4)\n",
      "memory usage: 2.7+ MB\n"
     ]
    }
   ],
   "source": [
    "df.info()"
   ]
  },
  {
   "cell_type": "code",
   "execution_count": 8,
   "metadata": {},
   "outputs": [],
   "source": [
    "import pandas as pd\n",
    "import numpy as np\n",
    "from pathlib import Path\n",
    "from sklearn.impute import SimpleImputer\n",
    "from sklearn.pipeline import Pipeline\n",
    "from sklearn.compose import ColumnTransformer\n",
    "from sklearn.preprocessing import FunctionTransformer\n",
    "import joblib"
   ]
  },
  {
   "cell_type": "code",
   "execution_count": 9,
   "metadata": {},
   "outputs": [],
   "source": [
    "numeric_cols = df.select_dtypes(include=['int64', 'float64']).columns.tolist()\n",
    "categorical_cols = df.select_dtypes(include=['object']).columns.tolist()"
   ]
  },
  {
   "cell_type": "code",
   "execution_count": 10,
   "metadata": {},
   "outputs": [],
   "source": [
    "def numeric_transform():\n",
    "    def _transform(X):\n",
    "        X = X.copy()\n",
    "        if 'Fee' in X.columns:\n",
    "            X['Fee'] = np.log1p(X['Fee'])      # log1p para reducir sesgo\n",
    "        if 'Age' in X.columns:\n",
    "            X['Age'] = X['Age'].clip(upper=120) # recorte a 120 meses\n",
    "        return X\n",
    "    return FunctionTransformer(_transform, feature_names_out='one-to-one')"
   ]
  },
  {
   "cell_type": "markdown",
   "metadata": {},
   "source": [
    "- FunctionTransformer permite meter lógica “a mano” dentro del Pipeline.\n",
    "- log1p evita problemas de log(0).\n",
    "- clip protege de valores aberrantes de edad.\n"
   ]
  },
  {
   "cell_type": "code",
   "execution_count": 11,
   "metadata": {},
   "outputs": [],
   "source": [
    "def rare_label_encoder(X, threshold=0.01):\n",
    "    X = X.copy()\n",
    "    for col in X.columns:\n",
    "        freq = X[col].value_counts(normalize=True)\n",
    "        rare = freq[freq < threshold].index\n",
    "        X[col] = X[col].where(~X[col].isin(rare), other='__RARE__')\n",
    "    return X\n",
    "\n",
    "rare_transformer = FunctionTransformer(\n",
    "    rare_label_encoder,\n",
    "    kw_args={'threshold': 0.01},\n",
    "    feature_names_out='one-to-one'\n",
    ")"
   ]
  },
  {
   "cell_type": "markdown",
   "metadata": {},
   "source": [
    "- Recorre cada columna categórica.\n",
    "- Si una categoría aparece en < 1 % de las filas, la reemplaza por \"__RARE__\".\n",
    "- Mantiene la señal sin inflar la cardinalidad.\n"
   ]
  },
  {
   "cell_type": "code",
   "execution_count": 12,
   "metadata": {},
   "outputs": [],
   "source": [
    "numeric_pipeline = Pipeline(steps=[\n",
    "    ('clip_log', FunctionTransformer(\n",
    "        numeric_clip_log,               #  ← función global\n",
    "        validate=False,\n",
    "        feature_names_out='one-to-one')),\n",
    "    ('imputer', SimpleImputer(strategy='median', add_indicator=True))\n",
    "])\n",
    "\n",
    "categorical_pipeline = Pipeline(steps=[\n",
    "    ('rare', rare_transformer),\n",
    "    ('cat_to_int', FunctionTransformer(\n",
    "        cat_to_int,                      #  ← función global\n",
    "        validate=False,\n",
    "        feature_names_out='one-to-one'))\n",
    "])\n",
    "\n",
    "preprocessor = ColumnTransformer([\n",
    "    ('num', numeric_pipeline, numeric_cols),\n",
    "    ('cat', categorical_pipeline, categorical_cols)\n",
    "], remainder='drop')"
   ]
  },
  {
   "cell_type": "markdown",
   "metadata": {},
   "source": [
    "Detalles\n",
    "- SimpleImputer(add_indicator=True) añade columnas extras _missing.\n",
    "- En categóricas, cat.codes convierte cada categoría a un entero consecutivo (requisito de LightGBM).\n",
    "- ColumnTransformer aplica cada sub‑pipeline solo a sus columnas.\n"
   ]
  },
  {
   "cell_type": "code",
   "execution_count": 13,
   "metadata": {},
   "outputs": [],
   "source": [
    "X_processed = preprocessor.fit_transform(df)\n",
    "processed_cols = preprocessor.get_feature_names_out()\n",
    "processed_df = pd.DataFrame(X_processed, columns=processed_cols)"
   ]
  },
  {
   "cell_type": "markdown",
   "metadata": {},
   "source": [
    "- fit_transform: aprende mediana, categorías, etc. y transforma.\n",
    "- Se reconstruye un DataFrame legible con los nombres nuevos.\n"
   ]
  },
  {
   "cell_type": "code",
   "execution_count": 17,
   "metadata": {},
   "outputs": [],
   "source": [
    "processed_df = pd.concat([processed_df, df['AdoptionSpeed']], axis=1)"
   ]
  },
  {
   "cell_type": "code",
   "execution_count": 18,
   "metadata": {},
   "outputs": [],
   "source": [
    "processed_df.to_csv('/Users/ri1965/Desktop/Maestria DS Austral 2024/11 - Labo 02/input/petfinder-adoption-prediction/train/train_preprocessed.csv', index=False)"
   ]
  },
  {
   "cell_type": "code",
   "execution_count": null,
   "metadata": {},
   "outputs": [],
   "source": []
  },
  {
   "cell_type": "code",
   "execution_count": 19,
   "metadata": {},
   "outputs": [
    {
     "data": {
      "text/plain": [
       "['/Users/ri1965/Desktop/Maestria DS Austral 2024/11 - Labo 02/input/petfinder-adoption-prediction/train/preprocessor.joblib']"
      ]
     },
     "execution_count": 19,
     "metadata": {},
     "output_type": "execute_result"
    }
   ],
   "source": [
    "processed_path = Path('/Users/ri1965/Desktop/Maestria DS Austral 2024/11 - Labo 02/input/petfinder-adoption-prediction/train/train_preprocessed.csv')\n",
    "processed_df.to_csv(processed_path, index=False)\n",
    "joblib.dump(preprocessor, '/Users/ri1965/Desktop/Maestria DS Austral 2024/11 - Labo 02/input/petfinder-adoption-prediction/train/preprocessor.joblib')"
   ]
  },
  {
   "cell_type": "code",
   "execution_count": 20,
   "metadata": {},
   "outputs": [
    {
     "data": {
      "text/plain": [
       "['/Users/ri1965/Desktop/Maestria DS Austral 2024/11 - Labo 02/input/petfinder-adoption-prediction/train/preprocessor.joblib']"
      ]
     },
     "execution_count": 20,
     "metadata": {},
     "output_type": "execute_result"
    }
   ],
   "source": [
    "processed_path = Path('/Users/ri1965/Desktop/Maestria DS Austral 2024/11 - Labo 02/input/petfinder-adoption-prediction/train/train_preprocessed.parquet')\n",
    "processed_df.to_parquet(processed_path, index=False)\n",
    "joblib.dump(preprocessor, '/Users/ri1965/Desktop/Maestria DS Austral 2024/11 - Labo 02/input/petfinder-adoption-prediction/train/preprocessor.joblib')"
   ]
  },
  {
   "cell_type": "code",
   "execution_count": null,
   "metadata": {},
   "outputs": [],
   "source": []
  },
  {
   "cell_type": "code",
   "execution_count": null,
   "metadata": {},
   "outputs": [],
   "source": []
  },
  {
   "cell_type": "code",
   "execution_count": 21,
   "metadata": {},
   "outputs": [
    {
     "name": "stdout",
     "output_type": "stream",
     "text": [
      "λ óptimo ≈ 0.350\n"
     ]
    },
    {
     "data": {
      "image/png": "[encoded data removed]",
      "text/plain": [
       "<Figure size 432x288 with 1 Axes>"
      ]
     },
     "metadata": {
      "needs_background": "light"
     },
     "output_type": "display_data"
    },
    {
     "name": "stdout",
     "output_type": "stream",
     "text": [
      "                            OLS Regression Results                            \n",
      "==============================================================================\n",
      "Dep. Variable:              alerta_bc   R-squared:                       0.042\n",
      "Model:                            OLS   Adj. R-squared:                  0.022\n",
      "Method:                 Least Squares   F-statistic:                     2.099\n",
      "Date:                Tue, 15 Apr 2025   Prob (F-statistic):              0.154\n",
      "Time:                        21:41:56   Log-Likelihood:                -89.356\n",
      "No. Observations:                  50   AIC:                             182.7\n",
      "Df Residuals:                      48   BIC:                             186.5\n",
      "Df Model:                           1                                         \n",
      "Covariance Type:            nonrobust                                         \n",
      "==============================================================================\n",
      "                 coef    std err          t      P>|t|      [0.025      0.975]\n",
      "------------------------------------------------------------------------------\n",
      "Intercept      2.7514      0.489      5.625      0.000       1.768       3.735\n",
      "dosis         -0.0214      0.015     -1.449      0.154      -0.051       0.008\n",
      "==============================================================================\n",
      "Omnibus:                        0.809   Durbin-Watson:                   2.067\n",
      "Prob(Omnibus):                  0.667   Jarque-Bera (JB):                0.886\n",
      "Skew:                          -0.201   Prob(JB):                        0.642\n",
      "Kurtosis:                       2.486   Cond. No.                         77.8\n",
      "==============================================================================\n",
      "\n",
      "Notes:\n",
      "[1] Standard Errors assume that the covariance matrix of the errors is correctly specified.\n"
     ]
    }
   ],
   "source": [
    "import numpy as np\n",
    "import pandas as pd\n",
    "import matplotlib.pyplot as plt\n",
    "import statsmodels.formula.api as smf\n",
    "from scipy.stats import boxcox_llf, boxcox\n",
    "\n",
    "# ------------------------------------------------------------------\n",
    "# 1. Cargar los datos\n",
    "# ------------------------------------------------------------------\n",
    "# data = pd.read_csv('mi_archivo.csv')   # si ya lo tienes en disco\n",
    "# Ejemplo ficticio:\n",
    "np.random.seed(0)\n",
    "data = pd.DataFrame({\n",
    "    \"dosis\": np.repeat([10, 20, 30, 40, 50], 10),\n",
    "    \"alerta\": np.random.gamma(shape=2, scale=3, size=50)   # > 0\n",
    "})\n",
    "\n",
    "# ------------------------------------------------------------------\n",
    "# 2. Definir la grilla de λ y calcular log‑likelihood\n",
    "# ------------------------------------------------------------------\n",
    "y = data[\"alerta\"].values\n",
    "lam_grid = np.linspace(-2, 2, 81)           # igual que MASS por defecto\n",
    "llf = [boxcox_llf(lmbda, y) for lmbda in lam_grid]\n",
    "lam_opt = lam_grid[np.argmax(llf)]\n",
    "print(f\"λ óptimo ≈ {lam_opt:.3f}\")\n",
    "\n",
    "# ------------------------------------------------------------------\n",
    "# 3. Dibujar el perfil de log‑likelihood (equivalente a plotit = TRUE)\n",
    "# ------------------------------------------------------------------\n",
    "plt.figure(figsize=(6, 4))\n",
    "plt.plot(lam_grid, llf, \"-o\", ms=3)\n",
    "plt.axvline(lam_opt, color=\"red\", ls=\"--\")\n",
    "plt.title(\"Perfil Box‑Cox – log‑likelihood vs λ\")\n",
    "plt.xlabel(\"λ\")\n",
    "plt.ylabel(\"Log‑likelihood\")\n",
    "plt.show()\n",
    "\n",
    "# ------------------------------------------------------------------\n",
    "# 4. Transformar la respuesta con el λ óptimo\n",
    "# ------------------------------------------------------------------\n",
    "y_bc = boxcox(y, lmbda=lam_opt)\n",
    "data[\"alerta_bc\"] = y_bc\n",
    "\n",
    "# ------------------------------------------------------------------\n",
    "# 5. Ajustar el modelo lineal con la respuesta transformada\n",
    "# ------------------------------------------------------------------\n",
    "modelo_bc = smf.ols(\"alerta_bc ~ dosis\", data=data).fit()\n",
    "print(modelo_bc.summary())"
   ]
  },
  {
   "cell_type": "code",
   "execution_count": null,
   "metadata": {},
   "outputs": [],
   "source": []
  },
  {
   "cell_type": "code",
   "execution_count": null,
   "metadata": {},
   "outputs": [],
   "source": []
  },
  {
   "cell_type": "code",
   "execution_count": null,
   "metadata": {},
   "outputs": [],
   "source": []
  },
  {
   "cell_type": "code",
   "execution_count": null,
   "metadata": {},
   "outputs": [],
   "source": []
  },
  {
   "cell_type": "code",
   "execution_count": null,
   "metadata": {},
   "outputs": [],
   "source": []
  },
  {
   "cell_type": "code",
   "execution_count": null,
   "metadata": {},
   "outputs": [],
   "source": []
  },
  {
   "cell_type": "code",
   "execution_count": null,
   "metadata": {},
   "outputs": [],
   "source": []
  },
  {
   "cell_type": "code",
   "execution_count": null,
   "metadata": {},
   "outputs": [],
   "source": []
  },
  {
   "cell_type": "code",
   "execution_count": null,
   "metadata": {},
   "outputs": [],
   "source": []
  },
  {
   "cell_type": "code",
   "execution_count": null,
   "metadata": {},
   "outputs": [],
   "source": []
  },
  {
   "cell_type": "code",
   "execution_count": null,
   "metadata": {},
   "outputs": [],
   "source": []
  }
 ],
 "metadata": {
  "kernelspec": {
   "display_name": "Python 3 (ipykernel)",
   "language": "python",
   "name": "python3"
  },
  "language_info": {
   "codemirror_mode": {
    "name": "ipython",
    "version": 3
   },
   "file_extension": ".py",
   "mimetype": "text/x-python",
   "name": "python",
   "nbconvert_exporter": "python",
   "pygments_lexer": "ipython3",
   "version": "3.8.8"
  }
 },
 "nbformat": 4,
 "nbformat_minor": 2
}
