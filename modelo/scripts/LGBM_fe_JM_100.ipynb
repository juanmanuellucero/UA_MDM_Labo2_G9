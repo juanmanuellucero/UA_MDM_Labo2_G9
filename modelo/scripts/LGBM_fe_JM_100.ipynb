{
 "cells": [
  {
   "cell_type": "markdown",
   "id": "c5c37b40",
   "metadata": {},
   "source": [
    "## Configuracion de Entorno"
   ]
  },
  {
   "cell_type": "code",
   "execution_count": null,
   "id": "8e3edd9b",
   "metadata": {},
   "outputs": [
    {
     "name": "stdout",
     "output_type": "stream",
     "text": [
      "Directorio actual: C:\\Users\\juanm\\GitHub\\UA_MDM_Labo2_G9\\work\n"
     ]
    }
   ],
   "source": [
    "import os\n",
    "\n",
    "# Si estás en Jupyter Notebook, anclás a una ruta conocida o fija:\n",
    "project_root = r\"C:\\Users\\juanm\\GitHub\\UA_MDM_Labo2_G9\"  # Personalizar esto\n",
    "\n",
    "# Alternativa: usar una carpeta conocida dentro del proyecto\n",
    "# project_root = os.path.abspath(os.path.join(os.getcwd(), \"..\"))  # Menos frágil\n",
    "\n",
    "# Rutas de trabajo\n",
    "workDir = os.path.join(project_root, \"work\")\n",
    "optunaArtifactDir = os.path.join(workDir, \"optuna_artifacts\")\n",
    "optunaTempDir = os.path.join(workDir, \"optuna_temp_artifacts\")\n",
    "\n",
    "# Crear carpetas si no existen\n",
    "os.makedirs(optunaArtifactDir, exist_ok=True)\n",
    "os.makedirs(optunaTempDir, exist_ok=True)\n",
    "\n",
    "# Cambiar al directorio de trabajo solo si es necesario\n",
    "if os.getcwd() != workDir:\n",
    "    os.chdir(workDir)\n",
    "\n",
    "print(\"Directorio actual:\", os.getcwd())\n"
   ]
  },
  {
   "cell_type": "code",
   "execution_count": 2,
   "id": "77c29884",
   "metadata": {},
   "outputs": [
    {
     "name": "stderr",
     "output_type": "stream",
     "text": [
      "c:\\Users\\juanm\\anaconda3\\envs\\ldi2\\Lib\\site-packages\\tqdm\\auto.py:21: TqdmWarning: IProgress not found. Please update jupyter and ipywidgets. See https://ipywidgets.readthedocs.io/en/stable/user_install.html\n",
      "  from .autonotebook import tqdm as notebook_tqdm\n"
     ]
    }
   ],
   "source": [
    "# Manipulación de datos\n",
    "import numpy as np\n",
    "import pandas as pd\n",
    "\n",
    "# Modelado: Gradient Boosting\n",
    "import lightgbm as lgb\n",
    "\n",
    "# Sklearn: splits, métricas y utilidades\n",
    "from sklearn.model_selection import train_test_split, StratifiedKFold\n",
    "from sklearn.metrics import cohen_kappa_score, accuracy_score, balanced_accuracy_score\n",
    "from sklearn.utils import shuffle\n",
    "\n",
    "# Visualización\n",
    "import matplotlib.pyplot as plt  # Usar junto con seaborn o plotly si es necesario\n",
    "import plotly.express as px      # Corrección: no usar `from plotly import express as px`\n",
    "\n",
    "# Optuna para optimización de hiperparámetros\n",
    "import optuna\n",
    "from optuna.artifacts import FileSystemArtifactStore, upload_artifact\n",
    "\n",
    "# Utilidades propias\n",
    "from utiles import plot_confusion_matrix\n",
    "\n",
    "# Guardado de objetos\n",
    "from joblib import dump, load\n",
    "\n",
    "# Sistema\n",
    "import os"
   ]
  },
  {
   "cell_type": "code",
   "execution_count": 3,
   "id": "1b908605",
   "metadata": {},
   "outputs": [],
   "source": [
    "import os\n",
    "\n",
    "# Paths para acceso archivos\n",
    "#Este notebook asume la siguiente estructura de carpetas a partir de la ubicacion de base_dir \n",
    "#(dos niveles arriba de la cƒarpeta donde se ejecuta el notebook). \n",
    "# /ƒ/ƒ\n",
    "# /UA_MDM_Labo2/inputƒ\n",
    "# /UA_MDM_Labo2/input/petfinder-adoption-prediction/            <- Aca deben ir todos los archivos de datos de la competencia \n",
    "# /UA_MDM_Labo2/tutoriales/                       <- Aca deben poner los notebooks y scripts que les compartimos\n",
    "# /UA_MDM_Labo2/work/                             <- Resultados de notebooks iran dentro de esta carpeta en subcarpetas\n",
    "# /UA_MDM_Labo2/work/models/                     <- Modelos entrenados en archivos joblibs\n",
    "# /UA_MDM_Labo2/work/optuna_temp_artifacts/      <- Archivos que queremos dejar como artefacto de un trial de optuna (optuna los copiara a la carpeta de abajo)\n",
    "# /UA_MDM_Labo2/work/optuna_artifacts/           <- Archivos con artefactos que sibimos a optuna\n",
    "\n",
    "#Subimos dos niveles para quedar en la carpeta que contiene input y UA_MDM_Labo2\n",
    "BASE_DIR = '../'\n",
    "\n",
    "#Datos de entrenamiento \n",
    "PATH_TO_TRAIN = os.path.join(BASE_DIR, \"input/petfinder-adoption-prediction/train/train.csv\")\n",
    "\n",
    "#Datos de razas \n",
    "PATH_TO_BREED_LABELS = os.path.join(BASE_DIR, \"modelo/data/petfinder-adoption-prediction/BreedLabels.csv\")\n",
    "\n",
    "#Salida de modelos entrenados\n",
    "PATH_TO_MODELS = os.path.join(BASE_DIR, \"work/models\")\n",
    "\n",
    "#Artefactos a subir a optuna\n",
    "PATH_TO_TEMP_FILES = os.path.join(BASE_DIR, \"work/optuna_temp_artifacts\")\n",
    "\n",
    "#Artefactos que optuna gestiona\n",
    "PATH_TO_OPTUNA_ARTIFACTS = os.path.join(BASE_DIR, \"work/optuna_artifacts\")\n",
    "\n",
    "\n",
    "SEED = 42 #Semilla de procesos aleatorios (para poder replicar exactamente al volver a correr un modelo)\n",
    "TEST_SIZE = 0.2 #Facción para train/test= split"
   ]
  },
  {
   "cell_type": "markdown",
   "id": "dcfe00fc",
   "metadata": {},
   "source": [
    "## Descripcion Feature Engineering"
   ]
  },
  {
   "cell_type": "markdown",
   "id": "315f0781",
   "metadata": {},
   "source": [
    "Con base en el script actualizado de ingeniería de características que me compartiste, te actualizo la descripción de las transformaciones del dataset para que estén alineadas con las variables efectivamente generadas:\n",
    "\n",
    "---\n",
    "\n",
    "### 🔹 1. **Transformaciones directas útiles**\n",
    "\n",
    "Variables originales reformuladas para aportar más valor predictivo al modelo.\n",
    "\n",
    "| Variable     | Qué hace                                                                  | Por qué ayuda                                                           |\n",
    "| ------------ | ------------------------------------------------------------------------- | ----------------------------------------------------------------------- |\n",
    "| `HasName`    | Indica si el animal tiene nombre                                          | Un nombre puede hacer al animal más cercano y memorable para adoptantes |\n",
    "| `PureBreed`  | Indica si el animal es de raza pura (`Breed2 == 0` y no contiene \"Mixed\") | Ayuda a capturar la preferencia por razas específicas                   |\n",
    "| `DescLength` | Longitud de la descripción textual                                        | Más texto puede reflejar mayor esfuerzo y generar más interés           |\n",
    "| `Fee_log`    | (No generado en el script, pero se puede incluir) Logaritmo del precio    | Suaviza la distribución y reduce el impacto de valores extremos         |\n",
    "| `IsFree`     | (Sugerido) `Fee == 0`                                                     | La gratuidad puede aumentar la intención de adopción                    |\n",
    "\n",
    "**Objetivo**: transformar variables originales en formas más robustas o informativas para el modelo.\n",
    "\n",
    "---\n",
    "\n",
    "### 🔹 2. **Reagrupaciones o codificaciones útiles**\n",
    "\n",
    "Nuevas variables creadas mediante categorización o codificación combinada.\n",
    "\n",
    "| Variable           | Qué hace                                                                 | Por qué ayuda                                             |\n",
    "| ------------------ | ------------------------------------------------------------------------ | --------------------------------------------------------- |\n",
    "| `Type_Breed_Combo` | Combina el tipo de animal con el ID de la raza principal                 | Algunas combinaciones pueden ser más atractivas que otras |\n",
    "| `Fee_Breed_Ratio`  | Relación entre la tarifa individual y el promedio de tarifa para su raza | Detecta casos con precio inusualmente alto o bajo         |\n",
    "\n",
    "**Objetivo**: facilitar el aprendizaje del modelo mediante agrupaciones con patrones compartidos.\n",
    "\n",
    "---\n",
    "\n",
    "### 🔹 3. **Interacciones entre variables**\n",
    "\n",
    "Variables creadas a partir de combinaciones que expresan relaciones no lineales.\n",
    "\n",
    "| Variable               | Qué hace                                                  | Por qué ayuda                                       |\n",
    "| ---------------------- | --------------------------------------------------------- | --------------------------------------------------- |\n",
    "| `Fee_per_Pet`          | Tarifa dividida por cantidad de mascotas                  | Normaliza la tarifa para adopciones múltiples       |\n",
    "| `Photo_per_Pet`        | Cantidad de fotos por mascota                             | Mide el esfuerzo visual por cada animal             |\n",
    "| `Age_Fee_Ratio`        | Edad dividida por tarifa (más 1)                          | Detecta casos inusuales de edad vs. valor monetario |\n",
    "| `DescLength_per_Pet`   | Longitud de descripción dividida por cantidad de mascotas | Indica esfuerzo textual por cada animal             |\n",
    "| `DescLength_per_Photo` | Longitud de descripción dividida por cantidad de fotos    | Relaciona el detalle textual con el esfuerzo visual |\n",
    "\n",
    "**Objetivo**: capturar relaciones entre variables que puedan influir en decisiones de adopción."
   ]
  },
  {
   "cell_type": "markdown",
   "id": "0e967956",
   "metadata": {},
   "source": [
    "## Feature Engineering"
   ]
  },
  {
   "cell_type": "code",
   "execution_count": 4,
   "id": "2bd789d0",
   "metadata": {},
   "outputs": [],
   "source": [
    "import numpy as np\n",
    "import pandas as pd\n",
    "\n",
    "# Cargar el dataset\n",
    "dataset = pd.read_csv(PATH_TO_TRAIN)\n",
    "\n",
    "# 1. Tiene nombre\n",
    "dataset['HasName'] = dataset['Name'].notnull().astype(int)\n",
    "\n",
    "# 2. Es de raza pura\n",
    "# Cargar etiquetas de razas\n",
    "breed_labels = pd.read_csv(PATH_TO_BREED_LABELS)\n",
    "\n",
    "# Diccionario ID → Nombre de raza\n",
    "id_to_breed = dict(zip(breed_labels['BreedID'], breed_labels['BreedName']))\n",
    "\n",
    "# Crear una nueva columna con el nombre de Breed1\n",
    "dataset['Breed1_name'] = dataset['Breed1'].map(id_to_breed)\n",
    "\n",
    "dataset['PureBreed'] = (\n",
    "    (dataset['Breed2'] == 0) &\n",
    "    (~dataset['Breed1_name'].str.contains('Mixed', case=False, na=False))\n",
    ").astype(int)\n",
    "\n",
    "# 3. Longitud de la descripción\n",
    "dataset['DescLength'] = dataset['Description'].fillna('').apply(len)\n",
    "\n",
    "# 4. Combinación tipo-raza principal\n",
    "dataset['Type_Breed_Combo'] = dataset['Type'].astype(str) + '_' + dataset['Breed1'].astype(str)\n",
    "\n",
    "dataset['Type_Breed_Combo'] = dataset['Type_Breed_Combo'].astype('category')\n",
    "\n",
    "# 5. Tarifa por mascota\n",
    "dataset['Fee_per_Pet'] = np.where(dataset['Quantity'] == 0, 0, dataset['Fee'] / dataset['Quantity'])\n",
    "\n",
    "# 6. Fotos por mascota\n",
    "dataset['Photo_per_Pet'] = np.where(dataset['Quantity'] == 0, 0, dataset['PhotoAmt'] / dataset['Quantity'])\n",
    "\n",
    "# 7. Relación edad/tarifa\n",
    "dataset['Age_Fee_Ratio'] = dataset['Age'] / (dataset['Fee'] + 1)\n",
    "\n",
    "# 8. Longitud descripción por mascota\n",
    "dataset['DescLength_per_Pet'] = np.where(dataset['Quantity'] == 0, 0, dataset['DescLength'] / dataset['Quantity'])\n",
    "\n",
    "# 9. Longitud descripción por cantidad de fotos \n",
    "dataset['DescLength_per_Photo'] = np.where(dataset['PhotoAmt'] == 0,0,dataset['DescLength'] / dataset['PhotoAmt'])\n",
    "\n",
    "# 10. Tarifa promedio por raza\n",
    "breed_fee_mean = dataset.groupby('Breed1')['Fee'].mean()\n",
    "\n",
    "dataset['Fee_Breed_Ratio'] = dataset['Fee'] / (dataset['Breed1'].map(breed_fee_mean) + 1)"
   ]
  },
  {
   "cell_type": "code",
   "execution_count": 5,
   "id": "56111d8e",
   "metadata": {},
   "outputs": [
    {
     "data": {
      "text/plain": [
       "['Type',\n",
       " 'Age',\n",
       " 'Breed1',\n",
       " 'Breed2',\n",
       " 'Gender',\n",
       " 'Color1',\n",
       " 'Color2',\n",
       " 'Color3',\n",
       " 'MaturitySize',\n",
       " 'FurLength',\n",
       " 'Vaccinated',\n",
       " 'Dewormed',\n",
       " 'Sterilized',\n",
       " 'Health',\n",
       " 'Quantity',\n",
       " 'Fee',\n",
       " 'State',\n",
       " 'VideoAmt',\n",
       " 'PhotoAmt',\n",
       " 'HasName',\n",
       " 'PureBreed',\n",
       " 'DescLength',\n",
       " 'Type_Breed_Combo',\n",
       " 'Fee_per_Pet',\n",
       " 'Photo_per_Pet',\n",
       " 'Age_Fee_Ratio',\n",
       " 'DescLength_per_Pet',\n",
       " 'DescLength_per_Photo',\n",
       " 'Fee_Breed_Ratio']"
      ]
     },
     "execution_count": 5,
     "metadata": {},
     "output_type": "execute_result"
    }
   ],
   "source": [
    "#Separo un 20% para test estratificado opr target\n",
    "train, test = train_test_split(dataset,\n",
    "                               test_size = TEST_SIZE,\n",
    "                               random_state = SEED,\n",
    "                               stratify = dataset.AdoptionSpeed)\n",
    "\n",
    "#Armo listas con features de texto y numericas\n",
    "char_feats = [f for f in dataset.columns if dataset[f].dtype=='O']\n",
    "numeric_feats = [f for f in dataset.columns if dataset[f].dtype!='O']\n",
    "\n",
    "#Defino features a usar\n",
    "features = numeric_feats.copy()\n",
    "\n",
    "label = 'AdoptionSpeed'\n",
    "\n",
    "# Eliminamos 'AdoptionSpeed' si está\n",
    "if 'AdoptionSpeed' in features:\n",
    "    features.remove('AdoptionSpeed')\n",
    "\n",
    "#Genero dataframes de train y test con sus respectivos targets\n",
    "X_train = train[features]\n",
    "y_train = train[label]\n",
    "\n",
    "X_test = test[features]\n",
    "y_test = test[label]\n",
    "\n",
    "features"
   ]
  },
  {
   "cell_type": "markdown",
   "id": "67ca5d89",
   "metadata": {},
   "source": [
    "## Modelo con hiperparametros por default"
   ]
  },
  {
   "cell_type": "code",
   "execution_count": 6,
   "id": "f4cacb84",
   "metadata": {},
   "outputs": [
    {
     "name": "stdout",
     "output_type": "stream",
     "text": [
      "[LightGBM] [Info] Auto-choosing row-wise multi-threading, the overhead of testing was 0.000854 seconds.\n",
      "You can set `force_row_wise=true` to remove the overhead.\n",
      "And if memory is not enough, you can set `force_col_wise=true`.\n",
      "[LightGBM] [Info] Total Bins 1946\n",
      "[LightGBM] [Info] Number of data points in the train set: 11994, number of used features: 29\n",
      "[LightGBM] [Info] Start training from score -3.599148\n",
      "[LightGBM] [Info] Start training from score -1.579379\n",
      "[LightGBM] [Info] Start training from score -1.311924\n",
      "[LightGBM] [Info] Start training from score -1.526206\n",
      "[LightGBM] [Info] Start training from score -1.273359\n"
     ]
    }
   ],
   "source": [
    "#Entreno un modelo inicial sin modificar hiperparametros. Solamente especifico el numero de clases y el tipo de modelo como clasificacoión\n",
    "lgb_params = params = {\n",
    "                        'objective': 'multiclass',\n",
    "                        'num_class': len(y_train.unique())\n",
    "                        }\n",
    "\n",
    "\n",
    "#genero el objeto Dataset que debo pasarle a lightgbm para que entrene\n",
    "lgb_train_dataset = lgb.Dataset(data=X_train,\n",
    "                                label=y_train)\n",
    "\n",
    "#entreno el modelo con los parametros por defecto\n",
    "lgb_model1 = lgb.train(lgb_params,\n",
    "                      lgb_train_dataset)"
   ]
  },
  {
   "cell_type": "code",
   "execution_count": 7,
   "id": "de7e6584",
   "metadata": {},
   "outputs": [
    {
     "data": {
      "text/plain": [
       "array([2, 2, 2, ..., 1, 4, 4], shape=(2999,))"
      ]
     },
     "execution_count": 7,
     "metadata": {},
     "output_type": "execute_result"
    }
   ],
   "source": [
    "lgb_model1.predict(X_test).argmax(axis=1)"
   ]
  },
  {
   "cell_type": "code",
   "execution_count": 8,
   "id": "b0683698",
   "metadata": {},
   "outputs": [
    {
     "name": "stdout",
     "output_type": "stream",
     "text": [
      "0.34524806594014434\n"
     ]
    },
    {
     "data": {
      "application/vnd.plotly.v1+json": {
       "config": {
        "plotlyServerURL": "https://plot.ly"
       },
       "data": [
        {
         "type": "heatmap",
         "x": {
          "bdata": "AAECAwQ=",
          "dtype": "i1"
         },
         "y": {
          "bdata": "AAECAwQ=",
          "dtype": "i1"
         },
         "z": {
          "bdata": "RO1K1K5EHUAsUbsStStHQA3Ox+B8DDxARO1K1K5EDUBE7UrUrkQtQBC8SevU4+k/qqqqqqqqQEBcbQxNd7BCQAxqgHF7HyJADE13sN9qM0CZSSgX8bjPP3MRj/tBUDVAJMIEJ3PjQ0AyN17RtMonQBj+iWsLxDpACMmAeqZy3T/wbf4KsxowQFLEoZP2QUBAJ+2DZEA9NkAhGVDPVK48QLdt27Zt29Y/6Hme53meJkBVVVVVVVUyQHqe53me5yBAYhiGYRjGTkA=",
          "dtype": "f8",
          "shape": "5, 5"
         }
        }
       ],
       "layout": {
        "annotations": [
         {
          "font": {
           "color": "white"
          },
          "showarrow": false,
          "text": "7.3 - 6",
          "x": 0,
          "xref": "x",
          "y": 0,
          "yref": "y"
         },
         {
          "font": {
           "color": "white"
          },
          "showarrow": false,
          "text": "46.3 - 38",
          "x": 1,
          "xref": "x",
          "y": 0,
          "yref": "y"
         },
         {
          "font": {
           "color": "white"
          },
          "showarrow": false,
          "text": "28.0 - 23",
          "x": 2,
          "xref": "x",
          "y": 0,
          "yref": "y"
         },
         {
          "font": {
           "color": "white"
          },
          "showarrow": false,
          "text": "3.7 - 3",
          "x": 3,
          "xref": "x",
          "y": 0,
          "yref": "y"
         },
         {
          "font": {
           "color": "white"
          },
          "showarrow": false,
          "text": "14.6 - 12",
          "x": 4,
          "xref": "x",
          "y": 0,
          "yref": "y"
         },
         {
          "font": {
           "color": "white"
          },
          "showarrow": false,
          "text": "0.8 - 5",
          "x": 0,
          "xref": "x",
          "y": 1,
          "yref": "y"
         },
         {
          "font": {
           "color": "white"
          },
          "showarrow": false,
          "text": "33.3 - 206",
          "x": 1,
          "xref": "x",
          "y": 1,
          "yref": "y"
         },
         {
          "font": {
           "color": "white"
          },
          "showarrow": false,
          "text": "37.4 - 231",
          "x": 2,
          "xref": "x",
          "y": 1,
          "yref": "y"
         },
         {
          "font": {
           "color": "white"
          },
          "showarrow": false,
          "text": "9.1 - 56",
          "x": 3,
          "xref": "x",
          "y": 1,
          "yref": "y"
         },
         {
          "font": {
           "color": "white"
          },
          "showarrow": false,
          "text": "19.4 - 120",
          "x": 4,
          "xref": "x",
          "y": 1,
          "yref": "y"
         },
         {
          "font": {
           "color": "white"
          },
          "showarrow": false,
          "text": "0.2 - 2",
          "x": 0,
          "xref": "x",
          "y": 2,
          "yref": "y"
         },
         {
          "font": {
           "color": "white"
          },
          "showarrow": false,
          "text": "21.3 - 172",
          "x": 1,
          "xref": "x",
          "y": 2,
          "yref": "y"
         },
         {
          "font": {
           "color": "white"
          },
          "showarrow": false,
          "text": "39.8 - 321",
          "x": 2,
          "xref": "x",
          "y": 2,
          "yref": "y"
         },
         {
          "font": {
           "color": "white"
          },
          "showarrow": false,
          "text": "11.9 - 96",
          "x": 3,
          "xref": "x",
          "y": 2,
          "yref": "y"
         },
         {
          "font": {
           "color": "white"
          },
          "showarrow": false,
          "text": "26.8 - 216",
          "x": 4,
          "xref": "x",
          "y": 2,
          "yref": "y"
         },
         {
          "font": {
           "color": "white"
          },
          "showarrow": false,
          "text": "0.5 - 3",
          "x": 0,
          "xref": "x",
          "y": 3,
          "yref": "y"
         },
         {
          "font": {
           "color": "white"
          },
          "showarrow": false,
          "text": "16.1 - 105",
          "x": 1,
          "xref": "x",
          "y": 3,
          "yref": "y"
         },
         {
          "font": {
           "color": "white"
          },
          "showarrow": false,
          "text": "32.5 - 212",
          "x": 2,
          "xref": "x",
          "y": 3,
          "yref": "y"
         },
         {
          "font": {
           "color": "white"
          },
          "showarrow": false,
          "text": "22.2 - 145",
          "x": 3,
          "xref": "x",
          "y": 3,
          "yref": "y"
         },
         {
          "font": {
           "color": "white"
          },
          "showarrow": false,
          "text": "28.7 - 187",
          "x": 4,
          "xref": "x",
          "y": 3,
          "yref": "y"
         },
         {
          "font": {
           "color": "white"
          },
          "showarrow": false,
          "text": "0.4 - 3",
          "x": 0,
          "xref": "x",
          "y": 4,
          "yref": "y"
         },
         {
          "font": {
           "color": "white"
          },
          "showarrow": false,
          "text": "11.3 - 95",
          "x": 1,
          "xref": "x",
          "y": 4,
          "yref": "y"
         },
         {
          "font": {
           "color": "white"
          },
          "showarrow": false,
          "text": "18.3 - 154",
          "x": 2,
          "xref": "x",
          "y": 4,
          "yref": "y"
         },
         {
          "font": {
           "color": "white"
          },
          "showarrow": false,
          "text": "8.5 - 71",
          "x": 3,
          "xref": "x",
          "y": 4,
          "yref": "y"
         },
         {
          "font": {
           "color": "white"
          },
          "showarrow": false,
          "text": "61.5 - 517",
          "x": 4,
          "xref": "x",
          "y": 4,
          "yref": "y"
         }
        ],
        "height": 800,
        "template": {
         "data": {
          "bar": [
           {
            "error_x": {
             "color": "#2a3f5f"
            },
            "error_y": {
             "color": "#2a3f5f"
            },
            "marker": {
             "line": {
              "color": "#E5ECF6",
              "width": 0.5
             },
             "pattern": {
              "fillmode": "overlay",
              "size": 10,
              "solidity": 0.2
             }
            },
            "type": "bar"
           }
          ],
          "barpolar": [
           {
            "marker": {
             "line": {
              "color": "#E5ECF6",
              "width": 0.5
             },
             "pattern": {
              "fillmode": "overlay",
              "size": 10,
              "solidity": 0.2
             }
            },
            "type": "barpolar"
           }
          ],
          "carpet": [
           {
            "aaxis": {
             "endlinecolor": "#2a3f5f",
             "gridcolor": "white",
             "linecolor": "white",
             "minorgridcolor": "white",
             "startlinecolor": "#2a3f5f"
            },
            "baxis": {
             "endlinecolor": "#2a3f5f",
             "gridcolor": "white",
             "linecolor": "white",
             "minorgridcolor": "white",
             "startlinecolor": "#2a3f5f"
            },
            "type": "carpet"
           }
          ],
          "choropleth": [
           {
            "colorbar": {
             "outlinewidth": 0,
             "ticks": ""
            },
            "type": "choropleth"
           }
          ],
          "contour": [
           {
            "colorbar": {
             "outlinewidth": 0,
             "ticks": ""
            },
            "colorscale": [
             [
              0,
              "#0d0887"
             ],
             [
              0.1111111111111111,
              "#46039f"
             ],
             [
              0.2222222222222222,
              "#7201a8"
             ],
             [
              0.3333333333333333,
              "#9c179e"
             ],
             [
              0.4444444444444444,
              "#bd3786"
             ],
             [
              0.5555555555555556,
              "#d8576b"
             ],
             [
              0.6666666666666666,
              "#ed7953"
             ],
             [
              0.7777777777777778,
              "#fb9f3a"
             ],
             [
              0.8888888888888888,
              "#fdca26"
             ],
             [
              1,
              "#f0f921"
             ]
            ],
            "type": "contour"
           }
          ],
          "contourcarpet": [
           {
            "colorbar": {
             "outlinewidth": 0,
             "ticks": ""
            },
            "type": "contourcarpet"
           }
          ],
          "heatmap": [
           {
            "colorbar": {
             "outlinewidth": 0,
             "ticks": ""
            },
            "colorscale": [
             [
              0,
              "#0d0887"
             ],
             [
              0.1111111111111111,
              "#46039f"
             ],
             [
              0.2222222222222222,
              "#7201a8"
             ],
             [
              0.3333333333333333,
              "#9c179e"
             ],
             [
              0.4444444444444444,
              "#bd3786"
             ],
             [
              0.5555555555555556,
              "#d8576b"
             ],
             [
              0.6666666666666666,
              "#ed7953"
             ],
             [
              0.7777777777777778,
              "#fb9f3a"
             ],
             [
              0.8888888888888888,
              "#fdca26"
             ],
             [
              1,
              "#f0f921"
             ]
            ],
            "type": "heatmap"
           }
          ],
          "histogram": [
           {
            "marker": {
             "pattern": {
              "fillmode": "overlay",
              "size": 10,
              "solidity": 0.2
             }
            },
            "type": "histogram"
           }
          ],
          "histogram2d": [
           {
            "colorbar": {
             "outlinewidth": 0,
             "ticks": ""
            },
            "colorscale": [
             [
              0,
              "#0d0887"
             ],
             [
              0.1111111111111111,
              "#46039f"
             ],
             [
              0.2222222222222222,
              "#7201a8"
             ],
             [
              0.3333333333333333,
              "#9c179e"
             ],
             [
              0.4444444444444444,
              "#bd3786"
             ],
             [
              0.5555555555555556,
              "#d8576b"
             ],
             [
              0.6666666666666666,
              "#ed7953"
             ],
             [
              0.7777777777777778,
              "#fb9f3a"
             ],
             [
              0.8888888888888888,
              "#fdca26"
             ],
             [
              1,
              "#f0f921"
             ]
            ],
            "type": "histogram2d"
           }
          ],
          "histogram2dcontour": [
           {
            "colorbar": {
             "outlinewidth": 0,
             "ticks": ""
            },
            "colorscale": [
             [
              0,
              "#0d0887"
             ],
             [
              0.1111111111111111,
              "#46039f"
             ],
             [
              0.2222222222222222,
              "#7201a8"
             ],
             [
              0.3333333333333333,
              "#9c179e"
             ],
             [
              0.4444444444444444,
              "#bd3786"
             ],
             [
              0.5555555555555556,
              "#d8576b"
             ],
             [
              0.6666666666666666,
              "#ed7953"
             ],
             [
              0.7777777777777778,
              "#fb9f3a"
             ],
             [
              0.8888888888888888,
              "#fdca26"
             ],
             [
              1,
              "#f0f921"
             ]
            ],
            "type": "histogram2dcontour"
           }
          ],
          "mesh3d": [
           {
            "colorbar": {
             "outlinewidth": 0,
             "ticks": ""
            },
            "type": "mesh3d"
           }
          ],
          "parcoords": [
           {
            "line": {
             "colorbar": {
              "outlinewidth": 0,
              "ticks": ""
             }
            },
            "type": "parcoords"
           }
          ],
          "pie": [
           {
            "automargin": true,
            "type": "pie"
           }
          ],
          "scatter": [
           {
            "fillpattern": {
             "fillmode": "overlay",
             "size": 10,
             "solidity": 0.2
            },
            "type": "scatter"
           }
          ],
          "scatter3d": [
           {
            "line": {
             "colorbar": {
              "outlinewidth": 0,
              "ticks": ""
             }
            },
            "marker": {
             "colorbar": {
              "outlinewidth": 0,
              "ticks": ""
             }
            },
            "type": "scatter3d"
           }
          ],
          "scattercarpet": [
           {
            "marker": {
             "colorbar": {
              "outlinewidth": 0,
              "ticks": ""
             }
            },
            "type": "scattercarpet"
           }
          ],
          "scattergeo": [
           {
            "marker": {
             "colorbar": {
              "outlinewidth": 0,
              "ticks": ""
             }
            },
            "type": "scattergeo"
           }
          ],
          "scattergl": [
           {
            "marker": {
             "colorbar": {
              "outlinewidth": 0,
              "ticks": ""
             }
            },
            "type": "scattergl"
           }
          ],
          "scattermap": [
           {
            "marker": {
             "colorbar": {
              "outlinewidth": 0,
              "ticks": ""
             }
            },
            "type": "scattermap"
           }
          ],
          "scattermapbox": [
           {
            "marker": {
             "colorbar": {
              "outlinewidth": 0,
              "ticks": ""
             }
            },
            "type": "scattermapbox"
           }
          ],
          "scatterpolar": [
           {
            "marker": {
             "colorbar": {
              "outlinewidth": 0,
              "ticks": ""
             }
            },
            "type": "scatterpolar"
           }
          ],
          "scatterpolargl": [
           {
            "marker": {
             "colorbar": {
              "outlinewidth": 0,
              "ticks": ""
             }
            },
            "type": "scatterpolargl"
           }
          ],
          "scatterternary": [
           {
            "marker": {
             "colorbar": {
              "outlinewidth": 0,
              "ticks": ""
             }
            },
            "type": "scatterternary"
           }
          ],
          "surface": [
           {
            "colorbar": {
             "outlinewidth": 0,
             "ticks": ""
            },
            "colorscale": [
             [
              0,
              "#0d0887"
             ],
             [
              0.1111111111111111,
              "#46039f"
             ],
             [
              0.2222222222222222,
              "#7201a8"
             ],
             [
              0.3333333333333333,
              "#9c179e"
             ],
             [
              0.4444444444444444,
              "#bd3786"
             ],
             [
              0.5555555555555556,
              "#d8576b"
             ],
             [
              0.6666666666666666,
              "#ed7953"
             ],
             [
              0.7777777777777778,
              "#fb9f3a"
             ],
             [
              0.8888888888888888,
              "#fdca26"
             ],
             [
              1,
              "#f0f921"
             ]
            ],
            "type": "surface"
           }
          ],
          "table": [
           {
            "cells": {
             "fill": {
              "color": "#EBF0F8"
             },
             "line": {
              "color": "white"
             }
            },
            "header": {
             "fill": {
              "color": "#C8D4E3"
             },
             "line": {
              "color": "white"
             }
            },
            "type": "table"
           }
          ]
         },
         "layout": {
          "annotationdefaults": {
           "arrowcolor": "#2a3f5f",
           "arrowhead": 0,
           "arrowwidth": 1
          },
          "autotypenumbers": "strict",
          "coloraxis": {
           "colorbar": {
            "outlinewidth": 0,
            "ticks": ""
           }
          },
          "colorscale": {
           "diverging": [
            [
             0,
             "#8e0152"
            ],
            [
             0.1,
             "#c51b7d"
            ],
            [
             0.2,
             "#de77ae"
            ],
            [
             0.3,
             "#f1b6da"
            ],
            [
             0.4,
             "#fde0ef"
            ],
            [
             0.5,
             "#f7f7f7"
            ],
            [
             0.6,
             "#e6f5d0"
            ],
            [
             0.7,
             "#b8e186"
            ],
            [
             0.8,
             "#7fbc41"
            ],
            [
             0.9,
             "#4d9221"
            ],
            [
             1,
             "#276419"
            ]
           ],
           "sequential": [
            [
             0,
             "#0d0887"
            ],
            [
             0.1111111111111111,
             "#46039f"
            ],
            [
             0.2222222222222222,
             "#7201a8"
            ],
            [
             0.3333333333333333,
             "#9c179e"
            ],
            [
             0.4444444444444444,
             "#bd3786"
            ],
            [
             0.5555555555555556,
             "#d8576b"
            ],
            [
             0.6666666666666666,
             "#ed7953"
            ],
            [
             0.7777777777777778,
             "#fb9f3a"
            ],
            [
             0.8888888888888888,
             "#fdca26"
            ],
            [
             1,
             "#f0f921"
            ]
           ],
           "sequentialminus": [
            [
             0,
             "#0d0887"
            ],
            [
             0.1111111111111111,
             "#46039f"
            ],
            [
             0.2222222222222222,
             "#7201a8"
            ],
            [
             0.3333333333333333,
             "#9c179e"
            ],
            [
             0.4444444444444444,
             "#bd3786"
            ],
            [
             0.5555555555555556,
             "#d8576b"
            ],
            [
             0.6666666666666666,
             "#ed7953"
            ],
            [
             0.7777777777777778,
             "#fb9f3a"
            ],
            [
             0.8888888888888888,
             "#fdca26"
            ],
            [
             1,
             "#f0f921"
            ]
           ]
          },
          "colorway": [
           "#636efa",
           "#EF553B",
           "#00cc96",
           "#ab63fa",
           "#FFA15A",
           "#19d3f3",
           "#FF6692",
           "#B6E880",
           "#FF97FF",
           "#FECB52"
          ],
          "font": {
           "color": "#2a3f5f"
          },
          "geo": {
           "bgcolor": "white",
           "lakecolor": "white",
           "landcolor": "#E5ECF6",
           "showlakes": true,
           "showland": true,
           "subunitcolor": "white"
          },
          "hoverlabel": {
           "align": "left"
          },
          "hovermode": "closest",
          "mapbox": {
           "style": "light"
          },
          "paper_bgcolor": "white",
          "plot_bgcolor": "#E5ECF6",
          "polar": {
           "angularaxis": {
            "gridcolor": "white",
            "linecolor": "white",
            "ticks": ""
           },
           "bgcolor": "#E5ECF6",
           "radialaxis": {
            "gridcolor": "white",
            "linecolor": "white",
            "ticks": ""
           }
          },
          "scene": {
           "xaxis": {
            "backgroundcolor": "#E5ECF6",
            "gridcolor": "white",
            "gridwidth": 2,
            "linecolor": "white",
            "showbackground": true,
            "ticks": "",
            "zerolinecolor": "white"
           },
           "yaxis": {
            "backgroundcolor": "#E5ECF6",
            "gridcolor": "white",
            "gridwidth": 2,
            "linecolor": "white",
            "showbackground": true,
            "ticks": "",
            "zerolinecolor": "white"
           },
           "zaxis": {
            "backgroundcolor": "#E5ECF6",
            "gridcolor": "white",
            "gridwidth": 2,
            "linecolor": "white",
            "showbackground": true,
            "ticks": "",
            "zerolinecolor": "white"
           }
          },
          "shapedefaults": {
           "line": {
            "color": "#2a3f5f"
           }
          },
          "ternary": {
           "aaxis": {
            "gridcolor": "white",
            "linecolor": "white",
            "ticks": ""
           },
           "baxis": {
            "gridcolor": "white",
            "linecolor": "white",
            "ticks": ""
           },
           "bgcolor": "#E5ECF6",
           "caxis": {
            "gridcolor": "white",
            "linecolor": "white",
            "ticks": ""
           }
          },
          "title": {
           "x": 0.05
          },
          "xaxis": {
           "automargin": true,
           "gridcolor": "white",
           "linecolor": "white",
           "ticks": "",
           "title": {
            "standoff": 15
           },
           "zerolinecolor": "white",
           "zerolinewidth": 2
          },
          "yaxis": {
           "automargin": true,
           "gridcolor": "white",
           "linecolor": "white",
           "ticks": "",
           "title": {
            "standoff": 15
           },
           "zerolinecolor": "white",
           "zerolinewidth": 2
          }
         }
        },
        "title": {
         "text": "Conf Matrix"
        },
        "width": 800,
        "xaxis": {
         "title": {
          "text": "Predicted value"
         }
        },
        "yaxis": {
         "title": {
          "text": "Real value"
         }
        }
       }
      }
     },
     "metadata": {},
     "output_type": "display_data"
    }
   ],
   "source": [
    "#Obtengo las predicciones sobre el set de test. El modelo me da una lista de probabilidades para cada clase y tomo la clase con mayor probabilidad con la funcion argmax\n",
    "y_pred = lgb_model1.predict(X_test).argmax(axis=1)\n",
    "\n",
    "#Calculo el Kappa\n",
    "print(cohen_kappa_score(y_test,y_pred, weights = 'quadratic'))\n",
    "\n",
    "#Muestro la matriz de confusión\n",
    "display(plot_confusion_matrix(y_test,y_pred))"
   ]
  },
  {
   "cell_type": "markdown",
   "id": "0270bbba",
   "metadata": {},
   "source": [
    "## Modelo con optimizacion de hiperparametros train/test"
   ]
  },
  {
   "cell_type": "code",
   "execution_count": 9,
   "id": "f521b491",
   "metadata": {},
   "outputs": [],
   "source": [
    "#Funcion que vamos a optimizar. Optuna requiere que usemos el objeto trial para generar los parametros a optimizar\n",
    "def lgb_objective(trial):\n",
    "    #PArametros para LightGBM\n",
    "    lgb_params = {      \n",
    "                        #PArametros fijos\n",
    "                        'objective': 'multiclass',\n",
    "                        'verbosity':-1,\n",
    "                        'num_class': len(y_train.unique()),\n",
    "                        #Hiperparametros a optimizar utilizando suggest_float o suggest_int segun el tipo de dato\n",
    "                        #Se indica el nombre del parametro, valor minimo, valor maximo \n",
    "                        #en elgunos casos el parametro log=True para parametros que requieren buscar en esa escala\n",
    "                        'lambda_l1': trial.suggest_float('lambda_l1', 1e-8, 10.0, log=True),\n",
    "                        'lambda_l2': trial.suggest_float('lambda_l2', 1e-8, 10.0, log=True),\n",
    "                        'num_leaves': trial.suggest_int('num_leaves', 2, 256),\n",
    "                        'feature_fraction': trial.suggest_float('feature_fraction', 0.4, 1.0),\n",
    "                        'bagging_fraction': trial.suggest_float('bagging_fraction', 0.4, 1.0),\n",
    "                        'bagging_freq': trial.suggest_int('bagging_freq', 1, 7),\n",
    "                        'min_child_samples': trial.suggest_int('min_child_samples', 5, 100),\n",
    "                        } \n",
    "\n",
    "    #Genero objeto dataset de entrenamiento\n",
    "    lgb_train_dataset = lgb.Dataset(data=X_train,\n",
    "                                    label=y_train)\n",
    "\n",
    "    #ajuste de modelo\n",
    "    lgb_model2 = lgb.train(lgb_params,\n",
    "                        lgb_train_dataset)\n",
    "    \n",
    "    #Devuelvo el score en test\n",
    "    return(cohen_kappa_score(y_test,lgb_model2.predict(X_test).argmax(axis=1),\n",
    "                             weights = 'quadratic'))"
   ]
  },
  {
   "cell_type": "code",
   "execution_count": null,
   "id": "e5f668a9",
   "metadata": {},
   "outputs": [
    {
     "name": "stderr",
     "output_type": "stream",
     "text": [
      "[I 2025-05-03 23:40:01,597] A new study created in RDB with name: 100_LGBM_FE_JM_100\n",
      "[I 2025-05-03 23:40:02,477] Trial 0 finished with value: 0.3281002532364756 and parameters: {'lambda_l1': 5.055556954061397e-07, 'lambda_l2': 9.28252195633546e-06, 'num_leaves': 18, 'feature_fraction': 0.43409281860931204, 'bagging_fraction': 0.720493433729184, 'bagging_freq': 2, 'min_child_samples': 62}. Best is trial 0 with value: 0.3281002532364756.\n",
      "[I 2025-05-03 23:40:03,877] Trial 1 finished with value: 0.32484400112035505 and parameters: {'lambda_l1': 6.162993241377382e-05, 'lambda_l2': 5.70570376638077e-06, 'num_leaves': 48, 'feature_fraction': 0.6737003312064161, 'bagging_fraction': 0.9006795589469618, 'bagging_freq': 5, 'min_child_samples': 45}. Best is trial 0 with value: 0.3281002532364756.\n",
      "[I 2025-05-03 23:40:07,237] Trial 2 finished with value: 0.3247818995334486 and parameters: {'lambda_l1': 2.3821141692972674, 'lambda_l2': 3.2458881485780514e-05, 'num_leaves': 164, 'feature_fraction': 0.8533150138947314, 'bagging_fraction': 0.7833519411352494, 'bagging_freq': 3, 'min_child_samples': 14}. Best is trial 0 with value: 0.3281002532364756.\n",
      "[I 2025-05-03 23:40:09,840] Trial 3 finished with value: 0.3214558692492262 and parameters: {'lambda_l1': 0.0598365521585801, 'lambda_l2': 7.622644836189396e-06, 'num_leaves': 103, 'feature_fraction': 0.8700780244589587, 'bagging_fraction': 0.6945846889575946, 'bagging_freq': 6, 'min_child_samples': 10}. Best is trial 0 with value: 0.3281002532364756.\n",
      "[I 2025-05-03 23:40:13,998] Trial 4 finished with value: 0.31444393933847004 and parameters: {'lambda_l1': 1.8179081298434072e-06, 'lambda_l2': 1.2118361581807163e-07, 'num_leaves': 217, 'feature_fraction': 0.5200408379075474, 'bagging_fraction': 0.6775196982046645, 'bagging_freq': 5, 'min_child_samples': 30}. Best is trial 0 with value: 0.3281002532364756.\n",
      "[I 2025-05-03 23:40:15,247] Trial 5 finished with value: 0.3227148647484226 and parameters: {'lambda_l1': 1.4171726603245007, 'lambda_l2': 0.004789233558366684, 'num_leaves': 36, 'feature_fraction': 0.6648447083605092, 'bagging_fraction': 0.9568153581873734, 'bagging_freq': 3, 'min_child_samples': 87}. Best is trial 0 with value: 0.3281002532364756.\n",
      "[I 2025-05-03 23:40:17,936] Trial 6 finished with value: 0.3160373849084849 and parameters: {'lambda_l1': 2.9017966409816978e-08, 'lambda_l2': 0.0948742663738319, 'num_leaves': 89, 'feature_fraction': 0.9881746611662096, 'bagging_fraction': 0.9003479339101476, 'bagging_freq': 4, 'min_child_samples': 77}. Best is trial 0 with value: 0.3281002532364756.\n",
      "[I 2025-05-03 23:40:20,167] Trial 7 finished with value: 0.30798362484764064 and parameters: {'lambda_l1': 2.4301272117602103e-06, 'lambda_l2': 7.633444924317286e-05, 'num_leaves': 246, 'feature_fraction': 0.5052177371466967, 'bagging_fraction': 0.5996369606861893, 'bagging_freq': 2, 'min_child_samples': 48}. Best is trial 0 with value: 0.3281002532364756.\n",
      "[I 2025-05-03 23:40:20,796] Trial 8 finished with value: 0.3358962872566479 and parameters: {'lambda_l1': 1.3561894583283445e-05, 'lambda_l2': 2.2162652529875578e-05, 'num_leaves': 14, 'feature_fraction': 0.7816731933192655, 'bagging_fraction': 0.5151162480747582, 'bagging_freq': 6, 'min_child_samples': 98}. Best is trial 8 with value: 0.3358962872566479.\n",
      "[I 2025-05-03 23:40:21,847] Trial 9 finished with value: 0.3358419648332518 and parameters: {'lambda_l1': 3.2008175907726003e-06, 'lambda_l2': 9.842120770270585, 'num_leaves': 36, 'feature_fraction': 0.6538637593387993, 'bagging_fraction': 0.6672754805761038, 'bagging_freq': 5, 'min_child_samples': 86}. Best is trial 8 with value: 0.3358962872566479.\n",
      "[I 2025-05-03 23:40:23,237] Trial 10 finished with value: 0.3231584877021194 and parameters: {'lambda_l1': 0.00209343682855119, 'lambda_l2': 1.3921049404006296e-08, 'num_leaves': 157, 'feature_fraction': 0.8020827882291433, 'bagging_fraction': 0.4330449320423335, 'bagging_freq': 7, 'min_child_samples': 97}. Best is trial 8 with value: 0.3358962872566479.\n",
      "[I 2025-05-03 23:40:23,784] Trial 11 finished with value: 0.3028777618038896 and parameters: {'lambda_l1': 0.00010943585729906382, 'lambda_l2': 9.192898696493309, 'num_leaves': 4, 'feature_fraction': 0.718156427714277, 'bagging_fraction': 0.5195440472026578, 'bagging_freq': 7, 'min_child_samples': 74}. Best is trial 8 with value: 0.3358962872566479.\n",
      "[I 2025-05-03 23:40:24,669] Trial 12 finished with value: 0.32200505407118296 and parameters: {'lambda_l1': 1.2373038080576876e-08, 'lambda_l2': 8.231893408052876, 'num_leaves': 68, 'feature_fraction': 0.6193687905516599, 'bagging_fraction': 0.4021190102881818, 'bagging_freq': 5, 'min_child_samples': 99}. Best is trial 8 with value: 0.3358962872566479.\n",
      "[I 2025-05-03 23:40:25,014] Trial 13 finished with value: 0.2851441510752375 and parameters: {'lambda_l1': 0.002284715272574872, 'lambda_l2': 0.003300835449321738, 'num_leaves': 2, 'feature_fraction': 0.7398157976584407, 'bagging_fraction': 0.5475312419078553, 'bagging_freq': 6, 'min_child_samples': 81}. Best is trial 8 with value: 0.3358962872566479.\n",
      "[I 2025-05-03 23:40:26,654] Trial 14 finished with value: 0.3095950368663849 and parameters: {'lambda_l1': 2.537532904194312e-05, 'lambda_l2': 0.1237930602295143, 'num_leaves': 64, 'feature_fraction': 0.5798896801684983, 'bagging_fraction': 0.60255804807458, 'bagging_freq': 6, 'min_child_samples': 62}. Best is trial 8 with value: 0.3358962872566479.\n",
      "[I 2025-05-03 23:40:27,938] Trial 15 finished with value: 0.3082776163058638 and parameters: {'lambda_l1': 1.4079622664367843e-07, 'lambda_l2': 4.2622776104699366e-07, 'num_leaves': 127, 'feature_fraction': 0.9713471742873621, 'bagging_fraction': 0.47788979459078745, 'bagging_freq': 4, 'min_child_samples': 91}. Best is trial 8 with value: 0.3358962872566479.\n",
      "[I 2025-05-03 23:40:29,405] Trial 16 finished with value: 0.32343381694088347 and parameters: {'lambda_l1': 1.1450884164150491e-05, 'lambda_l2': 0.0008622493594070263, 'num_leaves': 35, 'feature_fraction': 0.764671524632774, 'bagging_fraction': 0.7718555679722127, 'bagging_freq': 1, 'min_child_samples': 67}. Best is trial 8 with value: 0.3358962872566479.\n",
      "[I 2025-05-03 23:40:31,020] Trial 17 finished with value: 0.3203026617425587 and parameters: {'lambda_l1': 0.0008794294200689343, 'lambda_l2': 0.6025832076423233, 'num_leaves': 96, 'feature_fraction': 0.8730682751808068, 'bagging_fraction': 0.5979675039708979, 'bagging_freq': 6, 'min_child_samples': 84}. Best is trial 8 with value: 0.3358962872566479.\n",
      "[I 2025-05-03 23:40:32,443] Trial 18 finished with value: 0.3109456718300404 and parameters: {'lambda_l1': 0.020605443732176678, 'lambda_l2': 0.02692923328260202, 'num_leaves': 68, 'feature_fraction': 0.5875408228746031, 'bagging_fraction': 0.6347735356398961, 'bagging_freq': 5, 'min_child_samples': 98}. Best is trial 8 with value: 0.3358962872566479.\n",
      "[I 2025-05-03 23:40:34,691] Trial 19 finished with value: 0.2968378117728251 and parameters: {'lambda_l1': 4.238328914458888e-06, 'lambda_l2': 0.00030123604572110087, 'num_leaves': 137, 'feature_fraction': 0.8056552356485029, 'bagging_fraction': 0.5113027349835861, 'bagging_freq': 7, 'min_child_samples': 36}. Best is trial 8 with value: 0.3358962872566479.\n",
      "[I 2025-05-03 23:40:37,420] Trial 20 finished with value: 0.3246040589986421 and parameters: {'lambda_l1': 3.5330156526438215e-07, 'lambda_l2': 3.67096772122246e-07, 'num_leaves': 182, 'feature_fraction': 0.9326240503246171, 'bagging_fraction': 0.7765857920391339, 'bagging_freq': 4, 'min_child_samples': 74}. Best is trial 8 with value: 0.3358962872566479.\n",
      "[I 2025-05-03 23:40:38,509] Trial 21 finished with value: 0.3196552961777904 and parameters: {'lambda_l1': 2.496959526549763e-07, 'lambda_l2': 4.763941370539936e-06, 'num_leaves': 27, 'feature_fraction': 0.43278515665851236, 'bagging_fraction': 0.739314078431573, 'bagging_freq': 2, 'min_child_samples': 60}. Best is trial 8 with value: 0.3358962872566479.\n",
      "[I 2025-05-03 23:40:39,404] Trial 22 finished with value: 0.33137759702253233 and parameters: {'lambda_l1': 7.582290889823575e-07, 'lambda_l2': 6.637164952006958e-05, 'num_leaves': 20, 'feature_fraction': 0.41079391325783304, 'bagging_fraction': 0.838761995886516, 'bagging_freq': 1, 'min_child_samples': 90}. Best is trial 8 with value: 0.3358962872566479.\n",
      "[I 2025-05-03 23:40:40,955] Trial 23 finished with value: 0.3332925765162925 and parameters: {'lambda_l1': 0.0001975771981045201, 'lambda_l2': 0.00022313043264797754, 'num_leaves': 52, 'feature_fraction': 0.5006157477036011, 'bagging_fraction': 0.8392847843470782, 'bagging_freq': 1, 'min_child_samples': 90}. Best is trial 8 with value: 0.3358962872566479.\n",
      "[I 2025-05-03 23:40:42,828] Trial 24 finished with value: 0.31370547394807846 and parameters: {'lambda_l1': 0.0002209644836755523, 'lambda_l2': 0.0004713391276051544, 'num_leaves': 54, 'feature_fraction': 0.5070309056626278, 'bagging_fraction': 0.842315359085862, 'bagging_freq': 3, 'min_child_samples': 91}. Best is trial 8 with value: 0.3358962872566479.\n",
      "[I 2025-05-03 23:40:44,223] Trial 25 finished with value: 0.31179097389027344 and parameters: {'lambda_l1': 1.6938197575684992e-05, 'lambda_l2': 0.0026462641404985223, 'num_leaves': 75, 'feature_fraction': 0.6186318962261239, 'bagging_fraction': 0.6581235847697022, 'bagging_freq': 5, 'min_child_samples': 100}. Best is trial 8 with value: 0.3358962872566479.\n",
      "[I 2025-05-03 23:40:46,647] Trial 26 finished with value: 0.30822992158378537 and parameters: {'lambda_l1': 0.0005461089136206349, 'lambda_l2': 0.809967492514004, 'num_leaves': 111, 'feature_fraction': 0.5455189731225714, 'bagging_fraction': 0.9743634105038503, 'bagging_freq': 6, 'min_child_samples': 71}. Best is trial 8 with value: 0.3358962872566479.\n",
      "[I 2025-05-03 23:40:48,497] Trial 27 finished with value: 0.3184925858968809 and parameters: {'lambda_l1': 0.005156819176541689, 'lambda_l2': 0.017893999485028414, 'num_leaves': 50, 'feature_fraction': 0.666963675134206, 'bagging_fraction': 0.8443822688134867, 'bagging_freq': 4, 'min_child_samples': 84}. Best is trial 8 with value: 0.3358962872566479.\n",
      "[I 2025-05-03 23:40:49,809] Trial 28 finished with value: 0.320485004799977 and parameters: {'lambda_l1': 7.041953776397512e-06, 'lambda_l2': 0.0001059007458285275, 'num_leaves': 80, 'feature_fraction': 0.7688249887748939, 'bagging_fraction': 0.46195337102944056, 'bagging_freq': 7, 'min_child_samples': 79}. Best is trial 8 with value: 0.3358962872566479.\n",
      "[I 2025-05-03 23:40:50,577] Trial 29 finished with value: 0.33561957433635914 and parameters: {'lambda_l1': 5.705834989783722e-05, 'lambda_l2': 1.2850657312864577e-06, 'num_leaves': 16, 'feature_fraction': 0.46359639174132145, 'bagging_fraction': 0.7150647205334042, 'bagging_freq': 2, 'min_child_samples': 58}. Best is trial 8 with value: 0.3358962872566479.\n",
      "[I 2025-05-03 23:40:51,331] Trial 30 finished with value: 0.3175248068724196 and parameters: {'lambda_l1': 5.425968429459887e-05, 'lambda_l2': 2.1530739610316093e-08, 'num_leaves': 15, 'feature_fraction': 0.47009631444999955, 'bagging_fraction': 0.7272266124225232, 'bagging_freq': 3, 'min_child_samples': 55}. Best is trial 8 with value: 0.3358962872566479.\n",
      "[I 2025-05-03 23:40:52,605] Trial 31 finished with value: 0.32739363840415747 and parameters: {'lambda_l1': 0.0002319302714573882, 'lambda_l2': 1.420886044089715e-06, 'num_leaves': 40, 'feature_fraction': 0.46948706291090514, 'bagging_fraction': 0.7977400942611808, 'bagging_freq': 2, 'min_child_samples': 91}. Best is trial 8 with value: 0.3358962872566479.\n",
      "[I 2025-05-03 23:40:53,282] Trial 32 finished with value: 0.3284031543815791 and parameters: {'lambda_l1': 6.998188167266358e-05, 'lambda_l2': 2.3195000076883105e-06, 'num_leaves': 14, 'feature_fraction': 0.45948380149771995, 'bagging_fraction': 0.9221199350129217, 'bagging_freq': 1, 'min_child_samples': 38}. Best is trial 8 with value: 0.3358962872566479.\n",
      "[I 2025-05-03 23:40:55,107] Trial 33 finished with value: 0.31828961153847724 and parameters: {'lambda_l1': 1.7686410173300692e-06, 'lambda_l2': 3.0184132462410823e-05, 'num_leaves': 50, 'feature_fraction': 0.566217212543488, 'bagging_fraction': 0.5702533063244708, 'bagging_freq': 1, 'min_child_samples': 68}. Best is trial 8 with value: 0.3358962872566479.\n",
      "[I 2025-05-03 23:40:56,044] Trial 34 finished with value: 0.3229182448229049 and parameters: {'lambda_l1': 3.10565132958063e-05, 'lambda_l2': 2.0976034119902823e-05, 'num_leaves': 27, 'feature_fraction': 0.4046328227697434, 'bagging_fraction': 0.7068564955549037, 'bagging_freq': 1, 'min_child_samples': 94}. Best is trial 8 with value: 0.3358962872566479.\n",
      "[I 2025-05-03 23:40:56,658] Trial 35 finished with value: 0.3240558677853911 and parameters: {'lambda_l1': 0.019463197217268614, 'lambda_l2': 9.077272845763288e-08, 'num_leaves': 11, 'feature_fraction': 0.6248545404102765, 'bagging_fraction': 0.6370201585239698, 'bagging_freq': 2, 'min_child_samples': 52}. Best is trial 8 with value: 0.3358962872566479.\n",
      "[I 2025-05-03 23:40:57,782] Trial 36 finished with value: 0.32654829884184033 and parameters: {'lambda_l1': 9.406409930389051e-07, 'lambda_l2': 1.3050918189956776e-05, 'num_leaves': 39, 'feature_fraction': 0.6924295301130113, 'bagging_fraction': 0.879400561783503, 'bagging_freq': 5, 'min_child_samples': 14}. Best is trial 8 with value: 0.3358962872566479.\n",
      "[I 2025-05-03 23:40:59,243] Trial 37 finished with value: 0.31629239889426586 and parameters: {'lambda_l1': 6.654588656484376e-08, 'lambda_l2': 7.836353378873369e-07, 'num_leaves': 57, 'feature_fraction': 0.5336689623201074, 'bagging_fraction': 0.7495633092995517, 'bagging_freq': 3, 'min_child_samples': 22}. Best is trial 8 with value: 0.3358962872566479.\n",
      "[I 2025-05-03 23:41:00,456] Trial 38 finished with value: 0.32255936093150417 and parameters: {'lambda_l1': 0.6189228683676206, 'lambda_l2': 0.0001938839875282453, 'num_leaves': 24, 'feature_fraction': 0.8287556707823951, 'bagging_fraction': 0.682087424403696, 'bagging_freq': 5, 'min_child_samples': 86}. Best is trial 8 with value: 0.3358962872566479.\n",
      "[I 2025-05-03 23:41:02,641] Trial 39 finished with value: 0.3178802329272761 and parameters: {'lambda_l1': 4.628276676515376e-06, 'lambda_l2': 3.61169450036238e-06, 'num_leaves': 88, 'feature_fraction': 0.8863782066557244, 'bagging_fraction': 0.8198693745427985, 'bagging_freq': 2, 'min_child_samples': 41}. Best is trial 8 with value: 0.3358962872566479.\n",
      "[I 2025-05-03 23:41:04,836] Trial 40 finished with value: 0.31762581258388756 and parameters: {'lambda_l1': 0.00018564820629274537, 'lambda_l2': 1.0216013389421013e-07, 'num_leaves': 115, 'feature_fraction': 0.4912640557796574, 'bagging_fraction': 0.9339906649986072, 'bagging_freq': 6, 'min_child_samples': 29}. Best is trial 8 with value: 0.3358962872566479.\n",
      "[I 2025-05-03 23:41:05,803] Trial 41 finished with value: 0.3201679631025285 and parameters: {'lambda_l1': 7.423763499097481e-07, 'lambda_l2': 4.285742448151129e-05, 'num_leaves': 23, 'feature_fraction': 0.408392590980157, 'bagging_fraction': 0.8455541098541103, 'bagging_freq': 1, 'min_child_samples': 88}. Best is trial 8 with value: 0.3358962872566479.\n",
      "[I 2025-05-03 23:41:07,372] Trial 42 finished with value: 0.31310024595267993 and parameters: {'lambda_l1': 1.2553084549699554e-05, 'lambda_l2': 0.0011195928312941609, 'num_leaves': 39, 'feature_fraction': 0.4251728677177461, 'bagging_fraction': 0.8797637449909416, 'bagging_freq': 1, 'min_child_samples': 94}. Best is trial 8 with value: 0.3358962872566479.\n",
      "[I 2025-05-03 23:41:07,864] Trial 43 finished with value: 0.3178710709091581 and parameters: {'lambda_l1': 1.9197455910585473e-06, 'lambda_l2': 0.00010672171648365138, 'num_leaves': 7, 'feature_fraction': 0.45376974624818556, 'bagging_fraction': 0.8030248745228734, 'bagging_freq': 1, 'min_child_samples': 81}. Best is trial 8 with value: 0.3358962872566479.\n",
      "[I 2025-05-03 23:41:08,744] Trial 44 finished with value: 0.31883440044553923 and parameters: {'lambda_l1': 5.708506813277854e-05, 'lambda_l2': 8.611411854391262e-06, 'num_leaves': 21, 'feature_fraction': 0.4882329372760779, 'bagging_fraction': 0.9989415884685217, 'bagging_freq': 2, 'min_child_samples': 95}. Best is trial 8 with value: 0.3358962872566479.\n",
      "[I 2025-05-03 23:41:09,208] Trial 45 finished with value: 0.3139102050764464 and parameters: {'lambda_l1': 0.00081305870198429, 'lambda_l2': 5.3576030334479716e-05, 'num_leaves': 4, 'feature_fraction': 0.7241429025546994, 'bagging_fraction': 0.877961101656149, 'bagging_freq': 2, 'min_child_samples': 76}. Best is trial 8 with value: 0.3358962872566479.\n",
      "[I 2025-05-03 23:41:11,052] Trial 46 finished with value: 0.3260307829039395 and parameters: {'lambda_l1': 3.173445629589178e-08, 'lambda_l2': 1.2106316928579033e-05, 'num_leaves': 208, 'feature_fraction': 0.5477395314960616, 'bagging_fraction': 0.749522034184508, 'bagging_freq': 1, 'min_child_samples': 88}. Best is trial 8 with value: 0.3358962872566479.\n",
      "[I 2025-05-03 23:41:12,091] Trial 47 finished with value: 0.32716839126215647 and parameters: {'lambda_l1': 4.953115413982628e-06, 'lambda_l2': 0.0080413599599886, 'num_leaves': 32, 'feature_fraction': 0.4384130040291789, 'bagging_fraction': 0.5524656919287467, 'bagging_freq': 5, 'min_child_samples': 5}. Best is trial 8 with value: 0.3358962872566479.\n",
      "[I 2025-05-03 23:41:13,977] Trial 48 finished with value: 0.33849924045633484 and parameters: {'lambda_l1': 1.9232224609811766e-07, 'lambda_l2': 0.001010549906199869, 'num_leaves': 42, 'feature_fraction': 0.6420939354679011, 'bagging_fraction': 0.6995444930469882, 'bagging_freq': 4, 'min_child_samples': 100}. Best is trial 48 with value: 0.33849924045633484.\n",
      "[I 2025-05-03 23:41:15,153] Trial 49 finished with value: 0.3158035434078633 and parameters: {'lambda_l1': 7.63770677703304, 'lambda_l2': 0.0014523817132727828, 'num_leaves': 62, 'feature_fraction': 0.6313923134256084, 'bagging_fraction': 0.6545205201133832, 'bagging_freq': 4, 'min_child_samples': 99}. Best is trial 48 with value: 0.33849924045633484.\n",
      "[I 2025-05-03 23:41:16,434] Trial 50 finished with value: 0.33506882146498673 and parameters: {'lambda_l1': 1.2357885352498024e-07, 'lambda_l2': 2.2155276499065915, 'num_leaves': 45, 'feature_fraction': 0.6465711118431309, 'bagging_fraction': 0.7097445720056238, 'bagging_freq': 3, 'min_child_samples': 95}. Best is trial 48 with value: 0.33849924045633484.\n",
      "[I 2025-05-03 23:41:17,788] Trial 51 finished with value: 0.3340757872059952 and parameters: {'lambda_l1': 1.0672391973816174e-08, 'lambda_l2': 2.0630005272725915, 'num_leaves': 43, 'feature_fraction': 0.6906484556875748, 'bagging_fraction': 0.7079311808683447, 'bagging_freq': 3, 'min_child_samples': 95}. Best is trial 48 with value: 0.33849924045633484.\n",
      "[I 2025-05-03 23:41:19,288] Trial 52 finished with value: 0.32217802245729965 and parameters: {'lambda_l1': 1.3664039431518114e-08, 'lambda_l2': 3.0745843678589315, 'num_leaves': 37, 'feature_fraction': 0.6454234043226543, 'bagging_fraction': 0.7036934352173538, 'bagging_freq': 3, 'min_child_samples': 95}. Best is trial 48 with value: 0.33849924045633484.\n",
      "[I 2025-05-03 23:41:20,665] Trial 53 finished with value: 0.3512164792913808 and parameters: {'lambda_l1': 6.845292694025618e-08, 'lambda_l2': 2.8355751831184235, 'num_leaves': 44, 'feature_fraction': 0.6906843512620886, 'bagging_fraction': 0.6830045321083795, 'bagging_freq': 3, 'min_child_samples': 82}. Best is trial 53 with value: 0.3512164792913808.\n",
      "[I 2025-05-03 23:41:22,241] Trial 54 finished with value: 0.3274978747686008 and parameters: {'lambda_l1': 1.6265189630398775e-07, 'lambda_l2': 0.17881580909419123, 'num_leaves': 80, 'feature_fraction': 0.7611566474059077, 'bagging_fraction': 0.6098790661398611, 'bagging_freq': 4, 'min_child_samples': 82}. Best is trial 53 with value: 0.3512164792913808.\n",
      "[I 2025-05-03 23:41:24,177] Trial 55 finished with value: 0.31819984165199 and parameters: {'lambda_l1': 9.055333430203307e-08, 'lambda_l2': 4.074355260585552, 'num_leaves': 70, 'feature_fraction': 0.7140354795115901, 'bagging_fraction': 0.6748470166938525, 'bagging_freq': 3, 'min_child_samples': 67}. Best is trial 53 with value: 0.3512164792913808.\n",
      "[I 2025-05-03 23:41:24,529] Trial 56 finished with value: 0.2804401976395845 and parameters: {'lambda_l1': 4.8638296850344896e-08, 'lambda_l2': 1.0484277816162626, 'num_leaves': 2, 'feature_fraction': 0.6598512023289121, 'bagging_fraction': 0.7604069522968431, 'bagging_freq': 4, 'min_child_samples': 100}. Best is trial 53 with value: 0.3512164792913808.\n",
      "[I 2025-05-03 23:41:26,594] Trial 57 finished with value: 0.32217000477286717 and parameters: {'lambda_l1': 3.7441797847801596e-07, 'lambda_l2': 0.2560879747282271, 'num_leaves': 59, 'feature_fraction': 0.6008271873185327, 'bagging_fraction': 0.6268883041244797, 'bagging_freq': 4, 'min_child_samples': 85}. Best is trial 53 with value: 0.3512164792913808.\n",
      "[I 2025-05-03 23:41:27,763] Trial 58 finished with value: 0.3295158928382895 and parameters: {'lambda_l1': 1.6251010340361164e-07, 'lambda_l2': 9.474791619518172, 'num_leaves': 31, 'feature_fraction': 0.7478913406401985, 'bagging_fraction': 0.7264322249349485, 'bagging_freq': 3, 'min_child_samples': 77}. Best is trial 53 with value: 0.3512164792913808.\n",
      "[I 2025-05-03 23:41:29,891] Trial 59 finished with value: 0.29944164887582037 and parameters: {'lambda_l1': 1.207176816226586e-06, 'lambda_l2': 0.058970331317898535, 'num_leaves': 163, 'feature_fraction': 0.6825235516422169, 'bagging_fraction': 0.6776855836359451, 'bagging_freq': 6, 'min_child_samples': 58}. Best is trial 53 with value: 0.3512164792913808.\n",
      "[I 2025-05-03 23:41:32,178] Trial 60 finished with value: 0.30478604635407247 and parameters: {'lambda_l1': 4.79967784332312e-07, 'lambda_l2': 0.4103158259705551, 'num_leaves': 247, 'feature_fraction': 0.7818779544658597, 'bagging_fraction': 0.581326481423301, 'bagging_freq': 5, 'min_child_samples': 63}. Best is trial 53 with value: 0.3512164792913808.\n",
      "[I 2025-05-03 23:41:33,434] Trial 61 finished with value: 0.32975728593159914 and parameters: {'lambda_l1': 1.0261184949474661e-08, 'lambda_l2': 2.7515129611653206, 'num_leaves': 43, 'feature_fraction': 0.699981183440016, 'bagging_fraction': 0.7106938968042283, 'bagging_freq': 3, 'min_child_samples': 95}. Best is trial 53 with value: 0.3512164792913808.\n",
      "[I 2025-05-03 23:41:34,686] Trial 62 finished with value: 0.34112856245845247 and parameters: {'lambda_l1': 2.785805622924068e-08, 'lambda_l2': 1.2624825690417265, 'num_leaves': 46, 'feature_fraction': 0.6533511244590972, 'bagging_fraction': 0.5193834273623403, 'bagging_freq': 4, 'min_child_samples': 97}. Best is trial 53 with value: 0.3512164792913808.\n",
      "[I 2025-05-03 23:41:35,979] Trial 63 finished with value: 0.32457284770227457 and parameters: {'lambda_l1': 3.347090184249994e-08, 'lambda_l2': 1.3447097099933905, 'num_leaves': 49, 'feature_fraction': 0.5992927628036815, 'bagging_fraction': 0.5136741395165936, 'bagging_freq': 4, 'min_child_samples': 91}. Best is trial 53 with value: 0.3512164792913808.\n",
      "[I 2025-05-03 23:41:36,672] Trial 64 finished with value: 0.3254885209462852 and parameters: {'lambda_l1': 9.611215200000432e-08, 'lambda_l2': 0.4861636887642917, 'num_leaves': 15, 'feature_fraction': 0.6514522309650502, 'bagging_fraction': 0.4126564249040682, 'bagging_freq': 4, 'min_child_samples': 97}. Best is trial 53 with value: 0.3512164792913808.\n",
      "[I 2025-05-03 23:41:38,133] Trial 65 finished with value: 0.34197456098572365 and parameters: {'lambda_l1': 2.2339377661540126e-07, 'lambda_l2': 4.616012771271238, 'num_leaves': 144, 'feature_fraction': 0.7261261123297531, 'bagging_fraction': 0.461817062220431, 'bagging_freq': 5, 'min_child_samples': 100}. Best is trial 53 with value: 0.3512164792913808.\n",
      "[I 2025-05-03 23:41:39,761] Trial 66 finished with value: 0.33374261823974916 and parameters: {'lambda_l1': 2.74896508981953e-08, 'lambda_l2': 8.311131269370987, 'num_leaves': 142, 'feature_fraction': 0.7284277475161078, 'bagging_fraction': 0.49527241279598444, 'bagging_freq': 5, 'min_child_samples': 48}. Best is trial 53 with value: 0.3512164792913808.\n",
      "[I 2025-05-03 23:41:40,796] Trial 67 finished with value: 0.3235716506660484 and parameters: {'lambda_l1': 2.887204986881122e-07, 'lambda_l2': 4.724991428245361, 'num_leaves': 179, 'feature_fraction': 0.7896075915041759, 'bagging_fraction': 0.4542318231886582, 'bagging_freq': 5, 'min_child_samples': 100}. Best is trial 53 with value: 0.3512164792913808.\n",
      "[I 2025-05-03 23:41:42,128] Trial 68 finished with value: 0.3196786031178618 and parameters: {'lambda_l1': 2.3547956696326716e-05, 'lambda_l2': 5.24099643080192, 'num_leaves': 176, 'feature_fraction': 0.8140267328576991, 'bagging_fraction': 0.5318332122679394, 'bagging_freq': 6, 'min_child_samples': 92}. Best is trial 53 with value: 0.3512164792913808.\n",
      "[I 2025-05-03 23:41:43,749] Trial 69 finished with value: 0.3131372085678459 and parameters: {'lambda_l1': 8.971359688955687e-06, 'lambda_l2': 0.08012709849592173, 'num_leaves': 138, 'feature_fraction': 0.6742336270509102, 'bagging_fraction': 0.4854555459464201, 'bagging_freq': 5, 'min_child_samples': 88}. Best is trial 53 with value: 0.3512164792913808.\n",
      "[I 2025-05-03 23:41:45,172] Trial 70 finished with value: 0.3111759781552319 and parameters: {'lambda_l1': 3.2860103644860176e-06, 'lambda_l2': 1.430044998493875, 'num_leaves': 125, 'feature_fraction': 0.8488184132322745, 'bagging_fraction': 0.4579225726467243, 'bagging_freq': 7, 'min_child_samples': 72}. Best is trial 53 with value: 0.3512164792913808.\n",
      "[I 2025-05-03 23:41:46,208] Trial 71 finished with value: 0.332672708959157 and parameters: {'lambda_l1': 1.5633024558448417e-07, 'lambda_l2': 1.7187886447171892, 'num_leaves': 30, 'feature_fraction': 0.7471367509736182, 'bagging_fraction': 0.43121653569470114, 'bagging_freq': 4, 'min_child_samples': 97}. Best is trial 53 with value: 0.3512164792913808.\n",
      "[I 2025-05-03 23:41:47,725] Trial 72 finished with value: 0.3260188887421508 and parameters: {'lambda_l1': 6.071885901403709e-08, 'lambda_l2': 0.7104078890035413, 'num_leaves': 150, 'feature_fraction': 0.6413581060034597, 'bagging_fraction': 0.6608951740345003, 'bagging_freq': 3, 'min_child_samples': 93}. Best is trial 53 with value: 0.3512164792913808.\n",
      "[I 2025-05-03 23:41:49,301] Trial 73 finished with value: 0.3214250740403276 and parameters: {'lambda_l1': 6.293320151679159e-07, 'lambda_l2': 3.978987489895161e-08, 'num_leaves': 100, 'feature_fraction': 0.7094089856959815, 'bagging_fraction': 0.6936527106749172, 'bagging_freq': 6, 'min_child_samples': 97}. Best is trial 53 with value: 0.3512164792913808.\n",
      "[I 2025-05-03 23:41:50,348] Trial 74 finished with value: 0.33142013451968944 and parameters: {'lambda_l1': 2.609714159417057e-08, 'lambda_l2': 4.182384449904267e-07, 'num_leaves': 19, 'feature_fraction': 0.6059093845855048, 'bagging_fraction': 0.5385247738933402, 'bagging_freq': 4, 'min_child_samples': 82}. Best is trial 53 with value: 0.3512164792913808.\n",
      "[I 2025-05-03 23:41:51,695] Trial 75 finished with value: 0.32380630562698465 and parameters: {'lambda_l1': 2.2967999899438547e-07, 'lambda_l2': 0.28659945178388113, 'num_leaves': 44, 'feature_fraction': 0.6694972207879911, 'bagging_fraction': 0.7373607064904177, 'bagging_freq': 2, 'min_child_samples': 88}. Best is trial 53 with value: 0.3512164792913808.\n",
      "[I 2025-05-03 23:41:52,253] Trial 76 finished with value: 0.3092557755630245 and parameters: {'lambda_l1': 1.7444821361378214e-08, 'lambda_l2': 5.263505459008268, 'num_leaves': 10, 'feature_fraction': 0.5700235961692932, 'bagging_fraction': 0.5665894582519527, 'bagging_freq': 5, 'min_child_samples': 97}. Best is trial 53 with value: 0.3512164792913808.\n",
      "[I 2025-05-03 23:41:53,737] Trial 77 finished with value: 0.3265946179030764 and parameters: {'lambda_l1': 1.535728055206909e-06, 'lambda_l2': 2.377417281639904e-07, 'num_leaves': 66, 'feature_fraction': 0.6188553306517531, 'bagging_fraction': 0.642408403792145, 'bagging_freq': 3, 'min_child_samples': 85}. Best is trial 53 with value: 0.3512164792913808.\n",
      "[I 2025-05-03 23:41:55,197] Trial 78 finished with value: 0.31790948865873014 and parameters: {'lambda_l1': 8.410033617531297e-08, 'lambda_l2': 1.1484724986455059e-06, 'num_leaves': 54, 'feature_fraction': 0.7355761639682139, 'bagging_fraction': 0.613681326023348, 'bagging_freq': 6, 'min_child_samples': 92}. Best is trial 53 with value: 0.3512164792913808.\n",
      "[I 2025-05-03 23:41:56,554] Trial 79 finished with value: 0.3292448637510119 and parameters: {'lambda_l1': 0.00013202860919109513, 'lambda_l2': 0.0004943454170278107, 'num_leaves': 27, 'feature_fraction': 0.7048354881035171, 'bagging_fraction': 0.5895748360999763, 'bagging_freq': 5, 'min_child_samples': 100}. Best is trial 53 with value: 0.3512164792913808.\n",
      "[I 2025-05-03 23:41:58,356] Trial 80 finished with value: 0.33603066270095294 and parameters: {'lambda_l1': 2.6114755564345946e-05, 'lambda_l2': 2.4857435595248933, 'num_leaves': 119, 'feature_fraction': 0.6818201660943904, 'bagging_fraction': 0.7686967310194495, 'bagging_freq': 2, 'min_child_samples': 89}. Best is trial 53 with value: 0.3512164792913808.\n",
      "[I 2025-05-03 23:42:00,194] Trial 81 finished with value: 0.3235180456551041 and parameters: {'lambda_l1': 2.7347117643316185e-05, 'lambda_l2': 2.578688725436261, 'num_leaves': 207, 'feature_fraction': 0.639045531158671, 'bagging_fraction': 0.781760308823834, 'bagging_freq': 2, 'min_child_samples': 90}. Best is trial 53 with value: 0.3512164792913808.\n",
      "[I 2025-05-03 23:42:02,370] Trial 82 finished with value: 0.3067371047381584 and parameters: {'lambda_l1': 5.2510004749895386e-05, 'lambda_l2': 0.7390257081466214, 'num_leaves': 118, 'feature_fraction': 0.6834253994827267, 'bagging_fraction': 0.6894738482858925, 'bagging_freq': 2, 'min_child_samples': 80}. Best is trial 53 with value: 0.3512164792913808.\n",
      "[I 2025-05-03 23:42:03,697] Trial 83 finished with value: 0.3237095159300011 and parameters: {'lambda_l1': 1.4424328231695238e-05, 'lambda_l2': 6.590299114646514, 'num_leaves': 232, 'feature_fraction': 0.6554748432192594, 'bagging_fraction': 0.5001951496457172, 'bagging_freq': 2, 'min_child_samples': 94}. Best is trial 53 with value: 0.3512164792913808.\n",
      "[I 2025-05-03 23:42:05,508] Trial 84 finished with value: 0.3231745419697991 and parameters: {'lambda_l1': 7.270925357158429e-06, 'lambda_l2': 3.5386818538628253, 'num_leaves': 148, 'feature_fraction': 0.7634951346900765, 'bagging_fraction': 0.8027965289849632, 'bagging_freq': 4, 'min_child_samples': 87}. Best is trial 53 with value: 0.3512164792913808.\n",
      "[I 2025-05-03 23:42:06,526] Trial 85 finished with value: 0.31799571836354 and parameters: {'lambda_l1': 2.4695755364621884e-06, 'lambda_l2': 1.8515843551948106, 'num_leaves': 33, 'feature_fraction': 0.6711465037101736, 'bagging_fraction': 0.47078113066028326, 'bagging_freq': 3, 'min_child_samples': 98}. Best is trial 53 with value: 0.3512164792913808.\n",
      "[I 2025-05-03 23:42:08,791] Trial 86 finished with value: 0.31639132103310996 and parameters: {'lambda_l1': 5.470771624136878e-08, 'lambda_l2': 3.100220062007718e-06, 'num_leaves': 85, 'feature_fraction': 0.5775986895878745, 'bagging_fraction': 0.7635245242485946, 'bagging_freq': 7, 'min_child_samples': 83}. Best is trial 53 with value: 0.3512164792913808.\n",
      "[I 2025-05-03 23:42:10,243] Trial 87 finished with value: 0.32151398306361323 and parameters: {'lambda_l1': 9.353082878957195e-05, 'lambda_l2': 1.0018805494075367, 'num_leaves': 47, 'feature_fraction': 0.7204810515688211, 'bagging_fraction': 0.7287471752958566, 'bagging_freq': 2, 'min_child_samples': 90}. Best is trial 53 with value: 0.3512164792913808.\n",
      "[I 2025-05-03 23:42:11,939] Trial 88 finished with value: 0.3082780334872668 and parameters: {'lambda_l1': 3.6759813451518504e-05, 'lambda_l2': 0.011948975403083947, 'num_leaves': 72, 'feature_fraction': 0.7020166243175547, 'bagging_fraction': 0.668520694661695, 'bagging_freq': 4, 'min_child_samples': 32}. Best is trial 53 with value: 0.3512164792913808.\n",
      "[I 2025-05-03 23:42:13,548] Trial 89 finished with value: 0.32016086633853147 and parameters: {'lambda_l1': 0.0005636876601118489, 'lambda_l2': 0.29765178149243177, 'num_leaves': 61, 'feature_fraction': 0.9121655930681936, 'bagging_fraction': 0.715915011067672, 'bagging_freq': 4, 'min_child_samples': 93}. Best is trial 53 with value: 0.3512164792913808.\n",
      "[I 2025-05-03 23:42:15,958] Trial 90 finished with value: 0.3170719866163838 and parameters: {'lambda_l1': 1.1547772912273214e-07, 'lambda_l2': 0.04232537033222314, 'num_leaves': 131, 'feature_fraction': 0.6298757306591716, 'bagging_fraction': 0.7494302445613812, 'bagging_freq': 6, 'min_child_samples': 79}. Best is trial 53 with value: 0.3512164792913808.\n",
      "[I 2025-05-03 23:42:17,326] Trial 91 finished with value: 0.328405522323999 and parameters: {'lambda_l1': 3.6103889394285444e-08, 'lambda_l2': 2.2750594080892728, 'num_leaves': 39, 'feature_fraction': 0.6944321806120325, 'bagging_fraction': 0.7038022273828495, 'bagging_freq': 3, 'min_child_samples': 95}. Best is trial 53 with value: 0.3512164792913808.\n",
      "[I 2025-05-03 23:42:18,448] Trial 92 finished with value: 0.32965330279587046 and parameters: {'lambda_l1': 2.2735047205219923e-08, 'lambda_l2': 8.91326769996096, 'num_leaves': 24, 'feature_fraction': 0.6895130194313741, 'bagging_fraction': 0.6906604541832587, 'bagging_freq': 3, 'min_child_samples': 96}. Best is trial 53 with value: 0.3512164792913808.\n",
      "[I 2025-05-03 23:42:19,286] Trial 93 finished with value: 0.31681428913411114 and parameters: {'lambda_l1': 1.3713801723448548e-08, 'lambda_l2': 0.15943614579824567, 'num_leaves': 18, 'feature_fraction': 0.6597454413092319, 'bagging_fraction': 0.4428954902667702, 'bagging_freq': 3, 'min_child_samples': 98}. Best is trial 53 with value: 0.3512164792913808.\n",
      "[I 2025-05-03 23:42:21,347] Trial 94 finished with value: 0.32025109731362467 and parameters: {'lambda_l1': 4.6660717219471994e-07, 'lambda_l2': 2.239313957714308e-05, 'num_leaves': 54, 'feature_fraction': 0.7816665371787306, 'bagging_fraction': 0.7213978888606791, 'bagging_freq': 3, 'min_child_samples': 100}. Best is trial 53 with value: 0.3512164792913808.\n",
      "[I 2025-05-03 23:42:22,595] Trial 95 finished with value: 0.31832715270129164 and parameters: {'lambda_l1': 4.431172819743931e-08, 'lambda_l2': 3.5358584821358536, 'num_leaves': 45, 'feature_fraction': 0.7439372919896903, 'bagging_fraction': 0.6533640515173689, 'bagging_freq': 2, 'min_child_samples': 89}. Best is trial 53 with value: 0.3512164792913808.\n",
      "[I 2025-05-03 23:42:23,238] Trial 96 finished with value: 0.32361540846089476 and parameters: {'lambda_l1': 2.547119266214875e-07, 'lambda_l2': 0.506339869744787, 'num_leaves': 11, 'feature_fraction': 0.685170606009054, 'bagging_fraction': 0.8226624952429157, 'bagging_freq': 2, 'min_child_samples': 86}. Best is trial 53 with value: 0.3512164792913808.\n",
      "[I 2025-05-03 23:42:24,376] Trial 97 finished with value: 0.3470297060261085 and parameters: {'lambda_l1': 1.9919115260734458e-08, 'lambda_l2': 6.416493561727929e-06, 'num_leaves': 31, 'feature_fraction': 0.8220199758125831, 'bagging_fraction': 0.7395440433087221, 'bagging_freq': 3, 'min_child_samples': 92}. Best is trial 53 with value: 0.3512164792913808.\n",
      "[I 2025-05-03 23:42:25,572] Trial 98 finished with value: 0.33003472282450275 and parameters: {'lambda_l1': 9.929927228623515e-07, 'lambda_l2': 5.466592170999359e-06, 'num_leaves': 34, 'feature_fraction': 0.842699537109302, 'bagging_fraction': 0.789648184217907, 'bagging_freq': 4, 'min_child_samples': 92}. Best is trial 53 with value: 0.3512164792913808.\n",
      "[I 2025-05-03 23:42:26,574] Trial 99 finished with value: 0.3350820312960592 and parameters: {'lambda_l1': 0.00031754590100144676, 'lambda_l2': 1.6952756394108395e-06, 'num_leaves': 22, 'feature_fraction': 0.8176468340420592, 'bagging_fraction': 0.7666497996597549, 'bagging_freq': 5, 'min_child_samples': 76}. Best is trial 53 with value: 0.3512164792913808.\n"
     ]
    }
   ],
   "source": [
    "#Defino el estudio a optimizar\n",
    "study = optuna.create_study(direction='maximize', #buscamos maximizar la metrica\n",
    "                            storage=\"sqlite:///../work/db_100_LGBM_FE_JM_100.sqlite3\",  # Specify the storage URL here.\n",
    "                            study_name=\"100_LGBM_FE_JM_100\", #nombre del experimento\n",
    "                            load_if_exists=True) #continuar si ya existe\n",
    "\n",
    "#Corremos 100 trials para buscar mejores parametros\n",
    "study.optimize(lgb_objective, n_trials=100)"
   ]
  },
  {
   "cell_type": "code",
   "execution_count": 11,
   "id": "f9697749",
   "metadata": {},
   "outputs": [
    {
     "data": {
      "text/plain": [
       "{'lambda_l1': 6.845292694025618e-08,\n",
       " 'lambda_l2': 2.8355751831184235,\n",
       " 'num_leaves': 44,\n",
       " 'feature_fraction': 0.6906843512620886,\n",
       " 'bagging_fraction': 0.6830045321083795,\n",
       " 'bagging_freq': 3,\n",
       " 'min_child_samples': 82}"
      ]
     },
     "execution_count": 11,
     "metadata": {},
     "output_type": "execute_result"
    }
   ],
   "source": [
    "#Obtenemos mejor resultado\n",
    "study.best_params"
   ]
  },
  {
   "cell_type": "code",
   "execution_count": 12,
   "id": "b0db9f91",
   "metadata": {},
   "outputs": [
    {
     "name": "stdout",
     "output_type": "stream",
     "text": [
      "0.3512164792913808\n"
     ]
    },
    {
     "data": {
      "application/vnd.plotly.v1+json": {
       "config": {
        "plotlyServerURL": "https://plot.ly"
       },
       "data": [
        {
         "type": "heatmap",
         "x": {
          "bdata": "AAECAwQ=",
          "dtype": "i1"
         },
         "y": {
          "bdata": "AAECAwQ=",
          "dtype": "i1"
         },
         "z": {
          "bdata": "g/MxOB+DE0AsUbsStStHQA3Ox+B8DDxAE7UrUbsSIUBkcD4G52MoQA4wbu9DtsQ/C4eJMhfUQEBbihUOE2VBQA/2W20MTSdAzAU1wLi9M0AyN17RtMrXP5N+p5AIEzRA/iCoYo9kQ0BgdcJt6hswQDZRAGnDqDhAAAAAAAAAAACaynXHiy0xQBdmNYo4dDtAU7nueLElO0D8FWY1ijg8QAAAAAAAAAAAAAAAAAAAJEDbtm3btu0yQIZhGIZhGCJAMQzDMAwDT0A=",
          "dtype": "f8",
          "shape": "5, 5"
         }
        }
       ],
       "layout": {
        "annotations": [
         {
          "font": {
           "color": "white"
          },
          "showarrow": false,
          "text": "4.9 - 4",
          "x": 0,
          "xref": "x",
          "y": 0,
          "yref": "y"
         },
         {
          "font": {
           "color": "white"
          },
          "showarrow": false,
          "text": "46.3 - 38",
          "x": 1,
          "xref": "x",
          "y": 0,
          "yref": "y"
         },
         {
          "font": {
           "color": "white"
          },
          "showarrow": false,
          "text": "28.0 - 23",
          "x": 2,
          "xref": "x",
          "y": 0,
          "yref": "y"
         },
         {
          "font": {
           "color": "white"
          },
          "showarrow": false,
          "text": "8.5 - 7",
          "x": 3,
          "xref": "x",
          "y": 0,
          "yref": "y"
         },
         {
          "font": {
           "color": "white"
          },
          "showarrow": false,
          "text": "12.2 - 10",
          "x": 4,
          "xref": "x",
          "y": 0,
          "yref": "y"
         },
         {
          "font": {
           "color": "white"
          },
          "showarrow": false,
          "text": "0.2 - 1",
          "x": 0,
          "xref": "x",
          "y": 1,
          "yref": "y"
         },
         {
          "font": {
           "color": "white"
          },
          "showarrow": false,
          "text": "33.7 - 208",
          "x": 1,
          "xref": "x",
          "y": 1,
          "yref": "y"
         },
         {
          "font": {
           "color": "white"
          },
          "showarrow": false,
          "text": "34.8 - 215",
          "x": 2,
          "xref": "x",
          "y": 1,
          "yref": "y"
         },
         {
          "font": {
           "color": "white"
          },
          "showarrow": false,
          "text": "11.7 - 72",
          "x": 3,
          "xref": "x",
          "y": 1,
          "yref": "y"
         },
         {
          "font": {
           "color": "white"
          },
          "showarrow": false,
          "text": "19.7 - 122",
          "x": 4,
          "xref": "x",
          "y": 1,
          "yref": "y"
         },
         {
          "font": {
           "color": "white"
          },
          "showarrow": false,
          "text": "0.4 - 3",
          "x": 0,
          "xref": "x",
          "y": 2,
          "yref": "y"
         },
         {
          "font": {
           "color": "white"
          },
          "showarrow": false,
          "text": "20.1 - 162",
          "x": 1,
          "xref": "x",
          "y": 2,
          "yref": "y"
         },
         {
          "font": {
           "color": "white"
          },
          "showarrow": false,
          "text": "38.8 - 313",
          "x": 2,
          "xref": "x",
          "y": 2,
          "yref": "y"
         },
         {
          "font": {
           "color": "white"
          },
          "showarrow": false,
          "text": "16.1 - 130",
          "x": 3,
          "xref": "x",
          "y": 2,
          "yref": "y"
         },
         {
          "font": {
           "color": "white"
          },
          "showarrow": false,
          "text": "24.7 - 199",
          "x": 4,
          "xref": "x",
          "y": 2,
          "yref": "y"
         },
         {
          "font": {
           "color": "white"
          },
          "showarrow": false,
          "text": "0.0 - 0",
          "x": 0,
          "xref": "x",
          "y": 3,
          "yref": "y"
         },
         {
          "font": {
           "color": "white"
          },
          "showarrow": false,
          "text": "17.2 - 112",
          "x": 1,
          "xref": "x",
          "y": 3,
          "yref": "y"
         },
         {
          "font": {
           "color": "white"
          },
          "showarrow": false,
          "text": "27.5 - 179",
          "x": 2,
          "xref": "x",
          "y": 3,
          "yref": "y"
         },
         {
          "font": {
           "color": "white"
          },
          "showarrow": false,
          "text": "27.1 - 177",
          "x": 3,
          "xref": "x",
          "y": 3,
          "yref": "y"
         },
         {
          "font": {
           "color": "white"
          },
          "showarrow": false,
          "text": "28.2 - 184",
          "x": 4,
          "xref": "x",
          "y": 3,
          "yref": "y"
         },
         {
          "font": {
           "color": "white"
          },
          "showarrow": false,
          "text": "0.0 - 0",
          "x": 0,
          "xref": "x",
          "y": 4,
          "yref": "y"
         },
         {
          "font": {
           "color": "white"
          },
          "showarrow": false,
          "text": "10.0 - 84",
          "x": 1,
          "xref": "x",
          "y": 4,
          "yref": "y"
         },
         {
          "font": {
           "color": "white"
          },
          "showarrow": false,
          "text": "18.9 - 159",
          "x": 2,
          "xref": "x",
          "y": 4,
          "yref": "y"
         },
         {
          "font": {
           "color": "white"
          },
          "showarrow": false,
          "text": "9.0 - 76",
          "x": 3,
          "xref": "x",
          "y": 4,
          "yref": "y"
         },
         {
          "font": {
           "color": "white"
          },
          "showarrow": false,
          "text": "62.0 - 521",
          "x": 4,
          "xref": "x",
          "y": 4,
          "yref": "y"
         }
        ],
        "height": 800,
        "template": {
         "data": {
          "bar": [
           {
            "error_x": {
             "color": "#2a3f5f"
            },
            "error_y": {
             "color": "#2a3f5f"
            },
            "marker": {
             "line": {
              "color": "#E5ECF6",
              "width": 0.5
             },
             "pattern": {
              "fillmode": "overlay",
              "size": 10,
              "solidity": 0.2
             }
            },
            "type": "bar"
           }
          ],
          "barpolar": [
           {
            "marker": {
             "line": {
              "color": "#E5ECF6",
              "width": 0.5
             },
             "pattern": {
              "fillmode": "overlay",
              "size": 10,
              "solidity": 0.2
             }
            },
            "type": "barpolar"
           }
          ],
          "carpet": [
           {
            "aaxis": {
             "endlinecolor": "#2a3f5f",
             "gridcolor": "white",
             "linecolor": "white",
             "minorgridcolor": "white",
             "startlinecolor": "#2a3f5f"
            },
            "baxis": {
             "endlinecolor": "#2a3f5f",
             "gridcolor": "white",
             "linecolor": "white",
             "minorgridcolor": "white",
             "startlinecolor": "#2a3f5f"
            },
            "type": "carpet"
           }
          ],
          "choropleth": [
           {
            "colorbar": {
             "outlinewidth": 0,
             "ticks": ""
            },
            "type": "choropleth"
           }
          ],
          "contour": [
           {
            "colorbar": {
             "outlinewidth": 0,
             "ticks": ""
            },
            "colorscale": [
             [
              0,
              "#0d0887"
             ],
             [
              0.1111111111111111,
              "#46039f"
             ],
             [
              0.2222222222222222,
              "#7201a8"
             ],
             [
              0.3333333333333333,
              "#9c179e"
             ],
             [
              0.4444444444444444,
              "#bd3786"
             ],
             [
              0.5555555555555556,
              "#d8576b"
             ],
             [
              0.6666666666666666,
              "#ed7953"
             ],
             [
              0.7777777777777778,
              "#fb9f3a"
             ],
             [
              0.8888888888888888,
              "#fdca26"
             ],
             [
              1,
              "#f0f921"
             ]
            ],
            "type": "contour"
           }
          ],
          "contourcarpet": [
           {
            "colorbar": {
             "outlinewidth": 0,
             "ticks": ""
            },
            "type": "contourcarpet"
           }
          ],
          "heatmap": [
           {
            "colorbar": {
             "outlinewidth": 0,
             "ticks": ""
            },
            "colorscale": [
             [
              0,
              "#0d0887"
             ],
             [
              0.1111111111111111,
              "#46039f"
             ],
             [
              0.2222222222222222,
              "#7201a8"
             ],
             [
              0.3333333333333333,
              "#9c179e"
             ],
             [
              0.4444444444444444,
              "#bd3786"
             ],
             [
              0.5555555555555556,
              "#d8576b"
             ],
             [
              0.6666666666666666,
              "#ed7953"
             ],
             [
              0.7777777777777778,
              "#fb9f3a"
             ],
             [
              0.8888888888888888,
              "#fdca26"
             ],
             [
              1,
              "#f0f921"
             ]
            ],
            "type": "heatmap"
           }
          ],
          "histogram": [
           {
            "marker": {
             "pattern": {
              "fillmode": "overlay",
              "size": 10,
              "solidity": 0.2
             }
            },
            "type": "histogram"
           }
          ],
          "histogram2d": [
           {
            "colorbar": {
             "outlinewidth": 0,
             "ticks": ""
            },
            "colorscale": [
             [
              0,
              "#0d0887"
             ],
             [
              0.1111111111111111,
              "#46039f"
             ],
             [
              0.2222222222222222,
              "#7201a8"
             ],
             [
              0.3333333333333333,
              "#9c179e"
             ],
             [
              0.4444444444444444,
              "#bd3786"
             ],
             [
              0.5555555555555556,
              "#d8576b"
             ],
             [
              0.6666666666666666,
              "#ed7953"
             ],
             [
              0.7777777777777778,
              "#fb9f3a"
             ],
             [
              0.8888888888888888,
              "#fdca26"
             ],
             [
              1,
              "#f0f921"
             ]
            ],
            "type": "histogram2d"
           }
          ],
          "histogram2dcontour": [
           {
            "colorbar": {
             "outlinewidth": 0,
             "ticks": ""
            },
            "colorscale": [
             [
              0,
              "#0d0887"
             ],
             [
              0.1111111111111111,
              "#46039f"
             ],
             [
              0.2222222222222222,
              "#7201a8"
             ],
             [
              0.3333333333333333,
              "#9c179e"
             ],
             [
              0.4444444444444444,
              "#bd3786"
             ],
             [
              0.5555555555555556,
              "#d8576b"
             ],
             [
              0.6666666666666666,
              "#ed7953"
             ],
             [
              0.7777777777777778,
              "#fb9f3a"
             ],
             [
              0.8888888888888888,
              "#fdca26"
             ],
             [
              1,
              "#f0f921"
             ]
            ],
            "type": "histogram2dcontour"
           }
          ],
          "mesh3d": [
           {
            "colorbar": {
             "outlinewidth": 0,
             "ticks": ""
            },
            "type": "mesh3d"
           }
          ],
          "parcoords": [
           {
            "line": {
             "colorbar": {
              "outlinewidth": 0,
              "ticks": ""
             }
            },
            "type": "parcoords"
           }
          ],
          "pie": [
           {
            "automargin": true,
            "type": "pie"
           }
          ],
          "scatter": [
           {
            "fillpattern": {
             "fillmode": "overlay",
             "size": 10,
             "solidity": 0.2
            },
            "type": "scatter"
           }
          ],
          "scatter3d": [
           {
            "line": {
             "colorbar": {
              "outlinewidth": 0,
              "ticks": ""
             }
            },
            "marker": {
             "colorbar": {
              "outlinewidth": 0,
              "ticks": ""
             }
            },
            "type": "scatter3d"
           }
          ],
          "scattercarpet": [
           {
            "marker": {
             "colorbar": {
              "outlinewidth": 0,
              "ticks": ""
             }
            },
            "type": "scattercarpet"
           }
          ],
          "scattergeo": [
           {
            "marker": {
             "colorbar": {
              "outlinewidth": 0,
              "ticks": ""
             }
            },
            "type": "scattergeo"
           }
          ],
          "scattergl": [
           {
            "marker": {
             "colorbar": {
              "outlinewidth": 0,
              "ticks": ""
             }
            },
            "type": "scattergl"
           }
          ],
          "scattermap": [
           {
            "marker": {
             "colorbar": {
              "outlinewidth": 0,
              "ticks": ""
             }
            },
            "type": "scattermap"
           }
          ],
          "scattermapbox": [
           {
            "marker": {
             "colorbar": {
              "outlinewidth": 0,
              "ticks": ""
             }
            },
            "type": "scattermapbox"
           }
          ],
          "scatterpolar": [
           {
            "marker": {
             "colorbar": {
              "outlinewidth": 0,
              "ticks": ""
             }
            },
            "type": "scatterpolar"
           }
          ],
          "scatterpolargl": [
           {
            "marker": {
             "colorbar": {
              "outlinewidth": 0,
              "ticks": ""
             }
            },
            "type": "scatterpolargl"
           }
          ],
          "scatterternary": [
           {
            "marker": {
             "colorbar": {
              "outlinewidth": 0,
              "ticks": ""
             }
            },
            "type": "scatterternary"
           }
          ],
          "surface": [
           {
            "colorbar": {
             "outlinewidth": 0,
             "ticks": ""
            },
            "colorscale": [
             [
              0,
              "#0d0887"
             ],
             [
              0.1111111111111111,
              "#46039f"
             ],
             [
              0.2222222222222222,
              "#7201a8"
             ],
             [
              0.3333333333333333,
              "#9c179e"
             ],
             [
              0.4444444444444444,
              "#bd3786"
             ],
             [
              0.5555555555555556,
              "#d8576b"
             ],
             [
              0.6666666666666666,
              "#ed7953"
             ],
             [
              0.7777777777777778,
              "#fb9f3a"
             ],
             [
              0.8888888888888888,
              "#fdca26"
             ],
             [
              1,
              "#f0f921"
             ]
            ],
            "type": "surface"
           }
          ],
          "table": [
           {
            "cells": {
             "fill": {
              "color": "#EBF0F8"
             },
             "line": {
              "color": "white"
             }
            },
            "header": {
             "fill": {
              "color": "#C8D4E3"
             },
             "line": {
              "color": "white"
             }
            },
            "type": "table"
           }
          ]
         },
         "layout": {
          "annotationdefaults": {
           "arrowcolor": "#2a3f5f",
           "arrowhead": 0,
           "arrowwidth": 1
          },
          "autotypenumbers": "strict",
          "coloraxis": {
           "colorbar": {
            "outlinewidth": 0,
            "ticks": ""
           }
          },
          "colorscale": {
           "diverging": [
            [
             0,
             "#8e0152"
            ],
            [
             0.1,
             "#c51b7d"
            ],
            [
             0.2,
             "#de77ae"
            ],
            [
             0.3,
             "#f1b6da"
            ],
            [
             0.4,
             "#fde0ef"
            ],
            [
             0.5,
             "#f7f7f7"
            ],
            [
             0.6,
             "#e6f5d0"
            ],
            [
             0.7,
             "#b8e186"
            ],
            [
             0.8,
             "#7fbc41"
            ],
            [
             0.9,
             "#4d9221"
            ],
            [
             1,
             "#276419"
            ]
           ],
           "sequential": [
            [
             0,
             "#0d0887"
            ],
            [
             0.1111111111111111,
             "#46039f"
            ],
            [
             0.2222222222222222,
             "#7201a8"
            ],
            [
             0.3333333333333333,
             "#9c179e"
            ],
            [
             0.4444444444444444,
             "#bd3786"
            ],
            [
             0.5555555555555556,
             "#d8576b"
            ],
            [
             0.6666666666666666,
             "#ed7953"
            ],
            [
             0.7777777777777778,
             "#fb9f3a"
            ],
            [
             0.8888888888888888,
             "#fdca26"
            ],
            [
             1,
             "#f0f921"
            ]
           ],
           "sequentialminus": [
            [
             0,
             "#0d0887"
            ],
            [
             0.1111111111111111,
             "#46039f"
            ],
            [
             0.2222222222222222,
             "#7201a8"
            ],
            [
             0.3333333333333333,
             "#9c179e"
            ],
            [
             0.4444444444444444,
             "#bd3786"
            ],
            [
             0.5555555555555556,
             "#d8576b"
            ],
            [
             0.6666666666666666,
             "#ed7953"
            ],
            [
             0.7777777777777778,
             "#fb9f3a"
            ],
            [
             0.8888888888888888,
             "#fdca26"
            ],
            [
             1,
             "#f0f921"
            ]
           ]
          },
          "colorway": [
           "#636efa",
           "#EF553B",
           "#00cc96",
           "#ab63fa",
           "#FFA15A",
           "#19d3f3",
           "#FF6692",
           "#B6E880",
           "#FF97FF",
           "#FECB52"
          ],
          "font": {
           "color": "#2a3f5f"
          },
          "geo": {
           "bgcolor": "white",
           "lakecolor": "white",
           "landcolor": "#E5ECF6",
           "showlakes": true,
           "showland": true,
           "subunitcolor": "white"
          },
          "hoverlabel": {
           "align": "left"
          },
          "hovermode": "closest",
          "mapbox": {
           "style": "light"
          },
          "paper_bgcolor": "white",
          "plot_bgcolor": "#E5ECF6",
          "polar": {
           "angularaxis": {
            "gridcolor": "white",
            "linecolor": "white",
            "ticks": ""
           },
           "bgcolor": "#E5ECF6",
           "radialaxis": {
            "gridcolor": "white",
            "linecolor": "white",
            "ticks": ""
           }
          },
          "scene": {
           "xaxis": {
            "backgroundcolor": "#E5ECF6",
            "gridcolor": "white",
            "gridwidth": 2,
            "linecolor": "white",
            "showbackground": true,
            "ticks": "",
            "zerolinecolor": "white"
           },
           "yaxis": {
            "backgroundcolor": "#E5ECF6",
            "gridcolor": "white",
            "gridwidth": 2,
            "linecolor": "white",
            "showbackground": true,
            "ticks": "",
            "zerolinecolor": "white"
           },
           "zaxis": {
            "backgroundcolor": "#E5ECF6",
            "gridcolor": "white",
            "gridwidth": 2,
            "linecolor": "white",
            "showbackground": true,
            "ticks": "",
            "zerolinecolor": "white"
           }
          },
          "shapedefaults": {
           "line": {
            "color": "#2a3f5f"
           }
          },
          "ternary": {
           "aaxis": {
            "gridcolor": "white",
            "linecolor": "white",
            "ticks": ""
           },
           "baxis": {
            "gridcolor": "white",
            "linecolor": "white",
            "ticks": ""
           },
           "bgcolor": "#E5ECF6",
           "caxis": {
            "gridcolor": "white",
            "linecolor": "white",
            "ticks": ""
           }
          },
          "title": {
           "x": 0.05
          },
          "xaxis": {
           "automargin": true,
           "gridcolor": "white",
           "linecolor": "white",
           "ticks": "",
           "title": {
            "standoff": 15
           },
           "zerolinecolor": "white",
           "zerolinewidth": 2
          },
          "yaxis": {
           "automargin": true,
           "gridcolor": "white",
           "linecolor": "white",
           "ticks": "",
           "title": {
            "standoff": 15
           },
           "zerolinecolor": "white",
           "zerolinewidth": 2
          }
         }
        },
        "title": {
         "text": "Conf Matrix"
        },
        "width": 800,
        "xaxis": {
         "title": {
          "text": "Predicted value"
         }
        },
        "yaxis": {
         "title": {
          "text": "Real value"
         }
        }
       }
      }
     },
     "metadata": {},
     "output_type": "display_data"
    }
   ],
   "source": [
    "#Vamos a replicar el resultado de la optimizacion reentrenando el modelo con el mejor conjunto de hiperparametros\n",
    "#Generamos parametros incluyendo los fijos y la mejor solución que encontro optuna\n",
    "lgb_params =  {      \n",
    "                        'objective': 'multiclass',\n",
    "                        'verbosity':-1,\n",
    "                        'num_class': len(y_train.unique())} | study.best_params\n",
    "\n",
    "lgb_train_dataset = lgb.Dataset(data=X_train,\n",
    "                                label=y_train)\n",
    "\n",
    "\n",
    "#Entreno\n",
    "lgb_model2 = lgb.train(lgb_params,\n",
    "                    lgb_train_dataset)\n",
    "\n",
    "#Muestro matriz de confusion y kappa\n",
    "print(cohen_kappa_score(y_test,lgb_model2.predict(X_test).argmax(axis=1),\n",
    "                             weights = 'quadratic'))\n",
    "\n",
    "display(plot_confusion_matrix(y_test,lgb_model2.predict(X_test).argmax(axis=1)))\n",
    "\n"
   ]
  },
  {
   "cell_type": "markdown",
   "id": "52853014",
   "metadata": {},
   "source": [
    "## Modelo con optimizacion de hiperparametros con 5 Fold Cross Validation"
   ]
  },
  {
   "cell_type": "code",
   "execution_count": 13,
   "id": "1f79d12c",
   "metadata": {},
   "outputs": [],
   "source": [
    "from optuna.artifacts import FileSystemArtifactStore, upload_artifact\n",
    "from sklearn.metrics import cohen_kappa_score\n",
    "from sklearn.model_selection import StratifiedKFold\n",
    "import lightgbm as lgb\n",
    "import numpy as np\n",
    "import os\n",
    "from joblib import dump\n",
    "import matplotlib.pyplot as plt\n",
    "from sklearn.metrics import confusion_matrix, ConfusionMatrixDisplay\n",
    "\n",
    "def lgb_custom_metric_kappa(dy_pred, dy_true):\n",
    "    metric_name = 'kappa'\n",
    "    value = cohen_kappa_score(dy_true.get_label(), dy_pred.argmax(axis=1), weights='quadratic')\n",
    "    is_higher_better = True\n",
    "    return (metric_name, value, is_higher_better)\n",
    "\n",
    "def cv_es_lgb_objective(trial):\n",
    "    \n",
    "    # Inicio el store de artefactos (archivos) de Optuna\n",
    "    artifact_store = FileSystemArtifactStore(base_path=PATH_TO_OPTUNA_ARTIFACTS)\n",
    "\n",
    "    # Hiperparámetros a optimizar\n",
    "    lgb_params = {\n",
    "        'objective': 'multiclass',\n",
    "        'verbosity': -1,\n",
    "        'num_class': len(y_train.unique()),\n",
    "        'lambda_l1': trial.suggest_float('lambda_l1', 1e-8, 10.0, log=True),\n",
    "        'lambda_l2': trial.suggest_float('lambda_l2', 1e-8, 10.0, log=True),\n",
    "        'num_leaves': trial.suggest_int('num_leaves', 2, 256),\n",
    "        'feature_fraction': trial.suggest_float('feature_fraction', 0.4, 1.0),\n",
    "        'bagging_fraction': trial.suggest_float('bagging_fraction', 0.4, 1.0),\n",
    "        'bagging_freq': trial.suggest_int('bagging_freq', 1, 7),\n",
    "        'min_child_samples': trial.suggest_int('min_child_samples', 5, 100),\n",
    "        'n_jobs': -1\n",
    "    }\n",
    "    \n",
    "    scores_ensemble = np.zeros((len(y_test), len(y_train.unique())))\n",
    "    score_folds = 0\n",
    "    n_splits = 5\n",
    "    skf = StratifiedKFold(n_splits=n_splits)\n",
    "\n",
    "    for i, (if_index, oof_index) in enumerate(skf.split(X_train, y_train)):\n",
    "\n",
    "        lgb_if_dataset = lgb.Dataset(data=X_train.iloc[if_index],\n",
    "                                     label=y_train.iloc[if_index],\n",
    "                                     free_raw_data=False)\n",
    "        \n",
    "        lgb_oof_dataset = lgb.Dataset(data=X_train.iloc[oof_index],\n",
    "                                      label=y_train.iloc[oof_index],\n",
    "                                      free_raw_data=False)\n",
    "                \n",
    "        lgb_model3 = lgb.train(\n",
    "            lgb_params,\n",
    "            lgb_if_dataset,\n",
    "            valid_sets=lgb_oof_dataset,\n",
    "            callbacks=[lgb.early_stopping(10, verbose=False)],\n",
    "            feval=lgb_custom_metric_kappa\n",
    "        )\n",
    "        \n",
    "        scores_ensemble += lgb_model3.predict(X_test)\n",
    "\n",
    "        score_folds += cohen_kappa_score(\n",
    "            y_train.iloc[oof_index],\n",
    "            lgb_model3.predict(X_train.iloc[oof_index]).argmax(axis=1),\n",
    "            weights='quadratic'\n",
    "        ) / n_splits\n",
    "    \n",
    "    # Guardar predicciones sobre test\n",
    "    predicted_filename = os.path.join(PATH_TO_TEMP_FILES, f'test_{trial.study.study_name}_{trial.number}.joblib')\n",
    "    predicted_df = test.copy()\n",
    "    predicted_df['pred'] = [scores_ensemble[p, :] for p in range(scores_ensemble.shape[0])]\n",
    "    dump(predicted_df, predicted_filename)\n",
    "\n",
    "    # Uso keyword arguments en upload_artifact. Asociar las predicciones como artefacto.\n",
    "    upload_artifact(\n",
    "        study_or_trial=trial,\n",
    "        file_path=predicted_filename,\n",
    "        artifact_store=artifact_store\n",
    "    )\n",
    "\n",
    "    # Generar nombre de archivo (¡esto es un string, no lo pises!)\n",
    "    cm_filename = os.path.join(PATH_TO_TEMP_FILES, f'cm_{trial.study.study_name}_{trial.number}.jpg')\n",
    "\n",
    "    # Crear y guardar matriz de confusión\n",
    "    cm = confusion_matrix(y_test, scores_ensemble.argmax(axis=1))\n",
    "    disp = ConfusionMatrixDisplay(cm)\n",
    "    disp.plot()\n",
    "    plt.savefig(cm_filename)\n",
    "    plt.close()\n",
    "\n",
    "    # Uso keyword arguments en upload_artifact. Asociar la imagen como artefacto\n",
    "    upload_artifact(\n",
    "        study_or_trial=trial,\n",
    "        file_path=cm_filename,\n",
    "        artifact_store=artifact_store\n",
    "    )\n",
    "    \n",
    "    # Guardar el score en test como métrica auxiliar\n",
    "    test_score = cohen_kappa_score(y_test, scores_ensemble.argmax(axis=1), weights='quadratic')\n",
    "    trial.set_user_attr(\"test_score\", test_score)\n",
    "\n",
    "    # Devuelvo el promedio de los scores del CV (objetivo a maximizar)\n",
    "    return score_folds"
   ]
  },
  {
   "cell_type": "code",
   "execution_count": null,
   "id": "44742181",
   "metadata": {},
   "outputs": [
    {
     "name": "stderr",
     "output_type": "stream",
     "text": [
      "[I 2025-05-03 23:42:28,156] A new study created in RDB with name: 100_LGBM_FE_JM_100_CV\n",
      "[I 2025-05-03 23:42:34,005] Trial 0 finished with value: 0.3511579100049229 and parameters: {'lambda_l1': 6.268702285036272, 'lambda_l2': 1.8092040477577867e-06, 'num_leaves': 76, 'feature_fraction': 0.7078299525937497, 'bagging_fraction': 0.6561586127976612, 'bagging_freq': 3, 'min_child_samples': 96}. Best is trial 0 with value: 0.3511579100049229.\n",
      "[I 2025-05-03 23:42:40,432] Trial 1 finished with value: 0.33757370796304864 and parameters: {'lambda_l1': 0.0005003428466066577, 'lambda_l2': 0.026484346876856423, 'num_leaves': 178, 'feature_fraction': 0.7716322634176257, 'bagging_fraction': 0.7389183160475512, 'bagging_freq': 6, 'min_child_samples': 28}. Best is trial 0 with value: 0.3511579100049229.\n",
      "[I 2025-05-03 23:42:45,190] Trial 2 finished with value: 0.3329721751725863 and parameters: {'lambda_l1': 0.2112764045419158, 'lambda_l2': 0.00031572167755850185, 'num_leaves': 47, 'feature_fraction': 0.8397342623690793, 'bagging_fraction': 0.4005866556461699, 'bagging_freq': 6, 'min_child_samples': 56}. Best is trial 0 with value: 0.3511579100049229.\n",
      "[I 2025-05-03 23:42:51,340] Trial 3 finished with value: 0.3409050217806794 and parameters: {'lambda_l1': 0.0013954584712390016, 'lambda_l2': 4.69452729368069e-08, 'num_leaves': 220, 'feature_fraction': 0.9583346062896221, 'bagging_fraction': 0.8145805014381076, 'bagging_freq': 5, 'min_child_samples': 33}. Best is trial 0 with value: 0.3511579100049229.\n",
      "[I 2025-05-03 23:42:55,611] Trial 4 finished with value: 0.32828701568709967 and parameters: {'lambda_l1': 3.557972296683732e-05, 'lambda_l2': 4.719836364485745e-05, 'num_leaves': 4, 'feature_fraction': 0.9090275562075739, 'bagging_fraction': 0.4639977514696148, 'bagging_freq': 2, 'min_child_samples': 98}. Best is trial 0 with value: 0.3511579100049229.\n",
      "[I 2025-05-03 23:43:02,874] Trial 5 finished with value: 0.35243975141727557 and parameters: {'lambda_l1': 1.341509009871358e-05, 'lambda_l2': 1.9060759180671082e-08, 'num_leaves': 94, 'feature_fraction': 0.47679129410739074, 'bagging_fraction': 0.8097406565463041, 'bagging_freq': 3, 'min_child_samples': 45}. Best is trial 5 with value: 0.35243975141727557.\n",
      "[I 2025-05-03 23:43:07,527] Trial 6 finished with value: 0.3385526713557582 and parameters: {'lambda_l1': 0.18729821656548873, 'lambda_l2': 0.0006970359768215885, 'num_leaves': 145, 'feature_fraction': 0.48942715296762596, 'bagging_fraction': 0.5300256033487925, 'bagging_freq': 1, 'min_child_samples': 94}. Best is trial 5 with value: 0.35243975141727557.\n",
      "[I 2025-05-03 23:43:13,737] Trial 7 finished with value: 0.33901105235895 and parameters: {'lambda_l1': 1.7046728038185446e-08, 'lambda_l2': 6.398162331941527e-05, 'num_leaves': 229, 'feature_fraction': 0.9588759536005553, 'bagging_fraction': 0.9748874502249206, 'bagging_freq': 4, 'min_child_samples': 36}. Best is trial 5 with value: 0.35243975141727557.\n",
      "[I 2025-05-03 23:43:19,002] Trial 8 finished with value: 0.342825532455191 and parameters: {'lambda_l1': 5.6946963904893606e-05, 'lambda_l2': 3.289948049033136e-08, 'num_leaves': 146, 'feature_fraction': 0.44993184064842806, 'bagging_fraction': 0.6801409268378826, 'bagging_freq': 6, 'min_child_samples': 68}. Best is trial 5 with value: 0.35243975141727557.\n",
      "[I 2025-05-03 23:43:24,935] Trial 9 finished with value: 0.35240817704043237 and parameters: {'lambda_l1': 0.003502450172526983, 'lambda_l2': 0.6097005337844233, 'num_leaves': 249, 'feature_fraction': 0.5749384089546345, 'bagging_fraction': 0.5369853177339529, 'bagging_freq': 6, 'min_child_samples': 96}. Best is trial 5 with value: 0.35243975141727557.\n",
      "[I 2025-05-03 23:43:30,816] Trial 10 finished with value: 0.3544142322721032 and parameters: {'lambda_l1': 2.0017411002651087e-07, 'lambda_l2': 5.395902646080105, 'num_leaves': 84, 'feature_fraction': 0.5972066951017041, 'bagging_fraction': 0.9127484882040677, 'bagging_freq': 3, 'min_child_samples': 6}. Best is trial 10 with value: 0.3544142322721032.\n",
      "[I 2025-05-03 23:43:37,445] Trial 11 finished with value: 0.35448872475601 and parameters: {'lambda_l1': 1.5655632404304103e-07, 'lambda_l2': 6.404529873972684, 'num_leaves': 91, 'feature_fraction': 0.5988322354178448, 'bagging_fraction': 0.9248816891134788, 'bagging_freq': 3, 'min_child_samples': 8}. Best is trial 11 with value: 0.35448872475601.\n",
      "[I 2025-05-03 23:43:43,020] Trial 12 finished with value: 0.353840477855127 and parameters: {'lambda_l1': 5.060884457333212e-08, 'lambda_l2': 5.919996002894851, 'num_leaves': 98, 'feature_fraction': 0.6275720025155939, 'bagging_fraction': 0.996432604033755, 'bagging_freq': 3, 'min_child_samples': 7}. Best is trial 11 with value: 0.35448872475601.\n",
      "[I 2025-05-03 23:43:47,887] Trial 13 finished with value: 0.35455416365952325 and parameters: {'lambda_l1': 2.6901083407447993e-07, 'lambda_l2': 0.04978146898157703, 'num_leaves': 42, 'feature_fraction': 0.5922807582287907, 'bagging_fraction': 0.9014580903255279, 'bagging_freq': 1, 'min_child_samples': 5}. Best is trial 13 with value: 0.35455416365952325.\n",
      "[I 2025-05-03 23:43:52,170] Trial 14 finished with value: 0.3512731989005431 and parameters: {'lambda_l1': 1.4771276899845244e-06, 'lambda_l2': 0.050962230796927785, 'num_leaves': 22, 'feature_fraction': 0.6775814685728294, 'bagging_fraction': 0.8820243512723612, 'bagging_freq': 1, 'min_child_samples': 20}. Best is trial 13 with value: 0.35455416365952325.\n",
      "[I 2025-05-03 23:43:57,169] Trial 15 finished with value: 0.355586454306815 and parameters: {'lambda_l1': 9.026613712378008e-07, 'lambda_l2': 0.07078198238122464, 'num_leaves': 53, 'feature_fraction': 0.5349046038252697, 'bagging_fraction': 0.8997922848639046, 'bagging_freq': 2, 'min_child_samples': 18}. Best is trial 15 with value: 0.355586454306815.\n",
      "[I 2025-05-03 23:44:02,035] Trial 16 finished with value: 0.3612172344410698 and parameters: {'lambda_l1': 3.2182744691333647e-06, 'lambda_l2': 0.020907570028675094, 'num_leaves': 42, 'feature_fraction': 0.534635130805379, 'bagging_fraction': 0.8053767287706578, 'bagging_freq': 1, 'min_child_samples': 19}. Best is trial 16 with value: 0.3612172344410698.\n",
      "[I 2025-05-03 23:44:08,185] Trial 17 finished with value: 0.3508998278761925 and parameters: {'lambda_l1': 2.952773622742389e-06, 'lambda_l2': 0.002708498416978571, 'num_leaves': 56, 'feature_fraction': 0.41577222351477033, 'bagging_fraction': 0.7886988473841747, 'bagging_freq': 2, 'min_child_samples': 18}. Best is trial 16 with value: 0.3612172344410698.\n",
      "[I 2025-05-03 23:44:14,119] Trial 18 finished with value: 0.3512702289476354 and parameters: {'lambda_l1': 2.5455811412278535e-06, 'lambda_l2': 0.006697731386235114, 'num_leaves': 120, 'feature_fraction': 0.5318818879451441, 'bagging_fraction': 0.6149026781689438, 'bagging_freq': 2, 'min_child_samples': 60}. Best is trial 16 with value: 0.3612172344410698.\n",
      "[I 2025-05-03 23:44:17,801] Trial 19 finished with value: 0.25918121122317317 and parameters: {'lambda_l1': 0.009730019765783316, 'lambda_l2': 0.32926886521823606, 'num_leaves': 2, 'feature_fraction': 0.5254156081969488, 'bagging_fraction': 0.7443867322298989, 'bagging_freq': 4, 'min_child_samples': 73}. Best is trial 16 with value: 0.3612172344410698.\n",
      "[I 2025-05-03 23:44:23,178] Trial 20 finished with value: 0.3562497814295289 and parameters: {'lambda_l1': 1.1585415090192504e-05, 'lambda_l2': 0.36523453506752646, 'num_leaves': 34, 'feature_fraction': 0.7041898937865617, 'bagging_fraction': 0.8397586145232816, 'bagging_freq': 2, 'min_child_samples': 45}. Best is trial 16 with value: 0.3612172344410698.\n",
      "[I 2025-05-03 23:44:28,667] Trial 21 finished with value: 0.3601909250247469 and parameters: {'lambda_l1': 7.002300996630106e-05, 'lambda_l2': 0.3832918288277369, 'num_leaves': 35, 'feature_fraction': 0.7391814833264081, 'bagging_fraction': 0.8498234519973809, 'bagging_freq': 2, 'min_child_samples': 44}. Best is trial 16 with value: 0.3612172344410698.\n",
      "[I 2025-05-03 23:44:34,706] Trial 22 finished with value: 0.3576329161882464 and parameters: {'lambda_l1': 0.00013753721608023755, 'lambda_l2': 0.8071522265736972, 'num_leaves': 29, 'feature_fraction': 0.7525116405370949, 'bagging_fraction': 0.8554027904756534, 'bagging_freq': 1, 'min_child_samples': 45}. Best is trial 16 with value: 0.3612172344410698.\n",
      "[I 2025-05-03 23:44:41,506] Trial 23 finished with value: 0.3536089927009056 and parameters: {'lambda_l1': 0.00014771019311601345, 'lambda_l2': 1.1034571655927181, 'num_leaves': 21, 'feature_fraction': 0.7778055783471407, 'bagging_fraction': 0.767865778469972, 'bagging_freq': 1, 'min_child_samples': 46}. Best is trial 16 with value: 0.3612172344410698.\n",
      "[I 2025-05-03 23:44:47,481] Trial 24 finished with value: 0.3550467390091103 and parameters: {'lambda_l1': 0.00021536284639697193, 'lambda_l2': 0.004238814068246083, 'num_leaves': 66, 'feature_fraction': 0.7726387065792436, 'bagging_fraction': 0.8621027680476308, 'bagging_freq': 1, 'min_child_samples': 75}. Best is trial 16 with value: 0.3612172344410698.\n",
      "[I 2025-05-03 23:44:53,142] Trial 25 finished with value: 0.3312770012766842 and parameters: {'lambda_l1': 0.01664766016260226, 'lambda_l2': 0.2044402107914987, 'num_leaves': 116, 'feature_fraction': 0.8695578075354676, 'bagging_fraction': 0.7208758652082783, 'bagging_freq': 7, 'min_child_samples': 38}. Best is trial 16 with value: 0.3612172344410698.\n",
      "[I 2025-05-03 23:44:57,788] Trial 26 finished with value: 0.3515277318954944 and parameters: {'lambda_l1': 9.827810123966984e-06, 'lambda_l2': 1.142816894152798, 'num_leaves': 25, 'feature_fraction': 0.6582743448442149, 'bagging_fraction': 0.8339352139927722, 'bagging_freq': 1, 'min_child_samples': 25}. Best is trial 16 with value: 0.3612172344410698.\n",
      "[I 2025-05-03 23:45:02,465] Trial 27 finished with value: 0.34806681659070027 and parameters: {'lambda_l1': 0.0008963233403705834, 'lambda_l2': 0.014223744264958945, 'num_leaves': 70, 'feature_fraction': 0.8463923030228104, 'bagging_fraction': 0.6257642421180625, 'bagging_freq': 2, 'min_child_samples': 51}. Best is trial 16 with value: 0.3612172344410698.\n",
      "[I 2025-05-03 23:45:07,912] Trial 28 finished with value: 0.3508813524034099 and parameters: {'lambda_l1': 6.271813325011104e-05, 'lambda_l2': 0.0009694999484875987, 'num_leaves': 175, 'feature_fraction': 0.7503677688134557, 'bagging_fraction': 0.9309586921778769, 'bagging_freq': 4, 'min_child_samples': 64}. Best is trial 16 with value: 0.3612172344410698.\n",
      "[I 2025-05-03 23:45:12,205] Trial 29 finished with value: 0.3464011830303038 and parameters: {'lambda_l1': 2.6818637479472676, 'lambda_l2': 1.8065669157667879, 'num_leaves': 19, 'feature_fraction': 0.7211066822417764, 'bagging_fraction': 0.9596332686355769, 'bagging_freq': 1, 'min_child_samples': 41}. Best is trial 16 with value: 0.3612172344410698.\n",
      "[I 2025-05-03 23:45:17,476] Trial 30 finished with value: 0.3510336588986392 and parameters: {'lambda_l1': 0.00015394264655000785, 'lambda_l2': 1.807307228230451e-06, 'num_leaves': 69, 'feature_fraction': 0.6471829705229661, 'bagging_fraction': 0.6833969119882124, 'bagging_freq': 2, 'min_child_samples': 86}. Best is trial 16 with value: 0.3612172344410698.\n",
      "[I 2025-05-03 23:45:23,288] Trial 31 finished with value: 0.35408256556496903 and parameters: {'lambda_l1': 1.0254772889701079e-05, 'lambda_l2': 0.21282363439960436, 'num_leaves': 36, 'feature_fraction': 0.7193379375668407, 'bagging_fraction': 0.8534836750229141, 'bagging_freq': 2, 'min_child_samples': 51}. Best is trial 16 with value: 0.3612172344410698.\n",
      "[I 2025-05-03 23:45:28,397] Trial 32 finished with value: 0.35407263087937485 and parameters: {'lambda_l1': 1.850887058527551e-05, 'lambda_l2': 0.09800853921096009, 'num_leaves': 36, 'feature_fraction': 0.8043674607209089, 'bagging_fraction': 0.7877179663669311, 'bagging_freq': 1, 'min_child_samples': 31}. Best is trial 16 with value: 0.3612172344410698.\n",
      "[I 2025-05-03 23:45:32,531] Trial 33 finished with value: 0.35549277855292627 and parameters: {'lambda_l1': 3.5086857720435197e-06, 'lambda_l2': 0.02129627055194237, 'num_leaves': 54, 'feature_fraction': 0.6831285516717485, 'bagging_fraction': 0.8387125763391647, 'bagging_freq': 3, 'min_child_samples': 45}. Best is trial 16 with value: 0.3612172344410698.\n",
      "[I 2025-05-03 23:45:36,721] Trial 34 finished with value: 0.34788659564988783 and parameters: {'lambda_l1': 0.0009488483125184502, 'lambda_l2': 2.5336344461200477, 'num_leaves': 10, 'feature_fraction': 0.7317425275130967, 'bagging_fraction': 0.7532228783258121, 'bagging_freq': 2, 'min_child_samples': 55}. Best is trial 16 with value: 0.3612172344410698.\n",
      "[I 2025-05-03 23:45:42,024] Trial 35 finished with value: 0.35632106733708635 and parameters: {'lambda_l1': 6.766792156964971e-07, 'lambda_l2': 0.4362772958126152, 'num_leaves': 32, 'feature_fraction': 0.8139852060429417, 'bagging_fraction': 0.8692577444271189, 'bagging_freq': 1, 'min_child_samples': 27}. Best is trial 16 with value: 0.3612172344410698.\n",
      "[I 2025-05-03 23:45:47,239] Trial 36 finished with value: 0.3429871153906977 and parameters: {'lambda_l1': 1.2173830946195632e-06, 'lambda_l2': 0.014619745573762683, 'num_leaves': 107, 'feature_fraction': 0.9005098795558819, 'bagging_fraction': 0.8673068125946172, 'bagging_freq': 1, 'min_child_samples': 22}. Best is trial 16 with value: 0.3612172344410698.\n",
      "[I 2025-05-03 23:45:53,100] Trial 37 finished with value: 0.35189301904960524 and parameters: {'lambda_l1': 0.00041022439062997227, 'lambda_l2': 9.727916486344734, 'num_leaves': 81, 'feature_fraction': 0.8303599311562778, 'bagging_fraction': 0.7989482477503607, 'bagging_freq': 1, 'min_child_samples': 28}. Best is trial 16 with value: 0.3612172344410698.\n",
      "[I 2025-05-03 23:45:57,561] Trial 38 finished with value: 0.3506025926682972 and parameters: {'lambda_l1': 3.3472948129187025e-07, 'lambda_l2': 0.00012487360958559975, 'num_leaves': 47, 'feature_fraction': 0.8013107649748719, 'bagging_fraction': 0.7180870812215377, 'bagging_freq': 5, 'min_child_samples': 12}. Best is trial 16 with value: 0.3612172344410698.\n",
      "[I 2025-05-03 23:46:02,616] Trial 39 finished with value: 0.35270393371531317 and parameters: {'lambda_l1': 2.5588521600856137e-08, 'lambda_l2': 3.940064658526813e-06, 'num_leaves': 13, 'feature_fraction': 0.9168744566812891, 'bagging_fraction': 0.9382842198136155, 'bagging_freq': 1, 'min_child_samples': 34}. Best is trial 16 with value: 0.3612172344410698.\n",
      "[I 2025-05-03 23:46:08,189] Trial 40 finished with value: 0.3344940094542057 and parameters: {'lambda_l1': 4.076366659821826e-05, 'lambda_l2': 0.19850537439920007, 'num_leaves': 180, 'feature_fraction': 0.983529115644521, 'bagging_fraction': 0.8176307855223354, 'bagging_freq': 2, 'min_child_samples': 14}. Best is trial 16 with value: 0.3612172344410698.\n",
      "[I 2025-05-03 23:46:11,949] Trial 41 finished with value: 0.35186918642324333 and parameters: {'lambda_l1': 5.335367504621966e-06, 'lambda_l2': 0.6514554972633119, 'num_leaves': 32, 'feature_fraction': 0.7502220651997681, 'bagging_fraction': 0.8367918074534284, 'bagging_freq': 2, 'min_child_samples': 41}. Best is trial 16 with value: 0.3612172344410698.\n",
      "[I 2025-05-03 23:46:16,513] Trial 42 finished with value: 0.3537863289161911 and parameters: {'lambda_l1': 1.911603181754415e-05, 'lambda_l2': 0.42005695004466637, 'num_leaves': 62, 'feature_fraction': 0.6850173498237179, 'bagging_fraction': 0.8804853512991032, 'bagging_freq': 5, 'min_child_samples': 29}. Best is trial 16 with value: 0.3612172344410698.\n",
      "[I 2025-05-03 23:46:21,391] Trial 43 finished with value: 0.354975380170463 and parameters: {'lambda_l1': 0.00010191089506956907, 'lambda_l2': 2.1854112077788987, 'num_leaves': 30, 'feature_fraction': 0.799017041544458, 'bagging_fraction': 0.7667928503735308, 'bagging_freq': 1, 'min_child_samples': 49}. Best is trial 16 with value: 0.3612172344410698.\n",
      "[I 2025-05-03 23:46:27,175] Trial 44 finished with value: 0.36170301639187125 and parameters: {'lambda_l1': 5.78281232361016e-07, 'lambda_l2': 0.0316415561852556, 'num_leaves': 40, 'feature_fraction': 0.7042187001931439, 'bagging_fraction': 0.8108446770744516, 'bagging_freq': 2, 'min_child_samples': 39}. Best is trial 44 with value: 0.36170301639187125.\n",
      "[I 2025-05-03 23:46:31,363] Trial 45 finished with value: 0.3607823255499454 and parameters: {'lambda_l1': 7.747425960565608e-08, 'lambda_l2': 0.0009641301019833146, 'num_leaves': 45, 'feature_fraction': 0.6304348612660983, 'bagging_fraction': 0.81384079444557, 'bagging_freq': 3, 'min_child_samples': 39}. Best is trial 44 with value: 0.36170301639187125.\n",
      "[I 2025-05-03 23:46:35,949] Trial 46 finished with value: 0.35417425292828303 and parameters: {'lambda_l1': 7.877104944920909e-08, 'lambda_l2': 0.0014822720042588068, 'num_leaves': 46, 'feature_fraction': 0.6217515760047081, 'bagging_fraction': 0.8097632230162889, 'bagging_freq': 3, 'min_child_samples': 59}. Best is trial 44 with value: 0.36170301639187125.\n",
      "[I 2025-05-03 23:46:42,365] Trial 47 finished with value: 0.34759693784665013 and parameters: {'lambda_l1': 1.0491694545531415e-07, 'lambda_l2': 0.0005230631566145458, 'num_leaves': 83, 'feature_fraction': 0.5538405275131963, 'bagging_fraction': 0.6571485885264865, 'bagging_freq': 3, 'min_child_samples': 38}. Best is trial 44 with value: 0.36170301639187125.\n",
      "[I 2025-05-03 23:46:48,050] Trial 48 finished with value: 0.3513063826841907 and parameters: {'lambda_l1': 3.450976390003639e-08, 'lambda_l2': 0.00016661983693025493, 'num_leaves': 147, 'feature_fraction': 0.46975985881372784, 'bagging_fraction': 0.7832060360074519, 'bagging_freq': 3, 'min_child_samples': 35}. Best is trial 44 with value: 0.36170301639187125.\n",
      "[I 2025-05-03 23:46:52,011] Trial 49 finished with value: 0.2640407348278557 and parameters: {'lambda_l1': 1.4114360954903991e-08, 'lambda_l2': 1.1121271638708328e-05, 'num_leaves': 2, 'feature_fraction': 0.6430461258381239, 'bagging_fraction': 0.4367614518339493, 'bagging_freq': 4, 'min_child_samples': 41}. Best is trial 44 with value: 0.36170301639187125.\n",
      "[I 2025-05-03 23:46:56,648] Trial 50 finished with value: 0.35858855080209145 and parameters: {'lambda_l1': 0.003911164376049949, 'lambda_l2': 0.007842807461369474, 'num_leaves': 58, 'feature_fraction': 0.6120936102919322, 'bagging_fraction': 0.8975403055893897, 'bagging_freq': 3, 'min_child_samples': 55}. Best is trial 44 with value: 0.36170301639187125.\n",
      "[I 2025-05-03 23:47:01,464] Trial 51 finished with value: 0.3551975686901208 and parameters: {'lambda_l1': 0.003911470129403724, 'lambda_l2': 0.008563038583434006, 'num_leaves': 58, 'feature_fraction': 0.5739519050620524, 'bagging_fraction': 0.896606682289373, 'bagging_freq': 3, 'min_child_samples': 55}. Best is trial 44 with value: 0.36170301639187125.\n",
      "[I 2025-05-03 23:47:05,852] Trial 52 finished with value: 0.3530370768563156 and parameters: {'lambda_l1': 0.10732044350895652, 'lambda_l2': 0.030072225893025675, 'num_leaves': 43, 'feature_fraction': 0.6205778102361538, 'bagging_fraction': 0.9426291611958937, 'bagging_freq': 3, 'min_child_samples': 48}. Best is trial 44 with value: 0.36170301639187125.\n",
      "[I 2025-05-03 23:47:09,753] Trial 53 finished with value: 0.35310821573073153 and parameters: {'lambda_l1': 0.002713902245568518, 'lambda_l2': 0.0022688861188554926, 'num_leaves': 16, 'feature_fraction': 0.5080094126121536, 'bagging_fraction': 0.8211911176116499, 'bagging_freq': 2, 'min_child_samples': 59}. Best is trial 44 with value: 0.36170301639187125.\n",
      "[I 2025-05-03 23:47:14,506] Trial 54 finished with value: 0.3556049595289824 and parameters: {'lambda_l1': 3.5813236127330824e-07, 'lambda_l2': 0.08607631882387119, 'num_leaves': 49, 'feature_fraction': 0.669926719776435, 'bagging_fraction': 0.9797213673968462, 'bagging_freq': 2, 'min_child_samples': 65}. Best is trial 44 with value: 0.36170301639187125.\n",
      "[I 2025-05-03 23:47:19,360] Trial 55 finished with value: 0.35606186555855235 and parameters: {'lambda_l1': 0.08472465101131837, 'lambda_l2': 0.006110845506115613, 'num_leaves': 77, 'feature_fraction': 0.5664415495568837, 'bagging_fraction': 0.9116640998115785, 'bagging_freq': 4, 'min_child_samples': 42}. Best is trial 44 with value: 0.36170301639187125.\n",
      "[I 2025-05-03 23:47:24,385] Trial 56 finished with value: 0.34906867597575864 and parameters: {'lambda_l1': 0.021114920640775914, 'lambda_l2': 1.6277683883220833e-07, 'num_leaves': 92, 'feature_fraction': 0.5964840690012237, 'bagging_fraction': 0.726202997170792, 'bagging_freq': 3, 'min_child_samples': 33}. Best is trial 44 with value: 0.36170301639187125.\n",
      "[I 2025-05-03 23:47:28,964] Trial 57 finished with value: 0.356455740652891 and parameters: {'lambda_l1': 5.857394417144515e-07, 'lambda_l2': 0.12558621729054828, 'num_leaves': 41, 'feature_fraction': 0.7445398081131779, 'bagging_fraction': 0.8938040781724874, 'bagging_freq': 4, 'min_child_samples': 53}. Best is trial 44 with value: 0.36170301639187125.\n",
      "[I 2025-05-03 23:47:34,708] Trial 58 finished with value: 0.36136916206290015 and parameters: {'lambda_l1': 0.0006343123176103855, 'lambda_l2': 0.0003300204717607647, 'num_leaves': 24, 'feature_fraction': 0.4390323786211264, 'bagging_fraction': 0.8479996541806605, 'bagging_freq': 2, 'min_child_samples': 44}. Best is trial 44 with value: 0.36170301639187125.\n",
      "[I 2025-05-03 23:47:39,757] Trial 59 finished with value: 0.355715694025583 and parameters: {'lambda_l1': 0.001995716687457657, 'lambda_l2': 0.00030629026638983437, 'num_leaves': 10, 'feature_fraction': 0.40445221588686003, 'bagging_fraction': 0.5572012122076311, 'bagging_freq': 2, 'min_child_samples': 37}. Best is trial 44 with value: 0.36170301639187125.\n",
      "[I 2025-05-03 23:47:45,132] Trial 60 finished with value: 0.3497745101918857 and parameters: {'lambda_l1': 0.005434174115687969, 'lambda_l2': 3.8027800583780815e-05, 'num_leaves': 71, 'feature_fraction': 0.4362552439742553, 'bagging_fraction': 0.7715504883815805, 'bagging_freq': 3, 'min_child_samples': 23}. Best is trial 44 with value: 0.36170301639187125.\n",
      "[I 2025-05-03 23:47:49,826] Trial 61 finished with value: 0.3575769906904532 and parameters: {'lambda_l1': 0.0003395086206852715, 'lambda_l2': 0.0029210585582235197, 'num_leaves': 25, 'feature_fraction': 0.4930759302531078, 'bagging_fraction': 0.8529705226421332, 'bagging_freq': 2, 'min_child_samples': 47}. Best is trial 44 with value: 0.36170301639187125.\n",
      "[I 2025-05-03 23:47:55,056] Trial 62 finished with value: 0.3535667356749368 and parameters: {'lambda_l1': 0.0006667599580279044, 'lambda_l2': 0.038525620128683456, 'num_leaves': 59, 'feature_fraction': 0.7749129539667643, 'bagging_fraction': 0.8231854029900361, 'bagging_freq': 2, 'min_child_samples': 52}. Best is trial 44 with value: 0.36170301639187125.\n",
      "[I 2025-05-03 23:47:58,634] Trial 63 finished with value: 0.35294958342305005 and parameters: {'lambda_l1': 0.0013211082149471641, 'lambda_l2': 0.0005244191701361517, 'num_leaves': 25, 'feature_fraction': 0.7084950188022632, 'bagging_fraction': 0.8855209000205244, 'bagging_freq': 1, 'min_child_samples': 42}. Best is trial 44 with value: 0.36170301639187125.\n",
      "[I 2025-05-03 23:48:03,962] Trial 64 finished with value: 0.3561486546243112 and parameters: {'lambda_l1': 0.00010498254629297634, 'lambda_l2': 0.011776257866987947, 'num_leaves': 48, 'feature_fraction': 0.4645365217160688, 'bagging_fraction': 0.8489713063269635, 'bagging_freq': 7, 'min_child_samples': 45}. Best is trial 44 with value: 0.36170301639187125.\n",
      "[I 2025-05-03 23:48:08,310] Trial 65 finished with value: 0.3531876561219358 and parameters: {'lambda_l1': 4.028870105653555e-05, 'lambda_l2': 0.0010247581559096643, 'num_leaves': 37, 'feature_fraction': 0.6941779523805796, 'bagging_fraction': 0.9184184237847881, 'bagging_freq': 2, 'min_child_samples': 71}. Best is trial 44 with value: 0.36170301639187125.\n",
      "[I 2025-05-03 23:48:12,385] Trial 66 finished with value: 0.350883156744439 and parameters: {'lambda_l1': 1.6161050020432294e-06, 'lambda_l2': 0.004468436871543018, 'num_leaves': 18, 'feature_fraction': 0.6387506472552592, 'bagging_fraction': 0.8016738796600128, 'bagging_freq': 1, 'min_child_samples': 77}. Best is trial 44 with value: 0.36170301639187125.\n",
      "[I 2025-05-03 23:48:16,711] Trial 67 finished with value: 0.3494693716670933 and parameters: {'lambda_l1': 6.211123624538506e-06, 'lambda_l2': 0.05534305031912401, 'num_leaves': 27, 'feature_fraction': 0.4377160443772344, 'bagging_fraction': 0.9534206329041792, 'bagging_freq': 3, 'min_child_samples': 62}. Best is trial 44 with value: 0.36170301639187125.\n",
      "[I 2025-05-03 23:48:21,210] Trial 68 finished with value: 0.34906785243470984 and parameters: {'lambda_l1': 0.027857650927438547, 'lambda_l2': 0.00023956123418513554, 'num_leaves': 10, 'feature_fraction': 0.6593282629544642, 'bagging_fraction': 0.7573966392144511, 'bagging_freq': 2, 'min_child_samples': 32}. Best is trial 44 with value: 0.36170301639187125.\n",
      "[I 2025-05-03 23:48:26,309] Trial 69 finished with value: 0.35527926797034165 and parameters: {'lambda_l1': 0.0001972922499400708, 'lambda_l2': 0.020057355977542154, 'num_leaves': 65, 'feature_fraction': 0.612141228541193, 'bagging_fraction': 0.8745335355282708, 'bagging_freq': 1, 'min_child_samples': 39}. Best is trial 44 with value: 0.36170301639187125.\n",
      "[I 2025-05-03 23:48:31,482] Trial 70 finished with value: 0.35577853457626957 and parameters: {'lambda_l1': 1.2421922973157668e-07, 'lambda_l2': 5.791192840742614e-05, 'num_leaves': 54, 'feature_fraction': 0.5249127542603017, 'bagging_fraction': 0.7866203738870878, 'bagging_freq': 3, 'min_child_samples': 49}. Best is trial 44 with value: 0.36170301639187125.\n",
      "[I 2025-05-03 23:48:35,788] Trial 71 finished with value: 0.35919945572816303 and parameters: {'lambda_l1': 0.0004064667008791462, 'lambda_l2': 0.0014227328751454107, 'num_leaves': 22, 'feature_fraction': 0.5481868361462781, 'bagging_fraction': 0.8461960485556046, 'bagging_freq': 2, 'min_child_samples': 48}. Best is trial 44 with value: 0.36170301639187125.\n",
      "[I 2025-05-03 23:48:40,134] Trial 72 finished with value: 0.36077882880249895 and parameters: {'lambda_l1': 0.0005529369604149456, 'lambda_l2': 0.0015463109471058215, 'num_leaves': 40, 'feature_fraction': 0.5615035368620583, 'bagging_fraction': 0.8593208526712248, 'bagging_freq': 2, 'min_child_samples': 44}. Best is trial 44 with value: 0.36170301639187125.\n",
      "[I 2025-05-03 23:48:45,351] Trial 73 finished with value: 0.3551130170317024 and parameters: {'lambda_l1': 0.007479797569257998, 'lambda_l2': 0.0016951034662693498, 'num_leaves': 36, 'feature_fraction': 0.5463102992582333, 'bagging_fraction': 0.8314454434350539, 'bagging_freq': 2, 'min_child_samples': 55}. Best is trial 44 with value: 0.36170301639187125.\n",
      "[I 2025-05-03 23:48:50,320] Trial 74 finished with value: 0.35567982197567577 and parameters: {'lambda_l1': 0.0005437998438478865, 'lambda_l2': 0.0007963779217916005, 'num_leaves': 20, 'feature_fraction': 0.5097300974340081, 'bagging_fraction': 0.859334215134939, 'bagging_freq': 2, 'min_child_samples': 57}. Best is trial 44 with value: 0.36170301639187125.\n",
      "[I 2025-05-03 23:48:57,436] Trial 75 finished with value: 0.3490908291438839 and parameters: {'lambda_l1': 0.001856799878225718, 'lambda_l2': 0.003408426444944736, 'num_leaves': 41, 'feature_fraction': 0.6068657242427044, 'bagging_fraction': 0.8020206434586495, 'bagging_freq': 2, 'min_child_samples': 42}. Best is trial 44 with value: 0.36170301639187125.\n",
      "[I 2025-05-03 23:49:03,049] Trial 76 finished with value: 0.35293039763451584 and parameters: {'lambda_l1': 0.0011125008348660042, 'lambda_l2': 0.009433676343533818, 'num_leaves': 225, 'feature_fraction': 0.5545563174408975, 'bagging_fraction': 0.7396110792057858, 'bagging_freq': 3, 'min_child_samples': 51}. Best is trial 44 with value: 0.36170301639187125.\n",
      "[I 2025-05-03 23:49:08,221] Trial 77 finished with value: 0.35191617332361763 and parameters: {'lambda_l1': 0.00025499767092133316, 'lambda_l2': 0.00013756296680756097, 'num_leaves': 52, 'feature_fraction': 0.5847160421731641, 'bagging_fraction': 0.9056565733214323, 'bagging_freq': 2, 'min_child_samples': 44}. Best is trial 44 with value: 0.36170301639187125.\n",
      "[I 2025-05-03 23:49:13,158] Trial 78 finished with value: 0.35080123768287697 and parameters: {'lambda_l1': 2.3326210487827553e-05, 'lambda_l2': 2.3904292024850597e-05, 'num_leaves': 8, 'feature_fraction': 0.48593240239475416, 'bagging_fraction': 0.8455295345800347, 'bagging_freq': 2, 'min_child_samples': 35}. Best is trial 44 with value: 0.36170301639187125.\n",
      "[I 2025-05-03 23:49:18,266] Trial 79 finished with value: 0.35137234223682534 and parameters: {'lambda_l1': 8.590083944710654e-05, 'lambda_l2': 0.0014152462526080083, 'num_leaves': 75, 'feature_fraction': 0.5153546363482904, 'bagging_fraction': 0.8727662851932099, 'bagging_freq': 3, 'min_child_samples': 17}. Best is trial 44 with value: 0.36170301639187125.\n",
      "[I 2025-05-03 23:49:23,877] Trial 80 finished with value: 0.34621492210013216 and parameters: {'lambda_l1': 1.9014569985333324e-07, 'lambda_l2': 0.005256810240451139, 'num_leaves': 131, 'feature_fraction': 0.5789282703874606, 'bagging_fraction': 0.6968538230270085, 'bagging_freq': 2, 'min_child_samples': 39}. Best is trial 44 with value: 0.36170301639187125.\n",
      "[I 2025-05-03 23:49:28,675] Trial 81 finished with value: 0.35719179725673567 and parameters: {'lambda_l1': 0.0005681772363219023, 'lambda_l2': 0.9646817746273773, 'num_leaves': 30, 'feature_fraction': 0.5407478990447483, 'bagging_fraction': 0.8242596041961573, 'bagging_freq': 1, 'min_child_samples': 48}. Best is trial 44 with value: 0.36170301639187125.\n",
      "[I 2025-05-03 23:49:33,353] Trial 82 finished with value: 0.3561085125110073 and parameters: {'lambda_l1': 0.0003001049239152135, 'lambda_l2': 0.00041172180524359477, 'num_leaves': 42, 'feature_fraction': 0.6329811449566375, 'bagging_fraction': 0.889146552376859, 'bagging_freq': 1, 'min_child_samples': 44}. Best is trial 44 with value: 0.36170301639187125.\n",
      "[I 2025-05-03 23:49:38,582] Trial 83 finished with value: 0.33994737430909283 and parameters: {'lambda_l1': 0.00011931009223073723, 'lambda_l2': 0.1309743609347014, 'num_leaves': 255, 'feature_fraction': 0.7387560375179584, 'bagging_fraction': 0.8609140059453, 'bagging_freq': 1, 'min_child_samples': 30}. Best is trial 44 with value: 0.36170301639187125.\n",
      "[I 2025-05-03 23:49:42,562] Trial 84 finished with value: 0.3563867120106072 and parameters: {'lambda_l1': 6.974079401891121e-08, 'lambda_l2': 0.0022053261199455445, 'num_leaves': 17, 'feature_fraction': 0.7092788442448664, 'bagging_fraction': 0.8119387546034302, 'bagging_freq': 1, 'min_child_samples': 53}. Best is trial 44 with value: 0.36170301639187125.\n",
      "[I 2025-05-03 23:49:46,912] Trial 85 finished with value: 0.35362663642742576 and parameters: {'lambda_l1': 2.145904896653238e-06, 'lambda_l2': 9.298251842325331e-05, 'num_leaves': 31, 'feature_fraction': 0.7226673540083011, 'bagging_fraction': 0.8382100888722667, 'bagging_freq': 4, 'min_child_samples': 46}. Best is trial 44 with value: 0.36170301639187125.\n",
      "[I 2025-05-03 23:49:53,066] Trial 86 finished with value: 0.33994937744937265 and parameters: {'lambda_l1': 5.921226476081862e-05, 'lambda_l2': 0.01832767590154901, 'num_leaves': 197, 'feature_fraction': 0.7595927619029309, 'bagging_fraction': 0.7774511550363699, 'bagging_freq': 2, 'min_child_samples': 26}. Best is trial 44 with value: 0.36170301639187125.\n",
      "[I 2025-05-03 23:49:57,875] Trial 87 finished with value: 0.3517400113630996 and parameters: {'lambda_l1': 1.7450459095166326, 'lambda_l2': 3.6494332004553103, 'num_leaves': 60, 'feature_fraction': 0.7882890200028829, 'bagging_fraction': 0.9265165655097616, 'bagging_freq': 1, 'min_child_samples': 57}. Best is trial 44 with value: 0.36170301639187125.\n",
      "[I 2025-05-03 23:50:02,287] Trial 88 finished with value: 0.35385584285773114 and parameters: {'lambda_l1': 2.6865221778323104e-05, 'lambda_l2': 0.03161791656245745, 'num_leaves': 24, 'feature_fraction': 0.6958786563567207, 'bagging_fraction': 0.7964877857583064, 'bagging_freq': 2, 'min_child_samples': 49}. Best is trial 44 with value: 0.36170301639187125.\n",
      "[I 2025-05-03 23:50:07,193] Trial 89 finished with value: 0.3552607650058685 and parameters: {'lambda_l1': 4.779001136910425e-07, 'lambda_l2': 0.0009650434220999147, 'num_leaves': 38, 'feature_fraction': 0.56291850180016, 'bagging_fraction': 0.8693049914835937, 'bagging_freq': 3, 'min_child_samples': 37}. Best is trial 44 with value: 0.36170301639187125.\n",
      "[I 2025-05-03 23:50:12,289] Trial 90 finished with value: 0.35351101495787496 and parameters: {'lambda_l1': 3.9273180377002005e-08, 'lambda_l2': 0.24199404431917038, 'num_leaves': 48, 'feature_fraction': 0.6616784745188711, 'bagging_fraction': 0.850102791433071, 'bagging_freq': 2, 'min_child_samples': 40}. Best is trial 44 with value: 0.36170301639187125.\n",
      "[I 2025-05-03 23:50:17,798] Trial 91 finished with value: 0.35979956279544295 and parameters: {'lambda_l1': 0.00034825831672535785, 'lambda_l2': 0.002246916463329635, 'num_leaves': 25, 'feature_fraction': 0.5023769224379399, 'bagging_fraction': 0.850619580979369, 'bagging_freq': 2, 'min_child_samples': 47}. Best is trial 44 with value: 0.36170301639187125.\n",
      "[I 2025-05-03 23:50:22,428] Trial 92 finished with value: 0.3533231160668034 and parameters: {'lambda_l1': 0.0006959025091451159, 'lambda_l2': 0.00023589587499747884, 'num_leaves': 13, 'feature_fraction': 0.45884628226971463, 'bagging_fraction': 0.8327357651798485, 'bagging_freq': 2, 'min_child_samples': 44}. Best is trial 44 with value: 0.36170301639187125.\n",
      "[I 2025-05-03 23:50:27,447] Trial 93 finished with value: 0.35164617603805914 and parameters: {'lambda_l1': 0.011676910876272394, 'lambda_l2': 0.006336208975293346, 'num_leaves': 33, 'feature_fraction': 0.4995131890138429, 'bagging_fraction': 0.8836407900370015, 'bagging_freq': 2, 'min_child_samples': 50}. Best is trial 44 with value: 0.36170301639187125.\n",
      "[I 2025-05-03 23:50:32,434] Trial 94 finished with value: 0.36797922376098435 and parameters: {'lambda_l1': 0.003131684858741399, 'lambda_l2': 0.0007183955863060992, 'num_leaves': 44, 'feature_fraction': 0.526609818949976, 'bagging_fraction': 0.8099182739773663, 'bagging_freq': 1, 'min_child_samples': 10}. Best is trial 94 with value: 0.36797922376098435.\n",
      "[I 2025-05-03 23:50:37,461] Trial 95 finished with value: 0.34718914878154034 and parameters: {'lambda_l1': 0.0031252129112463423, 'lambda_l2': 0.0006030525422857896, 'num_leaves': 5, 'feature_fraction': 0.48010270855562354, 'bagging_fraction': 0.8187210229176866, 'bagging_freq': 2, 'min_child_samples': 10}. Best is trial 94 with value: 0.36797922376098435.\n",
      "[I 2025-05-03 23:50:42,522] Trial 96 finished with value: 0.35635996370173695 and parameters: {'lambda_l1': 0.0018405246683806898, 'lambda_l2': 0.0012815118433592968, 'num_leaves': 45, 'feature_fraction': 0.5306647609620627, 'bagging_fraction': 0.8086990185528193, 'bagging_freq': 1, 'min_child_samples': 16}. Best is trial 94 with value: 0.36797922376098435.\n",
      "[I 2025-05-03 23:50:47,516] Trial 97 finished with value: 0.3553010365067679 and parameters: {'lambda_l1': 0.005114889644585521, 'lambda_l2': 0.002149678833048907, 'num_leaves': 54, 'feature_fraction': 0.44353962811892905, 'bagging_fraction': 0.7580627094539147, 'bagging_freq': 3, 'min_child_samples': 8}. Best is trial 94 with value: 0.36797922376098435.\n",
      "[I 2025-05-03 23:50:52,269] Trial 98 finished with value: 0.35619020558244563 and parameters: {'lambda_l1': 0.00044225545544905663, 'lambda_l2': 0.003901834145678459, 'num_leaves': 25, 'feature_fraction': 0.5219809768178953, 'bagging_fraction': 0.8977435303275727, 'bagging_freq': 2, 'min_child_samples': 23}. Best is trial 94 with value: 0.36797922376098435.\n",
      "[I 2025-05-03 23:50:58,001] Trial 99 finished with value: 0.36023976200629426 and parameters: {'lambda_l1': 0.0009293284000066675, 'lambda_l2': 0.009084066017572312, 'num_leaves': 63, 'feature_fraction': 0.4281080026224233, 'bagging_fraction': 0.8413092331226389, 'bagging_freq': 1, 'min_child_samples': 10}. Best is trial 94 with value: 0.36797922376098435.\n"
     ]
    }
   ],
   "source": [
    "import optuna\n",
    "\n",
    "#Genero estudio\n",
    "study = optuna.create_study(direction='maximize',\n",
    "                            storage=\"sqlite:///../work/db_100_LGBM_FE_JM_100.sqlite3\",\n",
    "                            study_name=\"100_LGBM_FE_JM_100_CV\",\n",
    "                            load_if_exists = True)\n",
    "\n",
    "#Corro la optimizacion\n",
    "study.optimize(cv_es_lgb_objective, n_trials=100)"
   ]
  },
  {
   "cell_type": "markdown",
   "id": "4a0a5d3b",
   "metadata": {},
   "source": [
    "## LGBM Importance Futures"
   ]
  },
  {
   "cell_type": "code",
   "execution_count": 15,
   "id": "1100ce90",
   "metadata": {},
   "outputs": [
    {
     "data": {
      "image/png": "[encoded data removed]",
      "text/plain": [
       "<Figure size 1000x600 with 1 Axes>"
      ]
     },
     "metadata": {},
     "output_type": "display_data"
    },
    {
     "data": {
      "image/png": "[encoded data removed]",
      "text/plain": [
       "<Figure size 1000x600 with 1 Axes>"
      ]
     },
     "metadata": {},
     "output_type": "display_data"
    },
    {
     "data": {
      "image/png": "[encoded data removed]",
      "text/plain": [
       "<Figure size 1000x600 with 1 Axes>"
      ]
     },
     "metadata": {},
     "output_type": "display_data"
    },
    {
     "data": {
      "image/png": "[encoded data removed]",
      "text/plain": [
       "<Figure size 1150x660 with 5 Axes>"
      ]
     },
     "metadata": {},
     "output_type": "display_data"
    }
   ],
   "source": [
    "import lightgbm as lgb\n",
    "import shap\n",
    "import matplotlib.pyplot as plt\n",
    "from sklearn.inspection import permutation_importance\n",
    "import numpy as np\n",
    "\n",
    "features = np.array(features)\n",
    "model= lgb_model2\n",
    "\n",
    "# --------------------\n",
    "# 1. Feature Importance basada en GAIN\n",
    "# --------------------\n",
    "importances_gain = model.feature_importance(importance_type='gain')\n",
    "sorted_idx_gain = importances_gain.argsort()[::-1]\n",
    "\n",
    "plt.figure(figsize=(10,6))\n",
    "plt.barh(features[sorted_idx_gain], importances_gain[sorted_idx_gain])\n",
    "plt.xlabel('Importancia (GAIN)')\n",
    "plt.title('Feature Importance basada en GAIN')\n",
    "plt.gca().invert_yaxis()\n",
    "plt.show()\n",
    "\n",
    "# --------------------\n",
    "# 2. Feature Importance basada en SPLIT\n",
    "# --------------------\n",
    "importances_split = model.feature_importance(importance_type='split')\n",
    "sorted_idx_split = importances_split.argsort()[::-1]\n",
    "\n",
    "plt.figure(figsize=(10,6))\n",
    "plt.barh(features[sorted_idx_split], importances_split[sorted_idx_split])\n",
    "plt.xlabel('Importancia (SPLIT)')\n",
    "plt.title('Feature Importance basada en SPLIT')\n",
    "plt.gca().invert_yaxis()\n",
    "plt.show()\n",
    "\n",
    "# --------------------\n",
    "# 3. Permutation Importance\n",
    "# --------------------\n",
    "# Para permutation necesitamos un modelo tipo sklearn, armamos uno rápido\n",
    "model_sklearn = lgb.LGBMClassifier(boosting_type='gbdt')\n",
    "model_sklearn.fit(X_train, y_train)\n",
    "\n",
    "perm_result = permutation_importance(model_sklearn, X_test, y_test, n_repeats=10, random_state=42, scoring='accuracy')\n",
    "sorted_idx_perm = perm_result.importances_mean.argsort()\n",
    "\n",
    "plt.figure(figsize=(10,6))\n",
    "plt.barh(features[sorted_idx_perm], perm_result.importances_mean[sorted_idx_perm])\n",
    "plt.xlabel('Impacto en Accuracy')\n",
    "plt.title('Permutation Importance')\n",
    "plt.gca().invert_yaxis()\n",
    "plt.show()\n",
    "\n",
    "# --------------------\n",
    "# 4. SHAP Values\n",
    "# --------------------\n",
    "explainer = shap.TreeExplainer(model)\n",
    "shap_values = explainer.shap_values(X_test)\n",
    "\n",
    "# Graficar importancia promedio\n",
    "shap.summary_plot(shap_values, X_test, feature_names=features, plot_type=\"dot\")"
   ]
  }
 ],
 "metadata": {
  "kernelspec": {
   "display_name": "ldi2",
   "language": "python",
   "name": "python3"
  },
  "language_info": {
   "codemirror_mode": {
    "name": "ipython",
    "version": 3
   },
   "file_extension": ".py",
   "mimetype": "text/x-python",
   "name": "python",
   "nbconvert_exporter": "python",
   "pygments_lexer": "ipython3",
   "version": "3.13.2"
  }
 },
 "nbformat": 4,
 "nbformat_minor": 5
}
