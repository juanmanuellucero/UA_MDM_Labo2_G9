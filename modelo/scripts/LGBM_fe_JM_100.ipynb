{
 "cells": [
  {
   "cell_type": "markdown",
   "id": "c5c37b40",
   "metadata": {},
   "source": [
    "## Configuracion de Entorno"
   ]
  },
  {
   "cell_type": "code",
   "execution_count": 20,
   "id": "8e3edd9b",
   "metadata": {},
   "outputs": [
    {
     "name": "stdout",
     "output_type": "stream",
     "text": [
      "Directorio actual: C:\\Users\\juanm\\GitHub\\UA_MDM_Labo2_G9\\work\n"
     ]
    }
   ],
   "source": [
    "import os\n",
    "\n",
    "# Si estás en Jupyter Notebook, anclás a una ruta conocida o fija:\n",
    "project_root = r\"C:\\Users\\juanm\\GitHub\\UA_MDM_Labo2_G9\"  # Personalizar esto\n",
    "\n",
    "# Alternativa: usar una carpeta conocida dentro del proyecto\n",
    "# project_root = os.path.abspath(os.path.join(os.getcwd(), \"..\"))  # Menos frágil\n",
    "\n",
    "# Rutas de trabajo\n",
    "workDir = os.path.join(project_root, \"work\")\n",
    "optunaArtifactDir = os.path.join(workDir, \"optuna_artifacts\")\n",
    "optunaTempDir = os.path.join(workDir, \"optuna_temp_artifacts\")\n",
    "\n",
    "# Crear carpetas si no existen\n",
    "os.makedirs(optunaArtifactDir, exist_ok=True)\n",
    "os.makedirs(optunaTempDir, exist_ok=True)\n",
    "\n",
    "# Cambiar al directorio de trabajo solo si es necesario\n",
    "if os.getcwd() != workDir:\n",
    "    os.chdir(workDir)\n",
    "\n",
    "print(\"Directorio actual:\", os.getcwd())\n"
   ]
  },
  {
   "cell_type": "code",
   "execution_count": 21,
   "id": "77c29884",
   "metadata": {},
   "outputs": [],
   "source": [
    "# Manipulación de datos\n",
    "import numpy as np\n",
    "import pandas as pd\n",
    "\n",
    "# Modelado: Gradient Boosting\n",
    "import lightgbm as lgb\n",
    "\n",
    "# Sklearn: splits, métricas y utilidades\n",
    "from sklearn.model_selection import train_test_split, StratifiedKFold\n",
    "from sklearn.metrics import cohen_kappa_score, accuracy_score, balanced_accuracy_score\n",
    "from sklearn.utils import shuffle\n",
    "\n",
    "# Visualización\n",
    "import matplotlib.pyplot as plt  # Usar junto con seaborn o plotly si es necesario\n",
    "import plotly.express as px      # Corrección: no usar `from plotly import express as px`\n",
    "\n",
    "# Optuna para optimización de hiperparámetros\n",
    "import optuna\n",
    "from optuna.artifacts import FileSystemArtifactStore, upload_artifact\n",
    "\n",
    "# Utilidades propias\n",
    "from utiles import plot_confusion_matrix\n",
    "\n",
    "# Guardado de objetos\n",
    "from joblib import dump, load\n",
    "\n",
    "# Sistema\n",
    "import os"
   ]
  },
  {
   "cell_type": "code",
   "execution_count": 22,
   "id": "1b908605",
   "metadata": {},
   "outputs": [],
   "source": [
    "import os\n",
    "\n",
    "# Paths para acceso archivos\n",
    "#Este notebook asume la siguiente estructura de carpetas a partir de la ubicacion de base_dir \n",
    "#(dos niveles arriba de la cƒarpeta donde se ejecuta el notebook). \n",
    "# /ƒ/ƒ\n",
    "# /UA_MDM_Labo2/inputƒ\n",
    "# /UA_MDM_Labo2/input/petfinder-adoption-prediction/            <- Aca deben ir todos los archivos de datos de la competencia \n",
    "# /UA_MDM_Labo2/tutoriales/                       <- Aca deben poner los notebooks y scripts que les compartimos\n",
    "# /UA_MDM_Labo2/work/                             <- Resultados de notebooks iran dentro de esta carpeta en subcarpetas\n",
    "# /UA_MDM_Labo2/work/models/                     <- Modelos entrenados en archivos joblibs\n",
    "# /UA_MDM_Labo2/work/optuna_temp_artifacts/      <- Archivos que queremos dejar como artefacto de un trial de optuna (optuna los copiara a la carpeta de abajo)\n",
    "# /UA_MDM_Labo2/work/optuna_artifacts/           <- Archivos con artefactos que sibimos a optuna\n",
    "\n",
    "#Subimos dos niveles para quedar en la carpeta que contiene input y UA_MDM_Labo2\n",
    "BASE_DIR = '../'\n",
    "\n",
    "#Datos de entrenamiento \n",
    "PATH_TO_TRAIN = os.path.join(BASE_DIR, \"input/petfinder-adoption-prediction/train/train.csv\")\n",
    "\n",
    "#Datos de razas \n",
    "PATH_TO_BREED_LABELS = os.path.join(BASE_DIR, \"modelo/data/petfinder-adoption-prediction/BreedLabels.csv\")\n",
    "\n",
    "#Salida de modelos entrenados\n",
    "PATH_TO_MODELS = os.path.join(BASE_DIR, \"work/models\")\n",
    "\n",
    "#Artefactos a subir a optuna\n",
    "PATH_TO_TEMP_FILES = os.path.join(BASE_DIR, \"work/optuna_temp_artifacts\")\n",
    "\n",
    "#Artefactos que optuna gestiona\n",
    "PATH_TO_OPTUNA_ARTIFACTS = os.path.join(BASE_DIR, \"work/optuna_artifacts\")\n",
    "\n",
    "\n",
    "SEED = 42 #Semilla de procesos aleatorios (para poder replicar exactamente al volver a correr un modelo)\n",
    "TEST_SIZE = 0.2 #Facción para train/test= split"
   ]
  },
  {
   "cell_type": "markdown",
   "id": "0e967956",
   "metadata": {},
   "source": [
    "## Feature Engineering"
   ]
  },
  {
   "cell_type": "code",
   "execution_count": 23,
   "id": "2bd789d0",
   "metadata": {},
   "outputs": [],
   "source": [
    "import numpy as np\n",
    "import pandas as pd\n",
    "\n",
    "# Cargar el dataset\n",
    "dataset = pd.read_csv(PATH_TO_TRAIN)\n",
    "\n",
    "# 1. Tiene nombre\n",
    "dataset['HasName'] = dataset['Name'].notnull().astype(int)\n",
    "\n",
    "# 2. Es de raza pura\n",
    "# Cargar etiquetas de razas\n",
    "breed_labels = pd.read_csv(PATH_TO_BREED_LABELS)\n",
    "\n",
    "# Diccionario ID → Nombre de raza\n",
    "id_to_breed = dict(zip(breed_labels['BreedID'], breed_labels['BreedName']))\n",
    "\n",
    "# Crear una nueva columna con el nombre de Breed1\n",
    "dataset['Breed1_name'] = dataset['Breed1'].map(id_to_breed)\n",
    "\n",
    "dataset['PureBreed'] = (\n",
    "    (dataset['Breed2'] == 0) &\n",
    "    (~dataset['Breed1_name'].str.contains('Mixed', case=False, na=False))\n",
    ").astype(int)\n",
    "\n",
    "# 3. Longitud de la descripción\n",
    "dataset['DescLength'] = dataset['Description'].fillna('').apply(len)\n",
    "\n",
    "# 4. Combinación tipo-raza principal\n",
    "dataset['Type_Breed_Combo'] = dataset['Type'].astype(str) + '_' + dataset['Breed1'].astype(str)\n",
    "\n",
    "dataset['Type_Breed_Combo'] = dataset['Type_Breed_Combo'].astype('category')\n",
    "\n",
    "# 5. Tarifa por mascota\n",
    "dataset['Fee_per_Pet'] = np.where(dataset['Quantity'] == 0, 0, dataset['Fee'] / dataset['Quantity'])\n",
    "\n",
    "# 6. Fotos por mascota\n",
    "dataset['Photo_per_Pet'] = np.where(dataset['Quantity'] == 0, 0, dataset['PhotoAmt'] / dataset['Quantity'])\n",
    "\n",
    "# 7. Relación edad/tarifa\n",
    "dataset['Age_Fee_Ratio'] = dataset['Age'] / (dataset['Fee'] + 1)\n",
    "\n",
    "# 8. Longitud descripción por mascota\n",
    "dataset['DescLength_per_Pet'] = np.where(dataset['Quantity'] == 0, 0, dataset['DescLength'] / dataset['Quantity'])\n",
    "\n",
    "# 9. Longitud descripción por cantidad de fotos \n",
    "dataset['DescLength_per_Photo'] = np.where(dataset['PhotoAmt'] == 0,0,dataset['DescLength'] / dataset['PhotoAmt'])\n",
    "\n",
    "# 10. Tarifa promedio por raza\n",
    "breed_fee_mean = dataset.groupby('Breed1')['Fee'].mean()\n",
    "\n",
    "dataset['Fee_Breed_Ratio'] = dataset['Fee'] / (dataset['Breed1'].map(breed_fee_mean) + 1)"
   ]
  },
  {
   "cell_type": "code",
   "execution_count": 24,
   "id": "56111d8e",
   "metadata": {},
   "outputs": [
    {
     "data": {
      "text/plain": [
       "['Type',\n",
       " 'Age',\n",
       " 'Breed1',\n",
       " 'Breed2',\n",
       " 'Gender',\n",
       " 'Color1',\n",
       " 'Color2',\n",
       " 'Color3',\n",
       " 'MaturitySize',\n",
       " 'FurLength',\n",
       " 'Vaccinated',\n",
       " 'Dewormed',\n",
       " 'Sterilized',\n",
       " 'Health',\n",
       " 'Quantity',\n",
       " 'Fee',\n",
       " 'State',\n",
       " 'VideoAmt',\n",
       " 'PhotoAmt',\n",
       " 'HasName',\n",
       " 'PureBreed',\n",
       " 'DescLength',\n",
       " 'Type_Breed_Combo',\n",
       " 'Fee_per_Pet',\n",
       " 'Photo_per_Pet',\n",
       " 'Age_Fee_Ratio',\n",
       " 'DescLength_per_Pet',\n",
       " 'DescLength_per_Photo',\n",
       " 'Fee_Breed_Ratio']"
      ]
     },
     "execution_count": 24,
     "metadata": {},
     "output_type": "execute_result"
    }
   ],
   "source": [
    "#Separo un 20% para test estratificado opr target\n",
    "train, test = train_test_split(dataset,\n",
    "                               test_size = TEST_SIZE,\n",
    "                               random_state = SEED,\n",
    "                               stratify = dataset.AdoptionSpeed)\n",
    "\n",
    "#Armo listas con features de texto y numericas\n",
    "char_feats = [f for f in dataset.columns if dataset[f].dtype=='O']\n",
    "numeric_feats = [f for f in dataset.columns if dataset[f].dtype!='O']\n",
    "\n",
    "#Defino features a usar\n",
    "features = numeric_feats.copy()\n",
    "\n",
    "label = 'AdoptionSpeed'\n",
    "\n",
    "# Eliminamos 'AdoptionSpeed' si está\n",
    "if 'AdoptionSpeed' in features:\n",
    "    features.remove('AdoptionSpeed')\n",
    "\n",
    "#Genero dataframes de train y test con sus respectivos targets\n",
    "X_train = train[features]\n",
    "y_train = train[label]\n",
    "\n",
    "X_test = test[features]\n",
    "y_test = test[label]\n",
    "\n",
    "features"
   ]
  },
  {
   "cell_type": "markdown",
   "id": "67ca5d89",
   "metadata": {},
   "source": [
    "## Modelo con hiperparametros por default"
   ]
  },
  {
   "cell_type": "code",
   "execution_count": 25,
   "id": "f4cacb84",
   "metadata": {},
   "outputs": [],
   "source": [
    "#Entreno un modelo inicial sin modificar hiperparametros. Solamente especifico el numero de clases y el tipo de modelo como clasificacoión\n",
    "lgb_params = params = {\n",
    "                        'objective': 'multiclass',\n",
    "                        'num_class': len(y_train.unique())\n",
    "                        }\n",
    "\n",
    "\n",
    "#genero el objeto Dataset que debo pasarle a lightgbm para que entrene\n",
    "lgb_train_dataset = lgb.Dataset(data=X_train,\n",
    "                                label=y_train)\n",
    "\n",
    "#entreno el modelo con los parametros por defecto\n",
    "lgb_model1 = lgb.train(lgb_params,\n",
    "                      lgb_train_dataset)"
   ]
  },
  {
   "cell_type": "code",
   "execution_count": 26,
   "id": "de7e6584",
   "metadata": {},
   "outputs": [
    {
     "data": {
      "text/plain": [
       "array([2, 2, 2, ..., 1, 4, 4], shape=(2999,))"
      ]
     },
     "execution_count": 26,
     "metadata": {},
     "output_type": "execute_result"
    }
   ],
   "source": [
    "lgb_model1.predict(X_test).argmax(axis=1)"
   ]
  },
  {
   "cell_type": "code",
   "execution_count": 27,
   "id": "b0683698",
   "metadata": {},
   "outputs": [
    {
     "name": "stdout",
     "output_type": "stream",
     "text": [
      "0.34524806594014434\n"
     ]
    },
    {
     "data": {
      "application/vnd.plotly.v1+json": {
       "config": {
        "plotlyServerURL": "https://plot.ly"
       },
       "data": [
        {
         "type": "heatmap",
         "x": {
          "bdata": "AAECAwQ=",
          "dtype": "i1"
         },
         "y": {
          "bdata": "AAECAwQ=",
          "dtype": "i1"
         },
         "z": {
          "bdata": "RO1K1K5EHUAsUbsStStHQA3Ox+B8DDxARO1K1K5EDUBE7UrUrkQtQBC8SevU4+k/qqqqqqqqQEBcbQxNd7BCQAxqgHF7HyJADE13sN9qM0CZSSgX8bjPP3MRj/tBUDVAJMIEJ3PjQ0AyN17RtMonQBj+iWsLxDpACMmAeqZy3T/wbf4KsxowQFLEoZP2QUBAJ+2DZEA9NkAhGVDPVK48QLdt27Zt29Y/6Hme53meJkBVVVVVVVUyQHqe53me5yBAYhiGYRjGTkA=",
          "dtype": "f8",
          "shape": "5, 5"
         }
        }
       ],
       "layout": {
        "annotations": [
         {
          "font": {
           "color": "white"
          },
          "showarrow": false,
          "text": "7.3 - 6",
          "x": 0,
          "xref": "x",
          "y": 0,
          "yref": "y"
         },
         {
          "font": {
           "color": "white"
          },
          "showarrow": false,
          "text": "46.3 - 38",
          "x": 1,
          "xref": "x",
          "y": 0,
          "yref": "y"
         },
         {
          "font": {
           "color": "white"
          },
          "showarrow": false,
          "text": "28.0 - 23",
          "x": 2,
          "xref": "x",
          "y": 0,
          "yref": "y"
         },
         {
          "font": {
           "color": "white"
          },
          "showarrow": false,
          "text": "3.7 - 3",
          "x": 3,
          "xref": "x",
          "y": 0,
          "yref": "y"
         },
         {
          "font": {
           "color": "white"
          },
          "showarrow": false,
          "text": "14.6 - 12",
          "x": 4,
          "xref": "x",
          "y": 0,
          "yref": "y"
         },
         {
          "font": {
           "color": "white"
          },
          "showarrow": false,
          "text": "0.8 - 5",
          "x": 0,
          "xref": "x",
          "y": 1,
          "yref": "y"
         },
         {
          "font": {
           "color": "white"
          },
          "showarrow": false,
          "text": "33.3 - 206",
          "x": 1,
          "xref": "x",
          "y": 1,
          "yref": "y"
         },
         {
          "font": {
           "color": "white"
          },
          "showarrow": false,
          "text": "37.4 - 231",
          "x": 2,
          "xref": "x",
          "y": 1,
          "yref": "y"
         },
         {
          "font": {
           "color": "white"
          },
          "showarrow": false,
          "text": "9.1 - 56",
          "x": 3,
          "xref": "x",
          "y": 1,
          "yref": "y"
         },
         {
          "font": {
           "color": "white"
          },
          "showarrow": false,
          "text": "19.4 - 120",
          "x": 4,
          "xref": "x",
          "y": 1,
          "yref": "y"
         },
         {
          "font": {
           "color": "white"
          },
          "showarrow": false,
          "text": "0.2 - 2",
          "x": 0,
          "xref": "x",
          "y": 2,
          "yref": "y"
         },
         {
          "font": {
           "color": "white"
          },
          "showarrow": false,
          "text": "21.3 - 172",
          "x": 1,
          "xref": "x",
          "y": 2,
          "yref": "y"
         },
         {
          "font": {
           "color": "white"
          },
          "showarrow": false,
          "text": "39.8 - 321",
          "x": 2,
          "xref": "x",
          "y": 2,
          "yref": "y"
         },
         {
          "font": {
           "color": "white"
          },
          "showarrow": false,
          "text": "11.9 - 96",
          "x": 3,
          "xref": "x",
          "y": 2,
          "yref": "y"
         },
         {
          "font": {
           "color": "white"
          },
          "showarrow": false,
          "text": "26.8 - 216",
          "x": 4,
          "xref": "x",
          "y": 2,
          "yref": "y"
         },
         {
          "font": {
           "color": "white"
          },
          "showarrow": false,
          "text": "0.5 - 3",
          "x": 0,
          "xref": "x",
          "y": 3,
          "yref": "y"
         },
         {
          "font": {
           "color": "white"
          },
          "showarrow": false,
          "text": "16.1 - 105",
          "x": 1,
          "xref": "x",
          "y": 3,
          "yref": "y"
         },
         {
          "font": {
           "color": "white"
          },
          "showarrow": false,
          "text": "32.5 - 212",
          "x": 2,
          "xref": "x",
          "y": 3,
          "yref": "y"
         },
         {
          "font": {
           "color": "white"
          },
          "showarrow": false,
          "text": "22.2 - 145",
          "x": 3,
          "xref": "x",
          "y": 3,
          "yref": "y"
         },
         {
          "font": {
           "color": "white"
          },
          "showarrow": false,
          "text": "28.7 - 187",
          "x": 4,
          "xref": "x",
          "y": 3,
          "yref": "y"
         },
         {
          "font": {
           "color": "white"
          },
          "showarrow": false,
          "text": "0.4 - 3",
          "x": 0,
          "xref": "x",
          "y": 4,
          "yref": "y"
         },
         {
          "font": {
           "color": "white"
          },
          "showarrow": false,
          "text": "11.3 - 95",
          "x": 1,
          "xref": "x",
          "y": 4,
          "yref": "y"
         },
         {
          "font": {
           "color": "white"
          },
          "showarrow": false,
          "text": "18.3 - 154",
          "x": 2,
          "xref": "x",
          "y": 4,
          "yref": "y"
         },
         {
          "font": {
           "color": "white"
          },
          "showarrow": false,
          "text": "8.5 - 71",
          "x": 3,
          "xref": "x",
          "y": 4,
          "yref": "y"
         },
         {
          "font": {
           "color": "white"
          },
          "showarrow": false,
          "text": "61.5 - 517",
          "x": 4,
          "xref": "x",
          "y": 4,
          "yref": "y"
         }
        ],
        "height": 800,
        "template": {
         "data": {
          "bar": [
           {
            "error_x": {
             "color": "#2a3f5f"
            },
            "error_y": {
             "color": "#2a3f5f"
            },
            "marker": {
             "line": {
              "color": "#E5ECF6",
              "width": 0.5
             },
             "pattern": {
              "fillmode": "overlay",
              "size": 10,
              "solidity": 0.2
             }
            },
            "type": "bar"
           }
          ],
          "barpolar": [
           {
            "marker": {
             "line": {
              "color": "#E5ECF6",
              "width": 0.5
             },
             "pattern": {
              "fillmode": "overlay",
              "size": 10,
              "solidity": 0.2
             }
            },
            "type": "barpolar"
           }
          ],
          "carpet": [
           {
            "aaxis": {
             "endlinecolor": "#2a3f5f",
             "gridcolor": "white",
             "linecolor": "white",
             "minorgridcolor": "white",
             "startlinecolor": "#2a3f5f"
            },
            "baxis": {
             "endlinecolor": "#2a3f5f",
             "gridcolor": "white",
             "linecolor": "white",
             "minorgridcolor": "white",
             "startlinecolor": "#2a3f5f"
            },
            "type": "carpet"
           }
          ],
          "choropleth": [
           {
            "colorbar": {
             "outlinewidth": 0,
             "ticks": ""
            },
            "type": "choropleth"
           }
          ],
          "contour": [
           {
            "colorbar": {
             "outlinewidth": 0,
             "ticks": ""
            },
            "colorscale": [
             [
              0,
              "#0d0887"
             ],
             [
              0.1111111111111111,
              "#46039f"
             ],
             [
              0.2222222222222222,
              "#7201a8"
             ],
             [
              0.3333333333333333,
              "#9c179e"
             ],
             [
              0.4444444444444444,
              "#bd3786"
             ],
             [
              0.5555555555555556,
              "#d8576b"
             ],
             [
              0.6666666666666666,
              "#ed7953"
             ],
             [
              0.7777777777777778,
              "#fb9f3a"
             ],
             [
              0.8888888888888888,
              "#fdca26"
             ],
             [
              1,
              "#f0f921"
             ]
            ],
            "type": "contour"
           }
          ],
          "contourcarpet": [
           {
            "colorbar": {
             "outlinewidth": 0,
             "ticks": ""
            },
            "type": "contourcarpet"
           }
          ],
          "heatmap": [
           {
            "colorbar": {
             "outlinewidth": 0,
             "ticks": ""
            },
            "colorscale": [
             [
              0,
              "#0d0887"
             ],
             [
              0.1111111111111111,
              "#46039f"
             ],
             [
              0.2222222222222222,
              "#7201a8"
             ],
             [
              0.3333333333333333,
              "#9c179e"
             ],
             [
              0.4444444444444444,
              "#bd3786"
             ],
             [
              0.5555555555555556,
              "#d8576b"
             ],
             [
              0.6666666666666666,
              "#ed7953"
             ],
             [
              0.7777777777777778,
              "#fb9f3a"
             ],
             [
              0.8888888888888888,
              "#fdca26"
             ],
             [
              1,
              "#f0f921"
             ]
            ],
            "type": "heatmap"
           }
          ],
          "histogram": [
           {
            "marker": {
             "pattern": {
              "fillmode": "overlay",
              "size": 10,
              "solidity": 0.2
             }
            },
            "type": "histogram"
           }
          ],
          "histogram2d": [
           {
            "colorbar": {
             "outlinewidth": 0,
             "ticks": ""
            },
            "colorscale": [
             [
              0,
              "#0d0887"
             ],
             [
              0.1111111111111111,
              "#46039f"
             ],
             [
              0.2222222222222222,
              "#7201a8"
             ],
             [
              0.3333333333333333,
              "#9c179e"
             ],
             [
              0.4444444444444444,
              "#bd3786"
             ],
             [
              0.5555555555555556,
              "#d8576b"
             ],
             [
              0.6666666666666666,
              "#ed7953"
             ],
             [
              0.7777777777777778,
              "#fb9f3a"
             ],
             [
              0.8888888888888888,
              "#fdca26"
             ],
             [
              1,
              "#f0f921"
             ]
            ],
            "type": "histogram2d"
           }
          ],
          "histogram2dcontour": [
           {
            "colorbar": {
             "outlinewidth": 0,
             "ticks": ""
            },
            "colorscale": [
             [
              0,
              "#0d0887"
             ],
             [
              0.1111111111111111,
              "#46039f"
             ],
             [
              0.2222222222222222,
              "#7201a8"
             ],
             [
              0.3333333333333333,
              "#9c179e"
             ],
             [
              0.4444444444444444,
              "#bd3786"
             ],
             [
              0.5555555555555556,
              "#d8576b"
             ],
             [
              0.6666666666666666,
              "#ed7953"
             ],
             [
              0.7777777777777778,
              "#fb9f3a"
             ],
             [
              0.8888888888888888,
              "#fdca26"
             ],
             [
              1,
              "#f0f921"
             ]
            ],
            "type": "histogram2dcontour"
           }
          ],
          "mesh3d": [
           {
            "colorbar": {
             "outlinewidth": 0,
             "ticks": ""
            },
            "type": "mesh3d"
           }
          ],
          "parcoords": [
           {
            "line": {
             "colorbar": {
              "outlinewidth": 0,
              "ticks": ""
             }
            },
            "type": "parcoords"
           }
          ],
          "pie": [
           {
            "automargin": true,
            "type": "pie"
           }
          ],
          "scatter": [
           {
            "fillpattern": {
             "fillmode": "overlay",
             "size": 10,
             "solidity": 0.2
            },
            "type": "scatter"
           }
          ],
          "scatter3d": [
           {
            "line": {
             "colorbar": {
              "outlinewidth": 0,
              "ticks": ""
             }
            },
            "marker": {
             "colorbar": {
              "outlinewidth": 0,
              "ticks": ""
             }
            },
            "type": "scatter3d"
           }
          ],
          "scattercarpet": [
           {
            "marker": {
             "colorbar": {
              "outlinewidth": 0,
              "ticks": ""
             }
            },
            "type": "scattercarpet"
           }
          ],
          "scattergeo": [
           {
            "marker": {
             "colorbar": {
              "outlinewidth": 0,
              "ticks": ""
             }
            },
            "type": "scattergeo"
           }
          ],
          "scattergl": [
           {
            "marker": {
             "colorbar": {
              "outlinewidth": 0,
              "ticks": ""
             }
            },
            "type": "scattergl"
           }
          ],
          "scattermap": [
           {
            "marker": {
             "colorbar": {
              "outlinewidth": 0,
              "ticks": ""
             }
            },
            "type": "scattermap"
           }
          ],
          "scattermapbox": [
           {
            "marker": {
             "colorbar": {
              "outlinewidth": 0,
              "ticks": ""
             }
            },
            "type": "scattermapbox"
           }
          ],
          "scatterpolar": [
           {
            "marker": {
             "colorbar": {
              "outlinewidth": 0,
              "ticks": ""
             }
            },
            "type": "scatterpolar"
           }
          ],
          "scatterpolargl": [
           {
            "marker": {
             "colorbar": {
              "outlinewidth": 0,
              "ticks": ""
             }
            },
            "type": "scatterpolargl"
           }
          ],
          "scatterternary": [
           {
            "marker": {
             "colorbar": {
              "outlinewidth": 0,
              "ticks": ""
             }
            },
            "type": "scatterternary"
           }
          ],
          "surface": [
           {
            "colorbar": {
             "outlinewidth": 0,
             "ticks": ""
            },
            "colorscale": [
             [
              0,
              "#0d0887"
             ],
             [
              0.1111111111111111,
              "#46039f"
             ],
             [
              0.2222222222222222,
              "#7201a8"
             ],
             [
              0.3333333333333333,
              "#9c179e"
             ],
             [
              0.4444444444444444,
              "#bd3786"
             ],
             [
              0.5555555555555556,
              "#d8576b"
             ],
             [
              0.6666666666666666,
              "#ed7953"
             ],
             [
              0.7777777777777778,
              "#fb9f3a"
             ],
             [
              0.8888888888888888,
              "#fdca26"
             ],
             [
              1,
              "#f0f921"
             ]
            ],
            "type": "surface"
           }
          ],
          "table": [
           {
            "cells": {
             "fill": {
              "color": "#EBF0F8"
             },
             "line": {
              "color": "white"
             }
            },
            "header": {
             "fill": {
              "color": "#C8D4E3"
             },
             "line": {
              "color": "white"
             }
            },
            "type": "table"
           }
          ]
         },
         "layout": {
          "annotationdefaults": {
           "arrowcolor": "#2a3f5f",
           "arrowhead": 0,
           "arrowwidth": 1
          },
          "autotypenumbers": "strict",
          "coloraxis": {
           "colorbar": {
            "outlinewidth": 0,
            "ticks": ""
           }
          },
          "colorscale": {
           "diverging": [
            [
             0,
             "#8e0152"
            ],
            [
             0.1,
             "#c51b7d"
            ],
            [
             0.2,
             "#de77ae"
            ],
            [
             0.3,
             "#f1b6da"
            ],
            [
             0.4,
             "#fde0ef"
            ],
            [
             0.5,
             "#f7f7f7"
            ],
            [
             0.6,
             "#e6f5d0"
            ],
            [
             0.7,
             "#b8e186"
            ],
            [
             0.8,
             "#7fbc41"
            ],
            [
             0.9,
             "#4d9221"
            ],
            [
             1,
             "#276419"
            ]
           ],
           "sequential": [
            [
             0,
             "#0d0887"
            ],
            [
             0.1111111111111111,
             "#46039f"
            ],
            [
             0.2222222222222222,
             "#7201a8"
            ],
            [
             0.3333333333333333,
             "#9c179e"
            ],
            [
             0.4444444444444444,
             "#bd3786"
            ],
            [
             0.5555555555555556,
             "#d8576b"
            ],
            [
             0.6666666666666666,
             "#ed7953"
            ],
            [
             0.7777777777777778,
             "#fb9f3a"
            ],
            [
             0.8888888888888888,
             "#fdca26"
            ],
            [
             1,
             "#f0f921"
            ]
           ],
           "sequentialminus": [
            [
             0,
             "#0d0887"
            ],
            [
             0.1111111111111111,
             "#46039f"
            ],
            [
             0.2222222222222222,
             "#7201a8"
            ],
            [
             0.3333333333333333,
             "#9c179e"
            ],
            [
             0.4444444444444444,
             "#bd3786"
            ],
            [
             0.5555555555555556,
             "#d8576b"
            ],
            [
             0.6666666666666666,
             "#ed7953"
            ],
            [
             0.7777777777777778,
             "#fb9f3a"
            ],
            [
             0.8888888888888888,
             "#fdca26"
            ],
            [
             1,
             "#f0f921"
            ]
           ]
          },
          "colorway": [
           "#636efa",
           "#EF553B",
           "#00cc96",
           "#ab63fa",
           "#FFA15A",
           "#19d3f3",
           "#FF6692",
           "#B6E880",
           "#FF97FF",
           "#FECB52"
          ],
          "font": {
           "color": "#2a3f5f"
          },
          "geo": {
           "bgcolor": "white",
           "lakecolor": "white",
           "landcolor": "#E5ECF6",
           "showlakes": true,
           "showland": true,
           "subunitcolor": "white"
          },
          "hoverlabel": {
           "align": "left"
          },
          "hovermode": "closest",
          "mapbox": {
           "style": "light"
          },
          "paper_bgcolor": "white",
          "plot_bgcolor": "#E5ECF6",
          "polar": {
           "angularaxis": {
            "gridcolor": "white",
            "linecolor": "white",
            "ticks": ""
           },
           "bgcolor": "#E5ECF6",
           "radialaxis": {
            "gridcolor": "white",
            "linecolor": "white",
            "ticks": ""
           }
          },
          "scene": {
           "xaxis": {
            "backgroundcolor": "#E5ECF6",
            "gridcolor": "white",
            "gridwidth": 2,
            "linecolor": "white",
            "showbackground": true,
            "ticks": "",
            "zerolinecolor": "white"
           },
           "yaxis": {
            "backgroundcolor": "#E5ECF6",
            "gridcolor": "white",
            "gridwidth": 2,
            "linecolor": "white",
            "showbackground": true,
            "ticks": "",
            "zerolinecolor": "white"
           },
           "zaxis": {
            "backgroundcolor": "#E5ECF6",
            "gridcolor": "white",
            "gridwidth": 2,
            "linecolor": "white",
            "showbackground": true,
            "ticks": "",
            "zerolinecolor": "white"
           }
          },
          "shapedefaults": {
           "line": {
            "color": "#2a3f5f"
           }
          },
          "ternary": {
           "aaxis": {
            "gridcolor": "white",
            "linecolor": "white",
            "ticks": ""
           },
           "baxis": {
            "gridcolor": "white",
            "linecolor": "white",
            "ticks": ""
           },
           "bgcolor": "#E5ECF6",
           "caxis": {
            "gridcolor": "white",
            "linecolor": "white",
            "ticks": ""
           }
          },
          "title": {
           "x": 0.05
          },
          "xaxis": {
           "automargin": true,
           "gridcolor": "white",
           "linecolor": "white",
           "ticks": "",
           "title": {
            "standoff": 15
           },
           "zerolinecolor": "white",
           "zerolinewidth": 2
          },
          "yaxis": {
           "automargin": true,
           "gridcolor": "white",
           "linecolor": "white",
           "ticks": "",
           "title": {
            "standoff": 15
           },
           "zerolinecolor": "white",
           "zerolinewidth": 2
          }
         }
        },
        "title": {
         "text": "Conf Matrix"
        },
        "width": 800,
        "xaxis": {
         "title": {
          "text": "Predicted value"
         }
        },
        "yaxis": {
         "title": {
          "text": "Real value"
         }
        }
       }
      }
     },
     "metadata": {},
     "output_type": "display_data"
    }
   ],
   "source": [
    "#Obtengo las predicciones sobre el set de test. El modelo me da una lista de probabilidades para cada clase y tomo la clase con mayor probabilidad con la funcion argmax\n",
    "y_pred = lgb_model1.predict(X_test).argmax(axis=1)\n",
    "\n",
    "#Calculo el Kappa\n",
    "print(cohen_kappa_score(y_test,y_pred, weights = 'quadratic'))\n",
    "\n",
    "#Muestro la matriz de confusión\n",
    "display(plot_confusion_matrix(y_test,y_pred))"
   ]
  },
  {
   "cell_type": "markdown",
   "id": "0270bbba",
   "metadata": {},
   "source": [
    "## Modelo con optimizacion de hiperparametros train/test"
   ]
  },
  {
   "cell_type": "code",
   "execution_count": 28,
   "id": "f521b491",
   "metadata": {},
   "outputs": [],
   "source": [
    "#Funcion que vamos a optimizar. Optuna requiere que usemos el objeto trial para generar los parametros a optimizar\n",
    "def lgb_objective(trial):\n",
    "    #PArametros para LightGBM\n",
    "    lgb_params = {      \n",
    "                        #PArametros fijos\n",
    "                        'objective': 'multiclass',\n",
    "                        'verbosity':-1,\n",
    "                        'num_class': len(y_train.unique()),\n",
    "                        #Hiperparametros a optimizar utilizando suggest_float o suggest_int segun el tipo de dato\n",
    "                        #Se indica el nombre del parametro, valor minimo, valor maximo \n",
    "                        #en elgunos casos el parametro log=True para parametros que requieren buscar en esa escala\n",
    "                        'lambda_l1': trial.suggest_float('lambda_l1', 1e-8, 10.0, log=True),\n",
    "                        'lambda_l2': trial.suggest_float('lambda_l2', 1e-8, 10.0, log=True),\n",
    "                        'num_leaves': trial.suggest_int('num_leaves', 2, 256),\n",
    "                        'feature_fraction': trial.suggest_float('feature_fraction', 0.4, 1.0),\n",
    "                        'bagging_fraction': trial.suggest_float('bagging_fraction', 0.4, 1.0),\n",
    "                        'bagging_freq': trial.suggest_int('bagging_freq', 1, 7),\n",
    "                        'min_child_samples': trial.suggest_int('min_child_samples', 5, 100),\n",
    "                        } \n",
    "\n",
    "    #Genero objeto dataset de entrenamiento\n",
    "    lgb_train_dataset = lgb.Dataset(data=X_train,\n",
    "                                    label=y_train)\n",
    "\n",
    "    #ajuste de modelo\n",
    "    lgb_model2 = lgb.train(lgb_params,\n",
    "                        lgb_train_dataset)\n",
    "    \n",
    "    #Devuelvo el score en test\n",
    "    return(cohen_kappa_score(y_test,lgb_model2.predict(X_test).argmax(axis=1),\n",
    "                             weights = 'quadratic'))"
   ]
  },
  {
   "cell_type": "code",
   "execution_count": 29,
   "id": "e5f668a9",
   "metadata": {},
   "outputs": [
    {
     "name": "stderr",
     "output_type": "stream",
     "text": [
      "[I 2025-05-07 22:21:44,856] A new study created in RDB with name: 100_LGBM_FE_JM_50\n",
      "[I 2025-05-07 22:21:48,512] Trial 0 finished with value: 0.3130596156873906 and parameters: {'lambda_l1': 1.3479631274467344e-07, 'lambda_l2': 0.0012551850209556092, 'num_leaves': 145, 'feature_fraction': 0.5527651036110784, 'bagging_fraction': 0.7488178325573391, 'bagging_freq': 5, 'min_child_samples': 14}. Best is trial 0 with value: 0.3130596156873906.\n",
      "[I 2025-05-07 22:21:50,949] Trial 1 finished with value: 0.29268733092297705 and parameters: {'lambda_l1': 0.05015799992902347, 'lambda_l2': 0.15555019284729424, 'num_leaves': 96, 'feature_fraction': 0.924942597768079, 'bagging_fraction': 0.6362894463913356, 'bagging_freq': 4, 'min_child_samples': 21}. Best is trial 0 with value: 0.3130596156873906.\n",
      "[I 2025-05-07 22:21:54,722] Trial 2 finished with value: 0.30690022390056615 and parameters: {'lambda_l1': 0.12177071015958178, 'lambda_l2': 0.024783541198744773, 'num_leaves': 157, 'feature_fraction': 0.9940896611601355, 'bagging_fraction': 0.7409694325019018, 'bagging_freq': 6, 'min_child_samples': 7}. Best is trial 0 with value: 0.3130596156873906.\n",
      "[I 2025-05-07 22:21:56,824] Trial 3 finished with value: 0.3100311349363696 and parameters: {'lambda_l1': 0.00019269013426591604, 'lambda_l2': 0.30730385513086655, 'num_leaves': 95, 'feature_fraction': 0.6129137748340204, 'bagging_fraction': 0.5773739759552843, 'bagging_freq': 2, 'min_child_samples': 15}. Best is trial 0 with value: 0.3130596156873906.\n",
      "[I 2025-05-07 22:21:58,345] Trial 4 finished with value: 0.3288490516912531 and parameters: {'lambda_l1': 4.647469888748477e-06, 'lambda_l2': 0.0678619848411136, 'num_leaves': 182, 'feature_fraction': 0.5455945512988165, 'bagging_fraction': 0.49004518728486735, 'bagging_freq': 5, 'min_child_samples': 92}. Best is trial 4 with value: 0.3288490516912531.\n",
      "[I 2025-05-07 22:22:01,300] Trial 5 finished with value: 0.3145187503676353 and parameters: {'lambda_l1': 1.8246004680164154e-06, 'lambda_l2': 1.6519042610617267, 'num_leaves': 150, 'feature_fraction': 0.7618455853003727, 'bagging_fraction': 0.5466297083014366, 'bagging_freq': 4, 'min_child_samples': 8}. Best is trial 4 with value: 0.3288490516912531.\n",
      "[I 2025-05-07 22:22:03,226] Trial 6 finished with value: 0.3181064980394809 and parameters: {'lambda_l1': 0.008964002890791275, 'lambda_l2': 0.5229076633745676, 'num_leaves': 230, 'feature_fraction': 0.6000713053517394, 'bagging_fraction': 0.7527908205196416, 'bagging_freq': 4, 'min_child_samples': 77}. Best is trial 4 with value: 0.3288490516912531.\n",
      "[I 2025-05-07 22:22:05,055] Trial 7 finished with value: 0.32005364496203825 and parameters: {'lambda_l1': 2.694080683076742e-08, 'lambda_l2': 6.714246646591352, 'num_leaves': 245, 'feature_fraction': 0.6614988321624793, 'bagging_fraction': 0.49451059230700023, 'bagging_freq': 3, 'min_child_samples': 53}. Best is trial 4 with value: 0.3288490516912531.\n",
      "[I 2025-05-07 22:22:06,969] Trial 8 finished with value: 0.31986048502026 and parameters: {'lambda_l1': 9.738414301459334e-07, 'lambda_l2': 9.058657404369163e-08, 'num_leaves': 81, 'feature_fraction': 0.8218213012074731, 'bagging_fraction': 0.6137680399051834, 'bagging_freq': 4, 'min_child_samples': 61}. Best is trial 4 with value: 0.3288490516912531.\n",
      "[I 2025-05-07 22:22:08,540] Trial 9 finished with value: 0.32090694678196086 and parameters: {'lambda_l1': 0.15889062943371857, 'lambda_l2': 3.192767847693494e-08, 'num_leaves': 57, 'feature_fraction': 0.8016024002953086, 'bagging_fraction': 0.8167922293848671, 'bagging_freq': 2, 'min_child_samples': 89}. Best is trial 4 with value: 0.3288490516912531.\n",
      "[I 2025-05-07 22:22:09,158] Trial 10 finished with value: 0.32002477991963385 and parameters: {'lambda_l1': 7.566074534682736, 'lambda_l2': 8.089753743719984e-06, 'num_leaves': 15, 'feature_fraction': 0.40048044626763035, 'bagging_fraction': 0.41015940793149125, 'bagging_freq': 7, 'min_child_samples': 100}. Best is trial 4 with value: 0.3288490516912531.\n",
      "[I 2025-05-07 22:22:09,819] Trial 11 finished with value: 0.3095019418826773 and parameters: {'lambda_l1': 5.6039531574592066e-05, 'lambda_l2': 2.4813751052669657e-08, 'num_leaves': 4, 'feature_fraction': 0.476211170981383, 'bagging_fraction': 0.9510117479277762, 'bagging_freq': 1, 'min_child_samples': 100}. Best is trial 4 with value: 0.3288490516912531.\n",
      "[I 2025-05-07 22:22:11,264] Trial 12 finished with value: 0.31797101204438594 and parameters: {'lambda_l1': 6.206592793903533, 'lambda_l2': 1.2425073693006308e-05, 'num_leaves': 195, 'feature_fraction': 0.8175679722501139, 'bagging_fraction': 0.8924070464366918, 'bagging_freq': 1, 'min_child_samples': 80}. Best is trial 4 with value: 0.3288490516912531.\n",
      "[I 2025-05-07 22:22:12,642] Trial 13 finished with value: 0.3227676488692752 and parameters: {'lambda_l1': 1.0128732571676472e-05, 'lambda_l2': 0.0009757407487863503, 'num_leaves': 43, 'feature_fraction': 0.7553720203064063, 'bagging_fraction': 0.8302493786541286, 'bagging_freq': 2, 'min_child_samples': 81}. Best is trial 4 with value: 0.3288490516912531.\n",
      "[I 2025-05-07 22:22:14,952] Trial 14 finished with value: 0.3160457097696683 and parameters: {'lambda_l1': 1.1059916368744897e-05, 'lambda_l2': 0.002921822526307415, 'num_leaves': 189, 'feature_fraction': 0.6937043955918022, 'bagging_fraction': 0.8457080106219408, 'bagging_freq': 6, 'min_child_samples': 68}. Best is trial 4 with value: 0.3288490516912531.\n",
      "[I 2025-05-07 22:22:16,540] Trial 15 finished with value: 0.3223184302115484 and parameters: {'lambda_l1': 0.001044663224202338, 'lambda_l2': 4.1116561259077426e-05, 'num_leaves': 47, 'feature_fraction': 0.5173349245193907, 'bagging_fraction': 0.43641960878351904, 'bagging_freq': 3, 'min_child_samples': 42}. Best is trial 4 with value: 0.3288490516912531.\n",
      "[I 2025-05-07 22:22:18,209] Trial 16 finished with value: 0.31508712571481057 and parameters: {'lambda_l1': 4.124708550377866e-06, 'lambda_l2': 0.01668541094310594, 'num_leaves': 203, 'feature_fraction': 0.7344431989759971, 'bagging_fraction': 0.6542983752731845, 'bagging_freq': 5, 'min_child_samples': 85}. Best is trial 4 with value: 0.3288490516912531.\n",
      "[I 2025-05-07 22:22:21,055] Trial 17 finished with value: 0.32252845416647735 and parameters: {'lambda_l1': 1.7975269525416038e-07, 'lambda_l2': 0.00016905324740323262, 'num_leaves': 126, 'feature_fraction': 0.8861631653449463, 'bagging_fraction': 0.9577204653678584, 'bagging_freq': 2, 'min_child_samples': 44}. Best is trial 4 with value: 0.3288490516912531.\n",
      "[I 2025-05-07 22:22:22,599] Trial 18 finished with value: 0.3246547983082596 and parameters: {'lambda_l1': 4.290454794396911e-05, 'lambda_l2': 7.082134180745283e-07, 'num_leaves': 118, 'feature_fraction': 0.4533471685204414, 'bagging_fraction': 0.4945664294343646, 'bagging_freq': 3, 'min_child_samples': 70}. Best is trial 4 with value: 0.3288490516912531.\n",
      "[I 2025-05-07 22:22:24,050] Trial 19 finished with value: 0.3228056737846249 and parameters: {'lambda_l1': 0.0009598707506441123, 'lambda_l2': 6.222083383529297e-07, 'num_leaves': 172, 'feature_fraction': 0.4053539842088912, 'bagging_fraction': 0.5078042186240593, 'bagging_freq': 3, 'min_child_samples': 68}. Best is trial 4 with value: 0.3288490516912531.\n",
      "[I 2025-05-07 22:22:26,095] Trial 20 finished with value: 0.2922881341981365 and parameters: {'lambda_l1': 4.8909521928451876e-05, 'lambda_l2': 9.075859225286611e-07, 'num_leaves': 114, 'feature_fraction': 0.4646347733651149, 'bagging_fraction': 0.4643477122814049, 'bagging_freq': 5, 'min_child_samples': 32}. Best is trial 4 with value: 0.3288490516912531.\n",
      "[I 2025-05-07 22:22:28,050] Trial 21 finished with value: 0.3142050740686212 and parameters: {'lambda_l1': 0.001120922258352872, 'lambda_l2': 3.0778186131353226e-07, 'num_leaves': 178, 'feature_fraction': 0.4304616323062358, 'bagging_fraction': 0.5331741584996058, 'bagging_freq': 3, 'min_child_samples': 68}. Best is trial 4 with value: 0.3288490516912531.\n",
      "[I 2025-05-07 22:22:29,788] Trial 22 finished with value: 0.33691644614838057 and parameters: {'lambda_l1': 0.005800729892691794, 'lambda_l2': 1.55725084234362e-06, 'num_leaves': 216, 'feature_fraction': 0.5277993969810622, 'bagging_fraction': 0.5017701750803435, 'bagging_freq': 3, 'min_child_samples': 70}. Best is trial 22 with value: 0.33691644614838057.\n",
      "[I 2025-05-07 22:22:31,193] Trial 23 finished with value: 0.32235494138916454 and parameters: {'lambda_l1': 0.013547485108621346, 'lambda_l2': 4.854034438205198e-06, 'num_leaves': 219, 'feature_fraction': 0.5367888320892416, 'bagging_fraction': 0.46680726989629767, 'bagging_freq': 6, 'min_child_samples': 91}. Best is trial 22 with value: 0.33691644614838057.\n",
      "[I 2025-05-07 22:22:33,844] Trial 24 finished with value: 0.3070110871461512 and parameters: {'lambda_l1': 6.982270834745354e-05, 'lambda_l2': 4.777239039414152e-05, 'num_leaves': 227, 'feature_fraction': 0.6061699140175539, 'bagging_fraction': 0.5771387652915039, 'bagging_freq': 5, 'min_child_samples': 56}. Best is trial 22 with value: 0.33691644614838057.\n",
      "[I 2025-05-07 22:22:36,078] Trial 25 finished with value: 0.3191512383778221 and parameters: {'lambda_l1': 0.8489657461331315, 'lambda_l2': 2.7429611866397892e-06, 'num_leaves': 205, 'feature_fraction': 0.4927238210495807, 'bagging_fraction': 0.6696434406620854, 'bagging_freq': 3, 'min_child_samples': 72}. Best is trial 22 with value: 0.33691644614838057.\n",
      "[I 2025-05-07 22:22:37,860] Trial 26 finished with value: 0.29507379714368354 and parameters: {'lambda_l1': 0.0048949759998236295, 'lambda_l2': 0.00014177419493928555, 'num_leaves': 252, 'feature_fraction': 0.5477181603293223, 'bagging_fraction': 0.40116382523154276, 'bagging_freq': 7, 'min_child_samples': 61}. Best is trial 22 with value: 0.33691644614838057.\n",
      "[I 2025-05-07 22:22:39,599] Trial 27 finished with value: 0.333340964413804 and parameters: {'lambda_l1': 0.00024593913848223846, 'lambda_l2': 2.1347322386736937e-07, 'num_leaves': 169, 'feature_fraction': 0.4519627028402245, 'bagging_fraction': 0.5928108216198262, 'bagging_freq': 4, 'min_child_samples': 92}. Best is trial 22 with value: 0.33691644614838057.\n",
      "[I 2025-05-07 22:22:41,098] Trial 28 finished with value: 0.33309766705722854 and parameters: {'lambda_l1': 0.00036395413271098797, 'lambda_l2': 1.1622643324391026e-08, 'num_leaves': 165, 'feature_fraction': 0.6527515511695547, 'bagging_fraction': 0.5928345098685758, 'bagging_freq': 5, 'min_child_samples': 92}. Best is trial 22 with value: 0.33691644614838057.\n",
      "[I 2025-05-07 22:22:42,865] Trial 29 finished with value: 0.3202521356593918 and parameters: {'lambda_l1': 0.0003145546428200824, 'lambda_l2': 1.1083235962124589e-07, 'num_leaves': 154, 'feature_fraction': 0.6517353354035372, 'bagging_fraction': 0.7030009379185157, 'bagging_freq': 5, 'min_child_samples': 96}. Best is trial 22 with value: 0.33691644614838057.\n",
      "[I 2025-05-07 22:22:44,658] Trial 30 finished with value: 0.31758901212070734 and parameters: {'lambda_l1': 0.003757342515338207, 'lambda_l2': 1.6882871703132983e-08, 'num_leaves': 135, 'feature_fraction': 0.5896504264331097, 'bagging_fraction': 0.5857468640857365, 'bagging_freq': 4, 'min_child_samples': 85}. Best is trial 22 with value: 0.33691644614838057.\n",
      "[I 2025-05-07 22:22:46,129] Trial 31 finished with value: 0.3185511674466317 and parameters: {'lambda_l1': 4.061425163987599e-07, 'lambda_l2': 1.3413861397472473e-07, 'num_leaves': 170, 'feature_fraction': 0.5724321495705901, 'bagging_fraction': 0.5451963073867963, 'bagging_freq': 5, 'min_child_samples': 94}. Best is trial 22 with value: 0.33691644614838057.\n",
      "[I 2025-05-07 22:22:47,651] Trial 32 finished with value: 0.31564677806620445 and parameters: {'lambda_l1': 0.026234078056536922, 'lambda_l2': 6.454817919425069e-08, 'num_leaves': 212, 'feature_fraction': 0.5089315971704379, 'bagging_fraction': 0.6144174355950003, 'bagging_freq': 6, 'min_child_samples': 88}. Best is trial 22 with value: 0.33691644614838057.\n",
      "[I 2025-05-07 22:22:49,447] Trial 33 finished with value: 0.3160587850108544 and parameters: {'lambda_l1': 0.002572363237347183, 'lambda_l2': 1.2213727826555946e-08, 'num_leaves': 165, 'feature_fraction': 0.6451920156407915, 'bagging_fraction': 0.6897090002741297, 'bagging_freq': 4, 'min_child_samples': 79}. Best is trial 22 with value: 0.33691644614838057.\n",
      "[I 2025-05-07 22:22:50,976] Trial 34 finished with value: 0.337583815844012 and parameters: {'lambda_l1': 2.6760314467433597e-08, 'lambda_l2': 0.0668247339786747, 'num_leaves': 186, 'feature_fraction': 0.5583973326615338, 'bagging_fraction': 0.4544122773007654, 'bagging_freq': 5, 'min_child_samples': 95}. Best is trial 34 with value: 0.337583815844012.\n",
      "[I 2025-05-07 22:22:52,188] Trial 35 finished with value: 0.3370082138240592 and parameters: {'lambda_l1': 0.07456930373239759, 'lambda_l2': 1.9213012331677183e-06, 'num_leaves': 136, 'feature_fraction': 0.6316788634893062, 'bagging_fraction': 0.441524420971381, 'bagging_freq': 4, 'min_child_samples': 74}. Best is trial 34 with value: 0.337583815844012.\n",
      "[I 2025-05-07 22:22:53,473] Trial 36 finished with value: 0.32814288639856304 and parameters: {'lambda_l1': 0.39920389688802427, 'lambda_l2': 1.9343795881862275e-06, 'num_leaves': 141, 'feature_fraction': 0.5627667408975221, 'bagging_fraction': 0.44002505842753564, 'bagging_freq': 4, 'min_child_samples': 75}. Best is trial 34 with value: 0.337583815844012.\n",
      "[I 2025-05-07 22:22:55,143] Trial 37 finished with value: 0.32588394478824256 and parameters: {'lambda_l1': 1.2440039825664526e-08, 'lambda_l2': 2.4500501351792664e-05, 'num_leaves': 106, 'feature_fraction': 0.514877126757461, 'bagging_fraction': 0.5228990238003146, 'bagging_freq': 4, 'min_child_samples': 61}. Best is trial 34 with value: 0.337583815844012.\n",
      "[I 2025-05-07 22:22:56,813] Trial 38 finished with value: 0.3239460546090748 and parameters: {'lambda_l1': 0.05379050664605335, 'lambda_l2': 0.008910742073941453, 'num_leaves': 237, 'feature_fraction': 0.6970687372649998, 'bagging_fraction': 0.46135488712730055, 'bagging_freq': 6, 'min_child_samples': 84}. Best is trial 34 with value: 0.337583815844012.\n",
      "[I 2025-05-07 22:22:58,249] Trial 39 finished with value: 0.32146470512386494 and parameters: {'lambda_l1': 0.7613303551200484, 'lambda_l2': 0.05381796324082949, 'num_leaves': 148, 'feature_fraction': 0.9986022169476274, 'bagging_fraction': 0.43898379492382794, 'bagging_freq': 3, 'min_child_samples': 74}. Best is trial 34 with value: 0.337583815844012.\n",
      "[I 2025-05-07 22:23:00,478] Trial 40 finished with value: 0.32785241583996294 and parameters: {'lambda_l1': 0.08299609099945492, 'lambda_l2': 0.00042820251387874834, 'num_leaves': 185, 'feature_fraction': 0.44289113292204485, 'bagging_fraction': 0.5571655429543256, 'bagging_freq': 4, 'min_child_samples': 48}. Best is trial 34 with value: 0.337583815844012.\n",
      "[I 2025-05-07 22:23:02,502] Trial 41 finished with value: 0.3187421409910852 and parameters: {'lambda_l1': 0.016845075013638404, 'lambda_l2': 1.8648817532730165e-07, 'num_leaves': 160, 'feature_fraction': 0.6242041922894359, 'bagging_fraction': 0.6159451429249261, 'bagging_freq': 5, 'min_child_samples': 93}. Best is trial 34 with value: 0.337583815844012.\n",
      "[I 2025-05-07 22:23:03,863] Trial 42 finished with value: 0.32705377193557583 and parameters: {'lambda_l1': 0.00026643462601041605, 'lambda_l2': 1.3339103747198298, 'num_leaves': 196, 'feature_fraction': 0.6752560463777427, 'bagging_fraction': 0.4849730350748601, 'bagging_freq': 5, 'min_child_samples': 95}. Best is trial 34 with value: 0.337583815844012.\n",
      "[I 2025-05-07 22:23:05,207] Trial 43 finished with value: 0.3154401241858331 and parameters: {'lambda_l1': 0.00013500239657998714, 'lambda_l2': 3.4305788757207275e-08, 'num_leaves': 130, 'feature_fraction': 0.6327426030869837, 'bagging_fraction': 0.5788533280867916, 'bagging_freq': 4, 'min_child_samples': 99}. Best is trial 34 with value: 0.337583815844012.\n",
      "[I 2025-05-07 22:23:06,602] Trial 44 finished with value: 0.33088453101668625 and parameters: {'lambda_l1': 4.360946257783557e-08, 'lambda_l2': 3.1747335337434847e-07, 'num_leaves': 94, 'feature_fraction': 0.5747572359796207, 'bagging_fraction': 0.5122469557802681, 'bagging_freq': 5, 'min_child_samples': 88}. Best is trial 34 with value: 0.337583815844012.\n",
      "[I 2025-05-07 22:23:08,789] Trial 45 finished with value: 0.3166297299912121 and parameters: {'lambda_l1': 0.1966802166308886, 'lambda_l2': 1.4457893540950135e-06, 'num_leaves': 180, 'feature_fraction': 0.4875121004153816, 'bagging_fraction': 0.7670238840828073, 'bagging_freq': 6, 'min_child_samples': 82}. Best is trial 34 with value: 0.337583815844012.\n",
      "[I 2025-05-07 22:23:09,974] Trial 46 finished with value: 0.33394361025109986 and parameters: {'lambda_l1': 1.9454380559252822, 'lambda_l2': 1.0041082444127988e-08, 'num_leaves': 215, 'feature_fraction': 0.5938612202556304, 'bagging_fraction': 0.4188969177017785, 'bagging_freq': 4, 'min_child_samples': 77}. Best is trial 34 with value: 0.337583815844012.\n",
      "[I 2025-05-07 22:23:11,253] Trial 47 finished with value: 0.3287168694831152 and parameters: {'lambda_l1': 2.5248425150397638, 'lambda_l2': 5.1405547793125525e-06, 'num_leaves': 215, 'feature_fraction': 0.5334097945062869, 'bagging_fraction': 0.4271830342892123, 'bagging_freq': 3, 'min_child_samples': 65}. Best is trial 34 with value: 0.337583815844012.\n",
      "[I 2025-05-07 22:23:12,476] Trial 48 finished with value: 0.33241686029091644 and parameters: {'lambda_l1': 1.2414638033590506, 'lambda_l2': 7.76871921011757, 'num_leaves': 230, 'feature_fraction': 0.5918544670811956, 'bagging_fraction': 0.46724838100134136, 'bagging_freq': 2, 'min_child_samples': 77}. Best is trial 34 with value: 0.337583815844012.\n",
      "[I 2025-05-07 22:23:15,343] Trial 49 finished with value: 0.29740947570488285 and parameters: {'lambda_l1': 0.27523537492937244, 'lambda_l2': 0.26586117299834433, 'num_leaves': 196, 'feature_fraction': 0.9574464718691962, 'bagging_fraction': 0.41123000500433926, 'bagging_freq': 4, 'min_child_samples': 20}. Best is trial 34 with value: 0.337583815844012.\n"
     ]
    },
    {
     "name": "stdout",
     "output_type": "stream",
     "text": [
      "Mejor Kappa en test guardado: None\n"
     ]
    }
   ],
   "source": [
    "#Defino el estudio a optimizar\n",
    "study = optuna.create_study(direction='maximize', #buscamos maximizar la metrica\n",
    "                            storage=\"sqlite:///../work/db_100_LGBM_FE_JM_50.sqlite3\",  # Specify the storage URL here.\n",
    "                            study_name=\"100_LGBM_FE_JM_50\", #nombre del experimento\n",
    "                            load_if_exists=True) #continuar si ya existe\n",
    "\n",
    "#Corremos 100 trials para buscar mejores parametros\n",
    "study.optimize(lgb_objective, n_trials=50)\n",
    "\n",
    "# Mostrar el kappa sobre test guardado como atributo del mejor trial\n",
    "print(\"Mejor Kappa en test guardado:\", study.best_trial.user_attrs.get(\"test_score\"))"
   ]
  },
  {
   "cell_type": "code",
   "execution_count": 30,
   "id": "f9697749",
   "metadata": {},
   "outputs": [
    {
     "data": {
      "text/plain": [
       "{'lambda_l1': 2.6760314467433597e-08,\n",
       " 'lambda_l2': 0.0668247339786747,\n",
       " 'num_leaves': 186,\n",
       " 'feature_fraction': 0.5583973326615338,\n",
       " 'bagging_fraction': 0.4544122773007654,\n",
       " 'bagging_freq': 5,\n",
       " 'min_child_samples': 95}"
      ]
     },
     "execution_count": 30,
     "metadata": {},
     "output_type": "execute_result"
    }
   ],
   "source": [
    "#Obtenemos mejor resultado\n",
    "study.best_params"
   ]
  },
  {
   "cell_type": "code",
   "execution_count": 31,
   "id": "b0db9f91",
   "metadata": {},
   "outputs": [
    {
     "name": "stdout",
     "output_type": "stream",
     "text": [
      "0.337583815844012\n"
     ]
    },
    {
     "data": {
      "application/vnd.plotly.v1+json": {
       "config": {
        "plotlyServerURL": "https://plot.ly"
       },
       "data": [
        {
         "type": "heatmap",
         "x": {
          "bdata": "AAECAwQ=",
          "dtype": "i1"
         },
         "y": {
          "bdata": "AAECAwQ=",
          "dtype": "i1"
         },
         "z": {
          "bdata": "ZHA+BudjGECQwfkYnI9GQJyPwfkYnDlARO1K1K5EHUC1K1G7ErUvQA4wbu9DtuQ/69Tj2TWjQUBrY2i6g/1AQA/2W20MTSdAzCI+gVRyMkCZSSgX8bjfP9ymvoHBMjRARC8dvDmmQkCst3v2sRkxQMmhLks16DhAsDCrUcSh0z+BeqZy3fExQOTFluDb/DxAAAAAAAAAOUDZEnybv8I7QJ/neZ7neb4/VVVVVVVVJ0DoeZ7neZ4xQFVVVVVVVSdAbtu2bdt2TUA=",
          "dtype": "f8",
          "shape": "5, 5"
         }
        }
       ],
       "layout": {
        "annotations": [
         {
          "font": {
           "color": "white"
          },
          "showarrow": false,
          "text": "6.1 - 5",
          "x": 0,
          "xref": "x",
          "y": 0,
          "yref": "y"
         },
         {
          "font": {
           "color": "white"
          },
          "showarrow": false,
          "text": "45.1 - 37",
          "x": 1,
          "xref": "x",
          "y": 0,
          "yref": "y"
         },
         {
          "font": {
           "color": "white"
          },
          "showarrow": false,
          "text": "25.6 - 21",
          "x": 2,
          "xref": "x",
          "y": 0,
          "yref": "y"
         },
         {
          "font": {
           "color": "white"
          },
          "showarrow": false,
          "text": "7.3 - 6",
          "x": 3,
          "xref": "x",
          "y": 0,
          "yref": "y"
         },
         {
          "font": {
           "color": "white"
          },
          "showarrow": false,
          "text": "15.9 - 13",
          "x": 4,
          "xref": "x",
          "y": 0,
          "yref": "y"
         },
         {
          "font": {
           "color": "white"
          },
          "showarrow": false,
          "text": "0.6 - 4",
          "x": 0,
          "xref": "x",
          "y": 1,
          "yref": "y"
         },
         {
          "font": {
           "color": "white"
          },
          "showarrow": false,
          "text": "35.3 - 218",
          "x": 1,
          "xref": "x",
          "y": 1,
          "yref": "y"
         },
         {
          "font": {
           "color": "white"
          },
          "showarrow": false,
          "text": "34.0 - 210",
          "x": 2,
          "xref": "x",
          "y": 1,
          "yref": "y"
         },
         {
          "font": {
           "color": "white"
          },
          "showarrow": false,
          "text": "11.7 - 72",
          "x": 3,
          "xref": "x",
          "y": 1,
          "yref": "y"
         },
         {
          "font": {
           "color": "white"
          },
          "showarrow": false,
          "text": "18.4 - 114",
          "x": 4,
          "xref": "x",
          "y": 1,
          "yref": "y"
         },
         {
          "font": {
           "color": "white"
          },
          "showarrow": false,
          "text": "0.5 - 4",
          "x": 0,
          "xref": "x",
          "y": 2,
          "yref": "y"
         },
         {
          "font": {
           "color": "white"
          },
          "showarrow": false,
          "text": "20.2 - 163",
          "x": 1,
          "xref": "x",
          "y": 2,
          "yref": "y"
         },
         {
          "font": {
           "color": "white"
          },
          "showarrow": false,
          "text": "37.3 - 301",
          "x": 2,
          "xref": "x",
          "y": 2,
          "yref": "y"
         },
         {
          "font": {
           "color": "white"
          },
          "showarrow": false,
          "text": "17.1 - 138",
          "x": 3,
          "xref": "x",
          "y": 2,
          "yref": "y"
         },
         {
          "font": {
           "color": "white"
          },
          "showarrow": false,
          "text": "24.9 - 201",
          "x": 4,
          "xref": "x",
          "y": 2,
          "yref": "y"
         },
         {
          "font": {
           "color": "white"
          },
          "showarrow": false,
          "text": "0.3 - 2",
          "x": 0,
          "xref": "x",
          "y": 3,
          "yref": "y"
         },
         {
          "font": {
           "color": "white"
          },
          "showarrow": false,
          "text": "17.9 - 117",
          "x": 1,
          "xref": "x",
          "y": 3,
          "yref": "y"
         },
         {
          "font": {
           "color": "white"
          },
          "showarrow": false,
          "text": "29.0 - 189",
          "x": 2,
          "xref": "x",
          "y": 3,
          "yref": "y"
         },
         {
          "font": {
           "color": "white"
          },
          "showarrow": false,
          "text": "25.0 - 163",
          "x": 3,
          "xref": "x",
          "y": 3,
          "yref": "y"
         },
         {
          "font": {
           "color": "white"
          },
          "showarrow": false,
          "text": "27.8 - 181",
          "x": 4,
          "xref": "x",
          "y": 3,
          "yref": "y"
         },
         {
          "font": {
           "color": "white"
          },
          "showarrow": false,
          "text": "0.1 - 1",
          "x": 0,
          "xref": "x",
          "y": 4,
          "yref": "y"
         },
         {
          "font": {
           "color": "white"
          },
          "showarrow": false,
          "text": "11.7 - 98",
          "x": 1,
          "xref": "x",
          "y": 4,
          "yref": "y"
         },
         {
          "font": {
           "color": "white"
          },
          "showarrow": false,
          "text": "17.6 - 148",
          "x": 2,
          "xref": "x",
          "y": 4,
          "yref": "y"
         },
         {
          "font": {
           "color": "white"
          },
          "showarrow": false,
          "text": "11.7 - 98",
          "x": 3,
          "xref": "x",
          "y": 4,
          "yref": "y"
         },
         {
          "font": {
           "color": "white"
          },
          "showarrow": false,
          "text": "58.9 - 495",
          "x": 4,
          "xref": "x",
          "y": 4,
          "yref": "y"
         }
        ],
        "height": 800,
        "template": {
         "data": {
          "bar": [
           {
            "error_x": {
             "color": "#2a3f5f"
            },
            "error_y": {
             "color": "#2a3f5f"
            },
            "marker": {
             "line": {
              "color": "#E5ECF6",
              "width": 0.5
             },
             "pattern": {
              "fillmode": "overlay",
              "size": 10,
              "solidity": 0.2
             }
            },
            "type": "bar"
           }
          ],
          "barpolar": [
           {
            "marker": {
             "line": {
              "color": "#E5ECF6",
              "width": 0.5
             },
             "pattern": {
              "fillmode": "overlay",
              "size": 10,
              "solidity": 0.2
             }
            },
            "type": "barpolar"
           }
          ],
          "carpet": [
           {
            "aaxis": {
             "endlinecolor": "#2a3f5f",
             "gridcolor": "white",
             "linecolor": "white",
             "minorgridcolor": "white",
             "startlinecolor": "#2a3f5f"
            },
            "baxis": {
             "endlinecolor": "#2a3f5f",
             "gridcolor": "white",
             "linecolor": "white",
             "minorgridcolor": "white",
             "startlinecolor": "#2a3f5f"
            },
            "type": "carpet"
           }
          ],
          "choropleth": [
           {
            "colorbar": {
             "outlinewidth": 0,
             "ticks": ""
            },
            "type": "choropleth"
           }
          ],
          "contour": [
           {
            "colorbar": {
             "outlinewidth": 0,
             "ticks": ""
            },
            "colorscale": [
             [
              0,
              "#0d0887"
             ],
             [
              0.1111111111111111,
              "#46039f"
             ],
             [
              0.2222222222222222,
              "#7201a8"
             ],
             [
              0.3333333333333333,
              "#9c179e"
             ],
             [
              0.4444444444444444,
              "#bd3786"
             ],
             [
              0.5555555555555556,
              "#d8576b"
             ],
             [
              0.6666666666666666,
              "#ed7953"
             ],
             [
              0.7777777777777778,
              "#fb9f3a"
             ],
             [
              0.8888888888888888,
              "#fdca26"
             ],
             [
              1,
              "#f0f921"
             ]
            ],
            "type": "contour"
           }
          ],
          "contourcarpet": [
           {
            "colorbar": {
             "outlinewidth": 0,
             "ticks": ""
            },
            "type": "contourcarpet"
           }
          ],
          "heatmap": [
           {
            "colorbar": {
             "outlinewidth": 0,
             "ticks": ""
            },
            "colorscale": [
             [
              0,
              "#0d0887"
             ],
             [
              0.1111111111111111,
              "#46039f"
             ],
             [
              0.2222222222222222,
              "#7201a8"
             ],
             [
              0.3333333333333333,
              "#9c179e"
             ],
             [
              0.4444444444444444,
              "#bd3786"
             ],
             [
              0.5555555555555556,
              "#d8576b"
             ],
             [
              0.6666666666666666,
              "#ed7953"
             ],
             [
              0.7777777777777778,
              "#fb9f3a"
             ],
             [
              0.8888888888888888,
              "#fdca26"
             ],
             [
              1,
              "#f0f921"
             ]
            ],
            "type": "heatmap"
           }
          ],
          "histogram": [
           {
            "marker": {
             "pattern": {
              "fillmode": "overlay",
              "size": 10,
              "solidity": 0.2
             }
            },
            "type": "histogram"
           }
          ],
          "histogram2d": [
           {
            "colorbar": {
             "outlinewidth": 0,
             "ticks": ""
            },
            "colorscale": [
             [
              0,
              "#0d0887"
             ],
             [
              0.1111111111111111,
              "#46039f"
             ],
             [
              0.2222222222222222,
              "#7201a8"
             ],
             [
              0.3333333333333333,
              "#9c179e"
             ],
             [
              0.4444444444444444,
              "#bd3786"
             ],
             [
              0.5555555555555556,
              "#d8576b"
             ],
             [
              0.6666666666666666,
              "#ed7953"
             ],
             [
              0.7777777777777778,
              "#fb9f3a"
             ],
             [
              0.8888888888888888,
              "#fdca26"
             ],
             [
              1,
              "#f0f921"
             ]
            ],
            "type": "histogram2d"
           }
          ],
          "histogram2dcontour": [
           {
            "colorbar": {
             "outlinewidth": 0,
             "ticks": ""
            },
            "colorscale": [
             [
              0,
              "#0d0887"
             ],
             [
              0.1111111111111111,
              "#46039f"
             ],
             [
              0.2222222222222222,
              "#7201a8"
             ],
             [
              0.3333333333333333,
              "#9c179e"
             ],
             [
              0.4444444444444444,
              "#bd3786"
             ],
             [
              0.5555555555555556,
              "#d8576b"
             ],
             [
              0.6666666666666666,
              "#ed7953"
             ],
             [
              0.7777777777777778,
              "#fb9f3a"
             ],
             [
              0.8888888888888888,
              "#fdca26"
             ],
             [
              1,
              "#f0f921"
             ]
            ],
            "type": "histogram2dcontour"
           }
          ],
          "mesh3d": [
           {
            "colorbar": {
             "outlinewidth": 0,
             "ticks": ""
            },
            "type": "mesh3d"
           }
          ],
          "parcoords": [
           {
            "line": {
             "colorbar": {
              "outlinewidth": 0,
              "ticks": ""
             }
            },
            "type": "parcoords"
           }
          ],
          "pie": [
           {
            "automargin": true,
            "type": "pie"
           }
          ],
          "scatter": [
           {
            "fillpattern": {
             "fillmode": "overlay",
             "size": 10,
             "solidity": 0.2
            },
            "type": "scatter"
           }
          ],
          "scatter3d": [
           {
            "line": {
             "colorbar": {
              "outlinewidth": 0,
              "ticks": ""
             }
            },
            "marker": {
             "colorbar": {
              "outlinewidth": 0,
              "ticks": ""
             }
            },
            "type": "scatter3d"
           }
          ],
          "scattercarpet": [
           {
            "marker": {
             "colorbar": {
              "outlinewidth": 0,
              "ticks": ""
             }
            },
            "type": "scattercarpet"
           }
          ],
          "scattergeo": [
           {
            "marker": {
             "colorbar": {
              "outlinewidth": 0,
              "ticks": ""
             }
            },
            "type": "scattergeo"
           }
          ],
          "scattergl": [
           {
            "marker": {
             "colorbar": {
              "outlinewidth": 0,
              "ticks": ""
             }
            },
            "type": "scattergl"
           }
          ],
          "scattermap": [
           {
            "marker": {
             "colorbar": {
              "outlinewidth": 0,
              "ticks": ""
             }
            },
            "type": "scattermap"
           }
          ],
          "scattermapbox": [
           {
            "marker": {
             "colorbar": {
              "outlinewidth": 0,
              "ticks": ""
             }
            },
            "type": "scattermapbox"
           }
          ],
          "scatterpolar": [
           {
            "marker": {
             "colorbar": {
              "outlinewidth": 0,
              "ticks": ""
             }
            },
            "type": "scatterpolar"
           }
          ],
          "scatterpolargl": [
           {
            "marker": {
             "colorbar": {
              "outlinewidth": 0,
              "ticks": ""
             }
            },
            "type": "scatterpolargl"
           }
          ],
          "scatterternary": [
           {
            "marker": {
             "colorbar": {
              "outlinewidth": 0,
              "ticks": ""
             }
            },
            "type": "scatterternary"
           }
          ],
          "surface": [
           {
            "colorbar": {
             "outlinewidth": 0,
             "ticks": ""
            },
            "colorscale": [
             [
              0,
              "#0d0887"
             ],
             [
              0.1111111111111111,
              "#46039f"
             ],
             [
              0.2222222222222222,
              "#7201a8"
             ],
             [
              0.3333333333333333,
              "#9c179e"
             ],
             [
              0.4444444444444444,
              "#bd3786"
             ],
             [
              0.5555555555555556,
              "#d8576b"
             ],
             [
              0.6666666666666666,
              "#ed7953"
             ],
             [
              0.7777777777777778,
              "#fb9f3a"
             ],
             [
              0.8888888888888888,
              "#fdca26"
             ],
             [
              1,
              "#f0f921"
             ]
            ],
            "type": "surface"
           }
          ],
          "table": [
           {
            "cells": {
             "fill": {
              "color": "#EBF0F8"
             },
             "line": {
              "color": "white"
             }
            },
            "header": {
             "fill": {
              "color": "#C8D4E3"
             },
             "line": {
              "color": "white"
             }
            },
            "type": "table"
           }
          ]
         },
         "layout": {
          "annotationdefaults": {
           "arrowcolor": "#2a3f5f",
           "arrowhead": 0,
           "arrowwidth": 1
          },
          "autotypenumbers": "strict",
          "coloraxis": {
           "colorbar": {
            "outlinewidth": 0,
            "ticks": ""
           }
          },
          "colorscale": {
           "diverging": [
            [
             0,
             "#8e0152"
            ],
            [
             0.1,
             "#c51b7d"
            ],
            [
             0.2,
             "#de77ae"
            ],
            [
             0.3,
             "#f1b6da"
            ],
            [
             0.4,
             "#fde0ef"
            ],
            [
             0.5,
             "#f7f7f7"
            ],
            [
             0.6,
             "#e6f5d0"
            ],
            [
             0.7,
             "#b8e186"
            ],
            [
             0.8,
             "#7fbc41"
            ],
            [
             0.9,
             "#4d9221"
            ],
            [
             1,
             "#276419"
            ]
           ],
           "sequential": [
            [
             0,
             "#0d0887"
            ],
            [
             0.1111111111111111,
             "#46039f"
            ],
            [
             0.2222222222222222,
             "#7201a8"
            ],
            [
             0.3333333333333333,
             "#9c179e"
            ],
            [
             0.4444444444444444,
             "#bd3786"
            ],
            [
             0.5555555555555556,
             "#d8576b"
            ],
            [
             0.6666666666666666,
             "#ed7953"
            ],
            [
             0.7777777777777778,
             "#fb9f3a"
            ],
            [
             0.8888888888888888,
             "#fdca26"
            ],
            [
             1,
             "#f0f921"
            ]
           ],
           "sequentialminus": [
            [
             0,
             "#0d0887"
            ],
            [
             0.1111111111111111,
             "#46039f"
            ],
            [
             0.2222222222222222,
             "#7201a8"
            ],
            [
             0.3333333333333333,
             "#9c179e"
            ],
            [
             0.4444444444444444,
             "#bd3786"
            ],
            [
             0.5555555555555556,
             "#d8576b"
            ],
            [
             0.6666666666666666,
             "#ed7953"
            ],
            [
             0.7777777777777778,
             "#fb9f3a"
            ],
            [
             0.8888888888888888,
             "#fdca26"
            ],
            [
             1,
             "#f0f921"
            ]
           ]
          },
          "colorway": [
           "#636efa",
           "#EF553B",
           "#00cc96",
           "#ab63fa",
           "#FFA15A",
           "#19d3f3",
           "#FF6692",
           "#B6E880",
           "#FF97FF",
           "#FECB52"
          ],
          "font": {
           "color": "#2a3f5f"
          },
          "geo": {
           "bgcolor": "white",
           "lakecolor": "white",
           "landcolor": "#E5ECF6",
           "showlakes": true,
           "showland": true,
           "subunitcolor": "white"
          },
          "hoverlabel": {
           "align": "left"
          },
          "hovermode": "closest",
          "mapbox": {
           "style": "light"
          },
          "paper_bgcolor": "white",
          "plot_bgcolor": "#E5ECF6",
          "polar": {
           "angularaxis": {
            "gridcolor": "white",
            "linecolor": "white",
            "ticks": ""
           },
           "bgcolor": "#E5ECF6",
           "radialaxis": {
            "gridcolor": "white",
            "linecolor": "white",
            "ticks": ""
           }
          },
          "scene": {
           "xaxis": {
            "backgroundcolor": "#E5ECF6",
            "gridcolor": "white",
            "gridwidth": 2,
            "linecolor": "white",
            "showbackground": true,
            "ticks": "",
            "zerolinecolor": "white"
           },
           "yaxis": {
            "backgroundcolor": "#E5ECF6",
            "gridcolor": "white",
            "gridwidth": 2,
            "linecolor": "white",
            "showbackground": true,
            "ticks": "",
            "zerolinecolor": "white"
           },
           "zaxis": {
            "backgroundcolor": "#E5ECF6",
            "gridcolor": "white",
            "gridwidth": 2,
            "linecolor": "white",
            "showbackground": true,
            "ticks": "",
            "zerolinecolor": "white"
           }
          },
          "shapedefaults": {
           "line": {
            "color": "#2a3f5f"
           }
          },
          "ternary": {
           "aaxis": {
            "gridcolor": "white",
            "linecolor": "white",
            "ticks": ""
           },
           "baxis": {
            "gridcolor": "white",
            "linecolor": "white",
            "ticks": ""
           },
           "bgcolor": "#E5ECF6",
           "caxis": {
            "gridcolor": "white",
            "linecolor": "white",
            "ticks": ""
           }
          },
          "title": {
           "x": 0.05
          },
          "xaxis": {
           "automargin": true,
           "gridcolor": "white",
           "linecolor": "white",
           "ticks": "",
           "title": {
            "standoff": 15
           },
           "zerolinecolor": "white",
           "zerolinewidth": 2
          },
          "yaxis": {
           "automargin": true,
           "gridcolor": "white",
           "linecolor": "white",
           "ticks": "",
           "title": {
            "standoff": 15
           },
           "zerolinecolor": "white",
           "zerolinewidth": 2
          }
         }
        },
        "title": {
         "text": "Conf Matrix"
        },
        "width": 800,
        "xaxis": {
         "title": {
          "text": "Predicted value"
         }
        },
        "yaxis": {
         "title": {
          "text": "Real value"
         }
        }
       }
      }
     },
     "metadata": {},
     "output_type": "display_data"
    }
   ],
   "source": [
    "#Vamos a replicar el resultado de la optimizacion reentrenando el modelo con el mejor conjunto de hiperparametros\n",
    "#Generamos parametros incluyendo los fijos y la mejor solución que encontro optuna\n",
    "lgb_params =  {      \n",
    "                        'objective': 'multiclass',\n",
    "                        'verbosity':-1,\n",
    "                        'num_class': len(y_train.unique())} | study.best_params\n",
    "\n",
    "lgb_train_dataset = lgb.Dataset(data=X_train,\n",
    "                                label=y_train)\n",
    "\n",
    "\n",
    "#Entreno\n",
    "lgb_model2 = lgb.train(lgb_params,\n",
    "                    lgb_train_dataset)\n",
    "\n",
    "#Muestro matriz de confusion y kappa\n",
    "print(cohen_kappa_score(y_test,lgb_model2.predict(X_test).argmax(axis=1),\n",
    "                             weights = 'quadratic'))\n",
    "\n",
    "display(plot_confusion_matrix(y_test,lgb_model2.predict(X_test).argmax(axis=1)))\n",
    "\n"
   ]
  },
  {
   "cell_type": "markdown",
   "id": "52853014",
   "metadata": {},
   "source": [
    "## Modelo con optimizacion de hiperparametros con 5 Fold Cross Validation"
   ]
  },
  {
   "cell_type": "code",
   "execution_count": 32,
   "id": "1f79d12c",
   "metadata": {},
   "outputs": [],
   "source": [
    "from optuna.artifacts import FileSystemArtifactStore, upload_artifact\n",
    "from sklearn.metrics import cohen_kappa_score\n",
    "from sklearn.model_selection import StratifiedKFold\n",
    "import lightgbm as lgb\n",
    "import numpy as np\n",
    "import os\n",
    "from joblib import dump\n",
    "import matplotlib.pyplot as plt\n",
    "from sklearn.metrics import confusion_matrix, ConfusionMatrixDisplay\n",
    "\n",
    "def lgb_custom_metric_kappa(dy_pred, dy_true):\n",
    "    metric_name = 'kappa'\n",
    "    value = cohen_kappa_score(dy_true.get_label(), dy_pred.argmax(axis=1), weights='quadratic')\n",
    "    is_higher_better = True\n",
    "    return (metric_name, value, is_higher_better)\n",
    "\n",
    "def cv_es_lgb_objective(trial):\n",
    "    \n",
    "    # Inicio el store de artefactos (archivos) de Optuna\n",
    "    artifact_store = FileSystemArtifactStore(base_path=PATH_TO_OPTUNA_ARTIFACTS)\n",
    "\n",
    "    # Hiperparámetros a optimizar\n",
    "    lgb_params = {\n",
    "        'objective': 'multiclass',\n",
    "        'verbosity': -1,\n",
    "        'num_class': len(y_train.unique()),\n",
    "        'lambda_l1': trial.suggest_float('lambda_l1', 1e-8, 10.0, log=True),\n",
    "        'lambda_l2': trial.suggest_float('lambda_l2', 1e-8, 10.0, log=True),\n",
    "        'num_leaves': trial.suggest_int('num_leaves', 2, 256),\n",
    "        'feature_fraction': trial.suggest_float('feature_fraction', 0.4, 1.0),\n",
    "        'bagging_fraction': trial.suggest_float('bagging_fraction', 0.4, 1.0),\n",
    "        'bagging_freq': trial.suggest_int('bagging_freq', 1, 7),\n",
    "        'min_child_samples': trial.suggest_int('min_child_samples', 5, 100),\n",
    "        'n_jobs': -1\n",
    "    }\n",
    "    \n",
    "    scores_ensemble = np.zeros((len(y_test), len(y_train.unique())))\n",
    "    score_folds = 0\n",
    "    n_splits = 5\n",
    "    skf = StratifiedKFold(n_splits=n_splits)\n",
    "\n",
    "    for i, (if_index, oof_index) in enumerate(skf.split(X_train, y_train)):\n",
    "\n",
    "        lgb_if_dataset = lgb.Dataset(data=X_train.iloc[if_index],\n",
    "                                     label=y_train.iloc[if_index],\n",
    "                                     free_raw_data=False)\n",
    "        \n",
    "        lgb_oof_dataset = lgb.Dataset(data=X_train.iloc[oof_index],\n",
    "                                      label=y_train.iloc[oof_index],\n",
    "                                      free_raw_data=False)\n",
    "                \n",
    "        lgb_model3 = lgb.train(\n",
    "            lgb_params,\n",
    "            lgb_if_dataset,\n",
    "            valid_sets=lgb_oof_dataset,\n",
    "            callbacks=[lgb.early_stopping(10, verbose=False)],\n",
    "            feval=lgb_custom_metric_kappa\n",
    "        )\n",
    "        \n",
    "        scores_ensemble += lgb_model3.predict(X_test)\n",
    "\n",
    "        score_folds += cohen_kappa_score(\n",
    "            y_train.iloc[oof_index],\n",
    "            lgb_model3.predict(X_train.iloc[oof_index]).argmax(axis=1),\n",
    "            weights='quadratic'\n",
    "        ) / n_splits\n",
    "    \n",
    "    # Guardar predicciones sobre test\n",
    "    predicted_filename = os.path.join(PATH_TO_TEMP_FILES, f'test_{trial.study.study_name}_{trial.number}.joblib')\n",
    "    predicted_df = test.copy()\n",
    "    predicted_df['pred'] = [scores_ensemble[p, :] for p in range(scores_ensemble.shape[0])]\n",
    "    dump(predicted_df, predicted_filename)\n",
    "\n",
    "    # Uso keyword arguments en upload_artifact. Asociar las predicciones como artefacto.\n",
    "    upload_artifact(\n",
    "        study_or_trial=trial,\n",
    "        file_path=predicted_filename,\n",
    "        artifact_store=artifact_store\n",
    "    )\n",
    "\n",
    "    # Generar nombre de archivo (¡esto es un string, no lo pises!)\n",
    "    # cm_filename = os.path.join(PATH_TO_TEMP_FILES, f'cm_{trial.study.study_name}_{trial.number}.jpg')\n",
    "\n",
    "    # Crear y guardar matriz de confusión\n",
    "    # cm = confusion_matrix(y_test, scores_ensemble.argmax(axis=1))\n",
    "    # disp = ConfusionMatrixDisplay(cm)\n",
    "    # disp.plot()\n",
    "    # plt.savefig(cm_filename)\n",
    "    # plt.close()\n",
    "\n",
    "    # # Uso keyword arguments en upload_artifact. Asociar la imagen como artefacto\n",
    "    # upload_artifact(\n",
    "    #     study_or_trial=trial,\n",
    "    #     file_path=cm_filename,\n",
    "    #     artifact_store=artifact_store\n",
    "    # )\n",
    "    \n",
    "    # Guardar el score en test como métrica auxiliar\n",
    "    test_score = cohen_kappa_score(y_test, scores_ensemble.argmax(axis=1), weights='quadratic')\n",
    "    trial.set_user_attr(\"test_score\", test_score)\n",
    "\n",
    "    # Devuelvo el promedio de los scores del CV (objetivo a maximizar)\n",
    "    return score_folds"
   ]
  },
  {
   "cell_type": "code",
   "execution_count": 33,
   "id": "44742181",
   "metadata": {},
   "outputs": [
    {
     "name": "stderr",
     "output_type": "stream",
     "text": [
      "[I 2025-05-07 22:25:44,953] A new study created in RDB with name: 100_LGBM_FE_JM_50_CV\n",
      "[I 2025-05-07 22:25:51,485] Trial 0 finished with value: 0.3546649247602528 and parameters: {'lambda_l1': 0.016247594783523053, 'lambda_l2': 8.219974288604579e-06, 'num_leaves': 184, 'feature_fraction': 0.7491190438299336, 'bagging_fraction': 0.9435105723650132, 'bagging_freq': 3, 'min_child_samples': 15}. Best is trial 0 with value: 0.3546649247602528.\n",
      "[I 2025-05-07 22:25:58,995] Trial 1 finished with value: 0.3503857089077762 and parameters: {'lambda_l1': 1.3028029386166233, 'lambda_l2': 1.4725596148834272, 'num_leaves': 248, 'feature_fraction': 0.6649149576920366, 'bagging_fraction': 0.6255697759548429, 'bagging_freq': 2, 'min_child_samples': 23}. Best is trial 0 with value: 0.3546649247602528.\n",
      "[I 2025-05-07 22:26:05,481] Trial 2 finished with value: 0.34448083315606126 and parameters: {'lambda_l1': 0.013833565734087335, 'lambda_l2': 0.011011607346156038, 'num_leaves': 157, 'feature_fraction': 0.8592838342970921, 'bagging_fraction': 0.6664572640454156, 'bagging_freq': 4, 'min_child_samples': 55}. Best is trial 0 with value: 0.3546649247602528.\n",
      "[I 2025-05-07 22:26:10,579] Trial 3 finished with value: 0.35565695117483204 and parameters: {'lambda_l1': 1.8118669376762636e-08, 'lambda_l2': 2.929940848022077e-07, 'num_leaves': 25, 'feature_fraction': 0.5031132606777128, 'bagging_fraction': 0.9425140541886168, 'bagging_freq': 2, 'min_child_samples': 81}. Best is trial 3 with value: 0.35565695117483204.\n",
      "[I 2025-05-07 22:26:15,765] Trial 4 finished with value: 0.3475588960827854 and parameters: {'lambda_l1': 3.8032618919665766, 'lambda_l2': 0.00013770541976639293, 'num_leaves': 174, 'feature_fraction': 0.6379576325939352, 'bagging_fraction': 0.4182452435659276, 'bagging_freq': 4, 'min_child_samples': 29}. Best is trial 3 with value: 0.35565695117483204.\n",
      "[I 2025-05-07 22:26:21,486] Trial 5 finished with value: 0.3541222131624056 and parameters: {'lambda_l1': 0.6314795003339232, 'lambda_l2': 2.191086417543285e-07, 'num_leaves': 214, 'feature_fraction': 0.47239054367620514, 'bagging_fraction': 0.8886404517498678, 'bagging_freq': 1, 'min_child_samples': 64}. Best is trial 3 with value: 0.35565695117483204.\n",
      "[I 2025-05-07 22:26:27,285] Trial 6 finished with value: 0.34981602912429455 and parameters: {'lambda_l1': 0.0016306462638426835, 'lambda_l2': 6.278364080459707, 'num_leaves': 106, 'feature_fraction': 0.4050798413352503, 'bagging_fraction': 0.6565372702698653, 'bagging_freq': 6, 'min_child_samples': 82}. Best is trial 3 with value: 0.35565695117483204.\n",
      "[I 2025-05-07 22:26:32,497] Trial 7 finished with value: 0.34857591131242227 and parameters: {'lambda_l1': 3.846883316138624e-06, 'lambda_l2': 0.004431387454713614, 'num_leaves': 172, 'feature_fraction': 0.7542828718175714, 'bagging_fraction': 0.6024138430861922, 'bagging_freq': 2, 'min_child_samples': 55}. Best is trial 3 with value: 0.35565695117483204.\n",
      "[I 2025-05-07 22:26:37,661] Trial 8 finished with value: 0.35169603898033674 and parameters: {'lambda_l1': 9.683125822962747e-05, 'lambda_l2': 1.3616352844266942e-05, 'num_leaves': 93, 'feature_fraction': 0.8141817893142187, 'bagging_fraction': 0.8811470482124382, 'bagging_freq': 5, 'min_child_samples': 56}. Best is trial 3 with value: 0.35565695117483204.\n",
      "[I 2025-05-07 22:26:42,871] Trial 9 finished with value: 0.35777742495826464 and parameters: {'lambda_l1': 0.0004776769765237134, 'lambda_l2': 3.607856611199778e-06, 'num_leaves': 11, 'feature_fraction': 0.7397130783302375, 'bagging_fraction': 0.830372101570312, 'bagging_freq': 7, 'min_child_samples': 97}. Best is trial 9 with value: 0.35777742495826464.\n",
      "[I 2025-05-07 22:26:47,807] Trial 10 finished with value: 0.3597199701170068 and parameters: {'lambda_l1': 2.9676093335603064e-06, 'lambda_l2': 1.0861160372375826e-08, 'num_leaves': 33, 'feature_fraction': 0.9415948520909331, 'bagging_fraction': 0.7805956556110223, 'bagging_freq': 7, 'min_child_samples': 100}. Best is trial 10 with value: 0.3597199701170068.\n",
      "[I 2025-05-07 22:26:53,017] Trial 11 finished with value: 0.286448421124199 and parameters: {'lambda_l1': 2.3959209885021572e-06, 'lambda_l2': 1.4819045347805277e-08, 'num_leaves': 2, 'feature_fraction': 0.9862391826629839, 'bagging_fraction': 0.7876528243694346, 'bagging_freq': 7, 'min_child_samples': 98}. Best is trial 10 with value: 0.3597199701170068.\n",
      "[I 2025-05-07 22:26:57,486] Trial 12 finished with value: 0.34639908756587257 and parameters: {'lambda_l1': 6.111431546524137e-06, 'lambda_l2': 1.166704087022055e-08, 'num_leaves': 58, 'feature_fraction': 0.9804842568383775, 'bagging_fraction': 0.764479324993827, 'bagging_freq': 7, 'min_child_samples': 99}. Best is trial 10 with value: 0.3597199701170068.\n",
      "[I 2025-05-07 22:27:02,072] Trial 13 finished with value: 0.3440910627298819 and parameters: {'lambda_l1': 3.7250682922073825e-08, 'lambda_l2': 6.344418927804613e-07, 'num_leaves': 56, 'feature_fraction': 0.8846184791039503, 'bagging_fraction': 0.8204960136315136, 'bagging_freq': 6, 'min_child_samples': 81}. Best is trial 10 with value: 0.3597199701170068.\n",
      "[I 2025-05-07 22:27:06,855] Trial 14 finished with value: 0.34285465718126695 and parameters: {'lambda_l1': 0.00027469816211193903, 'lambda_l2': 5.03537659129671e-06, 'num_leaves': 49, 'feature_fraction': 0.5819743866375897, 'bagging_fraction': 0.5164529674287064, 'bagging_freq': 6, 'min_child_samples': 90}. Best is trial 10 with value: 0.3597199701170068.\n",
      "[I 2025-05-07 22:27:10,716] Trial 15 finished with value: 0.34916164320217474 and parameters: {'lambda_l1': 2.8512223164997343e-07, 'lambda_l2': 0.00021621336249990532, 'num_leaves': 11, 'feature_fraction': 0.9248380627856385, 'bagging_fraction': 0.7433057033901617, 'bagging_freq': 7, 'min_child_samples': 70}. Best is trial 10 with value: 0.3597199701170068.\n",
      "[I 2025-05-07 22:27:15,388] Trial 16 finished with value: 0.34743848494135493 and parameters: {'lambda_l1': 3.402018410215928e-05, 'lambda_l2': 8.701512485660036e-08, 'num_leaves': 85, 'feature_fraction': 0.79007591684042, 'bagging_fraction': 0.8428915437181975, 'bagging_freq': 5, 'min_child_samples': 39}. Best is trial 10 with value: 0.3597199701170068.\n",
      "[I 2025-05-07 22:27:21,080] Trial 17 finished with value: 0.3550083383175041 and parameters: {'lambda_l1': 0.0025221613472979324, 'lambda_l2': 0.00804235783990161, 'num_leaves': 32, 'feature_fraction': 0.5897986759609612, 'bagging_fraction': 0.9896255316890193, 'bagging_freq': 5, 'min_child_samples': 72}. Best is trial 10 with value: 0.3597199701170068.\n",
      "[I 2025-05-07 22:27:26,157] Trial 18 finished with value: 0.3448283733173567 and parameters: {'lambda_l1': 3.8861399067527876e-07, 'lambda_l2': 1.8427129269958507e-06, 'num_leaves': 77, 'feature_fraction': 0.703197197099954, 'bagging_fraction': 0.7089253592949003, 'bagging_freq': 7, 'min_child_samples': 40}. Best is trial 10 with value: 0.3597199701170068.\n",
      "[I 2025-05-07 22:27:31,613] Trial 19 finished with value: 0.3506173497817437 and parameters: {'lambda_l1': 0.16293542524296328, 'lambda_l2': 3.521898433489605e-05, 'num_leaves': 124, 'feature_fraction': 0.8948481020797618, 'bagging_fraction': 0.7218235890000789, 'bagging_freq': 6, 'min_child_samples': 90}. Best is trial 10 with value: 0.3597199701170068.\n",
      "[I 2025-05-07 22:27:37,301] Trial 20 finished with value: 0.3429382512441398 and parameters: {'lambda_l1': 2.483129054953076e-05, 'lambda_l2': 4.414099209837634e-08, 'num_leaves': 135, 'feature_fraction': 0.8297831247504895, 'bagging_fraction': 0.8414951552687009, 'bagging_freq': 5, 'min_child_samples': 7}. Best is trial 10 with value: 0.3597199701170068.\n",
      "[I 2025-05-07 22:27:42,946] Trial 21 finished with value: 0.3597512762043008 and parameters: {'lambda_l1': 2.0151990887490117e-08, 'lambda_l2': 3.432822572084995e-07, 'num_leaves': 24, 'feature_fraction': 0.5243571982852235, 'bagging_fraction': 0.9353873174630596, 'bagging_freq': 1, 'min_child_samples': 87}. Best is trial 21 with value: 0.3597512762043008.\n",
      "[I 2025-05-07 22:27:47,511] Trial 22 finished with value: 0.3528894416423076 and parameters: {'lambda_l1': 6.511144414498625e-07, 'lambda_l2': 9.753274645144337e-07, 'num_leaves': 33, 'feature_fraction': 0.5353130168425142, 'bagging_fraction': 0.8976810407284198, 'bagging_freq': 1, 'min_child_samples': 91}. Best is trial 21 with value: 0.3597512762043008.\n",
      "[I 2025-05-07 22:27:52,677] Trial 23 finished with value: 0.34730373786057367 and parameters: {'lambda_l1': 8.873822220427161e-08, 'lambda_l2': 9.302197227746115e-08, 'num_leaves': 7, 'feature_fraction': 0.4100204981698301, 'bagging_fraction': 0.990119476406145, 'bagging_freq': 3, 'min_child_samples': 99}. Best is trial 21 with value: 0.3597512762043008.\n",
      "[I 2025-05-07 22:27:57,818] Trial 24 finished with value: 0.35526640335887544 and parameters: {'lambda_l1': 0.0011046436764234062, 'lambda_l2': 1.786195899453923e-06, 'num_leaves': 45, 'feature_fraction': 0.7006323033270736, 'bagging_fraction': 0.8145211258020206, 'bagging_freq': 3, 'min_child_samples': 87}. Best is trial 21 with value: 0.3597512762043008.\n",
      "[I 2025-05-07 22:28:03,639] Trial 25 finished with value: 0.3496965674189278 and parameters: {'lambda_l1': 1.5822960274501454e-08, 'lambda_l2': 3.38760335539982e-08, 'num_leaves': 68, 'feature_fraction': 0.938034282058632, 'bagging_fraction': 0.922810109529608, 'bagging_freq': 7, 'min_child_samples': 72}. Best is trial 21 with value: 0.3597512762043008.\n",
      "[I 2025-05-07 22:28:08,500] Trial 26 finished with value: 0.3474354945549857 and parameters: {'lambda_l1': 1.4819302408980954e-07, 'lambda_l2': 4.4103701070432936e-05, 'num_leaves': 22, 'feature_fraction': 0.6024851398587461, 'bagging_fraction': 0.8586448433104257, 'bagging_freq': 6, 'min_child_samples': 95}. Best is trial 21 with value: 0.3597512762043008.\n",
      "[I 2025-05-07 22:28:14,142] Trial 27 finished with value: 0.35384021043135716 and parameters: {'lambda_l1': 1.5244541558748333e-05, 'lambda_l2': 0.0006627830678776917, 'num_leaves': 37, 'feature_fraction': 0.4610945983909548, 'bagging_fraction': 0.7786428145066148, 'bagging_freq': 1, 'min_child_samples': 78}. Best is trial 21 with value: 0.3597512762043008.\n",
      "[I 2025-05-07 22:28:18,459] Trial 28 finished with value: 0.34384599321092624 and parameters: {'lambda_l1': 1.2401878347010976e-06, 'lambda_l2': 2.3037021172128692e-07, 'num_leaves': 107, 'feature_fraction': 0.7511635318566011, 'bagging_fraction': 0.5516824254121859, 'bagging_freq': 4, 'min_child_samples': 64}. Best is trial 21 with value: 0.3597512762043008.\n",
      "[I 2025-05-07 22:28:19,963] Trial 29 finished with value: 0.1957083995620724 and parameters: {'lambda_l1': 0.014702772968314511, 'lambda_l2': 5.099982294393567e-06, 'num_leaves': 2, 'feature_fraction': 0.5371375209102129, 'bagging_fraction': 0.9578610140305011, 'bagging_freq': 3, 'min_child_samples': 84}. Best is trial 21 with value: 0.3597512762043008.\n",
      "[I 2025-05-07 22:28:23,794] Trial 30 finished with value: 0.354726920272855 and parameters: {'lambda_l1': 0.00035778282053086955, 'lambda_l2': 1.6571195667645502e-05, 'num_leaves': 20, 'feature_fraction': 0.645761993208597, 'bagging_fraction': 0.9231569593191301, 'bagging_freq': 4, 'min_child_samples': 94}. Best is trial 21 with value: 0.3597512762043008.\n",
      "[I 2025-05-07 22:28:29,140] Trial 31 finished with value: 0.35213614447954455 and parameters: {'lambda_l1': 1.3239333327422032e-08, 'lambda_l2': 3.5041944323745317e-07, 'num_leaves': 19, 'feature_fraction': 0.5081260177157929, 'bagging_fraction': 0.9510181415112643, 'bagging_freq': 2, 'min_child_samples': 77}. Best is trial 21 with value: 0.3597512762043008.\n",
      "[I 2025-05-07 22:28:34,529] Trial 32 finished with value: 0.3557558833931277 and parameters: {'lambda_l1': 5.327142215907977e-08, 'lambda_l2': 1.1078224346069555e-08, 'num_leaves': 62, 'feature_fraction': 0.44474753774730585, 'bagging_fraction': 0.9142884293772099, 'bagging_freq': 2, 'min_child_samples': 87}. Best is trial 21 with value: 0.3597512762043008.\n",
      "[I 2025-05-07 22:28:40,418] Trial 33 finished with value: 0.35161885707479584 and parameters: {'lambda_l1': 6.56515760996262e-08, 'lambda_l2': 1.1086603763257883e-08, 'num_leaves': 68, 'feature_fraction': 0.4409974645044357, 'bagging_fraction': 0.8029895316148845, 'bagging_freq': 1, 'min_child_samples': 100}. Best is trial 21 with value: 0.3597512762043008.\n",
      "[I 2025-05-07 22:28:45,870] Trial 34 finished with value: 0.35578404720057477 and parameters: {'lambda_l1': 9.706087653179796e-07, 'lambda_l2': 0.11219706779111831, 'num_leaves': 43, 'feature_fraction': 0.5508906925060005, 'bagging_fraction': 0.8742424836564815, 'bagging_freq': 2, 'min_child_samples': 87}. Best is trial 21 with value: 0.3597512762043008.\n",
      "[I 2025-05-07 22:28:50,440] Trial 35 finished with value: 0.3520002934094395 and parameters: {'lambda_l1': 0.00011410881220753583, 'lambda_l2': 0.10325449146945659, 'num_leaves': 37, 'feature_fraction': 0.5606227411036714, 'bagging_fraction': 0.8703312221402525, 'bagging_freq': 2, 'min_child_samples': 93}. Best is trial 21 with value: 0.3597512762043008.\n",
      "[I 2025-05-07 22:28:55,640] Trial 36 finished with value: 0.35119716427293524 and parameters: {'lambda_l1': 0.048479199945127595, 'lambda_l2': 0.189906197843866, 'num_leaves': 221, 'feature_fraction': 0.6771976736750271, 'bagging_fraction': 0.680797544291094, 'bagging_freq': 1, 'min_child_samples': 45}. Best is trial 21 with value: 0.3597512762043008.\n",
      "[I 2025-05-07 22:29:01,055] Trial 37 finished with value: 0.3485660314810778 and parameters: {'lambda_l1': 7.617217346961855e-06, 'lambda_l2': 3.226238683050419, 'num_leaves': 47, 'feature_fraction': 0.5013850192028977, 'bagging_fraction': 0.744539663674265, 'bagging_freq': 3, 'min_child_samples': 66}. Best is trial 21 with value: 0.3597512762043008.\n",
      "[I 2025-05-07 22:29:04,765] Trial 38 finished with value: 0.3500082511389048 and parameters: {'lambda_l1': 1.0061050507945371e-06, 'lambda_l2': 0.5064483877740749, 'num_leaves': 22, 'feature_fraction': 0.6078402705003432, 'bagging_fraction': 0.8355231953297074, 'bagging_freq': 1, 'min_child_samples': 23}. Best is trial 21 with value: 0.3597512762043008.\n",
      "[I 2025-05-07 22:29:10,855] Trial 39 finished with value: 0.35269823608305984 and parameters: {'lambda_l1': 9.972851411441512e-05, 'lambda_l2': 0.039448956119960334, 'num_leaves': 97, 'feature_fraction': 0.7161110994086182, 'bagging_fraction': 0.9668572277239791, 'bagging_freq': 4, 'min_child_samples': 77}. Best is trial 21 with value: 0.3597512762043008.\n",
      "[I 2025-05-07 22:29:16,713] Trial 40 finished with value: 0.35221344997720183 and parameters: {'lambda_l1': 0.002578658620186476, 'lambda_l2': 0.0009198389358176816, 'num_leaves': 154, 'feature_fraction': 0.6292769448847864, 'bagging_fraction': 0.8946649653726878, 'bagging_freq': 2, 'min_child_samples': 85}. Best is trial 21 with value: 0.3597512762043008.\n",
      "[I 2025-05-07 22:29:23,004] Trial 41 finished with value: 0.35655725005667505 and parameters: {'lambda_l1': 1.9834250678854643e-07, 'lambda_l2': 8.338553311634699e-08, 'num_leaves': 59, 'feature_fraction': 0.48467479825880666, 'bagging_fraction': 0.9183261462190012, 'bagging_freq': 2, 'min_child_samples': 87}. Best is trial 21 with value: 0.3597512762043008.\n",
      "[I 2025-05-07 22:29:28,661] Trial 42 finished with value: 0.3548400119712285 and parameters: {'lambda_l1': 1.869030839956834e-07, 'lambda_l2': 1.2413931848743187e-07, 'num_leaves': 45, 'feature_fraction': 0.5004166610214091, 'bagging_fraction': 0.8690546792961511, 'bagging_freq': 2, 'min_child_samples': 88}. Best is trial 21 with value: 0.3597512762043008.\n",
      "[I 2025-05-07 22:29:33,706] Trial 43 finished with value: 0.34685393940365694 and parameters: {'lambda_l1': 2.803285754082984e-06, 'lambda_l2': 2.8007057368372014e-08, 'num_leaves': 79, 'feature_fraction': 0.5606190596430076, 'bagging_fraction': 0.9311399741150364, 'bagging_freq': 1, 'min_child_samples': 93}. Best is trial 21 with value: 0.3597512762043008.\n",
      "[I 2025-05-07 22:29:39,576] Trial 44 finished with value: 0.3569854446245203 and parameters: {'lambda_l1': 3.168361989276997e-08, 'lambda_l2': 4.6328884073369527e-07, 'num_leaves': 14, 'feature_fraction': 0.4807239495433295, 'bagging_fraction': 0.7844896587392639, 'bagging_freq': 3, 'min_child_samples': 96}. Best is trial 21 with value: 0.3597512762043008.\n",
      "[I 2025-05-07 22:29:45,284] Trial 45 finished with value: 0.35114720794981696 and parameters: {'lambda_l1': 1.0322086362522012e-08, 'lambda_l2': 4.842397547182971e-07, 'num_leaves': 13, 'feature_fraction': 0.4722356173272161, 'bagging_fraction': 0.7575123412925839, 'bagging_freq': 3, 'min_child_samples': 96}. Best is trial 21 with value: 0.3597512762043008.\n",
      "[I 2025-05-07 22:29:49,869] Trial 46 finished with value: 0.35025677578577263 and parameters: {'lambda_l1': 3.5249961717563556e-08, 'lambda_l2': 1.8283825608090884e-06, 'num_leaves': 25, 'feature_fraction': 0.7767987499455021, 'bagging_fraction': 0.6329806707554974, 'bagging_freq': 3, 'min_child_samples': 100}. Best is trial 21 with value: 0.3597512762043008.\n",
      "[I 2025-05-07 22:29:55,561] Trial 47 finished with value: 0.35914636234355635 and parameters: {'lambda_l1': 2.9512799136286e-08, 'lambda_l2': 5.767220893332828e-08, 'num_leaves': 31, 'feature_fraction': 0.42497569017648495, 'bagging_fraction': 0.7919528446621669, 'bagging_freq': 7, 'min_child_samples': 81}. Best is trial 21 with value: 0.3597512762043008.\n",
      "[I 2025-05-07 22:30:00,749] Trial 48 finished with value: 0.3520393960795693 and parameters: {'lambda_l1': 3.036928208219613e-08, 'lambda_l2': 1.9030579382087646e-07, 'num_leaves': 11, 'feature_fraction': 0.40100222737409486, 'bagging_fraction': 0.7877594684361702, 'bagging_freq': 7, 'min_child_samples': 82}. Best is trial 21 with value: 0.3597512762043008.\n",
      "[I 2025-05-07 22:30:04,858] Trial 49 finished with value: 0.34340913541535967 and parameters: {'lambda_l1': 0.007157990227830429, 'lambda_l2': 3.803767657624317e-08, 'num_leaves': 29, 'feature_fraction': 0.8487136029445306, 'bagging_fraction': 0.6864004166320855, 'bagging_freq': 7, 'min_child_samples': 96}. Best is trial 21 with value: 0.3597512762043008.\n"
     ]
    },
    {
     "name": "stdout",
     "output_type": "stream",
     "text": [
      "Mejor Kappa en test guardado: 0.32385413165318855\n"
     ]
    }
   ],
   "source": [
    "import optuna\n",
    "\n",
    "#Genero estudio\n",
    "study = optuna.create_study(direction='maximize',\n",
    "                            storage=\"sqlite:///../work/db_100_LGBM_FE_JM_50.sqlite3\",\n",
    "                            study_name=\"100_LGBM_FE_JM_50_CV\",\n",
    "                            load_if_exists = True)\n",
    "\n",
    "#Corro la optimizacion\n",
    "study.optimize(cv_es_lgb_objective, n_trials=50)\n",
    "\n",
    "# Mostrar el kappa sobre test guardado como atributo del mejor trial\n",
    "print(\"Mejor Kappa en test guardado:\", study.best_trial.user_attrs.get(\"test_score\"))"
   ]
  },
  {
   "cell_type": "markdown",
   "id": "4a0a5d3b",
   "metadata": {},
   "source": [
    "## LGBM Importance Futures"
   ]
  },
  {
   "cell_type": "code",
   "execution_count": null,
   "id": "1100ce90",
   "metadata": {},
   "outputs": [],
   "source": [
    "import lightgbm as lgb\n",
    "import shap\n",
    "import matplotlib.pyplot as plt\n",
    "from sklearn.inspection import permutation_importance\n",
    "import numpy as np\n",
    "\n",
    "features = np.array(features)\n",
    "model= lgb_model2\n",
    "\n",
    "# --------------------\n",
    "# 1. Feature Importance basada en GAIN\n",
    "# --------------------\n",
    "importances_gain = model.feature_importance(importance_type='gain')\n",
    "sorted_idx_gain = importances_gain.argsort()[::-1]\n",
    "\n",
    "plt.figure(figsize=(10,6))\n",
    "plt.barh(features[sorted_idx_gain], importances_gain[sorted_idx_gain])\n",
    "plt.xlabel('Importancia (GAIN)')\n",
    "plt.title('Feature Importance basada en GAIN')\n",
    "plt.gca().invert_yaxis()\n",
    "plt.show()\n",
    "\n",
    "# --------------------\n",
    "# 2. Feature Importance basada en SPLIT\n",
    "# --------------------\n",
    "importances_split = model.feature_importance(importance_type='split')\n",
    "sorted_idx_split = importances_split.argsort()[::-1]\n",
    "\n",
    "plt.figure(figsize=(10,6))\n",
    "plt.barh(features[sorted_idx_split], importances_split[sorted_idx_split])\n",
    "plt.xlabel('Importancia (SPLIT)')\n",
    "plt.title('Feature Importance basada en SPLIT')\n",
    "plt.gca().invert_yaxis()\n",
    "plt.show()\n",
    "\n",
    "# --------------------\n",
    "# 3. Permutation Importance\n",
    "# --------------------\n",
    "# Para permutation necesitamos un modelo tipo sklearn, armamos uno rápido\n",
    "model_sklearn = lgb.LGBMClassifier(boosting_type='gbdt')\n",
    "model_sklearn.fit(X_train, y_train)\n",
    "\n",
    "perm_result = permutation_importance(model_sklearn, X_test, y_test, n_repeats=10, random_state=42, scoring='accuracy')\n",
    "sorted_idx_perm = perm_result.importances_mean.argsort()\n",
    "\n",
    "plt.figure(figsize=(10,6))\n",
    "plt.barh(features[sorted_idx_perm], perm_result.importances_mean[sorted_idx_perm])\n",
    "plt.xlabel('Impacto en Accuracy')\n",
    "plt.title('Permutation Importance')\n",
    "plt.gca().invert_yaxis()\n",
    "plt.show()\n",
    "\n",
    "# --------------------\n",
    "# 4. SHAP Values\n",
    "# --------------------\n",
    "explainer = shap.TreeExplainer(model)\n",
    "shap_values = explainer.shap_values(X_test)\n",
    "\n",
    "# Graficar importancia promedio\n",
    "shap.summary_plot(shap_values, X_test, feature_names=features, plot_type=\"dot\")"
   ]
  }
 ],
 "metadata": {
  "kernelspec": {
   "display_name": "ldi2",
   "language": "python",
   "name": "python3"
  },
  "language_info": {
   "codemirror_mode": {
    "name": "ipython",
    "version": 3
   },
   "file_extension": ".py",
   "mimetype": "text/x-python",
   "name": "python",
   "nbconvert_exporter": "python",
   "pygments_lexer": "ipython3",
   "version": "3.13.2"
  }
 },
 "nbformat": 4,
 "nbformat_minor": 5
}
