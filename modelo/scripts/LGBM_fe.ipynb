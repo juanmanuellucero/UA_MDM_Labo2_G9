{
 "cells": [
  {
   "cell_type": "markdown",
   "metadata": {},
   "source": [
    "# Etapa 🔹 2. Setup base\n",
    "\t1.\tLeer train.csv.\n",
    "\t2.\tUsar stratified split (80/20) o CV estratificado en 5 folds por AdoptionSpeed.\n",
    "\t3.\tDefinir un set de features básicas (categorías, numéricas, sin texto por ahora).\n",
    "\t4.\tEntrenar un modelo LightGBM multiclass con parámetros por defecto.\n",
    "\t5.\tEvaluar con cohen_kappa_score(y_true, y_pred, weights=\"quadratic\")."
   ]
  },
  {
   "cell_type": "markdown",
   "metadata": {},
   "source": [
    "## Modelo datos estructurados\n",
    "Este notebook desarrolla un primer modelo para resolver el problema de Petfinder. Empezamos haciendo un modelo inicial muy simple para ver la viabilidad de resolver el problema. Luego analizamos como se comporta la métrica kappa propuesta y vemos la matriz de confusión. Finalmente hacemos una optimización de hiperparametros evaluando con train/test y otra validando con 5 fold CV y testeando en el 20% de los datos"
   ]
  },
  {
   "cell_type": "markdown",
   "metadata": {},
   "source": [
    "### Setup inicial"
   ]
  },
  {
   "cell_type": "code",
   "execution_count": 1,
   "metadata": {},
   "outputs": [
    {
     "name": "stdout",
     "output_type": "stream",
     "text": [
      "Directorio actual: c:\\Users\\TrendingPc\\Documents\\Code\\REPO_TP\\UA_MDM_Labo2_G9\\work\n"
     ]
    },
    {
     "name": "stderr",
     "output_type": "stream",
     "text": [
      "c:\\Users\\TrendingPc\\Documents\\Code\\REPO_TP\\UA_MDM_Labo2_G9\\.venv\\Lib\\site-packages\\tqdm\\auto.py:21: TqdmWarning: IProgress not found. Please update jupyter and ipywidgets. See https://ipywidgets.readthedocs.io/en/stable/user_install.html\n",
      "  from .autonotebook import tqdm as notebook_tqdm\n"
     ]
    }
   ],
   "source": [
    "#Import de librerias basicas tablas y matrices\n",
    "import os\n",
    "import numpy as np \n",
    "import pandas as pd \n",
    "\n",
    "#Gradient Boosting\n",
    "import lightgbm as lgb\n",
    "\n",
    "#Funciones auxiliares sklearn\n",
    "from sklearn.model_selection import train_test_split, StratifiedKFold #Split y cross Validation\n",
    "from sklearn.metrics import cohen_kappa_score, accuracy_score, balanced_accuracy_score #Metricas\n",
    "from sklearn.utils import shuffle \n",
    "\n",
    "#Visualizacióon\n",
    "from plotly import express as px\n",
    "\n",
    "#Plot de matriz de confusion normalizada en actuals\n",
    "from utiles import plot_confusion_matrix\n",
    "\n",
    "#Optimizacion de hiperparametros\n",
    "import optuna\n",
    "from optuna.artifacts import FileSystemArtifactStore, upload_artifact\n",
    "\n",
    "#Guardado de objetos en archivos joblib\n",
    "from joblib import load, dump\n",
    "\n",
    "\n",
    "workDir = \"../../work/\"\n",
    "optunaArtifactDir = os.path.join(workDir, \"optuna_artifacts\")\n",
    "optunaTempDir = os.path.join(workDir, \"optuna_temp_artifacts\")\n",
    "\n",
    "if not os.path.exists(workDir):\n",
    "    os.makedirs(workDir)\n",
    "\n",
    "if not os.path.exists(optunaArtifactDir):\n",
    "    os.makedirs(optunaArtifactDir)\n",
    "\n",
    "if not os.path.exists(optunaTempDir):\n",
    "    os.makedirs(optunaTempDir)\n",
    "    \n",
    "os.chdir(\n",
    "    os.path.join(\n",
    "        os.getcwd(), workDir)\n",
    "    )\n",
    "print(\"Directorio actual:\", os.getcwd())\n",
    "\n",
    "# Paths para acceso archivos\n",
    "#Este notebook asume la siguiente estructura de carpetas a partir de la ubicacion de base_dir \n",
    "#(dos niveles arriba de la cƒarpeta donde se ejecuta el notebook). \n",
    "# /ƒ/ƒ\n",
    "# /UA_MDM_Labo2/inputƒ\n",
    "# /UA_MDM_Labo2/input/petfinder-adoption-prediction/            <- Aca deben ir todos los archivos de datos de la competencia \n",
    "# /UA_MDM_Labo2/tutoriales/                       <- Aca deben poner los notebooks y scripts que les compartimos\n",
    "# /UA_MDM_Labo2/work/                             <- Resultados de notebooks iran dentro de esta carpeta en subcarpetas\n",
    "# /UA_MDM_Labo2/work/models/                     <- Modelos entrenados en archivos joblibs\n",
    "# /UA_MDM_Labo2/work/optuna_temp_artifacts/      <- Archivos que queremos dejar como artefacto de un trial de optuna (optuna los copiara a la carpeta de abajo)\n",
    "# /UA_MDM_Labo2/work/optuna_artifacts/           <- Archivos con artefactos que sibimos a optuna\n",
    "\n",
    "#Subimos dos niveles para quedar en la carpeta que contiene input y UA_MDM_Labo2\n",
    "BASE_DIR = '../'\n",
    "\n",
    "#Datos de entrenamiento \n",
    "PATH_TO_TRAIN = os.path.join(BASE_DIR, \"input/petfinder-adoption-prediction/train/train.csv\")\n",
    "\n",
    "#Salida de modelos entrenados\n",
    "PATH_TO_MODELS = os.path.join(BASE_DIR, \"work/models\")\n",
    "\n",
    "#Artefactos a subir a optuna\n",
    "PATH_TO_TEMP_FILES = os.path.join(BASE_DIR, \"work/optuna_temp_artifacts\")\n",
    "\n",
    "#Artefactos que optuna gestiona\n",
    "PATH_TO_OPTUNA_ARTIFACTS = os.path.join(BASE_DIR, \"work/optuna_artifacts\")\n",
    "\n",
    "\n",
    "SEED = 42 #Semilla de procesos aleatorios (para poder replicar exactamente al volver a correr un modelo)\n",
    "TEST_SIZE = 0.2 #Facción para train/test= split"
   ]
  },
  {
   "cell_type": "code",
   "execution_count": 2,
   "metadata": {},
   "outputs": [],
   "source": [
    "# Datos Tabulares\n",
    "dataset = pd.read_csv(PATH_TO_TRAIN)"
   ]
  },
  {
   "cell_type": "code",
   "execution_count": 3,
   "metadata": {},
   "outputs": [
    {
     "data": {
      "text/plain": [
       "Index(['Type', 'Name', 'Age', 'Breed1', 'Breed2', 'Gender', 'Color1', 'Color2',\n",
       "       'Color3', 'MaturitySize', 'FurLength', 'Vaccinated', 'Dewormed',\n",
       "       'Sterilized', 'Health', 'Quantity', 'Fee', 'State', 'RescuerID',\n",
       "       'VideoAmt', 'Description', 'PetID', 'PhotoAmt', 'AdoptionSpeed'],\n",
       "      dtype='object')"
      ]
     },
     "execution_count": 3,
     "metadata": {},
     "output_type": "execute_result"
    }
   ],
   "source": [
    "#Columnas del dataset\n",
    "dataset.columns"
   ]
  },
  {
   "cell_type": "code",
   "execution_count": 4,
   "metadata": {},
   "outputs": [],
   "source": [
    "#Separo un 20% para test estratificado opr target\n",
    "train, test = train_test_split(dataset,\n",
    "                               test_size = TEST_SIZE,\n",
    "                               random_state = SEED,\n",
    "                               stratify = dataset.AdoptionSpeed)"
   ]
  },
  {
   "cell_type": "code",
   "execution_count": 5,
   "metadata": {},
   "outputs": [],
   "source": [
    "#Armo listas con features de texto y numericas\n",
    "char_feats = [f for f in dataset.columns if dataset[f].dtype=='O']\n",
    "numeric_feats = [f for f in dataset.columns if dataset[f].dtype!='O']"
   ]
  },
  {
   "cell_type": "code",
   "execution_count": 6,
   "metadata": {},
   "outputs": [
    {
     "data": {
      "text/plain": [
       "['Type',\n",
       " 'Age',\n",
       " 'Breed1',\n",
       " 'Breed2',\n",
       " 'Gender',\n",
       " 'Color1',\n",
       " 'Color2',\n",
       " 'Color3',\n",
       " 'MaturitySize',\n",
       " 'FurLength',\n",
       " 'Vaccinated',\n",
       " 'Dewormed',\n",
       " 'Sterilized',\n",
       " 'Health',\n",
       " 'Quantity',\n",
       " 'Fee',\n",
       " 'State',\n",
       " 'VideoAmt',\n",
       " 'PhotoAmt',\n",
       " 'AdoptionSpeed']"
      ]
     },
     "execution_count": 6,
     "metadata": {},
     "output_type": "execute_result"
    }
   ],
   "source": [
    "#Lista de features numericas\n",
    "numeric_feats"
   ]
  },
  {
   "cell_type": "code",
   "execution_count": 7,
   "metadata": {},
   "outputs": [],
   "source": [
    "\n",
    "#Defino features a usar en un primer modelo de prueba\n",
    "features = ['Type',\n",
    " 'Age',\n",
    " 'Breed1',\n",
    " 'Breed2',\n",
    " 'Gender',\n",
    " 'Color1',\n",
    " 'Color2',\n",
    " 'Color3',\n",
    " 'MaturitySize',\n",
    " 'FurLength',\n",
    " 'Vaccinated',\n",
    " 'Dewormed',\n",
    " 'Sterilized',\n",
    " 'Health',\n",
    " 'Quantity',\n",
    " 'Fee',\n",
    " 'State',\n",
    " 'VideoAmt',\n",
    " 'PhotoAmt']\n",
    "\n",
    "label = 'AdoptionSpeed'"
   ]
  },
  {
   "cell_type": "code",
   "execution_count": 8,
   "metadata": {},
   "outputs": [],
   "source": [
    "#Genero dataframes de train y test con sus respectivos targets\n",
    "X_train = train[features]\n",
    "y_train = train[label]\n",
    "\n",
    "X_test = test[features]\n",
    "y_test = test[label]"
   ]
  },
  {
   "cell_type": "code",
   "execution_count": 9,
   "metadata": {},
   "outputs": [
    {
     "name": "stdout",
     "output_type": "stream",
     "text": [
      "[LightGBM] [Info] Auto-choosing row-wise multi-threading, the overhead of testing was 0.000923 seconds.\n",
      "You can set `force_row_wise=true` to remove the overhead.\n",
      "And if memory is not enough, you can set `force_col_wise=true`.\n",
      "[LightGBM] [Info] Total Bins 438\n",
      "[LightGBM] [Info] Number of data points in the train set: 11994, number of used features: 19\n",
      "[LightGBM] [Info] Start training from score -3.599148\n",
      "[LightGBM] [Info] Start training from score -1.579379\n",
      "[LightGBM] [Info] Start training from score -1.311924\n",
      "[LightGBM] [Info] Start training from score -1.526206\n",
      "[LightGBM] [Info] Start training from score -1.273359\n"
     ]
    }
   ],
   "source": [
    "#Entreno un modelo inicial sin modificar hiperparametros. Solamente especifico el numero de clases y el tipo de modelo como clasificacoión\n",
    "lgb_params = params = {\n",
    "                        'objective': 'multiclass',\n",
    "                        'num_class': len(y_train.unique())\n",
    "                        }\n",
    "\n",
    "\n",
    "#genero el objeto Dataset que debo pasarle a lightgbm para que entrene\n",
    "lgb_train_dataset = lgb.Dataset(data=X_train,\n",
    "                                label=y_train)\n",
    "\n",
    "#entreno el modelo con los parametros por defecto\n",
    "lgb_model = lgb.train(lgb_params,\n",
    "                      lgb_train_dataset)"
   ]
  },
  {
   "cell_type": "code",
   "execution_count": 10,
   "metadata": {},
   "outputs": [
    {
     "data": {
      "text/plain": [
       "array([3, 4, 4, ..., 1, 2, 4], shape=(2999,))"
      ]
     },
     "execution_count": 10,
     "metadata": {},
     "output_type": "execute_result"
    }
   ],
   "source": [
    "lgb_model.predict(X_test).argmax(axis=1)"
   ]
  },
  {
   "cell_type": "code",
   "execution_count": 11,
   "metadata": {},
   "outputs": [
    {
     "data": {
      "text/plain": [
       "np.float64(0.31327315052086113)"
      ]
     },
     "execution_count": 11,
     "metadata": {},
     "output_type": "execute_result"
    }
   ],
   "source": [
    "#Obtengo las predicciones sobre el set de test. El modelo me da una lista de probabilidades para cada clase y tomo la clase con mayor probabilidad con la funcion argmax\n",
    "y_pred = lgb_model.predict(X_test).argmax(axis=1)\n",
    "\n",
    "#Calculo el Kappa\n",
    "cohen_kappa_score(y_test,y_pred, weights = 'quadratic')"
   ]
  },
  {
   "cell_type": "code",
   "execution_count": 12,
   "metadata": {},
   "outputs": [
    {
     "data": {
      "application/vnd.plotly.v1+json": {
       "config": {
        "plotlyServerURL": "https://plot.ly"
       },
       "data": [
        {
         "type": "heatmap",
         "x": {
          "bdata": "AAECAwQ=",
          "dtype": "i1"
         },
         "y": {
          "bdata": "AAECAwQ=",
          "dtype": "i1"
         },
         "z": {
          "bdata": "ZHA+BudjGECD8zE4H4NDQNWuRO1K1DpA9DE4H4PzJUATtStRuxIxQA4wbu9DttQ/u2b0lX+OQUDb+5AtxQpCQJPWqcezax5AbQxNd7DfNEAAAAAAAAAAAKIA0oZRaThA1nJ6UqR2QkDm9KRI7cwmQECf5i/vQjtAAAAAAAAAAACBeqZy3fExQGofJAPqGUFAB9QzleuOMkCmct3xYks9QJ/neZ7ned4/VVVVVVVVJ0AlSZIkSRI1QMQwDMMwDB1AMQzDMAzDTUA=",
          "dtype": "f8",
          "shape": "5, 5"
         }
        }
       ],
       "layout": {
        "annotations": [
         {
          "font": {
           "color": "white"
          },
          "showarrow": false,
          "text": "6.1 - 5",
          "x": 0,
          "xref": "x",
          "y": 0,
          "yref": "y"
         },
         {
          "font": {
           "color": "white"
          },
          "showarrow": false,
          "text": "39.0 - 32",
          "x": 1,
          "xref": "x",
          "y": 0,
          "yref": "y"
         },
         {
          "font": {
           "color": "white"
          },
          "showarrow": false,
          "text": "26.8 - 22",
          "x": 2,
          "xref": "x",
          "y": 0,
          "yref": "y"
         },
         {
          "font": {
           "color": "white"
          },
          "showarrow": false,
          "text": "11.0 - 9",
          "x": 3,
          "xref": "x",
          "y": 0,
          "yref": "y"
         },
         {
          "font": {
           "color": "white"
          },
          "showarrow": false,
          "text": "17.1 - 14",
          "x": 4,
          "xref": "x",
          "y": 0,
          "yref": "y"
         },
         {
          "font": {
           "color": "white"
          },
          "showarrow": false,
          "text": "0.3 - 2",
          "x": 0,
          "xref": "x",
          "y": 1,
          "yref": "y"
         },
         {
          "font": {
           "color": "white"
          },
          "showarrow": false,
          "text": "35.1 - 217",
          "x": 1,
          "xref": "x",
          "y": 1,
          "yref": "y"
         },
         {
          "font": {
           "color": "white"
          },
          "showarrow": false,
          "text": "36.1 - 223",
          "x": 2,
          "xref": "x",
          "y": 1,
          "yref": "y"
         },
         {
          "font": {
           "color": "white"
          },
          "showarrow": false,
          "text": "7.6 - 47",
          "x": 3,
          "xref": "x",
          "y": 1,
          "yref": "y"
         },
         {
          "font": {
           "color": "white"
          },
          "showarrow": false,
          "text": "20.9 - 129",
          "x": 4,
          "xref": "x",
          "y": 1,
          "yref": "y"
         },
         {
          "font": {
           "color": "white"
          },
          "showarrow": false,
          "text": "0.0 - 0",
          "x": 0,
          "xref": "x",
          "y": 2,
          "yref": "y"
         },
         {
          "font": {
           "color": "white"
          },
          "showarrow": false,
          "text": "24.4 - 197",
          "x": 1,
          "xref": "x",
          "y": 2,
          "yref": "y"
         },
         {
          "font": {
           "color": "white"
          },
          "showarrow": false,
          "text": "36.9 - 298",
          "x": 2,
          "xref": "x",
          "y": 2,
          "yref": "y"
         },
         {
          "font": {
           "color": "white"
          },
          "showarrow": false,
          "text": "11.4 - 92",
          "x": 3,
          "xref": "x",
          "y": 2,
          "yref": "y"
         },
         {
          "font": {
           "color": "white"
          },
          "showarrow": false,
          "text": "27.3 - 220",
          "x": 4,
          "xref": "x",
          "y": 2,
          "yref": "y"
         },
         {
          "font": {
           "color": "white"
          },
          "showarrow": false,
          "text": "0.0 - 0",
          "x": 0,
          "xref": "x",
          "y": 3,
          "yref": "y"
         },
         {
          "font": {
           "color": "white"
          },
          "showarrow": false,
          "text": "17.9 - 117",
          "x": 1,
          "xref": "x",
          "y": 3,
          "yref": "y"
         },
         {
          "font": {
           "color": "white"
          },
          "showarrow": false,
          "text": "34.2 - 223",
          "x": 2,
          "xref": "x",
          "y": 3,
          "yref": "y"
         },
         {
          "font": {
           "color": "white"
          },
          "showarrow": false,
          "text": "18.6 - 121",
          "x": 3,
          "xref": "x",
          "y": 3,
          "yref": "y"
         },
         {
          "font": {
           "color": "white"
          },
          "showarrow": false,
          "text": "29.3 - 191",
          "x": 4,
          "xref": "x",
          "y": 3,
          "yref": "y"
         },
         {
          "font": {
           "color": "white"
          },
          "showarrow": false,
          "text": "0.5 - 4",
          "x": 0,
          "xref": "x",
          "y": 4,
          "yref": "y"
         },
         {
          "font": {
           "color": "white"
          },
          "showarrow": false,
          "text": "11.7 - 98",
          "x": 1,
          "xref": "x",
          "y": 4,
          "yref": "y"
         },
         {
          "font": {
           "color": "white"
          },
          "showarrow": false,
          "text": "21.1 - 177",
          "x": 2,
          "xref": "x",
          "y": 4,
          "yref": "y"
         },
         {
          "font": {
           "color": "white"
          },
          "showarrow": false,
          "text": "7.3 - 61",
          "x": 3,
          "xref": "x",
          "y": 4,
          "yref": "y"
         },
         {
          "font": {
           "color": "white"
          },
          "showarrow": false,
          "text": "59.5 - 500",
          "x": 4,
          "xref": "x",
          "y": 4,
          "yref": "y"
         }
        ],
        "height": 800,
        "template": {
         "data": {
          "bar": [
           {
            "error_x": {
             "color": "#2a3f5f"
            },
            "error_y": {
             "color": "#2a3f5f"
            },
            "marker": {
             "line": {
              "color": "#E5ECF6",
              "width": 0.5
             },
             "pattern": {
              "fillmode": "overlay",
              "size": 10,
              "solidity": 0.2
             }
            },
            "type": "bar"
           }
          ],
          "barpolar": [
           {
            "marker": {
             "line": {
              "color": "#E5ECF6",
              "width": 0.5
             },
             "pattern": {
              "fillmode": "overlay",
              "size": 10,
              "solidity": 0.2
             }
            },
            "type": "barpolar"
           }
          ],
          "carpet": [
           {
            "aaxis": {
             "endlinecolor": "#2a3f5f",
             "gridcolor": "white",
             "linecolor": "white",
             "minorgridcolor": "white",
             "startlinecolor": "#2a3f5f"
            },
            "baxis": {
             "endlinecolor": "#2a3f5f",
             "gridcolor": "white",
             "linecolor": "white",
             "minorgridcolor": "white",
             "startlinecolor": "#2a3f5f"
            },
            "type": "carpet"
           }
          ],
          "choropleth": [
           {
            "colorbar": {
             "outlinewidth": 0,
             "ticks": ""
            },
            "type": "choropleth"
           }
          ],
          "contour": [
           {
            "colorbar": {
             "outlinewidth": 0,
             "ticks": ""
            },
            "colorscale": [
             [
              0,
              "#0d0887"
             ],
             [
              0.1111111111111111,
              "#46039f"
             ],
             [
              0.2222222222222222,
              "#7201a8"
             ],
             [
              0.3333333333333333,
              "#9c179e"
             ],
             [
              0.4444444444444444,
              "#bd3786"
             ],
             [
              0.5555555555555556,
              "#d8576b"
             ],
             [
              0.6666666666666666,
              "#ed7953"
             ],
             [
              0.7777777777777778,
              "#fb9f3a"
             ],
             [
              0.8888888888888888,
              "#fdca26"
             ],
             [
              1,
              "#f0f921"
             ]
            ],
            "type": "contour"
           }
          ],
          "contourcarpet": [
           {
            "colorbar": {
             "outlinewidth": 0,
             "ticks": ""
            },
            "type": "contourcarpet"
           }
          ],
          "heatmap": [
           {
            "colorbar": {
             "outlinewidth": 0,
             "ticks": ""
            },
            "colorscale": [
             [
              0,
              "#0d0887"
             ],
             [
              0.1111111111111111,
              "#46039f"
             ],
             [
              0.2222222222222222,
              "#7201a8"
             ],
             [
              0.3333333333333333,
              "#9c179e"
             ],
             [
              0.4444444444444444,
              "#bd3786"
             ],
             [
              0.5555555555555556,
              "#d8576b"
             ],
             [
              0.6666666666666666,
              "#ed7953"
             ],
             [
              0.7777777777777778,
              "#fb9f3a"
             ],
             [
              0.8888888888888888,
              "#fdca26"
             ],
             [
              1,
              "#f0f921"
             ]
            ],
            "type": "heatmap"
           }
          ],
          "histogram": [
           {
            "marker": {
             "pattern": {
              "fillmode": "overlay",
              "size": 10,
              "solidity": 0.2
             }
            },
            "type": "histogram"
           }
          ],
          "histogram2d": [
           {
            "colorbar": {
             "outlinewidth": 0,
             "ticks": ""
            },
            "colorscale": [
             [
              0,
              "#0d0887"
             ],
             [
              0.1111111111111111,
              "#46039f"
             ],
             [
              0.2222222222222222,
              "#7201a8"
             ],
             [
              0.3333333333333333,
              "#9c179e"
             ],
             [
              0.4444444444444444,
              "#bd3786"
             ],
             [
              0.5555555555555556,
              "#d8576b"
             ],
             [
              0.6666666666666666,
              "#ed7953"
             ],
             [
              0.7777777777777778,
              "#fb9f3a"
             ],
             [
              0.8888888888888888,
              "#fdca26"
             ],
             [
              1,
              "#f0f921"
             ]
            ],
            "type": "histogram2d"
           }
          ],
          "histogram2dcontour": [
           {
            "colorbar": {
             "outlinewidth": 0,
             "ticks": ""
            },
            "colorscale": [
             [
              0,
              "#0d0887"
             ],
             [
              0.1111111111111111,
              "#46039f"
             ],
             [
              0.2222222222222222,
              "#7201a8"
             ],
             [
              0.3333333333333333,
              "#9c179e"
             ],
             [
              0.4444444444444444,
              "#bd3786"
             ],
             [
              0.5555555555555556,
              "#d8576b"
             ],
             [
              0.6666666666666666,
              "#ed7953"
             ],
             [
              0.7777777777777778,
              "#fb9f3a"
             ],
             [
              0.8888888888888888,
              "#fdca26"
             ],
             [
              1,
              "#f0f921"
             ]
            ],
            "type": "histogram2dcontour"
           }
          ],
          "mesh3d": [
           {
            "colorbar": {
             "outlinewidth": 0,
             "ticks": ""
            },
            "type": "mesh3d"
           }
          ],
          "parcoords": [
           {
            "line": {
             "colorbar": {
              "outlinewidth": 0,
              "ticks": ""
             }
            },
            "type": "parcoords"
           }
          ],
          "pie": [
           {
            "automargin": true,
            "type": "pie"
           }
          ],
          "scatter": [
           {
            "fillpattern": {
             "fillmode": "overlay",
             "size": 10,
             "solidity": 0.2
            },
            "type": "scatter"
           }
          ],
          "scatter3d": [
           {
            "line": {
             "colorbar": {
              "outlinewidth": 0,
              "ticks": ""
             }
            },
            "marker": {
             "colorbar": {
              "outlinewidth": 0,
              "ticks": ""
             }
            },
            "type": "scatter3d"
           }
          ],
          "scattercarpet": [
           {
            "marker": {
             "colorbar": {
              "outlinewidth": 0,
              "ticks": ""
             }
            },
            "type": "scattercarpet"
           }
          ],
          "scattergeo": [
           {
            "marker": {
             "colorbar": {
              "outlinewidth": 0,
              "ticks": ""
             }
            },
            "type": "scattergeo"
           }
          ],
          "scattergl": [
           {
            "marker": {
             "colorbar": {
              "outlinewidth": 0,
              "ticks": ""
             }
            },
            "type": "scattergl"
           }
          ],
          "scattermap": [
           {
            "marker": {
             "colorbar": {
              "outlinewidth": 0,
              "ticks": ""
             }
            },
            "type": "scattermap"
           }
          ],
          "scattermapbox": [
           {
            "marker": {
             "colorbar": {
              "outlinewidth": 0,
              "ticks": ""
             }
            },
            "type": "scattermapbox"
           }
          ],
          "scatterpolar": [
           {
            "marker": {
             "colorbar": {
              "outlinewidth": 0,
              "ticks": ""
             }
            },
            "type": "scatterpolar"
           }
          ],
          "scatterpolargl": [
           {
            "marker": {
             "colorbar": {
              "outlinewidth": 0,
              "ticks": ""
             }
            },
            "type": "scatterpolargl"
           }
          ],
          "scatterternary": [
           {
            "marker": {
             "colorbar": {
              "outlinewidth": 0,
              "ticks": ""
             }
            },
            "type": "scatterternary"
           }
          ],
          "surface": [
           {
            "colorbar": {
             "outlinewidth": 0,
             "ticks": ""
            },
            "colorscale": [
             [
              0,
              "#0d0887"
             ],
             [
              0.1111111111111111,
              "#46039f"
             ],
             [
              0.2222222222222222,
              "#7201a8"
             ],
             [
              0.3333333333333333,
              "#9c179e"
             ],
             [
              0.4444444444444444,
              "#bd3786"
             ],
             [
              0.5555555555555556,
              "#d8576b"
             ],
             [
              0.6666666666666666,
              "#ed7953"
             ],
             [
              0.7777777777777778,
              "#fb9f3a"
             ],
             [
              0.8888888888888888,
              "#fdca26"
             ],
             [
              1,
              "#f0f921"
             ]
            ],
            "type": "surface"
           }
          ],
          "table": [
           {
            "cells": {
             "fill": {
              "color": "#EBF0F8"
             },
             "line": {
              "color": "white"
             }
            },
            "header": {
             "fill": {
              "color": "#C8D4E3"
             },
             "line": {
              "color": "white"
             }
            },
            "type": "table"
           }
          ]
         },
         "layout": {
          "annotationdefaults": {
           "arrowcolor": "#2a3f5f",
           "arrowhead": 0,
           "arrowwidth": 1
          },
          "autotypenumbers": "strict",
          "coloraxis": {
           "colorbar": {
            "outlinewidth": 0,
            "ticks": ""
           }
          },
          "colorscale": {
           "diverging": [
            [
             0,
             "#8e0152"
            ],
            [
             0.1,
             "#c51b7d"
            ],
            [
             0.2,
             "#de77ae"
            ],
            [
             0.3,
             "#f1b6da"
            ],
            [
             0.4,
             "#fde0ef"
            ],
            [
             0.5,
             "#f7f7f7"
            ],
            [
             0.6,
             "#e6f5d0"
            ],
            [
             0.7,
             "#b8e186"
            ],
            [
             0.8,
             "#7fbc41"
            ],
            [
             0.9,
             "#4d9221"
            ],
            [
             1,
             "#276419"
            ]
           ],
           "sequential": [
            [
             0,
             "#0d0887"
            ],
            [
             0.1111111111111111,
             "#46039f"
            ],
            [
             0.2222222222222222,
             "#7201a8"
            ],
            [
             0.3333333333333333,
             "#9c179e"
            ],
            [
             0.4444444444444444,
             "#bd3786"
            ],
            [
             0.5555555555555556,
             "#d8576b"
            ],
            [
             0.6666666666666666,
             "#ed7953"
            ],
            [
             0.7777777777777778,
             "#fb9f3a"
            ],
            [
             0.8888888888888888,
             "#fdca26"
            ],
            [
             1,
             "#f0f921"
            ]
           ],
           "sequentialminus": [
            [
             0,
             "#0d0887"
            ],
            [
             0.1111111111111111,
             "#46039f"
            ],
            [
             0.2222222222222222,
             "#7201a8"
            ],
            [
             0.3333333333333333,
             "#9c179e"
            ],
            [
             0.4444444444444444,
             "#bd3786"
            ],
            [
             0.5555555555555556,
             "#d8576b"
            ],
            [
             0.6666666666666666,
             "#ed7953"
            ],
            [
             0.7777777777777778,
             "#fb9f3a"
            ],
            [
             0.8888888888888888,
             "#fdca26"
            ],
            [
             1,
             "#f0f921"
            ]
           ]
          },
          "colorway": [
           "#636efa",
           "#EF553B",
           "#00cc96",
           "#ab63fa",
           "#FFA15A",
           "#19d3f3",
           "#FF6692",
           "#B6E880",
           "#FF97FF",
           "#FECB52"
          ],
          "font": {
           "color": "#2a3f5f"
          },
          "geo": {
           "bgcolor": "white",
           "lakecolor": "white",
           "landcolor": "#E5ECF6",
           "showlakes": true,
           "showland": true,
           "subunitcolor": "white"
          },
          "hoverlabel": {
           "align": "left"
          },
          "hovermode": "closest",
          "mapbox": {
           "style": "light"
          },
          "paper_bgcolor": "white",
          "plot_bgcolor": "#E5ECF6",
          "polar": {
           "angularaxis": {
            "gridcolor": "white",
            "linecolor": "white",
            "ticks": ""
           },
           "bgcolor": "#E5ECF6",
           "radialaxis": {
            "gridcolor": "white",
            "linecolor": "white",
            "ticks": ""
           }
          },
          "scene": {
           "xaxis": {
            "backgroundcolor": "#E5ECF6",
            "gridcolor": "white",
            "gridwidth": 2,
            "linecolor": "white",
            "showbackground": true,
            "ticks": "",
            "zerolinecolor": "white"
           },
           "yaxis": {
            "backgroundcolor": "#E5ECF6",
            "gridcolor": "white",
            "gridwidth": 2,
            "linecolor": "white",
            "showbackground": true,
            "ticks": "",
            "zerolinecolor": "white"
           },
           "zaxis": {
            "backgroundcolor": "#E5ECF6",
            "gridcolor": "white",
            "gridwidth": 2,
            "linecolor": "white",
            "showbackground": true,
            "ticks": "",
            "zerolinecolor": "white"
           }
          },
          "shapedefaults": {
           "line": {
            "color": "#2a3f5f"
           }
          },
          "ternary": {
           "aaxis": {
            "gridcolor": "white",
            "linecolor": "white",
            "ticks": ""
           },
           "baxis": {
            "gridcolor": "white",
            "linecolor": "white",
            "ticks": ""
           },
           "bgcolor": "#E5ECF6",
           "caxis": {
            "gridcolor": "white",
            "linecolor": "white",
            "ticks": ""
           }
          },
          "title": {
           "x": 0.05
          },
          "xaxis": {
           "automargin": true,
           "gridcolor": "white",
           "linecolor": "white",
           "ticks": "",
           "title": {
            "standoff": 15
           },
           "zerolinecolor": "white",
           "zerolinewidth": 2
          },
          "yaxis": {
           "automargin": true,
           "gridcolor": "white",
           "linecolor": "white",
           "ticks": "",
           "title": {
            "standoff": 15
           },
           "zerolinecolor": "white",
           "zerolinewidth": 2
          }
         }
        },
        "title": {
         "text": "Conf Matrix"
        },
        "width": 800,
        "xaxis": {
         "title": {
          "text": "Predicted value"
         }
        },
        "yaxis": {
         "title": {
          "text": "Real value"
         }
        }
       }
      }
     },
     "metadata": {},
     "output_type": "display_data"
    }
   ],
   "source": [
    "#Muestro la matriz de confusión\n",
    "display(plot_confusion_matrix(y_test,y_pred))"
   ]
  },
  {
   "cell_type": "code",
   "execution_count": 13,
   "metadata": {},
   "outputs": [
    {
     "name": "stdout",
     "output_type": "stream",
     "text": [
      "[LightGBM] [Info] Number of positive: 328, number of negative: 11666\n",
      "[LightGBM] [Info] Number of positive: 2472, number of negative: 9522\n",
      "[LightGBM] [Info] Number of positive: 3230, number of negative: 8764\n",
      "[LightGBM] [Info] Number of positive: 2607, number of negative: 9387\n",
      "[LightGBM] [Info] Number of positive: 3357, number of negative: 8637\n",
      "[LightGBM] [Info] Auto-choosing row-wise multi-threading, the overhead of testing was 0.000516 seconds.\n",
      "You can set `force_row_wise=true` to remove the overhead.\n",
      "And if memory is not enough, you can set `force_col_wise=true`.\n",
      "[LightGBM] [Info] Total Bins 438\n",
      "[LightGBM] [Info] Number of data points in the train set: 11994, number of used features: 19\n",
      "[LightGBM] [Info] [binary:BoostFromScore]: pavg=0.027347 -> initscore=-3.571420\n",
      "[LightGBM] [Info] Start training from score -3.571420\n",
      "[LightGBM] [Info] [binary:BoostFromScore]: pavg=0.206103 -> initscore=-1.348577\n",
      "[LightGBM] [Info] Start training from score -1.348577\n",
      "[LightGBM] [Info] [binary:BoostFromScore]: pavg=0.269301 -> initscore=-0.998170\n",
      "[LightGBM] [Info] Start training from score -0.998170\n",
      "[LightGBM] [Info] [binary:BoostFromScore]: pavg=0.217359 -> initscore=-1.281126\n",
      "[LightGBM] [Info] Start training from score -1.281126\n",
      "[LightGBM] [Info] [binary:BoostFromScore]: pavg=0.279890 -> initscore=-0.945008\n",
      "[LightGBM] [Info] Start training from score -0.945008\n"
     ]
    }
   ],
   "source": [
    "#Pruebo un modelo alternativo donde en vez de usar la version multiclass real de lightGBM utilizo One vs All\n",
    "\n",
    "lgb_params = params = {\n",
    "                        'objective': 'multiclassova',\n",
    "                        'num_class': len(y_train.unique())\n",
    "                        }\n",
    "\n",
    "\n",
    "lgb_train_dataset = lgb.Dataset(data=X_train,\n",
    "                                label=y_train)\n",
    "\n",
    "\n",
    "lgb_model = lgb.train(lgb_params,\n",
    "                      lgb_train_dataset)"
   ]
  },
  {
   "cell_type": "code",
   "execution_count": 14,
   "metadata": {},
   "outputs": [
    {
     "data": {
      "application/vnd.plotly.v1+json": {
       "config": {
        "plotlyServerURL": "https://plot.ly"
       },
       "data": [
        {
         "type": "heatmap",
         "x": {
          "bdata": "AAECAwQ=",
          "dtype": "i1"
         },
         "y": {
          "bdata": "AAECAwQ=",
          "dtype": "i1"
         },
         "z": {
          "bdata": "RO1K1K5EHUCD8zE4H4NDQA3Ox+B8DDxARO1K1K5EHUBL1K5E7UoyQBNIJedlEd8/GmDc3odsQEBcbQxNd7BCQBNIJedlER9A7n3IlmKFNUCZSSgX8bi/P7w5puz6bzVAtPiQcdZEQ0C/U0iECU4mQLOC/HyavzxACMmAeqZy3T/XHS+2BN8wQKdy3fFiy0BA7YNkQD1TM0DLdceLLcE9QJ/neZ7neb4/hmEYhmEYIkCSJEmSJMk1QDEMwzAMwxhA27Zt27ZtT0A=",
          "dtype": "f8",
          "shape": "5, 5"
         }
        }
       ],
       "layout": {
        "annotations": [
         {
          "font": {
           "color": "white"
          },
          "showarrow": false,
          "text": "7.3 - 6",
          "x": 0,
          "xref": "x",
          "y": 0,
          "yref": "y"
         },
         {
          "font": {
           "color": "white"
          },
          "showarrow": false,
          "text": "39.0 - 32",
          "x": 1,
          "xref": "x",
          "y": 0,
          "yref": "y"
         },
         {
          "font": {
           "color": "white"
          },
          "showarrow": false,
          "text": "28.0 - 23",
          "x": 2,
          "xref": "x",
          "y": 0,
          "yref": "y"
         },
         {
          "font": {
           "color": "white"
          },
          "showarrow": false,
          "text": "7.3 - 6",
          "x": 3,
          "xref": "x",
          "y": 0,
          "yref": "y"
         },
         {
          "font": {
           "color": "white"
          },
          "showarrow": false,
          "text": "18.3 - 15",
          "x": 4,
          "xref": "x",
          "y": 0,
          "yref": "y"
         },
         {
          "font": {
           "color": "white"
          },
          "showarrow": false,
          "text": "0.5 - 3",
          "x": 0,
          "xref": "x",
          "y": 1,
          "yref": "y"
         },
         {
          "font": {
           "color": "white"
          },
          "showarrow": false,
          "text": "32.8 - 203",
          "x": 1,
          "xref": "x",
          "y": 1,
          "yref": "y"
         },
         {
          "font": {
           "color": "white"
          },
          "showarrow": false,
          "text": "37.4 - 231",
          "x": 2,
          "xref": "x",
          "y": 1,
          "yref": "y"
         },
         {
          "font": {
           "color": "white"
          },
          "showarrow": false,
          "text": "7.8 - 48",
          "x": 3,
          "xref": "x",
          "y": 1,
          "yref": "y"
         },
         {
          "font": {
           "color": "white"
          },
          "showarrow": false,
          "text": "21.5 - 133",
          "x": 4,
          "xref": "x",
          "y": 1,
          "yref": "y"
         },
         {
          "font": {
           "color": "white"
          },
          "showarrow": false,
          "text": "0.1 - 1",
          "x": 0,
          "xref": "x",
          "y": 2,
          "yref": "y"
         },
         {
          "font": {
           "color": "white"
          },
          "showarrow": false,
          "text": "21.4 - 173",
          "x": 1,
          "xref": "x",
          "y": 2,
          "yref": "y"
         },
         {
          "font": {
           "color": "white"
          },
          "showarrow": false,
          "text": "38.5 - 311",
          "x": 2,
          "xref": "x",
          "y": 2,
          "yref": "y"
         },
         {
          "font": {
           "color": "white"
          },
          "showarrow": false,
          "text": "11.2 - 90",
          "x": 3,
          "xref": "x",
          "y": 2,
          "yref": "y"
         },
         {
          "font": {
           "color": "white"
          },
          "showarrow": false,
          "text": "28.7 - 232",
          "x": 4,
          "xref": "x",
          "y": 2,
          "yref": "y"
         },
         {
          "font": {
           "color": "white"
          },
          "showarrow": false,
          "text": "0.5 - 3",
          "x": 0,
          "xref": "x",
          "y": 3,
          "yref": "y"
         },
         {
          "font": {
           "color": "white"
          },
          "showarrow": false,
          "text": "16.9 - 110",
          "x": 1,
          "xref": "x",
          "y": 3,
          "yref": "y"
         },
         {
          "font": {
           "color": "white"
          },
          "showarrow": false,
          "text": "33.6 - 219",
          "x": 2,
          "xref": "x",
          "y": 3,
          "yref": "y"
         },
         {
          "font": {
           "color": "white"
          },
          "showarrow": false,
          "text": "19.3 - 126",
          "x": 3,
          "xref": "x",
          "y": 3,
          "yref": "y"
         },
         {
          "font": {
           "color": "white"
          },
          "showarrow": false,
          "text": "29.8 - 194",
          "x": 4,
          "xref": "x",
          "y": 3,
          "yref": "y"
         },
         {
          "font": {
           "color": "white"
          },
          "showarrow": false,
          "text": "0.1 - 1",
          "x": 0,
          "xref": "x",
          "y": 4,
          "yref": "y"
         },
         {
          "font": {
           "color": "white"
          },
          "showarrow": false,
          "text": "9.0 - 76",
          "x": 1,
          "xref": "x",
          "y": 4,
          "yref": "y"
         },
         {
          "font": {
           "color": "white"
          },
          "showarrow": false,
          "text": "21.8 - 183",
          "x": 2,
          "xref": "x",
          "y": 4,
          "yref": "y"
         },
         {
          "font": {
           "color": "white"
          },
          "showarrow": false,
          "text": "6.2 - 52",
          "x": 3,
          "xref": "x",
          "y": 4,
          "yref": "y"
         },
         {
          "font": {
           "color": "white"
          },
          "showarrow": false,
          "text": "62.9 - 528",
          "x": 4,
          "xref": "x",
          "y": 4,
          "yref": "y"
         }
        ],
        "height": 800,
        "template": {
         "data": {
          "bar": [
           {
            "error_x": {
             "color": "#2a3f5f"
            },
            "error_y": {
             "color": "#2a3f5f"
            },
            "marker": {
             "line": {
              "color": "#E5ECF6",
              "width": 0.5
             },
             "pattern": {
              "fillmode": "overlay",
              "size": 10,
              "solidity": 0.2
             }
            },
            "type": "bar"
           }
          ],
          "barpolar": [
           {
            "marker": {
             "line": {
              "color": "#E5ECF6",
              "width": 0.5
             },
             "pattern": {
              "fillmode": "overlay",
              "size": 10,
              "solidity": 0.2
             }
            },
            "type": "barpolar"
           }
          ],
          "carpet": [
           {
            "aaxis": {
             "endlinecolor": "#2a3f5f",
             "gridcolor": "white",
             "linecolor": "white",
             "minorgridcolor": "white",
             "startlinecolor": "#2a3f5f"
            },
            "baxis": {
             "endlinecolor": "#2a3f5f",
             "gridcolor": "white",
             "linecolor": "white",
             "minorgridcolor": "white",
             "startlinecolor": "#2a3f5f"
            },
            "type": "carpet"
           }
          ],
          "choropleth": [
           {
            "colorbar": {
             "outlinewidth": 0,
             "ticks": ""
            },
            "type": "choropleth"
           }
          ],
          "contour": [
           {
            "colorbar": {
             "outlinewidth": 0,
             "ticks": ""
            },
            "colorscale": [
             [
              0,
              "#0d0887"
             ],
             [
              0.1111111111111111,
              "#46039f"
             ],
             [
              0.2222222222222222,
              "#7201a8"
             ],
             [
              0.3333333333333333,
              "#9c179e"
             ],
             [
              0.4444444444444444,
              "#bd3786"
             ],
             [
              0.5555555555555556,
              "#d8576b"
             ],
             [
              0.6666666666666666,
              "#ed7953"
             ],
             [
              0.7777777777777778,
              "#fb9f3a"
             ],
             [
              0.8888888888888888,
              "#fdca26"
             ],
             [
              1,
              "#f0f921"
             ]
            ],
            "type": "contour"
           }
          ],
          "contourcarpet": [
           {
            "colorbar": {
             "outlinewidth": 0,
             "ticks": ""
            },
            "type": "contourcarpet"
           }
          ],
          "heatmap": [
           {
            "colorbar": {
             "outlinewidth": 0,
             "ticks": ""
            },
            "colorscale": [
             [
              0,
              "#0d0887"
             ],
             [
              0.1111111111111111,
              "#46039f"
             ],
             [
              0.2222222222222222,
              "#7201a8"
             ],
             [
              0.3333333333333333,
              "#9c179e"
             ],
             [
              0.4444444444444444,
              "#bd3786"
             ],
             [
              0.5555555555555556,
              "#d8576b"
             ],
             [
              0.6666666666666666,
              "#ed7953"
             ],
             [
              0.7777777777777778,
              "#fb9f3a"
             ],
             [
              0.8888888888888888,
              "#fdca26"
             ],
             [
              1,
              "#f0f921"
             ]
            ],
            "type": "heatmap"
           }
          ],
          "histogram": [
           {
            "marker": {
             "pattern": {
              "fillmode": "overlay",
              "size": 10,
              "solidity": 0.2
             }
            },
            "type": "histogram"
           }
          ],
          "histogram2d": [
           {
            "colorbar": {
             "outlinewidth": 0,
             "ticks": ""
            },
            "colorscale": [
             [
              0,
              "#0d0887"
             ],
             [
              0.1111111111111111,
              "#46039f"
             ],
             [
              0.2222222222222222,
              "#7201a8"
             ],
             [
              0.3333333333333333,
              "#9c179e"
             ],
             [
              0.4444444444444444,
              "#bd3786"
             ],
             [
              0.5555555555555556,
              "#d8576b"
             ],
             [
              0.6666666666666666,
              "#ed7953"
             ],
             [
              0.7777777777777778,
              "#fb9f3a"
             ],
             [
              0.8888888888888888,
              "#fdca26"
             ],
             [
              1,
              "#f0f921"
             ]
            ],
            "type": "histogram2d"
           }
          ],
          "histogram2dcontour": [
           {
            "colorbar": {
             "outlinewidth": 0,
             "ticks": ""
            },
            "colorscale": [
             [
              0,
              "#0d0887"
             ],
             [
              0.1111111111111111,
              "#46039f"
             ],
             [
              0.2222222222222222,
              "#7201a8"
             ],
             [
              0.3333333333333333,
              "#9c179e"
             ],
             [
              0.4444444444444444,
              "#bd3786"
             ],
             [
              0.5555555555555556,
              "#d8576b"
             ],
             [
              0.6666666666666666,
              "#ed7953"
             ],
             [
              0.7777777777777778,
              "#fb9f3a"
             ],
             [
              0.8888888888888888,
              "#fdca26"
             ],
             [
              1,
              "#f0f921"
             ]
            ],
            "type": "histogram2dcontour"
           }
          ],
          "mesh3d": [
           {
            "colorbar": {
             "outlinewidth": 0,
             "ticks": ""
            },
            "type": "mesh3d"
           }
          ],
          "parcoords": [
           {
            "line": {
             "colorbar": {
              "outlinewidth": 0,
              "ticks": ""
             }
            },
            "type": "parcoords"
           }
          ],
          "pie": [
           {
            "automargin": true,
            "type": "pie"
           }
          ],
          "scatter": [
           {
            "fillpattern": {
             "fillmode": "overlay",
             "size": 10,
             "solidity": 0.2
            },
            "type": "scatter"
           }
          ],
          "scatter3d": [
           {
            "line": {
             "colorbar": {
              "outlinewidth": 0,
              "ticks": ""
             }
            },
            "marker": {
             "colorbar": {
              "outlinewidth": 0,
              "ticks": ""
             }
            },
            "type": "scatter3d"
           }
          ],
          "scattercarpet": [
           {
            "marker": {
             "colorbar": {
              "outlinewidth": 0,
              "ticks": ""
             }
            },
            "type": "scattercarpet"
           }
          ],
          "scattergeo": [
           {
            "marker": {
             "colorbar": {
              "outlinewidth": 0,
              "ticks": ""
             }
            },
            "type": "scattergeo"
           }
          ],
          "scattergl": [
           {
            "marker": {
             "colorbar": {
              "outlinewidth": 0,
              "ticks": ""
             }
            },
            "type": "scattergl"
           }
          ],
          "scattermap": [
           {
            "marker": {
             "colorbar": {
              "outlinewidth": 0,
              "ticks": ""
             }
            },
            "type": "scattermap"
           }
          ],
          "scattermapbox": [
           {
            "marker": {
             "colorbar": {
              "outlinewidth": 0,
              "ticks": ""
             }
            },
            "type": "scattermapbox"
           }
          ],
          "scatterpolar": [
           {
            "marker": {
             "colorbar": {
              "outlinewidth": 0,
              "ticks": ""
             }
            },
            "type": "scatterpolar"
           }
          ],
          "scatterpolargl": [
           {
            "marker": {
             "colorbar": {
              "outlinewidth": 0,
              "ticks": ""
             }
            },
            "type": "scatterpolargl"
           }
          ],
          "scatterternary": [
           {
            "marker": {
             "colorbar": {
              "outlinewidth": 0,
              "ticks": ""
             }
            },
            "type": "scatterternary"
           }
          ],
          "surface": [
           {
            "colorbar": {
             "outlinewidth": 0,
             "ticks": ""
            },
            "colorscale": [
             [
              0,
              "#0d0887"
             ],
             [
              0.1111111111111111,
              "#46039f"
             ],
             [
              0.2222222222222222,
              "#7201a8"
             ],
             [
              0.3333333333333333,
              "#9c179e"
             ],
             [
              0.4444444444444444,
              "#bd3786"
             ],
             [
              0.5555555555555556,
              "#d8576b"
             ],
             [
              0.6666666666666666,
              "#ed7953"
             ],
             [
              0.7777777777777778,
              "#fb9f3a"
             ],
             [
              0.8888888888888888,
              "#fdca26"
             ],
             [
              1,
              "#f0f921"
             ]
            ],
            "type": "surface"
           }
          ],
          "table": [
           {
            "cells": {
             "fill": {
              "color": "#EBF0F8"
             },
             "line": {
              "color": "white"
             }
            },
            "header": {
             "fill": {
              "color": "#C8D4E3"
             },
             "line": {
              "color": "white"
             }
            },
            "type": "table"
           }
          ]
         },
         "layout": {
          "annotationdefaults": {
           "arrowcolor": "#2a3f5f",
           "arrowhead": 0,
           "arrowwidth": 1
          },
          "autotypenumbers": "strict",
          "coloraxis": {
           "colorbar": {
            "outlinewidth": 0,
            "ticks": ""
           }
          },
          "colorscale": {
           "diverging": [
            [
             0,
             "#8e0152"
            ],
            [
             0.1,
             "#c51b7d"
            ],
            [
             0.2,
             "#de77ae"
            ],
            [
             0.3,
             "#f1b6da"
            ],
            [
             0.4,
             "#fde0ef"
            ],
            [
             0.5,
             "#f7f7f7"
            ],
            [
             0.6,
             "#e6f5d0"
            ],
            [
             0.7,
             "#b8e186"
            ],
            [
             0.8,
             "#7fbc41"
            ],
            [
             0.9,
             "#4d9221"
            ],
            [
             1,
             "#276419"
            ]
           ],
           "sequential": [
            [
             0,
             "#0d0887"
            ],
            [
             0.1111111111111111,
             "#46039f"
            ],
            [
             0.2222222222222222,
             "#7201a8"
            ],
            [
             0.3333333333333333,
             "#9c179e"
            ],
            [
             0.4444444444444444,
             "#bd3786"
            ],
            [
             0.5555555555555556,
             "#d8576b"
            ],
            [
             0.6666666666666666,
             "#ed7953"
            ],
            [
             0.7777777777777778,
             "#fb9f3a"
            ],
            [
             0.8888888888888888,
             "#fdca26"
            ],
            [
             1,
             "#f0f921"
            ]
           ],
           "sequentialminus": [
            [
             0,
             "#0d0887"
            ],
            [
             0.1111111111111111,
             "#46039f"
            ],
            [
             0.2222222222222222,
             "#7201a8"
            ],
            [
             0.3333333333333333,
             "#9c179e"
            ],
            [
             0.4444444444444444,
             "#bd3786"
            ],
            [
             0.5555555555555556,
             "#d8576b"
            ],
            [
             0.6666666666666666,
             "#ed7953"
            ],
            [
             0.7777777777777778,
             "#fb9f3a"
            ],
            [
             0.8888888888888888,
             "#fdca26"
            ],
            [
             1,
             "#f0f921"
            ]
           ]
          },
          "colorway": [
           "#636efa",
           "#EF553B",
           "#00cc96",
           "#ab63fa",
           "#FFA15A",
           "#19d3f3",
           "#FF6692",
           "#B6E880",
           "#FF97FF",
           "#FECB52"
          ],
          "font": {
           "color": "#2a3f5f"
          },
          "geo": {
           "bgcolor": "white",
           "lakecolor": "white",
           "landcolor": "#E5ECF6",
           "showlakes": true,
           "showland": true,
           "subunitcolor": "white"
          },
          "hoverlabel": {
           "align": "left"
          },
          "hovermode": "closest",
          "mapbox": {
           "style": "light"
          },
          "paper_bgcolor": "white",
          "plot_bgcolor": "#E5ECF6",
          "polar": {
           "angularaxis": {
            "gridcolor": "white",
            "linecolor": "white",
            "ticks": ""
           },
           "bgcolor": "#E5ECF6",
           "radialaxis": {
            "gridcolor": "white",
            "linecolor": "white",
            "ticks": ""
           }
          },
          "scene": {
           "xaxis": {
            "backgroundcolor": "#E5ECF6",
            "gridcolor": "white",
            "gridwidth": 2,
            "linecolor": "white",
            "showbackground": true,
            "ticks": "",
            "zerolinecolor": "white"
           },
           "yaxis": {
            "backgroundcolor": "#E5ECF6",
            "gridcolor": "white",
            "gridwidth": 2,
            "linecolor": "white",
            "showbackground": true,
            "ticks": "",
            "zerolinecolor": "white"
           },
           "zaxis": {
            "backgroundcolor": "#E5ECF6",
            "gridcolor": "white",
            "gridwidth": 2,
            "linecolor": "white",
            "showbackground": true,
            "ticks": "",
            "zerolinecolor": "white"
           }
          },
          "shapedefaults": {
           "line": {
            "color": "#2a3f5f"
           }
          },
          "ternary": {
           "aaxis": {
            "gridcolor": "white",
            "linecolor": "white",
            "ticks": ""
           },
           "baxis": {
            "gridcolor": "white",
            "linecolor": "white",
            "ticks": ""
           },
           "bgcolor": "#E5ECF6",
           "caxis": {
            "gridcolor": "white",
            "linecolor": "white",
            "ticks": ""
           }
          },
          "title": {
           "x": 0.05
          },
          "xaxis": {
           "automargin": true,
           "gridcolor": "white",
           "linecolor": "white",
           "ticks": "",
           "title": {
            "standoff": 15
           },
           "zerolinecolor": "white",
           "zerolinewidth": 2
          },
          "yaxis": {
           "automargin": true,
           "gridcolor": "white",
           "linecolor": "white",
           "ticks": "",
           "title": {
            "standoff": 15
           },
           "zerolinecolor": "white",
           "zerolinewidth": 2
          }
         }
        },
        "title": {
         "text": "Conf Matrix"
        },
        "width": 800,
        "xaxis": {
         "title": {
          "text": "Predicted value"
         }
        },
        "yaxis": {
         "title": {
          "text": "Real value"
         }
        }
       }
      }
     },
     "metadata": {},
     "output_type": "display_data"
    },
    {
     "data": {
      "text/plain": [
       "{'kappa': np.float64(0.33093403829656054),\n",
       " 'accuracy': 0.3914638212737579,\n",
       " 'balanced_accuracy': np.float64(0.32177012028422647)}"
      ]
     },
     "execution_count": 14,
     "metadata": {},
     "output_type": "execute_result"
    }
   ],
   "source": [
    "#MAtriz de confusion y Kappa dfe OVA\n",
    "y_pred = lgb_model.predict(X_test).argmax(axis=1)\n",
    "\n",
    "display(plot_confusion_matrix(y_test,y_pred))\n",
    "\n",
    "{'kappa':cohen_kappa_score(y_test,\n",
    "                y_pred,\n",
    "                weights = 'quadratic'),\n",
    " 'accuracy':accuracy_score(y_test,y_pred),\n",
    " 'balanced_accuracy':balanced_accuracy_score(y_test,y_pred)}\n",
    "\n",
    "\n"
   ]
  },
  {
   "cell_type": "markdown",
   "metadata": {},
   "source": [
    "## Optimizacion de hiperparametros modelo train/test"
   ]
  },
  {
   "cell_type": "code",
   "execution_count": 15,
   "metadata": {},
   "outputs": [],
   "source": [
    "\n",
    "#Funcion que vamos a optimizar. Optuna requiere que usemos el objeto trial para generar los parametros a optimizar\n",
    "def lgb_objective(trial):\n",
    "    #PArametros para LightGBM\n",
    "    lgb_params = {      \n",
    "                        #PArametros fijos\n",
    "                        'objective': 'multiclass',\n",
    "                        'verbosity':-1,\n",
    "                        'num_class': len(y_train.unique()),\n",
    "                        #Hiperparametros a optimizar utilizando suggest_float o suggest_int segun el tipo de dato\n",
    "                        #Se indica el nombre del parametro, valor minimo, valor maximo \n",
    "                        #en elgunos casos el parametro log=True para parametros que requieren buscar en esa escala\n",
    "                        'lambda_l1': trial.suggest_float('lambda_l1', 1e-8, 10.0, log=True),\n",
    "                        'lambda_l2': trial.suggest_float('lambda_l2', 1e-8, 10.0, log=True),\n",
    "                        'num_leaves': trial.suggest_int('num_leaves', 2, 256),\n",
    "                        'feature_fraction': trial.suggest_float('feature_fraction', 0.4, 1.0),\n",
    "                        'bagging_fraction': trial.suggest_float('bagging_fraction', 0.4, 1.0),\n",
    "                        'bagging_freq': trial.suggest_int('bagging_freq', 1, 7),\n",
    "                        'min_child_samples': trial.suggest_int('min_child_samples', 5, 100),\n",
    "                        } \n",
    "\n",
    "    #Genero objeto dataset de entrenamiento\n",
    "    lgb_train_dataset = lgb.Dataset(data=X_train,\n",
    "                                    label=y_train)\n",
    "\n",
    "    #ajuste de modelo\n",
    "    lgb_model = lgb.train(lgb_params,\n",
    "                        lgb_train_dataset)\n",
    "    \n",
    "    #Devuelvo el score en test\n",
    "    return(cohen_kappa_score(y_test,lgb_model.predict(X_test).argmax(axis=1),\n",
    "                             weights = 'quadratic'))"
   ]
  },
  {
   "cell_type": "code",
   "execution_count": 16,
   "metadata": {},
   "outputs": [
    {
     "name": "stderr",
     "output_type": "stream",
     "text": [
      "[I 2025-04-29 20:46:27,654] A new study created in RDB with name: 13 - LGB Multiclass_base\n",
      "[I 2025-04-29 20:46:30,122] Trial 0 finished with value: 0.29383730156628785 and parameters: {'lambda_l1': 0.0007826639163975967, 'lambda_l2': 0.07994147096843791, 'num_leaves': 216, 'feature_fraction': 0.6922611139197573, 'bagging_fraction': 0.8769617129415865, 'bagging_freq': 7, 'min_child_samples': 24}. Best is trial 0 with value: 0.29383730156628785.\n",
      "[I 2025-04-29 20:46:32,830] Trial 1 finished with value: 0.2875353484124792 and parameters: {'lambda_l1': 0.0053773533897479246, 'lambda_l2': 0.31594612350325896, 'num_leaves': 168, 'feature_fraction': 0.8072438718324255, 'bagging_fraction': 0.5324839047506243, 'bagging_freq': 3, 'min_child_samples': 14}. Best is trial 0 with value: 0.29383730156628785.\n",
      "[I 2025-04-29 20:46:34,632] Trial 2 finished with value: 0.3229218768265114 and parameters: {'lambda_l1': 0.007830754774699982, 'lambda_l2': 0.07797457647590929, 'num_leaves': 125, 'feature_fraction': 0.5184320676657788, 'bagging_fraction': 0.822799223753036, 'bagging_freq': 5, 'min_child_samples': 21}. Best is trial 2 with value: 0.3229218768265114.\n",
      "[I 2025-04-29 20:46:34,815] Trial 3 finished with value: 0.2753393922432157 and parameters: {'lambda_l1': 0.008158573735477258, 'lambda_l2': 0.5467850826452667, 'num_leaves': 2, 'feature_fraction': 0.5817953139055534, 'bagging_fraction': 0.4113292934348606, 'bagging_freq': 3, 'min_child_samples': 99}. Best is trial 2 with value: 0.3229218768265114.\n",
      "[I 2025-04-29 20:46:36,293] Trial 4 finished with value: 0.31548504364887664 and parameters: {'lambda_l1': 2.5212055243752423e-07, 'lambda_l2': 0.0007681255293275646, 'num_leaves': 151, 'feature_fraction': 0.41394735932487253, 'bagging_fraction': 0.7000219432864302, 'bagging_freq': 1, 'min_child_samples': 32}. Best is trial 2 with value: 0.3229218768265114.\n",
      "[I 2025-04-29 20:46:37,273] Trial 5 finished with value: 0.3171265609000731 and parameters: {'lambda_l1': 3.220915581152215, 'lambda_l2': 0.10088732305019314, 'num_leaves': 165, 'feature_fraction': 0.47500822931242015, 'bagging_fraction': 0.9502525740470866, 'bagging_freq': 2, 'min_child_samples': 15}. Best is trial 2 with value: 0.3229218768265114.\n",
      "[I 2025-04-29 20:46:38,542] Trial 6 finished with value: 0.3153687899926758 and parameters: {'lambda_l1': 0.0008136737432311702, 'lambda_l2': 4.847100305885494e-05, 'num_leaves': 131, 'feature_fraction': 0.45003731136954145, 'bagging_fraction': 0.6567351217646478, 'bagging_freq': 1, 'min_child_samples': 45}. Best is trial 2 with value: 0.3229218768265114.\n",
      "[I 2025-04-29 20:46:39,954] Trial 7 finished with value: 0.3036257145563257 and parameters: {'lambda_l1': 4.947926817588119e-07, 'lambda_l2': 0.12575503989269532, 'num_leaves': 141, 'feature_fraction': 0.9450596042063831, 'bagging_fraction': 0.5196690816227014, 'bagging_freq': 3, 'min_child_samples': 27}. Best is trial 2 with value: 0.3229218768265114.\n",
      "[I 2025-04-29 20:46:41,911] Trial 8 finished with value: 0.3034280312433192 and parameters: {'lambda_l1': 0.0001352008633432593, 'lambda_l2': 1.501055510610151e-06, 'num_leaves': 210, 'feature_fraction': 0.685069589295244, 'bagging_fraction': 0.6576514494053511, 'bagging_freq': 5, 'min_child_samples': 11}. Best is trial 2 with value: 0.3229218768265114.\n",
      "[I 2025-04-29 20:46:42,250] Trial 9 finished with value: 0.32534116145505054 and parameters: {'lambda_l1': 1.0976383330628488e-05, 'lambda_l2': 3.1402239665412565e-08, 'num_leaves': 12, 'feature_fraction': 0.7498385413509818, 'bagging_fraction': 0.8606562275959011, 'bagging_freq': 4, 'min_child_samples': 40}. Best is trial 9 with value: 0.32534116145505054.\n",
      "[I 2025-04-29 20:46:42,805] Trial 10 finished with value: 0.3206005231060872 and parameters: {'lambda_l1': 1.2151806816684878e-08, 'lambda_l2': 1.3518827716719954e-08, 'num_leaves': 29, 'feature_fraction': 0.838486430072647, 'bagging_fraction': 0.9934003422880598, 'bagging_freq': 7, 'min_child_samples': 78}. Best is trial 9 with value: 0.32534116145505054.\n",
      "[I 2025-04-29 20:46:43,750] Trial 11 finished with value: 0.3075442678645335 and parameters: {'lambda_l1': 1.3364330999466623e-05, 'lambda_l2': 0.0006033298539662499, 'num_leaves': 71, 'feature_fraction': 0.5973733786224866, 'bagging_fraction': 0.8060337656532234, 'bagging_freq': 5, 'min_child_samples': 54}. Best is trial 9 with value: 0.32534116145505054.\n",
      "[I 2025-04-29 20:46:44,777] Trial 12 finished with value: 0.30766141905344035 and parameters: {'lambda_l1': 0.38399650933666774, 'lambda_l2': 8.06755541661847, 'num_leaves': 80, 'feature_fraction': 0.799371992398162, 'bagging_fraction': 0.8015745322509719, 'bagging_freq': 5, 'min_child_samples': 50}. Best is trial 9 with value: 0.32534116145505054.\n",
      "[I 2025-04-29 20:46:45,876] Trial 13 finished with value: 0.3060478855101767 and parameters: {'lambda_l1': 0.10424952594959948, 'lambda_l2': 1.2305827136603967e-08, 'num_leaves': 85, 'feature_fraction': 0.5716105798200332, 'bagging_fraction': 0.8459886018530874, 'bagging_freq': 6, 'min_child_samples': 66}. Best is trial 9 with value: 0.32534116145505054.\n",
      "[I 2025-04-29 20:46:47,641] Trial 14 finished with value: 0.29811806242909267 and parameters: {'lambda_l1': 1.303561449662912e-05, 'lambda_l2': 1.3568706342352734e-06, 'num_leaves': 255, 'feature_fraction': 0.9118000544522555, 'bagging_fraction': 0.747684457267437, 'bagging_freq': 4, 'min_child_samples': 38}. Best is trial 9 with value: 0.32534116145505054.\n",
      "[I 2025-04-29 20:46:48,464] Trial 15 finished with value: 0.3075147802993642 and parameters: {'lambda_l1': 1.9307247182860413e-05, 'lambda_l2': 0.0049929203638502066, 'num_leaves': 57, 'feature_fraction': 0.7364999540718753, 'bagging_fraction': 0.932179808697552, 'bagging_freq': 4, 'min_child_samples': 59}. Best is trial 9 with value: 0.32534116145505054.\n",
      "[I 2025-04-29 20:46:49,783] Trial 16 finished with value: 0.33188122030609646 and parameters: {'lambda_l1': 0.029049545943357073, 'lambda_l2': 1.1776985523044209e-05, 'num_leaves': 111, 'feature_fraction': 0.5198273881180904, 'bagging_fraction': 0.8830730620843829, 'bagging_freq': 6, 'min_child_samples': 6}. Best is trial 16 with value: 0.33188122030609646.\n",
      "[I 2025-04-29 20:46:51,103] Trial 17 finished with value: 0.3195058849577118 and parameters: {'lambda_l1': 0.17607619842415062, 'lambda_l2': 3.855450399816519e-07, 'num_leaves': 106, 'feature_fraction': 0.6406927676243844, 'bagging_fraction': 0.9024434291032202, 'bagging_freq': 6, 'min_child_samples': 5}. Best is trial 16 with value: 0.33188122030609646.\n",
      "[I 2025-04-29 20:46:51,700] Trial 18 finished with value: 0.31395819231232025 and parameters: {'lambda_l1': 4.4567461221431346e-07, 'lambda_l2': 1.984275865968953e-05, 'num_leaves': 36, 'feature_fraction': 0.7539006569642688, 'bagging_fraction': 0.7425145583475562, 'bagging_freq': 6, 'min_child_samples': 77}. Best is trial 16 with value: 0.33188122030609646.\n",
      "[I 2025-04-29 20:46:51,965] Trial 19 finished with value: 0.3141080510366313 and parameters: {'lambda_l1': 9.66125031494537, 'lambda_l2': 2.0855304295873433e-07, 'num_leaves': 5, 'feature_fraction': 0.8905266287796113, 'bagging_fraction': 0.9958265402591353, 'bagging_freq': 4, 'min_child_samples': 36}. Best is trial 16 with value: 0.33188122030609646.\n",
      "[I 2025-04-29 20:46:52,611] Trial 20 finished with value: 0.30293987895884467 and parameters: {'lambda_l1': 9.130234506644636e-05, 'lambda_l2': 2.047580286043756e-05, 'num_leaves': 38, 'feature_fraction': 0.518521873292651, 'bagging_fraction': 0.8807546716679044, 'bagging_freq': 2, 'min_child_samples': 70}. Best is trial 16 with value: 0.33188122030609646.\n",
      "[I 2025-04-29 20:46:54,003] Trial 21 finished with value: 0.3037128481054264 and parameters: {'lambda_l1': 0.013680410850508062, 'lambda_l2': 0.007540227475767628, 'num_leaves': 108, 'feature_fraction': 0.5223950555743364, 'bagging_fraction': 0.8131831907194944, 'bagging_freq': 5, 'min_child_samples': 21}. Best is trial 16 with value: 0.33188122030609646.\n",
      "[I 2025-04-29 20:46:55,482] Trial 22 finished with value: 0.3177739978749776 and parameters: {'lambda_l1': 0.05967406023364132, 'lambda_l2': 0.00012377047592519047, 'num_leaves': 107, 'feature_fraction': 0.6425700960564596, 'bagging_fraction': 0.7700132321307853, 'bagging_freq': 6, 'min_child_samples': 20}. Best is trial 16 with value: 0.33188122030609646.\n",
      "[I 2025-04-29 20:46:57,642] Trial 23 finished with value: 0.316595665429085 and parameters: {'lambda_l1': 0.0019467649081251486, 'lambda_l2': 4.930581235607441e-06, 'num_leaves': 192, 'feature_fraction': 0.4931098258644004, 'bagging_fraction': 0.8569612210976025, 'bagging_freq': 4, 'min_child_samples': 6}. Best is trial 16 with value: 0.33188122030609646.\n",
      "[I 2025-04-29 20:46:58,794] Trial 24 finished with value: 0.3194547361685528 and parameters: {'lambda_l1': 1.1043300333320787, 'lambda_l2': 5.470657201622119e-08, 'num_leaves': 121, 'feature_fraction': 0.40776864152304154, 'bagging_fraction': 0.935437370597503, 'bagging_freq': 7, 'min_child_samples': 39}. Best is trial 16 with value: 0.33188122030609646.\n",
      "[I 2025-04-29 20:46:59,971] Trial 25 finished with value: 0.3069772219635606 and parameters: {'lambda_l1': 0.024166658510932, 'lambda_l2': 0.005430145524494646, 'num_leaves': 91, 'feature_fraction': 0.557579102255806, 'bagging_fraction': 0.8347908924351971, 'bagging_freq': 5, 'min_child_samples': 29}. Best is trial 16 with value: 0.33188122030609646.\n",
      "[I 2025-04-29 20:47:01,584] Trial 26 finished with value: 0.3181528714959494 and parameters: {'lambda_l1': 4.0514373879815994e-06, 'lambda_l2': 2.271698474261186, 'num_leaves': 180, 'feature_fraction': 0.6371753003268101, 'bagging_fraction': 0.9100924773751314, 'bagging_freq': 6, 'min_child_samples': 43}. Best is trial 16 with value: 0.33188122030609646.\n",
      "[I 2025-04-29 20:47:02,497] Trial 27 finished with value: 0.3176597058592262 and parameters: {'lambda_l1': 0.00010909270870508315, 'lambda_l2': 1.4872495456581266e-07, 'num_leaves': 63, 'feature_fraction': 0.7447450714116403, 'bagging_fraction': 0.7021898742243192, 'bagging_freq': 4, 'min_child_samples': 19}. Best is trial 16 with value: 0.33188122030609646.\n",
      "[I 2025-04-29 20:47:03,236] Trial 28 finished with value: 0.31666342842003004 and parameters: {'lambda_l1': 0.0016086225202288377, 'lambda_l2': 0.020161043084350468, 'num_leaves': 49, 'feature_fraction': 0.5267354854459967, 'bagging_fraction': 0.775801040272041, 'bagging_freq': 5, 'min_child_samples': 11}. Best is trial 16 with value: 0.33188122030609646.\n",
      "[I 2025-04-29 20:47:05,357] Trial 29 finished with value: 0.31030301408365113 and parameters: {'lambda_l1': 2.092258828609072e-06, 'lambda_l2': 0.0011153485296851054, 'num_leaves': 212, 'feature_fraction': 0.9994716050510205, 'bagging_fraction': 0.8672599526980361, 'bagging_freq': 7, 'min_child_samples': 28}. Best is trial 16 with value: 0.33188122030609646.\n",
      "[I 2025-04-29 20:47:06,855] Trial 30 finished with value: 0.30147579375954414 and parameters: {'lambda_l1': 0.0003634684217812353, 'lambda_l2': 8.410604605706625e-06, 'num_leaves': 150, 'feature_fraction': 0.7086159515767466, 'bagging_fraction': 0.6476950429259475, 'bagging_freq': 3, 'min_child_samples': 24}. Best is trial 16 with value: 0.33188122030609646.\n",
      "[I 2025-04-29 20:47:07,286] Trial 31 finished with value: 0.31150911121773806 and parameters: {'lambda_l1': 1.6620224217901526e-08, 'lambda_l2': 1.5777900317729783e-08, 'num_leaves': 20, 'feature_fraction': 0.8206868513280986, 'bagging_fraction': 0.9749393317922581, 'bagging_freq': 7, 'min_child_samples': 83}. Best is trial 16 with value: 0.33188122030609646.\n",
      "[I 2025-04-29 20:47:07,808] Trial 32 finished with value: 0.31232821547776635 and parameters: {'lambda_l1': 2.789127615582543e-08, 'lambda_l2': 3.065780049237324e-08, 'num_leaves': 26, 'feature_fraction': 0.8263191297057645, 'bagging_fraction': 0.9946701439246918, 'bagging_freq': 7, 'min_child_samples': 98}. Best is trial 16 with value: 0.33188122030609646.\n",
      "[I 2025-04-29 20:47:08,200] Trial 33 finished with value: 0.32391678135375224 and parameters: {'lambda_l1': 0.004384410063207421, 'lambda_l2': 9.239845655167263e-08, 'num_leaves': 17, 'feature_fraction': 0.8584673925337244, 'bagging_fraction': 0.9546073635055033, 'bagging_freq': 6, 'min_child_samples': 91}. Best is trial 16 with value: 0.33188122030609646.\n",
      "[I 2025-04-29 20:47:08,508] Trial 34 finished with value: 0.3099856281856881 and parameters: {'lambda_l1': 0.004341681410858359, 'lambda_l2': 8.686264400349095e-07, 'num_leaves': 10, 'feature_fraction': 0.6900961222845011, 'bagging_fraction': 0.8968597987497301, 'bagging_freq': 6, 'min_child_samples': 93}. Best is trial 16 with value: 0.33188122030609646.\n",
      "[I 2025-04-29 20:47:10,253] Trial 35 finished with value: 0.30925016231401425 and parameters: {'lambda_l1': 0.022429892580612783, 'lambda_l2': 7.617615562595207e-08, 'num_leaves': 163, 'feature_fraction': 0.7768938276102432, 'bagging_fraction': 0.9424938410641251, 'bagging_freq': 5, 'min_child_samples': 16}. Best is trial 16 with value: 0.33188122030609646.\n",
      "[I 2025-04-29 20:47:11,635] Trial 36 finished with value: 0.2991980423253289 and parameters: {'lambda_l1': 0.002961864684131197, 'lambda_l2': 0.00012475672613608804, 'num_leaves': 242, 'feature_fraction': 0.4487324248016288, 'bagging_fraction': 0.5825641371788138, 'bagging_freq': 6, 'min_child_samples': 33}. Best is trial 16 with value: 0.33188122030609646.\n",
      "[I 2025-04-29 20:47:12,377] Trial 37 finished with value: 0.3118237149819295 and parameters: {'lambda_l1': 0.00044578972778305337, 'lambda_l2': 4.296400472697212e-06, 'num_leaves': 49, 'feature_fraction': 0.8566800415669431, 'bagging_fraction': 0.834725437374054, 'bagging_freq': 3, 'min_child_samples': 89}. Best is trial 16 with value: 0.33188122030609646.\n",
      "[I 2025-04-29 20:47:13,654] Trial 38 finished with value: 0.2872860206481995 and parameters: {'lambda_l1': 0.4739285314690919, 'lambda_l2': 0.4554810150133644, 'num_leaves': 123, 'feature_fraction': 0.8886542011212172, 'bagging_fraction': 0.42469107877339385, 'bagging_freq': 5, 'min_child_samples': 11}. Best is trial 16 with value: 0.33188122030609646.\n",
      "[I 2025-04-29 20:47:15,067] Trial 39 finished with value: 0.3090928969047636 and parameters: {'lambda_l1': 0.008200784015839483, 'lambda_l2': 4.524004953944969e-07, 'num_leaves': 138, 'feature_fraction': 0.46587476010262535, 'bagging_fraction': 0.9531875130507774, 'bagging_freq': 6, 'min_child_samples': 47}. Best is trial 16 with value: 0.33188122030609646.\n",
      "[I 2025-04-29 20:47:15,520] Trial 40 finished with value: 0.3284021681589604 and parameters: {'lambda_l1': 0.042802899683596934, 'lambda_l2': 0.035921260972386, 'num_leaves': 20, 'feature_fraction': 0.9599210347077425, 'bagging_fraction': 0.909751804102833, 'bagging_freq': 2, 'min_child_samples': 60}. Best is trial 16 with value: 0.33188122030609646.\n",
      "[I 2025-04-29 20:47:15,895] Trial 41 finished with value: 0.31102891673048716 and parameters: {'lambda_l1': 0.05464009380457704, 'lambda_l2': 0.041908914680644296, 'num_leaves': 14, 'feature_fraction': 0.9736188688581318, 'bagging_fraction': 0.9129669483164538, 'bagging_freq': 2, 'min_child_samples': 58}. Best is trial 16 with value: 0.33188122030609646.\n",
      "[I 2025-04-29 20:47:16,106] Trial 42 finished with value: 0.30692524871088833 and parameters: {'lambda_l1': 0.001385256187579901, 'lambda_l2': 0.11114538761959197, 'num_leaves': 3, 'feature_fraction': 0.9354432217192302, 'bagging_fraction': 0.887991931265613, 'bagging_freq': 2, 'min_child_samples': 65}. Best is trial 16 with value: 0.33188122030609646.\n",
      "[I 2025-04-29 20:47:16,705] Trial 43 finished with value: 0.3220080046182394 and parameters: {'lambda_l1': 0.032286702610323695, 'lambda_l2': 2.0696787276243214, 'num_leaves': 42, 'feature_fraction': 0.8721900429855698, 'bagging_fraction': 0.9700128004911498, 'bagging_freq': 1, 'min_child_samples': 76}. Best is trial 16 with value: 0.33188122030609646.\n",
      "[I 2025-04-29 20:47:17,226] Trial 44 finished with value: 0.3105787679409826 and parameters: {'lambda_l1': 0.008242163708533654, 'lambda_l2': 0.001678414526995455, 'num_leaves': 28, 'feature_fraction': 0.6001723818354581, 'bagging_fraction': 0.862636124451395, 'bagging_freq': 5, 'min_child_samples': 85}. Best is trial 16 with value: 0.33188122030609646.\n",
      "[I 2025-04-29 20:47:18,125] Trial 45 finished with value: 0.31137445843361256 and parameters: {'lambda_l1': 0.16382568208834786, 'lambda_l2': 0.025437734278646252, 'num_leaves': 74, 'feature_fraction': 0.9323601739797903, 'bagging_fraction': 0.809454812291842, 'bagging_freq': 1, 'min_child_samples': 54}. Best is trial 16 with value: 0.33188122030609646.\n",
      "[I 2025-04-29 20:47:19,278] Trial 46 finished with value: 0.30488074046005265 and parameters: {'lambda_l1': 3.155378562949366e-05, 'lambda_l2': 0.1829418886099213, 'num_leaves': 98, 'feature_fraction': 0.7910163923426019, 'bagging_fraction': 0.9667037191058571, 'bagging_freq': 2, 'min_child_samples': 41}. Best is trial 16 with value: 0.33188122030609646.\n",
      "[I 2025-04-29 20:47:19,659] Trial 47 finished with value: 0.3200778818313247 and parameters: {'lambda_l1': 1.1302456345997425, 'lambda_l2': 0.00041138177792197743, 'num_leaves': 17, 'feature_fraction': 0.8485915594173546, 'bagging_fraction': 0.9206589142236016, 'bagging_freq': 4, 'min_child_samples': 50}. Best is trial 16 with value: 0.33188122030609646.\n",
      "[I 2025-04-29 20:47:20,420] Trial 48 finished with value: 0.3198366967778511 and parameters: {'lambda_l1': 0.0007103986835505437, 'lambda_l2': 2.0257118516839624e-06, 'num_leaves': 61, 'feature_fraction': 0.9586160025524544, 'bagging_fraction': 0.8286330768299472, 'bagging_freq': 6, 'min_child_samples': 9}. Best is trial 16 with value: 0.33188122030609646.\n",
      "[I 2025-04-29 20:47:21,102] Trial 49 finished with value: 0.3207865986692576 and parameters: {'lambda_l1': 0.004539670214788119, 'lambda_l2': 8.451693210962688e-08, 'num_leaves': 50, 'feature_fraction': 0.6653883940640901, 'bagging_fraction': 0.7874342947746562, 'bagging_freq': 3, 'min_child_samples': 34}. Best is trial 16 with value: 0.33188122030609646.\n"
     ]
    }
   ],
   "source": [
    "#Defino el estudio a optimizar\n",
    "study = optuna.create_study(direction='maximize', #buscamos maximizar la metrica\n",
    "                            storage=\"sqlite:///../work/db.sqlite3\",  # Specify the storage URL here.\n",
    "                            study_name=\"13 - LGB Multiclass_base\", #nombre del experimento\n",
    "                            load_if_exists=True) #continuar si ya existe\n",
    "\n",
    "#Corremos 100 trials para buscar mejores parametros\n",
    "study.optimize(lgb_objective, n_trials=50)"
   ]
  },
  {
   "cell_type": "code",
   "execution_count": 17,
   "metadata": {},
   "outputs": [
    {
     "data": {
      "text/plain": [
       "{'lambda_l1': 0.029049545943357073,\n",
       " 'lambda_l2': 1.1776985523044209e-05,\n",
       " 'num_leaves': 111,\n",
       " 'feature_fraction': 0.5198273881180904,\n",
       " 'bagging_fraction': 0.8830730620843829,\n",
       " 'bagging_freq': 6,\n",
       " 'min_child_samples': 6}"
      ]
     },
     "execution_count": 17,
     "metadata": {},
     "output_type": "execute_result"
    }
   ],
   "source": [
    "#Obtenemos mejor resultado\n",
    "study.best_params"
   ]
  },
  {
   "cell_type": "code",
   "execution_count": 18,
   "metadata": {},
   "outputs": [
    {
     "data": {
      "application/vnd.plotly.v1+json": {
       "config": {
        "plotlyServerURL": "https://plot.ly"
       },
       "data": [
        {
         "type": "heatmap",
         "x": {
          "bdata": "AAECAwQ=",
          "dtype": "i1"
         },
         "y": {
          "bdata": "AAECAwQ=",
          "dtype": "i1"
         },
         "z": {
          "bdata": "g/MxOB+DI0Agg/MxOB9EQJyPwfkYnDlARO1K1K5EHUATtStRuxIxQA4wbu9DtuQ/W4oVDhNlQUA79Xh2zehAQM+uGX3lnydA7LfaGJruMkCZSSgX8bi/P79TSIQJTjZA+gYGy4CGQkCzgvx8mr8sQKg0FrZuJTpAsDCrUcSh4z/wbf4KsxowQB4vtgTf5j9Ab/NXmNUoN0D8FWY1ijg8QJ/neZ7nec4/VVVVVVVVJ0Dbtm3btu0yQLdt27Zt2yFA53me53keTkA=",
          "dtype": "f8",
          "shape": "5, 5"
         }
        }
       ],
       "layout": {
        "annotations": [
         {
          "font": {
           "color": "white"
          },
          "showarrow": false,
          "text": "9.8 - 8",
          "x": 0,
          "xref": "x",
          "y": 0,
          "yref": "y"
         },
         {
          "font": {
           "color": "white"
          },
          "showarrow": false,
          "text": "40.2 - 33",
          "x": 1,
          "xref": "x",
          "y": 0,
          "yref": "y"
         },
         {
          "font": {
           "color": "white"
          },
          "showarrow": false,
          "text": "25.6 - 21",
          "x": 2,
          "xref": "x",
          "y": 0,
          "yref": "y"
         },
         {
          "font": {
           "color": "white"
          },
          "showarrow": false,
          "text": "7.3 - 6",
          "x": 3,
          "xref": "x",
          "y": 0,
          "yref": "y"
         },
         {
          "font": {
           "color": "white"
          },
          "showarrow": false,
          "text": "17.1 - 14",
          "x": 4,
          "xref": "x",
          "y": 0,
          "yref": "y"
         },
         {
          "font": {
           "color": "white"
          },
          "showarrow": false,
          "text": "0.6 - 4",
          "x": 0,
          "xref": "x",
          "y": 1,
          "yref": "y"
         },
         {
          "font": {
           "color": "white"
          },
          "showarrow": false,
          "text": "34.8 - 215",
          "x": 1,
          "xref": "x",
          "y": 1,
          "yref": "y"
         },
         {
          "font": {
           "color": "white"
          },
          "showarrow": false,
          "text": "33.8 - 209",
          "x": 2,
          "xref": "x",
          "y": 1,
          "yref": "y"
         },
         {
          "font": {
           "color": "white"
          },
          "showarrow": false,
          "text": "11.8 - 73",
          "x": 3,
          "xref": "x",
          "y": 1,
          "yref": "y"
         },
         {
          "font": {
           "color": "white"
          },
          "showarrow": false,
          "text": "18.9 - 117",
          "x": 4,
          "xref": "x",
          "y": 1,
          "yref": "y"
         },
         {
          "font": {
           "color": "white"
          },
          "showarrow": false,
          "text": "0.1 - 1",
          "x": 0,
          "xref": "x",
          "y": 2,
          "yref": "y"
         },
         {
          "font": {
           "color": "white"
          },
          "showarrow": false,
          "text": "22.3 - 180",
          "x": 1,
          "xref": "x",
          "y": 2,
          "yref": "y"
         },
         {
          "font": {
           "color": "white"
          },
          "showarrow": false,
          "text": "37.1 - 299",
          "x": 2,
          "xref": "x",
          "y": 2,
          "yref": "y"
         },
         {
          "font": {
           "color": "white"
          },
          "showarrow": false,
          "text": "14.4 - 116",
          "x": 3,
          "xref": "x",
          "y": 2,
          "yref": "y"
         },
         {
          "font": {
           "color": "white"
          },
          "showarrow": false,
          "text": "26.1 - 211",
          "x": 4,
          "xref": "x",
          "y": 2,
          "yref": "y"
         },
         {
          "font": {
           "color": "white"
          },
          "showarrow": false,
          "text": "0.6 - 4",
          "x": 0,
          "xref": "x",
          "y": 3,
          "yref": "y"
         },
         {
          "font": {
           "color": "white"
          },
          "showarrow": false,
          "text": "16.1 - 105",
          "x": 1,
          "xref": "x",
          "y": 3,
          "yref": "y"
         },
         {
          "font": {
           "color": "white"
          },
          "showarrow": false,
          "text": "31.9 - 208",
          "x": 2,
          "xref": "x",
          "y": 3,
          "yref": "y"
         },
         {
          "font": {
           "color": "white"
          },
          "showarrow": false,
          "text": "23.2 - 151",
          "x": 3,
          "xref": "x",
          "y": 3,
          "yref": "y"
         },
         {
          "font": {
           "color": "white"
          },
          "showarrow": false,
          "text": "28.2 - 184",
          "x": 4,
          "xref": "x",
          "y": 3,
          "yref": "y"
         },
         {
          "font": {
           "color": "white"
          },
          "showarrow": false,
          "text": "0.2 - 2",
          "x": 0,
          "xref": "x",
          "y": 4,
          "yref": "y"
         },
         {
          "font": {
           "color": "white"
          },
          "showarrow": false,
          "text": "11.7 - 98",
          "x": 1,
          "xref": "x",
          "y": 4,
          "yref": "y"
         },
         {
          "font": {
           "color": "white"
          },
          "showarrow": false,
          "text": "18.9 - 159",
          "x": 2,
          "xref": "x",
          "y": 4,
          "yref": "y"
         },
         {
          "font": {
           "color": "white"
          },
          "showarrow": false,
          "text": "8.9 - 75",
          "x": 3,
          "xref": "x",
          "y": 4,
          "yref": "y"
         },
         {
          "font": {
           "color": "white"
          },
          "showarrow": false,
          "text": "60.2 - 506",
          "x": 4,
          "xref": "x",
          "y": 4,
          "yref": "y"
         }
        ],
        "height": 800,
        "template": {
         "data": {
          "bar": [
           {
            "error_x": {
             "color": "#2a3f5f"
            },
            "error_y": {
             "color": "#2a3f5f"
            },
            "marker": {
             "line": {
              "color": "#E5ECF6",
              "width": 0.5
             },
             "pattern": {
              "fillmode": "overlay",
              "size": 10,
              "solidity": 0.2
             }
            },
            "type": "bar"
           }
          ],
          "barpolar": [
           {
            "marker": {
             "line": {
              "color": "#E5ECF6",
              "width": 0.5
             },
             "pattern": {
              "fillmode": "overlay",
              "size": 10,
              "solidity": 0.2
             }
            },
            "type": "barpolar"
           }
          ],
          "carpet": [
           {
            "aaxis": {
             "endlinecolor": "#2a3f5f",
             "gridcolor": "white",
             "linecolor": "white",
             "minorgridcolor": "white",
             "startlinecolor": "#2a3f5f"
            },
            "baxis": {
             "endlinecolor": "#2a3f5f",
             "gridcolor": "white",
             "linecolor": "white",
             "minorgridcolor": "white",
             "startlinecolor": "#2a3f5f"
            },
            "type": "carpet"
           }
          ],
          "choropleth": [
           {
            "colorbar": {
             "outlinewidth": 0,
             "ticks": ""
            },
            "type": "choropleth"
           }
          ],
          "contour": [
           {
            "colorbar": {
             "outlinewidth": 0,
             "ticks": ""
            },
            "colorscale": [
             [
              0,
              "#0d0887"
             ],
             [
              0.1111111111111111,
              "#46039f"
             ],
             [
              0.2222222222222222,
              "#7201a8"
             ],
             [
              0.3333333333333333,
              "#9c179e"
             ],
             [
              0.4444444444444444,
              "#bd3786"
             ],
             [
              0.5555555555555556,
              "#d8576b"
             ],
             [
              0.6666666666666666,
              "#ed7953"
             ],
             [
              0.7777777777777778,
              "#fb9f3a"
             ],
             [
              0.8888888888888888,
              "#fdca26"
             ],
             [
              1,
              "#f0f921"
             ]
            ],
            "type": "contour"
           }
          ],
          "contourcarpet": [
           {
            "colorbar": {
             "outlinewidth": 0,
             "ticks": ""
            },
            "type": "contourcarpet"
           }
          ],
          "heatmap": [
           {
            "colorbar": {
             "outlinewidth": 0,
             "ticks": ""
            },
            "colorscale": [
             [
              0,
              "#0d0887"
             ],
             [
              0.1111111111111111,
              "#46039f"
             ],
             [
              0.2222222222222222,
              "#7201a8"
             ],
             [
              0.3333333333333333,
              "#9c179e"
             ],
             [
              0.4444444444444444,
              "#bd3786"
             ],
             [
              0.5555555555555556,
              "#d8576b"
             ],
             [
              0.6666666666666666,
              "#ed7953"
             ],
             [
              0.7777777777777778,
              "#fb9f3a"
             ],
             [
              0.8888888888888888,
              "#fdca26"
             ],
             [
              1,
              "#f0f921"
             ]
            ],
            "type": "heatmap"
           }
          ],
          "histogram": [
           {
            "marker": {
             "pattern": {
              "fillmode": "overlay",
              "size": 10,
              "solidity": 0.2
             }
            },
            "type": "histogram"
           }
          ],
          "histogram2d": [
           {
            "colorbar": {
             "outlinewidth": 0,
             "ticks": ""
            },
            "colorscale": [
             [
              0,
              "#0d0887"
             ],
             [
              0.1111111111111111,
              "#46039f"
             ],
             [
              0.2222222222222222,
              "#7201a8"
             ],
             [
              0.3333333333333333,
              "#9c179e"
             ],
             [
              0.4444444444444444,
              "#bd3786"
             ],
             [
              0.5555555555555556,
              "#d8576b"
             ],
             [
              0.6666666666666666,
              "#ed7953"
             ],
             [
              0.7777777777777778,
              "#fb9f3a"
             ],
             [
              0.8888888888888888,
              "#fdca26"
             ],
             [
              1,
              "#f0f921"
             ]
            ],
            "type": "histogram2d"
           }
          ],
          "histogram2dcontour": [
           {
            "colorbar": {
             "outlinewidth": 0,
             "ticks": ""
            },
            "colorscale": [
             [
              0,
              "#0d0887"
             ],
             [
              0.1111111111111111,
              "#46039f"
             ],
             [
              0.2222222222222222,
              "#7201a8"
             ],
             [
              0.3333333333333333,
              "#9c179e"
             ],
             [
              0.4444444444444444,
              "#bd3786"
             ],
             [
              0.5555555555555556,
              "#d8576b"
             ],
             [
              0.6666666666666666,
              "#ed7953"
             ],
             [
              0.7777777777777778,
              "#fb9f3a"
             ],
             [
              0.8888888888888888,
              "#fdca26"
             ],
             [
              1,
              "#f0f921"
             ]
            ],
            "type": "histogram2dcontour"
           }
          ],
          "mesh3d": [
           {
            "colorbar": {
             "outlinewidth": 0,
             "ticks": ""
            },
            "type": "mesh3d"
           }
          ],
          "parcoords": [
           {
            "line": {
             "colorbar": {
              "outlinewidth": 0,
              "ticks": ""
             }
            },
            "type": "parcoords"
           }
          ],
          "pie": [
           {
            "automargin": true,
            "type": "pie"
           }
          ],
          "scatter": [
           {
            "fillpattern": {
             "fillmode": "overlay",
             "size": 10,
             "solidity": 0.2
            },
            "type": "scatter"
           }
          ],
          "scatter3d": [
           {
            "line": {
             "colorbar": {
              "outlinewidth": 0,
              "ticks": ""
             }
            },
            "marker": {
             "colorbar": {
              "outlinewidth": 0,
              "ticks": ""
             }
            },
            "type": "scatter3d"
           }
          ],
          "scattercarpet": [
           {
            "marker": {
             "colorbar": {
              "outlinewidth": 0,
              "ticks": ""
             }
            },
            "type": "scattercarpet"
           }
          ],
          "scattergeo": [
           {
            "marker": {
             "colorbar": {
              "outlinewidth": 0,
              "ticks": ""
             }
            },
            "type": "scattergeo"
           }
          ],
          "scattergl": [
           {
            "marker": {
             "colorbar": {
              "outlinewidth": 0,
              "ticks": ""
             }
            },
            "type": "scattergl"
           }
          ],
          "scattermap": [
           {
            "marker": {
             "colorbar": {
              "outlinewidth": 0,
              "ticks": ""
             }
            },
            "type": "scattermap"
           }
          ],
          "scattermapbox": [
           {
            "marker": {
             "colorbar": {
              "outlinewidth": 0,
              "ticks": ""
             }
            },
            "type": "scattermapbox"
           }
          ],
          "scatterpolar": [
           {
            "marker": {
             "colorbar": {
              "outlinewidth": 0,
              "ticks": ""
             }
            },
            "type": "scatterpolar"
           }
          ],
          "scatterpolargl": [
           {
            "marker": {
             "colorbar": {
              "outlinewidth": 0,
              "ticks": ""
             }
            },
            "type": "scatterpolargl"
           }
          ],
          "scatterternary": [
           {
            "marker": {
             "colorbar": {
              "outlinewidth": 0,
              "ticks": ""
             }
            },
            "type": "scatterternary"
           }
          ],
          "surface": [
           {
            "colorbar": {
             "outlinewidth": 0,
             "ticks": ""
            },
            "colorscale": [
             [
              0,
              "#0d0887"
             ],
             [
              0.1111111111111111,
              "#46039f"
             ],
             [
              0.2222222222222222,
              "#7201a8"
             ],
             [
              0.3333333333333333,
              "#9c179e"
             ],
             [
              0.4444444444444444,
              "#bd3786"
             ],
             [
              0.5555555555555556,
              "#d8576b"
             ],
             [
              0.6666666666666666,
              "#ed7953"
             ],
             [
              0.7777777777777778,
              "#fb9f3a"
             ],
             [
              0.8888888888888888,
              "#fdca26"
             ],
             [
              1,
              "#f0f921"
             ]
            ],
            "type": "surface"
           }
          ],
          "table": [
           {
            "cells": {
             "fill": {
              "color": "#EBF0F8"
             },
             "line": {
              "color": "white"
             }
            },
            "header": {
             "fill": {
              "color": "#C8D4E3"
             },
             "line": {
              "color": "white"
             }
            },
            "type": "table"
           }
          ]
         },
         "layout": {
          "annotationdefaults": {
           "arrowcolor": "#2a3f5f",
           "arrowhead": 0,
           "arrowwidth": 1
          },
          "autotypenumbers": "strict",
          "coloraxis": {
           "colorbar": {
            "outlinewidth": 0,
            "ticks": ""
           }
          },
          "colorscale": {
           "diverging": [
            [
             0,
             "#8e0152"
            ],
            [
             0.1,
             "#c51b7d"
            ],
            [
             0.2,
             "#de77ae"
            ],
            [
             0.3,
             "#f1b6da"
            ],
            [
             0.4,
             "#fde0ef"
            ],
            [
             0.5,
             "#f7f7f7"
            ],
            [
             0.6,
             "#e6f5d0"
            ],
            [
             0.7,
             "#b8e186"
            ],
            [
             0.8,
             "#7fbc41"
            ],
            [
             0.9,
             "#4d9221"
            ],
            [
             1,
             "#276419"
            ]
           ],
           "sequential": [
            [
             0,
             "#0d0887"
            ],
            [
             0.1111111111111111,
             "#46039f"
            ],
            [
             0.2222222222222222,
             "#7201a8"
            ],
            [
             0.3333333333333333,
             "#9c179e"
            ],
            [
             0.4444444444444444,
             "#bd3786"
            ],
            [
             0.5555555555555556,
             "#d8576b"
            ],
            [
             0.6666666666666666,
             "#ed7953"
            ],
            [
             0.7777777777777778,
             "#fb9f3a"
            ],
            [
             0.8888888888888888,
             "#fdca26"
            ],
            [
             1,
             "#f0f921"
            ]
           ],
           "sequentialminus": [
            [
             0,
             "#0d0887"
            ],
            [
             0.1111111111111111,
             "#46039f"
            ],
            [
             0.2222222222222222,
             "#7201a8"
            ],
            [
             0.3333333333333333,
             "#9c179e"
            ],
            [
             0.4444444444444444,
             "#bd3786"
            ],
            [
             0.5555555555555556,
             "#d8576b"
            ],
            [
             0.6666666666666666,
             "#ed7953"
            ],
            [
             0.7777777777777778,
             "#fb9f3a"
            ],
            [
             0.8888888888888888,
             "#fdca26"
            ],
            [
             1,
             "#f0f921"
            ]
           ]
          },
          "colorway": [
           "#636efa",
           "#EF553B",
           "#00cc96",
           "#ab63fa",
           "#FFA15A",
           "#19d3f3",
           "#FF6692",
           "#B6E880",
           "#FF97FF",
           "#FECB52"
          ],
          "font": {
           "color": "#2a3f5f"
          },
          "geo": {
           "bgcolor": "white",
           "lakecolor": "white",
           "landcolor": "#E5ECF6",
           "showlakes": true,
           "showland": true,
           "subunitcolor": "white"
          },
          "hoverlabel": {
           "align": "left"
          },
          "hovermode": "closest",
          "mapbox": {
           "style": "light"
          },
          "paper_bgcolor": "white",
          "plot_bgcolor": "#E5ECF6",
          "polar": {
           "angularaxis": {
            "gridcolor": "white",
            "linecolor": "white",
            "ticks": ""
           },
           "bgcolor": "#E5ECF6",
           "radialaxis": {
            "gridcolor": "white",
            "linecolor": "white",
            "ticks": ""
           }
          },
          "scene": {
           "xaxis": {
            "backgroundcolor": "#E5ECF6",
            "gridcolor": "white",
            "gridwidth": 2,
            "linecolor": "white",
            "showbackground": true,
            "ticks": "",
            "zerolinecolor": "white"
           },
           "yaxis": {
            "backgroundcolor": "#E5ECF6",
            "gridcolor": "white",
            "gridwidth": 2,
            "linecolor": "white",
            "showbackground": true,
            "ticks": "",
            "zerolinecolor": "white"
           },
           "zaxis": {
            "backgroundcolor": "#E5ECF6",
            "gridcolor": "white",
            "gridwidth": 2,
            "linecolor": "white",
            "showbackground": true,
            "ticks": "",
            "zerolinecolor": "white"
           }
          },
          "shapedefaults": {
           "line": {
            "color": "#2a3f5f"
           }
          },
          "ternary": {
           "aaxis": {
            "gridcolor": "white",
            "linecolor": "white",
            "ticks": ""
           },
           "baxis": {
            "gridcolor": "white",
            "linecolor": "white",
            "ticks": ""
           },
           "bgcolor": "#E5ECF6",
           "caxis": {
            "gridcolor": "white",
            "linecolor": "white",
            "ticks": ""
           }
          },
          "title": {
           "x": 0.05
          },
          "xaxis": {
           "automargin": true,
           "gridcolor": "white",
           "linecolor": "white",
           "ticks": "",
           "title": {
            "standoff": 15
           },
           "zerolinecolor": "white",
           "zerolinewidth": 2
          },
          "yaxis": {
           "automargin": true,
           "gridcolor": "white",
           "linecolor": "white",
           "ticks": "",
           "title": {
            "standoff": 15
           },
           "zerolinecolor": "white",
           "zerolinewidth": 2
          }
         }
        },
        "title": {
         "text": "Conf Matrix"
        },
        "width": 800,
        "xaxis": {
         "title": {
          "text": "Predicted value"
         }
        },
        "yaxis": {
         "title": {
          "text": "Real value"
         }
        }
       }
      }
     },
     "metadata": {},
     "output_type": "display_data"
    },
    {
     "data": {
      "text/plain": [
       "np.float64(0.33188122030609646)"
      ]
     },
     "execution_count": 18,
     "metadata": {},
     "output_type": "execute_result"
    }
   ],
   "source": [
    "#Vamos a replicar el resultado de la optimizacion reentrenando el modelo con el mejor conjunto de hiperparametros\n",
    "#Generamos parametros incluyendo los fijos y la mejor solución que encontro optuna\n",
    "lgb_params =  {      \n",
    "                        'objective': 'multiclass',\n",
    "                        'verbosity':-1,\n",
    "                        'num_class': len(y_train.unique())} | study.best_params\n",
    "\n",
    "lgb_train_dataset = lgb.Dataset(data=X_train,\n",
    "                                label=y_train)\n",
    "\n",
    "\n",
    "#Entreno\n",
    "lgb_model = lgb.train(lgb_params,\n",
    "                    lgb_train_dataset)\n",
    "\n",
    "#Muestro matriz de confusion y kappa\n",
    "display(plot_confusion_matrix(y_test,lgb_model.predict(X_test).argmax(axis=1)))\n",
    "\n",
    "cohen_kappa_score(y_test,lgb_model.predict(X_test).argmax(axis=1),\n",
    "                             weights = 'quadratic')\n"
   ]
  },
  {
   "cell_type": "markdown",
   "metadata": {},
   "source": [
    "## Modelo con cross validation y conjunto de test"
   ]
  },
  {
   "cell_type": "code",
   "execution_count": 19,
   "metadata": {},
   "outputs": [],
   "source": [
    "#Genero una metrica para que lightGBM haga la evaluación y pueda hacer early_stopping en el cross validation\n",
    "def lgb_custom_metric_kappa(dy_pred, dy_true):\n",
    "    metric_name = 'kappa'\n",
    "    value = cohen_kappa_score(dy_true.get_label(),dy_pred.argmax(axis=1),weights = 'quadratic')\n",
    "    is_higher_better = True\n",
    "    return(metric_name, value, is_higher_better)\n",
    "\n",
    "#Funcion objetivo a optimizar. En este caso vamos a hacer 5fold cv sobre el conjunto de train. \n",
    "# El score de CV es el objetivo a optimizar. Ademas vamos a usar los 5 modelos del CV para estimar el conjunto de test,\n",
    "# registraremos en optuna las predicciones, matriz de confusion y el score en test.\n",
    "# CV Score -> Se usa para determinar el rendimiento de los hiperparametros con precision \n",
    "# Test Score -> Nos permite testear que esta todo OK, no use (ni debo usar) esos datos para nada en el entrenamiento \n",
    "# o la optimizacion de hiperparametros\n",
    "\n",
    "def cv_es_lgb_objective(trial):\n",
    "\n",
    "    #PArametros para LightGBM\n",
    "    lgb_params = {      \n",
    "                        #PArametros fijos\n",
    "                        'objective': 'multiclass',\n",
    "                        'verbosity':-1,\n",
    "                        'num_class': len(y_train.unique()),\n",
    "                        #Hiperparametros a optimizar utilizando suggest_float o suggest_int segun el tipo de dato\n",
    "                        #Se indica el nombre del parametro, valor minimo, valor maximo \n",
    "                        #en elgunos casos el parametro log=True para parametros que requieren buscar en esa escala\n",
    "                        'lambda_l1': trial.suggest_float('lambda_l1', 1e-8, 10.0, log=True),\n",
    "                        'lambda_l2': trial.suggest_float('lambda_l2', 1e-8, 10.0, log=True),\n",
    "                        'num_leaves': trial.suggest_int('num_leaves', 2, 256),\n",
    "                        'feature_fraction': trial.suggest_float('feature_fraction', 0.4, 1.0),\n",
    "                        'bagging_fraction': trial.suggest_float('bagging_fraction', 0.4, 1.0),\n",
    "                        'bagging_freq': trial.suggest_int('bagging_freq', 1, 7),\n",
    "                        'min_child_samples': trial.suggest_int('min_child_samples', 5, 100),\n",
    "                        } \n",
    "\n",
    "    #Voy a generar estimaciones de los 5 modelos del CV sobre los datos test y los acumulo en la matriz scores_ensemble\n",
    "    scores_ensemble = np.zeros((len(y_test),len(y_train.unique())))\n",
    "\n",
    "    #Score del 5 fold CV inicializado en 0\n",
    "    score_folds = 0\n",
    "\n",
    "    #Numero de splits del CV\n",
    "    n_splits = 5\n",
    "\n",
    "    #Objeto para hacer el split estratificado de CV\n",
    "    skf = StratifiedKFold(n_splits=n_splits)\n",
    "\n",
    "    for i, (if_index, oof_index) in enumerate(skf.split(X_train, y_train)):\n",
    "        \n",
    "        #Dataset in fold (donde entreno) \n",
    "        lgb_if_dataset = lgb.Dataset(data=X_train.iloc[if_index],\n",
    "                                        label=y_train.iloc[if_index],\n",
    "                                        free_raw_data=False)\n",
    "        \n",
    "        #Dataset Out of fold (donde mido la performance del CV)\n",
    "        lgb_oof_dataset = lgb.Dataset(data=X_train.iloc[oof_index],\n",
    "                                        label=y_train.iloc[oof_index],\n",
    "                                        free_raw_data=False)\n",
    "\n",
    "        #Entreno el modelo\n",
    "        lgb_model = lgb.train(lgb_params,\n",
    "                                lgb_if_dataset,\n",
    "                                valid_sets=lgb_oof_dataset,\n",
    "                                callbacks=[lgb.early_stopping(10, verbose=False)],\n",
    "                                feval = lgb_custom_metric_kappa\n",
    "                                )\n",
    "        \n",
    "        #Acumulo los scores (probabilidades) de cada clase para cada uno de los modelos que determino en los folds\n",
    "        #Se predice el 20% de los datos que separe para tes y no uso para entrenar en ningun fold\n",
    "        scores_ensemble = scores_ensemble + lgb_model.predict(X_test)\n",
    "        \n",
    "        #Score del fold (registros de dataset train que en este fold quedan out of fold)\n",
    "        score_folds = score_folds + cohen_kappa_score(y_train.iloc[oof_index], \n",
    "                                                            lgb_model.predict(X_train.iloc[oof_index]).argmax(axis=1),weights = 'quadratic')/n_splits\n",
    "\n",
    "\n",
    "    #Guardo prediccion del trial sobre el conjunto de test\n",
    "    # Genero nombre de archivo\n",
    "    predicted_filename = os.path.join(PATH_TO_TEMP_FILES,f'test_{trial.study.study_name}_{trial.number}.joblib')\n",
    "    # Copia del dataset para guardar la prediccion\n",
    "    predicted_df = test.copy()\n",
    "    # Genero columna pred con predicciones sumadas de los 5 folds\n",
    "    predicted_df['pred'] = [scores_ensemble[p,:] for p in range(scores_ensemble.shape[0])]\n",
    "    # Grabo dataframe en temp_artifacts\n",
    "    dump(predicted_df, predicted_filename)\n",
    "    # Indico a optuna que asocie el archivo generado al trial\n",
    "    upload_artifact(trial, predicted_filename, artifact_store)    \n",
    "\n",
    "    #Grabo natriz de confusion\n",
    "    #Nombre de archivo\n",
    "    cm_filename = os.path.join(PATH_TO_TEMP_FILES,f'cm_{trial.study.study_name}_{trial.number}.jpg')\n",
    "    #Grabo archivo\n",
    "    plot_confusion_matrix(y_test,scores_ensemble.argmax(axis=1)).write_image(cm_filename)\n",
    "    #Asocio al trial\n",
    "    upload_artifact(trial, cm_filename, artifact_store)\n",
    "\n",
    "    #Determino score en conjunto de test y asocio como metrica adicional en optuna\n",
    "    test_score = cohen_kappa_score(y_test,scores_ensemble.argmax(axis=1),weights = 'quadratic')\n",
    "    trial.set_user_attr(\"test_score\", test_score)\n",
    "\n",
    "    #Devuelvo score del 5fold cv a optuna para que optimice en base a eso\n",
    "    return(score_folds)"
   ]
  },
  {
   "cell_type": "code",
   "execution_count": 20,
   "metadata": {},
   "outputs": [
    {
     "name": "stderr",
     "output_type": "stream",
     "text": [
      "[I 2025-04-29 20:47:22,415] A new study created in RDB with name: 13 - LGB Multiclass CV_base\n",
      "C:\\Users\\TrendingPc\\AppData\\Local\\Temp\\ipykernel_24276\\4150719641.py:86: FutureWarning:\n",
      "\n",
      "upload_artifact() got {'file_path', 'artifact_store', 'study_or_trial'} as positional arguments but they were expected to be given as keyword arguments.\n",
      "\n",
      "C:\\Users\\TrendingPc\\AppData\\Local\\Temp\\ipykernel_24276\\4150719641.py:94: FutureWarning:\n",
      "\n",
      "upload_artifact() got {'file_path', 'artifact_store', 'study_or_trial'} as positional arguments but they were expected to be given as keyword arguments.\n",
      "\n",
      "[I 2025-04-29 20:47:26,502] Trial 0 finished with value: 0.34708935512547234 and parameters: {'lambda_l1': 0.4561996360894324, 'lambda_l2': 0.01658343991844092, 'num_leaves': 180, 'feature_fraction': 0.7754115507268948, 'bagging_fraction': 0.8635039355645779, 'bagging_freq': 6, 'min_child_samples': 68}. Best is trial 0 with value: 0.34708935512547234.\n",
      "C:\\Users\\TrendingPc\\AppData\\Local\\Temp\\ipykernel_24276\\4150719641.py:86: FutureWarning:\n",
      "\n",
      "upload_artifact() got {'file_path', 'artifact_store', 'study_or_trial'} as positional arguments but they were expected to be given as keyword arguments.\n",
      "\n",
      "C:\\Users\\TrendingPc\\AppData\\Local\\Temp\\ipykernel_24276\\4150719641.py:94: FutureWarning:\n",
      "\n",
      "upload_artifact() got {'file_path', 'artifact_store', 'study_or_trial'} as positional arguments but they were expected to be given as keyword arguments.\n",
      "\n",
      "[I 2025-04-29 20:47:30,199] Trial 1 finished with value: 0.3546421618002242 and parameters: {'lambda_l1': 1.5864145264627771, 'lambda_l2': 0.004793166776297356, 'num_leaves': 39, 'feature_fraction': 0.5757388150587149, 'bagging_fraction': 0.9921529621890339, 'bagging_freq': 4, 'min_child_samples': 46}. Best is trial 1 with value: 0.3546421618002242.\n",
      "C:\\Users\\TrendingPc\\AppData\\Local\\Temp\\ipykernel_24276\\4150719641.py:86: FutureWarning:\n",
      "\n",
      "upload_artifact() got {'file_path', 'artifact_store', 'study_or_trial'} as positional arguments but they were expected to be given as keyword arguments.\n",
      "\n",
      "C:\\Users\\TrendingPc\\AppData\\Local\\Temp\\ipykernel_24276\\4150719641.py:94: FutureWarning:\n",
      "\n",
      "upload_artifact() got {'file_path', 'artifact_store', 'study_or_trial'} as positional arguments but they were expected to be given as keyword arguments.\n",
      "\n",
      "[I 2025-04-29 20:47:33,853] Trial 2 finished with value: 0.3499495169489959 and parameters: {'lambda_l1': 0.10289189279822936, 'lambda_l2': 0.06282991348240384, 'num_leaves': 136, 'feature_fraction': 0.5275671000314907, 'bagging_fraction': 0.6364305688057116, 'bagging_freq': 7, 'min_child_samples': 34}. Best is trial 1 with value: 0.3546421618002242.\n",
      "C:\\Users\\TrendingPc\\AppData\\Local\\Temp\\ipykernel_24276\\4150719641.py:86: FutureWarning:\n",
      "\n",
      "upload_artifact() got {'file_path', 'artifact_store', 'study_or_trial'} as positional arguments but they were expected to be given as keyword arguments.\n",
      "\n",
      "C:\\Users\\TrendingPc\\AppData\\Local\\Temp\\ipykernel_24276\\4150719641.py:94: FutureWarning:\n",
      "\n",
      "upload_artifact() got {'file_path', 'artifact_store', 'study_or_trial'} as positional arguments but they were expected to be given as keyword arguments.\n",
      "\n",
      "[I 2025-04-29 20:47:39,003] Trial 3 finished with value: 0.34489487872295005 and parameters: {'lambda_l1': 0.9106361245376429, 'lambda_l2': 0.0007429373303550447, 'num_leaves': 178, 'feature_fraction': 0.4806848695701484, 'bagging_fraction': 0.424482367093267, 'bagging_freq': 3, 'min_child_samples': 15}. Best is trial 1 with value: 0.3546421618002242.\n",
      "C:\\Users\\TrendingPc\\AppData\\Local\\Temp\\ipykernel_24276\\4150719641.py:86: FutureWarning:\n",
      "\n",
      "upload_artifact() got {'file_path', 'artifact_store', 'study_or_trial'} as positional arguments but they were expected to be given as keyword arguments.\n",
      "\n",
      "C:\\Users\\TrendingPc\\AppData\\Local\\Temp\\ipykernel_24276\\4150719641.py:94: FutureWarning:\n",
      "\n",
      "upload_artifact() got {'file_path', 'artifact_store', 'study_or_trial'} as positional arguments but they were expected to be given as keyword arguments.\n",
      "\n",
      "[I 2025-04-29 20:47:42,709] Trial 4 finished with value: 0.3538851355198783 and parameters: {'lambda_l1': 1.568564141706792e-05, 'lambda_l2': 3.1371009545448447, 'num_leaves': 160, 'feature_fraction': 0.6169325640633134, 'bagging_fraction': 0.9932798751851966, 'bagging_freq': 3, 'min_child_samples': 77}. Best is trial 1 with value: 0.3546421618002242.\n",
      "C:\\Users\\TrendingPc\\AppData\\Local\\Temp\\ipykernel_24276\\4150719641.py:86: FutureWarning:\n",
      "\n",
      "upload_artifact() got {'file_path', 'artifact_store', 'study_or_trial'} as positional arguments but they were expected to be given as keyword arguments.\n",
      "\n",
      "C:\\Users\\TrendingPc\\AppData\\Local\\Temp\\ipykernel_24276\\4150719641.py:94: FutureWarning:\n",
      "\n",
      "upload_artifact() got {'file_path', 'artifact_store', 'study_or_trial'} as positional arguments but they were expected to be given as keyword arguments.\n",
      "\n",
      "[I 2025-04-29 20:47:46,461] Trial 5 finished with value: 0.35762427447845146 and parameters: {'lambda_l1': 1.7896827461987404e-05, 'lambda_l2': 0.00025179595732793245, 'num_leaves': 120, 'feature_fraction': 0.5484306020243466, 'bagging_fraction': 0.854881581651743, 'bagging_freq': 3, 'min_child_samples': 80}. Best is trial 5 with value: 0.35762427447845146.\n",
      "C:\\Users\\TrendingPc\\AppData\\Local\\Temp\\ipykernel_24276\\4150719641.py:86: FutureWarning:\n",
      "\n",
      "upload_artifact() got {'file_path', 'artifact_store', 'study_or_trial'} as positional arguments but they were expected to be given as keyword arguments.\n",
      "\n",
      "C:\\Users\\TrendingPc\\AppData\\Local\\Temp\\ipykernel_24276\\4150719641.py:94: FutureWarning:\n",
      "\n",
      "upload_artifact() got {'file_path', 'artifact_store', 'study_or_trial'} as positional arguments but they were expected to be given as keyword arguments.\n",
      "\n",
      "[I 2025-04-29 20:47:49,727] Trial 6 finished with value: 0.3472919942782645 and parameters: {'lambda_l1': 3.2834713706001136e-05, 'lambda_l2': 2.7744262835413703e-06, 'num_leaves': 25, 'feature_fraction': 0.8564984148327643, 'bagging_fraction': 0.4566250633862989, 'bagging_freq': 1, 'min_child_samples': 57}. Best is trial 5 with value: 0.35762427447845146.\n",
      "C:\\Users\\TrendingPc\\AppData\\Local\\Temp\\ipykernel_24276\\4150719641.py:86: FutureWarning:\n",
      "\n",
      "upload_artifact() got {'file_path', 'artifact_store', 'study_or_trial'} as positional arguments but they were expected to be given as keyword arguments.\n",
      "\n",
      "C:\\Users\\TrendingPc\\AppData\\Local\\Temp\\ipykernel_24276\\4150719641.py:94: FutureWarning:\n",
      "\n",
      "upload_artifact() got {'file_path', 'artifact_store', 'study_or_trial'} as positional arguments but they were expected to be given as keyword arguments.\n",
      "\n",
      "[I 2025-04-29 20:47:52,852] Trial 7 finished with value: 0.3480033504097457 and parameters: {'lambda_l1': 0.03805191505126579, 'lambda_l2': 0.000526929866429332, 'num_leaves': 78, 'feature_fraction': 0.9142052972651558, 'bagging_fraction': 0.9451140566100249, 'bagging_freq': 6, 'min_child_samples': 70}. Best is trial 5 with value: 0.35762427447845146.\n",
      "C:\\Users\\TrendingPc\\AppData\\Local\\Temp\\ipykernel_24276\\4150719641.py:86: FutureWarning:\n",
      "\n",
      "upload_artifact() got {'file_path', 'artifact_store', 'study_or_trial'} as positional arguments but they were expected to be given as keyword arguments.\n",
      "\n",
      "C:\\Users\\TrendingPc\\AppData\\Local\\Temp\\ipykernel_24276\\4150719641.py:94: FutureWarning:\n",
      "\n",
      "upload_artifact() got {'file_path', 'artifact_store', 'study_or_trial'} as positional arguments but they were expected to be given as keyword arguments.\n",
      "\n",
      "[I 2025-04-29 20:47:55,708] Trial 8 finished with value: 0.3498162559590763 and parameters: {'lambda_l1': 0.06355709519353148, 'lambda_l2': 1.645525654022754e-08, 'num_leaves': 20, 'feature_fraction': 0.5750780488942935, 'bagging_fraction': 0.997470626493796, 'bagging_freq': 4, 'min_child_samples': 38}. Best is trial 5 with value: 0.35762427447845146.\n",
      "C:\\Users\\TrendingPc\\AppData\\Local\\Temp\\ipykernel_24276\\4150719641.py:86: FutureWarning:\n",
      "\n",
      "upload_artifact() got {'file_path', 'artifact_store', 'study_or_trial'} as positional arguments but they were expected to be given as keyword arguments.\n",
      "\n",
      "C:\\Users\\TrendingPc\\AppData\\Local\\Temp\\ipykernel_24276\\4150719641.py:94: FutureWarning:\n",
      "\n",
      "upload_artifact() got {'file_path', 'artifact_store', 'study_or_trial'} as positional arguments but they were expected to be given as keyword arguments.\n",
      "\n",
      "[I 2025-04-29 20:47:58,795] Trial 9 finished with value: 0.35371675561871 and parameters: {'lambda_l1': 0.05415658362399769, 'lambda_l2': 0.057015945667393764, 'num_leaves': 80, 'feature_fraction': 0.6514098813003752, 'bagging_fraction': 0.6866160328618038, 'bagging_freq': 2, 'min_child_samples': 21}. Best is trial 5 with value: 0.35762427447845146.\n",
      "C:\\Users\\TrendingPc\\AppData\\Local\\Temp\\ipykernel_24276\\4150719641.py:86: FutureWarning:\n",
      "\n",
      "upload_artifact() got {'file_path', 'artifact_store', 'study_or_trial'} as positional arguments but they were expected to be given as keyword arguments.\n",
      "\n",
      "C:\\Users\\TrendingPc\\AppData\\Local\\Temp\\ipykernel_24276\\4150719641.py:94: FutureWarning:\n",
      "\n",
      "upload_artifact() got {'file_path', 'artifact_store', 'study_or_trial'} as positional arguments but they were expected to be given as keyword arguments.\n",
      "\n",
      "[I 2025-04-29 20:48:03,481] Trial 10 finished with value: 0.35990913343320796 and parameters: {'lambda_l1': 1.9064899103350586e-08, 'lambda_l2': 4.8314396138346345e-06, 'num_leaves': 106, 'feature_fraction': 0.43203174084659435, 'bagging_fraction': 0.8020772021160452, 'bagging_freq': 1, 'min_child_samples': 100}. Best is trial 10 with value: 0.35990913343320796.\n",
      "C:\\Users\\TrendingPc\\AppData\\Local\\Temp\\ipykernel_24276\\4150719641.py:86: FutureWarning:\n",
      "\n",
      "upload_artifact() got {'file_path', 'artifact_store', 'study_or_trial'} as positional arguments but they were expected to be given as keyword arguments.\n",
      "\n",
      "C:\\Users\\TrendingPc\\AppData\\Local\\Temp\\ipykernel_24276\\4150719641.py:94: FutureWarning:\n",
      "\n",
      "upload_artifact() got {'file_path', 'artifact_store', 'study_or_trial'} as positional arguments but they were expected to be given as keyword arguments.\n",
      "\n",
      "[I 2025-04-29 20:48:07,561] Trial 11 finished with value: 0.361256202074412 and parameters: {'lambda_l1': 3.177024877357125e-08, 'lambda_l2': 5.723016339880841e-06, 'num_leaves': 237, 'feature_fraction': 0.40035815091512433, 'bagging_fraction': 0.7942523569561917, 'bagging_freq': 1, 'min_child_samples': 99}. Best is trial 11 with value: 0.361256202074412.\n",
      "C:\\Users\\TrendingPc\\AppData\\Local\\Temp\\ipykernel_24276\\4150719641.py:86: FutureWarning:\n",
      "\n",
      "upload_artifact() got {'file_path', 'artifact_store', 'study_or_trial'} as positional arguments but they were expected to be given as keyword arguments.\n",
      "\n",
      "C:\\Users\\TrendingPc\\AppData\\Local\\Temp\\ipykernel_24276\\4150719641.py:94: FutureWarning:\n",
      "\n",
      "upload_artifact() got {'file_path', 'artifact_store', 'study_or_trial'} as positional arguments but they were expected to be given as keyword arguments.\n",
      "\n",
      "[I 2025-04-29 20:48:11,109] Trial 12 finished with value: 0.35729480489873705 and parameters: {'lambda_l1': 1.2537364075906e-08, 'lambda_l2': 1.6858372272568785e-06, 'num_leaves': 255, 'feature_fraction': 0.4009932198220814, 'bagging_fraction': 0.767824277634639, 'bagging_freq': 1, 'min_child_samples': 97}. Best is trial 11 with value: 0.361256202074412.\n",
      "C:\\Users\\TrendingPc\\AppData\\Local\\Temp\\ipykernel_24276\\4150719641.py:86: FutureWarning:\n",
      "\n",
      "upload_artifact() got {'file_path', 'artifact_store', 'study_or_trial'} as positional arguments but they were expected to be given as keyword arguments.\n",
      "\n",
      "C:\\Users\\TrendingPc\\AppData\\Local\\Temp\\ipykernel_24276\\4150719641.py:94: FutureWarning:\n",
      "\n",
      "upload_artifact() got {'file_path', 'artifact_store', 'study_or_trial'} as positional arguments but they were expected to be given as keyword arguments.\n",
      "\n",
      "[I 2025-04-29 20:48:14,753] Trial 13 finished with value: 0.352985050418783 and parameters: {'lambda_l1': 1.584259065596978e-08, 'lambda_l2': 3.4213144015616762e-06, 'num_leaves': 246, 'feature_fraction': 0.446302225901488, 'bagging_fraction': 0.5971561490725622, 'bagging_freq': 1, 'min_child_samples': 96}. Best is trial 11 with value: 0.361256202074412.\n",
      "C:\\Users\\TrendingPc\\AppData\\Local\\Temp\\ipykernel_24276\\4150719641.py:86: FutureWarning:\n",
      "\n",
      "upload_artifact() got {'file_path', 'artifact_store', 'study_or_trial'} as positional arguments but they were expected to be given as keyword arguments.\n",
      "\n",
      "C:\\Users\\TrendingPc\\AppData\\Local\\Temp\\ipykernel_24276\\4150719641.py:94: FutureWarning:\n",
      "\n",
      "upload_artifact() got {'file_path', 'artifact_store', 'study_or_trial'} as positional arguments but they were expected to be given as keyword arguments.\n",
      "\n",
      "[I 2025-04-29 20:48:18,187] Trial 14 finished with value: 0.354070564742327 and parameters: {'lambda_l1': 6.592379373866911e-07, 'lambda_l2': 4.1862619102915135e-08, 'num_leaves': 218, 'feature_fraction': 0.7237070498413273, 'bagging_fraction': 0.7981567796515366, 'bagging_freq': 2, 'min_child_samples': 100}. Best is trial 11 with value: 0.361256202074412.\n",
      "C:\\Users\\TrendingPc\\AppData\\Local\\Temp\\ipykernel_24276\\4150719641.py:86: FutureWarning:\n",
      "\n",
      "upload_artifact() got {'file_path', 'artifact_store', 'study_or_trial'} as positional arguments but they were expected to be given as keyword arguments.\n",
      "\n",
      "C:\\Users\\TrendingPc\\AppData\\Local\\Temp\\ipykernel_24276\\4150719641.py:94: FutureWarning:\n",
      "\n",
      "upload_artifact() got {'file_path', 'artifact_store', 'study_or_trial'} as positional arguments but they were expected to be given as keyword arguments.\n",
      "\n",
      "[I 2025-04-29 20:48:22,125] Trial 15 finished with value: 0.3563311984750495 and parameters: {'lambda_l1': 6.878055921398651e-07, 'lambda_l2': 2.7791450724816128e-05, 'num_leaves': 97, 'feature_fraction': 0.4049996166665008, 'bagging_fraction': 0.7456978503531367, 'bagging_freq': 2, 'min_child_samples': 87}. Best is trial 11 with value: 0.361256202074412.\n",
      "C:\\Users\\TrendingPc\\AppData\\Local\\Temp\\ipykernel_24276\\4150719641.py:86: FutureWarning:\n",
      "\n",
      "upload_artifact() got {'file_path', 'artifact_store', 'study_or_trial'} as positional arguments but they were expected to be given as keyword arguments.\n",
      "\n",
      "C:\\Users\\TrendingPc\\AppData\\Local\\Temp\\ipykernel_24276\\4150719641.py:94: FutureWarning:\n",
      "\n",
      "upload_artifact() got {'file_path', 'artifact_store', 'study_or_trial'} as positional arguments but they were expected to be given as keyword arguments.\n",
      "\n",
      "[I 2025-04-29 20:48:25,011] Trial 16 finished with value: 0.35088649009483963 and parameters: {'lambda_l1': 2.2077233324037848e-07, 'lambda_l2': 2.347768037355752e-07, 'num_leaves': 214, 'feature_fraction': 0.9854170577592916, 'bagging_fraction': 0.8722784118609191, 'bagging_freq': 1, 'min_child_samples': 89}. Best is trial 11 with value: 0.361256202074412.\n",
      "C:\\Users\\TrendingPc\\AppData\\Local\\Temp\\ipykernel_24276\\4150719641.py:86: FutureWarning:\n",
      "\n",
      "upload_artifact() got {'file_path', 'artifact_store', 'study_or_trial'} as positional arguments but they were expected to be given as keyword arguments.\n",
      "\n",
      "C:\\Users\\TrendingPc\\AppData\\Local\\Temp\\ipykernel_24276\\4150719641.py:94: FutureWarning:\n",
      "\n",
      "upload_artifact() got {'file_path', 'artifact_store', 'study_or_trial'} as positional arguments but they were expected to be given as keyword arguments.\n",
      "\n",
      "[I 2025-04-29 20:48:27,747] Trial 17 finished with value: 0.34777267135886525 and parameters: {'lambda_l1': 0.00032737561786787826, 'lambda_l2': 4.525371505513505e-05, 'num_leaves': 59, 'feature_fraction': 0.48363131957985395, 'bagging_fraction': 0.5779013809406077, 'bagging_freq': 5, 'min_child_samples': 62}. Best is trial 11 with value: 0.361256202074412.\n",
      "C:\\Users\\TrendingPc\\AppData\\Local\\Temp\\ipykernel_24276\\4150719641.py:86: FutureWarning:\n",
      "\n",
      "upload_artifact() got {'file_path', 'artifact_store', 'study_or_trial'} as positional arguments but they were expected to be given as keyword arguments.\n",
      "\n",
      "C:\\Users\\TrendingPc\\AppData\\Local\\Temp\\ipykernel_24276\\4150719641.py:94: FutureWarning:\n",
      "\n",
      "upload_artifact() got {'file_path', 'artifact_store', 'study_or_trial'} as positional arguments but they were expected to be given as keyword arguments.\n",
      "\n",
      "[I 2025-04-29 20:48:30,458] Trial 18 finished with value: 0.3543993782279354 and parameters: {'lambda_l1': 0.0007673510171910831, 'lambda_l2': 4.4699447497385446e-07, 'num_leaves': 123, 'feature_fraction': 0.6884324355868257, 'bagging_fraction': 0.7047406472550444, 'bagging_freq': 2, 'min_child_samples': 83}. Best is trial 11 with value: 0.361256202074412.\n",
      "C:\\Users\\TrendingPc\\AppData\\Local\\Temp\\ipykernel_24276\\4150719641.py:86: FutureWarning:\n",
      "\n",
      "upload_artifact() got {'file_path', 'artifact_store', 'study_or_trial'} as positional arguments but they were expected to be given as keyword arguments.\n",
      "\n",
      "C:\\Users\\TrendingPc\\AppData\\Local\\Temp\\ipykernel_24276\\4150719641.py:94: FutureWarning:\n",
      "\n",
      "upload_artifact() got {'file_path', 'artifact_store', 'study_or_trial'} as positional arguments but they were expected to be given as keyword arguments.\n",
      "\n",
      "[I 2025-04-29 20:48:34,129] Trial 19 finished with value: 0.35395353233466087 and parameters: {'lambda_l1': 9.351066058985289e-08, 'lambda_l2': 3.273636853471937e-05, 'num_leaves': 153, 'feature_fraction': 0.48560806156255826, 'bagging_fraction': 0.7984906651663607, 'bagging_freq': 4, 'min_child_samples': 71}. Best is trial 11 with value: 0.361256202074412.\n",
      "C:\\Users\\TrendingPc\\AppData\\Local\\Temp\\ipykernel_24276\\4150719641.py:86: FutureWarning:\n",
      "\n",
      "upload_artifact() got {'file_path', 'artifact_store', 'study_or_trial'} as positional arguments but they were expected to be given as keyword arguments.\n",
      "\n",
      "C:\\Users\\TrendingPc\\AppData\\Local\\Temp\\ipykernel_24276\\4150719641.py:94: FutureWarning:\n",
      "\n",
      "upload_artifact() got {'file_path', 'artifact_store', 'study_or_trial'} as positional arguments but they were expected to be given as keyword arguments.\n",
      "\n",
      "[I 2025-04-29 20:48:37,507] Trial 20 finished with value: 0.34722237245151777 and parameters: {'lambda_l1': 3.3200937211861403e-06, 'lambda_l2': 1.4355073264335217e-07, 'num_leaves': 207, 'feature_fraction': 0.7504428246530108, 'bagging_fraction': 0.5115413348263578, 'bagging_freq': 1, 'min_child_samples': 91}. Best is trial 11 with value: 0.361256202074412.\n",
      "C:\\Users\\TrendingPc\\AppData\\Local\\Temp\\ipykernel_24276\\4150719641.py:86: FutureWarning:\n",
      "\n",
      "upload_artifact() got {'file_path', 'artifact_store', 'study_or_trial'} as positional arguments but they were expected to be given as keyword arguments.\n",
      "\n",
      "C:\\Users\\TrendingPc\\AppData\\Local\\Temp\\ipykernel_24276\\4150719641.py:94: FutureWarning:\n",
      "\n",
      "upload_artifact() got {'file_path', 'artifact_store', 'study_or_trial'} as positional arguments but they were expected to be given as keyword arguments.\n",
      "\n",
      "[I 2025-04-29 20:48:41,395] Trial 21 finished with value: 0.3575956290499044 and parameters: {'lambda_l1': 0.002582088172020378, 'lambda_l2': 0.00015171544815880861, 'num_leaves': 112, 'feature_fraction': 0.5261591445308242, 'bagging_fraction': 0.8639732639402207, 'bagging_freq': 3, 'min_child_samples': 81}. Best is trial 11 with value: 0.361256202074412.\n",
      "C:\\Users\\TrendingPc\\AppData\\Local\\Temp\\ipykernel_24276\\4150719641.py:86: FutureWarning:\n",
      "\n",
      "upload_artifact() got {'file_path', 'artifact_store', 'study_or_trial'} as positional arguments but they were expected to be given as keyword arguments.\n",
      "\n",
      "C:\\Users\\TrendingPc\\AppData\\Local\\Temp\\ipykernel_24276\\4150719641.py:94: FutureWarning:\n",
      "\n",
      "upload_artifact() got {'file_path', 'artifact_store', 'study_or_trial'} as positional arguments but they were expected to be given as keyword arguments.\n",
      "\n",
      "[I 2025-04-29 20:48:45,251] Trial 22 finished with value: 0.3553091116050109 and parameters: {'lambda_l1': 6.625453689993302e-08, 'lambda_l2': 4.18569517914414e-06, 'num_leaves': 100, 'feature_fraction': 0.4290584462411759, 'bagging_fraction': 0.9006092340787302, 'bagging_freq': 3, 'min_child_samples': 100}. Best is trial 11 with value: 0.361256202074412.\n",
      "C:\\Users\\TrendingPc\\AppData\\Local\\Temp\\ipykernel_24276\\4150719641.py:86: FutureWarning:\n",
      "\n",
      "upload_artifact() got {'file_path', 'artifact_store', 'study_or_trial'} as positional arguments but they were expected to be given as keyword arguments.\n",
      "\n",
      "C:\\Users\\TrendingPc\\AppData\\Local\\Temp\\ipykernel_24276\\4150719641.py:94: FutureWarning:\n",
      "\n",
      "upload_artifact() got {'file_path', 'artifact_store', 'study_or_trial'} as positional arguments but they were expected to be given as keyword arguments.\n",
      "\n",
      "[I 2025-04-29 20:48:50,145] Trial 23 finished with value: 0.360880708515235 and parameters: {'lambda_l1': 3.897519804226107e-05, 'lambda_l2': 1.037008470188852e-05, 'num_leaves': 144, 'feature_fraction': 0.5486959003788517, 'bagging_fraction': 0.8182716673527545, 'bagging_freq': 2, 'min_child_samples': 79}. Best is trial 11 with value: 0.361256202074412.\n",
      "C:\\Users\\TrendingPc\\AppData\\Local\\Temp\\ipykernel_24276\\4150719641.py:86: FutureWarning:\n",
      "\n",
      "upload_artifact() got {'file_path', 'artifact_store', 'study_or_trial'} as positional arguments but they were expected to be given as keyword arguments.\n",
      "\n",
      "C:\\Users\\TrendingPc\\AppData\\Local\\Temp\\ipykernel_24276\\4150719641.py:94: FutureWarning:\n",
      "\n",
      "upload_artifact() got {'file_path', 'artifact_store', 'study_or_trial'} as positional arguments but they were expected to be given as keyword arguments.\n",
      "\n",
      "[I 2025-04-29 20:48:54,409] Trial 24 finished with value: 0.3580117032996827 and parameters: {'lambda_l1': 1.6439772379912674e-06, 'lambda_l2': 1.630760265210117e-05, 'num_leaves': 144, 'feature_fraction': 0.45182298708993346, 'bagging_fraction': 0.807907181481896, 'bagging_freq': 2, 'min_child_samples': 91}. Best is trial 11 with value: 0.361256202074412.\n",
      "C:\\Users\\TrendingPc\\AppData\\Local\\Temp\\ipykernel_24276\\4150719641.py:86: FutureWarning:\n",
      "\n",
      "upload_artifact() got {'file_path', 'artifact_store', 'study_or_trial'} as positional arguments but they were expected to be given as keyword arguments.\n",
      "\n",
      "C:\\Users\\TrendingPc\\AppData\\Local\\Temp\\ipykernel_24276\\4150719641.py:94: FutureWarning:\n",
      "\n",
      "upload_artifact() got {'file_path', 'artifact_store', 'study_or_trial'} as positional arguments but they were expected to be given as keyword arguments.\n",
      "\n",
      "[I 2025-04-29 20:48:58,457] Trial 25 finished with value: 0.358579543146908 and parameters: {'lambda_l1': 0.005083948517341355, 'lambda_l2': 8.147324520817665e-07, 'num_leaves': 187, 'feature_fraction': 0.5037238548202988, 'bagging_fraction': 0.7170213641709262, 'bagging_freq': 1, 'min_child_samples': 75}. Best is trial 11 with value: 0.361256202074412.\n",
      "C:\\Users\\TrendingPc\\AppData\\Local\\Temp\\ipykernel_24276\\4150719641.py:86: FutureWarning:\n",
      "\n",
      "upload_artifact() got {'file_path', 'artifact_store', 'study_or_trial'} as positional arguments but they were expected to be given as keyword arguments.\n",
      "\n",
      "C:\\Users\\TrendingPc\\AppData\\Local\\Temp\\ipykernel_24276\\4150719641.py:94: FutureWarning:\n",
      "\n",
      "upload_artifact() got {'file_path', 'artifact_store', 'study_or_trial'} as positional arguments but they were expected to be given as keyword arguments.\n",
      "\n",
      "[I 2025-04-29 20:49:03,159] Trial 26 finished with value: 0.35532008856015435 and parameters: {'lambda_l1': 4.899817040476992e-08, 'lambda_l2': 6.805417547807668e-06, 'num_leaves': 232, 'feature_fraction': 0.593645406526243, 'bagging_fraction': 0.9302158863313059, 'bagging_freq': 2, 'min_child_samples': 90}. Best is trial 11 with value: 0.361256202074412.\n",
      "C:\\Users\\TrendingPc\\AppData\\Local\\Temp\\ipykernel_24276\\4150719641.py:86: FutureWarning:\n",
      "\n",
      "upload_artifact() got {'file_path', 'artifact_store', 'study_or_trial'} as positional arguments but they were expected to be given as keyword arguments.\n",
      "\n",
      "C:\\Users\\TrendingPc\\AppData\\Local\\Temp\\ipykernel_24276\\4150719641.py:94: FutureWarning:\n",
      "\n",
      "upload_artifact() got {'file_path', 'artifact_store', 'study_or_trial'} as positional arguments but they were expected to be given as keyword arguments.\n",
      "\n",
      "[I 2025-04-29 20:49:06,964] Trial 27 finished with value: 0.3544513198773571 and parameters: {'lambda_l1': 7.4378291468193e-05, 'lambda_l2': 8.758737951474456e-08, 'num_leaves': 62, 'feature_fraction': 0.4510128561377507, 'bagging_fraction': 0.8254771885144626, 'bagging_freq': 1, 'min_child_samples': 51}. Best is trial 11 with value: 0.361256202074412.\n",
      "C:\\Users\\TrendingPc\\AppData\\Local\\Temp\\ipykernel_24276\\4150719641.py:86: FutureWarning:\n",
      "\n",
      "upload_artifact() got {'file_path', 'artifact_store', 'study_or_trial'} as positional arguments but they were expected to be given as keyword arguments.\n",
      "\n",
      "C:\\Users\\TrendingPc\\AppData\\Local\\Temp\\ipykernel_24276\\4150719641.py:94: FutureWarning:\n",
      "\n",
      "upload_artifact() got {'file_path', 'artifact_store', 'study_or_trial'} as positional arguments but they were expected to be given as keyword arguments.\n",
      "\n",
      "[I 2025-04-29 20:49:10,537] Trial 28 finished with value: 0.3558812185826127 and parameters: {'lambda_l1': 4.598105085698053e-06, 'lambda_l2': 0.0025008786870150523, 'num_leaves': 167, 'feature_fraction': 0.6374316287556475, 'bagging_fraction': 0.6735122966823366, 'bagging_freq': 2, 'min_child_samples': 84}. Best is trial 11 with value: 0.361256202074412.\n",
      "C:\\Users\\TrendingPc\\AppData\\Local\\Temp\\ipykernel_24276\\4150719641.py:86: FutureWarning:\n",
      "\n",
      "upload_artifact() got {'file_path', 'artifact_store', 'study_or_trial'} as positional arguments but they were expected to be given as keyword arguments.\n",
      "\n",
      "C:\\Users\\TrendingPc\\AppData\\Local\\Temp\\ipykernel_24276\\4150719641.py:94: FutureWarning:\n",
      "\n",
      "upload_artifact() got {'file_path', 'artifact_store', 'study_or_trial'} as positional arguments but they were expected to be given as keyword arguments.\n",
      "\n",
      "[I 2025-04-29 20:49:13,454] Trial 29 finished with value: 0.35026552040243014 and parameters: {'lambda_l1': 2.5155102226086196e-07, 'lambda_l2': 6.429081950835673e-05, 'num_leaves': 186, 'feature_fraction': 0.7978161525076541, 'bagging_fraction': 0.7537583959859425, 'bagging_freq': 1, 'min_child_samples': 61}. Best is trial 11 with value: 0.361256202074412.\n",
      "C:\\Users\\TrendingPc\\AppData\\Local\\Temp\\ipykernel_24276\\4150719641.py:86: FutureWarning:\n",
      "\n",
      "upload_artifact() got {'file_path', 'artifact_store', 'study_or_trial'} as positional arguments but they were expected to be given as keyword arguments.\n",
      "\n",
      "C:\\Users\\TrendingPc\\AppData\\Local\\Temp\\ipykernel_24276\\4150719641.py:94: FutureWarning:\n",
      "\n",
      "upload_artifact() got {'file_path', 'artifact_store', 'study_or_trial'} as positional arguments but they were expected to be given as keyword arguments.\n",
      "\n",
      "[I 2025-04-29 20:49:17,553] Trial 30 finished with value: 0.34992368460828255 and parameters: {'lambda_l1': 1.1427297570368926e-08, 'lambda_l2': 9.963841702188558e-06, 'num_leaves': 7, 'feature_fraction': 0.5531348047011014, 'bagging_fraction': 0.9158073106345709, 'bagging_freq': 2, 'min_child_samples': 66}. Best is trial 11 with value: 0.361256202074412.\n",
      "C:\\Users\\TrendingPc\\AppData\\Local\\Temp\\ipykernel_24276\\4150719641.py:86: FutureWarning:\n",
      "\n",
      "upload_artifact() got {'file_path', 'artifact_store', 'study_or_trial'} as positional arguments but they were expected to be given as keyword arguments.\n",
      "\n",
      "C:\\Users\\TrendingPc\\AppData\\Local\\Temp\\ipykernel_24276\\4150719641.py:94: FutureWarning:\n",
      "\n",
      "upload_artifact() got {'file_path', 'artifact_store', 'study_or_trial'} as positional arguments but they were expected to be given as keyword arguments.\n",
      "\n",
      "[I 2025-04-29 20:49:21,170] Trial 31 finished with value: 0.3550175513523726 and parameters: {'lambda_l1': 0.005479209330597109, 'lambda_l2': 1.1890886388252886e-06, 'num_leaves': 193, 'feature_fraction': 0.507087178506034, 'bagging_fraction': 0.7159445358933756, 'bagging_freq': 1, 'min_child_samples': 75}. Best is trial 11 with value: 0.361256202074412.\n",
      "C:\\Users\\TrendingPc\\AppData\\Local\\Temp\\ipykernel_24276\\4150719641.py:86: FutureWarning:\n",
      "\n",
      "upload_artifact() got {'file_path', 'artifact_store', 'study_or_trial'} as positional arguments but they were expected to be given as keyword arguments.\n",
      "\n",
      "C:\\Users\\TrendingPc\\AppData\\Local\\Temp\\ipykernel_24276\\4150719641.py:94: FutureWarning:\n",
      "\n",
      "upload_artifact() got {'file_path', 'artifact_store', 'study_or_trial'} as positional arguments but they were expected to be given as keyword arguments.\n",
      "\n",
      "[I 2025-04-29 20:49:25,104] Trial 32 finished with value: 0.357002540529854 and parameters: {'lambda_l1': 0.007690391322541656, 'lambda_l2': 4.4768046717433695e-07, 'num_leaves': 201, 'feature_fraction': 0.4719311993924447, 'bagging_fraction': 0.7669504256967375, 'bagging_freq': 1, 'min_child_samples': 94}. Best is trial 11 with value: 0.361256202074412.\n",
      "C:\\Users\\TrendingPc\\AppData\\Local\\Temp\\ipykernel_24276\\4150719641.py:86: FutureWarning:\n",
      "\n",
      "upload_artifact() got {'file_path', 'artifact_store', 'study_or_trial'} as positional arguments but they were expected to be given as keyword arguments.\n",
      "\n",
      "C:\\Users\\TrendingPc\\AppData\\Local\\Temp\\ipykernel_24276\\4150719641.py:94: FutureWarning:\n",
      "\n",
      "upload_artifact() got {'file_path', 'artifact_store', 'study_or_trial'} as positional arguments but they were expected to be given as keyword arguments.\n",
      "\n",
      "[I 2025-04-29 20:49:28,151] Trial 33 finished with value: 0.3461705284252314 and parameters: {'lambda_l1': 0.00018457857183850994, 'lambda_l2': 8.417247153333421e-07, 'num_leaves': 228, 'feature_fraction': 0.40647972563978485, 'bagging_fraction': 0.6464490795622454, 'bagging_freq': 1, 'min_child_samples': 75}. Best is trial 11 with value: 0.361256202074412.\n",
      "C:\\Users\\TrendingPc\\AppData\\Local\\Temp\\ipykernel_24276\\4150719641.py:86: FutureWarning:\n",
      "\n",
      "upload_artifact() got {'file_path', 'artifact_store', 'study_or_trial'} as positional arguments but they were expected to be given as keyword arguments.\n",
      "\n",
      "C:\\Users\\TrendingPc\\AppData\\Local\\Temp\\ipykernel_24276\\4150719641.py:94: FutureWarning:\n",
      "\n",
      "upload_artifact() got {'file_path', 'artifact_store', 'study_or_trial'} as positional arguments but they were expected to be given as keyword arguments.\n",
      "\n",
      "[I 2025-04-29 20:49:32,055] Trial 34 finished with value: 0.355654913801149 and parameters: {'lambda_l1': 0.0014376061426337801, 'lambda_l2': 0.00012527605529406906, 'num_leaves': 133, 'feature_fraction': 0.513771622903015, 'bagging_fraction': 0.8388082398581425, 'bagging_freq': 7, 'min_child_samples': 86}. Best is trial 11 with value: 0.361256202074412.\n",
      "C:\\Users\\TrendingPc\\AppData\\Local\\Temp\\ipykernel_24276\\4150719641.py:86: FutureWarning:\n",
      "\n",
      "upload_artifact() got {'file_path', 'artifact_store', 'study_or_trial'} as positional arguments but they were expected to be given as keyword arguments.\n",
      "\n",
      "C:\\Users\\TrendingPc\\AppData\\Local\\Temp\\ipykernel_24276\\4150719641.py:94: FutureWarning:\n",
      "\n",
      "upload_artifact() got {'file_path', 'artifact_store', 'study_or_trial'} as positional arguments but they were expected to be given as keyword arguments.\n",
      "\n",
      "[I 2025-04-29 20:49:36,844] Trial 35 finished with value: 0.3548760552041881 and parameters: {'lambda_l1': 0.2066791967056858, 'lambda_l2': 3.0545845217556926, 'num_leaves': 177, 'feature_fraction': 0.4351969846923285, 'bagging_fraction': 0.7286021755860805, 'bagging_freq': 2, 'min_child_samples': 51}. Best is trial 11 with value: 0.361256202074412.\n",
      "C:\\Users\\TrendingPc\\AppData\\Local\\Temp\\ipykernel_24276\\4150719641.py:86: FutureWarning:\n",
      "\n",
      "upload_artifact() got {'file_path', 'artifact_store', 'study_or_trial'} as positional arguments but they were expected to be given as keyword arguments.\n",
      "\n",
      "C:\\Users\\TrendingPc\\AppData\\Local\\Temp\\ipykernel_24276\\4150719641.py:94: FutureWarning:\n",
      "\n",
      "upload_artifact() got {'file_path', 'artifact_store', 'study_or_trial'} as positional arguments but they were expected to be given as keyword arguments.\n",
      "\n",
      "[I 2025-04-29 20:49:40,799] Trial 36 finished with value: 0.35374279412030135 and parameters: {'lambda_l1': 1.9639969217784126, 'lambda_l2': 0.0019758138038877345, 'num_leaves': 150, 'feature_fraction': 0.5909064445636438, 'bagging_fraction': 0.7819907293946617, 'bagging_freq': 3, 'min_child_samples': 42}. Best is trial 11 with value: 0.361256202074412.\n",
      "C:\\Users\\TrendingPc\\AppData\\Local\\Temp\\ipykernel_24276\\4150719641.py:86: FutureWarning:\n",
      "\n",
      "upload_artifact() got {'file_path', 'artifact_store', 'study_or_trial'} as positional arguments but they were expected to be given as keyword arguments.\n",
      "\n",
      "C:\\Users\\TrendingPc\\AppData\\Local\\Temp\\ipykernel_24276\\4150719641.py:94: FutureWarning:\n",
      "\n",
      "upload_artifact() got {'file_path', 'artifact_store', 'study_or_trial'} as positional arguments but they were expected to be given as keyword arguments.\n",
      "\n",
      "[I 2025-04-29 20:49:44,691] Trial 37 finished with value: 0.34301298851947415 and parameters: {'lambda_l1': 0.019323749319811814, 'lambda_l2': 3.936034673996994e-08, 'num_leaves': 173, 'feature_fraction': 0.5079707565812328, 'bagging_fraction': 0.6359673567898616, 'bagging_freq': 1, 'min_child_samples': 8}. Best is trial 11 with value: 0.361256202074412.\n",
      "C:\\Users\\TrendingPc\\AppData\\Local\\Temp\\ipykernel_24276\\4150719641.py:86: FutureWarning:\n",
      "\n",
      "upload_artifact() got {'file_path', 'artifact_store', 'study_or_trial'} as positional arguments but they were expected to be given as keyword arguments.\n",
      "\n",
      "C:\\Users\\TrendingPc\\AppData\\Local\\Temp\\ipykernel_24276\\4150719641.py:94: FutureWarning:\n",
      "\n",
      "upload_artifact() got {'file_path', 'artifact_store', 'study_or_trial'} as positional arguments but they were expected to be given as keyword arguments.\n",
      "\n",
      "[I 2025-04-29 20:49:48,818] Trial 38 finished with value: 0.3547138216993307 and parameters: {'lambda_l1': 6.175631912648132, 'lambda_l2': 1.2741293120614307e-05, 'num_leaves': 107, 'feature_fraction': 0.5494377682326727, 'bagging_fraction': 0.8811466702311145, 'bagging_freq': 5, 'min_child_samples': 26}. Best is trial 11 with value: 0.361256202074412.\n",
      "C:\\Users\\TrendingPc\\AppData\\Local\\Temp\\ipykernel_24276\\4150719641.py:86: FutureWarning:\n",
      "\n",
      "upload_artifact() got {'file_path', 'artifact_store', 'study_or_trial'} as positional arguments but they were expected to be given as keyword arguments.\n",
      "\n",
      "C:\\Users\\TrendingPc\\AppData\\Local\\Temp\\ipykernel_24276\\4150719641.py:94: FutureWarning:\n",
      "\n",
      "upload_artifact() got {'file_path', 'artifact_store', 'study_or_trial'} as positional arguments but they were expected to be given as keyword arguments.\n",
      "\n",
      "[I 2025-04-29 20:49:52,430] Trial 39 finished with value: 0.349674070648402 and parameters: {'lambda_l1': 9.029277715154907e-06, 'lambda_l2': 1.0045009819605927e-08, 'num_leaves': 237, 'feature_fraction': 0.477440523841389, 'bagging_fraction': 0.7325643124432458, 'bagging_freq': 5, 'min_child_samples': 78}. Best is trial 11 with value: 0.361256202074412.\n",
      "C:\\Users\\TrendingPc\\AppData\\Local\\Temp\\ipykernel_24276\\4150719641.py:86: FutureWarning:\n",
      "\n",
      "upload_artifact() got {'file_path', 'artifact_store', 'study_or_trial'} as positional arguments but they were expected to be given as keyword arguments.\n",
      "\n",
      "C:\\Users\\TrendingPc\\AppData\\Local\\Temp\\ipykernel_24276\\4150719641.py:94: FutureWarning:\n",
      "\n",
      "upload_artifact() got {'file_path', 'artifact_store', 'study_or_trial'} as positional arguments but they were expected to be given as keyword arguments.\n",
      "\n",
      "[I 2025-04-29 20:49:56,126] Trial 40 finished with value: 0.3498481807545181 and parameters: {'lambda_l1': 3.1120354773484286e-05, 'lambda_l2': 0.01573205769580015, 'num_leaves': 134, 'feature_fraction': 0.6736492003124124, 'bagging_fraction': 0.8372291866038846, 'bagging_freq': 3, 'min_child_samples': 71}. Best is trial 11 with value: 0.361256202074412.\n",
      "C:\\Users\\TrendingPc\\AppData\\Local\\Temp\\ipykernel_24276\\4150719641.py:86: FutureWarning:\n",
      "\n",
      "upload_artifact() got {'file_path', 'artifact_store', 'study_or_trial'} as positional arguments but they were expected to be given as keyword arguments.\n",
      "\n",
      "C:\\Users\\TrendingPc\\AppData\\Local\\Temp\\ipykernel_24276\\4150719641.py:94: FutureWarning:\n",
      "\n",
      "upload_artifact() got {'file_path', 'artifact_store', 'study_or_trial'} as positional arguments but they were expected to be given as keyword arguments.\n",
      "\n",
      "[I 2025-04-29 20:50:00,186] Trial 41 finished with value: 0.3567362044026404 and parameters: {'lambda_l1': 1.4463650853261938e-06, 'lambda_l2': 1.4845906663612292e-05, 'num_leaves': 147, 'feature_fraction': 0.4555190497820617, 'bagging_fraction': 0.8107771059882289, 'bagging_freq': 2, 'min_child_samples': 93}. Best is trial 11 with value: 0.361256202074412.\n",
      "C:\\Users\\TrendingPc\\AppData\\Local\\Temp\\ipykernel_24276\\4150719641.py:86: FutureWarning:\n",
      "\n",
      "upload_artifact() got {'file_path', 'artifact_store', 'study_or_trial'} as positional arguments but they were expected to be given as keyword arguments.\n",
      "\n",
      "C:\\Users\\TrendingPc\\AppData\\Local\\Temp\\ipykernel_24276\\4150719641.py:94: FutureWarning:\n",
      "\n",
      "upload_artifact() got {'file_path', 'artifact_store', 'study_or_trial'} as positional arguments but they were expected to be given as keyword arguments.\n",
      "\n",
      "[I 2025-04-29 20:50:04,119] Trial 42 finished with value: 0.35700170114603014 and parameters: {'lambda_l1': 9.33697443738331e-05, 'lambda_l2': 2.1908150689823938e-06, 'num_leaves': 141, 'feature_fraction': 0.4287152487433806, 'bagging_fraction': 0.7874930585413069, 'bagging_freq': 2, 'min_child_samples': 96}. Best is trial 11 with value: 0.361256202074412.\n",
      "C:\\Users\\TrendingPc\\AppData\\Local\\Temp\\ipykernel_24276\\4150719641.py:86: FutureWarning:\n",
      "\n",
      "upload_artifact() got {'file_path', 'artifact_store', 'study_or_trial'} as positional arguments but they were expected to be given as keyword arguments.\n",
      "\n",
      "C:\\Users\\TrendingPc\\AppData\\Local\\Temp\\ipykernel_24276\\4150719641.py:94: FutureWarning:\n",
      "\n",
      "upload_artifact() got {'file_path', 'artifact_store', 'study_or_trial'} as positional arguments but they were expected to be given as keyword arguments.\n",
      "\n",
      "[I 2025-04-29 20:50:07,939] Trial 43 finished with value: 0.35302576993215934 and parameters: {'lambda_l1': 4.7009808772795605e-08, 'lambda_l2': 6.850697692110341e-07, 'num_leaves': 163, 'feature_fraction': 0.5612916987127806, 'bagging_fraction': 0.9655916353164387, 'bagging_freq': 1, 'min_child_samples': 87}. Best is trial 11 with value: 0.361256202074412.\n",
      "C:\\Users\\TrendingPc\\AppData\\Local\\Temp\\ipykernel_24276\\4150719641.py:86: FutureWarning:\n",
      "\n",
      "upload_artifact() got {'file_path', 'artifact_store', 'study_or_trial'} as positional arguments but they were expected to be given as keyword arguments.\n",
      "\n",
      "C:\\Users\\TrendingPc\\AppData\\Local\\Temp\\ipykernel_24276\\4150719641.py:94: FutureWarning:\n",
      "\n",
      "upload_artifact() got {'file_path', 'artifact_store', 'study_or_trial'} as positional arguments but they were expected to be given as keyword arguments.\n",
      "\n",
      "[I 2025-04-29 20:50:11,909] Trial 44 finished with value: 0.3553400540697522 and parameters: {'lambda_l1': 2.1381664445333417e-07, 'lambda_l2': 0.000332180390177036, 'num_leaves': 84, 'feature_fraction': 0.4977899664166681, 'bagging_fraction': 0.8361141505354721, 'bagging_freq': 1, 'min_child_samples': 99}. Best is trial 11 with value: 0.361256202074412.\n",
      "C:\\Users\\TrendingPc\\AppData\\Local\\Temp\\ipykernel_24276\\4150719641.py:86: FutureWarning:\n",
      "\n",
      "upload_artifact() got {'file_path', 'artifact_store', 'study_or_trial'} as positional arguments but they were expected to be given as keyword arguments.\n",
      "\n",
      "C:\\Users\\TrendingPc\\AppData\\Local\\Temp\\ipykernel_24276\\4150719641.py:94: FutureWarning:\n",
      "\n",
      "upload_artifact() got {'file_path', 'artifact_store', 'study_or_trial'} as positional arguments but they were expected to be given as keyword arguments.\n",
      "\n",
      "[I 2025-04-29 20:50:15,420] Trial 45 finished with value: 0.34795357034345265 and parameters: {'lambda_l1': 1.4721106842113873e-06, 'lambda_l2': 4.5126515433105774e-06, 'num_leaves': 121, 'feature_fraction': 0.46063141299070576, 'bagging_fraction': 0.755484064971762, 'bagging_freq': 4, 'min_child_samples': 92}. Best is trial 11 with value: 0.361256202074412.\n",
      "C:\\Users\\TrendingPc\\AppData\\Local\\Temp\\ipykernel_24276\\4150719641.py:86: FutureWarning:\n",
      "\n",
      "upload_artifact() got {'file_path', 'artifact_store', 'study_or_trial'} as positional arguments but they were expected to be given as keyword arguments.\n",
      "\n",
      "C:\\Users\\TrendingPc\\AppData\\Local\\Temp\\ipykernel_24276\\4150719641.py:94: FutureWarning:\n",
      "\n",
      "upload_artifact() got {'file_path', 'artifact_store', 'study_or_trial'} as positional arguments but they were expected to be given as keyword arguments.\n",
      "\n",
      "[I 2025-04-29 20:50:19,176] Trial 46 finished with value: 0.354912761850797 and parameters: {'lambda_l1': 2.3297042626972577e-08, 'lambda_l2': 1.9743873722958513e-05, 'num_leaves': 190, 'feature_fraction': 0.4260661309516814, 'bagging_fraction': 0.6729080904202673, 'bagging_freq': 2, 'min_child_samples': 80}. Best is trial 11 with value: 0.361256202074412.\n",
      "C:\\Users\\TrendingPc\\AppData\\Local\\Temp\\ipykernel_24276\\4150719641.py:86: FutureWarning:\n",
      "\n",
      "upload_artifact() got {'file_path', 'artifact_store', 'study_or_trial'} as positional arguments but they were expected to be given as keyword arguments.\n",
      "\n",
      "C:\\Users\\TrendingPc\\AppData\\Local\\Temp\\ipykernel_24276\\4150719641.py:94: FutureWarning:\n",
      "\n",
      "upload_artifact() got {'file_path', 'artifact_store', 'study_or_trial'} as positional arguments but they were expected to be given as keyword arguments.\n",
      "\n",
      "[I 2025-04-29 20:50:22,372] Trial 47 finished with value: 0.36011398912049986 and parameters: {'lambda_l1': 4.632099998503185e-07, 'lambda_l2': 7.931354224385209e-05, 'num_leaves': 160, 'feature_fraction': 0.5376887166965804, 'bagging_fraction': 0.8159667652780079, 'bagging_freq': 1, 'min_child_samples': 95}. Best is trial 11 with value: 0.361256202074412.\n",
      "C:\\Users\\TrendingPc\\AppData\\Local\\Temp\\ipykernel_24276\\4150719641.py:86: FutureWarning:\n",
      "\n",
      "upload_artifact() got {'file_path', 'artifact_store', 'study_or_trial'} as positional arguments but they were expected to be given as keyword arguments.\n",
      "\n",
      "C:\\Users\\TrendingPc\\AppData\\Local\\Temp\\ipykernel_24276\\4150719641.py:94: FutureWarning:\n",
      "\n",
      "upload_artifact() got {'file_path', 'artifact_store', 'study_or_trial'} as positional arguments but they were expected to be given as keyword arguments.\n",
      "\n",
      "[I 2025-04-29 20:50:25,353] Trial 48 finished with value: 0.35056871913099485 and parameters: {'lambda_l1': 5.962725467575964e-07, 'lambda_l2': 9.138952187338403e-05, 'num_leaves': 162, 'feature_fraction': 0.5971338278265125, 'bagging_fraction': 0.8827084683355877, 'bagging_freq': 1, 'min_child_samples': 96}. Best is trial 11 with value: 0.361256202074412.\n",
      "C:\\Users\\TrendingPc\\AppData\\Local\\Temp\\ipykernel_24276\\4150719641.py:86: FutureWarning:\n",
      "\n",
      "upload_artifact() got {'file_path', 'artifact_store', 'study_or_trial'} as positional arguments but they were expected to be given as keyword arguments.\n",
      "\n",
      "C:\\Users\\TrendingPc\\AppData\\Local\\Temp\\ipykernel_24276\\4150719641.py:94: FutureWarning:\n",
      "\n",
      "upload_artifact() got {'file_path', 'artifact_store', 'study_or_trial'} as positional arguments but they were expected to be given as keyword arguments.\n",
      "\n",
      "[I 2025-04-29 20:50:28,282] Trial 49 finished with value: 0.35532052200557257 and parameters: {'lambda_l1': 1.5332790434575502e-07, 'lambda_l2': 0.0005206401353537865, 'num_leaves': 90, 'feature_fraction': 0.6255672852949374, 'bagging_fraction': 0.7776253564332096, 'bagging_freq': 1, 'min_child_samples': 56}. Best is trial 11 with value: 0.361256202074412.\n"
     ]
    }
   ],
   "source": [
    "#Inicio el store de artefactos (archivos) de optuna\n",
    "artifact_store = FileSystemArtifactStore(base_path=PATH_TO_OPTUNA_ARTIFACTS)\n",
    "\n",
    "#Genero estudio\n",
    "study = optuna.create_study(direction='maximize',\n",
    "                            storage=\"sqlite:///../work/db.sqlite3\",  # Specify the storage URL here.\n",
    "                            study_name=\"13 - LGB Multiclass CV_base\",\n",
    "                            load_if_exists = True)\n",
    "#Corro la optimizacion\n",
    "study.optimize(cv_es_lgb_objective, n_trials=50)"
   ]
  },
  {
   "cell_type": "markdown",
   "metadata": {},
   "source": [
    "Para ver el optuna dashboard tengo que correr este comando en la terminal"
   ]
  },
  {
   "cell_type": "markdown",
   "metadata": {},
   "source": [
    "### Desde la terminal\n",
    "Para cambiar el directorio \n",
    "-  cd '/Users/ri1965/Desktop/Maestria DS Austral 2024/11 - Labo 02/work'\n",
    "\n",
    "Para correr Optuna\n",
    "- optuna-dashboard sqlite:////Users/ri1965/Desktop/Maestria\\ DS\\ Austral\\ 2024/11\\ -\\ Labo\\ 02/work/db.sqlite3 --artifact-dir /Users/ri1965/Desktop/Maestria\\ DS\\ Austral\\ 2024/11\\ -\\ Labo\\ 02/work/optuna_artifacts --port 8081\n",
    "\n",
    "Esta era la linea oficial de la cátedra\n",
    "- #!optuna-dashboard sqlite:///../work/db.sqlite3 --artifact-dir ../work/optuna_artifacts --port 8081"
   ]
  }
 ],
 "metadata": {
  "kernelspec": {
   "display_name": ".venv",
   "language": "python",
   "name": "python3"
  },
  "language_info": {
   "codemirror_mode": {
    "name": "ipython",
    "version": 3
   },
   "file_extension": ".py",
   "mimetype": "text/x-python",
   "name": "python",
   "nbconvert_exporter": "python",
   "pygments_lexer": "ipython3",
   "version": "3.12.10"
  }
 },
 "nbformat": 4,
 "nbformat_minor": 2
}
