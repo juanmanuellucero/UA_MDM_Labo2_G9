{
 "cells": [
  {
   "cell_type": "markdown",
   "id": "c5c37b40",
   "metadata": {},
   "source": [
    "## Configuracion de Entorno"
   ]
  },
  {
   "cell_type": "code",
   "execution_count": 6,
   "id": "8e3edd9b",
   "metadata": {},
   "outputs": [
    {
     "name": "stdout",
     "output_type": "stream",
     "text": [
      "Directorio actual: C:\\Users\\juanm\\GitHub\\UA_MDM_Labo2_G9\\work\n"
     ]
    }
   ],
   "source": [
    "import os\n",
    "\n",
    "# Si estás en Jupyter Notebook, anclás a una ruta conocida o fija:\n",
    "project_root = r\"C:\\Users\\juanm\\GitHub\\UA_MDM_Labo2_G9\"  # ⚠️ Personalizá esto\n",
    "\n",
    "# Alternativa: usar una carpeta conocida dentro del proyecto\n",
    "# project_root = os.path.abspath(os.path.join(os.getcwd(), \"..\"))  # Menos frágil\n",
    "\n",
    "# Rutas de trabajo\n",
    "workDir = os.path.join(project_root, \"work\")\n",
    "optunaArtifactDir = os.path.join(workDir, \"optuna_artifacts\")\n",
    "optunaTempDir = os.path.join(workDir, \"optuna_temp_artifacts\")\n",
    "\n",
    "# Crear carpetas si no existen\n",
    "os.makedirs(optunaArtifactDir, exist_ok=True)\n",
    "os.makedirs(optunaTempDir, exist_ok=True)\n",
    "\n",
    "# Cambiar al directorio de trabajo solo si es necesario\n",
    "if os.getcwd() != workDir:\n",
    "    os.chdir(workDir)\n",
    "\n",
    "print(\"Directorio actual:\", os.getcwd())\n"
   ]
  },
  {
   "cell_type": "code",
   "execution_count": 7,
   "id": "77c29884",
   "metadata": {},
   "outputs": [],
   "source": [
    "# Manipulación de datos\n",
    "import numpy as np\n",
    "import pandas as pd\n",
    "\n",
    "# Modelado: Gradient Boosting\n",
    "import lightgbm as lgb\n",
    "\n",
    "# Sklearn: splits, métricas y utilidades\n",
    "from sklearn.model_selection import train_test_split, StratifiedKFold\n",
    "from sklearn.metrics import cohen_kappa_score, accuracy_score, balanced_accuracy_score\n",
    "from sklearn.utils import shuffle\n",
    "\n",
    "# Visualización\n",
    "import matplotlib.pyplot as plt  # Usar junto con seaborn o plotly si es necesario\n",
    "import plotly.express as px      # Corrección: no usar `from plotly import express as px`\n",
    "\n",
    "# Optuna para optimización de hiperparámetros\n",
    "import optuna\n",
    "from optuna.artifacts import FileSystemArtifactStore, upload_artifact\n",
    "\n",
    "# Utilidades propias\n",
    "from utiles import plot_confusion_matrix\n",
    "\n",
    "# Guardado de objetos\n",
    "from joblib import dump, load\n",
    "\n",
    "# Sistema\n",
    "import os"
   ]
  },
  {
   "cell_type": "code",
   "execution_count": 8,
   "id": "1b908605",
   "metadata": {},
   "outputs": [],
   "source": [
    "# Paths para acceso archivos\n",
    "#Este notebook asume la siguiente estructura de carpetas a partir de la ubicacion de base_dir \n",
    "#(dos niveles arriba de la cƒarpeta donde se ejecuta el notebook). \n",
    "# /ƒ/ƒ\n",
    "# /UA_MDM_Labo2/inputƒ\n",
    "# /UA_MDM_Labo2/input/petfinder-adoption-prediction/            <- Aca deben ir todos los archivos de datos de la competencia \n",
    "# /UA_MDM_Labo2/tutoriales/                       <- Aca deben poner los notebooks y scripts que les compartimos\n",
    "# /UA_MDM_Labo2/work/                             <- Resultados de notebooks iran dentro de esta carpeta en subcarpetas\n",
    "# /UA_MDM_Labo2/work/models/                     <- Modelos entrenados en archivos joblibs\n",
    "# /UA_MDM_Labo2/work/optuna_temp_artifacts/      <- Archivos que queremos dejar como artefacto de un trial de optuna (optuna los copiara a la carpeta de abajo)\n",
    "# /UA_MDM_Labo2/work/optuna_artifacts/           <- Archivos con artefactos que sibimos a optuna\n",
    "\n",
    "#Subimos dos niveles para quedar en la carpeta que contiene input y UA_MDM_Labo2\n",
    "BASE_DIR = '../'\n",
    "\n",
    "#Datos de entrenamiento \n",
    "PATH_TO_TRAIN = os.path.join(BASE_DIR, \"input/petfinder-adoption-prediction/train/train.csv\")\n",
    "\n",
    "#Salida de modelos entrenados\n",
    "PATH_TO_MODELS = os.path.join(BASE_DIR, \"work/models\")\n",
    "\n",
    "#Artefactos a subir a optuna\n",
    "PATH_TO_TEMP_FILES = os.path.join(BASE_DIR, \"work/optuna_temp_artifacts\")\n",
    "\n",
    "#Artefactos que optuna gestiona\n",
    "PATH_TO_OPTUNA_ARTIFACTS = os.path.join(BASE_DIR, \"work/optuna_artifacts\")\n",
    "\n",
    "\n",
    "SEED = 42 #Semilla de procesos aleatorios (para poder replicar exactamente al volver a correr un modelo)\n",
    "TEST_SIZE = 0.2 #Facción para train/test= split"
   ]
  },
  {
   "cell_type": "markdown",
   "id": "dcfe00fc",
   "metadata": {},
   "source": [
    "## Descripcion Feature Engineering"
   ]
  },
  {
   "cell_type": "markdown",
   "id": "315f0781",
   "metadata": {},
   "source": [
    "### 🔹 1. **Transformaciones directas útiles**\n",
    "Variables que ya estaban en los datos, pero necesitaban reformularse para ser más informativas o manejables.\n",
    "\n",
    "| Variable            | Qué hace                                                   | Por qué ayuda                                                  |\n",
    "|---------------------|------------------------------------------------------------|-----------------------------------------------------------------|\n",
    "| `HasName`           | Indica si el animal tiene nombre                           | Un animal con nombre puede verse más cercano o adoptable       |\n",
    "| `HasPhoto`          | Indica si tiene al menos una foto                          | Las fotos mejoran visibilidad y atracción                      |\n",
    "| `HasVideo`          | Indica si tiene video cargado                              | Videos pueden generar más confianza y detalle visual           |\n",
    "| `HasDescription`    | Indica si hay texto descriptivo                            | Sin descripción puede percibirse como menos confiable          |\n",
    "| `MixBreed`          | Indica si es de raza mixta (`Breed2 ≠ 0`)                  | Las razas puras pueden ser preferidas o evitadas               |\n",
    "| `TotalColors`       | Cuántos colores distintos tiene el animal                  | Puede influir en la percepción estética                        |\n",
    "| `Fee_log`           | Log del precio de adopción                                 | Reduce el impacto de valores extremos                          |\n",
    "| `DescLength`        | Longitud de la descripción del anuncio                     | Anuncios más detallados pueden atraer más                      |\n",
    "| `IsFree`            | Indica si el animal es gratuito (`Fee == 0`)               | El costo influye en la decisión de adoptar                     |\n",
    "\n",
    "**Objetivo**: facilitar al modelo patrones lineales y normalizados.\n",
    "\n",
    "---\n",
    "\n",
    "### 🔹 2. **Reagrupaciones o codificaciones útiles**\n",
    "Transforman datos categóricos o numéricos en formas que capturan relaciones importantes.\n",
    "\n",
    "| Variable             | Qué hace                                                        | Por qué ayuda                                                   |\n",
    "|----------------------|------------------------------------------------------------------|------------------------------------------------------------------|\n",
    "| `AgeBins`            | Categorización de edades (ej: cachorro, adulto)                 | Refleja fases vitales con diferentes tasas de adopción           |\n",
    "| `Type_Breed_Combo`   | Combina tipo de animal y raza principal                         | Algunas combinaciones son más atractivas para adoptantes         |\n",
    "| `RescuerCount`       | Cuántos animales publicó ese rescatista                         | Un rescatista muy activo puede tener diferente tasa de éxito     |\n",
    "| `DescriptionType`    | Clasifica la longitud de la descripción (ninguna, corta, media, larga) | Permite distinguir esfuerzo y detalle en el anuncio         |\n",
    "\n",
    "**Objetivo**: capturar efectos de grupos que el modelo pueda aprender más fácilmente.\n",
    "\n",
    "---\n",
    "\n",
    "### 🔹 3. **Interacciones entre variables**\n",
    "Estas variables combinan otras para capturar relaciones no lineales o más profundas.\n",
    "\n",
    "| Variable               | Qué hace                                                             | Por qué ayuda                                                        |\n",
    "|------------------------|----------------------------------------------------------------------|----------------------------------------------------------------------|\n",
    "| `Fee_per_Pet`          | Distribuye el costo entre la cantidad de animales                   | Costo individual más preciso para grupos de mascotas                 |\n",
    "| `Photo_per_Pet`        | Normaliza la cantidad de fotos según cantidad                       | Más fotos por mascota puede reflejar mayor dedicación                |\n",
    "| `Age_Fee_Ratio`        | Relación entre edad y costo                                          | Puede capturar si hay sobreprecio para ciertas edades                |\n",
    "| `DescLength_per_Pet`   | Texto por animal (en caso de grupos)                                | Descripciones muy generales pueden indicar poca información útil     |\n",
    "\n",
    "**Objetivo**: capturar relaciones más sutiles y específicas entre múltiples variables.\n",
    "\n",
    "---\n",
    "\n",
    "### 🔹 4. **Perfiles ideales y esfuerzo del rescatista**\n",
    "Condensan múltiples variables en indicadores que reflejan un “perfil atractivo” para adopción.\n",
    "\n",
    "| Variable         | Qué hace                                                                 | Por qué ayuda                                                                 |\n",
    "|------------------|--------------------------------------------------------------------------|-------------------------------------------------------------------------------|\n",
    "| `IsIdealDog`     | Indica si el perro cumple un perfil ideal de adopción                   | Resume características clave para adopción rápida (joven, saludable, gratuito, etc.) |\n",
    "| `IsIdealCat`     | Idem, pero para gatos                                                    | Permite modelar adopción exitosa específica para gatos                       |\n",
    "| `IsIdealPet`     | Indica si el animal cumple con el perfil ideal, perro o gato            | Unifica ambos perfiles en un solo indicador general                          |\n",
    "\n",
    "**Objetivo**: sintetizar múltiples condiciones de “adoptabilidad” que serían difíciles de capturar individualmente por el modelo."
   ]
  },
  {
   "cell_type": "markdown",
   "id": "0e967956",
   "metadata": {},
   "source": [
    "## Feature Engineering"
   ]
  },
  {
   "cell_type": "code",
   "execution_count": 10,
   "id": "2bd789d0",
   "metadata": {},
   "outputs": [
    {
     "name": "stdout",
     "output_type": "stream",
     "text": [
      "Nuevas columnas agregadas:\n",
      "- HasName\n",
      "- HasPhoto\n",
      "- HasVideo\n",
      "- HasDescription\n",
      "- MixBreed\n",
      "- TotalColors\n",
      "- Fee_log\n",
      "- DescLength\n",
      "- IsFree\n",
      "- AgeBins\n",
      "- Type_Breed_Combo\n",
      "- RescuerCount\n",
      "- Fee_per_Pet\n",
      "- Photo_per_Pet\n",
      "- Age_Fee_Ratio\n",
      "- DescLength_per_Pet\n",
      "- DescriptionType\n",
      "- IsIdealDog\n",
      "- IsIdealCat\n",
      "- IsIdealPet\n"
     ]
    }
   ],
   "source": [
    "import numpy as np\n",
    "import pandas as pd\n",
    "\n",
    "# Cargar el dataset\n",
    "dataset = pd.read_csv(PATH_TO_TRAIN)\n",
    "\n",
    "# 1. Tiene nombre\n",
    "dataset['HasName'] = dataset['Name'].notnull().astype(int)\n",
    "\n",
    "# 2. Tiene Foto\n",
    "dataset['HasPhoto'] = (dataset['PhotoAmt'] > 0).astype(int)\n",
    "\n",
    "# 3. Tiene Video\n",
    "dataset['HasVideo'] = (dataset['VideoAmt'] > 0).astype(int)\n",
    "\n",
    "# 4. Tiene Description\n",
    "dataset['HasDescription'] = (dataset['Description'].notnull()).astype(int)\n",
    "\n",
    "# 5. Es de raza mixta\n",
    "dataset['MixBreed'] = (dataset['Breed2'] != 0).astype(int)\n",
    "\n",
    "# 6. Total de colores diferentes\n",
    "dataset['TotalColors'] = dataset[['Color1', 'Color2', 'Color3']].ne(0).sum(axis=1)\n",
    "\n",
    "# 7. Log de la tarifa (evita problemas con outliers)\n",
    "dataset['Fee_log'] = np.log1p(dataset['Fee'])\n",
    "\n",
    "# 8. Longitud de la descripción\n",
    "dataset['DescLength'] = dataset['Description'].fillna('').apply(len)\n",
    "\n",
    "# 9. Adopción gratuita\n",
    "dataset['IsFree'] = (dataset['Fee'] == 0).astype(int)\n",
    "\n",
    "# 10. Bin de edad (categórica ordinal)\n",
    "dataset['AgeBins'] = pd.cut(dataset['Age'],\n",
    "                            bins=[-1, 6, 12, 60, 120, np.inf],\n",
    "                            labels=['Cachorro', 'Joven', 'Adulto', 'Mayor', 'Anciano'])\n",
    "\n",
    "# 11. Combinación tipo-raza principal\n",
    "dataset['Type_Breed_Combo'] = dataset['Type'].astype(str) + '_' + dataset['Breed1'].astype(str)\n",
    "\n",
    "# 12. Cuántas mascotas publicó cada rescatista\n",
    "rescuer_counts = dataset['RescuerID'].value_counts()\n",
    "dataset['RescuerCount'] = dataset['RescuerID'].map(rescuer_counts)\n",
    "\n",
    "# 13. Tarifa por mascota\n",
    "dataset['Fee_per_Pet'] = dataset['Fee'] / dataset['Quantity'].replace(0, 1)\n",
    "\n",
    "# 14. Fotos por mascota\n",
    "dataset['Photo_per_Pet'] = dataset['PhotoAmt'] / dataset['Quantity'].replace(0, 1)\n",
    "\n",
    "# 15. Relación edad/tarifa\n",
    "dataset['Age_Fee_Ratio'] = dataset['Age'] / (dataset['Fee'] + 1)\n",
    "\n",
    "# 16. Longitud descripción por mascota\n",
    "dataset['DescLength_per_Pet'] = dataset['DescLength'] / dataset['Quantity'].replace(0, 1)\n",
    "\n",
    "# 17. Categorización de longitud de descripción\n",
    "dataset['DescriptionType'] = pd.cut(dataset['Description'].fillna('').apply(len),\n",
    "                                    bins=[0, 5, 170, 3500, np.inf],\n",
    "                                    labels=['Ninguna', 'Corta', 'Media', 'Larga'])\n",
    "\n",
    "# 18. Perfil ideal de perro\n",
    "dataset['IsIdealDog'] = (\n",
    "    (dataset['Type'] == 1) &\n",
    "    (dataset['MaturitySize'].isin([1, 2])) &\n",
    "    (dataset['HasName'] == 1) &\n",
    "    (dataset['Age'] > 0) & (dataset['Age'] < 24) &\n",
    "    (dataset['Health'] == 1) &\n",
    "    (dataset['Fee'] == 0) &\n",
    "    (dataset['DescriptionType'].isin(['Corta', 'Media'])) &\n",
    "    (dataset['Breed2'] == 0) &\n",
    "    (dataset['Quantity'] == 1) &\n",
    "    (dataset['HasPhoto'] == 1) &   # <== Agregado &\n",
    "    (dataset['Vaccinated'] == 1) &\n",
    "    (dataset['Dewormed'] == 1) &\n",
    "    (dataset['Sterilized'] == 1)\n",
    ").astype(int)\n",
    "\n",
    "# 19. Perfil ideal de gato\n",
    "dataset['IsIdealCat'] = (\n",
    "    (dataset['Type'] == 2) &\n",
    "    (dataset['MaturitySize'].isin([1, 2])) &\n",
    "    (dataset['HasName'] == 1) &\n",
    "    (dataset['Age'] > 0) & (dataset['Age'] < 24) &\n",
    "    (dataset['Health'] == 1) &\n",
    "    (dataset['Fee'] == 0) &\n",
    "    (dataset['DescriptionType'].isin(['Corta', 'Media'])) &\n",
    "    (dataset['Breed2'] == 0) &\n",
    "    (dataset['Quantity'] == 1) &\n",
    "    (dataset['HasPhoto'] == 1) &   # <== Agregado &\n",
    "    (dataset['Vaccinated'] == 1) &\n",
    "    (dataset['Dewormed'] == 1) &\n",
    "    (dataset['Sterilized'] == 1)\n",
    ").astype(int)\n",
    "\n",
    "\n",
    "# 20. Perfil ideal general\n",
    "dataset['IsIdealPet'] = (\n",
    "    (dataset['IsIdealDog'] == 1) | \n",
    "    (dataset['IsIdealCat'] == 1)\n",
    ").astype(int)\n",
    "\n",
    "# Convertir columnas categóricas a tipo 'category' (compatible con LightGBM)\n",
    "dataset['AgeBins'] = dataset['AgeBins'].astype('category')\n",
    "dataset['Type_Breed_Combo'] = dataset['Type_Breed_Combo'].astype('category')\n",
    "dataset['DescriptionType'] = dataset['DescriptionType'].astype('category')\n",
    "\n",
    "# Verificamos\n",
    "nuevas_columnas = dataset.columns[-20:]\n",
    "print(\"Nuevas columnas agregadas:\")\n",
    "for col in nuevas_columnas:\n",
    "    print(f\"- {col}\")\n"
   ]
  },
  {
   "cell_type": "code",
   "execution_count": 11,
   "id": "26004c60",
   "metadata": {},
   "outputs": [
    {
     "name": "stdout",
     "output_type": "stream",
     "text": [
      "Listado completo de columnas:\n",
      "00: Type\n",
      "01: Name\n",
      "02: Age\n",
      "03: Breed1\n",
      "04: Breed2\n",
      "05: Gender\n",
      "06: Color1\n",
      "07: Color2\n",
      "08: Color3\n",
      "09: MaturitySize\n",
      "10: FurLength\n",
      "11: Vaccinated\n",
      "12: Dewormed\n",
      "13: Sterilized\n",
      "14: Health\n",
      "15: Quantity\n",
      "16: Fee\n",
      "17: State\n",
      "18: RescuerID\n",
      "19: VideoAmt\n",
      "20: Description\n",
      "21: PetID\n",
      "22: PhotoAmt\n",
      "23: AdoptionSpeed\n",
      "24: HasName\n",
      "25: HasPhoto\n",
      "26: HasVideo\n",
      "27: HasDescription\n",
      "28: MixBreed\n",
      "29: TotalColors\n",
      "30: Fee_log\n",
      "31: DescLength\n",
      "32: IsFree\n",
      "33: AgeBins\n",
      "34: Type_Breed_Combo\n",
      "35: RescuerCount\n",
      "36: Fee_per_Pet\n",
      "37: Photo_per_Pet\n",
      "38: Age_Fee_Ratio\n",
      "39: DescLength_per_Pet\n",
      "40: DescriptionType\n",
      "41: IsIdealDog\n",
      "42: IsIdealCat\n",
      "43: IsIdealPet\n"
     ]
    }
   ],
   "source": [
    "# Listado total de columnas\n",
    "print(\"Listado completo de columnas:\")\n",
    "for i, col in enumerate(dataset.columns):\n",
    "    print(f\"{i:02d}: {col}\")"
   ]
  },
  {
   "cell_type": "code",
   "execution_count": 12,
   "id": "56111d8e",
   "metadata": {},
   "outputs": [
    {
     "data": {
      "text/plain": [
       "['Type',\n",
       " 'Age',\n",
       " 'Breed1',\n",
       " 'Breed2',\n",
       " 'Gender',\n",
       " 'Color1',\n",
       " 'Color2',\n",
       " 'Color3',\n",
       " 'MaturitySize',\n",
       " 'FurLength',\n",
       " 'Vaccinated',\n",
       " 'Dewormed',\n",
       " 'Sterilized',\n",
       " 'Health',\n",
       " 'Quantity',\n",
       " 'Fee',\n",
       " 'State',\n",
       " 'VideoAmt',\n",
       " 'PhotoAmt',\n",
       " 'AdoptionSpeed',\n",
       " 'HasName',\n",
       " 'HasPhoto',\n",
       " 'HasVideo',\n",
       " 'HasDescription',\n",
       " 'MixBreed',\n",
       " 'TotalColors',\n",
       " 'Fee_log',\n",
       " 'DescLength',\n",
       " 'IsFree',\n",
       " 'AgeBins',\n",
       " 'Type_Breed_Combo',\n",
       " 'RescuerCount',\n",
       " 'Fee_per_Pet',\n",
       " 'Photo_per_Pet',\n",
       " 'Age_Fee_Ratio',\n",
       " 'DescLength_per_Pet',\n",
       " 'DescriptionType',\n",
       " 'IsIdealDog',\n",
       " 'IsIdealCat',\n",
       " 'IsIdealPet']"
      ]
     },
     "execution_count": 12,
     "metadata": {},
     "output_type": "execute_result"
    }
   ],
   "source": [
    "#Separo un 20% para test estratificado opr target\n",
    "train, test = train_test_split(dataset,\n",
    "                               test_size = TEST_SIZE,\n",
    "                               random_state = SEED,\n",
    "                               stratify = dataset.AdoptionSpeed)\n",
    "\n",
    "#Armo listas con features de texto y numericas\n",
    "char_feats = [f for f in dataset.columns if dataset[f].dtype=='O']\n",
    "numeric_feats = [f for f in dataset.columns if dataset[f].dtype!='O']\n",
    "\n",
    "#Lista de features numericas\n",
    "numeric_feats"
   ]
  },
  {
   "cell_type": "code",
   "execution_count": 13,
   "id": "74846467",
   "metadata": {},
   "outputs": [
    {
     "name": "stdout",
     "output_type": "stream",
     "text": [
      "['Type', 'Age', 'Breed1', 'Breed2', 'Gender', 'Color1', 'Color2', 'Color3', 'MaturitySize', 'FurLength', 'Vaccinated', 'Dewormed', 'Sterilized', 'Health', 'Quantity', 'Fee', 'State', 'VideoAmt', 'PhotoAmt', 'HasName', 'HasPhoto', 'HasVideo', 'HasDescription', 'MixBreed', 'TotalColors', 'Fee_log', 'DescLength', 'IsFree', 'AgeBins', 'Type_Breed_Combo', 'RescuerCount', 'Fee_per_Pet', 'Photo_per_Pet', 'Age_Fee_Ratio', 'DescLength_per_Pet', 'DescriptionType', 'IsIdealDog', 'IsIdealCat', 'IsIdealPet']\n"
     ]
    }
   ],
   "source": [
    "#Defino features a usar\n",
    "features = numeric_feats.copy()\n",
    "label = 'AdoptionSpeed'\n",
    "\n",
    "# Eliminamos 'AdoptionSpeed' si está\n",
    "if 'AdoptionSpeed' in features:\n",
    "    features.remove('AdoptionSpeed')\n",
    "\n",
    "#Genero dataframes de train y test con sus respectivos targets\n",
    "X_train = train[features]\n",
    "y_train = train[label]\n",
    "\n",
    "X_test = test[features]\n",
    "y_test = test[label]\n",
    "\n",
    "print(features)"
   ]
  },
  {
   "cell_type": "markdown",
   "id": "67ca5d89",
   "metadata": {},
   "source": [
    "## Modelo con hiperparametros por default"
   ]
  },
  {
   "cell_type": "code",
   "execution_count": 14,
   "id": "f4cacb84",
   "metadata": {},
   "outputs": [
    {
     "name": "stdout",
     "output_type": "stream",
     "text": [
      "[LightGBM] [Info] Auto-choosing row-wise multi-threading, the overhead of testing was 0.000748 seconds.\n",
      "You can set `force_row_wise=true` to remove the overhead.\n",
      "And if memory is not enough, you can set `force_col_wise=true`.\n",
      "[LightGBM] [Info] Total Bins 1575\n",
      "[LightGBM] [Info] Number of data points in the train set: 11994, number of used features: 38\n",
      "[LightGBM] [Info] Start training from score -3.599148\n",
      "[LightGBM] [Info] Start training from score -1.579379\n",
      "[LightGBM] [Info] Start training from score -1.311924\n",
      "[LightGBM] [Info] Start training from score -1.526206\n",
      "[LightGBM] [Info] Start training from score -1.273359\n"
     ]
    }
   ],
   "source": [
    "#Entreno un modelo inicial sin modificar hiperparametros. Solamente especifico el numero de clases y el tipo de modelo como clasificacoión\n",
    "lgb_params = params = {\n",
    "                        'objective': 'multiclass',\n",
    "                        'num_class': len(y_train.unique())\n",
    "                        }\n",
    "\n",
    "\n",
    "#genero el objeto Dataset que debo pasarle a lightgbm para que entrene\n",
    "lgb_train_dataset = lgb.Dataset(data=X_train,\n",
    "                                label=y_train)\n",
    "\n",
    "#entreno el modelo con los parametros por defecto\n",
    "lgb_model = lgb.train(lgb_params,\n",
    "                      lgb_train_dataset)"
   ]
  },
  {
   "cell_type": "code",
   "execution_count": 15,
   "id": "de7e6584",
   "metadata": {},
   "outputs": [
    {
     "data": {
      "text/plain": [
       "array([2, 2, 2, ..., 1, 4, 4], shape=(2999,))"
      ]
     },
     "execution_count": 15,
     "metadata": {},
     "output_type": "execute_result"
    }
   ],
   "source": [
    "lgb_model.predict(X_test).argmax(axis=1)"
   ]
  },
  {
   "cell_type": "code",
   "execution_count": 16,
   "id": "b0683698",
   "metadata": {},
   "outputs": [
    {
     "name": "stdout",
     "output_type": "stream",
     "text": [
      "0.36945550288802764\n"
     ]
    },
    {
     "data": {
      "application/vnd.plotly.v1+json": {
       "config": {
        "plotlyServerURL": "https://plot.ly"
       },
       "data": [
        {
         "type": "heatmap",
         "x": {
          "bdata": "AAECAwQ=",
          "dtype": "i1"
         },
         "y": {
          "bdata": "AAECAwQ=",
          "dtype": "i1"
         },
         "z": {
          "bdata": "E7UrUbsSIUCD8zE4H4NDQA3Ox+B8DDxAZHA+BudjGEBL1K5E7UoyQBNIJedlEd8/S7HCYaLMQUA79Xh2zehAQAxqgHF7HyJAzegr/xwJNUCZSSgX8bjPP7w5puz6bzVAtPiQcdZEQ0BfDP/EtQUqQBj+iWsLxDpAsDCrUcShwz/LdceLLcEtQFHPVK47Xj5AbAm+zV9hOkD8FWY1ijg8QLdt27Zt29Y/DMMwDMMwJUBVVVVVVVUsQKuqqqqqqhpA3LZt27YNUUA=",
          "dtype": "f8",
          "shape": "5, 5"
         }
        }
       ],
       "layout": {
        "annotations": [
         {
          "font": {
           "color": "white"
          },
          "showarrow": false,
          "text": "8.5 - 7",
          "x": 0,
          "xref": "x",
          "y": 0,
          "yref": "y"
         },
         {
          "font": {
           "color": "white"
          },
          "showarrow": false,
          "text": "39.0 - 32",
          "x": 1,
          "xref": "x",
          "y": 0,
          "yref": "y"
         },
         {
          "font": {
           "color": "white"
          },
          "showarrow": false,
          "text": "28.0 - 23",
          "x": 2,
          "xref": "x",
          "y": 0,
          "yref": "y"
         },
         {
          "font": {
           "color": "white"
          },
          "showarrow": false,
          "text": "6.1 - 5",
          "x": 3,
          "xref": "x",
          "y": 0,
          "yref": "y"
         },
         {
          "font": {
           "color": "white"
          },
          "showarrow": false,
          "text": "18.3 - 15",
          "x": 4,
          "xref": "x",
          "y": 0,
          "yref": "y"
         },
         {
          "font": {
           "color": "white"
          },
          "showarrow": false,
          "text": "0.5 - 3",
          "x": 0,
          "xref": "x",
          "y": 1,
          "yref": "y"
         },
         {
          "font": {
           "color": "white"
          },
          "showarrow": false,
          "text": "35.6 - 220",
          "x": 1,
          "xref": "x",
          "y": 1,
          "yref": "y"
         },
         {
          "font": {
           "color": "white"
          },
          "showarrow": false,
          "text": "33.8 - 209",
          "x": 2,
          "xref": "x",
          "y": 1,
          "yref": "y"
         },
         {
          "font": {
           "color": "white"
          },
          "showarrow": false,
          "text": "9.1 - 56",
          "x": 3,
          "xref": "x",
          "y": 1,
          "yref": "y"
         },
         {
          "font": {
           "color": "white"
          },
          "showarrow": false,
          "text": "21.0 - 130",
          "x": 4,
          "xref": "x",
          "y": 1,
          "yref": "y"
         },
         {
          "font": {
           "color": "white"
          },
          "showarrow": false,
          "text": "0.2 - 2",
          "x": 0,
          "xref": "x",
          "y": 2,
          "yref": "y"
         },
         {
          "font": {
           "color": "white"
          },
          "showarrow": false,
          "text": "21.4 - 173",
          "x": 1,
          "xref": "x",
          "y": 2,
          "yref": "y"
         },
         {
          "font": {
           "color": "white"
          },
          "showarrow": false,
          "text": "38.5 - 311",
          "x": 2,
          "xref": "x",
          "y": 2,
          "yref": "y"
         },
         {
          "font": {
           "color": "white"
          },
          "showarrow": false,
          "text": "13.0 - 105",
          "x": 3,
          "xref": "x",
          "y": 2,
          "yref": "y"
         },
         {
          "font": {
           "color": "white"
          },
          "showarrow": false,
          "text": "26.8 - 216",
          "x": 4,
          "xref": "x",
          "y": 2,
          "yref": "y"
         },
         {
          "font": {
           "color": "white"
          },
          "showarrow": false,
          "text": "0.2 - 1",
          "x": 0,
          "xref": "x",
          "y": 3,
          "yref": "y"
         },
         {
          "font": {
           "color": "white"
          },
          "showarrow": false,
          "text": "14.9 - 97",
          "x": 1,
          "xref": "x",
          "y": 3,
          "yref": "y"
         },
         {
          "font": {
           "color": "white"
          },
          "showarrow": false,
          "text": "30.4 - 198",
          "x": 2,
          "xref": "x",
          "y": 3,
          "yref": "y"
         },
         {
          "font": {
           "color": "white"
          },
          "showarrow": false,
          "text": "26.4 - 172",
          "x": 3,
          "xref": "x",
          "y": 3,
          "yref": "y"
         },
         {
          "font": {
           "color": "white"
          },
          "showarrow": false,
          "text": "28.2 - 184",
          "x": 4,
          "xref": "x",
          "y": 3,
          "yref": "y"
         },
         {
          "font": {
           "color": "white"
          },
          "showarrow": false,
          "text": "0.4 - 3",
          "x": 0,
          "xref": "x",
          "y": 4,
          "yref": "y"
         },
         {
          "font": {
           "color": "white"
          },
          "showarrow": false,
          "text": "10.6 - 89",
          "x": 1,
          "xref": "x",
          "y": 4,
          "yref": "y"
         },
         {
          "font": {
           "color": "white"
          },
          "showarrow": false,
          "text": "14.2 - 119",
          "x": 2,
          "xref": "x",
          "y": 4,
          "yref": "y"
         },
         {
          "font": {
           "color": "white"
          },
          "showarrow": false,
          "text": "6.7 - 56",
          "x": 3,
          "xref": "x",
          "y": 4,
          "yref": "y"
         },
         {
          "font": {
           "color": "white"
          },
          "showarrow": false,
          "text": "68.2 - 573",
          "x": 4,
          "xref": "x",
          "y": 4,
          "yref": "y"
         }
        ],
        "height": 800,
        "template": {
         "data": {
          "bar": [
           {
            "error_x": {
             "color": "#2a3f5f"
            },
            "error_y": {
             "color": "#2a3f5f"
            },
            "marker": {
             "line": {
              "color": "#E5ECF6",
              "width": 0.5
             },
             "pattern": {
              "fillmode": "overlay",
              "size": 10,
              "solidity": 0.2
             }
            },
            "type": "bar"
           }
          ],
          "barpolar": [
           {
            "marker": {
             "line": {
              "color": "#E5ECF6",
              "width": 0.5
             },
             "pattern": {
              "fillmode": "overlay",
              "size": 10,
              "solidity": 0.2
             }
            },
            "type": "barpolar"
           }
          ],
          "carpet": [
           {
            "aaxis": {
             "endlinecolor": "#2a3f5f",
             "gridcolor": "white",
             "linecolor": "white",
             "minorgridcolor": "white",
             "startlinecolor": "#2a3f5f"
            },
            "baxis": {
             "endlinecolor": "#2a3f5f",
             "gridcolor": "white",
             "linecolor": "white",
             "minorgridcolor": "white",
             "startlinecolor": "#2a3f5f"
            },
            "type": "carpet"
           }
          ],
          "choropleth": [
           {
            "colorbar": {
             "outlinewidth": 0,
             "ticks": ""
            },
            "type": "choropleth"
           }
          ],
          "contour": [
           {
            "colorbar": {
             "outlinewidth": 0,
             "ticks": ""
            },
            "colorscale": [
             [
              0,
              "#0d0887"
             ],
             [
              0.1111111111111111,
              "#46039f"
             ],
             [
              0.2222222222222222,
              "#7201a8"
             ],
             [
              0.3333333333333333,
              "#9c179e"
             ],
             [
              0.4444444444444444,
              "#bd3786"
             ],
             [
              0.5555555555555556,
              "#d8576b"
             ],
             [
              0.6666666666666666,
              "#ed7953"
             ],
             [
              0.7777777777777778,
              "#fb9f3a"
             ],
             [
              0.8888888888888888,
              "#fdca26"
             ],
             [
              1,
              "#f0f921"
             ]
            ],
            "type": "contour"
           }
          ],
          "contourcarpet": [
           {
            "colorbar": {
             "outlinewidth": 0,
             "ticks": ""
            },
            "type": "contourcarpet"
           }
          ],
          "heatmap": [
           {
            "colorbar": {
             "outlinewidth": 0,
             "ticks": ""
            },
            "colorscale": [
             [
              0,
              "#0d0887"
             ],
             [
              0.1111111111111111,
              "#46039f"
             ],
             [
              0.2222222222222222,
              "#7201a8"
             ],
             [
              0.3333333333333333,
              "#9c179e"
             ],
             [
              0.4444444444444444,
              "#bd3786"
             ],
             [
              0.5555555555555556,
              "#d8576b"
             ],
             [
              0.6666666666666666,
              "#ed7953"
             ],
             [
              0.7777777777777778,
              "#fb9f3a"
             ],
             [
              0.8888888888888888,
              "#fdca26"
             ],
             [
              1,
              "#f0f921"
             ]
            ],
            "type": "heatmap"
           }
          ],
          "histogram": [
           {
            "marker": {
             "pattern": {
              "fillmode": "overlay",
              "size": 10,
              "solidity": 0.2
             }
            },
            "type": "histogram"
           }
          ],
          "histogram2d": [
           {
            "colorbar": {
             "outlinewidth": 0,
             "ticks": ""
            },
            "colorscale": [
             [
              0,
              "#0d0887"
             ],
             [
              0.1111111111111111,
              "#46039f"
             ],
             [
              0.2222222222222222,
              "#7201a8"
             ],
             [
              0.3333333333333333,
              "#9c179e"
             ],
             [
              0.4444444444444444,
              "#bd3786"
             ],
             [
              0.5555555555555556,
              "#d8576b"
             ],
             [
              0.6666666666666666,
              "#ed7953"
             ],
             [
              0.7777777777777778,
              "#fb9f3a"
             ],
             [
              0.8888888888888888,
              "#fdca26"
             ],
             [
              1,
              "#f0f921"
             ]
            ],
            "type": "histogram2d"
           }
          ],
          "histogram2dcontour": [
           {
            "colorbar": {
             "outlinewidth": 0,
             "ticks": ""
            },
            "colorscale": [
             [
              0,
              "#0d0887"
             ],
             [
              0.1111111111111111,
              "#46039f"
             ],
             [
              0.2222222222222222,
              "#7201a8"
             ],
             [
              0.3333333333333333,
              "#9c179e"
             ],
             [
              0.4444444444444444,
              "#bd3786"
             ],
             [
              0.5555555555555556,
              "#d8576b"
             ],
             [
              0.6666666666666666,
              "#ed7953"
             ],
             [
              0.7777777777777778,
              "#fb9f3a"
             ],
             [
              0.8888888888888888,
              "#fdca26"
             ],
             [
              1,
              "#f0f921"
             ]
            ],
            "type": "histogram2dcontour"
           }
          ],
          "mesh3d": [
           {
            "colorbar": {
             "outlinewidth": 0,
             "ticks": ""
            },
            "type": "mesh3d"
           }
          ],
          "parcoords": [
           {
            "line": {
             "colorbar": {
              "outlinewidth": 0,
              "ticks": ""
             }
            },
            "type": "parcoords"
           }
          ],
          "pie": [
           {
            "automargin": true,
            "type": "pie"
           }
          ],
          "scatter": [
           {
            "fillpattern": {
             "fillmode": "overlay",
             "size": 10,
             "solidity": 0.2
            },
            "type": "scatter"
           }
          ],
          "scatter3d": [
           {
            "line": {
             "colorbar": {
              "outlinewidth": 0,
              "ticks": ""
             }
            },
            "marker": {
             "colorbar": {
              "outlinewidth": 0,
              "ticks": ""
             }
            },
            "type": "scatter3d"
           }
          ],
          "scattercarpet": [
           {
            "marker": {
             "colorbar": {
              "outlinewidth": 0,
              "ticks": ""
             }
            },
            "type": "scattercarpet"
           }
          ],
          "scattergeo": [
           {
            "marker": {
             "colorbar": {
              "outlinewidth": 0,
              "ticks": ""
             }
            },
            "type": "scattergeo"
           }
          ],
          "scattergl": [
           {
            "marker": {
             "colorbar": {
              "outlinewidth": 0,
              "ticks": ""
             }
            },
            "type": "scattergl"
           }
          ],
          "scattermap": [
           {
            "marker": {
             "colorbar": {
              "outlinewidth": 0,
              "ticks": ""
             }
            },
            "type": "scattermap"
           }
          ],
          "scattermapbox": [
           {
            "marker": {
             "colorbar": {
              "outlinewidth": 0,
              "ticks": ""
             }
            },
            "type": "scattermapbox"
           }
          ],
          "scatterpolar": [
           {
            "marker": {
             "colorbar": {
              "outlinewidth": 0,
              "ticks": ""
             }
            },
            "type": "scatterpolar"
           }
          ],
          "scatterpolargl": [
           {
            "marker": {
             "colorbar": {
              "outlinewidth": 0,
              "ticks": ""
             }
            },
            "type": "scatterpolargl"
           }
          ],
          "scatterternary": [
           {
            "marker": {
             "colorbar": {
              "outlinewidth": 0,
              "ticks": ""
             }
            },
            "type": "scatterternary"
           }
          ],
          "surface": [
           {
            "colorbar": {
             "outlinewidth": 0,
             "ticks": ""
            },
            "colorscale": [
             [
              0,
              "#0d0887"
             ],
             [
              0.1111111111111111,
              "#46039f"
             ],
             [
              0.2222222222222222,
              "#7201a8"
             ],
             [
              0.3333333333333333,
              "#9c179e"
             ],
             [
              0.4444444444444444,
              "#bd3786"
             ],
             [
              0.5555555555555556,
              "#d8576b"
             ],
             [
              0.6666666666666666,
              "#ed7953"
             ],
             [
              0.7777777777777778,
              "#fb9f3a"
             ],
             [
              0.8888888888888888,
              "#fdca26"
             ],
             [
              1,
              "#f0f921"
             ]
            ],
            "type": "surface"
           }
          ],
          "table": [
           {
            "cells": {
             "fill": {
              "color": "#EBF0F8"
             },
             "line": {
              "color": "white"
             }
            },
            "header": {
             "fill": {
              "color": "#C8D4E3"
             },
             "line": {
              "color": "white"
             }
            },
            "type": "table"
           }
          ]
         },
         "layout": {
          "annotationdefaults": {
           "arrowcolor": "#2a3f5f",
           "arrowhead": 0,
           "arrowwidth": 1
          },
          "autotypenumbers": "strict",
          "coloraxis": {
           "colorbar": {
            "outlinewidth": 0,
            "ticks": ""
           }
          },
          "colorscale": {
           "diverging": [
            [
             0,
             "#8e0152"
            ],
            [
             0.1,
             "#c51b7d"
            ],
            [
             0.2,
             "#de77ae"
            ],
            [
             0.3,
             "#f1b6da"
            ],
            [
             0.4,
             "#fde0ef"
            ],
            [
             0.5,
             "#f7f7f7"
            ],
            [
             0.6,
             "#e6f5d0"
            ],
            [
             0.7,
             "#b8e186"
            ],
            [
             0.8,
             "#7fbc41"
            ],
            [
             0.9,
             "#4d9221"
            ],
            [
             1,
             "#276419"
            ]
           ],
           "sequential": [
            [
             0,
             "#0d0887"
            ],
            [
             0.1111111111111111,
             "#46039f"
            ],
            [
             0.2222222222222222,
             "#7201a8"
            ],
            [
             0.3333333333333333,
             "#9c179e"
            ],
            [
             0.4444444444444444,
             "#bd3786"
            ],
            [
             0.5555555555555556,
             "#d8576b"
            ],
            [
             0.6666666666666666,
             "#ed7953"
            ],
            [
             0.7777777777777778,
             "#fb9f3a"
            ],
            [
             0.8888888888888888,
             "#fdca26"
            ],
            [
             1,
             "#f0f921"
            ]
           ],
           "sequentialminus": [
            [
             0,
             "#0d0887"
            ],
            [
             0.1111111111111111,
             "#46039f"
            ],
            [
             0.2222222222222222,
             "#7201a8"
            ],
            [
             0.3333333333333333,
             "#9c179e"
            ],
            [
             0.4444444444444444,
             "#bd3786"
            ],
            [
             0.5555555555555556,
             "#d8576b"
            ],
            [
             0.6666666666666666,
             "#ed7953"
            ],
            [
             0.7777777777777778,
             "#fb9f3a"
            ],
            [
             0.8888888888888888,
             "#fdca26"
            ],
            [
             1,
             "#f0f921"
            ]
           ]
          },
          "colorway": [
           "#636efa",
           "#EF553B",
           "#00cc96",
           "#ab63fa",
           "#FFA15A",
           "#19d3f3",
           "#FF6692",
           "#B6E880",
           "#FF97FF",
           "#FECB52"
          ],
          "font": {
           "color": "#2a3f5f"
          },
          "geo": {
           "bgcolor": "white",
           "lakecolor": "white",
           "landcolor": "#E5ECF6",
           "showlakes": true,
           "showland": true,
           "subunitcolor": "white"
          },
          "hoverlabel": {
           "align": "left"
          },
          "hovermode": "closest",
          "mapbox": {
           "style": "light"
          },
          "paper_bgcolor": "white",
          "plot_bgcolor": "#E5ECF6",
          "polar": {
           "angularaxis": {
            "gridcolor": "white",
            "linecolor": "white",
            "ticks": ""
           },
           "bgcolor": "#E5ECF6",
           "radialaxis": {
            "gridcolor": "white",
            "linecolor": "white",
            "ticks": ""
           }
          },
          "scene": {
           "xaxis": {
            "backgroundcolor": "#E5ECF6",
            "gridcolor": "white",
            "gridwidth": 2,
            "linecolor": "white",
            "showbackground": true,
            "ticks": "",
            "zerolinecolor": "white"
           },
           "yaxis": {
            "backgroundcolor": "#E5ECF6",
            "gridcolor": "white",
            "gridwidth": 2,
            "linecolor": "white",
            "showbackground": true,
            "ticks": "",
            "zerolinecolor": "white"
           },
           "zaxis": {
            "backgroundcolor": "#E5ECF6",
            "gridcolor": "white",
            "gridwidth": 2,
            "linecolor": "white",
            "showbackground": true,
            "ticks": "",
            "zerolinecolor": "white"
           }
          },
          "shapedefaults": {
           "line": {
            "color": "#2a3f5f"
           }
          },
          "ternary": {
           "aaxis": {
            "gridcolor": "white",
            "linecolor": "white",
            "ticks": ""
           },
           "baxis": {
            "gridcolor": "white",
            "linecolor": "white",
            "ticks": ""
           },
           "bgcolor": "#E5ECF6",
           "caxis": {
            "gridcolor": "white",
            "linecolor": "white",
            "ticks": ""
           }
          },
          "title": {
           "x": 0.05
          },
          "xaxis": {
           "automargin": true,
           "gridcolor": "white",
           "linecolor": "white",
           "ticks": "",
           "title": {
            "standoff": 15
           },
           "zerolinecolor": "white",
           "zerolinewidth": 2
          },
          "yaxis": {
           "automargin": true,
           "gridcolor": "white",
           "linecolor": "white",
           "ticks": "",
           "title": {
            "standoff": 15
           },
           "zerolinecolor": "white",
           "zerolinewidth": 2
          }
         }
        },
        "title": {
         "text": "Conf Matrix"
        },
        "width": 800,
        "xaxis": {
         "title": {
          "text": "Predicted value"
         }
        },
        "yaxis": {
         "title": {
          "text": "Real value"
         }
        }
       }
      }
     },
     "metadata": {},
     "output_type": "display_data"
    }
   ],
   "source": [
    "#Obtengo las predicciones sobre el set de test. El modelo me da una lista de probabilidades para cada clase y tomo la clase con mayor probabilidad con la funcion argmax\n",
    "y_pred = lgb_model.predict(X_test).argmax(axis=1)\n",
    "\n",
    "#Calculo el Kappa\n",
    "print(cohen_kappa_score(y_test,y_pred, weights = 'quadratic'))\n",
    "\n",
    "#Muestro la matriz de confusión\n",
    "display(plot_confusion_matrix(y_test,y_pred))"
   ]
  },
  {
   "cell_type": "markdown",
   "id": "0270bbba",
   "metadata": {},
   "source": [
    "## Modelo con optimizacion de hiperparametros train/test"
   ]
  },
  {
   "cell_type": "code",
   "execution_count": 17,
   "id": "f521b491",
   "metadata": {},
   "outputs": [],
   "source": [
    "#Funcion que vamos a optimizar. Optuna requiere que usemos el objeto trial para generar los parametros a optimizar\n",
    "def lgb_objective(trial):\n",
    "    #PArametros para LightGBM\n",
    "    lgb_params = {      \n",
    "                        #PArametros fijos\n",
    "                        'objective': 'multiclass',\n",
    "                        'verbosity':-1,\n",
    "                        'num_class': len(y_train.unique()),\n",
    "                        #Hiperparametros a optimizar utilizando suggest_float o suggest_int segun el tipo de dato\n",
    "                        #Se indica el nombre del parametro, valor minimo, valor maximo \n",
    "                        #en elgunos casos el parametro log=True para parametros que requieren buscar en esa escala\n",
    "                        'lambda_l1': trial.suggest_float('lambda_l1', 1e-8, 10.0, log=True),\n",
    "                        'lambda_l2': trial.suggest_float('lambda_l2', 1e-8, 10.0, log=True),\n",
    "                        'num_leaves': trial.suggest_int('num_leaves', 2, 256),\n",
    "                        'feature_fraction': trial.suggest_float('feature_fraction', 0.4, 1.0),\n",
    "                        'bagging_fraction': trial.suggest_float('bagging_fraction', 0.4, 1.0),\n",
    "                        'bagging_freq': trial.suggest_int('bagging_freq', 1, 7),\n",
    "                        'min_child_samples': trial.suggest_int('min_child_samples', 5, 100),\n",
    "                        } \n",
    "\n",
    "    #Genero objeto dataset de entrenamiento\n",
    "    lgb_train_dataset = lgb.Dataset(data=X_train,\n",
    "                                    label=y_train)\n",
    "\n",
    "    #ajuste de modelo\n",
    "    lgb_model = lgb.train(lgb_params,\n",
    "                        lgb_train_dataset)\n",
    "    \n",
    "    #Devuelvo el score en test\n",
    "    return(cohen_kappa_score(y_test,lgb_model.predict(X_test).argmax(axis=1),\n",
    "                             weights = 'quadratic'))"
   ]
  },
  {
   "cell_type": "code",
   "execution_count": 18,
   "id": "e5f668a9",
   "metadata": {},
   "outputs": [
    {
     "name": "stderr",
     "output_type": "stream",
     "text": [
      "[I 2025-04-23 23:46:22,387] A new study created in RDB with name: 04 - LGB Multiclass\n",
      "[I 2025-04-23 23:46:23,517] Trial 0 finished with value: 0.3649216111885224 and parameters: {'lambda_l1': 6.026203630025073e-07, 'lambda_l2': 0.0004899299286958027, 'num_leaves': 84, 'feature_fraction': 0.545392871284614, 'bagging_fraction': 0.7023525386346712, 'bagging_freq': 1, 'min_child_samples': 76}. Best is trial 0 with value: 0.3649216111885224.\n",
      "[I 2025-04-23 23:46:25,837] Trial 1 finished with value: 0.3647885629868761 and parameters: {'lambda_l1': 3.2709181487915213e-07, 'lambda_l2': 6.841974750598496e-08, 'num_leaves': 176, 'feature_fraction': 0.8431452632336802, 'bagging_fraction': 0.9356234980119364, 'bagging_freq': 1, 'min_child_samples': 31}. Best is trial 0 with value: 0.3649216111885224.\n",
      "[I 2025-04-23 23:46:27,320] Trial 2 finished with value: 0.3468473312802751 and parameters: {'lambda_l1': 2.5075129349852353e-08, 'lambda_l2': 1.4093285831625065e-07, 'num_leaves': 135, 'feature_fraction': 0.5960732489975914, 'bagging_fraction': 0.46416787203442805, 'bagging_freq': 1, 'min_child_samples': 22}. Best is trial 0 with value: 0.3649216111885224.\n",
      "[I 2025-04-23 23:46:28,467] Trial 3 finished with value: 0.35756111958043857 and parameters: {'lambda_l1': 2.6743693877455406e-07, 'lambda_l2': 0.0057817059934360295, 'num_leaves': 163, 'feature_fraction': 0.9477344483667742, 'bagging_fraction': 0.6749157176842842, 'bagging_freq': 4, 'min_child_samples': 65}. Best is trial 0 with value: 0.3649216111885224.\n",
      "[I 2025-04-23 23:46:29,415] Trial 4 finished with value: 0.36430488050371246 and parameters: {'lambda_l1': 6.158630851182223, 'lambda_l2': 1.7135463733977025e-06, 'num_leaves': 95, 'feature_fraction': 0.6247475798833857, 'bagging_fraction': 0.9202523159586123, 'bagging_freq': 7, 'min_child_samples': 57}. Best is trial 0 with value: 0.3649216111885224.\n",
      "[I 2025-04-23 23:46:30,817] Trial 5 finished with value: 0.36291495490028325 and parameters: {'lambda_l1': 5.716207011965371e-08, 'lambda_l2': 0.246999271280981, 'num_leaves': 91, 'feature_fraction': 0.9529127794707637, 'bagging_fraction': 0.4982240532218716, 'bagging_freq': 1, 'min_child_samples': 29}. Best is trial 0 with value: 0.3649216111885224.\n",
      "[I 2025-04-23 23:46:32,946] Trial 6 finished with value: 0.3357596098422444 and parameters: {'lambda_l1': 4.910089411211757e-07, 'lambda_l2': 8.40100317447744e-08, 'num_leaves': 238, 'feature_fraction': 0.47684486825899564, 'bagging_fraction': 0.4729198515341339, 'bagging_freq': 4, 'min_child_samples': 18}. Best is trial 0 with value: 0.3649216111885224.\n",
      "[I 2025-04-23 23:46:33,351] Trial 7 finished with value: 0.33826791759843655 and parameters: {'lambda_l1': 9.4344834666596, 'lambda_l2': 0.004018331757765176, 'num_leaves': 17, 'feature_fraction': 0.6707032836065696, 'bagging_fraction': 0.6690605290219305, 'bagging_freq': 6, 'min_child_samples': 52}. Best is trial 0 with value: 0.3649216111885224.\n",
      "[I 2025-04-23 23:46:34,550] Trial 8 finished with value: 0.3633200048374001 and parameters: {'lambda_l1': 0.08206431920340773, 'lambda_l2': 0.0007713297735133288, 'num_leaves': 88, 'feature_fraction': 0.9034309864243484, 'bagging_fraction': 0.9667500928163941, 'bagging_freq': 1, 'min_child_samples': 94}. Best is trial 0 with value: 0.3649216111885224.\n",
      "[I 2025-04-23 23:46:35,308] Trial 9 finished with value: 0.37989426940727267 and parameters: {'lambda_l1': 4.473989337825219e-08, 'lambda_l2': 0.013728573243293539, 'num_leaves': 42, 'feature_fraction': 0.952536538645137, 'bagging_fraction': 0.8173596407848829, 'bagging_freq': 6, 'min_child_samples': 56}. Best is trial 9 with value: 0.37989426940727267.\n",
      "[I 2025-04-23 23:46:35,621] Trial 10 finished with value: 0.34406475195673214 and parameters: {'lambda_l1': 0.0002448078709002227, 'lambda_l2': 5.531240669645243, 'num_leaves': 5, 'feature_fraction': 0.7786716101346491, 'bagging_fraction': 0.8070204506842081, 'bagging_freq': 5, 'min_child_samples': 44}. Best is trial 9 with value: 0.37989426940727267.\n",
      "[I 2025-04-23 23:46:36,733] Trial 11 finished with value: 0.36490539504534436 and parameters: {'lambda_l1': 1.495093775405775e-05, 'lambda_l2': 5.677502947795266e-05, 'num_leaves': 52, 'feature_fraction': 0.4107018394932666, 'bagging_fraction': 0.7841318067710524, 'bagging_freq': 3, 'min_child_samples': 82}. Best is trial 9 with value: 0.37989426940727267.\n",
      "[I 2025-04-23 23:46:37,638] Trial 12 finished with value: 0.3552359964394649 and parameters: {'lambda_l1': 6.7033228479066355e-06, 'lambda_l2': 1.8887994444060085e-05, 'num_leaves': 51, 'feature_fraction': 0.5555498843845698, 'bagging_fraction': 0.60450087336016, 'bagging_freq': 7, 'min_child_samples': 73}. Best is trial 9 with value: 0.37989426940727267.\n",
      "[I 2025-04-23 23:46:38,539] Trial 13 finished with value: 0.3576730918365387 and parameters: {'lambda_l1': 1.100982002633115e-05, 'lambda_l2': 0.051571362583667395, 'num_leaves': 52, 'feature_fraction': 0.7525851882420329, 'bagging_fraction': 0.790577511353101, 'bagging_freq': 3, 'min_child_samples': 84}. Best is trial 9 with value: 0.37989426940727267.\n",
      "[I 2025-04-23 23:46:40,016] Trial 14 finished with value: 0.37772349901163826 and parameters: {'lambda_l1': 0.0019352552042072708, 'lambda_l2': 0.27821629149540855, 'num_leaves': 114, 'feature_fraction': 0.5187880833043039, 'bagging_fraction': 0.8441295383373633, 'bagging_freq': 5, 'min_child_samples': 6}. Best is trial 9 with value: 0.37989426940727267.\n",
      "[I 2025-04-23 23:46:41,702] Trial 15 finished with value: 0.38101359327361073 and parameters: {'lambda_l1': 0.0077013723231959975, 'lambda_l2': 9.442997431187427, 'num_leaves': 203, 'feature_fraction': 0.7303292527310437, 'bagging_fraction': 0.8601199301864577, 'bagging_freq': 6, 'min_child_samples': 41}. Best is trial 15 with value: 0.38101359327361073.\n",
      "[I 2025-04-23 23:46:43,467] Trial 16 finished with value: 0.3663205708237671 and parameters: {'lambda_l1': 0.012342996992235232, 'lambda_l2': 9.733372822603343, 'num_leaves': 256, 'feature_fraction': 0.8279247263391502, 'bagging_fraction': 0.876303213679768, 'bagging_freq': 6, 'min_child_samples': 42}. Best is trial 15 with value: 0.38101359327361073.\n",
      "[I 2025-04-23 23:46:45,454] Trial 17 finished with value: 0.3635287043943186 and parameters: {'lambda_l1': 0.04330472401252165, 'lambda_l2': 0.8650063877708322, 'num_leaves': 208, 'feature_fraction': 0.7212941754520201, 'bagging_fraction': 0.9988766000119863, 'bagging_freq': 6, 'min_child_samples': 44}. Best is trial 15 with value: 0.38101359327361073.\n",
      "[I 2025-04-23 23:46:46,742] Trial 18 finished with value: 0.3497136845860386 and parameters: {'lambda_l1': 0.5976897118094548, 'lambda_l2': 0.024161931500099428, 'num_leaves': 208, 'feature_fraction': 0.9996655500864914, 'bagging_fraction': 0.7192215843033595, 'bagging_freq': 5, 'min_child_samples': 58}. Best is trial 15 with value: 0.38101359327361073.\n",
      "[I 2025-04-23 23:46:48,471] Trial 19 finished with value: 0.3650849452676129 and parameters: {'lambda_l1': 0.00012834692003650016, 'lambda_l2': 1.8095412814404557, 'num_leaves': 146, 'feature_fraction': 0.8633372032194628, 'bagging_fraction': 0.593679326433014, 'bagging_freq': 7, 'min_child_samples': 35}. Best is trial 15 with value: 0.38101359327361073.\n",
      "[I 2025-04-23 23:46:50,119] Trial 20 finished with value: 0.3596761147529044 and parameters: {'lambda_l1': 0.0032042196283777846, 'lambda_l2': 3.5499970233774704e-05, 'num_leaves': 196, 'feature_fraction': 0.6775136301938437, 'bagging_fraction': 0.884459147364573, 'bagging_freq': 6, 'min_child_samples': 66}. Best is trial 15 with value: 0.38101359327361073.\n",
      "[I 2025-04-23 23:46:51,891] Trial 21 finished with value: 0.3707569319606372 and parameters: {'lambda_l1': 0.0022030825642076453, 'lambda_l2': 0.16194702218215934, 'num_leaves': 120, 'feature_fraction': 0.4605376694554486, 'bagging_fraction': 0.8403084410458325, 'bagging_freq': 5, 'min_child_samples': 6}. Best is trial 15 with value: 0.38101359327361073.\n",
      "[I 2025-04-23 23:46:52,662] Trial 22 finished with value: 0.36636282336026615 and parameters: {'lambda_l1': 0.0011104017735046271, 'lambda_l2': 0.5091275760006787, 'num_leaves': 37, 'feature_fraction': 0.7983510444611124, 'bagging_fraction': 0.745604779768121, 'bagging_freq': 5, 'min_child_samples': 11}. Best is trial 15 with value: 0.38101359327361073.\n",
      "[I 2025-04-23 23:46:54,600] Trial 23 finished with value: 0.3750999071410086 and parameters: {'lambda_l1': 8.38239676687813e-05, 'lambda_l2': 0.03342114210103973, 'num_leaves': 122, 'feature_fraction': 0.5245211570985915, 'bagging_fraction': 0.8485428130568983, 'bagging_freq': 6, 'min_child_samples': 21}. Best is trial 15 with value: 0.38101359327361073.\n",
      "[I 2025-04-23 23:46:56,266] Trial 24 finished with value: 0.3774852895922608 and parameters: {'lambda_l1': 0.28356403264543467, 'lambda_l2': 0.00395356409517545, 'num_leaves': 178, 'feature_fraction': 0.6283748368224692, 'bagging_fraction': 0.9135959665392925, 'bagging_freq': 3, 'min_child_samples': 49}. Best is trial 15 with value: 0.38101359327361073.\n",
      "[I 2025-04-23 23:46:57,741] Trial 25 finished with value: 0.35826941267038437 and parameters: {'lambda_l1': 0.009010884500841245, 'lambda_l2': 2.112368510663107, 'num_leaves': 111, 'feature_fraction': 0.7218493505948533, 'bagging_fraction': 0.8257797104551037, 'bagging_freq': 5, 'min_child_samples': 37}. Best is trial 15 with value: 0.38101359327361073.\n",
      "[I 2025-04-23 23:46:58,921] Trial 26 finished with value: 0.35135576430533055 and parameters: {'lambda_l1': 0.0008331912078800345, 'lambda_l2': 0.09516407936929064, 'num_leaves': 231, 'feature_fraction': 0.8820072340939558, 'bagging_fraction': 0.7596043250762509, 'bagging_freq': 4, 'min_child_samples': 98}. Best is trial 15 with value: 0.38101359327361073.\n",
      "[I 2025-04-23 23:47:00,062] Trial 27 finished with value: 0.37734811217676156 and parameters: {'lambda_l1': 4.77684428916848e-05, 'lambda_l2': 0.6226049576093644, 'num_leaves': 69, 'feature_fraction': 0.48615053536054903, 'bagging_fraction': 0.8760954523773472, 'bagging_freq': 7, 'min_child_samples': 63}. Best is trial 15 with value: 0.38101359327361073.\n",
      "[I 2025-04-23 23:47:01,744] Trial 28 finished with value: 0.35363626845620044 and parameters: {'lambda_l1': 2.7331691232178707e-06, 'lambda_l2': 0.023109222083374122, 'num_leaves': 154, 'feature_fraction': 0.41569687893527, 'bagging_fraction': 0.6192151204949259, 'bagging_freq': 6, 'min_child_samples': 15}. Best is trial 15 with value: 0.38101359327361073.\n",
      "[I 2025-04-23 23:47:03,024] Trial 29 finished with value: 0.35312310650390133 and parameters: {'lambda_l1': 1.133561341717989e-08, 'lambda_l2': 0.00025326915389585367, 'num_leaves': 100, 'feature_fraction': 0.5575557437133689, 'bagging_fraction': 0.7224817943476036, 'bagging_freq': 4, 'min_child_samples': 73}. Best is trial 15 with value: 0.38101359327361073.\n",
      "[I 2025-04-23 23:47:04,213] Trial 30 finished with value: 0.360845393407624 and parameters: {'lambda_l1': 0.009640797771983355, 'lambda_l2': 3.3123316739479787, 'num_leaves': 76, 'feature_fraction': 0.9280790987058307, 'bagging_fraction': 0.9547737580690593, 'bagging_freq': 5, 'min_child_samples': 27}. Best is trial 15 with value: 0.38101359327361073.\n",
      "[I 2025-04-23 23:47:06,326] Trial 31 finished with value: 0.3523115748634067 and parameters: {'lambda_l1': 0.37107916593131096, 'lambda_l2': 0.00414627314220855, 'num_leaves': 190, 'feature_fraction': 0.6137685517608157, 'bagging_fraction': 0.8982007602231492, 'bagging_freq': 2, 'min_child_samples': 50}. Best is trial 15 with value: 0.38101359327361073.\n",
      "[I 2025-04-23 23:47:08,132] Trial 32 finished with value: 0.3550733987560123 and parameters: {'lambda_l1': 0.7889085883226998, 'lambda_l2': 0.0014720962277531503, 'num_leaves': 181, 'feature_fraction': 0.5844717136289599, 'bagging_fraction': 0.9202480892474942, 'bagging_freq': 3, 'min_child_samples': 49}. Best is trial 15 with value: 0.38101359327361073.\n",
      "[I 2025-04-23 23:47:09,823] Trial 33 finished with value: 0.3542627729772553 and parameters: {'lambda_l1': 0.051666618975860945, 'lambda_l2': 0.010038512760022518, 'num_leaves': 221, 'feature_fraction': 0.6400115222348352, 'bagging_fraction': 0.851871044051599, 'bagging_freq': 2, 'min_child_samples': 60}. Best is trial 15 with value: 0.38101359327361073.\n",
      "[I 2025-04-23 23:47:12,304] Trial 34 finished with value: 0.3596695643885489 and parameters: {'lambda_l1': 0.22924941963829257, 'lambda_l2': 0.00012715963658378043, 'num_leaves': 169, 'feature_fraction': 0.5137852726120774, 'bagging_fraction': 0.9645789164285703, 'bagging_freq': 2, 'min_child_samples': 39}. Best is trial 15 with value: 0.38101359327361073.\n",
      "[I 2025-04-23 23:47:14,361] Trial 35 finished with value: 0.348018506259152 and parameters: {'lambda_l1': 2.138007661892542, 'lambda_l2': 0.0013911462570626774, 'num_leaves': 161, 'feature_fraction': 0.6522879483770951, 'bagging_fraction': 0.9185007720412696, 'bagging_freq': 4, 'min_child_samples': 26}. Best is trial 15 with value: 0.38101359327361073.\n",
      "[I 2025-04-23 23:47:15,333] Trial 36 finished with value: 0.31634594228199264 and parameters: {'lambda_l1': 0.0006118300754517568, 'lambda_l2': 1.092864548203721e-08, 'num_leaves': 138, 'feature_fraction': 0.5818189564291505, 'bagging_fraction': 0.414873097750304, 'bagging_freq': 3, 'min_child_samples': 68}. Best is trial 15 with value: 0.38101359327361073.\n",
      "[I 2025-04-23 23:47:17,674] Trial 37 finished with value: 0.3557971876842261 and parameters: {'lambda_l1': 9.329980008148348e-08, 'lambda_l2': 0.17724302234805556, 'num_leaves': 180, 'feature_fraction': 0.7073440053606641, 'bagging_fraction': 0.8131384465189949, 'bagging_freq': 6, 'min_child_samples': 32}. Best is trial 15 with value: 0.38101359327361073.\n",
      "[I 2025-04-23 23:47:18,274] Trial 38 finished with value: 0.3430455824175703 and parameters: {'lambda_l1': 0.02262697968259074, 'lambda_l2': 5.2756626733030935e-06, 'num_leaves': 26, 'feature_fraction': 0.827746147841238, 'bagging_fraction': 0.9997275006367801, 'bagging_freq': 7, 'min_child_samples': 56}. Best is trial 15 with value: 0.38101359327361073.\n",
      "[I 2025-04-23 23:47:19,895] Trial 39 finished with value: 0.3659584343420851 and parameters: {'lambda_l1': 1.7534232797801598e-06, 'lambda_l2': 0.011509113301928137, 'num_leaves': 203, 'feature_fraction': 0.4461886698327015, 'bagging_fraction': 0.7670920140272506, 'bagging_freq': 5, 'min_child_samples': 47}. Best is trial 15 with value: 0.38101359327361073.\n",
      "[I 2025-04-23 23:47:21,418] Trial 40 finished with value: 0.35475925145426346 and parameters: {'lambda_l1': 0.10207575069342209, 'lambda_l2': 0.3864272449535944, 'num_leaves': 242, 'feature_fraction': 0.9808396682435735, 'bagging_fraction': 0.6646507544590828, 'bagging_freq': 6, 'min_child_samples': 54}. Best is trial 15 with value: 0.38101359327361073.\n",
      "[I 2025-04-23 23:47:22,648] Trial 41 finished with value: 0.3664628404926209 and parameters: {'lambda_l1': 6.024292479169574e-05, 'lambda_l2': 1.5736052833884129, 'num_leaves': 80, 'feature_fraction': 0.48665362198575407, 'bagging_fraction': 0.8663180029688378, 'bagging_freq': 7, 'min_child_samples': 64}. Best is trial 15 with value: 0.38101359327361073.\n",
      "[I 2025-04-23 23:47:23,629] Trial 42 finished with value: 0.36963293669936603 and parameters: {'lambda_l1': 0.0034410817331380953, 'lambda_l2': 0.7391095093154885, 'num_leaves': 57, 'feature_fraction': 0.6065011743933725, 'bagging_fraction': 0.8936529662967629, 'bagging_freq': 7, 'min_child_samples': 63}. Best is trial 15 with value: 0.38101359327361073.\n",
      "[I 2025-04-23 23:47:24,660] Trial 43 finished with value: 0.3587218013532524 and parameters: {'lambda_l1': 4.2773776213074554e-05, 'lambda_l2': 0.06012274116780355, 'num_leaves': 63, 'feature_fraction': 0.5091315417387706, 'bagging_fraction': 0.9384784694885655, 'bagging_freq': 7, 'min_child_samples': 82}. Best is trial 15 with value: 0.38101359327361073.\n",
      "[I 2025-04-23 23:47:25,870] Trial 44 finished with value: 0.3692576877947813 and parameters: {'lambda_l1': 1.5663850526102115e-07, 'lambda_l2': 5.860588800012423, 'num_leaves': 109, 'feature_fraction': 0.5328842946800889, 'bagging_fraction': 0.8173068678813611, 'bagging_freq': 6, 'min_child_samples': 69}. Best is trial 15 with value: 0.38101359327361073.\n",
      "[I 2025-04-23 23:47:26,633] Trial 45 finished with value: 0.3438516734612641 and parameters: {'lambda_l1': 1.847939984279063, 'lambda_l2': 0.2567840400733275, 'num_leaves': 37, 'feature_fraction': 0.7608029101729472, 'bagging_fraction': 0.9113024812305897, 'bagging_freq': 6, 'min_child_samples': 53}. Best is trial 15 with value: 0.38101359327361073.\n",
      "[I 2025-04-23 23:47:27,211] Trial 46 finished with value: 0.34784721597908286 and parameters: {'lambda_l1': 0.00030312628200260266, 'lambda_l2': 0.002440385184104787, 'num_leaves': 11, 'feature_fraction': 0.494943754956931, 'bagging_fraction': 0.7946562458888429, 'bagging_freq': 5, 'min_child_samples': 60}. Best is trial 15 with value: 0.38101359327361073.\n",
      "[I 2025-04-23 23:47:28,419] Trial 47 finished with value: 0.3475148749214638 and parameters: {'lambda_l1': 8.205183941412157e-07, 'lambda_l2': 0.0006080497837790359, 'num_leaves': 69, 'feature_fraction': 0.5670008403810088, 'bagging_fraction': 0.8690711754725657, 'bagging_freq': 7, 'min_child_samples': 87}. Best is trial 15 with value: 0.38101359327361073.\n",
      "[I 2025-04-23 23:47:29,751] Trial 48 finished with value: 0.35827121723308286 and parameters: {'lambda_l1': 4.613925041070335e-08, 'lambda_l2': 0.007628595627766939, 'num_leaves': 135, 'feature_fraction': 0.4301080577761496, 'bagging_fraction': 0.9416422396008867, 'bagging_freq': 3, 'min_child_samples': 77}. Best is trial 15 with value: 0.38101359327361073.\n",
      "[I 2025-04-23 23:47:30,574] Trial 49 finished with value: 0.3688762517147476 and parameters: {'lambda_l1': 0.017441511536226872, 'lambda_l2': 0.0925189147075945, 'num_leaves': 40, 'feature_fraction': 0.6718676349911882, 'bagging_fraction': 0.843780431523583, 'bagging_freq': 7, 'min_child_samples': 46}. Best is trial 15 with value: 0.38101359327361073.\n",
      "[I 2025-04-23 23:47:32,901] Trial 50 finished with value: 0.36812490963821176 and parameters: {'lambda_l1': 2.4810173668837294e-05, 'lambda_l2': 1.1430155919304372, 'num_leaves': 218, 'feature_fraction': 0.45647895987838616, 'bagging_fraction': 0.9703007474444232, 'bagging_freq': 6, 'min_child_samples': 41}. Best is trial 15 with value: 0.38101359327361073.\n",
      "[I 2025-04-23 23:47:34,639] Trial 51 finished with value: 0.35367998753466845 and parameters: {'lambda_l1': 0.00012201805162748385, 'lambda_l2': 0.02311044516583271, 'num_leaves': 123, 'feature_fraction': 0.5279437814451747, 'bagging_fraction': 0.8488395895616564, 'bagging_freq': 6, 'min_child_samples': 18}. Best is trial 15 with value: 0.38101359327361073.\n",
      "[I 2025-04-23 23:47:35,278] Trial 52 finished with value: 0.3462402515012444 and parameters: {'lambda_l1': 0.00011769796648057169, 'lambda_l2': 0.04054026533145409, 'num_leaves': 26, 'feature_fraction': 0.5449389749454937, 'bagging_fraction': 0.8855025159090728, 'bagging_freq': 6, 'min_child_samples': 9}. Best is trial 15 with value: 0.38101359327361073.\n",
      "[I 2025-04-23 23:47:36,693] Trial 53 finished with value: 0.36301087083886263 and parameters: {'lambda_l1': 0.004310038069520103, 'lambda_l2': 4.610201630847309, 'num_leaves': 99, 'feature_fraction': 0.49004029008891825, 'bagging_fraction': 0.7857356673676843, 'bagging_freq': 5, 'min_child_samples': 22}. Best is trial 15 with value: 0.38101359327361073.\n",
      "[I 2025-04-23 23:47:38,950] Trial 54 finished with value: 0.3737144682712227 and parameters: {'lambda_l1': 6.931172622102997e-06, 'lambda_l2': 9.376063359491326, 'num_leaves': 141, 'feature_fraction': 0.6427447787733674, 'bagging_fraction': 0.8347556512342652, 'bagging_freq': 6, 'min_child_samples': 13}. Best is trial 15 with value: 0.38101359327361073.\n",
      "[I 2025-04-23 23:47:40,806] Trial 55 finished with value: 0.3640635285673829 and parameters: {'lambda_l1': 0.0006565497836188396, 'lambda_l2': 0.39797221093640445, 'num_leaves': 150, 'feature_fraction': 0.4790389303121546, 'bagging_fraction': 0.8652875341986922, 'bagging_freq': 5, 'min_child_samples': 22}. Best is trial 15 with value: 0.38101359327361073.\n",
      "[I 2025-04-23 23:47:42,475] Trial 56 finished with value: 0.3586747737406054 and parameters: {'lambda_l1': 0.10574382827519863, 'lambda_l2': 0.11613617344535461, 'num_leaves': 114, 'feature_fraction': 0.7373359921797851, 'bagging_fraction': 0.9046333073676396, 'bagging_freq': 7, 'min_child_samples': 33}. Best is trial 15 with value: 0.38101359327361073.\n",
      "[I 2025-04-23 23:47:44,188] Trial 57 finished with value: 0.37117637701515227 and parameters: {'lambda_l1': 0.001449121033912678, 'lambda_l2': 0.014496188707389676, 'num_leaves': 123, 'feature_fraction': 0.7981942839675669, 'bagging_fraction': 0.8075365997170744, 'bagging_freq': 6, 'min_child_samples': 5}. Best is trial 15 with value: 0.38101359327361073.\n",
      "[I 2025-04-23 23:47:45,550] Trial 58 finished with value: 0.3753814502935672 and parameters: {'lambda_l1': 0.005427379375093527, 'lambda_l2': 5.812801460418345e-07, 'num_leaves': 89, 'feature_fraction': 0.918909606965821, 'bagging_fraction': 0.7631805033587782, 'bagging_freq': 4, 'min_child_samples': 17}. Best is trial 15 with value: 0.38101359327361073.\n",
      "[I 2025-04-23 23:47:46,897] Trial 59 finished with value: 0.37003511742059303 and parameters: {'lambda_l1': 0.005974215611142716, 'lambda_l2': 2.7807874615809048e-06, 'num_leaves': 90, 'feature_fraction': 0.9204326349949808, 'bagging_fraction': 0.7520000440668325, 'bagging_freq': 4, 'min_child_samples': 8}. Best is trial 15 with value: 0.38101359327361073.\n",
      "[I 2025-04-23 23:47:48,029] Trial 60 finished with value: 0.3566617821943827 and parameters: {'lambda_l1': 0.027981106465884784, 'lambda_l2': 3.622254301316015e-07, 'num_leaves': 72, 'feature_fraction': 0.9536776184325053, 'bagging_fraction': 0.7286475392617915, 'bagging_freq': 3, 'min_child_samples': 15}. Best is trial 15 with value: 0.38101359327361073.\n",
      "[I 2025-04-23 23:47:49,619] Trial 61 finished with value: 0.3686779642984629 and parameters: {'lambda_l1': 0.0004218550379309633, 'lambda_l2': 0.04752302958828338, 'num_leaves': 104, 'feature_fraction': 0.8737209500968957, 'bagging_fraction': 0.7749088185396804, 'bagging_freq': 4, 'min_child_samples': 26}. Best is trial 15 with value: 0.38101359327361073.\n",
      "[I 2025-04-23 23:47:50,999] Trial 62 finished with value: 0.35760678961323755 and parameters: {'lambda_l1': 0.0014283824075409222, 'lambda_l2': 3.8999648512837423e-07, 'num_leaves': 91, 'feature_fraction': 0.9614564819126982, 'bagging_fraction': 0.8302057246934641, 'bagging_freq': 5, 'min_child_samples': 51}. Best is trial 15 with value: 0.38101359327361073.\n",
      "[I 2025-04-23 23:47:51,857] Trial 63 finished with value: 0.35030438922993834 and parameters: {'lambda_l1': 0.00019598169139534724, 'lambda_l2': 0.0030827154271430585, 'num_leaves': 45, 'feature_fraction': 0.8936861919492015, 'bagging_fraction': 0.6854718063507015, 'bagging_freq': 4, 'min_child_samples': 20}. Best is trial 15 with value: 0.38101359327361073.\n",
      "[I 2025-04-23 23:47:53,352] Trial 64 finished with value: 0.36370556156941236 and parameters: {'lambda_l1': 0.0023751716503366887, 'lambda_l2': 0.00017908134713697904, 'num_leaves': 131, 'feature_fraction': 0.8429506667965732, 'bagging_fraction': 0.5512220148310937, 'bagging_freq': 5, 'min_child_samples': 29}. Best is trial 15 with value: 0.38101359327361073.\n",
      "[I 2025-04-23 23:47:54,526] Trial 65 finished with value: 0.37692729775428413 and parameters: {'lambda_l1': 0.00762180920146641, 'lambda_l2': 2.158961980046788, 'num_leaves': 65, 'feature_fraction': 0.930824609381576, 'bagging_fraction': 0.8610240153678059, 'bagging_freq': 3, 'min_child_samples': 10}. Best is trial 15 with value: 0.38101359327361073.\n",
      "[I 2025-04-23 23:47:56,174] Trial 66 finished with value: 0.37817042555458114 and parameters: {'lambda_l1': 0.2136389193745731, 'lambda_l2': 1.8926702800893358, 'num_leaves': 85, 'feature_fraction': 0.9376377598612387, 'bagging_fraction': 0.88333832783098, 'bagging_freq': 3, 'min_child_samples': 12}. Best is trial 15 with value: 0.38101359327361073.\n",
      "[I 2025-04-23 23:47:57,365] Trial 67 finished with value: 0.3535984476717712 and parameters: {'lambda_l1': 5.319625316555366, 'lambda_l2': 2.438132025927617, 'num_leaves': 63, 'feature_fraction': 0.9981601993654028, 'bagging_fraction': 0.9289414596271426, 'bagging_freq': 2, 'min_child_samples': 10}. Best is trial 15 with value: 0.38101359327361073.\n",
      "[I 2025-04-23 23:47:58,803] Trial 68 finished with value: 0.3581958661072403 and parameters: {'lambda_l1': 0.2882971820676439, 'lambda_l2': 1.0296657414364283, 'num_leaves': 78, 'feature_fraction': 0.4016966511324998, 'bagging_fraction': 0.8803223975928989, 'bagging_freq': 3, 'min_child_samples': 12}. Best is trial 15 with value: 0.38101359327361073.\n",
      "[I 2025-04-23 23:47:59,935] Trial 69 finished with value: 0.36579735108340605 and parameters: {'lambda_l1': 0.045822467115356, 'lambda_l2': 3.0283736510719264, 'num_leaves': 56, 'feature_fraction': 0.9349076701545134, 'bagging_fraction': 0.9528950383909414, 'bagging_freq': 3, 'min_child_samples': 7}. Best is trial 15 with value: 0.38101359327361073.\n",
      "[I 2025-04-23 23:48:01,756] Trial 70 finished with value: 0.3785478199833908 and parameters: {'lambda_l1': 0.2009356326270793, 'lambda_l2': 0.6542848325322608, 'num_leaves': 188, 'feature_fraction': 0.9679825860689794, 'bagging_fraction': 0.9000988536615026, 'bagging_freq': 2, 'min_child_samples': 57}. Best is trial 15 with value: 0.38101359327361073.\n",
      "[I 2025-04-23 23:48:03,484] Trial 71 finished with value: 0.36853311305359204 and parameters: {'lambda_l1': 0.1868940645109837, 'lambda_l2': 0.6426432885983431, 'num_leaves': 170, 'feature_fraction': 0.9738051188062574, 'bagging_fraction': 0.8942263487248423, 'bagging_freq': 1, 'min_child_samples': 58}. Best is trial 15 with value: 0.38101359327361073.\n",
      "[I 2025-04-23 23:48:05,238] Trial 72 finished with value: 0.36158617381792146 and parameters: {'lambda_l1': 1.0206440730564093, 'lambda_l2': 0.30069991132379836, 'num_leaves': 199, 'feature_fraction': 0.9039958308449456, 'bagging_fraction': 0.8700870329176601, 'bagging_freq': 2, 'min_child_samples': 55}. Best is trial 15 with value: 0.38101359327361073.\n",
      "[I 2025-04-23 23:48:06,765] Trial 73 finished with value: 0.36728039289523506 and parameters: {'lambda_l1': 0.14799674422937686, 'lambda_l2': 7.149793436198589, 'num_leaves': 186, 'feature_fraction': 0.9438060737122449, 'bagging_fraction': 0.8532909761654983, 'bagging_freq': 2, 'min_child_samples': 62}. Best is trial 15 with value: 0.38101359327361073.\n",
      "[I 2025-04-23 23:48:08,687] Trial 74 finished with value: 0.3628542222829395 and parameters: {'lambda_l1': 0.36317077406547804, 'lambda_l2': 1.300202615641328, 'num_leaves': 212, 'feature_fraction': 0.6921344486051448, 'bagging_fraction': 0.9084048518001774, 'bagging_freq': 3, 'min_child_samples': 48}. Best is trial 15 with value: 0.38101359327361073.\n",
      "[I 2025-04-23 23:48:10,683] Trial 75 finished with value: 0.3573811478928842 and parameters: {'lambda_l1': 0.0592579802431916, 'lambda_l2': 3.576897481484998, 'num_leaves': 159, 'feature_fraction': 0.8589532199050012, 'bagging_fraction': 0.9845430388458054, 'bagging_freq': 3, 'min_child_samples': 44}. Best is trial 15 with value: 0.38101359327361073.\n",
      "[I 2025-04-23 23:48:12,208] Trial 76 finished with value: 0.3562821390697052 and parameters: {'lambda_l1': 0.010932523036380308, 'lambda_l2': 0.5898236511958538, 'num_leaves': 194, 'feature_fraction': 0.9947130272179124, 'bagging_fraction': 0.7996482925791798, 'bagging_freq': 2, 'min_child_samples': 67}. Best is trial 15 with value: 0.38101359327361073.\n",
      "[I 2025-04-23 23:48:13,510] Trial 77 finished with value: 0.35311709015089376 and parameters: {'lambda_l1': 1.9233833907254456, 'lambda_l2': 0.19628929471346623, 'num_leaves': 83, 'feature_fraction': 0.9748470742423437, 'bagging_fraction': 0.8210612722116138, 'bagging_freq': 3, 'min_child_samples': 70}. Best is trial 15 with value: 0.38101359327361073.\n",
      "[I 2025-04-23 23:48:15,201] Trial 78 finished with value: 0.36380859063940274 and parameters: {'lambda_l1': 1.2639322899981043e-08, 'lambda_l2': 2.349310431298714, 'num_leaves': 175, 'feature_fraction': 0.9122000073427722, 'bagging_fraction': 0.9280565909290472, 'bagging_freq': 1, 'min_child_samples': 61}. Best is trial 15 with value: 0.38101359327361073.\n",
      "[I 2025-04-23 23:48:16,074] Trial 79 finished with value: 0.3672073751521192 and parameters: {'lambda_l1': 0.5791917592992628, 'lambda_l2': 1.6806853237774346, 'num_leaves': 47, 'feature_fraction': 0.9385713938388508, 'bagging_fraction': 0.8891773900477257, 'bagging_freq': 4, 'min_child_samples': 52}. Best is trial 15 with value: 0.38101359327361073.\n",
      "[I 2025-04-23 23:48:17,601] Trial 80 finished with value: 0.34941138063738186 and parameters: {'lambda_l1': 0.030828465833309417, 'lambda_l2': 0.11493956833013376, 'num_leaves': 229, 'feature_fraction': 0.9561569172344411, 'bagging_fraction': 0.8648299773534875, 'bagging_freq': 2, 'min_child_samples': 65}. Best is trial 15 with value: 0.38101359327361073.\n",
      "[I 2025-04-23 23:48:18,761] Trial 81 finished with value: 0.3656851921722024 and parameters: {'lambda_l1': 0.007502567873333125, 'lambda_l2': 4.153855119723324, 'num_leaves': 67, 'feature_fraction': 0.8927821202577193, 'bagging_fraction': 0.8238528939068065, 'bagging_freq': 4, 'min_child_samples': 16}. Best is trial 15 with value: 0.38101359327361073.\n",
      "[I 2025-04-23 23:48:20,153] Trial 82 finished with value: 0.35603879918994275 and parameters: {'lambda_l1': 0.014447522099651146, 'lambda_l2': 1.376005141567701e-05, 'num_leaves': 96, 'feature_fraction': 0.9208180486308616, 'bagging_fraction': 0.8558550183256445, 'bagging_freq': 3, 'min_child_samples': 14}. Best is trial 15 with value: 0.38101359327361073.\n",
      "[I 2025-04-23 23:48:21,709] Trial 83 finished with value: 0.3676439438544242 and parameters: {'lambda_l1': 0.004923164033296502, 'lambda_l2': 0.6907430336246597, 'num_leaves': 87, 'feature_fraction': 0.9856083543665326, 'bagging_fraction': 0.8357587476768891, 'bagging_freq': 4, 'min_child_samples': 5}. Best is trial 15 with value: 0.38101359327361073.\n",
      "[I 2025-04-23 23:48:23,199] Trial 84 finished with value: 0.3595252897054131 and parameters: {'lambda_l1': 0.0025020462434097632, 'lambda_l2': 0.0004522790780118739, 'num_leaves': 104, 'feature_fraction': 0.9702435174419162, 'bagging_fraction': 0.7784505050064855, 'bagging_freq': 3, 'min_child_samples': 58}. Best is trial 15 with value: 0.38101359327361073.\n",
      "[I 2025-04-23 23:48:23,822] Trial 85 finished with value: 0.35432284384759494 and parameters: {'lambda_l1': 0.09052513547383767, 'lambda_l2': 5.372187745049972e-05, 'num_leaves': 29, 'feature_fraction': 0.5895756029864223, 'bagging_fraction': 0.8798814963007965, 'bagging_freq': 1, 'min_child_samples': 17}. Best is trial 15 with value: 0.38101359327361073.\n",
      "[I 2025-04-23 23:48:25,098] Trial 86 finished with value: 0.3578177797113332 and parameters: {'lambda_l1': 4.177844073258458, 'lambda_l2': 0.0011910350626229585, 'num_leaves': 83, 'feature_fraction': 0.9444020069809449, 'bagging_fraction': 0.9047457020266162, 'bagging_freq': 4, 'min_child_samples': 11}. Best is trial 15 with value: 0.38101359327361073.\n",
      "[I 2025-04-23 23:48:26,071] Trial 87 finished with value: 0.3781680604330868 and parameters: {'lambda_l1': 0.018443392577459417, 'lambda_l2': 9.254399288660293, 'num_leaves': 63, 'feature_fraction': 0.7857009935368678, 'bagging_fraction': 0.7339986841107826, 'bagging_freq': 5, 'min_child_samples': 72}. Best is trial 15 with value: 0.38101359327361073.\n",
      "[I 2025-04-23 23:48:27,052] Trial 88 finished with value: 0.3566380349641549 and parameters: {'lambda_l1': 3.9912658178147835e-07, 'lambda_l2': 9.097571319533895, 'num_leaves': 64, 'feature_fraction': 0.7772061174606966, 'bagging_fraction': 0.6467711896153039, 'bagging_freq': 5, 'min_child_samples': 56}. Best is trial 15 with value: 0.38101359327361073.\n",
      "[I 2025-04-23 23:48:28,168] Trial 89 finished with value: 0.36371844031701983 and parameters: {'lambda_l1': 0.01932469592757583, 'lambda_l2': 1.7016694201509024, 'num_leaves': 60, 'feature_fraction': 0.7329278218898576, 'bagging_fraction': 0.7375802909448751, 'bagging_freq': 7, 'min_child_samples': 76}. Best is trial 15 with value: 0.38101359327361073.\n",
      "[I 2025-04-23 23:48:29,383] Trial 90 finished with value: 0.3718764328335926 and parameters: {'lambda_l1': 0.5057882740022249, 'lambda_l2': 4.945314711985348, 'num_leaves': 74, 'feature_fraction': 0.6926433145990348, 'bagging_fraction': 0.9443076719073685, 'bagging_freq': 6, 'min_child_samples': 72}. Best is trial 15 with value: 0.38101359327361073.\n",
      "[I 2025-04-23 23:48:30,340] Trial 91 finished with value: 0.3663946882605674 and parameters: {'lambda_l1': 0.03279979100650323, 'lambda_l2': 2.1074820512972858e-08, 'num_leaves': 51, 'feature_fraction': 0.6243342215339225, 'bagging_fraction': 0.9186641728023823, 'bagging_freq': 5, 'min_child_samples': 36}. Best is trial 15 with value: 0.38101359327361073.\n",
      "[I 2025-04-23 23:48:32,560] Trial 92 finished with value: 0.37441858791016236 and parameters: {'lambda_l1': 0.001268938215921677, 'lambda_l2': 0.005555158485764003, 'num_leaves': 207, 'feature_fraction': 0.7606920368587299, 'bagging_fraction': 0.7575098359252733, 'bagging_freq': 5, 'min_child_samples': 24}. Best is trial 15 with value: 0.38101359327361073.\n",
      "[I 2025-04-23 23:48:33,615] Trial 93 finished with value: 0.3556665219661541 and parameters: {'lambda_l1': 0.007396659362082175, 'lambda_l2': 0.468010657575444, 'num_leaves': 187, 'feature_fraction': 0.8290083424914941, 'bagging_fraction': 0.6985599901903506, 'bagging_freq': 3, 'min_child_samples': 88}. Best is trial 15 with value: 0.38101359327361073.\n",
      "[I 2025-04-23 23:48:34,850] Trial 94 finished with value: 0.36720634304732647 and parameters: {'lambda_l1': 0.06477219495945341, 'lambda_l2': 1.060493081869822, 'num_leaves': 116, 'feature_fraction': 0.6584766163203798, 'bagging_fraction': 0.8074163485066901, 'bagging_freq': 4, 'min_child_samples': 76}. Best is trial 15 with value: 0.38101359327361073.\n",
      "[I 2025-04-23 23:48:36,001] Trial 95 finished with value: 0.36102367288453885 and parameters: {'lambda_l1': 1.0958335362539102, 'lambda_l2': 6.233782487215206, 'num_leaves': 72, 'feature_fraction': 0.8059483013396681, 'bagging_fraction': 0.7014188764340689, 'bagging_freq': 6, 'min_child_samples': 8}. Best is trial 15 with value: 0.38101359327361073.\n",
      "[I 2025-04-23 23:48:37,750] Trial 96 finished with value: 0.3621787003495588 and parameters: {'lambda_l1': 0.12393860657336317, 'lambda_l2': 0.29311997588984606, 'num_leaves': 251, 'feature_fraction': 0.9278876452863823, 'bagging_fraction': 0.7935788840564941, 'bagging_freq': 2, 'min_child_samples': 45}. Best is trial 15 with value: 0.38101359327361073.\n",
      "[I 2025-04-23 23:48:38,562] Trial 97 finished with value: 0.3672187406004608 and parameters: {'lambda_l1': 0.003646852966543245, 'lambda_l2': 0.07255891991932262, 'num_leaves': 45, 'feature_fraction': 0.503117206421747, 'bagging_fraction': 0.8416965409453083, 'bagging_freq': 5, 'min_child_samples': 40}. Best is trial 15 with value: 0.38101359327361073.\n",
      "[I 2025-04-23 23:48:40,622] Trial 98 finished with value: 0.35702292945342184 and parameters: {'lambda_l1': 0.012905814364165548, 'lambda_l2': 2.2108326727044303, 'num_leaves': 218, 'feature_fraction': 0.46118641336664207, 'bagging_fraction': 0.7136137046403308, 'bagging_freq': 7, 'min_child_samples': 19}. Best is trial 15 with value: 0.38101359327361073.\n",
      "[I 2025-04-23 23:48:41,131] Trial 99 finished with value: 0.365128392021537 and parameters: {'lambda_l1': 0.00046675602717972925, 'lambda_l2': 0.018155956563716415, 'num_leaves': 19, 'feature_fraction': 0.8773807806596549, 'bagging_fraction': 0.859964016473404, 'bagging_freq': 6, 'min_child_samples': 80}. Best is trial 15 with value: 0.38101359327361073.\n"
     ]
    }
   ],
   "source": [
    "#Defino el estudio a optimizar\n",
    "study = optuna.create_study(direction='maximize', #buscamos maximizar la metrica\n",
    "                            storage=\"sqlite:///../work/db.sqlite3\",  # Specify the storage URL here.\n",
    "                            study_name=\"04 - LGB Multiclass\", #nombre del experimento\n",
    "                            load_if_exists=True) #continuar si ya existe\n",
    "\n",
    "#Corremos 100 trials para buscar mejores parametros\n",
    "study.optimize(lgb_objective, n_trials=100)"
   ]
  },
  {
   "cell_type": "code",
   "execution_count": 19,
   "id": "f9697749",
   "metadata": {},
   "outputs": [
    {
     "data": {
      "text/plain": [
       "{'lambda_l1': 0.0077013723231959975,\n",
       " 'lambda_l2': 9.442997431187427,\n",
       " 'num_leaves': 203,\n",
       " 'feature_fraction': 0.7303292527310437,\n",
       " 'bagging_fraction': 0.8601199301864577,\n",
       " 'bagging_freq': 6,\n",
       " 'min_child_samples': 41}"
      ]
     },
     "execution_count": 19,
     "metadata": {},
     "output_type": "execute_result"
    }
   ],
   "source": [
    "#Obtenemos mejor resultado\n",
    "study.best_params"
   ]
  },
  {
   "cell_type": "code",
   "execution_count": 20,
   "id": "b0db9f91",
   "metadata": {},
   "outputs": [
    {
     "name": "stdout",
     "output_type": "stream",
     "text": [
      "0.38101359327361073\n"
     ]
    },
    {
     "data": {
      "application/vnd.plotly.v1+json": {
       "config": {
        "plotlyServerURL": "https://plot.ly"
       },
       "data": [
        {
         "type": "heatmap",
         "x": {
          "bdata": "AAECAwQ=",
          "dtype": "i1"
         },
         "y": {
          "bdata": "AAECAwQ=",
          "dtype": "i1"
         },
         "z": {
          "bdata": "ZHA+BudjGECQwfkYnI9GQGRwPgbnYzhARO1K1K5EHUATtStRuxIxQA4wbu9DttQ/7LfaGJruQkArOS+L+ARAQM/LIj6BVCZALP8cCcGbMkCZSSgX8bjPP2/37GMzcjRA/iCoYo9kQ0BMB2+OKbsuQFzyXC2nJzlAsDCrUcShwz8eL7YE3+YvQI0iDp20Dz5AUc9UrjtePkAyoJ6pXHc3QJ/neZ7neb4/z/M8z/M8JEAkSZIkSZIsQMMwDMMwDCNAz/M8z/N8UEA=",
          "dtype": "f8",
          "shape": "5, 5"
         }
        }
       ],
       "layout": {
        "annotations": [
         {
          "font": {
           "color": "white"
          },
          "showarrow": false,
          "text": "6.1 - 5",
          "x": 0,
          "xref": "x",
          "y": 0,
          "yref": "y"
         },
         {
          "font": {
           "color": "white"
          },
          "showarrow": false,
          "text": "45.1 - 37",
          "x": 1,
          "xref": "x",
          "y": 0,
          "yref": "y"
         },
         {
          "font": {
           "color": "white"
          },
          "showarrow": false,
          "text": "24.4 - 20",
          "x": 2,
          "xref": "x",
          "y": 0,
          "yref": "y"
         },
         {
          "font": {
           "color": "white"
          },
          "showarrow": false,
          "text": "7.3 - 6",
          "x": 3,
          "xref": "x",
          "y": 0,
          "yref": "y"
         },
         {
          "font": {
           "color": "white"
          },
          "showarrow": false,
          "text": "17.1 - 14",
          "x": 4,
          "xref": "x",
          "y": 0,
          "yref": "y"
         },
         {
          "font": {
           "color": "white"
          },
          "showarrow": false,
          "text": "0.3 - 2",
          "x": 0,
          "xref": "x",
          "y": 1,
          "yref": "y"
         },
         {
          "font": {
           "color": "white"
          },
          "showarrow": false,
          "text": "37.9 - 234",
          "x": 1,
          "xref": "x",
          "y": 1,
          "yref": "y"
         },
         {
          "font": {
           "color": "white"
          },
          "showarrow": false,
          "text": "32.0 - 198",
          "x": 2,
          "xref": "x",
          "y": 1,
          "yref": "y"
         },
         {
          "font": {
           "color": "white"
          },
          "showarrow": false,
          "text": "11.2 - 69",
          "x": 3,
          "xref": "x",
          "y": 1,
          "yref": "y"
         },
         {
          "font": {
           "color": "white"
          },
          "showarrow": false,
          "text": "18.6 - 115",
          "x": 4,
          "xref": "x",
          "y": 1,
          "yref": "y"
         },
         {
          "font": {
           "color": "white"
          },
          "showarrow": false,
          "text": "0.2 - 2",
          "x": 0,
          "xref": "x",
          "y": 2,
          "yref": "y"
         },
         {
          "font": {
           "color": "white"
          },
          "showarrow": false,
          "text": "20.4 - 165",
          "x": 1,
          "xref": "x",
          "y": 2,
          "yref": "y"
         },
         {
          "font": {
           "color": "white"
          },
          "showarrow": false,
          "text": "38.8 - 313",
          "x": 2,
          "xref": "x",
          "y": 2,
          "yref": "y"
         },
         {
          "font": {
           "color": "white"
          },
          "showarrow": false,
          "text": "15.4 - 124",
          "x": 3,
          "xref": "x",
          "y": 2,
          "yref": "y"
         },
         {
          "font": {
           "color": "white"
          },
          "showarrow": false,
          "text": "25.2 - 203",
          "x": 4,
          "xref": "x",
          "y": 2,
          "yref": "y"
         },
         {
          "font": {
           "color": "white"
          },
          "showarrow": false,
          "text": "0.2 - 1",
          "x": 0,
          "xref": "x",
          "y": 3,
          "yref": "y"
         },
         {
          "font": {
           "color": "white"
          },
          "showarrow": false,
          "text": "16.0 - 104",
          "x": 1,
          "xref": "x",
          "y": 3,
          "yref": "y"
         },
         {
          "font": {
           "color": "white"
          },
          "showarrow": false,
          "text": "30.1 - 196",
          "x": 2,
          "xref": "x",
          "y": 3,
          "yref": "y"
         },
         {
          "font": {
           "color": "white"
          },
          "showarrow": false,
          "text": "30.4 - 198",
          "x": 3,
          "xref": "x",
          "y": 3,
          "yref": "y"
         },
         {
          "font": {
           "color": "white"
          },
          "showarrow": false,
          "text": "23.5 - 153",
          "x": 4,
          "xref": "x",
          "y": 3,
          "yref": "y"
         },
         {
          "font": {
           "color": "white"
          },
          "showarrow": false,
          "text": "0.1 - 1",
          "x": 0,
          "xref": "x",
          "y": 4,
          "yref": "y"
         },
         {
          "font": {
           "color": "white"
          },
          "showarrow": false,
          "text": "10.1 - 85",
          "x": 1,
          "xref": "x",
          "y": 4,
          "yref": "y"
         },
         {
          "font": {
           "color": "white"
          },
          "showarrow": false,
          "text": "14.3 - 120",
          "x": 2,
          "xref": "x",
          "y": 4,
          "yref": "y"
         },
         {
          "font": {
           "color": "white"
          },
          "showarrow": false,
          "text": "9.5 - 80",
          "x": 3,
          "xref": "x",
          "y": 4,
          "yref": "y"
         },
         {
          "font": {
           "color": "white"
          },
          "showarrow": false,
          "text": "66.0 - 554",
          "x": 4,
          "xref": "x",
          "y": 4,
          "yref": "y"
         }
        ],
        "height": 800,
        "template": {
         "data": {
          "bar": [
           {
            "error_x": {
             "color": "#2a3f5f"
            },
            "error_y": {
             "color": "#2a3f5f"
            },
            "marker": {
             "line": {
              "color": "#E5ECF6",
              "width": 0.5
             },
             "pattern": {
              "fillmode": "overlay",
              "size": 10,
              "solidity": 0.2
             }
            },
            "type": "bar"
           }
          ],
          "barpolar": [
           {
            "marker": {
             "line": {
              "color": "#E5ECF6",
              "width": 0.5
             },
             "pattern": {
              "fillmode": "overlay",
              "size": 10,
              "solidity": 0.2
             }
            },
            "type": "barpolar"
           }
          ],
          "carpet": [
           {
            "aaxis": {
             "endlinecolor": "#2a3f5f",
             "gridcolor": "white",
             "linecolor": "white",
             "minorgridcolor": "white",
             "startlinecolor": "#2a3f5f"
            },
            "baxis": {
             "endlinecolor": "#2a3f5f",
             "gridcolor": "white",
             "linecolor": "white",
             "minorgridcolor": "white",
             "startlinecolor": "#2a3f5f"
            },
            "type": "carpet"
           }
          ],
          "choropleth": [
           {
            "colorbar": {
             "outlinewidth": 0,
             "ticks": ""
            },
            "type": "choropleth"
           }
          ],
          "contour": [
           {
            "colorbar": {
             "outlinewidth": 0,
             "ticks": ""
            },
            "colorscale": [
             [
              0,
              "#0d0887"
             ],
             [
              0.1111111111111111,
              "#46039f"
             ],
             [
              0.2222222222222222,
              "#7201a8"
             ],
             [
              0.3333333333333333,
              "#9c179e"
             ],
             [
              0.4444444444444444,
              "#bd3786"
             ],
             [
              0.5555555555555556,
              "#d8576b"
             ],
             [
              0.6666666666666666,
              "#ed7953"
             ],
             [
              0.7777777777777778,
              "#fb9f3a"
             ],
             [
              0.8888888888888888,
              "#fdca26"
             ],
             [
              1,
              "#f0f921"
             ]
            ],
            "type": "contour"
           }
          ],
          "contourcarpet": [
           {
            "colorbar": {
             "outlinewidth": 0,
             "ticks": ""
            },
            "type": "contourcarpet"
           }
          ],
          "heatmap": [
           {
            "colorbar": {
             "outlinewidth": 0,
             "ticks": ""
            },
            "colorscale": [
             [
              0,
              "#0d0887"
             ],
             [
              0.1111111111111111,
              "#46039f"
             ],
             [
              0.2222222222222222,
              "#7201a8"
             ],
             [
              0.3333333333333333,
              "#9c179e"
             ],
             [
              0.4444444444444444,
              "#bd3786"
             ],
             [
              0.5555555555555556,
              "#d8576b"
             ],
             [
              0.6666666666666666,
              "#ed7953"
             ],
             [
              0.7777777777777778,
              "#fb9f3a"
             ],
             [
              0.8888888888888888,
              "#fdca26"
             ],
             [
              1,
              "#f0f921"
             ]
            ],
            "type": "heatmap"
           }
          ],
          "histogram": [
           {
            "marker": {
             "pattern": {
              "fillmode": "overlay",
              "size": 10,
              "solidity": 0.2
             }
            },
            "type": "histogram"
           }
          ],
          "histogram2d": [
           {
            "colorbar": {
             "outlinewidth": 0,
             "ticks": ""
            },
            "colorscale": [
             [
              0,
              "#0d0887"
             ],
             [
              0.1111111111111111,
              "#46039f"
             ],
             [
              0.2222222222222222,
              "#7201a8"
             ],
             [
              0.3333333333333333,
              "#9c179e"
             ],
             [
              0.4444444444444444,
              "#bd3786"
             ],
             [
              0.5555555555555556,
              "#d8576b"
             ],
             [
              0.6666666666666666,
              "#ed7953"
             ],
             [
              0.7777777777777778,
              "#fb9f3a"
             ],
             [
              0.8888888888888888,
              "#fdca26"
             ],
             [
              1,
              "#f0f921"
             ]
            ],
            "type": "histogram2d"
           }
          ],
          "histogram2dcontour": [
           {
            "colorbar": {
             "outlinewidth": 0,
             "ticks": ""
            },
            "colorscale": [
             [
              0,
              "#0d0887"
             ],
             [
              0.1111111111111111,
              "#46039f"
             ],
             [
              0.2222222222222222,
              "#7201a8"
             ],
             [
              0.3333333333333333,
              "#9c179e"
             ],
             [
              0.4444444444444444,
              "#bd3786"
             ],
             [
              0.5555555555555556,
              "#d8576b"
             ],
             [
              0.6666666666666666,
              "#ed7953"
             ],
             [
              0.7777777777777778,
              "#fb9f3a"
             ],
             [
              0.8888888888888888,
              "#fdca26"
             ],
             [
              1,
              "#f0f921"
             ]
            ],
            "type": "histogram2dcontour"
           }
          ],
          "mesh3d": [
           {
            "colorbar": {
             "outlinewidth": 0,
             "ticks": ""
            },
            "type": "mesh3d"
           }
          ],
          "parcoords": [
           {
            "line": {
             "colorbar": {
              "outlinewidth": 0,
              "ticks": ""
             }
            },
            "type": "parcoords"
           }
          ],
          "pie": [
           {
            "automargin": true,
            "type": "pie"
           }
          ],
          "scatter": [
           {
            "fillpattern": {
             "fillmode": "overlay",
             "size": 10,
             "solidity": 0.2
            },
            "type": "scatter"
           }
          ],
          "scatter3d": [
           {
            "line": {
             "colorbar": {
              "outlinewidth": 0,
              "ticks": ""
             }
            },
            "marker": {
             "colorbar": {
              "outlinewidth": 0,
              "ticks": ""
             }
            },
            "type": "scatter3d"
           }
          ],
          "scattercarpet": [
           {
            "marker": {
             "colorbar": {
              "outlinewidth": 0,
              "ticks": ""
             }
            },
            "type": "scattercarpet"
           }
          ],
          "scattergeo": [
           {
            "marker": {
             "colorbar": {
              "outlinewidth": 0,
              "ticks": ""
             }
            },
            "type": "scattergeo"
           }
          ],
          "scattergl": [
           {
            "marker": {
             "colorbar": {
              "outlinewidth": 0,
              "ticks": ""
             }
            },
            "type": "scattergl"
           }
          ],
          "scattermap": [
           {
            "marker": {
             "colorbar": {
              "outlinewidth": 0,
              "ticks": ""
             }
            },
            "type": "scattermap"
           }
          ],
          "scattermapbox": [
           {
            "marker": {
             "colorbar": {
              "outlinewidth": 0,
              "ticks": ""
             }
            },
            "type": "scattermapbox"
           }
          ],
          "scatterpolar": [
           {
            "marker": {
             "colorbar": {
              "outlinewidth": 0,
              "ticks": ""
             }
            },
            "type": "scatterpolar"
           }
          ],
          "scatterpolargl": [
           {
            "marker": {
             "colorbar": {
              "outlinewidth": 0,
              "ticks": ""
             }
            },
            "type": "scatterpolargl"
           }
          ],
          "scatterternary": [
           {
            "marker": {
             "colorbar": {
              "outlinewidth": 0,
              "ticks": ""
             }
            },
            "type": "scatterternary"
           }
          ],
          "surface": [
           {
            "colorbar": {
             "outlinewidth": 0,
             "ticks": ""
            },
            "colorscale": [
             [
              0,
              "#0d0887"
             ],
             [
              0.1111111111111111,
              "#46039f"
             ],
             [
              0.2222222222222222,
              "#7201a8"
             ],
             [
              0.3333333333333333,
              "#9c179e"
             ],
             [
              0.4444444444444444,
              "#bd3786"
             ],
             [
              0.5555555555555556,
              "#d8576b"
             ],
             [
              0.6666666666666666,
              "#ed7953"
             ],
             [
              0.7777777777777778,
              "#fb9f3a"
             ],
             [
              0.8888888888888888,
              "#fdca26"
             ],
             [
              1,
              "#f0f921"
             ]
            ],
            "type": "surface"
           }
          ],
          "table": [
           {
            "cells": {
             "fill": {
              "color": "#EBF0F8"
             },
             "line": {
              "color": "white"
             }
            },
            "header": {
             "fill": {
              "color": "#C8D4E3"
             },
             "line": {
              "color": "white"
             }
            },
            "type": "table"
           }
          ]
         },
         "layout": {
          "annotationdefaults": {
           "arrowcolor": "#2a3f5f",
           "arrowhead": 0,
           "arrowwidth": 1
          },
          "autotypenumbers": "strict",
          "coloraxis": {
           "colorbar": {
            "outlinewidth": 0,
            "ticks": ""
           }
          },
          "colorscale": {
           "diverging": [
            [
             0,
             "#8e0152"
            ],
            [
             0.1,
             "#c51b7d"
            ],
            [
             0.2,
             "#de77ae"
            ],
            [
             0.3,
             "#f1b6da"
            ],
            [
             0.4,
             "#fde0ef"
            ],
            [
             0.5,
             "#f7f7f7"
            ],
            [
             0.6,
             "#e6f5d0"
            ],
            [
             0.7,
             "#b8e186"
            ],
            [
             0.8,
             "#7fbc41"
            ],
            [
             0.9,
             "#4d9221"
            ],
            [
             1,
             "#276419"
            ]
           ],
           "sequential": [
            [
             0,
             "#0d0887"
            ],
            [
             0.1111111111111111,
             "#46039f"
            ],
            [
             0.2222222222222222,
             "#7201a8"
            ],
            [
             0.3333333333333333,
             "#9c179e"
            ],
            [
             0.4444444444444444,
             "#bd3786"
            ],
            [
             0.5555555555555556,
             "#d8576b"
            ],
            [
             0.6666666666666666,
             "#ed7953"
            ],
            [
             0.7777777777777778,
             "#fb9f3a"
            ],
            [
             0.8888888888888888,
             "#fdca26"
            ],
            [
             1,
             "#f0f921"
            ]
           ],
           "sequentialminus": [
            [
             0,
             "#0d0887"
            ],
            [
             0.1111111111111111,
             "#46039f"
            ],
            [
             0.2222222222222222,
             "#7201a8"
            ],
            [
             0.3333333333333333,
             "#9c179e"
            ],
            [
             0.4444444444444444,
             "#bd3786"
            ],
            [
             0.5555555555555556,
             "#d8576b"
            ],
            [
             0.6666666666666666,
             "#ed7953"
            ],
            [
             0.7777777777777778,
             "#fb9f3a"
            ],
            [
             0.8888888888888888,
             "#fdca26"
            ],
            [
             1,
             "#f0f921"
            ]
           ]
          },
          "colorway": [
           "#636efa",
           "#EF553B",
           "#00cc96",
           "#ab63fa",
           "#FFA15A",
           "#19d3f3",
           "#FF6692",
           "#B6E880",
           "#FF97FF",
           "#FECB52"
          ],
          "font": {
           "color": "#2a3f5f"
          },
          "geo": {
           "bgcolor": "white",
           "lakecolor": "white",
           "landcolor": "#E5ECF6",
           "showlakes": true,
           "showland": true,
           "subunitcolor": "white"
          },
          "hoverlabel": {
           "align": "left"
          },
          "hovermode": "closest",
          "mapbox": {
           "style": "light"
          },
          "paper_bgcolor": "white",
          "plot_bgcolor": "#E5ECF6",
          "polar": {
           "angularaxis": {
            "gridcolor": "white",
            "linecolor": "white",
            "ticks": ""
           },
           "bgcolor": "#E5ECF6",
           "radialaxis": {
            "gridcolor": "white",
            "linecolor": "white",
            "ticks": ""
           }
          },
          "scene": {
           "xaxis": {
            "backgroundcolor": "#E5ECF6",
            "gridcolor": "white",
            "gridwidth": 2,
            "linecolor": "white",
            "showbackground": true,
            "ticks": "",
            "zerolinecolor": "white"
           },
           "yaxis": {
            "backgroundcolor": "#E5ECF6",
            "gridcolor": "white",
            "gridwidth": 2,
            "linecolor": "white",
            "showbackground": true,
            "ticks": "",
            "zerolinecolor": "white"
           },
           "zaxis": {
            "backgroundcolor": "#E5ECF6",
            "gridcolor": "white",
            "gridwidth": 2,
            "linecolor": "white",
            "showbackground": true,
            "ticks": "",
            "zerolinecolor": "white"
           }
          },
          "shapedefaults": {
           "line": {
            "color": "#2a3f5f"
           }
          },
          "ternary": {
           "aaxis": {
            "gridcolor": "white",
            "linecolor": "white",
            "ticks": ""
           },
           "baxis": {
            "gridcolor": "white",
            "linecolor": "white",
            "ticks": ""
           },
           "bgcolor": "#E5ECF6",
           "caxis": {
            "gridcolor": "white",
            "linecolor": "white",
            "ticks": ""
           }
          },
          "title": {
           "x": 0.05
          },
          "xaxis": {
           "automargin": true,
           "gridcolor": "white",
           "linecolor": "white",
           "ticks": "",
           "title": {
            "standoff": 15
           },
           "zerolinecolor": "white",
           "zerolinewidth": 2
          },
          "yaxis": {
           "automargin": true,
           "gridcolor": "white",
           "linecolor": "white",
           "ticks": "",
           "title": {
            "standoff": 15
           },
           "zerolinecolor": "white",
           "zerolinewidth": 2
          }
         }
        },
        "title": {
         "text": "Conf Matrix"
        },
        "width": 800,
        "xaxis": {
         "title": {
          "text": "Predicted value"
         }
        },
        "yaxis": {
         "title": {
          "text": "Real value"
         }
        }
       }
      }
     },
     "metadata": {},
     "output_type": "display_data"
    }
   ],
   "source": [
    "#Vamos a replicar el resultado de la optimizacion reentrenando el modelo con el mejor conjunto de hiperparametros\n",
    "#Generamos parametros incluyendo los fijos y la mejor solución que encontro optuna\n",
    "lgb_params =  {      \n",
    "                        'objective': 'multiclass',\n",
    "                        'verbosity':-1,\n",
    "                        'num_class': len(y_train.unique())} | study.best_params\n",
    "\n",
    "lgb_train_dataset = lgb.Dataset(data=X_train,\n",
    "                                label=y_train)\n",
    "\n",
    "\n",
    "#Entreno\n",
    "lgb_model = lgb.train(lgb_params,\n",
    "                    lgb_train_dataset)\n",
    "\n",
    "#Muestro matriz de confusion y kappa\n",
    "print(cohen_kappa_score(y_test,lgb_model.predict(X_test).argmax(axis=1),\n",
    "                             weights = 'quadratic'))\n",
    "\n",
    "display(plot_confusion_matrix(y_test,lgb_model.predict(X_test).argmax(axis=1)))\n",
    "\n"
   ]
  },
  {
   "cell_type": "markdown",
   "id": "52853014",
   "metadata": {},
   "source": [
    "## Modelo con optimizacion de hiperparametros con 5 Fold Cross Validation"
   ]
  },
  {
   "cell_type": "code",
   "execution_count": 21,
   "id": "1f79d12c",
   "metadata": {},
   "outputs": [],
   "source": [
    "from optuna.artifacts import FileSystemArtifactStore, upload_artifact\n",
    "from sklearn.metrics import cohen_kappa_score\n",
    "from sklearn.model_selection import StratifiedKFold\n",
    "import lightgbm as lgb\n",
    "import numpy as np\n",
    "import os\n",
    "from joblib import dump\n",
    "import matplotlib.pyplot as plt\n",
    "from sklearn.metrics import confusion_matrix, ConfusionMatrixDisplay\n",
    "\n",
    "def lgb_custom_metric_kappa(dy_pred, dy_true):\n",
    "    metric_name = 'kappa'\n",
    "    value = cohen_kappa_score(dy_true.get_label(), dy_pred.argmax(axis=1), weights='quadratic')\n",
    "    is_higher_better = True\n",
    "    return (metric_name, value, is_higher_better)\n",
    "\n",
    "def cv_es_lgb_objective(trial):\n",
    "    \n",
    "    # Inicio el store de artefactos (archivos) de Optuna\n",
    "    artifact_store = FileSystemArtifactStore(base_path=PATH_TO_OPTUNA_ARTIFACTS)\n",
    "\n",
    "    # Hiperparámetros a optimizar\n",
    "    lgb_params = {\n",
    "        'objective': 'multiclass',\n",
    "        'verbosity': -1,\n",
    "        'num_class': len(y_train.unique()),\n",
    "        'lambda_l1': trial.suggest_float('lambda_l1', 1e-8, 10.0, log=True),\n",
    "        'lambda_l2': trial.suggest_float('lambda_l2', 1e-8, 10.0, log=True),\n",
    "        'num_leaves': trial.suggest_int('num_leaves', 2, 256),\n",
    "        'feature_fraction': trial.suggest_float('feature_fraction', 0.4, 1.0),\n",
    "        'bagging_fraction': trial.suggest_float('bagging_fraction', 0.4, 1.0),\n",
    "        'bagging_freq': trial.suggest_int('bagging_freq', 1, 7),\n",
    "        'min_child_samples': trial.suggest_int('min_child_samples', 5, 100),\n",
    "        'n_jobs': -1\n",
    "    }\n",
    "    \n",
    "    scores_ensemble = np.zeros((len(y_test), len(y_train.unique())))\n",
    "    score_folds = 0\n",
    "    n_splits = 5\n",
    "    skf = StratifiedKFold(n_splits=n_splits)\n",
    "\n",
    "    for i, (if_index, oof_index) in enumerate(skf.split(X_train, y_train)):\n",
    "\n",
    "        lgb_if_dataset = lgb.Dataset(data=X_train.iloc[if_index],\n",
    "                                     label=y_train.iloc[if_index],\n",
    "                                     free_raw_data=False)\n",
    "        \n",
    "        lgb_oof_dataset = lgb.Dataset(data=X_train.iloc[oof_index],\n",
    "                                      label=y_train.iloc[oof_index],\n",
    "                                      free_raw_data=False)\n",
    "                \n",
    "        lgb_model = lgb.train(\n",
    "            lgb_params,\n",
    "            lgb_if_dataset,\n",
    "            valid_sets=lgb_oof_dataset,\n",
    "            callbacks=[lgb.early_stopping(10, verbose=False)],\n",
    "            feval=lgb_custom_metric_kappa\n",
    "        )\n",
    "        \n",
    "        scores_ensemble += lgb_model.predict(X_test)\n",
    "\n",
    "        score_folds += cohen_kappa_score(\n",
    "            y_train.iloc[oof_index],\n",
    "            lgb_model.predict(X_train.iloc[oof_index]).argmax(axis=1),\n",
    "            weights='quadratic'\n",
    "        ) / n_splits\n",
    "    \n",
    "    # Guardar predicciones sobre test\n",
    "    predicted_filename = os.path.join(PATH_TO_TEMP_FILES, f'test_{trial.study.study_name}_{trial.number}.joblib')\n",
    "    predicted_df = test.copy()\n",
    "    predicted_df['pred'] = [scores_ensemble[p, :] for p in range(scores_ensemble.shape[0])]\n",
    "    dump(predicted_df, predicted_filename)\n",
    "\n",
    "    # Uso keyword arguments en upload_artifact. Asociar las predicciones como artefacto.\n",
    "    upload_artifact(\n",
    "        study_or_trial=trial,\n",
    "        file_path=predicted_filename,\n",
    "        artifact_store=artifact_store\n",
    "    )\n",
    "\n",
    "    # Generar nombre de archivo (¡esto es un string, no lo pises!)\n",
    "    cm_filename = os.path.join(PATH_TO_TEMP_FILES, f'cm_{trial.study.study_name}_{trial.number}.jpg')\n",
    "\n",
    "    # Crear y guardar matriz de confusión\n",
    "    cm = confusion_matrix(y_test, scores_ensemble.argmax(axis=1))\n",
    "    disp = ConfusionMatrixDisplay(cm)\n",
    "    disp.plot()\n",
    "    plt.savefig(cm_filename)\n",
    "    plt.close()\n",
    "\n",
    "    # Uso keyword arguments en upload_artifact. Asociar la imagen como artefacto\n",
    "    upload_artifact(\n",
    "        study_or_trial=trial,\n",
    "        file_path=cm_filename,\n",
    "        artifact_store=artifact_store\n",
    "    )\n",
    "    \n",
    "    # Guardar el score en test como métrica auxiliar\n",
    "    test_score = cohen_kappa_score(y_test, scores_ensemble.argmax(axis=1), weights='quadratic')\n",
    "    trial.set_user_attr(\"test_score\", test_score)\n",
    "\n",
    "    # Devuelvo el promedio de los scores del CV (objetivo a maximizar)\n",
    "    return score_folds"
   ]
  },
  {
   "cell_type": "code",
   "execution_count": 22,
   "id": "44742181",
   "metadata": {},
   "outputs": [
    {
     "name": "stderr",
     "output_type": "stream",
     "text": [
      "[I 2025-04-23 23:52:27,770] A new study created in RDB with name: 04 - LGB Multiclass CV\n",
      "[I 2025-04-23 23:52:32,223] Trial 0 finished with value: 0.3787614930858455 and parameters: {'lambda_l1': 7.058811560988607e-07, 'lambda_l2': 0.001639397782675576, 'num_leaves': 51, 'feature_fraction': 0.5445739357856908, 'bagging_fraction': 0.962586018880221, 'bagging_freq': 3, 'min_child_samples': 78}. Best is trial 0 with value: 0.3787614930858455.\n",
      "[I 2025-04-23 23:52:36,349] Trial 1 finished with value: 0.38168267370347786 and parameters: {'lambda_l1': 0.018440911374453008, 'lambda_l2': 0.0011241422065886785, 'num_leaves': 66, 'feature_fraction': 0.7398500784785873, 'bagging_fraction': 0.7653767557687551, 'bagging_freq': 4, 'min_child_samples': 96}. Best is trial 1 with value: 0.38168267370347786.\n",
      "[I 2025-04-23 23:52:40,182] Trial 2 finished with value: 0.359839381954501 and parameters: {'lambda_l1': 0.005709442828668855, 'lambda_l2': 0.00017236763984303062, 'num_leaves': 244, 'feature_fraction': 0.9822713496340895, 'bagging_fraction': 0.4934744580532741, 'bagging_freq': 7, 'min_child_samples': 56}. Best is trial 1 with value: 0.38168267370347786.\n",
      "[I 2025-04-23 23:52:43,940] Trial 3 finished with value: 0.3830490875336907 and parameters: {'lambda_l1': 2.0982366491716092e-08, 'lambda_l2': 7.766528487828823e-05, 'num_leaves': 50, 'feature_fraction': 0.693498253293817, 'bagging_fraction': 0.7874407349022086, 'bagging_freq': 1, 'min_child_samples': 10}. Best is trial 3 with value: 0.3830490875336907.\n",
      "[I 2025-04-23 23:52:48,373] Trial 4 finished with value: 0.36690358445185617 and parameters: {'lambda_l1': 0.48226213238076654, 'lambda_l2': 1.887244662197972e-06, 'num_leaves': 251, 'feature_fraction': 0.5645394257056882, 'bagging_fraction': 0.4284652747869458, 'bagging_freq': 5, 'min_child_samples': 68}. Best is trial 3 with value: 0.3830490875336907.\n",
      "[I 2025-04-23 23:52:52,515] Trial 5 finished with value: 0.37904249258445555 and parameters: {'lambda_l1': 5.800861027344991e-05, 'lambda_l2': 6.168309374346858e-05, 'num_leaves': 47, 'feature_fraction': 0.5691041852879504, 'bagging_fraction': 0.7437517303466925, 'bagging_freq': 6, 'min_child_samples': 41}. Best is trial 3 with value: 0.3830490875336907.\n",
      "[I 2025-04-23 23:52:55,865] Trial 6 finished with value: 0.36764417537147875 and parameters: {'lambda_l1': 2.9620636773747975e-08, 'lambda_l2': 0.1987739368247512, 'num_leaves': 21, 'feature_fraction': 0.8013306958702033, 'bagging_fraction': 0.9519054017545522, 'bagging_freq': 4, 'min_child_samples': 34}. Best is trial 3 with value: 0.3830490875336907.\n",
      "[I 2025-04-23 23:53:00,334] Trial 7 finished with value: 0.3826545722270691 and parameters: {'lambda_l1': 5.952115623606397e-07, 'lambda_l2': 2.709872748292383e-08, 'num_leaves': 107, 'feature_fraction': 0.6769378014607113, 'bagging_fraction': 0.7493010666239208, 'bagging_freq': 1, 'min_child_samples': 19}. Best is trial 3 with value: 0.3830490875336907.\n",
      "[I 2025-04-23 23:53:03,955] Trial 8 finished with value: 0.3702693759149781 and parameters: {'lambda_l1': 1.5333252233457142e-07, 'lambda_l2': 1.4088617395785765e-07, 'num_leaves': 24, 'feature_fraction': 0.5881664843118632, 'bagging_fraction': 0.4566012393744908, 'bagging_freq': 4, 'min_child_samples': 54}. Best is trial 3 with value: 0.3830490875336907.\n",
      "[I 2025-04-23 23:53:08,396] Trial 9 finished with value: 0.37270768560087075 and parameters: {'lambda_l1': 6.432723361825122, 'lambda_l2': 0.03328513937647141, 'num_leaves': 236, 'feature_fraction': 0.8609424206350568, 'bagging_fraction': 0.6529338940654059, 'bagging_freq': 3, 'min_child_samples': 45}. Best is trial 3 with value: 0.3830490875336907.\n",
      "[I 2025-04-23 23:53:13,260] Trial 10 finished with value: 0.3802849349490833 and parameters: {'lambda_l1': 4.764823787879556e-05, 'lambda_l2': 2.9532025585790814e-06, 'num_leaves': 172, 'feature_fraction': 0.4058448697781768, 'bagging_fraction': 0.8546598318187721, 'bagging_freq': 1, 'min_child_samples': 7}. Best is trial 3 with value: 0.3830490875336907.\n",
      "[I 2025-04-23 23:53:17,726] Trial 11 finished with value: 0.36686768471945214 and parameters: {'lambda_l1': 1.0197891324052357e-06, 'lambda_l2': 1.3529460178844045e-08, 'num_leaves': 118, 'feature_fraction': 0.7033067712010806, 'bagging_fraction': 0.6497074694735788, 'bagging_freq': 1, 'min_child_samples': 5}. Best is trial 3 with value: 0.3830490875336907.\n",
      "[I 2025-04-23 23:53:22,797] Trial 12 finished with value: 0.3830754129426231 and parameters: {'lambda_l1': 1.736759993995228e-08, 'lambda_l2': 5.637089672336299, 'num_leaves': 112, 'feature_fraction': 0.6565524922337069, 'bagging_fraction': 0.8311347365556366, 'bagging_freq': 2, 'min_child_samples': 22}. Best is trial 12 with value: 0.3830754129426231.\n",
      "[I 2025-04-23 23:53:28,415] Trial 13 finished with value: 0.3764127670329568 and parameters: {'lambda_l1': 8.618587038123349e-06, 'lambda_l2': 4.948913766085148, 'num_leaves': 161, 'feature_fraction': 0.6439498725213028, 'bagging_fraction': 0.8621688966404057, 'bagging_freq': 2, 'min_child_samples': 25}. Best is trial 12 with value: 0.3830754129426231.\n",
      "[I 2025-04-23 23:53:33,552] Trial 14 finished with value: 0.383156760299876 and parameters: {'lambda_l1': 1.1110008721602294e-08, 'lambda_l2': 8.550408270294136, 'num_leaves': 83, 'feature_fraction': 0.828063352783744, 'bagging_fraction': 0.8709375090347214, 'bagging_freq': 2, 'min_child_samples': 21}. Best is trial 14 with value: 0.383156760299876.\n",
      "[I 2025-04-23 23:53:39,064] Trial 15 finished with value: 0.37420759469951426 and parameters: {'lambda_l1': 1.7476135571741863e-08, 'lambda_l2': 9.56879270839235, 'num_leaves': 95, 'feature_fraction': 0.9011604638560687, 'bagging_fraction': 0.8793731820442537, 'bagging_freq': 2, 'min_child_samples': 27}. Best is trial 14 with value: 0.383156760299876.\n",
      "[I 2025-04-23 23:53:44,113] Trial 16 finished with value: 0.3879049338290833 and parameters: {'lambda_l1': 0.0008897122555037616, 'lambda_l2': 0.3813126716483986, 'num_leaves': 162, 'feature_fraction': 0.8006559386924486, 'bagging_fraction': 0.9900261630565491, 'bagging_freq': 2, 'min_child_samples': 16}. Best is trial 16 with value: 0.3879049338290833.\n",
      "[I 2025-04-23 23:53:49,170] Trial 17 finished with value: 0.3756045407205973 and parameters: {'lambda_l1': 0.0012182034953869582, 'lambda_l2': 0.2178406536295321, 'num_leaves': 162, 'feature_fraction': 0.8492535977589615, 'bagging_fraction': 0.9955553480606895, 'bagging_freq': 3, 'min_child_samples': 36}. Best is trial 16 with value: 0.3879049338290833.\n",
      "[I 2025-04-23 23:53:54,817] Trial 18 finished with value: 0.36543269157323455 and parameters: {'lambda_l1': 0.1252363811807076, 'lambda_l2': 0.4281823132698565, 'num_leaves': 202, 'feature_fraction': 0.9565854006064454, 'bagging_fraction': 0.9046853019438876, 'bagging_freq': 2, 'min_child_samples': 18}. Best is trial 16 with value: 0.3879049338290833.\n",
      "[I 2025-04-23 23:53:58,317] Trial 19 finished with value: 0.36258375417814376 and parameters: {'lambda_l1': 0.0005602518021907159, 'lambda_l2': 0.015969935039490374, 'num_leaves': 138, 'feature_fraction': 0.7848762929925319, 'bagging_fraction': 0.5790418497604076, 'bagging_freq': 5, 'min_child_samples': 63}. Best is trial 16 with value: 0.3879049338290833.\n",
      "[I 2025-04-23 23:54:02,882] Trial 20 finished with value: 0.3781623685128486 and parameters: {'lambda_l1': 1.5136632979802339e-05, 'lambda_l2': 0.950459011844167, 'num_leaves': 84, 'feature_fraction': 0.9199462940180655, 'bagging_fraction': 0.9244981826216971, 'bagging_freq': 3, 'min_child_samples': 14}. Best is trial 16 with value: 0.3879049338290833.\n",
      "[I 2025-04-23 23:54:08,128] Trial 21 finished with value: 0.37471831388242144 and parameters: {'lambda_l1': 1.2878454207343787e-07, 'lambda_l2': 2.0508552442204437, 'num_leaves': 192, 'feature_fraction': 0.7953226254249074, 'bagging_fraction': 0.821444785854253, 'bagging_freq': 2, 'min_child_samples': 28}. Best is trial 16 with value: 0.3879049338290833.\n",
      "[I 2025-04-23 23:54:12,945] Trial 22 finished with value: 0.37554390265973353 and parameters: {'lambda_l1': 4.32733537732486e-06, 'lambda_l2': 0.034015856661776936, 'num_leaves': 146, 'feature_fraction': 0.751595821919498, 'bagging_fraction': 0.9876569908428521, 'bagging_freq': 2, 'min_child_samples': 21}. Best is trial 16 with value: 0.3879049338290833.\n",
      "[I 2025-04-23 23:54:18,444] Trial 23 finished with value: 0.3770700354366955 and parameters: {'lambda_l1': 0.00013853788499866183, 'lambda_l2': 7.483376208530712, 'num_leaves': 122, 'feature_fraction': 0.47729646393478287, 'bagging_fraction': 0.8299546888998443, 'bagging_freq': 3, 'min_child_samples': 31}. Best is trial 16 with value: 0.3879049338290833.\n",
      "[I 2025-04-23 23:54:23,040] Trial 24 finished with value: 0.3791085730279855 and parameters: {'lambda_l1': 0.0058536211529796, 'lambda_l2': 0.09685907818680004, 'num_leaves': 80, 'feature_fraction': 0.8587360333532582, 'bagging_fraction': 0.9122527803082143, 'bagging_freq': 2, 'min_child_samples': 48}. Best is trial 16 with value: 0.3879049338290833.\n",
      "[I 2025-04-23 23:54:28,399] Trial 25 finished with value: 0.37223925206446934 and parameters: {'lambda_l1': 1.048572543084171e-07, 'lambda_l2': 1.2105651402765658, 'num_leaves': 209, 'feature_fraction': 0.6286792838884866, 'bagging_fraction': 0.6751992831597502, 'bagging_freq': 1, 'min_child_samples': 14}. Best is trial 16 with value: 0.3879049338290833.\n",
      "[I 2025-04-23 23:54:33,046] Trial 26 finished with value: 0.3690727370755318 and parameters: {'lambda_l1': 2.605204105797044e-06, 'lambda_l2': 0.006560498601929517, 'num_leaves': 106, 'feature_fraction': 0.7349940876748398, 'bagging_fraction': 0.8087719107419048, 'bagging_freq': 2, 'min_child_samples': 38}. Best is trial 16 with value: 0.3879049338290833.\n",
      "[I 2025-04-23 23:54:38,291] Trial 27 finished with value: 0.37396522550923006 and parameters: {'lambda_l1': 0.0007720722846239577, 'lambda_l2': 1.5910345828980337, 'num_leaves': 135, 'feature_fraction': 0.8196416848756323, 'bagging_fraction': 0.9338457779555521, 'bagging_freq': 3, 'min_child_samples': 22}. Best is trial 16 with value: 0.3879049338290833.\n",
      "[I 2025-04-23 23:54:43,442] Trial 28 finished with value: 0.3530222579971131 and parameters: {'lambda_l1': 7.554328722030726e-08, 'lambda_l2': 0.45684195833257135, 'num_leaves': 179, 'feature_fraction': 0.9129751640010344, 'bagging_fraction': 0.7248468807904297, 'bagging_freq': 5, 'min_child_samples': 13}. Best is trial 16 with value: 0.3879049338290833.\n",
      "[I 2025-04-23 23:54:47,012] Trial 29 finished with value: 0.3464915743369875 and parameters: {'lambda_l1': 1.0244766505061368e-08, 'lambda_l2': 0.004333041548626061, 'num_leaves': 5, 'feature_fraction': 0.634233505678354, 'bagging_fraction': 0.9743150114846288, 'bagging_freq': 3, 'min_child_samples': 79}. Best is trial 16 with value: 0.3879049338290833.\n",
      "[I 2025-04-23 23:54:50,626] Trial 30 finished with value: 0.38753965062590834 and parameters: {'lambda_l1': 0.1772095662014954, 'lambda_l2': 0.1125318306426232, 'num_leaves': 62, 'feature_fraction': 0.5247419663220214, 'bagging_fraction': 0.8825175467677843, 'bagging_freq': 1, 'min_child_samples': 5}. Best is trial 16 with value: 0.3879049338290833.\n",
      "[I 2025-04-23 23:54:55,567] Trial 31 finished with value: 0.38533372400019256 and parameters: {'lambda_l1': 0.5433256477261893, 'lambda_l2': 0.06520901064574315, 'num_leaves': 75, 'feature_fraction': 0.4294941656080299, 'bagging_fraction': 0.8790196269009717, 'bagging_freq': 1, 'min_child_samples': 6}. Best is trial 16 with value: 0.3879049338290833.\n",
      "[I 2025-04-23 23:55:00,336] Trial 32 finished with value: 0.38642135344667905 and parameters: {'lambda_l1': 0.5835259792655594, 'lambda_l2': 0.07326456719148738, 'num_leaves': 71, 'feature_fraction': 0.49468343098456097, 'bagging_fraction': 0.9521207440207474, 'bagging_freq': 1, 'min_child_samples': 5}. Best is trial 16 with value: 0.3879049338290833.\n",
      "[I 2025-04-23 23:55:04,874] Trial 33 finished with value: 0.38828628298415024 and parameters: {'lambda_l1': 1.5044301162218081, 'lambda_l2': 0.0005326275564546962, 'num_leaves': 62, 'feature_fraction': 0.4965011793998024, 'bagging_fraction': 0.9589639952463358, 'bagging_freq': 1, 'min_child_samples': 6}. Best is trial 33 with value: 0.38828628298415024.\n",
      "[I 2025-04-23 23:55:09,695] Trial 34 finished with value: 0.37607183431049007 and parameters: {'lambda_l1': 6.363454315401565, 'lambda_l2': 0.0003173908708225817, 'num_leaves': 64, 'feature_fraction': 0.5051938848428322, 'bagging_fraction': 0.9593465397471249, 'bagging_freq': 1, 'min_child_samples': 11}. Best is trial 33 with value: 0.38828628298415024.\n",
      "[I 2025-04-23 23:55:13,761] Trial 35 finished with value: 0.38197770181010665 and parameters: {'lambda_l1': 0.09064967310294625, 'lambda_l2': 0.00039029734970660374, 'num_leaves': 33, 'feature_fraction': 0.511103237119385, 'bagging_fraction': 0.9942631081642596, 'bagging_freq': 1, 'min_child_samples': 89}. Best is trial 33 with value: 0.38828628298415024.\n",
      "[I 2025-04-23 23:55:17,740] Trial 36 finished with value: 0.3795418389510389 and parameters: {'lambda_l1': 1.1055611980569573, 'lambda_l2': 0.00277282127791854, 'num_leaves': 61, 'feature_fraction': 0.46377711765133756, 'bagging_fraction': 0.9421286116276114, 'bagging_freq': 1, 'min_child_samples': 10}. Best is trial 33 with value: 0.38828628298415024.\n",
      "[I 2025-04-23 23:55:21,333] Trial 37 finished with value: 0.3788523696164985 and parameters: {'lambda_l1': 0.030828396019224002, 'lambda_l2': 0.0007620759765512204, 'num_leaves': 39, 'feature_fraction': 0.5354123712476524, 'bagging_fraction': 0.9090819022224037, 'bagging_freq': 7, 'min_child_samples': 5}. Best is trial 33 with value: 0.38828628298415024.\n",
      "[I 2025-04-23 23:55:26,320] Trial 38 finished with value: 0.3808330687583091 and parameters: {'lambda_l1': 2.2180317283694997, 'lambda_l2': 1.0199287185300133e-05, 'num_leaves': 52, 'feature_fraction': 0.44986988863840455, 'bagging_fraction': 0.7791581706807025, 'bagging_freq': 1, 'min_child_samples': 16}. Best is trial 33 with value: 0.38828628298415024.\n",
      "[I 2025-04-23 23:55:29,855] Trial 39 finished with value: 0.3516628771832921 and parameters: {'lambda_l1': 0.16527671817072453, 'lambda_l2': 6.330965851982592e-05, 'num_leaves': 6, 'feature_fraction': 0.5893521824426599, 'bagging_fraction': 0.9544265455313181, 'bagging_freq': 1, 'min_child_samples': 10}. Best is trial 33 with value: 0.38828628298415024.\n",
      "[I 2025-04-23 23:55:34,677] Trial 40 finished with value: 0.38890160260040507 and parameters: {'lambda_l1': 0.008474128705145774, 'lambda_l2': 0.013473533574593154, 'num_leaves': 94, 'feature_fraction': 0.539174913417785, 'bagging_fraction': 0.9655835911975477, 'bagging_freq': 4, 'min_child_samples': 16}. Best is trial 40 with value: 0.38890160260040507.\n",
      "[I 2025-04-23 23:55:39,499] Trial 41 finished with value: 0.38854124905770054 and parameters: {'lambda_l1': 0.003060045900532021, 'lambda_l2': 0.0106183519787144, 'num_leaves': 96, 'feature_fraction': 0.5258266135361258, 'bagging_fraction': 0.9979293072131136, 'bagging_freq': 1, 'min_child_samples': 16}. Best is trial 40 with value: 0.38890160260040507.\n",
      "[I 2025-04-23 23:55:44,052] Trial 42 finished with value: 0.38528856110024023 and parameters: {'lambda_l1': 0.0036965605979045594, 'lambda_l2': 0.010374217836959571, 'num_leaves': 90, 'feature_fraction': 0.5440598188653547, 'bagging_fraction': 0.9984556122556508, 'bagging_freq': 4, 'min_child_samples': 17}. Best is trial 40 with value: 0.38890160260040507.\n",
      "[I 2025-04-23 23:55:48,120] Trial 43 finished with value: 0.3656551678028469 and parameters: {'lambda_l1': 0.04506073447779804, 'lambda_l2': 0.0018051627451482176, 'num_leaves': 100, 'feature_fraction': 0.5898928990780958, 'bagging_fraction': 0.5404251281998869, 'bagging_freq': 6, 'min_child_samples': 29}. Best is trial 40 with value: 0.38890160260040507.\n",
      "[I 2025-04-23 23:55:52,728] Trial 44 finished with value: 0.3835503314830591 and parameters: {'lambda_l1': 0.010691373633527653, 'lambda_l2': 0.02011802981156501, 'num_leaves': 53, 'feature_fraction': 0.5332407799536306, 'bagging_fraction': 0.9679520398494332, 'bagging_freq': 6, 'min_child_samples': 9}. Best is trial 40 with value: 0.38890160260040507.\n",
      "[I 2025-04-23 23:55:57,051] Trial 45 finished with value: 0.37489164288413934 and parameters: {'lambda_l1': 0.0024012097836648787, 'lambda_l2': 0.0001602977219096704, 'num_leaves': 124, 'feature_fraction': 0.5694863286323458, 'bagging_fraction': 0.9022305052256947, 'bagging_freq': 1, 'min_child_samples': 100}. Best is trial 40 with value: 0.38890160260040507.\n",
      "[I 2025-04-23 23:56:02,004] Trial 46 finished with value: 0.37588882435299675 and parameters: {'lambda_l1': 0.00015704364194139888, 'lambda_l2': 0.0009259940118476021, 'num_leaves': 150, 'feature_fraction': 0.4075773945658409, 'bagging_fraction': 0.929162966795178, 'bagging_freq': 4, 'min_child_samples': 25}. Best is trial 40 with value: 0.38890160260040507.\n",
      "[I 2025-04-23 23:56:05,620] Trial 47 finished with value: 0.3779837931941782 and parameters: {'lambda_l1': 0.015045242587727405, 'lambda_l2': 0.1496032401184448, 'num_leaves': 38, 'feature_fraction': 0.5172657530382558, 'bagging_fraction': 0.9727005911420475, 'bagging_freq': 2, 'min_child_samples': 33}. Best is trial 40 with value: 0.38890160260040507.\n",
      "[I 2025-04-23 23:56:10,091] Trial 48 finished with value: 0.379515012130167 and parameters: {'lambda_l1': 0.19012166347619702, 'lambda_l2': 1.3845984494926707e-05, 'num_leaves': 96, 'feature_fraction': 0.6198696501308927, 'bagging_fraction': 0.8881756787676807, 'bagging_freq': 1, 'min_child_samples': 62}. Best is trial 40 with value: 0.38890160260040507.\n",
      "[I 2025-04-23 23:56:14,790] Trial 49 finished with value: 0.38155720292224055 and parameters: {'lambda_l1': 0.04053307452642733, 'lambda_l2': 0.035675784082377406, 'num_leaves': 112, 'feature_fraction': 0.48684019958906166, 'bagging_fraction': 0.8456914479579589, 'bagging_freq': 2, 'min_child_samples': 18}. Best is trial 40 with value: 0.38890160260040507.\n",
      "[I 2025-04-23 23:56:17,698] Trial 50 finished with value: 0.3639954271017531 and parameters: {'lambda_l1': 0.00158457937399465, 'lambda_l2': 0.3258052211269012, 'num_leaves': 20, 'feature_fraction': 0.6954416680206496, 'bagging_fraction': 0.41362563453982354, 'bagging_freq': 5, 'min_child_samples': 24}. Best is trial 40 with value: 0.38890160260040507.\n",
      "[I 2025-04-23 23:56:22,817] Trial 51 finished with value: 0.38851381349212566 and parameters: {'lambda_l1': 2.331621140075328, 'lambda_l2': 0.0690494257437038, 'num_leaves': 72, 'feature_fraction': 0.4906600463079873, 'bagging_fraction': 0.9454565079505809, 'bagging_freq': 1, 'min_child_samples': 6}. Best is trial 40 with value: 0.38890160260040507.\n",
      "[I 2025-04-23 23:56:27,904] Trial 52 finished with value: 0.38577307537566946 and parameters: {'lambda_l1': 2.543773626714476, 'lambda_l2': 0.006544512869112128, 'num_leaves': 65, 'feature_fraction': 0.45174160531335916, 'bagging_fraction': 0.9401162315001891, 'bagging_freq': 1, 'min_child_samples': 13}. Best is trial 40 with value: 0.38890160260040507.\n",
      "[I 2025-04-23 23:56:33,321] Trial 53 finished with value: 0.38106943966861767 and parameters: {'lambda_l1': 2.5630578868806886, 'lambda_l2': 0.013599809433359564, 'num_leaves': 87, 'feature_fraction': 0.5563695417856795, 'bagging_fraction': 0.973770047349559, 'bagging_freq': 1, 'min_child_samples': 9}. Best is trial 40 with value: 0.38890160260040507.\n",
      "[I 2025-04-23 23:56:37,768] Trial 54 finished with value: 0.385000248175388 and parameters: {'lambda_l1': 0.00027521865257128686, 'lambda_l2': 0.0421775389236647, 'num_leaves': 56, 'feature_fraction': 0.431462898092675, 'bagging_fraction': 0.998573504339105, 'bagging_freq': 2, 'min_child_samples': 16}. Best is trial 40 with value: 0.38890160260040507.\n",
      "[I 2025-04-23 23:56:42,493] Trial 55 finished with value: 0.367932430640739 and parameters: {'lambda_l1': 9.18288882869522, 'lambda_l2': 0.5907081845142004, 'num_leaves': 72, 'feature_fraction': 0.5674691891214301, 'bagging_fraction': 0.9277913493902266, 'bagging_freq': 4, 'min_child_samples': 8}. Best is trial 40 with value: 0.38890160260040507.\n",
      "[I 2025-04-23 23:56:46,524] Trial 56 finished with value: 0.3800560947002761 and parameters: {'lambda_l1': 0.29493049074920075, 'lambda_l2': 0.1667102536739297, 'num_leaves': 44, 'feature_fraction': 0.6014100914396181, 'bagging_fraction': 0.8933458718387087, 'bagging_freq': 1, 'min_child_samples': 19}. Best is trial 40 with value: 0.38890160260040507.\n",
      "[I 2025-04-23 23:56:50,680] Trial 57 finished with value: 0.36821614426656774 and parameters: {'lambda_l1': 0.006839503586830498, 'lambda_l2': 0.002426815696540148, 'num_leaves': 102, 'feature_fraction': 0.9996774233013334, 'bagging_fraction': 0.859757188808269, 'bagging_freq': 2, 'min_child_samples': 14}. Best is trial 40 with value: 0.38890160260040507.\n",
      "[I 2025-04-23 23:56:55,556] Trial 58 finished with value: 0.3772885994314291 and parameters: {'lambda_l1': 1.0995270756800548, 'lambda_l2': 0.09097931652477755, 'num_leaves': 77, 'feature_fraction': 0.4751186725727692, 'bagging_fraction': 0.6171340998337308, 'bagging_freq': 6, 'min_child_samples': 45}. Best is trial 40 with value: 0.38890160260040507.\n",
      "[I 2025-04-23 23:57:01,272] Trial 59 finished with value: 0.38682453254913535 and parameters: {'lambda_l1': 0.000496686818939147, 'lambda_l2': 2.4951074290088546, 'num_leaves': 115, 'feature_fraction': 0.5257840244638168, 'bagging_fraction': 0.9758744748851667, 'bagging_freq': 1, 'min_child_samples': 5}. Best is trial 40 with value: 0.38890160260040507.\n",
      "[I 2025-04-23 23:57:07,575] Trial 60 finished with value: 0.380810222834813 and parameters: {'lambda_l1': 0.05465606833839268, 'lambda_l2': 6.656933180590205e-07, 'num_leaves': 232, 'feature_fraction': 0.6659448688543372, 'bagging_fraction': 0.9164176665857243, 'bagging_freq': 3, 'min_child_samples': 12}. Best is trial 40 with value: 0.38890160260040507.\n",
      "[I 2025-04-23 23:57:13,216] Trial 61 finished with value: 0.38120166909887376 and parameters: {'lambda_l1': 2.980216762218293e-05, 'lambda_l2': 2.913167991773238, 'num_leaves': 132, 'feature_fraction': 0.5267790440656803, 'bagging_fraction': 0.9554279514882371, 'bagging_freq': 1, 'min_child_samples': 5}. Best is trial 40 with value: 0.38890160260040507.\n",
      "[I 2025-04-23 23:57:18,170] Trial 62 finished with value: 0.39336579402912664 and parameters: {'lambda_l1': 0.0006579025735210665, 'lambda_l2': 1.026134022950933, 'num_leaves': 112, 'feature_fraction': 0.50575184294429, 'bagging_fraction': 0.9809472827377562, 'bagging_freq': 1, 'min_child_samples': 9}. Best is trial 62 with value: 0.39336579402912664.\n",
      "[I 2025-04-23 23:57:22,408] Trial 63 finished with value: 0.38417204745423156 and parameters: {'lambda_l1': 9.073277236502644e-05, 'lambda_l2': 0.30404106340296455, 'num_leaves': 93, 'feature_fraction': 0.5052441807315208, 'bagging_fraction': 0.9803781948377069, 'bagging_freq': 2, 'min_child_samples': 22}. Best is trial 62 with value: 0.39336579402912664.\n",
      "[I 2025-04-23 23:57:28,614] Trial 64 finished with value: 0.3844504079190287 and parameters: {'lambda_l1': 0.0013816165481813035, 'lambda_l2': 1.0633759635648834, 'num_leaves': 145, 'feature_fraction': 0.4307392305465708, 'bagging_fraction': 0.9408653013878483, 'bagging_freq': 1, 'min_child_samples': 8}. Best is trial 62 with value: 0.39336579402912664.\n",
      "[I 2025-04-23 23:57:32,913] Trial 65 finished with value: 0.3825473853807957 and parameters: {'lambda_l1': 0.00029506800626403356, 'lambda_l2': 0.6421927252539829, 'num_leaves': 83, 'feature_fraction': 0.7420044530365948, 'bagging_fraction': 0.9995524361227996, 'bagging_freq': 2, 'min_child_samples': 19}. Best is trial 62 with value: 0.39336579402912664.\n",
      "[I 2025-04-23 23:57:38,106] Trial 66 finished with value: 0.38815425000762416 and parameters: {'lambda_l1': 0.0034523726924968415, 'lambda_l2': 0.0175050783817393, 'num_leaves': 163, 'feature_fraction': 0.554218536963449, 'bagging_fraction': 0.9527038593653447, 'bagging_freq': 1, 'min_child_samples': 14}. Best is trial 62 with value: 0.39336579402912664.\n",
      "[I 2025-04-23 23:57:43,203] Trial 67 finished with value: 0.37471005389384227 and parameters: {'lambda_l1': 0.003124941911468486, 'lambda_l2': 0.01887719858968204, 'num_leaves': 170, 'feature_fraction': 0.7704870484093881, 'bagging_fraction': 0.9595614386702435, 'bagging_freq': 1, 'min_child_samples': 25}. Best is trial 62 with value: 0.39336579402912664.\n",
      "[I 2025-04-23 23:57:47,803] Trial 68 finished with value: 0.39288807974647194 and parameters: {'lambda_l1': 0.023158003527946534, 'lambda_l2': 0.00426963591517355, 'num_leaves': 157, 'feature_fraction': 0.7188289607015206, 'bagging_fraction': 0.9245131140089395, 'bagging_freq': 2, 'min_child_samples': 14}. Best is trial 62 with value: 0.39336579402912664.\n",
      "[I 2025-04-23 23:57:52,787] Trial 69 finished with value: 0.3826218467459508 and parameters: {'lambda_l1': 0.008604761622351305, 'lambda_l2': 0.004661706291391954, 'num_leaves': 127, 'feature_fraction': 0.7122424563517094, 'bagging_fraction': 0.9197868352326715, 'bagging_freq': 2, 'min_child_samples': 12}. Best is trial 62 with value: 0.39336579402912664.\n",
      "[I 2025-04-23 23:57:57,477] Trial 70 finished with value: 0.3781275548914473 and parameters: {'lambda_l1': 0.017983856886259104, 'lambda_l2': 0.00017151639284638455, 'num_leaves': 185, 'feature_fraction': 0.6105104948132807, 'bagging_fraction': 0.9410052060053699, 'bagging_freq': 1, 'min_child_samples': 72}. Best is trial 62 with value: 0.39336579402912664.\n",
      "[I 2025-04-23 23:58:02,921] Trial 71 finished with value: 0.387576381200401 and parameters: {'lambda_l1': 0.0007254972578774435, 'lambda_l2': 0.010504944900661685, 'num_leaves': 158, 'feature_fraction': 0.4866450436254287, 'bagging_fraction': 0.9775406123345666, 'bagging_freq': 3, 'min_child_samples': 15}. Best is trial 62 with value: 0.39336579402912664.\n",
      "[I 2025-04-23 23:58:07,454] Trial 72 finished with value: 0.37356580803504985 and parameters: {'lambda_l1': 0.0034419277409608964, 'lambda_l2': 0.001481953172804685, 'num_leaves': 171, 'feature_fraction': 0.550894165536794, 'bagging_fraction': 0.4820436832989029, 'bagging_freq': 2, 'min_child_samples': 20}. Best is trial 62 with value: 0.39336579402912664.\n",
      "[I 2025-04-23 23:58:12,476] Trial 73 finished with value: 0.3851262335260849 and parameters: {'lambda_l1': 0.0012030250455321474, 'lambda_l2': 0.003778866668702674, 'num_leaves': 155, 'feature_fraction': 0.7208815039264564, 'bagging_fraction': 0.958083678919372, 'bagging_freq': 1, 'min_child_samples': 11}. Best is trial 62 with value: 0.39336579402912664.\n",
      "[I 2025-04-23 23:58:17,650] Trial 74 finished with value: 0.37600506281168355 and parameters: {'lambda_l1': 0.024729319452879508, 'lambda_l2': 0.0006079726404564534, 'num_leaves': 196, 'feature_fraction': 0.825825763556676, 'bagging_fraction': 0.9813466259181925, 'bagging_freq': 1, 'min_child_samples': 16}. Best is trial 62 with value: 0.39336579402912664.\n",
      "[I 2025-04-23 23:58:22,388] Trial 75 finished with value: 0.3766980054915088 and parameters: {'lambda_l1': 0.00041921511922018756, 'lambda_l2': 0.05085470716580254, 'num_leaves': 139, 'feature_fraction': 0.6764997449903998, 'bagging_fraction': 0.8974185948483426, 'bagging_freq': 2, 'min_child_samples': 8}. Best is trial 62 with value: 0.39336579402912664.\n",
      "[I 2025-04-23 23:58:27,518] Trial 76 finished with value: 0.37156595360405076 and parameters: {'lambda_l1': 0.004981945874516555, 'lambda_l2': 0.02384446681511272, 'num_leaves': 164, 'feature_fraction': 0.8761616198845111, 'bagging_fraction': 0.921769712796815, 'bagging_freq': 3, 'min_child_samples': 30}. Best is trial 62 with value: 0.39336579402912664.\n",
      "[I 2025-04-23 23:58:32,080] Trial 77 finished with value: 0.37435445765552244 and parameters: {'lambda_l1': 0.002122456766275973, 'lambda_l2': 0.008604966062688466, 'num_leaves': 121, 'feature_fraction': 0.46218429947350287, 'bagging_fraction': 0.7177126253758379, 'bagging_freq': 1, 'min_child_samples': 27}. Best is trial 62 with value: 0.39336579402912664.\n",
      "[I 2025-04-23 23:58:37,613] Trial 78 finished with value: 0.3869835974587188 and parameters: {'lambda_l1': 0.012073907851243805, 'lambda_l2': 0.2360314522865619, 'num_leaves': 182, 'feature_fraction': 0.6479556871788092, 'bagging_fraction': 0.9493233690391358, 'bagging_freq': 1, 'min_child_samples': 23}. Best is trial 62 with value: 0.39336579402912664.\n",
      "[I 2025-04-23 23:58:43,451] Trial 79 finished with value: 0.3875306452555296 and parameters: {'lambda_l1': 0.07772747012245322, 'lambda_l2': 4.633976189019177, 'num_leaves': 103, 'feature_fraction': 0.5775360009827036, 'bagging_fraction': 0.9870669260446626, 'bagging_freq': 1, 'min_child_samples': 39}. Best is trial 62 with value: 0.39336579402912664.\n",
      "[I 2025-04-23 23:58:48,396] Trial 80 finished with value: 0.38601218224741285 and parameters: {'lambda_l1': 1.2698038247025658, 'lambda_l2': 0.026299801098376627, 'num_leaves': 108, 'feature_fraction': 0.7822600339024383, 'bagging_fraction': 0.868717575293912, 'bagging_freq': 2, 'min_child_samples': 15}. Best is trial 62 with value: 0.39336579402912664.\n",
      "[I 2025-04-23 23:58:53,484] Trial 81 finished with value: 0.38619462375288655 and parameters: {'lambda_l1': 0.0007843446268380404, 'lambda_l2': 0.007678025691489054, 'num_leaves': 156, 'feature_fraction': 0.4952453077776254, 'bagging_fraction': 0.9828114259900206, 'bagging_freq': 3, 'min_child_samples': 14}. Best is trial 62 with value: 0.39336579402912664.\n",
      "[I 2025-04-23 23:58:59,217] Trial 82 finished with value: 0.38313517683877835 and parameters: {'lambda_l1': 0.00016535593497298172, 'lambda_l2': 0.012529166781704406, 'num_leaves': 163, 'feature_fraction': 0.4764324769689703, 'bagging_fraction': 0.9655633467256682, 'bagging_freq': 4, 'min_child_samples': 10}. Best is trial 62 with value: 0.39336579402912664.\n",
      "[I 2025-04-23 23:59:04,463] Trial 83 finished with value: 0.38035738941866415 and parameters: {'lambda_l1': 0.0008708262001190727, 'lambda_l2': 0.0014974000169949743, 'num_leaves': 177, 'feature_fraction': 0.5433930559061192, 'bagging_fraction': 0.9363632750589844, 'bagging_freq': 3, 'min_child_samples': 17}. Best is trial 62 with value: 0.39336579402912664.\n",
      "[I 2025-04-23 23:59:09,768] Trial 84 finished with value: 0.38960122915685336 and parameters: {'lambda_l1': 3.8415563868736185e-05, 'lambda_l2': 0.002932384714890736, 'num_leaves': 209, 'feature_fraction': 0.5092099114237446, 'bagging_fraction': 0.9694452512140899, 'bagging_freq': 3, 'min_child_samples': 7}. Best is trial 62 with value: 0.39336579402912664.\n",
      "[I 2025-04-23 23:59:15,280] Trial 85 finished with value: 0.3767306764060364 and parameters: {'lambda_l1': 4.359183448713603e-05, 'lambda_l2': 0.0031812403691927125, 'num_leaves': 213, 'feature_fraction': 0.5004072258534428, 'bagging_fraction': 0.9080713245729103, 'bagging_freq': 4, 'min_child_samples': 8}. Best is trial 62 with value: 0.39336579402912664.\n",
      "[I 2025-04-23 23:59:21,076] Trial 86 finished with value: 0.38383426862632386 and parameters: {'lambda_l1': 7.083954062419705e-06, 'lambda_l2': 0.00010919597415446106, 'num_leaves': 233, 'feature_fraction': 0.5583316650900716, 'bagging_fraction': 0.9645699207064755, 'bagging_freq': 3, 'min_child_samples': 12}. Best is trial 62 with value: 0.39336579402912664.\n",
      "[I 2025-04-23 23:59:25,962] Trial 87 finished with value: 0.36584268743273973 and parameters: {'lambda_l1': 1.6103714242123593e-05, 'lambda_l2': 0.0003855536514077107, 'num_leaves': 221, 'feature_fraction': 0.5138185130417279, 'bagging_fraction': 0.8007805559200389, 'bagging_freq': 1, 'min_child_samples': 20}. Best is trial 62 with value: 0.39336579402912664.\n",
      "[I 2025-04-23 23:59:30,342] Trial 88 finished with value: 0.3897037602672395 and parameters: {'lambda_l1': 0.0019493115557964516, 'lambda_l2': 3.315878962330272e-05, 'num_leaves': 96, 'feature_fraction': 0.45186534497047093, 'bagging_fraction': 0.9503218378499154, 'bagging_freq': 2, 'min_child_samples': 7}. Best is trial 62 with value: 0.39336579402912664.\n",
      "[I 2025-04-23 23:59:35,682] Trial 89 finished with value: 0.3781126894248243 and parameters: {'lambda_l1': 4.523283602792897, 'lambda_l2': 2.133256186471938e-05, 'num_leaves': 89, 'feature_fraction': 0.4452565851135302, 'bagging_fraction': 0.9301178328785045, 'bagging_freq': 2, 'min_child_samples': 7}. Best is trial 62 with value: 0.39336579402912664.\n",
      "[I 2025-04-23 23:59:40,722] Trial 90 finished with value: 0.3864136642157972 and parameters: {'lambda_l1': 0.29315367938823145, 'lambda_l2': 3.278049620809779e-05, 'num_leaves': 109, 'feature_fraction': 0.4163088217078177, 'bagging_fraction': 0.9489508133409461, 'bagging_freq': 5, 'min_child_samples': 7}. Best is trial 62 with value: 0.39336579402912664.\n",
      "[I 2025-04-23 23:59:45,120] Trial 91 finished with value: 0.37773413793432953 and parameters: {'lambda_l1': 0.001962236639676603, 'lambda_l2': 0.0006187434157375519, 'num_leaves': 95, 'feature_fraction': 0.4609375214635134, 'bagging_fraction': 0.997004751440182, 'bagging_freq': 2, 'min_child_samples': 10}. Best is trial 62 with value: 0.39336579402912664.\n",
      "[I 2025-04-23 23:59:49,946] Trial 92 finished with value: 0.3860585745170726 and parameters: {'lambda_l1': 1.0349983700165227e-06, 'lambda_l2': 3.842087822684169e-06, 'num_leaves': 80, 'feature_fraction': 0.4788621970760556, 'bagging_fraction': 0.9866678803779038, 'bagging_freq': 2, 'min_child_samples': 12}. Best is trial 62 with value: 0.39336579402912664.\n",
      "[I 2025-04-23 23:59:54,614] Trial 93 finished with value: 0.37558051541673465 and parameters: {'lambda_l1': 0.006451420082380632, 'lambda_l2': 0.06616790387645904, 'num_leaves': 253, 'feature_fraction': 0.8069105943197141, 'bagging_fraction': 0.966458090860281, 'bagging_freq': 1, 'min_child_samples': 56}. Best is trial 62 with value: 0.39336579402912664.\n",
      "[I 2025-04-24 00:00:00,064] Trial 94 finished with value: 0.373864329574941 and parameters: {'lambda_l1': 9.890458549585038e-05, 'lambda_l2': 0.0010679468205258083, 'num_leaves': 244, 'feature_fraction': 0.5376339125179015, 'bagging_fraction': 0.9463543257396463, 'bagging_freq': 1, 'min_child_samples': 17}. Best is trial 62 with value: 0.39336579402912664.\n",
      "[I 2025-04-24 00:00:06,894] Trial 95 finished with value: 0.39204635308268226 and parameters: {'lambda_l1': 0.0002457322120988838, 'lambda_l2': 0.005650697805611586, 'num_leaves': 118, 'feature_fraction': 0.5180898245051557, 'bagging_fraction': 0.9090848790052068, 'bagging_freq': 2, 'min_child_samples': 7}. Best is trial 62 with value: 0.39336579402912664.\n",
      "[I 2025-04-24 00:00:13,232] Trial 96 finished with value: 0.391352188561386 and parameters: {'lambda_l1': 0.00022576729112568756, 'lambda_l2': 0.005311744661250107, 'num_leaves': 115, 'feature_fraction': 0.517143355782257, 'bagging_fraction': 0.8803663147430669, 'bagging_freq': 3, 'min_child_samples': 6}. Best is trial 62 with value: 0.39336579402912664.\n",
      "[I 2025-04-24 00:00:18,217] Trial 97 finished with value: 0.3903899562013957 and parameters: {'lambda_l1': 0.0001691711530526726, 'lambda_l2': 0.005132640950207804, 'num_leaves': 115, 'feature_fraction': 0.5169149013667859, 'bagging_fraction': 0.9103293739521401, 'bagging_freq': 4, 'min_child_samples': 6}. Best is trial 62 with value: 0.39336579402912664.\n",
      "[I 2025-04-24 00:00:23,443] Trial 98 finished with value: 0.39272570157691467 and parameters: {'lambda_l1': 0.0002606874460125672, 'lambda_l2': 0.00542114410344738, 'num_leaves': 117, 'feature_fraction': 0.517404122238724, 'bagging_fraction': 0.8839313708553314, 'bagging_freq': 4, 'min_child_samples': 5}. Best is trial 62 with value: 0.39336579402912664.\n",
      "[I 2025-04-24 00:00:27,729] Trial 99 finished with value: 0.38519075510898093 and parameters: {'lambda_l1': 0.0002113750753149334, 'lambda_l2': 0.002250373600590863, 'num_leaves': 117, 'feature_fraction': 0.5203727655951343, 'bagging_fraction': 0.8399142327729409, 'bagging_freq': 4, 'min_child_samples': 9}. Best is trial 62 with value: 0.39336579402912664.\n"
     ]
    }
   ],
   "source": [
    "import optuna\n",
    "\n",
    "#Genero estudio\n",
    "study = optuna.create_study(direction='maximize',\n",
    "                            storage=\"sqlite:///../work/db.sqlite3\",\n",
    "                            study_name=\"04 - LGB Multiclass CV\",\n",
    "                            load_if_exists = True)\n",
    "\n",
    "#Corro la optimizacion\n",
    "study.optimize(cv_es_lgb_objective, n_trials=100)"
   ]
  }
 ],
 "metadata": {
  "kernelspec": {
   "display_name": "ldi2",
   "language": "python",
   "name": "python3"
  },
  "language_info": {
   "codemirror_mode": {
    "name": "ipython",
    "version": 3
   },
   "file_extension": ".py",
   "mimetype": "text/x-python",
   "name": "python",
   "nbconvert_exporter": "python",
   "pygments_lexer": "ipython3",
   "version": "3.13.2"
  }
 },
 "nbformat": 4,
 "nbformat_minor": 5
}
