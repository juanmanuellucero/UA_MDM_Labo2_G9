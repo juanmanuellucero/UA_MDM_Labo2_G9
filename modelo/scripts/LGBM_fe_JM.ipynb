{
 "cells": [
  {
   "cell_type": "markdown",
   "id": "c5c37b40",
   "metadata": {},
   "source": [
    "## Configuracion de Entorno"
   ]
  },
  {
   "cell_type": "code",
   "execution_count": 3,
   "id": "8e3edd9b",
   "metadata": {},
   "outputs": [
    {
     "name": "stdout",
     "output_type": "stream",
     "text": [
      "Directorio actual: C:\\Users\\juanm\\GitHub\\UA_MDM_Labo2_G9\\work\n"
     ]
    }
   ],
   "source": [
    "import os\n",
    "\n",
    "# Si estás en Jupyter Notebook, anclás a una ruta conocida o fija:\n",
    "project_root = r\"C:\\Users\\juanm\\GitHub\\UA_MDM_Labo2_G9\"  # ⚠️ Personalizá esto\n",
    "\n",
    "# Alternativa: usar una carpeta conocida dentro del proyecto\n",
    "# project_root = os.path.abspath(os.path.join(os.getcwd(), \"..\"))  # Menos frágil\n",
    "\n",
    "# Rutas de trabajo\n",
    "workDir = os.path.join(project_root, \"work\")\n",
    "optunaArtifactDir = os.path.join(workDir, \"optuna_artifacts\")\n",
    "optunaTempDir = os.path.join(workDir, \"optuna_temp_artifacts\")\n",
    "\n",
    "# Crear carpetas si no existen\n",
    "os.makedirs(optunaArtifactDir, exist_ok=True)\n",
    "os.makedirs(optunaTempDir, exist_ok=True)\n",
    "\n",
    "# Cambiar al directorio de trabajo solo si es necesario\n",
    "if os.getcwd() != workDir:\n",
    "    os.chdir(workDir)\n",
    "\n",
    "print(\"Directorio actual:\", os.getcwd())\n"
   ]
  },
  {
   "cell_type": "code",
   "execution_count": 4,
   "id": "77c29884",
   "metadata": {},
   "outputs": [
    {
     "name": "stderr",
     "output_type": "stream",
     "text": [
      "c:\\Users\\juanm\\anaconda3\\envs\\ldi2\\Lib\\site-packages\\tqdm\\auto.py:21: TqdmWarning: IProgress not found. Please update jupyter and ipywidgets. See https://ipywidgets.readthedocs.io/en/stable/user_install.html\n",
      "  from .autonotebook import tqdm as notebook_tqdm\n"
     ]
    }
   ],
   "source": [
    "# Manipulación de datos\n",
    "import numpy as np\n",
    "import pandas as pd\n",
    "\n",
    "# Modelado: Gradient Boosting\n",
    "import lightgbm as lgb\n",
    "\n",
    "# Sklearn: splits, métricas y utilidades\n",
    "from sklearn.model_selection import train_test_split, StratifiedKFold\n",
    "from sklearn.metrics import cohen_kappa_score, accuracy_score, balanced_accuracy_score\n",
    "from sklearn.utils import shuffle\n",
    "\n",
    "# Visualización\n",
    "import matplotlib.pyplot as plt  # Usar junto con seaborn o plotly si es necesario\n",
    "import plotly.express as px      # Corrección: no usar `from plotly import express as px`\n",
    "\n",
    "# Optuna para optimización de hiperparámetros\n",
    "import optuna\n",
    "from optuna.artifacts import FileSystemArtifactStore, upload_artifact\n",
    "\n",
    "# Utilidades propias\n",
    "from utiles import plot_confusion_matrix\n",
    "\n",
    "# Guardado de objetos\n",
    "from joblib import dump, load\n",
    "\n",
    "# Sistema\n",
    "import os"
   ]
  },
  {
   "cell_type": "code",
   "execution_count": 5,
   "id": "1b908605",
   "metadata": {},
   "outputs": [],
   "source": [
    "import os\n",
    "\n",
    "# Paths para acceso archivos\n",
    "#Este notebook asume la siguiente estructura de carpetas a partir de la ubicacion de base_dir \n",
    "#(dos niveles arriba de la cƒarpeta donde se ejecuta el notebook). \n",
    "# /ƒ/ƒ\n",
    "# /UA_MDM_Labo2/inputƒ\n",
    "# /UA_MDM_Labo2/input/petfinder-adoption-prediction/            <- Aca deben ir todos los archivos de datos de la competencia \n",
    "# /UA_MDM_Labo2/tutoriales/                       <- Aca deben poner los notebooks y scripts que les compartimos\n",
    "# /UA_MDM_Labo2/work/                             <- Resultados de notebooks iran dentro de esta carpeta en subcarpetas\n",
    "# /UA_MDM_Labo2/work/models/                     <- Modelos entrenados en archivos joblibs\n",
    "# /UA_MDM_Labo2/work/optuna_temp_artifacts/      <- Archivos que queremos dejar como artefacto de un trial de optuna (optuna los copiara a la carpeta de abajo)\n",
    "# /UA_MDM_Labo2/work/optuna_artifacts/           <- Archivos con artefactos que sibimos a optuna\n",
    "\n",
    "#Subimos dos niveles para quedar en la carpeta que contiene input y UA_MDM_Labo2\n",
    "BASE_DIR = '../'\n",
    "\n",
    "#Datos de entrenamiento \n",
    "PATH_TO_TRAIN = os.path.join(BASE_DIR, \"input/petfinder-adoption-prediction/train/train.csv\")\n",
    "\n",
    "#Datos de razas \n",
    "PATH_TO_BREED_LABELS = os.path.join(BASE_DIR, \"modelo/data/petfinder-adoption-prediction/BreedLabels.csv\")\n",
    "\n",
    "#Salida de modelos entrenados\n",
    "PATH_TO_MODELS = os.path.join(BASE_DIR, \"work/models\")\n",
    "\n",
    "#Artefactos a subir a optuna\n",
    "PATH_TO_TEMP_FILES = os.path.join(BASE_DIR, \"work/optuna_temp_artifacts\")\n",
    "\n",
    "#Artefactos que optuna gestiona\n",
    "PATH_TO_OPTUNA_ARTIFACTS = os.path.join(BASE_DIR, \"work/optuna_artifacts\")\n",
    "\n",
    "\n",
    "SEED = 42 #Semilla de procesos aleatorios (para poder replicar exactamente al volver a correr un modelo)\n",
    "TEST_SIZE = 0.2 #Facción para train/test= split"
   ]
  },
  {
   "cell_type": "markdown",
   "id": "dcfe00fc",
   "metadata": {},
   "source": [
    "## Descripcion Feature Engineering"
   ]
  },
  {
   "cell_type": "markdown",
   "id": "315f0781",
   "metadata": {},
   "source": [
    "### 🔹 1. **Transformaciones directas útiles**\n",
    "Variables que ya estaban en los datos, pero necesitaban reformularse para ser más informativas o manejables.\n",
    "\n",
    "| Variable            | Qué hace                                                   | Por qué ayuda                                                  |\n",
    "|---------------------|------------------------------------------------------------|----------------------------------------------------------------|\n",
    "| `HasName`           | Indica si el animal tiene nombre                           | Un animal con nombre puede verse más cercano o adoptable       |\n",
    "| `HasPhoto`          | Indica si tiene al menos una foto                          | Las fotos mejoran visibilidad y atracción                      |\n",
    "| `HasVideo`          | Indica si tiene video cargado                              | Videos pueden generar más confianza y detalle visual          |\n",
    "| `HasDescription`    | Indica si hay texto descriptivo                            | Sin descripción puede percibirse como menos confiable          |\n",
    "| `MixBreed`          | Indica si es de raza mixta (`Breed2 ≠ 0` o nombre con \"Mixed\") | Permite modelar mejor preferencias por raza                   |\n",
    "| `TotalColors`       | Cuántos colores distintos tiene el animal                  | La apariencia puede influir en la percepción de adoptabilidad |\n",
    "| `Fee_log`           | Logaritmo del precio de adopción                           | Reduce el efecto de precios extremos y mejora estabilidad     |\n",
    "| `DescLength`        | Longitud de la descripción textual                         | Textos más largos pueden captar mejor el interés              |\n",
    "| `IsFree`            | Indica si el animal es gratuito (`Fee == 0`)               | La gratuidad puede aumentar la probabilidad de adopción       |\n",
    "\n",
    "**Objetivo**: facilitar al modelo patrones más suaves y reducir distorsiones extremas.\n",
    "\n",
    "---\n",
    "\n",
    "### 🔹 2. **Reagrupaciones o codificaciones útiles**\n",
    "Transforman variables categóricas o numéricas en agrupaciones más interpretables o modelables.\n",
    "\n",
    "| Variable             | Qué hace                                                        | Por qué ayuda                                                   |\n",
    "|----------------------|------------------------------------------------------------------|-----------------------------------------------------------------|\n",
    "| `AgeBins`            | Agrupa la edad en categorías de vida (Cachorro, Joven, Adulto, Mayor, Anciano) | Captura diferencias clave en adoptabilidad por etapa de vida |\n",
    "| `Type_Breed_Combo`   | Combina tipo de animal y raza principal                          | Ciertas combinaciones son preferidas o evitadas                |\n",
    "| `RescuerCount`       | Cuántos animales publicó ese rescatista                          | Rescatistas más activos pueden tener diferente reputación o estrategia |\n",
    "| `DescriptionType`    | Categoriza la longitud de la descripción en niveles              | Refleja esfuerzo del anunciante en atraer adoptantes           |\n",
    "\n",
    "**Objetivo**: capturar efectos grupales que mejoren el aprendizaje del modelo.\n",
    "\n",
    "---\n",
    "\n",
    "### 🔹 3. **Interacciones entre variables**\n",
    "Combinaciones de variables que capturan relaciones más profundas o no lineales.\n",
    "\n",
    "| Variable               | Qué hace                                                             | Por qué ayuda                                                        |\n",
    "|------------------------|----------------------------------------------------------------------|----------------------------------------------------------------------|\n",
    "| `Fee_per_Pet`          | Tarifa dividida por cantidad de mascotas                             | Mejora precisión en adopciones de grupos                            |\n",
    "| `Photo_per_Pet`        | Cantidad de fotos por mascota                                         | Refleja esfuerzo visual por cada animal                             |\n",
    "| `Age_Fee_Ratio`        | Relación entre edad y tarifa                                          | Puede revelar sobrevaloraciones o subvaloraciones                  |\n",
    "| `DescLength_per_Pet`   | Texto por mascota (en adopciones múltiples)                          | Indica dedicación a describir cada animal                           |\n",
    "| `DescLength_per_Rescuer` | Texto promedio por rescatista                                        | Identifica esfuerzo individual de cada rescatista                   |\n",
    "\n",
    "**Objetivo**: reflejar interacciones o normalizaciones clave que impactan en la decisión de adopción.\n",
    "\n",
    "---\n",
    "\n",
    "### 🔹 4. **Perfiles ideales y esfuerzo del rescatista**\n",
    "Condensan múltiples condiciones en señales de alta adoptabilidad.\n",
    "\n",
    "| Variable         | Qué hace                                                                 | Por qué ayuda                                                                 |\n",
    "|------------------|--------------------------------------------------------------------------|-------------------------------------------------------------------------------|\n",
    "| `IsIdealDog`     | Indica si el perro cumple un perfil ideal de adopción                    | Condensa juventud, salud, gratuidad, descripción adecuada, y presentación    |\n",
    "| `IsIdealCat`     | Igual que `IsIdealDog`, pero para gatos                                   | Permite capturar perfiles ideales para adopciones felinas                    |\n",
    "\n",
    "**Objetivo**: sintetizar múltiples factores críticos en un solo indicador potente de adoptabilidad."
   ]
  },
  {
   "cell_type": "markdown",
   "id": "0e967956",
   "metadata": {},
   "source": [
    "## Feature Engineering"
   ]
  },
  {
   "cell_type": "code",
   "execution_count": 6,
   "id": "2bd789d0",
   "metadata": {},
   "outputs": [],
   "source": [
    "import numpy as np\n",
    "import pandas as pd\n",
    "\n",
    "# Cargar el dataset\n",
    "dataset = pd.read_csv(PATH_TO_TRAIN)\n",
    "\n",
    "# 1. Tiene nombre\n",
    "dataset['HasName'] = dataset['Name'].notnull().astype(int)\n",
    "\n",
    "# 2. Es de raza pura\n",
    "# Cargar etiquetas de razas\n",
    "breed_labels = pd.read_csv(PATH_TO_BREED_LABELS)\n",
    "\n",
    "# Diccionario ID → Nombre de raza\n",
    "id_to_breed = dict(zip(breed_labels['BreedID'], breed_labels['BreedName']))\n",
    "\n",
    "# Crear una nueva columna con el nombre de Breed1\n",
    "dataset['Breed1_name'] = dataset['Breed1'].map(id_to_breed)\n",
    "\n",
    "dataset['PureBreed'] = (\n",
    "    (dataset['Breed2'] == 0) &\n",
    "    (~dataset['Breed1_name'].str.contains('Mixed', case=False, na=False))\n",
    ").astype(int)\n",
    "\n",
    "# 3. Longitud de la descripción\n",
    "dataset['DescLength'] = dataset['Description'].fillna('').apply(len)\n",
    "\n",
    "# 4. Combinación tipo-raza principal\n",
    "dataset['Type_Breed_Combo'] = dataset['Type'].astype(str) + '_' + dataset['Breed1'].astype(str)\n",
    "\n",
    "dataset['Type_Breed_Combo'] = dataset['Type_Breed_Combo'].astype('category')\n",
    "\n",
    "# 5. Tarifa por mascota\n",
    "dataset['Fee_per_Pet'] = np.where(dataset['Quantity'] == 0, 0, dataset['Fee'] / dataset['Quantity'])\n",
    "\n",
    "# 6. Fotos por mascota\n",
    "dataset['Photo_per_Pet'] = np.where(dataset['Quantity'] == 0, 0, dataset['PhotoAmt'] / dataset['Quantity'])\n",
    "\n",
    "# 7. Relación edad/tarifa\n",
    "dataset['Age_Fee_Ratio'] = dataset['Age'] / (dataset['Fee'] + 1)\n",
    "\n",
    "# 8. Longitud descripción por mascota\n",
    "dataset['DescLength_per_Pet'] = np.where(dataset['Quantity'] == 0, 0, dataset['DescLength'] / dataset['Quantity'])\n",
    "\n",
    "# 9. Longitud descripción por cantidad de fotos \n",
    "dataset['DescLength_per_Photo'] = np.where(dataset['PhotoAmt'] == 0,0,dataset['DescLength'] / dataset['PhotoAmt'])\n",
    "\n",
    "# 10. Tarifa promedio por raza\n",
    "breed_fee_mean = dataset.groupby('Breed1')['Fee'].mean()\n",
    "\n",
    "dataset['Fee_Breed_Ratio'] = dataset['Fee'] / (dataset['Breed1'].map(breed_fee_mean) + 1)\n",
    "\n"
   ]
  },
  {
   "cell_type": "code",
   "execution_count": 7,
   "id": "56111d8e",
   "metadata": {},
   "outputs": [
    {
     "data": {
      "text/plain": [
       "['Type',\n",
       " 'Age',\n",
       " 'Breed1',\n",
       " 'Breed2',\n",
       " 'Gender',\n",
       " 'Color1',\n",
       " 'Color2',\n",
       " 'Color3',\n",
       " 'MaturitySize',\n",
       " 'FurLength',\n",
       " 'Vaccinated',\n",
       " 'Dewormed',\n",
       " 'Sterilized',\n",
       " 'Health',\n",
       " 'Quantity',\n",
       " 'Fee',\n",
       " 'State',\n",
       " 'VideoAmt',\n",
       " 'PhotoAmt',\n",
       " 'HasName',\n",
       " 'PureBreed',\n",
       " 'DescLength',\n",
       " 'Type_Breed_Combo',\n",
       " 'Fee_per_Pet',\n",
       " 'Photo_per_Pet',\n",
       " 'Age_Fee_Ratio',\n",
       " 'DescLength_per_Pet',\n",
       " 'DescLength_per_Photo',\n",
       " 'Fee_Breed_Ratio']"
      ]
     },
     "execution_count": 7,
     "metadata": {},
     "output_type": "execute_result"
    }
   ],
   "source": [
    "#Separo un 20% para test estratificado opr target\n",
    "train, test = train_test_split(dataset,\n",
    "                               test_size = TEST_SIZE,\n",
    "                               random_state = SEED,\n",
    "                               stratify = dataset.AdoptionSpeed)\n",
    "\n",
    "#Armo listas con features de texto y numericas\n",
    "char_feats = [f for f in dataset.columns if dataset[f].dtype=='O']\n",
    "numeric_feats = [f for f in dataset.columns if dataset[f].dtype!='O']\n",
    "\n",
    "#Defino features a usar\n",
    "features = numeric_feats.copy()\n",
    "\n",
    "label = 'AdoptionSpeed'\n",
    "\n",
    "# Eliminamos 'AdoptionSpeed' si está\n",
    "if 'AdoptionSpeed' in features:\n",
    "    features.remove('AdoptionSpeed')\n",
    "\n",
    "#Genero dataframes de train y test con sus respectivos targets\n",
    "X_train = train[features]\n",
    "y_train = train[label]\n",
    "\n",
    "X_test = test[features]\n",
    "y_test = test[label]\n",
    "\n",
    "features"
   ]
  },
  {
   "cell_type": "markdown",
   "id": "67ca5d89",
   "metadata": {},
   "source": [
    "## Modelo con hiperparametros por default"
   ]
  },
  {
   "cell_type": "code",
   "execution_count": 8,
   "id": "f4cacb84",
   "metadata": {},
   "outputs": [
    {
     "name": "stdout",
     "output_type": "stream",
     "text": [
      "[LightGBM] [Info] Auto-choosing row-wise multi-threading, the overhead of testing was 0.001026 seconds.\n",
      "You can set `force_row_wise=true` to remove the overhead.\n",
      "And if memory is not enough, you can set `force_col_wise=true`.\n",
      "[LightGBM] [Info] Total Bins 1946\n",
      "[LightGBM] [Info] Number of data points in the train set: 11994, number of used features: 29\n",
      "[LightGBM] [Info] Start training from score -3.599148\n",
      "[LightGBM] [Info] Start training from score -1.579379\n",
      "[LightGBM] [Info] Start training from score -1.311924\n",
      "[LightGBM] [Info] Start training from score -1.526206\n",
      "[LightGBM] [Info] Start training from score -1.273359\n"
     ]
    }
   ],
   "source": [
    "#Entreno un modelo inicial sin modificar hiperparametros. Solamente especifico el numero de clases y el tipo de modelo como clasificacoión\n",
    "lgb_params = params = {\n",
    "                        'objective': 'multiclass',\n",
    "                        'num_class': len(y_train.unique())\n",
    "                        }\n",
    "\n",
    "\n",
    "#genero el objeto Dataset que debo pasarle a lightgbm para que entrene\n",
    "lgb_train_dataset = lgb.Dataset(data=X_train,\n",
    "                                label=y_train)\n",
    "\n",
    "#entreno el modelo con los parametros por defecto\n",
    "lgb_model1 = lgb.train(lgb_params,\n",
    "                      lgb_train_dataset)"
   ]
  },
  {
   "cell_type": "code",
   "execution_count": 9,
   "id": "de7e6584",
   "metadata": {},
   "outputs": [
    {
     "data": {
      "text/plain": [
       "array([2, 2, 2, ..., 1, 4, 4], shape=(2999,))"
      ]
     },
     "execution_count": 9,
     "metadata": {},
     "output_type": "execute_result"
    }
   ],
   "source": [
    "lgb_model1.predict(X_test).argmax(axis=1)"
   ]
  },
  {
   "cell_type": "code",
   "execution_count": 10,
   "id": "b0683698",
   "metadata": {},
   "outputs": [
    {
     "name": "stdout",
     "output_type": "stream",
     "text": [
      "0.34524806594014434\n"
     ]
    },
    {
     "data": {
      "application/vnd.plotly.v1+json": {
       "config": {
        "plotlyServerURL": "https://plot.ly"
       },
       "data": [
        {
         "type": "heatmap",
         "x": {
          "bdata": "AAECAwQ=",
          "dtype": "i1"
         },
         "y": {
          "bdata": "AAECAwQ=",
          "dtype": "i1"
         },
         "z": {
          "bdata": "RO1K1K5EHUAsUbsStStHQA3Ox+B8DDxARO1K1K5EDUBE7UrUrkQtQBC8SevU4+k/qqqqqqqqQEBcbQxNd7BCQAxqgHF7HyJADE13sN9qM0CZSSgX8bjPP3MRj/tBUDVAJMIEJ3PjQ0AyN17RtMonQBj+iWsLxDpACMmAeqZy3T/wbf4KsxowQFLEoZP2QUBAJ+2DZEA9NkAhGVDPVK48QLdt27Zt29Y/6Hme53meJkBVVVVVVVUyQHqe53me5yBAYhiGYRjGTkA=",
          "dtype": "f8",
          "shape": "5, 5"
         }
        }
       ],
       "layout": {
        "annotations": [
         {
          "font": {
           "color": "white"
          },
          "showarrow": false,
          "text": "7.3 - 6",
          "x": 0,
          "xref": "x",
          "y": 0,
          "yref": "y"
         },
         {
          "font": {
           "color": "white"
          },
          "showarrow": false,
          "text": "46.3 - 38",
          "x": 1,
          "xref": "x",
          "y": 0,
          "yref": "y"
         },
         {
          "font": {
           "color": "white"
          },
          "showarrow": false,
          "text": "28.0 - 23",
          "x": 2,
          "xref": "x",
          "y": 0,
          "yref": "y"
         },
         {
          "font": {
           "color": "white"
          },
          "showarrow": false,
          "text": "3.7 - 3",
          "x": 3,
          "xref": "x",
          "y": 0,
          "yref": "y"
         },
         {
          "font": {
           "color": "white"
          },
          "showarrow": false,
          "text": "14.6 - 12",
          "x": 4,
          "xref": "x",
          "y": 0,
          "yref": "y"
         },
         {
          "font": {
           "color": "white"
          },
          "showarrow": false,
          "text": "0.8 - 5",
          "x": 0,
          "xref": "x",
          "y": 1,
          "yref": "y"
         },
         {
          "font": {
           "color": "white"
          },
          "showarrow": false,
          "text": "33.3 - 206",
          "x": 1,
          "xref": "x",
          "y": 1,
          "yref": "y"
         },
         {
          "font": {
           "color": "white"
          },
          "showarrow": false,
          "text": "37.4 - 231",
          "x": 2,
          "xref": "x",
          "y": 1,
          "yref": "y"
         },
         {
          "font": {
           "color": "white"
          },
          "showarrow": false,
          "text": "9.1 - 56",
          "x": 3,
          "xref": "x",
          "y": 1,
          "yref": "y"
         },
         {
          "font": {
           "color": "white"
          },
          "showarrow": false,
          "text": "19.4 - 120",
          "x": 4,
          "xref": "x",
          "y": 1,
          "yref": "y"
         },
         {
          "font": {
           "color": "white"
          },
          "showarrow": false,
          "text": "0.2 - 2",
          "x": 0,
          "xref": "x",
          "y": 2,
          "yref": "y"
         },
         {
          "font": {
           "color": "white"
          },
          "showarrow": false,
          "text": "21.3 - 172",
          "x": 1,
          "xref": "x",
          "y": 2,
          "yref": "y"
         },
         {
          "font": {
           "color": "white"
          },
          "showarrow": false,
          "text": "39.8 - 321",
          "x": 2,
          "xref": "x",
          "y": 2,
          "yref": "y"
         },
         {
          "font": {
           "color": "white"
          },
          "showarrow": false,
          "text": "11.9 - 96",
          "x": 3,
          "xref": "x",
          "y": 2,
          "yref": "y"
         },
         {
          "font": {
           "color": "white"
          },
          "showarrow": false,
          "text": "26.8 - 216",
          "x": 4,
          "xref": "x",
          "y": 2,
          "yref": "y"
         },
         {
          "font": {
           "color": "white"
          },
          "showarrow": false,
          "text": "0.5 - 3",
          "x": 0,
          "xref": "x",
          "y": 3,
          "yref": "y"
         },
         {
          "font": {
           "color": "white"
          },
          "showarrow": false,
          "text": "16.1 - 105",
          "x": 1,
          "xref": "x",
          "y": 3,
          "yref": "y"
         },
         {
          "font": {
           "color": "white"
          },
          "showarrow": false,
          "text": "32.5 - 212",
          "x": 2,
          "xref": "x",
          "y": 3,
          "yref": "y"
         },
         {
          "font": {
           "color": "white"
          },
          "showarrow": false,
          "text": "22.2 - 145",
          "x": 3,
          "xref": "x",
          "y": 3,
          "yref": "y"
         },
         {
          "font": {
           "color": "white"
          },
          "showarrow": false,
          "text": "28.7 - 187",
          "x": 4,
          "xref": "x",
          "y": 3,
          "yref": "y"
         },
         {
          "font": {
           "color": "white"
          },
          "showarrow": false,
          "text": "0.4 - 3",
          "x": 0,
          "xref": "x",
          "y": 4,
          "yref": "y"
         },
         {
          "font": {
           "color": "white"
          },
          "showarrow": false,
          "text": "11.3 - 95",
          "x": 1,
          "xref": "x",
          "y": 4,
          "yref": "y"
         },
         {
          "font": {
           "color": "white"
          },
          "showarrow": false,
          "text": "18.3 - 154",
          "x": 2,
          "xref": "x",
          "y": 4,
          "yref": "y"
         },
         {
          "font": {
           "color": "white"
          },
          "showarrow": false,
          "text": "8.5 - 71",
          "x": 3,
          "xref": "x",
          "y": 4,
          "yref": "y"
         },
         {
          "font": {
           "color": "white"
          },
          "showarrow": false,
          "text": "61.5 - 517",
          "x": 4,
          "xref": "x",
          "y": 4,
          "yref": "y"
         }
        ],
        "height": 800,
        "template": {
         "data": {
          "bar": [
           {
            "error_x": {
             "color": "#2a3f5f"
            },
            "error_y": {
             "color": "#2a3f5f"
            },
            "marker": {
             "line": {
              "color": "#E5ECF6",
              "width": 0.5
             },
             "pattern": {
              "fillmode": "overlay",
              "size": 10,
              "solidity": 0.2
             }
            },
            "type": "bar"
           }
          ],
          "barpolar": [
           {
            "marker": {
             "line": {
              "color": "#E5ECF6",
              "width": 0.5
             },
             "pattern": {
              "fillmode": "overlay",
              "size": 10,
              "solidity": 0.2
             }
            },
            "type": "barpolar"
           }
          ],
          "carpet": [
           {
            "aaxis": {
             "endlinecolor": "#2a3f5f",
             "gridcolor": "white",
             "linecolor": "white",
             "minorgridcolor": "white",
             "startlinecolor": "#2a3f5f"
            },
            "baxis": {
             "endlinecolor": "#2a3f5f",
             "gridcolor": "white",
             "linecolor": "white",
             "minorgridcolor": "white",
             "startlinecolor": "#2a3f5f"
            },
            "type": "carpet"
           }
          ],
          "choropleth": [
           {
            "colorbar": {
             "outlinewidth": 0,
             "ticks": ""
            },
            "type": "choropleth"
           }
          ],
          "contour": [
           {
            "colorbar": {
             "outlinewidth": 0,
             "ticks": ""
            },
            "colorscale": [
             [
              0,
              "#0d0887"
             ],
             [
              0.1111111111111111,
              "#46039f"
             ],
             [
              0.2222222222222222,
              "#7201a8"
             ],
             [
              0.3333333333333333,
              "#9c179e"
             ],
             [
              0.4444444444444444,
              "#bd3786"
             ],
             [
              0.5555555555555556,
              "#d8576b"
             ],
             [
              0.6666666666666666,
              "#ed7953"
             ],
             [
              0.7777777777777778,
              "#fb9f3a"
             ],
             [
              0.8888888888888888,
              "#fdca26"
             ],
             [
              1,
              "#f0f921"
             ]
            ],
            "type": "contour"
           }
          ],
          "contourcarpet": [
           {
            "colorbar": {
             "outlinewidth": 0,
             "ticks": ""
            },
            "type": "contourcarpet"
           }
          ],
          "heatmap": [
           {
            "colorbar": {
             "outlinewidth": 0,
             "ticks": ""
            },
            "colorscale": [
             [
              0,
              "#0d0887"
             ],
             [
              0.1111111111111111,
              "#46039f"
             ],
             [
              0.2222222222222222,
              "#7201a8"
             ],
             [
              0.3333333333333333,
              "#9c179e"
             ],
             [
              0.4444444444444444,
              "#bd3786"
             ],
             [
              0.5555555555555556,
              "#d8576b"
             ],
             [
              0.6666666666666666,
              "#ed7953"
             ],
             [
              0.7777777777777778,
              "#fb9f3a"
             ],
             [
              0.8888888888888888,
              "#fdca26"
             ],
             [
              1,
              "#f0f921"
             ]
            ],
            "type": "heatmap"
           }
          ],
          "histogram": [
           {
            "marker": {
             "pattern": {
              "fillmode": "overlay",
              "size": 10,
              "solidity": 0.2
             }
            },
            "type": "histogram"
           }
          ],
          "histogram2d": [
           {
            "colorbar": {
             "outlinewidth": 0,
             "ticks": ""
            },
            "colorscale": [
             [
              0,
              "#0d0887"
             ],
             [
              0.1111111111111111,
              "#46039f"
             ],
             [
              0.2222222222222222,
              "#7201a8"
             ],
             [
              0.3333333333333333,
              "#9c179e"
             ],
             [
              0.4444444444444444,
              "#bd3786"
             ],
             [
              0.5555555555555556,
              "#d8576b"
             ],
             [
              0.6666666666666666,
              "#ed7953"
             ],
             [
              0.7777777777777778,
              "#fb9f3a"
             ],
             [
              0.8888888888888888,
              "#fdca26"
             ],
             [
              1,
              "#f0f921"
             ]
            ],
            "type": "histogram2d"
           }
          ],
          "histogram2dcontour": [
           {
            "colorbar": {
             "outlinewidth": 0,
             "ticks": ""
            },
            "colorscale": [
             [
              0,
              "#0d0887"
             ],
             [
              0.1111111111111111,
              "#46039f"
             ],
             [
              0.2222222222222222,
              "#7201a8"
             ],
             [
              0.3333333333333333,
              "#9c179e"
             ],
             [
              0.4444444444444444,
              "#bd3786"
             ],
             [
              0.5555555555555556,
              "#d8576b"
             ],
             [
              0.6666666666666666,
              "#ed7953"
             ],
             [
              0.7777777777777778,
              "#fb9f3a"
             ],
             [
              0.8888888888888888,
              "#fdca26"
             ],
             [
              1,
              "#f0f921"
             ]
            ],
            "type": "histogram2dcontour"
           }
          ],
          "mesh3d": [
           {
            "colorbar": {
             "outlinewidth": 0,
             "ticks": ""
            },
            "type": "mesh3d"
           }
          ],
          "parcoords": [
           {
            "line": {
             "colorbar": {
              "outlinewidth": 0,
              "ticks": ""
             }
            },
            "type": "parcoords"
           }
          ],
          "pie": [
           {
            "automargin": true,
            "type": "pie"
           }
          ],
          "scatter": [
           {
            "fillpattern": {
             "fillmode": "overlay",
             "size": 10,
             "solidity": 0.2
            },
            "type": "scatter"
           }
          ],
          "scatter3d": [
           {
            "line": {
             "colorbar": {
              "outlinewidth": 0,
              "ticks": ""
             }
            },
            "marker": {
             "colorbar": {
              "outlinewidth": 0,
              "ticks": ""
             }
            },
            "type": "scatter3d"
           }
          ],
          "scattercarpet": [
           {
            "marker": {
             "colorbar": {
              "outlinewidth": 0,
              "ticks": ""
             }
            },
            "type": "scattercarpet"
           }
          ],
          "scattergeo": [
           {
            "marker": {
             "colorbar": {
              "outlinewidth": 0,
              "ticks": ""
             }
            },
            "type": "scattergeo"
           }
          ],
          "scattergl": [
           {
            "marker": {
             "colorbar": {
              "outlinewidth": 0,
              "ticks": ""
             }
            },
            "type": "scattergl"
           }
          ],
          "scattermap": [
           {
            "marker": {
             "colorbar": {
              "outlinewidth": 0,
              "ticks": ""
             }
            },
            "type": "scattermap"
           }
          ],
          "scattermapbox": [
           {
            "marker": {
             "colorbar": {
              "outlinewidth": 0,
              "ticks": ""
             }
            },
            "type": "scattermapbox"
           }
          ],
          "scatterpolar": [
           {
            "marker": {
             "colorbar": {
              "outlinewidth": 0,
              "ticks": ""
             }
            },
            "type": "scatterpolar"
           }
          ],
          "scatterpolargl": [
           {
            "marker": {
             "colorbar": {
              "outlinewidth": 0,
              "ticks": ""
             }
            },
            "type": "scatterpolargl"
           }
          ],
          "scatterternary": [
           {
            "marker": {
             "colorbar": {
              "outlinewidth": 0,
              "ticks": ""
             }
            },
            "type": "scatterternary"
           }
          ],
          "surface": [
           {
            "colorbar": {
             "outlinewidth": 0,
             "ticks": ""
            },
            "colorscale": [
             [
              0,
              "#0d0887"
             ],
             [
              0.1111111111111111,
              "#46039f"
             ],
             [
              0.2222222222222222,
              "#7201a8"
             ],
             [
              0.3333333333333333,
              "#9c179e"
             ],
             [
              0.4444444444444444,
              "#bd3786"
             ],
             [
              0.5555555555555556,
              "#d8576b"
             ],
             [
              0.6666666666666666,
              "#ed7953"
             ],
             [
              0.7777777777777778,
              "#fb9f3a"
             ],
             [
              0.8888888888888888,
              "#fdca26"
             ],
             [
              1,
              "#f0f921"
             ]
            ],
            "type": "surface"
           }
          ],
          "table": [
           {
            "cells": {
             "fill": {
              "color": "#EBF0F8"
             },
             "line": {
              "color": "white"
             }
            },
            "header": {
             "fill": {
              "color": "#C8D4E3"
             },
             "line": {
              "color": "white"
             }
            },
            "type": "table"
           }
          ]
         },
         "layout": {
          "annotationdefaults": {
           "arrowcolor": "#2a3f5f",
           "arrowhead": 0,
           "arrowwidth": 1
          },
          "autotypenumbers": "strict",
          "coloraxis": {
           "colorbar": {
            "outlinewidth": 0,
            "ticks": ""
           }
          },
          "colorscale": {
           "diverging": [
            [
             0,
             "#8e0152"
            ],
            [
             0.1,
             "#c51b7d"
            ],
            [
             0.2,
             "#de77ae"
            ],
            [
             0.3,
             "#f1b6da"
            ],
            [
             0.4,
             "#fde0ef"
            ],
            [
             0.5,
             "#f7f7f7"
            ],
            [
             0.6,
             "#e6f5d0"
            ],
            [
             0.7,
             "#b8e186"
            ],
            [
             0.8,
             "#7fbc41"
            ],
            [
             0.9,
             "#4d9221"
            ],
            [
             1,
             "#276419"
            ]
           ],
           "sequential": [
            [
             0,
             "#0d0887"
            ],
            [
             0.1111111111111111,
             "#46039f"
            ],
            [
             0.2222222222222222,
             "#7201a8"
            ],
            [
             0.3333333333333333,
             "#9c179e"
            ],
            [
             0.4444444444444444,
             "#bd3786"
            ],
            [
             0.5555555555555556,
             "#d8576b"
            ],
            [
             0.6666666666666666,
             "#ed7953"
            ],
            [
             0.7777777777777778,
             "#fb9f3a"
            ],
            [
             0.8888888888888888,
             "#fdca26"
            ],
            [
             1,
             "#f0f921"
            ]
           ],
           "sequentialminus": [
            [
             0,
             "#0d0887"
            ],
            [
             0.1111111111111111,
             "#46039f"
            ],
            [
             0.2222222222222222,
             "#7201a8"
            ],
            [
             0.3333333333333333,
             "#9c179e"
            ],
            [
             0.4444444444444444,
             "#bd3786"
            ],
            [
             0.5555555555555556,
             "#d8576b"
            ],
            [
             0.6666666666666666,
             "#ed7953"
            ],
            [
             0.7777777777777778,
             "#fb9f3a"
            ],
            [
             0.8888888888888888,
             "#fdca26"
            ],
            [
             1,
             "#f0f921"
            ]
           ]
          },
          "colorway": [
           "#636efa",
           "#EF553B",
           "#00cc96",
           "#ab63fa",
           "#FFA15A",
           "#19d3f3",
           "#FF6692",
           "#B6E880",
           "#FF97FF",
           "#FECB52"
          ],
          "font": {
           "color": "#2a3f5f"
          },
          "geo": {
           "bgcolor": "white",
           "lakecolor": "white",
           "landcolor": "#E5ECF6",
           "showlakes": true,
           "showland": true,
           "subunitcolor": "white"
          },
          "hoverlabel": {
           "align": "left"
          },
          "hovermode": "closest",
          "mapbox": {
           "style": "light"
          },
          "paper_bgcolor": "white",
          "plot_bgcolor": "#E5ECF6",
          "polar": {
           "angularaxis": {
            "gridcolor": "white",
            "linecolor": "white",
            "ticks": ""
           },
           "bgcolor": "#E5ECF6",
           "radialaxis": {
            "gridcolor": "white",
            "linecolor": "white",
            "ticks": ""
           }
          },
          "scene": {
           "xaxis": {
            "backgroundcolor": "#E5ECF6",
            "gridcolor": "white",
            "gridwidth": 2,
            "linecolor": "white",
            "showbackground": true,
            "ticks": "",
            "zerolinecolor": "white"
           },
           "yaxis": {
            "backgroundcolor": "#E5ECF6",
            "gridcolor": "white",
            "gridwidth": 2,
            "linecolor": "white",
            "showbackground": true,
            "ticks": "",
            "zerolinecolor": "white"
           },
           "zaxis": {
            "backgroundcolor": "#E5ECF6",
            "gridcolor": "white",
            "gridwidth": 2,
            "linecolor": "white",
            "showbackground": true,
            "ticks": "",
            "zerolinecolor": "white"
           }
          },
          "shapedefaults": {
           "line": {
            "color": "#2a3f5f"
           }
          },
          "ternary": {
           "aaxis": {
            "gridcolor": "white",
            "linecolor": "white",
            "ticks": ""
           },
           "baxis": {
            "gridcolor": "white",
            "linecolor": "white",
            "ticks": ""
           },
           "bgcolor": "#E5ECF6",
           "caxis": {
            "gridcolor": "white",
            "linecolor": "white",
            "ticks": ""
           }
          },
          "title": {
           "x": 0.05
          },
          "xaxis": {
           "automargin": true,
           "gridcolor": "white",
           "linecolor": "white",
           "ticks": "",
           "title": {
            "standoff": 15
           },
           "zerolinecolor": "white",
           "zerolinewidth": 2
          },
          "yaxis": {
           "automargin": true,
           "gridcolor": "white",
           "linecolor": "white",
           "ticks": "",
           "title": {
            "standoff": 15
           },
           "zerolinecolor": "white",
           "zerolinewidth": 2
          }
         }
        },
        "title": {
         "text": "Conf Matrix"
        },
        "width": 800,
        "xaxis": {
         "title": {
          "text": "Predicted value"
         }
        },
        "yaxis": {
         "title": {
          "text": "Real value"
         }
        }
       }
      }
     },
     "metadata": {},
     "output_type": "display_data"
    }
   ],
   "source": [
    "#Obtengo las predicciones sobre el set de test. El modelo me da una lista de probabilidades para cada clase y tomo la clase con mayor probabilidad con la funcion argmax\n",
    "y_pred = lgb_model1.predict(X_test).argmax(axis=1)\n",
    "\n",
    "#Calculo el Kappa\n",
    "print(cohen_kappa_score(y_test,y_pred, weights = 'quadratic'))\n",
    "\n",
    "#Muestro la matriz de confusión\n",
    "display(plot_confusion_matrix(y_test,y_pred))"
   ]
  },
  {
   "cell_type": "markdown",
   "id": "0270bbba",
   "metadata": {},
   "source": [
    "## Modelo con optimizacion de hiperparametros train/test"
   ]
  },
  {
   "cell_type": "code",
   "execution_count": 11,
   "id": "f521b491",
   "metadata": {},
   "outputs": [],
   "source": [
    "#Funcion que vamos a optimizar. Optuna requiere que usemos el objeto trial para generar los parametros a optimizar\n",
    "def lgb_objective(trial):\n",
    "    #PArametros para LightGBM\n",
    "    lgb_params = {      \n",
    "                        #PArametros fijos\n",
    "                        'objective': 'multiclass',\n",
    "                        'verbosity':-1,\n",
    "                        'num_class': len(y_train.unique()),\n",
    "                        #Hiperparametros a optimizar utilizando suggest_float o suggest_int segun el tipo de dato\n",
    "                        #Se indica el nombre del parametro, valor minimo, valor maximo \n",
    "                        #en elgunos casos el parametro log=True para parametros que requieren buscar en esa escala\n",
    "                        'lambda_l1': trial.suggest_float('lambda_l1', 1e-8, 10.0, log=True),\n",
    "                        'lambda_l2': trial.suggest_float('lambda_l2', 1e-8, 10.0, log=True),\n",
    "                        'num_leaves': trial.suggest_int('num_leaves', 2, 256),\n",
    "                        'feature_fraction': trial.suggest_float('feature_fraction', 0.4, 1.0),\n",
    "                        'bagging_fraction': trial.suggest_float('bagging_fraction', 0.4, 1.0),\n",
    "                        'bagging_freq': trial.suggest_int('bagging_freq', 1, 7),\n",
    "                        'min_child_samples': trial.suggest_int('min_child_samples', 5, 100),\n",
    "                        } \n",
    "\n",
    "    #Genero objeto dataset de entrenamiento\n",
    "    lgb_train_dataset = lgb.Dataset(data=X_train,\n",
    "                                    label=y_train)\n",
    "\n",
    "    #ajuste de modelo\n",
    "    lgb_model2 = lgb.train(lgb_params,\n",
    "                        lgb_train_dataset)\n",
    "    \n",
    "    #Devuelvo el score en test\n",
    "    return(cohen_kappa_score(y_test,lgb_model2.predict(X_test).argmax(axis=1),\n",
    "                             weights = 'quadratic'))"
   ]
  },
  {
   "cell_type": "code",
   "execution_count": 12,
   "id": "e5f668a9",
   "metadata": {},
   "outputs": [
    {
     "name": "stderr",
     "output_type": "stream",
     "text": [
      "[I 2025-04-30 12:01:23,143] A new study created in RDB with name: 04 - LGB Multiclass\n",
      "[I 2025-04-30 12:01:25,343] Trial 0 finished with value: 0.2971022403691469 and parameters: {'lambda_l1': 0.009088272163550825, 'lambda_l2': 0.04603307858027722, 'num_leaves': 75, 'feature_fraction': 0.8091869704576256, 'bagging_fraction': 0.5257383320754989, 'bagging_freq': 1, 'min_child_samples': 37}. Best is trial 0 with value: 0.2971022403691469.\n",
      "[I 2025-04-30 12:01:27,152] Trial 1 finished with value: 0.3178201007716497 and parameters: {'lambda_l1': 0.771393013075498, 'lambda_l2': 4.62681389813736e-05, 'num_leaves': 229, 'feature_fraction': 0.8347887952806194, 'bagging_fraction': 0.8877317296728973, 'bagging_freq': 2, 'min_child_samples': 97}. Best is trial 1 with value: 0.3178201007716497.\n",
      "[I 2025-04-30 12:01:28,752] Trial 2 finished with value: 0.34686534733476093 and parameters: {'lambda_l1': 0.0007687278335298546, 'lambda_l2': 6.429723366440112e-06, 'num_leaves': 74, 'feature_fraction': 0.6257986310071927, 'bagging_fraction': 0.8339989652840559, 'bagging_freq': 1, 'min_child_samples': 9}. Best is trial 2 with value: 0.34686534733476093.\n",
      "[I 2025-04-30 12:01:30,222] Trial 3 finished with value: 0.3217761609904727 and parameters: {'lambda_l1': 0.0013849656933063923, 'lambda_l2': 3.291740221248426e-07, 'num_leaves': 146, 'feature_fraction': 0.5932881093812195, 'bagging_fraction': 0.5613495885429464, 'bagging_freq': 2, 'min_child_samples': 78}. Best is trial 2 with value: 0.34686534733476093.\n",
      "[I 2025-04-30 12:01:31,948] Trial 4 finished with value: 0.3255102063457068 and parameters: {'lambda_l1': 0.03563660889635863, 'lambda_l2': 4.619779604586004, 'num_leaves': 255, 'feature_fraction': 0.5674802882891488, 'bagging_fraction': 0.9349902699022629, 'bagging_freq': 3, 'min_child_samples': 100}. Best is trial 2 with value: 0.34686534733476093.\n",
      "[I 2025-04-30 12:01:33,825] Trial 5 finished with value: 0.30842217057320653 and parameters: {'lambda_l1': 5.0412431731523346e-05, 'lambda_l2': 0.13468669421521265, 'num_leaves': 205, 'feature_fraction': 0.4640428736080776, 'bagging_fraction': 0.7988984890568426, 'bagging_freq': 6, 'min_child_samples': 42}. Best is trial 2 with value: 0.34686534733476093.\n",
      "[I 2025-04-30 12:01:34,732] Trial 6 finished with value: 0.3239961006700759 and parameters: {'lambda_l1': 0.8180411186236769, 'lambda_l2': 8.405704119137726e-08, 'num_leaves': 59, 'feature_fraction': 0.8814487454455175, 'bagging_fraction': 0.5295194450003199, 'bagging_freq': 3, 'min_child_samples': 46}. Best is trial 2 with value: 0.34686534733476093.\n",
      "[I 2025-04-30 12:01:36,335] Trial 7 finished with value: 0.31010486221085753 and parameters: {'lambda_l1': 2.194638098173622e-07, 'lambda_l2': 1.3285484518238988, 'num_leaves': 150, 'feature_fraction': 0.881991852511024, 'bagging_fraction': 0.6792664663203825, 'bagging_freq': 3, 'min_child_samples': 40}. Best is trial 2 with value: 0.34686534733476093.\n",
      "[I 2025-04-30 12:01:38,173] Trial 8 finished with value: 0.30813667155685676 and parameters: {'lambda_l1': 7.298437373024777e-07, 'lambda_l2': 0.7156383802852017, 'num_leaves': 214, 'feature_fraction': 0.8218123655009251, 'bagging_fraction': 0.7212552748203165, 'bagging_freq': 7, 'min_child_samples': 43}. Best is trial 2 with value: 0.34686534733476093.\n",
      "[I 2025-04-30 12:01:39,760] Trial 9 finished with value: 0.3023852286186838 and parameters: {'lambda_l1': 1.8963110788171536e-06, 'lambda_l2': 7.725181162060642e-06, 'num_leaves': 128, 'feature_fraction': 0.6414490158230827, 'bagging_fraction': 0.6280651418633914, 'bagging_freq': 7, 'min_child_samples': 13}. Best is trial 2 with value: 0.34686534733476093.\n",
      "[I 2025-04-30 12:01:40,332] Trial 10 finished with value: 0.3079814924958645 and parameters: {'lambda_l1': 1.2252521696170037e-08, 'lambda_l2': 0.0025413741544128795, 'num_leaves': 19, 'feature_fraction': 0.9811977895671494, 'bagging_fraction': 0.42816613304791484, 'bagging_freq': 5, 'min_child_samples': 6}. Best is trial 2 with value: 0.34686534733476093.\n",
      "[I 2025-04-30 12:01:41,544] Trial 11 finished with value: 0.30967458823743177 and parameters: {'lambda_l1': 0.012007960348482177, 'lambda_l2': 0.0005468852080325218, 'num_leaves': 89, 'feature_fraction': 0.507556122305641, 'bagging_fraction': 0.997561402125812, 'bagging_freq': 1, 'min_child_samples': 74}. Best is trial 2 with value: 0.34686534733476093.\n",
      "[I 2025-04-30 12:01:41,874] Trial 12 finished with value: 0.3040028520807049 and parameters: {'lambda_l1': 0.00011537510071002417, 'lambda_l2': 3.995859621278372e-06, 'num_leaves': 4, 'feature_fraction': 0.6977637304831362, 'bagging_fraction': 0.9130006247899518, 'bagging_freq': 4, 'min_child_samples': 23}. Best is trial 2 with value: 0.34686534733476093.\n",
      "[I 2025-04-30 12:01:43,753] Trial 13 finished with value: 0.3117206189401346 and parameters: {'lambda_l1': 0.043863237824553036, 'lambda_l2': 0.009148685167596933, 'num_leaves': 255, 'feature_fraction': 0.5584170905964505, 'bagging_fraction': 0.8301173872693274, 'bagging_freq': 3, 'min_child_samples': 66}. Best is trial 2 with value: 0.34686534733476093.\n",
      "[I 2025-04-30 12:01:44,701] Trial 14 finished with value: 0.33220959199943845 and parameters: {'lambda_l1': 5.434293605683328, 'lambda_l2': 8.75118831783354, 'num_leaves': 177, 'feature_fraction': 0.4058793149831018, 'bagging_fraction': 0.9959440164745245, 'bagging_freq': 2, 'min_child_samples': 95}. Best is trial 2 with value: 0.34686534733476093.\n",
      "[I 2025-04-30 12:01:45,920] Trial 15 finished with value: 0.32615743478377157 and parameters: {'lambda_l1': 2.671532142253453, 'lambda_l2': 1.8095572736427667e-08, 'num_leaves': 182, 'feature_fraction': 0.4237941605677722, 'bagging_fraction': 0.783557327834186, 'bagging_freq': 1, 'min_child_samples': 61}. Best is trial 2 with value: 0.34686534733476093.\n",
      "[I 2025-04-30 12:01:46,921] Trial 16 finished with value: 0.31263384399573835 and parameters: {'lambda_l1': 9.447961095163693, 'lambda_l2': 0.00011096373084900168, 'num_leaves': 104, 'feature_fraction': 0.40440514998544896, 'bagging_fraction': 0.998869931944746, 'bagging_freq': 2, 'min_child_samples': 86}. Best is trial 2 with value: 0.34686534733476093.\n",
      "[I 2025-04-30 12:01:48,376] Trial 17 finished with value: 0.3206560535151314 and parameters: {'lambda_l1': 1.0295971743147472e-05, 'lambda_l2': 3.8017319628852948e-06, 'num_leaves': 42, 'feature_fraction': 0.7216866162198506, 'bagging_fraction': 0.8413992677433434, 'bagging_freq': 4, 'min_child_samples': 56}. Best is trial 2 with value: 0.34686534733476093.\n",
      "[I 2025-04-30 12:01:51,097] Trial 18 finished with value: 0.32303530504410516 and parameters: {'lambda_l1': 0.0008022175906478002, 'lambda_l2': 5.682054474052686e-07, 'num_leaves': 174, 'feature_fraction': 0.49693449420989855, 'bagging_fraction': 0.7474231515746074, 'bagging_freq': 2, 'min_child_samples': 23}. Best is trial 2 with value: 0.34686534733476093.\n",
      "[I 2025-04-30 12:01:53,726] Trial 19 finished with value: 0.3104499872983909 and parameters: {'lambda_l1': 0.21405581161235607, 'lambda_l2': 0.0018638939440957952, 'num_leaves': 120, 'feature_fraction': 0.7112252347333426, 'bagging_fraction': 0.9475639451128175, 'bagging_freq': 1, 'min_child_samples': 28}. Best is trial 2 with value: 0.34686534733476093.\n",
      "[I 2025-04-30 12:01:54,765] Trial 20 finished with value: 0.3321295095988277 and parameters: {'lambda_l1': 0.002772037863205414, 'lambda_l2': 2.5575666483202095e-05, 'num_leaves': 37, 'feature_fraction': 0.6063359872218839, 'bagging_fraction': 0.8786008953111458, 'bagging_freq': 4, 'min_child_samples': 88}. Best is trial 2 with value: 0.34686534733476093.\n",
      "[I 2025-04-30 12:01:55,857] Trial 21 finished with value: 0.3303451818216251 and parameters: {'lambda_l1': 0.0015159078196023625, 'lambda_l2': 1.3795495450295662e-05, 'num_leaves': 44, 'feature_fraction': 0.6148980147289927, 'bagging_fraction': 0.8709371543790096, 'bagging_freq': 5, 'min_child_samples': 90}. Best is trial 2 with value: 0.34686534733476093.\n",
      "[I 2025-04-30 12:01:57,083] Trial 22 finished with value: 0.3129061178139423 and parameters: {'lambda_l1': 2.8178564275901738e-05, 'lambda_l2': 0.00020973251948392914, 'num_leaves': 68, 'feature_fraction': 0.6640254797302004, 'bagging_fraction': 0.944954741289999, 'bagging_freq': 4, 'min_child_samples': 83}. Best is trial 2 with value: 0.34686534733476093.\n",
      "[I 2025-04-30 12:01:57,823] Trial 23 finished with value: 0.31165990763361506 and parameters: {'lambda_l1': 0.00029100356218679366, 'lambda_l2': 7.971131585632122e-07, 'num_leaves': 30, 'feature_fraction': 0.5457342135638819, 'bagging_fraction': 0.8544276466269591, 'bagging_freq': 5, 'min_child_samples': 69}. Best is trial 2 with value: 0.34686534733476093.\n",
      "[I 2025-04-30 12:01:59,169] Trial 24 finished with value: 0.32743723379950884 and parameters: {'lambda_l1': 0.007658644262646547, 'lambda_l2': 2.6043434089250762e-05, 'num_leaves': 97, 'feature_fraction': 0.49598853450890895, 'bagging_fraction': 0.7751354687911104, 'bagging_freq': 2, 'min_child_samples': 91}. Best is trial 2 with value: 0.34686534733476093.\n",
      "[I 2025-04-30 12:02:00,851] Trial 25 finished with value: 0.3278120873335145 and parameters: {'lambda_l1': 0.13633504184813824, 'lambda_l2': 0.019111762154507116, 'num_leaves': 164, 'feature_fraction': 0.7495081511951759, 'bagging_fraction': 0.9755243216489399, 'bagging_freq': 1, 'min_child_samples': 79}. Best is trial 2 with value: 0.34686534733476093.\n",
      "[I 2025-04-30 12:02:01,973] Trial 26 finished with value: 0.3223281408082883 and parameters: {'lambda_l1': 6.489493922664971e-06, 'lambda_l2': 0.0008551127521956849, 'num_leaves': 53, 'feature_fraction': 0.6448395175294597, 'bagging_fraction': 0.916294160224536, 'bagging_freq': 6, 'min_child_samples': 93}. Best is trial 2 with value: 0.34686534733476093.\n",
      "[I 2025-04-30 12:02:02,342] Trial 27 finished with value: 0.31165932085503956 and parameters: {'lambda_l1': 0.003144275337654652, 'lambda_l2': 1.6227805485323508e-06, 'num_leaves': 3, 'feature_fraction': 0.7731966289677995, 'bagging_fraction': 0.6748752150590149, 'bagging_freq': 3, 'min_child_samples': 51}. Best is trial 2 with value: 0.34686534733476093.\n",
      "[I 2025-04-30 12:02:03,730] Trial 28 finished with value: 0.3028874873631775 and parameters: {'lambda_l1': 0.00015184743330052422, 'lambda_l2': 1.034417138925441e-07, 'num_leaves': 89, 'feature_fraction': 0.4460303684643867, 'bagging_fraction': 0.816946258117594, 'bagging_freq': 2, 'min_child_samples': 67}. Best is trial 2 with value: 0.34686534733476093.\n",
      "[I 2025-04-30 12:02:05,830] Trial 29 finished with value: 0.31789539008592704 and parameters: {'lambda_l1': 0.01686770351194206, 'lambda_l2': 0.15064229446343447, 'num_leaves': 117, 'feature_fraction': 0.5351116359968413, 'bagging_fraction': 0.8931528796215604, 'bagging_freq': 1, 'min_child_samples': 32}. Best is trial 2 with value: 0.34686534733476093.\n",
      "[I 2025-04-30 12:02:07,187] Trial 30 finished with value: 0.32953612959359857 and parameters: {'lambda_l1': 0.18140866708684678, 'lambda_l2': 7.774086773739954e-05, 'num_leaves': 77, 'feature_fraction': 0.6069121319848028, 'bagging_fraction': 0.41129985123818724, 'bagging_freq': 4, 'min_child_samples': 15}. Best is trial 2 with value: 0.34686534733476093.\n",
      "[I 2025-04-30 12:02:08,001] Trial 31 finished with value: 0.33163613300544614 and parameters: {'lambda_l1': 0.0009639396764690725, 'lambda_l2': 1.6257434165285877e-05, 'num_leaves': 24, 'feature_fraction': 0.6155492652862957, 'bagging_fraction': 0.866515965241393, 'bagging_freq': 5, 'min_child_samples': 88}. Best is trial 2 with value: 0.34686534733476093.\n",
      "[I 2025-04-30 12:02:08,816] Trial 32 finished with value: 0.33245472217356853 and parameters: {'lambda_l1': 0.0004626129709667317, 'lambda_l2': 3.3908521911696865e-05, 'num_leaves': 28, 'feature_fraction': 0.6527694877587619, 'bagging_fraction': 0.873933238437849, 'bagging_freq': 6, 'min_child_samples': 99}. Best is trial 2 with value: 0.34686534733476093.\n",
      "[I 2025-04-30 12:02:09,650] Trial 33 finished with value: 0.317379329097739 and parameters: {'lambda_l1': 0.004848895165798574, 'lambda_l2': 5.529396268644979e-05, 'num_leaves': 33, 'feature_fraction': 0.6794255271973045, 'bagging_fraction': 0.9620539532933887, 'bagging_freq': 6, 'min_child_samples': 97}. Best is trial 2 with value: 0.34686534733476093.\n",
      "[I 2025-04-30 12:02:11,287] Trial 34 finished with value: 0.33091315756726913 and parameters: {'lambda_l1': 0.0004510288270782891, 'lambda_l2': 0.00019724459191374283, 'num_leaves': 72, 'feature_fraction': 0.5808052113525891, 'bagging_fraction': 0.9052641548661908, 'bagging_freq': 6, 'min_child_samples': 97}. Best is trial 2 with value: 0.34686534733476093.\n",
      "[I 2025-04-30 12:02:12,647] Trial 35 finished with value: 0.32577610303428206 and parameters: {'lambda_l1': 8.23201248903655e-05, 'lambda_l2': 6.17884422083526, 'num_leaves': 193, 'feature_fraction': 0.7718635709937395, 'bagging_fraction': 0.7501133018023781, 'bagging_freq': 7, 'min_child_samples': 81}. Best is trial 2 with value: 0.34686534733476093.\n",
      "[I 2025-04-30 12:02:13,744] Trial 36 finished with value: 0.31879890701353475 and parameters: {'lambda_l1': 0.05831065624441578, 'lambda_l2': 1.864020150187747e-07, 'num_leaves': 148, 'feature_fraction': 0.6386430067840372, 'bagging_fraction': 0.6156076226975864, 'bagging_freq': 2, 'min_child_samples': 99}. Best is trial 2 with value: 0.34686534733476093.\n",
      "[I 2025-04-30 12:02:15,165] Trial 37 finished with value: 0.320234235689716 and parameters: {'lambda_l1': 1.5568020876623465, 'lambda_l2': 2.501470557169291e-06, 'num_leaves': 225, 'feature_fraction': 0.4740062581891791, 'bagging_fraction': 0.812856185446766, 'bagging_freq': 3, 'min_child_samples': 73}. Best is trial 2 with value: 0.34686534733476093.\n",
      "[I 2025-04-30 12:02:16,466] Trial 38 finished with value: 0.32601034132877194 and parameters: {'lambda_l1': 2.55233524242479e-05, 'lambda_l2': 0.0052217744009520365, 'num_leaves': 56, 'feature_fraction': 0.5778294978095893, 'bagging_fraction': 0.9323950405609209, 'bagging_freq': 1, 'min_child_samples': 92}. Best is trial 2 with value: 0.34686534733476093.\n",
      "[I 2025-04-30 12:02:17,500] Trial 39 finished with value: 0.3141931220006523 and parameters: {'lambda_l1': 0.0022148849653656497, 'lambda_l2': 0.07538600520106738, 'num_leaves': 47, 'feature_fraction': 0.8917082237067682, 'bagging_fraction': 0.8869433324071258, 'bagging_freq': 6, 'min_child_samples': 100}. Best is trial 2 with value: 0.34686534733476093.\n",
      "[I 2025-04-30 12:02:18,815] Trial 40 finished with value: 0.3245625624365256 and parameters: {'lambda_l1': 3.378476161159174e-08, 'lambda_l2': 0.7015702310382512, 'num_leaves': 138, 'feature_fraction': 0.5286521940846816, 'bagging_fraction': 0.70549851894404, 'bagging_freq': 5, 'min_child_samples': 85}. Best is trial 2 with value: 0.34686534733476093.\n",
      "[I 2025-04-30 12:02:19,470] Trial 41 finished with value: 0.3270188403753197 and parameters: {'lambda_l1': 0.0006427455747368095, 'lambda_l2': 1.5982948080181257e-05, 'num_leaves': 18, 'feature_fraction': 0.6081350541570468, 'bagging_fraction': 0.8427305620930106, 'bagging_freq': 5, 'min_child_samples': 75}. Best is trial 2 with value: 0.34686534733476093.\n",
      "[I 2025-04-30 12:02:20,159] Trial 42 finished with value: 0.32031372810690995 and parameters: {'lambda_l1': 0.00018453280023657696, 'lambda_l2': 3.236281681922488e-05, 'num_leaves': 20, 'feature_fraction': 0.6805012970514662, 'bagging_fraction': 0.8634583353646405, 'bagging_freq': 5, 'min_child_samples': 93}. Best is trial 2 with value: 0.34686534733476093.\n",
      "[I 2025-04-30 12:02:21,025] Trial 43 finished with value: 0.32113833237152 and parameters: {'lambda_l1': 0.019107426750935703, 'lambda_l2': 6.9393740801600376e-06, 'num_leaves': 32, 'feature_fraction': 0.6290024597669457, 'bagging_fraction': 0.8768911061839677, 'bagging_freq': 6, 'min_child_samples': 87}. Best is trial 2 with value: 0.34686534733476093.\n",
      "[I 2025-04-30 12:02:21,720] Trial 44 finished with value: 0.32365481842289345 and parameters: {'lambda_l1': 0.0012924595798901586, 'lambda_l2': 1.1846783153763082e-05, 'num_leaves': 17, 'feature_fraction': 0.660679787500995, 'bagging_fraction': 0.7517112136181574, 'bagging_freq': 7, 'min_child_samples': 89}. Best is trial 2 with value: 0.34686534733476093.\n",
      "[I 2025-04-30 12:02:23,027] Trial 45 finished with value: 0.326059775636941 and parameters: {'lambda_l1': 2.4123510064910203e-06, 'lambda_l2': 0.0005588055267509123, 'num_leaves': 66, 'feature_fraction': 0.7299441083787928, 'bagging_fraction': 0.7878475244203942, 'bagging_freq': 4, 'min_child_samples': 5}. Best is trial 2 with value: 0.34686534733476093.\n",
      "[I 2025-04-30 12:02:23,541] Trial 46 finished with value: 0.31553404858180945 and parameters: {'lambda_l1': 2.391920336853572e-07, 'lambda_l2': 1.1807439202510579e-06, 'num_leaves': 10, 'feature_fraction': 0.9953177540208653, 'bagging_fraction': 0.9688199219240222, 'bagging_freq': 6, 'min_child_samples': 95}. Best is trial 2 with value: 0.34686534733476093.\n",
      "[I 2025-04-30 12:02:24,360] Trial 47 finished with value: 0.31581923890276686 and parameters: {'lambda_l1': 0.0046608446580292525, 'lambda_l2': 0.00011609424342812885, 'num_leaves': 35, 'feature_fraction': 0.5877359355428154, 'bagging_fraction': 0.9122230848600082, 'bagging_freq': 5, 'min_child_samples': 77}. Best is trial 2 with value: 0.34686534733476093.\n",
      "[I 2025-04-30 12:02:25,824] Trial 48 finished with value: 0.3128651481337469 and parameters: {'lambda_l1': 3.213437527952812e-05, 'lambda_l2': 2.59629319442681e-08, 'num_leaves': 83, 'feature_fraction': 0.9265034196703917, 'bagging_fraction': 0.8173111024284666, 'bagging_freq': 1, 'min_child_samples': 59}. Best is trial 2 with value: 0.34686534733476093.\n",
      "[I 2025-04-30 12:02:26,703] Trial 49 finished with value: 0.3212907917445974 and parameters: {'lambda_l1': 6.546392746904456, 'lambda_l2': 2.9987957307182897e-07, 'num_leaves': 59, 'feature_fraction': 0.8088248689833768, 'bagging_fraction': 0.49299481453124117, 'bagging_freq': 3, 'min_child_samples': 35}. Best is trial 2 with value: 0.34686534733476093.\n",
      "[I 2025-04-30 12:02:29,415] Trial 50 finished with value: 0.30572966855434325 and parameters: {'lambda_l1': 0.0003281228787997582, 'lambda_l2': 6.140041582501809e-06, 'num_leaves': 202, 'feature_fraction': 0.5575125575895002, 'bagging_fraction': 0.9828425341444268, 'bagging_freq': 4, 'min_child_samples': 48}. Best is trial 2 with value: 0.34686534733476093.\n",
      "[I 2025-04-30 12:02:30,788] Trial 51 finished with value: 0.3265581909448827 and parameters: {'lambda_l1': 0.00042600806075903546, 'lambda_l2': 0.00027104924036733984, 'num_leaves': 106, 'feature_fraction': 0.5894728126184744, 'bagging_fraction': 0.9065626724584126, 'bagging_freq': 6, 'min_child_samples': 96}. Best is trial 2 with value: 0.34686534733476093.\n",
      "[I 2025-04-30 12:02:32,143] Trial 52 finished with value: 0.3294081593582885 and parameters: {'lambda_l1': 0.0015812015483122077, 'lambda_l2': 3.551489389102676e-05, 'num_leaves': 67, 'feature_fraction': 0.5210070125015616, 'bagging_fraction': 0.9307414940174418, 'bagging_freq': 6, 'min_child_samples': 100}. Best is trial 2 with value: 0.34686534733476093.\n",
      "[I 2025-04-30 12:02:32,925] Trial 53 finished with value: 0.32500703377176476 and parameters: {'lambda_l1': 7.671966867708722e-05, 'lambda_l2': 0.0014951789434078477, 'num_leaves': 25, 'feature_fraction': 0.6941050069011532, 'bagging_fraction': 0.8911117122749483, 'bagging_freq': 7, 'min_child_samples': 83}. Best is trial 2 with value: 0.34686534733476093.\n",
      "[I 2025-04-30 12:02:34,102] Trial 54 finished with value: 0.3290271453420478 and parameters: {'lambda_l1': 0.0006263267077935801, 'lambda_l2': 0.00011059529574048986, 'num_leaves': 42, 'feature_fraction': 0.5676601678211814, 'bagging_fraction': 0.8483905093208899, 'bagging_freq': 5, 'min_child_samples': 87}. Best is trial 2 with value: 0.34686534733476093.\n",
      "[I 2025-04-30 12:02:35,434] Trial 55 finished with value: 0.32552181363778054 and parameters: {'lambda_l1': 0.5648001094719333, 'lambda_l2': 0.00036366094076862443, 'num_leaves': 241, 'feature_fraction': 0.40152675113930586, 'bagging_fraction': 0.9425078514543156, 'bagging_freq': 7, 'min_child_samples': 95}. Best is trial 2 with value: 0.34686534733476093.\n",
      "[I 2025-04-30 12:02:36,724] Trial 56 finished with value: 0.3221963750220497 and parameters: {'lambda_l1': 1.4552819307355992e-05, 'lambda_l2': 1.996383910942811e-05, 'num_leaves': 74, 'feature_fraction': 0.6616893142781679, 'bagging_fraction': 0.8640636096543175, 'bagging_freq': 5, 'min_child_samples': 89}. Best is trial 2 with value: 0.34686534733476093.\n",
      "[I 2025-04-30 12:02:37,164] Trial 57 finished with value: 0.3307442492695962 and parameters: {'lambda_l1': 0.0075476024293242685, 'lambda_l2': 0.00017868165237527964, 'num_leaves': 11, 'feature_fraction': 0.6108579562160917, 'bagging_fraction': 0.8014333197953741, 'bagging_freq': 6, 'min_child_samples': 11}. Best is trial 2 with value: 0.34686534733476093.\n",
      "[I 2025-04-30 12:02:38,722] Trial 58 finished with value: 0.30785037213023336 and parameters: {'lambda_l1': 0.00026375250693404684, 'lambda_l2': 2.5456287008195173, 'num_leaves': 159, 'feature_fraction': 0.4730927627655239, 'bagging_fraction': 0.8336989524049062, 'bagging_freq': 2, 'min_child_samples': 80}. Best is trial 2 with value: 0.34686534733476093.\n",
      "[I 2025-04-30 12:02:39,812] Trial 59 finished with value: 0.33106200332651614 and parameters: {'lambda_l1': 0.03787721200416622, 'lambda_l2': 0.00421778384112167, 'num_leaves': 46, 'feature_fraction': 0.4417648594971731, 'bagging_fraction': 0.994820021996877, 'bagging_freq': 1, 'min_child_samples': 70}. Best is trial 2 with value: 0.34686534733476093.\n",
      "[I 2025-04-30 12:02:40,608] Trial 60 finished with value: 0.3344443140800004 and parameters: {'lambda_l1': 0.04132235986531712, 'lambda_l2': 0.48233729467709735, 'num_leaves': 39, 'feature_fraction': 0.42368325975428267, 'bagging_fraction': 0.9488541207499008, 'bagging_freq': 1, 'min_child_samples': 69}. Best is trial 2 with value: 0.34686534733476093.\n",
      "[I 2025-04-30 12:02:41,660] Trial 61 finished with value: 0.3350781580744778 and parameters: {'lambda_l1': 0.6010674916520568, 'lambda_l2': 0.380988676880219, 'num_leaves': 49, 'feature_fraction': 0.4315717921631831, 'bagging_fraction': 0.9939617004374979, 'bagging_freq': 1, 'min_child_samples': 62}. Best is trial 2 with value: 0.34686534733476093.\n",
      "[I 2025-04-30 12:02:42,585] Trial 62 finished with value: 0.3258393470676453 and parameters: {'lambda_l1': 0.6116894018893808, 'lambda_l2': 0.4623360390097342, 'num_leaves': 37, 'feature_fraction': 0.45669789272944067, 'bagging_fraction': 0.9580575355819481, 'bagging_freq': 1, 'min_child_samples': 62}. Best is trial 2 with value: 0.34686534733476093.\n",
      "[I 2025-04-30 12:02:43,410] Trial 63 finished with value: 0.3335982171275821 and parameters: {'lambda_l1': 4.032516593861464, 'lambda_l2': 3.026281525024023, 'num_leaves': 25, 'feature_fraction': 0.4122287047272372, 'bagging_fraction': 0.927082354645007, 'bagging_freq': 2, 'min_child_samples': 55}. Best is trial 2 with value: 0.34686534733476093.\n",
      "[I 2025-04-30 12:02:44,611] Trial 64 finished with value: 0.32697036770898114 and parameters: {'lambda_l1': 2.0976261704709875, 'lambda_l2': 8.56134005132129, 'num_leaves': 51, 'feature_fraction': 0.4218906927918559, 'bagging_fraction': 0.9994472243070928, 'bagging_freq': 2, 'min_child_samples': 52}. Best is trial 2 with value: 0.34686534733476093.\n",
      "[I 2025-04-30 12:02:45,047] Trial 65 finished with value: 0.2890468512544625 and parameters: {'lambda_l1': 5.414477500406355, 'lambda_l2': 2.2175546064402067, 'num_leaves': 2, 'feature_fraction': 0.43426924764176883, 'bagging_fraction': 0.9756345398445161, 'bagging_freq': 1, 'min_child_samples': 44}. Best is trial 2 with value: 0.34686534733476093.\n",
      "[I 2025-04-30 12:02:46,250] Trial 66 finished with value: 0.30907418535024167 and parameters: {'lambda_l1': 0.33034821534402525, 'lambda_l2': 0.28201680699088405, 'num_leaves': 58, 'feature_fraction': 0.4126469963332848, 'bagging_fraction': 0.9264008497847769, 'bagging_freq': 2, 'min_child_samples': 61}. Best is trial 2 with value: 0.34686534733476093.\n",
      "[I 2025-04-30 12:02:46,954] Trial 67 finished with value: 0.3349903545451155 and parameters: {'lambda_l1': 1.2016602864629313, 'lambda_l2': 2.6050111377410823, 'num_leaves': 28, 'feature_fraction': 0.48947863933944014, 'bagging_fraction': 0.9526393685056934, 'bagging_freq': 1, 'min_child_samples': 55}. Best is trial 2 with value: 0.34686534733476093.\n",
      "[I 2025-04-30 12:02:47,739] Trial 68 finished with value: 0.3241026099878076 and parameters: {'lambda_l1': 1.1306878886063578, 'lambda_l2': 4.121317391327342, 'num_leaves': 26, 'feature_fraction': 0.48976706970716316, 'bagging_fraction': 0.9519532756789533, 'bagging_freq': 1, 'min_child_samples': 56}. Best is trial 2 with value: 0.34686534733476093.\n",
      "[I 2025-04-30 12:02:48,350] Trial 69 finished with value: 0.3215819119126516 and parameters: {'lambda_l1': 3.193676699925984, 'lambda_l2': 1.444850146539451, 'num_leaves': 14, 'feature_fraction': 0.45787251708541504, 'bagging_fraction': 0.9858222333974058, 'bagging_freq': 1, 'min_child_samples': 40}. Best is trial 2 with value: 0.34686534733476093.\n",
      "[I 2025-04-30 12:02:49,644] Trial 70 finished with value: 0.3328049222074778 and parameters: {'lambda_l1': 3.460234615848804, 'lambda_l2': 0.20008277975842303, 'num_leaves': 180, 'feature_fraction': 0.4241656347478411, 'bagging_fraction': 0.9692773272590378, 'bagging_freq': 2, 'min_child_samples': 48}. Best is trial 2 with value: 0.34686534733476093.\n",
      "[I 2025-04-30 12:02:51,206] Trial 71 finished with value: 0.331265800673226 and parameters: {'lambda_l1': 4.31499414536384, 'lambda_l2': 0.2521281641967291, 'num_leaves': 189, 'feature_fraction': 0.4257092633424215, 'bagging_fraction': 0.9631659468947313, 'bagging_freq': 2, 'min_child_samples': 64}. Best is trial 2 with value: 0.34686534733476093.\n",
      "[I 2025-04-30 12:02:52,230] Trial 72 finished with value: 0.3262221547904859 and parameters: {'lambda_l1': 9.48502612358928, 'lambda_l2': 0.03943047257961279, 'num_leaves': 165, 'feature_fraction': 0.4813631744219933, 'bagging_fraction': 0.9403459362336829, 'bagging_freq': 2, 'min_child_samples': 56}. Best is trial 2 with value: 0.34686534733476093.\n",
      "[I 2025-04-30 12:02:54,290] Trial 73 finished with value: 0.30943820493985175 and parameters: {'lambda_l1': 0.0941515156424916, 'lambda_l2': 1.5516583864557258, 'num_leaves': 177, 'feature_fraction': 0.4005349531976737, 'bagging_fraction': 0.9258303167593132, 'bagging_freq': 1, 'min_child_samples': 48}. Best is trial 2 with value: 0.34686534733476093.\n",
      "[I 2025-04-30 12:02:57,500] Trial 74 finished with value: 0.3032077950782037 and parameters: {'lambda_l1': 0.3579163747723947, 'lambda_l2': 0.6517841078580462, 'num_leaves': 204, 'feature_fraction': 0.4551491426355995, 'bagging_fraction': 0.9815496116064663, 'bagging_freq': 1, 'min_child_samples': 25}. Best is trial 2 with value: 0.34686534733476093.\n",
      "[I 2025-04-30 12:02:59,160] Trial 75 finished with value: 0.3268799775196346 and parameters: {'lambda_l1': 1.7987305268983715, 'lambda_l2': 3.692189809756061, 'num_leaves': 128, 'feature_fraction': 0.44121160118525193, 'bagging_fraction': 0.9539138054542364, 'bagging_freq': 1, 'min_child_samples': 54}. Best is trial 2 with value: 0.34686534733476093.\n",
      "[I 2025-04-30 12:03:00,155] Trial 76 finished with value: 0.3261891132853687 and parameters: {'lambda_l1': 1.0427372213771378, 'lambda_l2': 0.9208272428628999, 'num_leaves': 39, 'feature_fraction': 0.5056010709134833, 'bagging_fraction': 0.910226479630987, 'bagging_freq': 3, 'min_child_samples': 66}. Best is trial 2 with value: 0.34686534733476093.\n",
      "[I 2025-04-30 12:03:02,893] Trial 77 finished with value: 0.31691207560314105 and parameters: {'lambda_l1': 0.3086438902743547, 'lambda_l2': 8.985111325154277, 'num_leaves': 211, 'feature_fraction': 0.41824824626509843, 'bagging_fraction': 0.8953785776934948, 'bagging_freq': 2, 'min_child_samples': 17}. Best is trial 2 with value: 0.34686534733476093.\n",
      "[I 2025-04-30 12:03:04,379] Trial 78 finished with value: 0.32101140288786045 and parameters: {'lambda_l1': 3.55467525882953, 'lambda_l2': 0.1181357106669624, 'num_leaves': 138, 'feature_fraction': 0.5134680001418052, 'bagging_fraction': 0.9718496540033501, 'bagging_freq': 1, 'min_child_samples': 58}. Best is trial 2 with value: 0.34686534733476093.\n",
      "[I 2025-04-30 12:03:05,468] Trial 79 finished with value: 0.3273390634620106 and parameters: {'lambda_l1': 0.080701330700327, 'lambda_l2': 0.03846095183335769, 'num_leaves': 49, 'feature_fraction': 0.4671400517539644, 'bagging_fraction': 0.9996988472686436, 'bagging_freq': 2, 'min_child_samples': 70}. Best is trial 2 with value: 0.34686534733476093.\n",
      "[I 2025-04-30 12:03:06,636] Trial 80 finished with value: 0.308623668644749 and parameters: {'lambda_l1': 1.2021284813728819, 'lambda_l2': 0.3103041601110436, 'num_leaves': 62, 'feature_fraction': 0.4407170053661512, 'bagging_fraction': 0.9451900026251514, 'bagging_freq': 1, 'min_child_samples': 48}. Best is trial 2 with value: 0.34686534733476093.\n",
      "[I 2025-04-30 12:03:07,652] Trial 81 finished with value: 0.3240582818347312 and parameters: {'lambda_l1': 0.019795798204453978, 'lambda_l2': 4.833885385438228, 'num_leaves': 30, 'feature_fraction': 0.4270580471258592, 'bagging_fraction': 0.9185883160129622, 'bagging_freq': 3, 'min_child_samples': 63}. Best is trial 2 with value: 0.34686534733476093.\n",
      "[I 2025-04-30 12:03:08,212] Trial 82 finished with value: 0.30344389177741726 and parameters: {'lambda_l1': 2.4850476457907917, 'lambda_l2': 2.5540857099894207, 'num_leaves': 8, 'feature_fraction': 0.4129917746853474, 'bagging_fraction': 0.885902334860054, 'bagging_freq': 1, 'min_child_samples': 52}. Best is trial 2 with value: 0.34686534733476093.\n",
      "[I 2025-04-30 12:03:09,022] Trial 83 finished with value: 0.3222351167627532 and parameters: {'lambda_l1': 0.671239300624422, 'lambda_l2': 1.0562872531265224, 'num_leaves': 28, 'feature_fraction': 0.49432461842345743, 'bagging_fraction': 0.9678985064495234, 'bagging_freq': 2, 'min_child_samples': 73}. Best is trial 2 with value: 0.34686534733476093.\n",
      "[I 2025-04-30 12:03:10,033] Trial 84 finished with value: 0.3318119709504328 and parameters: {'lambda_l1': 0.16805856371999273, 'lambda_l2': 0.01834165670686106, 'num_leaves': 42, 'feature_fraction': 0.5399508856880766, 'bagging_fraction': 0.6402686799448198, 'bagging_freq': 2, 'min_child_samples': 58}. Best is trial 2 with value: 0.34686534733476093.\n",
      "[I 2025-04-30 12:03:10,751] Trial 85 finished with value: 0.3254972126469775 and parameters: {'lambda_l1': 4.8693959928935575, 'lambda_l2': 2.9428958917437206e-06, 'num_leaves': 22, 'feature_fraction': 0.4526700419233121, 'bagging_fraction': 0.9355756883439216, 'bagging_freq': 1, 'min_child_samples': 68}. Best is trial 2 with value: 0.34686534733476093.\n",
      "[I 2025-04-30 12:03:11,628] Trial 86 finished with value: 0.32357130266871004 and parameters: {'lambda_l1': 9.832203429351198, 'lambda_l2': 0.5268250484686721, 'num_leaves': 188, 'feature_fraction': 0.48025837103474633, 'bagging_fraction': 0.8765801794502283, 'bagging_freq': 3, 'min_child_samples': 50}. Best is trial 2 with value: 0.34686534733476093.\n",
      "[I 2025-04-30 12:03:12,579] Trial 87 finished with value: 0.3244649989587418 and parameters: {'lambda_l1': 0.010623207840823157, 'lambda_l2': 0.10864272739911009, 'num_leaves': 38, 'feature_fraction': 0.6351564511751505, 'bagging_fraction': 0.903376765554711, 'bagging_freq': 4, 'min_child_samples': 36}. Best is trial 2 with value: 0.34686534733476093.\n",
      "[I 2025-04-30 12:03:13,960] Trial 88 finished with value: 0.31222817583882634 and parameters: {'lambda_l1': 0.003408646317332608, 'lambda_l2': 1.5533891929716528, 'num_leaves': 52, 'feature_fraction': 0.43459143202390443, 'bagging_fraction': 0.9526976870240886, 'bagging_freq': 2, 'min_child_samples': 40}. Best is trial 2 with value: 0.34686534733476093.\n",
      "[I 2025-04-30 12:03:16,048] Trial 89 finished with value: 0.3120070062610222 and parameters: {'lambda_l1': 1.5119305487294905, 'lambda_l2': 5.403013790640103e-05, 'num_leaves': 170, 'feature_fraction': 0.4126965980914181, 'bagging_fraction': 0.9869122165313137, 'bagging_freq': 1, 'min_child_samples': 31}. Best is trial 2 with value: 0.34686534733476093.\n",
      "[I 2025-04-30 12:03:17,482] Trial 90 finished with value: 0.3291717325898019 and parameters: {'lambda_l1': 0.11086753942333703, 'lambda_l2': 5.578833108435757, 'num_leaves': 158, 'feature_fraction': 0.7094826614433023, 'bagging_fraction': 0.9246695772158027, 'bagging_freq': 2, 'min_child_samples': 84}. Best is trial 2 with value: 0.34686534733476093.\n",
      "[I 2025-04-30 12:03:18,397] Trial 91 finished with value: 0.33265021348709845 and parameters: {'lambda_l1': 0.5098003489262894, 'lambda_l2': 0.016087539782016595, 'num_leaves': 31, 'feature_fraction': 0.5577225084347064, 'bagging_fraction': 0.6552942923384772, 'bagging_freq': 2, 'min_child_samples': 58}. Best is trial 2 with value: 0.34686534733476093.\n",
      "[I 2025-04-30 12:03:19,498] Trial 92 finished with value: 0.33171440107992545 and parameters: {'lambda_l1': 0.8213188446759988, 'lambda_l2': 0.1766329026778481, 'num_leaves': 33, 'feature_fraction': 0.6320849746830349, 'bagging_fraction': 0.6632394779775908, 'bagging_freq': 2, 'min_child_samples': 60}. Best is trial 2 with value: 0.34686534733476093.\n",
      "[I 2025-04-30 12:03:20,046] Trial 93 finished with value: 0.33746996184693057 and parameters: {'lambda_l1': 0.4954389472916474, 'lambda_l2': 1.0563863322381356e-05, 'num_leaves': 17, 'feature_fraction': 0.5559484573131951, 'bagging_fraction': 0.695722462177456, 'bagging_freq': 1, 'min_child_samples': 54}. Best is trial 2 with value: 0.34686534733476093.\n",
      "[I 2025-04-30 12:03:20,720] Trial 94 finished with value: 0.3264939565300484 and parameters: {'lambda_l1': 0.4978677733282695, 'lambda_l2': 0.4192637403450433, 'num_leaves': 18, 'feature_fraction': 0.5635217642004196, 'bagging_fraction': 0.7176165052563146, 'bagging_freq': 1, 'min_child_samples': 54}. Best is trial 2 with value: 0.34686534733476093.\n",
      "[I 2025-04-30 12:03:21,434] Trial 95 finished with value: 0.3307695415959788 and parameters: {'lambda_l1': 2.4299137898919554, 'lambda_l2': 0.06992985185848416, 'num_leaves': 21, 'feature_fraction': 0.5278716044914348, 'bagging_fraction': 0.609516129772063, 'bagging_freq': 1, 'min_child_samples': 44}. Best is trial 2 with value: 0.34686534733476093.\n",
      "[I 2025-04-30 12:03:21,897] Trial 96 finished with value: 0.30992687496213034 and parameters: {'lambda_l1': 0.1920962450112784, 'lambda_l2': 9.804946250812779e-06, 'num_leaves': 8, 'feature_fraction': 0.6541375691381454, 'bagging_fraction': 0.6911969879821278, 'bagging_freq': 1, 'min_child_samples': 65}. Best is trial 2 with value: 0.34686534733476093.\n",
      "[I 2025-04-30 12:03:22,556] Trial 97 finished with value: 0.31910185557511106 and parameters: {'lambda_l1': 6.156270866793198, 'lambda_l2': 0.013626207000263093, 'num_leaves': 29, 'feature_fraction': 0.5483332132035637, 'bagging_fraction': 0.7293538267513858, 'bagging_freq': 2, 'min_child_samples': 54}. Best is trial 2 with value: 0.34686534733476093.\n",
      "[I 2025-04-30 12:03:23,897] Trial 98 finished with value: 0.3207913425755671 and parameters: {'lambda_l1': 0.4816239406042317, 'lambda_l2': 3.1609647379173085, 'num_leaves': 197, 'feature_fraction': 0.6215025868232882, 'bagging_fraction': 0.5973056727069642, 'bagging_freq': 1, 'min_child_samples': 46}. Best is trial 2 with value: 0.34686534733476093.\n",
      "[I 2025-04-30 12:03:24,623] Trial 99 finished with value: 0.31456986835264145 and parameters: {'lambda_l1': 0.2601911279034506, 'lambda_l2': 0.8746160132559347, 'num_leaves': 15, 'feature_fraction': 0.5988217502532097, 'bagging_fraction': 0.6644998286091212, 'bagging_freq': 1, 'min_child_samples': 59}. Best is trial 2 with value: 0.34686534733476093.\n",
      "[I 2025-04-30 12:03:26,143] Trial 100 finished with value: 0.3038785990434896 and parameters: {'lambda_l1': 0.9263039643826569, 'lambda_l2': 1.944312892052513e-06, 'num_leaves': 79, 'feature_fraction': 0.4687839097140392, 'bagging_fraction': 0.5711135256670103, 'bagging_freq': 3, 'min_child_samples': 10}. Best is trial 2 with value: 0.34686534733476093.\n",
      "[I 2025-04-30 12:03:27,060] Trial 101 finished with value: 0.33029962712869565 and parameters: {'lambda_l1': 0.06682724810024325, 'lambda_l2': 3.2789366971521415e-05, 'num_leaves': 36, 'feature_fraction': 0.5787384235470869, 'bagging_fraction': 0.6500660239215185, 'bagging_freq': 2, 'min_child_samples': 92}. Best is trial 2 with value: 0.34686534733476093.\n",
      "[I 2025-04-30 12:03:28,154] Trial 102 finished with value: 0.3394569251920908 and parameters: {'lambda_l1': 0.02532628036851348, 'lambda_l2': 6.597230367153497e-06, 'num_leaves': 45, 'feature_fraction': 0.6715926192670614, 'bagging_fraction': 0.7025400152498528, 'bagging_freq': 1, 'min_child_samples': 56}. Best is trial 2 with value: 0.34686534733476093.\n",
      "[I 2025-04-30 12:03:29,078] Trial 103 finished with value: 0.32557093934474746 and parameters: {'lambda_l1': 3.294688651802952, 'lambda_l2': 1.0111180447249923e-05, 'num_leaves': 46, 'feature_fraction': 0.690628858616072, 'bagging_fraction': 0.6879792213059437, 'bagging_freq': 1, 'min_child_samples': 57}. Best is trial 2 with value: 0.34686534733476093.\n",
      "[I 2025-04-30 12:03:29,743] Trial 104 finished with value: 0.3310415993639336 and parameters: {'lambda_l1': 1.3098679940182016, 'lambda_l2': 5.291022656147964e-06, 'num_leaves': 24, 'feature_fraction': 0.6501789448407987, 'bagging_fraction': 0.5060187836702736, 'bagging_freq': 1, 'min_child_samples': 20}. Best is trial 2 with value: 0.34686534733476093.\n",
      "[I 2025-04-30 12:03:31,073] Trial 105 finished with value: 0.32523002859910577 and parameters: {'lambda_l1': 0.028031354286594163, 'lambda_l2': 1.1657998881159225e-06, 'num_leaves': 89, 'feature_fraction': 0.4013090897206089, 'bagging_fraction': 0.7601775902027494, 'bagging_freq': 1, 'min_child_samples': 50}. Best is trial 2 with value: 0.34686534733476093.\n",
      "[I 2025-04-30 12:03:32,468] Trial 106 finished with value: 0.3143730867498534 and parameters: {'lambda_l1': 0.052361655438547774, 'lambda_l2': 1.8049942388200968, 'num_leaves': 224, 'feature_fraction': 0.7403517704332861, 'bagging_fraction': 0.6987134752380494, 'bagging_freq': 1, 'min_child_samples': 62}. Best is trial 2 with value: 0.34686534733476093.\n",
      "[I 2025-04-30 12:03:33,329] Trial 107 finished with value: 0.3127751981054019 and parameters: {'lambda_l1': 7.000594491391676, 'lambda_l2': 5.191598349179616e-06, 'num_leaves': 181, 'feature_fraction': 0.6743969915670098, 'bagging_fraction': 0.7264599459399618, 'bagging_freq': 2, 'min_child_samples': 54}. Best is trial 2 with value: 0.34686534733476093.\n",
      "[I 2025-04-30 12:03:34,213] Trial 108 finished with value: 0.3297479405013227 and parameters: {'lambda_l1': 1.83285712475691, 'lambda_l2': 0.19542563488926915, 'num_leaves': 42, 'feature_fraction': 0.42984450290853443, 'bagging_fraction': 0.464245788683062, 'bagging_freq': 1, 'min_child_samples': 56}. Best is trial 2 with value: 0.34686534733476093.\n",
      "[I 2025-04-30 12:03:35,207] Trial 109 finished with value: 0.32632903525873846 and parameters: {'lambda_l1': 0.433385494207712, 'lambda_l2': 3.5118531130059206e-06, 'num_leaves': 114, 'feature_fraction': 0.44832422196521626, 'bagging_fraction': 0.6328154916463171, 'bagging_freq': 1, 'min_child_samples': 98}. Best is trial 2 with value: 0.34686534733476093.\n",
      "[I 2025-04-30 12:03:36,374] Trial 110 finished with value: 0.320587673996237 and parameters: {'lambda_l1': 0.24697701089860685, 'lambda_l2': 9.879827669318459, 'num_leaves': 53, 'feature_fraction': 0.4892703139108471, 'bagging_fraction': 0.9859111343101983, 'bagging_freq': 2, 'min_child_samples': 61}. Best is trial 2 with value: 0.34686534733476093.\n",
      "[I 2025-04-30 12:03:37,227] Trial 111 finished with value: 0.32772985686717915 and parameters: {'lambda_l1': 0.0021920796513794105, 'lambda_l2': 1.9572261356229798e-05, 'num_leaves': 33, 'feature_fraction': 0.5967376741975444, 'bagging_fraction': 0.8602712664217472, 'bagging_freq': 3, 'min_child_samples': 94}. Best is trial 2 with value: 0.34686534733476093.\n",
      "[I 2025-04-30 12:03:38,521] Trial 112 finished with value: 0.33214764623759685 and parameters: {'lambda_l1': 0.0011599778315985138, 'lambda_l2': 2.2498863490283068e-05, 'num_leaves': 63, 'feature_fraction': 0.6693207010010634, 'bagging_fraction': 0.9630871417427334, 'bagging_freq': 1, 'min_child_samples': 91}. Best is trial 2 with value: 0.34686534733476093.\n",
      "[I 2025-04-30 12:03:39,694] Trial 113 finished with value: 0.3227241689734408 and parameters: {'lambda_l1': 0.00017804238451037797, 'lambda_l2': 6.210027857104949, 'num_leaves': 63, 'feature_fraction': 0.667417331479612, 'bagging_fraction': 0.9684369797170662, 'bagging_freq': 1, 'min_child_samples': 97}. Best is trial 2 with value: 0.34686534733476093.\n",
      "[I 2025-04-30 12:03:40,736] Trial 114 finished with value: 0.3262768127528335 and parameters: {'lambda_l1': 0.0010629630503672567, 'lambda_l2': 6.740717208935707e-07, 'num_leaves': 47, 'feature_fraction': 0.7114864938063228, 'bagging_fraction': 0.9549477547703255, 'bagging_freq': 1, 'min_child_samples': 64}. Best is trial 2 with value: 0.34686534733476093.\n",
      "[I 2025-04-30 12:03:41,940] Trial 115 finished with value: 0.3273126479061591 and parameters: {'lambda_l1': 0.0005806501635523884, 'lambda_l2': 8.131837383559053e-06, 'num_leaves': 58, 'feature_fraction': 0.5085082851898827, 'bagging_fraction': 0.9788919695575202, 'bagging_freq': 1, 'min_child_samples': 77}. Best is trial 2 with value: 0.34686534733476093.\n",
      "[I 2025-04-30 12:03:43,297] Trial 116 finished with value: 0.3178342801580888 and parameters: {'lambda_l1': 9.394170248389858e-05, 'lambda_l2': 1.554687589990952e-05, 'num_leaves': 71, 'feature_fraction': 0.6877494923316392, 'bagging_fraction': 0.6746305873030223, 'bagging_freq': 2, 'min_child_samples': 49}. Best is trial 2 with value: 0.34686534733476093.\n",
      "[I 2025-04-30 12:03:43,860] Trial 117 finished with value: 0.3299847672303968 and parameters: {'lambda_l1': 0.7893345357318425, 'lambda_l2': 7.448153432012938e-05, 'num_leaves': 12, 'feature_fraction': 0.6433440058953083, 'bagging_fraction': 0.9354646475535525, 'bagging_freq': 1, 'min_child_samples': 91}. Best is trial 2 with value: 0.34686534733476093.\n",
      "[I 2025-04-30 12:03:44,740] Trial 118 finished with value: 0.3154949676214489 and parameters: {'lambda_l1': 0.007147539385453407, 'lambda_l2': 0.06803077965438728, 'num_leaves': 40, 'feature_fraction': 0.41376055300124726, 'bagging_fraction': 0.9921078093358425, 'bagging_freq': 1, 'min_child_samples': 100}. Best is trial 2 with value: 0.34686534733476093.\n",
      "[I 2025-04-30 12:03:45,530] Trial 119 finished with value: 0.3325603888626306 and parameters: {'lambda_l1': 0.1219960974629684, 'lambda_l2': 1.181843543467086, 'num_leaves': 27, 'feature_fraction': 0.42428443359781126, 'bagging_fraction': 0.9600667581076154, 'bagging_freq': 2, 'min_child_samples': 51}. Best is trial 2 with value: 0.34686534733476093.\n",
      "[I 2025-04-30 12:03:46,383] Trial 120 finished with value: 0.32562993705073473 and parameters: {'lambda_l1': 3.705352449412959, 'lambda_l2': 1.1205708443739708, 'num_leaves': 27, 'feature_fraction': 0.42131910904366937, 'bagging_fraction': 0.9449859795067121, 'bagging_freq': 2, 'min_child_samples': 53}. Best is trial 2 with value: 0.34686534733476093.\n",
      "[I 2025-04-30 12:03:47,091] Trial 121 finished with value: 0.32204705624471064 and parameters: {'lambda_l1': 0.03032419283104211, 'lambda_l2': 0.34392245070486427, 'num_leaves': 21, 'feature_fraction': 0.4389164035600168, 'bagging_fraction': 0.9638185522825534, 'bagging_freq': 2, 'min_child_samples': 51}. Best is trial 2 with value: 0.34686534733476093.\n",
      "[I 2025-04-30 12:03:47,570] Trial 122 finished with value: 0.3034431986363709 and parameters: {'lambda_l1': 0.1644490220809616, 'lambda_l2': 2.461410868085004, 'num_leaves': 6, 'feature_fraction': 0.46513787991408057, 'bagging_fraction': 0.9733321425324537, 'bagging_freq': 2, 'min_child_samples': 47}. Best is trial 2 with value: 0.34686534733476093.\n",
      "[I 2025-04-30 12:03:48,677] Trial 123 finished with value: 0.335976496370034 and parameters: {'lambda_l1': 4.4805026712006293e-05, 'lambda_l2': 0.7058755652444801, 'num_leaves': 55, 'feature_fraction': 0.6224859112199256, 'bagging_fraction': 0.9574264591147844, 'bagging_freq': 1, 'min_child_samples': 56}. Best is trial 2 with value: 0.34686534733476093.\n",
      "[I 2025-04-30 12:03:49,517] Trial 124 finished with value: 0.32253472062237265 and parameters: {'lambda_l1': 0.1366418454669212, 'lambda_l2': 0.6558419134727533, 'num_leaves': 32, 'feature_fraction': 0.4302086154159321, 'bagging_fraction': 0.9159385570331303, 'bagging_freq': 2, 'min_child_samples': 60}. Best is trial 2 with value: 0.34686534733476093.\n",
      "[I 2025-04-30 12:03:50,576] Trial 125 finished with value: 0.3332031865210866 and parameters: {'lambda_l1': 6.638825525011286e-05, 'lambda_l2': 0.5095473589456739, 'num_leaves': 52, 'feature_fraction': 0.6220361130458618, 'bagging_fraction': 0.9022680879717988, 'bagging_freq': 1, 'min_child_samples': 55}. Best is trial 2 with value: 0.34686534733476093.\n",
      "[I 2025-04-30 12:03:51,838] Trial 126 finished with value: 0.3235836578117708 and parameters: {'lambda_l1': 4.886066104092296e-05, 'lambda_l2': 0.4634477680526857, 'num_leaves': 56, 'feature_fraction': 0.6307688113282542, 'bagging_fraction': 0.9027796620286084, 'bagging_freq': 1, 'min_child_samples': 57}. Best is trial 2 with value: 0.34686534733476093.\n",
      "[I 2025-04-30 12:03:52,771] Trial 127 finished with value: 0.31668141304177433 and parameters: {'lambda_l1': 5.709142959866122e-05, 'lambda_l2': 0.21928758024875836, 'num_leaves': 49, 'feature_fraction': 0.5714424625978481, 'bagging_fraction': 0.7096800186231074, 'bagging_freq': 1, 'min_child_samples': 55}. Best is trial 2 with value: 0.34686534733476093.\n",
      "[I 2025-04-30 12:03:53,434] Trial 128 finished with value: 0.3327507886618227 and parameters: {'lambda_l1': 4.899875116479863e-06, 'lambda_l2': 1.019627039140028, 'num_leaves': 17, 'feature_fraction': 0.6171180315403275, 'bagging_fraction': 0.9290880900423095, 'bagging_freq': 1, 'min_child_samples': 42}. Best is trial 2 with value: 0.34686534733476093.\n",
      "[I 2025-04-30 12:03:54,020] Trial 129 finished with value: 0.32509189110276837 and parameters: {'lambda_l1': 1.6491924333704143e-07, 'lambda_l2': 1.0846984870943583, 'num_leaves': 15, 'feature_fraction': 0.591322325034507, 'bagging_fraction': 0.9299625550633899, 'bagging_freq': 1, 'min_child_samples': 45}. Best is trial 2 with value: 0.34686534733476093.\n",
      "[I 2025-04-30 12:03:54,927] Trial 130 finished with value: 0.33381905424725644 and parameters: {'lambda_l1': 1.8404056357928175e-06, 'lambda_l2': 1.8621509348966243, 'num_leaves': 37, 'feature_fraction': 0.6223101264429743, 'bagging_fraction': 0.9446234780256122, 'bagging_freq': 1, 'min_child_samples': 53}. Best is trial 2 with value: 0.34686534733476093.\n",
      "[I 2025-04-30 12:03:55,851] Trial 131 finished with value: 0.33585407796399325 and parameters: {'lambda_l1': 3.7289330038378346e-06, 'lambda_l2': 0.7515729592882158, 'num_leaves': 39, 'feature_fraction': 0.6123835214405801, 'bagging_fraction': 0.9449867810410979, 'bagging_freq': 1, 'min_child_samples': 42}. Best is trial 2 with value: 0.34686534733476093.\n",
      "[I 2025-04-30 12:03:57,039] Trial 132 finished with value: 0.3244898572424405 and parameters: {'lambda_l1': 3.1594445987712595e-06, 'lambda_l2': 0.6622860173301465, 'num_leaves': 43, 'feature_fraction': 0.6216259512147578, 'bagging_fraction': 0.9482853414394307, 'bagging_freq': 1, 'min_child_samples': 52}. Best is trial 2 with value: 0.34686534733476093.\n",
      "[I 2025-04-30 12:03:57,989] Trial 133 finished with value: 0.3172696163340194 and parameters: {'lambda_l1': 1.2551529812210211e-05, 'lambda_l2': 2.0676848846424565, 'num_leaves': 39, 'feature_fraction': 0.6095144603602236, 'bagging_fraction': 0.9381468079990839, 'bagging_freq': 1, 'min_child_samples': 40}. Best is trial 2 with value: 0.34686534733476093.\n",
      "[I 2025-04-30 12:03:58,865] Trial 134 finished with value: 0.3222796298121614 and parameters: {'lambda_l1': 6.74447137288629e-06, 'lambda_l2': 0.35262829656888434, 'num_leaves': 36, 'feature_fraction': 0.6180484341758116, 'bagging_fraction': 0.9229891976510638, 'bagging_freq': 1, 'min_child_samples': 58}. Best is trial 2 with value: 0.34686534733476093.\n",
      "[I 2025-04-30 12:03:59,959] Trial 135 finished with value: 0.3187836565020207 and parameters: {'lambda_l1': 5.757072193020275e-07, 'lambda_l2': 0.13262682693996952, 'num_leaves': 51, 'feature_fraction': 0.5542029901402644, 'bagging_fraction': 0.8886246723478689, 'bagging_freq': 1, 'min_child_samples': 41}. Best is trial 2 with value: 0.34686534733476093.\n",
      "[I 2025-04-30 12:04:02,773] Trial 136 finished with value: 0.2989640799502663 and parameters: {'lambda_l1': 1.4309580025762317e-06, 'lambda_l2': 1.6821766364241268, 'num_leaves': 244, 'feature_fraction': 0.5995893461058724, 'bagging_fraction': 0.9200301778917432, 'bagging_freq': 1, 'min_child_samples': 43}. Best is trial 2 with value: 0.34686534733476093.\n",
      "[I 2025-04-30 12:04:03,941] Trial 137 finished with value: 0.32267206352475597 and parameters: {'lambda_l1': 6.629565889484887e-06, 'lambda_l2': 0.462912355420405, 'num_leaves': 55, 'feature_fraction': 0.5844585229749428, 'bagging_fraction': 0.9453279459672362, 'bagging_freq': 1, 'min_child_samples': 55}. Best is trial 2 with value: 0.34686534733476093.\n",
      "[I 2025-04-30 12:04:05,225] Trial 138 finished with value: 0.3232762935018485 and parameters: {'lambda_l1': 2.417089989532966e-06, 'lambda_l2': 3.4370917396437033, 'num_leaves': 45, 'feature_fraction': 0.6525558081969778, 'bagging_fraction': 0.9776890103165887, 'bagging_freq': 1, 'min_child_samples': 38}. Best is trial 2 with value: 0.34686534733476093.\n",
      "[I 2025-04-30 12:04:06,010] Trial 139 finished with value: 0.3235921626400825 and parameters: {'lambda_l1': 9.549071735206015e-07, 'lambda_l2': 0.7342888092795247, 'num_leaves': 22, 'feature_fraction': 0.6395917256630014, 'bagging_fraction': 0.9031725762354376, 'bagging_freq': 1, 'min_child_samples': 59}. Best is trial 2 with value: 0.34686534733476093.\n",
      "[I 2025-04-30 12:04:06,818] Trial 140 finished with value: 0.3326781013517267 and parameters: {'lambda_l1': 4.055691677907161e-07, 'lambda_l2': 0.2644768842329538, 'num_leaves': 30, 'feature_fraction': 0.6317568822104838, 'bagging_fraction': 0.6538932230565425, 'bagging_freq': 1, 'min_child_samples': 49}. Best is trial 2 with value: 0.34686534733476093.\n",
      "[I 2025-04-30 12:04:07,626] Trial 141 finished with value: 0.33802226310768435 and parameters: {'lambda_l1': 3.479224245629792e-07, 'lambda_l2': 0.2775797164856946, 'num_leaves': 31, 'feature_fraction': 0.6221661102494892, 'bagging_fraction': 0.6476408042695659, 'bagging_freq': 1, 'min_child_samples': 49}. Best is trial 2 with value: 0.34686534733476093.\n",
      "[I 2025-04-30 12:04:08,465] Trial 142 finished with value: 0.3248101237824952 and parameters: {'lambda_l1': 2.863385609755958e-07, 'lambda_l2': 0.14980796558825715, 'num_leaves': 36, 'feature_fraction': 0.6255440883686963, 'bagging_fraction': 0.5981611528524098, 'bagging_freq': 1, 'min_child_samples': 46}. Best is trial 2 with value: 0.34686534733476093.\n",
      "[I 2025-04-30 12:04:09,079] Trial 143 finished with value: 0.32415964646145 and parameters: {'lambda_l1': 7.87956597129382e-08, 'lambda_l2': 0.2654090199426585, 'num_leaves': 19, 'feature_fraction': 0.6132246898241471, 'bagging_fraction': 0.6516220901949827, 'bagging_freq': 1, 'min_child_samples': 50}. Best is trial 2 with value: 0.34686534733476093.\n",
      "[I 2025-04-30 12:04:09,775] Trial 144 finished with value: 0.3247085357867514 and parameters: {'lambda_l1': 3.6782877667511055e-06, 'lambda_l2': 0.9041778972888946, 'num_leaves': 27, 'feature_fraction': 0.6068166156477255, 'bagging_fraction': 0.7350227169047142, 'bagging_freq': 1, 'min_child_samples': 53}. Best is trial 2 with value: 0.34686534733476093.\n",
      "[I 2025-04-30 12:04:10,680] Trial 145 finished with value: 0.3402931463591776 and parameters: {'lambda_l1': 4.5537318695998225e-07, 'lambda_l2': 0.5495771299975454, 'num_leaves': 44, 'feature_fraction': 0.6297304371377809, 'bagging_fraction': 0.6827782734244167, 'bagging_freq': 1, 'min_child_samples': 48}. Best is trial 2 with value: 0.34686534733476093.\n",
      "[I 2025-04-30 12:04:11,962] Trial 146 finished with value: 0.31575623510887896 and parameters: {'lambda_l1': 1.4469503695339792e-06, 'lambda_l2': 0.6928805081880104, 'num_leaves': 69, 'feature_fraction': 0.601859978288741, 'bagging_fraction': 0.6696013459681243, 'bagging_freq': 1, 'min_child_samples': 46}. Best is trial 2 with value: 0.34686534733476093.\n",
      "[I 2025-04-30 12:04:13,004] Trial 147 finished with value: 0.33345923086578844 and parameters: {'lambda_l1': 2.4319070699880004e-05, 'lambda_l2': 0.09343472423883868, 'num_leaves': 44, 'feature_fraction': 0.6447706362308119, 'bagging_fraction': 0.9339091214661849, 'bagging_freq': 1, 'min_child_samples': 72}. Best is trial 2 with value: 0.34686534733476093.\n",
      "[I 2025-04-30 12:04:14,115] Trial 148 finished with value: 0.3150644872359437 and parameters: {'lambda_l1': 3.0515309777344206e-05, 'lambda_l2': 0.07714258996800408, 'num_leaves': 45, 'feature_fraction': 0.6473175160920914, 'bagging_fraction': 0.7685340108438676, 'bagging_freq': 1, 'min_child_samples': 66}. Best is trial 2 with value: 0.34686534733476093.\n",
      "[I 2025-04-30 12:04:15,233] Trial 149 finished with value: 0.3352779586503175 and parameters: {'lambda_l1': 1.824937088743512e-05, 'lambda_l2': 0.4556180166531739, 'num_leaves': 52, 'feature_fraction': 0.6582562331211159, 'bagging_fraction': 0.6849376598160966, 'bagging_freq': 1, 'min_child_samples': 72}. Best is trial 2 with value: 0.34686534733476093.\n"
     ]
    }
   ],
   "source": [
    "#Defino el estudio a optimizar\n",
    "study = optuna.create_study(direction='maximize', #buscamos maximizar la metrica\n",
    "                            storage=\"sqlite:///../work/db.sqlite3\",  # Specify the storage URL here.\n",
    "                            study_name=\"04 - LGB Multiclass\", #nombre del experimento\n",
    "                            load_if_exists=True) #continuar si ya existe\n",
    "\n",
    "#Corremos 100 trials para buscar mejores parametros\n",
    "study.optimize(lgb_objective, n_trials=150)"
   ]
  },
  {
   "cell_type": "code",
   "execution_count": 15,
   "id": "f9697749",
   "metadata": {},
   "outputs": [
    {
     "data": {
      "text/plain": [
       "{'lambda_l1': 0.0007687278335298546,\n",
       " 'lambda_l2': 6.429723366440112e-06,\n",
       " 'num_leaves': 74,\n",
       " 'feature_fraction': 0.6257986310071927,\n",
       " 'bagging_fraction': 0.8339989652840559,\n",
       " 'bagging_freq': 1,\n",
       " 'min_child_samples': 9}"
      ]
     },
     "execution_count": 15,
     "metadata": {},
     "output_type": "execute_result"
    }
   ],
   "source": [
    "#Obtenemos mejor resultado\n",
    "study.best_params"
   ]
  },
  {
   "cell_type": "code",
   "execution_count": 16,
   "id": "b0db9f91",
   "metadata": {},
   "outputs": [
    {
     "name": "stdout",
     "output_type": "stream",
     "text": [
      "0.34686534733476093\n"
     ]
    },
    {
     "data": {
      "application/vnd.plotly.v1+json": {
       "config": {
        "plotlyServerURL": "https://plot.ly"
       },
       "data": [
        {
         "type": "heatmap",
         "x": {
          "bdata": "AAECAwQ=",
          "dtype": "i1"
         },
         "y": {
          "bdata": "AAECAwQ=",
          "dtype": "i1"
         },
         "z": {
          "bdata": "E7UrUbsSIUC7ErUrUbtEQJyPwfkYnDlARO1K1K5EHUATtStRuxIxQBNIJedlEe8/+602hqY7QUBsRl/550hCQIv4BFLJeSFArHCYKHNBM0CZSSgX8bjPPynpdwqJMDVASVaQn0/zQ0BF0ypfDP8sQA+wo6TfKThACMmAeqZy3T8eL7YE3+YvQGofJAPqmT1AbAm+zV9hOkB4vNgSfJs7QLdt27Zt29Y/t23btm3bJkAlSZIkSZIyQLdt27Zt2yFAtm3btm1bTkA=",
          "dtype": "f8",
          "shape": "5, 5"
         }
        }
       ],
       "layout": {
        "annotations": [
         {
          "font": {
           "color": "white"
          },
          "showarrow": false,
          "text": "8.5 - 7",
          "x": 0,
          "xref": "x",
          "y": 0,
          "yref": "y"
         },
         {
          "font": {
           "color": "white"
          },
          "showarrow": false,
          "text": "41.5 - 34",
          "x": 1,
          "xref": "x",
          "y": 0,
          "yref": "y"
         },
         {
          "font": {
           "color": "white"
          },
          "showarrow": false,
          "text": "25.6 - 21",
          "x": 2,
          "xref": "x",
          "y": 0,
          "yref": "y"
         },
         {
          "font": {
           "color": "white"
          },
          "showarrow": false,
          "text": "7.3 - 6",
          "x": 3,
          "xref": "x",
          "y": 0,
          "yref": "y"
         },
         {
          "font": {
           "color": "white"
          },
          "showarrow": false,
          "text": "17.1 - 14",
          "x": 4,
          "xref": "x",
          "y": 0,
          "yref": "y"
         },
         {
          "font": {
           "color": "white"
          },
          "showarrow": false,
          "text": "1.0 - 6",
          "x": 0,
          "xref": "x",
          "y": 1,
          "yref": "y"
         },
         {
          "font": {
           "color": "white"
          },
          "showarrow": false,
          "text": "34.5 - 213",
          "x": 1,
          "xref": "x",
          "y": 1,
          "yref": "y"
         },
         {
          "font": {
           "color": "white"
          },
          "showarrow": false,
          "text": "36.6 - 226",
          "x": 2,
          "xref": "x",
          "y": 1,
          "yref": "y"
         },
         {
          "font": {
           "color": "white"
          },
          "showarrow": false,
          "text": "8.7 - 54",
          "x": 3,
          "xref": "x",
          "y": 1,
          "yref": "y"
         },
         {
          "font": {
           "color": "white"
          },
          "showarrow": false,
          "text": "19.3 - 119",
          "x": 4,
          "xref": "x",
          "y": 1,
          "yref": "y"
         },
         {
          "font": {
           "color": "white"
          },
          "showarrow": false,
          "text": "0.2 - 2",
          "x": 0,
          "xref": "x",
          "y": 2,
          "yref": "y"
         },
         {
          "font": {
           "color": "white"
          },
          "showarrow": false,
          "text": "21.2 - 171",
          "x": 1,
          "xref": "x",
          "y": 2,
          "yref": "y"
         },
         {
          "font": {
           "color": "white"
          },
          "showarrow": false,
          "text": "39.9 - 322",
          "x": 2,
          "xref": "x",
          "y": 2,
          "yref": "y"
         },
         {
          "font": {
           "color": "white"
          },
          "showarrow": false,
          "text": "14.5 - 117",
          "x": 3,
          "xref": "x",
          "y": 2,
          "yref": "y"
         },
         {
          "font": {
           "color": "white"
          },
          "showarrow": false,
          "text": "24.2 - 195",
          "x": 4,
          "xref": "x",
          "y": 2,
          "yref": "y"
         },
         {
          "font": {
           "color": "white"
          },
          "showarrow": false,
          "text": "0.5 - 3",
          "x": 0,
          "xref": "x",
          "y": 3,
          "yref": "y"
         },
         {
          "font": {
           "color": "white"
          },
          "showarrow": false,
          "text": "16.0 - 104",
          "x": 1,
          "xref": "x",
          "y": 3,
          "yref": "y"
         },
         {
          "font": {
           "color": "white"
          },
          "showarrow": false,
          "text": "29.6 - 193",
          "x": 2,
          "xref": "x",
          "y": 3,
          "yref": "y"
         },
         {
          "font": {
           "color": "white"
          },
          "showarrow": false,
          "text": "26.4 - 172",
          "x": 3,
          "xref": "x",
          "y": 3,
          "yref": "y"
         },
         {
          "font": {
           "color": "white"
          },
          "showarrow": false,
          "text": "27.6 - 180",
          "x": 4,
          "xref": "x",
          "y": 3,
          "yref": "y"
         },
         {
          "font": {
           "color": "white"
          },
          "showarrow": false,
          "text": "0.4 - 3",
          "x": 0,
          "xref": "x",
          "y": 4,
          "yref": "y"
         },
         {
          "font": {
           "color": "white"
          },
          "showarrow": false,
          "text": "11.4 - 96",
          "x": 1,
          "xref": "x",
          "y": 4,
          "yref": "y"
         },
         {
          "font": {
           "color": "white"
          },
          "showarrow": false,
          "text": "18.6 - 156",
          "x": 2,
          "xref": "x",
          "y": 4,
          "yref": "y"
         },
         {
          "font": {
           "color": "white"
          },
          "showarrow": false,
          "text": "8.9 - 75",
          "x": 3,
          "xref": "x",
          "y": 4,
          "yref": "y"
         },
         {
          "font": {
           "color": "white"
          },
          "showarrow": false,
          "text": "60.7 - 510",
          "x": 4,
          "xref": "x",
          "y": 4,
          "yref": "y"
         }
        ],
        "height": 800,
        "template": {
         "data": {
          "bar": [
           {
            "error_x": {
             "color": "#2a3f5f"
            },
            "error_y": {
             "color": "#2a3f5f"
            },
            "marker": {
             "line": {
              "color": "#E5ECF6",
              "width": 0.5
             },
             "pattern": {
              "fillmode": "overlay",
              "size": 10,
              "solidity": 0.2
             }
            },
            "type": "bar"
           }
          ],
          "barpolar": [
           {
            "marker": {
             "line": {
              "color": "#E5ECF6",
              "width": 0.5
             },
             "pattern": {
              "fillmode": "overlay",
              "size": 10,
              "solidity": 0.2
             }
            },
            "type": "barpolar"
           }
          ],
          "carpet": [
           {
            "aaxis": {
             "endlinecolor": "#2a3f5f",
             "gridcolor": "white",
             "linecolor": "white",
             "minorgridcolor": "white",
             "startlinecolor": "#2a3f5f"
            },
            "baxis": {
             "endlinecolor": "#2a3f5f",
             "gridcolor": "white",
             "linecolor": "white",
             "minorgridcolor": "white",
             "startlinecolor": "#2a3f5f"
            },
            "type": "carpet"
           }
          ],
          "choropleth": [
           {
            "colorbar": {
             "outlinewidth": 0,
             "ticks": ""
            },
            "type": "choropleth"
           }
          ],
          "contour": [
           {
            "colorbar": {
             "outlinewidth": 0,
             "ticks": ""
            },
            "colorscale": [
             [
              0,
              "#0d0887"
             ],
             [
              0.1111111111111111,
              "#46039f"
             ],
             [
              0.2222222222222222,
              "#7201a8"
             ],
             [
              0.3333333333333333,
              "#9c179e"
             ],
             [
              0.4444444444444444,
              "#bd3786"
             ],
             [
              0.5555555555555556,
              "#d8576b"
             ],
             [
              0.6666666666666666,
              "#ed7953"
             ],
             [
              0.7777777777777778,
              "#fb9f3a"
             ],
             [
              0.8888888888888888,
              "#fdca26"
             ],
             [
              1,
              "#f0f921"
             ]
            ],
            "type": "contour"
           }
          ],
          "contourcarpet": [
           {
            "colorbar": {
             "outlinewidth": 0,
             "ticks": ""
            },
            "type": "contourcarpet"
           }
          ],
          "heatmap": [
           {
            "colorbar": {
             "outlinewidth": 0,
             "ticks": ""
            },
            "colorscale": [
             [
              0,
              "#0d0887"
             ],
             [
              0.1111111111111111,
              "#46039f"
             ],
             [
              0.2222222222222222,
              "#7201a8"
             ],
             [
              0.3333333333333333,
              "#9c179e"
             ],
             [
              0.4444444444444444,
              "#bd3786"
             ],
             [
              0.5555555555555556,
              "#d8576b"
             ],
             [
              0.6666666666666666,
              "#ed7953"
             ],
             [
              0.7777777777777778,
              "#fb9f3a"
             ],
             [
              0.8888888888888888,
              "#fdca26"
             ],
             [
              1,
              "#f0f921"
             ]
            ],
            "type": "heatmap"
           }
          ],
          "histogram": [
           {
            "marker": {
             "pattern": {
              "fillmode": "overlay",
              "size": 10,
              "solidity": 0.2
             }
            },
            "type": "histogram"
           }
          ],
          "histogram2d": [
           {
            "colorbar": {
             "outlinewidth": 0,
             "ticks": ""
            },
            "colorscale": [
             [
              0,
              "#0d0887"
             ],
             [
              0.1111111111111111,
              "#46039f"
             ],
             [
              0.2222222222222222,
              "#7201a8"
             ],
             [
              0.3333333333333333,
              "#9c179e"
             ],
             [
              0.4444444444444444,
              "#bd3786"
             ],
             [
              0.5555555555555556,
              "#d8576b"
             ],
             [
              0.6666666666666666,
              "#ed7953"
             ],
             [
              0.7777777777777778,
              "#fb9f3a"
             ],
             [
              0.8888888888888888,
              "#fdca26"
             ],
             [
              1,
              "#f0f921"
             ]
            ],
            "type": "histogram2d"
           }
          ],
          "histogram2dcontour": [
           {
            "colorbar": {
             "outlinewidth": 0,
             "ticks": ""
            },
            "colorscale": [
             [
              0,
              "#0d0887"
             ],
             [
              0.1111111111111111,
              "#46039f"
             ],
             [
              0.2222222222222222,
              "#7201a8"
             ],
             [
              0.3333333333333333,
              "#9c179e"
             ],
             [
              0.4444444444444444,
              "#bd3786"
             ],
             [
              0.5555555555555556,
              "#d8576b"
             ],
             [
              0.6666666666666666,
              "#ed7953"
             ],
             [
              0.7777777777777778,
              "#fb9f3a"
             ],
             [
              0.8888888888888888,
              "#fdca26"
             ],
             [
              1,
              "#f0f921"
             ]
            ],
            "type": "histogram2dcontour"
           }
          ],
          "mesh3d": [
           {
            "colorbar": {
             "outlinewidth": 0,
             "ticks": ""
            },
            "type": "mesh3d"
           }
          ],
          "parcoords": [
           {
            "line": {
             "colorbar": {
              "outlinewidth": 0,
              "ticks": ""
             }
            },
            "type": "parcoords"
           }
          ],
          "pie": [
           {
            "automargin": true,
            "type": "pie"
           }
          ],
          "scatter": [
           {
            "fillpattern": {
             "fillmode": "overlay",
             "size": 10,
             "solidity": 0.2
            },
            "type": "scatter"
           }
          ],
          "scatter3d": [
           {
            "line": {
             "colorbar": {
              "outlinewidth": 0,
              "ticks": ""
             }
            },
            "marker": {
             "colorbar": {
              "outlinewidth": 0,
              "ticks": ""
             }
            },
            "type": "scatter3d"
           }
          ],
          "scattercarpet": [
           {
            "marker": {
             "colorbar": {
              "outlinewidth": 0,
              "ticks": ""
             }
            },
            "type": "scattercarpet"
           }
          ],
          "scattergeo": [
           {
            "marker": {
             "colorbar": {
              "outlinewidth": 0,
              "ticks": ""
             }
            },
            "type": "scattergeo"
           }
          ],
          "scattergl": [
           {
            "marker": {
             "colorbar": {
              "outlinewidth": 0,
              "ticks": ""
             }
            },
            "type": "scattergl"
           }
          ],
          "scattermap": [
           {
            "marker": {
             "colorbar": {
              "outlinewidth": 0,
              "ticks": ""
             }
            },
            "type": "scattermap"
           }
          ],
          "scattermapbox": [
           {
            "marker": {
             "colorbar": {
              "outlinewidth": 0,
              "ticks": ""
             }
            },
            "type": "scattermapbox"
           }
          ],
          "scatterpolar": [
           {
            "marker": {
             "colorbar": {
              "outlinewidth": 0,
              "ticks": ""
             }
            },
            "type": "scatterpolar"
           }
          ],
          "scatterpolargl": [
           {
            "marker": {
             "colorbar": {
              "outlinewidth": 0,
              "ticks": ""
             }
            },
            "type": "scatterpolargl"
           }
          ],
          "scatterternary": [
           {
            "marker": {
             "colorbar": {
              "outlinewidth": 0,
              "ticks": ""
             }
            },
            "type": "scatterternary"
           }
          ],
          "surface": [
           {
            "colorbar": {
             "outlinewidth": 0,
             "ticks": ""
            },
            "colorscale": [
             [
              0,
              "#0d0887"
             ],
             [
              0.1111111111111111,
              "#46039f"
             ],
             [
              0.2222222222222222,
              "#7201a8"
             ],
             [
              0.3333333333333333,
              "#9c179e"
             ],
             [
              0.4444444444444444,
              "#bd3786"
             ],
             [
              0.5555555555555556,
              "#d8576b"
             ],
             [
              0.6666666666666666,
              "#ed7953"
             ],
             [
              0.7777777777777778,
              "#fb9f3a"
             ],
             [
              0.8888888888888888,
              "#fdca26"
             ],
             [
              1,
              "#f0f921"
             ]
            ],
            "type": "surface"
           }
          ],
          "table": [
           {
            "cells": {
             "fill": {
              "color": "#EBF0F8"
             },
             "line": {
              "color": "white"
             }
            },
            "header": {
             "fill": {
              "color": "#C8D4E3"
             },
             "line": {
              "color": "white"
             }
            },
            "type": "table"
           }
          ]
         },
         "layout": {
          "annotationdefaults": {
           "arrowcolor": "#2a3f5f",
           "arrowhead": 0,
           "arrowwidth": 1
          },
          "autotypenumbers": "strict",
          "coloraxis": {
           "colorbar": {
            "outlinewidth": 0,
            "ticks": ""
           }
          },
          "colorscale": {
           "diverging": [
            [
             0,
             "#8e0152"
            ],
            [
             0.1,
             "#c51b7d"
            ],
            [
             0.2,
             "#de77ae"
            ],
            [
             0.3,
             "#f1b6da"
            ],
            [
             0.4,
             "#fde0ef"
            ],
            [
             0.5,
             "#f7f7f7"
            ],
            [
             0.6,
             "#e6f5d0"
            ],
            [
             0.7,
             "#b8e186"
            ],
            [
             0.8,
             "#7fbc41"
            ],
            [
             0.9,
             "#4d9221"
            ],
            [
             1,
             "#276419"
            ]
           ],
           "sequential": [
            [
             0,
             "#0d0887"
            ],
            [
             0.1111111111111111,
             "#46039f"
            ],
            [
             0.2222222222222222,
             "#7201a8"
            ],
            [
             0.3333333333333333,
             "#9c179e"
            ],
            [
             0.4444444444444444,
             "#bd3786"
            ],
            [
             0.5555555555555556,
             "#d8576b"
            ],
            [
             0.6666666666666666,
             "#ed7953"
            ],
            [
             0.7777777777777778,
             "#fb9f3a"
            ],
            [
             0.8888888888888888,
             "#fdca26"
            ],
            [
             1,
             "#f0f921"
            ]
           ],
           "sequentialminus": [
            [
             0,
             "#0d0887"
            ],
            [
             0.1111111111111111,
             "#46039f"
            ],
            [
             0.2222222222222222,
             "#7201a8"
            ],
            [
             0.3333333333333333,
             "#9c179e"
            ],
            [
             0.4444444444444444,
             "#bd3786"
            ],
            [
             0.5555555555555556,
             "#d8576b"
            ],
            [
             0.6666666666666666,
             "#ed7953"
            ],
            [
             0.7777777777777778,
             "#fb9f3a"
            ],
            [
             0.8888888888888888,
             "#fdca26"
            ],
            [
             1,
             "#f0f921"
            ]
           ]
          },
          "colorway": [
           "#636efa",
           "#EF553B",
           "#00cc96",
           "#ab63fa",
           "#FFA15A",
           "#19d3f3",
           "#FF6692",
           "#B6E880",
           "#FF97FF",
           "#FECB52"
          ],
          "font": {
           "color": "#2a3f5f"
          },
          "geo": {
           "bgcolor": "white",
           "lakecolor": "white",
           "landcolor": "#E5ECF6",
           "showlakes": true,
           "showland": true,
           "subunitcolor": "white"
          },
          "hoverlabel": {
           "align": "left"
          },
          "hovermode": "closest",
          "mapbox": {
           "style": "light"
          },
          "paper_bgcolor": "white",
          "plot_bgcolor": "#E5ECF6",
          "polar": {
           "angularaxis": {
            "gridcolor": "white",
            "linecolor": "white",
            "ticks": ""
           },
           "bgcolor": "#E5ECF6",
           "radialaxis": {
            "gridcolor": "white",
            "linecolor": "white",
            "ticks": ""
           }
          },
          "scene": {
           "xaxis": {
            "backgroundcolor": "#E5ECF6",
            "gridcolor": "white",
            "gridwidth": 2,
            "linecolor": "white",
            "showbackground": true,
            "ticks": "",
            "zerolinecolor": "white"
           },
           "yaxis": {
            "backgroundcolor": "#E5ECF6",
            "gridcolor": "white",
            "gridwidth": 2,
            "linecolor": "white",
            "showbackground": true,
            "ticks": "",
            "zerolinecolor": "white"
           },
           "zaxis": {
            "backgroundcolor": "#E5ECF6",
            "gridcolor": "white",
            "gridwidth": 2,
            "linecolor": "white",
            "showbackground": true,
            "ticks": "",
            "zerolinecolor": "white"
           }
          },
          "shapedefaults": {
           "line": {
            "color": "#2a3f5f"
           }
          },
          "ternary": {
           "aaxis": {
            "gridcolor": "white",
            "linecolor": "white",
            "ticks": ""
           },
           "baxis": {
            "gridcolor": "white",
            "linecolor": "white",
            "ticks": ""
           },
           "bgcolor": "#E5ECF6",
           "caxis": {
            "gridcolor": "white",
            "linecolor": "white",
            "ticks": ""
           }
          },
          "title": {
           "x": 0.05
          },
          "xaxis": {
           "automargin": true,
           "gridcolor": "white",
           "linecolor": "white",
           "ticks": "",
           "title": {
            "standoff": 15
           },
           "zerolinecolor": "white",
           "zerolinewidth": 2
          },
          "yaxis": {
           "automargin": true,
           "gridcolor": "white",
           "linecolor": "white",
           "ticks": "",
           "title": {
            "standoff": 15
           },
           "zerolinecolor": "white",
           "zerolinewidth": 2
          }
         }
        },
        "title": {
         "text": "Conf Matrix"
        },
        "width": 800,
        "xaxis": {
         "title": {
          "text": "Predicted value"
         }
        },
        "yaxis": {
         "title": {
          "text": "Real value"
         }
        }
       }
      }
     },
     "metadata": {},
     "output_type": "display_data"
    }
   ],
   "source": [
    "#Vamos a replicar el resultado de la optimizacion reentrenando el modelo con el mejor conjunto de hiperparametros\n",
    "#Generamos parametros incluyendo los fijos y la mejor solución que encontro optuna\n",
    "lgb_params =  {      \n",
    "                        'objective': 'multiclass',\n",
    "                        'verbosity':-1,\n",
    "                        'num_class': len(y_train.unique())} | study.best_params\n",
    "\n",
    "lgb_train_dataset = lgb.Dataset(data=X_train,\n",
    "                                label=y_train)\n",
    "\n",
    "\n",
    "#Entreno\n",
    "lgb_model2 = lgb.train(lgb_params,\n",
    "                    lgb_train_dataset)\n",
    "\n",
    "#Muestro matriz de confusion y kappa\n",
    "print(cohen_kappa_score(y_test,lgb_model2.predict(X_test).argmax(axis=1),\n",
    "                             weights = 'quadratic'))\n",
    "\n",
    "display(plot_confusion_matrix(y_test,lgb_model2.predict(X_test).argmax(axis=1)))\n",
    "\n"
   ]
  },
  {
   "cell_type": "markdown",
   "id": "52853014",
   "metadata": {},
   "source": [
    "## Modelo con optimizacion de hiperparametros con 5 Fold Cross Validation"
   ]
  },
  {
   "cell_type": "code",
   "execution_count": 18,
   "id": "1f79d12c",
   "metadata": {},
   "outputs": [],
   "source": [
    "from optuna.artifacts import FileSystemArtifactStore, upload_artifact\n",
    "from sklearn.metrics import cohen_kappa_score\n",
    "from sklearn.model_selection import StratifiedKFold\n",
    "import lightgbm as lgb\n",
    "import numpy as np\n",
    "import os\n",
    "from joblib import dump\n",
    "import matplotlib.pyplot as plt\n",
    "from sklearn.metrics import confusion_matrix, ConfusionMatrixDisplay\n",
    "\n",
    "def lgb_custom_metric_kappa(dy_pred, dy_true):\n",
    "    metric_name = 'kappa'\n",
    "    value = cohen_kappa_score(dy_true.get_label(), dy_pred.argmax(axis=1), weights='quadratic')\n",
    "    is_higher_better = True\n",
    "    return (metric_name, value, is_higher_better)\n",
    "\n",
    "def cv_es_lgb_objective(trial):\n",
    "    \n",
    "    # Inicio el store de artefactos (archivos) de Optuna\n",
    "    artifact_store = FileSystemArtifactStore(base_path=PATH_TO_OPTUNA_ARTIFACTS)\n",
    "\n",
    "    # Hiperparámetros a optimizar\n",
    "    lgb_params = {\n",
    "        'objective': 'multiclass',\n",
    "        'verbosity': -1,\n",
    "        'num_class': len(y_train.unique()),\n",
    "        'lambda_l1': trial.suggest_float('lambda_l1', 1e-8, 10.0, log=True),\n",
    "        'lambda_l2': trial.suggest_float('lambda_l2', 1e-8, 10.0, log=True),\n",
    "        'num_leaves': trial.suggest_int('num_leaves', 2, 256),\n",
    "        'feature_fraction': trial.suggest_float('feature_fraction', 0.4, 1.0),\n",
    "        'bagging_fraction': trial.suggest_float('bagging_fraction', 0.4, 1.0),\n",
    "        'bagging_freq': trial.suggest_int('bagging_freq', 1, 7),\n",
    "        'min_child_samples': trial.suggest_int('min_child_samples', 5, 100),\n",
    "        'n_jobs': -1\n",
    "    }\n",
    "    \n",
    "    scores_ensemble = np.zeros((len(y_test), len(y_train.unique())))\n",
    "    score_folds = 0\n",
    "    n_splits = 5\n",
    "    skf = StratifiedKFold(n_splits=n_splits)\n",
    "\n",
    "    for i, (if_index, oof_index) in enumerate(skf.split(X_train, y_train)):\n",
    "\n",
    "        lgb_if_dataset = lgb.Dataset(data=X_train.iloc[if_index],\n",
    "                                     label=y_train.iloc[if_index],\n",
    "                                     free_raw_data=False)\n",
    "        \n",
    "        lgb_oof_dataset = lgb.Dataset(data=X_train.iloc[oof_index],\n",
    "                                      label=y_train.iloc[oof_index],\n",
    "                                      free_raw_data=False)\n",
    "                \n",
    "        lgb_model3 = lgb.train(\n",
    "            lgb_params,\n",
    "            lgb_if_dataset,\n",
    "            valid_sets=lgb_oof_dataset,\n",
    "            callbacks=[lgb.early_stopping(10, verbose=False)],\n",
    "            feval=lgb_custom_metric_kappa\n",
    "        )\n",
    "        \n",
    "        scores_ensemble += lgb_model3.predict(X_test)\n",
    "\n",
    "        score_folds += cohen_kappa_score(\n",
    "            y_train.iloc[oof_index],\n",
    "            lgb_model3.predict(X_train.iloc[oof_index]).argmax(axis=1),\n",
    "            weights='quadratic'\n",
    "        ) / n_splits\n",
    "    \n",
    "    # Guardar predicciones sobre test\n",
    "    predicted_filename = os.path.join(PATH_TO_TEMP_FILES, f'test_{trial.study.study_name}_{trial.number}.joblib')\n",
    "    predicted_df = test.copy()\n",
    "    predicted_df['pred'] = [scores_ensemble[p, :] for p in range(scores_ensemble.shape[0])]\n",
    "    dump(predicted_df, predicted_filename)\n",
    "\n",
    "    # Uso keyword arguments en upload_artifact. Asociar las predicciones como artefacto.\n",
    "    upload_artifact(\n",
    "        study_or_trial=trial,\n",
    "        file_path=predicted_filename,\n",
    "        artifact_store=artifact_store\n",
    "    )\n",
    "\n",
    "    # Generar nombre de archivo (¡esto es un string, no lo pises!)\n",
    "    cm_filename = os.path.join(PATH_TO_TEMP_FILES, f'cm_{trial.study.study_name}_{trial.number}.jpg')\n",
    "\n",
    "    # Crear y guardar matriz de confusión\n",
    "    cm = confusion_matrix(y_test, scores_ensemble.argmax(axis=1))\n",
    "    disp = ConfusionMatrixDisplay(cm)\n",
    "    disp.plot()\n",
    "    plt.savefig(cm_filename)\n",
    "    plt.close()\n",
    "\n",
    "    # Uso keyword arguments en upload_artifact. Asociar la imagen como artefacto\n",
    "    upload_artifact(\n",
    "        study_or_trial=trial,\n",
    "        file_path=cm_filename,\n",
    "        artifact_store=artifact_store\n",
    "    )\n",
    "    \n",
    "    # Guardar el score en test como métrica auxiliar\n",
    "    test_score = cohen_kappa_score(y_test, scores_ensemble.argmax(axis=1), weights='quadratic')\n",
    "    trial.set_user_attr(\"test_score\", test_score)\n",
    "\n",
    "    # Devuelvo el promedio de los scores del CV (objetivo a maximizar)\n",
    "    return score_folds"
   ]
  },
  {
   "cell_type": "code",
   "execution_count": 19,
   "id": "44742181",
   "metadata": {},
   "outputs": [
    {
     "name": "stderr",
     "output_type": "stream",
     "text": [
      "[I 2025-04-30 12:06:59,352] A new study created in RDB with name: 04 - LGB Multiclass CV\n",
      "[I 2025-04-30 12:07:04,912] Trial 0 finished with value: 0.3517799923680635 and parameters: {'lambda_l1': 0.23560576064905786, 'lambda_l2': 2.4158956176866244e-08, 'num_leaves': 222, 'feature_fraction': 0.9978643480945266, 'bagging_fraction': 0.8827050729421351, 'bagging_freq': 6, 'min_child_samples': 87}. Best is trial 0 with value: 0.3517799923680635.\n",
      "[I 2025-04-30 12:07:09,234] Trial 1 finished with value: 0.3469612979825226 and parameters: {'lambda_l1': 3.1781907205556306, 'lambda_l2': 3.1449059744362874e-08, 'num_leaves': 37, 'feature_fraction': 0.7648100144115942, 'bagging_fraction': 0.513934338074839, 'bagging_freq': 1, 'min_child_samples': 13}. Best is trial 0 with value: 0.3517799923680635.\n",
      "[I 2025-04-30 12:07:13,584] Trial 2 finished with value: 0.3558753356598619 and parameters: {'lambda_l1': 0.04083497490533043, 'lambda_l2': 0.08347704753378625, 'num_leaves': 68, 'feature_fraction': 0.5356481995957372, 'bagging_fraction': 0.9005670296305727, 'bagging_freq': 5, 'min_child_samples': 28}. Best is trial 2 with value: 0.3558753356598619.\n",
      "[I 2025-04-30 12:07:17,547] Trial 3 finished with value: 0.3487060108843534 and parameters: {'lambda_l1': 3.8950953955248098, 'lambda_l2': 2.291745371257908, 'num_leaves': 207, 'feature_fraction': 0.9229731097454263, 'bagging_fraction': 0.49013398417218346, 'bagging_freq': 5, 'min_child_samples': 48}. Best is trial 2 with value: 0.3558753356598619.\n",
      "[I 2025-04-30 12:07:21,182] Trial 4 finished with value: 0.34528101506158215 and parameters: {'lambda_l1': 1.5593883309502715e-07, 'lambda_l2': 0.00017748217550047474, 'num_leaves': 11, 'feature_fraction': 0.9444823114758241, 'bagging_fraction': 0.7539693505319822, 'bagging_freq': 4, 'min_child_samples': 20}. Best is trial 2 with value: 0.3558753356598619.\n",
      "[I 2025-04-30 12:07:25,969] Trial 5 finished with value: 0.3529831415923419 and parameters: {'lambda_l1': 0.25820049963421476, 'lambda_l2': 0.001200341303355909, 'num_leaves': 147, 'feature_fraction': 0.5708317570791331, 'bagging_fraction': 0.8076892272510396, 'bagging_freq': 4, 'min_child_samples': 65}. Best is trial 2 with value: 0.3558753356598619.\n",
      "[I 2025-04-30 12:07:29,928] Trial 6 finished with value: 0.35007748444631903 and parameters: {'lambda_l1': 0.004614471404184371, 'lambda_l2': 2.4632293939207898e-05, 'num_leaves': 17, 'feature_fraction': 0.7287993434904452, 'bagging_fraction': 0.9281350514341469, 'bagging_freq': 3, 'min_child_samples': 87}. Best is trial 2 with value: 0.3558753356598619.\n",
      "[I 2025-04-30 12:07:33,981] Trial 7 finished with value: 0.3514415020553483 and parameters: {'lambda_l1': 1.7051377879521147e-08, 'lambda_l2': 0.0001183331478348619, 'num_leaves': 165, 'feature_fraction': 0.6386788461962036, 'bagging_fraction': 0.5126586606965522, 'bagging_freq': 4, 'min_child_samples': 71}. Best is trial 2 with value: 0.3558753356598619.\n",
      "[I 2025-04-30 12:07:37,789] Trial 8 finished with value: 0.3420795480799036 and parameters: {'lambda_l1': 0.15773049971622682, 'lambda_l2': 0.0424792933007356, 'num_leaves': 84, 'feature_fraction': 0.6775235385171992, 'bagging_fraction': 0.4074175051267268, 'bagging_freq': 2, 'min_child_samples': 57}. Best is trial 2 with value: 0.3558753356598619.\n",
      "[I 2025-04-30 12:07:41,325] Trial 9 finished with value: 0.3366812011363578 and parameters: {'lambda_l1': 1.365210050125631e-07, 'lambda_l2': 4.695143856442695, 'num_leaves': 117, 'feature_fraction': 0.7796567787935658, 'bagging_fraction': 0.4364206171499564, 'bagging_freq': 3, 'min_child_samples': 68}. Best is trial 2 with value: 0.3558753356598619.\n",
      "[I 2025-04-30 12:07:45,880] Trial 10 finished with value: 0.3464286233391175 and parameters: {'lambda_l1': 3.043489968326955e-05, 'lambda_l2': 0.03912901903897453, 'num_leaves': 73, 'feature_fraction': 0.4378019325174484, 'bagging_fraction': 0.9901107932599947, 'bagging_freq': 7, 'min_child_samples': 34}. Best is trial 2 with value: 0.3558753356598619.\n",
      "[I 2025-04-30 12:07:50,870] Trial 11 finished with value: 0.34451618973169873 and parameters: {'lambda_l1': 0.002701310795520913, 'lambda_l2': 0.021000615705163064, 'num_leaves': 141, 'feature_fraction': 0.5022326767983614, 'bagging_fraction': 0.8069934727646124, 'bagging_freq': 5, 'min_child_samples': 36}. Best is trial 2 with value: 0.3558753356598619.\n",
      "[I 2025-04-30 12:07:56,096] Trial 12 finished with value: 0.3467856175375754 and parameters: {'lambda_l1': 0.030514153379139878, 'lambda_l2': 0.003053661635175424, 'num_leaves': 171, 'feature_fraction': 0.5623573720563219, 'bagging_fraction': 0.6746989849306991, 'bagging_freq': 5, 'min_child_samples': 30}. Best is trial 2 with value: 0.3558753356598619.\n",
      "[I 2025-04-30 12:08:00,077] Trial 13 finished with value: 0.34209199871926743 and parameters: {'lambda_l1': 4.20906727732455e-05, 'lambda_l2': 3.4615151693092823e-06, 'num_leaves': 96, 'feature_fraction': 0.57386571906502, 'bagging_fraction': 0.6310456813580906, 'bagging_freq': 7, 'min_child_samples': 6}. Best is trial 2 with value: 0.3558753356598619.\n",
      "[I 2025-04-30 12:08:04,228] Trial 14 finished with value: 0.35219326808036305 and parameters: {'lambda_l1': 0.0004400003953428948, 'lambda_l2': 0.002438655945475152, 'num_leaves': 51, 'feature_fraction': 0.4140144381228861, 'bagging_fraction': 0.7957012412803919, 'bagging_freq': 3, 'min_child_samples': 99}. Best is trial 2 with value: 0.3558753356598619.\n",
      "[I 2025-04-30 12:08:08,672] Trial 15 finished with value: 0.3516148362382507 and parameters: {'lambda_l1': 0.36766353341538865, 'lambda_l2': 0.43365995942119273, 'num_leaves': 250, 'feature_fraction': 0.5296203351828759, 'bagging_fraction': 0.8868022630543948, 'bagging_freq': 6, 'min_child_samples': 52}. Best is trial 2 with value: 0.3558753356598619.\n",
      "[I 2025-04-30 12:08:13,536] Trial 16 finished with value: 0.3503269084379266 and parameters: {'lambda_l1': 0.013831961694413489, 'lambda_l2': 3.014810173177585e-06, 'num_leaves': 128, 'feature_fraction': 0.6141074805811223, 'bagging_fraction': 0.9949804018272467, 'bagging_freq': 4, 'min_child_samples': 67}. Best is trial 2 with value: 0.3558753356598619.\n",
      "[I 2025-04-30 12:08:18,084] Trial 17 finished with value: 0.3486494546840285 and parameters: {'lambda_l1': 0.00025328386613121876, 'lambda_l2': 0.49532463635106816, 'num_leaves': 173, 'feature_fraction': 0.47020889053444054, 'bagging_fraction': 0.8386560733967588, 'bagging_freq': 6, 'min_child_samples': 44}. Best is trial 2 with value: 0.3558753356598619.\n",
      "[I 2025-04-30 12:08:21,806] Trial 18 finished with value: 0.351196725113626 and parameters: {'lambda_l1': 1.122439055215087, 'lambda_l2': 0.00185901045182458, 'num_leaves': 56, 'feature_fraction': 0.8362592402355699, 'bagging_fraction': 0.7302293279616124, 'bagging_freq': 2, 'min_child_samples': 23}. Best is trial 2 with value: 0.3558753356598619.\n",
      "[I 2025-04-30 12:08:26,805] Trial 19 finished with value: 0.35241134562844806 and parameters: {'lambda_l1': 0.049975679163677615, 'lambda_l2': 0.2201105487995101, 'num_leaves': 111, 'feature_fraction': 0.6232417359024539, 'bagging_fraction': 0.6405253679380306, 'bagging_freq': 5, 'min_child_samples': 61}. Best is trial 2 with value: 0.3558753356598619.\n",
      "[I 2025-04-30 12:08:31,068] Trial 20 finished with value: 0.34855413607549923 and parameters: {'lambda_l1': 0.0007829382899492927, 'lambda_l2': 4.0996246991107346e-07, 'num_leaves': 148, 'feature_fraction': 0.5081061270680163, 'bagging_fraction': 0.9341566100665967, 'bagging_freq': 4, 'min_child_samples': 83}. Best is trial 2 with value: 0.3558753356598619.\n",
      "[I 2025-04-30 12:08:35,755] Trial 21 finished with value: 0.3572008546571842 and parameters: {'lambda_l1': 0.039997350619501944, 'lambda_l2': 0.25531027038229515, 'num_leaves': 106, 'feature_fraction': 0.6217836483661502, 'bagging_fraction': 0.5980662802713143, 'bagging_freq': 5, 'min_child_samples': 58}. Best is trial 21 with value: 0.3572008546571842.\n",
      "[I 2025-04-30 12:08:39,721] Trial 22 finished with value: 0.3395452779035057 and parameters: {'lambda_l1': 0.045743468100814186, 'lambda_l2': 0.025848936812251037, 'num_leaves': 101, 'feature_fraction': 0.6796331689216214, 'bagging_fraction': 0.5982154290064127, 'bagging_freq': 6, 'min_child_samples': 43}. Best is trial 21 with value: 0.3572008546571842.\n",
      "[I 2025-04-30 12:08:43,984] Trial 23 finished with value: 0.3471608131757574 and parameters: {'lambda_l1': 0.6552310763705492, 'lambda_l2': 9.273770765204421, 'num_leaves': 77, 'feature_fraction': 0.5666341677315968, 'bagging_fraction': 0.5717581075490459, 'bagging_freq': 5, 'min_child_samples': 76}. Best is trial 21 with value: 0.3572008546571842.\n",
      "[I 2025-04-30 12:08:47,883] Trial 24 finished with value: 0.345381888757322 and parameters: {'lambda_l1': 8.383103431404715, 'lambda_l2': 0.00694387608626069, 'num_leaves': 196, 'feature_fraction': 0.6038092805463374, 'bagging_fraction': 0.7071317001821417, 'bagging_freq': 4, 'min_child_samples': 60}. Best is trial 21 with value: 0.3572008546571842.\n",
      "[I 2025-04-30 12:08:52,838] Trial 25 finished with value: 0.3566714646049671 and parameters: {'lambda_l1': 0.0056483407234743585, 'lambda_l2': 0.0005000867000277865, 'num_leaves': 145, 'feature_fraction': 0.466308367282169, 'bagging_fraction': 0.7817785995289223, 'bagging_freq': 5, 'min_child_samples': 53}. Best is trial 21 with value: 0.3572008546571842.\n",
      "[I 2025-04-30 12:08:57,598] Trial 26 finished with value: 0.3490793635498195 and parameters: {'lambda_l1': 0.005196116941576541, 'lambda_l2': 0.1376366989501862, 'num_leaves': 60, 'feature_fraction': 0.47361363199107764, 'bagging_fraction': 0.8629183663185687, 'bagging_freq': 6, 'min_child_samples': 40}. Best is trial 21 with value: 0.3572008546571842.\n",
      "[I 2025-04-30 12:09:01,844] Trial 27 finished with value: 0.35003690684361044 and parameters: {'lambda_l1': 0.0014033518573243495, 'lambda_l2': 1.5883624201748239, 'num_leaves': 33, 'feature_fraction': 0.4096936578276233, 'bagging_fraction': 0.5688473926067691, 'bagging_freq': 5, 'min_child_samples': 51}. Best is trial 21 with value: 0.3572008546571842.\n",
      "[I 2025-04-30 12:09:06,603] Trial 28 finished with value: 0.3461713208222801 and parameters: {'lambda_l1': 9.520259897171649e-05, 'lambda_l2': 0.0005236249473872845, 'num_leaves': 121, 'feature_fraction': 0.45755024525458493, 'bagging_fraction': 0.7705254550901358, 'bagging_freq': 7, 'min_child_samples': 22}. Best is trial 21 with value: 0.3572008546571842.\n",
      "[I 2025-04-30 12:09:11,359] Trial 29 finished with value: 0.35334502066079587 and parameters: {'lambda_l1': 0.01164853736615862, 'lambda_l2': 0.1084087885403923, 'num_leaves': 93, 'feature_fraction': 0.5260434400062753, 'bagging_fraction': 0.9291455340112162, 'bagging_freq': 6, 'min_child_samples': 31}. Best is trial 21 with value: 0.3572008546571842.\n",
      "[I 2025-04-30 12:09:15,246] Trial 30 finished with value: 0.3489544700928306 and parameters: {'lambda_l1': 3.5677350162809533e-06, 'lambda_l2': 5.5691179913272024e-05, 'num_leaves': 195, 'feature_fraction': 0.6529992674205412, 'bagging_fraction': 0.6777988551720103, 'bagging_freq': 5, 'min_child_samples': 78}. Best is trial 21 with value: 0.3572008546571842.\n",
      "[I 2025-04-30 12:09:19,991] Trial 31 finished with value: 0.34978603675265957 and parameters: {'lambda_l1': 0.013867120001984343, 'lambda_l2': 0.11235719070358097, 'num_leaves': 96, 'feature_fraction': 0.5254501590385506, 'bagging_fraction': 0.9213528109625485, 'bagging_freq': 6, 'min_child_samples': 31}. Best is trial 21 with value: 0.3572008546571842.\n",
      "[I 2025-04-30 12:09:25,078] Trial 32 finished with value: 0.3529740052716389 and parameters: {'lambda_l1': 0.0883855371206099, 'lambda_l2': 0.7757548465321522, 'num_leaves': 83, 'feature_fraction': 0.4956678647078664, 'bagging_fraction': 0.9605460693095214, 'bagging_freq': 6, 'min_child_samples': 15}. Best is trial 21 with value: 0.3572008546571842.\n",
      "[I 2025-04-30 12:09:30,466] Trial 33 finished with value: 0.3542806899857188 and parameters: {'lambda_l1': 0.009857685139256805, 'lambda_l2': 0.00955729302860479, 'num_leaves': 137, 'feature_fraction': 0.537924169114479, 'bagging_fraction': 0.8871726498101657, 'bagging_freq': 6, 'min_child_samples': 26}. Best is trial 21 with value: 0.3572008546571842.\n",
      "[I 2025-04-30 12:09:36,614] Trial 34 finished with value: 0.3408174269837188 and parameters: {'lambda_l1': 2.58033126960894, 'lambda_l2': 0.006920042543205124, 'num_leaves': 142, 'feature_fraction': 0.7320260761819729, 'bagging_fraction': 0.8812252216479051, 'bagging_freq': 5, 'min_child_samples': 26}. Best is trial 21 with value: 0.3572008546571842.\n",
      "[I 2025-04-30 12:09:41,806] Trial 35 finished with value: 0.3490919784435975 and parameters: {'lambda_l1': 0.0016946357182135432, 'lambda_l2': 0.00042544171575552357, 'num_leaves': 165, 'feature_fraction': 0.5950280230273087, 'bagging_fraction': 0.8297533260111404, 'bagging_freq': 7, 'min_child_samples': 6}. Best is trial 21 with value: 0.3572008546571842.\n",
      "[I 2025-04-30 12:09:46,639] Trial 36 finished with value: 0.35332491463164295 and parameters: {'lambda_l1': 0.11866239099913746, 'lambda_l2': 0.007664066738580902, 'num_leaves': 134, 'feature_fraction': 0.5366384183186887, 'bagging_fraction': 0.7677000420629042, 'bagging_freq': 5, 'min_child_samples': 46}. Best is trial 21 with value: 0.3572008546571842.\n",
      "[I 2025-04-30 12:09:51,497] Trial 37 finished with value: 0.3413644180068189 and parameters: {'lambda_l1': 0.004569228040423372, 'lambda_l2': 2.229894558368784e-08, 'num_leaves': 154, 'feature_fraction': 0.9873915849799882, 'bagging_fraction': 0.8908240821937875, 'bagging_freq': 5, 'min_child_samples': 17}. Best is trial 21 with value: 0.3572008546571842.\n",
      "[I 2025-04-30 12:09:55,416] Trial 38 finished with value: 0.34536263220306623 and parameters: {'lambda_l1': 5.729007351143234e-06, 'lambda_l2': 1.1521560869028684e-05, 'num_leaves': 108, 'feature_fraction': 0.435607983235557, 'bagging_fraction': 0.8547090677829103, 'bagging_freq': 4, 'min_child_samples': 57}. Best is trial 21 with value: 0.3572008546571842.\n",
      "[I 2025-04-30 12:09:59,143] Trial 39 finished with value: 0.35458451861309465 and parameters: {'lambda_l1': 0.017566739200662675, 'lambda_l2': 1.8040653778038622, 'num_leaves': 30, 'feature_fraction': 0.6652472689360571, 'bagging_fraction': 0.7410553837212224, 'bagging_freq': 1, 'min_child_samples': 39}. Best is trial 21 with value: 0.3572008546571842.\n",
      "[I 2025-04-30 12:10:02,817] Trial 40 finished with value: 0.3577078222441313 and parameters: {'lambda_l1': 0.21378851465430165, 'lambda_l2': 2.046551840975477, 'num_leaves': 20, 'feature_fraction': 0.8101609288132512, 'bagging_fraction': 0.7321613914951444, 'bagging_freq': 1, 'min_child_samples': 38}. Best is trial 40 with value: 0.3577078222441313.\n",
      "[I 2025-04-30 12:10:08,201] Trial 41 finished with value: 0.3222379547427025 and parameters: {'lambda_l1': 0.27376944117441304, 'lambda_l2': 2.144735955448285, 'num_leaves': 2, 'feature_fraction': 0.8335429257776584, 'bagging_fraction': 0.7378142885628436, 'bagging_freq': 1, 'min_child_samples': 39}. Best is trial 40 with value: 0.3577078222441313.\n",
      "[I 2025-04-30 12:10:11,943] Trial 42 finished with value: 0.35281442059479917 and parameters: {'lambda_l1': 0.9414115821549355, 'lambda_l2': 5.725060312765457, 'num_leaves': 27, 'feature_fraction': 0.7163777801758877, 'bagging_fraction': 0.6863546430428535, 'bagging_freq': 1, 'min_child_samples': 49}. Best is trial 40 with value: 0.3577078222441313.\n",
      "[I 2025-04-30 12:10:16,097] Trial 43 finished with value: 0.3581290168990704 and parameters: {'lambda_l1': 0.03026899660734972, 'lambda_l2': 1.068045574266652, 'num_leaves': 42, 'feature_fraction': 0.8162596816825956, 'bagging_fraction': 0.7164863349101764, 'bagging_freq': 2, 'min_child_samples': 55}. Best is trial 43 with value: 0.3581290168990704.\n",
      "[I 2025-04-30 12:10:20,344] Trial 44 finished with value: 0.34878716933277804 and parameters: {'lambda_l1': 0.0877142192852438, 'lambda_l2': 0.8272474231815746, 'num_leaves': 45, 'feature_fraction': 0.8529166864257947, 'bagging_fraction': 0.7084866085816898, 'bagging_freq': 2, 'min_child_samples': 55}. Best is trial 43 with value: 0.3581290168990704.\n",
      "[I 2025-04-30 12:10:23,959] Trial 45 finished with value: 0.36207003394915854 and parameters: {'lambda_l1': 0.03980149778903868, 'lambda_l2': 0.3357654053554624, 'num_leaves': 17, 'feature_fraction': 0.7848813227513148, 'bagging_fraction': 0.6499267694955081, 'bagging_freq': 2, 'min_child_samples': 62}. Best is trial 45 with value: 0.36207003394915854.\n",
      "[I 2025-04-30 12:10:27,768] Trial 46 finished with value: 0.3602113693735829 and parameters: {'lambda_l1': 0.31165088910532246, 'lambda_l2': 0.2300175358287596, 'num_leaves': 16, 'feature_fraction': 0.7829602328024111, 'bagging_fraction': 0.6367149573292744, 'bagging_freq': 2, 'min_child_samples': 73}. Best is trial 45 with value: 0.36207003394915854.\n",
      "[I 2025-04-30 12:10:31,070] Trial 47 finished with value: 0.3524183296151497 and parameters: {'lambda_l1': 2.47075423811287, 'lambda_l2': 0.25854512140786234, 'num_leaves': 19, 'feature_fraction': 0.787822057253129, 'bagging_fraction': 0.6484434770724946, 'bagging_freq': 2, 'min_child_samples': 72}. Best is trial 45 with value: 0.36207003394915854.\n",
      "[I 2025-04-30 12:10:34,865] Trial 48 finished with value: 0.3408953854592442 and parameters: {'lambda_l1': 0.4017301081053155, 'lambda_l2': 3.516078940333181, 'num_leaves': 4, 'feature_fraction': 0.8897932660112691, 'bagging_fraction': 0.5998090036078848, 'bagging_freq': 3, 'min_child_samples': 62}. Best is trial 45 with value: 0.36207003394915854.\n",
      "[I 2025-04-30 12:10:39,523] Trial 49 finished with value: 0.35265230193965447 and parameters: {'lambda_l1': 9.024424345519007, 'lambda_l2': 0.04690055800529582, 'num_leaves': 44, 'feature_fraction': 0.7622629256865876, 'bagging_fraction': 0.5143933990924865, 'bagging_freq': 2, 'min_child_samples': 71}. Best is trial 45 with value: 0.36207003394915854.\n",
      "[I 2025-04-30 12:10:42,903] Trial 50 finished with value: 0.35377481845389314 and parameters: {'lambda_l1': 0.15785542500906918, 'lambda_l2': 0.9894982771294062, 'num_leaves': 23, 'feature_fraction': 0.7647872586711953, 'bagging_fraction': 0.5343363609882474, 'bagging_freq': 1, 'min_child_samples': 92}. Best is trial 45 with value: 0.36207003394915854.\n",
      "[I 2025-04-30 12:10:46,389] Trial 51 finished with value: 0.35362120147695986 and parameters: {'lambda_l1': 0.03619023039844809, 'lambda_l2': 0.3544193821145354, 'num_leaves': 12, 'feature_fraction': 0.8017483779403589, 'bagging_fraction': 0.6123026942692925, 'bagging_freq': 3, 'min_child_samples': 65}. Best is trial 45 with value: 0.36207003394915854.\n",
      "[I 2025-04-30 12:10:50,507] Trial 52 finished with value: 0.3612204268768876 and parameters: {'lambda_l1': 0.02335169656453453, 'lambda_l2': 1.258105437192119e-07, 'num_leaves': 39, 'feature_fraction': 0.8837348790430186, 'bagging_fraction': 0.6583783933607449, 'bagging_freq': 2, 'min_child_samples': 55}. Best is trial 45 with value: 0.36207003394915854.\n",
      "[I 2025-04-30 12:10:54,801] Trial 53 finished with value: 0.3625780755366205 and parameters: {'lambda_l1': 1.3319355307990215, 'lambda_l2': 0.06993445071103443, 'num_leaves': 39, 'feature_fraction': 0.8801442362001489, 'bagging_fraction': 0.6590146043559063, 'bagging_freq': 2, 'min_child_samples': 58}. Best is trial 53 with value: 0.3625780755366205.\n",
      "[I 2025-04-30 12:10:58,594] Trial 54 finished with value: 0.3514989802352489 and parameters: {'lambda_l1': 1.1897486047848456, 'lambda_l2': 6.687869076041466e-08, 'num_leaves': 61, 'feature_fraction': 0.9014413813502278, 'bagging_fraction': 0.6628993578794508, 'bagging_freq': 2, 'min_child_samples': 64}. Best is trial 53 with value: 0.3625780755366205.\n",
      "[I 2025-04-30 12:11:02,103] Trial 55 finished with value: 0.34892906449683253 and parameters: {'lambda_l1': 0.4215096885648983, 'lambda_l2': 7.312504276106515e-08, 'num_leaves': 40, 'feature_fraction': 0.8702737161590407, 'bagging_fraction': 0.7166068430580457, 'bagging_freq': 2, 'min_child_samples': 76}. Best is trial 53 with value: 0.3625780755366205.\n",
      "[I 2025-04-30 12:11:05,970] Trial 56 finished with value: 0.3538405629225225 and parameters: {'lambda_l1': 1.9837219102385748, 'lambda_l2': 0.052844760145135714, 'num_leaves': 15, 'feature_fraction': 0.9392660147152846, 'bagging_fraction': 0.6161085717655761, 'bagging_freq': 1, 'min_child_samples': 48}. Best is trial 53 with value: 0.3625780755366205.\n",
      "[I 2025-04-30 12:11:10,162] Trial 57 finished with value: 0.35339190592198544 and parameters: {'lambda_l1': 0.20277994778425645, 'lambda_l2': 8.281725410665757e-07, 'num_leaves': 68, 'feature_fraction': 0.8209952462337295, 'bagging_fraction': 0.6909100491759417, 'bagging_freq': 2, 'min_child_samples': 69}. Best is trial 53 with value: 0.3625780755366205.\n",
      "[I 2025-04-30 12:11:14,181] Trial 58 finished with value: 0.350311069968732 and parameters: {'lambda_l1': 4.3582368428116895, 'lambda_l2': 5.545074242437052, 'num_leaves': 50, 'feature_fraction': 0.814831940149757, 'bagging_fraction': 0.6444113849324492, 'bagging_freq': 3, 'min_child_samples': 54}. Best is trial 53 with value: 0.3625780755366205.\n",
      "[I 2025-04-30 12:11:17,930] Trial 59 finished with value: 0.34945445864547947 and parameters: {'lambda_l1': 0.7489350595022444, 'lambda_l2': 0.01732186149573626, 'num_leaves': 36, 'feature_fraction': 0.7477080146025953, 'bagging_fraction': 0.5699665970725286, 'bagging_freq': 1, 'min_child_samples': 58}. Best is trial 53 with value: 0.3625780755366205.\n",
      "[I 2025-04-30 12:11:21,399] Trial 60 finished with value: 0.35301601763992574 and parameters: {'lambda_l1': 0.1138846495533873, 'lambda_l2': 0.5467311944949889, 'num_leaves': 22, 'feature_fraction': 0.8554548279297546, 'bagging_fraction': 0.6707349681041443, 'bagging_freq': 2, 'min_child_samples': 82}. Best is trial 53 with value: 0.3625780755366205.\n",
      "[I 2025-04-30 12:11:24,985] Trial 61 finished with value: 0.3512971639099991 and parameters: {'lambda_l1': 0.056038971665398965, 'lambda_l2': 1.0257857028763347e-08, 'num_leaves': 10, 'feature_fraction': 0.913180848853002, 'bagging_fraction': 0.6546499089338, 'bagging_freq': 3, 'min_child_samples': 61}. Best is trial 53 with value: 0.3625780755366205.\n",
      "[I 2025-04-30 12:11:28,460] Trial 62 finished with value: 0.3573507009573569 and parameters: {'lambda_l1': 0.031003750933784758, 'lambda_l2': 0.19739778160381757, 'num_leaves': 34, 'feature_fraction': 0.8790798537215322, 'bagging_fraction': 0.6323296173947341, 'bagging_freq': 3, 'min_child_samples': 58}. Best is trial 53 with value: 0.3625780755366205.\n",
      "[I 2025-04-30 12:11:31,871] Trial 63 finished with value: 0.34903175669733655 and parameters: {'lambda_l1': 0.019375039448495043, 'lambda_l2': 0.1939526438155294, 'num_leaves': 35, 'feature_fraction': 0.8827642106026821, 'bagging_fraction': 0.6238150461962881, 'bagging_freq': 3, 'min_child_samples': 65}. Best is trial 53 with value: 0.3625780755366205.\n",
      "[I 2025-04-30 12:11:35,771] Trial 64 finished with value: 0.35194593494797505 and parameters: {'lambda_l1': 0.03087776534075383, 'lambda_l2': 0.06815331795213629, 'num_leaves': 51, 'feature_fraction': 0.7876271281805006, 'bagging_fraction': 0.7013011837832084, 'bagging_freq': 2, 'min_child_samples': 44}. Best is trial 53 with value: 0.3625780755366205.\n",
      "[I 2025-04-30 12:11:39,967] Trial 65 finished with value: 0.34694606545540574 and parameters: {'lambda_l1': 0.2579471011742718, 'lambda_l2': 1.2707176082936533, 'num_leaves': 67, 'feature_fraction': 0.9634786834624746, 'bagging_fraction': 0.5530957747776184, 'bagging_freq': 2, 'min_child_samples': 49}. Best is trial 53 with value: 0.3625780755366205.\n",
      "[I 2025-04-30 12:11:43,763] Trial 66 finished with value: 0.3468566498223452 and parameters: {'lambda_l1': 0.5891503551216939, 'lambda_l2': 3.446811238453672, 'num_leaves': 26, 'feature_fraction': 0.8546778407767044, 'bagging_fraction': 0.4575263292608087, 'bagging_freq': 3, 'min_child_samples': 74}. Best is trial 53 with value: 0.3625780755366205.\n",
      "[I 2025-04-30 12:11:47,308] Trial 67 finished with value: 0.3459933941831226 and parameters: {'lambda_l1': 1.3634824438247124, 'lambda_l2': 0.4025633718903718, 'num_leaves': 9, 'feature_fraction': 0.9397279285150288, 'bagging_fraction': 0.6335787586173328, 'bagging_freq': 1, 'min_child_samples': 68}. Best is trial 53 with value: 0.3625780755366205.\n",
      "[I 2025-04-30 12:11:51,091] Trial 68 finished with value: 0.3522467618696047 and parameters: {'lambda_l1': 0.07129276748596977, 'lambda_l2': 0.02875874128201714, 'num_leaves': 42, 'feature_fraction': 0.8061203119768803, 'bagging_fraction': 0.7275568111257409, 'bagging_freq': 2, 'min_child_samples': 53}. Best is trial 53 with value: 0.3625780755366205.\n",
      "[I 2025-04-30 12:11:55,003] Trial 69 finished with value: 0.3525654364047126 and parameters: {'lambda_l1': 0.0032765623145240732, 'lambda_l2': 9.349758324873246, 'num_leaves': 56, 'feature_fraction': 0.8353080432432239, 'bagging_fraction': 0.5868096771161725, 'bagging_freq': 2, 'min_child_samples': 57}. Best is trial 53 with value: 0.3625780755366205.\n",
      "[I 2025-04-30 12:11:58,307] Trial 70 finished with value: 0.3513104624180668 and parameters: {'lambda_l1': 0.007592959768237094, 'lambda_l2': 0.10533826819372288, 'num_leaves': 19, 'feature_fraction': 0.8699603324601611, 'bagging_fraction': 0.7517429053464473, 'bagging_freq': 1, 'min_child_samples': 63}. Best is trial 53 with value: 0.3625780755366205.\n",
      "[I 2025-04-30 12:12:02,732] Trial 71 finished with value: 0.35259774554475165 and parameters: {'lambda_l1': 0.025912363894206557, 'lambda_l2': 0.17289048603491494, 'num_leaves': 254, 'feature_fraction': 0.7049170849143224, 'bagging_fraction': 0.5957960848151381, 'bagging_freq': 3, 'min_child_samples': 58}. Best is trial 53 with value: 0.3625780755366205.\n",
      "[I 2025-04-30 12:12:06,545] Trial 72 finished with value: 0.35482976282568623 and parameters: {'lambda_l1': 1.89683387116717e-08, 'lambda_l2': 0.6993016219210589, 'num_leaves': 31, 'feature_fraction': 0.9129440143552588, 'bagging_fraction': 0.6848323206768451, 'bagging_freq': 2, 'min_child_samples': 51}. Best is trial 53 with value: 0.3625780755366205.\n",
      "[I 2025-04-30 12:12:10,203] Trial 73 finished with value: 0.34811525438852986 and parameters: {'lambda_l1': 0.0561874301478259, 'lambda_l2': 0.014546578042268167, 'num_leaves': 48, 'feature_fraction': 0.7423643587202124, 'bagging_fraction': 0.6614743431086583, 'bagging_freq': 3, 'min_child_samples': 60}. Best is trial 53 with value: 0.3625780755366205.\n",
      "[I 2025-04-30 12:12:13,813] Trial 74 finished with value: 0.35252487488068557 and parameters: {'lambda_l1': 4.972818234987326, 'lambda_l2': 0.3051795528032961, 'num_leaves': 82, 'feature_fraction': 0.7770301983980978, 'bagging_fraction': 0.6265490819844779, 'bagging_freq': 2, 'min_child_samples': 55}. Best is trial 53 with value: 0.3625780755366205.\n",
      "[I 2025-04-30 12:12:17,359] Trial 75 finished with value: 0.35141895379626353 and parameters: {'lambda_l1': 0.0017822004573158328, 'lambda_l2': 0.001165400786106874, 'num_leaves': 36, 'feature_fraction': 0.8447141488728697, 'bagging_fraction': 0.5460926282400366, 'bagging_freq': 4, 'min_child_samples': 47}. Best is trial 53 with value: 0.3625780755366205.\n",
      "[I 2025-04-30 12:12:21,147] Trial 76 finished with value: 0.3530000230288419 and parameters: {'lambda_l1': 0.13862289985226559, 'lambda_l2': 2.1319744845819963, 'num_leaves': 243, 'feature_fraction': 0.8727565550176403, 'bagging_fraction': 0.6078719725534538, 'bagging_freq': 1, 'min_child_samples': 66}. Best is trial 53 with value: 0.3625780755366205.\n",
      "[I 2025-04-30 12:12:24,524] Trial 77 finished with value: 0.340393662995356 and parameters: {'lambda_l1': 0.0004336303380676638, 'lambda_l2': 0.00014883037124310757, 'num_leaves': 74, 'feature_fraction': 0.8216840800761354, 'bagging_fraction': 0.5848087938196126, 'bagging_freq': 2, 'min_child_samples': 43}. Best is trial 53 with value: 0.3625780755366205.\n",
      "[I 2025-04-30 12:12:27,722] Trial 78 finished with value: 0.2523565463817392 and parameters: {'lambda_l1': 0.008956727693142435, 'lambda_l2': 1.2296303077464092, 'num_leaves': 2, 'feature_fraction': 0.6867106724198249, 'bagging_fraction': 0.7150264634650951, 'bagging_freq': 3, 'min_child_samples': 51}. Best is trial 53 with value: 0.3625780755366205.\n",
      "[I 2025-04-30 12:12:31,329] Trial 79 finished with value: 0.3513684765356007 and parameters: {'lambda_l1': 0.47163845920083575, 'lambda_l2': 0.06932642974473593, 'num_leaves': 16, 'feature_fraction': 0.8018921025687336, 'bagging_fraction': 0.6697737250781933, 'bagging_freq': 1, 'min_child_samples': 80}. Best is trial 53 with value: 0.3625780755366205.\n",
      "[I 2025-04-30 12:12:35,345] Trial 80 finished with value: 0.3568390520974798 and parameters: {'lambda_l1': 0.19640479614460388, 'lambda_l2': 0.004205584314148276, 'num_leaves': 59, 'feature_fraction': 0.8845812512107863, 'bagging_fraction': 0.6392886517300215, 'bagging_freq': 2, 'min_child_samples': 35}. Best is trial 53 with value: 0.3625780755366205.\n",
      "[I 2025-04-30 12:12:39,418] Trial 81 finished with value: 0.35545358699818885 and parameters: {'lambda_l1': 0.2799754836803969, 'lambda_l2': 0.16495553916089878, 'num_leaves': 27, 'feature_fraction': 0.8966350831344232, 'bagging_fraction': 0.6497385059561954, 'bagging_freq': 2, 'min_child_samples': 35}. Best is trial 53 with value: 0.3625780755366205.\n",
      "[I 2025-04-30 12:12:43,192] Trial 82 finished with value: 0.3402557142334886 and parameters: {'lambda_l1': 0.020882194378304016, 'lambda_l2': 0.00351076180640789, 'num_leaves': 59, 'feature_fraction': 0.8647130537475013, 'bagging_fraction': 0.6980507506199084, 'bagging_freq': 2, 'min_child_samples': 59}. Best is trial 53 with value: 0.3625780755366205.\n",
      "[I 2025-04-30 12:12:46,797] Trial 83 finished with value: 0.3512464146310615 and parameters: {'lambda_l1': 0.1699928011309231, 'lambda_l2': 0.03407152068816815, 'num_leaves': 40, 'feature_fraction': 0.9663845196286314, 'bagging_fraction': 0.6266206673348844, 'bagging_freq': 2, 'min_child_samples': 33}. Best is trial 53 with value: 0.3625780755366205.\n",
      "[I 2025-04-30 12:12:51,097] Trial 84 finished with value: 0.35283675825817684 and parameters: {'lambda_l1': 0.08651475938850291, 'lambda_l2': 0.4652228406046802, 'num_leaves': 53, 'feature_fraction': 0.9256791891953656, 'bagging_fraction': 0.6393321963695077, 'bagging_freq': 2, 'min_child_samples': 41}. Best is trial 53 with value: 0.3625780755366205.\n",
      "[I 2025-04-30 12:12:54,924] Trial 85 finished with value: 0.35065011768462695 and parameters: {'lambda_l1': 0.03964597103401886, 'lambda_l2': 3.860769651813601e-05, 'num_leaves': 64, 'feature_fraction': 0.8285003935540317, 'bagging_fraction': 0.7567065919719116, 'bagging_freq': 1, 'min_child_samples': 55}. Best is trial 53 with value: 0.3625780755366205.\n",
      "[I 2025-04-30 12:12:58,630] Trial 86 finished with value: 0.3523308006907532 and parameters: {'lambda_l1': 0.0008217707599760199, 'lambda_l2': 0.24094146004653288, 'num_leaves': 31, 'feature_fraction': 0.6254906472621754, 'bagging_fraction': 0.6782263242527926, 'bagging_freq': 3, 'min_child_samples': 38}. Best is trial 53 with value: 0.3625780755366205.\n",
      "[I 2025-04-30 12:13:02,159] Trial 87 finished with value: 0.3502141498527612 and parameters: {'lambda_l1': 1.4922777107814935, 'lambda_l2': 0.0010076367568264066, 'num_leaves': 8, 'feature_fraction': 0.8818282251560015, 'bagging_fraction': 0.8029796343893406, 'bagging_freq': 2, 'min_child_samples': 28}. Best is trial 53 with value: 0.3625780755366205.\n",
      "[I 2025-04-30 12:13:05,606] Trial 88 finished with value: 0.35067371854962714 and parameters: {'lambda_l1': 0.6544355626488061, 'lambda_l2': 5.354642524358275e-06, 'num_leaves': 23, 'feature_fraction': 0.8459520264533217, 'bagging_fraction': 0.7288532957434121, 'bagging_freq': 4, 'min_child_samples': 70}. Best is trial 53 with value: 0.3625780755366205.\n",
      "[I 2025-04-30 12:13:09,794] Trial 89 finished with value: 0.35321394721859173 and parameters: {'lambda_l1': 0.012205106929540835, 'lambda_l2': 0.004004121407137131, 'num_leaves': 122, 'feature_fraction': 0.7798989743681554, 'bagging_fraction': 0.6594109635895, 'bagging_freq': 2, 'min_child_samples': 62}. Best is trial 53 with value: 0.3625780755366205.\n",
      "[I 2025-04-30 12:13:13,859] Trial 90 finished with value: 0.34538168742766095 and parameters: {'lambda_l1': 0.00014224007824607595, 'lambda_l2': 0.09738713367297576, 'num_leaves': 87, 'feature_fraction': 0.9084158169553675, 'bagging_fraction': 0.6101711261505083, 'bagging_freq': 3, 'min_child_samples': 45}. Best is trial 53 with value: 0.3625780755366205.\n",
      "[I 2025-04-30 12:13:18,193] Trial 91 finished with value: 0.3562780083095355 and parameters: {'lambda_l1': 0.0059021378435185215, 'lambda_l2': 0.00021207051258922266, 'num_leaves': 184, 'feature_fraction': 0.7569677364811235, 'bagging_fraction': 0.8219203232207375, 'bagging_freq': 5, 'min_child_samples': 53}. Best is trial 53 with value: 0.3625780755366205.\n",
      "[I 2025-04-30 12:13:22,397] Trial 92 finished with value: 0.3506724897578542 and parameters: {'lambda_l1': 0.04445381335744116, 'lambda_l2': 3.0017894256431825, 'num_leaves': 108, 'feature_fraction': 0.7241430676402475, 'bagging_fraction': 0.7843866856591505, 'bagging_freq': 4, 'min_child_samples': 51}. Best is trial 53 with value: 0.3625780755366205.\n",
      "[I 2025-04-30 12:13:26,351] Trial 93 finished with value: 0.34864183990585007 and parameters: {'lambda_l1': 0.0034474713523011914, 'lambda_l2': 0.8517417815351925, 'num_leaves': 129, 'feature_fraction': 0.8104612000482467, 'bagging_fraction': 0.7639311147894672, 'bagging_freq': 5, 'min_child_samples': 55}. Best is trial 53 with value: 0.3625780755366205.\n",
      "[I 2025-04-30 12:13:30,098] Trial 94 finished with value: 0.3573978374926292 and parameters: {'lambda_l1': 0.02361079764992975, 'lambda_l2': 0.002188331592415709, 'num_leaves': 44, 'feature_fraction': 0.5814277605438847, 'bagging_fraction': 0.7756472139898586, 'bagging_freq': 2, 'min_child_samples': 87}. Best is trial 53 with value: 0.3625780755366205.\n",
      "[I 2025-04-30 12:13:34,748] Trial 95 finished with value: 0.35403049936036834 and parameters: {'lambda_l1': 0.025032003178982968, 'lambda_l2': 0.010863588970341809, 'num_leaves': 47, 'feature_fraction': 0.5615471518633315, 'bagging_fraction': 0.7449888552327971, 'bagging_freq': 2, 'min_child_samples': 94}. Best is trial 53 with value: 0.3625780755366205.\n",
      "[I 2025-04-30 12:13:38,231] Trial 96 finished with value: 0.34892301292259004 and parameters: {'lambda_l1': 0.09271927899460197, 'lambda_l2': 0.005879319340038337, 'num_leaves': 38, 'feature_fraction': 0.9271561182621916, 'bagging_fraction': 0.6959791670390824, 'bagging_freq': 2, 'min_child_samples': 86}. Best is trial 53 with value: 0.3625780755366205.\n",
      "[I 2025-04-30 12:13:42,232] Trial 97 finished with value: 0.35312776466032214 and parameters: {'lambda_l1': 0.21599984149560045, 'lambda_l2': 0.02059568779668127, 'num_leaves': 43, 'feature_fraction': 0.5880756541171666, 'bagging_fraction': 0.717937772228821, 'bagging_freq': 1, 'min_child_samples': 97}. Best is trial 53 with value: 0.3625780755366205.\n",
      "[I 2025-04-30 12:13:46,472] Trial 98 finished with value: 0.36154670168852976 and parameters: {'lambda_l1': 0.055881058096807046, 'lambda_l2': 0.0007636788691781771, 'num_leaves': 16, 'feature_fraction': 0.7934081772872427, 'bagging_fraction': 0.63954623832226, 'bagging_freq': 2, 'min_child_samples': 37}. Best is trial 53 with value: 0.3625780755366205.\n",
      "[I 2025-04-30 12:13:50,060] Trial 99 finished with value: 0.3556189759078634 and parameters: {'lambda_l1': 0.06666750368908078, 'lambda_l2': 2.6038806128668473e-07, 'num_leaves': 16, 'feature_fraction': 0.6460374401876339, 'bagging_fraction': 0.7833404749622601, 'bagging_freq': 1, 'min_child_samples': 86}. Best is trial 53 with value: 0.3625780755366205.\n",
      "[I 2025-04-30 12:13:54,265] Trial 100 finished with value: 0.35365648265238536 and parameters: {'lambda_l1': 0.014321532478713801, 'lambda_l2': 7.296904818059765e-05, 'num_leaves': 21, 'feature_fraction': 0.7935100818445542, 'bagging_fraction': 0.6772026134255543, 'bagging_freq': 2, 'min_child_samples': 89}. Best is trial 53 with value: 0.3625780755366205.\n",
      "[I 2025-04-30 12:13:58,583] Trial 101 finished with value: 0.3585084911346622 and parameters: {'lambda_l1': 0.124810493951265, 'lambda_l2': 0.5637108519513456, 'num_leaves': 30, 'feature_fraction': 0.7781816708235244, 'bagging_fraction': 0.6400830283913117, 'bagging_freq': 2, 'min_child_samples': 41}. Best is trial 53 with value: 0.3625780755366205.\n",
      "[I 2025-04-30 12:14:01,591] Trial 102 finished with value: 0.34336825521117254 and parameters: {'lambda_l1': 0.03652389928220052, 'lambda_l2': 0.0007800528494489391, 'num_leaves': 29, 'feature_fraction': 0.7735807451665453, 'bagging_fraction': 0.5815046844206292, 'bagging_freq': 2, 'min_child_samples': 37}. Best is trial 53 with value: 0.3625780755366205.\n",
      "[I 2025-04-30 12:14:05,480] Trial 103 finished with value: 0.35803906430731125 and parameters: {'lambda_l1': 0.3571494292492546, 'lambda_l2': 0.5219372943102418, 'num_leaves': 10, 'feature_fraction': 0.7410431416540239, 'bagging_fraction': 0.6207002851379249, 'bagging_freq': 2, 'min_child_samples': 42}. Best is trial 53 with value: 0.3625780755366205.\n",
      "[I 2025-04-30 12:14:09,169] Trial 104 finished with value: 0.35389538861675196 and parameters: {'lambda_l1': 0.31348535861358934, 'lambda_l2': 0.6240768704296678, 'num_leaves': 7, 'feature_fraction': 0.7247170959668041, 'bagging_fraction': 0.6221693014995002, 'bagging_freq': 2, 'min_child_samples': 32}. Best is trial 53 with value: 0.3625780755366205.\n",
      "[I 2025-04-30 12:14:12,801] Trial 105 finished with value: 0.35955979334045285 and parameters: {'lambda_l1': 0.994135511066893, 'lambda_l2': 1.5482435829465555, 'num_leaves': 14, 'feature_fraction': 0.746118470525279, 'bagging_fraction': 0.6482440136874765, 'bagging_freq': 2, 'min_child_samples': 42}. Best is trial 53 with value: 0.3625780755366205.\n",
      "[I 2025-04-30 12:14:16,054] Trial 106 finished with value: 0.3545326565091306 and parameters: {'lambda_l1': 0.8808937144720561, 'lambda_l2': 0.002237279502585681, 'num_leaves': 12, 'feature_fraction': 0.7417865532315504, 'bagging_fraction': 0.6538792809800147, 'bagging_freq': 2, 'min_child_samples': 42}. Best is trial 53 with value: 0.3625780755366205.\n",
      "[I 2025-04-30 12:14:19,509] Trial 107 finished with value: 0.3520774892223213 and parameters: {'lambda_l1': 3.404577417444532, 'lambda_l2': 1.7015746585865674, 'num_leaves': 19, 'feature_fraction': 0.7538311196447336, 'bagging_fraction': 0.6657310904972822, 'bagging_freq': 2, 'min_child_samples': 40}. Best is trial 53 with value: 0.3625780755366205.\n",
      "[I 2025-04-30 12:14:22,930] Trial 108 finished with value: 0.3535303918627467 and parameters: {'lambda_l1': 1.8533086924921416, 'lambda_l2': 5.385352693535445, 'num_leaves': 14, 'feature_fraction': 0.7068472914890385, 'bagging_fraction': 0.645750398281643, 'bagging_freq': 2, 'min_child_samples': 37}. Best is trial 53 with value: 0.3625780755366205.\n",
      "[I 2025-04-30 12:14:26,223] Trial 109 finished with value: 0.3545781919324992 and parameters: {'lambda_l1': 0.5899043466292264, 'lambda_l2': 0.36584592086852086, 'num_leaves': 25, 'feature_fraction': 0.7675193344724636, 'bagging_fraction': 0.6015514771100101, 'bagging_freq': 2, 'min_child_samples': 46}. Best is trial 53 with value: 0.3625780755366205.\n",
      "[I 2025-04-30 12:14:30,928] Trial 110 finished with value: 0.3547686138894745 and parameters: {'lambda_l1': 0.11553574819711711, 'lambda_l2': 1.052078683153587, 'num_leaves': 7, 'feature_fraction': 0.7932171974120422, 'bagging_fraction': 0.6856635780013774, 'bagging_freq': 1, 'min_child_samples': 29}. Best is trial 53 with value: 0.3625780755366205.\n",
      "[I 2025-04-30 12:14:33,587] Trial 111 finished with value: 0.34767334589231236 and parameters: {'lambda_l1': 0.417033923488706, 'lambda_l2': 0.00026591796978558296, 'num_leaves': 34, 'feature_fraction': 0.7334722494886686, 'bagging_fraction': 0.6368118044031847, 'bagging_freq': 2, 'min_child_samples': 49}. Best is trial 53 with value: 0.3625780755366205.\n",
      "[I 2025-04-30 12:14:37,566] Trial 112 finished with value: 0.35176029422342964 and parameters: {'lambda_l1': 0.05967340237786127, 'lambda_l2': 0.5626454878746638, 'num_leaves': 32, 'feature_fraction': 0.6907109794915315, 'bagging_fraction': 0.621680122245725, 'bagging_freq': 2, 'min_child_samples': 73}. Best is trial 53 with value: 0.3625780755366205.\n",
      "[I 2025-04-30 12:14:41,661] Trial 113 finished with value: 0.35051807168328347 and parameters: {'lambda_l1': 0.14760612957079716, 'lambda_l2': 3.169129135670891, 'num_leaves': 24, 'feature_fraction': 0.8153586726909231, 'bagging_fraction': 0.7079491356295814, 'bagging_freq': 3, 'min_child_samples': 42}. Best is trial 53 with value: 0.3625780755366205.\n",
      "[I 2025-04-30 12:14:44,577] Trial 114 finished with value: 0.3468921823260209 and parameters: {'lambda_l1': 1.292144330552972, 'lambda_l2': 1.4251325030188837, 'num_leaves': 13, 'feature_fraction': 0.7851200302207129, 'bagging_fraction': 0.6602332601491906, 'bagging_freq': 3, 'min_child_samples': 47}. Best is trial 53 with value: 0.3625780755366205.\n",
      "[I 2025-04-30 12:14:48,058] Trial 115 finished with value: 0.3554212736383366 and parameters: {'lambda_l1': 0.3415104378750029, 'lambda_l2': 0.1325539186467449, 'num_leaves': 27, 'feature_fraction': 0.7623488286739944, 'bagging_fraction': 0.6130149165480182, 'bagging_freq': 2, 'min_child_samples': 56}. Best is trial 53 with value: 0.3625780755366205.\n",
      "[I 2025-04-30 12:14:51,795] Trial 116 finished with value: 0.34843955367934343 and parameters: {'lambda_l1': 5.097852054915438e-06, 'lambda_l2': 0.2618320180280187, 'num_leaves': 38, 'feature_fraction': 0.7971548538006181, 'bagging_fraction': 0.6342908943620034, 'bagging_freq': 2, 'min_child_samples': 67}. Best is trial 53 with value: 0.3625780755366205.\n",
      "[I 2025-04-30 12:14:55,191] Trial 117 finished with value: 0.3559070490116977 and parameters: {'lambda_l1': 0.018186515235019594, 'lambda_l2': 0.0705473750004057, 'num_leaves': 20, 'feature_fraction': 0.8283173610088721, 'bagging_fraction': 0.6898986865128032, 'bagging_freq': 2, 'min_child_samples': 39}. Best is trial 53 with value: 0.3625780755366205.\n",
      "[I 2025-04-30 12:14:59,085] Trial 118 finished with value: 0.3461582128759633 and parameters: {'lambda_l1': 0.029430481619655155, 'lambda_l2': 0.4324274944515373, 'num_leaves': 6, 'feature_fraction': 0.7432814778672883, 'bagging_fraction': 0.6685241925521497, 'bagging_freq': 1, 'min_child_samples': 45}. Best is trial 53 with value: 0.3625780755366205.\n",
      "[I 2025-04-30 12:15:03,823] Trial 119 finished with value: 0.30949656607724774 and parameters: {'lambda_l1': 0.08632393217000373, 'lambda_l2': 0.0015178299134722738, 'num_leaves': 2, 'feature_fraction': 0.8433480902171594, 'bagging_fraction': 0.5942487768923956, 'bagging_freq': 3, 'min_child_samples': 34}. Best is trial 53 with value: 0.3625780755366205.\n",
      "[I 2025-04-30 12:15:08,368] Trial 120 finished with value: 0.35668748877221934 and parameters: {'lambda_l1': 6.183866937269396, 'lambda_l2': 2.2807744471616616, 'num_leaves': 46, 'feature_fraction': 0.7132555996335532, 'bagging_fraction': 0.6503071307966034, 'bagging_freq': 2, 'min_child_samples': 60}. Best is trial 53 with value: 0.3625780755366205.\n",
      "[I 2025-04-30 12:15:12,338] Trial 121 finished with value: 0.35682388745171845 and parameters: {'lambda_l1': 0.051105643522259415, 'lambda_l2': 0.18747891419598522, 'num_leaves': 16, 'feature_fraction': 0.580966355729893, 'bagging_fraction': 0.6080223542653798, 'bagging_freq': 2, 'min_child_samples': 63}. Best is trial 53 with value: 0.3625780755366205.\n",
      "[I 2025-04-30 12:15:16,339] Trial 122 finished with value: 0.35721131912431636 and parameters: {'lambda_l1': 0.8734383211655515, 'lambda_l2': 0.9477612308269738, 'num_leaves': 30, 'feature_fraction': 0.5483215707550328, 'bagging_fraction': 0.6233415427190355, 'bagging_freq': 2, 'min_child_samples': 58}. Best is trial 53 with value: 0.3625780755366205.\n",
      "[I 2025-04-30 12:15:20,852] Trial 123 finished with value: 0.3508535230840624 and parameters: {'lambda_l1': 2.644483148929262, 'lambda_l2': 0.846485729849311, 'num_leaves': 53, 'feature_fraction': 0.7761671211331994, 'bagging_fraction': 0.6336100883635984, 'bagging_freq': 2, 'min_child_samples': 57}. Best is trial 53 with value: 0.3625780755366205.\n",
      "[I 2025-04-30 12:15:24,930] Trial 124 finished with value: 0.3557963885446246 and parameters: {'lambda_l1': 0.23830039916113896, 'lambda_l2': 1.3925846062689113, 'num_leaves': 30, 'feature_fraction': 0.8603069683073952, 'bagging_fraction': 0.6741241399581607, 'bagging_freq': 2, 'min_child_samples': 50}. Best is trial 53 with value: 0.3625780755366205.\n",
      "[I 2025-04-30 12:15:28,993] Trial 125 finished with value: 0.356421067596009 and parameters: {'lambda_l1': 0.7577941099928147, 'lambda_l2': 0.6686173250600148, 'num_leaves': 42, 'feature_fraction': 0.5426473590960902, 'bagging_fraction': 0.5748344744380751, 'bagging_freq': 2, 'min_child_samples': 53}. Best is trial 53 with value: 0.3625780755366205.\n",
      "[I 2025-04-30 12:15:34,138] Trial 126 finished with value: 0.35932796251922783 and parameters: {'lambda_l1': 0.9376551515839506, 'lambda_l2': 6.410367731557922, 'num_leaves': 35, 'feature_fraction': 0.5151508582199361, 'bagging_fraction': 0.6458889014404651, 'bagging_freq': 2, 'min_child_samples': 77}. Best is trial 53 with value: 0.3625780755366205.\n",
      "[I 2025-04-30 12:15:39,097] Trial 127 finished with value: 0.3580912669244981 and parameters: {'lambda_l1': 0.463607542655743, 'lambda_l2': 4.155455455962228, 'num_leaves': 36, 'feature_fraction': 0.42944714168353165, 'bagging_fraction': 0.6460232137298556, 'bagging_freq': 2, 'min_child_samples': 80}. Best is trial 53 with value: 0.3625780755366205.\n",
      "[I 2025-04-30 12:15:43,034] Trial 128 finished with value: 0.3554272281954696 and parameters: {'lambda_l1': 0.46806450699457613, 'lambda_l2': 6.516002274358959, 'num_leaves': 11, 'feature_fraction': 0.4292170142033884, 'bagging_fraction': 0.6463061645881143, 'bagging_freq': 2, 'min_child_samples': 84}. Best is trial 53 with value: 0.3625780755366205.\n",
      "[I 2025-04-30 12:15:47,344] Trial 129 finished with value: 0.3554287218683169 and parameters: {'lambda_l1': 1.0976261664778464, 'lambda_l2': 9.079448965125493, 'num_leaves': 22, 'feature_fraction': 0.4748160231536228, 'bagging_fraction': 0.7353960465963548, 'bagging_freq': 2, 'min_child_samples': 83}. Best is trial 53 with value: 0.3625780755366205.\n",
      "[I 2025-04-30 12:15:51,635] Trial 130 finished with value: 0.3492463049078136 and parameters: {'lambda_l1': 2.3064437039348, 'lambda_l2': 3.601216532509035, 'num_leaves': 218, 'feature_fraction': 0.4467763540055762, 'bagging_fraction': 0.6564789011366611, 'bagging_freq': 1, 'min_child_samples': 79}. Best is trial 53 with value: 0.3625780755366205.\n",
      "[I 2025-04-30 12:15:55,839] Trial 131 finished with value: 0.35195899977568706 and parameters: {'lambda_l1': 0.1436734764396968, 'lambda_l2': 2.404689043497558, 'num_leaves': 36, 'feature_fraction': 0.4254625895350071, 'bagging_fraction': 0.6350987573132065, 'bagging_freq': 2, 'min_child_samples': 82}. Best is trial 53 with value: 0.3625780755366205.\n",
      "[I 2025-04-30 12:16:00,815] Trial 132 finished with value: 0.3585486025938729 and parameters: {'lambda_l1': 9.278623959654657e-07, 'lambda_l2': 4.895547185761, 'num_leaves': 40, 'feature_fraction': 0.5151875082629891, 'bagging_fraction': 0.6817153622534385, 'bagging_freq': 2, 'min_child_samples': 76}. Best is trial 53 with value: 0.3625780755366205.\n",
      "[I 2025-04-30 12:16:04,906] Trial 133 finished with value: 0.35682918081743503 and parameters: {'lambda_l1': 1.190647795703838e-06, 'lambda_l2': 5.1853521080585, 'num_leaves': 26, 'feature_fraction': 0.4003300376920145, 'bagging_fraction': 0.6991266403122272, 'bagging_freq': 2, 'min_child_samples': 78}. Best is trial 53 with value: 0.3625780755366205.\n",
      "[I 2025-04-30 12:16:09,528] Trial 134 finished with value: 0.35870521318953336 and parameters: {'lambda_l1': 7.098268281301124e-08, 'lambda_l2': 3.7882185397239003, 'num_leaves': 50, 'feature_fraction': 0.4943179927003862, 'bagging_fraction': 0.6816927349052363, 'bagging_freq': 2, 'min_child_samples': 77}. Best is trial 53 with value: 0.3625780755366205.\n",
      "[I 2025-04-30 12:16:13,578] Trial 135 finished with value: 0.35602087654457804 and parameters: {'lambda_l1': 2.1787976521696443e-07, 'lambda_l2': 7.009617862413424, 'num_leaves': 49, 'feature_fraction': 0.513843735377381, 'bagging_fraction': 0.6838701929510995, 'bagging_freq': 2, 'min_child_samples': 74}. Best is trial 53 with value: 0.3625780755366205.\n",
      "[I 2025-04-30 12:16:17,943] Trial 136 finished with value: 0.35939095090141826 and parameters: {'lambda_l1': 1.5304995822105743e-07, 'lambda_l2': 4.608737112562935, 'num_leaves': 17, 'feature_fraction': 0.4915601538508119, 'bagging_fraction': 0.6687042315546294, 'bagging_freq': 2, 'min_child_samples': 76}. Best is trial 53 with value: 0.3625780755366205.\n",
      "[I 2025-04-30 12:16:21,957] Trial 137 finished with value: 0.3572602861438055 and parameters: {'lambda_l1': 3.88983058315785e-08, 'lambda_l2': 4.153732970183046, 'num_leaves': 16, 'feature_fraction': 0.49143445822805387, 'bagging_fraction': 0.6705842395779479, 'bagging_freq': 2, 'min_child_samples': 79}. Best is trial 53 with value: 0.3625780755366205.\n",
      "[I 2025-04-30 12:16:26,228] Trial 138 finished with value: 0.3569019043956292 and parameters: {'lambda_l1': 8.719134224098842e-06, 'lambda_l2': 8.374997538966056, 'num_leaves': 38, 'feature_fraction': 0.5218468017280881, 'bagging_fraction': 0.6584444845999895, 'bagging_freq': 2, 'min_child_samples': 74}. Best is trial 53 with value: 0.3625780755366205.\n",
      "[I 2025-04-30 12:16:30,896] Trial 139 finished with value: 0.3552206443969813 and parameters: {'lambda_l1': 5.420707975799289e-08, 'lambda_l2': 2.7578404027270165, 'num_leaves': 41, 'feature_fraction': 0.49732389270011257, 'bagging_fraction': 0.68051681286491, 'bagging_freq': 2, 'min_child_samples': 75}. Best is trial 53 with value: 0.3625780755366205.\n",
      "[I 2025-04-30 12:16:34,790] Trial 140 finished with value: 0.35774601756746904 and parameters: {'lambda_l1': 2.7922885734042194e-07, 'lambda_l2': 1.9899452878634395e-05, 'num_leaves': 33, 'feature_fraction': 0.48402403744640404, 'bagging_fraction': 0.7207980254024249, 'bagging_freq': 2, 'min_child_samples': 71}. Best is trial 53 with value: 0.3625780755366205.\n",
      "[I 2025-04-30 12:16:39,009] Trial 141 finished with value: 0.3582047606288955 and parameters: {'lambda_l1': 4.0856627054400604e-07, 'lambda_l2': 2.048186612282066e-05, 'num_leaves': 33, 'feature_fraction': 0.48365157891148625, 'bagging_fraction': 0.6469529498966169, 'bagging_freq': 2, 'min_child_samples': 71}. Best is trial 53 with value: 0.3625780755366205.\n",
      "[I 2025-04-30 12:16:44,425] Trial 142 finished with value: 0.35779325770300113 and parameters: {'lambda_l1': 4.820631555945068e-07, 'lambda_l2': 1.6642779011267736e-06, 'num_leaves': 55, 'feature_fraction': 0.4461253479023011, 'bagging_fraction': 0.6445542729288314, 'bagging_freq': 2, 'min_child_samples': 76}. Best is trial 53 with value: 0.3625780755366205.\n",
      "[I 2025-04-30 12:16:48,890] Trial 143 finished with value: 0.3529086711075564 and parameters: {'lambda_l1': 7.469495570370357e-08, 'lambda_l2': 4.370661715228638, 'num_leaves': 25, 'feature_fraction': 0.4629786637819059, 'bagging_fraction': 0.6601815627653475, 'bagging_freq': 2, 'min_child_samples': 77}. Best is trial 53 with value: 0.3625780755366205.\n",
      "[I 2025-04-30 12:16:52,481] Trial 144 finished with value: 0.351241565032232 and parameters: {'lambda_l1': 1.0429486795792405e-08, 'lambda_l2': 8.063317327994948e-06, 'num_leaves': 11, 'feature_fraction': 0.5184343517259664, 'bagging_fraction': 0.693744826509517, 'bagging_freq': 2, 'min_child_samples': 80}. Best is trial 53 with value: 0.3625780755366205.\n",
      "[I 2025-04-30 12:16:56,649] Trial 145 finished with value: 0.3587292281353289 and parameters: {'lambda_l1': 6.110112930930575e-07, 'lambda_l2': 1.6915784882488965, 'num_leaves': 18, 'feature_fraction': 0.5056068320355301, 'bagging_fraction': 0.6171870789977059, 'bagging_freq': 2, 'min_child_samples': 70}. Best is trial 53 with value: 0.3625780755366205.\n",
      "[I 2025-04-30 12:17:00,259] Trial 146 finished with value: 0.3575100809914753 and parameters: {'lambda_l1': 5.072220102466299e-07, 'lambda_l2': 1.770990908350246, 'num_leaves': 20, 'feature_fraction': 0.5023817249846281, 'bagging_fraction': 0.6493177457700171, 'bagging_freq': 2, 'min_child_samples': 69}. Best is trial 53 with value: 0.3625780755366205.\n",
      "[I 2025-04-30 12:17:04,221] Trial 147 finished with value: 0.3570687701064155 and parameters: {'lambda_l1': 1.1098379961527587e-07, 'lambda_l2': 2.682591479761796, 'num_leaves': 48, 'feature_fraction': 0.48074826876603177, 'bagging_fraction': 0.6685313713446422, 'bagging_freq': 2, 'min_child_samples': 72}. Best is trial 53 with value: 0.3625780755366205.\n",
      "[I 2025-04-30 12:17:08,092] Trial 148 finished with value: 0.3591644729615034 and parameters: {'lambda_l1': 1.2005018379737353e-06, 'lambda_l2': 1.186033117912968e-07, 'num_leaves': 34, 'feature_fraction': 0.4607912487699904, 'bagging_fraction': 0.7032822174435251, 'bagging_freq': 2, 'min_child_samples': 76}. Best is trial 53 with value: 0.3625780755366205.\n",
      "[I 2025-04-30 12:17:11,976] Trial 149 finished with value: 0.35265761429988274 and parameters: {'lambda_l1': 4.510782685213777e-07, 'lambda_l2': 2.7635687035896007e-07, 'num_leaves': 29, 'feature_fraction': 0.5087863870702578, 'bagging_fraction': 0.7036591514065141, 'bagging_freq': 2, 'min_child_samples': 76}. Best is trial 53 with value: 0.3625780755366205.\n"
     ]
    }
   ],
   "source": [
    "import optuna\n",
    "\n",
    "#Genero estudio\n",
    "study = optuna.create_study(direction='maximize',\n",
    "                            storage=\"sqlite:///../work/db.sqlite3\",\n",
    "                            study_name=\"04 - LGB Multiclass CV\",\n",
    "                            load_if_exists = True)\n",
    "\n",
    "#Corro la optimizacion\n",
    "study.optimize(cv_es_lgb_objective, n_trials=150)"
   ]
  },
  {
   "cell_type": "markdown",
   "id": "4a0a5d3b",
   "metadata": {},
   "source": [
    "## LGBM Importance Futures"
   ]
  },
  {
   "cell_type": "code",
   "execution_count": 17,
   "id": "1100ce90",
   "metadata": {},
   "outputs": [
    {
     "data": {
      "image/png": "[encoded data removed]",
      "text/plain": [
       "<Figure size 1000x600 with 1 Axes>"
      ]
     },
     "metadata": {},
     "output_type": "display_data"
    },
    {
     "data": {
      "image/png": "[encoded data removed]",
      "text/plain": [
       "<Figure size 1000x600 with 1 Axes>"
      ]
     },
     "metadata": {},
     "output_type": "display_data"
    },
    {
     "data": {
      "image/png": "[encoded data removed]",
      "text/plain": [
       "<Figure size 1000x600 with 1 Axes>"
      ]
     },
     "metadata": {},
     "output_type": "display_data"
    },
    {
     "data": {
      "image/png": "[encoded data removed]",
      "text/plain": [
       "<Figure size 1150x660 with 5 Axes>"
      ]
     },
     "metadata": {},
     "output_type": "display_data"
    }
   ],
   "source": [
    "import lightgbm as lgb\n",
    "import shap\n",
    "import matplotlib.pyplot as plt\n",
    "from sklearn.inspection import permutation_importance\n",
    "import numpy as np\n",
    "\n",
    "features = np.array(features)\n",
    "model= lgb_model2\n",
    "\n",
    "# --------------------\n",
    "# 1. Feature Importance basada en GAIN\n",
    "# --------------------\n",
    "importances_gain = model.feature_importance(importance_type='gain')\n",
    "sorted_idx_gain = importances_gain.argsort()[::-1]\n",
    "\n",
    "plt.figure(figsize=(10,6))\n",
    "plt.barh(features[sorted_idx_gain], importances_gain[sorted_idx_gain])\n",
    "plt.xlabel('Importancia (GAIN)')\n",
    "plt.title('Feature Importance basada en GAIN')\n",
    "plt.gca().invert_yaxis()\n",
    "plt.show()\n",
    "\n",
    "# --------------------\n",
    "# 2. Feature Importance basada en SPLIT\n",
    "# --------------------\n",
    "importances_split = model.feature_importance(importance_type='split')\n",
    "sorted_idx_split = importances_split.argsort()[::-1]\n",
    "\n",
    "plt.figure(figsize=(10,6))\n",
    "plt.barh(features[sorted_idx_split], importances_split[sorted_idx_split])\n",
    "plt.xlabel('Importancia (SPLIT)')\n",
    "plt.title('Feature Importance basada en SPLIT')\n",
    "plt.gca().invert_yaxis()\n",
    "plt.show()\n",
    "\n",
    "# --------------------\n",
    "# 3. Permutation Importance\n",
    "# --------------------\n",
    "# Para permutation necesitamos un modelo tipo sklearn, armamos uno rápido\n",
    "model_sklearn = lgb.LGBMClassifier(boosting_type='gbdt')\n",
    "model_sklearn.fit(X_train, y_train)\n",
    "\n",
    "perm_result = permutation_importance(model_sklearn, X_test, y_test, n_repeats=10, random_state=42, scoring='accuracy')\n",
    "sorted_idx_perm = perm_result.importances_mean.argsort()\n",
    "\n",
    "plt.figure(figsize=(10,6))\n",
    "plt.barh(features[sorted_idx_perm], perm_result.importances_mean[sorted_idx_perm])\n",
    "plt.xlabel('Impacto en Accuracy')\n",
    "plt.title('Permutation Importance')\n",
    "plt.gca().invert_yaxis()\n",
    "plt.show()\n",
    "\n",
    "# --------------------\n",
    "# 4. SHAP Values\n",
    "# --------------------\n",
    "explainer = shap.TreeExplainer(model)\n",
    "shap_values = explainer.shap_values(X_test)\n",
    "\n",
    "# Graficar importancia promedio\n",
    "shap.summary_plot(shap_values, X_test, feature_names=features, plot_type=\"dot\")"
   ]
  }
 ],
 "metadata": {
  "kernelspec": {
   "display_name": "ldi2",
   "language": "python",
   "name": "python3"
  },
  "language_info": {
   "codemirror_mode": {
    "name": "ipython",
    "version": 3
   },
   "file_extension": ".py",
   "mimetype": "text/x-python",
   "name": "python",
   "nbconvert_exporter": "python",
   "pygments_lexer": "ipython3",
   "version": "3.13.2"
  }
 },
 "nbformat": 4,
 "nbformat_minor": 5
}
