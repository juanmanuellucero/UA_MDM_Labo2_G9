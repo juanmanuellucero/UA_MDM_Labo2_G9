{
 "cells": [
  {
   "cell_type": "markdown",
   "id": "c5c37b40",
   "metadata": {},
   "source": [
    "## Configuracion de Entorno"
   ]
  },
  {
   "cell_type": "code",
   "execution_count": 16,
   "id": "8e3edd9b",
   "metadata": {},
   "outputs": [
    {
     "name": "stdout",
     "output_type": "stream",
     "text": [
      "Directorio actual: C:\\Users\\juanm\\GitHub\\UA_MDM_Labo2_G9\\work\n"
     ]
    }
   ],
   "source": [
    "import os\n",
    "\n",
    "# Si estás en Jupyter Notebook, anclás a una ruta conocida o fija:\n",
    "project_root = r\"C:\\Users\\juanm\\GitHub\\UA_MDM_Labo2_G9\"  # ⚠️ Personalizá esto\n",
    "\n",
    "# Alternativa: usar una carpeta conocida dentro del proyecto\n",
    "# project_root = os.path.abspath(os.path.join(os.getcwd(), \"..\"))  # Menos frágil\n",
    "\n",
    "# Rutas de trabajo\n",
    "workDir = os.path.join(project_root, \"work\")\n",
    "optunaArtifactDir = os.path.join(workDir, \"optuna_artifacts\")\n",
    "optunaTempDir = os.path.join(workDir, \"optuna_temp_artifacts\")\n",
    "\n",
    "# Crear carpetas si no existen\n",
    "os.makedirs(optunaArtifactDir, exist_ok=True)\n",
    "os.makedirs(optunaTempDir, exist_ok=True)\n",
    "\n",
    "# Cambiar al directorio de trabajo solo si es necesario\n",
    "if os.getcwd() != workDir:\n",
    "    os.chdir(workDir)\n",
    "\n",
    "print(\"Directorio actual:\", os.getcwd())\n"
   ]
  },
  {
   "cell_type": "code",
   "execution_count": 17,
   "id": "77c29884",
   "metadata": {},
   "outputs": [],
   "source": [
    "# Manipulación de datos\n",
    "import numpy as np\n",
    "import pandas as pd\n",
    "\n",
    "# Modelado: Gradient Boosting\n",
    "import lightgbm as lgb\n",
    "\n",
    "# Sklearn: splits, métricas y utilidades\n",
    "from sklearn.model_selection import train_test_split, StratifiedKFold\n",
    "from sklearn.metrics import cohen_kappa_score, accuracy_score, balanced_accuracy_score\n",
    "from sklearn.utils import shuffle\n",
    "\n",
    "# Visualización\n",
    "import matplotlib.pyplot as plt  # Usar junto con seaborn o plotly si es necesario\n",
    "import plotly.express as px      # Corrección: no usar `from plotly import express as px`\n",
    "\n",
    "# Optuna para optimización de hiperparámetros\n",
    "import optuna\n",
    "from optuna.artifacts import FileSystemArtifactStore, upload_artifact\n",
    "\n",
    "# Utilidades propias\n",
    "from utiles import plot_confusion_matrix\n",
    "\n",
    "# Guardado de objetos\n",
    "from joblib import dump, load\n",
    "\n",
    "# Sistema\n",
    "import os"
   ]
  },
  {
   "cell_type": "code",
   "execution_count": 18,
   "id": "1b908605",
   "metadata": {},
   "outputs": [],
   "source": [
    "import os\n",
    "\n",
    "# Paths para acceso archivos\n",
    "#Este notebook asume la siguiente estructura de carpetas a partir de la ubicacion de base_dir \n",
    "#(dos niveles arriba de la cƒarpeta donde se ejecuta el notebook). \n",
    "# /ƒ/ƒ\n",
    "# /UA_MDM_Labo2/inputƒ\n",
    "# /UA_MDM_Labo2/input/petfinder-adoption-prediction/            <- Aca deben ir todos los archivos de datos de la competencia \n",
    "# /UA_MDM_Labo2/tutoriales/                       <- Aca deben poner los notebooks y scripts que les compartimos\n",
    "# /UA_MDM_Labo2/work/                             <- Resultados de notebooks iran dentro de esta carpeta en subcarpetas\n",
    "# /UA_MDM_Labo2/work/models/                     <- Modelos entrenados en archivos joblibs\n",
    "# /UA_MDM_Labo2/work/optuna_temp_artifacts/      <- Archivos que queremos dejar como artefacto de un trial de optuna (optuna los copiara a la carpeta de abajo)\n",
    "# /UA_MDM_Labo2/work/optuna_artifacts/           <- Archivos con artefactos que sibimos a optuna\n",
    "\n",
    "#Subimos dos niveles para quedar en la carpeta que contiene input y UA_MDM_Labo2\n",
    "BASE_DIR = '../'\n",
    "\n",
    "#Datos de entrenamiento \n",
    "PATH_TO_TRAIN = os.path.join(BASE_DIR, \"input/petfinder-adoption-prediction/train/train.csv\")\n",
    "\n",
    "#Datos de razas \n",
    "PATH_TO_BREED_LABELS = os.path.join(BASE_DIR, \"modelo/data/petfinder-adoption-prediction/BreedLabels.csv\")\n",
    "\n",
    "#Salida de modelos entrenados\n",
    "PATH_TO_MODELS = os.path.join(BASE_DIR, \"work/models\")\n",
    "\n",
    "#Artefactos a subir a optuna\n",
    "PATH_TO_TEMP_FILES = os.path.join(BASE_DIR, \"work/optuna_temp_artifacts\")\n",
    "\n",
    "#Artefactos que optuna gestiona\n",
    "PATH_TO_OPTUNA_ARTIFACTS = os.path.join(BASE_DIR, \"work/optuna_artifacts\")\n",
    "\n",
    "\n",
    "SEED = 42 #Semilla de procesos aleatorios (para poder replicar exactamente al volver a correr un modelo)\n",
    "TEST_SIZE = 0.2 #Facción para train/test= split"
   ]
  },
  {
   "cell_type": "markdown",
   "id": "dcfe00fc",
   "metadata": {},
   "source": [
    "## Descripcion Feature Engineering"
   ]
  },
  {
   "cell_type": "markdown",
   "id": "315f0781",
   "metadata": {},
   "source": [
    "### 🔹 1. **Transformaciones directas útiles**\n",
    "Variables que ya estaban en los datos, pero necesitaban reformularse para ser más informativas o manejables.\n",
    "\n",
    "| Variable            | Qué hace                                                   | Por qué ayuda                                                  |\n",
    "|---------------------|------------------------------------------------------------|----------------------------------------------------------------|\n",
    "| `HasName`           | Indica si el animal tiene nombre                           | Un animal con nombre puede verse más cercano o adoptable       |\n",
    "| `HasPhoto`          | Indica si tiene al menos una foto                          | Las fotos mejoran visibilidad y atracción                      |\n",
    "| `HasVideo`          | Indica si tiene video cargado                              | Videos pueden generar más confianza y detalle visual          |\n",
    "| `HasDescription`    | Indica si hay texto descriptivo                            | Sin descripción puede percibirse como menos confiable          |\n",
    "| `MixBreed`          | Indica si es de raza mixta (`Breed2 ≠ 0` o nombre con \"Mixed\") | Permite modelar mejor preferencias por raza                   |\n",
    "| `TotalColors`       | Cuántos colores distintos tiene el animal                  | La apariencia puede influir en la percepción de adoptabilidad |\n",
    "| `Fee_log`           | Logaritmo del precio de adopción                           | Reduce el efecto de precios extremos y mejora estabilidad     |\n",
    "| `DescLength`        | Longitud de la descripción textual                         | Textos más largos pueden captar mejor el interés              |\n",
    "| `IsFree`            | Indica si el animal es gratuito (`Fee == 0`)               | La gratuidad puede aumentar la probabilidad de adopción       |\n",
    "\n",
    "**Objetivo**: facilitar al modelo patrones más suaves y reducir distorsiones extremas.\n",
    "\n",
    "---\n",
    "\n",
    "### 🔹 2. **Reagrupaciones o codificaciones útiles**\n",
    "Transforman variables categóricas o numéricas en agrupaciones más interpretables o modelables.\n",
    "\n",
    "| Variable             | Qué hace                                                        | Por qué ayuda                                                   |\n",
    "|----------------------|------------------------------------------------------------------|-----------------------------------------------------------------|\n",
    "| `AgeBins`            | Agrupa la edad en categorías de vida (Cachorro, Joven, Adulto, Mayor, Anciano) | Captura diferencias clave en adoptabilidad por etapa de vida |\n",
    "| `Type_Breed_Combo`   | Combina tipo de animal y raza principal                          | Ciertas combinaciones son preferidas o evitadas                |\n",
    "| `RescuerCount`       | Cuántos animales publicó ese rescatista                          | Rescatistas más activos pueden tener diferente reputación o estrategia |\n",
    "| `DescriptionType`    | Categoriza la longitud de la descripción en niveles              | Refleja esfuerzo del anunciante en atraer adoptantes           |\n",
    "\n",
    "**Objetivo**: capturar efectos grupales que mejoren el aprendizaje del modelo.\n",
    "\n",
    "---\n",
    "\n",
    "### 🔹 3. **Interacciones entre variables**\n",
    "Combinaciones de variables que capturan relaciones más profundas o no lineales.\n",
    "\n",
    "| Variable               | Qué hace                                                             | Por qué ayuda                                                        |\n",
    "|------------------------|----------------------------------------------------------------------|----------------------------------------------------------------------|\n",
    "| `Fee_per_Pet`          | Tarifa dividida por cantidad de mascotas                             | Mejora precisión en adopciones de grupos                            |\n",
    "| `Photo_per_Pet`        | Cantidad de fotos por mascota                                         | Refleja esfuerzo visual por cada animal                             |\n",
    "| `Age_Fee_Ratio`        | Relación entre edad y tarifa                                          | Puede revelar sobrevaloraciones o subvaloraciones                  |\n",
    "| `DescLength_per_Pet`   | Texto por mascota (en adopciones múltiples)                          | Indica dedicación a describir cada animal                           |\n",
    "| `DescLength_per_Rescuer` | Texto promedio por rescatista                                        | Identifica esfuerzo individual de cada rescatista                   |\n",
    "\n",
    "**Objetivo**: reflejar interacciones o normalizaciones clave que impactan en la decisión de adopción.\n",
    "\n",
    "---\n",
    "\n",
    "### 🔹 4. **Perfiles ideales y esfuerzo del rescatista**\n",
    "Condensan múltiples condiciones en señales de alta adoptabilidad.\n",
    "\n",
    "| Variable         | Qué hace                                                                 | Por qué ayuda                                                                 |\n",
    "|------------------|--------------------------------------------------------------------------|-------------------------------------------------------------------------------|\n",
    "| `IsIdealDog`     | Indica si el perro cumple un perfil ideal de adopción                    | Condensa juventud, salud, gratuidad, descripción adecuada, y presentación    |\n",
    "| `IsIdealCat`     | Igual que `IsIdealDog`, pero para gatos                                   | Permite capturar perfiles ideales para adopciones felinas                    |\n",
    "\n",
    "**Objetivo**: sintetizar múltiples factores críticos en un solo indicador potente de adoptabilidad."
   ]
  },
  {
   "cell_type": "markdown",
   "id": "0e967956",
   "metadata": {},
   "source": [
    "## Feature Engineering"
   ]
  },
  {
   "cell_type": "code",
   "execution_count": 31,
   "id": "2bd789d0",
   "metadata": {},
   "outputs": [],
   "source": [
    "import numpy as np\n",
    "import pandas as pd\n",
    "\n",
    "# Cargar el dataset\n",
    "dataset = pd.read_csv(PATH_TO_TRAIN)\n",
    "\n",
    "# 1. Tiene nombre\n",
    "dataset['HasName'] = dataset['Name'].notnull().astype(int)\n",
    "\n",
    "# 2. Tiene Foto\n",
    "dataset['HasPhoto'] = (dataset['PhotoAmt'] > 0).astype(int)\n",
    "\n",
    "# 3. Tiene Video\n",
    "dataset['HasVideo'] = (dataset['VideoAmt'] > 0).astype(int)\n",
    "\n",
    "# 4. Tiene Description\n",
    "dataset['HasDescription'] = (dataset['Description'].notnull()).astype(int)\n",
    "\n",
    "# 5. Es de raza mixta\n",
    "# Cargar etiquetas de razas\n",
    "breed_labels = pd.read_csv(PATH_TO_BREED_LABELS)\n",
    "\n",
    "# Diccionario ID → Nombre de raza\n",
    "id_to_breed = dict(zip(breed_labels['BreedID'], breed_labels['BreedName']))\n",
    "\n",
    "# Crear una nueva columna con el nombre de Breed1\n",
    "dataset['Breed1_name'] = dataset['Breed1'].map(id_to_breed)\n",
    "\n",
    "# Ahora redefinimos MixBreed\n",
    "dataset['MixBreed'] = (\n",
    "    (dataset['Breed2'] != 0) |\n",
    "    (dataset['Breed1_name'].str.contains('Mixed', case=False, na=False))\n",
    ").astype(int)\n",
    "\n",
    "# 6. Total de colores diferentes\n",
    "dataset['TotalColors'] = dataset[['Color1', 'Color2', 'Color3']].ne(0).sum(axis=1)\n",
    "\n",
    "# 7. Log de la tarifa (evita problemas con outliers)\n",
    "dataset['Fee_log'] = np.log1p(dataset['Fee'])\n",
    "\n",
    "# 8. Longitud de la descripción\n",
    "dataset['DescLength'] = dataset['Description'].fillna('').apply(len)\n",
    "\n",
    "# 9. Adopción gratuita\n",
    "dataset['IsFree'] = (dataset['Fee'] == 0).astype(int)\n",
    "\n",
    "# 10. Bin de edad (categórica ordinal)\n",
    "dataset['AgeBins'] = pd.cut(dataset['Age'],\n",
    "                            bins=[-1, 6, 12, 60, 120, np.inf],\n",
    "                            labels=['Cachorro', 'Joven', 'Adulto', 'Mayor', 'Anciano'])\n",
    "\n",
    "dataset['AgeBins'] = dataset['AgeBins'].astype('category')\n",
    "\n",
    "# 11. Combinación tipo-raza principal\n",
    "dataset['Type_Breed_Combo'] = dataset['Type'].astype(str) + '_' + dataset['Breed1'].astype(str)\n",
    "\n",
    "dataset['Type_Breed_Combo'] = dataset['Type_Breed_Combo'].astype('category')\n",
    "\n",
    "# 12. Cuántas mascotas publicó cada rescatista\n",
    "rescuer_counts = dataset['RescuerID'].value_counts()\n",
    "dataset['RescuerCount'] = dataset['RescuerID'].map(rescuer_counts)\n",
    "\n",
    "# 13. Tarifa por mascota\n",
    "dataset['Fee_per_Pet'] = np.where(dataset['Fee'] == 0, 0, dataset['Fee'] / dataset['Quantity'])\n",
    "\n",
    "# 14. Fotos por mascota\n",
    "dataset['Photo_per_Pet'] = np.where(dataset['PhotoAmt'] == 0, 0, dataset['PhotoAmt'] / dataset['Quantity'])\n",
    "\n",
    "# 15. Relación edad/tarifa\n",
    "dataset['Age_Fee_Ratio'] = dataset['Age'] / (dataset['Fee'] + 1)\n",
    "\n",
    "# 16. Longitud descripción por mascota\n",
    "dataset['DescLength_per_Pet'] = np.where(dataset['DescLength'] == 0, 0, dataset['DescLength'] / dataset['Quantity'])\n",
    "\n",
    "# 17. Categorización de longitud de descripción\n",
    "dataset['DescriptionType'] = pd.cut(dataset['Description'].fillna('').apply(len),\n",
    "                                    bins=[0, 5, 170, 3500, np.inf],\n",
    "                                    labels=['Ninguna', 'Corta', 'Media', 'Larga'])\n",
    "\n",
    "dataset['DescriptionType'] = dataset['DescriptionType'].astype('category')\n",
    "\n",
    "# 18. Perfil ideal de perro\n",
    "dataset['IsIdealDog'] = (\n",
    "    (dataset['Type'] == 1) &\n",
    "    (dataset['MaturitySize'].isin([1, 2])) &\n",
    "    (dataset['HasName'] == 1) &\n",
    "    (dataset['Age'] > 0) & (dataset['Age'] < 24) &\n",
    "    (dataset['Health'] == 1) &\n",
    "    (dataset['Fee'] == 0) &\n",
    "    (dataset['DescriptionType'].isin(['Corta', 'Media'])) &\n",
    "    (dataset['MixBreed'] == 0) &\n",
    "    (dataset['Quantity'] == 1) &\n",
    "    (dataset['HasPhoto'] == 1) &\n",
    "    (dataset['Vaccinated'] == 1) &\n",
    "    (dataset['Dewormed'] == 1) &\n",
    "    (dataset['Sterilized'] == 1)\n",
    ").astype(int)\n",
    "\n",
    "# 19. Perfil ideal de gato\n",
    "dataset['IsIdealCat'] = (\n",
    "    (dataset['Type'] == 2) &\n",
    "    (dataset['MaturitySize'].isin([1, 2])) &\n",
    "    (dataset['HasName'] == 1) &\n",
    "    (dataset['Age'] > 0) & (dataset['Age'] < 24) &\n",
    "    (dataset['Health'] == 1) &\n",
    "    (dataset['Fee'] == 0) &\n",
    "    (dataset['DescriptionType'].isin(['Corta', 'Media'])) &\n",
    "    (dataset['MixBreed'] == 0) &\n",
    "    (dataset['Quantity'] == 1) &\n",
    "    (dataset['HasPhoto'] == 1) &\n",
    "    (dataset['Vaccinated'] == 1) &\n",
    "    (dataset['Dewormed'] == 1) &\n",
    "    (dataset['Sterilized'] == 1)\n",
    ").astype(int)\n",
    "\n",
    "# 20. Longitud de la descripción por photo\n",
    "dataset['DescLength_per_Rescuer'] = np.where(dataset['DescLength'] == 0, 0, dataset['DescLength'] / dataset['RescuerCount'])"
   ]
  },
  {
   "cell_type": "code",
   "execution_count": 32,
   "id": "56111d8e",
   "metadata": {},
   "outputs": [
    {
     "data": {
      "text/plain": [
       "['Type',\n",
       " 'Age',\n",
       " 'Breed1',\n",
       " 'Breed2',\n",
       " 'Gender',\n",
       " 'Color1',\n",
       " 'Color2',\n",
       " 'Color3',\n",
       " 'MaturitySize',\n",
       " 'FurLength',\n",
       " 'Vaccinated',\n",
       " 'Dewormed',\n",
       " 'Sterilized',\n",
       " 'Health',\n",
       " 'Quantity',\n",
       " 'Fee',\n",
       " 'State',\n",
       " 'VideoAmt',\n",
       " 'PhotoAmt',\n",
       " 'HasName',\n",
       " 'HasPhoto',\n",
       " 'HasVideo',\n",
       " 'HasDescription',\n",
       " 'MixBreed',\n",
       " 'TotalColors',\n",
       " 'Fee_log',\n",
       " 'DescLength',\n",
       " 'IsFree',\n",
       " 'AgeBins',\n",
       " 'Type_Breed_Combo',\n",
       " 'RescuerCount',\n",
       " 'Fee_per_Pet',\n",
       " 'Photo_per_Pet',\n",
       " 'Age_Fee_Ratio',\n",
       " 'DescLength_per_Pet',\n",
       " 'DescriptionType',\n",
       " 'IsIdealDog',\n",
       " 'IsIdealCat',\n",
       " 'DescLength_per_Rescuer']"
      ]
     },
     "execution_count": 32,
     "metadata": {},
     "output_type": "execute_result"
    }
   ],
   "source": [
    "#Separo un 20% para test estratificado opr target\n",
    "train, test = train_test_split(dataset,\n",
    "                               test_size = TEST_SIZE,\n",
    "                               random_state = SEED,\n",
    "                               stratify = dataset.AdoptionSpeed)\n",
    "\n",
    "#Armo listas con features de texto y numericas\n",
    "char_feats = [f for f in dataset.columns if dataset[f].dtype=='O']\n",
    "numeric_feats = [f for f in dataset.columns if dataset[f].dtype!='O']\n",
    "\n",
    "#Defino features a usar\n",
    "features = numeric_feats.copy()\n",
    "\n",
    "label = 'AdoptionSpeed'\n",
    "\n",
    "# Eliminamos 'AdoptionSpeed' si está\n",
    "if 'AdoptionSpeed' in features:\n",
    "    features.remove('AdoptionSpeed')\n",
    "\n",
    "#Genero dataframes de train y test con sus respectivos targets\n",
    "X_train = train[features]\n",
    "y_train = train[label]\n",
    "\n",
    "X_test = test[features]\n",
    "y_test = test[label]\n",
    "\n",
    "features"
   ]
  },
  {
   "cell_type": "markdown",
   "id": "67ca5d89",
   "metadata": {},
   "source": [
    "## Modelo con hiperparametros por default"
   ]
  },
  {
   "cell_type": "code",
   "execution_count": 33,
   "id": "f4cacb84",
   "metadata": {},
   "outputs": [],
   "source": [
    "#Entreno un modelo inicial sin modificar hiperparametros. Solamente especifico el numero de clases y el tipo de modelo como clasificacoión\n",
    "lgb_params = params = {\n",
    "                        'objective': 'multiclass',\n",
    "                        'num_class': len(y_train.unique())\n",
    "                        }\n",
    "\n",
    "\n",
    "#genero el objeto Dataset que debo pasarle a lightgbm para que entrene\n",
    "lgb_train_dataset = lgb.Dataset(data=X_train,\n",
    "                                label=y_train)\n",
    "\n",
    "#entreno el modelo con los parametros por defecto\n",
    "lgb_model1 = lgb.train(lgb_params,\n",
    "                      lgb_train_dataset)"
   ]
  },
  {
   "cell_type": "code",
   "execution_count": 34,
   "id": "de7e6584",
   "metadata": {},
   "outputs": [
    {
     "data": {
      "text/plain": [
       "array([2, 1, 2, ..., 1, 4, 4], shape=(2999,))"
      ]
     },
     "execution_count": 34,
     "metadata": {},
     "output_type": "execute_result"
    }
   ],
   "source": [
    "lgb_model1.predict(X_test).argmax(axis=1)"
   ]
  },
  {
   "cell_type": "code",
   "execution_count": 35,
   "id": "b0683698",
   "metadata": {},
   "outputs": [
    {
     "name": "stdout",
     "output_type": "stream",
     "text": [
      "0.382211413616227\n"
     ]
    },
    {
     "data": {
      "application/vnd.plotly.v1+json": {
       "config": {
        "plotlyServerURL": "https://plot.ly"
       },
       "data": [
        {
         "type": "heatmap",
         "x": {
          "bdata": "AAECAwQ=",
          "dtype": "i1"
         },
         "y": {
          "bdata": "AAECAwQ=",
          "dtype": "i1"
         },
         "z": {
          "bdata": "E7UrUbsSIUCD8zE4H4NDQCxRuxK1KzdARO1K1K5EHUD0MTgfg/M1QBC8SevU4+k/nLROPZ5dQkC7g/1WG0NAQAuHiTIX1CBA7n3IlmKFNUCZSSgX8bjPP0lWkJ9P8zNAcQS+rzrhREA5a6IA0oYpQKUadB5gRzlAsDCrUcShwz94vNgSfJsrQLzYEnybvz9A8mJL8G3+OkC0D5IB9Uw7QJ/neZ7nec4/kyRJkiRJI0AkSZIkSZIsQDEMwzAMwxhAkiRJkiRpUUA=",
          "dtype": "f8",
          "shape": "5, 5"
         }
        }
       ],
       "layout": {
        "annotations": [
         {
          "font": {
           "color": "white"
          },
          "showarrow": false,
          "text": "8.5 - 7",
          "x": 0,
          "xref": "x",
          "y": 0,
          "yref": "y"
         },
         {
          "font": {
           "color": "white"
          },
          "showarrow": false,
          "text": "39.0 - 32",
          "x": 1,
          "xref": "x",
          "y": 0,
          "yref": "y"
         },
         {
          "font": {
           "color": "white"
          },
          "showarrow": false,
          "text": "23.2 - 19",
          "x": 2,
          "xref": "x",
          "y": 0,
          "yref": "y"
         },
         {
          "font": {
           "color": "white"
          },
          "showarrow": false,
          "text": "7.3 - 6",
          "x": 3,
          "xref": "x",
          "y": 0,
          "yref": "y"
         },
         {
          "font": {
           "color": "white"
          },
          "showarrow": false,
          "text": "22.0 - 18",
          "x": 4,
          "xref": "x",
          "y": 0,
          "yref": "y"
         },
         {
          "font": {
           "color": "white"
          },
          "showarrow": false,
          "text": "0.8 - 5",
          "x": 0,
          "xref": "x",
          "y": 1,
          "yref": "y"
         },
         {
          "font": {
           "color": "white"
          },
          "showarrow": false,
          "text": "36.7 - 227",
          "x": 1,
          "xref": "x",
          "y": 1,
          "yref": "y"
         },
         {
          "font": {
           "color": "white"
          },
          "showarrow": false,
          "text": "32.5 - 201",
          "x": 2,
          "xref": "x",
          "y": 1,
          "yref": "y"
         },
         {
          "font": {
           "color": "white"
          },
          "showarrow": false,
          "text": "8.4 - 52",
          "x": 3,
          "xref": "x",
          "y": 1,
          "yref": "y"
         },
         {
          "font": {
           "color": "white"
          },
          "showarrow": false,
          "text": "21.5 - 133",
          "x": 4,
          "xref": "x",
          "y": 1,
          "yref": "y"
         },
         {
          "font": {
           "color": "white"
          },
          "showarrow": false,
          "text": "0.2 - 2",
          "x": 0,
          "xref": "x",
          "y": 2,
          "yref": "y"
         },
         {
          "font": {
           "color": "white"
          },
          "showarrow": false,
          "text": "20.0 - 161",
          "x": 1,
          "xref": "x",
          "y": 2,
          "yref": "y"
         },
         {
          "font": {
           "color": "white"
          },
          "showarrow": false,
          "text": "41.8 - 337",
          "x": 2,
          "xref": "x",
          "y": 2,
          "yref": "y"
         },
         {
          "font": {
           "color": "white"
          },
          "showarrow": false,
          "text": "12.8 - 103",
          "x": 3,
          "xref": "x",
          "y": 2,
          "yref": "y"
         },
         {
          "font": {
           "color": "white"
          },
          "showarrow": false,
          "text": "25.3 - 204",
          "x": 4,
          "xref": "x",
          "y": 2,
          "yref": "y"
         },
         {
          "font": {
           "color": "white"
          },
          "showarrow": false,
          "text": "0.2 - 1",
          "x": 0,
          "xref": "x",
          "y": 3,
          "yref": "y"
         },
         {
          "font": {
           "color": "white"
          },
          "showarrow": false,
          "text": "13.8 - 90",
          "x": 1,
          "xref": "x",
          "y": 3,
          "yref": "y"
         },
         {
          "font": {
           "color": "white"
          },
          "showarrow": false,
          "text": "31.7 - 207",
          "x": 2,
          "xref": "x",
          "y": 3,
          "yref": "y"
         },
         {
          "font": {
           "color": "white"
          },
          "showarrow": false,
          "text": "27.0 - 176",
          "x": 3,
          "xref": "x",
          "y": 3,
          "yref": "y"
         },
         {
          "font": {
           "color": "white"
          },
          "showarrow": false,
          "text": "27.3 - 178",
          "x": 4,
          "xref": "x",
          "y": 3,
          "yref": "y"
         },
         {
          "font": {
           "color": "white"
          },
          "showarrow": false,
          "text": "0.2 - 2",
          "x": 0,
          "xref": "x",
          "y": 4,
          "yref": "y"
         },
         {
          "font": {
           "color": "white"
          },
          "showarrow": false,
          "text": "9.6 - 81",
          "x": 1,
          "xref": "x",
          "y": 4,
          "yref": "y"
         },
         {
          "font": {
           "color": "white"
          },
          "showarrow": false,
          "text": "14.3 - 120",
          "x": 2,
          "xref": "x",
          "y": 4,
          "yref": "y"
         },
         {
          "font": {
           "color": "white"
          },
          "showarrow": false,
          "text": "6.2 - 52",
          "x": 3,
          "xref": "x",
          "y": 4,
          "yref": "y"
         },
         {
          "font": {
           "color": "white"
          },
          "showarrow": false,
          "text": "69.6 - 585",
          "x": 4,
          "xref": "x",
          "y": 4,
          "yref": "y"
         }
        ],
        "height": 800,
        "template": {
         "data": {
          "bar": [
           {
            "error_x": {
             "color": "#2a3f5f"
            },
            "error_y": {
             "color": "#2a3f5f"
            },
            "marker": {
             "line": {
              "color": "#E5ECF6",
              "width": 0.5
             },
             "pattern": {
              "fillmode": "overlay",
              "size": 10,
              "solidity": 0.2
             }
            },
            "type": "bar"
           }
          ],
          "barpolar": [
           {
            "marker": {
             "line": {
              "color": "#E5ECF6",
              "width": 0.5
             },
             "pattern": {
              "fillmode": "overlay",
              "size": 10,
              "solidity": 0.2
             }
            },
            "type": "barpolar"
           }
          ],
          "carpet": [
           {
            "aaxis": {
             "endlinecolor": "#2a3f5f",
             "gridcolor": "white",
             "linecolor": "white",
             "minorgridcolor": "white",
             "startlinecolor": "#2a3f5f"
            },
            "baxis": {
             "endlinecolor": "#2a3f5f",
             "gridcolor": "white",
             "linecolor": "white",
             "minorgridcolor": "white",
             "startlinecolor": "#2a3f5f"
            },
            "type": "carpet"
           }
          ],
          "choropleth": [
           {
            "colorbar": {
             "outlinewidth": 0,
             "ticks": ""
            },
            "type": "choropleth"
           }
          ],
          "contour": [
           {
            "colorbar": {
             "outlinewidth": 0,
             "ticks": ""
            },
            "colorscale": [
             [
              0,
              "#0d0887"
             ],
             [
              0.1111111111111111,
              "#46039f"
             ],
             [
              0.2222222222222222,
              "#7201a8"
             ],
             [
              0.3333333333333333,
              "#9c179e"
             ],
             [
              0.4444444444444444,
              "#bd3786"
             ],
             [
              0.5555555555555556,
              "#d8576b"
             ],
             [
              0.6666666666666666,
              "#ed7953"
             ],
             [
              0.7777777777777778,
              "#fb9f3a"
             ],
             [
              0.8888888888888888,
              "#fdca26"
             ],
             [
              1,
              "#f0f921"
             ]
            ],
            "type": "contour"
           }
          ],
          "contourcarpet": [
           {
            "colorbar": {
             "outlinewidth": 0,
             "ticks": ""
            },
            "type": "contourcarpet"
           }
          ],
          "heatmap": [
           {
            "colorbar": {
             "outlinewidth": 0,
             "ticks": ""
            },
            "colorscale": [
             [
              0,
              "#0d0887"
             ],
             [
              0.1111111111111111,
              "#46039f"
             ],
             [
              0.2222222222222222,
              "#7201a8"
             ],
             [
              0.3333333333333333,
              "#9c179e"
             ],
             [
              0.4444444444444444,
              "#bd3786"
             ],
             [
              0.5555555555555556,
              "#d8576b"
             ],
             [
              0.6666666666666666,
              "#ed7953"
             ],
             [
              0.7777777777777778,
              "#fb9f3a"
             ],
             [
              0.8888888888888888,
              "#fdca26"
             ],
             [
              1,
              "#f0f921"
             ]
            ],
            "type": "heatmap"
           }
          ],
          "histogram": [
           {
            "marker": {
             "pattern": {
              "fillmode": "overlay",
              "size": 10,
              "solidity": 0.2
             }
            },
            "type": "histogram"
           }
          ],
          "histogram2d": [
           {
            "colorbar": {
             "outlinewidth": 0,
             "ticks": ""
            },
            "colorscale": [
             [
              0,
              "#0d0887"
             ],
             [
              0.1111111111111111,
              "#46039f"
             ],
             [
              0.2222222222222222,
              "#7201a8"
             ],
             [
              0.3333333333333333,
              "#9c179e"
             ],
             [
              0.4444444444444444,
              "#bd3786"
             ],
             [
              0.5555555555555556,
              "#d8576b"
             ],
             [
              0.6666666666666666,
              "#ed7953"
             ],
             [
              0.7777777777777778,
              "#fb9f3a"
             ],
             [
              0.8888888888888888,
              "#fdca26"
             ],
             [
              1,
              "#f0f921"
             ]
            ],
            "type": "histogram2d"
           }
          ],
          "histogram2dcontour": [
           {
            "colorbar": {
             "outlinewidth": 0,
             "ticks": ""
            },
            "colorscale": [
             [
              0,
              "#0d0887"
             ],
             [
              0.1111111111111111,
              "#46039f"
             ],
             [
              0.2222222222222222,
              "#7201a8"
             ],
             [
              0.3333333333333333,
              "#9c179e"
             ],
             [
              0.4444444444444444,
              "#bd3786"
             ],
             [
              0.5555555555555556,
              "#d8576b"
             ],
             [
              0.6666666666666666,
              "#ed7953"
             ],
             [
              0.7777777777777778,
              "#fb9f3a"
             ],
             [
              0.8888888888888888,
              "#fdca26"
             ],
             [
              1,
              "#f0f921"
             ]
            ],
            "type": "histogram2dcontour"
           }
          ],
          "mesh3d": [
           {
            "colorbar": {
             "outlinewidth": 0,
             "ticks": ""
            },
            "type": "mesh3d"
           }
          ],
          "parcoords": [
           {
            "line": {
             "colorbar": {
              "outlinewidth": 0,
              "ticks": ""
             }
            },
            "type": "parcoords"
           }
          ],
          "pie": [
           {
            "automargin": true,
            "type": "pie"
           }
          ],
          "scatter": [
           {
            "fillpattern": {
             "fillmode": "overlay",
             "size": 10,
             "solidity": 0.2
            },
            "type": "scatter"
           }
          ],
          "scatter3d": [
           {
            "line": {
             "colorbar": {
              "outlinewidth": 0,
              "ticks": ""
             }
            },
            "marker": {
             "colorbar": {
              "outlinewidth": 0,
              "ticks": ""
             }
            },
            "type": "scatter3d"
           }
          ],
          "scattercarpet": [
           {
            "marker": {
             "colorbar": {
              "outlinewidth": 0,
              "ticks": ""
             }
            },
            "type": "scattercarpet"
           }
          ],
          "scattergeo": [
           {
            "marker": {
             "colorbar": {
              "outlinewidth": 0,
              "ticks": ""
             }
            },
            "type": "scattergeo"
           }
          ],
          "scattergl": [
           {
            "marker": {
             "colorbar": {
              "outlinewidth": 0,
              "ticks": ""
             }
            },
            "type": "scattergl"
           }
          ],
          "scattermap": [
           {
            "marker": {
             "colorbar": {
              "outlinewidth": 0,
              "ticks": ""
             }
            },
            "type": "scattermap"
           }
          ],
          "scattermapbox": [
           {
            "marker": {
             "colorbar": {
              "outlinewidth": 0,
              "ticks": ""
             }
            },
            "type": "scattermapbox"
           }
          ],
          "scatterpolar": [
           {
            "marker": {
             "colorbar": {
              "outlinewidth": 0,
              "ticks": ""
             }
            },
            "type": "scatterpolar"
           }
          ],
          "scatterpolargl": [
           {
            "marker": {
             "colorbar": {
              "outlinewidth": 0,
              "ticks": ""
             }
            },
            "type": "scatterpolargl"
           }
          ],
          "scatterternary": [
           {
            "marker": {
             "colorbar": {
              "outlinewidth": 0,
              "ticks": ""
             }
            },
            "type": "scatterternary"
           }
          ],
          "surface": [
           {
            "colorbar": {
             "outlinewidth": 0,
             "ticks": ""
            },
            "colorscale": [
             [
              0,
              "#0d0887"
             ],
             [
              0.1111111111111111,
              "#46039f"
             ],
             [
              0.2222222222222222,
              "#7201a8"
             ],
             [
              0.3333333333333333,
              "#9c179e"
             ],
             [
              0.4444444444444444,
              "#bd3786"
             ],
             [
              0.5555555555555556,
              "#d8576b"
             ],
             [
              0.6666666666666666,
              "#ed7953"
             ],
             [
              0.7777777777777778,
              "#fb9f3a"
             ],
             [
              0.8888888888888888,
              "#fdca26"
             ],
             [
              1,
              "#f0f921"
             ]
            ],
            "type": "surface"
           }
          ],
          "table": [
           {
            "cells": {
             "fill": {
              "color": "#EBF0F8"
             },
             "line": {
              "color": "white"
             }
            },
            "header": {
             "fill": {
              "color": "#C8D4E3"
             },
             "line": {
              "color": "white"
             }
            },
            "type": "table"
           }
          ]
         },
         "layout": {
          "annotationdefaults": {
           "arrowcolor": "#2a3f5f",
           "arrowhead": 0,
           "arrowwidth": 1
          },
          "autotypenumbers": "strict",
          "coloraxis": {
           "colorbar": {
            "outlinewidth": 0,
            "ticks": ""
           }
          },
          "colorscale": {
           "diverging": [
            [
             0,
             "#8e0152"
            ],
            [
             0.1,
             "#c51b7d"
            ],
            [
             0.2,
             "#de77ae"
            ],
            [
             0.3,
             "#f1b6da"
            ],
            [
             0.4,
             "#fde0ef"
            ],
            [
             0.5,
             "#f7f7f7"
            ],
            [
             0.6,
             "#e6f5d0"
            ],
            [
             0.7,
             "#b8e186"
            ],
            [
             0.8,
             "#7fbc41"
            ],
            [
             0.9,
             "#4d9221"
            ],
            [
             1,
             "#276419"
            ]
           ],
           "sequential": [
            [
             0,
             "#0d0887"
            ],
            [
             0.1111111111111111,
             "#46039f"
            ],
            [
             0.2222222222222222,
             "#7201a8"
            ],
            [
             0.3333333333333333,
             "#9c179e"
            ],
            [
             0.4444444444444444,
             "#bd3786"
            ],
            [
             0.5555555555555556,
             "#d8576b"
            ],
            [
             0.6666666666666666,
             "#ed7953"
            ],
            [
             0.7777777777777778,
             "#fb9f3a"
            ],
            [
             0.8888888888888888,
             "#fdca26"
            ],
            [
             1,
             "#f0f921"
            ]
           ],
           "sequentialminus": [
            [
             0,
             "#0d0887"
            ],
            [
             0.1111111111111111,
             "#46039f"
            ],
            [
             0.2222222222222222,
             "#7201a8"
            ],
            [
             0.3333333333333333,
             "#9c179e"
            ],
            [
             0.4444444444444444,
             "#bd3786"
            ],
            [
             0.5555555555555556,
             "#d8576b"
            ],
            [
             0.6666666666666666,
             "#ed7953"
            ],
            [
             0.7777777777777778,
             "#fb9f3a"
            ],
            [
             0.8888888888888888,
             "#fdca26"
            ],
            [
             1,
             "#f0f921"
            ]
           ]
          },
          "colorway": [
           "#636efa",
           "#EF553B",
           "#00cc96",
           "#ab63fa",
           "#FFA15A",
           "#19d3f3",
           "#FF6692",
           "#B6E880",
           "#FF97FF",
           "#FECB52"
          ],
          "font": {
           "color": "#2a3f5f"
          },
          "geo": {
           "bgcolor": "white",
           "lakecolor": "white",
           "landcolor": "#E5ECF6",
           "showlakes": true,
           "showland": true,
           "subunitcolor": "white"
          },
          "hoverlabel": {
           "align": "left"
          },
          "hovermode": "closest",
          "mapbox": {
           "style": "light"
          },
          "paper_bgcolor": "white",
          "plot_bgcolor": "#E5ECF6",
          "polar": {
           "angularaxis": {
            "gridcolor": "white",
            "linecolor": "white",
            "ticks": ""
           },
           "bgcolor": "#E5ECF6",
           "radialaxis": {
            "gridcolor": "white",
            "linecolor": "white",
            "ticks": ""
           }
          },
          "scene": {
           "xaxis": {
            "backgroundcolor": "#E5ECF6",
            "gridcolor": "white",
            "gridwidth": 2,
            "linecolor": "white",
            "showbackground": true,
            "ticks": "",
            "zerolinecolor": "white"
           },
           "yaxis": {
            "backgroundcolor": "#E5ECF6",
            "gridcolor": "white",
            "gridwidth": 2,
            "linecolor": "white",
            "showbackground": true,
            "ticks": "",
            "zerolinecolor": "white"
           },
           "zaxis": {
            "backgroundcolor": "#E5ECF6",
            "gridcolor": "white",
            "gridwidth": 2,
            "linecolor": "white",
            "showbackground": true,
            "ticks": "",
            "zerolinecolor": "white"
           }
          },
          "shapedefaults": {
           "line": {
            "color": "#2a3f5f"
           }
          },
          "ternary": {
           "aaxis": {
            "gridcolor": "white",
            "linecolor": "white",
            "ticks": ""
           },
           "baxis": {
            "gridcolor": "white",
            "linecolor": "white",
            "ticks": ""
           },
           "bgcolor": "#E5ECF6",
           "caxis": {
            "gridcolor": "white",
            "linecolor": "white",
            "ticks": ""
           }
          },
          "title": {
           "x": 0.05
          },
          "xaxis": {
           "automargin": true,
           "gridcolor": "white",
           "linecolor": "white",
           "ticks": "",
           "title": {
            "standoff": 15
           },
           "zerolinecolor": "white",
           "zerolinewidth": 2
          },
          "yaxis": {
           "automargin": true,
           "gridcolor": "white",
           "linecolor": "white",
           "ticks": "",
           "title": {
            "standoff": 15
           },
           "zerolinecolor": "white",
           "zerolinewidth": 2
          }
         }
        },
        "title": {
         "text": "Conf Matrix"
        },
        "width": 800,
        "xaxis": {
         "title": {
          "text": "Predicted value"
         }
        },
        "yaxis": {
         "title": {
          "text": "Real value"
         }
        }
       }
      }
     },
     "metadata": {},
     "output_type": "display_data"
    }
   ],
   "source": [
    "#Obtengo las predicciones sobre el set de test. El modelo me da una lista de probabilidades para cada clase y tomo la clase con mayor probabilidad con la funcion argmax\n",
    "y_pred = lgb_model1.predict(X_test).argmax(axis=1)\n",
    "\n",
    "#Calculo el Kappa\n",
    "print(cohen_kappa_score(y_test,y_pred, weights = 'quadratic'))\n",
    "\n",
    "#Muestro la matriz de confusión\n",
    "display(plot_confusion_matrix(y_test,y_pred))"
   ]
  },
  {
   "cell_type": "markdown",
   "id": "0270bbba",
   "metadata": {},
   "source": [
    "## Modelo con optimizacion de hiperparametros train/test"
   ]
  },
  {
   "cell_type": "code",
   "execution_count": 36,
   "id": "f521b491",
   "metadata": {},
   "outputs": [],
   "source": [
    "#Funcion que vamos a optimizar. Optuna requiere que usemos el objeto trial para generar los parametros a optimizar\n",
    "def lgb_objective(trial):\n",
    "    #PArametros para LightGBM\n",
    "    lgb_params = {      \n",
    "                        #PArametros fijos\n",
    "                        'objective': 'multiclass',\n",
    "                        'verbosity':-1,\n",
    "                        'num_class': len(y_train.unique()),\n",
    "                        #Hiperparametros a optimizar utilizando suggest_float o suggest_int segun el tipo de dato\n",
    "                        #Se indica el nombre del parametro, valor minimo, valor maximo \n",
    "                        #en elgunos casos el parametro log=True para parametros que requieren buscar en esa escala\n",
    "                        'lambda_l1': trial.suggest_float('lambda_l1', 1e-8, 10.0, log=True),\n",
    "                        'lambda_l2': trial.suggest_float('lambda_l2', 1e-8, 10.0, log=True),\n",
    "                        'num_leaves': trial.suggest_int('num_leaves', 2, 256),\n",
    "                        'feature_fraction': trial.suggest_float('feature_fraction', 0.4, 1.0),\n",
    "                        'bagging_fraction': trial.suggest_float('bagging_fraction', 0.4, 1.0),\n",
    "                        'bagging_freq': trial.suggest_int('bagging_freq', 1, 7),\n",
    "                        'min_child_samples': trial.suggest_int('min_child_samples', 5, 100),\n",
    "                        } \n",
    "\n",
    "    #Genero objeto dataset de entrenamiento\n",
    "    lgb_train_dataset = lgb.Dataset(data=X_train,\n",
    "                                    label=y_train)\n",
    "\n",
    "    #ajuste de modelo\n",
    "    lgb_model2 = lgb.train(lgb_params,\n",
    "                        lgb_train_dataset)\n",
    "    \n",
    "    #Devuelvo el score en test\n",
    "    return(cohen_kappa_score(y_test,lgb_model2.predict(X_test).argmax(axis=1),\n",
    "                             weights = 'quadratic'))"
   ]
  },
  {
   "cell_type": "code",
   "execution_count": 37,
   "id": "e5f668a9",
   "metadata": {},
   "outputs": [
    {
     "name": "stderr",
     "output_type": "stream",
     "text": [
      "[I 2025-04-28 01:33:35,301] Using an existing study with name '04 - LGB Multiclass' instead of creating a new one.\n",
      "[I 2025-04-28 01:33:42,997] Trial 1600 finished with value: 0.3768759229456057 and parameters: {'lambda_l1': 0.19418832511282988, 'lambda_l2': 0.07174893371378692, 'num_leaves': 252, 'feature_fraction': 0.8535883224488404, 'bagging_fraction': 0.8432139286842752, 'bagging_freq': 7, 'min_child_samples': 9}. Best is trial 578 with value: 0.3993619212329351.\n",
      "[I 2025-04-28 01:33:49,208] Trial 1601 finished with value: 0.35236938683989216 and parameters: {'lambda_l1': 0.09727587932375276, 'lambda_l2': 0.12104071805148643, 'num_leaves': 246, 'feature_fraction': 0.847849744999198, 'bagging_fraction': 0.7830632438996654, 'bagging_freq': 7, 'min_child_samples': 5}. Best is trial 578 with value: 0.3993619212329351.\n",
      "[I 2025-04-28 01:33:55,473] Trial 1602 finished with value: 0.3611716077103577 and parameters: {'lambda_l1': 0.01624814300150202, 'lambda_l2': 0.2545481796721416, 'num_leaves': 243, 'feature_fraction': 0.8643223459384358, 'bagging_fraction': 0.6791847951872126, 'bagging_freq': 7, 'min_child_samples': 13}. Best is trial 578 with value: 0.3993619212329351.\n",
      "[I 2025-04-28 01:34:00,851] Trial 1603 finished with value: 0.3785519893945928 and parameters: {'lambda_l1': 0.16003767464820848, 'lambda_l2': 0.18563475140382066, 'num_leaves': 233, 'feature_fraction': 0.8463375563379082, 'bagging_fraction': 0.8247134976180708, 'bagging_freq': 7, 'min_child_samples': 7}. Best is trial 578 with value: 0.3993619212329351.\n",
      "[I 2025-04-28 01:34:04,098] Trial 1604 finished with value: 0.36289176906421183 and parameters: {'lambda_l1': 0.4759586293354667, 'lambda_l2': 0.09386895526943649, 'num_leaves': 251, 'feature_fraction': 0.891727051199993, 'bagging_fraction': 0.8010263570608017, 'bagging_freq': 7, 'min_child_samples': 11}. Best is trial 578 with value: 0.3993619212329351.\n",
      "[I 2025-04-28 01:34:06,148] Trial 1605 finished with value: 0.37693774759085596 and parameters: {'lambda_l1': 0.11741862353918478, 'lambda_l2': 5.3980791937781114e-08, 'num_leaves': 239, 'feature_fraction': 0.8546594379355711, 'bagging_fraction': 0.8783547305098236, 'bagging_freq': 7, 'min_child_samples': 50}. Best is trial 578 with value: 0.3993619212329351.\n",
      "[I 2025-04-28 01:34:09,250] Trial 1606 finished with value: 0.36368325334610374 and parameters: {'lambda_l1': 0.3757469818469686, 'lambda_l2': 2.9865308013689635e-07, 'num_leaves': 228, 'feature_fraction': 0.8747573593369371, 'bagging_fraction': 0.8122871985669953, 'bagging_freq': 7, 'min_child_samples': 9}. Best is trial 578 with value: 0.3993619212329351.\n",
      "[I 2025-04-28 01:34:12,353] Trial 1607 finished with value: 0.3624832987945521 and parameters: {'lambda_l1': 0.2454495003523046, 'lambda_l2': 0.07296159082359831, 'num_leaves': 244, 'feature_fraction': 0.8673146559439375, 'bagging_fraction': 0.7870773245533975, 'bagging_freq': 7, 'min_child_samples': 6}. Best is trial 578 with value: 0.3993619212329351.\n",
      "[I 2025-04-28 01:34:16,027] Trial 1608 finished with value: 0.3649190842264606 and parameters: {'lambda_l1': 0.012411077922187768, 'lambda_l2': 1.4197840328550848e-08, 'num_leaves': 248, 'feature_fraction': 0.8438219585014669, 'bagging_fraction': 0.8334237112279673, 'bagging_freq': 7, 'min_child_samples': 14}. Best is trial 578 with value: 0.3993619212329351.\n",
      "[I 2025-04-28 01:34:19,214] Trial 1609 finished with value: 0.3848436964520737 and parameters: {'lambda_l1': 0.030821136337421375, 'lambda_l2': 7.086891449252841e-07, 'num_leaves': 235, 'feature_fraction': 0.8576866292077862, 'bagging_fraction': 0.8220586738456745, 'bagging_freq': 7, 'min_child_samples': 10}. Best is trial 578 with value: 0.3993619212329351.\n",
      "[I 2025-04-28 01:34:22,302] Trial 1610 finished with value: 0.3585895001703523 and parameters: {'lambda_l1': 0.8982159049926065, 'lambda_l2': 0.19288161306557106, 'num_leaves': 256, 'feature_fraction': 0.7205762156033758, 'bagging_fraction': 0.7992659580703425, 'bagging_freq': 7, 'min_child_samples': 8}. Best is trial 578 with value: 0.3993619212329351.\n",
      "[I 2025-04-28 01:34:25,700] Trial 1611 finished with value: 0.3651096647696196 and parameters: {'lambda_l1': 0.015863719355696703, 'lambda_l2': 0.26358773348627823, 'num_leaves': 240, 'feature_fraction': 0.8987638904907126, 'bagging_fraction': 0.8633500765947094, 'bagging_freq': 7, 'min_child_samples': 12}. Best is trial 578 with value: 0.3993619212329351.\n",
      "[I 2025-04-28 01:34:29,007] Trial 1612 finished with value: 0.3675840244147104 and parameters: {'lambda_l1': 0.009865804084005595, 'lambda_l2': 0.47349313221502703, 'num_leaves': 251, 'feature_fraction': 0.8411809935791509, 'bagging_fraction': 0.8497973371060232, 'bagging_freq': 7, 'min_child_samples': 5}. Best is trial 578 with value: 0.3993619212329351.\n",
      "[I 2025-04-28 01:34:32,244] Trial 1613 finished with value: 0.37825662317977804 and parameters: {'lambda_l1': 0.044148816574545974, 'lambda_l2': 0.13748408701493892, 'num_leaves': 244, 'feature_fraction': 0.8503798032353279, 'bagging_fraction': 0.8115129210713828, 'bagging_freq': 7, 'min_child_samples': 7}. Best is trial 578 with value: 0.3993619212329351.\n",
      "[I 2025-04-28 01:34:35,109] Trial 1614 finished with value: 0.38893284681689 and parameters: {'lambda_l1': 0.02887827148574744, 'lambda_l2': 7.869097458961717e-07, 'num_leaves': 234, 'feature_fraction': 0.8816330367668348, 'bagging_fraction': 0.827524190413779, 'bagging_freq': 7, 'min_child_samples': 10}. Best is trial 578 with value: 0.3993619212329351.\n",
      "[I 2025-04-28 01:34:38,506] Trial 1615 finished with value: 0.3843697508263998 and parameters: {'lambda_l1': 0.32456407216938943, 'lambda_l2': 0.06266560261793323, 'num_leaves': 246, 'feature_fraction': 0.8703722471783375, 'bagging_fraction': 0.7882684438093572, 'bagging_freq': 7, 'min_child_samples': 8}. Best is trial 578 with value: 0.3993619212329351.\n",
      "[I 2025-04-28 01:34:41,143] Trial 1616 finished with value: 0.3637643883610481 and parameters: {'lambda_l1': 0.284895031631529, 'lambda_l2': 1.0189398134151247e-08, 'num_leaves': 240, 'feature_fraction': 0.7067477943810289, 'bagging_fraction': 0.8078149919365174, 'bagging_freq': 7, 'min_child_samples': 14}. Best is trial 578 with value: 0.3993619212329351.\n",
      "[I 2025-04-28 01:34:44,092] Trial 1617 finished with value: 0.36154282271494553 and parameters: {'lambda_l1': 0.6685517808980501, 'lambda_l2': 2.2350343019637696e-08, 'num_leaves': 248, 'feature_fraction': 0.8373683208337961, 'bagging_fraction': 0.8398789607910181, 'bagging_freq': 7, 'min_child_samples': 12}. Best is trial 578 with value: 0.3993619212329351.\n",
      "[I 2025-04-28 01:34:46,056] Trial 1618 finished with value: 0.3641753572675779 and parameters: {'lambda_l1': 0.05941069058790989, 'lambda_l2': 0.11378445066538874, 'num_leaves': 252, 'feature_fraction': 0.8444306389893965, 'bagging_fraction': 0.8193067736896084, 'bagging_freq': 7, 'min_child_samples': 86}. Best is trial 578 with value: 0.3993619212329351.\n",
      "[I 2025-04-28 01:34:49,480] Trial 1619 finished with value: 0.3927798939044923 and parameters: {'lambda_l1': 0.019433134934332217, 'lambda_l2': 5.059402898622061e-07, 'num_leaves': 236, 'feature_fraction': 0.8512729791288174, 'bagging_fraction': 0.7952346656223991, 'bagging_freq': 7, 'min_child_samples': 5}. Best is trial 578 with value: 0.3993619212329351.\n",
      "[I 2025-04-28 01:34:52,411] Trial 1620 finished with value: 0.3766149972168451 and parameters: {'lambda_l1': 0.025681290627148873, 'lambda_l2': 3.1177208063776125e-07, 'num_leaves': 226, 'feature_fraction': 0.8885659108329961, 'bagging_fraction': 0.8070118957729935, 'bagging_freq': 7, 'min_child_samples': 6}. Best is trial 578 with value: 0.3993619212329351.\n",
      "[I 2025-04-28 01:34:55,604] Trial 1621 finished with value: 0.37362200162199477 and parameters: {'lambda_l1': 0.012695181962248888, 'lambda_l2': 4.2256729189123364e-07, 'num_leaves': 234, 'feature_fraction': 0.8580276765642196, 'bagging_fraction': 0.8218036731872744, 'bagging_freq': 7, 'min_child_samples': 5}. Best is trial 578 with value: 0.3993619212329351.\n",
      "[I 2025-04-28 01:34:58,900] Trial 1622 finished with value: 0.36299090459319705 and parameters: {'lambda_l1': 0.020752335860894776, 'lambda_l2': 4.786232971000828e-07, 'num_leaves': 227, 'feature_fraction': 0.8635451482397682, 'bagging_fraction': 0.7981604421556022, 'bagging_freq': 7, 'min_child_samples': 5}. Best is trial 578 with value: 0.3993619212329351.\n",
      "[I 2025-04-28 01:35:02,627] Trial 1623 finished with value: 0.3773522642356375 and parameters: {'lambda_l1': 0.0066347222075250865, 'lambda_l2': 2.3066532063086207e-07, 'num_leaves': 238, 'feature_fraction': 0.8720662993867659, 'bagging_fraction': 0.8157918137201919, 'bagging_freq': 7, 'min_child_samples': 5}. Best is trial 578 with value: 0.3993619212329351.\n",
      "[I 2025-04-28 01:35:05,851] Trial 1624 finished with value: 0.37760819707227755 and parameters: {'lambda_l1': 0.012299236130323453, 'lambda_l2': 5.910555996006403e-07, 'num_leaves': 228, 'feature_fraction': 0.8699295475310296, 'bagging_fraction': 0.834329046843735, 'bagging_freq': 7, 'min_child_samples': 5}. Best is trial 578 with value: 0.3993619212329351.\n",
      "[I 2025-04-28 01:35:08,901] Trial 1625 finished with value: 0.3588608926952489 and parameters: {'lambda_l1': 0.019558411260359718, 'lambda_l2': 3.3662234422927735e-07, 'num_leaves': 231, 'feature_fraction': 0.8842337360910155, 'bagging_fraction': 0.8048561336041118, 'bagging_freq': 7, 'min_child_samples': 5}. Best is trial 578 with value: 0.3993619212329351.\n",
      "[I 2025-04-28 01:35:11,949] Trial 1626 finished with value: 0.38547137883515903 and parameters: {'lambda_l1': 0.02977294168460902, 'lambda_l2': 6.652856416907992e-07, 'num_leaves': 232, 'feature_fraction': 0.8566609493013297, 'bagging_fraction': 0.8280467885785643, 'bagging_freq': 7, 'min_child_samples': 7}. Best is trial 578 with value: 0.3993619212329351.\n",
      "[I 2025-04-28 01:35:15,025] Trial 1627 finished with value: 0.3751285363880783 and parameters: {'lambda_l1': 0.00757316539803872, 'lambda_l2': 1.5403564104246633e-07, 'num_leaves': 237, 'feature_fraction': 0.7286138743155672, 'bagging_fraction': 0.8160139824271144, 'bagging_freq': 7, 'min_child_samples': 5}. Best is trial 578 with value: 0.3993619212329351.\n",
      "[I 2025-04-28 01:35:17,855] Trial 1628 finished with value: 0.38386725154516477 and parameters: {'lambda_l1': 0.017326441155558984, 'lambda_l2': 4.3571608805755614e-07, 'num_leaves': 232, 'feature_fraction': 0.8560937710610387, 'bagging_fraction': 0.8454327082500349, 'bagging_freq': 7, 'min_child_samples': 7}. Best is trial 578 with value: 0.3993619212329351.\n",
      "[I 2025-04-28 01:35:21,002] Trial 1629 finished with value: 0.3898364854732458 and parameters: {'lambda_l1': 0.008687680590126437, 'lambda_l2': 8.727181262231016e-07, 'num_leaves': 240, 'feature_fraction': 0.8483208730597963, 'bagging_fraction': 0.7976794938131418, 'bagging_freq': 7, 'min_child_samples': 7}. Best is trial 578 with value: 0.3993619212329351.\n",
      "[I 2025-04-28 01:35:23,911] Trial 1630 finished with value: 0.36525880529250365 and parameters: {'lambda_l1': 0.02553435991263648, 'lambda_l2': 2.548440539880497e-07, 'num_leaves': 241, 'feature_fraction': 0.44944327710784776, 'bagging_fraction': 0.807958528059374, 'bagging_freq': 7, 'min_child_samples': 5}. Best is trial 578 with value: 0.3993619212329351.\n",
      "[I 2025-04-28 01:35:26,941] Trial 1631 finished with value: 0.3791984555132878 and parameters: {'lambda_l1': 0.015119594984742149, 'lambda_l2': 3.396796796834132e-07, 'num_leaves': 230, 'feature_fraction': 0.7208555797941086, 'bagging_fraction': 0.8273792312098982, 'bagging_freq': 7, 'min_child_samples': 7}. Best is trial 578 with value: 0.3993619212329351.\n",
      "[I 2025-04-28 01:35:29,880] Trial 1632 finished with value: 0.3826590126395789 and parameters: {'lambda_l1': 0.03652179494723689, 'lambda_l2': 5.239743579043952e-07, 'num_leaves': 238, 'feature_fraction': 0.9047505045502325, 'bagging_fraction': 0.7949506518240835, 'bagging_freq': 7, 'min_child_samples': 7}. Best is trial 578 with value: 0.3993619212329351.\n",
      "[I 2025-04-28 01:35:33,042] Trial 1633 finished with value: 0.3622851164060359 and parameters: {'lambda_l1': 0.010550568386186983, 'lambda_l2': 7.666140674601706e-07, 'num_leaves': 235, 'feature_fraction': 0.8371115770119352, 'bagging_fraction': 0.8358769121979084, 'bagging_freq': 7, 'min_child_samples': 5}. Best is trial 578 with value: 0.3993619212329351.\n",
      "[I 2025-04-28 01:35:35,856] Trial 1634 finished with value: 0.38171562788995617 and parameters: {'lambda_l1': 0.017680937753693563, 'lambda_l2': 5.368607617865309e-07, 'num_leaves': 223, 'feature_fraction': 0.8049155711170384, 'bagging_fraction': 0.8180287986027559, 'bagging_freq': 7, 'min_child_samples': 8}. Best is trial 578 with value: 0.3993619212329351.\n",
      "[I 2025-04-28 01:35:39,364] Trial 1635 finished with value: 0.37726848163175253 and parameters: {'lambda_l1': 0.035501504754040944, 'lambda_l2': 1.1448768807120562e-06, 'num_leaves': 244, 'feature_fraction': 0.8778204754220079, 'bagging_fraction': 0.8565549244369484, 'bagging_freq': 7, 'min_child_samples': 5}. Best is trial 578 with value: 0.3993619212329351.\n",
      "[I 2025-04-28 01:35:42,726] Trial 1636 finished with value: 0.3624809729593106 and parameters: {'lambda_l1': 0.01822186163805148, 'lambda_l2': 6.890863999837438e-05, 'num_leaves': 245, 'feature_fraction': 0.8313974555854254, 'bagging_fraction': 0.6975746946690442, 'bagging_freq': 7, 'min_child_samples': 7}. Best is trial 578 with value: 0.3993619212329351.\n",
      "[I 2025-04-28 01:35:45,730] Trial 1637 finished with value: 0.38341485813590104 and parameters: {'lambda_l1': 0.025359991304693998, 'lambda_l2': 1.0048712413572364e-06, 'num_leaves': 238, 'feature_fraction': 0.8498693222786401, 'bagging_fraction': 0.8092832064962231, 'bagging_freq': 7, 'min_child_samples': 9}. Best is trial 578 with value: 0.3993619212329351.\n",
      "[I 2025-04-28 01:35:48,871] Trial 1638 finished with value: 0.39519489410949127 and parameters: {'lambda_l1': 0.013098183240293505, 'lambda_l2': 2.112869602537882e-07, 'num_leaves': 226, 'feature_fraction': 0.8116757984372565, 'bagging_fraction': 0.7960146217057257, 'bagging_freq': 7, 'min_child_samples': 7}. Best is trial 578 with value: 0.3993619212329351.\n",
      "[I 2025-04-28 01:35:51,893] Trial 1639 finished with value: 0.3929302016107086 and parameters: {'lambda_l1': 0.030303128841002943, 'lambda_l2': 2.2076277617239017e-07, 'num_leaves': 226, 'feature_fraction': 0.8032395423252833, 'bagging_fraction': 0.7823340056915902, 'bagging_freq': 7, 'min_child_samples': 5}. Best is trial 578 with value: 0.3993619212329351.\n",
      "[I 2025-04-28 01:35:54,964] Trial 1640 finished with value: 0.36311263664013727 and parameters: {'lambda_l1': 0.02549576053542758, 'lambda_l2': 1.4476690287544813e-07, 'num_leaves': 233, 'feature_fraction': 0.5312045253549628, 'bagging_fraction': 0.7814153589701789, 'bagging_freq': 7, 'min_child_samples': 5}. Best is trial 578 with value: 0.3993619212329351.\n",
      "[I 2025-04-28 01:35:57,623] Trial 1641 finished with value: 0.3875253457961395 and parameters: {'lambda_l1': 0.03596059450458066, 'lambda_l2': 1.1195064541491213e-07, 'num_leaves': 222, 'feature_fraction': 0.7955599964773407, 'bagging_fraction': 0.780819350259124, 'bagging_freq': 7, 'min_child_samples': 5}. Best is trial 578 with value: 0.3993619212329351.\n",
      "[I 2025-04-28 01:36:00,476] Trial 1642 finished with value: 0.361990082473572 and parameters: {'lambda_l1': 0.048544220918906374, 'lambda_l2': 1.6088076842552585e-07, 'num_leaves': 220, 'feature_fraction': 0.8034569470527474, 'bagging_fraction': 0.7849171124149249, 'bagging_freq': 7, 'min_child_samples': 5}. Best is trial 578 with value: 0.3993619212329351.\n",
      "[I 2025-04-28 01:36:03,175] Trial 1643 finished with value: 0.38173004639858565 and parameters: {'lambda_l1': 0.020804888060750988, 'lambda_l2': 2.0896768378434074e-07, 'num_leaves': 225, 'feature_fraction': 0.7880568731042807, 'bagging_fraction': 0.7876724485805219, 'bagging_freq': 7, 'min_child_samples': 5}. Best is trial 578 with value: 0.3993619212329351.\n",
      "[I 2025-04-28 01:36:06,366] Trial 1644 finished with value: 0.38162009973314426 and parameters: {'lambda_l1': 0.014150181675556343, 'lambda_l2': 5.373351289852763e-07, 'num_leaves': 224, 'feature_fraction': 0.793571056120474, 'bagging_fraction': 0.7807230669773675, 'bagging_freq': 7, 'min_child_samples': 5}. Best is trial 578 with value: 0.3993619212329351.\n",
      "[I 2025-04-28 01:36:09,455] Trial 1645 finished with value: 0.37374940330665374 and parameters: {'lambda_l1': 0.021728790269570062, 'lambda_l2': 2.0178624084295377e-07, 'num_leaves': 224, 'feature_fraction': 0.8051140733176554, 'bagging_fraction': 0.7815824504267874, 'bagging_freq': 7, 'min_child_samples': 6}. Best is trial 578 with value: 0.3993619212329351.\n",
      "[I 2025-04-28 01:36:12,172] Trial 1646 finished with value: 0.3835257241940818 and parameters: {'lambda_l1': 0.04341719206635301, 'lambda_l2': 1.2134597870785948e-07, 'num_leaves': 219, 'feature_fraction': 0.792764019693096, 'bagging_fraction': 0.7932216431676544, 'bagging_freq': 7, 'min_child_samples': 5}. Best is trial 578 with value: 0.3993619212329351.\n",
      "[I 2025-04-28 01:36:14,798] Trial 1647 finished with value: 0.3898755213576991 and parameters: {'lambda_l1': 0.011272429692198827, 'lambda_l2': 2.353782845889094e-07, 'num_leaves': 226, 'feature_fraction': 0.8026164404932239, 'bagging_fraction': 0.7927454116075057, 'bagging_freq': 7, 'min_child_samples': 7}. Best is trial 578 with value: 0.3993619212329351.\n",
      "[I 2025-04-28 01:36:17,565] Trial 1648 finished with value: 0.3727640640285744 and parameters: {'lambda_l1': 0.016701848802107174, 'lambda_l2': 9.927107926731718e-08, 'num_leaves': 222, 'feature_fraction': 0.8096274208243391, 'bagging_fraction': 0.7857459269930646, 'bagging_freq': 7, 'min_child_samples': 5}. Best is trial 578 with value: 0.3993619212329351.\n",
      "[I 2025-04-28 01:36:20,413] Trial 1649 finished with value: 0.37144003019914273 and parameters: {'lambda_l1': 0.026437223732859137, 'lambda_l2': 1.9586313785675316e-07, 'num_leaves': 226, 'feature_fraction': 0.7902503554249429, 'bagging_fraction': 0.7914403914815492, 'bagging_freq': 7, 'min_child_samples': 7}. Best is trial 578 with value: 0.3993619212329351.\n",
      "[I 2025-04-28 01:36:22,163] Trial 1650 finished with value: 0.36133149475014725 and parameters: {'lambda_l1': 0.013364867390583936, 'lambda_l2': 2.8708844370239395e-07, 'num_leaves': 217, 'feature_fraction': 0.8054452756543368, 'bagging_fraction': 0.7831830105662216, 'bagging_freq': 7, 'min_child_samples': 65}. Best is trial 578 with value: 0.3993619212329351.\n",
      "[I 2025-04-28 01:36:25,067] Trial 1651 finished with value: 0.37394132800873636 and parameters: {'lambda_l1': 0.060559639558182936, 'lambda_l2': 1.6387348497858022e-07, 'num_leaves': 228, 'feature_fraction': 0.7967995599802777, 'bagging_fraction': 0.7933796872856927, 'bagging_freq': 7, 'min_child_samples': 7}. Best is trial 578 with value: 0.3993619212329351.\n",
      "[I 2025-04-28 01:36:27,956] Trial 1652 finished with value: 0.3636298727216103 and parameters: {'lambda_l1': 0.03742805788353759, 'lambda_l2': 2.0768665376311703e-07, 'num_leaves': 222, 'feature_fraction': 0.7855308410175074, 'bagging_fraction': 0.779127970896937, 'bagging_freq': 7, 'min_child_samples': 5}. Best is trial 578 with value: 0.3993619212329351.\n",
      "[I 2025-04-28 01:36:30,747] Trial 1653 finished with value: 0.37011915837978493 and parameters: {'lambda_l1': 0.01059579967013238, 'lambda_l2': 8.383683536761544e-08, 'num_leaves': 229, 'feature_fraction': 0.8074164528865688, 'bagging_fraction': 0.7981200574995301, 'bagging_freq': 7, 'min_child_samples': 7}. Best is trial 578 with value: 0.3993619212329351.\n",
      "[I 2025-04-28 01:36:33,564] Trial 1654 finished with value: 0.3826154820765888 and parameters: {'lambda_l1': 0.01971907306324266, 'lambda_l2': 3.244751474548568e-07, 'num_leaves': 216, 'feature_fraction': 0.8101422986424408, 'bagging_fraction': 0.7955864549859156, 'bagging_freq': 7, 'min_child_samples': 5}. Best is trial 578 with value: 0.3993619212329351.\n",
      "[I 2025-04-28 01:36:36,286] Trial 1655 finished with value: 0.3814123311258857 and parameters: {'lambda_l1': 0.021882807627826083, 'lambda_l2': 1.2710469036126388e-07, 'num_leaves': 225, 'feature_fraction': 0.7924652789395595, 'bagging_fraction': 0.7804981725423675, 'bagging_freq': 7, 'min_child_samples': 6}. Best is trial 578 with value: 0.3993619212329351.\n",
      "[I 2025-04-28 01:36:39,278] Trial 1656 finished with value: 0.36408619643530316 and parameters: {'lambda_l1': 0.0836656951956838, 'lambda_l2': 2.976817973461603e-07, 'num_leaves': 225, 'feature_fraction': 0.7344098703054754, 'bagging_fraction': 0.7983116764561957, 'bagging_freq': 7, 'min_child_samples': 7}. Best is trial 578 with value: 0.3993619212329351.\n",
      "[I 2025-04-28 01:36:41,963] Trial 1657 finished with value: 0.3884850265082235 and parameters: {'lambda_l1': 0.04461824879627046, 'lambda_l2': 8.20824562449993e-08, 'num_leaves': 230, 'feature_fraction': 0.8013535397718637, 'bagging_fraction': 0.7874183585270526, 'bagging_freq': 7, 'min_child_samples': 7}. Best is trial 578 with value: 0.3993619212329351.\n",
      "[I 2025-04-28 01:36:44,960] Trial 1658 finished with value: 0.3893044820753061 and parameters: {'lambda_l1': 0.014058568981988255, 'lambda_l2': 1.9139632571146785e-07, 'num_leaves': 229, 'feature_fraction': 0.8120082836138407, 'bagging_fraction': 0.7996184806210858, 'bagging_freq': 7, 'min_child_samples': 5}. Best is trial 578 with value: 0.3993619212329351.\n",
      "[I 2025-04-28 01:36:47,672] Trial 1659 finished with value: 0.3716059007639333 and parameters: {'lambda_l1': 0.015703814220177293, 'lambda_l2': 3.575085919688948e-07, 'num_leaves': 229, 'feature_fraction': 0.7858964390098199, 'bagging_fraction': 0.7793680482094567, 'bagging_freq': 7, 'min_child_samples': 7}. Best is trial 578 with value: 0.3993619212329351.\n",
      "[I 2025-04-28 01:36:50,498] Trial 1660 finished with value: 0.37522918863800425 and parameters: {'lambda_l1': 0.011127678737583684, 'lambda_l2': 6.837025998081758e-08, 'num_leaves': 220, 'feature_fraction': 0.9113773405832163, 'bagging_fraction': 0.799923265994721, 'bagging_freq': 7, 'min_child_samples': 19}. Best is trial 578 with value: 0.3993619212329351.\n",
      "[I 2025-04-28 01:36:53,116] Trial 1661 finished with value: 0.3676617428066332 and parameters: {'lambda_l1': 0.03524229953067018, 'lambda_l2': 2.777167599454159e-07, 'num_leaves': 224, 'feature_fraction': 0.7134998866503077, 'bagging_fraction': 0.7868668466599829, 'bagging_freq': 7, 'min_child_samples': 8}. Best is trial 578 with value: 0.3993619212329351.\n",
      "[I 2025-04-28 01:36:56,109] Trial 1662 finished with value: 0.3782986195963496 and parameters: {'lambda_l1': 0.010428496887769584, 'lambda_l2': 1.3671017951475428e-07, 'num_leaves': 232, 'feature_fraction': 0.8143846402060144, 'bagging_fraction': 0.8025304366066603, 'bagging_freq': 7, 'min_child_samples': 5}. Best is trial 578 with value: 0.3993619212329351.\n",
      "[I 2025-04-28 01:36:59,137] Trial 1663 finished with value: 0.371733468172772 and parameters: {'lambda_l1': 0.02595810616863535, 'lambda_l2': 2.6882235195793344e-07, 'num_leaves': 232, 'feature_fraction': 0.7971317679161947, 'bagging_fraction': 0.9302156772082265, 'bagging_freq': 7, 'min_child_samples': 8}. Best is trial 578 with value: 0.3993619212329351.\n",
      "[I 2025-04-28 01:37:01,839] Trial 1664 finished with value: 0.3739939613110427 and parameters: {'lambda_l1': 0.021938390244786058, 'lambda_l2': 3.9449821811575096e-07, 'num_leaves': 216, 'feature_fraction': 0.7827162361187747, 'bagging_fraction': 0.7763889393302339, 'bagging_freq': 7, 'min_child_samples': 7}. Best is trial 578 with value: 0.3993619212329351.\n",
      "[I 2025-04-28 01:37:03,272] Trial 1665 finished with value: 0.3524153775686032 and parameters: {'lambda_l1': 0.030414203844569714, 'lambda_l2': 2.1536671941072608e-07, 'num_leaves': 225, 'feature_fraction': 0.8161371453444959, 'bagging_fraction': 0.7914534170971185, 'bagging_freq': 7, 'min_child_samples': 74}. Best is trial 578 with value: 0.3993619212329351.\n",
      "[I 2025-04-28 01:37:06,037] Trial 1666 finished with value: 0.38288512582765666 and parameters: {'lambda_l1': 0.014090351780319147, 'lambda_l2': 1.1963869752105474e-07, 'num_leaves': 213, 'feature_fraction': 0.7051013738582933, 'bagging_fraction': 0.8053181950442782, 'bagging_freq': 7, 'min_child_samples': 5}. Best is trial 578 with value: 0.3993619212329351.\n",
      "[I 2025-04-28 01:37:08,992] Trial 1667 finished with value: 0.36464049584602165 and parameters: {'lambda_l1': 0.08015952925290235, 'lambda_l2': 1.859109524062948e-07, 'num_leaves': 228, 'feature_fraction': 0.7273319722113702, 'bagging_fraction': 0.7912576371790352, 'bagging_freq': 7, 'min_child_samples': 9}. Best is trial 578 with value: 0.3993619212329351.\n",
      "[I 2025-04-28 01:37:12,414] Trial 1668 finished with value: 0.3954673871890313 and parameters: {'lambda_l1': 0.05623354364361919, 'lambda_l2': 3.656256644181292e-07, 'num_leaves': 231, 'feature_fraction': 0.8043057550188007, 'bagging_fraction': 0.8068908273240103, 'bagging_freq': 7, 'min_child_samples': 7}. Best is trial 578 with value: 0.3993619212329351.\n",
      "[I 2025-04-28 01:37:15,898] Trial 1669 finished with value: 0.3865474557218941 and parameters: {'lambda_l1': 0.06133264118415367, 'lambda_l2': 3.7837569571884847e-07, 'num_leaves': 228, 'feature_fraction': 0.7965498531814501, 'bagging_fraction': 0.803332104255005, 'bagging_freq': 7, 'min_child_samples': 5}. Best is trial 578 with value: 0.3993619212329351.\n",
      "[I 2025-04-28 01:37:18,916] Trial 1670 finished with value: 0.3909455672622537 and parameters: {'lambda_l1': 0.03749224581364669, 'lambda_l2': 1.9196419623058358e-07, 'num_leaves': 222, 'feature_fraction': 0.7866481320376107, 'bagging_fraction': 0.7804774368840112, 'bagging_freq': 7, 'min_child_samples': 7}. Best is trial 578 with value: 0.3993619212329351.\n",
      "[I 2025-04-28 01:37:22,044] Trial 1671 finished with value: 0.3692785801588889 and parameters: {'lambda_l1': 0.058644324480985964, 'lambda_l2': 4.1585036147646503e-07, 'num_leaves': 232, 'feature_fraction': 0.7982148278341447, 'bagging_fraction': 0.7935753745011305, 'bagging_freq': 7, 'min_child_samples': 5}. Best is trial 578 with value: 0.3993619212329351.\n",
      "[I 2025-04-28 01:37:24,917] Trial 1672 finished with value: 0.38428250064332437 and parameters: {'lambda_l1': 0.043055356312214126, 'lambda_l2': 3.2294174651981474e-07, 'num_leaves': 220, 'feature_fraction': 0.7786352567521291, 'bagging_fraction': 0.8065947858364803, 'bagging_freq': 7, 'min_child_samples': 7}. Best is trial 578 with value: 0.3993619212329351.\n",
      "[I 2025-04-28 01:37:28,176] Trial 1673 finished with value: 0.37940519857526867 and parameters: {'lambda_l1': 0.06172995093286175, 'lambda_l2': 2.505703342738324e-07, 'num_leaves': 229, 'feature_fraction': 0.7987354607693434, 'bagging_fraction': 0.8081889698397641, 'bagging_freq': 7, 'min_child_samples': 5}. Best is trial 578 with value: 0.3993619212329351.\n",
      "[I 2025-04-28 01:37:31,061] Trial 1674 finished with value: 0.36454437405975704 and parameters: {'lambda_l1': 0.09571771225183535, 'lambda_l2': 3.54569782357649e-07, 'num_leaves': 234, 'feature_fraction': 0.7847948055985757, 'bagging_fraction': 0.775611428885525, 'bagging_freq': 7, 'min_child_samples': 7}. Best is trial 578 with value: 0.3993619212329351.\n",
      "[I 2025-04-28 01:37:34,100] Trial 1675 finished with value: 0.37201076278035616 and parameters: {'lambda_l1': 0.044246223229189335, 'lambda_l2': 1.2089020870481048e-07, 'num_leaves': 229, 'feature_fraction': 0.8015026891586543, 'bagging_fraction': 0.791284664279711, 'bagging_freq': 7, 'min_child_samples': 7}. Best is trial 578 with value: 0.3993619212329351.\n",
      "[I 2025-04-28 01:37:37,072] Trial 1676 finished with value: 0.3754775284139146 and parameters: {'lambda_l1': 0.07974286366238692, 'lambda_l2': 2.5596768794168375e-07, 'num_leaves': 223, 'feature_fraction': 0.8074379113056124, 'bagging_fraction': 0.8036462846713892, 'bagging_freq': 7, 'min_child_samples': 5}. Best is trial 578 with value: 0.3993619212329351.\n",
      "[I 2025-04-28 01:37:40,160] Trial 1677 finished with value: 0.37432317215159805 and parameters: {'lambda_l1': 0.10525547810674787, 'lambda_l2': 4.6485766470349765e-07, 'num_leaves': 234, 'feature_fraction': 0.7879420383485796, 'bagging_fraction': 0.8120251316504828, 'bagging_freq': 7, 'min_child_samples': 8}. Best is trial 578 with value: 0.3993619212329351.\n",
      "[I 2025-04-28 01:37:43,034] Trial 1678 finished with value: 0.39150481361244815 and parameters: {'lambda_l1': 0.030318261328518732, 'lambda_l2': 4.282167834949814e-07, 'num_leaves': 224, 'feature_fraction': 0.8044022275469377, 'bagging_fraction': 0.7901551704565575, 'bagging_freq': 7, 'min_child_samples': 7}. Best is trial 578 with value: 0.3993619212329351.\n",
      "[I 2025-04-28 01:37:45,901] Trial 1679 finished with value: 0.37961412541026374 and parameters: {'lambda_l1': 0.035737928323960354, 'lambda_l2': 1.4369673129599264e-07, 'num_leaves': 216, 'feature_fraction': 0.8114927069039205, 'bagging_fraction': 0.7813510514494909, 'bagging_freq': 7, 'min_child_samples': 9}. Best is trial 578 with value: 0.3993619212329351.\n",
      "[I 2025-04-28 01:37:48,910] Trial 1680 finished with value: 0.3834090219328875 and parameters: {'lambda_l1': 0.028733410740560825, 'lambda_l2': 2.679541126427012e-07, 'num_leaves': 223, 'feature_fraction': 0.8132320222843764, 'bagging_fraction': 0.7741587106869013, 'bagging_freq': 7, 'min_child_samples': 9}. Best is trial 578 with value: 0.3993619212329351.\n",
      "[I 2025-04-28 01:37:51,736] Trial 1681 finished with value: 0.3792851641220414 and parameters: {'lambda_l1': 0.02812125100348164, 'lambda_l2': 2.0403093382696851e-07, 'num_leaves': 215, 'feature_fraction': 0.8062943797337331, 'bagging_fraction': 0.7772070366387811, 'bagging_freq': 7, 'min_child_samples': 7}. Best is trial 578 with value: 0.3993619212329351.\n",
      "[I 2025-04-28 01:37:54,817] Trial 1682 finished with value: 0.3951148772496442 and parameters: {'lambda_l1': 0.0504605041863747, 'lambda_l2': 3.5884953932711966e-07, 'num_leaves': 223, 'feature_fraction': 0.817502764452481, 'bagging_fraction': 0.7919316823466835, 'bagging_freq': 7, 'min_child_samples': 9}. Best is trial 578 with value: 0.3993619212329351.\n",
      "[I 2025-04-28 01:37:56,806] Trial 1683 finished with value: 0.3585585998805172 and parameters: {'lambda_l1': 0.04062068491098485, 'lambda_l2': 3.695333329038023e-07, 'num_leaves': 218, 'feature_fraction': 0.8158693564763733, 'bagging_fraction': 0.7812601580383899, 'bagging_freq': 7, 'min_child_samples': 46}. Best is trial 578 with value: 0.3993619212329351.\n",
      "[I 2025-04-28 01:37:59,495] Trial 1684 finished with value: 0.39168764652050425 and parameters: {'lambda_l1': 0.05606584675905713, 'lambda_l2': 2.839013169683559e-07, 'num_leaves': 218, 'feature_fraction': 0.8249420316897215, 'bagging_fraction': 0.7861363031449484, 'bagging_freq': 7, 'min_child_samples': 9}. Best is trial 578 with value: 0.3993619212329351.\n",
      "[I 2025-04-28 01:38:02,342] Trial 1685 finished with value: 0.3473802683941112 and parameters: {'lambda_l1': 0.038849777953190216, 'lambda_l2': 2.58558313151816e-07, 'num_leaves': 226, 'feature_fraction': 0.8274401091721552, 'bagging_fraction': 0.7792555155411149, 'bagging_freq': 7, 'min_child_samples': 10}. Best is trial 578 with value: 0.3993619212329351.\n",
      "[I 2025-04-28 01:38:05,112] Trial 1686 finished with value: 0.3842336854731603 and parameters: {'lambda_l1': 0.08100877749827624, 'lambda_l2': 2.1484813773762447e-07, 'num_leaves': 221, 'feature_fraction': 0.8210397673835974, 'bagging_fraction': 0.79198260236546, 'bagging_freq': 7, 'min_child_samples': 11}. Best is trial 578 with value: 0.3993619212329351.\n",
      "[I 2025-04-28 01:38:07,674] Trial 1687 finished with value: 0.3700475372257809 and parameters: {'lambda_l1': 0.08378900907300692, 'lambda_l2': 1.960306083641049e-07, 'num_leaves': 209, 'feature_fraction': 0.8238211139567949, 'bagging_fraction': 0.7745219057733915, 'bagging_freq': 7, 'min_child_samples': 10}. Best is trial 578 with value: 0.3993619212329351.\n",
      "[I 2025-04-28 01:38:10,164] Trial 1688 finished with value: 0.3813347463942163 and parameters: {'lambda_l1': 0.07448190256045821, 'lambda_l2': 1.5215680308164633e-07, 'num_leaves': 220, 'feature_fraction': 0.8245118036186412, 'bagging_fraction': 0.7865118006637957, 'bagging_freq': 7, 'min_child_samples': 16}. Best is trial 578 with value: 0.3993619212329351.\n",
      "[I 2025-04-28 01:38:13,062] Trial 1689 finished with value: 0.3622834976261753 and parameters: {'lambda_l1': 0.13828444696491937, 'lambda_l2': 2.90029009173158e-07, 'num_leaves': 228, 'feature_fraction': 0.8231926441341013, 'bagging_fraction': 0.7758465566588809, 'bagging_freq': 7, 'min_child_samples': 9}. Best is trial 578 with value: 0.3993619212329351.\n",
      "[I 2025-04-28 01:38:15,799] Trial 1690 finished with value: 0.3840327136129581 and parameters: {'lambda_l1': 0.05617689765210282, 'lambda_l2': 1.0681031146041147e-07, 'num_leaves': 230, 'feature_fraction': 0.8167787693919821, 'bagging_fraction': 0.7963197794754725, 'bagging_freq': 7, 'min_child_samples': 20}. Best is trial 578 with value: 0.3993619212329351.\n",
      "[I 2025-04-28 01:38:18,930] Trial 1691 finished with value: 0.36934825423027096 and parameters: {'lambda_l1': 0.052983277347375464, 'lambda_l2': 3.627980418939969e-07, 'num_leaves': 226, 'feature_fraction': 0.7337415108568637, 'bagging_fraction': 0.7980480535363316, 'bagging_freq': 7, 'min_child_samples': 11}. Best is trial 578 with value: 0.3993619212329351.\n",
      "[I 2025-04-28 01:38:22,094] Trial 1692 finished with value: 0.370269572449762 and parameters: {'lambda_l1': 0.0633478149305066, 'lambda_l2': 1.4968887890190379e-07, 'num_leaves': 219, 'feature_fraction': 0.8252166680340817, 'bagging_fraction': 0.7705437405961503, 'bagging_freq': 7, 'min_child_samples': 9}. Best is trial 578 with value: 0.3993619212329351.\n",
      "[I 2025-04-28 01:38:23,556] Trial 1693 finished with value: 0.37404500196938273 and parameters: {'lambda_l1': 0.1014863847342391, 'lambda_l2': 1.9617819416828706e-07, 'num_leaves': 96, 'feature_fraction': 0.7211298849718213, 'bagging_fraction': 0.7905687050545129, 'bagging_freq': 7, 'min_child_samples': 12}. Best is trial 578 with value: 0.3993619212329351.\n",
      "[I 2025-04-28 01:38:26,495] Trial 1694 finished with value: 0.37285445721071697 and parameters: {'lambda_l1': 0.04813119649409192, 'lambda_l2': 3.65876972112961e-07, 'num_leaves': 233, 'feature_fraction': 0.891640201528249, 'bagging_fraction': 0.8013754634239154, 'bagging_freq': 7, 'min_child_samples': 9}. Best is trial 578 with value: 0.3993619212329351.\n",
      "[I 2025-04-28 01:38:29,403] Trial 1695 finished with value: 0.36798824211208303 and parameters: {'lambda_l1': 0.04459709207192567, 'lambda_l2': 2.6992170849825953e-07, 'num_leaves': 230, 'feature_fraction': 0.8290218821602656, 'bagging_fraction': 0.7688633619774045, 'bagging_freq': 7, 'min_child_samples': 15}. Best is trial 578 with value: 0.3993619212329351.\n",
      "[I 2025-04-28 01:38:31,992] Trial 1696 finished with value: 0.3728711677532319 and parameters: {'lambda_l1': 0.06156815872739116, 'lambda_l2': 4.0048248481490065e-07, 'num_leaves': 214, 'feature_fraction': 0.8223482710051397, 'bagging_fraction': 0.8112418018219016, 'bagging_freq': 7, 'min_child_samples': 18}. Best is trial 578 with value: 0.3993619212329351.\n",
      "[I 2025-04-28 01:38:34,762] Trial 1697 finished with value: 0.3704493028392136 and parameters: {'lambda_l1': 0.05389286909058041, 'lambda_l2': 9.436254084500987e-08, 'num_leaves': 210, 'feature_fraction': 0.8139752555172941, 'bagging_fraction': 0.7871496615116028, 'bagging_freq': 7, 'min_child_samples': 11}. Best is trial 578 with value: 0.3993619212329351.\n",
      "[I 2025-04-28 01:38:37,648] Trial 1698 finished with value: 0.3796207431581866 and parameters: {'lambda_l1': 0.09679002241299818, 'lambda_l2': 1.3476325615871643e-07, 'num_leaves': 234, 'feature_fraction': 0.8129912079715289, 'bagging_fraction': 0.8018315319986461, 'bagging_freq': 7, 'min_child_samples': 9}. Best is trial 578 with value: 0.3993619212329351.\n",
      "[I 2025-04-28 01:38:40,578] Trial 1699 finished with value: 0.3565269232132916 and parameters: {'lambda_l1': 0.11112123492854704, 'lambda_l2': 2.459576964117812e-07, 'num_leaves': 234, 'feature_fraction': 0.8320218946016698, 'bagging_fraction': 0.8126598421935489, 'bagging_freq': 7, 'min_child_samples': 13}. Best is trial 578 with value: 0.3993619212329351.\n"
     ]
    }
   ],
   "source": [
    "#Defino el estudio a optimizar\n",
    "study = optuna.create_study(direction='maximize', #buscamos maximizar la metrica\n",
    "                            storage=\"sqlite:///../work/db.sqlite3\",  # Specify the storage URL here.\n",
    "                            study_name=\"04 - LGB Multiclass\", #nombre del experimento\n",
    "                            load_if_exists=True) #continuar si ya existe\n",
    "\n",
    "#Corremos 100 trials para buscar mejores parametros\n",
    "study.optimize(lgb_objective, n_trials=100)"
   ]
  },
  {
   "cell_type": "code",
   "execution_count": 38,
   "id": "f9697749",
   "metadata": {},
   "outputs": [
    {
     "data": {
      "text/plain": [
       "{'lambda_l1': 0.0006198324932249703,\n",
       " 'lambda_l2': 0.0012410632276461278,\n",
       " 'num_leaves': 243,\n",
       " 'feature_fraction': 0.7415123631687672,\n",
       " 'bagging_fraction': 0.802075350656355,\n",
       " 'bagging_freq': 7,\n",
       " 'min_child_samples': 7}"
      ]
     },
     "execution_count": 38,
     "metadata": {},
     "output_type": "execute_result"
    }
   ],
   "source": [
    "#Obtenemos mejor resultado\n",
    "study.best_params"
   ]
  },
  {
   "cell_type": "code",
   "execution_count": 39,
   "id": "b0db9f91",
   "metadata": {},
   "outputs": [
    {
     "name": "stdout",
     "output_type": "stream",
     "text": [
      "0.3993619212329351\n"
     ]
    },
    {
     "data": {
      "application/vnd.plotly.v1+json": {
       "config": {
        "plotlyServerURL": "https://plot.ly"
       },
       "data": [
        {
         "type": "heatmap",
         "x": {
          "bdata": "AAECAwQ=",
          "dtype": "i1"
         },
         "y": {
          "bdata": "AAECAwQ=",
          "dtype": "i1"
         },
         "z": {
          "bdata": "RO1K1K5EHUCQwfkYnI9GQLsStStRuzRA9DE4H4PzJUC1K1G7ErUvQA4wbu9DttQ/HCbKXFADQ0A13cF+q40/QA4TZS6oASZATJS5oAYYM0CZSSgX8bi/P7YFYr3dszNAcQS+rzrhRECSFeTn0/wtQFa+GP6JazdAAAAAAAAAAACZ1Sji0EkvQAjJgHqmcj1AHi+2BN/mP0AOnbQPkgE3QAAAAAAAAAAA6Hme53meIUAxDMMwDMMtQKqqqqqqqiBA6Hme53n+UEA=",
          "dtype": "f8",
          "shape": "5, 5"
         }
        }
       ],
       "layout": {
        "annotations": [
         {
          "font": {
           "color": "white"
          },
          "showarrow": false,
          "text": "7.3 - 6",
          "x": 0,
          "xref": "x",
          "y": 0,
          "yref": "y"
         },
         {
          "font": {
           "color": "white"
          },
          "showarrow": false,
          "text": "45.1 - 37",
          "x": 1,
          "xref": "x",
          "y": 0,
          "yref": "y"
         },
         {
          "font": {
           "color": "white"
          },
          "showarrow": false,
          "text": "20.7 - 17",
          "x": 2,
          "xref": "x",
          "y": 0,
          "yref": "y"
         },
         {
          "font": {
           "color": "white"
          },
          "showarrow": false,
          "text": "11.0 - 9",
          "x": 3,
          "xref": "x",
          "y": 0,
          "yref": "y"
         },
         {
          "font": {
           "color": "white"
          },
          "showarrow": false,
          "text": "15.9 - 13",
          "x": 4,
          "xref": "x",
          "y": 0,
          "yref": "y"
         },
         {
          "font": {
           "color": "white"
          },
          "showarrow": false,
          "text": "0.3 - 2",
          "x": 0,
          "xref": "x",
          "y": 1,
          "yref": "y"
         },
         {
          "font": {
           "color": "white"
          },
          "showarrow": false,
          "text": "38.0 - 235",
          "x": 1,
          "xref": "x",
          "y": 1,
          "yref": "y"
         },
         {
          "font": {
           "color": "white"
          },
          "showarrow": false,
          "text": "31.6 - 195",
          "x": 2,
          "xref": "x",
          "y": 1,
          "yref": "y"
         },
         {
          "font": {
           "color": "white"
          },
          "showarrow": false,
          "text": "11.0 - 68",
          "x": 3,
          "xref": "x",
          "y": 1,
          "yref": "y"
         },
         {
          "font": {
           "color": "white"
          },
          "showarrow": false,
          "text": "19.1 - 118",
          "x": 4,
          "xref": "x",
          "y": 1,
          "yref": "y"
         },
         {
          "font": {
           "color": "white"
          },
          "showarrow": false,
          "text": "0.1 - 1",
          "x": 0,
          "xref": "x",
          "y": 2,
          "yref": "y"
         },
         {
          "font": {
           "color": "white"
          },
          "showarrow": false,
          "text": "19.7 - 159",
          "x": 1,
          "xref": "x",
          "y": 2,
          "yref": "y"
         },
         {
          "font": {
           "color": "white"
          },
          "showarrow": false,
          "text": "41.8 - 337",
          "x": 2,
          "xref": "x",
          "y": 2,
          "yref": "y"
         },
         {
          "font": {
           "color": "white"
          },
          "showarrow": false,
          "text": "15.0 - 121",
          "x": 3,
          "xref": "x",
          "y": 2,
          "yref": "y"
         },
         {
          "font": {
           "color": "white"
          },
          "showarrow": false,
          "text": "23.4 - 189",
          "x": 4,
          "xref": "x",
          "y": 2,
          "yref": "y"
         },
         {
          "font": {
           "color": "white"
          },
          "showarrow": false,
          "text": "0.0 - 0",
          "x": 0,
          "xref": "x",
          "y": 3,
          "yref": "y"
         },
         {
          "font": {
           "color": "white"
          },
          "showarrow": false,
          "text": "15.6 - 102",
          "x": 1,
          "xref": "x",
          "y": 3,
          "yref": "y"
         },
         {
          "font": {
           "color": "white"
          },
          "showarrow": false,
          "text": "29.4 - 192",
          "x": 2,
          "xref": "x",
          "y": 3,
          "yref": "y"
         },
         {
          "font": {
           "color": "white"
          },
          "showarrow": false,
          "text": "31.9 - 208",
          "x": 3,
          "xref": "x",
          "y": 3,
          "yref": "y"
         },
         {
          "font": {
           "color": "white"
          },
          "showarrow": false,
          "text": "23.0 - 150",
          "x": 4,
          "xref": "x",
          "y": 3,
          "yref": "y"
         },
         {
          "font": {
           "color": "white"
          },
          "showarrow": false,
          "text": "0.0 - 0",
          "x": 0,
          "xref": "x",
          "y": 4,
          "yref": "y"
         },
         {
          "font": {
           "color": "white"
          },
          "showarrow": false,
          "text": "8.8 - 74",
          "x": 1,
          "xref": "x",
          "y": 4,
          "yref": "y"
         },
         {
          "font": {
           "color": "white"
          },
          "showarrow": false,
          "text": "14.9 - 125",
          "x": 2,
          "xref": "x",
          "y": 4,
          "yref": "y"
         },
         {
          "font": {
           "color": "white"
          },
          "showarrow": false,
          "text": "8.3 - 70",
          "x": 3,
          "xref": "x",
          "y": 4,
          "yref": "y"
         },
         {
          "font": {
           "color": "white"
          },
          "showarrow": false,
          "text": "68.0 - 571",
          "x": 4,
          "xref": "x",
          "y": 4,
          "yref": "y"
         }
        ],
        "height": 800,
        "template": {
         "data": {
          "bar": [
           {
            "error_x": {
             "color": "#2a3f5f"
            },
            "error_y": {
             "color": "#2a3f5f"
            },
            "marker": {
             "line": {
              "color": "#E5ECF6",
              "width": 0.5
             },
             "pattern": {
              "fillmode": "overlay",
              "size": 10,
              "solidity": 0.2
             }
            },
            "type": "bar"
           }
          ],
          "barpolar": [
           {
            "marker": {
             "line": {
              "color": "#E5ECF6",
              "width": 0.5
             },
             "pattern": {
              "fillmode": "overlay",
              "size": 10,
              "solidity": 0.2
             }
            },
            "type": "barpolar"
           }
          ],
          "carpet": [
           {
            "aaxis": {
             "endlinecolor": "#2a3f5f",
             "gridcolor": "white",
             "linecolor": "white",
             "minorgridcolor": "white",
             "startlinecolor": "#2a3f5f"
            },
            "baxis": {
             "endlinecolor": "#2a3f5f",
             "gridcolor": "white",
             "linecolor": "white",
             "minorgridcolor": "white",
             "startlinecolor": "#2a3f5f"
            },
            "type": "carpet"
           }
          ],
          "choropleth": [
           {
            "colorbar": {
             "outlinewidth": 0,
             "ticks": ""
            },
            "type": "choropleth"
           }
          ],
          "contour": [
           {
            "colorbar": {
             "outlinewidth": 0,
             "ticks": ""
            },
            "colorscale": [
             [
              0,
              "#0d0887"
             ],
             [
              0.1111111111111111,
              "#46039f"
             ],
             [
              0.2222222222222222,
              "#7201a8"
             ],
             [
              0.3333333333333333,
              "#9c179e"
             ],
             [
              0.4444444444444444,
              "#bd3786"
             ],
             [
              0.5555555555555556,
              "#d8576b"
             ],
             [
              0.6666666666666666,
              "#ed7953"
             ],
             [
              0.7777777777777778,
              "#fb9f3a"
             ],
             [
              0.8888888888888888,
              "#fdca26"
             ],
             [
              1,
              "#f0f921"
             ]
            ],
            "type": "contour"
           }
          ],
          "contourcarpet": [
           {
            "colorbar": {
             "outlinewidth": 0,
             "ticks": ""
            },
            "type": "contourcarpet"
           }
          ],
          "heatmap": [
           {
            "colorbar": {
             "outlinewidth": 0,
             "ticks": ""
            },
            "colorscale": [
             [
              0,
              "#0d0887"
             ],
             [
              0.1111111111111111,
              "#46039f"
             ],
             [
              0.2222222222222222,
              "#7201a8"
             ],
             [
              0.3333333333333333,
              "#9c179e"
             ],
             [
              0.4444444444444444,
              "#bd3786"
             ],
             [
              0.5555555555555556,
              "#d8576b"
             ],
             [
              0.6666666666666666,
              "#ed7953"
             ],
             [
              0.7777777777777778,
              "#fb9f3a"
             ],
             [
              0.8888888888888888,
              "#fdca26"
             ],
             [
              1,
              "#f0f921"
             ]
            ],
            "type": "heatmap"
           }
          ],
          "histogram": [
           {
            "marker": {
             "pattern": {
              "fillmode": "overlay",
              "size": 10,
              "solidity": 0.2
             }
            },
            "type": "histogram"
           }
          ],
          "histogram2d": [
           {
            "colorbar": {
             "outlinewidth": 0,
             "ticks": ""
            },
            "colorscale": [
             [
              0,
              "#0d0887"
             ],
             [
              0.1111111111111111,
              "#46039f"
             ],
             [
              0.2222222222222222,
              "#7201a8"
             ],
             [
              0.3333333333333333,
              "#9c179e"
             ],
             [
              0.4444444444444444,
              "#bd3786"
             ],
             [
              0.5555555555555556,
              "#d8576b"
             ],
             [
              0.6666666666666666,
              "#ed7953"
             ],
             [
              0.7777777777777778,
              "#fb9f3a"
             ],
             [
              0.8888888888888888,
              "#fdca26"
             ],
             [
              1,
              "#f0f921"
             ]
            ],
            "type": "histogram2d"
           }
          ],
          "histogram2dcontour": [
           {
            "colorbar": {
             "outlinewidth": 0,
             "ticks": ""
            },
            "colorscale": [
             [
              0,
              "#0d0887"
             ],
             [
              0.1111111111111111,
              "#46039f"
             ],
             [
              0.2222222222222222,
              "#7201a8"
             ],
             [
              0.3333333333333333,
              "#9c179e"
             ],
             [
              0.4444444444444444,
              "#bd3786"
             ],
             [
              0.5555555555555556,
              "#d8576b"
             ],
             [
              0.6666666666666666,
              "#ed7953"
             ],
             [
              0.7777777777777778,
              "#fb9f3a"
             ],
             [
              0.8888888888888888,
              "#fdca26"
             ],
             [
              1,
              "#f0f921"
             ]
            ],
            "type": "histogram2dcontour"
           }
          ],
          "mesh3d": [
           {
            "colorbar": {
             "outlinewidth": 0,
             "ticks": ""
            },
            "type": "mesh3d"
           }
          ],
          "parcoords": [
           {
            "line": {
             "colorbar": {
              "outlinewidth": 0,
              "ticks": ""
             }
            },
            "type": "parcoords"
           }
          ],
          "pie": [
           {
            "automargin": true,
            "type": "pie"
           }
          ],
          "scatter": [
           {
            "fillpattern": {
             "fillmode": "overlay",
             "size": 10,
             "solidity": 0.2
            },
            "type": "scatter"
           }
          ],
          "scatter3d": [
           {
            "line": {
             "colorbar": {
              "outlinewidth": 0,
              "ticks": ""
             }
            },
            "marker": {
             "colorbar": {
              "outlinewidth": 0,
              "ticks": ""
             }
            },
            "type": "scatter3d"
           }
          ],
          "scattercarpet": [
           {
            "marker": {
             "colorbar": {
              "outlinewidth": 0,
              "ticks": ""
             }
            },
            "type": "scattercarpet"
           }
          ],
          "scattergeo": [
           {
            "marker": {
             "colorbar": {
              "outlinewidth": 0,
              "ticks": ""
             }
            },
            "type": "scattergeo"
           }
          ],
          "scattergl": [
           {
            "marker": {
             "colorbar": {
              "outlinewidth": 0,
              "ticks": ""
             }
            },
            "type": "scattergl"
           }
          ],
          "scattermap": [
           {
            "marker": {
             "colorbar": {
              "outlinewidth": 0,
              "ticks": ""
             }
            },
            "type": "scattermap"
           }
          ],
          "scattermapbox": [
           {
            "marker": {
             "colorbar": {
              "outlinewidth": 0,
              "ticks": ""
             }
            },
            "type": "scattermapbox"
           }
          ],
          "scatterpolar": [
           {
            "marker": {
             "colorbar": {
              "outlinewidth": 0,
              "ticks": ""
             }
            },
            "type": "scatterpolar"
           }
          ],
          "scatterpolargl": [
           {
            "marker": {
             "colorbar": {
              "outlinewidth": 0,
              "ticks": ""
             }
            },
            "type": "scatterpolargl"
           }
          ],
          "scatterternary": [
           {
            "marker": {
             "colorbar": {
              "outlinewidth": 0,
              "ticks": ""
             }
            },
            "type": "scatterternary"
           }
          ],
          "surface": [
           {
            "colorbar": {
             "outlinewidth": 0,
             "ticks": ""
            },
            "colorscale": [
             [
              0,
              "#0d0887"
             ],
             [
              0.1111111111111111,
              "#46039f"
             ],
             [
              0.2222222222222222,
              "#7201a8"
             ],
             [
              0.3333333333333333,
              "#9c179e"
             ],
             [
              0.4444444444444444,
              "#bd3786"
             ],
             [
              0.5555555555555556,
              "#d8576b"
             ],
             [
              0.6666666666666666,
              "#ed7953"
             ],
             [
              0.7777777777777778,
              "#fb9f3a"
             ],
             [
              0.8888888888888888,
              "#fdca26"
             ],
             [
              1,
              "#f0f921"
             ]
            ],
            "type": "surface"
           }
          ],
          "table": [
           {
            "cells": {
             "fill": {
              "color": "#EBF0F8"
             },
             "line": {
              "color": "white"
             }
            },
            "header": {
             "fill": {
              "color": "#C8D4E3"
             },
             "line": {
              "color": "white"
             }
            },
            "type": "table"
           }
          ]
         },
         "layout": {
          "annotationdefaults": {
           "arrowcolor": "#2a3f5f",
           "arrowhead": 0,
           "arrowwidth": 1
          },
          "autotypenumbers": "strict",
          "coloraxis": {
           "colorbar": {
            "outlinewidth": 0,
            "ticks": ""
           }
          },
          "colorscale": {
           "diverging": [
            [
             0,
             "#8e0152"
            ],
            [
             0.1,
             "#c51b7d"
            ],
            [
             0.2,
             "#de77ae"
            ],
            [
             0.3,
             "#f1b6da"
            ],
            [
             0.4,
             "#fde0ef"
            ],
            [
             0.5,
             "#f7f7f7"
            ],
            [
             0.6,
             "#e6f5d0"
            ],
            [
             0.7,
             "#b8e186"
            ],
            [
             0.8,
             "#7fbc41"
            ],
            [
             0.9,
             "#4d9221"
            ],
            [
             1,
             "#276419"
            ]
           ],
           "sequential": [
            [
             0,
             "#0d0887"
            ],
            [
             0.1111111111111111,
             "#46039f"
            ],
            [
             0.2222222222222222,
             "#7201a8"
            ],
            [
             0.3333333333333333,
             "#9c179e"
            ],
            [
             0.4444444444444444,
             "#bd3786"
            ],
            [
             0.5555555555555556,
             "#d8576b"
            ],
            [
             0.6666666666666666,
             "#ed7953"
            ],
            [
             0.7777777777777778,
             "#fb9f3a"
            ],
            [
             0.8888888888888888,
             "#fdca26"
            ],
            [
             1,
             "#f0f921"
            ]
           ],
           "sequentialminus": [
            [
             0,
             "#0d0887"
            ],
            [
             0.1111111111111111,
             "#46039f"
            ],
            [
             0.2222222222222222,
             "#7201a8"
            ],
            [
             0.3333333333333333,
             "#9c179e"
            ],
            [
             0.4444444444444444,
             "#bd3786"
            ],
            [
             0.5555555555555556,
             "#d8576b"
            ],
            [
             0.6666666666666666,
             "#ed7953"
            ],
            [
             0.7777777777777778,
             "#fb9f3a"
            ],
            [
             0.8888888888888888,
             "#fdca26"
            ],
            [
             1,
             "#f0f921"
            ]
           ]
          },
          "colorway": [
           "#636efa",
           "#EF553B",
           "#00cc96",
           "#ab63fa",
           "#FFA15A",
           "#19d3f3",
           "#FF6692",
           "#B6E880",
           "#FF97FF",
           "#FECB52"
          ],
          "font": {
           "color": "#2a3f5f"
          },
          "geo": {
           "bgcolor": "white",
           "lakecolor": "white",
           "landcolor": "#E5ECF6",
           "showlakes": true,
           "showland": true,
           "subunitcolor": "white"
          },
          "hoverlabel": {
           "align": "left"
          },
          "hovermode": "closest",
          "mapbox": {
           "style": "light"
          },
          "paper_bgcolor": "white",
          "plot_bgcolor": "#E5ECF6",
          "polar": {
           "angularaxis": {
            "gridcolor": "white",
            "linecolor": "white",
            "ticks": ""
           },
           "bgcolor": "#E5ECF6",
           "radialaxis": {
            "gridcolor": "white",
            "linecolor": "white",
            "ticks": ""
           }
          },
          "scene": {
           "xaxis": {
            "backgroundcolor": "#E5ECF6",
            "gridcolor": "white",
            "gridwidth": 2,
            "linecolor": "white",
            "showbackground": true,
            "ticks": "",
            "zerolinecolor": "white"
           },
           "yaxis": {
            "backgroundcolor": "#E5ECF6",
            "gridcolor": "white",
            "gridwidth": 2,
            "linecolor": "white",
            "showbackground": true,
            "ticks": "",
            "zerolinecolor": "white"
           },
           "zaxis": {
            "backgroundcolor": "#E5ECF6",
            "gridcolor": "white",
            "gridwidth": 2,
            "linecolor": "white",
            "showbackground": true,
            "ticks": "",
            "zerolinecolor": "white"
           }
          },
          "shapedefaults": {
           "line": {
            "color": "#2a3f5f"
           }
          },
          "ternary": {
           "aaxis": {
            "gridcolor": "white",
            "linecolor": "white",
            "ticks": ""
           },
           "baxis": {
            "gridcolor": "white",
            "linecolor": "white",
            "ticks": ""
           },
           "bgcolor": "#E5ECF6",
           "caxis": {
            "gridcolor": "white",
            "linecolor": "white",
            "ticks": ""
           }
          },
          "title": {
           "x": 0.05
          },
          "xaxis": {
           "automargin": true,
           "gridcolor": "white",
           "linecolor": "white",
           "ticks": "",
           "title": {
            "standoff": 15
           },
           "zerolinecolor": "white",
           "zerolinewidth": 2
          },
          "yaxis": {
           "automargin": true,
           "gridcolor": "white",
           "linecolor": "white",
           "ticks": "",
           "title": {
            "standoff": 15
           },
           "zerolinecolor": "white",
           "zerolinewidth": 2
          }
         }
        },
        "title": {
         "text": "Conf Matrix"
        },
        "width": 800,
        "xaxis": {
         "title": {
          "text": "Predicted value"
         }
        },
        "yaxis": {
         "title": {
          "text": "Real value"
         }
        }
       }
      }
     },
     "metadata": {},
     "output_type": "display_data"
    }
   ],
   "source": [
    "#Vamos a replicar el resultado de la optimizacion reentrenando el modelo con el mejor conjunto de hiperparametros\n",
    "#Generamos parametros incluyendo los fijos y la mejor solución que encontro optuna\n",
    "lgb_params =  {      \n",
    "                        'objective': 'multiclass',\n",
    "                        'verbosity':-1,\n",
    "                        'num_class': len(y_train.unique())} | study.best_params\n",
    "\n",
    "lgb_train_dataset = lgb.Dataset(data=X_train,\n",
    "                                label=y_train)\n",
    "\n",
    "\n",
    "#Entreno\n",
    "lgb_model2 = lgb.train(lgb_params,\n",
    "                    lgb_train_dataset)\n",
    "\n",
    "#Muestro matriz de confusion y kappa\n",
    "print(cohen_kappa_score(y_test,lgb_model2.predict(X_test).argmax(axis=1),\n",
    "                             weights = 'quadratic'))\n",
    "\n",
    "display(plot_confusion_matrix(y_test,lgb_model2.predict(X_test).argmax(axis=1)))\n",
    "\n"
   ]
  },
  {
   "cell_type": "markdown",
   "id": "52853014",
   "metadata": {},
   "source": [
    "## Modelo con optimizacion de hiperparametros con 5 Fold Cross Validation"
   ]
  },
  {
   "cell_type": "code",
   "execution_count": 13,
   "id": "1f79d12c",
   "metadata": {},
   "outputs": [],
   "source": [
    "from optuna.artifacts import FileSystemArtifactStore, upload_artifact\n",
    "from sklearn.metrics import cohen_kappa_score\n",
    "from sklearn.model_selection import StratifiedKFold\n",
    "import lightgbm as lgb\n",
    "import numpy as np\n",
    "import os\n",
    "from joblib import dump\n",
    "import matplotlib.pyplot as plt\n",
    "from sklearn.metrics import confusion_matrix, ConfusionMatrixDisplay\n",
    "\n",
    "def lgb_custom_metric_kappa(dy_pred, dy_true):\n",
    "    metric_name = 'kappa'\n",
    "    value = cohen_kappa_score(dy_true.get_label(), dy_pred.argmax(axis=1), weights='quadratic')\n",
    "    is_higher_better = True\n",
    "    return (metric_name, value, is_higher_better)\n",
    "\n",
    "def cv_es_lgb_objective(trial):\n",
    "    \n",
    "    # Inicio el store de artefactos (archivos) de Optuna\n",
    "    artifact_store = FileSystemArtifactStore(base_path=PATH_TO_OPTUNA_ARTIFACTS)\n",
    "\n",
    "    # Hiperparámetros a optimizar\n",
    "    lgb_params = {\n",
    "        'objective': 'multiclass',\n",
    "        'verbosity': -1,\n",
    "        'num_class': len(y_train.unique()),\n",
    "        'lambda_l1': trial.suggest_float('lambda_l1', 1e-8, 10.0, log=True),\n",
    "        'lambda_l2': trial.suggest_float('lambda_l2', 1e-8, 10.0, log=True),\n",
    "        'num_leaves': trial.suggest_int('num_leaves', 2, 256),\n",
    "        'feature_fraction': trial.suggest_float('feature_fraction', 0.4, 1.0),\n",
    "        'bagging_fraction': trial.suggest_float('bagging_fraction', 0.4, 1.0),\n",
    "        'bagging_freq': trial.suggest_int('bagging_freq', 1, 7),\n",
    "        'min_child_samples': trial.suggest_int('min_child_samples', 5, 100),\n",
    "        'n_jobs': -1\n",
    "    }\n",
    "    \n",
    "    scores_ensemble = np.zeros((len(y_test), len(y_train.unique())))\n",
    "    score_folds = 0\n",
    "    n_splits = 5\n",
    "    skf = StratifiedKFold(n_splits=n_splits)\n",
    "\n",
    "    for i, (if_index, oof_index) in enumerate(skf.split(X_train, y_train)):\n",
    "\n",
    "        lgb_if_dataset = lgb.Dataset(data=X_train.iloc[if_index],\n",
    "                                     label=y_train.iloc[if_index],\n",
    "                                     free_raw_data=False)\n",
    "        \n",
    "        lgb_oof_dataset = lgb.Dataset(data=X_train.iloc[oof_index],\n",
    "                                      label=y_train.iloc[oof_index],\n",
    "                                      free_raw_data=False)\n",
    "                \n",
    "        lgb_model3 = lgb.train(\n",
    "            lgb_params,\n",
    "            lgb_if_dataset,\n",
    "            valid_sets=lgb_oof_dataset,\n",
    "            callbacks=[lgb.early_stopping(10, verbose=False)],\n",
    "            feval=lgb_custom_metric_kappa\n",
    "        )\n",
    "        \n",
    "        scores_ensemble += lgb_model3.predict(X_test)\n",
    "\n",
    "        score_folds += cohen_kappa_score(\n",
    "            y_train.iloc[oof_index],\n",
    "            lgb_model3.predict(X_train.iloc[oof_index]).argmax(axis=1),\n",
    "            weights='quadratic'\n",
    "        ) / n_splits\n",
    "    \n",
    "    # Guardar predicciones sobre test\n",
    "    predicted_filename = os.path.join(PATH_TO_TEMP_FILES, f'test_{trial.study.study_name}_{trial.number}.joblib')\n",
    "    predicted_df = test.copy()\n",
    "    predicted_df['pred'] = [scores_ensemble[p, :] for p in range(scores_ensemble.shape[0])]\n",
    "    dump(predicted_df, predicted_filename)\n",
    "\n",
    "    # Uso keyword arguments en upload_artifact. Asociar las predicciones como artefacto.\n",
    "    upload_artifact(\n",
    "        study_or_trial=trial,\n",
    "        file_path=predicted_filename,\n",
    "        artifact_store=artifact_store\n",
    "    )\n",
    "\n",
    "    # Generar nombre de archivo (¡esto es un string, no lo pises!)\n",
    "    cm_filename = os.path.join(PATH_TO_TEMP_FILES, f'cm_{trial.study.study_name}_{trial.number}.jpg')\n",
    "\n",
    "    # Crear y guardar matriz de confusión\n",
    "    cm = confusion_matrix(y_test, scores_ensemble.argmax(axis=1))\n",
    "    disp = ConfusionMatrixDisplay(cm)\n",
    "    disp.plot()\n",
    "    plt.savefig(cm_filename)\n",
    "    plt.close()\n",
    "\n",
    "    # Uso keyword arguments en upload_artifact. Asociar la imagen como artefacto\n",
    "    upload_artifact(\n",
    "        study_or_trial=trial,\n",
    "        file_path=cm_filename,\n",
    "        artifact_store=artifact_store\n",
    "    )\n",
    "    \n",
    "    # Guardar el score en test como métrica auxiliar\n",
    "    test_score = cohen_kappa_score(y_test, scores_ensemble.argmax(axis=1), weights='quadratic')\n",
    "    trial.set_user_attr(\"test_score\", test_score)\n",
    "\n",
    "    # Devuelvo el promedio de los scores del CV (objetivo a maximizar)\n",
    "    return score_folds"
   ]
  },
  {
   "cell_type": "code",
   "execution_count": 14,
   "id": "44742181",
   "metadata": {},
   "outputs": [
    {
     "name": "stderr",
     "output_type": "stream",
     "text": [
      "[I 2025-04-28 00:40:11,950] A new study created in RDB with name: 04 - LGB Multiclass CV\n",
      "[I 2025-04-28 00:40:16,081] Trial 0 finished with value: 0.37321555337588597 and parameters: {'lambda_l1': 0.002160706675143484, 'lambda_l2': 0.02122720540169595, 'num_leaves': 162, 'feature_fraction': 0.4954947671021088, 'bagging_fraction': 0.9825940716310941, 'bagging_freq': 1, 'min_child_samples': 100}. Best is trial 0 with value: 0.37321555337588597.\n",
      "[I 2025-04-28 00:40:19,732] Trial 1 finished with value: 0.37080699700488007 and parameters: {'lambda_l1': 8.924257079636273e-06, 'lambda_l2': 0.002163558306700856, 'num_leaves': 164, 'feature_fraction': 0.6528382924138344, 'bagging_fraction': 0.5330580471725379, 'bagging_freq': 1, 'min_child_samples': 95}. Best is trial 0 with value: 0.37321555337588597.\n",
      "[I 2025-04-28 00:40:23,608] Trial 2 finished with value: 0.3717780572030647 and parameters: {'lambda_l1': 6.37336892067008e-07, 'lambda_l2': 1.5194262056167485e-06, 'num_leaves': 241, 'feature_fraction': 0.8155988348003496, 'bagging_fraction': 0.5203909865956471, 'bagging_freq': 4, 'min_child_samples': 71}. Best is trial 0 with value: 0.37321555337588597.\n",
      "[I 2025-04-28 00:40:27,188] Trial 3 finished with value: 0.37903459083860863 and parameters: {'lambda_l1': 1.102260287272459e-05, 'lambda_l2': 0.12406549465322468, 'num_leaves': 31, 'feature_fraction': 0.9785176058304625, 'bagging_fraction': 0.6768341752767291, 'bagging_freq': 5, 'min_child_samples': 25}. Best is trial 3 with value: 0.37903459083860863.\n",
      "[I 2025-04-28 00:40:32,092] Trial 4 finished with value: 0.37993961369242535 and parameters: {'lambda_l1': 0.01744506725017917, 'lambda_l2': 1.3044661531726943e-08, 'num_leaves': 156, 'feature_fraction': 0.4427091556580626, 'bagging_fraction': 0.8206050874441628, 'bagging_freq': 5, 'min_child_samples': 48}. Best is trial 4 with value: 0.37993961369242535.\n",
      "[I 2025-04-28 00:40:36,565] Trial 5 finished with value: 0.3713957866493806 and parameters: {'lambda_l1': 2.39467540852399e-07, 'lambda_l2': 3.3206963584688295e-07, 'num_leaves': 165, 'feature_fraction': 0.7425846414934578, 'bagging_fraction': 0.7598409429152742, 'bagging_freq': 1, 'min_child_samples': 50}. Best is trial 4 with value: 0.37993961369242535.\n",
      "[I 2025-04-28 00:40:40,649] Trial 6 finished with value: 0.37814452555531086 and parameters: {'lambda_l1': 2.1709834504735297e-08, 'lambda_l2': 0.0009875415771634487, 'num_leaves': 70, 'feature_fraction': 0.41948613484935726, 'bagging_fraction': 0.7106631268640651, 'bagging_freq': 6, 'min_child_samples': 28}. Best is trial 4 with value: 0.37993961369242535.\n",
      "[I 2025-04-28 00:40:44,763] Trial 7 finished with value: 0.3700583313472096 and parameters: {'lambda_l1': 2.7332705378348246e-08, 'lambda_l2': 3.7366817707318546e-08, 'num_leaves': 224, 'feature_fraction': 0.9727402482733823, 'bagging_fraction': 0.927021764369722, 'bagging_freq': 3, 'min_child_samples': 87}. Best is trial 4 with value: 0.37993961369242535.\n",
      "[I 2025-04-28 00:40:48,704] Trial 8 finished with value: 0.3615687973903531 and parameters: {'lambda_l1': 1.8960455291632964e-07, 'lambda_l2': 1.2493331661649061e-05, 'num_leaves': 34, 'feature_fraction': 0.4743297727361939, 'bagging_fraction': 0.4008345502342794, 'bagging_freq': 1, 'min_child_samples': 84}. Best is trial 4 with value: 0.37993961369242535.\n",
      "[I 2025-04-28 00:40:52,638] Trial 9 finished with value: 0.37699391442321606 and parameters: {'lambda_l1': 7.722306809525223e-07, 'lambda_l2': 2.2987670242962134e-08, 'num_leaves': 37, 'feature_fraction': 0.7488615655683788, 'bagging_fraction': 0.9719492318228906, 'bagging_freq': 7, 'min_child_samples': 10}. Best is trial 4 with value: 0.37993961369242535.\n",
      "[I 2025-04-28 00:40:57,854] Trial 10 finished with value: 0.3771536479865781 and parameters: {'lambda_l1': 1.218431560934986, 'lambda_l2': 1.303524073673667e-05, 'num_leaves': 104, 'feature_fraction': 0.5784805165447124, 'bagging_fraction': 0.8424968249955643, 'bagging_freq': 3, 'min_child_samples': 54}. Best is trial 4 with value: 0.37993961369242535.\n",
      "[I 2025-04-28 00:41:02,879] Trial 11 finished with value: 0.37654874298670893 and parameters: {'lambda_l1': 0.0033837769833868353, 'lambda_l2': 5.11637746241489, 'num_leaves': 114, 'feature_fraction': 0.9818548399098452, 'bagging_fraction': 0.6510452025157109, 'bagging_freq': 5, 'min_child_samples': 33}. Best is trial 4 with value: 0.37993961369242535.\n",
      "[I 2025-04-28 00:41:06,631] Trial 12 finished with value: 0.3586881379078704 and parameters: {'lambda_l1': 0.1907739791647147, 'lambda_l2': 0.47439890930712525, 'num_leaves': 9, 'feature_fraction': 0.8652935534456061, 'bagging_fraction': 0.8233264328209257, 'bagging_freq': 5, 'min_child_samples': 8}. Best is trial 4 with value: 0.37993961369242535.\n",
      "[I 2025-04-28 00:41:11,247] Trial 13 finished with value: 0.3664141984482201 and parameters: {'lambda_l1': 5.8836446417088954e-05, 'lambda_l2': 0.0648425822918941, 'num_leaves': 196, 'feature_fraction': 0.6057761273798287, 'bagging_fraction': 0.6181752135328215, 'bagging_freq': 5, 'min_child_samples': 34}. Best is trial 4 with value: 0.37993961369242535.\n",
      "[I 2025-04-28 00:41:15,072] Trial 14 finished with value: 0.36688994644958484 and parameters: {'lambda_l1': 0.03005508931997386, 'lambda_l2': 4.230015581250167e-05, 'num_leaves': 95, 'feature_fraction': 0.8377381424852445, 'bagging_fraction': 0.836225170436086, 'bagging_freq': 7, 'min_child_samples': 51}. Best is trial 4 with value: 0.37993961369242535.\n",
      "[I 2025-04-28 00:41:20,999] Trial 15 finished with value: 0.37440314939940406 and parameters: {'lambda_l1': 0.00022445150114027175, 'lambda_l2': 7.636355055224463, 'num_leaves': 140, 'feature_fraction': 0.8979295257228771, 'bagging_fraction': 0.7126800765057059, 'bagging_freq': 4, 'min_child_samples': 23}. Best is trial 4 with value: 0.37993961369242535.\n",
      "[I 2025-04-28 00:41:26,610] Trial 16 finished with value: 0.3762224903161713 and parameters: {'lambda_l1': 5.079728021051115, 'lambda_l2': 0.08271886234301211, 'num_leaves': 70, 'feature_fraction': 0.5481663944285644, 'bagging_fraction': 0.7812872463478036, 'bagging_freq': 6, 'min_child_samples': 65}. Best is trial 4 with value: 0.37993961369242535.\n",
      "[I 2025-04-28 00:41:31,138] Trial 17 finished with value: 0.3859855412125441 and parameters: {'lambda_l1': 1.148483751722978e-05, 'lambda_l2': 0.0001719350799029507, 'num_leaves': 202, 'feature_fraction': 0.4014452583827354, 'bagging_fraction': 0.8883268337839894, 'bagging_freq': 6, 'min_child_samples': 41}. Best is trial 17 with value: 0.3859855412125441.\n",
      "[I 2025-04-28 00:41:38,063] Trial 18 finished with value: 0.3812579989140787 and parameters: {'lambda_l1': 0.007285702933126427, 'lambda_l2': 0.00010974688435313292, 'num_leaves': 198, 'feature_fraction': 0.40933743070540934, 'bagging_fraction': 0.8932251595646851, 'bagging_freq': 6, 'min_child_samples': 45}. Best is trial 17 with value: 0.3859855412125441.\n",
      "[I 2025-04-28 00:41:43,057] Trial 19 finished with value: 0.37544386347428904 and parameters: {'lambda_l1': 0.0011718212510053864, 'lambda_l2': 0.00026939247912423066, 'num_leaves': 200, 'feature_fraction': 0.40255703774343204, 'bagging_fraction': 0.9040781006877202, 'bagging_freq': 6, 'min_child_samples': 64}. Best is trial 17 with value: 0.3859855412125441.\n",
      "[I 2025-04-28 00:41:47,639] Trial 20 finished with value: 0.3784341999169457 and parameters: {'lambda_l1': 1.6122360113443736e-05, 'lambda_l2': 0.0046788699035579025, 'num_leaves': 251, 'feature_fraction': 0.5212185743788714, 'bagging_fraction': 0.8958869829916196, 'bagging_freq': 7, 'min_child_samples': 40}. Best is trial 17 with value: 0.3859855412125441.\n",
      "[I 2025-04-28 00:41:52,878] Trial 21 finished with value: 0.3708414847364745 and parameters: {'lambda_l1': 0.02600751281286875, 'lambda_l2': 0.00014309424540763765, 'num_leaves': 193, 'feature_fraction': 0.4591365785292045, 'bagging_fraction': 0.8678884525890126, 'bagging_freq': 6, 'min_child_samples': 44}. Best is trial 17 with value: 0.3859855412125441.\n",
      "[I 2025-04-28 00:41:58,422] Trial 22 finished with value: 0.3757963197995353 and parameters: {'lambda_l1': 0.018367304604718297, 'lambda_l2': 1.0324112508277473e-06, 'num_leaves': 220, 'feature_fraction': 0.42976992010276954, 'bagging_fraction': 0.7780748091253052, 'bagging_freq': 6, 'min_child_samples': 58}. Best is trial 17 with value: 0.3859855412125441.\n",
      "[I 2025-04-28 00:42:05,422] Trial 23 finished with value: 0.3771516220769343 and parameters: {'lambda_l1': 0.18278362755193786, 'lambda_l2': 1.2003895277727864e-07, 'num_leaves': 138, 'feature_fraction': 0.4663690820008831, 'bagging_fraction': 0.9343843815359243, 'bagging_freq': 5, 'min_child_samples': 42}. Best is trial 17 with value: 0.3859855412125441.\n",
      "[I 2025-04-28 00:42:12,544] Trial 24 finished with value: 0.37915071738204514 and parameters: {'lambda_l1': 0.00022317507023568106, 'lambda_l2': 4.591802075363542e-06, 'num_leaves': 181, 'feature_fraction': 0.6307833779316984, 'bagging_fraction': 0.8047099714918363, 'bagging_freq': 3, 'min_child_samples': 16}. Best is trial 17 with value: 0.3859855412125441.\n",
      "[I 2025-04-28 00:42:18,805] Trial 25 finished with value: 0.37170264075477305 and parameters: {'lambda_l1': 0.00924971483944535, 'lambda_l2': 5.999908450870806e-05, 'num_leaves': 217, 'feature_fraction': 0.5401300487909216, 'bagging_fraction': 0.950168503542139, 'bagging_freq': 4, 'min_child_samples': 46}. Best is trial 17 with value: 0.3859855412125441.\n",
      "[I 2025-04-28 00:42:26,728] Trial 26 finished with value: 0.3804635118901113 and parameters: {'lambda_l1': 0.21659189622023392, 'lambda_l2': 0.0007055147679943757, 'num_leaves': 181, 'feature_fraction': 0.40168275922295055, 'bagging_fraction': 0.8691321283617426, 'bagging_freq': 7, 'min_child_samples': 34}. Best is trial 17 with value: 0.3859855412125441.\n",
      "[I 2025-04-28 00:42:31,561] Trial 27 finished with value: 0.37407462230892896 and parameters: {'lambda_l1': 0.31590788509135015, 'lambda_l2': 0.0006624994187199098, 'num_leaves': 178, 'feature_fraction': 0.40072001942455937, 'bagging_fraction': 0.8727809252949538, 'bagging_freq': 7, 'min_child_samples': 35}. Best is trial 17 with value: 0.3859855412125441.\n",
      "[I 2025-04-28 00:42:37,225] Trial 28 finished with value: 0.3696297843620241 and parameters: {'lambda_l1': 2.1215417400453105, 'lambda_l2': 0.00669891582247815, 'num_leaves': 238, 'feature_fraction': 0.5104759780673721, 'bagging_fraction': 0.7409657468101959, 'bagging_freq': 7, 'min_child_samples': 20}. Best is trial 17 with value: 0.3859855412125441.\n",
      "[I 2025-04-28 00:42:41,926] Trial 29 finished with value: 0.37706715560758375 and parameters: {'lambda_l1': 0.0018214039906400063, 'lambda_l2': 0.01124622772583075, 'num_leaves': 207, 'feature_fraction': 0.4969018887311306, 'bagging_fraction': 0.9972061148887508, 'bagging_freq': 6, 'min_child_samples': 60}. Best is trial 17 with value: 0.3859855412125441.\n",
      "[I 2025-04-28 00:42:46,765] Trial 30 finished with value: 0.3741633431574768 and parameters: {'lambda_l1': 0.0006740055751247838, 'lambda_l2': 0.00011089090882613902, 'num_leaves': 183, 'feature_fraction': 0.5828720467315476, 'bagging_fraction': 0.8823460416734118, 'bagging_freq': 7, 'min_child_samples': 73}. Best is trial 17 with value: 0.3859855412125441.\n",
      "[I 2025-04-28 00:42:51,095] Trial 31 finished with value: 0.38142865859917485 and parameters: {'lambda_l1': 0.06736679291597987, 'lambda_l2': 1.1380091776980493e-08, 'num_leaves': 152, 'feature_fraction': 0.44649139792732584, 'bagging_fraction': 0.8526148448548262, 'bagging_freq': 6, 'min_child_samples': 39}. Best is trial 17 with value: 0.3859855412125441.\n",
      "[I 2025-04-28 00:42:56,053] Trial 32 finished with value: 0.3767213568667868 and parameters: {'lambda_l1': 0.09537678888176541, 'lambda_l2': 0.0013752784364163713, 'num_leaves': 165, 'feature_fraction': 0.47446088519177715, 'bagging_fraction': 0.9618577621965796, 'bagging_freq': 6, 'min_child_samples': 30}. Best is trial 17 with value: 0.3859855412125441.\n",
      "[I 2025-04-28 00:43:00,160] Trial 33 finished with value: 0.37101276213630374 and parameters: {'lambda_l1': 0.4771902199607589, 'lambda_l2': 1.5814252474831753e-05, 'num_leaves': 148, 'feature_fraction': 0.6747725701430098, 'bagging_fraction': 0.9090870698254158, 'bagging_freq': 7, 'min_child_samples': 39}. Best is trial 17 with value: 0.3859855412125441.\n",
      "[I 2025-04-28 00:43:05,363] Trial 34 finished with value: 0.37586575146647416 and parameters: {'lambda_l1': 2.619544529762262e-06, 'lambda_l2': 1.3193511403144123e-06, 'num_leaves': 127, 'feature_fraction': 0.40027763131524385, 'bagging_fraction': 0.8766543647410975, 'bagging_freq': 6, 'min_child_samples': 38}. Best is trial 17 with value: 0.3859855412125441.\n",
      "[I 2025-04-28 00:43:10,227] Trial 35 finished with value: 0.3819539187790584 and parameters: {'lambda_l1': 0.005307558301640636, 'lambda_l2': 0.0006133779370256925, 'num_leaves': 176, 'feature_fraction': 0.4350805362368686, 'bagging_fraction': 0.8515103655174147, 'bagging_freq': 7, 'min_child_samples': 28}. Best is trial 17 with value: 0.3859855412125441.\n",
      "[I 2025-04-28 00:43:15,329] Trial 36 finished with value: 0.3753451966292666 and parameters: {'lambda_l1': 7.001645073153866e-05, 'lambda_l2': 0.02583559270267674, 'num_leaves': 159, 'feature_fraction': 0.44891800673975696, 'bagging_fraction': 0.8102607860498477, 'bagging_freq': 5, 'min_child_samples': 17}. Best is trial 17 with value: 0.3859855412125441.\n",
      "[I 2025-04-28 00:43:21,493] Trial 37 finished with value: 0.37334006783857365 and parameters: {'lambda_l1': 0.0034691076757901126, 'lambda_l2': 1.2085817286547602, 'num_leaves': 227, 'feature_fraction': 0.44255616420658905, 'bagging_fraction': 0.742752264850637, 'bagging_freq': 2, 'min_child_samples': 27}. Best is trial 17 with value: 0.3859855412125441.\n",
      "[I 2025-04-28 00:43:25,392] Trial 38 finished with value: 0.35505915512832814 and parameters: {'lambda_l1': 0.06702369118432808, 'lambda_l2': 2.4788618466840265e-07, 'num_leaves': 206, 'feature_fraction': 0.49295819124243867, 'bagging_fraction': 0.5947538626316007, 'bagging_freq': 6, 'min_child_samples': 54}. Best is trial 17 with value: 0.3859855412125441.\n",
      "[I 2025-04-28 00:43:30,166] Trial 39 finished with value: 0.37576559943619775 and parameters: {'lambda_l1': 0.0063722536429129655, 'lambda_l2': 5.13414328203169e-06, 'num_leaves': 173, 'feature_fraction': 0.5543723654987702, 'bagging_fraction': 0.8499532704292893, 'bagging_freq': 4, 'min_child_samples': 46}. Best is trial 17 with value: 0.3859855412125441.\n",
      "[I 2025-04-28 00:43:34,290] Trial 40 finished with value: 0.3649332285999193 and parameters: {'lambda_l1': 7.189457690769868e-05, 'lambda_l2': 0.002478966873608272, 'num_leaves': 122, 'feature_fraction': 0.442467028140879, 'bagging_fraction': 0.5288755549610644, 'bagging_freq': 5, 'min_child_samples': 14}. Best is trial 17 with value: 0.3859855412125441.\n",
      "[I 2025-04-28 00:43:38,966] Trial 41 finished with value: 0.376470408835224 and parameters: {'lambda_l1': 0.06576601086740705, 'lambda_l2': 0.00042665231064203154, 'num_leaves': 149, 'feature_fraction': 0.4255367222007701, 'bagging_fraction': 0.927856683533547, 'bagging_freq': 7, 'min_child_samples': 25}. Best is trial 17 with value: 0.3859855412125441.\n",
      "[I 2025-04-28 00:43:43,720] Trial 42 finished with value: 0.37160725445665493 and parameters: {'lambda_l1': 1.0166821229365397, 'lambda_l2': 0.00022148395576748368, 'num_leaves': 170, 'feature_fraction': 0.4781828411732079, 'bagging_fraction': 0.7820684625376767, 'bagging_freq': 7, 'min_child_samples': 31}. Best is trial 17 with value: 0.3859855412125441.\n",
      "[I 2025-04-28 00:43:47,667] Trial 43 finished with value: 0.36713335549476284 and parameters: {'lambda_l1': 0.005963674715245007, 'lambda_l2': 0.0012412603627192057, 'num_leaves': 196, 'feature_fraction': 0.4210951167353357, 'bagging_fraction': 0.4310244763875199, 'bagging_freq': 6, 'min_child_samples': 36}. Best is trial 17 with value: 0.3859855412125441.\n",
      "[I 2025-04-28 00:43:51,539] Trial 44 finished with value: 0.35931791662541224 and parameters: {'lambda_l1': 9.888195563648496, 'lambda_l2': 3.6402191106361586e-05, 'num_leaves': 186, 'feature_fraction': 0.7495141147222995, 'bagging_fraction': 0.8541888186067235, 'bagging_freq': 7, 'min_child_samples': 49}. Best is trial 17 with value: 0.3859855412125441.\n",
      "[I 2025-04-28 00:43:55,740] Trial 45 finished with value: 0.3794560332320014 and parameters: {'lambda_l1': 2.351183661556559e-06, 'lambda_l2': 0.0030000387663149013, 'num_leaves': 214, 'feature_fraction': 0.5215605711092834, 'bagging_fraction': 0.9832187529601709, 'bagging_freq': 6, 'min_child_samples': 42}. Best is trial 17 with value: 0.3859855412125441.\n",
      "[I 2025-04-28 01:02:04,126] Trial 46 finished with value: 0.3769206650595196 and parameters: {'lambda_l1': 0.0004218237334170814, 'lambda_l2': 0.020256936159679054, 'num_leaves': 155, 'feature_fraction': 0.4608867616188103, 'bagging_fraction': 0.9279867977628363, 'bagging_freq': 7, 'min_child_samples': 29}. Best is trial 17 with value: 0.3859855412125441.\n",
      "[I 2025-04-28 01:02:10,461] Trial 47 finished with value: 0.3636435306379777 and parameters: {'lambda_l1': 0.052240557456525, 'lambda_l2': 0.0004940250295412473, 'num_leaves': 233, 'feature_fraction': 0.7090506380352839, 'bagging_fraction': 0.8234540143615777, 'bagging_freq': 6, 'min_child_samples': 22}. Best is trial 17 with value: 0.3859855412125441.\n",
      "[I 2025-04-28 01:02:15,025] Trial 48 finished with value: 0.37569888102170246 and parameters: {'lambda_l1': 0.01203092989167731, 'lambda_l2': 7.112509224477356e-08, 'num_leaves': 247, 'feature_fraction': 0.42353614541829443, 'bagging_fraction': 0.6732150282131854, 'bagging_freq': 5, 'min_child_samples': 53}. Best is trial 17 with value: 0.3859855412125441.\n",
      "[I 2025-04-28 01:02:19,741] Trial 49 finished with value: 0.37662449811873533 and parameters: {'lambda_l1': 1.1248680729335343e-07, 'lambda_l2': 1.1203067396868563e-08, 'num_leaves': 138, 'feature_fraction': 0.4930087368820366, 'bagging_fraction': 0.9532546149480579, 'bagging_freq': 7, 'min_child_samples': 32}. Best is trial 17 with value: 0.3859855412125441.\n",
      "[I 2025-04-28 01:02:24,093] Trial 50 finished with value: 0.37752037795714355 and parameters: {'lambda_l1': 1.7256829173597417e-05, 'lambda_l2': 8.832715930672776e-05, 'num_leaves': 168, 'feature_fraction': 0.9419286862471437, 'bagging_fraction': 0.9084981132369966, 'bagging_freq': 2, 'min_child_samples': 97}. Best is trial 17 with value: 0.3859855412125441.\n",
      "[I 2025-04-28 01:02:28,932] Trial 51 finished with value: 0.37061102279592384 and parameters: {'lambda_l1': 0.18573456679072042, 'lambda_l2': 1.1705671461195998e-08, 'num_leaves': 186, 'feature_fraction': 0.44149065331667847, 'bagging_fraction': 0.847809614327073, 'bagging_freq': 5, 'min_child_samples': 45}. Best is trial 17 with value: 0.3859855412125441.\n",
      "[I 2025-04-28 01:02:34,052] Trial 52 finished with value: 0.3689383068128704 and parameters: {'lambda_l1': 0.026366038741818493, 'lambda_l2': 5.126199622068458e-07, 'num_leaves': 156, 'feature_fraction': 0.4172047811620605, 'bagging_fraction': 0.7988430733247374, 'bagging_freq': 6, 'min_child_samples': 49}. Best is trial 17 with value: 0.3859855412125441.\n",
      "[I 2025-04-28 01:02:39,365] Trial 53 finished with value: 0.3812087993968325 and parameters: {'lambda_l1': 0.0042493408926504205, 'lambda_l2': 6.681221115655932e-08, 'num_leaves': 106, 'feature_fraction': 0.40037291951122095, 'bagging_fraction': 0.831955105462419, 'bagging_freq': 5, 'min_child_samples': 37}. Best is trial 17 with value: 0.3859855412125441.\n",
      "[I 2025-04-28 01:02:43,686] Trial 54 finished with value: 0.3669603033290573 and parameters: {'lambda_l1': 0.0015057184301932628, 'lambda_l2': 6.966442197167523e-08, 'num_leaves': 81, 'feature_fraction': 0.7861829049565474, 'bagging_fraction': 0.8951505015627612, 'bagging_freq': 6, 'min_child_samples': 37}. Best is trial 17 with value: 0.3859855412125441.\n",
      "[I 2025-04-28 01:02:48,407] Trial 55 finished with value: 0.37654034478932263 and parameters: {'lambda_l1': 0.003311287603949456, 'lambda_l2': 1.9745178719808562e-08, 'num_leaves': 110, 'feature_fraction': 0.4102539798825669, 'bagging_fraction': 0.8373502381016431, 'bagging_freq': 6, 'min_child_samples': 34}. Best is trial 17 with value: 0.3859855412125441.\n",
      "[I 2025-04-28 01:02:52,331] Trial 56 finished with value: 0.3821891276558802 and parameters: {'lambda_l1': 0.0006434420260159407, 'lambda_l2': 2.1727984877964465e-05, 'num_leaves': 49, 'feature_fraction': 0.4642961748809784, 'bagging_fraction': 0.8669984248597009, 'bagging_freq': 4, 'min_child_samples': 41}. Best is trial 17 with value: 0.3859855412125441.\n",
      "[I 2025-04-28 01:02:56,853] Trial 57 finished with value: 0.3800056258648687 and parameters: {'lambda_l1': 0.0007524809126711903, 'lambda_l2': 3.7660496522199416e-06, 'num_leaves': 44, 'feature_fraction': 0.47640424247181906, 'bagging_fraction': 0.8227335205920215, 'bagging_freq': 4, 'min_child_samples': 58}. Best is trial 17 with value: 0.3859855412125441.\n",
      "[I 2025-04-28 01:03:02,106] Trial 58 finished with value: 0.380243744203872 and parameters: {'lambda_l1': 0.00018007114519757458, 'lambda_l2': 2.495228955193361e-05, 'num_leaves': 45, 'feature_fraction': 0.528624532207245, 'bagging_fraction': 0.8930049172295046, 'bagging_freq': 3, 'min_child_samples': 42}. Best is trial 17 with value: 0.3859855412125441.\n",
      "[I 2025-04-28 01:03:07,032] Trial 59 finished with value: 0.37372533444496325 and parameters: {'lambda_l1': 3.372924439539774e-05, 'lambda_l2': 5.073913215630531e-08, 'num_leaves': 90, 'feature_fraction': 0.5759048746766011, 'bagging_fraction': 0.7530794264987692, 'bagging_freq': 5, 'min_child_samples': 40}. Best is trial 17 with value: 0.3859855412125441.\n",
      "[I 2025-04-28 01:03:11,485] Trial 60 finished with value: 0.32940494423374683 and parameters: {'lambda_l1': 0.00037500828805375546, 'lambda_l2': 3.109100104980686e-07, 'num_leaves': 3, 'feature_fraction': 0.4559890213393514, 'bagging_fraction': 0.7188996447004441, 'bagging_freq': 4, 'min_child_samples': 26}. Best is trial 17 with value: 0.3859855412125441.\n",
      "[I 2025-04-28 01:03:15,799] Trial 61 finished with value: 0.3807895476088038 and parameters: {'lambda_l1': 0.0034709181013038016, 'lambda_l2': 0.00018861358550531393, 'num_leaves': 55, 'feature_fraction': 0.435799437948405, 'bagging_fraction': 0.8679839936761067, 'bagging_freq': 4, 'min_child_samples': 37}. Best is trial 17 with value: 0.3859855412125441.\n",
      "[I 2025-04-28 01:03:19,706] Trial 62 finished with value: 0.37183410822756924 and parameters: {'lambda_l1': 0.004140202130706039, 'lambda_l2': 0.000151520107288035, 'num_leaves': 21, 'feature_fraction': 0.4312030575736293, 'bagging_fraction': 0.8619526499402813, 'bagging_freq': 4, 'min_child_samples': 44}. Best is trial 17 with value: 0.3859855412125441.\n",
      "[I 2025-04-28 01:03:24,356] Trial 63 finished with value: 0.3787444671503462 and parameters: {'lambda_l1': 0.009943678244214481, 'lambda_l2': 7.35011270143251e-06, 'num_leaves': 59, 'feature_fraction': 0.5014122590701171, 'bagging_fraction': 0.7876216467416556, 'bagging_freq': 4, 'min_child_samples': 37}. Best is trial 17 with value: 0.3859855412125441.\n",
      "[I 2025-04-28 01:03:29,459] Trial 64 finished with value: 0.38173791403200064 and parameters: {'lambda_l1': 0.0015814636490859262, 'lambda_l2': 0.0003030101337109902, 'num_leaves': 61, 'feature_fraction': 0.46054480923475055, 'bagging_fraction': 0.912615898815902, 'bagging_freq': 3, 'min_child_samples': 52}. Best is trial 17 with value: 0.3859855412125441.\n",
      "[I 2025-04-28 01:03:32,704] Trial 65 finished with value: 0.3684273839353492 and parameters: {'lambda_l1': 0.000922915855660511, 'lambda_l2': 1.6505049645480832e-07, 'num_leaves': 20, 'feature_fraction': 0.47951184605398467, 'bagging_fraction': 0.9172660308527846, 'bagging_freq': 3, 'min_child_samples': 50}. Best is trial 17 with value: 0.3859855412125441.\n",
      "[I 2025-04-28 01:03:37,474] Trial 66 finished with value: 0.3747702122715474 and parameters: {'lambda_l1': 0.0015613381490966359, 'lambda_l2': 4.229747424698907e-05, 'num_leaves': 98, 'feature_fraction': 0.4683315291776299, 'bagging_fraction': 0.9436024966597465, 'bagging_freq': 5, 'min_child_samples': 72}. Best is trial 17 with value: 0.3859855412125441.\n",
      "[I 2025-04-28 01:03:41,493] Trial 67 finished with value: 0.37802248230987134 and parameters: {'lambda_l1': 0.017548042975208684, 'lambda_l2': 2.6780317298160105e-08, 'num_leaves': 71, 'feature_fraction': 0.4525171709846874, 'bagging_fraction': 0.8928258413426722, 'bagging_freq': 2, 'min_child_samples': 54}. Best is trial 17 with value: 0.3859855412125441.\n",
      "[I 2025-04-28 01:03:45,757] Trial 68 finished with value: 0.3738671867915132 and parameters: {'lambda_l1': 0.00014370887750531528, 'lambda_l2': 7.616128249919327e-05, 'num_leaves': 84, 'feature_fraction': 0.4006415403769677, 'bagging_fraction': 0.8336286697475347, 'bagging_freq': 3, 'min_child_samples': 47}. Best is trial 17 with value: 0.3859855412125441.\n",
      "[I 2025-04-28 01:03:49,853] Trial 69 finished with value: 0.3735114403762826 and parameters: {'lambda_l1': 4.1346672545225215e-06, 'lambda_l2': 6.877553237425684e-07, 'num_leaves': 61, 'feature_fraction': 0.5078566617674405, 'bagging_fraction': 0.9736720326060528, 'bagging_freq': 5, 'min_child_samples': 62}. Best is trial 17 with value: 0.3859855412125441.\n",
      "[I 2025-04-28 01:03:54,653] Trial 70 finished with value: 0.3719857690510173 and parameters: {'lambda_l1': 0.0005423930097996091, 'lambda_l2': 0.00032599934463002444, 'num_leaves': 119, 'feature_fraction': 0.6335573969954134, 'bagging_fraction': 0.8852280276356392, 'bagging_freq': 5, 'min_child_samples': 57}. Best is trial 17 with value: 0.3859855412125441.\n",
      "[I 2025-04-28 01:03:59,829] Trial 71 finished with value: 0.39001382804282003 and parameters: {'lambda_l1': 0.040385258526355695, 'lambda_l2': 0.00017381877343836891, 'num_leaves': 47, 'feature_fraction': 0.4356613976551727, 'bagging_fraction': 0.8676871209413572, 'bagging_freq': 4, 'min_child_samples': 41}. Best is trial 71 with value: 0.39001382804282003.\n",
      "[I 2025-04-28 01:04:03,323] Trial 72 finished with value: 0.3732331456430351 and parameters: {'lambda_l1': 0.03300581122828172, 'lambda_l2': 0.0008784189838708474, 'num_leaves': 27, 'feature_fraction': 0.4180416297446918, 'bagging_fraction': 0.9154158051217126, 'bagging_freq': 3, 'min_child_samples': 41}. Best is trial 71 with value: 0.39001382804282003.\n",
      "[I 2025-04-28 01:04:07,692] Trial 73 finished with value: 0.38368401157037624 and parameters: {'lambda_l1': 0.002551240393230827, 'lambda_l2': 1.2321989605480755e-05, 'num_leaves': 39, 'feature_fraction': 0.45156516844549655, 'bagging_fraction': 0.8572897272786492, 'bagging_freq': 4, 'min_child_samples': 43}. Best is trial 71 with value: 0.39001382804282003.\n",
      "[I 2025-04-28 01:04:11,874] Trial 74 finished with value: 0.38187760391730363 and parameters: {'lambda_l1': 0.009863172316426687, 'lambda_l2': 1.9674056092091385e-05, 'num_leaves': 40, 'feature_fraction': 0.48769685068771995, 'bagging_fraction': 0.9372704325720943, 'bagging_freq': 4, 'min_child_samples': 51}. Best is trial 71 with value: 0.39001382804282003.\n",
      "[I 2025-04-28 01:04:16,072] Trial 75 finished with value: 0.3793901993917733 and parameters: {'lambda_l1': 0.00216349569718704, 'lambda_l2': 2.071809716289169e-05, 'num_leaves': 41, 'feature_fraction': 0.4596464614686246, 'bagging_fraction': 0.9405037442731995, 'bagging_freq': 4, 'min_child_samples': 68}. Best is trial 71 with value: 0.39001382804282003.\n",
      "[I 2025-04-28 01:04:20,650] Trial 76 finished with value: 0.38149684435903086 and parameters: {'lambda_l1': 0.013014273794702944, 'lambda_l2': 2.529555651435068e-06, 'num_leaves': 31, 'feature_fraction': 0.4843703099570626, 'bagging_fraction': 0.8613926289064116, 'bagging_freq': 4, 'min_child_samples': 52}. Best is trial 71 with value: 0.39001382804282003.\n",
      "[I 2025-04-28 01:04:25,390] Trial 77 finished with value: 0.376886400202208 and parameters: {'lambda_l1': 0.002289492584186475, 'lambda_l2': 1.961253750796772e-06, 'num_leaves': 32, 'feature_fraction': 0.5543161071025564, 'bagging_fraction': 0.9873234820060912, 'bagging_freq': 4, 'min_child_samples': 52}. Best is trial 71 with value: 0.39001382804282003.\n",
      "[I 2025-04-28 01:04:29,694] Trial 78 finished with value: 0.3859781844024244 and parameters: {'lambda_l1': 0.015293780498338305, 'lambda_l2': 9.809507876801447e-06, 'num_leaves': 50, 'feature_fraction': 0.4875863888216754, 'bagging_fraction': 0.9631566821311031, 'bagging_freq': 3, 'min_child_samples': 79}. Best is trial 71 with value: 0.39001382804282003.\n",
      "[I 2025-04-28 01:04:34,172] Trial 79 finished with value: 0.3792598150974722 and parameters: {'lambda_l1': 0.04012932298165266, 'lambda_l2': 1.0508667359790678e-05, 'num_leaves': 50, 'feature_fraction': 0.5385924088537068, 'bagging_fraction': 0.9675085942271481, 'bagging_freq': 3, 'min_child_samples': 76}. Best is trial 71 with value: 0.39001382804282003.\n",
      "[I 2025-04-28 01:04:37,750] Trial 80 finished with value: 0.3682527007153721 and parameters: {'lambda_l1': 1.3140542659126653e-08, 'lambda_l2': 9.741392694367082e-06, 'num_leaves': 13, 'feature_fraction': 0.5682217576857176, 'bagging_fraction': 0.9948603012470711, 'bagging_freq': 3, 'min_child_samples': 56}. Best is trial 71 with value: 0.39001382804282003.\n",
      "[I 2025-04-28 01:04:42,348] Trial 81 finished with value: 0.38189465164700437 and parameters: {'lambda_l1': 0.01734340747858211, 'lambda_l2': 2.8320613273779995e-05, 'num_leaves': 38, 'feature_fraction': 0.4861664197975358, 'bagging_fraction': 0.9230383107501235, 'bagging_freq': 4, 'min_child_samples': 84}. Best is trial 71 with value: 0.39001382804282003.\n",
      "[I 2025-04-28 01:04:46,975] Trial 82 finished with value: 0.3771706101342922 and parameters: {'lambda_l1': 0.09988310369940787, 'lambda_l2': 2.9689725426257404e-05, 'num_leaves': 73, 'feature_fraction': 0.5005809031751296, 'bagging_fraction': 0.9181123634191907, 'bagging_freq': 2, 'min_child_samples': 87}. Best is trial 71 with value: 0.39001382804282003.\n",
      "[I 2025-04-28 01:04:51,618] Trial 83 finished with value: 0.37577751927362607 and parameters: {'lambda_l1': 0.00725095610823764, 'lambda_l2': 5.5596257182890836e-05, 'num_leaves': 65, 'feature_fraction': 0.4647975344101535, 'bagging_fraction': 0.9491259382362498, 'bagging_freq': 3, 'min_child_samples': 83}. Best is trial 71 with value: 0.39001382804282003.\n",
      "[I 2025-04-28 01:04:56,131] Trial 84 finished with value: 0.3790180683682286 and parameters: {'lambda_l1': 0.01969040542993895, 'lambda_l2': 1.3097144447810914e-05, 'num_leaves': 48, 'feature_fraction': 0.5192689362571257, 'bagging_fraction': 0.931764698088629, 'bagging_freq': 4, 'min_child_samples': 88}. Best is trial 71 with value: 0.39001382804282003.\n",
      "[I 2025-04-28 01:05:00,724] Trial 85 finished with value: 0.37917065702653974 and parameters: {'lambda_l1': 0.00010888541197303397, 'lambda_l2': 6.157359575368908e-06, 'num_leaves': 40, 'feature_fraction': 0.433223746630849, 'bagging_fraction': 0.9675517102722564, 'bagging_freq': 3, 'min_child_samples': 82}. Best is trial 71 with value: 0.39001382804282003.\n",
      "[I 2025-04-28 01:05:05,717] Trial 86 finished with value: 0.38365726741542533 and parameters: {'lambda_l1': 0.0010576419843052458, 'lambda_l2': 0.00012728505723504443, 'num_leaves': 55, 'feature_fraction': 0.4932835269540668, 'bagging_fraction': 0.8989060570614781, 'bagging_freq': 4, 'min_child_samples': 44}. Best is trial 71 with value: 0.39001382804282003.\n",
      "[I 2025-04-28 01:05:10,391] Trial 87 finished with value: 0.376927519680034 and parameters: {'lambda_l1': 0.00026788318552103734, 'lambda_l2': 1.9082084566266822e-05, 'num_leaves': 51, 'feature_fraction': 0.48745170136546895, 'bagging_fraction': 0.8744586186145334, 'bagging_freq': 4, 'min_child_samples': 92}. Best is trial 71 with value: 0.39001382804282003.\n",
      "[I 2025-04-28 01:05:14,390] Trial 88 finished with value: 0.3725450323652878 and parameters: {'lambda_l1': 4.212812288753233e-07, 'lambda_l2': 0.00011118055585154089, 'num_leaves': 22, 'feature_fraction': 0.6049266616686718, 'bagging_fraction': 0.9006737410852093, 'bagging_freq': 1, 'min_child_samples': 75}. Best is trial 71 with value: 0.39001382804282003.\n",
      "[I 2025-04-28 01:05:18,766] Trial 89 finished with value: 0.3766026916839929 and parameters: {'lambda_l1': 0.001098145681451577, 'lambda_l2': 5.157174956526828e-05, 'num_leaves': 38, 'feature_fraction': 0.5146740504970954, 'bagging_fraction': 0.8087970559645927, 'bagging_freq': 4, 'min_child_samples': 80}. Best is trial 71 with value: 0.39001382804282003.\n",
      "[I 2025-04-28 01:05:22,114] Trial 90 finished with value: 0.35512388618473345 and parameters: {'lambda_l1': 0.09106407541845866, 'lambda_l2': 3.6889837757587483e-06, 'num_leaves': 11, 'feature_fraction': 0.5356497390830391, 'bagging_fraction': 0.5586975123630439, 'bagging_freq': 4, 'min_child_samples': 43}. Best is trial 71 with value: 0.39001382804282003.\n",
      "[I 2025-04-28 01:05:27,177] Trial 91 finished with value: 0.3819775001284672 and parameters: {'lambda_l1': 0.008492082604846971, 'lambda_l2': 0.0003525367231526058, 'num_leaves': 56, 'feature_fraction': 0.44595362144295847, 'bagging_fraction': 0.9245056736970976, 'bagging_freq': 4, 'min_child_samples': 47}. Best is trial 71 with value: 0.39001382804282003.\n",
      "[I 2025-04-28 01:05:30,941] Trial 92 finished with value: 0.3796029440209619 and parameters: {'lambda_l1': 0.012281391094051707, 'lambda_l2': 0.0005285488360841254, 'num_leaves': 56, 'feature_fraction': 0.43033637233786604, 'bagging_fraction': 0.8835216078058694, 'bagging_freq': 4, 'min_child_samples': 48}. Best is trial 71 with value: 0.39001382804282003.\n",
      "[I 2025-04-28 01:05:35,359] Trial 93 finished with value: 0.38074104247559687 and parameters: {'lambda_l1': 0.005121622281890665, 'lambda_l2': 0.0016569356324718165, 'num_leaves': 35, 'feature_fraction': 0.4880551989202008, 'bagging_fraction': 0.9255196171035552, 'bagging_freq': 4, 'min_child_samples': 46}. Best is trial 71 with value: 0.39001382804282003.\n",
      "[I 2025-04-28 01:05:39,991] Trial 94 finished with value: 0.3780931527384487 and parameters: {'lambda_l1': 0.008024213330239382, 'lambda_l2': 0.00019649595227373516, 'num_leaves': 76, 'feature_fraction': 0.4527335992323566, 'bagging_fraction': 0.9568834061354865, 'bagging_freq': 4, 'min_child_samples': 100}. Best is trial 71 with value: 0.39001382804282003.\n",
      "[I 2025-04-28 01:05:44,159] Trial 95 finished with value: 0.38270462313639225 and parameters: {'lambda_l1': 0.02363450313126472, 'lambda_l2': 6.962544359503656e-05, 'num_leaves': 66, 'feature_fraction': 0.44540421056560486, 'bagging_fraction': 0.9347167677585324, 'bagging_freq': 4, 'min_child_samples': 39}. Best is trial 71 with value: 0.39001382804282003.\n",
      "[I 2025-04-28 01:05:47,225] Trial 96 finished with value: 0.3735899640249588 and parameters: {'lambda_l1': 0.021550976252005208, 'lambda_l2': 7.18290506548451e-05, 'num_leaves': 27, 'feature_fraction': 0.4447947129873229, 'bagging_fraction': 0.8991422331530491, 'bagging_freq': 4, 'min_child_samples': 32}. Best is trial 71 with value: 0.39001382804282003.\n",
      "[I 2025-04-28 01:05:51,335] Trial 97 finished with value: 0.37793895285905044 and parameters: {'lambda_l1': 0.0024383215901596536, 'lambda_l2': 0.00011232082483560444, 'num_leaves': 51, 'feature_fraction': 0.41845475960264605, 'bagging_fraction': 0.8475358406054415, 'bagging_freq': 4, 'min_child_samples': 39}. Best is trial 71 with value: 0.39001382804282003.\n",
      "[I 2025-04-28 01:05:55,584] Trial 98 finished with value: 0.38120851889906715 and parameters: {'lambda_l1': 0.04135689694963654, 'lambda_l2': 3.556311338341153e-05, 'num_leaves': 66, 'feature_fraction': 0.47354237658593734, 'bagging_fraction': 0.8802904553770833, 'bagging_freq': 4, 'min_child_samples': 44}. Best is trial 71 with value: 0.39001382804282003.\n",
      "[I 2025-04-28 01:05:59,189] Trial 99 finished with value: 0.37799169201532695 and parameters: {'lambda_l1': 0.3915442496813729, 'lambda_l2': 0.004432080140365699, 'num_leaves': 65, 'feature_fraction': 0.41218086983602603, 'bagging_fraction': 0.8634711885008217, 'bagging_freq': 4, 'min_child_samples': 35}. Best is trial 71 with value: 0.39001382804282003.\n"
     ]
    }
   ],
   "source": [
    "import optuna\n",
    "\n",
    "#Genero estudio\n",
    "study = optuna.create_study(direction='maximize',\n",
    "                            storage=\"sqlite:///../work/db.sqlite3\",\n",
    "                            study_name=\"04 - LGB Multiclass CV\",\n",
    "                            load_if_exists = True)\n",
    "\n",
    "#Corro la optimizacion\n",
    "study.optimize(cv_es_lgb_objective, n_trials=100)"
   ]
  },
  {
   "cell_type": "markdown",
   "id": "4a0a5d3b",
   "metadata": {},
   "source": [
    "## LGBM Importance Futures"
   ]
  },
  {
   "cell_type": "code",
   "execution_count": 40,
   "id": "1100ce90",
   "metadata": {},
   "outputs": [
    {
     "data": {
      "image/png": "[encoded data removed]",
      "text/plain": [
       "<Figure size 1000x600 with 1 Axes>"
      ]
     },
     "metadata": {},
     "output_type": "display_data"
    },
    {
     "data": {
      "image/png": "[encoded data removed]",
      "text/plain": [
       "<Figure size 1000x600 with 1 Axes>"
      ]
     },
     "metadata": {},
     "output_type": "display_data"
    },
    {
     "data": {
      "image/png": "[encoded data removed]",
      "text/plain": [
       "<Figure size 1000x600 with 1 Axes>"
      ]
     },
     "metadata": {},
     "output_type": "display_data"
    },
    {
     "data": {
      "image/png": "[encoded data removed]",
      "text/plain": [
       "<Figure size 1150x660 with 5 Axes>"
      ]
     },
     "metadata": {},
     "output_type": "display_data"
    }
   ],
   "source": [
    "import lightgbm as lgb\n",
    "import shap\n",
    "import matplotlib.pyplot as plt\n",
    "from sklearn.inspection import permutation_importance\n",
    "import numpy as np\n",
    "\n",
    "features = np.array(features)\n",
    "\n",
    "# --------------------\n",
    "# 1. Feature Importance basada en GAIN\n",
    "# --------------------\n",
    "importances_gain = lgb_model2.feature_importance(importance_type='gain')\n",
    "sorted_idx_gain = importances_gain.argsort()[::-1]\n",
    "\n",
    "plt.figure(figsize=(10,6))\n",
    "plt.barh(features[sorted_idx_gain], importances_gain[sorted_idx_gain])\n",
    "plt.xlabel('Importancia (GAIN)')\n",
    "plt.title('Feature Importance basada en GAIN')\n",
    "plt.gca().invert_yaxis()\n",
    "plt.show()\n",
    "\n",
    "# --------------------\n",
    "# 2. Feature Importance basada en SPLIT\n",
    "# --------------------\n",
    "importances_split = lgb_model2.feature_importance(importance_type='split')\n",
    "sorted_idx_split = importances_split.argsort()[::-1]\n",
    "\n",
    "plt.figure(figsize=(10,6))\n",
    "plt.barh(features[sorted_idx_split], importances_split[sorted_idx_split])\n",
    "plt.xlabel('Importancia (SPLIT)')\n",
    "plt.title('Feature Importance basada en SPLIT')\n",
    "plt.gca().invert_yaxis()\n",
    "plt.show()\n",
    "\n",
    "# --------------------\n",
    "# 3. Permutation Importance\n",
    "# --------------------\n",
    "# Para permutation necesitamos un modelo tipo sklearn, armamos uno rápido\n",
    "model_sklearn = lgb.LGBMClassifier(boosting_type='gbdt')\n",
    "model_sklearn.fit(X_train, y_train)\n",
    "\n",
    "perm_result = permutation_importance(model_sklearn, X_test, y_test, n_repeats=10, random_state=42, scoring='accuracy')\n",
    "sorted_idx_perm = perm_result.importances_mean.argsort()\n",
    "\n",
    "plt.figure(figsize=(10,6))\n",
    "plt.barh(features[sorted_idx_perm], perm_result.importances_mean[sorted_idx_perm])\n",
    "plt.xlabel('Impacto en Accuracy')\n",
    "plt.title('Permutation Importance')\n",
    "plt.gca().invert_yaxis()\n",
    "plt.show()\n",
    "\n",
    "# --------------------\n",
    "# 4. SHAP Values\n",
    "# --------------------\n",
    "explainer = shap.TreeExplainer(lgb_model2)\n",
    "shap_values = explainer.shap_values(X_test)\n",
    "\n",
    "# Graficar importancia promedio\n",
    "shap.summary_plot(shap_values, X_test, feature_names=features, plot_type=\"dot\")"
   ]
  }
 ],
 "metadata": {
  "kernelspec": {
   "display_name": "ldi2",
   "language": "python",
   "name": "python3"
  },
  "language_info": {
   "codemirror_mode": {
    "name": "ipython",
    "version": 3
   },
   "file_extension": ".py",
   "mimetype": "text/x-python",
   "name": "python",
   "nbconvert_exporter": "python",
   "pygments_lexer": "ipython3",
   "version": "3.13.2"
  }
 },
 "nbformat": 4,
 "nbformat_minor": 5
}
