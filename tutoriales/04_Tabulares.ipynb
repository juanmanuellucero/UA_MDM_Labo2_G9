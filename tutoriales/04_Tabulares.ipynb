{
 "cells": [
  {
   "cell_type": "markdown",
   "metadata": {},
   "source": [
    "## Modelo datos estructurados\n",
    "Este notebook desarrolla un primer modelo para resolver el problema de Petfinder. Empezamos haciendo un modelo inicial muy simple para ver la viabilidad de resolver el problema. Luego analizamos como se comporta la métrica kappa propuesta y vemos la matriz de confusión. Finalmente hacemos una optimizacin de hiperparametros evaluando con train/test y otra validando con 5 fold CV y testeando en el 20% de los datos"
   ]
  },
  {
   "cell_type": "code",
   "execution_count": 1,
   "metadata": {},
   "outputs": [
    {
     "name": "stderr",
     "output_type": "stream",
     "text": [
      "c:\\Users\\TrendingPc\\Documents\\Code\\REPO_TP\\UA_MDM_Labo2_G9\\.venv\\Lib\\site-packages\\tqdm\\auto.py:21: TqdmWarning: IProgress not found. Please update jupyter and ipywidgets. See https://ipywidgets.readthedocs.io/en/stable/user_install.html\n",
      "  from .autonotebook import tqdm as notebook_tqdm\n"
     ]
    }
   ],
   "source": [
    "#Import de librerias basicas tablas y matrices\n",
    "import numpy as np \n",
    "import pandas as pd \n",
    "\n",
    "#Gradient Boosting\n",
    "import lightgbm as lgb\n",
    "\n",
    "#Funciones auxiliares sklearn\n",
    "from sklearn.model_selection import train_test_split, StratifiedKFold #Split y cross Validation\n",
    "from sklearn.metrics import cohen_kappa_score, accuracy_score, balanced_accuracy_score #Metricas\n",
    "from sklearn.utils import shuffle \n",
    "\n",
    "#Visualizacióon\n",
    "from plotly import express as px\n",
    "\n",
    "#Plot de matriz de confusion normalizada en actuals\n",
    "from utiles import plot_confusion_matrix\n",
    "\n",
    "import os\n",
    "\n",
    "#Optimizacion de hiperparametros\n",
    "import optuna\n",
    "from optuna.artifacts import FileSystemArtifactStore, upload_artifact\n",
    "\n",
    "#Guardado de objetos en archivos joblib\n",
    "from joblib import load, dump\n"
   ]
  },
  {
   "cell_type": "code",
   "execution_count": 2,
   "metadata": {},
   "outputs": [],
   "source": [
    "# Paths para acceso archivos\n",
    "#Este notebook asume la siguiente estructura de carpetas a partir de la ubicacion de base_dir \n",
    "#(dos niveles arriba de la cƒarpeta donde se ejecuta el notebook). \n",
    "# /ƒ/ƒ\n",
    "# /UA_MDM_Labo2/inputƒ\n",
    "# /UA_MDM_Labo2/input/petfinder-adoption-prediction/            <- Aca deben ir todos los archivos de datos de la competencia \n",
    "# /UA_MDM_Labo2/tutoriales/                       <- Aca deben poner los notebooks y scripts que les compartimos\n",
    "# /UA_MDM_Labo2/work/                             <- Resultados de notebooks iran dentro de esta carpeta en subcarpetas\n",
    "# /UA_MDM_Labo2/work/models/                     <- Modelos entrenados en archivos joblibs\n",
    "# /UA_MDM_Labo2/work/optuna_temp_artifacts/      <- Archivos que queremos dejar como artefacto de un trial de optuna (optuna los copiara a la carpeta de abajo)\n",
    "# /UA_MDM_Labo2/work/optuna_artifacts/           <- Archivos con artefactos que sibimos a optuna\n",
    "\n",
    "#Subimos dos niveles para quedar en la carpeta que contiene input y UA_MDM_Labo2\n",
    "BASE_DIR = '../'\n",
    "\n",
    "#Datos de entrenamiento \n",
    "PATH_TO_TRAIN = os.path.join(BASE_DIR, \"input/petfinder-adoption-prediction/train/train.csv\")\n",
    "\n",
    "#Salida de modelos entrenados\n",
    "PATH_TO_MODELS = os.path.join(BASE_DIR, \"work/models\")\n",
    "\n",
    "#Artefactos a subir a optuna\n",
    "PATH_TO_TEMP_FILES = os.path.join(BASE_DIR, \"work/optuna_temp_artifacts\")\n",
    "\n",
    "#Artefactos que optuna gestiona\n",
    "PATH_TO_OPTUNA_ARTIFACTS = os.path.join(BASE_DIR, \"work/optuna_artifacts\")\n",
    "\n",
    "\n",
    "SEED = 42 #Semilla de procesos aleatorios (para poder replicar exactamente al volver a correr un modelo)\n",
    "TEST_SIZE = 0.2 #Facción para train/test= split"
   ]
  },
  {
   "cell_type": "code",
   "execution_count": 3,
   "metadata": {},
   "outputs": [],
   "source": [
    "# Datos Tabulares\n",
    "dataset = pd.read_csv(PATH_TO_TRAIN)"
   ]
  },
  {
   "cell_type": "code",
   "execution_count": 4,
   "metadata": {},
   "outputs": [
    {
     "data": {
      "text/plain": [
       "Index(['Type', 'Name', 'Age', 'Breed1', 'Breed2', 'Gender', 'Color1', 'Color2',\n",
       "       'Color3', 'MaturitySize', 'FurLength', 'Vaccinated', 'Dewormed',\n",
       "       'Sterilized', 'Health', 'Quantity', 'Fee', 'State', 'RescuerID',\n",
       "       'VideoAmt', 'Description', 'PetID', 'PhotoAmt', 'AdoptionSpeed'],\n",
       "      dtype='object')"
      ]
     },
     "execution_count": 4,
     "metadata": {},
     "output_type": "execute_result"
    }
   ],
   "source": [
    "#Columnas del dataset\n",
    "dataset.columns"
   ]
  },
  {
   "cell_type": "code",
   "execution_count": 5,
   "metadata": {},
   "outputs": [],
   "source": [
    "#Separo un 20% para test estratificado opr target\n",
    "train, test = train_test_split(dataset,\n",
    "                               test_size = TEST_SIZE,\n",
    "                               random_state = SEED,\n",
    "                               stratify = dataset.AdoptionSpeed)"
   ]
  },
  {
   "cell_type": "code",
   "execution_count": 6,
   "metadata": {},
   "outputs": [],
   "source": [
    "#Armo listas con features de texto y numericas\n",
    "char_feats = [f for f in dataset.columns if dataset[f].dtype=='O']\n",
    "numeric_feats = [f for f in dataset.columns if dataset[f].dtype!='O']"
   ]
  },
  {
   "cell_type": "code",
   "execution_count": 7,
   "metadata": {},
   "outputs": [
    {
     "data": {
      "text/plain": [
       "['Type',\n",
       " 'Age',\n",
       " 'Breed1',\n",
       " 'Breed2',\n",
       " 'Gender',\n",
       " 'Color1',\n",
       " 'Color2',\n",
       " 'Color3',\n",
       " 'MaturitySize',\n",
       " 'FurLength',\n",
       " 'Vaccinated',\n",
       " 'Dewormed',\n",
       " 'Sterilized',\n",
       " 'Health',\n",
       " 'Quantity',\n",
       " 'Fee',\n",
       " 'State',\n",
       " 'VideoAmt',\n",
       " 'PhotoAmt',\n",
       " 'AdoptionSpeed']"
      ]
     },
     "execution_count": 7,
     "metadata": {},
     "output_type": "execute_result"
    }
   ],
   "source": [
    "#Lista de features numericas\n",
    "numeric_feats"
   ]
  },
  {
   "cell_type": "code",
   "execution_count": 8,
   "metadata": {},
   "outputs": [],
   "source": [
    "\n",
    "#Defino features a usar en un primer modelo de prueba\n",
    "features = ['Type',\n",
    " 'Age',\n",
    " 'Breed1',\n",
    " 'Breed2',\n",
    " 'Gender',\n",
    " 'Color1',\n",
    " 'Color2',\n",
    " 'Color3',\n",
    " 'MaturitySize',\n",
    " 'FurLength',\n",
    " 'Vaccinated',\n",
    " 'Dewormed',\n",
    " 'Sterilized',\n",
    " 'Health',\n",
    " 'Quantity',\n",
    " 'Fee',\n",
    " 'State',\n",
    " 'VideoAmt',\n",
    " 'PhotoAmt']\n",
    "\n",
    "label = 'AdoptionSpeed'"
   ]
  },
  {
   "cell_type": "code",
   "execution_count": 9,
   "metadata": {},
   "outputs": [],
   "source": [
    "#Genero dataframes de train y test con sus respectivos targets\n",
    "X_train = train[features]\n",
    "y_train = train[label]\n",
    "\n",
    "X_test = test[features]\n",
    "y_test = test[label]"
   ]
  },
  {
   "cell_type": "code",
   "execution_count": 10,
   "metadata": {},
   "outputs": [
    {
     "name": "stdout",
     "output_type": "stream",
     "text": [
      "[LightGBM] [Info] Auto-choosing row-wise multi-threading, the overhead of testing was 0.000884 seconds.\n",
      "You can set `force_row_wise=true` to remove the overhead.\n",
      "And if memory is not enough, you can set `force_col_wise=true`.\n",
      "[LightGBM] [Info] Total Bins 438\n",
      "[LightGBM] [Info] Number of data points in the train set: 11994, number of used features: 19\n",
      "[LightGBM] [Info] Start training from score -3.599148\n",
      "[LightGBM] [Info] Start training from score -1.579379\n",
      "[LightGBM] [Info] Start training from score -1.311924\n",
      "[LightGBM] [Info] Start training from score -1.526206\n",
      "[LightGBM] [Info] Start training from score -1.273359\n"
     ]
    }
   ],
   "source": [
    "#Entreno un modelo inicial sin modificar hiperparametros. Solamente especifico el numero de clases y el tipo de modelo como clasificacoión\n",
    "lgb_params = params = {\n",
    "                        'objective': 'multiclass',\n",
    "                        'num_class': len(y_train.unique())\n",
    "                        }\n",
    "\n",
    "\n",
    "#genero el objeto Dataset que debo pasarle a lightgbm para que entrene\n",
    "lgb_train_dataset = lgb.Dataset(data=X_train,\n",
    "                                label=y_train)\n",
    "\n",
    "#entreno el modelo con los parametros por defecto\n",
    "lgb_model = lgb.train(lgb_params,\n",
    "                      lgb_train_dataset)"
   ]
  },
  {
   "cell_type": "code",
   "execution_count": 11,
   "metadata": {},
   "outputs": [
    {
     "data": {
      "text/plain": [
       "array([3, 4, 4, ..., 1, 2, 4], shape=(2999,))"
      ]
     },
     "execution_count": 11,
     "metadata": {},
     "output_type": "execute_result"
    }
   ],
   "source": [
    "lgb_model.predict(X_test).argmax(axis=1)"
   ]
  },
  {
   "cell_type": "code",
   "execution_count": 12,
   "metadata": {},
   "outputs": [
    {
     "data": {
      "text/plain": [
       "np.float64(0.31327315052086113)"
      ]
     },
     "execution_count": 12,
     "metadata": {},
     "output_type": "execute_result"
    }
   ],
   "source": [
    "#Obtengo las predicciones sobre el set de test. El modelo me da una lista de probabilidades para cada clase y tomo la clase con mayor probabilidad con la funcion argmax\n",
    "y_pred = lgb_model.predict(X_test).argmax(axis=1)\n",
    "\n",
    "#Calculo el Kappa\n",
    "cohen_kappa_score(y_test,y_pred, weights = 'quadratic')"
   ]
  },
  {
   "cell_type": "code",
   "execution_count": 13,
   "metadata": {},
   "outputs": [
    {
     "data": {
      "application/vnd.plotly.v1+json": {
       "config": {
        "plotlyServerURL": "https://plot.ly"
       },
       "data": [
        {
         "type": "heatmap",
         "x": {
          "bdata": "AAECAwQ=",
          "dtype": "i1"
         },
         "y": {
          "bdata": "AAECAwQ=",
          "dtype": "i1"
         },
         "z": {
          "bdata": "ZHA+BudjGECD8zE4H4NDQNWuRO1K1DpA9DE4H4PzJUATtStRuxIxQA4wbu9DttQ/u2b0lX+OQUDb+5AtxQpCQJPWqcezax5AbQxNd7DfNEAAAAAAAAAAAKIA0oZRaThA1nJ6UqR2QkDm9KRI7cwmQECf5i/vQjtAAAAAAAAAAACBeqZy3fExQGofJAPqGUFAB9QzleuOMkCmct3xYks9QJ/neZ7ned4/VVVVVVVVJ0AlSZIkSRI1QMQwDMMwDB1AMQzDMAzDTUA=",
          "dtype": "f8",
          "shape": "5, 5"
         }
        }
       ],
       "layout": {
        "annotations": [
         {
          "font": {
           "color": "white"
          },
          "showarrow": false,
          "text": "6.1 - 5",
          "x": 0,
          "xref": "x",
          "y": 0,
          "yref": "y"
         },
         {
          "font": {
           "color": "white"
          },
          "showarrow": false,
          "text": "39.0 - 32",
          "x": 1,
          "xref": "x",
          "y": 0,
          "yref": "y"
         },
         {
          "font": {
           "color": "white"
          },
          "showarrow": false,
          "text": "26.8 - 22",
          "x": 2,
          "xref": "x",
          "y": 0,
          "yref": "y"
         },
         {
          "font": {
           "color": "white"
          },
          "showarrow": false,
          "text": "11.0 - 9",
          "x": 3,
          "xref": "x",
          "y": 0,
          "yref": "y"
         },
         {
          "font": {
           "color": "white"
          },
          "showarrow": false,
          "text": "17.1 - 14",
          "x": 4,
          "xref": "x",
          "y": 0,
          "yref": "y"
         },
         {
          "font": {
           "color": "white"
          },
          "showarrow": false,
          "text": "0.3 - 2",
          "x": 0,
          "xref": "x",
          "y": 1,
          "yref": "y"
         },
         {
          "font": {
           "color": "white"
          },
          "showarrow": false,
          "text": "35.1 - 217",
          "x": 1,
          "xref": "x",
          "y": 1,
          "yref": "y"
         },
         {
          "font": {
           "color": "white"
          },
          "showarrow": false,
          "text": "36.1 - 223",
          "x": 2,
          "xref": "x",
          "y": 1,
          "yref": "y"
         },
         {
          "font": {
           "color": "white"
          },
          "showarrow": false,
          "text": "7.6 - 47",
          "x": 3,
          "xref": "x",
          "y": 1,
          "yref": "y"
         },
         {
          "font": {
           "color": "white"
          },
          "showarrow": false,
          "text": "20.9 - 129",
          "x": 4,
          "xref": "x",
          "y": 1,
          "yref": "y"
         },
         {
          "font": {
           "color": "white"
          },
          "showarrow": false,
          "text": "0.0 - 0",
          "x": 0,
          "xref": "x",
          "y": 2,
          "yref": "y"
         },
         {
          "font": {
           "color": "white"
          },
          "showarrow": false,
          "text": "24.4 - 197",
          "x": 1,
          "xref": "x",
          "y": 2,
          "yref": "y"
         },
         {
          "font": {
           "color": "white"
          },
          "showarrow": false,
          "text": "36.9 - 298",
          "x": 2,
          "xref": "x",
          "y": 2,
          "yref": "y"
         },
         {
          "font": {
           "color": "white"
          },
          "showarrow": false,
          "text": "11.4 - 92",
          "x": 3,
          "xref": "x",
          "y": 2,
          "yref": "y"
         },
         {
          "font": {
           "color": "white"
          },
          "showarrow": false,
          "text": "27.3 - 220",
          "x": 4,
          "xref": "x",
          "y": 2,
          "yref": "y"
         },
         {
          "font": {
           "color": "white"
          },
          "showarrow": false,
          "text": "0.0 - 0",
          "x": 0,
          "xref": "x",
          "y": 3,
          "yref": "y"
         },
         {
          "font": {
           "color": "white"
          },
          "showarrow": false,
          "text": "17.9 - 117",
          "x": 1,
          "xref": "x",
          "y": 3,
          "yref": "y"
         },
         {
          "font": {
           "color": "white"
          },
          "showarrow": false,
          "text": "34.2 - 223",
          "x": 2,
          "xref": "x",
          "y": 3,
          "yref": "y"
         },
         {
          "font": {
           "color": "white"
          },
          "showarrow": false,
          "text": "18.6 - 121",
          "x": 3,
          "xref": "x",
          "y": 3,
          "yref": "y"
         },
         {
          "font": {
           "color": "white"
          },
          "showarrow": false,
          "text": "29.3 - 191",
          "x": 4,
          "xref": "x",
          "y": 3,
          "yref": "y"
         },
         {
          "font": {
           "color": "white"
          },
          "showarrow": false,
          "text": "0.5 - 4",
          "x": 0,
          "xref": "x",
          "y": 4,
          "yref": "y"
         },
         {
          "font": {
           "color": "white"
          },
          "showarrow": false,
          "text": "11.7 - 98",
          "x": 1,
          "xref": "x",
          "y": 4,
          "yref": "y"
         },
         {
          "font": {
           "color": "white"
          },
          "showarrow": false,
          "text": "21.1 - 177",
          "x": 2,
          "xref": "x",
          "y": 4,
          "yref": "y"
         },
         {
          "font": {
           "color": "white"
          },
          "showarrow": false,
          "text": "7.3 - 61",
          "x": 3,
          "xref": "x",
          "y": 4,
          "yref": "y"
         },
         {
          "font": {
           "color": "white"
          },
          "showarrow": false,
          "text": "59.5 - 500",
          "x": 4,
          "xref": "x",
          "y": 4,
          "yref": "y"
         }
        ],
        "height": 800,
        "template": {
         "data": {
          "bar": [
           {
            "error_x": {
             "color": "#2a3f5f"
            },
            "error_y": {
             "color": "#2a3f5f"
            },
            "marker": {
             "line": {
              "color": "#E5ECF6",
              "width": 0.5
             },
             "pattern": {
              "fillmode": "overlay",
              "size": 10,
              "solidity": 0.2
             }
            },
            "type": "bar"
           }
          ],
          "barpolar": [
           {
            "marker": {
             "line": {
              "color": "#E5ECF6",
              "width": 0.5
             },
             "pattern": {
              "fillmode": "overlay",
              "size": 10,
              "solidity": 0.2
             }
            },
            "type": "barpolar"
           }
          ],
          "carpet": [
           {
            "aaxis": {
             "endlinecolor": "#2a3f5f",
             "gridcolor": "white",
             "linecolor": "white",
             "minorgridcolor": "white",
             "startlinecolor": "#2a3f5f"
            },
            "baxis": {
             "endlinecolor": "#2a3f5f",
             "gridcolor": "white",
             "linecolor": "white",
             "minorgridcolor": "white",
             "startlinecolor": "#2a3f5f"
            },
            "type": "carpet"
           }
          ],
          "choropleth": [
           {
            "colorbar": {
             "outlinewidth": 0,
             "ticks": ""
            },
            "type": "choropleth"
           }
          ],
          "contour": [
           {
            "colorbar": {
             "outlinewidth": 0,
             "ticks": ""
            },
            "colorscale": [
             [
              0,
              "#0d0887"
             ],
             [
              0.1111111111111111,
              "#46039f"
             ],
             [
              0.2222222222222222,
              "#7201a8"
             ],
             [
              0.3333333333333333,
              "#9c179e"
             ],
             [
              0.4444444444444444,
              "#bd3786"
             ],
             [
              0.5555555555555556,
              "#d8576b"
             ],
             [
              0.6666666666666666,
              "#ed7953"
             ],
             [
              0.7777777777777778,
              "#fb9f3a"
             ],
             [
              0.8888888888888888,
              "#fdca26"
             ],
             [
              1,
              "#f0f921"
             ]
            ],
            "type": "contour"
           }
          ],
          "contourcarpet": [
           {
            "colorbar": {
             "outlinewidth": 0,
             "ticks": ""
            },
            "type": "contourcarpet"
           }
          ],
          "heatmap": [
           {
            "colorbar": {
             "outlinewidth": 0,
             "ticks": ""
            },
            "colorscale": [
             [
              0,
              "#0d0887"
             ],
             [
              0.1111111111111111,
              "#46039f"
             ],
             [
              0.2222222222222222,
              "#7201a8"
             ],
             [
              0.3333333333333333,
              "#9c179e"
             ],
             [
              0.4444444444444444,
              "#bd3786"
             ],
             [
              0.5555555555555556,
              "#d8576b"
             ],
             [
              0.6666666666666666,
              "#ed7953"
             ],
             [
              0.7777777777777778,
              "#fb9f3a"
             ],
             [
              0.8888888888888888,
              "#fdca26"
             ],
             [
              1,
              "#f0f921"
             ]
            ],
            "type": "heatmap"
           }
          ],
          "histogram": [
           {
            "marker": {
             "pattern": {
              "fillmode": "overlay",
              "size": 10,
              "solidity": 0.2
             }
            },
            "type": "histogram"
           }
          ],
          "histogram2d": [
           {
            "colorbar": {
             "outlinewidth": 0,
             "ticks": ""
            },
            "colorscale": [
             [
              0,
              "#0d0887"
             ],
             [
              0.1111111111111111,
              "#46039f"
             ],
             [
              0.2222222222222222,
              "#7201a8"
             ],
             [
              0.3333333333333333,
              "#9c179e"
             ],
             [
              0.4444444444444444,
              "#bd3786"
             ],
             [
              0.5555555555555556,
              "#d8576b"
             ],
             [
              0.6666666666666666,
              "#ed7953"
             ],
             [
              0.7777777777777778,
              "#fb9f3a"
             ],
             [
              0.8888888888888888,
              "#fdca26"
             ],
             [
              1,
              "#f0f921"
             ]
            ],
            "type": "histogram2d"
           }
          ],
          "histogram2dcontour": [
           {
            "colorbar": {
             "outlinewidth": 0,
             "ticks": ""
            },
            "colorscale": [
             [
              0,
              "#0d0887"
             ],
             [
              0.1111111111111111,
              "#46039f"
             ],
             [
              0.2222222222222222,
              "#7201a8"
             ],
             [
              0.3333333333333333,
              "#9c179e"
             ],
             [
              0.4444444444444444,
              "#bd3786"
             ],
             [
              0.5555555555555556,
              "#d8576b"
             ],
             [
              0.6666666666666666,
              "#ed7953"
             ],
             [
              0.7777777777777778,
              "#fb9f3a"
             ],
             [
              0.8888888888888888,
              "#fdca26"
             ],
             [
              1,
              "#f0f921"
             ]
            ],
            "type": "histogram2dcontour"
           }
          ],
          "mesh3d": [
           {
            "colorbar": {
             "outlinewidth": 0,
             "ticks": ""
            },
            "type": "mesh3d"
           }
          ],
          "parcoords": [
           {
            "line": {
             "colorbar": {
              "outlinewidth": 0,
              "ticks": ""
             }
            },
            "type": "parcoords"
           }
          ],
          "pie": [
           {
            "automargin": true,
            "type": "pie"
           }
          ],
          "scatter": [
           {
            "fillpattern": {
             "fillmode": "overlay",
             "size": 10,
             "solidity": 0.2
            },
            "type": "scatter"
           }
          ],
          "scatter3d": [
           {
            "line": {
             "colorbar": {
              "outlinewidth": 0,
              "ticks": ""
             }
            },
            "marker": {
             "colorbar": {
              "outlinewidth": 0,
              "ticks": ""
             }
            },
            "type": "scatter3d"
           }
          ],
          "scattercarpet": [
           {
            "marker": {
             "colorbar": {
              "outlinewidth": 0,
              "ticks": ""
             }
            },
            "type": "scattercarpet"
           }
          ],
          "scattergeo": [
           {
            "marker": {
             "colorbar": {
              "outlinewidth": 0,
              "ticks": ""
             }
            },
            "type": "scattergeo"
           }
          ],
          "scattergl": [
           {
            "marker": {
             "colorbar": {
              "outlinewidth": 0,
              "ticks": ""
             }
            },
            "type": "scattergl"
           }
          ],
          "scattermap": [
           {
            "marker": {
             "colorbar": {
              "outlinewidth": 0,
              "ticks": ""
             }
            },
            "type": "scattermap"
           }
          ],
          "scattermapbox": [
           {
            "marker": {
             "colorbar": {
              "outlinewidth": 0,
              "ticks": ""
             }
            },
            "type": "scattermapbox"
           }
          ],
          "scatterpolar": [
           {
            "marker": {
             "colorbar": {
              "outlinewidth": 0,
              "ticks": ""
             }
            },
            "type": "scatterpolar"
           }
          ],
          "scatterpolargl": [
           {
            "marker": {
             "colorbar": {
              "outlinewidth": 0,
              "ticks": ""
             }
            },
            "type": "scatterpolargl"
           }
          ],
          "scatterternary": [
           {
            "marker": {
             "colorbar": {
              "outlinewidth": 0,
              "ticks": ""
             }
            },
            "type": "scatterternary"
           }
          ],
          "surface": [
           {
            "colorbar": {
             "outlinewidth": 0,
             "ticks": ""
            },
            "colorscale": [
             [
              0,
              "#0d0887"
             ],
             [
              0.1111111111111111,
              "#46039f"
             ],
             [
              0.2222222222222222,
              "#7201a8"
             ],
             [
              0.3333333333333333,
              "#9c179e"
             ],
             [
              0.4444444444444444,
              "#bd3786"
             ],
             [
              0.5555555555555556,
              "#d8576b"
             ],
             [
              0.6666666666666666,
              "#ed7953"
             ],
             [
              0.7777777777777778,
              "#fb9f3a"
             ],
             [
              0.8888888888888888,
              "#fdca26"
             ],
             [
              1,
              "#f0f921"
             ]
            ],
            "type": "surface"
           }
          ],
          "table": [
           {
            "cells": {
             "fill": {
              "color": "#EBF0F8"
             },
             "line": {
              "color": "white"
             }
            },
            "header": {
             "fill": {
              "color": "#C8D4E3"
             },
             "line": {
              "color": "white"
             }
            },
            "type": "table"
           }
          ]
         },
         "layout": {
          "annotationdefaults": {
           "arrowcolor": "#2a3f5f",
           "arrowhead": 0,
           "arrowwidth": 1
          },
          "autotypenumbers": "strict",
          "coloraxis": {
           "colorbar": {
            "outlinewidth": 0,
            "ticks": ""
           }
          },
          "colorscale": {
           "diverging": [
            [
             0,
             "#8e0152"
            ],
            [
             0.1,
             "#c51b7d"
            ],
            [
             0.2,
             "#de77ae"
            ],
            [
             0.3,
             "#f1b6da"
            ],
            [
             0.4,
             "#fde0ef"
            ],
            [
             0.5,
             "#f7f7f7"
            ],
            [
             0.6,
             "#e6f5d0"
            ],
            [
             0.7,
             "#b8e186"
            ],
            [
             0.8,
             "#7fbc41"
            ],
            [
             0.9,
             "#4d9221"
            ],
            [
             1,
             "#276419"
            ]
           ],
           "sequential": [
            [
             0,
             "#0d0887"
            ],
            [
             0.1111111111111111,
             "#46039f"
            ],
            [
             0.2222222222222222,
             "#7201a8"
            ],
            [
             0.3333333333333333,
             "#9c179e"
            ],
            [
             0.4444444444444444,
             "#bd3786"
            ],
            [
             0.5555555555555556,
             "#d8576b"
            ],
            [
             0.6666666666666666,
             "#ed7953"
            ],
            [
             0.7777777777777778,
             "#fb9f3a"
            ],
            [
             0.8888888888888888,
             "#fdca26"
            ],
            [
             1,
             "#f0f921"
            ]
           ],
           "sequentialminus": [
            [
             0,
             "#0d0887"
            ],
            [
             0.1111111111111111,
             "#46039f"
            ],
            [
             0.2222222222222222,
             "#7201a8"
            ],
            [
             0.3333333333333333,
             "#9c179e"
            ],
            [
             0.4444444444444444,
             "#bd3786"
            ],
            [
             0.5555555555555556,
             "#d8576b"
            ],
            [
             0.6666666666666666,
             "#ed7953"
            ],
            [
             0.7777777777777778,
             "#fb9f3a"
            ],
            [
             0.8888888888888888,
             "#fdca26"
            ],
            [
             1,
             "#f0f921"
            ]
           ]
          },
          "colorway": [
           "#636efa",
           "#EF553B",
           "#00cc96",
           "#ab63fa",
           "#FFA15A",
           "#19d3f3",
           "#FF6692",
           "#B6E880",
           "#FF97FF",
           "#FECB52"
          ],
          "font": {
           "color": "#2a3f5f"
          },
          "geo": {
           "bgcolor": "white",
           "lakecolor": "white",
           "landcolor": "#E5ECF6",
           "showlakes": true,
           "showland": true,
           "subunitcolor": "white"
          },
          "hoverlabel": {
           "align": "left"
          },
          "hovermode": "closest",
          "mapbox": {
           "style": "light"
          },
          "paper_bgcolor": "white",
          "plot_bgcolor": "#E5ECF6",
          "polar": {
           "angularaxis": {
            "gridcolor": "white",
            "linecolor": "white",
            "ticks": ""
           },
           "bgcolor": "#E5ECF6",
           "radialaxis": {
            "gridcolor": "white",
            "linecolor": "white",
            "ticks": ""
           }
          },
          "scene": {
           "xaxis": {
            "backgroundcolor": "#E5ECF6",
            "gridcolor": "white",
            "gridwidth": 2,
            "linecolor": "white",
            "showbackground": true,
            "ticks": "",
            "zerolinecolor": "white"
           },
           "yaxis": {
            "backgroundcolor": "#E5ECF6",
            "gridcolor": "white",
            "gridwidth": 2,
            "linecolor": "white",
            "showbackground": true,
            "ticks": "",
            "zerolinecolor": "white"
           },
           "zaxis": {
            "backgroundcolor": "#E5ECF6",
            "gridcolor": "white",
            "gridwidth": 2,
            "linecolor": "white",
            "showbackground": true,
            "ticks": "",
            "zerolinecolor": "white"
           }
          },
          "shapedefaults": {
           "line": {
            "color": "#2a3f5f"
           }
          },
          "ternary": {
           "aaxis": {
            "gridcolor": "white",
            "linecolor": "white",
            "ticks": ""
           },
           "baxis": {
            "gridcolor": "white",
            "linecolor": "white",
            "ticks": ""
           },
           "bgcolor": "#E5ECF6",
           "caxis": {
            "gridcolor": "white",
            "linecolor": "white",
            "ticks": ""
           }
          },
          "title": {
           "x": 0.05
          },
          "xaxis": {
           "automargin": true,
           "gridcolor": "white",
           "linecolor": "white",
           "ticks": "",
           "title": {
            "standoff": 15
           },
           "zerolinecolor": "white",
           "zerolinewidth": 2
          },
          "yaxis": {
           "automargin": true,
           "gridcolor": "white",
           "linecolor": "white",
           "ticks": "",
           "title": {
            "standoff": 15
           },
           "zerolinecolor": "white",
           "zerolinewidth": 2
          }
         }
        },
        "title": {
         "text": "Conf Matrix"
        },
        "width": 800,
        "xaxis": {
         "title": {
          "text": "Predicted value"
         }
        },
        "yaxis": {
         "title": {
          "text": "Real value"
         }
        }
       }
      }
     },
     "metadata": {},
     "output_type": "display_data"
    }
   ],
   "source": [
    "#Muestro la matriz de confusión\n",
    "display(plot_confusion_matrix(y_test,y_pred))"
   ]
  },
  {
   "cell_type": "code",
   "execution_count": 14,
   "metadata": {},
   "outputs": [
    {
     "data": {
      "text/plain": [
       "np.float64(1.0)"
      ]
     },
     "execution_count": 14,
     "metadata": {},
     "output_type": "execute_result"
    }
   ],
   "source": [
    "#Vamos a ponewr en perspectiva el score de Kappa\n",
    "\n",
    "\n",
    "#Cual es el score perfecto? Evaluo la clase real contra si misma. Es decir, el caso en que el modelo establece todas las clases en su valor real\n",
    "cohen_kappa_score(y_test,y_test, weights = 'quadratic')"
   ]
  },
  {
   "cell_type": "code",
   "execution_count": 15,
   "metadata": {},
   "outputs": [
    {
     "data": {
      "application/vnd.plotly.v1+json": {
       "config": {
        "plotlyServerURL": "https://plot.ly"
       },
       "data": [
        {
         "type": "heatmap",
         "x": {
          "bdata": "AAECAwQ=",
          "dtype": "i1"
         },
         "y": {
          "bdata": "AAECAwQ=",
          "dtype": "i1"
         },
         "z": {
          "bdata": "AAAAAAAAWUAAAAAAAAAAAAAAAAAAAAAAAAAAAAAAAAAAAAAAAAAAAAAAAAAAAAAAAAAAAAAAWUAAAAAAAAAAAAAAAAAAAAAAAAAAAAAAAAAAAAAAAAAAAAAAAAAAAAAAAAAAAAAAWUAAAAAAAAAAAAAAAAAAAAAAAAAAAAAAAAAAAAAAAAAAAAAAAAAAAAAAAAAAAAAAWUAAAAAAAAAAAAAAAAAAAAAAAAAAAAAAAAAAAAAAAAAAAAAAAAAAAAAAAAAAAAAAWUA=",
          "dtype": "f8",
          "shape": "5, 5"
         }
        }
       ],
       "layout": {
        "annotations": [
         {
          "font": {
           "color": "white"
          },
          "showarrow": false,
          "text": "100.0 - 82",
          "x": 0,
          "xref": "x",
          "y": 0,
          "yref": "y"
         },
         {
          "font": {
           "color": "white"
          },
          "showarrow": false,
          "text": "0.0 - 0",
          "x": 1,
          "xref": "x",
          "y": 0,
          "yref": "y"
         },
         {
          "font": {
           "color": "white"
          },
          "showarrow": false,
          "text": "0.0 - 0",
          "x": 2,
          "xref": "x",
          "y": 0,
          "yref": "y"
         },
         {
          "font": {
           "color": "white"
          },
          "showarrow": false,
          "text": "0.0 - 0",
          "x": 3,
          "xref": "x",
          "y": 0,
          "yref": "y"
         },
         {
          "font": {
           "color": "white"
          },
          "showarrow": false,
          "text": "0.0 - 0",
          "x": 4,
          "xref": "x",
          "y": 0,
          "yref": "y"
         },
         {
          "font": {
           "color": "white"
          },
          "showarrow": false,
          "text": "0.0 - 0",
          "x": 0,
          "xref": "x",
          "y": 1,
          "yref": "y"
         },
         {
          "font": {
           "color": "white"
          },
          "showarrow": false,
          "text": "100.0 - 618",
          "x": 1,
          "xref": "x",
          "y": 1,
          "yref": "y"
         },
         {
          "font": {
           "color": "white"
          },
          "showarrow": false,
          "text": "0.0 - 0",
          "x": 2,
          "xref": "x",
          "y": 1,
          "yref": "y"
         },
         {
          "font": {
           "color": "white"
          },
          "showarrow": false,
          "text": "0.0 - 0",
          "x": 3,
          "xref": "x",
          "y": 1,
          "yref": "y"
         },
         {
          "font": {
           "color": "white"
          },
          "showarrow": false,
          "text": "0.0 - 0",
          "x": 4,
          "xref": "x",
          "y": 1,
          "yref": "y"
         },
         {
          "font": {
           "color": "white"
          },
          "showarrow": false,
          "text": "0.0 - 0",
          "x": 0,
          "xref": "x",
          "y": 2,
          "yref": "y"
         },
         {
          "font": {
           "color": "white"
          },
          "showarrow": false,
          "text": "0.0 - 0",
          "x": 1,
          "xref": "x",
          "y": 2,
          "yref": "y"
         },
         {
          "font": {
           "color": "white"
          },
          "showarrow": false,
          "text": "100.0 - 807",
          "x": 2,
          "xref": "x",
          "y": 2,
          "yref": "y"
         },
         {
          "font": {
           "color": "white"
          },
          "showarrow": false,
          "text": "0.0 - 0",
          "x": 3,
          "xref": "x",
          "y": 2,
          "yref": "y"
         },
         {
          "font": {
           "color": "white"
          },
          "showarrow": false,
          "text": "0.0 - 0",
          "x": 4,
          "xref": "x",
          "y": 2,
          "yref": "y"
         },
         {
          "font": {
           "color": "white"
          },
          "showarrow": false,
          "text": "0.0 - 0",
          "x": 0,
          "xref": "x",
          "y": 3,
          "yref": "y"
         },
         {
          "font": {
           "color": "white"
          },
          "showarrow": false,
          "text": "0.0 - 0",
          "x": 1,
          "xref": "x",
          "y": 3,
          "yref": "y"
         },
         {
          "font": {
           "color": "white"
          },
          "showarrow": false,
          "text": "0.0 - 0",
          "x": 2,
          "xref": "x",
          "y": 3,
          "yref": "y"
         },
         {
          "font": {
           "color": "white"
          },
          "showarrow": false,
          "text": "100.0 - 652",
          "x": 3,
          "xref": "x",
          "y": 3,
          "yref": "y"
         },
         {
          "font": {
           "color": "white"
          },
          "showarrow": false,
          "text": "0.0 - 0",
          "x": 4,
          "xref": "x",
          "y": 3,
          "yref": "y"
         },
         {
          "font": {
           "color": "white"
          },
          "showarrow": false,
          "text": "0.0 - 0",
          "x": 0,
          "xref": "x",
          "y": 4,
          "yref": "y"
         },
         {
          "font": {
           "color": "white"
          },
          "showarrow": false,
          "text": "0.0 - 0",
          "x": 1,
          "xref": "x",
          "y": 4,
          "yref": "y"
         },
         {
          "font": {
           "color": "white"
          },
          "showarrow": false,
          "text": "0.0 - 0",
          "x": 2,
          "xref": "x",
          "y": 4,
          "yref": "y"
         },
         {
          "font": {
           "color": "white"
          },
          "showarrow": false,
          "text": "0.0 - 0",
          "x": 3,
          "xref": "x",
          "y": 4,
          "yref": "y"
         },
         {
          "font": {
           "color": "white"
          },
          "showarrow": false,
          "text": "100.0 - 840",
          "x": 4,
          "xref": "x",
          "y": 4,
          "yref": "y"
         }
        ],
        "height": 800,
        "template": {
         "data": {
          "bar": [
           {
            "error_x": {
             "color": "#2a3f5f"
            },
            "error_y": {
             "color": "#2a3f5f"
            },
            "marker": {
             "line": {
              "color": "#E5ECF6",
              "width": 0.5
             },
             "pattern": {
              "fillmode": "overlay",
              "size": 10,
              "solidity": 0.2
             }
            },
            "type": "bar"
           }
          ],
          "barpolar": [
           {
            "marker": {
             "line": {
              "color": "#E5ECF6",
              "width": 0.5
             },
             "pattern": {
              "fillmode": "overlay",
              "size": 10,
              "solidity": 0.2
             }
            },
            "type": "barpolar"
           }
          ],
          "carpet": [
           {
            "aaxis": {
             "endlinecolor": "#2a3f5f",
             "gridcolor": "white",
             "linecolor": "white",
             "minorgridcolor": "white",
             "startlinecolor": "#2a3f5f"
            },
            "baxis": {
             "endlinecolor": "#2a3f5f",
             "gridcolor": "white",
             "linecolor": "white",
             "minorgridcolor": "white",
             "startlinecolor": "#2a3f5f"
            },
            "type": "carpet"
           }
          ],
          "choropleth": [
           {
            "colorbar": {
             "outlinewidth": 0,
             "ticks": ""
            },
            "type": "choropleth"
           }
          ],
          "contour": [
           {
            "colorbar": {
             "outlinewidth": 0,
             "ticks": ""
            },
            "colorscale": [
             [
              0,
              "#0d0887"
             ],
             [
              0.1111111111111111,
              "#46039f"
             ],
             [
              0.2222222222222222,
              "#7201a8"
             ],
             [
              0.3333333333333333,
              "#9c179e"
             ],
             [
              0.4444444444444444,
              "#bd3786"
             ],
             [
              0.5555555555555556,
              "#d8576b"
             ],
             [
              0.6666666666666666,
              "#ed7953"
             ],
             [
              0.7777777777777778,
              "#fb9f3a"
             ],
             [
              0.8888888888888888,
              "#fdca26"
             ],
             [
              1,
              "#f0f921"
             ]
            ],
            "type": "contour"
           }
          ],
          "contourcarpet": [
           {
            "colorbar": {
             "outlinewidth": 0,
             "ticks": ""
            },
            "type": "contourcarpet"
           }
          ],
          "heatmap": [
           {
            "colorbar": {
             "outlinewidth": 0,
             "ticks": ""
            },
            "colorscale": [
             [
              0,
              "#0d0887"
             ],
             [
              0.1111111111111111,
              "#46039f"
             ],
             [
              0.2222222222222222,
              "#7201a8"
             ],
             [
              0.3333333333333333,
              "#9c179e"
             ],
             [
              0.4444444444444444,
              "#bd3786"
             ],
             [
              0.5555555555555556,
              "#d8576b"
             ],
             [
              0.6666666666666666,
              "#ed7953"
             ],
             [
              0.7777777777777778,
              "#fb9f3a"
             ],
             [
              0.8888888888888888,
              "#fdca26"
             ],
             [
              1,
              "#f0f921"
             ]
            ],
            "type": "heatmap"
           }
          ],
          "histogram": [
           {
            "marker": {
             "pattern": {
              "fillmode": "overlay",
              "size": 10,
              "solidity": 0.2
             }
            },
            "type": "histogram"
           }
          ],
          "histogram2d": [
           {
            "colorbar": {
             "outlinewidth": 0,
             "ticks": ""
            },
            "colorscale": [
             [
              0,
              "#0d0887"
             ],
             [
              0.1111111111111111,
              "#46039f"
             ],
             [
              0.2222222222222222,
              "#7201a8"
             ],
             [
              0.3333333333333333,
              "#9c179e"
             ],
             [
              0.4444444444444444,
              "#bd3786"
             ],
             [
              0.5555555555555556,
              "#d8576b"
             ],
             [
              0.6666666666666666,
              "#ed7953"
             ],
             [
              0.7777777777777778,
              "#fb9f3a"
             ],
             [
              0.8888888888888888,
              "#fdca26"
             ],
             [
              1,
              "#f0f921"
             ]
            ],
            "type": "histogram2d"
           }
          ],
          "histogram2dcontour": [
           {
            "colorbar": {
             "outlinewidth": 0,
             "ticks": ""
            },
            "colorscale": [
             [
              0,
              "#0d0887"
             ],
             [
              0.1111111111111111,
              "#46039f"
             ],
             [
              0.2222222222222222,
              "#7201a8"
             ],
             [
              0.3333333333333333,
              "#9c179e"
             ],
             [
              0.4444444444444444,
              "#bd3786"
             ],
             [
              0.5555555555555556,
              "#d8576b"
             ],
             [
              0.6666666666666666,
              "#ed7953"
             ],
             [
              0.7777777777777778,
              "#fb9f3a"
             ],
             [
              0.8888888888888888,
              "#fdca26"
             ],
             [
              1,
              "#f0f921"
             ]
            ],
            "type": "histogram2dcontour"
           }
          ],
          "mesh3d": [
           {
            "colorbar": {
             "outlinewidth": 0,
             "ticks": ""
            },
            "type": "mesh3d"
           }
          ],
          "parcoords": [
           {
            "line": {
             "colorbar": {
              "outlinewidth": 0,
              "ticks": ""
             }
            },
            "type": "parcoords"
           }
          ],
          "pie": [
           {
            "automargin": true,
            "type": "pie"
           }
          ],
          "scatter": [
           {
            "fillpattern": {
             "fillmode": "overlay",
             "size": 10,
             "solidity": 0.2
            },
            "type": "scatter"
           }
          ],
          "scatter3d": [
           {
            "line": {
             "colorbar": {
              "outlinewidth": 0,
              "ticks": ""
             }
            },
            "marker": {
             "colorbar": {
              "outlinewidth": 0,
              "ticks": ""
             }
            },
            "type": "scatter3d"
           }
          ],
          "scattercarpet": [
           {
            "marker": {
             "colorbar": {
              "outlinewidth": 0,
              "ticks": ""
             }
            },
            "type": "scattercarpet"
           }
          ],
          "scattergeo": [
           {
            "marker": {
             "colorbar": {
              "outlinewidth": 0,
              "ticks": ""
             }
            },
            "type": "scattergeo"
           }
          ],
          "scattergl": [
           {
            "marker": {
             "colorbar": {
              "outlinewidth": 0,
              "ticks": ""
             }
            },
            "type": "scattergl"
           }
          ],
          "scattermap": [
           {
            "marker": {
             "colorbar": {
              "outlinewidth": 0,
              "ticks": ""
             }
            },
            "type": "scattermap"
           }
          ],
          "scattermapbox": [
           {
            "marker": {
             "colorbar": {
              "outlinewidth": 0,
              "ticks": ""
             }
            },
            "type": "scattermapbox"
           }
          ],
          "scatterpolar": [
           {
            "marker": {
             "colorbar": {
              "outlinewidth": 0,
              "ticks": ""
             }
            },
            "type": "scatterpolar"
           }
          ],
          "scatterpolargl": [
           {
            "marker": {
             "colorbar": {
              "outlinewidth": 0,
              "ticks": ""
             }
            },
            "type": "scatterpolargl"
           }
          ],
          "scatterternary": [
           {
            "marker": {
             "colorbar": {
              "outlinewidth": 0,
              "ticks": ""
             }
            },
            "type": "scatterternary"
           }
          ],
          "surface": [
           {
            "colorbar": {
             "outlinewidth": 0,
             "ticks": ""
            },
            "colorscale": [
             [
              0,
              "#0d0887"
             ],
             [
              0.1111111111111111,
              "#46039f"
             ],
             [
              0.2222222222222222,
              "#7201a8"
             ],
             [
              0.3333333333333333,
              "#9c179e"
             ],
             [
              0.4444444444444444,
              "#bd3786"
             ],
             [
              0.5555555555555556,
              "#d8576b"
             ],
             [
              0.6666666666666666,
              "#ed7953"
             ],
             [
              0.7777777777777778,
              "#fb9f3a"
             ],
             [
              0.8888888888888888,
              "#fdca26"
             ],
             [
              1,
              "#f0f921"
             ]
            ],
            "type": "surface"
           }
          ],
          "table": [
           {
            "cells": {
             "fill": {
              "color": "#EBF0F8"
             },
             "line": {
              "color": "white"
             }
            },
            "header": {
             "fill": {
              "color": "#C8D4E3"
             },
             "line": {
              "color": "white"
             }
            },
            "type": "table"
           }
          ]
         },
         "layout": {
          "annotationdefaults": {
           "arrowcolor": "#2a3f5f",
           "arrowhead": 0,
           "arrowwidth": 1
          },
          "autotypenumbers": "strict",
          "coloraxis": {
           "colorbar": {
            "outlinewidth": 0,
            "ticks": ""
           }
          },
          "colorscale": {
           "diverging": [
            [
             0,
             "#8e0152"
            ],
            [
             0.1,
             "#c51b7d"
            ],
            [
             0.2,
             "#de77ae"
            ],
            [
             0.3,
             "#f1b6da"
            ],
            [
             0.4,
             "#fde0ef"
            ],
            [
             0.5,
             "#f7f7f7"
            ],
            [
             0.6,
             "#e6f5d0"
            ],
            [
             0.7,
             "#b8e186"
            ],
            [
             0.8,
             "#7fbc41"
            ],
            [
             0.9,
             "#4d9221"
            ],
            [
             1,
             "#276419"
            ]
           ],
           "sequential": [
            [
             0,
             "#0d0887"
            ],
            [
             0.1111111111111111,
             "#46039f"
            ],
            [
             0.2222222222222222,
             "#7201a8"
            ],
            [
             0.3333333333333333,
             "#9c179e"
            ],
            [
             0.4444444444444444,
             "#bd3786"
            ],
            [
             0.5555555555555556,
             "#d8576b"
            ],
            [
             0.6666666666666666,
             "#ed7953"
            ],
            [
             0.7777777777777778,
             "#fb9f3a"
            ],
            [
             0.8888888888888888,
             "#fdca26"
            ],
            [
             1,
             "#f0f921"
            ]
           ],
           "sequentialminus": [
            [
             0,
             "#0d0887"
            ],
            [
             0.1111111111111111,
             "#46039f"
            ],
            [
             0.2222222222222222,
             "#7201a8"
            ],
            [
             0.3333333333333333,
             "#9c179e"
            ],
            [
             0.4444444444444444,
             "#bd3786"
            ],
            [
             0.5555555555555556,
             "#d8576b"
            ],
            [
             0.6666666666666666,
             "#ed7953"
            ],
            [
             0.7777777777777778,
             "#fb9f3a"
            ],
            [
             0.8888888888888888,
             "#fdca26"
            ],
            [
             1,
             "#f0f921"
            ]
           ]
          },
          "colorway": [
           "#636efa",
           "#EF553B",
           "#00cc96",
           "#ab63fa",
           "#FFA15A",
           "#19d3f3",
           "#FF6692",
           "#B6E880",
           "#FF97FF",
           "#FECB52"
          ],
          "font": {
           "color": "#2a3f5f"
          },
          "geo": {
           "bgcolor": "white",
           "lakecolor": "white",
           "landcolor": "#E5ECF6",
           "showlakes": true,
           "showland": true,
           "subunitcolor": "white"
          },
          "hoverlabel": {
           "align": "left"
          },
          "hovermode": "closest",
          "mapbox": {
           "style": "light"
          },
          "paper_bgcolor": "white",
          "plot_bgcolor": "#E5ECF6",
          "polar": {
           "angularaxis": {
            "gridcolor": "white",
            "linecolor": "white",
            "ticks": ""
           },
           "bgcolor": "#E5ECF6",
           "radialaxis": {
            "gridcolor": "white",
            "linecolor": "white",
            "ticks": ""
           }
          },
          "scene": {
           "xaxis": {
            "backgroundcolor": "#E5ECF6",
            "gridcolor": "white",
            "gridwidth": 2,
            "linecolor": "white",
            "showbackground": true,
            "ticks": "",
            "zerolinecolor": "white"
           },
           "yaxis": {
            "backgroundcolor": "#E5ECF6",
            "gridcolor": "white",
            "gridwidth": 2,
            "linecolor": "white",
            "showbackground": true,
            "ticks": "",
            "zerolinecolor": "white"
           },
           "zaxis": {
            "backgroundcolor": "#E5ECF6",
            "gridcolor": "white",
            "gridwidth": 2,
            "linecolor": "white",
            "showbackground": true,
            "ticks": "",
            "zerolinecolor": "white"
           }
          },
          "shapedefaults": {
           "line": {
            "color": "#2a3f5f"
           }
          },
          "ternary": {
           "aaxis": {
            "gridcolor": "white",
            "linecolor": "white",
            "ticks": ""
           },
           "baxis": {
            "gridcolor": "white",
            "linecolor": "white",
            "ticks": ""
           },
           "bgcolor": "#E5ECF6",
           "caxis": {
            "gridcolor": "white",
            "linecolor": "white",
            "ticks": ""
           }
          },
          "title": {
           "x": 0.05
          },
          "xaxis": {
           "automargin": true,
           "gridcolor": "white",
           "linecolor": "white",
           "ticks": "",
           "title": {
            "standoff": 15
           },
           "zerolinecolor": "white",
           "zerolinewidth": 2
          },
          "yaxis": {
           "automargin": true,
           "gridcolor": "white",
           "linecolor": "white",
           "ticks": "",
           "title": {
            "standoff": 15
           },
           "zerolinecolor": "white",
           "zerolinewidth": 2
          }
         }
        },
        "title": {
         "text": "Conf Matrix"
        },
        "width": 800,
        "xaxis": {
         "title": {
          "text": "Predicted value"
         }
        },
        "yaxis": {
         "title": {
          "text": "Real value"
         }
        }
       }
      }
     },
     "metadata": {},
     "output_type": "display_data"
    }
   ],
   "source": [
    "#Como se veria la matriz de confusión\n",
    "display(plot_confusion_matrix(y_test,y_test))"
   ]
  },
  {
   "cell_type": "code",
   "execution_count": 16,
   "metadata": {},
   "outputs": [],
   "source": [
    "#Vamos a ver como se comporta kappa si hafgo una predicción al azar (respetando las proporciones de cada clase)\n",
    "y_shuffled = shuffle(y_test,\n",
    "                     random_state = 42)\n",
    "\n",
    "\n",
    "#Genero diccionarios para cambiar algunas predicicones reales por una prediccion cercana y_cerca y una lejana y_lejos a la real \n",
    "# ejemplo: la real se 0 voy a estimar 1 para la cercana y 4 para la lejana\n",
    "dict_map_cerca = {0:1,\n",
    "                  1:2,\n",
    "                  2:3,\n",
    "                  3:4,\n",
    "                  4:3}\n",
    "\n",
    "dict_map_lejos = {0:4,\n",
    "                  1:4,\n",
    "                  2:0,\n",
    "                  3:0,\n",
    "                  4:0}\n",
    "\n",
    "y_cerca = [dict_map_cerca[i] for i in y_test]\n",
    "\n",
    "y_lejos = [dict_map_lejos[i] for i in y_test]\n"
   ]
  },
  {
   "cell_type": "code",
   "execution_count": 17,
   "metadata": {},
   "outputs": [],
   "source": [
    "\n",
    "#Vamos a simular que la probabilidad de tener la prediccion real en casa muestra varia de 0 a 100. \n",
    "#Genero una numero aleatorio para cada muestra\n",
    "random_list =  np.random.rand(len(y_test))\n",
    "\n",
    "#inicializo un dataframe de resultados vacio\n",
    "kappa_progression = pd.DataFrame()\n",
    "\n",
    "#La variable i tiene un umbral para ir variando la cantidad de aciertos desde 0% a 100%\n",
    "for i in range(101):\n",
    "\n",
    "    #Genero la prediccion para i% de aciertos donde cuando no acierto me quedo con una prediccion al azar (podria ser la \"correcta\" pero solo por azar)\n",
    "    y_simulado = [y_test.iloc[sample] if random_list[sample]<i/100 else y_shuffled.iloc[sample] for sample in range(len(y_test))]\n",
    "\n",
    "    #Genero la prediccion para i% de aciertos donde cuando no acierto me quedo con una prediccion cercana o lejana a la correcta\n",
    "    y_simulado_cerca = [y_test.iloc[sample] if random_list[sample]<i/100 else y_cerca[sample] for sample in range(len(y_test))]\n",
    "    y_simulado_lejos = [y_test.iloc[sample] if random_list[sample]<i/100 else y_lejos[sample] for sample in range(len(y_test))]\n",
    "\n",
    "\n",
    "    #Grabo los resultados en un dataframe para cada i% de aciertos\n",
    "    kappa_progression = pd.concat([kappa_progression,\n",
    "                                   pd.DataFrame({'Conocidos':[i],\n",
    "                                                'kappa':cohen_kappa_score(y_test,\n",
    "                                                                        y_simulado,\n",
    "                                                                        weights = 'quadratic'),\n",
    "                                                'kappa_cerca':cohen_kappa_score(y_test,\n",
    "                                                                        y_simulado_cerca,\n",
    "                                                                        weights = 'quadratic'),\n",
    "                                                'kappa_lejos':cohen_kappa_score(y_test,\n",
    "                                                                        y_simulado_lejos,\n",
    "                                                                        weights = 'quadratic'),                                                                        \n",
    "                                                'accuracy':accuracy_score(y_test,\n",
    "                                                                        y_simulado),\n",
    "                                                'balanced_accuracy':balanced_accuracy_score(y_test,\n",
    "                                                                        y_simulado),\n",
    "                                                                        })],\n",
    "                ignore_index=True)"
   ]
  },
  {
   "cell_type": "code",
   "execution_count": 18,
   "metadata": {},
   "outputs": [
    {
     "data": {
      "application/vnd.plotly.v1+json": {
       "config": {
        "plotlyServerURL": "https://plot.ly"
       },
       "data": [
        {
         "hovertemplate": "variable=kappa<br>Conocidos=%{x}<br>value=%{y}<extra></extra>",
         "legendgroup": "kappa",
         "line": {
          "color": "#636efa",
          "dash": "solid"
         },
         "marker": {
          "symbol": "circle"
         },
         "mode": "lines",
         "name": "kappa",
         "orientation": "v",
         "showlegend": true,
         "type": "scatter",
         "x": {
          "bdata": "AAECAwQFBgcICQoLDA0ODxAREhMUFRYXGBkaGxwdHh8gISIjJCUmJygpKissLS4vMDEyMzQ1Njc4OTo7PD0+P0BBQkNERUZHSElKS0xNTk9QUVJTVFVWV1hZWltcXV5fYGFiY2Q=",
          "dtype": "i1"
         },
         "xaxis": "x",
         "y": {
          "bdata": "gM/hjQZLgb8AEQlJeaJ0P0DUZPPUqoQ/oLDsht14lz8AwUO9qTKgP6BZWYw9HKY/EDNCOQBnqz/ws3pDxCWvP6DpQeiJgrI/SIEYff/usz/4LM+O/iO2P1iY+VCxXLg/UMpTiZHouT+g9Juq1Rq8PygHfrWLNr8/SDFzr/juwD9MErvsKjLCPxwBojb/gMM/YPIfWJkVxT80Utw3Ur3GP0yeAKRJ5Mc/SB20VEVuyT8QhWhY5EHKP6hY62y5j8s/AOl9TuhMzT9IwzTEU93NP4R5dI0F5s4/hsfLMCZr0D/IA5dm70LRP4aC+Lo8dNI/Shw0jk5N0z+osxaOVQnUP7ZtOEGgvtQ/PDM5NwqJ1T/ytaQYIyTWPwx5pPE7mdY/KuZEzSRb1z+AE2qePRTYP2LhbITCtNg/NJYu/npc2T8Cf6iiq+nZP2gr6vReyNo/3E4xTd5x2z9qGQV1harbP/RV6KxTENw/cpdg+Oe53D/66rODuC7dP7AzaeAwEN4/hpJ3B+as3j+AHiQ5aQ/fP4CP/4tkWN8/ZsCzrjjo3z/fujvQXR7gP8R873YGpuA/86pMtw/44D+/eQsbBjDhP2oM+sjQjOE/lfCXF5Pr4T/yhnIQRD/iP3qyeEvBg+I/3rWKcv7t4j+EL0EwpxLjP4QvUP7E2OM/mXrVefsp5D+wArisAHzkPzy92Dgir+Q/Op6i9g4P5T8QBHx+1VDlP9DrgpTNneU/BIKGnavY5T9DjAzzHg7mP6+x/KdlV+Y/szsqsorA5j9aFjnD/AXnPwBtpRbeXec/lNS2LQ3L5z/ah6+z9hPoP6I1McguYug/EaXO/aKq6D/8vOt8r/ToP6+WYY4FZOk/Oe+MQx696T/ClAQiJhnqPx2kEZgbjuo/OY1bKGn76j+fXjbQ91PrP4Km0XRQwus/LndY5ysK7D/Qoc+tN3jsP2yBSe3p4Ow/+M85GwpK7T+efwwbwaztP+AUrPVM3O0/5uTIhSg77j9FkpUBsF7uP6329IWHn+4/bPKE8+n77j9tZb/xUFzvP3aIq9oukO8/Fu+QP8HT7z8AAAAAAADwPw==",
          "dtype": "f8"
         },
         "yaxis": "y"
        },
        {
         "hovertemplate": "variable=kappa_cerca<br>Conocidos=%{x}<br>value=%{y}<extra></extra>",
         "legendgroup": "kappa_cerca",
         "line": {
          "color": "#EF553B",
          "dash": "solid"
         },
         "marker": {
          "symbol": "circle"
         },
         "mode": "lines",
         "name": "kappa_cerca",
         "orientation": "v",
         "showlegend": true,
         "type": "scatter",
         "x": {
          "bdata": "AAECAwQFBgcICQoLDA0ODxAREhMUFRYXGBkaGxwdHh8gISIjJCUmJygpKissLS4vMDEyMzQ1Njc4OTo7PD0+P0BBQkNERUZHSElKS0xNTk9QUVJTVFVWV1hZWltcXV5fYGFiY2Q=",
          "dtype": "i1"
         },
         "xaxis": "x",
         "y": {
          "bdata": "6bAwyHLW4D+EsdQ9yw/hP8nTpWemLeE/5OtjpJhk4T9LRSfyBJbhPzpiui091eE/qu+mxDAE4j/Gl3UkszXiPygwSmNnX+I/CZo1vPGD4j8VqAQe47riP6YVV5+K5+I/0KTPudAB4z+sOZ91VC/jPxIiKGaqZOM/ZjrD8Cia4z/XadBCosDjP/nDdkDl7OM/DJrh19wi5D9qtxz7kknkPwgMuO77beQ/FpvO7Mib5D+YDzN4jMrkPzy5wHXO++Q/LpI/Vikz5T8HtylSeU3lP05SetyecuU/ekOJAIau5T/i2WTXP97lP+bBJ6wmHOY/larncSpY5j92VFgW7ojmP65nXQwEvOY/suXrBTjt5j/+LlJq2xXnPyhAmHECO+c/yuk4/JZg5z84bhVh64bnPyWU6gWItec/4kBaYzvb5z9pr17howroP4K7ztcvQ+g/Onl4hx1n6D+jGchtQoDoPzKM79Rvpeg/mG6cY8rU6D8Qtc0kr/boP14BSMJDKek/slIEzyJS6T/g55BMLmnpP5t7PvQqj+k/WryWZm6v6T/9y4HdhNDpP75Ek/CkEOo/lQMdzLU76j8XS4WnBF/qPxSjIJz4g+o/pbh5FpGr6j8kf1mLBNDqP5xVH5Dv6uo/rIwmvAwS6z8PC3ThbijrPwrxios9V+s/ooJzYh996z+89q4GtprrP3Sbj5Yyt+s/qJmr7tTY6z9481DcL/XrPynPiKPYG+w/GpteX8M57D8sGFxQ4k3sP+Rh369tbOw/rcxuQrOQ7D/mvYklDq7sP7CrwEIczOw/tmXTS3nt7D8/B/XURA3tPwXdDeEVLu0/xSZZmYhG7T/Ib/hgt2rtP3JRbcQok+0/XjE40rKw7T/4/zM6HNbtPwPOaRYwAO4/a72luvYe7j/8+K76RkTuP6rBa5fEae4/I3hTnz2F7j/0AaGMyKbuP9C2YDhLwu4/Mvt8oCTo7j/RH6YW3AbvPwwNB/EZIe8/PDZU9qA87z9AesTOrlbvP7TQ40rodO8/0rynjNuY7z8WAMKFwrnvPzqAoSmk0O8/i4ELMlLq7z8AAAAAAADwPw==",
          "dtype": "f8"
         },
         "yaxis": "y"
        },
        {
         "hovertemplate": "variable=kappa_lejos<br>Conocidos=%{x}<br>value=%{y}<extra></extra>",
         "legendgroup": "kappa_lejos",
         "line": {
          "color": "#00cc96",
          "dash": "solid"
         },
         "marker": {
          "symbol": "circle"
         },
         "mode": "lines",
         "name": "kappa_lejos",
         "orientation": "v",
         "showlegend": true,
         "type": "scatter",
         "x": {
          "bdata": "AAECAwQFBgcICQoLDA0ODxAREhMUFRYXGBkaGxwdHh8gISIjJCUmJygpKissLS4vMDEyMzQ1Njc4OTo7PD0+P0BBQkNERUZHSElKS0xNTk9QUVJTVFVWV1hZWltcXV5fYGFiY2Q=",
          "dtype": "i1"
         },
         "xaxis": "x",
         "y": {
          "bdata": "3IHPLNbn3L+AJxm2O2Lcv0CSbZsgHty/EAN5fe+l27/oNSJ9bU/bvwDpOKPdytq/vB8O7dFh2r841htlfhvav7R9zT0HrNm/IEnXneNo2b8UaGS/fuPYvxgic6EkjNi/ALJUqFJn2L/cmxbwiu/Xv6BD+Ca8Nte/wNQeWgHL1r/0kAF9sXzWv7CoCsn/Hda/0EneJNeg1b+QL5ReBCbVv3Ar7gMyuNS/jHTpW3xB1L+c/Fz3w63Tv3Bm4PV1ONO/tA7/hlJo0r+stthIBSXSv/zx5biIxtG/bDFLS6fk0L9gZ7bxBzTQv5jxF7Rzl86/wBK7gr7ZzL9I3CgPAcrLvwB8f9Z+qMq/+AkfRRJryb/4DVgy0TzIv0D6KzDtOse/KM8dmnS3xb+Y70HzlG3Ev5i9R4P7NcO/cEr3NI/hwb94naB3F3XAv8Bp6HKJYby/YBLD1GILur/QVe9L/Va5vyCS1Lh2wba/gE4k8vnHs7+gwub1VDCxv4BOQ/tMS6q/IDrZ4iTDpL8gdBxT55Chv0BGm/MeGZe/AHSkFtyfh78AwEOOF0RIvyAYOHqB9pY/YMA7NZzfoT/w8J9QnRKnP5DMhuYUVq4/kIdQ3qi3sj8Q0nt98uK1PwiMGAub77g/sDhlL5wKvT9grn+brHS/P7RQSixWs8I/pP78dyQMxT9IiBoSFdHGPyTxrzcrc8g/GBcKPOZ3yj8od6yRrzPMP4gFcLt6C88/6kYDLItq0D9IrvdcyvPQP6Iv67eV8dE/rh1VuBGG0z+6JH8K5G3UP9wPMbjaetU/bCaZ/DD91j/G+5u+6RDYP8pbYw/mM9k/Vp38u2RM2j9aXToEz6DbP7qZ7ludO90//LQFeX673j/YOWcduEbgP7HwQ06US+E/pnrf3s0l4j8AJaAE6PjiP25/O9Y72OM/AsovTWKC5D8ybHy1wW3lP058dixVQuY/HvIsXhYz5z8HUTHvuBzoP35DucGH6eg/mJ1C35DA6T/iF3LPAXfqP01pMlgocus/ua00+0+D7D9ATdb7jpbtP17NerVvX+4/saduaRBL7z8AAAAAAADwPw==",
          "dtype": "f8"
         },
         "yaxis": "y"
        },
        {
         "hovertemplate": "variable=accuracy<br>Conocidos=%{x}<br>value=%{y}<extra></extra>",
         "legendgroup": "accuracy",
         "line": {
          "color": "#ab63fa",
          "dash": "solid"
         },
         "marker": {
          "symbol": "circle"
         },
         "mode": "lines",
         "name": "accuracy",
         "orientation": "v",
         "showlegend": true,
         "type": "scatter",
         "x": {
          "bdata": "AAECAwQFBgcICQoLDA0ODxAREhMUFRYXGBkaGxwdHh8gISIjJCUmJygpKissLS4vMDEyMzQ1Njc4OTo7PD0+P0BBQkNERUZHSElKS0xNTk9QUVJTVFVWV1hZWltcXV5fYGFiY2Q=",
          "dtype": "i1"
         },
         "xaxis": "x",
         "y": {
          "bdata": "zIPIxaXmzj+wpe3g8+HPP6F1UpbZTdA/bRzlnL7x0D9KNpz2AV/RP1A+CrgM7dE/fDB4gNlU0j+9mcH8Cc3SP0vbwefDP9M/Y1ZU/CyX0z8s+S+iDPTTPwkT5/tPYdQ/0rXCoS++1D/ERlWv1jvVPwSwnisHtNU/WZDDW5s81j/o0cNGVa/WPyg7DcOFJ9c/LkN7hJC11z8LXTLe0yLYP68VDn3xpdg/tR18Pvwz2T8v6KB1UpbZP5g/oVlKL9o/UG9YrMvC2j8+/DNZbfnaP7nGWJDDW9s/6Lx9uZUK3D89naLpKZPcP2uTxxL8Qd0/6WGjqlfr3T+hkVr92H7eP9CHfyarLd8/TVZbvgbX3z/HX1KdmyfgP2cUd9uzY+A/Gr4bHa2M4D8wt1KBk8DgP1onZZndBOE/hJd3sSdJ4T+vB4rJcY3hP2Mzirvt2eE/K1QKsUoT4j/e/a7yQzziP/T25VYqcOI/Wkov2hzC4j+COOZB5OLiPxD4inwbMuM/1xgLcnhr4z/ZmmYi+47jP8cnQs+cxeM/trQdfD784z/zGbCXaS3kPwuVQqzShOQ/mFTn5gnU5D84CQwlIhDlP4rlefSwUeU/eHJVoVKI5T/KTsNw4cnlP7nbnh2DAOY/40uxNc1E5j9vifq/gXDmP9XcQ0N0wuY//0xWW74G5z8VRo2/pDrnP1KrH9vPa+c/Va/WO9Wy5z/1Y/t57e7nP0dAaUl8MOg/XTmgrWJk6D/pduk3F5DoPybce1NCweg/7fz7SJ/66D+1HXw+/DPpPwb66Q2Ldek/pq4OTKOx6T9HYzOKu+3pPyL7jjN8N+o/YGAhT6do6j+K0DNn8azqP6FLxntaBOs/aWxGcbc96z9scP3RvITrP6tX651q2es//DNZbfka7D/Yy7QWumTsP7RjEMB6ruw/LazZRk7t7D+6a36BhTztPzO0RwhZe+0/wHPsQpDK7T8SUFoSHwzuP0+17C1KPe4/yP21tB187j8FY0jQSK3uP6UXbQ5h6e4/0Id/Jqst7z/TizaHsHTvP62hNoDumu8/nC4SLZDR7z8AAAAAAADwPw==",
          "dtype": "f8"
         },
         "yaxis": "y"
        },
        {
         "hovertemplate": "variable=balanced_accuracy<br>Conocidos=%{x}<br>value=%{y}<extra></extra>",
         "legendgroup": "balanced_accuracy",
         "line": {
          "color": "#FFA15A",
          "dash": "solid"
         },
         "marker": {
          "symbol": "circle"
         },
         "mode": "lines",
         "name": "balanced_accuracy",
         "orientation": "v",
         "showlegend": true,
         "type": "scatter",
         "x": {
          "bdata": "AAECAwQFBgcICQoLDA0ODxAREhMUFRYXGBkaGxwdHh8gISIjJCUmJygpKissLS4vMDEyMzQ1Njc4OTo7PD0+P0BBQkNERUZHSElKS0xNTk9QUVJTVFVWV1hZWltcXV5fYGFiY2Q=",
          "dtype": "i1"
         },
         "xaxis": "x",
         "y": {
          "bdata": "RnAz2A5SyT9aSu1gEWzKP/pCGYgPUcs/+r+pKydjzD/S/YZSKx3NP509DqXKUc4/GOIhcxKMzz/4WBkwF0nQP2Tc6YGAytA//seQwQo20T8OXTsZXn7RP/zY7L9y19E/g8TBEB0k0j8KwS9WbIvSP56+DqnJM9M/C00OZmrq0z91yKe7xmvUP0bFi5cd0dQ/4rqiNJON1T/bk85ijgrWP0WKc+fDnNY/XgAG7m401z+F38642qrXP25Y8pAETtg/cc9Rx/3o2D8zgzvTuRTZPxbrVnAZidk/qunTQJ0c2j/w7P7ZFI/aP8p0Jzniids/7YKH+ZMW3D8VhRX1aY/cP6gbUvEHHN0/bli/qwXM3T8GVf/fNFLeP5L0xnn0ud4/tlD3sjxC3z/6MsX4t7zfP+16FQHSF+A/Ipu/CCVQ4D9zdD6KW6vgP2qwVD1/+uA/IZCTjJIr4T/RI574eUzhP9uXLyf8d+E/+P/SOTi74T+oBeK3adfhPxhxFondOeI/gRqsReR54j/0kZxTMpfiPwJAAxz51eI/vexX3swE4z91dAfVvy7jP6aRHb9yrOM/Vh6b9q/s4z8AR9QECC3kPxCq27Vlh+Q/OnvP0Ta05D/gIiOd+unkPy+8uWUbPOU/k30QBwGF5T9bwJCiFqnlP+e9kpPUI+Y/6XolyJFc5j/GtcYmtZrmP2S4vvlAxOY/T02rmg0R5z/rrjNlk0DnP23C2BNciuc/GmV446m05z8qtM09u+rnP9J+wkMhFOg/SD24LGtn6D/NfJM9/ZXoPy1mPxX73eg/wMmxRjdD6T/JajQo/IXpP7L9IJrIwOk/0ojKKxfq6T+4M1497iLqP1K1eP1vjeo/1XAN3VzN6j9Q4dmtcBnrP4WOZnDSXus/EuX0ugzI6z9w6WT2+hbsP/3NHHaAVOw/ps9OKj+K7D+mrNiYaPDsP+rNHmFoWO0/hq8Q5OGt7T9llCZ7I/btP3OykSY0Hu4/1v6al8uY7j/IP/HbNdXuP51aIPQyF+8/4mPtY71Q7z8tRWWdL4vvP5vvPzi9qu8/RS9WFFPY7z8AAAAAAADwPw==",
          "dtype": "f8"
         },
         "yaxis": "y"
        }
       ],
       "layout": {
        "legend": {
         "title": {
          "text": "variable"
         },
         "tracegroupgap": 0
        },
        "margin": {
         "t": 60
        },
        "template": {
         "data": {
          "bar": [
           {
            "error_x": {
             "color": "#2a3f5f"
            },
            "error_y": {
             "color": "#2a3f5f"
            },
            "marker": {
             "line": {
              "color": "#E5ECF6",
              "width": 0.5
             },
             "pattern": {
              "fillmode": "overlay",
              "size": 10,
              "solidity": 0.2
             }
            },
            "type": "bar"
           }
          ],
          "barpolar": [
           {
            "marker": {
             "line": {
              "color": "#E5ECF6",
              "width": 0.5
             },
             "pattern": {
              "fillmode": "overlay",
              "size": 10,
              "solidity": 0.2
             }
            },
            "type": "barpolar"
           }
          ],
          "carpet": [
           {
            "aaxis": {
             "endlinecolor": "#2a3f5f",
             "gridcolor": "white",
             "linecolor": "white",
             "minorgridcolor": "white",
             "startlinecolor": "#2a3f5f"
            },
            "baxis": {
             "endlinecolor": "#2a3f5f",
             "gridcolor": "white",
             "linecolor": "white",
             "minorgridcolor": "white",
             "startlinecolor": "#2a3f5f"
            },
            "type": "carpet"
           }
          ],
          "choropleth": [
           {
            "colorbar": {
             "outlinewidth": 0,
             "ticks": ""
            },
            "type": "choropleth"
           }
          ],
          "contour": [
           {
            "colorbar": {
             "outlinewidth": 0,
             "ticks": ""
            },
            "colorscale": [
             [
              0,
              "#0d0887"
             ],
             [
              0.1111111111111111,
              "#46039f"
             ],
             [
              0.2222222222222222,
              "#7201a8"
             ],
             [
              0.3333333333333333,
              "#9c179e"
             ],
             [
              0.4444444444444444,
              "#bd3786"
             ],
             [
              0.5555555555555556,
              "#d8576b"
             ],
             [
              0.6666666666666666,
              "#ed7953"
             ],
             [
              0.7777777777777778,
              "#fb9f3a"
             ],
             [
              0.8888888888888888,
              "#fdca26"
             ],
             [
              1,
              "#f0f921"
             ]
            ],
            "type": "contour"
           }
          ],
          "contourcarpet": [
           {
            "colorbar": {
             "outlinewidth": 0,
             "ticks": ""
            },
            "type": "contourcarpet"
           }
          ],
          "heatmap": [
           {
            "colorbar": {
             "outlinewidth": 0,
             "ticks": ""
            },
            "colorscale": [
             [
              0,
              "#0d0887"
             ],
             [
              0.1111111111111111,
              "#46039f"
             ],
             [
              0.2222222222222222,
              "#7201a8"
             ],
             [
              0.3333333333333333,
              "#9c179e"
             ],
             [
              0.4444444444444444,
              "#bd3786"
             ],
             [
              0.5555555555555556,
              "#d8576b"
             ],
             [
              0.6666666666666666,
              "#ed7953"
             ],
             [
              0.7777777777777778,
              "#fb9f3a"
             ],
             [
              0.8888888888888888,
              "#fdca26"
             ],
             [
              1,
              "#f0f921"
             ]
            ],
            "type": "heatmap"
           }
          ],
          "histogram": [
           {
            "marker": {
             "pattern": {
              "fillmode": "overlay",
              "size": 10,
              "solidity": 0.2
             }
            },
            "type": "histogram"
           }
          ],
          "histogram2d": [
           {
            "colorbar": {
             "outlinewidth": 0,
             "ticks": ""
            },
            "colorscale": [
             [
              0,
              "#0d0887"
             ],
             [
              0.1111111111111111,
              "#46039f"
             ],
             [
              0.2222222222222222,
              "#7201a8"
             ],
             [
              0.3333333333333333,
              "#9c179e"
             ],
             [
              0.4444444444444444,
              "#bd3786"
             ],
             [
              0.5555555555555556,
              "#d8576b"
             ],
             [
              0.6666666666666666,
              "#ed7953"
             ],
             [
              0.7777777777777778,
              "#fb9f3a"
             ],
             [
              0.8888888888888888,
              "#fdca26"
             ],
             [
              1,
              "#f0f921"
             ]
            ],
            "type": "histogram2d"
           }
          ],
          "histogram2dcontour": [
           {
            "colorbar": {
             "outlinewidth": 0,
             "ticks": ""
            },
            "colorscale": [
             [
              0,
              "#0d0887"
             ],
             [
              0.1111111111111111,
              "#46039f"
             ],
             [
              0.2222222222222222,
              "#7201a8"
             ],
             [
              0.3333333333333333,
              "#9c179e"
             ],
             [
              0.4444444444444444,
              "#bd3786"
             ],
             [
              0.5555555555555556,
              "#d8576b"
             ],
             [
              0.6666666666666666,
              "#ed7953"
             ],
             [
              0.7777777777777778,
              "#fb9f3a"
             ],
             [
              0.8888888888888888,
              "#fdca26"
             ],
             [
              1,
              "#f0f921"
             ]
            ],
            "type": "histogram2dcontour"
           }
          ],
          "mesh3d": [
           {
            "colorbar": {
             "outlinewidth": 0,
             "ticks": ""
            },
            "type": "mesh3d"
           }
          ],
          "parcoords": [
           {
            "line": {
             "colorbar": {
              "outlinewidth": 0,
              "ticks": ""
             }
            },
            "type": "parcoords"
           }
          ],
          "pie": [
           {
            "automargin": true,
            "type": "pie"
           }
          ],
          "scatter": [
           {
            "fillpattern": {
             "fillmode": "overlay",
             "size": 10,
             "solidity": 0.2
            },
            "type": "scatter"
           }
          ],
          "scatter3d": [
           {
            "line": {
             "colorbar": {
              "outlinewidth": 0,
              "ticks": ""
             }
            },
            "marker": {
             "colorbar": {
              "outlinewidth": 0,
              "ticks": ""
             }
            },
            "type": "scatter3d"
           }
          ],
          "scattercarpet": [
           {
            "marker": {
             "colorbar": {
              "outlinewidth": 0,
              "ticks": ""
             }
            },
            "type": "scattercarpet"
           }
          ],
          "scattergeo": [
           {
            "marker": {
             "colorbar": {
              "outlinewidth": 0,
              "ticks": ""
             }
            },
            "type": "scattergeo"
           }
          ],
          "scattergl": [
           {
            "marker": {
             "colorbar": {
              "outlinewidth": 0,
              "ticks": ""
             }
            },
            "type": "scattergl"
           }
          ],
          "scattermap": [
           {
            "marker": {
             "colorbar": {
              "outlinewidth": 0,
              "ticks": ""
             }
            },
            "type": "scattermap"
           }
          ],
          "scattermapbox": [
           {
            "marker": {
             "colorbar": {
              "outlinewidth": 0,
              "ticks": ""
             }
            },
            "type": "scattermapbox"
           }
          ],
          "scatterpolar": [
           {
            "marker": {
             "colorbar": {
              "outlinewidth": 0,
              "ticks": ""
             }
            },
            "type": "scatterpolar"
           }
          ],
          "scatterpolargl": [
           {
            "marker": {
             "colorbar": {
              "outlinewidth": 0,
              "ticks": ""
             }
            },
            "type": "scatterpolargl"
           }
          ],
          "scatterternary": [
           {
            "marker": {
             "colorbar": {
              "outlinewidth": 0,
              "ticks": ""
             }
            },
            "type": "scatterternary"
           }
          ],
          "surface": [
           {
            "colorbar": {
             "outlinewidth": 0,
             "ticks": ""
            },
            "colorscale": [
             [
              0,
              "#0d0887"
             ],
             [
              0.1111111111111111,
              "#46039f"
             ],
             [
              0.2222222222222222,
              "#7201a8"
             ],
             [
              0.3333333333333333,
              "#9c179e"
             ],
             [
              0.4444444444444444,
              "#bd3786"
             ],
             [
              0.5555555555555556,
              "#d8576b"
             ],
             [
              0.6666666666666666,
              "#ed7953"
             ],
             [
              0.7777777777777778,
              "#fb9f3a"
             ],
             [
              0.8888888888888888,
              "#fdca26"
             ],
             [
              1,
              "#f0f921"
             ]
            ],
            "type": "surface"
           }
          ],
          "table": [
           {
            "cells": {
             "fill": {
              "color": "#EBF0F8"
             },
             "line": {
              "color": "white"
             }
            },
            "header": {
             "fill": {
              "color": "#C8D4E3"
             },
             "line": {
              "color": "white"
             }
            },
            "type": "table"
           }
          ]
         },
         "layout": {
          "annotationdefaults": {
           "arrowcolor": "#2a3f5f",
           "arrowhead": 0,
           "arrowwidth": 1
          },
          "autotypenumbers": "strict",
          "coloraxis": {
           "colorbar": {
            "outlinewidth": 0,
            "ticks": ""
           }
          },
          "colorscale": {
           "diverging": [
            [
             0,
             "#8e0152"
            ],
            [
             0.1,
             "#c51b7d"
            ],
            [
             0.2,
             "#de77ae"
            ],
            [
             0.3,
             "#f1b6da"
            ],
            [
             0.4,
             "#fde0ef"
            ],
            [
             0.5,
             "#f7f7f7"
            ],
            [
             0.6,
             "#e6f5d0"
            ],
            [
             0.7,
             "#b8e186"
            ],
            [
             0.8,
             "#7fbc41"
            ],
            [
             0.9,
             "#4d9221"
            ],
            [
             1,
             "#276419"
            ]
           ],
           "sequential": [
            [
             0,
             "#0d0887"
            ],
            [
             0.1111111111111111,
             "#46039f"
            ],
            [
             0.2222222222222222,
             "#7201a8"
            ],
            [
             0.3333333333333333,
             "#9c179e"
            ],
            [
             0.4444444444444444,
             "#bd3786"
            ],
            [
             0.5555555555555556,
             "#d8576b"
            ],
            [
             0.6666666666666666,
             "#ed7953"
            ],
            [
             0.7777777777777778,
             "#fb9f3a"
            ],
            [
             0.8888888888888888,
             "#fdca26"
            ],
            [
             1,
             "#f0f921"
            ]
           ],
           "sequentialminus": [
            [
             0,
             "#0d0887"
            ],
            [
             0.1111111111111111,
             "#46039f"
            ],
            [
             0.2222222222222222,
             "#7201a8"
            ],
            [
             0.3333333333333333,
             "#9c179e"
            ],
            [
             0.4444444444444444,
             "#bd3786"
            ],
            [
             0.5555555555555556,
             "#d8576b"
            ],
            [
             0.6666666666666666,
             "#ed7953"
            ],
            [
             0.7777777777777778,
             "#fb9f3a"
            ],
            [
             0.8888888888888888,
             "#fdca26"
            ],
            [
             1,
             "#f0f921"
            ]
           ]
          },
          "colorway": [
           "#636efa",
           "#EF553B",
           "#00cc96",
           "#ab63fa",
           "#FFA15A",
           "#19d3f3",
           "#FF6692",
           "#B6E880",
           "#FF97FF",
           "#FECB52"
          ],
          "font": {
           "color": "#2a3f5f"
          },
          "geo": {
           "bgcolor": "white",
           "lakecolor": "white",
           "landcolor": "#E5ECF6",
           "showlakes": true,
           "showland": true,
           "subunitcolor": "white"
          },
          "hoverlabel": {
           "align": "left"
          },
          "hovermode": "closest",
          "mapbox": {
           "style": "light"
          },
          "paper_bgcolor": "white",
          "plot_bgcolor": "#E5ECF6",
          "polar": {
           "angularaxis": {
            "gridcolor": "white",
            "linecolor": "white",
            "ticks": ""
           },
           "bgcolor": "#E5ECF6",
           "radialaxis": {
            "gridcolor": "white",
            "linecolor": "white",
            "ticks": ""
           }
          },
          "scene": {
           "xaxis": {
            "backgroundcolor": "#E5ECF6",
            "gridcolor": "white",
            "gridwidth": 2,
            "linecolor": "white",
            "showbackground": true,
            "ticks": "",
            "zerolinecolor": "white"
           },
           "yaxis": {
            "backgroundcolor": "#E5ECF6",
            "gridcolor": "white",
            "gridwidth": 2,
            "linecolor": "white",
            "showbackground": true,
            "ticks": "",
            "zerolinecolor": "white"
           },
           "zaxis": {
            "backgroundcolor": "#E5ECF6",
            "gridcolor": "white",
            "gridwidth": 2,
            "linecolor": "white",
            "showbackground": true,
            "ticks": "",
            "zerolinecolor": "white"
           }
          },
          "shapedefaults": {
           "line": {
            "color": "#2a3f5f"
           }
          },
          "ternary": {
           "aaxis": {
            "gridcolor": "white",
            "linecolor": "white",
            "ticks": ""
           },
           "baxis": {
            "gridcolor": "white",
            "linecolor": "white",
            "ticks": ""
           },
           "bgcolor": "#E5ECF6",
           "caxis": {
            "gridcolor": "white",
            "linecolor": "white",
            "ticks": ""
           }
          },
          "title": {
           "x": 0.05
          },
          "xaxis": {
           "automargin": true,
           "gridcolor": "white",
           "linecolor": "white",
           "ticks": "",
           "title": {
            "standoff": 15
           },
           "zerolinecolor": "white",
           "zerolinewidth": 2
          },
          "yaxis": {
           "automargin": true,
           "gridcolor": "white",
           "linecolor": "white",
           "ticks": "",
           "title": {
            "standoff": 15
           },
           "zerolinecolor": "white",
           "zerolinewidth": 2
          }
         }
        },
        "xaxis": {
         "anchor": "y",
         "domain": [
          0,
          1
         ],
         "title": {
          "text": "Conocidos"
         }
        },
        "yaxis": {
         "anchor": "x",
         "domain": [
          0,
          1
         ],
         "title": {
          "text": "value"
         }
        }
       }
      }
     },
     "metadata": {},
     "output_type": "display_data"
    }
   ],
   "source": [
    "#Grafico el comportamiento de la métrica a medida que incremento los aciertos. Tambien muestro lor resultados de otras metricas como Accuracy y Balanced Accuracy\n",
    "px.line(kappa_progression,x='Conocidos',y=['kappa',\n",
    "                                           'kappa_cerca',\n",
    "                                           'kappa_lejos',\n",
    "                                           'accuracy',\n",
    "                                           'balanced_accuracy'])"
   ]
  },
  {
   "cell_type": "code",
   "execution_count": 19,
   "metadata": {},
   "outputs": [
    {
     "data": {
      "application/vnd.plotly.v1+json": {
       "config": {
        "plotlyServerURL": "https://plot.ly"
       },
       "data": [
        {
         "type": "heatmap",
         "x": {
          "bdata": "AAECAwQ=",
          "dtype": "i1"
         },
         "y": {
          "bdata": "AAECAwQ=",
          "dtype": "i1"
         },
         "z": {
          "bdata": "LFG7ErUrR0DVrkTtStRKQAAAAAAAAAAAAAAAAAAAAAAAAAAAAAAAAAAAAAAAAAAAcLUxNN3BSECQSs7LIj5JQAAAAAAAAAAAAAAAAAAAAAAAAAAAAAAAAAAAAAAAAAAAXf8tea6WSUCiANKGUWlIQAAAAAAAAAAAAAAAAAAAAAAAAAAAAAAAAAAAAAAAAAAAIwPqmcp1SUDc/BVmNYpIQAAAAAAAAAAAAAAAAAAAAAAAAAAAAAAAAMMwDMMwDEhAPs/zPM/zSUA=",
          "dtype": "f8",
          "shape": "5, 5"
         }
        }
       ],
       "layout": {
        "annotations": [
         {
          "font": {
           "color": "white"
          },
          "showarrow": false,
          "text": "46.3 - 38",
          "x": 0,
          "xref": "x",
          "y": 0,
          "yref": "y"
         },
         {
          "font": {
           "color": "white"
          },
          "showarrow": false,
          "text": "53.7 - 44",
          "x": 1,
          "xref": "x",
          "y": 0,
          "yref": "y"
         },
         {
          "font": {
           "color": "white"
          },
          "showarrow": false,
          "text": "0.0 - 0",
          "x": 2,
          "xref": "x",
          "y": 0,
          "yref": "y"
         },
         {
          "font": {
           "color": "white"
          },
          "showarrow": false,
          "text": "0.0 - 0",
          "x": 3,
          "xref": "x",
          "y": 0,
          "yref": "y"
         },
         {
          "font": {
           "color": "white"
          },
          "showarrow": false,
          "text": "0.0 - 0",
          "x": 4,
          "xref": "x",
          "y": 0,
          "yref": "y"
         },
         {
          "font": {
           "color": "white"
          },
          "showarrow": false,
          "text": "0.0 - 0",
          "x": 0,
          "xref": "x",
          "y": 1,
          "yref": "y"
         },
         {
          "font": {
           "color": "white"
          },
          "showarrow": false,
          "text": "49.5 - 306",
          "x": 1,
          "xref": "x",
          "y": 1,
          "yref": "y"
         },
         {
          "font": {
           "color": "white"
          },
          "showarrow": false,
          "text": "50.5 - 312",
          "x": 2,
          "xref": "x",
          "y": 1,
          "yref": "y"
         },
         {
          "font": {
           "color": "white"
          },
          "showarrow": false,
          "text": "0.0 - 0",
          "x": 3,
          "xref": "x",
          "y": 1,
          "yref": "y"
         },
         {
          "font": {
           "color": "white"
          },
          "showarrow": false,
          "text": "0.0 - 0",
          "x": 4,
          "xref": "x",
          "y": 1,
          "yref": "y"
         },
         {
          "font": {
           "color": "white"
          },
          "showarrow": false,
          "text": "0.0 - 0",
          "x": 0,
          "xref": "x",
          "y": 2,
          "yref": "y"
         },
         {
          "font": {
           "color": "white"
          },
          "showarrow": false,
          "text": "0.0 - 0",
          "x": 1,
          "xref": "x",
          "y": 2,
          "yref": "y"
         },
         {
          "font": {
           "color": "white"
          },
          "showarrow": false,
          "text": "51.2 - 413",
          "x": 2,
          "xref": "x",
          "y": 2,
          "yref": "y"
         },
         {
          "font": {
           "color": "white"
          },
          "showarrow": false,
          "text": "48.8 - 394",
          "x": 3,
          "xref": "x",
          "y": 2,
          "yref": "y"
         },
         {
          "font": {
           "color": "white"
          },
          "showarrow": false,
          "text": "0.0 - 0",
          "x": 4,
          "xref": "x",
          "y": 2,
          "yref": "y"
         },
         {
          "font": {
           "color": "white"
          },
          "showarrow": false,
          "text": "0.0 - 0",
          "x": 0,
          "xref": "x",
          "y": 3,
          "yref": "y"
         },
         {
          "font": {
           "color": "white"
          },
          "showarrow": false,
          "text": "0.0 - 0",
          "x": 1,
          "xref": "x",
          "y": 3,
          "yref": "y"
         },
         {
          "font": {
           "color": "white"
          },
          "showarrow": false,
          "text": "0.0 - 0",
          "x": 2,
          "xref": "x",
          "y": 3,
          "yref": "y"
         },
         {
          "font": {
           "color": "white"
          },
          "showarrow": false,
          "text": "50.9 - 332",
          "x": 3,
          "xref": "x",
          "y": 3,
          "yref": "y"
         },
         {
          "font": {
           "color": "white"
          },
          "showarrow": false,
          "text": "49.1 - 320",
          "x": 4,
          "xref": "x",
          "y": 3,
          "yref": "y"
         },
         {
          "font": {
           "color": "white"
          },
          "showarrow": false,
          "text": "0.0 - 0",
          "x": 0,
          "xref": "x",
          "y": 4,
          "yref": "y"
         },
         {
          "font": {
           "color": "white"
          },
          "showarrow": false,
          "text": "0.0 - 0",
          "x": 1,
          "xref": "x",
          "y": 4,
          "yref": "y"
         },
         {
          "font": {
           "color": "white"
          },
          "showarrow": false,
          "text": "0.0 - 0",
          "x": 2,
          "xref": "x",
          "y": 4,
          "yref": "y"
         },
         {
          "font": {
           "color": "white"
          },
          "showarrow": false,
          "text": "48.1 - 404",
          "x": 3,
          "xref": "x",
          "y": 4,
          "yref": "y"
         },
         {
          "font": {
           "color": "white"
          },
          "showarrow": false,
          "text": "51.9 - 436",
          "x": 4,
          "xref": "x",
          "y": 4,
          "yref": "y"
         }
        ],
        "height": 800,
        "template": {
         "data": {
          "bar": [
           {
            "error_x": {
             "color": "#2a3f5f"
            },
            "error_y": {
             "color": "#2a3f5f"
            },
            "marker": {
             "line": {
              "color": "#E5ECF6",
              "width": 0.5
             },
             "pattern": {
              "fillmode": "overlay",
              "size": 10,
              "solidity": 0.2
             }
            },
            "type": "bar"
           }
          ],
          "barpolar": [
           {
            "marker": {
             "line": {
              "color": "#E5ECF6",
              "width": 0.5
             },
             "pattern": {
              "fillmode": "overlay",
              "size": 10,
              "solidity": 0.2
             }
            },
            "type": "barpolar"
           }
          ],
          "carpet": [
           {
            "aaxis": {
             "endlinecolor": "#2a3f5f",
             "gridcolor": "white",
             "linecolor": "white",
             "minorgridcolor": "white",
             "startlinecolor": "#2a3f5f"
            },
            "baxis": {
             "endlinecolor": "#2a3f5f",
             "gridcolor": "white",
             "linecolor": "white",
             "minorgridcolor": "white",
             "startlinecolor": "#2a3f5f"
            },
            "type": "carpet"
           }
          ],
          "choropleth": [
           {
            "colorbar": {
             "outlinewidth": 0,
             "ticks": ""
            },
            "type": "choropleth"
           }
          ],
          "contour": [
           {
            "colorbar": {
             "outlinewidth": 0,
             "ticks": ""
            },
            "colorscale": [
             [
              0,
              "#0d0887"
             ],
             [
              0.1111111111111111,
              "#46039f"
             ],
             [
              0.2222222222222222,
              "#7201a8"
             ],
             [
              0.3333333333333333,
              "#9c179e"
             ],
             [
              0.4444444444444444,
              "#bd3786"
             ],
             [
              0.5555555555555556,
              "#d8576b"
             ],
             [
              0.6666666666666666,
              "#ed7953"
             ],
             [
              0.7777777777777778,
              "#fb9f3a"
             ],
             [
              0.8888888888888888,
              "#fdca26"
             ],
             [
              1,
              "#f0f921"
             ]
            ],
            "type": "contour"
           }
          ],
          "contourcarpet": [
           {
            "colorbar": {
             "outlinewidth": 0,
             "ticks": ""
            },
            "type": "contourcarpet"
           }
          ],
          "heatmap": [
           {
            "colorbar": {
             "outlinewidth": 0,
             "ticks": ""
            },
            "colorscale": [
             [
              0,
              "#0d0887"
             ],
             [
              0.1111111111111111,
              "#46039f"
             ],
             [
              0.2222222222222222,
              "#7201a8"
             ],
             [
              0.3333333333333333,
              "#9c179e"
             ],
             [
              0.4444444444444444,
              "#bd3786"
             ],
             [
              0.5555555555555556,
              "#d8576b"
             ],
             [
              0.6666666666666666,
              "#ed7953"
             ],
             [
              0.7777777777777778,
              "#fb9f3a"
             ],
             [
              0.8888888888888888,
              "#fdca26"
             ],
             [
              1,
              "#f0f921"
             ]
            ],
            "type": "heatmap"
           }
          ],
          "histogram": [
           {
            "marker": {
             "pattern": {
              "fillmode": "overlay",
              "size": 10,
              "solidity": 0.2
             }
            },
            "type": "histogram"
           }
          ],
          "histogram2d": [
           {
            "colorbar": {
             "outlinewidth": 0,
             "ticks": ""
            },
            "colorscale": [
             [
              0,
              "#0d0887"
             ],
             [
              0.1111111111111111,
              "#46039f"
             ],
             [
              0.2222222222222222,
              "#7201a8"
             ],
             [
              0.3333333333333333,
              "#9c179e"
             ],
             [
              0.4444444444444444,
              "#bd3786"
             ],
             [
              0.5555555555555556,
              "#d8576b"
             ],
             [
              0.6666666666666666,
              "#ed7953"
             ],
             [
              0.7777777777777778,
              "#fb9f3a"
             ],
             [
              0.8888888888888888,
              "#fdca26"
             ],
             [
              1,
              "#f0f921"
             ]
            ],
            "type": "histogram2d"
           }
          ],
          "histogram2dcontour": [
           {
            "colorbar": {
             "outlinewidth": 0,
             "ticks": ""
            },
            "colorscale": [
             [
              0,
              "#0d0887"
             ],
             [
              0.1111111111111111,
              "#46039f"
             ],
             [
              0.2222222222222222,
              "#7201a8"
             ],
             [
              0.3333333333333333,
              "#9c179e"
             ],
             [
              0.4444444444444444,
              "#bd3786"
             ],
             [
              0.5555555555555556,
              "#d8576b"
             ],
             [
              0.6666666666666666,
              "#ed7953"
             ],
             [
              0.7777777777777778,
              "#fb9f3a"
             ],
             [
              0.8888888888888888,
              "#fdca26"
             ],
             [
              1,
              "#f0f921"
             ]
            ],
            "type": "histogram2dcontour"
           }
          ],
          "mesh3d": [
           {
            "colorbar": {
             "outlinewidth": 0,
             "ticks": ""
            },
            "type": "mesh3d"
           }
          ],
          "parcoords": [
           {
            "line": {
             "colorbar": {
              "outlinewidth": 0,
              "ticks": ""
             }
            },
            "type": "parcoords"
           }
          ],
          "pie": [
           {
            "automargin": true,
            "type": "pie"
           }
          ],
          "scatter": [
           {
            "fillpattern": {
             "fillmode": "overlay",
             "size": 10,
             "solidity": 0.2
            },
            "type": "scatter"
           }
          ],
          "scatter3d": [
           {
            "line": {
             "colorbar": {
              "outlinewidth": 0,
              "ticks": ""
             }
            },
            "marker": {
             "colorbar": {
              "outlinewidth": 0,
              "ticks": ""
             }
            },
            "type": "scatter3d"
           }
          ],
          "scattercarpet": [
           {
            "marker": {
             "colorbar": {
              "outlinewidth": 0,
              "ticks": ""
             }
            },
            "type": "scattercarpet"
           }
          ],
          "scattergeo": [
           {
            "marker": {
             "colorbar": {
              "outlinewidth": 0,
              "ticks": ""
             }
            },
            "type": "scattergeo"
           }
          ],
          "scattergl": [
           {
            "marker": {
             "colorbar": {
              "outlinewidth": 0,
              "ticks": ""
             }
            },
            "type": "scattergl"
           }
          ],
          "scattermap": [
           {
            "marker": {
             "colorbar": {
              "outlinewidth": 0,
              "ticks": ""
             }
            },
            "type": "scattermap"
           }
          ],
          "scattermapbox": [
           {
            "marker": {
             "colorbar": {
              "outlinewidth": 0,
              "ticks": ""
             }
            },
            "type": "scattermapbox"
           }
          ],
          "scatterpolar": [
           {
            "marker": {
             "colorbar": {
              "outlinewidth": 0,
              "ticks": ""
             }
            },
            "type": "scatterpolar"
           }
          ],
          "scatterpolargl": [
           {
            "marker": {
             "colorbar": {
              "outlinewidth": 0,
              "ticks": ""
             }
            },
            "type": "scatterpolargl"
           }
          ],
          "scatterternary": [
           {
            "marker": {
             "colorbar": {
              "outlinewidth": 0,
              "ticks": ""
             }
            },
            "type": "scatterternary"
           }
          ],
          "surface": [
           {
            "colorbar": {
             "outlinewidth": 0,
             "ticks": ""
            },
            "colorscale": [
             [
              0,
              "#0d0887"
             ],
             [
              0.1111111111111111,
              "#46039f"
             ],
             [
              0.2222222222222222,
              "#7201a8"
             ],
             [
              0.3333333333333333,
              "#9c179e"
             ],
             [
              0.4444444444444444,
              "#bd3786"
             ],
             [
              0.5555555555555556,
              "#d8576b"
             ],
             [
              0.6666666666666666,
              "#ed7953"
             ],
             [
              0.7777777777777778,
              "#fb9f3a"
             ],
             [
              0.8888888888888888,
              "#fdca26"
             ],
             [
              1,
              "#f0f921"
             ]
            ],
            "type": "surface"
           }
          ],
          "table": [
           {
            "cells": {
             "fill": {
              "color": "#EBF0F8"
             },
             "line": {
              "color": "white"
             }
            },
            "header": {
             "fill": {
              "color": "#C8D4E3"
             },
             "line": {
              "color": "white"
             }
            },
            "type": "table"
           }
          ]
         },
         "layout": {
          "annotationdefaults": {
           "arrowcolor": "#2a3f5f",
           "arrowhead": 0,
           "arrowwidth": 1
          },
          "autotypenumbers": "strict",
          "coloraxis": {
           "colorbar": {
            "outlinewidth": 0,
            "ticks": ""
           }
          },
          "colorscale": {
           "diverging": [
            [
             0,
             "#8e0152"
            ],
            [
             0.1,
             "#c51b7d"
            ],
            [
             0.2,
             "#de77ae"
            ],
            [
             0.3,
             "#f1b6da"
            ],
            [
             0.4,
             "#fde0ef"
            ],
            [
             0.5,
             "#f7f7f7"
            ],
            [
             0.6,
             "#e6f5d0"
            ],
            [
             0.7,
             "#b8e186"
            ],
            [
             0.8,
             "#7fbc41"
            ],
            [
             0.9,
             "#4d9221"
            ],
            [
             1,
             "#276419"
            ]
           ],
           "sequential": [
            [
             0,
             "#0d0887"
            ],
            [
             0.1111111111111111,
             "#46039f"
            ],
            [
             0.2222222222222222,
             "#7201a8"
            ],
            [
             0.3333333333333333,
             "#9c179e"
            ],
            [
             0.4444444444444444,
             "#bd3786"
            ],
            [
             0.5555555555555556,
             "#d8576b"
            ],
            [
             0.6666666666666666,
             "#ed7953"
            ],
            [
             0.7777777777777778,
             "#fb9f3a"
            ],
            [
             0.8888888888888888,
             "#fdca26"
            ],
            [
             1,
             "#f0f921"
            ]
           ],
           "sequentialminus": [
            [
             0,
             "#0d0887"
            ],
            [
             0.1111111111111111,
             "#46039f"
            ],
            [
             0.2222222222222222,
             "#7201a8"
            ],
            [
             0.3333333333333333,
             "#9c179e"
            ],
            [
             0.4444444444444444,
             "#bd3786"
            ],
            [
             0.5555555555555556,
             "#d8576b"
            ],
            [
             0.6666666666666666,
             "#ed7953"
            ],
            [
             0.7777777777777778,
             "#fb9f3a"
            ],
            [
             0.8888888888888888,
             "#fdca26"
            ],
            [
             1,
             "#f0f921"
            ]
           ]
          },
          "colorway": [
           "#636efa",
           "#EF553B",
           "#00cc96",
           "#ab63fa",
           "#FFA15A",
           "#19d3f3",
           "#FF6692",
           "#B6E880",
           "#FF97FF",
           "#FECB52"
          ],
          "font": {
           "color": "#2a3f5f"
          },
          "geo": {
           "bgcolor": "white",
           "lakecolor": "white",
           "landcolor": "#E5ECF6",
           "showlakes": true,
           "showland": true,
           "subunitcolor": "white"
          },
          "hoverlabel": {
           "align": "left"
          },
          "hovermode": "closest",
          "mapbox": {
           "style": "light"
          },
          "paper_bgcolor": "white",
          "plot_bgcolor": "#E5ECF6",
          "polar": {
           "angularaxis": {
            "gridcolor": "white",
            "linecolor": "white",
            "ticks": ""
           },
           "bgcolor": "#E5ECF6",
           "radialaxis": {
            "gridcolor": "white",
            "linecolor": "white",
            "ticks": ""
           }
          },
          "scene": {
           "xaxis": {
            "backgroundcolor": "#E5ECF6",
            "gridcolor": "white",
            "gridwidth": 2,
            "linecolor": "white",
            "showbackground": true,
            "ticks": "",
            "zerolinecolor": "white"
           },
           "yaxis": {
            "backgroundcolor": "#E5ECF6",
            "gridcolor": "white",
            "gridwidth": 2,
            "linecolor": "white",
            "showbackground": true,
            "ticks": "",
            "zerolinecolor": "white"
           },
           "zaxis": {
            "backgroundcolor": "#E5ECF6",
            "gridcolor": "white",
            "gridwidth": 2,
            "linecolor": "white",
            "showbackground": true,
            "ticks": "",
            "zerolinecolor": "white"
           }
          },
          "shapedefaults": {
           "line": {
            "color": "#2a3f5f"
           }
          },
          "ternary": {
           "aaxis": {
            "gridcolor": "white",
            "linecolor": "white",
            "ticks": ""
           },
           "baxis": {
            "gridcolor": "white",
            "linecolor": "white",
            "ticks": ""
           },
           "bgcolor": "#E5ECF6",
           "caxis": {
            "gridcolor": "white",
            "linecolor": "white",
            "ticks": ""
           }
          },
          "title": {
           "x": 0.05
          },
          "xaxis": {
           "automargin": true,
           "gridcolor": "white",
           "linecolor": "white",
           "ticks": "",
           "title": {
            "standoff": 15
           },
           "zerolinecolor": "white",
           "zerolinewidth": 2
          },
          "yaxis": {
           "automargin": true,
           "gridcolor": "white",
           "linecolor": "white",
           "ticks": "",
           "title": {
            "standoff": 15
           },
           "zerolinecolor": "white",
           "zerolinewidth": 2
          }
         }
        },
        "title": {
         "text": "Kappa 0.7987265367881834"
        },
        "width": 800,
        "xaxis": {
         "title": {
          "text": "Predicted value"
         }
        },
        "yaxis": {
         "title": {
          "text": "Real value"
         }
        }
       }
      }
     },
     "metadata": {},
     "output_type": "display_data"
    }
   ],
   "source": [
    "\n",
    "#A modo de ejemplo muestro kappa y matriz de confusion para 50% de aciertos donde los errores quedan cerca de la clase correcta\n",
    "y_simulado_cerca = [y_test.iloc[sample] if random_list[sample]<50/100 else y_cerca[sample] for sample in range(len(y_test))]\n",
    "\n",
    "display(plot_confusion_matrix(y_test,y_simulado_cerca, \n",
    "                              title = \"Kappa \" + str(cohen_kappa_score(y_test,y_simulado_cerca, weights = 'quadratic'))))\n",
    "\n"
   ]
  },
  {
   "cell_type": "code",
   "execution_count": 20,
   "metadata": {},
   "outputs": [
    {
     "data": {
      "application/vnd.plotly.v1+json": {
       "config": {
        "plotlyServerURL": "https://plot.ly"
       },
       "data": [
        {
         "type": "heatmap",
         "x": {
          "bdata": "AAECAwQ=",
          "dtype": "i1"
         },
         "y": {
          "bdata": "AAECAwQ=",
          "dtype": "i1"
         },
         "z": {
          "bdata": "LFG7ErUrR0AAAAAAAAAAAAAAAAAAAAAAAAAAAAAAAADVrkTtStRKQAAAAAAAAAAAcLUxNN3BSEAAAAAAAAAAAAAAAAAAAAAAkErOyyI+SUCiANKGUWlIQAAAAAAAAAAAXf8tea6WSUAAAAAAAAAAAAAAAAAAAAAA3PwVZjWKSEAAAAAAAAAAAAAAAAAAAAAAIwPqmcp1SUAAAAAAAAAAAMMwDMMwDEhAAAAAAAAAAAAAAAAAAAAAAAAAAAAAAAAAPs/zPM/zSUA=",
          "dtype": "f8",
          "shape": "5, 5"
         }
        }
       ],
       "layout": {
        "annotations": [
         {
          "font": {
           "color": "white"
          },
          "showarrow": false,
          "text": "46.3 - 38",
          "x": 0,
          "xref": "x",
          "y": 0,
          "yref": "y"
         },
         {
          "font": {
           "color": "white"
          },
          "showarrow": false,
          "text": "0.0 - 0",
          "x": 1,
          "xref": "x",
          "y": 0,
          "yref": "y"
         },
         {
          "font": {
           "color": "white"
          },
          "showarrow": false,
          "text": "0.0 - 0",
          "x": 2,
          "xref": "x",
          "y": 0,
          "yref": "y"
         },
         {
          "font": {
           "color": "white"
          },
          "showarrow": false,
          "text": "0.0 - 0",
          "x": 3,
          "xref": "x",
          "y": 0,
          "yref": "y"
         },
         {
          "font": {
           "color": "white"
          },
          "showarrow": false,
          "text": "53.7 - 44",
          "x": 4,
          "xref": "x",
          "y": 0,
          "yref": "y"
         },
         {
          "font": {
           "color": "white"
          },
          "showarrow": false,
          "text": "0.0 - 0",
          "x": 0,
          "xref": "x",
          "y": 1,
          "yref": "y"
         },
         {
          "font": {
           "color": "white"
          },
          "showarrow": false,
          "text": "49.5 - 306",
          "x": 1,
          "xref": "x",
          "y": 1,
          "yref": "y"
         },
         {
          "font": {
           "color": "white"
          },
          "showarrow": false,
          "text": "0.0 - 0",
          "x": 2,
          "xref": "x",
          "y": 1,
          "yref": "y"
         },
         {
          "font": {
           "color": "white"
          },
          "showarrow": false,
          "text": "0.0 - 0",
          "x": 3,
          "xref": "x",
          "y": 1,
          "yref": "y"
         },
         {
          "font": {
           "color": "white"
          },
          "showarrow": false,
          "text": "50.5 - 312",
          "x": 4,
          "xref": "x",
          "y": 1,
          "yref": "y"
         },
         {
          "font": {
           "color": "white"
          },
          "showarrow": false,
          "text": "48.8 - 394",
          "x": 0,
          "xref": "x",
          "y": 2,
          "yref": "y"
         },
         {
          "font": {
           "color": "white"
          },
          "showarrow": false,
          "text": "0.0 - 0",
          "x": 1,
          "xref": "x",
          "y": 2,
          "yref": "y"
         },
         {
          "font": {
           "color": "white"
          },
          "showarrow": false,
          "text": "51.2 - 413",
          "x": 2,
          "xref": "x",
          "y": 2,
          "yref": "y"
         },
         {
          "font": {
           "color": "white"
          },
          "showarrow": false,
          "text": "0.0 - 0",
          "x": 3,
          "xref": "x",
          "y": 2,
          "yref": "y"
         },
         {
          "font": {
           "color": "white"
          },
          "showarrow": false,
          "text": "0.0 - 0",
          "x": 4,
          "xref": "x",
          "y": 2,
          "yref": "y"
         },
         {
          "font": {
           "color": "white"
          },
          "showarrow": false,
          "text": "49.1 - 320",
          "x": 0,
          "xref": "x",
          "y": 3,
          "yref": "y"
         },
         {
          "font": {
           "color": "white"
          },
          "showarrow": false,
          "text": "0.0 - 0",
          "x": 1,
          "xref": "x",
          "y": 3,
          "yref": "y"
         },
         {
          "font": {
           "color": "white"
          },
          "showarrow": false,
          "text": "0.0 - 0",
          "x": 2,
          "xref": "x",
          "y": 3,
          "yref": "y"
         },
         {
          "font": {
           "color": "white"
          },
          "showarrow": false,
          "text": "50.9 - 332",
          "x": 3,
          "xref": "x",
          "y": 3,
          "yref": "y"
         },
         {
          "font": {
           "color": "white"
          },
          "showarrow": false,
          "text": "0.0 - 0",
          "x": 4,
          "xref": "x",
          "y": 3,
          "yref": "y"
         },
         {
          "font": {
           "color": "white"
          },
          "showarrow": false,
          "text": "48.1 - 404",
          "x": 0,
          "xref": "x",
          "y": 4,
          "yref": "y"
         },
         {
          "font": {
           "color": "white"
          },
          "showarrow": false,
          "text": "0.0 - 0",
          "x": 1,
          "xref": "x",
          "y": 4,
          "yref": "y"
         },
         {
          "font": {
           "color": "white"
          },
          "showarrow": false,
          "text": "0.0 - 0",
          "x": 2,
          "xref": "x",
          "y": 4,
          "yref": "y"
         },
         {
          "font": {
           "color": "white"
          },
          "showarrow": false,
          "text": "0.0 - 0",
          "x": 3,
          "xref": "x",
          "y": 4,
          "yref": "y"
         },
         {
          "font": {
           "color": "white"
          },
          "showarrow": false,
          "text": "51.9 - 436",
          "x": 4,
          "xref": "x",
          "y": 4,
          "yref": "y"
         }
        ],
        "height": 800,
        "template": {
         "data": {
          "bar": [
           {
            "error_x": {
             "color": "#2a3f5f"
            },
            "error_y": {
             "color": "#2a3f5f"
            },
            "marker": {
             "line": {
              "color": "#E5ECF6",
              "width": 0.5
             },
             "pattern": {
              "fillmode": "overlay",
              "size": 10,
              "solidity": 0.2
             }
            },
            "type": "bar"
           }
          ],
          "barpolar": [
           {
            "marker": {
             "line": {
              "color": "#E5ECF6",
              "width": 0.5
             },
             "pattern": {
              "fillmode": "overlay",
              "size": 10,
              "solidity": 0.2
             }
            },
            "type": "barpolar"
           }
          ],
          "carpet": [
           {
            "aaxis": {
             "endlinecolor": "#2a3f5f",
             "gridcolor": "white",
             "linecolor": "white",
             "minorgridcolor": "white",
             "startlinecolor": "#2a3f5f"
            },
            "baxis": {
             "endlinecolor": "#2a3f5f",
             "gridcolor": "white",
             "linecolor": "white",
             "minorgridcolor": "white",
             "startlinecolor": "#2a3f5f"
            },
            "type": "carpet"
           }
          ],
          "choropleth": [
           {
            "colorbar": {
             "outlinewidth": 0,
             "ticks": ""
            },
            "type": "choropleth"
           }
          ],
          "contour": [
           {
            "colorbar": {
             "outlinewidth": 0,
             "ticks": ""
            },
            "colorscale": [
             [
              0,
              "#0d0887"
             ],
             [
              0.1111111111111111,
              "#46039f"
             ],
             [
              0.2222222222222222,
              "#7201a8"
             ],
             [
              0.3333333333333333,
              "#9c179e"
             ],
             [
              0.4444444444444444,
              "#bd3786"
             ],
             [
              0.5555555555555556,
              "#d8576b"
             ],
             [
              0.6666666666666666,
              "#ed7953"
             ],
             [
              0.7777777777777778,
              "#fb9f3a"
             ],
             [
              0.8888888888888888,
              "#fdca26"
             ],
             [
              1,
              "#f0f921"
             ]
            ],
            "type": "contour"
           }
          ],
          "contourcarpet": [
           {
            "colorbar": {
             "outlinewidth": 0,
             "ticks": ""
            },
            "type": "contourcarpet"
           }
          ],
          "heatmap": [
           {
            "colorbar": {
             "outlinewidth": 0,
             "ticks": ""
            },
            "colorscale": [
             [
              0,
              "#0d0887"
             ],
             [
              0.1111111111111111,
              "#46039f"
             ],
             [
              0.2222222222222222,
              "#7201a8"
             ],
             [
              0.3333333333333333,
              "#9c179e"
             ],
             [
              0.4444444444444444,
              "#bd3786"
             ],
             [
              0.5555555555555556,
              "#d8576b"
             ],
             [
              0.6666666666666666,
              "#ed7953"
             ],
             [
              0.7777777777777778,
              "#fb9f3a"
             ],
             [
              0.8888888888888888,
              "#fdca26"
             ],
             [
              1,
              "#f0f921"
             ]
            ],
            "type": "heatmap"
           }
          ],
          "histogram": [
           {
            "marker": {
             "pattern": {
              "fillmode": "overlay",
              "size": 10,
              "solidity": 0.2
             }
            },
            "type": "histogram"
           }
          ],
          "histogram2d": [
           {
            "colorbar": {
             "outlinewidth": 0,
             "ticks": ""
            },
            "colorscale": [
             [
              0,
              "#0d0887"
             ],
             [
              0.1111111111111111,
              "#46039f"
             ],
             [
              0.2222222222222222,
              "#7201a8"
             ],
             [
              0.3333333333333333,
              "#9c179e"
             ],
             [
              0.4444444444444444,
              "#bd3786"
             ],
             [
              0.5555555555555556,
              "#d8576b"
             ],
             [
              0.6666666666666666,
              "#ed7953"
             ],
             [
              0.7777777777777778,
              "#fb9f3a"
             ],
             [
              0.8888888888888888,
              "#fdca26"
             ],
             [
              1,
              "#f0f921"
             ]
            ],
            "type": "histogram2d"
           }
          ],
          "histogram2dcontour": [
           {
            "colorbar": {
             "outlinewidth": 0,
             "ticks": ""
            },
            "colorscale": [
             [
              0,
              "#0d0887"
             ],
             [
              0.1111111111111111,
              "#46039f"
             ],
             [
              0.2222222222222222,
              "#7201a8"
             ],
             [
              0.3333333333333333,
              "#9c179e"
             ],
             [
              0.4444444444444444,
              "#bd3786"
             ],
             [
              0.5555555555555556,
              "#d8576b"
             ],
             [
              0.6666666666666666,
              "#ed7953"
             ],
             [
              0.7777777777777778,
              "#fb9f3a"
             ],
             [
              0.8888888888888888,
              "#fdca26"
             ],
             [
              1,
              "#f0f921"
             ]
            ],
            "type": "histogram2dcontour"
           }
          ],
          "mesh3d": [
           {
            "colorbar": {
             "outlinewidth": 0,
             "ticks": ""
            },
            "type": "mesh3d"
           }
          ],
          "parcoords": [
           {
            "line": {
             "colorbar": {
              "outlinewidth": 0,
              "ticks": ""
             }
            },
            "type": "parcoords"
           }
          ],
          "pie": [
           {
            "automargin": true,
            "type": "pie"
           }
          ],
          "scatter": [
           {
            "fillpattern": {
             "fillmode": "overlay",
             "size": 10,
             "solidity": 0.2
            },
            "type": "scatter"
           }
          ],
          "scatter3d": [
           {
            "line": {
             "colorbar": {
              "outlinewidth": 0,
              "ticks": ""
             }
            },
            "marker": {
             "colorbar": {
              "outlinewidth": 0,
              "ticks": ""
             }
            },
            "type": "scatter3d"
           }
          ],
          "scattercarpet": [
           {
            "marker": {
             "colorbar": {
              "outlinewidth": 0,
              "ticks": ""
             }
            },
            "type": "scattercarpet"
           }
          ],
          "scattergeo": [
           {
            "marker": {
             "colorbar": {
              "outlinewidth": 0,
              "ticks": ""
             }
            },
            "type": "scattergeo"
           }
          ],
          "scattergl": [
           {
            "marker": {
             "colorbar": {
              "outlinewidth": 0,
              "ticks": ""
             }
            },
            "type": "scattergl"
           }
          ],
          "scattermap": [
           {
            "marker": {
             "colorbar": {
              "outlinewidth": 0,
              "ticks": ""
             }
            },
            "type": "scattermap"
           }
          ],
          "scattermapbox": [
           {
            "marker": {
             "colorbar": {
              "outlinewidth": 0,
              "ticks": ""
             }
            },
            "type": "scattermapbox"
           }
          ],
          "scatterpolar": [
           {
            "marker": {
             "colorbar": {
              "outlinewidth": 0,
              "ticks": ""
             }
            },
            "type": "scatterpolar"
           }
          ],
          "scatterpolargl": [
           {
            "marker": {
             "colorbar": {
              "outlinewidth": 0,
              "ticks": ""
             }
            },
            "type": "scatterpolargl"
           }
          ],
          "scatterternary": [
           {
            "marker": {
             "colorbar": {
              "outlinewidth": 0,
              "ticks": ""
             }
            },
            "type": "scatterternary"
           }
          ],
          "surface": [
           {
            "colorbar": {
             "outlinewidth": 0,
             "ticks": ""
            },
            "colorscale": [
             [
              0,
              "#0d0887"
             ],
             [
              0.1111111111111111,
              "#46039f"
             ],
             [
              0.2222222222222222,
              "#7201a8"
             ],
             [
              0.3333333333333333,
              "#9c179e"
             ],
             [
              0.4444444444444444,
              "#bd3786"
             ],
             [
              0.5555555555555556,
              "#d8576b"
             ],
             [
              0.6666666666666666,
              "#ed7953"
             ],
             [
              0.7777777777777778,
              "#fb9f3a"
             ],
             [
              0.8888888888888888,
              "#fdca26"
             ],
             [
              1,
              "#f0f921"
             ]
            ],
            "type": "surface"
           }
          ],
          "table": [
           {
            "cells": {
             "fill": {
              "color": "#EBF0F8"
             },
             "line": {
              "color": "white"
             }
            },
            "header": {
             "fill": {
              "color": "#C8D4E3"
             },
             "line": {
              "color": "white"
             }
            },
            "type": "table"
           }
          ]
         },
         "layout": {
          "annotationdefaults": {
           "arrowcolor": "#2a3f5f",
           "arrowhead": 0,
           "arrowwidth": 1
          },
          "autotypenumbers": "strict",
          "coloraxis": {
           "colorbar": {
            "outlinewidth": 0,
            "ticks": ""
           }
          },
          "colorscale": {
           "diverging": [
            [
             0,
             "#8e0152"
            ],
            [
             0.1,
             "#c51b7d"
            ],
            [
             0.2,
             "#de77ae"
            ],
            [
             0.3,
             "#f1b6da"
            ],
            [
             0.4,
             "#fde0ef"
            ],
            [
             0.5,
             "#f7f7f7"
            ],
            [
             0.6,
             "#e6f5d0"
            ],
            [
             0.7,
             "#b8e186"
            ],
            [
             0.8,
             "#7fbc41"
            ],
            [
             0.9,
             "#4d9221"
            ],
            [
             1,
             "#276419"
            ]
           ],
           "sequential": [
            [
             0,
             "#0d0887"
            ],
            [
             0.1111111111111111,
             "#46039f"
            ],
            [
             0.2222222222222222,
             "#7201a8"
            ],
            [
             0.3333333333333333,
             "#9c179e"
            ],
            [
             0.4444444444444444,
             "#bd3786"
            ],
            [
             0.5555555555555556,
             "#d8576b"
            ],
            [
             0.6666666666666666,
             "#ed7953"
            ],
            [
             0.7777777777777778,
             "#fb9f3a"
            ],
            [
             0.8888888888888888,
             "#fdca26"
            ],
            [
             1,
             "#f0f921"
            ]
           ],
           "sequentialminus": [
            [
             0,
             "#0d0887"
            ],
            [
             0.1111111111111111,
             "#46039f"
            ],
            [
             0.2222222222222222,
             "#7201a8"
            ],
            [
             0.3333333333333333,
             "#9c179e"
            ],
            [
             0.4444444444444444,
             "#bd3786"
            ],
            [
             0.5555555555555556,
             "#d8576b"
            ],
            [
             0.6666666666666666,
             "#ed7953"
            ],
            [
             0.7777777777777778,
             "#fb9f3a"
            ],
            [
             0.8888888888888888,
             "#fdca26"
            ],
            [
             1,
             "#f0f921"
            ]
           ]
          },
          "colorway": [
           "#636efa",
           "#EF553B",
           "#00cc96",
           "#ab63fa",
           "#FFA15A",
           "#19d3f3",
           "#FF6692",
           "#B6E880",
           "#FF97FF",
           "#FECB52"
          ],
          "font": {
           "color": "#2a3f5f"
          },
          "geo": {
           "bgcolor": "white",
           "lakecolor": "white",
           "landcolor": "#E5ECF6",
           "showlakes": true,
           "showland": true,
           "subunitcolor": "white"
          },
          "hoverlabel": {
           "align": "left"
          },
          "hovermode": "closest",
          "mapbox": {
           "style": "light"
          },
          "paper_bgcolor": "white",
          "plot_bgcolor": "#E5ECF6",
          "polar": {
           "angularaxis": {
            "gridcolor": "white",
            "linecolor": "white",
            "ticks": ""
           },
           "bgcolor": "#E5ECF6",
           "radialaxis": {
            "gridcolor": "white",
            "linecolor": "white",
            "ticks": ""
           }
          },
          "scene": {
           "xaxis": {
            "backgroundcolor": "#E5ECF6",
            "gridcolor": "white",
            "gridwidth": 2,
            "linecolor": "white",
            "showbackground": true,
            "ticks": "",
            "zerolinecolor": "white"
           },
           "yaxis": {
            "backgroundcolor": "#E5ECF6",
            "gridcolor": "white",
            "gridwidth": 2,
            "linecolor": "white",
            "showbackground": true,
            "ticks": "",
            "zerolinecolor": "white"
           },
           "zaxis": {
            "backgroundcolor": "#E5ECF6",
            "gridcolor": "white",
            "gridwidth": 2,
            "linecolor": "white",
            "showbackground": true,
            "ticks": "",
            "zerolinecolor": "white"
           }
          },
          "shapedefaults": {
           "line": {
            "color": "#2a3f5f"
           }
          },
          "ternary": {
           "aaxis": {
            "gridcolor": "white",
            "linecolor": "white",
            "ticks": ""
           },
           "baxis": {
            "gridcolor": "white",
            "linecolor": "white",
            "ticks": ""
           },
           "bgcolor": "#E5ECF6",
           "caxis": {
            "gridcolor": "white",
            "linecolor": "white",
            "ticks": ""
           }
          },
          "title": {
           "x": 0.05
          },
          "xaxis": {
           "automargin": true,
           "gridcolor": "white",
           "linecolor": "white",
           "ticks": "",
           "title": {
            "standoff": 15
           },
           "zerolinecolor": "white",
           "zerolinewidth": 2
          },
          "yaxis": {
           "automargin": true,
           "gridcolor": "white",
           "linecolor": "white",
           "ticks": "",
           "title": {
            "standoff": 15
           },
           "zerolinecolor": "white",
           "zerolinewidth": 2
          }
         }
        },
        "title": {
         "text": "Kappa -0.022556766146243357"
        },
        "width": 800,
        "xaxis": {
         "title": {
          "text": "Predicted value"
         }
        },
        "yaxis": {
         "title": {
          "text": "Real value"
         }
        }
       }
      }
     },
     "metadata": {},
     "output_type": "display_data"
    }
   ],
   "source": [
    "\n",
    "#A modo de ejemplo muestro kappa y matriz de confusion para 50% de aciertos donde los errores quedan lejos de la clase correcta\n",
    "y_simulado_lejos = [y_test.iloc[sample] if random_list[sample]<50/100 else y_lejos[sample] for sample in range(len(y_test))]\n",
    "\n",
    "display(plot_confusion_matrix(y_test,y_simulado_lejos, \n",
    "                              title = \"Kappa \" + str(cohen_kappa_score(y_test,y_simulado_lejos, weights = 'quadratic'))))\n"
   ]
  },
  {
   "cell_type": "code",
   "execution_count": 21,
   "metadata": {},
   "outputs": [
    {
     "name": "stdout",
     "output_type": "stream",
     "text": [
      "[LightGBM] [Info] Number of positive: 328, number of negative: 11666\n",
      "[LightGBM] [Info] Number of positive: 2472, number of negative: 9522\n",
      "[LightGBM] [Info] Number of positive: 3230, number of negative: 8764\n",
      "[LightGBM] [Info] Number of positive: 2607, number of negative: 9387\n",
      "[LightGBM] [Info] Number of positive: 3357, number of negative: 8637\n",
      "[LightGBM] [Info] Auto-choosing row-wise multi-threading, the overhead of testing was 0.000547 seconds.\n",
      "You can set `force_row_wise=true` to remove the overhead.\n",
      "And if memory is not enough, you can set `force_col_wise=true`.\n",
      "[LightGBM] [Info] Total Bins 438\n",
      "[LightGBM] [Info] Number of data points in the train set: 11994, number of used features: 19\n",
      "[LightGBM] [Info] [binary:BoostFromScore]: pavg=0.027347 -> initscore=-3.571420\n",
      "[LightGBM] [Info] Start training from score -3.571420\n",
      "[LightGBM] [Info] [binary:BoostFromScore]: pavg=0.206103 -> initscore=-1.348577\n",
      "[LightGBM] [Info] Start training from score -1.348577\n",
      "[LightGBM] [Info] [binary:BoostFromScore]: pavg=0.269301 -> initscore=-0.998170\n",
      "[LightGBM] [Info] Start training from score -0.998170\n",
      "[LightGBM] [Info] [binary:BoostFromScore]: pavg=0.217359 -> initscore=-1.281126\n",
      "[LightGBM] [Info] Start training from score -1.281126\n",
      "[LightGBM] [Info] [binary:BoostFromScore]: pavg=0.279890 -> initscore=-0.945008\n",
      "[LightGBM] [Info] Start training from score -0.945008\n"
     ]
    }
   ],
   "source": [
    "#Pruebo un modelo alternativo donde en vez de usar la version multiclass real de lightGBM utilizo One vs All\n",
    "\n",
    "lgb_params = params = {\n",
    "                        'objective': 'multiclassova',\n",
    "                        'num_class': len(y_train.unique())\n",
    "                        }\n",
    "\n",
    "\n",
    "lgb_train_dataset = lgb.Dataset(data=X_train,\n",
    "                                label=y_train)\n",
    "\n",
    "\n",
    "lgb_model = lgb.train(lgb_params,\n",
    "                      lgb_train_dataset)"
   ]
  },
  {
   "cell_type": "code",
   "execution_count": 22,
   "metadata": {},
   "outputs": [
    {
     "data": {
      "application/vnd.plotly.v1+json": {
       "config": {
        "plotlyServerURL": "https://plot.ly"
       },
       "data": [
        {
         "type": "heatmap",
         "x": {
          "bdata": "AAECAwQ=",
          "dtype": "i1"
         },
         "y": {
          "bdata": "AAECAwQ=",
          "dtype": "i1"
         },
         "z": {
          "bdata": "RO1K1K5EHUCD8zE4H4NDQA3Ox+B8DDxARO1K1K5EHUBL1K5E7UoyQBNIJedlEd8/GmDc3odsQEBcbQxNd7BCQBNIJedlER9A7n3IlmKFNUCZSSgX8bi/P7w5puz6bzVAtPiQcdZEQ0C/U0iECU4mQLOC/HyavzxACMmAeqZy3T/XHS+2BN8wQKdy3fFiy0BA7YNkQD1TM0DLdceLLcE9QJ/neZ7neb4/hmEYhmEYIkCSJEmSJMk1QDEMwzAMwxhA27Zt27ZtT0A=",
          "dtype": "f8",
          "shape": "5, 5"
         }
        }
       ],
       "layout": {
        "annotations": [
         {
          "font": {
           "color": "white"
          },
          "showarrow": false,
          "text": "7.3 - 6",
          "x": 0,
          "xref": "x",
          "y": 0,
          "yref": "y"
         },
         {
          "font": {
           "color": "white"
          },
          "showarrow": false,
          "text": "39.0 - 32",
          "x": 1,
          "xref": "x",
          "y": 0,
          "yref": "y"
         },
         {
          "font": {
           "color": "white"
          },
          "showarrow": false,
          "text": "28.0 - 23",
          "x": 2,
          "xref": "x",
          "y": 0,
          "yref": "y"
         },
         {
          "font": {
           "color": "white"
          },
          "showarrow": false,
          "text": "7.3 - 6",
          "x": 3,
          "xref": "x",
          "y": 0,
          "yref": "y"
         },
         {
          "font": {
           "color": "white"
          },
          "showarrow": false,
          "text": "18.3 - 15",
          "x": 4,
          "xref": "x",
          "y": 0,
          "yref": "y"
         },
         {
          "font": {
           "color": "white"
          },
          "showarrow": false,
          "text": "0.5 - 3",
          "x": 0,
          "xref": "x",
          "y": 1,
          "yref": "y"
         },
         {
          "font": {
           "color": "white"
          },
          "showarrow": false,
          "text": "32.8 - 203",
          "x": 1,
          "xref": "x",
          "y": 1,
          "yref": "y"
         },
         {
          "font": {
           "color": "white"
          },
          "showarrow": false,
          "text": "37.4 - 231",
          "x": 2,
          "xref": "x",
          "y": 1,
          "yref": "y"
         },
         {
          "font": {
           "color": "white"
          },
          "showarrow": false,
          "text": "7.8 - 48",
          "x": 3,
          "xref": "x",
          "y": 1,
          "yref": "y"
         },
         {
          "font": {
           "color": "white"
          },
          "showarrow": false,
          "text": "21.5 - 133",
          "x": 4,
          "xref": "x",
          "y": 1,
          "yref": "y"
         },
         {
          "font": {
           "color": "white"
          },
          "showarrow": false,
          "text": "0.1 - 1",
          "x": 0,
          "xref": "x",
          "y": 2,
          "yref": "y"
         },
         {
          "font": {
           "color": "white"
          },
          "showarrow": false,
          "text": "21.4 - 173",
          "x": 1,
          "xref": "x",
          "y": 2,
          "yref": "y"
         },
         {
          "font": {
           "color": "white"
          },
          "showarrow": false,
          "text": "38.5 - 311",
          "x": 2,
          "xref": "x",
          "y": 2,
          "yref": "y"
         },
         {
          "font": {
           "color": "white"
          },
          "showarrow": false,
          "text": "11.2 - 90",
          "x": 3,
          "xref": "x",
          "y": 2,
          "yref": "y"
         },
         {
          "font": {
           "color": "white"
          },
          "showarrow": false,
          "text": "28.7 - 232",
          "x": 4,
          "xref": "x",
          "y": 2,
          "yref": "y"
         },
         {
          "font": {
           "color": "white"
          },
          "showarrow": false,
          "text": "0.5 - 3",
          "x": 0,
          "xref": "x",
          "y": 3,
          "yref": "y"
         },
         {
          "font": {
           "color": "white"
          },
          "showarrow": false,
          "text": "16.9 - 110",
          "x": 1,
          "xref": "x",
          "y": 3,
          "yref": "y"
         },
         {
          "font": {
           "color": "white"
          },
          "showarrow": false,
          "text": "33.6 - 219",
          "x": 2,
          "xref": "x",
          "y": 3,
          "yref": "y"
         },
         {
          "font": {
           "color": "white"
          },
          "showarrow": false,
          "text": "19.3 - 126",
          "x": 3,
          "xref": "x",
          "y": 3,
          "yref": "y"
         },
         {
          "font": {
           "color": "white"
          },
          "showarrow": false,
          "text": "29.8 - 194",
          "x": 4,
          "xref": "x",
          "y": 3,
          "yref": "y"
         },
         {
          "font": {
           "color": "white"
          },
          "showarrow": false,
          "text": "0.1 - 1",
          "x": 0,
          "xref": "x",
          "y": 4,
          "yref": "y"
         },
         {
          "font": {
           "color": "white"
          },
          "showarrow": false,
          "text": "9.0 - 76",
          "x": 1,
          "xref": "x",
          "y": 4,
          "yref": "y"
         },
         {
          "font": {
           "color": "white"
          },
          "showarrow": false,
          "text": "21.8 - 183",
          "x": 2,
          "xref": "x",
          "y": 4,
          "yref": "y"
         },
         {
          "font": {
           "color": "white"
          },
          "showarrow": false,
          "text": "6.2 - 52",
          "x": 3,
          "xref": "x",
          "y": 4,
          "yref": "y"
         },
         {
          "font": {
           "color": "white"
          },
          "showarrow": false,
          "text": "62.9 - 528",
          "x": 4,
          "xref": "x",
          "y": 4,
          "yref": "y"
         }
        ],
        "height": 800,
        "template": {
         "data": {
          "bar": [
           {
            "error_x": {
             "color": "#2a3f5f"
            },
            "error_y": {
             "color": "#2a3f5f"
            },
            "marker": {
             "line": {
              "color": "#E5ECF6",
              "width": 0.5
             },
             "pattern": {
              "fillmode": "overlay",
              "size": 10,
              "solidity": 0.2
             }
            },
            "type": "bar"
           }
          ],
          "barpolar": [
           {
            "marker": {
             "line": {
              "color": "#E5ECF6",
              "width": 0.5
             },
             "pattern": {
              "fillmode": "overlay",
              "size": 10,
              "solidity": 0.2
             }
            },
            "type": "barpolar"
           }
          ],
          "carpet": [
           {
            "aaxis": {
             "endlinecolor": "#2a3f5f",
             "gridcolor": "white",
             "linecolor": "white",
             "minorgridcolor": "white",
             "startlinecolor": "#2a3f5f"
            },
            "baxis": {
             "endlinecolor": "#2a3f5f",
             "gridcolor": "white",
             "linecolor": "white",
             "minorgridcolor": "white",
             "startlinecolor": "#2a3f5f"
            },
            "type": "carpet"
           }
          ],
          "choropleth": [
           {
            "colorbar": {
             "outlinewidth": 0,
             "ticks": ""
            },
            "type": "choropleth"
           }
          ],
          "contour": [
           {
            "colorbar": {
             "outlinewidth": 0,
             "ticks": ""
            },
            "colorscale": [
             [
              0,
              "#0d0887"
             ],
             [
              0.1111111111111111,
              "#46039f"
             ],
             [
              0.2222222222222222,
              "#7201a8"
             ],
             [
              0.3333333333333333,
              "#9c179e"
             ],
             [
              0.4444444444444444,
              "#bd3786"
             ],
             [
              0.5555555555555556,
              "#d8576b"
             ],
             [
              0.6666666666666666,
              "#ed7953"
             ],
             [
              0.7777777777777778,
              "#fb9f3a"
             ],
             [
              0.8888888888888888,
              "#fdca26"
             ],
             [
              1,
              "#f0f921"
             ]
            ],
            "type": "contour"
           }
          ],
          "contourcarpet": [
           {
            "colorbar": {
             "outlinewidth": 0,
             "ticks": ""
            },
            "type": "contourcarpet"
           }
          ],
          "heatmap": [
           {
            "colorbar": {
             "outlinewidth": 0,
             "ticks": ""
            },
            "colorscale": [
             [
              0,
              "#0d0887"
             ],
             [
              0.1111111111111111,
              "#46039f"
             ],
             [
              0.2222222222222222,
              "#7201a8"
             ],
             [
              0.3333333333333333,
              "#9c179e"
             ],
             [
              0.4444444444444444,
              "#bd3786"
             ],
             [
              0.5555555555555556,
              "#d8576b"
             ],
             [
              0.6666666666666666,
              "#ed7953"
             ],
             [
              0.7777777777777778,
              "#fb9f3a"
             ],
             [
              0.8888888888888888,
              "#fdca26"
             ],
             [
              1,
              "#f0f921"
             ]
            ],
            "type": "heatmap"
           }
          ],
          "histogram": [
           {
            "marker": {
             "pattern": {
              "fillmode": "overlay",
              "size": 10,
              "solidity": 0.2
             }
            },
            "type": "histogram"
           }
          ],
          "histogram2d": [
           {
            "colorbar": {
             "outlinewidth": 0,
             "ticks": ""
            },
            "colorscale": [
             [
              0,
              "#0d0887"
             ],
             [
              0.1111111111111111,
              "#46039f"
             ],
             [
              0.2222222222222222,
              "#7201a8"
             ],
             [
              0.3333333333333333,
              "#9c179e"
             ],
             [
              0.4444444444444444,
              "#bd3786"
             ],
             [
              0.5555555555555556,
              "#d8576b"
             ],
             [
              0.6666666666666666,
              "#ed7953"
             ],
             [
              0.7777777777777778,
              "#fb9f3a"
             ],
             [
              0.8888888888888888,
              "#fdca26"
             ],
             [
              1,
              "#f0f921"
             ]
            ],
            "type": "histogram2d"
           }
          ],
          "histogram2dcontour": [
           {
            "colorbar": {
             "outlinewidth": 0,
             "ticks": ""
            },
            "colorscale": [
             [
              0,
              "#0d0887"
             ],
             [
              0.1111111111111111,
              "#46039f"
             ],
             [
              0.2222222222222222,
              "#7201a8"
             ],
             [
              0.3333333333333333,
              "#9c179e"
             ],
             [
              0.4444444444444444,
              "#bd3786"
             ],
             [
              0.5555555555555556,
              "#d8576b"
             ],
             [
              0.6666666666666666,
              "#ed7953"
             ],
             [
              0.7777777777777778,
              "#fb9f3a"
             ],
             [
              0.8888888888888888,
              "#fdca26"
             ],
             [
              1,
              "#f0f921"
             ]
            ],
            "type": "histogram2dcontour"
           }
          ],
          "mesh3d": [
           {
            "colorbar": {
             "outlinewidth": 0,
             "ticks": ""
            },
            "type": "mesh3d"
           }
          ],
          "parcoords": [
           {
            "line": {
             "colorbar": {
              "outlinewidth": 0,
              "ticks": ""
             }
            },
            "type": "parcoords"
           }
          ],
          "pie": [
           {
            "automargin": true,
            "type": "pie"
           }
          ],
          "scatter": [
           {
            "fillpattern": {
             "fillmode": "overlay",
             "size": 10,
             "solidity": 0.2
            },
            "type": "scatter"
           }
          ],
          "scatter3d": [
           {
            "line": {
             "colorbar": {
              "outlinewidth": 0,
              "ticks": ""
             }
            },
            "marker": {
             "colorbar": {
              "outlinewidth": 0,
              "ticks": ""
             }
            },
            "type": "scatter3d"
           }
          ],
          "scattercarpet": [
           {
            "marker": {
             "colorbar": {
              "outlinewidth": 0,
              "ticks": ""
             }
            },
            "type": "scattercarpet"
           }
          ],
          "scattergeo": [
           {
            "marker": {
             "colorbar": {
              "outlinewidth": 0,
              "ticks": ""
             }
            },
            "type": "scattergeo"
           }
          ],
          "scattergl": [
           {
            "marker": {
             "colorbar": {
              "outlinewidth": 0,
              "ticks": ""
             }
            },
            "type": "scattergl"
           }
          ],
          "scattermap": [
           {
            "marker": {
             "colorbar": {
              "outlinewidth": 0,
              "ticks": ""
             }
            },
            "type": "scattermap"
           }
          ],
          "scattermapbox": [
           {
            "marker": {
             "colorbar": {
              "outlinewidth": 0,
              "ticks": ""
             }
            },
            "type": "scattermapbox"
           }
          ],
          "scatterpolar": [
           {
            "marker": {
             "colorbar": {
              "outlinewidth": 0,
              "ticks": ""
             }
            },
            "type": "scatterpolar"
           }
          ],
          "scatterpolargl": [
           {
            "marker": {
             "colorbar": {
              "outlinewidth": 0,
              "ticks": ""
             }
            },
            "type": "scatterpolargl"
           }
          ],
          "scatterternary": [
           {
            "marker": {
             "colorbar": {
              "outlinewidth": 0,
              "ticks": ""
             }
            },
            "type": "scatterternary"
           }
          ],
          "surface": [
           {
            "colorbar": {
             "outlinewidth": 0,
             "ticks": ""
            },
            "colorscale": [
             [
              0,
              "#0d0887"
             ],
             [
              0.1111111111111111,
              "#46039f"
             ],
             [
              0.2222222222222222,
              "#7201a8"
             ],
             [
              0.3333333333333333,
              "#9c179e"
             ],
             [
              0.4444444444444444,
              "#bd3786"
             ],
             [
              0.5555555555555556,
              "#d8576b"
             ],
             [
              0.6666666666666666,
              "#ed7953"
             ],
             [
              0.7777777777777778,
              "#fb9f3a"
             ],
             [
              0.8888888888888888,
              "#fdca26"
             ],
             [
              1,
              "#f0f921"
             ]
            ],
            "type": "surface"
           }
          ],
          "table": [
           {
            "cells": {
             "fill": {
              "color": "#EBF0F8"
             },
             "line": {
              "color": "white"
             }
            },
            "header": {
             "fill": {
              "color": "#C8D4E3"
             },
             "line": {
              "color": "white"
             }
            },
            "type": "table"
           }
          ]
         },
         "layout": {
          "annotationdefaults": {
           "arrowcolor": "#2a3f5f",
           "arrowhead": 0,
           "arrowwidth": 1
          },
          "autotypenumbers": "strict",
          "coloraxis": {
           "colorbar": {
            "outlinewidth": 0,
            "ticks": ""
           }
          },
          "colorscale": {
           "diverging": [
            [
             0,
             "#8e0152"
            ],
            [
             0.1,
             "#c51b7d"
            ],
            [
             0.2,
             "#de77ae"
            ],
            [
             0.3,
             "#f1b6da"
            ],
            [
             0.4,
             "#fde0ef"
            ],
            [
             0.5,
             "#f7f7f7"
            ],
            [
             0.6,
             "#e6f5d0"
            ],
            [
             0.7,
             "#b8e186"
            ],
            [
             0.8,
             "#7fbc41"
            ],
            [
             0.9,
             "#4d9221"
            ],
            [
             1,
             "#276419"
            ]
           ],
           "sequential": [
            [
             0,
             "#0d0887"
            ],
            [
             0.1111111111111111,
             "#46039f"
            ],
            [
             0.2222222222222222,
             "#7201a8"
            ],
            [
             0.3333333333333333,
             "#9c179e"
            ],
            [
             0.4444444444444444,
             "#bd3786"
            ],
            [
             0.5555555555555556,
             "#d8576b"
            ],
            [
             0.6666666666666666,
             "#ed7953"
            ],
            [
             0.7777777777777778,
             "#fb9f3a"
            ],
            [
             0.8888888888888888,
             "#fdca26"
            ],
            [
             1,
             "#f0f921"
            ]
           ],
           "sequentialminus": [
            [
             0,
             "#0d0887"
            ],
            [
             0.1111111111111111,
             "#46039f"
            ],
            [
             0.2222222222222222,
             "#7201a8"
            ],
            [
             0.3333333333333333,
             "#9c179e"
            ],
            [
             0.4444444444444444,
             "#bd3786"
            ],
            [
             0.5555555555555556,
             "#d8576b"
            ],
            [
             0.6666666666666666,
             "#ed7953"
            ],
            [
             0.7777777777777778,
             "#fb9f3a"
            ],
            [
             0.8888888888888888,
             "#fdca26"
            ],
            [
             1,
             "#f0f921"
            ]
           ]
          },
          "colorway": [
           "#636efa",
           "#EF553B",
           "#00cc96",
           "#ab63fa",
           "#FFA15A",
           "#19d3f3",
           "#FF6692",
           "#B6E880",
           "#FF97FF",
           "#FECB52"
          ],
          "font": {
           "color": "#2a3f5f"
          },
          "geo": {
           "bgcolor": "white",
           "lakecolor": "white",
           "landcolor": "#E5ECF6",
           "showlakes": true,
           "showland": true,
           "subunitcolor": "white"
          },
          "hoverlabel": {
           "align": "left"
          },
          "hovermode": "closest",
          "mapbox": {
           "style": "light"
          },
          "paper_bgcolor": "white",
          "plot_bgcolor": "#E5ECF6",
          "polar": {
           "angularaxis": {
            "gridcolor": "white",
            "linecolor": "white",
            "ticks": ""
           },
           "bgcolor": "#E5ECF6",
           "radialaxis": {
            "gridcolor": "white",
            "linecolor": "white",
            "ticks": ""
           }
          },
          "scene": {
           "xaxis": {
            "backgroundcolor": "#E5ECF6",
            "gridcolor": "white",
            "gridwidth": 2,
            "linecolor": "white",
            "showbackground": true,
            "ticks": "",
            "zerolinecolor": "white"
           },
           "yaxis": {
            "backgroundcolor": "#E5ECF6",
            "gridcolor": "white",
            "gridwidth": 2,
            "linecolor": "white",
            "showbackground": true,
            "ticks": "",
            "zerolinecolor": "white"
           },
           "zaxis": {
            "backgroundcolor": "#E5ECF6",
            "gridcolor": "white",
            "gridwidth": 2,
            "linecolor": "white",
            "showbackground": true,
            "ticks": "",
            "zerolinecolor": "white"
           }
          },
          "shapedefaults": {
           "line": {
            "color": "#2a3f5f"
           }
          },
          "ternary": {
           "aaxis": {
            "gridcolor": "white",
            "linecolor": "white",
            "ticks": ""
           },
           "baxis": {
            "gridcolor": "white",
            "linecolor": "white",
            "ticks": ""
           },
           "bgcolor": "#E5ECF6",
           "caxis": {
            "gridcolor": "white",
            "linecolor": "white",
            "ticks": ""
           }
          },
          "title": {
           "x": 0.05
          },
          "xaxis": {
           "automargin": true,
           "gridcolor": "white",
           "linecolor": "white",
           "ticks": "",
           "title": {
            "standoff": 15
           },
           "zerolinecolor": "white",
           "zerolinewidth": 2
          },
          "yaxis": {
           "automargin": true,
           "gridcolor": "white",
           "linecolor": "white",
           "ticks": "",
           "title": {
            "standoff": 15
           },
           "zerolinecolor": "white",
           "zerolinewidth": 2
          }
         }
        },
        "title": {
         "text": "Conf Matrix"
        },
        "width": 800,
        "xaxis": {
         "title": {
          "text": "Predicted value"
         }
        },
        "yaxis": {
         "title": {
          "text": "Real value"
         }
        }
       }
      }
     },
     "metadata": {},
     "output_type": "display_data"
    },
    {
     "data": {
      "text/plain": [
       "{'kappa': np.float64(0.33093403829656054),\n",
       " 'accuracy': 0.3914638212737579,\n",
       " 'balanced_accuracy': np.float64(0.32177012028422647)}"
      ]
     },
     "execution_count": 22,
     "metadata": {},
     "output_type": "execute_result"
    }
   ],
   "source": [
    "#MAtriz de confusion y Kappa dfe OVA\n",
    "y_pred = lgb_model.predict(X_test).argmax(axis=1)\n",
    "\n",
    "display(plot_confusion_matrix(y_test,y_pred))\n",
    "\n",
    "{'kappa':cohen_kappa_score(y_test,\n",
    "                y_pred,\n",
    "                weights = 'quadratic'),\n",
    " 'accuracy':accuracy_score(y_test,y_pred),\n",
    " 'balanced_accuracy':balanced_accuracy_score(y_test,y_pred)}\n",
    "\n",
    "\n"
   ]
  },
  {
   "cell_type": "markdown",
   "metadata": {},
   "source": [
    "## Optimizacion de hiperparametros modelo train/test"
   ]
  },
  {
   "cell_type": "code",
   "execution_count": 23,
   "metadata": {},
   "outputs": [],
   "source": [
    "\n",
    "#Funcion que vamos a optimizar. Optuna requiere que usemos el objeto trial para generar los parametros a optimizar\n",
    "def lgb_objective(trial):\n",
    "    #PArametros para LightGBM\n",
    "    lgb_params = {      \n",
    "                        #PArametros fijos\n",
    "                        'objective': 'multiclass',\n",
    "                        'verbosity':-1,\n",
    "                        'num_class': len(y_train.unique()),\n",
    "                        #Hiperparametros a optimizar utilizando suggest_float o suggest_int segun el tipo de dato\n",
    "                        #Se indica el nombre del parametro, valor minimo, valor maximo \n",
    "                        #en elgunos casos el parametro log=True para parametros que requieren buscar en esa escala\n",
    "                        'lambda_l1': trial.suggest_float('lambda_l1', 1e-8, 10.0, log=True),\n",
    "                        'lambda_l2': trial.suggest_float('lambda_l2', 1e-8, 10.0, log=True),\n",
    "                        'num_leaves': trial.suggest_int('num_leaves', 2, 256),\n",
    "                        'feature_fraction': trial.suggest_float('feature_fraction', 0.4, 1.0),\n",
    "                        'bagging_fraction': trial.suggest_float('bagging_fraction', 0.4, 1.0),\n",
    "                        'bagging_freq': trial.suggest_int('bagging_freq', 1, 7),\n",
    "                        'min_child_samples': trial.suggest_int('min_child_samples', 5, 100),\n",
    "                        } \n",
    "\n",
    "    #Genero objeto dataset de entrenamiento\n",
    "    lgb_train_dataset = lgb.Dataset(data=X_train,\n",
    "                                    label=y_train)\n",
    "\n",
    "    #ajuste de modelo\n",
    "    lgb_model = lgb.train(lgb_params,\n",
    "                        lgb_train_dataset)\n",
    "    \n",
    "    #Devuelvo el score en test\n",
    "    return(cohen_kappa_score(y_test,lgb_model.predict(X_test).argmax(axis=1),\n",
    "                             weights = 'quadratic'))"
   ]
  },
  {
   "cell_type": "code",
   "execution_count": 24,
   "metadata": {},
   "outputs": [
    {
     "name": "stderr",
     "output_type": "stream",
     "text": [
      "[I 2025-04-29 20:23:07,404] A new study created in RDB with name: 10 - LGB Multiclass\n",
      "[I 2025-04-29 20:23:08,694] Trial 0 finished with value: 0.31246504311278467 and parameters: {'lambda_l1': 2.311564242878441e-07, 'lambda_l2': 2.2303806855787034, 'num_leaves': 124, 'feature_fraction': 0.7457953223099134, 'bagging_fraction': 0.700977938037358, 'bagging_freq': 6, 'min_child_samples': 35}. Best is trial 0 with value: 0.31246504311278467.\n",
      "[I 2025-04-29 20:23:09,545] Trial 1 finished with value: 0.31447227049517223 and parameters: {'lambda_l1': 9.98376491949836e-07, 'lambda_l2': 3.8305240682762044e-05, 'num_leaves': 192, 'feature_fraction': 0.6313091084329303, 'bagging_fraction': 0.5167276269413605, 'bagging_freq': 3, 'min_child_samples': 68}. Best is trial 1 with value: 0.31447227049517223.\n",
      "[I 2025-04-29 20:23:10,268] Trial 2 finished with value: 0.31455806062657254 and parameters: {'lambda_l1': 0.01132891871684274, 'lambda_l2': 0.14282386339380482, 'num_leaves': 50, 'feature_fraction': 0.7344429147849485, 'bagging_fraction': 0.7769624050152586, 'bagging_freq': 7, 'min_child_samples': 96}. Best is trial 2 with value: 0.31455806062657254.\n",
      "[I 2025-04-29 20:23:11,011] Trial 3 finished with value: 0.3206497933763697 and parameters: {'lambda_l1': 6.0782501222918064e-05, 'lambda_l2': 1.1427027775301579e-08, 'num_leaves': 65, 'feature_fraction': 0.8297277588784089, 'bagging_fraction': 0.7594434351343982, 'bagging_freq': 7, 'min_child_samples': 23}. Best is trial 3 with value: 0.3206497933763697.\n",
      "[I 2025-04-29 20:23:11,937] Trial 4 finished with value: 0.32600160619691587 and parameters: {'lambda_l1': 1.9386946171731398, 'lambda_l2': 1.5974182452784152e-06, 'num_leaves': 222, 'feature_fraction': 0.6152629235349195, 'bagging_fraction': 0.5979282764243048, 'bagging_freq': 4, 'min_child_samples': 23}. Best is trial 4 with value: 0.32600160619691587.\n",
      "[I 2025-04-29 20:23:12,999] Trial 5 finished with value: 0.31865616651534723 and parameters: {'lambda_l1': 1.5453245410832777, 'lambda_l2': 0.0001624375522076844, 'num_leaves': 161, 'feature_fraction': 0.6822252628152452, 'bagging_fraction': 0.5458471090392799, 'bagging_freq': 2, 'min_child_samples': 19}. Best is trial 4 with value: 0.32600160619691587.\n",
      "[I 2025-04-29 20:23:13,836] Trial 6 finished with value: 0.31233402538459043 and parameters: {'lambda_l1': 1.0572865199249722e-08, 'lambda_l2': 0.0023454974451880776, 'num_leaves': 95, 'feature_fraction': 0.4548125145009597, 'bagging_fraction': 0.9135501183761305, 'bagging_freq': 1, 'min_child_samples': 98}. Best is trial 4 with value: 0.32600160619691587.\n",
      "[I 2025-04-29 20:23:14,433] Trial 7 finished with value: 0.3153481582197314 and parameters: {'lambda_l1': 2.9700510917321927e-08, 'lambda_l2': 3.2752348030473133e-06, 'num_leaves': 50, 'feature_fraction': 0.6658076721995401, 'bagging_fraction': 0.6092357996617552, 'bagging_freq': 2, 'min_child_samples': 13}. Best is trial 4 with value: 0.32600160619691587.\n",
      "[I 2025-04-29 20:23:15,842] Trial 8 finished with value: 0.30016243792060904 and parameters: {'lambda_l1': 0.014791420165495093, 'lambda_l2': 6.292357565080377e-06, 'num_leaves': 137, 'feature_fraction': 0.6780073719464426, 'bagging_fraction': 0.8591082006336668, 'bagging_freq': 4, 'min_child_samples': 17}. Best is trial 4 with value: 0.32600160619691587.\n",
      "[I 2025-04-29 20:23:17,063] Trial 9 finished with value: 0.3004252771719639 and parameters: {'lambda_l1': 0.00012260151813535918, 'lambda_l2': 0.003974005057270641, 'num_leaves': 128, 'feature_fraction': 0.5397637280183911, 'bagging_fraction': 0.4737113515053622, 'bagging_freq': 3, 'min_child_samples': 29}. Best is trial 4 with value: 0.32600160619691587.\n",
      "[I 2025-04-29 20:23:17,738] Trial 10 finished with value: 0.31223476616707646 and parameters: {'lambda_l1': 1.2164860015691517, 'lambda_l2': 3.569034572807294e-08, 'num_leaves': 250, 'feature_fraction': 0.9877433984341467, 'bagging_fraction': 0.4202791031687403, 'bagging_freq': 5, 'min_child_samples': 50}. Best is trial 4 with value: 0.32600160619691587.\n",
      "[I 2025-04-29 20:23:17,909] Trial 11 finished with value: 0.27480064383625225 and parameters: {'lambda_l1': 3.714625329146682e-05, 'lambda_l2': 1.0712696677838796e-08, 'num_leaves': 2, 'feature_fraction': 0.8696554981276254, 'bagging_fraction': 0.6614653381273514, 'bagging_freq': 5, 'min_child_samples': 45}. Best is trial 4 with value: 0.32600160619691587.\n",
      "[I 2025-04-29 20:23:20,063] Trial 12 finished with value: 0.2935753447140006 and parameters: {'lambda_l1': 0.007865075257136702, 'lambda_l2': 2.9192104232474116e-07, 'num_leaves': 251, 'feature_fraction': 0.8564126489882191, 'bagging_fraction': 0.7902170821012253, 'bagging_freq': 7, 'min_child_samples': 6}. Best is trial 4 with value: 0.32600160619691587.\n",
      "[I 2025-04-29 20:23:21,429] Trial 13 finished with value: 0.2981130784834589 and parameters: {'lambda_l1': 1.21945269392823e-05, 'lambda_l2': 9.146665434226261e-07, 'num_leaves': 194, 'feature_fraction': 0.8194901310399666, 'bagging_fraction': 0.9771399882777003, 'bagging_freq': 5, 'min_child_samples': 73}. Best is trial 4 with value: 0.32600160619691587.\n",
      "[I 2025-04-29 20:23:21,849] Trial 14 finished with value: 0.3053256403998639 and parameters: {'lambda_l1': 9.101666431560709, 'lambda_l2': 9.548523936511387e-08, 'num_leaves': 66, 'feature_fraction': 0.5584879679627065, 'bagging_fraction': 0.7125639329734126, 'bagging_freq': 4, 'min_child_samples': 33}. Best is trial 4 with value: 0.32600160619691587.\n",
      "[I 2025-04-29 20:23:22,059] Trial 15 finished with value: 0.3133142993304363 and parameters: {'lambda_l1': 0.0014494320300320275, 'lambda_l2': 1.229045691381612e-08, 'num_leaves': 4, 'feature_fraction': 0.9849538142078182, 'bagging_fraction': 0.5929666280777228, 'bagging_freq': 6, 'min_child_samples': 64}. Best is trial 4 with value: 0.32600160619691587.\n",
      "[I 2025-04-29 20:23:23,438] Trial 16 finished with value: 0.3177765751827355 and parameters: {'lambda_l1': 0.17862370130787789, 'lambda_l2': 3.9083051598211774e-07, 'num_leaves': 208, 'feature_fraction': 0.4248181502317091, 'bagging_fraction': 0.7632818935439281, 'bagging_freq': 6, 'min_child_samples': 25}. Best is trial 4 with value: 0.32600160619691587.\n",
      "[I 2025-04-29 20:23:24,277] Trial 17 finished with value: 0.29790891850526213 and parameters: {'lambda_l1': 8.201383298834251e-06, 'lambda_l2': 1.4796342010307492e-05, 'num_leaves': 77, 'feature_fraction': 0.7961698371454018, 'bagging_fraction': 0.6371509974742683, 'bagging_freq': 3, 'min_child_samples': 41}. Best is trial 4 with value: 0.32600160619691587.\n",
      "[I 2025-04-29 20:23:25,314] Trial 18 finished with value: 0.3146263338665257 and parameters: {'lambda_l1': 0.0004611491496140877, 'lambda_l2': 9.060124367795474e-07, 'num_leaves': 100, 'feature_fraction': 0.9125966676645707, 'bagging_fraction': 0.8472546677388393, 'bagging_freq': 4, 'min_child_samples': 56}. Best is trial 4 with value: 0.32600160619691587.\n",
      "[I 2025-04-29 20:23:26,944] Trial 19 finished with value: 0.3089364135962379 and parameters: {'lambda_l1': 0.06200819671376266, 'lambda_l2': 0.0008174395830567771, 'num_leaves': 169, 'feature_fraction': 0.5827964212880196, 'bagging_fraction': 0.5466080816904788, 'bagging_freq': 7, 'min_child_samples': 12}. Best is trial 4 with value: 0.32600160619691587.\n",
      "[I 2025-04-29 20:23:28,951] Trial 20 finished with value: 0.3214323026365714 and parameters: {'lambda_l1': 1.9890879348074958e-06, 'lambda_l2': 7.798647069149222e-05, 'num_leaves': 225, 'feature_fraction': 0.49751065716452825, 'bagging_fraction': 0.7229454812185422, 'bagging_freq': 5, 'min_child_samples': 5}. Best is trial 4 with value: 0.32600160619691587.\n",
      "[I 2025-04-29 20:23:30,863] Trial 21 finished with value: 0.30654893261947935 and parameters: {'lambda_l1': 2.29548617887112e-06, 'lambda_l2': 0.00018681036151232193, 'num_leaves': 225, 'feature_fraction': 0.49327808007868923, 'bagging_fraction': 0.7306712395980474, 'bagging_freq': 5, 'min_child_samples': 5}. Best is trial 4 with value: 0.32600160619691587.\n",
      "[I 2025-04-29 20:23:32,622] Trial 22 finished with value: 0.2994785423729238 and parameters: {'lambda_l1': 0.00013495417350921674, 'lambda_l2': 0.013596698131200397, 'num_leaves': 223, 'feature_fraction': 0.6049101857896605, 'bagging_fraction': 0.6573292226379983, 'bagging_freq': 6, 'min_child_samples': 26}. Best is trial 4 with value: 0.32600160619691587.\n",
      "[I 2025-04-29 20:23:34,088] Trial 23 finished with value: 0.304622369804354 and parameters: {'lambda_l1': 4.101528249730697e-07, 'lambda_l2': 2.0515202176908993e-05, 'num_leaves': 165, 'feature_fraction': 0.5069225615762142, 'bagging_fraction': 0.8380723011162943, 'bagging_freq': 4, 'min_child_samples': 23}. Best is trial 4 with value: 0.32600160619691587.\n",
      "[I 2025-04-29 20:23:36,273] Trial 24 finished with value: 0.29328464067066085 and parameters: {'lambda_l1': 0.0011043458233908517, 'lambda_l2': 1.0781057587287872e-07, 'num_leaves': 228, 'feature_fraction': 0.7404364611078382, 'bagging_fraction': 0.5923872409010992, 'bagging_freq': 5, 'min_child_samples': 11}. Best is trial 4 with value: 0.32600160619691587.\n",
      "[I 2025-04-29 20:23:36,790] Trial 25 finished with value: 0.318727687641974 and parameters: {'lambda_l1': 8.497768676916384e-08, 'lambda_l2': 1.8828171621639936e-06, 'num_leaves': 28, 'feature_fraction': 0.476699854161168, 'bagging_fraction': 0.743267962875513, 'bagging_freq': 7, 'min_child_samples': 85}. Best is trial 4 with value: 0.32600160619691587.\n",
      "[I 2025-04-29 20:23:38,149] Trial 26 finished with value: 0.30780419239261503 and parameters: {'lambda_l1': 5.988155541982274e-06, 'lambda_l2': 6.864781030949342e-05, 'num_leaves': 187, 'feature_fraction': 0.40801115061527987, 'bagging_fraction': 0.6822121955445417, 'bagging_freq': 6, 'min_child_samples': 39}. Best is trial 4 with value: 0.32600160619691587.\n",
      "[I 2025-04-29 20:23:39,563] Trial 27 finished with value: 0.30745144711047945 and parameters: {'lambda_l1': 3.920300000740674e-05, 'lambda_l2': 5.660100754725466e-08, 'num_leaves': 152, 'feature_fraction': 0.6248290298836527, 'bagging_fraction': 0.8881351606238423, 'bagging_freq': 4, 'min_child_samples': 19}. Best is trial 4 with value: 0.32600160619691587.\n",
      "[I 2025-04-29 20:23:40,558] Trial 28 finished with value: 0.300841622059849 and parameters: {'lambda_l1': 1.7129600054491039e-06, 'lambda_l2': 0.05796764994367442, 'num_leaves': 100, 'feature_fraction': 0.7839167525549515, 'bagging_fraction': 0.6274750040982109, 'bagging_freq': 3, 'min_child_samples': 33}. Best is trial 4 with value: 0.32600160619691587.\n",
      "[I 2025-04-29 20:23:41,701] Trial 29 finished with value: 0.3276765067677736 and parameters: {'lambda_l1': 2.386027524203527e-07, 'lambda_l2': 9.709639583249914e-06, 'num_leaves': 113, 'feature_fraction': 0.5314710750741863, 'bagging_fraction': 0.8042149682893383, 'bagging_freq': 6, 'min_child_samples': 5}. Best is trial 29 with value: 0.3276765067677736.\n",
      "[I 2025-04-29 20:23:43,032] Trial 30 finished with value: 0.3188144701039404 and parameters: {'lambda_l1': 1.695725502774232e-07, 'lambda_l2': 6.003134510203818e-06, 'num_leaves': 120, 'feature_fraction': 0.5395741198673177, 'bagging_fraction': 0.9756094562823623, 'bagging_freq': 6, 'min_child_samples': 5}. Best is trial 29 with value: 0.3276765067677736.\n",
      "[I 2025-04-29 20:23:44,243] Trial 31 finished with value: 0.31417118540820466 and parameters: {'lambda_l1': 4.7134820394007405e-07, 'lambda_l2': 3.5374011390182587, 'num_leaves': 115, 'feature_fraction': 0.5183487886599386, 'bagging_fraction': 0.8074976683930919, 'bagging_freq': 6, 'min_child_samples': 14}. Best is trial 29 with value: 0.3276765067677736.\n",
      "[I 2025-04-29 20:23:45,618] Trial 32 finished with value: 0.311160919256659 and parameters: {'lambda_l1': 6.96388400430111e-08, 'lambda_l2': 0.0005195020960023435, 'num_leaves': 142, 'feature_fraction': 0.5773429092761093, 'bagging_fraction': 0.7012012009759782, 'bagging_freq': 7, 'min_child_samples': 21}. Best is trial 29 with value: 0.3276765067677736.\n",
      "[I 2025-04-29 20:23:46,390] Trial 33 finished with value: 0.32320829109187144 and parameters: {'lambda_l1': 2.9815609678143225e-05, 'lambda_l2': 5.105909674531108e-05, 'num_leaves': 70, 'feature_fraction': 0.6392235552738601, 'bagging_fraction': 0.7946087927258431, 'bagging_freq': 5, 'min_child_samples': 10}. Best is trial 29 with value: 0.3276765067677736.\n",
      "[I 2025-04-29 20:23:48,064] Trial 34 finished with value: 0.29562570750066675 and parameters: {'lambda_l1': 1.9855734275054508e-06, 'lambda_l2': 4.487542187081106e-05, 'num_leaves': 182, 'feature_fraction': 0.6479377701431188, 'bagging_fraction': 0.8192899983630763, 'bagging_freq': 5, 'min_child_samples': 10}. Best is trial 29 with value: 0.3276765067677736.\n",
      "[I 2025-04-29 20:23:48,922] Trial 35 finished with value: 0.32569257040897526 and parameters: {'lambda_l1': 1.8552423247586096e-05, 'lambda_l2': 4.9714859186676685e-05, 'num_leaves': 83, 'feature_fraction': 0.7224788247825212, 'bagging_fraction': 0.7811214920046073, 'bagging_freq': 5, 'min_child_samples': 7}. Best is trial 29 with value: 0.3276765067677736.\n",
      "[I 2025-04-29 20:23:49,774] Trial 36 finished with value: 0.33348765892768495 and parameters: {'lambda_l1': 0.003563649428875379, 'lambda_l2': 1.1253040798191835e-05, 'num_leaves': 81, 'feature_fraction': 0.7153698498851806, 'bagging_fraction': 0.8921661309672427, 'bagging_freq': 5, 'min_child_samples': 16}. Best is trial 36 with value: 0.33348765892768495.\n",
      "[I 2025-04-29 20:23:50,616] Trial 37 finished with value: 0.32612455860552325 and parameters: {'lambda_l1': 0.0038460737161124738, 'lambda_l2': 7.073732416020355e-06, 'num_leaves': 80, 'feature_fraction': 0.7142418249833902, 'bagging_fraction': 0.9310915108971568, 'bagging_freq': 4, 'min_child_samples': 16}. Best is trial 36 with value: 0.33348765892768495.\n",
      "[I 2025-04-29 20:23:51,197] Trial 38 finished with value: 0.3304963358951859 and parameters: {'lambda_l1': 0.005920143361999017, 'lambda_l2': 1.0858894704896787e-05, 'num_leaves': 45, 'feature_fraction': 0.7072276122849463, 'bagging_fraction': 0.924653879534126, 'bagging_freq': 2, 'min_child_samples': 29}. Best is trial 36 with value: 0.33348765892768495.\n",
      "[I 2025-04-29 20:23:51,738] Trial 39 finished with value: 0.32083809355615756 and parameters: {'lambda_l1': 0.0037247740117313296, 'lambda_l2': 1.8025283846049097e-05, 'num_leaves': 43, 'feature_fraction': 0.7216458998701026, 'bagging_fraction': 0.9289924520543225, 'bagging_freq': 1, 'min_child_samples': 29}. Best is trial 36 with value: 0.33348765892768495.\n",
      "[I 2025-04-29 20:23:52,261] Trial 40 finished with value: 0.3166592879874177 and parameters: {'lambda_l1': 0.04952148222978669, 'lambda_l2': 6.487993959024022e-06, 'num_leaves': 33, 'feature_fraction': 0.682883526155595, 'bagging_fraction': 0.9342368332607017, 'bagging_freq': 2, 'min_child_samples': 17}. Best is trial 36 with value: 0.33348765892768495.\n",
      "[I 2025-04-29 20:23:53,157] Trial 41 finished with value: 0.33121569448376864 and parameters: {'lambda_l1': 0.4908163371620643, 'lambda_l2': 1.7508635188560357e-06, 'num_leaves': 88, 'feature_fraction': 0.7575134547014108, 'bagging_fraction': 0.8991956144667276, 'bagging_freq': 3, 'min_child_samples': 16}. Best is trial 36 with value: 0.33348765892768495.\n",
      "[I 2025-04-29 20:23:53,823] Trial 42 finished with value: 0.3218581779354047 and parameters: {'lambda_l1': 0.3199146182485368, 'lambda_l2': 3.2908228975312733e-06, 'num_leaves': 55, 'feature_fraction': 0.761343408674838, 'bagging_fraction': 0.8848487101039544, 'bagging_freq': 2, 'min_child_samples': 15}. Best is trial 36 with value: 0.33348765892768495.\n",
      "[I 2025-04-29 20:23:54,792] Trial 43 finished with value: 0.3184685938476022 and parameters: {'lambda_l1': 0.06028307851311861, 'lambda_l2': 3.7591047982589913e-07, 'num_leaves': 89, 'feature_fraction': 0.6982267829315146, 'bagging_fraction': 0.9969728231007696, 'bagging_freq': 3, 'min_child_samples': 29}. Best is trial 36 with value: 0.33348765892768495.\n",
      "[I 2025-04-29 20:23:55,821] Trial 44 finished with value: 0.3184407730938019 and parameters: {'lambda_l1': 0.015124296964236285, 'lambda_l2': 1.0885705980382308e-05, 'num_leaves': 107, 'feature_fraction': 0.7671293907143739, 'bagging_fraction': 0.8937168461611551, 'bagging_freq': 3, 'min_child_samples': 19}. Best is trial 36 with value: 0.33348765892768495.\n",
      "[I 2025-04-29 20:23:56,580] Trial 45 finished with value: 0.3136992026713057 and parameters: {'lambda_l1': 0.004959921361949404, 'lambda_l2': 2.4689606102170857e-06, 'num_leaves': 60, 'feature_fraction': 0.7168869859837499, 'bagging_fraction': 0.9546245410262957, 'bagging_freq': 2, 'min_child_samples': 15}. Best is trial 36 with value: 0.33348765892768495.\n",
      "[I 2025-04-29 20:23:57,368] Trial 46 finished with value: 0.31509567696704965 and parameters: {'lambda_l1': 0.0016602863661980263, 'lambda_l2': 7.637118293672488e-07, 'num_leaves': 76, 'feature_fraction': 0.8176995242866931, 'bagging_fraction': 0.8665229987056915, 'bagging_freq': 1, 'min_child_samples': 36}. Best is trial 36 with value: 0.33348765892768495.\n",
      "[I 2025-04-29 20:23:57,803] Trial 47 finished with value: 0.31657850733163606 and parameters: {'lambda_l1': 0.0003610276527730387, 'lambda_l2': 0.00019013795667640357, 'num_leaves': 22, 'feature_fraction': 0.6604510884520643, 'bagging_fraction': 0.9111133593480673, 'bagging_freq': 4, 'min_child_samples': 22}. Best is trial 36 with value: 0.33348765892768495.\n",
      "[I 2025-04-29 20:23:58,399] Trial 48 finished with value: 0.31749308156771405 and parameters: {'lambda_l1': 0.6182024137628984, 'lambda_l2': 6.130400458599227e-06, 'num_leaves': 44, 'feature_fraction': 0.7468206692459035, 'bagging_fraction': 0.9479255229347572, 'bagging_freq': 3, 'min_child_samples': 28}. Best is trial 36 with value: 0.33348765892768495.\n",
      "[I 2025-04-29 20:23:58,906] Trial 49 finished with value: 0.3147488736042574 and parameters: {'lambda_l1': 8.81878341988726, 'lambda_l2': 2.2860118223149272e-07, 'num_leaves': 85, 'feature_fraction': 0.6983593722155124, 'bagging_fraction': 0.9100330074984663, 'bagging_freq': 2, 'min_child_samples': 47}. Best is trial 36 with value: 0.33348765892768495.\n"
     ]
    }
   ],
   "source": [
    "#Defino el estudio a optimizar\n",
    "study = optuna.create_study(direction='maximize', #buscamos maximizar la metrica\n",
    "                            storage=\"sqlite:///../work/db.sqlite3\",  # Specify the storage URL here.\n",
    "                            study_name=\"10 - LGB Multiclass\", #nombre del experimento\n",
    "                            load_if_exists=True) #continuar si ya existe\n",
    "\n",
    "#Corremos 100 trials para buscar mejores parametros\n",
    "study.optimize(lgb_objective, n_trials=50)"
   ]
  },
  {
   "cell_type": "code",
   "execution_count": 25,
   "metadata": {},
   "outputs": [
    {
     "data": {
      "text/plain": [
       "{'lambda_l1': 0.003563649428875379,\n",
       " 'lambda_l2': 1.1253040798191835e-05,\n",
       " 'num_leaves': 81,\n",
       " 'feature_fraction': 0.7153698498851806,\n",
       " 'bagging_fraction': 0.8921661309672427,\n",
       " 'bagging_freq': 5,\n",
       " 'min_child_samples': 16}"
      ]
     },
     "execution_count": 25,
     "metadata": {},
     "output_type": "execute_result"
    }
   ],
   "source": [
    "#Obtenemos mejor resultado\n",
    "study.best_params"
   ]
  },
  {
   "cell_type": "code",
   "execution_count": 26,
   "metadata": {},
   "outputs": [
    {
     "data": {
      "application/vnd.plotly.v1+json": {
       "config": {
        "plotlyServerURL": "https://plot.ly"
       },
       "data": [
        {
         "type": "heatmap",
         "x": {
          "bdata": "AAECAwQ=",
          "dtype": "i1"
         },
         "y": {
          "bdata": "AAECAwQ=",
          "dtype": "i1"
         },
         "z": {
          "bdata": "g/MxOB+DI0DnY3A+BudCQA3Ox+B8DDxARO1K1K5EHUATtStRuxIxQA4wbu9DtuQ/m9FX/jkSQUDb+5AtxQpCQEyUuaAGGCNAbSlWOEyUM0CZSSgX8bjPPzI3XtG0yjdA2H9LnqvlQkAY/olrC8QqQIB5F1p8yDhACMmAeqZy3T84dNI+SAYxQLzYEnybvz9Ab/NXmNUoN0B4vNgSfJs7QJ/neZ7ned4/6Hme53meJkD0PM/zPM8yQAAAAAAAACRAPc/zPM+zTUA=",
          "dtype": "f8",
          "shape": "5, 5"
         }
        }
       ],
       "layout": {
        "annotations": [
         {
          "font": {
           "color": "white"
          },
          "showarrow": false,
          "text": "9.8 - 8",
          "x": 0,
          "xref": "x",
          "y": 0,
          "yref": "y"
         },
         {
          "font": {
           "color": "white"
          },
          "showarrow": false,
          "text": "37.8 - 31",
          "x": 1,
          "xref": "x",
          "y": 0,
          "yref": "y"
         },
         {
          "font": {
           "color": "white"
          },
          "showarrow": false,
          "text": "28.0 - 23",
          "x": 2,
          "xref": "x",
          "y": 0,
          "yref": "y"
         },
         {
          "font": {
           "color": "white"
          },
          "showarrow": false,
          "text": "7.3 - 6",
          "x": 3,
          "xref": "x",
          "y": 0,
          "yref": "y"
         },
         {
          "font": {
           "color": "white"
          },
          "showarrow": false,
          "text": "17.1 - 14",
          "x": 4,
          "xref": "x",
          "y": 0,
          "yref": "y"
         },
         {
          "font": {
           "color": "white"
          },
          "showarrow": false,
          "text": "0.6 - 4",
          "x": 0,
          "xref": "x",
          "y": 1,
          "yref": "y"
         },
         {
          "font": {
           "color": "white"
          },
          "showarrow": false,
          "text": "34.1 - 211",
          "x": 1,
          "xref": "x",
          "y": 1,
          "yref": "y"
         },
         {
          "font": {
           "color": "white"
          },
          "showarrow": false,
          "text": "36.1 - 223",
          "x": 2,
          "xref": "x",
          "y": 1,
          "yref": "y"
         },
         {
          "font": {
           "color": "white"
          },
          "showarrow": false,
          "text": "9.5 - 59",
          "x": 3,
          "xref": "x",
          "y": 1,
          "yref": "y"
         },
         {
          "font": {
           "color": "white"
          },
          "showarrow": false,
          "text": "19.6 - 121",
          "x": 4,
          "xref": "x",
          "y": 1,
          "yref": "y"
         },
         {
          "font": {
           "color": "white"
          },
          "showarrow": false,
          "text": "0.2 - 2",
          "x": 0,
          "xref": "x",
          "y": 2,
          "yref": "y"
         },
         {
          "font": {
           "color": "white"
          },
          "showarrow": false,
          "text": "23.8 - 192",
          "x": 1,
          "xref": "x",
          "y": 2,
          "yref": "y"
         },
         {
          "font": {
           "color": "white"
          },
          "showarrow": false,
          "text": "37.8 - 305",
          "x": 2,
          "xref": "x",
          "y": 2,
          "yref": "y"
         },
         {
          "font": {
           "color": "white"
          },
          "showarrow": false,
          "text": "13.4 - 108",
          "x": 3,
          "xref": "x",
          "y": 2,
          "yref": "y"
         },
         {
          "font": {
           "color": "white"
          },
          "showarrow": false,
          "text": "24.8 - 200",
          "x": 4,
          "xref": "x",
          "y": 2,
          "yref": "y"
         },
         {
          "font": {
           "color": "white"
          },
          "showarrow": false,
          "text": "0.5 - 3",
          "x": 0,
          "xref": "x",
          "y": 3,
          "yref": "y"
         },
         {
          "font": {
           "color": "white"
          },
          "showarrow": false,
          "text": "17.0 - 111",
          "x": 1,
          "xref": "x",
          "y": 3,
          "yref": "y"
         },
         {
          "font": {
           "color": "white"
          },
          "showarrow": false,
          "text": "31.7 - 207",
          "x": 2,
          "xref": "x",
          "y": 3,
          "yref": "y"
         },
         {
          "font": {
           "color": "white"
          },
          "showarrow": false,
          "text": "23.2 - 151",
          "x": 3,
          "xref": "x",
          "y": 3,
          "yref": "y"
         },
         {
          "font": {
           "color": "white"
          },
          "showarrow": false,
          "text": "27.6 - 180",
          "x": 4,
          "xref": "x",
          "y": 3,
          "yref": "y"
         },
         {
          "font": {
           "color": "white"
          },
          "showarrow": false,
          "text": "0.5 - 4",
          "x": 0,
          "xref": "x",
          "y": 4,
          "yref": "y"
         },
         {
          "font": {
           "color": "white"
          },
          "showarrow": false,
          "text": "11.3 - 95",
          "x": 1,
          "xref": "x",
          "y": 4,
          "yref": "y"
         },
         {
          "font": {
           "color": "white"
          },
          "showarrow": false,
          "text": "18.8 - 158",
          "x": 2,
          "xref": "x",
          "y": 4,
          "yref": "y"
         },
         {
          "font": {
           "color": "white"
          },
          "showarrow": false,
          "text": "10.0 - 84",
          "x": 3,
          "xref": "x",
          "y": 4,
          "yref": "y"
         },
         {
          "font": {
           "color": "white"
          },
          "showarrow": false,
          "text": "59.4 - 499",
          "x": 4,
          "xref": "x",
          "y": 4,
          "yref": "y"
         }
        ],
        "height": 800,
        "template": {
         "data": {
          "bar": [
           {
            "error_x": {
             "color": "#2a3f5f"
            },
            "error_y": {
             "color": "#2a3f5f"
            },
            "marker": {
             "line": {
              "color": "#E5ECF6",
              "width": 0.5
             },
             "pattern": {
              "fillmode": "overlay",
              "size": 10,
              "solidity": 0.2
             }
            },
            "type": "bar"
           }
          ],
          "barpolar": [
           {
            "marker": {
             "line": {
              "color": "#E5ECF6",
              "width": 0.5
             },
             "pattern": {
              "fillmode": "overlay",
              "size": 10,
              "solidity": 0.2
             }
            },
            "type": "barpolar"
           }
          ],
          "carpet": [
           {
            "aaxis": {
             "endlinecolor": "#2a3f5f",
             "gridcolor": "white",
             "linecolor": "white",
             "minorgridcolor": "white",
             "startlinecolor": "#2a3f5f"
            },
            "baxis": {
             "endlinecolor": "#2a3f5f",
             "gridcolor": "white",
             "linecolor": "white",
             "minorgridcolor": "white",
             "startlinecolor": "#2a3f5f"
            },
            "type": "carpet"
           }
          ],
          "choropleth": [
           {
            "colorbar": {
             "outlinewidth": 0,
             "ticks": ""
            },
            "type": "choropleth"
           }
          ],
          "contour": [
           {
            "colorbar": {
             "outlinewidth": 0,
             "ticks": ""
            },
            "colorscale": [
             [
              0,
              "#0d0887"
             ],
             [
              0.1111111111111111,
              "#46039f"
             ],
             [
              0.2222222222222222,
              "#7201a8"
             ],
             [
              0.3333333333333333,
              "#9c179e"
             ],
             [
              0.4444444444444444,
              "#bd3786"
             ],
             [
              0.5555555555555556,
              "#d8576b"
             ],
             [
              0.6666666666666666,
              "#ed7953"
             ],
             [
              0.7777777777777778,
              "#fb9f3a"
             ],
             [
              0.8888888888888888,
              "#fdca26"
             ],
             [
              1,
              "#f0f921"
             ]
            ],
            "type": "contour"
           }
          ],
          "contourcarpet": [
           {
            "colorbar": {
             "outlinewidth": 0,
             "ticks": ""
            },
            "type": "contourcarpet"
           }
          ],
          "heatmap": [
           {
            "colorbar": {
             "outlinewidth": 0,
             "ticks": ""
            },
            "colorscale": [
             [
              0,
              "#0d0887"
             ],
             [
              0.1111111111111111,
              "#46039f"
             ],
             [
              0.2222222222222222,
              "#7201a8"
             ],
             [
              0.3333333333333333,
              "#9c179e"
             ],
             [
              0.4444444444444444,
              "#bd3786"
             ],
             [
              0.5555555555555556,
              "#d8576b"
             ],
             [
              0.6666666666666666,
              "#ed7953"
             ],
             [
              0.7777777777777778,
              "#fb9f3a"
             ],
             [
              0.8888888888888888,
              "#fdca26"
             ],
             [
              1,
              "#f0f921"
             ]
            ],
            "type": "heatmap"
           }
          ],
          "histogram": [
           {
            "marker": {
             "pattern": {
              "fillmode": "overlay",
              "size": 10,
              "solidity": 0.2
             }
            },
            "type": "histogram"
           }
          ],
          "histogram2d": [
           {
            "colorbar": {
             "outlinewidth": 0,
             "ticks": ""
            },
            "colorscale": [
             [
              0,
              "#0d0887"
             ],
             [
              0.1111111111111111,
              "#46039f"
             ],
             [
              0.2222222222222222,
              "#7201a8"
             ],
             [
              0.3333333333333333,
              "#9c179e"
             ],
             [
              0.4444444444444444,
              "#bd3786"
             ],
             [
              0.5555555555555556,
              "#d8576b"
             ],
             [
              0.6666666666666666,
              "#ed7953"
             ],
             [
              0.7777777777777778,
              "#fb9f3a"
             ],
             [
              0.8888888888888888,
              "#fdca26"
             ],
             [
              1,
              "#f0f921"
             ]
            ],
            "type": "histogram2d"
           }
          ],
          "histogram2dcontour": [
           {
            "colorbar": {
             "outlinewidth": 0,
             "ticks": ""
            },
            "colorscale": [
             [
              0,
              "#0d0887"
             ],
             [
              0.1111111111111111,
              "#46039f"
             ],
             [
              0.2222222222222222,
              "#7201a8"
             ],
             [
              0.3333333333333333,
              "#9c179e"
             ],
             [
              0.4444444444444444,
              "#bd3786"
             ],
             [
              0.5555555555555556,
              "#d8576b"
             ],
             [
              0.6666666666666666,
              "#ed7953"
             ],
             [
              0.7777777777777778,
              "#fb9f3a"
             ],
             [
              0.8888888888888888,
              "#fdca26"
             ],
             [
              1,
              "#f0f921"
             ]
            ],
            "type": "histogram2dcontour"
           }
          ],
          "mesh3d": [
           {
            "colorbar": {
             "outlinewidth": 0,
             "ticks": ""
            },
            "type": "mesh3d"
           }
          ],
          "parcoords": [
           {
            "line": {
             "colorbar": {
              "outlinewidth": 0,
              "ticks": ""
             }
            },
            "type": "parcoords"
           }
          ],
          "pie": [
           {
            "automargin": true,
            "type": "pie"
           }
          ],
          "scatter": [
           {
            "fillpattern": {
             "fillmode": "overlay",
             "size": 10,
             "solidity": 0.2
            },
            "type": "scatter"
           }
          ],
          "scatter3d": [
           {
            "line": {
             "colorbar": {
              "outlinewidth": 0,
              "ticks": ""
             }
            },
            "marker": {
             "colorbar": {
              "outlinewidth": 0,
              "ticks": ""
             }
            },
            "type": "scatter3d"
           }
          ],
          "scattercarpet": [
           {
            "marker": {
             "colorbar": {
              "outlinewidth": 0,
              "ticks": ""
             }
            },
            "type": "scattercarpet"
           }
          ],
          "scattergeo": [
           {
            "marker": {
             "colorbar": {
              "outlinewidth": 0,
              "ticks": ""
             }
            },
            "type": "scattergeo"
           }
          ],
          "scattergl": [
           {
            "marker": {
             "colorbar": {
              "outlinewidth": 0,
              "ticks": ""
             }
            },
            "type": "scattergl"
           }
          ],
          "scattermap": [
           {
            "marker": {
             "colorbar": {
              "outlinewidth": 0,
              "ticks": ""
             }
            },
            "type": "scattermap"
           }
          ],
          "scattermapbox": [
           {
            "marker": {
             "colorbar": {
              "outlinewidth": 0,
              "ticks": ""
             }
            },
            "type": "scattermapbox"
           }
          ],
          "scatterpolar": [
           {
            "marker": {
             "colorbar": {
              "outlinewidth": 0,
              "ticks": ""
             }
            },
            "type": "scatterpolar"
           }
          ],
          "scatterpolargl": [
           {
            "marker": {
             "colorbar": {
              "outlinewidth": 0,
              "ticks": ""
             }
            },
            "type": "scatterpolargl"
           }
          ],
          "scatterternary": [
           {
            "marker": {
             "colorbar": {
              "outlinewidth": 0,
              "ticks": ""
             }
            },
            "type": "scatterternary"
           }
          ],
          "surface": [
           {
            "colorbar": {
             "outlinewidth": 0,
             "ticks": ""
            },
            "colorscale": [
             [
              0,
              "#0d0887"
             ],
             [
              0.1111111111111111,
              "#46039f"
             ],
             [
              0.2222222222222222,
              "#7201a8"
             ],
             [
              0.3333333333333333,
              "#9c179e"
             ],
             [
              0.4444444444444444,
              "#bd3786"
             ],
             [
              0.5555555555555556,
              "#d8576b"
             ],
             [
              0.6666666666666666,
              "#ed7953"
             ],
             [
              0.7777777777777778,
              "#fb9f3a"
             ],
             [
              0.8888888888888888,
              "#fdca26"
             ],
             [
              1,
              "#f0f921"
             ]
            ],
            "type": "surface"
           }
          ],
          "table": [
           {
            "cells": {
             "fill": {
              "color": "#EBF0F8"
             },
             "line": {
              "color": "white"
             }
            },
            "header": {
             "fill": {
              "color": "#C8D4E3"
             },
             "line": {
              "color": "white"
             }
            },
            "type": "table"
           }
          ]
         },
         "layout": {
          "annotationdefaults": {
           "arrowcolor": "#2a3f5f",
           "arrowhead": 0,
           "arrowwidth": 1
          },
          "autotypenumbers": "strict",
          "coloraxis": {
           "colorbar": {
            "outlinewidth": 0,
            "ticks": ""
           }
          },
          "colorscale": {
           "diverging": [
            [
             0,
             "#8e0152"
            ],
            [
             0.1,
             "#c51b7d"
            ],
            [
             0.2,
             "#de77ae"
            ],
            [
             0.3,
             "#f1b6da"
            ],
            [
             0.4,
             "#fde0ef"
            ],
            [
             0.5,
             "#f7f7f7"
            ],
            [
             0.6,
             "#e6f5d0"
            ],
            [
             0.7,
             "#b8e186"
            ],
            [
             0.8,
             "#7fbc41"
            ],
            [
             0.9,
             "#4d9221"
            ],
            [
             1,
             "#276419"
            ]
           ],
           "sequential": [
            [
             0,
             "#0d0887"
            ],
            [
             0.1111111111111111,
             "#46039f"
            ],
            [
             0.2222222222222222,
             "#7201a8"
            ],
            [
             0.3333333333333333,
             "#9c179e"
            ],
            [
             0.4444444444444444,
             "#bd3786"
            ],
            [
             0.5555555555555556,
             "#d8576b"
            ],
            [
             0.6666666666666666,
             "#ed7953"
            ],
            [
             0.7777777777777778,
             "#fb9f3a"
            ],
            [
             0.8888888888888888,
             "#fdca26"
            ],
            [
             1,
             "#f0f921"
            ]
           ],
           "sequentialminus": [
            [
             0,
             "#0d0887"
            ],
            [
             0.1111111111111111,
             "#46039f"
            ],
            [
             0.2222222222222222,
             "#7201a8"
            ],
            [
             0.3333333333333333,
             "#9c179e"
            ],
            [
             0.4444444444444444,
             "#bd3786"
            ],
            [
             0.5555555555555556,
             "#d8576b"
            ],
            [
             0.6666666666666666,
             "#ed7953"
            ],
            [
             0.7777777777777778,
             "#fb9f3a"
            ],
            [
             0.8888888888888888,
             "#fdca26"
            ],
            [
             1,
             "#f0f921"
            ]
           ]
          },
          "colorway": [
           "#636efa",
           "#EF553B",
           "#00cc96",
           "#ab63fa",
           "#FFA15A",
           "#19d3f3",
           "#FF6692",
           "#B6E880",
           "#FF97FF",
           "#FECB52"
          ],
          "font": {
           "color": "#2a3f5f"
          },
          "geo": {
           "bgcolor": "white",
           "lakecolor": "white",
           "landcolor": "#E5ECF6",
           "showlakes": true,
           "showland": true,
           "subunitcolor": "white"
          },
          "hoverlabel": {
           "align": "left"
          },
          "hovermode": "closest",
          "mapbox": {
           "style": "light"
          },
          "paper_bgcolor": "white",
          "plot_bgcolor": "#E5ECF6",
          "polar": {
           "angularaxis": {
            "gridcolor": "white",
            "linecolor": "white",
            "ticks": ""
           },
           "bgcolor": "#E5ECF6",
           "radialaxis": {
            "gridcolor": "white",
            "linecolor": "white",
            "ticks": ""
           }
          },
          "scene": {
           "xaxis": {
            "backgroundcolor": "#E5ECF6",
            "gridcolor": "white",
            "gridwidth": 2,
            "linecolor": "white",
            "showbackground": true,
            "ticks": "",
            "zerolinecolor": "white"
           },
           "yaxis": {
            "backgroundcolor": "#E5ECF6",
            "gridcolor": "white",
            "gridwidth": 2,
            "linecolor": "white",
            "showbackground": true,
            "ticks": "",
            "zerolinecolor": "white"
           },
           "zaxis": {
            "backgroundcolor": "#E5ECF6",
            "gridcolor": "white",
            "gridwidth": 2,
            "linecolor": "white",
            "showbackground": true,
            "ticks": "",
            "zerolinecolor": "white"
           }
          },
          "shapedefaults": {
           "line": {
            "color": "#2a3f5f"
           }
          },
          "ternary": {
           "aaxis": {
            "gridcolor": "white",
            "linecolor": "white",
            "ticks": ""
           },
           "baxis": {
            "gridcolor": "white",
            "linecolor": "white",
            "ticks": ""
           },
           "bgcolor": "#E5ECF6",
           "caxis": {
            "gridcolor": "white",
            "linecolor": "white",
            "ticks": ""
           }
          },
          "title": {
           "x": 0.05
          },
          "xaxis": {
           "automargin": true,
           "gridcolor": "white",
           "linecolor": "white",
           "ticks": "",
           "title": {
            "standoff": 15
           },
           "zerolinecolor": "white",
           "zerolinewidth": 2
          },
          "yaxis": {
           "automargin": true,
           "gridcolor": "white",
           "linecolor": "white",
           "ticks": "",
           "title": {
            "standoff": 15
           },
           "zerolinecolor": "white",
           "zerolinewidth": 2
          }
         }
        },
        "title": {
         "text": "Conf Matrix"
        },
        "width": 800,
        "xaxis": {
         "title": {
          "text": "Predicted value"
         }
        },
        "yaxis": {
         "title": {
          "text": "Real value"
         }
        }
       }
      }
     },
     "metadata": {},
     "output_type": "display_data"
    },
    {
     "data": {
      "text/plain": [
       "np.float64(0.33348765892768495)"
      ]
     },
     "execution_count": 26,
     "metadata": {},
     "output_type": "execute_result"
    }
   ],
   "source": [
    "#Vamos a replicar el resultado de la optimizacion reentrenando el modelo con el mejor conjunto de hiperparametros\n",
    "#Generamos parametros incluyendo los fijos y la mejor solución que encontro optuna\n",
    "lgb_params =  {      \n",
    "                        'objective': 'multiclass',\n",
    "                        'verbosity':-1,\n",
    "                        'num_class': len(y_train.unique())} | study.best_params\n",
    "\n",
    "lgb_train_dataset = lgb.Dataset(data=X_train,\n",
    "                                label=y_train)\n",
    "\n",
    "\n",
    "#Entreno\n",
    "lgb_model = lgb.train(lgb_params,\n",
    "                    lgb_train_dataset)\n",
    "\n",
    "#Muestro matriz de confusion y kappa\n",
    "display(plot_confusion_matrix(y_test,lgb_model.predict(X_test).argmax(axis=1)))\n",
    "\n",
    "cohen_kappa_score(y_test,lgb_model.predict(X_test).argmax(axis=1),\n",
    "                             weights = 'quadratic')\n"
   ]
  },
  {
   "cell_type": "markdown",
   "metadata": {},
   "source": [
    "## Modelo con cross validation y conjunto de test"
   ]
  },
  {
   "cell_type": "code",
   "execution_count": 27,
   "metadata": {},
   "outputs": [],
   "source": [
    "#Genero una metrica para que lightGBM haga la evaluación y pueda hacer early_stopping en el cross validation\n",
    "def lgb_custom_metric_kappa(dy_pred, dy_true):\n",
    "    metric_name = 'kappa'\n",
    "    value = cohen_kappa_score(dy_true.get_label(),dy_pred.argmax(axis=1),weights = 'quadratic')\n",
    "    is_higher_better = True\n",
    "    return(metric_name, value, is_higher_better)\n",
    "\n",
    "#Funcion objetivo a optimizar. En este caso vamos a hacer 5fold cv sobre el conjunto de train. \n",
    "# El score de CV es el objetivo a optimizar. Ademas vamos a usar los 5 modelos del CV para estimar el conjunto de test,\n",
    "# registraremos en optuna las predicciones, matriz de confusion y el score en test.\n",
    "# CV Score -> Se usa para determinar el rendimiento de los hiperparametros con precision \n",
    "# Test Score -> Nos permite testear que esta todo OK, no use (ni debo usar) esos datos para nada en el entrenamiento \n",
    "# o la optimizacion de hiperparametros\n",
    "\n",
    "def cv_es_lgb_objective(trial):\n",
    "\n",
    "    #PArametros para LightGBM\n",
    "    lgb_params = {      \n",
    "                        #PArametros fijos\n",
    "                        'objective': 'multiclass',\n",
    "                        'verbosity':-1,\n",
    "                        'num_class': len(y_train.unique()),\n",
    "                        #Hiperparametros a optimizar utilizando suggest_float o suggest_int segun el tipo de dato\n",
    "                        #Se indica el nombre del parametro, valor minimo, valor maximo \n",
    "                        #en elgunos casos el parametro log=True para parametros que requieren buscar en esa escala\n",
    "                        'lambda_l1': trial.suggest_float('lambda_l1', 1e-8, 10.0, log=True),\n",
    "                        'lambda_l2': trial.suggest_float('lambda_l2', 1e-8, 10.0, log=True),\n",
    "                        'num_leaves': trial.suggest_int('num_leaves', 2, 256),\n",
    "                        'feature_fraction': trial.suggest_float('feature_fraction', 0.4, 1.0),\n",
    "                        'bagging_fraction': trial.suggest_float('bagging_fraction', 0.4, 1.0),\n",
    "                        'bagging_freq': trial.suggest_int('bagging_freq', 1, 7),\n",
    "                        'min_child_samples': trial.suggest_int('min_child_samples', 5, 100),\n",
    "                        } \n",
    "\n",
    "    #Voy a generar estimaciones de los 5 modelos del CV sobre los datos test y los acumulo en la matriz scores_ensemble\n",
    "    scores_ensemble = np.zeros((len(y_test),len(y_train.unique())))\n",
    "\n",
    "    #Score del 5 fold CV inicializado en 0\n",
    "    score_folds = 0\n",
    "\n",
    "    #Numero de splits del CV\n",
    "    n_splits = 5\n",
    "\n",
    "    #Objeto para hacer el split estratificado de CV\n",
    "    skf = StratifiedKFold(n_splits=n_splits)\n",
    "\n",
    "    for i, (if_index, oof_index) in enumerate(skf.split(X_train, y_train)):\n",
    "        \n",
    "        #Dataset in fold (donde entreno) \n",
    "        lgb_if_dataset = lgb.Dataset(data=X_train.iloc[if_index],\n",
    "                                        label=y_train.iloc[if_index],\n",
    "                                        free_raw_data=False)\n",
    "        \n",
    "        #Dataset Out of fold (donde mido la performance del CV)\n",
    "        lgb_oof_dataset = lgb.Dataset(data=X_train.iloc[oof_index],\n",
    "                                        label=y_train.iloc[oof_index],\n",
    "                                        free_raw_data=False)\n",
    "\n",
    "        #Entreno el modelo\n",
    "        lgb_model = lgb.train(lgb_params,\n",
    "                                lgb_if_dataset,\n",
    "                                valid_sets=lgb_oof_dataset,\n",
    "                                callbacks=[lgb.early_stopping(10, verbose=False)],\n",
    "                                feval = lgb_custom_metric_kappa\n",
    "                                )\n",
    "        \n",
    "        #Acumulo los scores (probabilidades) de cada clase para cada uno de los modelos que determino en los folds\n",
    "        #Se predice el 20% de los datos que separe para tes y no uso para entrenar en ningun fold\n",
    "        scores_ensemble = scores_ensemble + lgb_model.predict(X_test)\n",
    "        \n",
    "        #Score del fold (registros de dataset train que en este fold quedan out of fold)\n",
    "        score_folds = score_folds + cohen_kappa_score(y_train.iloc[oof_index], \n",
    "                                                            lgb_model.predict(X_train.iloc[oof_index]).argmax(axis=1),weights = 'quadratic')/n_splits\n",
    "\n",
    "\n",
    "    #Guardo prediccion del trial sobre el conjunto de test\n",
    "    # Genero nombre de archivo\n",
    "    predicted_filename = os.path.join(PATH_TO_TEMP_FILES,f'test_{trial.study.study_name}_{trial.number}.joblib')\n",
    "    # Copia del dataset para guardar la prediccion\n",
    "    predicted_df = test.copy()\n",
    "    # Genero columna pred con predicciones sumadas de los 5 folds\n",
    "    predicted_df['pred'] = [scores_ensemble[p,:] for p in range(scores_ensemble.shape[0])]\n",
    "    # Grabo dataframe en temp_artifacts\n",
    "    dump(predicted_df, predicted_filename)\n",
    "    # Indico a optuna que asocie el archivo generado al trial\n",
    "    upload_artifact(trial, predicted_filename, artifact_store)    \n",
    "\n",
    "    #Grabo natriz de confusion\n",
    "    #Nombre de archivo\n",
    "    cm_filename = os.path.join(PATH_TO_TEMP_FILES,f'cm_{trial.study.study_name}_{trial.number}.jpg')\n",
    "    #Grabo archivo\n",
    "    plot_confusion_matrix(y_test,scores_ensemble.argmax(axis=1)).write_image(cm_filename)\n",
    "    #Asocio al trial\n",
    "    upload_artifact(trial, cm_filename, artifact_store)\n",
    "\n",
    "    #Determino score en conjunto de test y asocio como metrica adicional en optuna\n",
    "    test_score = cohen_kappa_score(y_test,scores_ensemble.argmax(axis=1),weights = 'quadratic')\n",
    "    trial.set_user_attr(\"test_score\", test_score)\n",
    "\n",
    "    #Devuelvo score del 5fold cv a optuna para que optimice en base a eso\n",
    "    return(score_folds)"
   ]
  },
  {
   "cell_type": "code",
   "execution_count": 28,
   "metadata": {},
   "outputs": [
    {
     "name": "stderr",
     "output_type": "stream",
     "text": [
      "[I 2025-04-29 20:23:59,826] A new study created in RDB with name: 10 - LGB Multiclass CV\n",
      "C:\\Users\\TrendingPc\\AppData\\Local\\Temp\\ipykernel_23676\\4150719641.py:86: FutureWarning:\n",
      "\n",
      "upload_artifact() got {'artifact_store', 'study_or_trial', 'file_path'} as positional arguments but they were expected to be given as keyword arguments.\n",
      "\n",
      "C:\\Users\\TrendingPc\\AppData\\Local\\Temp\\ipykernel_23676\\4150719641.py:94: FutureWarning:\n",
      "\n",
      "upload_artifact() got {'artifact_store', 'study_or_trial', 'file_path'} as positional arguments but they were expected to be given as keyword arguments.\n",
      "\n",
      "[I 2025-04-29 20:24:03,460] Trial 0 finished with value: 0.35516594930977374 and parameters: {'lambda_l1': 0.09225982989641927, 'lambda_l2': 0.0009285628602758198, 'num_leaves': 73, 'feature_fraction': 0.7033209270364308, 'bagging_fraction': 0.9067251569680058, 'bagging_freq': 7, 'min_child_samples': 31}. Best is trial 0 with value: 0.35516594930977374.\n",
      "C:\\Users\\TrendingPc\\AppData\\Local\\Temp\\ipykernel_23676\\4150719641.py:86: FutureWarning:\n",
      "\n",
      "upload_artifact() got {'artifact_store', 'study_or_trial', 'file_path'} as positional arguments but they were expected to be given as keyword arguments.\n",
      "\n",
      "C:\\Users\\TrendingPc\\AppData\\Local\\Temp\\ipykernel_23676\\4150719641.py:94: FutureWarning:\n",
      "\n",
      "upload_artifact() got {'artifact_store', 'study_or_trial', 'file_path'} as positional arguments but they were expected to be given as keyword arguments.\n",
      "\n",
      "[I 2025-04-29 20:24:06,387] Trial 1 finished with value: 0.34676376708629475 and parameters: {'lambda_l1': 0.1685005611722806, 'lambda_l2': 0.014823464681177014, 'num_leaves': 20, 'feature_fraction': 0.4562159587611941, 'bagging_fraction': 0.6982083010622882, 'bagging_freq': 4, 'min_child_samples': 9}. Best is trial 0 with value: 0.35516594930977374.\n",
      "C:\\Users\\TrendingPc\\AppData\\Local\\Temp\\ipykernel_23676\\4150719641.py:86: FutureWarning:\n",
      "\n",
      "upload_artifact() got {'artifact_store', 'study_or_trial', 'file_path'} as positional arguments but they were expected to be given as keyword arguments.\n",
      "\n",
      "C:\\Users\\TrendingPc\\AppData\\Local\\Temp\\ipykernel_23676\\4150719641.py:94: FutureWarning:\n",
      "\n",
      "upload_artifact() got {'artifact_store', 'study_or_trial', 'file_path'} as positional arguments but they were expected to be given as keyword arguments.\n",
      "\n",
      "[I 2025-04-29 20:24:10,356] Trial 2 finished with value: 0.35181983764178465 and parameters: {'lambda_l1': 0.00013947368406605043, 'lambda_l2': 0.6849682605135716, 'num_leaves': 120, 'feature_fraction': 0.9602602723411163, 'bagging_fraction': 0.7416767723180817, 'bagging_freq': 4, 'min_child_samples': 96}. Best is trial 0 with value: 0.35516594930977374.\n",
      "C:\\Users\\TrendingPc\\AppData\\Local\\Temp\\ipykernel_23676\\4150719641.py:86: FutureWarning:\n",
      "\n",
      "upload_artifact() got {'artifact_store', 'study_or_trial', 'file_path'} as positional arguments but they were expected to be given as keyword arguments.\n",
      "\n",
      "C:\\Users\\TrendingPc\\AppData\\Local\\Temp\\ipykernel_23676\\4150719641.py:94: FutureWarning:\n",
      "\n",
      "upload_artifact() got {'artifact_store', 'study_or_trial', 'file_path'} as positional arguments but they were expected to be given as keyword arguments.\n",
      "\n",
      "[I 2025-04-29 20:24:13,777] Trial 3 finished with value: 0.3558693291068269 and parameters: {'lambda_l1': 0.004183847633905148, 'lambda_l2': 2.7413123043218332e-08, 'num_leaves': 20, 'feature_fraction': 0.5243363687420145, 'bagging_fraction': 0.9979603091483907, 'bagging_freq': 2, 'min_child_samples': 15}. Best is trial 3 with value: 0.3558693291068269.\n",
      "C:\\Users\\TrendingPc\\AppData\\Local\\Temp\\ipykernel_23676\\4150719641.py:86: FutureWarning:\n",
      "\n",
      "upload_artifact() got {'artifact_store', 'study_or_trial', 'file_path'} as positional arguments but they were expected to be given as keyword arguments.\n",
      "\n",
      "C:\\Users\\TrendingPc\\AppData\\Local\\Temp\\ipykernel_23676\\4150719641.py:94: FutureWarning:\n",
      "\n",
      "upload_artifact() got {'artifact_store', 'study_or_trial', 'file_path'} as positional arguments but they were expected to be given as keyword arguments.\n",
      "\n",
      "[I 2025-04-29 20:24:16,961] Trial 4 finished with value: 0.34759900427328116 and parameters: {'lambda_l1': 0.0030323817108326026, 'lambda_l2': 0.009183517653605021, 'num_leaves': 230, 'feature_fraction': 0.8937160496268945, 'bagging_fraction': 0.543805423294947, 'bagging_freq': 4, 'min_child_samples': 100}. Best is trial 3 with value: 0.3558693291068269.\n",
      "C:\\Users\\TrendingPc\\AppData\\Local\\Temp\\ipykernel_23676\\4150719641.py:86: FutureWarning:\n",
      "\n",
      "upload_artifact() got {'artifact_store', 'study_or_trial', 'file_path'} as positional arguments but they were expected to be given as keyword arguments.\n",
      "\n",
      "C:\\Users\\TrendingPc\\AppData\\Local\\Temp\\ipykernel_23676\\4150719641.py:94: FutureWarning:\n",
      "\n",
      "upload_artifact() got {'artifact_store', 'study_or_trial', 'file_path'} as positional arguments but they were expected to be given as keyword arguments.\n",
      "\n",
      "[I 2025-04-29 20:24:18,044] Trial 5 finished with value: 0.1980661621082174 and parameters: {'lambda_l1': 0.0011406867283938289, 'lambda_l2': 5.275795313204825, 'num_leaves': 2, 'feature_fraction': 0.8739059799532292, 'bagging_fraction': 0.6799999058489986, 'bagging_freq': 2, 'min_child_samples': 37}. Best is trial 3 with value: 0.3558693291068269.\n",
      "C:\\Users\\TrendingPc\\AppData\\Local\\Temp\\ipykernel_23676\\4150719641.py:86: FutureWarning:\n",
      "\n",
      "upload_artifact() got {'artifact_store', 'study_or_trial', 'file_path'} as positional arguments but they were expected to be given as keyword arguments.\n",
      "\n",
      "C:\\Users\\TrendingPc\\AppData\\Local\\Temp\\ipykernel_23676\\4150719641.py:94: FutureWarning:\n",
      "\n",
      "upload_artifact() got {'artifact_store', 'study_or_trial', 'file_path'} as positional arguments but they were expected to be given as keyword arguments.\n",
      "\n",
      "[I 2025-04-29 20:24:21,426] Trial 6 finished with value: 0.34588415487882906 and parameters: {'lambda_l1': 9.184152385554633e-07, 'lambda_l2': 0.0018201670090661805, 'num_leaves': 152, 'feature_fraction': 0.5490402479267138, 'bagging_fraction': 0.45765352782861846, 'bagging_freq': 3, 'min_child_samples': 50}. Best is trial 3 with value: 0.3558693291068269.\n",
      "C:\\Users\\TrendingPc\\AppData\\Local\\Temp\\ipykernel_23676\\4150719641.py:86: FutureWarning:\n",
      "\n",
      "upload_artifact() got {'artifact_store', 'study_or_trial', 'file_path'} as positional arguments but they were expected to be given as keyword arguments.\n",
      "\n",
      "C:\\Users\\TrendingPc\\AppData\\Local\\Temp\\ipykernel_23676\\4150719641.py:94: FutureWarning:\n",
      "\n",
      "upload_artifact() got {'artifact_store', 'study_or_trial', 'file_path'} as positional arguments but they were expected to be given as keyword arguments.\n",
      "\n",
      "[I 2025-04-29 20:24:25,200] Trial 7 finished with value: 0.3528912805818238 and parameters: {'lambda_l1': 7.716326381327776e-05, 'lambda_l2': 0.2365561950582368, 'num_leaves': 195, 'feature_fraction': 0.6363183384556937, 'bagging_fraction': 0.987583589211104, 'bagging_freq': 3, 'min_child_samples': 53}. Best is trial 3 with value: 0.3558693291068269.\n",
      "C:\\Users\\TrendingPc\\AppData\\Local\\Temp\\ipykernel_23676\\4150719641.py:86: FutureWarning:\n",
      "\n",
      "upload_artifact() got {'artifact_store', 'study_or_trial', 'file_path'} as positional arguments but they were expected to be given as keyword arguments.\n",
      "\n",
      "C:\\Users\\TrendingPc\\AppData\\Local\\Temp\\ipykernel_23676\\4150719641.py:94: FutureWarning:\n",
      "\n",
      "upload_artifact() got {'artifact_store', 'study_or_trial', 'file_path'} as positional arguments but they were expected to be given as keyword arguments.\n",
      "\n",
      "[I 2025-04-29 20:24:27,798] Trial 8 finished with value: 0.35985848223955724 and parameters: {'lambda_l1': 0.00016070959405086214, 'lambda_l2': 0.002106760524910569, 'num_leaves': 33, 'feature_fraction': 0.7757231550769683, 'bagging_fraction': 0.7697754817834483, 'bagging_freq': 2, 'min_child_samples': 41}. Best is trial 8 with value: 0.35985848223955724.\n",
      "C:\\Users\\TrendingPc\\AppData\\Local\\Temp\\ipykernel_23676\\4150719641.py:86: FutureWarning:\n",
      "\n",
      "upload_artifact() got {'artifact_store', 'study_or_trial', 'file_path'} as positional arguments but they were expected to be given as keyword arguments.\n",
      "\n",
      "C:\\Users\\TrendingPc\\AppData\\Local\\Temp\\ipykernel_23676\\4150719641.py:94: FutureWarning:\n",
      "\n",
      "upload_artifact() got {'artifact_store', 'study_or_trial', 'file_path'} as positional arguments but they were expected to be given as keyword arguments.\n",
      "\n",
      "[I 2025-04-29 20:24:30,693] Trial 9 finished with value: 0.3435882079577912 and parameters: {'lambda_l1': 3.1459167227897066e-07, 'lambda_l2': 0.3925877881905797, 'num_leaves': 122, 'feature_fraction': 0.6896130297580241, 'bagging_fraction': 0.9847959437494308, 'bagging_freq': 1, 'min_child_samples': 49}. Best is trial 8 with value: 0.35985848223955724.\n",
      "C:\\Users\\TrendingPc\\AppData\\Local\\Temp\\ipykernel_23676\\4150719641.py:86: FutureWarning:\n",
      "\n",
      "upload_artifact() got {'artifact_store', 'study_or_trial', 'file_path'} as positional arguments but they were expected to be given as keyword arguments.\n",
      "\n",
      "C:\\Users\\TrendingPc\\AppData\\Local\\Temp\\ipykernel_23676\\4150719641.py:94: FutureWarning:\n",
      "\n",
      "upload_artifact() got {'artifact_store', 'study_or_trial', 'file_path'} as positional arguments but they were expected to be given as keyword arguments.\n",
      "\n",
      "[I 2025-04-29 20:24:33,480] Trial 10 finished with value: 0.34769229278085345 and parameters: {'lambda_l1': 8.3270458693419, 'lambda_l2': 4.13905901647355e-06, 'num_leaves': 67, 'feature_fraction': 0.802646028682315, 'bagging_fraction': 0.8266899267126963, 'bagging_freq': 6, 'min_child_samples': 77}. Best is trial 8 with value: 0.35985848223955724.\n",
      "C:\\Users\\TrendingPc\\AppData\\Local\\Temp\\ipykernel_23676\\4150719641.py:86: FutureWarning:\n",
      "\n",
      "upload_artifact() got {'artifact_store', 'study_or_trial', 'file_path'} as positional arguments but they were expected to be given as keyword arguments.\n",
      "\n",
      "C:\\Users\\TrendingPc\\AppData\\Local\\Temp\\ipykernel_23676\\4150719641.py:94: FutureWarning:\n",
      "\n",
      "upload_artifact() got {'artifact_store', 'study_or_trial', 'file_path'} as positional arguments but they were expected to be given as keyword arguments.\n",
      "\n",
      "[I 2025-04-29 20:24:36,529] Trial 11 finished with value: 0.35796255107501473 and parameters: {'lambda_l1': 3.7874345835543404e-06, 'lambda_l2': 1.642903908645995e-08, 'num_leaves': 49, 'feature_fraction': 0.4093662942850908, 'bagging_fraction': 0.8451418902758193, 'bagging_freq': 1, 'min_child_samples': 6}. Best is trial 8 with value: 0.35985848223955724.\n",
      "C:\\Users\\TrendingPc\\AppData\\Local\\Temp\\ipykernel_23676\\4150719641.py:86: FutureWarning:\n",
      "\n",
      "upload_artifact() got {'artifact_store', 'study_or_trial', 'file_path'} as positional arguments but they were expected to be given as keyword arguments.\n",
      "\n",
      "C:\\Users\\TrendingPc\\AppData\\Local\\Temp\\ipykernel_23676\\4150719641.py:94: FutureWarning:\n",
      "\n",
      "upload_artifact() got {'artifact_store', 'study_or_trial', 'file_path'} as positional arguments but they were expected to be given as keyword arguments.\n",
      "\n",
      "[I 2025-04-29 20:24:40,371] Trial 12 finished with value: 0.3554428702744555 and parameters: {'lambda_l1': 1.0638780736560751e-05, 'lambda_l2': 7.33791895414013e-06, 'num_leaves': 62, 'feature_fraction': 0.4009387963775182, 'bagging_fraction': 0.8120621492772082, 'bagging_freq': 1, 'min_child_samples': 24}. Best is trial 8 with value: 0.35985848223955724.\n",
      "C:\\Users\\TrendingPc\\AppData\\Local\\Temp\\ipykernel_23676\\4150719641.py:86: FutureWarning:\n",
      "\n",
      "upload_artifact() got {'artifact_store', 'study_or_trial', 'file_path'} as positional arguments but they were expected to be given as keyword arguments.\n",
      "\n",
      "C:\\Users\\TrendingPc\\AppData\\Local\\Temp\\ipykernel_23676\\4150719641.py:94: FutureWarning:\n",
      "\n",
      "upload_artifact() got {'artifact_store', 'study_or_trial', 'file_path'} as positional arguments but they were expected to be given as keyword arguments.\n",
      "\n",
      "[I 2025-04-29 20:24:42,984] Trial 13 finished with value: 0.3487838172140145 and parameters: {'lambda_l1': 1.6052770176314875e-08, 'lambda_l2': 1.408961338835331e-08, 'num_leaves': 49, 'feature_fraction': 0.7524627121335248, 'bagging_fraction': 0.586076265880946, 'bagging_freq': 1, 'min_child_samples': 66}. Best is trial 8 with value: 0.35985848223955724.\n",
      "C:\\Users\\TrendingPc\\AppData\\Local\\Temp\\ipykernel_23676\\4150719641.py:86: FutureWarning:\n",
      "\n",
      "upload_artifact() got {'artifact_store', 'study_or_trial', 'file_path'} as positional arguments but they were expected to be given as keyword arguments.\n",
      "\n",
      "C:\\Users\\TrendingPc\\AppData\\Local\\Temp\\ipykernel_23676\\4150719641.py:94: FutureWarning:\n",
      "\n",
      "upload_artifact() got {'artifact_store', 'study_or_trial', 'file_path'} as positional arguments but they were expected to be given as keyword arguments.\n",
      "\n",
      "[I 2025-04-29 20:24:46,239] Trial 14 finished with value: 0.36143541464158996 and parameters: {'lambda_l1': 4.832190330220584e-06, 'lambda_l2': 1.8762606185615417e-05, 'num_leaves': 91, 'feature_fraction': 0.5996765179891435, 'bagging_fraction': 0.8478576051242959, 'bagging_freq': 2, 'min_child_samples': 5}. Best is trial 14 with value: 0.36143541464158996.\n",
      "C:\\Users\\TrendingPc\\AppData\\Local\\Temp\\ipykernel_23676\\4150719641.py:86: FutureWarning:\n",
      "\n",
      "upload_artifact() got {'artifact_store', 'study_or_trial', 'file_path'} as positional arguments but they were expected to be given as keyword arguments.\n",
      "\n",
      "C:\\Users\\TrendingPc\\AppData\\Local\\Temp\\ipykernel_23676\\4150719641.py:94: FutureWarning:\n",
      "\n",
      "upload_artifact() got {'artifact_store', 'study_or_trial', 'file_path'} as positional arguments but they were expected to be given as keyword arguments.\n",
      "\n",
      "[I 2025-04-29 20:24:49,670] Trial 15 finished with value: 0.3510716980436412 and parameters: {'lambda_l1': 5.086613356358421e-08, 'lambda_l2': 2.5566591557855014e-05, 'num_leaves': 100, 'feature_fraction': 0.5935781948922325, 'bagging_fraction': 0.771718124648242, 'bagging_freq': 3, 'min_child_samples': 20}. Best is trial 14 with value: 0.36143541464158996.\n",
      "C:\\Users\\TrendingPc\\AppData\\Local\\Temp\\ipykernel_23676\\4150719641.py:86: FutureWarning:\n",
      "\n",
      "upload_artifact() got {'artifact_store', 'study_or_trial', 'file_path'} as positional arguments but they were expected to be given as keyword arguments.\n",
      "\n",
      "C:\\Users\\TrendingPc\\AppData\\Local\\Temp\\ipykernel_23676\\4150719641.py:94: FutureWarning:\n",
      "\n",
      "upload_artifact() got {'artifact_store', 'study_or_trial', 'file_path'} as positional arguments but they were expected to be given as keyword arguments.\n",
      "\n",
      "[I 2025-04-29 20:24:52,718] Trial 16 finished with value: 0.3405566471644855 and parameters: {'lambda_l1': 3.142127556086985e-05, 'lambda_l2': 7.7914571609161e-05, 'num_leaves': 161, 'feature_fraction': 0.8395492803583388, 'bagging_fraction': 0.9088226356537833, 'bagging_freq': 2, 'min_child_samples': 38}. Best is trial 14 with value: 0.36143541464158996.\n",
      "C:\\Users\\TrendingPc\\AppData\\Local\\Temp\\ipykernel_23676\\4150719641.py:86: FutureWarning:\n",
      "\n",
      "upload_artifact() got {'artifact_store', 'study_or_trial', 'file_path'} as positional arguments but they were expected to be given as keyword arguments.\n",
      "\n",
      "C:\\Users\\TrendingPc\\AppData\\Local\\Temp\\ipykernel_23676\\4150719641.py:94: FutureWarning:\n",
      "\n",
      "upload_artifact() got {'artifact_store', 'study_or_trial', 'file_path'} as positional arguments but they were expected to be given as keyword arguments.\n",
      "\n",
      "[I 2025-04-29 20:24:56,258] Trial 17 finished with value: 0.3522636622196104 and parameters: {'lambda_l1': 0.021040315496106844, 'lambda_l2': 4.591148423791888e-07, 'num_leaves': 100, 'feature_fraction': 0.6548523645216378, 'bagging_fraction': 0.6486537961556154, 'bagging_freq': 5, 'min_child_samples': 72}. Best is trial 14 with value: 0.36143541464158996.\n",
      "C:\\Users\\TrendingPc\\AppData\\Local\\Temp\\ipykernel_23676\\4150719641.py:86: FutureWarning:\n",
      "\n",
      "upload_artifact() got {'artifact_store', 'study_or_trial', 'file_path'} as positional arguments but they were expected to be given as keyword arguments.\n",
      "\n",
      "C:\\Users\\TrendingPc\\AppData\\Local\\Temp\\ipykernel_23676\\4150719641.py:94: FutureWarning:\n",
      "\n",
      "upload_artifact() got {'artifact_store', 'study_or_trial', 'file_path'} as positional arguments but they were expected to be given as keyword arguments.\n",
      "\n",
      "[I 2025-04-29 20:24:59,509] Trial 18 finished with value: 0.35006462007749306 and parameters: {'lambda_l1': 2.3545371960303186e-06, 'lambda_l2': 5.196720302685353e-07, 'num_leaves': 156, 'feature_fraction': 0.7703284773506762, 'bagging_fraction': 0.8876139752945851, 'bagging_freq': 2, 'min_child_samples': 60}. Best is trial 14 with value: 0.36143541464158996.\n",
      "C:\\Users\\TrendingPc\\AppData\\Local\\Temp\\ipykernel_23676\\4150719641.py:86: FutureWarning:\n",
      "\n",
      "upload_artifact() got {'artifact_store', 'study_or_trial', 'file_path'} as positional arguments but they were expected to be given as keyword arguments.\n",
      "\n",
      "C:\\Users\\TrendingPc\\AppData\\Local\\Temp\\ipykernel_23676\\4150719641.py:94: FutureWarning:\n",
      "\n",
      "upload_artifact() got {'artifact_store', 'study_or_trial', 'file_path'} as positional arguments but they were expected to be given as keyword arguments.\n",
      "\n",
      "[I 2025-04-29 20:25:02,103] Trial 19 finished with value: 0.34621930631693054 and parameters: {'lambda_l1': 0.000498415095688544, 'lambda_l2': 0.00022872581687529366, 'num_leaves': 82, 'feature_fraction': 0.9950335912339885, 'bagging_fraction': 0.7728654634341628, 'bagging_freq': 5, 'min_child_samples': 87}. Best is trial 14 with value: 0.36143541464158996.\n",
      "C:\\Users\\TrendingPc\\AppData\\Local\\Temp\\ipykernel_23676\\4150719641.py:86: FutureWarning:\n",
      "\n",
      "upload_artifact() got {'artifact_store', 'study_or_trial', 'file_path'} as positional arguments but they were expected to be given as keyword arguments.\n",
      "\n",
      "C:\\Users\\TrendingPc\\AppData\\Local\\Temp\\ipykernel_23676\\4150719641.py:94: FutureWarning:\n",
      "\n",
      "upload_artifact() got {'artifact_store', 'study_or_trial', 'file_path'} as positional arguments but they were expected to be given as keyword arguments.\n",
      "\n",
      "[I 2025-04-29 20:25:05,385] Trial 20 finished with value: 0.3408005511050223 and parameters: {'lambda_l1': 2.3255648987979026e-07, 'lambda_l2': 0.028909996248872572, 'num_leaves': 252, 'feature_fraction': 0.579453897967913, 'bagging_fraction': 0.6152915444646894, 'bagging_freq': 3, 'min_child_samples': 29}. Best is trial 14 with value: 0.36143541464158996.\n",
      "C:\\Users\\TrendingPc\\AppData\\Local\\Temp\\ipykernel_23676\\4150719641.py:86: FutureWarning:\n",
      "\n",
      "upload_artifact() got {'artifact_store', 'study_or_trial', 'file_path'} as positional arguments but they were expected to be given as keyword arguments.\n",
      "\n",
      "C:\\Users\\TrendingPc\\AppData\\Local\\Temp\\ipykernel_23676\\4150719641.py:94: FutureWarning:\n",
      "\n",
      "upload_artifact() got {'artifact_store', 'study_or_trial', 'file_path'} as positional arguments but they were expected to be given as keyword arguments.\n",
      "\n",
      "[I 2025-04-29 20:25:08,718] Trial 21 finished with value: 0.36169137301812454 and parameters: {'lambda_l1': 1.7514309939600137e-05, 'lambda_l2': 3.1503895509047944e-07, 'num_leaves': 37, 'feature_fraction': 0.480784094582739, 'bagging_fraction': 0.8507776581129273, 'bagging_freq': 1, 'min_child_samples': 9}. Best is trial 21 with value: 0.36169137301812454.\n",
      "C:\\Users\\TrendingPc\\AppData\\Local\\Temp\\ipykernel_23676\\4150719641.py:86: FutureWarning:\n",
      "\n",
      "upload_artifact() got {'artifact_store', 'study_or_trial', 'file_path'} as positional arguments but they were expected to be given as keyword arguments.\n",
      "\n",
      "C:\\Users\\TrendingPc\\AppData\\Local\\Temp\\ipykernel_23676\\4150719641.py:94: FutureWarning:\n",
      "\n",
      "upload_artifact() got {'artifact_store', 'study_or_trial', 'file_path'} as positional arguments but they were expected to be given as keyword arguments.\n",
      "\n",
      "[I 2025-04-29 20:25:11,724] Trial 22 finished with value: 0.3512172051090824 and parameters: {'lambda_l1': 1.786377117370371e-05, 'lambda_l2': 7.085044280853922e-07, 'num_leaves': 28, 'feature_fraction': 0.4667480775957761, 'bagging_fraction': 0.8588330766301931, 'bagging_freq': 2, 'min_child_samples': 15}. Best is trial 21 with value: 0.36169137301812454.\n",
      "C:\\Users\\TrendingPc\\AppData\\Local\\Temp\\ipykernel_23676\\4150719641.py:86: FutureWarning:\n",
      "\n",
      "upload_artifact() got {'artifact_store', 'study_or_trial', 'file_path'} as positional arguments but they were expected to be given as keyword arguments.\n",
      "\n",
      "C:\\Users\\TrendingPc\\AppData\\Local\\Temp\\ipykernel_23676\\4150719641.py:94: FutureWarning:\n",
      "\n",
      "upload_artifact() got {'artifact_store', 'study_or_trial', 'file_path'} as positional arguments but they were expected to be given as keyword arguments.\n",
      "\n",
      "[I 2025-04-29 20:25:14,915] Trial 23 finished with value: 0.3586514402024882 and parameters: {'lambda_l1': 0.00020168220746908896, 'lambda_l2': 1.225901051938422e-07, 'num_leaves': 40, 'feature_fraction': 0.5018641212035498, 'bagging_fraction': 0.737803978590581, 'bagging_freq': 1, 'min_child_samples': 5}. Best is trial 21 with value: 0.36169137301812454.\n",
      "C:\\Users\\TrendingPc\\AppData\\Local\\Temp\\ipykernel_23676\\4150719641.py:86: FutureWarning:\n",
      "\n",
      "upload_artifact() got {'artifact_store', 'study_or_trial', 'file_path'} as positional arguments but they were expected to be given as keyword arguments.\n",
      "\n",
      "C:\\Users\\TrendingPc\\AppData\\Local\\Temp\\ipykernel_23676\\4150719641.py:94: FutureWarning:\n",
      "\n",
      "upload_artifact() got {'artifact_store', 'study_or_trial', 'file_path'} as positional arguments but they were expected to be given as keyword arguments.\n",
      "\n",
      "[I 2025-04-29 20:25:17,573] Trial 24 finished with value: 0.24605890844125258 and parameters: {'lambda_l1': 1.0153286057586826e-05, 'lambda_l2': 4.910459784875248e-06, 'num_leaves': 2, 'feature_fraction': 0.6260719747507555, 'bagging_fraction': 0.9328687447165973, 'bagging_freq': 2, 'min_child_samples': 42}. Best is trial 21 with value: 0.36169137301812454.\n",
      "C:\\Users\\TrendingPc\\AppData\\Local\\Temp\\ipykernel_23676\\4150719641.py:86: FutureWarning:\n",
      "\n",
      "upload_artifact() got {'artifact_store', 'study_or_trial', 'file_path'} as positional arguments but they were expected to be given as keyword arguments.\n",
      "\n",
      "C:\\Users\\TrendingPc\\AppData\\Local\\Temp\\ipykernel_23676\\4150719641.py:94: FutureWarning:\n",
      "\n",
      "upload_artifact() got {'artifact_store', 'study_or_trial', 'file_path'} as positional arguments but they were expected to be given as keyword arguments.\n",
      "\n",
      "[I 2025-04-29 20:25:20,371] Trial 25 finished with value: 0.3459316506535799 and parameters: {'lambda_l1': 8.79907958994189e-07, 'lambda_l2': 4.0076267258513437e-05, 'num_leaves': 90, 'feature_fraction': 0.7090361905545898, 'bagging_fraction': 0.7916012179447612, 'bagging_freq': 1, 'min_child_samples': 16}. Best is trial 21 with value: 0.36169137301812454.\n",
      "C:\\Users\\TrendingPc\\AppData\\Local\\Temp\\ipykernel_23676\\4150719641.py:86: FutureWarning:\n",
      "\n",
      "upload_artifact() got {'artifact_store', 'study_or_trial', 'file_path'} as positional arguments but they were expected to be given as keyword arguments.\n",
      "\n",
      "C:\\Users\\TrendingPc\\AppData\\Local\\Temp\\ipykernel_23676\\4150719641.py:94: FutureWarning:\n",
      "\n",
      "upload_artifact() got {'artifact_store', 'study_or_trial', 'file_path'} as positional arguments but they were expected to be given as keyword arguments.\n",
      "\n",
      "[I 2025-04-29 20:25:23,534] Trial 26 finished with value: 0.351959289410156 and parameters: {'lambda_l1': 5.4575715924155766e-05, 'lambda_l2': 0.00024168164312959235, 'num_leaves': 43, 'feature_fraction': 0.5856078424772444, 'bagging_fraction': 0.7370935506102541, 'bagging_freq': 3, 'min_child_samples': 25}. Best is trial 21 with value: 0.36169137301812454.\n",
      "C:\\Users\\TrendingPc\\AppData\\Local\\Temp\\ipykernel_23676\\4150719641.py:86: FutureWarning:\n",
      "\n",
      "upload_artifact() got {'artifact_store', 'study_or_trial', 'file_path'} as positional arguments but they were expected to be given as keyword arguments.\n",
      "\n",
      "C:\\Users\\TrendingPc\\AppData\\Local\\Temp\\ipykernel_23676\\4150719641.py:94: FutureWarning:\n",
      "\n",
      "upload_artifact() got {'artifact_store', 'study_or_trial', 'file_path'} as positional arguments but they were expected to be given as keyword arguments.\n",
      "\n",
      "[I 2025-04-29 20:25:27,158] Trial 27 finished with value: 0.3531887086310823 and parameters: {'lambda_l1': 1.4657163428432733e-07, 'lambda_l2': 0.0010306991339375086, 'num_leaves': 110, 'feature_fraction': 0.4791320728001985, 'bagging_fraction': 0.8668355256180361, 'bagging_freq': 2, 'min_child_samples': 11}. Best is trial 21 with value: 0.36169137301812454.\n",
      "C:\\Users\\TrendingPc\\AppData\\Local\\Temp\\ipykernel_23676\\4150719641.py:86: FutureWarning:\n",
      "\n",
      "upload_artifact() got {'artifact_store', 'study_or_trial', 'file_path'} as positional arguments but they were expected to be given as keyword arguments.\n",
      "\n",
      "C:\\Users\\TrendingPc\\AppData\\Local\\Temp\\ipykernel_23676\\4150719641.py:94: FutureWarning:\n",
      "\n",
      "upload_artifact() got {'artifact_store', 'study_or_trial', 'file_path'} as positional arguments but they were expected to be given as keyword arguments.\n",
      "\n",
      "[I 2025-04-29 20:25:30,572] Trial 28 finished with value: 0.3511256918569382 and parameters: {'lambda_l1': 3.2391517879866773e-06, 'lambda_l2': 1.6809907484945014e-06, 'num_leaves': 138, 'feature_fraction': 0.764120945830543, 'bagging_fraction': 0.9481204119758244, 'bagging_freq': 1, 'min_child_samples': 33}. Best is trial 21 with value: 0.36169137301812454.\n",
      "C:\\Users\\TrendingPc\\AppData\\Local\\Temp\\ipykernel_23676\\4150719641.py:86: FutureWarning:\n",
      "\n",
      "upload_artifact() got {'artifact_store', 'study_or_trial', 'file_path'} as positional arguments but they were expected to be given as keyword arguments.\n",
      "\n",
      "C:\\Users\\TrendingPc\\AppData\\Local\\Temp\\ipykernel_23676\\4150719641.py:94: FutureWarning:\n",
      "\n",
      "upload_artifact() got {'artifact_store', 'study_or_trial', 'file_path'} as positional arguments but they were expected to be given as keyword arguments.\n",
      "\n",
      "[I 2025-04-29 20:25:33,201] Trial 29 finished with value: 0.3566566969481788 and parameters: {'lambda_l1': 0.01890638932591698, 'lambda_l2': 9.253628926243438e-08, 'num_leaves': 71, 'feature_fraction': 0.7017224352386302, 'bagging_fraction': 0.9092348862252612, 'bagging_freq': 7, 'min_child_samples': 22}. Best is trial 21 with value: 0.36169137301812454.\n",
      "C:\\Users\\TrendingPc\\AppData\\Local\\Temp\\ipykernel_23676\\4150719641.py:86: FutureWarning:\n",
      "\n",
      "upload_artifact() got {'artifact_store', 'study_or_trial', 'file_path'} as positional arguments but they were expected to be given as keyword arguments.\n",
      "\n",
      "C:\\Users\\TrendingPc\\AppData\\Local\\Temp\\ipykernel_23676\\4150719641.py:94: FutureWarning:\n",
      "\n",
      "upload_artifact() got {'artifact_store', 'study_or_trial', 'file_path'} as positional arguments but they were expected to be given as keyword arguments.\n",
      "\n",
      "[I 2025-04-29 20:25:36,110] Trial 30 finished with value: 0.3367574191637185 and parameters: {'lambda_l1': 0.3481542134050435, 'lambda_l2': 1.6359529750780752e-05, 'num_leaves': 83, 'feature_fraction': 0.5416821967034959, 'bagging_fraction': 0.4138503841786478, 'bagging_freq': 5, 'min_child_samples': 29}. Best is trial 21 with value: 0.36169137301812454.\n",
      "C:\\Users\\TrendingPc\\AppData\\Local\\Temp\\ipykernel_23676\\4150719641.py:86: FutureWarning:\n",
      "\n",
      "upload_artifact() got {'artifact_store', 'study_or_trial', 'file_path'} as positional arguments but they were expected to be given as keyword arguments.\n",
      "\n",
      "C:\\Users\\TrendingPc\\AppData\\Local\\Temp\\ipykernel_23676\\4150719641.py:94: FutureWarning:\n",
      "\n",
      "upload_artifact() got {'artifact_store', 'study_or_trial', 'file_path'} as positional arguments but they were expected to be given as keyword arguments.\n",
      "\n",
      "[I 2025-04-29 20:25:39,358] Trial 31 finished with value: 0.35662138254880715 and parameters: {'lambda_l1': 0.0004058113507138298, 'lambda_l2': 6.398186542440571e-08, 'num_leaves': 38, 'feature_fraction': 0.5037022395996399, 'bagging_fraction': 0.7436892754119809, 'bagging_freq': 1, 'min_child_samples': 8}. Best is trial 21 with value: 0.36169137301812454.\n",
      "C:\\Users\\TrendingPc\\AppData\\Local\\Temp\\ipykernel_23676\\4150719641.py:86: FutureWarning:\n",
      "\n",
      "upload_artifact() got {'artifact_store', 'study_or_trial', 'file_path'} as positional arguments but they were expected to be given as keyword arguments.\n",
      "\n",
      "C:\\Users\\TrendingPc\\AppData\\Local\\Temp\\ipykernel_23676\\4150719641.py:94: FutureWarning:\n",
      "\n",
      "upload_artifact() got {'artifact_store', 'study_or_trial', 'file_path'} as positional arguments but they were expected to be given as keyword arguments.\n",
      "\n",
      "[I 2025-04-29 20:25:42,598] Trial 32 finished with value: 0.35385271669734064 and parameters: {'lambda_l1': 0.0001281140585913905, 'lambda_l2': 1.8445547386884816e-07, 'num_leaves': 25, 'feature_fraction': 0.45815261698487975, 'bagging_fraction': 0.7116542459214659, 'bagging_freq': 1, 'min_child_samples': 6}. Best is trial 21 with value: 0.36169137301812454.\n",
      "C:\\Users\\TrendingPc\\AppData\\Local\\Temp\\ipykernel_23676\\4150719641.py:86: FutureWarning:\n",
      "\n",
      "upload_artifact() got {'artifact_store', 'study_or_trial', 'file_path'} as positional arguments but they were expected to be given as keyword arguments.\n",
      "\n",
      "C:\\Users\\TrendingPc\\AppData\\Local\\Temp\\ipykernel_23676\\4150719641.py:94: FutureWarning:\n",
      "\n",
      "upload_artifact() got {'artifact_store', 'study_or_trial', 'file_path'} as positional arguments but they were expected to be given as keyword arguments.\n",
      "\n",
      "[I 2025-04-29 20:25:46,002] Trial 33 finished with value: 0.3608425606217447 and parameters: {'lambda_l1': 0.00020530607511013885, 'lambda_l2': 0.005504070672973037, 'num_leaves': 57, 'feature_fraction': 0.5027888006677599, 'bagging_fraction': 0.8072886902558892, 'bagging_freq': 2, 'min_child_samples': 13}. Best is trial 21 with value: 0.36169137301812454.\n",
      "C:\\Users\\TrendingPc\\AppData\\Local\\Temp\\ipykernel_23676\\4150719641.py:86: FutureWarning:\n",
      "\n",
      "upload_artifact() got {'artifact_store', 'study_or_trial', 'file_path'} as positional arguments but they were expected to be given as keyword arguments.\n",
      "\n",
      "C:\\Users\\TrendingPc\\AppData\\Local\\Temp\\ipykernel_23676\\4150719641.py:94: FutureWarning:\n",
      "\n",
      "upload_artifact() got {'artifact_store', 'study_or_trial', 'file_path'} as positional arguments but they were expected to be given as keyword arguments.\n",
      "\n",
      "[I 2025-04-29 20:25:49,658] Trial 34 finished with value: 0.3536895907354496 and parameters: {'lambda_l1': 2.7258352537907502e-05, 'lambda_l2': 0.005038283593239052, 'num_leaves': 58, 'feature_fraction': 0.43943600800278276, 'bagging_fraction': 0.8142852186458148, 'bagging_freq': 2, 'min_child_samples': 14}. Best is trial 21 with value: 0.36169137301812454.\n",
      "C:\\Users\\TrendingPc\\AppData\\Local\\Temp\\ipykernel_23676\\4150719641.py:86: FutureWarning:\n",
      "\n",
      "upload_artifact() got {'artifact_store', 'study_or_trial', 'file_path'} as positional arguments but they were expected to be given as keyword arguments.\n",
      "\n",
      "C:\\Users\\TrendingPc\\AppData\\Local\\Temp\\ipykernel_23676\\4150719641.py:94: FutureWarning:\n",
      "\n",
      "upload_artifact() got {'artifact_store', 'study_or_trial', 'file_path'} as positional arguments but they were expected to be given as keyword arguments.\n",
      "\n",
      "[I 2025-04-29 20:25:52,367] Trial 35 finished with value: 0.35593165839655955 and parameters: {'lambda_l1': 0.002156881268256023, 'lambda_l2': 0.04848989626762722, 'num_leaves': 18, 'feature_fraction': 0.564799274698293, 'bagging_fraction': 0.7917704747509494, 'bagging_freq': 4, 'min_child_samples': 18}. Best is trial 21 with value: 0.36169137301812454.\n",
      "C:\\Users\\TrendingPc\\AppData\\Local\\Temp\\ipykernel_23676\\4150719641.py:86: FutureWarning:\n",
      "\n",
      "upload_artifact() got {'artifact_store', 'study_or_trial', 'file_path'} as positional arguments but they were expected to be given as keyword arguments.\n",
      "\n",
      "C:\\Users\\TrendingPc\\AppData\\Local\\Temp\\ipykernel_23676\\4150719641.py:94: FutureWarning:\n",
      "\n",
      "upload_artifact() got {'artifact_store', 'study_or_trial', 'file_path'} as positional arguments but they were expected to be given as keyword arguments.\n",
      "\n",
      "[I 2025-04-29 20:25:55,500] Trial 36 finished with value: 0.35033614537944346 and parameters: {'lambda_l1': 0.00041039110749946335, 'lambda_l2': 0.0018313359889064686, 'num_leaves': 76, 'feature_fraction': 0.5178322197871351, 'bagging_fraction': 0.6910939832920112, 'bagging_freq': 3, 'min_child_samples': 11}. Best is trial 21 with value: 0.36169137301812454.\n",
      "C:\\Users\\TrendingPc\\AppData\\Local\\Temp\\ipykernel_23676\\4150719641.py:86: FutureWarning:\n",
      "\n",
      "upload_artifact() got {'artifact_store', 'study_or_trial', 'file_path'} as positional arguments but they were expected to be given as keyword arguments.\n",
      "\n",
      "C:\\Users\\TrendingPc\\AppData\\Local\\Temp\\ipykernel_23676\\4150719641.py:94: FutureWarning:\n",
      "\n",
      "upload_artifact() got {'artifact_store', 'study_or_trial', 'file_path'} as positional arguments but they were expected to be given as keyword arguments.\n",
      "\n",
      "[I 2025-04-29 20:25:58,548] Trial 37 finished with value: 0.35186694095276166 and parameters: {'lambda_l1': 0.013620483102433713, 'lambda_l2': 0.004824991028320716, 'num_leaves': 14, 'feature_fraction': 0.9191978291002132, 'bagging_fraction': 0.844151896601756, 'bagging_freq': 2, 'min_child_samples': 45}. Best is trial 21 with value: 0.36169137301812454.\n",
      "C:\\Users\\TrendingPc\\AppData\\Local\\Temp\\ipykernel_23676\\4150719641.py:86: FutureWarning:\n",
      "\n",
      "upload_artifact() got {'artifact_store', 'study_or_trial', 'file_path'} as positional arguments but they were expected to be given as keyword arguments.\n",
      "\n",
      "C:\\Users\\TrendingPc\\AppData\\Local\\Temp\\ipykernel_23676\\4150719641.py:94: FutureWarning:\n",
      "\n",
      "upload_artifact() got {'artifact_store', 'study_or_trial', 'file_path'} as positional arguments but they were expected to be given as keyword arguments.\n",
      "\n",
      "[I 2025-04-29 20:26:01,928] Trial 38 finished with value: 0.3625584398566862 and parameters: {'lambda_l1': 8.141397580740705e-06, 'lambda_l2': 0.11135962782516995, 'num_leaves': 34, 'feature_fraction': 0.6109482658250078, 'bagging_fraction': 0.8859305328070166, 'bagging_freq': 4, 'min_child_samples': 57}. Best is trial 38 with value: 0.3625584398566862.\n",
      "C:\\Users\\TrendingPc\\AppData\\Local\\Temp\\ipykernel_23676\\4150719641.py:86: FutureWarning:\n",
      "\n",
      "upload_artifact() got {'artifact_store', 'study_or_trial', 'file_path'} as positional arguments but they were expected to be given as keyword arguments.\n",
      "\n",
      "C:\\Users\\TrendingPc\\AppData\\Local\\Temp\\ipykernel_23676\\4150719641.py:94: FutureWarning:\n",
      "\n",
      "upload_artifact() got {'artifact_store', 'study_or_trial', 'file_path'} as positional arguments but they were expected to be given as keyword arguments.\n",
      "\n",
      "[I 2025-04-29 20:26:05,211] Trial 39 finished with value: 0.35318911187709195 and parameters: {'lambda_l1': 1.2432872901823561e-06, 'lambda_l2': 2.7240409502274967, 'num_leaves': 55, 'feature_fraction': 0.6139834743819318, 'bagging_fraction': 0.9504677868131431, 'bagging_freq': 4, 'min_child_samples': 60}. Best is trial 38 with value: 0.3625584398566862.\n",
      "C:\\Users\\TrendingPc\\AppData\\Local\\Temp\\ipykernel_23676\\4150719641.py:86: FutureWarning:\n",
      "\n",
      "upload_artifact() got {'artifact_store', 'study_or_trial', 'file_path'} as positional arguments but they were expected to be given as keyword arguments.\n",
      "\n",
      "C:\\Users\\TrendingPc\\AppData\\Local\\Temp\\ipykernel_23676\\4150719641.py:94: FutureWarning:\n",
      "\n",
      "upload_artifact() got {'artifact_store', 'study_or_trial', 'file_path'} as positional arguments but they were expected to be given as keyword arguments.\n",
      "\n",
      "[I 2025-04-29 20:26:08,499] Trial 40 finished with value: 0.35629617779061135 and parameters: {'lambda_l1': 8.21332901304768e-06, 'lambda_l2': 0.024353255804325062, 'num_leaves': 183, 'feature_fraction': 0.5543050740087997, 'bagging_fraction': 0.881043517636684, 'bagging_freq': 6, 'min_child_samples': 54}. Best is trial 38 with value: 0.3625584398566862.\n",
      "C:\\Users\\TrendingPc\\AppData\\Local\\Temp\\ipykernel_23676\\4150719641.py:86: FutureWarning:\n",
      "\n",
      "upload_artifact() got {'artifact_store', 'study_or_trial', 'file_path'} as positional arguments but they were expected to be given as keyword arguments.\n",
      "\n",
      "C:\\Users\\TrendingPc\\AppData\\Local\\Temp\\ipykernel_23676\\4150719641.py:94: FutureWarning:\n",
      "\n",
      "upload_artifact() got {'artifact_store', 'study_or_trial', 'file_path'} as positional arguments but they were expected to be given as keyword arguments.\n",
      "\n",
      "[I 2025-04-29 20:26:11,688] Trial 41 finished with value: 0.36006799762093245 and parameters: {'lambda_l1': 7.963815503505661e-05, 'lambda_l2': 0.08278497118181755, 'num_leaves': 29, 'feature_fraction': 0.6714664974606721, 'bagging_fraction': 0.8377248353888679, 'bagging_freq': 2, 'min_child_samples': 35}. Best is trial 38 with value: 0.3625584398566862.\n",
      "C:\\Users\\TrendingPc\\AppData\\Local\\Temp\\ipykernel_23676\\4150719641.py:86: FutureWarning:\n",
      "\n",
      "upload_artifact() got {'artifact_store', 'study_or_trial', 'file_path'} as positional arguments but they were expected to be given as keyword arguments.\n",
      "\n",
      "C:\\Users\\TrendingPc\\AppData\\Local\\Temp\\ipykernel_23676\\4150719641.py:94: FutureWarning:\n",
      "\n",
      "upload_artifact() got {'artifact_store', 'study_or_trial', 'file_path'} as positional arguments but they were expected to be given as keyword arguments.\n",
      "\n",
      "[I 2025-04-29 20:26:14,267] Trial 42 finished with value: 0.3446975463099725 and parameters: {'lambda_l1': 5.030353258417409e-05, 'lambda_l2': 0.10095970464197936, 'num_leaves': 9, 'feature_fraction': 0.6822637720154494, 'bagging_fraction': 0.8950092096432479, 'bagging_freq': 3, 'min_child_samples': 33}. Best is trial 38 with value: 0.3625584398566862.\n",
      "C:\\Users\\TrendingPc\\AppData\\Local\\Temp\\ipykernel_23676\\4150719641.py:86: FutureWarning:\n",
      "\n",
      "upload_artifact() got {'artifact_store', 'study_or_trial', 'file_path'} as positional arguments but they were expected to be given as keyword arguments.\n",
      "\n",
      "C:\\Users\\TrendingPc\\AppData\\Local\\Temp\\ipykernel_23676\\4150719641.py:94: FutureWarning:\n",
      "\n",
      "upload_artifact() got {'artifact_store', 'study_or_trial', 'file_path'} as positional arguments but they were expected to be given as keyword arguments.\n",
      "\n",
      "[I 2025-04-29 20:26:16,687] Trial 43 finished with value: 0.3494575013512603 and parameters: {'lambda_l1': 5.152144284540138e-06, 'lambda_l2': 1.7826848515018774, 'num_leaves': 33, 'feature_fraction': 0.6447110448635962, 'bagging_fraction': 0.9271622759631579, 'bagging_freq': 6, 'min_child_samples': 10}. Best is trial 38 with value: 0.3625584398566862.\n",
      "C:\\Users\\TrendingPc\\AppData\\Local\\Temp\\ipykernel_23676\\4150719641.py:86: FutureWarning:\n",
      "\n",
      "upload_artifact() got {'artifact_store', 'study_or_trial', 'file_path'} as positional arguments but they were expected to be given as keyword arguments.\n",
      "\n",
      "C:\\Users\\TrendingPc\\AppData\\Local\\Temp\\ipykernel_23676\\4150719641.py:94: FutureWarning:\n",
      "\n",
      "upload_artifact() got {'artifact_store', 'study_or_trial', 'file_path'} as positional arguments but they were expected to be given as keyword arguments.\n",
      "\n",
      "[I 2025-04-29 20:26:19,554] Trial 44 finished with value: 0.3562185881617812 and parameters: {'lambda_l1': 0.0008500265042770035, 'lambda_l2': 0.09551774785900458, 'num_leaves': 62, 'feature_fraction': 0.7318141476962294, 'bagging_fraction': 0.8383128112978172, 'bagging_freq': 2, 'min_child_samples': 27}. Best is trial 38 with value: 0.3625584398566862.\n",
      "C:\\Users\\TrendingPc\\AppData\\Local\\Temp\\ipykernel_23676\\4150719641.py:86: FutureWarning:\n",
      "\n",
      "upload_artifact() got {'artifact_store', 'study_or_trial', 'file_path'} as positional arguments but they were expected to be given as keyword arguments.\n",
      "\n",
      "C:\\Users\\TrendingPc\\AppData\\Local\\Temp\\ipykernel_23676\\4150719641.py:94: FutureWarning:\n",
      "\n",
      "upload_artifact() got {'artifact_store', 'study_or_trial', 'file_path'} as positional arguments but they were expected to be given as keyword arguments.\n",
      "\n",
      "[I 2025-04-29 20:26:22,459] Trial 45 finished with value: 0.3530467271503822 and parameters: {'lambda_l1': 5.730291116160166e-07, 'lambda_l2': 0.8256755835582351, 'num_leaves': 24, 'feature_fraction': 0.6082741676948402, 'bagging_fraction': 0.8006749764599527, 'bagging_freq': 4, 'min_child_samples': 58}. Best is trial 38 with value: 0.3625584398566862.\n",
      "C:\\Users\\TrendingPc\\AppData\\Local\\Temp\\ipykernel_23676\\4150719641.py:86: FutureWarning:\n",
      "\n",
      "upload_artifact() got {'artifact_store', 'study_or_trial', 'file_path'} as positional arguments but they were expected to be given as keyword arguments.\n",
      "\n",
      "C:\\Users\\TrendingPc\\AppData\\Local\\Temp\\ipykernel_23676\\4150719641.py:94: FutureWarning:\n",
      "\n",
      "upload_artifact() got {'artifact_store', 'study_or_trial', 'file_path'} as positional arguments but they were expected to be given as keyword arguments.\n",
      "\n",
      "[I 2025-04-29 20:26:25,566] Trial 46 finished with value: 0.35064866598072786 and parameters: {'lambda_l1': 8.234850181026411e-05, 'lambda_l2': 0.17767825890736, 'num_leaves': 97, 'feature_fraction': 0.6700140646200072, 'bagging_fraction': 0.9727976792651012, 'bagging_freq': 2, 'min_child_samples': 47}. Best is trial 38 with value: 0.3625584398566862.\n",
      "C:\\Users\\TrendingPc\\AppData\\Local\\Temp\\ipykernel_23676\\4150719641.py:86: FutureWarning:\n",
      "\n",
      "upload_artifact() got {'artifact_store', 'study_or_trial', 'file_path'} as positional arguments but they were expected to be given as keyword arguments.\n",
      "\n",
      "C:\\Users\\TrendingPc\\AppData\\Local\\Temp\\ipykernel_23676\\4150719641.py:94: FutureWarning:\n",
      "\n",
      "upload_artifact() got {'artifact_store', 'study_or_trial', 'file_path'} as positional arguments but they were expected to be given as keyword arguments.\n",
      "\n",
      "[I 2025-04-29 20:26:29,325] Trial 47 finished with value: 0.35937343202146554 and parameters: {'lambda_l1': 1.9812517851813944e-05, 'lambda_l2': 0.01770618511084273, 'num_leaves': 49, 'feature_fraction': 0.43818530130527644, 'bagging_fraction': 0.8621571982314924, 'bagging_freq': 3, 'min_child_samples': 21}. Best is trial 38 with value: 0.3625584398566862.\n",
      "C:\\Users\\TrendingPc\\AppData\\Local\\Temp\\ipykernel_23676\\4150719641.py:86: FutureWarning:\n",
      "\n",
      "upload_artifact() got {'artifact_store', 'study_or_trial', 'file_path'} as positional arguments but they were expected to be given as keyword arguments.\n",
      "\n",
      "C:\\Users\\TrendingPc\\AppData\\Local\\Temp\\ipykernel_23676\\4150719641.py:94: FutureWarning:\n",
      "\n",
      "upload_artifact() got {'artifact_store', 'study_or_trial', 'file_path'} as positional arguments but they were expected to be given as keyword arguments.\n",
      "\n",
      "[I 2025-04-29 20:26:32,913] Trial 48 finished with value: 0.35613771840409303 and parameters: {'lambda_l1': 2.024190652851239e-06, 'lambda_l2': 0.6238775391829884, 'num_leaves': 115, 'feature_fraction': 0.5349399505094413, 'bagging_fraction': 0.8350049392411669, 'bagging_freq': 1, 'min_child_samples': 73}. Best is trial 38 with value: 0.3625584398566862.\n",
      "C:\\Users\\TrendingPc\\AppData\\Local\\Temp\\ipykernel_23676\\4150719641.py:86: FutureWarning:\n",
      "\n",
      "upload_artifact() got {'artifact_store', 'study_or_trial', 'file_path'} as positional arguments but they were expected to be given as keyword arguments.\n",
      "\n",
      "C:\\Users\\TrendingPc\\AppData\\Local\\Temp\\ipykernel_23676\\4150719641.py:94: FutureWarning:\n",
      "\n",
      "upload_artifact() got {'artifact_store', 'study_or_trial', 'file_path'} as positional arguments but they were expected to be given as keyword arguments.\n",
      "\n",
      "[I 2025-04-29 20:26:36,229] Trial 49 finished with value: 0.35677837312726596 and parameters: {'lambda_l1': 7.066981856306118e-06, 'lambda_l2': 0.00711332722622413, 'num_leaves': 65, 'feature_fraction': 0.4997225820099939, 'bagging_fraction': 0.8778937107618318, 'bagging_freq': 3, 'min_child_samples': 13}. Best is trial 38 with value: 0.3625584398566862.\n"
     ]
    }
   ],
   "source": [
    "#Inicio el store de artefactos (archivos) de optuna\n",
    "artifact_store = FileSystemArtifactStore(base_path=PATH_TO_OPTUNA_ARTIFACTS)\n",
    "\n",
    "#Genero estudio\n",
    "study = optuna.create_study(direction='maximize',\n",
    "                            storage=\"sqlite:///../work/db.sqlite3\",  # Specify the storage URL here.\n",
    "                            study_name=\"10 - LGB Multiclass CV\",\n",
    "                            load_if_exists = True)\n",
    "#Corro la optimizacion\n",
    "study.optimize(cv_es_lgb_objective, n_trials=50)"
   ]
  },
  {
   "cell_type": "markdown",
   "metadata": {},
   "source": [
    "Para ver el optuna dashboard tengo que correr este comando en la terminal"
   ]
  },
  {
   "cell_type": "code",
   "execution_count": 29,
   "metadata": {},
   "outputs": [
    {
     "name": "stderr",
     "output_type": "stream",
     "text": [
      "\"optuna-dashboard\" no se reconoce como un comando interno o externo,\n",
      "programa o archivo por lotes ejecutable.\n"
     ]
    }
   ],
   "source": [
    "!optuna-dashboard sqlite:///../work/db.sqlite3 --artifact-dir ../work/optuna_artifacts --port 8081"
   ]
  }
 ],
 "metadata": {
  "kernelspec": {
   "display_name": ".venv",
   "language": "python",
   "name": "python3"
  },
  "language_info": {
   "codemirror_mode": {
    "name": "ipython",
    "version": 3
   },
   "file_extension": ".py",
   "mimetype": "text/x-python",
   "name": "python",
   "nbconvert_exporter": "python",
   "pygments_lexer": "ipython3",
   "version": "3.12.10"
  }
 },
 "nbformat": 4,
 "nbformat_minor": 2
}
